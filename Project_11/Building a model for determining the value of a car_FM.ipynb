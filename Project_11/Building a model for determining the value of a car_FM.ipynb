{
 "cells": [
  {
   "cell_type": "markdown",
   "metadata": {},
   "source": [
    "# Определение стоимости автомобилей"
   ]
  },
  {
   "cell_type": "markdown",
   "metadata": {},
   "source": [
    " \n",
    "# Цель исследования\n",
    "1. Построить модель, которая умеет определять рыночную стоимость автомобиля, а так же умеет качественно предсказывать и быстро обучать и делать предсказания. \n",
    "\n",
    "\n",
    "# Ход исследования\n",
    "Нам предоставленны данные данные о технических характеристиках, комплектации и ценах других автомобилей. Данные находятся в датафрейме, который мы получим из файла '/datasets/autos.csv'. О качестве данных нам ничего не известно, поэтому перед тем, как приступать к целям исследования, понадобится обзор данных. Мы проверим данные на ошибки. Затем, на этапе предобработки мы будем искать возможность исправить все ошибки в данных, которые не приведут к искажению конечного результата. Далее приступим к целям исследования.<br>\n",
    "\n",
    "\n",
    "\n",
    "Таким образом, исследование пройдёт в девять этапов:<br>\n",
    "\n",
    "* Обзор данных <br>\n",
    "* Предобработка данных <br>\n",
    "* Подготовка выборок\n",
    "* Обучение разных моделей\n",
    "* Анализ время обучения, время предсказания и качество моделей\n",
    "* Выявление лучшей модели \n",
    "* Проверка наилучшей модели на тестовой выборке \n",
    "* Написание промежуточных выводов <br>\n",
    "* Написание общего вывода"
   ]
  },
  {
   "cell_type": "markdown",
   "metadata": {},
   "source": [
    "## Подготовка данных"
   ]
  },
  {
   "cell_type": "code",
   "execution_count": 2,
   "metadata": {},
   "outputs": [],
   "source": [
    "#Импортируем необходимые библиотеки\n",
    "import pandas as pd\n",
    "import numpy as np\n",
    "import seaborn as sns\n",
    "import sklearn\n",
    "import lightgbm as lgb\n",
    "from lightgbm import LGBMRegressor\n",
    "from tqdm.notebook import tqdm\n",
    "from scipy import stats as st\n",
    "from matplotlib import pyplot as plt\n",
    "from sklearn.model_selection import train_test_split\n",
    "from sklearn.preprocessing import StandardScaler \n",
    "from sklearn.preprocessing import OneHotEncoder\n",
    "from sklearn.preprocessing import OrdinalEncoder\n",
    "from sklearn.model_selection import GridSearchCV\n",
    "from sklearn.ensemble import RandomForestRegressor\n",
    "from sklearn.linear_model import LinearRegression\n",
    "from sklearn.metrics import mean_squared_error\n",
    "from catboost import CatBoostRegressor"
   ]
  },
  {
   "cell_type": "code",
   "execution_count": 3,
   "metadata": {},
   "outputs": [],
   "source": [
    "#Загружаем и изучаем датафрейм\n",
    "try:\n",
    "    data = pd.read_csv('/datasets/autos.csv')\n",
    "except:    \n",
    "    pass"
   ]
  },
  {
   "cell_type": "code",
   "execution_count": 3,
   "metadata": {},
   "outputs": [
    {
     "data": {
      "text/html": [
       "<div>\n",
       "<style scoped>\n",
       "    .dataframe tbody tr th:only-of-type {\n",
       "        vertical-align: middle;\n",
       "    }\n",
       "\n",
       "    .dataframe tbody tr th {\n",
       "        vertical-align: top;\n",
       "    }\n",
       "\n",
       "    .dataframe thead th {\n",
       "        text-align: right;\n",
       "    }\n",
       "</style>\n",
       "<table border=\"1\" class=\"dataframe\">\n",
       "  <thead>\n",
       "    <tr style=\"text-align: right;\">\n",
       "      <th></th>\n",
       "      <th>DateCrawled</th>\n",
       "      <th>Price</th>\n",
       "      <th>VehicleType</th>\n",
       "      <th>RegistrationYear</th>\n",
       "      <th>Gearbox</th>\n",
       "      <th>Power</th>\n",
       "      <th>Model</th>\n",
       "      <th>Kilometer</th>\n",
       "      <th>RegistrationMonth</th>\n",
       "      <th>FuelType</th>\n",
       "      <th>Brand</th>\n",
       "      <th>Repaired</th>\n",
       "      <th>DateCreated</th>\n",
       "      <th>NumberOfPictures</th>\n",
       "      <th>PostalCode</th>\n",
       "      <th>LastSeen</th>\n",
       "    </tr>\n",
       "  </thead>\n",
       "  <tbody>\n",
       "    <tr>\n",
       "      <th>0</th>\n",
       "      <td>2016-03-24 11:52:17</td>\n",
       "      <td>480</td>\n",
       "      <td>NaN</td>\n",
       "      <td>1993</td>\n",
       "      <td>manual</td>\n",
       "      <td>0</td>\n",
       "      <td>golf</td>\n",
       "      <td>150000</td>\n",
       "      <td>0</td>\n",
       "      <td>petrol</td>\n",
       "      <td>volkswagen</td>\n",
       "      <td>NaN</td>\n",
       "      <td>2016-03-24 00:00:00</td>\n",
       "      <td>0</td>\n",
       "      <td>70435</td>\n",
       "      <td>2016-04-07 03:16:57</td>\n",
       "    </tr>\n",
       "    <tr>\n",
       "      <th>1</th>\n",
       "      <td>2016-03-24 10:58:45</td>\n",
       "      <td>18300</td>\n",
       "      <td>coupe</td>\n",
       "      <td>2011</td>\n",
       "      <td>manual</td>\n",
       "      <td>190</td>\n",
       "      <td>NaN</td>\n",
       "      <td>125000</td>\n",
       "      <td>5</td>\n",
       "      <td>gasoline</td>\n",
       "      <td>audi</td>\n",
       "      <td>yes</td>\n",
       "      <td>2016-03-24 00:00:00</td>\n",
       "      <td>0</td>\n",
       "      <td>66954</td>\n",
       "      <td>2016-04-07 01:46:50</td>\n",
       "    </tr>\n",
       "    <tr>\n",
       "      <th>2</th>\n",
       "      <td>2016-03-14 12:52:21</td>\n",
       "      <td>9800</td>\n",
       "      <td>suv</td>\n",
       "      <td>2004</td>\n",
       "      <td>auto</td>\n",
       "      <td>163</td>\n",
       "      <td>grand</td>\n",
       "      <td>125000</td>\n",
       "      <td>8</td>\n",
       "      <td>gasoline</td>\n",
       "      <td>jeep</td>\n",
       "      <td>NaN</td>\n",
       "      <td>2016-03-14 00:00:00</td>\n",
       "      <td>0</td>\n",
       "      <td>90480</td>\n",
       "      <td>2016-04-05 12:47:46</td>\n",
       "    </tr>\n",
       "    <tr>\n",
       "      <th>3</th>\n",
       "      <td>2016-03-17 16:54:04</td>\n",
       "      <td>1500</td>\n",
       "      <td>small</td>\n",
       "      <td>2001</td>\n",
       "      <td>manual</td>\n",
       "      <td>75</td>\n",
       "      <td>golf</td>\n",
       "      <td>150000</td>\n",
       "      <td>6</td>\n",
       "      <td>petrol</td>\n",
       "      <td>volkswagen</td>\n",
       "      <td>no</td>\n",
       "      <td>2016-03-17 00:00:00</td>\n",
       "      <td>0</td>\n",
       "      <td>91074</td>\n",
       "      <td>2016-03-17 17:40:17</td>\n",
       "    </tr>\n",
       "    <tr>\n",
       "      <th>4</th>\n",
       "      <td>2016-03-31 17:25:20</td>\n",
       "      <td>3600</td>\n",
       "      <td>small</td>\n",
       "      <td>2008</td>\n",
       "      <td>manual</td>\n",
       "      <td>69</td>\n",
       "      <td>fabia</td>\n",
       "      <td>90000</td>\n",
       "      <td>7</td>\n",
       "      <td>gasoline</td>\n",
       "      <td>skoda</td>\n",
       "      <td>no</td>\n",
       "      <td>2016-03-31 00:00:00</td>\n",
       "      <td>0</td>\n",
       "      <td>60437</td>\n",
       "      <td>2016-04-06 10:17:21</td>\n",
       "    </tr>\n",
       "    <tr>\n",
       "      <th>5</th>\n",
       "      <td>2016-04-04 17:36:23</td>\n",
       "      <td>650</td>\n",
       "      <td>sedan</td>\n",
       "      <td>1995</td>\n",
       "      <td>manual</td>\n",
       "      <td>102</td>\n",
       "      <td>3er</td>\n",
       "      <td>150000</td>\n",
       "      <td>10</td>\n",
       "      <td>petrol</td>\n",
       "      <td>bmw</td>\n",
       "      <td>yes</td>\n",
       "      <td>2016-04-04 00:00:00</td>\n",
       "      <td>0</td>\n",
       "      <td>33775</td>\n",
       "      <td>2016-04-06 19:17:07</td>\n",
       "    </tr>\n",
       "    <tr>\n",
       "      <th>6</th>\n",
       "      <td>2016-04-01 20:48:51</td>\n",
       "      <td>2200</td>\n",
       "      <td>convertible</td>\n",
       "      <td>2004</td>\n",
       "      <td>manual</td>\n",
       "      <td>109</td>\n",
       "      <td>2_reihe</td>\n",
       "      <td>150000</td>\n",
       "      <td>8</td>\n",
       "      <td>petrol</td>\n",
       "      <td>peugeot</td>\n",
       "      <td>no</td>\n",
       "      <td>2016-04-01 00:00:00</td>\n",
       "      <td>0</td>\n",
       "      <td>67112</td>\n",
       "      <td>2016-04-05 18:18:39</td>\n",
       "    </tr>\n",
       "    <tr>\n",
       "      <th>7</th>\n",
       "      <td>2016-03-21 18:54:38</td>\n",
       "      <td>0</td>\n",
       "      <td>sedan</td>\n",
       "      <td>1980</td>\n",
       "      <td>manual</td>\n",
       "      <td>50</td>\n",
       "      <td>other</td>\n",
       "      <td>40000</td>\n",
       "      <td>7</td>\n",
       "      <td>petrol</td>\n",
       "      <td>volkswagen</td>\n",
       "      <td>no</td>\n",
       "      <td>2016-03-21 00:00:00</td>\n",
       "      <td>0</td>\n",
       "      <td>19348</td>\n",
       "      <td>2016-03-25 16:47:58</td>\n",
       "    </tr>\n",
       "    <tr>\n",
       "      <th>8</th>\n",
       "      <td>2016-04-04 23:42:13</td>\n",
       "      <td>14500</td>\n",
       "      <td>bus</td>\n",
       "      <td>2014</td>\n",
       "      <td>manual</td>\n",
       "      <td>125</td>\n",
       "      <td>c_max</td>\n",
       "      <td>30000</td>\n",
       "      <td>8</td>\n",
       "      <td>petrol</td>\n",
       "      <td>ford</td>\n",
       "      <td>NaN</td>\n",
       "      <td>2016-04-04 00:00:00</td>\n",
       "      <td>0</td>\n",
       "      <td>94505</td>\n",
       "      <td>2016-04-04 23:42:13</td>\n",
       "    </tr>\n",
       "    <tr>\n",
       "      <th>9</th>\n",
       "      <td>2016-03-17 10:53:50</td>\n",
       "      <td>999</td>\n",
       "      <td>small</td>\n",
       "      <td>1998</td>\n",
       "      <td>manual</td>\n",
       "      <td>101</td>\n",
       "      <td>golf</td>\n",
       "      <td>150000</td>\n",
       "      <td>0</td>\n",
       "      <td>NaN</td>\n",
       "      <td>volkswagen</td>\n",
       "      <td>NaN</td>\n",
       "      <td>2016-03-17 00:00:00</td>\n",
       "      <td>0</td>\n",
       "      <td>27472</td>\n",
       "      <td>2016-03-31 17:17:06</td>\n",
       "    </tr>\n",
       "  </tbody>\n",
       "</table>\n",
       "</div>"
      ],
      "text/plain": [
       "           DateCrawled  Price  VehicleType  RegistrationYear Gearbox  Power  \\\n",
       "0  2016-03-24 11:52:17    480          NaN              1993  manual      0   \n",
       "1  2016-03-24 10:58:45  18300        coupe              2011  manual    190   \n",
       "2  2016-03-14 12:52:21   9800          suv              2004    auto    163   \n",
       "3  2016-03-17 16:54:04   1500        small              2001  manual     75   \n",
       "4  2016-03-31 17:25:20   3600        small              2008  manual     69   \n",
       "5  2016-04-04 17:36:23    650        sedan              1995  manual    102   \n",
       "6  2016-04-01 20:48:51   2200  convertible              2004  manual    109   \n",
       "7  2016-03-21 18:54:38      0        sedan              1980  manual     50   \n",
       "8  2016-04-04 23:42:13  14500          bus              2014  manual    125   \n",
       "9  2016-03-17 10:53:50    999        small              1998  manual    101   \n",
       "\n",
       "     Model  Kilometer  RegistrationMonth  FuelType       Brand Repaired  \\\n",
       "0     golf     150000                  0    petrol  volkswagen      NaN   \n",
       "1      NaN     125000                  5  gasoline        audi      yes   \n",
       "2    grand     125000                  8  gasoline        jeep      NaN   \n",
       "3     golf     150000                  6    petrol  volkswagen       no   \n",
       "4    fabia      90000                  7  gasoline       skoda       no   \n",
       "5      3er     150000                 10    petrol         bmw      yes   \n",
       "6  2_reihe     150000                  8    petrol     peugeot       no   \n",
       "7    other      40000                  7    petrol  volkswagen       no   \n",
       "8    c_max      30000                  8    petrol        ford      NaN   \n",
       "9     golf     150000                  0       NaN  volkswagen      NaN   \n",
       "\n",
       "           DateCreated  NumberOfPictures  PostalCode             LastSeen  \n",
       "0  2016-03-24 00:00:00                 0       70435  2016-04-07 03:16:57  \n",
       "1  2016-03-24 00:00:00                 0       66954  2016-04-07 01:46:50  \n",
       "2  2016-03-14 00:00:00                 0       90480  2016-04-05 12:47:46  \n",
       "3  2016-03-17 00:00:00                 0       91074  2016-03-17 17:40:17  \n",
       "4  2016-03-31 00:00:00                 0       60437  2016-04-06 10:17:21  \n",
       "5  2016-04-04 00:00:00                 0       33775  2016-04-06 19:17:07  \n",
       "6  2016-04-01 00:00:00                 0       67112  2016-04-05 18:18:39  \n",
       "7  2016-03-21 00:00:00                 0       19348  2016-03-25 16:47:58  \n",
       "8  2016-04-04 00:00:00                 0       94505  2016-04-04 23:42:13  \n",
       "9  2016-03-17 00:00:00                 0       27472  2016-03-31 17:17:06  "
      ]
     },
     "execution_count": 3,
     "metadata": {},
     "output_type": "execute_result"
    }
   ],
   "source": [
    "#Ознакамливаемся с датафреймом\n",
    "data.head(10)"
   ]
  },
  {
   "cell_type": "code",
   "execution_count": 4,
   "metadata": {},
   "outputs": [
    {
     "name": "stdout",
     "output_type": "stream",
     "text": [
      "<class 'pandas.core.frame.DataFrame'>\n",
      "RangeIndex: 354369 entries, 0 to 354368\n",
      "Data columns (total 16 columns):\n",
      " #   Column             Non-Null Count   Dtype \n",
      "---  ------             --------------   ----- \n",
      " 0   DateCrawled        354369 non-null  object\n",
      " 1   Price              354369 non-null  int64 \n",
      " 2   VehicleType        316879 non-null  object\n",
      " 3   RegistrationYear   354369 non-null  int64 \n",
      " 4   Gearbox            334536 non-null  object\n",
      " 5   Power              354369 non-null  int64 \n",
      " 6   Model              334664 non-null  object\n",
      " 7   Kilometer          354369 non-null  int64 \n",
      " 8   RegistrationMonth  354369 non-null  int64 \n",
      " 9   FuelType           321474 non-null  object\n",
      " 10  Brand              354369 non-null  object\n",
      " 11  Repaired           283215 non-null  object\n",
      " 12  DateCreated        354369 non-null  object\n",
      " 13  NumberOfPictures   354369 non-null  int64 \n",
      " 14  PostalCode         354369 non-null  int64 \n",
      " 15  LastSeen           354369 non-null  object\n",
      "dtypes: int64(7), object(9)\n",
      "memory usage: 43.3+ MB\n"
     ]
    }
   ],
   "source": [
    "data.info()"
   ]
  },
  {
   "cell_type": "code",
   "execution_count": 5,
   "metadata": {},
   "outputs": [
    {
     "name": "stdout",
     "output_type": "stream",
     "text": [
      "<class 'pandas.core.frame.DataFrame'>\n",
      "RangeIndex: 354369 entries, 0 to 354368\n",
      "Data columns (total 16 columns):\n",
      " #   Column             Non-Null Count   Dtype \n",
      "---  ------             --------------   ----- \n",
      " 0   datecrawled        354369 non-null  object\n",
      " 1   price              354369 non-null  int64 \n",
      " 2   vehicletype        316879 non-null  object\n",
      " 3   registrationyear   354369 non-null  int64 \n",
      " 4   gearbox            334536 non-null  object\n",
      " 5   power              354369 non-null  int64 \n",
      " 6   model              334664 non-null  object\n",
      " 7   kilometer          354369 non-null  int64 \n",
      " 8   registrationmonth  354369 non-null  int64 \n",
      " 9   fueltype           321474 non-null  object\n",
      " 10  brand              354369 non-null  object\n",
      " 11  repaired           283215 non-null  object\n",
      " 12  datecreated        354369 non-null  object\n",
      " 13  numberofpictures   354369 non-null  int64 \n",
      " 14  postalcode         354369 non-null  int64 \n",
      " 15  lastseen           354369 non-null  object\n",
      "dtypes: int64(7), object(9)\n",
      "memory usage: 43.3+ MB\n"
     ]
    }
   ],
   "source": [
    "#Переведем названия столбцов в нижний регистр\n",
    "data.columns = data.columns.str.lower()\n",
    "\n",
    "data.info()"
   ]
  },
  {
   "cell_type": "code",
   "execution_count": 6,
   "metadata": {},
   "outputs": [],
   "source": [
    "#Переведем названия столбцов в змениный регистр\n",
    "data = data.rename(columns={'datecrawled':'date_crawled', \n",
    "                        'vehicletype':'vehicle_type', \n",
    "                        'registrationyear':'registration_year', \n",
    "                        'registrationmonth':'registration_month', \n",
    "                        'fueltype':'fuel_type',  \n",
    "                        'datecreated':'date_created',\n",
    "                        'numberofpictures': 'number_of_pictures',\n",
    "                        'postalcode':'postal_code',\n",
    "                        'lastseen':'last_seen'})"
   ]
  },
  {
   "cell_type": "code",
   "execution_count": 7,
   "metadata": {},
   "outputs": [
    {
     "data": {
      "text/html": [
       "<style  type=\"text/css\" >\n",
       "#T_caa3c_row0_col0,#T_caa3c_row1_col0,#T_caa3c_row3_col0,#T_caa3c_row5_col0,#T_caa3c_row7_col0,#T_caa3c_row8_col0,#T_caa3c_row10_col0,#T_caa3c_row12_col0,#T_caa3c_row13_col0,#T_caa3c_row14_col0,#T_caa3c_row15_col0{\n",
       "            background-color:  #3b4cc0;\n",
       "            color:  #f1f1f1;\n",
       "        }#T_caa3c_row2_col0{\n",
       "            background-color:  #e9d5cb;\n",
       "            color:  #000000;\n",
       "        }#T_caa3c_row4_col0,#T_caa3c_row6_col0{\n",
       "            background-color:  #9ebeff;\n",
       "            color:  #000000;\n",
       "        }#T_caa3c_row9_col0{\n",
       "            background-color:  #cfdaea;\n",
       "            color:  #000000;\n",
       "        }#T_caa3c_row11_col0{\n",
       "            background-color:  #b40426;\n",
       "            color:  #f1f1f1;\n",
       "        }</style><table id=\"T_caa3c_\" ><thead>    <tr>        <th class=\"blank level0\" ></th>        <th class=\"col_heading level0 col0\" >0</th>    </tr></thead><tbody>\n",
       "                <tr>\n",
       "                        <th id=\"T_caa3c_level0_row0\" class=\"row_heading level0 row0\" >date_crawled</th>\n",
       "                        <td id=\"T_caa3c_row0_col0\" class=\"data row0 col0\" >0.000000</td>\n",
       "            </tr>\n",
       "            <tr>\n",
       "                        <th id=\"T_caa3c_level0_row1\" class=\"row_heading level0 row1\" >price</th>\n",
       "                        <td id=\"T_caa3c_row1_col0\" class=\"data row1 col0\" >0.000000</td>\n",
       "            </tr>\n",
       "            <tr>\n",
       "                        <th id=\"T_caa3c_level0_row2\" class=\"row_heading level0 row2\" >vehicle_type</th>\n",
       "                        <td id=\"T_caa3c_row2_col0\" class=\"data row2 col0\" >11.000000</td>\n",
       "            </tr>\n",
       "            <tr>\n",
       "                        <th id=\"T_caa3c_level0_row3\" class=\"row_heading level0 row3\" >registration_year</th>\n",
       "                        <td id=\"T_caa3c_row3_col0\" class=\"data row3 col0\" >0.000000</td>\n",
       "            </tr>\n",
       "            <tr>\n",
       "                        <th id=\"T_caa3c_level0_row4\" class=\"row_heading level0 row4\" >gearbox</th>\n",
       "                        <td id=\"T_caa3c_row4_col0\" class=\"data row4 col0\" >6.000000</td>\n",
       "            </tr>\n",
       "            <tr>\n",
       "                        <th id=\"T_caa3c_level0_row5\" class=\"row_heading level0 row5\" >power</th>\n",
       "                        <td id=\"T_caa3c_row5_col0\" class=\"data row5 col0\" >0.000000</td>\n",
       "            </tr>\n",
       "            <tr>\n",
       "                        <th id=\"T_caa3c_level0_row6\" class=\"row_heading level0 row6\" >model</th>\n",
       "                        <td id=\"T_caa3c_row6_col0\" class=\"data row6 col0\" >6.000000</td>\n",
       "            </tr>\n",
       "            <tr>\n",
       "                        <th id=\"T_caa3c_level0_row7\" class=\"row_heading level0 row7\" >kilometer</th>\n",
       "                        <td id=\"T_caa3c_row7_col0\" class=\"data row7 col0\" >0.000000</td>\n",
       "            </tr>\n",
       "            <tr>\n",
       "                        <th id=\"T_caa3c_level0_row8\" class=\"row_heading level0 row8\" >registration_month</th>\n",
       "                        <td id=\"T_caa3c_row8_col0\" class=\"data row8 col0\" >0.000000</td>\n",
       "            </tr>\n",
       "            <tr>\n",
       "                        <th id=\"T_caa3c_level0_row9\" class=\"row_heading level0 row9\" >fuel_type</th>\n",
       "                        <td id=\"T_caa3c_row9_col0\" class=\"data row9 col0\" >9.000000</td>\n",
       "            </tr>\n",
       "            <tr>\n",
       "                        <th id=\"T_caa3c_level0_row10\" class=\"row_heading level0 row10\" >brand</th>\n",
       "                        <td id=\"T_caa3c_row10_col0\" class=\"data row10 col0\" >0.000000</td>\n",
       "            </tr>\n",
       "            <tr>\n",
       "                        <th id=\"T_caa3c_level0_row11\" class=\"row_heading level0 row11\" >repaired</th>\n",
       "                        <td id=\"T_caa3c_row11_col0\" class=\"data row11 col0\" >20.000000</td>\n",
       "            </tr>\n",
       "            <tr>\n",
       "                        <th id=\"T_caa3c_level0_row12\" class=\"row_heading level0 row12\" >date_created</th>\n",
       "                        <td id=\"T_caa3c_row12_col0\" class=\"data row12 col0\" >0.000000</td>\n",
       "            </tr>\n",
       "            <tr>\n",
       "                        <th id=\"T_caa3c_level0_row13\" class=\"row_heading level0 row13\" >number_of_pictures</th>\n",
       "                        <td id=\"T_caa3c_row13_col0\" class=\"data row13 col0\" >0.000000</td>\n",
       "            </tr>\n",
       "            <tr>\n",
       "                        <th id=\"T_caa3c_level0_row14\" class=\"row_heading level0 row14\" >postal_code</th>\n",
       "                        <td id=\"T_caa3c_row14_col0\" class=\"data row14 col0\" >0.000000</td>\n",
       "            </tr>\n",
       "            <tr>\n",
       "                        <th id=\"T_caa3c_level0_row15\" class=\"row_heading level0 row15\" >last_seen</th>\n",
       "                        <td id=\"T_caa3c_row15_col0\" class=\"data row15 col0\" >0.000000</td>\n",
       "            </tr>\n",
       "    </tbody></table>"
      ],
      "text/plain": [
       "<pandas.io.formats.style.Styler at 0x7fe95c04fac0>"
      ]
     },
     "execution_count": 7,
     "metadata": {},
     "output_type": "execute_result"
    }
   ],
   "source": [
    "#Проверяем количество пропусков в %\n",
    "pd.DataFrame(round(data.isna().mean()*100)).style.background_gradient('coolwarm')"
   ]
  },
  {
   "cell_type": "code",
   "execution_count": 8,
   "metadata": {},
   "outputs": [
    {
     "name": "stdout",
     "output_type": "stream",
     "text": [
      "Количество дубликатов: 4\n"
     ]
    }
   ],
   "source": [
    "#Проверяем количество явных дубликатов\n",
    "print('Количество дубликатов:', data.duplicated().sum())"
   ]
  },
  {
   "cell_type": "code",
   "execution_count": 9,
   "metadata": {},
   "outputs": [
    {
     "name": "stdout",
     "output_type": "stream",
     "text": [
      "Количество дубликатов: 0\n"
     ]
    }
   ],
   "source": [
    "#Удаляем явные дубликаты и проверяем на их наличие\n",
    "data = data.drop_duplicates()\n",
    "print('Количество дубликатов:', data.duplicated().sum())"
   ]
  },
  {
   "cell_type": "code",
   "execution_count": 10,
   "metadata": {},
   "outputs": [
    {
     "data": {
      "text/plain": [
       "'2016-04-07 14:36:58'"
      ]
     },
     "execution_count": 10,
     "metadata": {},
     "output_type": "execute_result"
    }
   ],
   "source": [
    "#Смотрим максимальное значение в столбце 'date_crawled — дата скачивания анкеты из базы',\n",
    "#чтобы понимать, какие года рассматриваем\n",
    "\n",
    "data['date_crawled'].max()"
   ]
  },
  {
   "cell_type": "code",
   "execution_count": 11,
   "metadata": {},
   "outputs": [],
   "source": [
    "#Удаляем неинформативные признаки\n",
    "data = data.drop(['date_crawled', 'registration_month', 'date_created', \n",
    "                  'number_of_pictures', 'postal_code', 'last_seen'], axis=1)"
   ]
  },
  {
   "cell_type": "code",
   "execution_count": 12,
   "metadata": {},
   "outputs": [
    {
     "name": "stdout",
     "output_type": "stream",
     "text": [
      "<class 'pandas.core.frame.DataFrame'>\n",
      "Int64Index: 354365 entries, 0 to 354368\n",
      "Data columns (total 10 columns):\n",
      " #   Column             Non-Null Count   Dtype \n",
      "---  ------             --------------   ----- \n",
      " 0   price              354365 non-null  int64 \n",
      " 1   vehicle_type       316875 non-null  object\n",
      " 2   registration_year  354365 non-null  int64 \n",
      " 3   gearbox            334532 non-null  object\n",
      " 4   power              354365 non-null  int64 \n",
      " 5   model              334660 non-null  object\n",
      " 6   kilometer          354365 non-null  int64 \n",
      " 7   fuel_type          321470 non-null  object\n",
      " 8   brand              354365 non-null  object\n",
      " 9   repaired           283211 non-null  object\n",
      "dtypes: int64(4), object(6)\n",
      "memory usage: 29.7+ MB\n"
     ]
    }
   ],
   "source": [
    "data.info()"
   ]
  },
  {
   "cell_type": "code",
   "execution_count": 13,
   "metadata": {},
   "outputs": [
    {
     "name": "stdout",
     "output_type": "stream",
     "text": [
      "[  480 18300  9800 ... 12395 18429 10985]\n",
      "[nan 'coupe' 'suv' 'small' 'sedan' 'convertible' 'bus' 'wagon' 'other']\n",
      "[1993 2011 2004 2001 2008 1995 1980 2014 1998 2005 1910 2016 2007 2009\n",
      " 2002 2018 1997 1990 2017 1981 2003 1994 1991 1984 2006 1999 2012 2010\n",
      " 2000 1992 2013 1996 1985 1989 2015 1982 1976 1983 1973 1111 1969 1971\n",
      " 1987 1986 1988 1970 1965 1945 1925 1974 1979 1955 1978 1972 1968 1977\n",
      " 1961 1960 1966 1975 1963 1964 5000 1954 1958 1967 1959 9999 1956 3200\n",
      " 1000 1941 8888 1500 2200 4100 1962 1929 1957 1940 3000 2066 1949 2019\n",
      " 1937 1951 1800 1953 1234 8000 5300 9000 2900 6000 5900 5911 1933 1400\n",
      " 1950 4000 1948 1952 1200 8500 1932 1255 3700 3800 4800 1942 7000 1935\n",
      " 1936 6500 1923 2290 2500 1930 1001 9450 1944 1943 1934 1938 1688 2800\n",
      " 1253 1928 1919 5555 5600 1600 2222 1039 9996 1300 8455 1931 1915 4500\n",
      " 1920 1602 7800 9229 1947 1927 7100 8200 1946 7500 3500]\n",
      "['manual' 'auto' nan]\n",
      "[    0   190   163    75    69   102   109    50   125   101   105   140\n",
      "   115   131    60   136   160   231    90   118   193    99   113   218\n",
      "   122   129    70   306    95    61   177    80   170    55   143    64\n",
      "   286   232   150   156    82   155    54   185    87   180    86    84\n",
      "   224   235   200   178   265    77   110   144   120   116   184   126\n",
      "   204    88   194   305   197   179   250    45   313    41   165    98\n",
      "   130   114   211    56   201   213    58   107    83   174   100   220\n",
      "    85    73   192    68    66   299    74    52   147    65   310    71\n",
      "    97   239   203     5   300   103   258   320    63    81   148    44\n",
      "   145   230   280   260   104   188   333   186   117   141    59   132\n",
      "   234   158    39    92    51   135    53   209    43   146    67   106\n",
      "   166   276   344    72   249   237   245   111   326   279    23   138\n",
      "   175    96   226    26    37   301   334   128   133   124    33   219\n",
      "   241   167    94   182   196   238  1398   228   112    48   272   139\n",
      "  1799    40   240    79   256   360   243   375   252   396   340   108\n",
      "   121   345   187   289   222   198   284   450   233   387   152   347\n",
      "   172    57   137   212   476   314    30     7    47   173   290   207\n",
      "   205   171   750    78    91    89   349   325    76   151   350   953\n",
      "    93   142   500   343   199   119   164    16   264   367   208   210\n",
      "    46   435  1001   225   127   176   161   603   307   354    35   206\n",
      "   771   355   273   223   255   123   154   149  7515  1400   268   620\n",
      "   169   400   275    34     2   242  1779   285   162   328  1753   329\n",
      "   134   420   247   168 10317   215    18   330   283    62    10   214\n",
      "   183   254    15   321   322   315   952   600   181   426   599   379\n",
      "   999    22   157    42   195   553     4   309   507   381   271   440\n",
      "   189   401  1111  2729    21   236  1240  1704   521     1  1900   270\n",
      "    24   159   292   808   515  1200   303    29    38  1993    14   216\n",
      "   610   504    49   267   331   363   261   385  1011   253   696 10520\n",
      "   376   227   311    27   217    20  1999    11  1056    25   394    12\n",
      "   298   296  1659   294   551  6920   246    17  1800  1625   368   390\n",
      "   221  1367   259   606   327  2017  1597   266   374   392     9   405\n",
      "    13   262   601   430   295     8   411   900   541  7512   382 10218\n",
      "  7544  1102   287    19   751   297  1090   457   282   602   388     6\n",
      "  1000  5411   335  1360   202  3750   805  1062  1024 11530   364  1796\n",
      "  5000   269   460  1002   288  1780 12012 17932   316  2005  1399   191\n",
      "   278  1300   380   257   449  1256   153  1653   520   560   281 12510\n",
      "     3  1500   386    32  1202  2016  1436  1405   671   274  1288  1055\n",
      " 10912 15016  6226  1115   277  1105   341  1223  2340  8404  1968   338\n",
      "   445  1920   370   517  4400 10710 10522  9010   431  1164 11509   371\n",
      "  1501   428 11635    36   304   348  1703  1910  1995   579 10000   580\n",
      "   408    31  1005   358  1403   489  5575 19211   585   960   365   353\n",
      "   490   352  1801   346   550  3199   800  7508  1312   357  1937   950\n",
      "  4700  1600  3454 19208   251   850   337   700  8011  2331  2789   487\n",
      "   519  2461  6006  3500  5815  6018  1781  1503   612  1596   229  1506\n",
      "  5809 15020  5867  2172  1598 17410  1363   584  1054   851  1339   318\n",
      "   510   525  1700    28  1151   685  6011   317   703  1771 15001   514\n",
      "   362   332   324  6045   530   425   308  6010   475   903   640  2000\n",
      "   248   651  2799 17011   505  1103  1521   351 16051   398  9000  1998\n",
      " 10311   409  1230 17019 12684  8259  1895   901  1317   871   909  2201\n",
      "  1595   776 17700 11011  1199   459  1162  1120 15033  1896   339   361\n",
      "   574  6512   454   650 13616   604   607 16312  1082   336 20000   416\n",
      "   678  6012  1401  1021  1870 13636  1250  9710   323  1158  2009   902\n",
      "  6062  1275   572   244   399  1016   743  1221  2402 16011  1362   544\n",
      "   645   907   702 12512  1986  1003  1432  9013  9011   442  1017  1394\n",
      " 15017 10910  1992   540  2018 11025  1433  1701  2792  1502  1239  1390\n",
      " 14009  1160  1351 11111  1783  9007   923  1149   754  1988   402  2004\n",
      "  5420  1793  1324   356  7511  1299   293 19312  1079  1689   998  1100\n",
      "  9012  1933   508 16311   682  1252  1922  7529   732  2389  2200  1707\n",
      "  1416  8500  1012   485  3000 10110   421  4507  1631  7518   377  1004\n",
      "  2007  2598  1548  1241]\n",
      "['golf' nan 'grand' 'fabia' '3er' '2_reihe' 'other' 'c_max' '3_reihe'\n",
      " 'passat' 'navara' 'ka' 'polo' 'twingo' 'a_klasse' 'scirocco' '5er'\n",
      " 'meriva' 'arosa' 'c4' 'civic' 'transporter' 'punto' 'e_klasse' 'clio'\n",
      " 'kadett' 'kangoo' 'corsa' 'one' 'fortwo' '1er' 'b_klasse' 'signum'\n",
      " 'astra' 'a8' 'jetta' 'fiesta' 'c_klasse' 'micra' 'vito' 'sprinter' '156'\n",
      " 'escort' 'forester' 'xc_reihe' 'scenic' 'a4' 'a1' 'insignia' 'combo'\n",
      " 'focus' 'tt' 'a6' 'jazz' 'omega' 'slk' '7er' '80' '147' '100' 'z_reihe'\n",
      " 'sportage' 'sorento' 'v40' 'ibiza' 'mustang' 'eos' 'touran' 'getz' 'a3'\n",
      " 'almera' 'megane' 'lupo' 'r19' 'zafira' 'caddy' 'mondeo' 'cordoba' 'colt'\n",
      " 'impreza' 'vectra' 'berlingo' 'tiguan' 'i_reihe' 'espace' 'sharan'\n",
      " '6_reihe' 'panda' 'up' 'seicento' 'ceed' '5_reihe' 'yeti' 'octavia' 'mii'\n",
      " 'rx_reihe' '6er' 'modus' 'fox' 'matiz' 'beetle' 'c1' 'rio' 'touareg'\n",
      " 'logan' 'spider' 'cuore' 's_max' 'a2' 'galaxy' 'c3' 'viano' 's_klasse'\n",
      " '1_reihe' 'avensis' 'roomster' 'sl' 'kaefer' 'santa' 'cooper' 'leon'\n",
      " '4_reihe' 'a5' '500' 'laguna' 'ptcruiser' 'clk' 'primera' 'x_reihe'\n",
      " 'exeo' '159' 'transit' 'juke' 'qashqai' 'carisma' 'accord' 'corolla'\n",
      " 'lanos' 'phaeton' 'verso' 'swift' 'rav' 'picanto' 'boxster' 'kalos'\n",
      " 'superb' 'stilo' 'alhambra' 'mx_reihe' 'roadster' 'ypsilon' 'cayenne'\n",
      " 'galant' 'justy' '90' 'sirion' 'crossfire' 'agila' 'duster' 'cr_reihe'\n",
      " 'v50' 'c_reihe' 'v_klasse' 'm_klasse' 'yaris' 'c5' 'aygo' 'cc' 'carnival'\n",
      " 'fusion' '911' 'bora' 'forfour' 'm_reihe' 'cl' 'tigra' '300c' 'spark'\n",
      " 'v70' 'kuga' 'x_type' 'ducato' 's_type' 'x_trail' 'toledo' 'altea'\n",
      " 'voyager' 'calibra' 'bravo' 'antara' 'tucson' 'citigo' 'jimny' 'wrangler'\n",
      " 'lybra' 'q7' 'lancer' 'captiva' 'c2' 'discovery' 'freelander' 'sandero'\n",
      " 'note' '900' 'cherokee' 'clubman' 'samara' 'defender' '601' 'cx_reihe'\n",
      " 'legacy' 'pajero' 'auris' 'niva' 's60' 'nubira' 'vivaro' 'g_klasse'\n",
      " 'lodgy' '850' 'range_rover' 'q3' 'serie_2' 'glk' 'charade' 'croma'\n",
      " 'outlander' 'doblo' 'musa' 'move' '9000' 'v60' '145' 'aveo' '200' 'b_max'\n",
      " 'range_rover_sport' 'terios' 'rangerover' 'q5' 'range_rover_evoque'\n",
      " 'materia' 'delta' 'gl' 'kalina' 'amarok' 'elefantino' 'i3' 'kappa'\n",
      " 'serie_3' 'serie_1']\n",
      "[150000 125000  90000  40000  30000  70000   5000 100000  60000  20000\n",
      "  80000  50000  10000]\n",
      "['petrol' 'gasoline' nan 'lpg' 'other' 'hybrid' 'cng' 'electric']\n",
      "['volkswagen' 'audi' 'jeep' 'skoda' 'bmw' 'peugeot' 'ford' 'mazda'\n",
      " 'nissan' 'renault' 'mercedes_benz' 'opel' 'seat' 'citroen' 'honda' 'fiat'\n",
      " 'mini' 'smart' 'hyundai' 'sonstige_autos' 'alfa_romeo' 'subaru' 'volvo'\n",
      " 'mitsubishi' 'kia' 'suzuki' 'lancia' 'toyota' 'chevrolet' 'dacia'\n",
      " 'daihatsu' 'trabant' 'saab' 'chrysler' 'jaguar' 'daewoo' 'porsche'\n",
      " 'rover' 'land_rover' 'lada']\n",
      "[nan 'yes' 'no']\n"
     ]
    }
   ],
   "source": [
    "#Проверяем уникальные значения\n",
    "for col in data:\n",
    "    print(data[col].unique())"
   ]
  },
  {
   "cell_type": "code",
   "execution_count": 14,
   "metadata": {
    "scrolled": true
   },
   "outputs": [
    {
     "data": {
      "text/html": [
       "<div>\n",
       "<style scoped>\n",
       "    .dataframe tbody tr th:only-of-type {\n",
       "        vertical-align: middle;\n",
       "    }\n",
       "\n",
       "    .dataframe tbody tr th {\n",
       "        vertical-align: top;\n",
       "    }\n",
       "\n",
       "    .dataframe thead th {\n",
       "        text-align: right;\n",
       "    }\n",
       "</style>\n",
       "<table border=\"1\" class=\"dataframe\">\n",
       "  <thead>\n",
       "    <tr style=\"text-align: right;\">\n",
       "      <th></th>\n",
       "      <th>price</th>\n",
       "      <th>registration_year</th>\n",
       "      <th>power</th>\n",
       "      <th>kilometer</th>\n",
       "    </tr>\n",
       "  </thead>\n",
       "  <tbody>\n",
       "    <tr>\n",
       "      <th>count</th>\n",
       "      <td>354365.000000</td>\n",
       "      <td>354365.000000</td>\n",
       "      <td>354365.000000</td>\n",
       "      <td>354365.000000</td>\n",
       "    </tr>\n",
       "    <tr>\n",
       "      <th>mean</th>\n",
       "      <td>4416.679830</td>\n",
       "      <td>2004.234481</td>\n",
       "      <td>110.093816</td>\n",
       "      <td>128211.363989</td>\n",
       "    </tr>\n",
       "    <tr>\n",
       "      <th>std</th>\n",
       "      <td>4514.176349</td>\n",
       "      <td>90.228466</td>\n",
       "      <td>189.851330</td>\n",
       "      <td>37905.083858</td>\n",
       "    </tr>\n",
       "    <tr>\n",
       "      <th>min</th>\n",
       "      <td>0.000000</td>\n",
       "      <td>1000.000000</td>\n",
       "      <td>0.000000</td>\n",
       "      <td>5000.000000</td>\n",
       "    </tr>\n",
       "    <tr>\n",
       "      <th>25%</th>\n",
       "      <td>1050.000000</td>\n",
       "      <td>1999.000000</td>\n",
       "      <td>69.000000</td>\n",
       "      <td>125000.000000</td>\n",
       "    </tr>\n",
       "    <tr>\n",
       "      <th>50%</th>\n",
       "      <td>2700.000000</td>\n",
       "      <td>2003.000000</td>\n",
       "      <td>105.000000</td>\n",
       "      <td>150000.000000</td>\n",
       "    </tr>\n",
       "    <tr>\n",
       "      <th>75%</th>\n",
       "      <td>6400.000000</td>\n",
       "      <td>2008.000000</td>\n",
       "      <td>143.000000</td>\n",
       "      <td>150000.000000</td>\n",
       "    </tr>\n",
       "    <tr>\n",
       "      <th>max</th>\n",
       "      <td>20000.000000</td>\n",
       "      <td>9999.000000</td>\n",
       "      <td>20000.000000</td>\n",
       "      <td>150000.000000</td>\n",
       "    </tr>\n",
       "  </tbody>\n",
       "</table>\n",
       "</div>"
      ],
      "text/plain": [
       "               price  registration_year          power      kilometer\n",
       "count  354365.000000      354365.000000  354365.000000  354365.000000\n",
       "mean     4416.679830        2004.234481     110.093816  128211.363989\n",
       "std      4514.176349          90.228466     189.851330   37905.083858\n",
       "min         0.000000        1000.000000       0.000000    5000.000000\n",
       "25%      1050.000000        1999.000000      69.000000  125000.000000\n",
       "50%      2700.000000        2003.000000     105.000000  150000.000000\n",
       "75%      6400.000000        2008.000000     143.000000  150000.000000\n",
       "max     20000.000000        9999.000000   20000.000000  150000.000000"
      ]
     },
     "execution_count": 14,
     "metadata": {},
     "output_type": "execute_result"
    }
   ],
   "source": [
    "data.describe()"
   ]
  },
  {
   "cell_type": "markdown",
   "metadata": {},
   "source": [
    "Мы загрузили и ознакомились с представленным датафреймом, всего в датафрейме 16 столбцов и 354 369 записи, пропуски были выявлены в следующих признаках: VehicleType - тип автомобильного кузова, Gearbox - тип коробки передач, Model - модель автомобиля, FuelType - тип топлива и Repaired - была машина в ремонте или нет. Так же было обнаружено 4 дубликата, которые мы устранили. Удалили столбцы, которые не пригодятся нам для исследования, теперь в датафрейме 10 столбцов."
   ]
  },
  {
   "cell_type": "code",
   "execution_count": 15,
   "metadata": {},
   "outputs": [
    {
     "data": {
      "text/plain": [
       "0        10772\n",
       "500       5670\n",
       "1500      5394\n",
       "1000      4648\n",
       "1200      4594\n",
       "         ...  \n",
       "13180        1\n",
       "10879        1\n",
       "2683         1\n",
       "634          1\n",
       "8188         1\n",
       "Name: price, Length: 3731, dtype: int64"
      ]
     },
     "execution_count": 15,
     "metadata": {},
     "output_type": "execute_result"
    }
   ],
   "source": [
    "#Изучим каждый столбец по отдельности, а так же обработаем пропущенные значения\n",
    "data['price'].value_counts()"
   ]
  },
  {
   "cell_type": "code",
   "execution_count": 16,
   "metadata": {},
   "outputs": [
    {
     "data": {
      "text/plain": [
       "500     5670\n",
       "1500    5394\n",
       "1000    4648\n",
       "1200    4594\n",
       "2500    4438\n",
       "        ... \n",
       "6220       1\n",
       "5708       1\n",
       "4909       1\n",
       "3630       1\n",
       "8188       1\n",
       "Name: price, Length: 3616, dtype: int64"
      ]
     },
     "execution_count": 16,
     "metadata": {},
     "output_type": "execute_result"
    }
   ],
   "source": [
    "#Выявили в столбце \"price - цена (евро)\" нули, удалим их\n",
    "data = data.query('price > 200')\n",
    "data['price'].value_counts()"
   ]
  },
  {
   "cell_type": "code",
   "execution_count": 17,
   "metadata": {},
   "outputs": [
    {
     "data": {
      "text/plain": [
       "290665      202\n",
       "28094       205\n",
       "36284       205\n",
       "183153      209\n",
       "175108      209\n",
       "          ...  \n",
       "332704    20000\n",
       "291358    20000\n",
       "255673    20000\n",
       "197617    20000\n",
       "43104     20000\n",
       "Name: price, Length: 334917, dtype: int64"
      ]
     },
     "execution_count": 17,
     "metadata": {},
     "output_type": "execute_result"
    }
   ],
   "source": [
    "data['price'].sort_values()"
   ]
  },
  {
   "cell_type": "code",
   "execution_count": 18,
   "metadata": {},
   "outputs": [
    {
     "data": {
      "image/png": "[encoded data removed]",
      "text/plain": [
       "<Figure size 1440x504 with 1 Axes>"
      ]
     },
     "metadata": {
      "needs_background": "light"
     },
     "output_type": "display_data"
    },
    {
     "data": {
      "text/plain": [
       "count    334917.000000\n",
       "mean       4669.992094\n",
       "std        4515.700301\n",
       "min         202.000000\n",
       "25%        1299.000000\n",
       "50%        2990.000000\n",
       "75%        6700.000000\n",
       "max       20000.000000\n",
       "Name: price, dtype: float64"
      ]
     },
     "execution_count": 18,
     "metadata": {},
     "output_type": "execute_result"
    },
    {
     "data": {
      "image/png": "[encoded data removed]",
      "text/plain": [
       "<Figure size 1440x504 with 1 Axes>"
      ]
     },
     "metadata": {
      "needs_background": "light"
     },
     "output_type": "display_data"
    }
   ],
   "source": [
    "#Изучаю столбец \"price - цена (евро)\" на гистограмме и ящике с усами\n",
    "data['price'].hist(bins=200, figsize=(20, 7))\n",
    "plt.title('Значения  в столбце \"цена (евро)\"')\n",
    "plt.show()\n",
    "\n",
    "plt.figure(figsize=(20, 7))\n",
    "sns.boxplot(data=data['price'])\n",
    "\n",
    "data['price'].describe()"
   ]
  },
  {
   "cell_type": "markdown",
   "metadata": {},
   "source": [
    "Как мы можем наблюдать по ящику с усами, имеются выбросы за пределами верхнего \"уса\" - свыше 15 000 тысяч евро, данные выбросы мы обрабатывать не будем, так как примем их за \"элитный сигмент\" в автомобилях."
   ]
  },
  {
   "cell_type": "code",
   "execution_count": 19,
   "metadata": {},
   "outputs": [
    {
     "data": {
      "text/plain": [
       "sedan          88275\n",
       "small          74807\n",
       "wagon          62913\n",
       "bus            28183\n",
       "convertible    19763\n",
       "coupe          15374\n",
       "suv            11751\n",
       "other           2981\n",
       "Name: vehicle_type, dtype: int64"
      ]
     },
     "execution_count": 19,
     "metadata": {},
     "output_type": "execute_result"
    }
   ],
   "source": [
    "#В столбце \"vehicle_type - тип автомобильного кузова\" выявили пропуски, которые составляют 11% от всего датафрейма\n",
    "data['vehicle_type'].value_counts()"
   ]
  },
  {
   "cell_type": "code",
   "execution_count": 20,
   "metadata": {},
   "outputs": [
    {
     "data": {
      "text/plain": [
       "0"
      ]
     },
     "execution_count": 20,
     "metadata": {},
     "output_type": "execute_result"
    }
   ],
   "source": [
    "#Обработаем пропуски, заполнив значением unknown\n",
    "data['vehicle_type'] = data['vehicle_type'].fillna('unknown')\n",
    "data['vehicle_type'].isna().sum()"
   ]
  },
  {
   "cell_type": "markdown",
   "metadata": {},
   "source": [
    "В столбце \"vehicle_type - тип автомобильного кузова\" аномалий не выявлено, пропуски обработаны. "
   ]
  },
  {
   "cell_type": "code",
   "execution_count": 21,
   "metadata": {},
   "outputs": [
    {
     "data": {
      "text/plain": [
       "2000    21829\n",
       "1999    21338\n",
       "2005    21272\n",
       "2006    19635\n",
       "2003    19433\n",
       "        ...  \n",
       "1946        1\n",
       "1949        1\n",
       "5300        1\n",
       "8888        1\n",
       "2290        1\n",
       "Name: registration_year, Length: 134, dtype: int64"
      ]
     },
     "execution_count": 21,
     "metadata": {},
     "output_type": "execute_result"
    }
   ],
   "source": [
    "#Столбец \"registration_year — год регистрации автомобиля\"\n",
    "data['registration_year'].value_counts()"
   ]
  },
  {
   "cell_type": "code",
   "execution_count": 22,
   "metadata": {},
   "outputs": [
    {
     "data": {
      "image/png": "[encoded data removed]",
      "text/plain": [
       "<Figure size 1440x504 with 1 Axes>"
      ]
     },
     "metadata": {
      "needs_background": "light"
     },
     "output_type": "display_data"
    },
    {
     "data": {
      "text/plain": [
       "count    334917.000000\n",
       "mean       2003.977920\n",
       "std          67.384499\n",
       "min        1000.000000\n",
       "25%        1999.000000\n",
       "50%        2003.000000\n",
       "75%        2008.000000\n",
       "max        9999.000000\n",
       "Name: registration_year, dtype: float64"
      ]
     },
     "execution_count": 22,
     "metadata": {},
     "output_type": "execute_result"
    },
    {
     "data": {
      "image/png": "[encoded data removed]",
      "text/plain": [
       "<Figure size 1440x504 with 1 Axes>"
      ]
     },
     "metadata": {
      "needs_background": "light"
     },
     "output_type": "display_data"
    }
   ],
   "source": [
    "#Изучаю столбец \"registration_year — год регистрации автомобиля\" на гистограмме и ящике с усами\n",
    "data['registration_year'].hist(bins=11, figsize=(20, 7))\n",
    "plt.title('Значения  в столбце \"год регистрации автомобиля\"')\n",
    "plt.show()\n",
    "\n",
    "plt.figure(figsize=(20, 7))\n",
    "sns.boxplot(data=data['registration_year'])\n",
    "plt.ylim(-100, 10000)\n",
    "\n",
    "data['registration_year'].describe()"
   ]
  },
  {
   "cell_type": "code",
   "execution_count": 23,
   "metadata": {},
   "outputs": [
    {
     "data": {
      "image/png": "[encoded data removed]",
      "text/plain": [
       "<Figure size 1800x504 with 1 Axes>"
      ]
     },
     "metadata": {
      "needs_background": "light"
     },
     "output_type": "display_data"
    }
   ],
   "source": [
    "#Применим сводную таблицу для наглядного отображения данных\n",
    "auto_of_year = data.pivot_table(index='registration_year', values='brand', aggfunc='count')\n",
    "\n",
    "auto_of_year.plot.bar(figsize=(25, 7))\n",
    "plt.title('Годы регистрации автомобилей')\n",
    "plt.show()"
   ]
  },
  {
   "cell_type": "code",
   "execution_count": 24,
   "metadata": {},
   "outputs": [
    {
     "data": {
      "text/plain": [
       "count    321056.000000\n",
       "mean       2002.745913\n",
       "std           6.624269\n",
       "min        1960.000000\n",
       "25%        1999.000000\n",
       "50%        2003.000000\n",
       "75%        2007.000000\n",
       "max        2016.000000\n",
       "Name: registration_year, dtype: float64"
      ]
     },
     "execution_count": 24,
     "metadata": {},
     "output_type": "execute_result"
    }
   ],
   "source": [
    "#Сделаем срез по годам с 1960 по 2016\n",
    "data = data.query('1960 <= registration_year <= 2016')\n",
    "data['registration_year'].describe()"
   ]
  },
  {
   "cell_type": "markdown",
   "metadata": {},
   "source": [
    "Как мы могли наблюдать по ящику с усами, у нас присутствовали выбросы за пределами 2000 года, основные года регистрации приходились на 1960-2016 гг., а так же максимальное значение даты в столбце \"DateCrawled - дата скачивания анкеты из базы\" приходилось на 2016 год, поэтому в датафрейме удалили все значения, которые меньше 1960 и больше 2016 годов регистрации."
   ]
  },
  {
   "cell_type": "code",
   "execution_count": 25,
   "metadata": {},
   "outputs": [
    {
     "data": {
      "text/plain": [
       "manual    245020\n",
       "auto       62505\n",
       "Name: gearbox, dtype: int64"
      ]
     },
     "execution_count": 25,
     "metadata": {},
     "output_type": "execute_result"
    }
   ],
   "source": [
    "#В столбце \"gearbox - тип коробки передач\", выявили пропуски, которые составляют 6% от всего датафрейма\n",
    "data['gearbox'].value_counts()"
   ]
  },
  {
   "cell_type": "code",
   "execution_count": 26,
   "metadata": {},
   "outputs": [
    {
     "data": {
      "text/plain": [
       "0"
      ]
     },
     "execution_count": 26,
     "metadata": {},
     "output_type": "execute_result"
    }
   ],
   "source": [
    "#Заполним пропуски значением unknown\n",
    "data['gearbox'] = data['gearbox'].fillna('unknown')\n",
    "data['gearbox'].isna().sum()"
   ]
  },
  {
   "cell_type": "markdown",
   "metadata": {},
   "source": [
    "В столбце \"gearbox - тип коробки передач\" аномалий не выявлено, пропуски обработаны. "
   ]
  },
  {
   "cell_type": "code",
   "execution_count": 27,
   "metadata": {
    "scrolled": true
   },
   "outputs": [
    {
     "data": {
      "text/plain": [
       "0        29535\n",
       "75       21417\n",
       "60       13916\n",
       "150      13649\n",
       "101      12305\n",
       "         ...  \n",
       "602          1\n",
       "685          1\n",
       "1799         1\n",
       "15017        1\n",
       "903          1\n",
       "Name: power, Length: 675, dtype: int64"
      ]
     },
     "execution_count": 27,
     "metadata": {},
     "output_type": "execute_result"
    }
   ],
   "source": [
    "#Столбец \"power - мощность (л. с.)\"\n",
    "data['power'].value_counts()"
   ]
  },
  {
   "cell_type": "code",
   "execution_count": 28,
   "metadata": {},
   "outputs": [
    {
     "data": {
      "image/png": "[encoded data removed]",
      "text/plain": [
       "<Figure size 1440x504 with 1 Axes>"
      ]
     },
     "metadata": {
      "needs_background": "light"
     },
     "output_type": "display_data"
    },
    {
     "data": {
      "text/plain": [
       "count    321056.000000\n",
       "mean        113.439238\n",
       "std         183.980695\n",
       "min           0.000000\n",
       "25%          75.000000\n",
       "50%         105.000000\n",
       "75%         143.000000\n",
       "max       20000.000000\n",
       "Name: power, dtype: float64"
      ]
     },
     "execution_count": 28,
     "metadata": {},
     "output_type": "execute_result"
    },
    {
     "data": {
      "image/png": "[encoded data removed]",
      "text/plain": [
       "<Figure size 1440x504 with 1 Axes>"
      ]
     },
     "metadata": {
      "needs_background": "light"
     },
     "output_type": "display_data"
    }
   ],
   "source": [
    "#Изучаю столбец \"power - мощность (л. с.)\" на гистограмме и ящике с усами\n",
    "data['power'].hist(bins=5, figsize=(20, 7))\n",
    "plt.title('Значения  в столбце \"мощность (л. с.)\"')\n",
    "plt.show()\n",
    "\n",
    "plt.figure(figsize=(20, 7))\n",
    "sns.boxplot(data=data['power'])\n",
    "plt.ylim(-100, 1000)\n",
    "\n",
    "data['power'].describe()"
   ]
  },
  {
   "cell_type": "markdown",
   "metadata": {},
   "source": [
    "Как мы можем наблюдать на ящике с усами, присутствуют значительные выбросы после значения в 300 лошадиных сил."
   ]
  },
  {
   "cell_type": "code",
   "execution_count": 29,
   "metadata": {},
   "outputs": [
    {
     "data": {
      "text/plain": [
       "count    288074.000000\n",
       "mean        119.098489\n",
       "std          48.716998\n",
       "min          10.000000\n",
       "25%          78.000000\n",
       "50%         111.000000\n",
       "75%         150.000000\n",
       "max         300.000000\n",
       "Name: power, dtype: float64"
      ]
     },
     "execution_count": 29,
     "metadata": {},
     "output_type": "execute_result"
    }
   ],
   "source": [
    "#Сделаем срез и оставим мощность от 10 до 300 л.с. \n",
    "data = data.query('10 <= power <= 300')\n",
    "data['power'].describe()"
   ]
  },
  {
   "cell_type": "code",
   "execution_count": 30,
   "metadata": {},
   "outputs": [
    {
     "data": {
      "text/plain": [
       "golf                  24213\n",
       "other                 19603\n",
       "3er                   17106\n",
       "polo                  10211\n",
       "corsa                  9531\n",
       "                      ...  \n",
       "samara                    5\n",
       "elefantino                4\n",
       "serie_3                   3\n",
       "rangerover                2\n",
       "range_rover_evoque        2\n",
       "Name: model, Length: 249, dtype: int64"
      ]
     },
     "execution_count": 30,
     "metadata": {},
     "output_type": "execute_result"
    }
   ],
   "source": [
    "#В столбце \"model - модель автомобиля\", выявили пропуски, которые составляют 6% от всего датафрейма\n",
    "data['model'].value_counts()"
   ]
  },
  {
   "cell_type": "code",
   "execution_count": 31,
   "metadata": {},
   "outputs": [
    {
     "data": {
      "text/plain": [
       "0"
      ]
     },
     "execution_count": 31,
     "metadata": {},
     "output_type": "execute_result"
    }
   ],
   "source": [
    "#Заполним пропуски значением unknown\n",
    "data['model'] = data['model'].fillna('unknown')\n",
    "data['model'].isna().sum()"
   ]
  },
  {
   "cell_type": "markdown",
   "metadata": {},
   "source": [
    "В столбце \"model - модель автомобиля\" аномалий не выявлено, пропуски обработаны. "
   ]
  },
  {
   "cell_type": "code",
   "execution_count": 32,
   "metadata": {},
   "outputs": [
    {
     "data": {
      "text/plain": [
       "150000    190188\n",
       "125000     31169\n",
       "100000     12561\n",
       "90000      10157\n",
       "80000       8909\n",
       "70000       7725\n",
       "60000       6786\n",
       "50000       5594\n",
       "40000       4467\n",
       "30000       3840\n",
       "20000       3180\n",
       "5000        2607\n",
       "10000        891\n",
       "Name: kilometer, dtype: int64"
      ]
     },
     "execution_count": 32,
     "metadata": {},
     "output_type": "execute_result"
    }
   ],
   "source": [
    "#Столбец \"kilometer - пробег (км)\"\n",
    "data['kilometer'].value_counts()"
   ]
  },
  {
   "cell_type": "code",
   "execution_count": 33,
   "metadata": {},
   "outputs": [
    {
     "data": {
      "text/plain": [
       "count    288074.000000\n",
       "mean     128141.762186\n",
       "std       36755.486468\n",
       "min        5000.000000\n",
       "25%      125000.000000\n",
       "50%      150000.000000\n",
       "75%      150000.000000\n",
       "max      150000.000000\n",
       "Name: kilometer, dtype: float64"
      ]
     },
     "execution_count": 33,
     "metadata": {},
     "output_type": "execute_result"
    }
   ],
   "source": [
    "data['kilometer'].describe()"
   ]
  },
  {
   "cell_type": "markdown",
   "metadata": {},
   "source": [
    "В столбце \"kilometer - пробег (км)\" аномалий не выявлено."
   ]
  },
  {
   "cell_type": "code",
   "execution_count": 34,
   "metadata": {},
   "outputs": [
    {
     "data": {
      "text/plain": [
       "petrol      181164\n",
       "gasoline     87242\n",
       "lpg           4383\n",
       "cng            479\n",
       "hybrid         200\n",
       "other           79\n",
       "electric        61\n",
       "Name: fuel_type, dtype: int64"
      ]
     },
     "execution_count": 34,
     "metadata": {},
     "output_type": "execute_result"
    }
   ],
   "source": [
    "#В столбце \"fuel_type - тип топлива\" выявили пропуски, которые составляют 9% от всего датафрейма\n",
    "data['fuel_type'].value_counts()"
   ]
  },
  {
   "cell_type": "code",
   "execution_count": 35,
   "metadata": {},
   "outputs": [],
   "source": [
    "#Наименования \"petrol\" и \"gasoline\" переводятся как \"бензин\", поэтому переименуем \"gasoline\" в \"petrol\" (объединим значения)\n",
    "data['fuel_type'] = data['fuel_type'].replace(['gasoline'], 'petrol')"
   ]
  },
  {
   "cell_type": "code",
   "execution_count": 36,
   "metadata": {},
   "outputs": [
    {
     "data": {
      "text/plain": [
       "0"
      ]
     },
     "execution_count": 36,
     "metadata": {},
     "output_type": "execute_result"
    }
   ],
   "source": [
    "#Обработаем пропуски, заполнив значением other\n",
    "data['fuel_type'] = data['fuel_type'].fillna('other')\n",
    "data['fuel_type'].isna().sum()"
   ]
  },
  {
   "cell_type": "markdown",
   "metadata": {},
   "source": [
    "В столбце \"fuel_type - тип топлива\" аномалий не выявлено, пропуски обработаны. "
   ]
  },
  {
   "cell_type": "code",
   "execution_count": 37,
   "metadata": {},
   "outputs": [
    {
     "data": {
      "text/plain": [
       "volkswagen        62755\n",
       "bmw               31403\n",
       "opel              31395\n",
       "mercedes_benz     26359\n",
       "audi              24931\n",
       "ford              19836\n",
       "renault           13499\n",
       "peugeot            9255\n",
       "fiat               7401\n",
       "seat               5722\n",
       "skoda              4921\n",
       "mazda              4644\n",
       "smart              4472\n",
       "citroen            4155\n",
       "toyota             3999\n",
       "nissan             3918\n",
       "hyundai            3078\n",
       "mini               2960\n",
       "volvo              2788\n",
       "mitsubishi         2416\n",
       "honda              2344\n",
       "kia                2077\n",
       "alfa_romeo         1944\n",
       "suzuki             1910\n",
       "sonstige_autos     1475\n",
       "chevrolet          1424\n",
       "chrysler           1116\n",
       "dacia               800\n",
       "subaru              618\n",
       "daihatsu            583\n",
       "jeep                558\n",
       "land_rover          464\n",
       "saab                464\n",
       "porsche             452\n",
       "jaguar              403\n",
       "daewoo              390\n",
       "lancia              365\n",
       "rover               347\n",
       "trabant             276\n",
       "lada                157\n",
       "Name: brand, dtype: int64"
      ]
     },
     "execution_count": 37,
     "metadata": {},
     "output_type": "execute_result"
    }
   ],
   "source": [
    "#Столбец \"brand — марка автомобиля\"\n",
    "data['brand'].value_counts()"
   ]
  },
  {
   "cell_type": "markdown",
   "metadata": {},
   "source": [
    "В столбце \"kilometer - пробег (км)\" аномалий не выявлено. <br>\n",
    "Можно заметить, что самими популярными марками на сервисе являются:\n",
    "* volkswagen - 74 412 тыс. объявлений;\n",
    "* opel - 38 530;\n",
    "* bmw - 35 809."
   ]
  },
  {
   "cell_type": "code",
   "execution_count": 38,
   "metadata": {},
   "outputs": [
    {
     "data": {
      "text/plain": [
       "no     220800\n",
       "yes     26659\n",
       "Name: repaired, dtype: int64"
      ]
     },
     "execution_count": 38,
     "metadata": {},
     "output_type": "execute_result"
    }
   ],
   "source": [
    "#В столбце \"repaired - была машина в ремонте или нет\" выявили пропуски, которые составляют 22% от всего датафрейма\n",
    "data['repaired'].value_counts()"
   ]
  },
  {
   "cell_type": "code",
   "execution_count": 39,
   "metadata": {},
   "outputs": [
    {
     "data": {
      "text/plain": [
       "0"
      ]
     },
     "execution_count": 39,
     "metadata": {},
     "output_type": "execute_result"
    }
   ],
   "source": [
    "#Обработаем пропуски, заполнив значением unknown\n",
    "#Можно было указать \"Not Stated\" (не указано), однако будем придерживаться общего стиля со значением unknown\n",
    "data['repaired'] = data['repaired'].fillna('unknown')\n",
    "data['repaired'].isna().sum()"
   ]
  },
  {
   "cell_type": "markdown",
   "metadata": {},
   "source": [
    "В столбце \"repaired - была машина в ремонте или нет\" аномалий не выявлено, пропуски обработаны. "
   ]
  },
  {
   "cell_type": "code",
   "execution_count": 40,
   "metadata": {},
   "outputs": [
    {
     "data": {
      "text/html": [
       "<style  type=\"text/css\" >\n",
       "#T_549f2_row0_col0,#T_549f2_row1_col0,#T_549f2_row2_col0,#T_549f2_row3_col0,#T_549f2_row4_col0,#T_549f2_row5_col0,#T_549f2_row6_col0,#T_549f2_row7_col0,#T_549f2_row8_col0,#T_549f2_row9_col0{\n",
       "            background-color:  #3b4cc0;\n",
       "            color:  #f1f1f1;\n",
       "        }</style><table id=\"T_549f2_\" ><thead>    <tr>        <th class=\"blank level0\" ></th>        <th class=\"col_heading level0 col0\" >0</th>    </tr></thead><tbody>\n",
       "                <tr>\n",
       "                        <th id=\"T_549f2_level0_row0\" class=\"row_heading level0 row0\" >price</th>\n",
       "                        <td id=\"T_549f2_row0_col0\" class=\"data row0 col0\" >0.000000</td>\n",
       "            </tr>\n",
       "            <tr>\n",
       "                        <th id=\"T_549f2_level0_row1\" class=\"row_heading level0 row1\" >vehicle_type</th>\n",
       "                        <td id=\"T_549f2_row1_col0\" class=\"data row1 col0\" >0.000000</td>\n",
       "            </tr>\n",
       "            <tr>\n",
       "                        <th id=\"T_549f2_level0_row2\" class=\"row_heading level0 row2\" >registration_year</th>\n",
       "                        <td id=\"T_549f2_row2_col0\" class=\"data row2 col0\" >0.000000</td>\n",
       "            </tr>\n",
       "            <tr>\n",
       "                        <th id=\"T_549f2_level0_row3\" class=\"row_heading level0 row3\" >gearbox</th>\n",
       "                        <td id=\"T_549f2_row3_col0\" class=\"data row3 col0\" >0.000000</td>\n",
       "            </tr>\n",
       "            <tr>\n",
       "                        <th id=\"T_549f2_level0_row4\" class=\"row_heading level0 row4\" >power</th>\n",
       "                        <td id=\"T_549f2_row4_col0\" class=\"data row4 col0\" >0.000000</td>\n",
       "            </tr>\n",
       "            <tr>\n",
       "                        <th id=\"T_549f2_level0_row5\" class=\"row_heading level0 row5\" >model</th>\n",
       "                        <td id=\"T_549f2_row5_col0\" class=\"data row5 col0\" >0.000000</td>\n",
       "            </tr>\n",
       "            <tr>\n",
       "                        <th id=\"T_549f2_level0_row6\" class=\"row_heading level0 row6\" >kilometer</th>\n",
       "                        <td id=\"T_549f2_row6_col0\" class=\"data row6 col0\" >0.000000</td>\n",
       "            </tr>\n",
       "            <tr>\n",
       "                        <th id=\"T_549f2_level0_row7\" class=\"row_heading level0 row7\" >fuel_type</th>\n",
       "                        <td id=\"T_549f2_row7_col0\" class=\"data row7 col0\" >0.000000</td>\n",
       "            </tr>\n",
       "            <tr>\n",
       "                        <th id=\"T_549f2_level0_row8\" class=\"row_heading level0 row8\" >brand</th>\n",
       "                        <td id=\"T_549f2_row8_col0\" class=\"data row8 col0\" >0.000000</td>\n",
       "            </tr>\n",
       "            <tr>\n",
       "                        <th id=\"T_549f2_level0_row9\" class=\"row_heading level0 row9\" >repaired</th>\n",
       "                        <td id=\"T_549f2_row9_col0\" class=\"data row9 col0\" >0.000000</td>\n",
       "            </tr>\n",
       "    </tbody></table>"
      ],
      "text/plain": [
       "<pandas.io.formats.style.Styler at 0x7fe8caaefa90>"
      ]
     },
     "execution_count": 40,
     "metadata": {},
     "output_type": "execute_result"
    }
   ],
   "source": [
    "#Проверим еще раз датафрейм на пропуски, в %\n",
    "pd.DataFrame(round(data.isna().mean()*100)).style.background_gradient('coolwarm')"
   ]
  },
  {
   "cell_type": "markdown",
   "metadata": {},
   "source": [
    "Пропуски все обработаны."
   ]
  },
  {
   "cell_type": "code",
   "execution_count": 41,
   "metadata": {},
   "outputs": [
    {
     "name": "stdout",
     "output_type": "stream",
     "text": [
      "<class 'pandas.core.frame.DataFrame'>\n",
      "Int64Index: 288074 entries, 1 to 354368\n",
      "Data columns (total 10 columns):\n",
      " #   Column             Non-Null Count   Dtype \n",
      "---  ------             --------------   ----- \n",
      " 0   price              288074 non-null  int64 \n",
      " 1   vehicle_type       288074 non-null  object\n",
      " 2   registration_year  288074 non-null  int64 \n",
      " 3   gearbox            288074 non-null  object\n",
      " 4   power              288074 non-null  int64 \n",
      " 5   model              288074 non-null  object\n",
      " 6   kilometer          288074 non-null  int64 \n",
      " 7   fuel_type          288074 non-null  object\n",
      " 8   brand              288074 non-null  object\n",
      " 9   repaired           288074 non-null  object\n",
      "dtypes: int64(4), object(6)\n",
      "memory usage: 24.2+ MB\n"
     ]
    }
   ],
   "source": [
    "data.info()"
   ]
  },
  {
   "cell_type": "markdown",
   "metadata": {},
   "source": [
    "#### Вывод:\n",
    "* Мы загрузили и ознакомились с представленным датафреймом, всего в датафрейме 16 столбцов и 354 369 записи, пропуски были выявлены в следующих признаках: VehicleType - тип автомобильного кузова, Gearbox - тип коробки передач, Model - модель автомобиля, FuelType - тип топлива и Repaired - была машина в ремонте или нет. \n",
    "* Провели предобработку данных:<br>\n",
    "Было обнаружено 4 дубликата, которые мы устранили. Удалили признаки, которые являлись неинформативными, а так же обработали аномалии в столбцах. <br>\n",
    "Теперь в датафрейме 10 столбцов и 303 447 записи.\n"
   ]
  },
  {
   "cell_type": "markdown",
   "metadata": {},
   "source": [
    "## Подготовка выборок для обучения моделей"
   ]
  },
  {
   "cell_type": "markdown",
   "metadata": {},
   "source": [
    "Признаки:\n",
    "* vehicle_type, registration_year, gearbox, power, model, kilometer, fuel_type, brand, repaired\n",
    "<br>\n",
    "\n",
    "Целевой признак:\n",
    "* price              "
   ]
  },
  {
   "cell_type": "code",
   "execution_count": 42,
   "metadata": {},
   "outputs": [],
   "source": [
    "#Объявим две переменные\n",
    "features = data.drop('price', axis=1)\n",
    "target = data['price']"
   ]
  },
  {
   "cell_type": "code",
   "execution_count": 43,
   "metadata": {},
   "outputs": [
    {
     "name": "stdout",
     "output_type": "stream",
     "text": [
      "Requirement already satisfied: fast_ml in /opt/conda/lib/python3.9/site-packages (3.68)\n"
     ]
    }
   ],
   "source": [
    "#Разделяем на три выборки: тренировочную, тестовую и валидационную\n",
    "!pip install fast_ml\n",
    "from fast_ml.model_development import train_valid_test_split\n",
    "features_train, target_train, features_valid, target_valid, features_test, target_test = train_valid_test_split(data, \n",
    "                                                                                                                target = 'price',\n",
    "                                                                                                                train_size=0.6, \n",
    "                                                                                                                valid_size=0.2, \n",
    "                                                                                                                test_size=0.2)"
   ]
  },
  {
   "cell_type": "code",
   "execution_count": 44,
   "metadata": {},
   "outputs": [
    {
     "name": "stdout",
     "output_type": "stream",
     "text": [
      "Размер обучающей выборки:\n",
      "(172844, 9)\n",
      "(172844,)\n",
      "Размер тестовой выборки:\n",
      "(57615, 9)\n",
      "(57615,)\n",
      "Размер валидационной выборки:\n",
      "(57615, 9)\n",
      "(57615,)\n"
     ]
    }
   ],
   "source": [
    "#Проверяем размер выборок\n",
    "print('Размер обучающей выборки:')\n",
    "print(features_train.shape)\n",
    "print(target_train.shape)\n",
    "\n",
    "print('Размер тестовой выборки:')\n",
    "print(features_test.shape)\n",
    "print(target_test.shape)\n",
    "\n",
    "print('Размер валидационной выборки:')\n",
    "print(features_valid.shape)\n",
    "print(target_valid.shape)"
   ]
  },
  {
   "cell_type": "code",
   "execution_count": 46,
   "metadata": {},
   "outputs": [
    {
     "name": "stdout",
     "output_type": "stream",
     "text": [
      "<class 'pandas.core.frame.DataFrame'>\n",
      "Int64Index: 288074 entries, 1 to 354368\n",
      "Data columns (total 10 columns):\n",
      " #   Column             Non-Null Count   Dtype \n",
      "---  ------             --------------   ----- \n",
      " 0   price              288074 non-null  int64 \n",
      " 1   vehicle_type       288074 non-null  object\n",
      " 2   registration_year  288074 non-null  int64 \n",
      " 3   gearbox            288074 non-null  object\n",
      " 4   power              288074 non-null  int64 \n",
      " 5   model              288074 non-null  object\n",
      " 6   kilometer          288074 non-null  int64 \n",
      " 7   fuel_type          288074 non-null  object\n",
      " 8   brand              288074 non-null  object\n",
      " 9   repaired           288074 non-null  object\n",
      "dtypes: int64(4), object(6)\n",
      "memory usage: 24.2+ MB\n"
     ]
    }
   ],
   "source": [
    "data.info()"
   ]
  },
  {
   "cell_type": "code",
   "execution_count": 47,
   "metadata": {},
   "outputs": [
    {
     "data": {
      "text/html": [
       "<div>\n",
       "<style scoped>\n",
       "    .dataframe tbody tr th:only-of-type {\n",
       "        vertical-align: middle;\n",
       "    }\n",
       "\n",
       "    .dataframe tbody tr th {\n",
       "        vertical-align: top;\n",
       "    }\n",
       "\n",
       "    .dataframe thead th {\n",
       "        text-align: right;\n",
       "    }\n",
       "</style>\n",
       "<table border=\"1\" class=\"dataframe\">\n",
       "  <thead>\n",
       "    <tr style=\"text-align: right;\">\n",
       "      <th></th>\n",
       "      <th>price</th>\n",
       "      <th>vehicle_type</th>\n",
       "      <th>registration_year</th>\n",
       "      <th>gearbox</th>\n",
       "      <th>power</th>\n",
       "      <th>model</th>\n",
       "      <th>kilometer</th>\n",
       "      <th>fuel_type</th>\n",
       "      <th>brand</th>\n",
       "      <th>repaired</th>\n",
       "    </tr>\n",
       "  </thead>\n",
       "  <tbody>\n",
       "    <tr>\n",
       "      <th>1</th>\n",
       "      <td>18300</td>\n",
       "      <td>coupe</td>\n",
       "      <td>2011</td>\n",
       "      <td>manual</td>\n",
       "      <td>190</td>\n",
       "      <td>unknown</td>\n",
       "      <td>125000</td>\n",
       "      <td>petrol</td>\n",
       "      <td>audi</td>\n",
       "      <td>yes</td>\n",
       "    </tr>\n",
       "    <tr>\n",
       "      <th>2</th>\n",
       "      <td>9800</td>\n",
       "      <td>suv</td>\n",
       "      <td>2004</td>\n",
       "      <td>auto</td>\n",
       "      <td>163</td>\n",
       "      <td>grand</td>\n",
       "      <td>125000</td>\n",
       "      <td>petrol</td>\n",
       "      <td>jeep</td>\n",
       "      <td>unknown</td>\n",
       "    </tr>\n",
       "    <tr>\n",
       "      <th>3</th>\n",
       "      <td>1500</td>\n",
       "      <td>small</td>\n",
       "      <td>2001</td>\n",
       "      <td>manual</td>\n",
       "      <td>75</td>\n",
       "      <td>golf</td>\n",
       "      <td>150000</td>\n",
       "      <td>petrol</td>\n",
       "      <td>volkswagen</td>\n",
       "      <td>no</td>\n",
       "    </tr>\n",
       "    <tr>\n",
       "      <th>4</th>\n",
       "      <td>3600</td>\n",
       "      <td>small</td>\n",
       "      <td>2008</td>\n",
       "      <td>manual</td>\n",
       "      <td>69</td>\n",
       "      <td>fabia</td>\n",
       "      <td>90000</td>\n",
       "      <td>petrol</td>\n",
       "      <td>skoda</td>\n",
       "      <td>no</td>\n",
       "    </tr>\n",
       "    <tr>\n",
       "      <th>5</th>\n",
       "      <td>650</td>\n",
       "      <td>sedan</td>\n",
       "      <td>1995</td>\n",
       "      <td>manual</td>\n",
       "      <td>102</td>\n",
       "      <td>3er</td>\n",
       "      <td>150000</td>\n",
       "      <td>petrol</td>\n",
       "      <td>bmw</td>\n",
       "      <td>yes</td>\n",
       "    </tr>\n",
       "  </tbody>\n",
       "</table>\n",
       "</div>"
      ],
      "text/plain": [
       "   price vehicle_type  registration_year gearbox  power    model  kilometer  \\\n",
       "1  18300        coupe               2011  manual    190  unknown     125000   \n",
       "2   9800          suv               2004    auto    163    grand     125000   \n",
       "3   1500        small               2001  manual     75     golf     150000   \n",
       "4   3600        small               2008  manual     69    fabia      90000   \n",
       "5    650        sedan               1995  manual    102      3er     150000   \n",
       "\n",
       "  fuel_type       brand repaired  \n",
       "1    petrol        audi      yes  \n",
       "2    petrol        jeep  unknown  \n",
       "3    petrol  volkswagen       no  \n",
       "4    petrol       skoda       no  \n",
       "5    petrol         bmw      yes  "
      ]
     },
     "execution_count": 47,
     "metadata": {},
     "output_type": "execute_result"
    }
   ],
   "source": [
    "data.head()"
   ]
  },
  {
   "cell_type": "code",
   "execution_count": 48,
   "metadata": {},
   "outputs": [
    {
     "data": {
      "text/html": [
       "<div>\n",
       "<style scoped>\n",
       "    .dataframe tbody tr th:only-of-type {\n",
       "        vertical-align: middle;\n",
       "    }\n",
       "\n",
       "    .dataframe tbody tr th {\n",
       "        vertical-align: top;\n",
       "    }\n",
       "\n",
       "    .dataframe thead th {\n",
       "        text-align: right;\n",
       "    }\n",
       "</style>\n",
       "<table border=\"1\" class=\"dataframe\">\n",
       "  <thead>\n",
       "    <tr style=\"text-align: right;\">\n",
       "      <th></th>\n",
       "      <th>vehicle_type</th>\n",
       "      <th>registration_year</th>\n",
       "      <th>gearbox</th>\n",
       "      <th>power</th>\n",
       "      <th>model</th>\n",
       "      <th>kilometer</th>\n",
       "      <th>fuel_type</th>\n",
       "      <th>brand</th>\n",
       "      <th>repaired</th>\n",
       "    </tr>\n",
       "  </thead>\n",
       "  <tbody>\n",
       "    <tr>\n",
       "      <th>33268</th>\n",
       "      <td>convertible</td>\n",
       "      <td>-1.238058</td>\n",
       "      <td>manual</td>\n",
       "      <td>-0.065386</td>\n",
       "      <td>golf</td>\n",
       "      <td>0.595073</td>\n",
       "      <td>petrol</td>\n",
       "      <td>volkswagen</td>\n",
       "      <td>no</td>\n",
       "    </tr>\n",
       "    <tr>\n",
       "      <th>67525</th>\n",
       "      <td>wagon</td>\n",
       "      <td>1.105284</td>\n",
       "      <td>auto</td>\n",
       "      <td>1.452801</td>\n",
       "      <td>a6</td>\n",
       "      <td>0.595073</td>\n",
       "      <td>petrol</td>\n",
       "      <td>audi</td>\n",
       "      <td>no</td>\n",
       "    </tr>\n",
       "    <tr>\n",
       "      <th>256163</th>\n",
       "      <td>sedan</td>\n",
       "      <td>-0.769389</td>\n",
       "      <td>manual</td>\n",
       "      <td>0.632160</td>\n",
       "      <td>5er</td>\n",
       "      <td>0.595073</td>\n",
       "      <td>petrol</td>\n",
       "      <td>bmw</td>\n",
       "      <td>yes</td>\n",
       "    </tr>\n",
       "    <tr>\n",
       "      <th>36569</th>\n",
       "      <td>sedan</td>\n",
       "      <td>-0.144498</td>\n",
       "      <td>auto</td>\n",
       "      <td>2.027250</td>\n",
       "      <td>7er</td>\n",
       "      <td>0.595073</td>\n",
       "      <td>petrol</td>\n",
       "      <td>bmw</td>\n",
       "      <td>no</td>\n",
       "    </tr>\n",
       "    <tr>\n",
       "      <th>185710</th>\n",
       "      <td>coupe</td>\n",
       "      <td>0.949061</td>\n",
       "      <td>manual</td>\n",
       "      <td>0.837320</td>\n",
       "      <td>scirocco</td>\n",
       "      <td>-0.085237</td>\n",
       "      <td>petrol</td>\n",
       "      <td>volkswagen</td>\n",
       "      <td>yes</td>\n",
       "    </tr>\n",
       "  </tbody>\n",
       "</table>\n",
       "</div>"
      ],
      "text/plain": [
       "       vehicle_type  registration_year gearbox     power     model  kilometer  \\\n",
       "33268   convertible          -1.238058  manual -0.065386      golf   0.595073   \n",
       "67525         wagon           1.105284    auto  1.452801        a6   0.595073   \n",
       "256163        sedan          -0.769389  manual  0.632160       5er   0.595073   \n",
       "36569         sedan          -0.144498    auto  2.027250       7er   0.595073   \n",
       "185710        coupe           0.949061  manual  0.837320  scirocco  -0.085237   \n",
       "\n",
       "       fuel_type       brand repaired  \n",
       "33268     petrol  volkswagen       no  \n",
       "67525     petrol        audi       no  \n",
       "256163    petrol         bmw      yes  \n",
       "36569     petrol         bmw       no  \n",
       "185710    petrol  volkswagen      yes  "
      ]
     },
     "execution_count": 48,
     "metadata": {},
     "output_type": "execute_result"
    }
   ],
   "source": [
    "#Масштабируем признаки \n",
    "#Признаки, которые будем масштабировать: registration_year, power, kilometer \n",
    "#(убрала из масщтабирования целевой признак'price', так как возникала ошибка \"['price'] not in index\")\n",
    "\n",
    "numeric = ['registration_year', 'power', 'kilometer']\n",
    "\n",
    "scaler = StandardScaler()\n",
    "scaler.fit(features_train[numeric]) \n",
    "\n",
    "features_train[numeric]= scaler.transform(features_train[numeric])\n",
    "features_test[numeric] = scaler.transform(features_test[numeric]) \n",
    "features_valid[numeric] = scaler.transform(features_valid[numeric]) \n",
    "\n",
    "pd.options.mode.chained_assignment = None\n",
    "features_train.head()"
   ]
  },
  {
   "cell_type": "code",
   "execution_count": 201,
   "metadata": {},
   "outputs": [
    {
     "data": {
      "text/plain": [
       "volkswagen        62755\n",
       "bmw               31403\n",
       "opel              31395\n",
       "mercedes_benz     26359\n",
       "audi              24931\n",
       "ford              19836\n",
       "renault           13499\n",
       "peugeot            9255\n",
       "fiat               7401\n",
       "seat               5722\n",
       "skoda              4921\n",
       "mazda              4644\n",
       "smart              4472\n",
       "citroen            4155\n",
       "toyota             3999\n",
       "nissan             3918\n",
       "hyundai            3078\n",
       "mini               2960\n",
       "volvo              2788\n",
       "mitsubishi         2416\n",
       "honda              2344\n",
       "kia                2077\n",
       "alfa_romeo         1944\n",
       "suzuki             1910\n",
       "sonstige_autos     1475\n",
       "chevrolet          1424\n",
       "chrysler           1116\n",
       "dacia               800\n",
       "subaru              618\n",
       "daihatsu            583\n",
       "jeep                558\n",
       "saab                464\n",
       "land_rover          464\n",
       "porsche             452\n",
       "jaguar              403\n",
       "daewoo              390\n",
       "lancia              365\n",
       "rover               347\n",
       "trabant             276\n",
       "lada                157\n",
       "Name: brand, dtype: int64"
      ]
     },
     "execution_count": 201,
     "metadata": {},
     "output_type": "execute_result"
    }
   ],
   "source": [
    "data['brand'].value_counts()"
   ]
  },
  {
   "cell_type": "code",
   "execution_count": 202,
   "metadata": {},
   "outputs": [
    {
     "data": {
      "text/plain": [
       "golf                  24213\n",
       "other                 19603\n",
       "3er                   17106\n",
       "unknown               10286\n",
       "polo                  10211\n",
       "                      ...  \n",
       "serie_2                   5\n",
       "elefantino                4\n",
       "serie_3                   3\n",
       "rangerover                2\n",
       "range_rover_evoque        2\n",
       "Name: model, Length: 250, dtype: int64"
      ]
     },
     "execution_count": 202,
     "metadata": {},
     "output_type": "execute_result"
    }
   ],
   "source": [
    "data['model'].value_counts()"
   ]
  },
  {
   "cell_type": "code",
   "execution_count": 58,
   "metadata": {},
   "outputs": [
    {
     "data": {
      "text/html": [
       "<div>\n",
       "<style scoped>\n",
       "    .dataframe tbody tr th:only-of-type {\n",
       "        vertical-align: middle;\n",
       "    }\n",
       "\n",
       "    .dataframe tbody tr th {\n",
       "        vertical-align: top;\n",
       "    }\n",
       "\n",
       "    .dataframe thead th {\n",
       "        text-align: right;\n",
       "    }\n",
       "</style>\n",
       "<table border=\"1\" class=\"dataframe\">\n",
       "  <thead>\n",
       "    <tr style=\"text-align: right;\">\n",
       "      <th></th>\n",
       "      <th>vehicle_type</th>\n",
       "      <th>registration_year</th>\n",
       "      <th>gearbox</th>\n",
       "      <th>power</th>\n",
       "      <th>model</th>\n",
       "      <th>kilometer</th>\n",
       "      <th>fuel_type</th>\n",
       "      <th>brand</th>\n",
       "      <th>repaired</th>\n",
       "    </tr>\n",
       "  </thead>\n",
       "  <tbody>\n",
       "    <tr>\n",
       "      <th>54130</th>\n",
       "      <td>coupe</td>\n",
       "      <td>-0.610764</td>\n",
       "      <td>manual</td>\n",
       "      <td>-0.370485</td>\n",
       "      <td>a3</td>\n",
       "      <td>0.595084</td>\n",
       "      <td>petrol</td>\n",
       "      <td>audi</td>\n",
       "      <td>no</td>\n",
       "    </tr>\n",
       "    <tr>\n",
       "      <th>59590</th>\n",
       "      <td>bus</td>\n",
       "      <td>0.790457</td>\n",
       "      <td>manual</td>\n",
       "      <td>0.244719</td>\n",
       "      <td>megane</td>\n",
       "      <td>0.595084</td>\n",
       "      <td>petrol</td>\n",
       "      <td>renault</td>\n",
       "      <td>no</td>\n",
       "    </tr>\n",
       "    <tr>\n",
       "      <th>287369</th>\n",
       "      <td>wagon</td>\n",
       "      <td>0.012001</td>\n",
       "      <td>manual</td>\n",
       "      <td>-0.247444</td>\n",
       "      <td>3_reihe</td>\n",
       "      <td>0.595084</td>\n",
       "      <td>petrol</td>\n",
       "      <td>peugeot</td>\n",
       "      <td>no</td>\n",
       "    </tr>\n",
       "    <tr>\n",
       "      <th>5774</th>\n",
       "      <td>suv</td>\n",
       "      <td>0.946148</td>\n",
       "      <td>manual</td>\n",
       "      <td>0.429280</td>\n",
       "      <td>yeti</td>\n",
       "      <td>0.595084</td>\n",
       "      <td>petrol</td>\n",
       "      <td>skoda</td>\n",
       "      <td>no</td>\n",
       "    </tr>\n",
       "    <tr>\n",
       "      <th>296535</th>\n",
       "      <td>sedan</td>\n",
       "      <td>0.790457</td>\n",
       "      <td>auto</td>\n",
       "      <td>2.459453</td>\n",
       "      <td>a6</td>\n",
       "      <td>0.595084</td>\n",
       "      <td>petrol</td>\n",
       "      <td>audi</td>\n",
       "      <td>no</td>\n",
       "    </tr>\n",
       "  </tbody>\n",
       "</table>\n",
       "</div>"
      ],
      "text/plain": [
       "       vehicle_type  registration_year gearbox     power    model  kilometer  \\\n",
       "54130         coupe          -0.610764  manual -0.370485       a3   0.595084   \n",
       "59590           bus           0.790457  manual  0.244719   megane   0.595084   \n",
       "287369        wagon           0.012001  manual -0.247444  3_reihe   0.595084   \n",
       "5774            suv           0.946148  manual  0.429280     yeti   0.595084   \n",
       "296535        sedan           0.790457    auto  2.459453       a6   0.595084   \n",
       "\n",
       "       fuel_type    brand repaired  \n",
       "54130     petrol     audi       no  \n",
       "59590     petrol  renault       no  \n",
       "287369    petrol  peugeot       no  \n",
       "5774      petrol    skoda       no  \n",
       "296535    petrol     audi       no  "
      ]
     },
     "execution_count": 58,
     "metadata": {},
     "output_type": "execute_result"
    }
   ],
   "source": [
    "#Масштабируем признаки (One-Hot Encoding, OHE), но сначала разделим на выборки\n",
    "X_train_ohe, X_test_ohe, y_train_ohe, y_test_ohe = train_test_split(features, target, test_size=0.4)\n",
    "\n",
    "X_valid_ohe, X_test_ohe, y_valid_ohe, y_test_ohe = train_test_split(X_test_ohe, y_test_ohe, test_size=0.5)\n",
    "\n",
    "numeric_ohe = ['registration_year','power','kilometer']\n",
    "\n",
    "scaler = StandardScaler()\n",
    "\n",
    "X_train_ohe[numeric_ohe]= scaler.fit_transform(X_train_ohe[numeric_ohe])\n",
    "X_test_ohe[numeric_ohe] = scaler.transform(X_test_ohe[numeric_ohe]) \n",
    "X_valid_ohe[numeric_ohe] = scaler.transform(X_valid_ohe[numeric_ohe]) \n",
    "\n",
    "pd.options.mode.chained_assignment = None\n",
    "X_train_ohe.head()"
   ]
  },
  {
   "cell_type": "code",
   "execution_count": 61,
   "metadata": {},
   "outputs": [
    {
     "name": "stdout",
     "output_type": "stream",
     "text": [
      "Requirement already satisfied: category_encoders in /opt/conda/lib/python3.9/site-packages (2.6.1)\n",
      "Requirement already satisfied: pandas>=1.0.5 in /opt/conda/lib/python3.9/site-packages (from category_encoders) (1.2.4)\n",
      "Requirement already satisfied: patsy>=0.5.1 in /opt/conda/lib/python3.9/site-packages (from category_encoders) (0.5.2)\n",
      "Requirement already satisfied: scipy>=1.0.0 in /opt/conda/lib/python3.9/site-packages (from category_encoders) (1.9.1)\n",
      "Requirement already satisfied: numpy>=1.14.0 in /opt/conda/lib/python3.9/site-packages (from category_encoders) (1.21.1)\n",
      "Requirement already satisfied: scikit-learn>=0.20.0 in /opt/conda/lib/python3.9/site-packages (from category_encoders) (0.24.1)\n",
      "Requirement already satisfied: statsmodels>=0.9.0 in /opt/conda/lib/python3.9/site-packages (from category_encoders) (0.13.2)\n",
      "Requirement already satisfied: python-dateutil>=2.7.3 in /opt/conda/lib/python3.9/site-packages (from pandas>=1.0.5->category_encoders) (2.8.1)\n",
      "Requirement already satisfied: pytz>=2017.3 in /opt/conda/lib/python3.9/site-packages (from pandas>=1.0.5->category_encoders) (2021.1)\n",
      "Requirement already satisfied: six in /opt/conda/lib/python3.9/site-packages (from patsy>=0.5.1->category_encoders) (1.16.0)\n",
      "Requirement already satisfied: joblib>=0.11 in /opt/conda/lib/python3.9/site-packages (from scikit-learn>=0.20.0->category_encoders) (1.1.0)\n",
      "Requirement already satisfied: threadpoolctl>=2.0.0 in /opt/conda/lib/python3.9/site-packages (from scikit-learn>=0.20.0->category_encoders) (3.1.0)\n",
      "Requirement already satisfied: packaging>=21.3 in /opt/conda/lib/python3.9/site-packages (from statsmodels>=0.9.0->category_encoders) (21.3)\n",
      "Requirement already satisfied: pyparsing!=3.0.5,>=2.0.2 in /opt/conda/lib/python3.9/site-packages (from packaging>=21.3->statsmodels>=0.9.0->category_encoders) (2.4.7)\n"
     ]
    }
   ],
   "source": [
    "#Необходимо закодировать данные\n",
    "#Применяю технику прямого кодирования  (англ. One-Hot Encoding, OHE)\n",
    "\n",
    "!pip install category_encoders\n",
    "from category_encoders.m_estimate import MEstimateEncoder\n",
    "\n",
    "mee_encoder = MEstimateEncoder(cols=['model','brand'], \n",
    "                               handle_unknown='value', \n",
    "                               handle_missing = 'value').fit(X_train_ohe, y_train_ohe) \n",
    "\n",
    "mee_enc_ohe_x_train = mee_encoder.transform(X_train_ohe)\n",
    "mee_enc_ohe_x_test = mee_encoder.transform(X_test_ohe)\n",
    "mee_enc_ohe_x_valid = mee_encoder.transform(X_valid_ohe)\n",
    "\n",
    "ohe = OneHotEncoder(drop='first', sparse=False)    \n",
    "\n",
    "X_train_encoded_ohe = ohe.fit_transform(mee_enc_ohe_x_train.select_dtypes(include='object'))\n",
    "X_test_encoded_ohe = ohe.transform(mee_enc_ohe_x_test.select_dtypes(include='object'))\n",
    "X_valid_encoded_ohe = ohe.transform(mee_enc_ohe_x_valid.select_dtypes(include='object'))\n",
    "\n",
    "#Для каждой из выборок объединяем закодированные данные\n",
    "X_train_final_ohe = np.concatenate([X_train_encoded_ohe, \n",
    "                                    X_train_ohe.select_dtypes(include='int64')], axis=1)\n",
    "\n",
    "X_test_final_ohe = np.concatenate([X_test_encoded_ohe, \n",
    "                                    X_test_ohe.select_dtypes(include='int64')], axis=1)\n",
    "\n",
    "X_valid_final_ohe = np.concatenate([X_valid_encoded_ohe, \n",
    "                                    X_valid_ohe.select_dtypes(include='int64')], axis=1)\n"
   ]
  },
  {
   "cell_type": "code",
   "execution_count": 62,
   "metadata": {},
   "outputs": [
    {
     "name": "stdout",
     "output_type": "stream",
     "text": [
      "Размер обучающей выборки:\n",
      "(172844, 17)\n",
      "(172844,)\n",
      "Размер тестовой выборки:\n",
      "(57615, 17)\n",
      "(57615,)\n",
      "Размер валидационной выборки:\n",
      "(57615, 17)\n",
      "(57615,)\n"
     ]
    }
   ],
   "source": [
    "#Проверяем размер выборок\n",
    "print('Размер обучающей выборки:')\n",
    "print(X_train_final_ohe.shape)\n",
    "print(y_train_ohe.shape)\n",
    "\n",
    "print('Размер тестовой выборки:')\n",
    "print(X_test_final_ohe.shape)\n",
    "print(y_test_ohe.shape)\n",
    "\n",
    "print('Размер валидационной выборки:')\n",
    "print(X_valid_final_ohe.shape)\n",
    "print(y_valid_ohe.shape)"
   ]
  },
  {
   "cell_type": "code",
   "execution_count": 63,
   "metadata": {},
   "outputs": [
    {
     "data": {
      "text/html": [
       "<div>\n",
       "<style scoped>\n",
       "    .dataframe tbody tr th:only-of-type {\n",
       "        vertical-align: middle;\n",
       "    }\n",
       "\n",
       "    .dataframe tbody tr th {\n",
       "        vertical-align: top;\n",
       "    }\n",
       "\n",
       "    .dataframe thead th {\n",
       "        text-align: right;\n",
       "    }\n",
       "</style>\n",
       "<table border=\"1\" class=\"dataframe\">\n",
       "  <thead>\n",
       "    <tr style=\"text-align: right;\">\n",
       "      <th></th>\n",
       "      <th>vehicle_type</th>\n",
       "      <th>registration_year</th>\n",
       "      <th>gearbox</th>\n",
       "      <th>power</th>\n",
       "      <th>model</th>\n",
       "      <th>kilometer</th>\n",
       "      <th>fuel_type</th>\n",
       "      <th>brand</th>\n",
       "      <th>repaired</th>\n",
       "    </tr>\n",
       "  </thead>\n",
       "  <tbody>\n",
       "    <tr>\n",
       "      <th>173550</th>\n",
       "      <td>small</td>\n",
       "      <td>-3.267498</td>\n",
       "      <td>manual</td>\n",
       "      <td>-0.597649</td>\n",
       "      <td>polo</td>\n",
       "      <td>-1.583384</td>\n",
       "      <td>petrol</td>\n",
       "      <td>volkswagen</td>\n",
       "      <td>unknown</td>\n",
       "    </tr>\n",
       "    <tr>\n",
       "      <th>47466</th>\n",
       "      <td>sedan</td>\n",
       "      <td>0.168161</td>\n",
       "      <td>unknown</td>\n",
       "      <td>2.416821</td>\n",
       "      <td>5er</td>\n",
       "      <td>0.594006</td>\n",
       "      <td>petrol</td>\n",
       "      <td>bmw</td>\n",
       "      <td>unknown</td>\n",
       "    </tr>\n",
       "    <tr>\n",
       "      <th>218777</th>\n",
       "      <td>coupe</td>\n",
       "      <td>-0.612670</td>\n",
       "      <td>manual</td>\n",
       "      <td>0.632747</td>\n",
       "      <td>a3</td>\n",
       "      <td>0.594006</td>\n",
       "      <td>petrol</td>\n",
       "      <td>audi</td>\n",
       "      <td>no</td>\n",
       "    </tr>\n",
       "    <tr>\n",
       "      <th>296173</th>\n",
       "      <td>bus</td>\n",
       "      <td>0.636660</td>\n",
       "      <td>manual</td>\n",
       "      <td>-0.290050</td>\n",
       "      <td>altea</td>\n",
       "      <td>0.594006</td>\n",
       "      <td>petrol</td>\n",
       "      <td>seat</td>\n",
       "      <td>no</td>\n",
       "    </tr>\n",
       "    <tr>\n",
       "      <th>251824</th>\n",
       "      <td>sedan</td>\n",
       "      <td>0.948993</td>\n",
       "      <td>manual</td>\n",
       "      <td>0.837813</td>\n",
       "      <td>cc</td>\n",
       "      <td>-1.855558</td>\n",
       "      <td>petrol</td>\n",
       "      <td>volkswagen</td>\n",
       "      <td>no</td>\n",
       "    </tr>\n",
       "  </tbody>\n",
       "</table>\n",
       "</div>"
      ],
      "text/plain": [
       "       vehicle_type  registration_year  gearbox     power  model  kilometer  \\\n",
       "173550        small          -3.267498   manual -0.597649   polo  -1.583384   \n",
       "47466         sedan           0.168161  unknown  2.416821    5er   0.594006   \n",
       "218777        coupe          -0.612670   manual  0.632747     a3   0.594006   \n",
       "296173          bus           0.636660   manual -0.290050  altea   0.594006   \n",
       "251824        sedan           0.948993   manual  0.837813     cc  -1.855558   \n",
       "\n",
       "       fuel_type       brand repaired  \n",
       "173550    petrol  volkswagen  unknown  \n",
       "47466     petrol         bmw  unknown  \n",
       "218777    petrol        audi       no  \n",
       "296173    petrol        seat       no  \n",
       "251824    petrol  volkswagen       no  "
      ]
     },
     "execution_count": 63,
     "metadata": {},
     "output_type": "execute_result"
    }
   ],
   "source": [
    "#Масштабируем признаки (OrdinalEncoder), но сначала разделим на выборки\n",
    "X_train, X_test, y_train, y_test = train_test_split(features, target, test_size=0.4)\n",
    "\n",
    "X_valid, X_test, y_valid, y_test = train_test_split(X_test, y_test, test_size=0.5)\n",
    "\n",
    "numeric_oe = ['registration_year', 'power', 'kilometer']\n",
    "\n",
    "scaler = StandardScaler()\n",
    "scaler.fit(X_train[numeric_oe]) \n",
    "\n",
    "X_train[numeric_ohe]= scaler.transform(X_train[numeric_oe])\n",
    "X_test[numeric_ohe]= scaler.transform(X_test[numeric_oe])\n",
    "X_valid[numeric_ohe]= scaler.transform(X_valid[numeric_oe])\n",
    "\n",
    "pd.options.mode.chained_assignment = None\n",
    "X_train.head()"
   ]
  },
  {
   "cell_type": "code",
   "execution_count": 66,
   "metadata": {},
   "outputs": [],
   "source": [
    "#Необходимо закодировать данные\n",
    "#Применяю технику порядкового кодирования  (OrdinalEncoder)\n",
    "\n",
    "#создаем объект OrdinalEncoder\n",
    "encoder = OrdinalEncoder(handle_unknown='use_encoded_value', unknown_value=-1)\n",
    "\n",
    "# применяем OrdinalEncoder к обучающей выборке\n",
    "X_train_encoded = encoder.fit_transform(X_train)\n",
    "\n",
    "# применяем OrdinalEncoder к тестовой выборке\n",
    "X_test_encoded = encoder.transform(X_test)\n",
    "\n",
    "# применяем OrdinalEncoder к валидационной выборке\n",
    "X_valid_encoded = encoder.transform(X_valid)"
   ]
  },
  {
   "cell_type": "code",
   "execution_count": 68,
   "metadata": {},
   "outputs": [
    {
     "name": "stdout",
     "output_type": "stream",
     "text": [
      "Размер обучающей выборки:\n",
      "(172844, 9)\n",
      "(172844,)\n",
      "Размер тестовой выборки:\n",
      "(57615, 9)\n",
      "(57615,)\n",
      "Размер валидационной выборки:\n",
      "(57615, 9)\n",
      "(57615,)\n"
     ]
    }
   ],
   "source": [
    "#Проверяем размер выборок\n",
    "print('Размер обучающей выборки:')\n",
    "print(X_train_encoded.shape)\n",
    "print(y_train.shape)\n",
    "\n",
    "print('Размер тестовой выборки:')\n",
    "print(X_test_encoded.shape)\n",
    "print(y_test.shape)\n",
    "\n",
    "#Проверяем размер выборок\n",
    "print('Размер валидационной выборки:')\n",
    "print(X_valid_encoded.shape)\n",
    "print(y_valid.shape)"
   ]
  },
  {
   "cell_type": "markdown",
   "metadata": {},
   "source": [
    "#### Вывод:\n",
    "* Мы подготовили выборки для обучения моделей"
   ]
  },
  {
   "cell_type": "markdown",
   "metadata": {},
   "source": [
    "## Обучение моделей"
   ]
  },
  {
   "cell_type": "markdown",
   "metadata": {},
   "source": [
    "**Обучим разные модели**"
   ]
  },
  {
   "cell_type": "markdown",
   "metadata": {},
   "source": [
    "**Модель Линейной регрессии - LinearRegression**"
   ]
  },
  {
   "cell_type": "code",
   "execution_count": 72,
   "metadata": {},
   "outputs": [
    {
     "name": "stdout",
     "output_type": "stream",
     "text": [
      "CPU times: user 129 ms, sys: 51.9 ms, total: 181 ms\n",
      "Wall time: 129 ms\n"
     ]
    },
    {
     "data": {
      "text/plain": [
       "LinearRegression()"
      ]
     },
     "execution_count": 72,
     "metadata": {},
     "output_type": "execute_result"
    }
   ],
   "source": [
    "%%time\n",
    "#Обучим на выборке с кодированием OHE\n",
    "model_lg_ohe = LinearRegression()\n",
    "model_lg_ohe.fit(X_train_final_ohe, y_train_ohe)"
   ]
  },
  {
   "cell_type": "code",
   "execution_count": 73,
   "metadata": {},
   "outputs": [
    {
     "name": "stdout",
     "output_type": "stream",
     "text": [
      "CPU times: user 4.81 ms, sys: 813 µs, total: 5.63 ms\n",
      "Wall time: 1.75 ms\n"
     ]
    }
   ],
   "source": [
    "%%time\n",
    "#Предскажем на выборке с кодированием OHE\n",
    "predictions_lg_train_ohe = model_lg_ohe.predict(X_valid_final_ohe)"
   ]
  },
  {
   "cell_type": "code",
   "execution_count": 74,
   "metadata": {},
   "outputs": [
    {
     "name": "stdout",
     "output_type": "stream",
     "text": [
      "RMSE наилучшей модели на валидационной выборке: 4074.663877042128\n"
     ]
    }
   ],
   "source": [
    "rmse_lg_ohe = mean_squared_error(y_valid_ohe, predictions_lg_train_ohe)**0.5\n",
    "\n",
    "print(\"RMSE наилучшей модели на валидационной выборке:\", rmse_lg_ohe)"
   ]
  },
  {
   "cell_type": "markdown",
   "metadata": {},
   "source": [
    "**Модель Случайного леса - RandomForestClassifier**"
   ]
  },
  {
   "cell_type": "code",
   "execution_count": 75,
   "metadata": {},
   "outputs": [
    {
     "data": {
      "application/vnd.jupyter.widget-view+json": {
       "model_id": "ad09a8d0ad4c4157941b03e51f2a4d67",
       "version_major": 2,
       "version_minor": 0
      },
      "text/plain": [
       "  0%|          | 0/5 [00:00<?, ?it/s]"
      ]
     },
     "metadata": {},
     "output_type": "display_data"
    },
    {
     "name": "stdout",
     "output_type": "stream",
     "text": [
      "RMSE наилучшей модели: 4421.766031648806\n",
      "Количество деревьев: 1\n",
      "Максимальная глубина: 10\n"
     ]
    }
   ],
   "source": [
    "#Обучим на выборке с кодированием OHE\n",
    "best_model_rf_ohe = None\n",
    "best_result_rf_ohe = 0\n",
    "best_est_rf_ohe = 0\n",
    "best_depth_rf_ohe = 0\n",
    "for est in tqdm (range(1, 11, 2)):\n",
    "    for depth in range(1, 11):\n",
    "        model_rf_ohe = RandomForestRegressor(random_state=12345, n_estimators=est, max_depth=depth)\n",
    "        model_rf_ohe.fit(X_train_final_ohe, y_train_ohe)\n",
    "        predicted_rf_train_ohe = model_rf_ohe.predict(X_valid_final_ohe)\n",
    "        result =  mean_squared_error(y_valid_ohe, predicted_rf_train_ohe)**0.5\n",
    "        if result > best_result_rf_ohe:\n",
    "            best_model_rf_ohe = model_rf_ohe\n",
    "            best_result_rf_ohe = result\n",
    "            best_est_rf_ohe = est\n",
    "            best_depth_rf_ohe = depth\n",
    "            \n",
    "print('RMSE наилучшей модели:', best_result_rf_ohe)\n",
    "print('Количество деревьев:', best_est_rf_ohe)\n",
    "print('Максимальная глубина:', depth)"
   ]
  },
  {
   "cell_type": "code",
   "execution_count": 76,
   "metadata": {},
   "outputs": [
    {
     "name": "stdout",
     "output_type": "stream",
     "text": [
      "CPU times: user 4 µs, sys: 0 ns, total: 4 µs\n",
      "Wall time: 6.91 µs\n"
     ]
    },
    {
     "data": {
      "text/plain": [
       "RandomForestRegressor(max_depth=10, n_estimators=1, random_state=12345)"
      ]
     },
     "execution_count": 76,
     "metadata": {},
     "output_type": "execute_result"
    }
   ],
   "source": [
    "%time\n",
    "best_model_rf_ohe = RandomForestRegressor(random_state=12345, n_estimators=1, max_depth=10)\n",
    "best_model_rf_ohe.fit(X_train_final_ohe, y_train_ohe)"
   ]
  },
  {
   "cell_type": "code",
   "execution_count": 77,
   "metadata": {},
   "outputs": [
    {
     "name": "stdout",
     "output_type": "stream",
     "text": [
      "CPU times: user 2 µs, sys: 0 ns, total: 2 µs\n",
      "Wall time: 5.48 µs\n"
     ]
    }
   ],
   "source": [
    "%time\n",
    "predicted_best_rf_ohe = best_model_rf_ohe.predict(X_valid_final_ohe)"
   ]
  },
  {
   "cell_type": "code",
   "execution_count": 78,
   "metadata": {},
   "outputs": [
    {
     "name": "stdout",
     "output_type": "stream",
     "text": [
      "RMSE наилучшей модели: 4062.4050356184166\n"
     ]
    }
   ],
   "source": [
    "rmse_rf_ohe = mean_squared_error(y_valid_ohe, predicted_best_rf_ohe)**0.5\n",
    "\n",
    "print('RMSE наилучшей модели:', rmse_rf_ohe)"
   ]
  },
  {
   "cell_type": "code",
   "execution_count": 79,
   "metadata": {},
   "outputs": [
    {
     "data": {
      "application/vnd.jupyter.widget-view+json": {
       "model_id": "b201b5c86c274f208ca65bb2b35b63fd",
       "version_major": 2,
       "version_minor": 0
      },
      "text/plain": [
       "  0%|          | 0/5 [00:00<?, ?it/s]"
      ]
     },
     "metadata": {},
     "output_type": "display_data"
    },
    {
     "name": "stdout",
     "output_type": "stream",
     "text": [
      "RMSE наилучшей модели: 3562.3265429016315\n",
      "Количество деревьев: 1\n",
      "Максимальная глубина: 10\n"
     ]
    }
   ],
   "source": [
    "#Обучим на выборке с кодированием OriginalEncoding\n",
    "best_model_rf_oe = None\n",
    "best_result_rf_oe = 0\n",
    "best_est_rf_oe = 0\n",
    "best_depth_rf_oe = 0\n",
    "for est in tqdm (range(1, 11, 2)):\n",
    "    for depth in range(1, 11):\n",
    "        model_rf_oe = RandomForestRegressor(random_state=12345, n_estimators=est, max_depth=depth)\n",
    "        model_rf_oe.fit(X_train_encoded, y_train)\n",
    "        predicted_rf_train_oe = model_rf_oe.predict(X_valid_encoded)\n",
    "        result =  mean_squared_error(y_valid, predicted_rf_train_oe)**0.5\n",
    "        if result > best_result_rf_oe:\n",
    "            best_model_rf_oe = model_rf_oe\n",
    "            best_result_rf_oe = result\n",
    "            best_est_rf_oe = est\n",
    "            best_depth_rf_oe = depth\n",
    "            \n",
    "print('RMSE наилучшей модели:', best_result_rf_oe)\n",
    "print('Количество деревьев:', best_est_rf_oe)\n",
    "print('Максимальная глубина:', depth)"
   ]
  },
  {
   "cell_type": "code",
   "execution_count": 80,
   "metadata": {},
   "outputs": [
    {
     "name": "stdout",
     "output_type": "stream",
     "text": [
      "CPU times: user 2 µs, sys: 1 µs, total: 3 µs\n",
      "Wall time: 5.72 µs\n"
     ]
    },
    {
     "data": {
      "text/plain": [
       "RandomForestRegressor(max_depth=10, n_estimators=1, random_state=12345)"
      ]
     },
     "execution_count": 80,
     "metadata": {},
     "output_type": "execute_result"
    }
   ],
   "source": [
    "%time\n",
    "best_model_rf_oe = RandomForestRegressor(random_state=12345, n_estimators=1, max_depth=10)\n",
    "best_model_rf_oe.fit(X_train_encoded, y_train)"
   ]
  },
  {
   "cell_type": "code",
   "execution_count": 81,
   "metadata": {},
   "outputs": [
    {
     "name": "stdout",
     "output_type": "stream",
     "text": [
      "CPU times: user 2 µs, sys: 0 ns, total: 2 µs\n",
      "Wall time: 5.01 µs\n"
     ]
    }
   ],
   "source": [
    "%time\n",
    "predicted_best_rf_oe = best_model_rf_oe.predict(X_valid_encoded)"
   ]
  },
  {
   "cell_type": "code",
   "execution_count": 82,
   "metadata": {},
   "outputs": [
    {
     "name": "stdout",
     "output_type": "stream",
     "text": [
      "RMSE наилучшей модели: 1981.4657841737148\n"
     ]
    }
   ],
   "source": [
    "rmse_rf_oe = mean_squared_error(y_valid, predicted_best_rf_oe)**0.5\n",
    "\n",
    "print('RMSE наилучшей модели:', rmse_rf_oe)"
   ]
  },
  {
   "cell_type": "markdown",
   "metadata": {},
   "source": [
    "**Модель бустинга - CatBoostRegressor**"
   ]
  },
  {
   "cell_type": "code",
   "execution_count": 83,
   "metadata": {},
   "outputs": [
    {
     "name": "stdout",
     "output_type": "stream",
     "text": [
      "0:\tlearn: 3569.7485104\ttotal: 739ms\tremaining: 6.66s\n",
      "9:\tlearn: 1666.6846993\ttotal: 6.43s\tremaining: 0us\n",
      "CPU times: user 5.62 s, sys: 1.12 s, total: 6.73 s\n",
      "Wall time: 7.6 s\n"
     ]
    },
    {
     "data": {
      "text/plain": [
       "<catboost.core.CatBoostRegressor at 0x7fe8ca758be0>"
      ]
     },
     "execution_count": 83,
     "metadata": {},
     "output_type": "execute_result"
    }
   ],
   "source": [
    "%%time\n",
    "#Обучим модель без учета кодирования\n",
    "cat_features = ['vehicle_type', 'gearbox', 'model', 'fuel_type', 'brand', 'repaired']\n",
    "\n",
    "model = CatBoostRegressor(depth=15, learning_rate=0.3, iterations=10)\n",
    "model.fit(X_train, y_train, cat_features=cat_features, verbose=10)"
   ]
  },
  {
   "cell_type": "code",
   "execution_count": 84,
   "metadata": {},
   "outputs": [
    {
     "name": "stdout",
     "output_type": "stream",
     "text": [
      "CPU times: user 72.9 ms, sys: 250 µs, total: 73.2 ms\n",
      "Wall time: 71 ms\n"
     ]
    }
   ],
   "source": [
    "%%time\n",
    "predict = model.predict(X_valid)"
   ]
  },
  {
   "cell_type": "code",
   "execution_count": 85,
   "metadata": {},
   "outputs": [
    {
     "name": "stdout",
     "output_type": "stream",
     "text": [
      "RMSE модели: 1730.4444646972818\n"
     ]
    }
   ],
   "source": [
    "rmse_model_cat = mean_squared_error(y_valid, predict)**0.5\n",
    "print('RMSE модели:', rmse_model_cat)"
   ]
  },
  {
   "cell_type": "code",
   "execution_count": 86,
   "metadata": {},
   "outputs": [
    {
     "name": "stdout",
     "output_type": "stream",
     "text": [
      "0:\tlearn: 4317.5284798\ttotal: 31.5ms\tremaining: 283ms\n",
      "9:\tlearn: 4066.1356376\ttotal: 317ms\tremaining: 0us\n",
      "CPU times: user 1.05 s, sys: 12.9 ms, total: 1.06 s\n",
      "Wall time: 1.74 s\n"
     ]
    },
    {
     "data": {
      "text/plain": [
       "<catboost.core.CatBoostRegressor at 0x7fe8ca7a2370>"
      ]
     },
     "execution_count": 86,
     "metadata": {},
     "output_type": "execute_result"
    }
   ],
   "source": [
    "%%time\n",
    "#Обучим на выборке с кодированием OHE\n",
    "\n",
    "model_cat_ohe = CatBoostRegressor(depth=15, learning_rate=0.3, iterations=10)\n",
    "model_cat_ohe.fit(X_train_final_ohe, y_train_ohe, verbose=10)"
   ]
  },
  {
   "cell_type": "code",
   "execution_count": 87,
   "metadata": {},
   "outputs": [
    {
     "name": "stdout",
     "output_type": "stream",
     "text": [
      "CPU times: user 220 ms, sys: 3 µs, total: 220 ms\n",
      "Wall time: 220 ms\n"
     ]
    }
   ],
   "source": [
    "%%time\n",
    "predict_cat_ohe = model_cat_ohe.predict(X_valid_final_ohe)"
   ]
  },
  {
   "cell_type": "code",
   "execution_count": 88,
   "metadata": {},
   "outputs": [
    {
     "name": "stdout",
     "output_type": "stream",
     "text": [
      "RMSE модели: 4058.625899438373\n"
     ]
    }
   ],
   "source": [
    "rmse_model_cat_ohe = mean_squared_error(y_valid_ohe, predict_cat_ohe)**0.5\n",
    "print('RMSE модели:', rmse_model_cat_ohe)"
   ]
  },
  {
   "cell_type": "code",
   "execution_count": 89,
   "metadata": {},
   "outputs": [
    {
     "name": "stdout",
     "output_type": "stream",
     "text": [
      "0:\tlearn: 3544.8591101\ttotal: 525ms\tremaining: 4.73s\n",
      "9:\tlearn: 1672.3512797\ttotal: 5.15s\tremaining: 0us\n",
      "CPU times: user 3.85 s, sys: 1.84 s, total: 5.69 s\n",
      "Wall time: 6.43 s\n"
     ]
    },
    {
     "data": {
      "text/plain": [
       "<catboost.core.CatBoostRegressor at 0x7fe8ca7a25e0>"
      ]
     },
     "execution_count": 89,
     "metadata": {},
     "output_type": "execute_result"
    }
   ],
   "source": [
    "%%time\n",
    "#Обучим на выборке с кодированием OriginalEncoding\n",
    "\n",
    "model_cat_oe = CatBoostRegressor(depth=15, learning_rate=0.3, iterations=10)\n",
    "model_cat_oe.fit(X_train_encoded, y_train, verbose=10)"
   ]
  },
  {
   "cell_type": "code",
   "execution_count": 90,
   "metadata": {},
   "outputs": [
    {
     "name": "stdout",
     "output_type": "stream",
     "text": [
      "CPU times: user 119 ms, sys: 11.9 ms, total: 131 ms\n",
      "Wall time: 127 ms\n"
     ]
    }
   ],
   "source": [
    "%%time\n",
    "predict_cat_oe = model_cat_oe.predict(X_valid_encoded)"
   ]
  },
  {
   "cell_type": "code",
   "execution_count": 91,
   "metadata": {},
   "outputs": [
    {
     "name": "stdout",
     "output_type": "stream",
     "text": [
      "RMSE модели: 1737.4825813532038\n"
     ]
    }
   ],
   "source": [
    "rmse_model_cat_oe = mean_squared_error(y_valid, predict_cat_oe)**0.5\n",
    "print('RMSE модели:', rmse_model_cat_oe)"
   ]
  },
  {
   "cell_type": "markdown",
   "metadata": {},
   "source": [
    "**Модель бустинга - LightGBMRegressor**"
   ]
  },
  {
   "cell_type": "code",
   "execution_count": 92,
   "metadata": {
    "scrolled": true
   },
   "outputs": [
    {
     "name": "stdout",
     "output_type": "stream",
     "text": [
      "CPU times: user 20min 33s, sys: 37 s, total: 21min 10s\n",
      "Wall time: 21min 21s\n"
     ]
    },
    {
     "data": {
      "text/plain": [
       "LGBMRegressor(max_depth=15, num_leaves=100, random_state=12345)"
      ]
     },
     "execution_count": 92,
     "metadata": {},
     "output_type": "execute_result"
    }
   ],
   "source": [
    "%%time\n",
    "#Обучим на выборке с кодированием OHE\n",
    "\n",
    "best_model_lgbmr_ohe = LGBMRegressor(num_leaves=100, max_depth=15, random_state=12345)\n",
    "best_model_lgbmr_ohe.fit(X_train_final_ohe, y_train_ohe)"
   ]
  },
  {
   "cell_type": "code",
   "execution_count": 93,
   "metadata": {},
   "outputs": [
    {
     "name": "stdout",
     "output_type": "stream",
     "text": [
      "CPU times: user 474 ms, sys: 4.8 ms, total: 479 ms\n",
      "Wall time: 464 ms\n"
     ]
    }
   ],
   "source": [
    "%%time\n",
    "predict_lgbmr_ohe = best_model_lgbmr_ohe.predict(X_valid_final_ohe)"
   ]
  },
  {
   "cell_type": "code",
   "execution_count": 94,
   "metadata": {},
   "outputs": [
    {
     "name": "stdout",
     "output_type": "stream",
     "text": [
      "RMSE модели: 4055.959601510004\n"
     ]
    }
   ],
   "source": [
    "rmse_best_model_lgbmr_ohe = mean_squared_error(y_valid_ohe, predict_lgbmr_ohe)**0.5\n",
    "print('RMSE модели:', rmse_best_model_lgbmr_ohe)"
   ]
  },
  {
   "cell_type": "code",
   "execution_count": 95,
   "metadata": {},
   "outputs": [
    {
     "name": "stdout",
     "output_type": "stream",
     "text": [
      "CPU times: user 15min 45s, sys: 23.4 s, total: 16min 9s\n",
      "Wall time: 16min 14s\n"
     ]
    },
    {
     "data": {
      "text/plain": [
       "LGBMRegressor(max_depth=15, num_leaves=100, random_state=12345)"
      ]
     },
     "execution_count": 95,
     "metadata": {},
     "output_type": "execute_result"
    }
   ],
   "source": [
    "%%time\n",
    "#Обучим на выборке с кодированием OriginalEncoding\n",
    "\n",
    "best_model_lgbmr_oe = LGBMRegressor(num_leaves=100, max_depth=15, random_state=12345)\n",
    "best_model_lgbmr_oe.fit(X_train_encoded, y_train)"
   ]
  },
  {
   "cell_type": "code",
   "execution_count": 96,
   "metadata": {},
   "outputs": [
    {
     "name": "stdout",
     "output_type": "stream",
     "text": [
      "CPU times: user 574 ms, sys: 5.24 ms, total: 580 ms\n",
      "Wall time: 593 ms\n"
     ]
    }
   ],
   "source": [
    "%%time\n",
    "predict_lgbmr_oe = best_model_lgbmr_oe.predict(X_valid_encoded)"
   ]
  },
  {
   "cell_type": "code",
   "execution_count": 97,
   "metadata": {},
   "outputs": [
    {
     "name": "stdout",
     "output_type": "stream",
     "text": [
      "RMSE модели: 1573.9732789831014\n"
     ]
    }
   ],
   "source": [
    "rmse_best_model_lgbmr_oe = mean_squared_error(y_valid, predict_lgbmr_oe)**0.5\n",
    "print('RMSE модели:', rmse_best_model_lgbmr_oe)"
   ]
  },
  {
   "cell_type": "markdown",
   "metadata": {},
   "source": [
    "#### Вывод:\n",
    "* Мы обучили разные модели, одна из которых — LightGBM и как минимум одна — не бустинг\n",
    "* Для каждой модели попробовали разные гиперпараметры:\n",
    "    * Наилучшие результаты показали модели с масштабированными признаками по технике OrdinalEncoder."
   ]
  },
  {
   "cell_type": "markdown",
   "metadata": {},
   "source": [
    "## Анализ моделей"
   ]
  },
  {
   "cell_type": "code",
   "execution_count": 99,
   "metadata": {},
   "outputs": [
    {
     "data": {
      "text/html": [
       "<div>\n",
       "<style scoped>\n",
       "    .dataframe tbody tr th:only-of-type {\n",
       "        vertical-align: middle;\n",
       "    }\n",
       "\n",
       "    .dataframe tbody tr th {\n",
       "        vertical-align: top;\n",
       "    }\n",
       "\n",
       "    .dataframe thead th {\n",
       "        text-align: right;\n",
       "    }\n",
       "</style>\n",
       "<table border=\"1\" class=\"dataframe\">\n",
       "  <thead>\n",
       "    <tr style=\"text-align: right;\">\n",
       "      <th></th>\n",
       "      <th>RMSE</th>\n",
       "      <th>Время обучения, в секундах</th>\n",
       "      <th>Время предсказания, в секундах</th>\n",
       "    </tr>\n",
       "  </thead>\n",
       "  <tbody>\n",
       "    <tr>\n",
       "      <th>LightGBMRegressor с OE</th>\n",
       "      <td>1573.973279</td>\n",
       "      <td>1014.000000</td>\n",
       "      <td>0.580000</td>\n",
       "    </tr>\n",
       "    <tr>\n",
       "      <th>CatBoostRegressor без кодирования</th>\n",
       "      <td>1730.444465</td>\n",
       "      <td>6.730000</td>\n",
       "      <td>0.073000</td>\n",
       "    </tr>\n",
       "    <tr>\n",
       "      <th>CatBoostRegressor с OE</th>\n",
       "      <td>1737.482581</td>\n",
       "      <td>5.690000</td>\n",
       "      <td>0.130000</td>\n",
       "    </tr>\n",
       "    <tr>\n",
       "      <th>Случайный лес с OE</th>\n",
       "      <td>1981.465784</td>\n",
       "      <td>0.000003</td>\n",
       "      <td>0.000002</td>\n",
       "    </tr>\n",
       "    <tr>\n",
       "      <th>LightGBMRegressor с OHE</th>\n",
       "      <td>4055.959602</td>\n",
       "      <td>1266.000000</td>\n",
       "      <td>0.480000</td>\n",
       "    </tr>\n",
       "    <tr>\n",
       "      <th>CatBoostRegressor с OHE</th>\n",
       "      <td>4058.625899</td>\n",
       "      <td>1.060000</td>\n",
       "      <td>0.220000</td>\n",
       "    </tr>\n",
       "    <tr>\n",
       "      <th>Случайный лес с OHE</th>\n",
       "      <td>4062.405036</td>\n",
       "      <td>0.000004</td>\n",
       "      <td>0.000002</td>\n",
       "    </tr>\n",
       "    <tr>\n",
       "      <th>Линейная регрессия с OHE</th>\n",
       "      <td>4074.663877</td>\n",
       "      <td>0.180000</td>\n",
       "      <td>0.005600</td>\n",
       "    </tr>\n",
       "  </tbody>\n",
       "</table>\n",
       "</div>"
      ],
      "text/plain": [
       "                                          RMSE  Время обучения, в секундах  \\\n",
       "LightGBMRegressor с OE             1573.973279                 1014.000000   \n",
       "CatBoostRegressor без кодирования  1730.444465                    6.730000   \n",
       "CatBoostRegressor с OE             1737.482581                    5.690000   \n",
       "Случайный лес с OE                 1981.465784                    0.000003   \n",
       "LightGBMRegressor с OHE            4055.959602                 1266.000000   \n",
       "CatBoostRegressor с OHE            4058.625899                    1.060000   \n",
       "Случайный лес с OHE                4062.405036                    0.000004   \n",
       "Линейная регрессия с OHE           4074.663877                    0.180000   \n",
       "\n",
       "                                   Время предсказания, в секундах  \n",
       "LightGBMRegressor с OE                                   0.580000  \n",
       "CatBoostRegressor без кодирования                        0.073000  \n",
       "CatBoostRegressor с OE                                   0.130000  \n",
       "Случайный лес с OE                                       0.000002  \n",
       "LightGBMRegressor с OHE                                  0.480000  \n",
       "CatBoostRegressor с OHE                                  0.220000  \n",
       "Случайный лес с OHE                                      0.000002  \n",
       "Линейная регрессия с OHE                                 0.005600  "
      ]
     },
     "execution_count": 99,
     "metadata": {},
     "output_type": "execute_result"
    }
   ],
   "source": [
    "#Создадим свобдную таблицу и проанализируем каждую модель\n",
    "#Модели у коготых rmse < 2500 сразу отсеиваются\n",
    "\n",
    "index = ['Линейная регрессия с OHE',\n",
    "         'Случайный лес с OHE',\n",
    "         'Случайный лес с OE',\n",
    "         'CatBoostRegressor без кодирования',\n",
    "         'CatBoostRegressor с OHE',\n",
    "         'CatBoostRegressor с OE',\n",
    "         'LightGBMRegressor с OHE',\n",
    "         'LightGBMRegressor с OE']\n",
    "\n",
    "data_r = {'RMSE': [rmse_lg_ohe, \n",
    "                 rmse_rf_ohe, \n",
    "                 rmse_rf_oe, \n",
    "                 rmse_model_cat, \n",
    "                 rmse_model_cat_ohe, \n",
    "                 rmse_model_cat_oe, \n",
    "                 rmse_best_model_lgbmr_ohe, \n",
    "                 rmse_best_model_lgbmr_oe],\n",
    "        \n",
    "        'Время обучения, в секундах': [0.18,\n",
    "                                      0.000004,\n",
    "                                      0.000003,\n",
    "                                      6.73,\n",
    "                                      1.06,\n",
    "                                      5.69,\n",
    "                                      1266,\n",
    "                                      1014],\n",
    "        \n",
    "        'Время предсказания, в секундах': [0.0056, \n",
    "                                          0.000002,\n",
    "                                          0.000002,\n",
    "                                          0.073,\n",
    "                                          0.22,\n",
    "                                          0.13,\n",
    "                                          0.48,\n",
    "                                          0.58]\n",
    "       }\n",
    "\n",
    "\n",
    "data_kpi = pd.DataFrame(data=data_r, index=index)\n",
    "data_kpi.sort_values(by='RMSE')"
   ]
  },
  {
   "cell_type": "markdown",
   "metadata": {},
   "source": [
    "Как мы можем наблюдать, самым наилучшим показателем по RMSE равным 1573.973279, является модель LightGBMRegressor с Original Encoding, однако у данной модели самое долгое обучение - 16 минут 9 секунд, предсказание составило 580 миллисекунд. <br>\n",
    "Второй по значимости показателя RMSE равным 1730.444465 является CatBoostRegressor без кодирования, время обучения составляет 6.73 секунды, а время предсказания 73.2 миллисекунды. <br>\n",
    "Третьей моделью, с хорошим показателем RMSE равным 1737.482581 является модель CatBoostRegressor с Original Encoding, время обучения составляет 5.69 секунды, а время предсказания 131 миллисекунды.<br>\n",
    "Наилучшей моделью является CatBoostRegressor без кодирования с метрикой RMSE равной 1730.444465 и быстрым временем обучения и предсказания."
   ]
  },
  {
   "cell_type": "markdown",
   "metadata": {},
   "source": [
    "#### Вывод:\n",
    "1. Мы проанализируйте время обучения, время предсказания и качество моделей:\n",
    "    * Самым наилучшим показателем по RMSE равным 1573.973279, является модель LightGBMRegressor с Original Encoding, однако у данной модели самое долгое обучение - 16 минут 9 секунд, предсказание составило 580 миллисекунд;\n",
    "    * Второй по значимости показателя RMSE равным 1730.444465 является CatBoostRegressor без кодирования, время обучения составляет 6.73 секунды, а время предсказания 73.2 миллисекунды;\n",
    "    * Третьей моделью, с хорошим показателем RMSE равным 1737.482581 является модель CatBoostRegressor с Original Encoding, время обучения составляет 5.69 секунды, а время предсказания 131 миллисекунды.\n",
    "    \n",
    "    \n",
    "2. Опираясь на критерии заказчика, мы выбрали лучшую модель, которую проверим на тестовой выборке:\n",
    "    * Наилучшей моделью является CatBoostRegressor без кодирования с метрикой RMSE равной 1730.444465 и быстрым временем обучения и предсказания."
   ]
  },
  {
   "cell_type": "markdown",
   "metadata": {},
   "source": [
    "## Проверка наилучшей модели"
   ]
  },
  {
   "cell_type": "code",
   "execution_count": 100,
   "metadata": {},
   "outputs": [
    {
     "name": "stdout",
     "output_type": "stream",
     "text": [
      "0:\tlearn: 3569.7485104\ttotal: 656ms\tremaining: 5.91s\n",
      "9:\tlearn: 1666.6846993\ttotal: 6.39s\tremaining: 0us\n",
      "CPU times: user 5.59 s, sys: 1.11 s, total: 6.7 s\n",
      "Wall time: 7.5 s\n"
     ]
    },
    {
     "data": {
      "text/plain": [
       "<catboost.core.CatBoostRegressor at 0x7fe8ca724730>"
      ]
     },
     "execution_count": 100,
     "metadata": {},
     "output_type": "execute_result"
    }
   ],
   "source": [
    "%%time\n",
    "#Проверяем качество наилучшей модели на тестовой выборке\n",
    "cat_features = ['vehicle_type', 'gearbox', 'model', 'fuel_type', 'brand', 'repaired']\n",
    "\n",
    "model = CatBoostRegressor(depth=15, learning_rate=0.3, iterations=10)\n",
    "model.fit(X_train, y_train, cat_features=cat_features, verbose=10)"
   ]
  },
  {
   "cell_type": "code",
   "execution_count": 101,
   "metadata": {},
   "outputs": [
    {
     "name": "stdout",
     "output_type": "stream",
     "text": [
      "CPU times: user 68.7 ms, sys: 53 µs, total: 68.7 ms\n",
      "Wall time: 66.3 ms\n"
     ]
    }
   ],
   "source": [
    "%%time\n",
    "predict = model.predict(X_test)"
   ]
  },
  {
   "cell_type": "code",
   "execution_count": 102,
   "metadata": {},
   "outputs": [
    {
     "name": "stdout",
     "output_type": "stream",
     "text": [
      "RMSE наилучшей модели:: 1737.9978915780086\n"
     ]
    }
   ],
   "source": [
    "rmse_model_cat_final = mean_squared_error(y_test, predict)**0.5\n",
    "print('RMSE наилучшей модели::', rmse_model_cat_final)"
   ]
  },
  {
   "cell_type": "markdown",
   "metadata": {},
   "source": [
    "#### Вывод:\n",
    "* Мы проверили качество наилучшей модели на тестовой выборке:\n",
    "    * RMSE наилучшей модели: 1737.9978915780086, время обучения 6.7 секунд, а время предсказания 68.7 миллисекунды."
   ]
  },
  {
   "cell_type": "markdown",
   "metadata": {},
   "source": [
    "## Общий вывод:\n",
    "1. Мы загрузили и ознакомились с представленным датафреймом.\n",
    "2. Провели предобработку данных.\n",
    "3. Мы подготовили выборки для обучения моделей.\n",
    "4. Мы обучили разные модели, одна из которых — LightGBM и как минимум одна — не бустинг.\n",
    "5. Для каждой модели попробовали разные гиперпараметры:\n",
    "    * Наилучшие результаты показали модели с масштабированными признаками по технике OrdinalEncoder.\n",
    "    \n",
    "    \n",
    "6. Мы проанализируйте время обучения, время предсказания и качество моделей:\n",
    "    * Самым наилучшим показателем по RMSE равным 1573.973279, является модель LightGBMRegressor с Original Encoding, однако у данной модели самое долгое обучение - 16 минут 9 секунд, предсказание составило 580 миллисекунд;\n",
    "    * Второй по значимости показателя RMSE равным 1730.444465 является CatBoostRegressor без кодирования, время обучения составляет 6.73 секунды, а время предсказания 73.2 миллисекунды;\n",
    "    * Третьей моделью, с хорошим показателем RMSE равным 1737.482581 является модель CatBoostRegressor с Original Encoding, время обучения составляет 5.69 секунды, а время предсказания 131 миллисекунды.\n",
    "    \n",
    "    \n",
    "      \n",
    "7. Опираясь на критерии заказчика, мы выбрали лучшую модель, которую проверим на тестовой выборке:\n",
    "    * Наилучшей моделью является CatBoostRegressor без кодирования с метрикой RMSE равной 1730.444465 и быстрым временем обучения и предсказания.\n",
    "    \n",
    "8. Мы проверили качество наилучшей модели на тестовой выборке:\n",
    "    * RMSE наилучшей модели: 1737.9978915780086, время обучения 6.7 секунд, а время предсказания 68.7 миллисекунды.\n",
    "      \n",
    "Рекомендации: <br>\n",
    "Для приложения необходимо использовать модель CatBoostRegressor без кодирования, которая имеет один из наиулучших результатов качества моделей, а так же обладает самой высокой скоростью по времени обучения и предсказания модели, что немаловажно для приложения. Так как если приложенине будет не только качественно подсказывать данные, но еще и обладать высокой скоростью, то привлечь клиентов будет намного проще. "
   ]
  }
 ],
 "metadata": {
  "ExecuteTimeLog": [
   {
    "duration": 3,
    "start_time": "2023-06-29T17:45:06.282Z"
   },
   {
    "duration": 421,
    "start_time": "2023-06-29T17:45:06.592Z"
   },
   {
    "duration": 3246,
    "start_time": "2023-06-29T17:46:01.634Z"
   },
   {
    "duration": 2,
    "start_time": "2023-06-29T17:47:45.225Z"
   },
   {
    "duration": 2,
    "start_time": "2023-06-29T17:47:45.700Z"
   },
   {
    "duration": 823,
    "start_time": "2023-06-29T17:47:46.065Z"
   },
   {
    "duration": 24,
    "start_time": "2023-06-29T17:47:46.890Z"
   },
   {
    "duration": 167,
    "start_time": "2023-06-29T17:47:46.915Z"
   },
   {
    "duration": 621,
    "start_time": "2023-06-29T17:47:47.085Z"
   },
   {
    "duration": 486,
    "start_time": "2023-06-29T17:47:47.712Z"
   },
   {
    "duration": 318,
    "start_time": "2023-06-29T17:47:48.201Z"
   },
   {
    "duration": 107,
    "start_time": "2023-06-29T17:47:48.521Z"
   },
   {
    "duration": 906,
    "start_time": "2023-06-29T17:58:48.198Z"
   },
   {
    "duration": 909,
    "start_time": "2023-06-29T17:58:56.244Z"
   },
   {
    "duration": 572,
    "start_time": "2023-06-29T18:15:18.267Z"
   },
   {
    "duration": 786,
    "start_time": "2023-06-29T18:15:18.842Z"
   },
   {
    "duration": 19,
    "start_time": "2023-06-29T18:15:19.631Z"
   },
   {
    "duration": 152,
    "start_time": "2023-06-29T18:15:19.652Z"
   },
   {
    "duration": 124,
    "start_time": "2023-06-29T18:15:19.806Z"
   },
   {
    "duration": 432,
    "start_time": "2023-06-29T18:15:19.932Z"
   },
   {
    "duration": 877,
    "start_time": "2023-06-29T18:15:20.366Z"
   },
   {
    "duration": 317,
    "start_time": "2023-06-29T18:15:21.245Z"
   },
   {
    "duration": 105,
    "start_time": "2023-06-29T18:15:21.564Z"
   },
   {
    "duration": 3,
    "start_time": "2023-06-29T18:21:41.829Z"
   },
   {
    "duration": 111,
    "start_time": "2023-06-29T18:22:16.542Z"
   },
   {
    "duration": 45,
    "start_time": "2023-06-29T18:24:15.186Z"
   },
   {
    "duration": 113,
    "start_time": "2023-06-29T18:24:15.923Z"
   },
   {
    "duration": 442,
    "start_time": "2023-06-29T18:24:16.278Z"
   },
   {
    "duration": 901,
    "start_time": "2023-06-29T18:24:17.393Z"
   },
   {
    "duration": 307,
    "start_time": "2023-06-29T18:24:18.296Z"
   },
   {
    "duration": 105,
    "start_time": "2023-06-29T18:24:18.613Z"
   },
   {
    "duration": 32,
    "start_time": "2023-06-29T18:44:34.812Z"
   },
   {
    "duration": 115,
    "start_time": "2023-06-29T18:44:35.645Z"
   },
   {
    "duration": 57,
    "start_time": "2023-06-29T18:44:36.642Z"
   },
   {
    "duration": 65,
    "start_time": "2023-06-29T18:44:43.848Z"
   },
   {
    "duration": 78,
    "start_time": "2023-06-29T18:44:54.828Z"
   },
   {
    "duration": 9,
    "start_time": "2023-06-29T19:30:01.399Z"
   },
   {
    "duration": 30,
    "start_time": "2023-06-29T19:30:02.234Z"
   },
   {
    "duration": 8,
    "start_time": "2023-06-29T19:30:02.966Z"
   },
   {
    "duration": 28,
    "start_time": "2023-06-29T19:30:03.348Z"
   },
   {
    "duration": 8,
    "start_time": "2023-06-29T19:30:03.950Z"
   },
   {
    "duration": 36,
    "start_time": "2023-06-29T19:30:04.433Z"
   },
   {
    "duration": 7,
    "start_time": "2023-06-29T19:30:05.089Z"
   },
   {
    "duration": 28,
    "start_time": "2023-06-29T19:30:05.676Z"
   },
   {
    "duration": 29,
    "start_time": "2023-06-29T19:30:06.196Z"
   },
   {
    "duration": 29,
    "start_time": "2023-06-29T19:30:06.646Z"
   },
   {
    "duration": 26,
    "start_time": "2023-06-29T19:33:16.506Z"
   },
   {
    "duration": 33,
    "start_time": "2023-06-29T19:33:25.591Z"
   },
   {
    "duration": 671,
    "start_time": "2023-06-29T19:38:01.764Z"
   },
   {
    "duration": 634,
    "start_time": "2023-06-29T19:38:11.888Z"
   },
   {
    "duration": 675,
    "start_time": "2023-06-29T19:38:28.855Z"
   },
   {
    "duration": 617,
    "start_time": "2023-06-29T19:39:36.645Z"
   },
   {
    "duration": 617,
    "start_time": "2023-06-29T19:39:40.897Z"
   },
   {
    "duration": 825,
    "start_time": "2023-06-29T19:40:23.759Z"
   },
   {
    "duration": 649,
    "start_time": "2023-06-29T19:40:32.207Z"
   },
   {
    "duration": 662,
    "start_time": "2023-06-29T19:44:24.800Z"
   },
   {
    "duration": 709,
    "start_time": "2023-06-29T19:46:31.323Z"
   },
   {
    "duration": 635,
    "start_time": "2023-06-29T19:46:51.853Z"
   },
   {
    "duration": 660,
    "start_time": "2023-06-29T19:47:00.236Z"
   },
   {
    "duration": 803,
    "start_time": "2023-06-29T19:47:57.921Z"
   },
   {
    "duration": 648,
    "start_time": "2023-06-29T19:48:16.130Z"
   },
   {
    "duration": 689,
    "start_time": "2023-06-29T19:48:24.570Z"
   },
   {
    "duration": 770,
    "start_time": "2023-06-29T19:48:36.348Z"
   },
   {
    "duration": 20,
    "start_time": "2023-06-29T19:58:14.995Z"
   },
   {
    "duration": 15,
    "start_time": "2023-06-29T19:58:37.131Z"
   },
   {
    "duration": 30,
    "start_time": "2023-06-29T19:58:43.758Z"
   },
   {
    "duration": 30,
    "start_time": "2023-06-29T19:58:53.313Z"
   },
   {
    "duration": 690,
    "start_time": "2023-06-29T20:03:14.529Z"
   },
   {
    "duration": 835,
    "start_time": "2023-06-29T20:03:43.609Z"
   },
   {
    "duration": 29,
    "start_time": "2023-06-29T20:03:44.448Z"
   },
   {
    "duration": 32,
    "start_time": "2023-06-29T20:03:44.720Z"
   },
   {
    "duration": 8,
    "start_time": "2023-06-29T20:03:44.950Z"
   },
   {
    "duration": 612,
    "start_time": "2023-06-29T20:03:46.861Z"
   },
   {
    "duration": 383,
    "start_time": "2023-06-29T20:03:56.026Z"
   },
   {
    "duration": 373,
    "start_time": "2023-06-29T20:05:01.540Z"
   },
   {
    "duration": 359,
    "start_time": "2023-06-29T20:05:08.406Z"
   },
   {
    "duration": 586,
    "start_time": "2023-06-29T20:05:16.019Z"
   },
   {
    "duration": 356,
    "start_time": "2023-06-29T20:05:50.048Z"
   },
   {
    "duration": 385,
    "start_time": "2023-06-29T20:05:56.496Z"
   },
   {
    "duration": 4,
    "start_time": "2023-06-30T05:19:44.598Z"
   },
   {
    "duration": 1484,
    "start_time": "2023-06-30T05:19:44.764Z"
   },
   {
    "duration": 991,
    "start_time": "2023-06-30T05:19:46.251Z"
   },
   {
    "duration": 16,
    "start_time": "2023-06-30T05:19:47.244Z"
   },
   {
    "duration": 141,
    "start_time": "2023-06-30T05:19:47.263Z"
   },
   {
    "duration": 149,
    "start_time": "2023-06-30T05:19:47.405Z"
   },
   {
    "duration": 57,
    "start_time": "2023-06-30T05:19:47.555Z"
   },
   {
    "duration": 147,
    "start_time": "2023-06-30T05:19:47.614Z"
   },
   {
    "duration": 400,
    "start_time": "2023-06-30T05:19:47.762Z"
   },
   {
    "duration": 794,
    "start_time": "2023-06-30T05:19:48.163Z"
   },
   {
    "duration": 43,
    "start_time": "2023-06-30T05:19:48.960Z"
   },
   {
    "duration": 106,
    "start_time": "2023-06-30T05:19:49.004Z"
   },
   {
    "duration": 118,
    "start_time": "2023-06-30T05:19:49.111Z"
   },
   {
    "duration": 55,
    "start_time": "2023-06-30T05:19:49.230Z"
   },
   {
    "duration": 8,
    "start_time": "2023-06-30T05:19:49.299Z"
   },
   {
    "duration": 34,
    "start_time": "2023-06-30T05:19:49.308Z"
   },
   {
    "duration": 576,
    "start_time": "2023-06-30T05:19:49.344Z"
   },
   {
    "duration": 31,
    "start_time": "2023-06-30T05:19:49.922Z"
   },
   {
    "duration": 47,
    "start_time": "2023-06-30T05:19:49.954Z"
   },
   {
    "duration": 8,
    "start_time": "2023-06-30T05:19:50.003Z"
   },
   {
    "duration": 335,
    "start_time": "2023-06-30T05:19:50.012Z"
   },
   {
    "duration": 27,
    "start_time": "2023-06-30T05:19:50.350Z"
   },
   {
    "duration": 25,
    "start_time": "2023-06-30T05:19:50.379Z"
   },
   {
    "duration": 31,
    "start_time": "2023-06-30T05:19:50.405Z"
   },
   {
    "duration": 51,
    "start_time": "2023-06-30T05:19:50.438Z"
   },
   {
    "duration": 29,
    "start_time": "2023-06-30T05:19:50.490Z"
   },
   {
    "duration": 30,
    "start_time": "2023-06-30T05:19:50.521Z"
   },
   {
    "duration": 36,
    "start_time": "2023-06-30T05:19:50.554Z"
   },
   {
    "duration": 107,
    "start_time": "2023-06-30T05:20:42.550Z"
   },
   {
    "duration": 364,
    "start_time": "2023-06-30T05:20:47.999Z"
   },
   {
    "duration": 310,
    "start_time": "2023-06-30T05:20:59.465Z"
   },
   {
    "duration": 9,
    "start_time": "2023-06-30T05:23:48.015Z"
   },
   {
    "duration": 161,
    "start_time": "2023-06-30T05:23:52.938Z"
   },
   {
    "duration": 171,
    "start_time": "2023-06-30T05:24:31.446Z"
   },
   {
    "duration": 1513,
    "start_time": "2023-06-30T05:25:08.204Z"
   },
   {
    "duration": 172,
    "start_time": "2023-06-30T05:25:51.822Z"
   },
   {
    "duration": 1943,
    "start_time": "2023-06-30T05:26:00.252Z"
   },
   {
    "duration": 298,
    "start_time": "2023-06-30T05:26:43.634Z"
   },
   {
    "duration": 1500,
    "start_time": "2023-06-30T05:26:51.944Z"
   },
   {
    "duration": 1799,
    "start_time": "2023-06-30T05:26:57.960Z"
   },
   {
    "duration": 1529,
    "start_time": "2023-06-30T05:27:07.535Z"
   },
   {
    "duration": 1744,
    "start_time": "2023-06-30T05:27:15.593Z"
   },
   {
    "duration": 1664,
    "start_time": "2023-06-30T05:27:22.548Z"
   },
   {
    "duration": 1485,
    "start_time": "2023-06-30T05:27:33.866Z"
   },
   {
    "duration": 236,
    "start_time": "2023-06-30T05:30:51.917Z"
   },
   {
    "duration": 33,
    "start_time": "2023-06-30T05:31:02.283Z"
   },
   {
    "duration": 30,
    "start_time": "2023-06-30T05:31:35.409Z"
   },
   {
    "duration": 30,
    "start_time": "2023-06-30T05:32:09.086Z"
   },
   {
    "duration": 30,
    "start_time": "2023-06-30T05:32:28.717Z"
   },
   {
    "duration": 31,
    "start_time": "2023-06-30T05:34:04.107Z"
   },
   {
    "duration": 89,
    "start_time": "2023-06-30T05:36:25.623Z"
   },
   {
    "duration": 350,
    "start_time": "2023-06-30T05:36:30.150Z"
   },
   {
    "duration": 537,
    "start_time": "2023-06-30T05:36:40.655Z"
   },
   {
    "duration": 308,
    "start_time": "2023-06-30T05:37:50.562Z"
   },
   {
    "duration": 318,
    "start_time": "2023-06-30T05:37:55.601Z"
   },
   {
    "duration": 325,
    "start_time": "2023-06-30T05:38:00.791Z"
   },
   {
    "duration": 306,
    "start_time": "2023-06-30T05:38:04.873Z"
   },
   {
    "duration": 375,
    "start_time": "2023-06-30T05:38:12.325Z"
   },
   {
    "duration": 28,
    "start_time": "2023-06-30T05:38:16.522Z"
   },
   {
    "duration": 29,
    "start_time": "2023-06-30T05:38:16.772Z"
   },
   {
    "duration": 9,
    "start_time": "2023-06-30T05:38:17.027Z"
   },
   {
    "duration": 308,
    "start_time": "2023-06-30T05:38:28.327Z"
   },
   {
    "duration": 4,
    "start_time": "2023-06-30T05:42:02.350Z"
   },
   {
    "duration": 3,
    "start_time": "2023-06-30T05:42:02.527Z"
   },
   {
    "duration": 842,
    "start_time": "2023-06-30T05:42:02.707Z"
   },
   {
    "duration": 15,
    "start_time": "2023-06-30T05:42:03.550Z"
   },
   {
    "duration": 190,
    "start_time": "2023-06-30T05:42:03.567Z"
   },
   {
    "duration": 125,
    "start_time": "2023-06-30T05:42:03.759Z"
   },
   {
    "duration": 27,
    "start_time": "2023-06-30T05:42:03.886Z"
   },
   {
    "duration": 120,
    "start_time": "2023-06-30T05:42:04.178Z"
   },
   {
    "duration": 459,
    "start_time": "2023-06-30T05:42:04.519Z"
   },
   {
    "duration": 873,
    "start_time": "2023-06-30T05:42:04.980Z"
   },
   {
    "duration": 24,
    "start_time": "2023-06-30T05:42:05.855Z"
   },
   {
    "duration": 108,
    "start_time": "2023-06-30T05:42:05.881Z"
   },
   {
    "duration": 181,
    "start_time": "2023-06-30T05:42:05.991Z"
   },
   {
    "duration": 71,
    "start_time": "2023-06-30T05:42:06.174Z"
   },
   {
    "duration": 10,
    "start_time": "2023-06-30T05:42:06.471Z"
   },
   {
    "duration": 32,
    "start_time": "2023-06-30T05:42:06.930Z"
   },
   {
    "duration": 625,
    "start_time": "2023-06-30T05:42:07.335Z"
   },
   {
    "duration": 50,
    "start_time": "2023-06-30T05:42:08.112Z"
   },
   {
    "duration": 36,
    "start_time": "2023-06-30T05:42:08.518Z"
   },
   {
    "duration": 12,
    "start_time": "2023-06-30T05:42:09.611Z"
   },
   {
    "duration": 331,
    "start_time": "2023-06-30T05:42:11.021Z"
   },
   {
    "duration": 1812,
    "start_time": "2023-06-30T05:42:21.715Z"
   },
   {
    "duration": 42,
    "start_time": "2023-06-30T05:42:23.530Z"
   },
   {
    "duration": 27,
    "start_time": "2023-06-30T05:43:51.729Z"
   },
   {
    "duration": 32,
    "start_time": "2023-06-30T05:44:56.024Z"
   },
   {
    "duration": 29,
    "start_time": "2023-06-30T05:46:33.362Z"
   },
   {
    "duration": 1128,
    "start_time": "2023-06-30T05:47:29.955Z"
   },
   {
    "duration": 2,
    "start_time": "2023-06-30T05:47:48.266Z"
   },
   {
    "duration": 3,
    "start_time": "2023-06-30T05:47:48.398Z"
   },
   {
    "duration": 620,
    "start_time": "2023-06-30T05:47:48.558Z"
   },
   {
    "duration": 24,
    "start_time": "2023-06-30T05:47:49.180Z"
   },
   {
    "duration": 161,
    "start_time": "2023-06-30T05:47:49.205Z"
   },
   {
    "duration": 101,
    "start_time": "2023-06-30T05:47:49.368Z"
   },
   {
    "duration": 30,
    "start_time": "2023-06-30T05:47:49.470Z"
   },
   {
    "duration": 112,
    "start_time": "2023-06-30T05:47:49.501Z"
   },
   {
    "duration": 358,
    "start_time": "2023-06-30T05:47:49.615Z"
   },
   {
    "duration": 726,
    "start_time": "2023-06-30T05:47:49.975Z"
   },
   {
    "duration": 26,
    "start_time": "2023-06-30T05:47:50.703Z"
   },
   {
    "duration": 85,
    "start_time": "2023-06-30T05:47:50.731Z"
   },
   {
    "duration": 109,
    "start_time": "2023-06-30T05:47:50.817Z"
   },
   {
    "duration": 50,
    "start_time": "2023-06-30T05:47:50.928Z"
   },
   {
    "duration": 26,
    "start_time": "2023-06-30T05:47:50.980Z"
   },
   {
    "duration": 33,
    "start_time": "2023-06-30T05:47:51.008Z"
   },
   {
    "duration": 532,
    "start_time": "2023-06-30T05:47:51.043Z"
   },
   {
    "duration": 34,
    "start_time": "2023-06-30T05:47:51.577Z"
   },
   {
    "duration": 32,
    "start_time": "2023-06-30T05:47:51.612Z"
   },
   {
    "duration": 7,
    "start_time": "2023-06-30T05:47:51.645Z"
   },
   {
    "duration": 300,
    "start_time": "2023-06-30T05:47:51.685Z"
   },
   {
    "duration": 1583,
    "start_time": "2023-06-30T05:47:51.987Z"
   },
   {
    "duration": 46,
    "start_time": "2023-06-30T05:47:53.572Z"
   },
   {
    "duration": 25,
    "start_time": "2023-06-30T05:47:53.620Z"
   },
   {
    "duration": 36,
    "start_time": "2023-06-30T05:47:53.647Z"
   },
   {
    "duration": 1082,
    "start_time": "2023-06-30T05:47:53.685Z"
   },
   {
    "duration": 0,
    "start_time": "2023-06-30T05:47:54.768Z"
   },
   {
    "duration": 0,
    "start_time": "2023-06-30T05:47:54.769Z"
   },
   {
    "duration": 1592,
    "start_time": "2023-06-30T05:48:23.826Z"
   },
   {
    "duration": 3,
    "start_time": "2023-06-30T05:49:03.422Z"
   },
   {
    "duration": 4,
    "start_time": "2023-06-30T05:49:03.579Z"
   },
   {
    "duration": 699,
    "start_time": "2023-06-30T05:49:03.762Z"
   },
   {
    "duration": 13,
    "start_time": "2023-06-30T05:49:04.463Z"
   },
   {
    "duration": 128,
    "start_time": "2023-06-30T05:49:04.478Z"
   },
   {
    "duration": 127,
    "start_time": "2023-06-30T05:49:04.608Z"
   },
   {
    "duration": 18,
    "start_time": "2023-06-30T05:49:04.737Z"
   },
   {
    "duration": 108,
    "start_time": "2023-06-30T05:49:04.923Z"
   },
   {
    "duration": 380,
    "start_time": "2023-06-30T05:49:05.155Z"
   },
   {
    "duration": 783,
    "start_time": "2023-06-30T05:49:05.537Z"
   },
   {
    "duration": 26,
    "start_time": "2023-06-30T05:49:06.322Z"
   },
   {
    "duration": 77,
    "start_time": "2023-06-30T05:49:06.350Z"
   },
   {
    "duration": 120,
    "start_time": "2023-06-30T05:49:06.428Z"
   },
   {
    "duration": 56,
    "start_time": "2023-06-30T05:49:06.550Z"
   },
   {
    "duration": 8,
    "start_time": "2023-06-30T05:49:06.753Z"
   },
   {
    "duration": 31,
    "start_time": "2023-06-30T05:49:06.892Z"
   },
   {
    "duration": 570,
    "start_time": "2023-06-30T05:49:07.058Z"
   },
   {
    "duration": 29,
    "start_time": "2023-06-30T05:49:07.630Z"
   },
   {
    "duration": 44,
    "start_time": "2023-06-30T05:49:07.661Z"
   },
   {
    "duration": 9,
    "start_time": "2023-06-30T05:49:07.808Z"
   },
   {
    "duration": 330,
    "start_time": "2023-06-30T05:49:07.995Z"
   },
   {
    "duration": 1554,
    "start_time": "2023-06-30T05:49:08.326Z"
   },
   {
    "duration": 42,
    "start_time": "2023-06-30T05:49:09.882Z"
   },
   {
    "duration": 28,
    "start_time": "2023-06-30T05:49:09.926Z"
   },
   {
    "duration": 30,
    "start_time": "2023-06-30T05:49:09.955Z"
   },
   {
    "duration": 1682,
    "start_time": "2023-06-30T05:49:09.986Z"
   },
   {
    "duration": 84,
    "start_time": "2023-06-30T05:49:36.574Z"
   },
   {
    "duration": 9,
    "start_time": "2023-06-30T05:49:39.208Z"
   },
   {
    "duration": 10,
    "start_time": "2023-06-30T05:50:04.864Z"
   },
   {
    "duration": 12,
    "start_time": "2023-06-30T05:50:53.074Z"
   },
   {
    "duration": 4,
    "start_time": "2023-06-30T05:53:38.526Z"
   },
   {
    "duration": 9,
    "start_time": "2023-06-30T05:53:39.799Z"
   },
   {
    "duration": 97,
    "start_time": "2023-06-30T05:53:51.462Z"
   },
   {
    "duration": 1305,
    "start_time": "2023-06-30T05:53:54.715Z"
   },
   {
    "duration": 1474,
    "start_time": "2023-06-30T05:54:10.159Z"
   },
   {
    "duration": 3,
    "start_time": "2023-06-30T05:54:23.182Z"
   },
   {
    "duration": 1248,
    "start_time": "2023-06-30T05:54:32.400Z"
   },
   {
    "duration": 0,
    "start_time": "2023-06-30T05:54:33.650Z"
   },
   {
    "duration": 0,
    "start_time": "2023-06-30T05:54:33.651Z"
   },
   {
    "duration": 1227,
    "start_time": "2023-06-30T05:55:20.898Z"
   },
   {
    "duration": 0,
    "start_time": "2023-06-30T05:55:22.126Z"
   },
   {
    "duration": 4,
    "start_time": "2023-06-30T05:55:23.147Z"
   },
   {
    "duration": 3,
    "start_time": "2023-06-30T05:55:29.546Z"
   },
   {
    "duration": 9,
    "start_time": "2023-06-30T05:55:29.551Z"
   },
   {
    "duration": 672,
    "start_time": "2023-06-30T05:55:29.562Z"
   },
   {
    "duration": 13,
    "start_time": "2023-06-30T05:55:30.236Z"
   },
   {
    "duration": 239,
    "start_time": "2023-06-30T05:55:30.252Z"
   },
   {
    "duration": 131,
    "start_time": "2023-06-30T05:55:30.493Z"
   },
   {
    "duration": 19,
    "start_time": "2023-06-30T05:55:30.626Z"
   },
   {
    "duration": 173,
    "start_time": "2023-06-30T05:55:30.648Z"
   },
   {
    "duration": 374,
    "start_time": "2023-06-30T05:55:30.823Z"
   },
   {
    "duration": 688,
    "start_time": "2023-06-30T05:55:31.200Z"
   },
   {
    "duration": 31,
    "start_time": "2023-06-30T05:55:31.890Z"
   },
   {
    "duration": 85,
    "start_time": "2023-06-30T05:55:31.922Z"
   },
   {
    "duration": 114,
    "start_time": "2023-06-30T05:55:32.008Z"
   },
   {
    "duration": 80,
    "start_time": "2023-06-30T05:55:32.124Z"
   },
   {
    "duration": 10,
    "start_time": "2023-06-30T05:55:32.206Z"
   },
   {
    "duration": 39,
    "start_time": "2023-06-30T05:55:32.218Z"
   },
   {
    "duration": 625,
    "start_time": "2023-06-30T05:55:32.259Z"
   },
   {
    "duration": 34,
    "start_time": "2023-06-30T05:55:32.886Z"
   },
   {
    "duration": 52,
    "start_time": "2023-06-30T05:55:32.922Z"
   },
   {
    "duration": 26,
    "start_time": "2023-06-30T05:55:32.976Z"
   },
   {
    "duration": 373,
    "start_time": "2023-06-30T05:55:33.004Z"
   },
   {
    "duration": 1600,
    "start_time": "2023-06-30T05:55:33.379Z"
   },
   {
    "duration": 51,
    "start_time": "2023-06-30T05:55:34.981Z"
   },
   {
    "duration": 27,
    "start_time": "2023-06-30T05:55:35.033Z"
   },
   {
    "duration": 61,
    "start_time": "2023-06-30T05:55:35.063Z"
   },
   {
    "duration": 1036,
    "start_time": "2023-06-30T05:55:35.125Z"
   },
   {
    "duration": 0,
    "start_time": "2023-06-30T05:55:36.163Z"
   },
   {
    "duration": 0,
    "start_time": "2023-06-30T05:55:36.165Z"
   },
   {
    "duration": 3,
    "start_time": "2023-06-30T05:55:40.955Z"
   },
   {
    "duration": 4,
    "start_time": "2023-06-30T05:55:41.089Z"
   },
   {
    "duration": 748,
    "start_time": "2023-06-30T05:55:41.231Z"
   },
   {
    "duration": 20,
    "start_time": "2023-06-30T05:55:41.981Z"
   },
   {
    "duration": 208,
    "start_time": "2023-06-30T05:55:42.002Z"
   },
   {
    "duration": 108,
    "start_time": "2023-06-30T05:55:42.213Z"
   },
   {
    "duration": 20,
    "start_time": "2023-06-30T05:55:42.323Z"
   },
   {
    "duration": 215,
    "start_time": "2023-06-30T05:55:42.345Z"
   },
   {
    "duration": 362,
    "start_time": "2023-06-30T05:55:42.561Z"
   },
   {
    "duration": 802,
    "start_time": "2023-06-30T05:55:42.925Z"
   },
   {
    "duration": 29,
    "start_time": "2023-06-30T05:55:43.729Z"
   },
   {
    "duration": 94,
    "start_time": "2023-06-30T05:55:43.760Z"
   },
   {
    "duration": 123,
    "start_time": "2023-06-30T05:55:43.856Z"
   },
   {
    "duration": 70,
    "start_time": "2023-06-30T05:55:43.980Z"
   },
   {
    "duration": 12,
    "start_time": "2023-06-30T05:55:44.051Z"
   },
   {
    "duration": 49,
    "start_time": "2023-06-30T05:55:44.065Z"
   },
   {
    "duration": 616,
    "start_time": "2023-06-30T05:55:44.116Z"
   },
   {
    "duration": 32,
    "start_time": "2023-06-30T05:55:44.734Z"
   },
   {
    "duration": 42,
    "start_time": "2023-06-30T05:55:44.767Z"
   },
   {
    "duration": 8,
    "start_time": "2023-06-30T05:55:44.811Z"
   },
   {
    "duration": 374,
    "start_time": "2023-06-30T05:55:45.136Z"
   },
   {
    "duration": 1714,
    "start_time": "2023-06-30T05:55:45.512Z"
   },
   {
    "duration": 42,
    "start_time": "2023-06-30T05:55:47.228Z"
   },
   {
    "duration": 38,
    "start_time": "2023-06-30T05:55:47.275Z"
   },
   {
    "duration": 29,
    "start_time": "2023-06-30T05:55:47.315Z"
   },
   {
    "duration": 968,
    "start_time": "2023-06-30T05:55:47.346Z"
   },
   {
    "duration": 0,
    "start_time": "2023-06-30T05:55:48.316Z"
   },
   {
    "duration": 0,
    "start_time": "2023-06-30T05:55:48.317Z"
   },
   {
    "duration": 12,
    "start_time": "2023-06-30T05:55:54.169Z"
   },
   {
    "duration": 3,
    "start_time": "2023-06-30T05:58:00.806Z"
   },
   {
    "duration": 4,
    "start_time": "2023-06-30T05:58:00.947Z"
   },
   {
    "duration": 704,
    "start_time": "2023-06-30T05:58:01.109Z"
   },
   {
    "duration": 12,
    "start_time": "2023-06-30T05:58:01.815Z"
   },
   {
    "duration": 113,
    "start_time": "2023-06-30T05:58:01.829Z"
   },
   {
    "duration": 136,
    "start_time": "2023-06-30T05:58:02.886Z"
   },
   {
    "duration": 16,
    "start_time": "2023-06-30T05:58:03.296Z"
   },
   {
    "duration": 100,
    "start_time": "2023-06-30T05:58:04.106Z"
   },
   {
    "duration": 372,
    "start_time": "2023-06-30T05:58:04.684Z"
   },
   {
    "duration": 812,
    "start_time": "2023-06-30T05:58:05.634Z"
   },
   {
    "duration": 25,
    "start_time": "2023-06-30T05:58:06.448Z"
   },
   {
    "duration": 69,
    "start_time": "2023-06-30T05:58:07.051Z"
   },
   {
    "duration": 104,
    "start_time": "2023-06-30T05:58:07.784Z"
   },
   {
    "duration": 58,
    "start_time": "2023-06-30T05:58:08.574Z"
   },
   {
    "duration": 11,
    "start_time": "2023-06-30T05:58:10.340Z"
   },
   {
    "duration": 31,
    "start_time": "2023-06-30T05:58:12.762Z"
   },
   {
    "duration": 613,
    "start_time": "2023-06-30T05:58:14.049Z"
   },
   {
    "duration": 28,
    "start_time": "2023-06-30T05:58:15.695Z"
   },
   {
    "duration": 43,
    "start_time": "2023-06-30T05:58:19.084Z"
   },
   {
    "duration": 11,
    "start_time": "2023-06-30T05:58:20.607Z"
   },
   {
    "duration": 315,
    "start_time": "2023-06-30T05:58:23.777Z"
   },
   {
    "duration": 1656,
    "start_time": "2023-06-30T05:58:24.769Z"
   },
   {
    "duration": 47,
    "start_time": "2023-06-30T05:58:58.861Z"
   },
   {
    "duration": 55,
    "start_time": "2023-06-30T05:59:03.482Z"
   },
   {
    "duration": 30,
    "start_time": "2023-06-30T05:59:04.214Z"
   },
   {
    "duration": 988,
    "start_time": "2023-06-30T05:59:19.803Z"
   },
   {
    "duration": 1829,
    "start_time": "2023-06-30T06:00:03.460Z"
   },
   {
    "duration": 0,
    "start_time": "2023-06-30T06:00:05.291Z"
   },
   {
    "duration": 0,
    "start_time": "2023-06-30T06:00:05.292Z"
   },
   {
    "duration": 2,
    "start_time": "2023-06-30T06:00:29.879Z"
   },
   {
    "duration": 3,
    "start_time": "2023-06-30T06:00:30.025Z"
   },
   {
    "duration": 764,
    "start_time": "2023-06-30T06:00:30.170Z"
   },
   {
    "duration": 19,
    "start_time": "2023-06-30T06:00:30.937Z"
   },
   {
    "duration": 158,
    "start_time": "2023-06-30T06:00:30.959Z"
   },
   {
    "duration": 138,
    "start_time": "2023-06-30T06:00:31.120Z"
   },
   {
    "duration": 85,
    "start_time": "2023-06-30T06:00:31.260Z"
   },
   {
    "duration": 180,
    "start_time": "2023-06-30T06:00:31.347Z"
   },
   {
    "duration": 466,
    "start_time": "2023-06-30T06:00:31.528Z"
   },
   {
    "duration": 845,
    "start_time": "2023-06-30T06:00:31.999Z"
   },
   {
    "duration": 29,
    "start_time": "2023-06-30T06:00:32.846Z"
   },
   {
    "duration": 87,
    "start_time": "2023-06-30T06:00:32.876Z"
   },
   {
    "duration": 189,
    "start_time": "2023-06-30T06:00:32.965Z"
   },
   {
    "duration": 59,
    "start_time": "2023-06-30T06:00:33.158Z"
   },
   {
    "duration": 9,
    "start_time": "2023-06-30T06:00:33.219Z"
   },
   {
    "duration": 37,
    "start_time": "2023-06-30T06:00:33.230Z"
   },
   {
    "duration": 736,
    "start_time": "2023-06-30T06:00:33.268Z"
   },
   {
    "duration": 49,
    "start_time": "2023-06-30T06:00:34.006Z"
   },
   {
    "duration": 67,
    "start_time": "2023-06-30T06:00:34.057Z"
   },
   {
    "duration": 10,
    "start_time": "2023-06-30T06:00:34.127Z"
   },
   {
    "duration": 376,
    "start_time": "2023-06-30T06:00:34.139Z"
   },
   {
    "duration": 1724,
    "start_time": "2023-06-30T06:00:34.517Z"
   },
   {
    "duration": 47,
    "start_time": "2023-06-30T06:00:36.244Z"
   },
   {
    "duration": 33,
    "start_time": "2023-06-30T06:00:36.300Z"
   },
   {
    "duration": 94,
    "start_time": "2023-06-30T06:00:36.336Z"
   },
   {
    "duration": 11,
    "start_time": "2023-06-30T06:00:36.433Z"
   },
   {
    "duration": 143,
    "start_time": "2023-06-30T06:00:36.446Z"
   },
   {
    "duration": 49,
    "start_time": "2023-06-30T06:00:36.591Z"
   },
   {
    "duration": 31,
    "start_time": "2023-06-30T06:01:07.577Z"
   },
   {
    "duration": 315,
    "start_time": "2023-06-30T06:01:33.004Z"
   },
   {
    "duration": 319,
    "start_time": "2023-06-30T06:02:34.653Z"
   },
   {
    "duration": 539,
    "start_time": "2023-06-30T06:02:42.812Z"
   },
   {
    "duration": 1320,
    "start_time": "2023-06-30T06:02:49.098Z"
   },
   {
    "duration": 339,
    "start_time": "2023-06-30T06:02:58.054Z"
   },
   {
    "duration": 452,
    "start_time": "2023-06-30T06:03:17.819Z"
   },
   {
    "duration": 390,
    "start_time": "2023-06-30T06:03:26.100Z"
   },
   {
    "duration": 470,
    "start_time": "2023-06-30T06:03:31.994Z"
   },
   {
    "duration": 340,
    "start_time": "2023-06-30T06:03:37.177Z"
   },
   {
    "duration": 322,
    "start_time": "2023-06-30T06:03:43.024Z"
   },
   {
    "duration": 325,
    "start_time": "2023-06-30T06:03:50.958Z"
   },
   {
    "duration": 306,
    "start_time": "2023-06-30T06:03:56.209Z"
   },
   {
    "duration": 337,
    "start_time": "2023-06-30T06:04:00.464Z"
   },
   {
    "duration": 383,
    "start_time": "2023-06-30T06:04:14.954Z"
   },
   {
    "duration": 307,
    "start_time": "2023-06-30T06:04:30.224Z"
   },
   {
    "duration": 314,
    "start_time": "2023-06-30T06:04:37.030Z"
   },
   {
    "duration": 10,
    "start_time": "2023-06-30T06:06:19.934Z"
   },
   {
    "duration": 299,
    "start_time": "2023-06-30T06:06:40.853Z"
   },
   {
    "duration": 752,
    "start_time": "2023-06-30T06:07:43.410Z"
   },
   {
    "duration": 6858,
    "start_time": "2023-06-30T06:08:06.848Z"
   },
   {
    "duration": 14,
    "start_time": "2023-06-30T06:11:23.008Z"
   },
   {
    "duration": 12,
    "start_time": "2023-06-30T06:11:27.954Z"
   },
   {
    "duration": 8,
    "start_time": "2023-06-30T06:11:36.969Z"
   },
   {
    "duration": 3,
    "start_time": "2023-06-30T06:13:00.534Z"
   },
   {
    "duration": 3,
    "start_time": "2023-06-30T06:13:00.705Z"
   },
   {
    "duration": 750,
    "start_time": "2023-06-30T06:13:00.864Z"
   },
   {
    "duration": 14,
    "start_time": "2023-06-30T06:13:01.615Z"
   },
   {
    "duration": 146,
    "start_time": "2023-06-30T06:13:01.631Z"
   },
   {
    "duration": 122,
    "start_time": "2023-06-30T06:13:01.851Z"
   },
   {
    "duration": 45,
    "start_time": "2023-06-30T06:13:01.990Z"
   },
   {
    "duration": 112,
    "start_time": "2023-06-30T06:13:02.155Z"
   },
   {
    "duration": 445,
    "start_time": "2023-06-30T06:13:02.332Z"
   },
   {
    "duration": 752,
    "start_time": "2023-06-30T06:13:02.779Z"
   },
   {
    "duration": 29,
    "start_time": "2023-06-30T06:13:03.534Z"
   },
   {
    "duration": 85,
    "start_time": "2023-06-30T06:13:03.566Z"
   },
   {
    "duration": 184,
    "start_time": "2023-06-30T06:13:03.652Z"
   },
   {
    "duration": 67,
    "start_time": "2023-06-30T06:13:03.837Z"
   },
   {
    "duration": 9,
    "start_time": "2023-06-30T06:13:03.905Z"
   },
   {
    "duration": 30,
    "start_time": "2023-06-30T06:13:03.915Z"
   },
   {
    "duration": 752,
    "start_time": "2023-06-30T06:13:03.947Z"
   },
   {
    "duration": 29,
    "start_time": "2023-06-30T06:13:04.701Z"
   },
   {
    "duration": 31,
    "start_time": "2023-06-30T06:13:04.731Z"
   },
   {
    "duration": 36,
    "start_time": "2023-06-30T06:13:04.765Z"
   },
   {
    "duration": 370,
    "start_time": "2023-06-30T06:13:04.803Z"
   },
   {
    "duration": 1658,
    "start_time": "2023-06-30T06:13:05.175Z"
   },
   {
    "duration": 37,
    "start_time": "2023-06-30T06:13:06.835Z"
   },
   {
    "duration": 44,
    "start_time": "2023-06-30T06:13:06.875Z"
   },
   {
    "duration": 35,
    "start_time": "2023-06-30T06:13:06.920Z"
   },
   {
    "duration": 9,
    "start_time": "2023-06-30T06:13:06.957Z"
   },
   {
    "duration": 334,
    "start_time": "2023-06-30T06:13:07.019Z"
   },
   {
    "duration": 78,
    "start_time": "2023-06-30T06:13:08.153Z"
   },
   {
    "duration": 48,
    "start_time": "2023-06-30T06:13:08.732Z"
   },
   {
    "duration": 10,
    "start_time": "2023-06-30T06:13:09.135Z"
   },
   {
    "duration": 12,
    "start_time": "2023-06-30T06:13:25.114Z"
   },
   {
    "duration": 36,
    "start_time": "2023-06-30T06:13:57.120Z"
   },
   {
    "duration": 28,
    "start_time": "2023-06-30T06:14:10.935Z"
   },
   {
    "duration": 7,
    "start_time": "2023-06-30T06:14:20.626Z"
   },
   {
    "duration": 34,
    "start_time": "2023-06-30T06:17:13.339Z"
   },
   {
    "duration": 26,
    "start_time": "2023-06-30T06:20:18.020Z"
   },
   {
    "duration": 7,
    "start_time": "2023-06-30T06:20:57.988Z"
   },
   {
    "duration": 15,
    "start_time": "2023-06-30T06:23:48.543Z"
   },
   {
    "duration": 25,
    "start_time": "2023-06-30T10:31:12.397Z"
   },
   {
    "duration": 29,
    "start_time": "2023-06-30T10:41:05.103Z"
   },
   {
    "duration": 26,
    "start_time": "2023-06-30T10:41:14.023Z"
   },
   {
    "duration": 44,
    "start_time": "2023-06-30T10:42:31.436Z"
   },
   {
    "duration": 27,
    "start_time": "2023-06-30T10:42:48.092Z"
   },
   {
    "duration": 29,
    "start_time": "2023-06-30T10:45:40.507Z"
   },
   {
    "duration": 28,
    "start_time": "2023-06-30T10:47:04.411Z"
   },
   {
    "duration": 62,
    "start_time": "2023-06-30T10:47:53.226Z"
   },
   {
    "duration": 64,
    "start_time": "2023-06-30T11:01:05.052Z"
   },
   {
    "duration": 4,
    "start_time": "2023-06-30T11:03:16.260Z"
   },
   {
    "duration": 761,
    "start_time": "2023-06-30T11:31:40.018Z"
   },
   {
    "duration": 967,
    "start_time": "2023-06-30T11:31:40.781Z"
   },
   {
    "duration": 14,
    "start_time": "2023-06-30T11:31:41.749Z"
   },
   {
    "duration": 115,
    "start_time": "2023-06-30T11:31:41.765Z"
   },
   {
    "duration": 127,
    "start_time": "2023-06-30T11:31:41.882Z"
   },
   {
    "duration": 45,
    "start_time": "2023-06-30T11:31:42.014Z"
   },
   {
    "duration": 124,
    "start_time": "2023-06-30T11:31:42.061Z"
   },
   {
    "duration": 376,
    "start_time": "2023-06-30T11:31:42.187Z"
   },
   {
    "duration": 763,
    "start_time": "2023-06-30T11:31:42.565Z"
   },
   {
    "duration": 27,
    "start_time": "2023-06-30T11:31:43.330Z"
   },
   {
    "duration": 94,
    "start_time": "2023-06-30T11:31:43.359Z"
   },
   {
    "duration": 124,
    "start_time": "2023-06-30T11:31:43.455Z"
   },
   {
    "duration": 65,
    "start_time": "2023-06-30T11:31:43.581Z"
   },
   {
    "duration": 8,
    "start_time": "2023-06-30T11:31:43.648Z"
   },
   {
    "duration": 57,
    "start_time": "2023-06-30T11:31:43.657Z"
   },
   {
    "duration": 545,
    "start_time": "2023-06-30T11:31:43.716Z"
   },
   {
    "duration": 42,
    "start_time": "2023-06-30T11:31:44.263Z"
   },
   {
    "duration": 39,
    "start_time": "2023-06-30T11:31:44.309Z"
   },
   {
    "duration": 10,
    "start_time": "2023-06-30T11:31:44.350Z"
   },
   {
    "duration": 361,
    "start_time": "2023-06-30T11:31:44.361Z"
   },
   {
    "duration": 1828,
    "start_time": "2023-06-30T11:31:44.724Z"
   },
   {
    "duration": 49,
    "start_time": "2023-06-30T11:31:46.553Z"
   },
   {
    "duration": 29,
    "start_time": "2023-06-30T11:31:46.611Z"
   },
   {
    "duration": 33,
    "start_time": "2023-06-30T11:31:46.642Z"
   },
   {
    "duration": 9,
    "start_time": "2023-06-30T11:31:46.677Z"
   },
   {
    "duration": 340,
    "start_time": "2023-06-30T11:31:46.705Z"
   },
   {
    "duration": 36,
    "start_time": "2023-06-30T11:31:47.047Z"
   },
   {
    "duration": 46,
    "start_time": "2023-06-30T11:31:47.085Z"
   },
   {
    "duration": 29,
    "start_time": "2023-06-30T11:31:47.132Z"
   },
   {
    "duration": 6,
    "start_time": "2023-06-30T11:31:47.163Z"
   },
   {
    "duration": 41,
    "start_time": "2023-06-30T11:31:47.170Z"
   },
   {
    "duration": 26,
    "start_time": "2023-06-30T11:31:47.311Z"
   },
   {
    "duration": 40,
    "start_time": "2023-06-30T11:31:47.492Z"
   },
   {
    "duration": 27,
    "start_time": "2023-06-30T11:31:47.659Z"
   },
   {
    "duration": 26,
    "start_time": "2023-06-30T11:31:48.021Z"
   },
   {
    "duration": 27,
    "start_time": "2023-06-30T11:31:48.411Z"
   },
   {
    "duration": 28,
    "start_time": "2023-06-30T11:31:48.556Z"
   },
   {
    "duration": 71,
    "start_time": "2023-06-30T11:31:48.959Z"
   },
   {
    "duration": 66,
    "start_time": "2023-06-30T11:31:49.344Z"
   },
   {
    "duration": 3,
    "start_time": "2023-06-30T11:31:49.952Z"
   },
   {
    "duration": 17,
    "start_time": "2023-06-30T11:54:25.118Z"
   },
   {
    "duration": 66,
    "start_time": "2023-06-30T12:03:34.851Z"
   },
   {
    "duration": 43,
    "start_time": "2023-06-30T12:03:49.018Z"
   },
   {
    "duration": 56,
    "start_time": "2023-06-30T12:04:32.495Z"
   },
   {
    "duration": 18,
    "start_time": "2023-06-30T12:05:48.819Z"
   },
   {
    "duration": 34,
    "start_time": "2023-06-30T12:05:49.242Z"
   },
   {
    "duration": 21,
    "start_time": "2023-06-30T12:06:12.834Z"
   },
   {
    "duration": 49,
    "start_time": "2023-06-30T12:06:13.386Z"
   },
   {
    "duration": 3,
    "start_time": "2023-06-30T12:07:24.861Z"
   },
   {
    "duration": 1440,
    "start_time": "2023-06-30T12:07:25.021Z"
   },
   {
    "duration": 12,
    "start_time": "2023-06-30T12:07:26.463Z"
   },
   {
    "duration": 169,
    "start_time": "2023-06-30T12:07:26.476Z"
   },
   {
    "duration": 162,
    "start_time": "2023-06-30T12:07:26.648Z"
   },
   {
    "duration": 20,
    "start_time": "2023-06-30T12:07:26.818Z"
   },
   {
    "duration": 152,
    "start_time": "2023-06-30T12:07:26.841Z"
   },
   {
    "duration": 418,
    "start_time": "2023-06-30T12:07:26.995Z"
   },
   {
    "duration": 930,
    "start_time": "2023-06-30T12:07:27.421Z"
   },
   {
    "duration": 25,
    "start_time": "2023-06-30T12:07:28.352Z"
   },
   {
    "duration": 95,
    "start_time": "2023-06-30T12:07:28.379Z"
   },
   {
    "duration": 168,
    "start_time": "2023-06-30T12:07:28.475Z"
   },
   {
    "duration": 62,
    "start_time": "2023-06-30T12:07:28.644Z"
   },
   {
    "duration": 16,
    "start_time": "2023-06-30T12:07:28.708Z"
   },
   {
    "duration": 58,
    "start_time": "2023-06-30T12:07:28.725Z"
   },
   {
    "duration": 660,
    "start_time": "2023-06-30T12:07:28.785Z"
   },
   {
    "duration": 29,
    "start_time": "2023-06-30T12:07:29.447Z"
   },
   {
    "duration": 58,
    "start_time": "2023-06-30T12:07:29.478Z"
   },
   {
    "duration": 21,
    "start_time": "2023-06-30T12:07:29.538Z"
   },
   {
    "duration": 374,
    "start_time": "2023-06-30T12:07:29.560Z"
   },
   {
    "duration": 1943,
    "start_time": "2023-06-30T12:07:29.937Z"
   },
   {
    "duration": 58,
    "start_time": "2023-06-30T12:07:31.881Z"
   },
   {
    "duration": 29,
    "start_time": "2023-06-30T12:07:31.941Z"
   },
   {
    "duration": 90,
    "start_time": "2023-06-30T12:07:31.972Z"
   },
   {
    "duration": 9,
    "start_time": "2023-06-30T12:07:32.063Z"
   },
   {
    "duration": 503,
    "start_time": "2023-06-30T12:07:32.074Z"
   },
   {
    "duration": 41,
    "start_time": "2023-06-30T12:07:32.578Z"
   },
   {
    "duration": 35,
    "start_time": "2023-06-30T12:07:32.622Z"
   },
   {
    "duration": 29,
    "start_time": "2023-06-30T12:07:32.659Z"
   },
   {
    "duration": 22,
    "start_time": "2023-06-30T12:07:32.690Z"
   },
   {
    "duration": 43,
    "start_time": "2023-06-30T12:07:32.713Z"
   },
   {
    "duration": 26,
    "start_time": "2023-06-30T12:07:32.757Z"
   },
   {
    "duration": 40,
    "start_time": "2023-06-30T12:07:32.785Z"
   },
   {
    "duration": 58,
    "start_time": "2023-06-30T12:07:32.827Z"
   },
   {
    "duration": 48,
    "start_time": "2023-06-30T12:07:32.886Z"
   },
   {
    "duration": 32,
    "start_time": "2023-06-30T12:07:32.935Z"
   },
   {
    "duration": 53,
    "start_time": "2023-06-30T12:07:32.969Z"
   },
   {
    "duration": 73,
    "start_time": "2023-06-30T12:07:33.025Z"
   },
   {
    "duration": 89,
    "start_time": "2023-06-30T12:07:33.202Z"
   },
   {
    "duration": 3,
    "start_time": "2023-06-30T12:07:33.791Z"
   },
   {
    "duration": 20,
    "start_time": "2023-06-30T12:07:34.405Z"
   },
   {
    "duration": 49,
    "start_time": "2023-06-30T12:07:34.591Z"
   },
   {
    "duration": 55,
    "start_time": "2023-06-30T12:07:49.321Z"
   },
   {
    "duration": 91,
    "start_time": "2023-06-30T12:10:09.695Z"
   },
   {
    "duration": 16,
    "start_time": "2023-06-30T12:10:24.123Z"
   },
   {
    "duration": 17,
    "start_time": "2023-06-30T12:20:27.432Z"
   },
   {
    "duration": 17,
    "start_time": "2023-06-30T12:22:01.506Z"
   },
   {
    "duration": 13,
    "start_time": "2023-06-30T12:22:10.840Z"
   },
   {
    "duration": 45,
    "start_time": "2023-06-30T12:22:11.240Z"
   },
   {
    "duration": 74,
    "start_time": "2023-06-30T12:22:11.715Z"
   },
   {
    "duration": 10,
    "start_time": "2023-06-30T12:22:12.243Z"
   },
   {
    "duration": 19,
    "start_time": "2023-06-30T12:22:12.714Z"
   },
   {
    "duration": 161,
    "start_time": "2023-06-30T12:22:55.338Z"
   },
   {
    "duration": 178,
    "start_time": "2023-06-30T12:23:00.066Z"
   },
   {
    "duration": 147,
    "start_time": "2023-06-30T12:24:06.619Z"
   },
   {
    "duration": 44,
    "start_time": "2023-06-30T12:27:45.419Z"
   },
   {
    "duration": 678,
    "start_time": "2023-06-30T12:34:12.663Z"
   },
   {
    "duration": 881,
    "start_time": "2023-06-30T12:40:12.499Z"
   },
   {
    "duration": 146,
    "start_time": "2023-06-30T12:43:34.312Z"
   },
   {
    "duration": 140,
    "start_time": "2023-06-30T12:44:07.452Z"
   },
   {
    "duration": 142,
    "start_time": "2023-06-30T12:44:17.672Z"
   },
   {
    "duration": 1126,
    "start_time": "2023-06-30T12:46:50.642Z"
   },
   {
    "duration": 587,
    "start_time": "2023-06-30T12:49:08.491Z"
   },
   {
    "duration": 63,
    "start_time": "2023-06-30T12:50:32.735Z"
   },
   {
    "duration": 62,
    "start_time": "2023-06-30T12:50:37.915Z"
   },
   {
    "duration": 93,
    "start_time": "2023-06-30T13:32:22.352Z"
   },
   {
    "duration": 58191,
    "start_time": "2023-06-30T13:32:32.426Z"
   },
   {
    "duration": 187,
    "start_time": "2023-06-30T13:33:30.622Z"
   },
   {
    "duration": 62,
    "start_time": "2023-06-30T13:34:09.561Z"
   },
   {
    "duration": 47,
    "start_time": "2023-06-30T13:40:10.070Z"
   },
   {
    "duration": 5,
    "start_time": "2023-06-30T13:41:11.323Z"
   },
   {
    "duration": 959,
    "start_time": "2023-06-30T13:41:11.615Z"
   },
   {
    "duration": 13,
    "start_time": "2023-06-30T13:41:12.576Z"
   },
   {
    "duration": 151,
    "start_time": "2023-06-30T13:41:12.590Z"
   },
   {
    "duration": 121,
    "start_time": "2023-06-30T13:41:12.743Z"
   },
   {
    "duration": 59,
    "start_time": "2023-06-30T13:41:12.866Z"
   },
   {
    "duration": 120,
    "start_time": "2023-06-30T13:41:12.928Z"
   },
   {
    "duration": 385,
    "start_time": "2023-06-30T13:41:13.050Z"
   },
   {
    "duration": 793,
    "start_time": "2023-06-30T13:41:13.437Z"
   },
   {
    "duration": 27,
    "start_time": "2023-06-30T13:41:14.231Z"
   },
   {
    "duration": 88,
    "start_time": "2023-06-30T13:41:14.260Z"
   },
   {
    "duration": 122,
    "start_time": "2023-06-30T13:41:14.349Z"
   },
   {
    "duration": 73,
    "start_time": "2023-06-30T13:41:14.473Z"
   },
   {
    "duration": 8,
    "start_time": "2023-06-30T13:41:14.547Z"
   },
   {
    "duration": 36,
    "start_time": "2023-06-30T13:41:14.664Z"
   },
   {
    "duration": 566,
    "start_time": "2023-06-30T13:41:14.704Z"
   },
   {
    "duration": 34,
    "start_time": "2023-06-30T13:41:15.271Z"
   },
   {
    "duration": 55,
    "start_time": "2023-06-30T13:41:15.306Z"
   },
   {
    "duration": 7,
    "start_time": "2023-06-30T13:41:15.363Z"
   },
   {
    "duration": 346,
    "start_time": "2023-06-30T13:41:15.371Z"
   },
   {
    "duration": 1843,
    "start_time": "2023-06-30T13:41:15.723Z"
   },
   {
    "duration": 62,
    "start_time": "2023-06-30T13:41:17.568Z"
   },
   {
    "duration": 42,
    "start_time": "2023-06-30T13:41:17.632Z"
   },
   {
    "duration": 54,
    "start_time": "2023-06-30T13:41:17.675Z"
   },
   {
    "duration": 32,
    "start_time": "2023-06-30T13:41:17.730Z"
   },
   {
    "duration": 392,
    "start_time": "2023-06-30T13:41:17.764Z"
   },
   {
    "duration": 38,
    "start_time": "2023-06-30T13:41:18.158Z"
   },
   {
    "duration": 46,
    "start_time": "2023-06-30T13:41:18.200Z"
   },
   {
    "duration": 26,
    "start_time": "2023-06-30T13:41:18.249Z"
   },
   {
    "duration": 7,
    "start_time": "2023-06-30T13:41:18.276Z"
   },
   {
    "duration": 17,
    "start_time": "2023-06-30T13:41:18.317Z"
   },
   {
    "duration": 32,
    "start_time": "2023-06-30T13:41:18.335Z"
   },
   {
    "duration": 27,
    "start_time": "2023-06-30T13:41:18.368Z"
   },
   {
    "duration": 37,
    "start_time": "2023-06-30T13:41:18.397Z"
   },
   {
    "duration": 30,
    "start_time": "2023-06-30T13:41:18.447Z"
   },
   {
    "duration": 58,
    "start_time": "2023-06-30T13:41:18.779Z"
   },
   {
    "duration": 26,
    "start_time": "2023-06-30T13:41:18.927Z"
   },
   {
    "duration": 74,
    "start_time": "2023-06-30T13:41:19.280Z"
   },
   {
    "duration": 74,
    "start_time": "2023-06-30T13:41:19.578Z"
   },
   {
    "duration": 17,
    "start_time": "2023-06-30T13:41:20.393Z"
   },
   {
    "duration": 77,
    "start_time": "2023-06-30T13:41:20.576Z"
   },
   {
    "duration": 71,
    "start_time": "2023-06-30T13:41:20.743Z"
   },
   {
    "duration": 15,
    "start_time": "2023-06-30T13:41:20.919Z"
   },
   {
    "duration": 150,
    "start_time": "2023-06-30T13:41:21.121Z"
   },
   {
    "duration": 803,
    "start_time": "2023-06-30T13:41:21.273Z"
   },
   {
    "duration": 151,
    "start_time": "2023-06-30T13:41:22.078Z"
   },
   {
    "duration": 631,
    "start_time": "2023-06-30T13:41:22.231Z"
   },
   {
    "duration": 79,
    "start_time": "2023-06-30T13:41:22.864Z"
   },
   {
    "duration": 2,
    "start_time": "2023-06-30T13:41:22.944Z"
   },
   {
    "duration": 14,
    "start_time": "2023-06-30T13:41:22.947Z"
   },
   {
    "duration": 94951,
    "start_time": "2023-06-30T13:41:22.963Z"
   },
   {
    "duration": 289,
    "start_time": "2023-06-30T13:42:57.917Z"
   },
   {
    "duration": 124,
    "start_time": "2023-06-30T13:42:58.207Z"
   },
   {
    "duration": 633163,
    "start_time": "2023-06-30T13:43:09.123Z"
   },
   {
    "duration": 0,
    "start_time": "2023-06-30T13:53:42.287Z"
   },
   {
    "duration": 353513,
    "start_time": "2023-06-30T13:54:03.826Z"
   },
   {
    "duration": 44028,
    "start_time": "2023-06-30T13:59:57.341Z"
   },
   {
    "duration": 46,
    "start_time": "2023-06-30T14:00:58.726Z"
   },
   {
    "duration": 763,
    "start_time": "2023-06-30T14:01:01.781Z"
   },
   {
    "duration": 16,
    "start_time": "2023-06-30T14:01:02.546Z"
   },
   {
    "duration": 164,
    "start_time": "2023-06-30T14:01:02.564Z"
   },
   {
    "duration": 119,
    "start_time": "2023-06-30T14:01:02.730Z"
   },
   {
    "duration": 26,
    "start_time": "2023-06-30T14:01:02.850Z"
   },
   {
    "duration": 131,
    "start_time": "2023-06-30T14:01:02.878Z"
   },
   {
    "duration": 431,
    "start_time": "2023-06-30T14:01:03.011Z"
   },
   {
    "duration": 839,
    "start_time": "2023-06-30T14:01:03.444Z"
   },
   {
    "duration": 40,
    "start_time": "2023-06-30T14:01:04.284Z"
   },
   {
    "duration": 88,
    "start_time": "2023-06-30T14:01:04.326Z"
   },
   {
    "duration": 127,
    "start_time": "2023-06-30T14:01:04.416Z"
   },
   {
    "duration": 66,
    "start_time": "2023-06-30T14:01:04.544Z"
   },
   {
    "duration": 10,
    "start_time": "2023-06-30T14:01:04.611Z"
   },
   {
    "duration": 30,
    "start_time": "2023-06-30T14:01:04.623Z"
   },
   {
    "duration": 686,
    "start_time": "2023-06-30T14:01:04.655Z"
   },
   {
    "duration": 31,
    "start_time": "2023-06-30T14:01:05.343Z"
   },
   {
    "duration": 60,
    "start_time": "2023-06-30T14:01:05.376Z"
   },
   {
    "duration": 7,
    "start_time": "2023-06-30T14:01:05.534Z"
   },
   {
    "duration": 311,
    "start_time": "2023-06-30T14:01:05.673Z"
   },
   {
    "duration": 1648,
    "start_time": "2023-06-30T14:01:05.986Z"
   },
   {
    "duration": 41,
    "start_time": "2023-06-30T14:01:07.635Z"
   },
   {
    "duration": 43,
    "start_time": "2023-06-30T14:01:07.677Z"
   },
   {
    "duration": 28,
    "start_time": "2023-06-30T14:01:07.722Z"
   },
   {
    "duration": 7,
    "start_time": "2023-06-30T14:01:07.751Z"
   },
   {
    "duration": 330,
    "start_time": "2023-06-30T14:01:07.759Z"
   },
   {
    "duration": 47,
    "start_time": "2023-06-30T14:01:08.090Z"
   },
   {
    "duration": 48,
    "start_time": "2023-06-30T14:01:08.139Z"
   },
   {
    "duration": 37,
    "start_time": "2023-06-30T14:01:08.189Z"
   },
   {
    "duration": 8,
    "start_time": "2023-06-30T14:01:09.016Z"
   },
   {
    "duration": 14,
    "start_time": "2023-06-30T14:01:09.369Z"
   },
   {
    "duration": 25,
    "start_time": "2023-06-30T14:01:10.127Z"
   },
   {
    "duration": 25,
    "start_time": "2023-06-30T14:01:10.446Z"
   },
   {
    "duration": 25,
    "start_time": "2023-06-30T14:01:10.750Z"
   },
   {
    "duration": 31,
    "start_time": "2023-06-30T14:01:11.887Z"
   },
   {
    "duration": 23,
    "start_time": "2023-06-30T14:01:13.036Z"
   },
   {
    "duration": 27,
    "start_time": "2023-06-30T14:01:14.465Z"
   },
   {
    "duration": 70,
    "start_time": "2023-06-30T14:01:14.773Z"
   },
   {
    "duration": 61,
    "start_time": "2023-06-30T14:01:17.430Z"
   },
   {
    "duration": 16,
    "start_time": "2023-06-30T14:01:18.439Z"
   },
   {
    "duration": 44,
    "start_time": "2023-06-30T14:01:20.129Z"
   },
   {
    "duration": 62,
    "start_time": "2023-06-30T14:01:20.432Z"
   },
   {
    "duration": 37,
    "start_time": "2023-06-30T14:01:20.496Z"
   },
   {
    "duration": 151,
    "start_time": "2023-06-30T14:01:20.617Z"
   },
   {
    "duration": 813,
    "start_time": "2023-06-30T14:01:20.770Z"
   },
   {
    "duration": 150,
    "start_time": "2023-06-30T14:01:21.585Z"
   },
   {
    "duration": 619,
    "start_time": "2023-06-30T14:01:21.737Z"
   },
   {
    "duration": 71,
    "start_time": "2023-06-30T14:01:22.358Z"
   },
   {
    "duration": 5,
    "start_time": "2023-06-30T14:06:02.426Z"
   },
   {
    "duration": 694,
    "start_time": "2023-06-30T14:06:02.624Z"
   },
   {
    "duration": 12,
    "start_time": "2023-06-30T14:06:03.321Z"
   },
   {
    "duration": 128,
    "start_time": "2023-06-30T14:06:03.334Z"
   },
   {
    "duration": 123,
    "start_time": "2023-06-30T14:06:03.464Z"
   },
   {
    "duration": 50,
    "start_time": "2023-06-30T14:06:03.588Z"
   },
   {
    "duration": 117,
    "start_time": "2023-06-30T14:06:03.640Z"
   },
   {
    "duration": 387,
    "start_time": "2023-06-30T14:06:03.759Z"
   },
   {
    "duration": 726,
    "start_time": "2023-06-30T14:06:04.147Z"
   },
   {
    "duration": 39,
    "start_time": "2023-06-30T14:06:04.875Z"
   },
   {
    "duration": 97,
    "start_time": "2023-06-30T14:06:04.917Z"
   },
   {
    "duration": 123,
    "start_time": "2023-06-30T14:06:05.019Z"
   },
   {
    "duration": 74,
    "start_time": "2023-06-30T14:06:05.144Z"
   },
   {
    "duration": 8,
    "start_time": "2023-06-30T14:06:05.220Z"
   },
   {
    "duration": 38,
    "start_time": "2023-06-30T14:06:05.229Z"
   },
   {
    "duration": 752,
    "start_time": "2023-06-30T14:06:05.269Z"
   },
   {
    "duration": 42,
    "start_time": "2023-06-30T14:06:06.024Z"
   },
   {
    "duration": 92,
    "start_time": "2023-06-30T14:06:06.068Z"
   },
   {
    "duration": 24,
    "start_time": "2023-06-30T14:06:06.162Z"
   },
   {
    "duration": 376,
    "start_time": "2023-06-30T14:06:06.204Z"
   },
   {
    "duration": 1596,
    "start_time": "2023-06-30T14:06:06.582Z"
   },
   {
    "duration": 50,
    "start_time": "2023-06-30T14:06:08.179Z"
   },
   {
    "duration": 25,
    "start_time": "2023-06-30T14:06:08.231Z"
   },
   {
    "duration": 50,
    "start_time": "2023-06-30T14:06:08.257Z"
   },
   {
    "duration": 11,
    "start_time": "2023-06-30T14:06:08.308Z"
   },
   {
    "duration": 325,
    "start_time": "2023-06-30T14:06:08.320Z"
   },
   {
    "duration": 35,
    "start_time": "2023-06-30T14:06:08.647Z"
   },
   {
    "duration": 46,
    "start_time": "2023-06-30T14:06:08.684Z"
   },
   {
    "duration": 53,
    "start_time": "2023-06-30T14:06:08.731Z"
   },
   {
    "duration": 6,
    "start_time": "2023-06-30T14:06:08.785Z"
   },
   {
    "duration": 59,
    "start_time": "2023-06-30T14:06:08.793Z"
   },
   {
    "duration": 33,
    "start_time": "2023-06-30T14:06:09.285Z"
   },
   {
    "duration": 36,
    "start_time": "2023-06-30T14:06:09.477Z"
   },
   {
    "duration": 36,
    "start_time": "2023-06-30T14:06:09.698Z"
   },
   {
    "duration": 26,
    "start_time": "2023-06-30T14:06:10.050Z"
   },
   {
    "duration": 24,
    "start_time": "2023-06-30T14:06:10.440Z"
   },
   {
    "duration": 27,
    "start_time": "2023-06-30T14:06:10.622Z"
   },
   {
    "duration": 59,
    "start_time": "2023-06-30T14:06:11.217Z"
   },
   {
    "duration": 58,
    "start_time": "2023-06-30T14:06:11.828Z"
   },
   {
    "duration": 16,
    "start_time": "2023-06-30T14:06:13.012Z"
   },
   {
    "duration": 49,
    "start_time": "2023-06-30T14:06:13.190Z"
   },
   {
    "duration": 68,
    "start_time": "2023-06-30T14:06:13.378Z"
   },
   {
    "duration": 10,
    "start_time": "2023-06-30T14:06:13.565Z"
   },
   {
    "duration": 139,
    "start_time": "2023-06-30T14:06:13.770Z"
   },
   {
    "duration": 742,
    "start_time": "2023-06-30T14:06:13.938Z"
   },
   {
    "duration": 143,
    "start_time": "2023-06-30T14:06:14.682Z"
   },
   {
    "duration": 618,
    "start_time": "2023-06-30T14:06:14.827Z"
   },
   {
    "duration": 81,
    "start_time": "2023-06-30T14:06:15.447Z"
   },
   {
    "duration": 3,
    "start_time": "2023-06-30T14:06:15.530Z"
   },
   {
    "duration": 32,
    "start_time": "2023-06-30T14:06:15.535Z"
   },
   {
    "duration": 1538,
    "start_time": "2023-06-30T14:06:38.600Z"
   },
   {
    "duration": 1084,
    "start_time": "2023-06-30T14:06:40.139Z"
   },
   {
    "duration": 15,
    "start_time": "2023-06-30T14:06:41.224Z"
   },
   {
    "duration": 112,
    "start_time": "2023-06-30T14:06:41.241Z"
   },
   {
    "duration": 105,
    "start_time": "2023-06-30T14:06:41.354Z"
   },
   {
    "duration": 55,
    "start_time": "2023-06-30T14:06:41.460Z"
   },
   {
    "duration": 162,
    "start_time": "2023-06-30T14:06:41.517Z"
   },
   {
    "duration": 391,
    "start_time": "2023-06-30T14:06:41.681Z"
   },
   {
    "duration": 808,
    "start_time": "2023-06-30T14:06:42.074Z"
   },
   {
    "duration": 35,
    "start_time": "2023-06-30T14:06:42.884Z"
   },
   {
    "duration": 89,
    "start_time": "2023-06-30T14:06:42.920Z"
   },
   {
    "duration": 113,
    "start_time": "2023-06-30T14:06:43.014Z"
   },
   {
    "duration": 53,
    "start_time": "2023-06-30T14:06:43.129Z"
   },
   {
    "duration": 21,
    "start_time": "2023-06-30T14:06:43.183Z"
   },
   {
    "duration": 39,
    "start_time": "2023-06-30T14:06:43.205Z"
   },
   {
    "duration": 621,
    "start_time": "2023-06-30T14:06:43.245Z"
   },
   {
    "duration": 37,
    "start_time": "2023-06-30T14:06:43.867Z"
   },
   {
    "duration": 36,
    "start_time": "2023-06-30T14:06:43.906Z"
   },
   {
    "duration": 6,
    "start_time": "2023-06-30T14:06:43.945Z"
   },
   {
    "duration": 308,
    "start_time": "2023-06-30T14:06:43.952Z"
   },
   {
    "duration": 1554,
    "start_time": "2023-06-30T14:06:44.262Z"
   },
   {
    "duration": 43,
    "start_time": "2023-06-30T14:06:45.818Z"
   },
   {
    "duration": 50,
    "start_time": "2023-06-30T14:06:45.863Z"
   },
   {
    "duration": 59,
    "start_time": "2023-06-30T14:06:45.915Z"
   },
   {
    "duration": 9,
    "start_time": "2023-06-30T14:06:45.976Z"
   },
   {
    "duration": 391,
    "start_time": "2023-06-30T14:06:45.987Z"
   },
   {
    "duration": 44,
    "start_time": "2023-06-30T14:06:46.379Z"
   },
   {
    "duration": 28,
    "start_time": "2023-06-30T14:06:46.424Z"
   },
   {
    "duration": 60,
    "start_time": "2023-06-30T14:06:46.453Z"
   },
   {
    "duration": 16,
    "start_time": "2023-06-30T14:06:46.514Z"
   },
   {
    "duration": 47,
    "start_time": "2023-06-30T14:06:46.532Z"
   },
   {
    "duration": 61,
    "start_time": "2023-06-30T14:06:46.581Z"
   },
   {
    "duration": 49,
    "start_time": "2023-06-30T14:06:46.643Z"
   },
   {
    "duration": 37,
    "start_time": "2023-06-30T14:06:46.694Z"
   },
   {
    "duration": 25,
    "start_time": "2023-06-30T14:06:46.865Z"
   },
   {
    "duration": 24,
    "start_time": "2023-06-30T14:06:47.213Z"
   },
   {
    "duration": 28,
    "start_time": "2023-06-30T14:06:47.411Z"
   },
   {
    "duration": 58,
    "start_time": "2023-06-30T14:06:47.819Z"
   },
   {
    "duration": 63,
    "start_time": "2023-06-30T14:06:48.255Z"
   },
   {
    "duration": 13,
    "start_time": "2023-06-30T14:06:49.531Z"
   },
   {
    "duration": 45,
    "start_time": "2023-06-30T14:06:49.737Z"
   },
   {
    "duration": 65,
    "start_time": "2023-06-30T14:06:50.796Z"
   },
   {
    "duration": 19,
    "start_time": "2023-06-30T14:06:50.991Z"
   },
   {
    "duration": 143,
    "start_time": "2023-06-30T14:06:51.166Z"
   },
   {
    "duration": 768,
    "start_time": "2023-06-30T14:06:51.324Z"
   },
   {
    "duration": 148,
    "start_time": "2023-06-30T14:06:52.094Z"
   },
   {
    "duration": 595,
    "start_time": "2023-06-30T14:06:52.243Z"
   },
   {
    "duration": 75,
    "start_time": "2023-06-30T14:06:52.840Z"
   },
   {
    "duration": 3,
    "start_time": "2023-06-30T14:06:52.916Z"
   },
   {
    "duration": 28,
    "start_time": "2023-06-30T14:06:52.920Z"
   },
   {
    "duration": 3729,
    "start_time": "2023-06-30T14:15:22.471Z"
   },
   {
    "duration": 2110,
    "start_time": "2023-06-30T14:15:49.566Z"
   },
   {
    "duration": 2574,
    "start_time": "2023-06-30T14:16:10.532Z"
   },
   {
    "duration": 7232,
    "start_time": "2023-06-30T14:16:21.708Z"
   },
   {
    "duration": 15284,
    "start_time": "2023-06-30T14:16:38.419Z"
   },
   {
    "duration": 198,
    "start_time": "2023-06-30T14:16:53.705Z"
   },
   {
    "duration": 731,
    "start_time": "2023-06-30T14:17:12.400Z"
   },
   {
    "duration": 127,
    "start_time": "2023-06-30T14:17:13.133Z"
   },
   {
    "duration": 576,
    "start_time": "2023-06-30T14:17:13.262Z"
   },
   {
    "duration": 63,
    "start_time": "2023-06-30T14:17:13.840Z"
   },
   {
    "duration": 2,
    "start_time": "2023-06-30T14:17:13.905Z"
   },
   {
    "duration": 3,
    "start_time": "2023-06-30T14:17:14.116Z"
   },
   {
    "duration": 16098,
    "start_time": "2023-06-30T14:17:14.120Z"
   },
   {
    "duration": 203,
    "start_time": "2023-06-30T14:17:30.300Z"
   },
   {
    "duration": 15549,
    "start_time": "2023-06-30T14:17:54.052Z"
   },
   {
    "duration": 142,
    "start_time": "2023-06-30T14:18:09.603Z"
   },
   {
    "duration": 7438,
    "start_time": "2023-06-30T14:18:26.366Z"
   },
   {
    "duration": 7776,
    "start_time": "2023-06-30T14:23:00.410Z"
   },
   {
    "duration": 7558,
    "start_time": "2023-06-30T14:23:32.422Z"
   },
   {
    "duration": 6159,
    "start_time": "2023-06-30T14:25:05.369Z"
   },
   {
    "duration": 2731,
    "start_time": "2023-06-30T14:30:02.864Z"
   },
   {
    "duration": 2654,
    "start_time": "2023-06-30T14:30:29.621Z"
   },
   {
    "duration": 321,
    "start_time": "2023-06-30T14:31:28.439Z"
   },
   {
    "duration": 79,
    "start_time": "2023-06-30T14:35:41.209Z"
   },
   {
    "duration": 658,
    "start_time": "2023-06-30T14:35:41.608Z"
   },
   {
    "duration": 12,
    "start_time": "2023-06-30T14:35:42.268Z"
   },
   {
    "duration": 126,
    "start_time": "2023-06-30T14:35:42.281Z"
   },
   {
    "duration": 112,
    "start_time": "2023-06-30T14:35:42.410Z"
   },
   {
    "duration": 18,
    "start_time": "2023-06-30T14:35:42.524Z"
   },
   {
    "duration": 119,
    "start_time": "2023-06-30T14:35:42.543Z"
   },
   {
    "duration": 371,
    "start_time": "2023-06-30T14:35:42.663Z"
   },
   {
    "duration": 743,
    "start_time": "2023-06-30T14:35:43.036Z"
   },
   {
    "duration": 35,
    "start_time": "2023-06-30T14:35:43.780Z"
   },
   {
    "duration": 70,
    "start_time": "2023-06-30T14:35:43.817Z"
   },
   {
    "duration": 117,
    "start_time": "2023-06-30T14:35:43.888Z"
   },
   {
    "duration": 50,
    "start_time": "2023-06-30T14:35:44.007Z"
   },
   {
    "duration": 7,
    "start_time": "2023-06-30T14:35:44.059Z"
   },
   {
    "duration": 49,
    "start_time": "2023-06-30T14:35:44.068Z"
   },
   {
    "duration": 620,
    "start_time": "2023-06-30T14:35:44.118Z"
   },
   {
    "duration": 27,
    "start_time": "2023-06-30T14:35:44.740Z"
   },
   {
    "duration": 39,
    "start_time": "2023-06-30T14:35:44.769Z"
   },
   {
    "duration": 7,
    "start_time": "2023-06-30T14:35:44.819Z"
   },
   {
    "duration": 302,
    "start_time": "2023-06-30T14:35:44.978Z"
   },
   {
    "duration": 1631,
    "start_time": "2023-06-30T14:35:45.282Z"
   },
   {
    "duration": 35,
    "start_time": "2023-06-30T14:35:46.915Z"
   },
   {
    "duration": 27,
    "start_time": "2023-06-30T14:35:46.951Z"
   },
   {
    "duration": 50,
    "start_time": "2023-06-30T14:35:46.980Z"
   },
   {
    "duration": 7,
    "start_time": "2023-06-30T14:35:47.032Z"
   },
   {
    "duration": 348,
    "start_time": "2023-06-30T14:35:47.040Z"
   },
   {
    "duration": 34,
    "start_time": "2023-06-30T14:35:47.400Z"
   },
   {
    "duration": 28,
    "start_time": "2023-06-30T14:35:47.436Z"
   },
   {
    "duration": 45,
    "start_time": "2023-06-30T14:35:47.465Z"
   },
   {
    "duration": 26,
    "start_time": "2023-06-30T14:35:47.513Z"
   },
   {
    "duration": 32,
    "start_time": "2023-06-30T14:35:47.540Z"
   },
   {
    "duration": 26,
    "start_time": "2023-06-30T14:35:47.706Z"
   },
   {
    "duration": 24,
    "start_time": "2023-06-30T14:35:47.845Z"
   },
   {
    "duration": 26,
    "start_time": "2023-06-30T14:35:48.010Z"
   },
   {
    "duration": 36,
    "start_time": "2023-06-30T14:35:48.317Z"
   },
   {
    "duration": 24,
    "start_time": "2023-06-30T14:35:48.650Z"
   },
   {
    "duration": 27,
    "start_time": "2023-06-30T14:35:48.829Z"
   },
   {
    "duration": 61,
    "start_time": "2023-06-30T14:35:49.172Z"
   },
   {
    "duration": 57,
    "start_time": "2023-06-30T14:35:49.512Z"
   },
   {
    "duration": 16,
    "start_time": "2023-06-30T14:35:50.160Z"
   },
   {
    "duration": 40,
    "start_time": "2023-06-30T14:35:50.335Z"
   },
   {
    "duration": 58,
    "start_time": "2023-06-30T14:35:50.514Z"
   },
   {
    "duration": 9,
    "start_time": "2023-06-30T14:35:50.711Z"
   },
   {
    "duration": 118,
    "start_time": "2023-06-30T14:35:50.839Z"
   },
   {
    "duration": 804,
    "start_time": "2023-06-30T14:35:51.013Z"
   },
   {
    "duration": 124,
    "start_time": "2023-06-30T14:35:51.818Z"
   },
   {
    "duration": 558,
    "start_time": "2023-06-30T14:35:51.943Z"
   },
   {
    "duration": 59,
    "start_time": "2023-06-30T14:35:52.503Z"
   },
   {
    "duration": 3,
    "start_time": "2023-06-30T14:35:53.136Z"
   },
   {
    "duration": 1917,
    "start_time": "2023-07-01T07:15:33.214Z"
   },
   {
    "duration": 2882,
    "start_time": "2023-07-01T07:15:35.133Z"
   },
   {
    "duration": 19,
    "start_time": "2023-07-01T07:15:38.017Z"
   },
   {
    "duration": 156,
    "start_time": "2023-07-01T07:15:38.038Z"
   },
   {
    "duration": 158,
    "start_time": "2023-07-01T07:15:38.196Z"
   },
   {
    "duration": 64,
    "start_time": "2023-07-01T07:15:38.356Z"
   },
   {
    "duration": 224,
    "start_time": "2023-07-01T07:15:38.422Z"
   },
   {
    "duration": 522,
    "start_time": "2023-07-01T07:15:38.648Z"
   },
   {
    "duration": 1092,
    "start_time": "2023-07-01T07:15:39.173Z"
   },
   {
    "duration": 30,
    "start_time": "2023-07-01T07:15:40.267Z"
   },
   {
    "duration": 107,
    "start_time": "2023-07-01T07:15:40.298Z"
   },
   {
    "duration": 154,
    "start_time": "2023-07-01T07:15:40.406Z"
   },
   {
    "duration": 64,
    "start_time": "2023-07-01T07:15:40.562Z"
   },
   {
    "duration": 27,
    "start_time": "2023-07-01T07:15:40.628Z"
   },
   {
    "duration": 38,
    "start_time": "2023-07-01T07:15:40.657Z"
   },
   {
    "duration": 787,
    "start_time": "2023-07-01T07:15:40.697Z"
   },
   {
    "duration": 36,
    "start_time": "2023-07-01T07:15:41.485Z"
   },
   {
    "duration": 52,
    "start_time": "2023-07-01T07:15:41.523Z"
   },
   {
    "duration": 10,
    "start_time": "2023-07-01T07:15:41.578Z"
   },
   {
    "duration": 386,
    "start_time": "2023-07-01T07:15:41.590Z"
   },
   {
    "duration": 2112,
    "start_time": "2023-07-01T07:15:41.978Z"
   },
   {
    "duration": 63,
    "start_time": "2023-07-01T07:15:44.092Z"
   },
   {
    "duration": 35,
    "start_time": "2023-07-01T07:15:44.157Z"
   },
   {
    "duration": 93,
    "start_time": "2023-07-01T07:15:44.194Z"
   },
   {
    "duration": 8,
    "start_time": "2023-07-01T07:15:44.289Z"
   },
   {
    "duration": 456,
    "start_time": "2023-07-01T07:15:44.299Z"
   },
   {
    "duration": 39,
    "start_time": "2023-07-01T07:15:44.757Z"
   },
   {
    "duration": 33,
    "start_time": "2023-07-01T07:15:44.800Z"
   },
   {
    "duration": 34,
    "start_time": "2023-07-01T07:15:44.855Z"
   },
   {
    "duration": 7,
    "start_time": "2023-07-01T07:15:44.891Z"
   },
   {
    "duration": 17,
    "start_time": "2023-07-01T07:15:44.899Z"
   },
   {
    "duration": 52,
    "start_time": "2023-07-01T07:15:44.918Z"
   },
   {
    "duration": 31,
    "start_time": "2023-07-01T07:15:44.972Z"
   },
   {
    "duration": 64,
    "start_time": "2023-07-01T07:15:45.005Z"
   },
   {
    "duration": 42,
    "start_time": "2023-07-01T07:15:45.072Z"
   },
   {
    "duration": 45,
    "start_time": "2023-07-01T07:15:45.116Z"
   },
   {
    "duration": 36,
    "start_time": "2023-07-01T07:15:45.163Z"
   },
   {
    "duration": 100,
    "start_time": "2023-07-01T07:15:45.201Z"
   },
   {
    "duration": 96,
    "start_time": "2023-07-01T07:15:45.303Z"
   },
   {
    "duration": 15,
    "start_time": "2023-07-01T07:15:45.401Z"
   },
   {
    "duration": 89,
    "start_time": "2023-07-01T07:15:45.417Z"
   },
   {
    "duration": 92,
    "start_time": "2023-07-01T07:15:45.509Z"
   },
   {
    "duration": 29,
    "start_time": "2023-07-01T07:15:45.603Z"
   },
   {
    "duration": 182,
    "start_time": "2023-07-01T07:15:45.634Z"
   },
   {
    "duration": 1209,
    "start_time": "2023-07-01T07:15:45.818Z"
   },
   {
    "duration": 172,
    "start_time": "2023-07-01T07:15:47.028Z"
   },
   {
    "duration": 802,
    "start_time": "2023-07-01T07:15:47.202Z"
   },
   {
    "duration": 86,
    "start_time": "2023-07-01T07:15:48.006Z"
   },
   {
    "duration": 2,
    "start_time": "2023-07-01T07:15:48.094Z"
   },
   {
    "duration": 6,
    "start_time": "2023-07-01T07:15:48.099Z"
   },
   {
    "duration": 30353,
    "start_time": "2023-07-01T07:15:48.106Z"
   },
   {
    "duration": 198,
    "start_time": "2023-07-01T07:16:18.462Z"
   },
   {
    "duration": 1150,
    "start_time": "2023-07-01T07:16:18.754Z"
   },
   {
    "duration": 0,
    "start_time": "2023-07-01T07:16:19.906Z"
   },
   {
    "duration": 0,
    "start_time": "2023-07-01T07:16:19.907Z"
   },
   {
    "duration": 0,
    "start_time": "2023-07-01T07:16:19.908Z"
   },
   {
    "duration": 0,
    "start_time": "2023-07-01T07:16:19.909Z"
   },
   {
    "duration": 0,
    "start_time": "2023-07-01T07:16:19.911Z"
   },
   {
    "duration": 0,
    "start_time": "2023-07-01T07:16:19.912Z"
   },
   {
    "duration": 422103,
    "start_time": "2023-07-01T07:16:59.723Z"
   },
   {
    "duration": 3632,
    "start_time": "2023-07-01T07:24:01.828Z"
   },
   {
    "duration": 51757,
    "start_time": "2023-07-01T07:24:05.461Z"
   },
   {
    "duration": 455,
    "start_time": "2023-07-01T07:24:57.220Z"
   },
   {
    "duration": 8584,
    "start_time": "2023-07-01T07:24:57.677Z"
   },
   {
    "duration": 8939,
    "start_time": "2023-07-01T07:25:06.262Z"
   },
   {
    "duration": 6754,
    "start_time": "2023-07-01T07:25:15.203Z"
   },
   {
    "duration": 4,
    "start_time": "2023-07-01T07:45:23.718Z"
   },
   {
    "duration": 840,
    "start_time": "2023-07-01T07:45:23.870Z"
   },
   {
    "duration": 15,
    "start_time": "2023-07-01T07:45:24.712Z"
   },
   {
    "duration": 157,
    "start_time": "2023-07-01T07:45:24.729Z"
   },
   {
    "duration": 151,
    "start_time": "2023-07-01T07:45:24.888Z"
   },
   {
    "duration": 30,
    "start_time": "2023-07-01T07:45:25.041Z"
   },
   {
    "duration": 143,
    "start_time": "2023-07-01T07:45:25.073Z"
   },
   {
    "duration": 457,
    "start_time": "2023-07-01T07:45:25.218Z"
   },
   {
    "duration": 947,
    "start_time": "2023-07-01T07:45:25.677Z"
   },
   {
    "duration": 39,
    "start_time": "2023-07-01T07:45:26.626Z"
   },
   {
    "duration": 118,
    "start_time": "2023-07-01T07:45:26.667Z"
   },
   {
    "duration": 141,
    "start_time": "2023-07-01T07:45:26.787Z"
   },
   {
    "duration": 68,
    "start_time": "2023-07-01T07:45:26.931Z"
   },
   {
    "duration": 9,
    "start_time": "2023-07-01T07:45:27.000Z"
   },
   {
    "duration": 47,
    "start_time": "2023-07-01T07:45:27.011Z"
   },
   {
    "duration": 854,
    "start_time": "2023-07-01T07:45:27.059Z"
   },
   {
    "duration": 45,
    "start_time": "2023-07-01T07:45:27.915Z"
   },
   {
    "duration": 36,
    "start_time": "2023-07-01T07:45:27.961Z"
   },
   {
    "duration": 8,
    "start_time": "2023-07-01T07:45:28.000Z"
   },
   {
    "duration": 388,
    "start_time": "2023-07-01T07:45:28.010Z"
   },
   {
    "duration": 2003,
    "start_time": "2023-07-01T07:45:28.400Z"
   },
   {
    "duration": 54,
    "start_time": "2023-07-01T07:45:30.405Z"
   },
   {
    "duration": 34,
    "start_time": "2023-07-01T07:45:30.462Z"
   },
   {
    "duration": 77,
    "start_time": "2023-07-01T07:45:30.498Z"
   },
   {
    "duration": 17,
    "start_time": "2023-07-01T07:45:30.577Z"
   },
   {
    "duration": 523,
    "start_time": "2023-07-01T07:45:30.597Z"
   },
   {
    "duration": 47,
    "start_time": "2023-07-01T07:45:31.123Z"
   },
   {
    "duration": 34,
    "start_time": "2023-07-01T07:45:31.172Z"
   },
   {
    "duration": 55,
    "start_time": "2023-07-01T07:45:31.208Z"
   },
   {
    "duration": 45,
    "start_time": "2023-07-01T07:45:31.265Z"
   },
   {
    "duration": 49,
    "start_time": "2023-07-01T07:45:31.312Z"
   },
   {
    "duration": 57,
    "start_time": "2023-07-01T07:45:31.363Z"
   },
   {
    "duration": 71,
    "start_time": "2023-07-01T07:45:31.422Z"
   },
   {
    "duration": 52,
    "start_time": "2023-07-01T07:45:31.495Z"
   },
   {
    "duration": 52,
    "start_time": "2023-07-01T07:45:31.548Z"
   },
   {
    "duration": 60,
    "start_time": "2023-07-01T07:45:31.602Z"
   },
   {
    "duration": 34,
    "start_time": "2023-07-01T07:45:31.793Z"
   },
   {
    "duration": 86,
    "start_time": "2023-07-01T07:45:32.327Z"
   },
   {
    "duration": 79,
    "start_time": "2023-07-01T07:45:32.690Z"
   },
   {
    "duration": 17,
    "start_time": "2023-07-01T07:45:33.456Z"
   },
   {
    "duration": 59,
    "start_time": "2023-07-01T07:45:33.699Z"
   },
   {
    "duration": 78,
    "start_time": "2023-07-01T07:45:33.890Z"
   },
   {
    "duration": 11,
    "start_time": "2023-07-01T07:45:34.091Z"
   },
   {
    "duration": 146,
    "start_time": "2023-07-01T07:45:34.301Z"
   },
   {
    "duration": 1203,
    "start_time": "2023-07-01T07:45:34.502Z"
   },
   {
    "duration": 159,
    "start_time": "2023-07-01T07:45:35.707Z"
   },
   {
    "duration": 672,
    "start_time": "2023-07-01T07:45:35.868Z"
   },
   {
    "duration": 77,
    "start_time": "2023-07-01T07:45:36.542Z"
   },
   {
    "duration": 3,
    "start_time": "2023-07-01T07:45:39.128Z"
   },
   {
    "duration": 2,
    "start_time": "2023-07-01T07:45:39.251Z"
   },
   {
    "duration": 22950,
    "start_time": "2023-07-01T07:45:40.214Z"
   },
   {
    "duration": 195,
    "start_time": "2023-07-01T07:46:03.166Z"
   },
   {
    "duration": 122,
    "start_time": "2023-07-01T07:55:35.496Z"
   },
   {
    "duration": 4,
    "start_time": "2023-07-01T07:58:07.620Z"
   },
   {
    "duration": 820,
    "start_time": "2023-07-01T07:58:07.814Z"
   },
   {
    "duration": 21,
    "start_time": "2023-07-01T07:58:08.637Z"
   },
   {
    "duration": 170,
    "start_time": "2023-07-01T07:58:08.660Z"
   },
   {
    "duration": 170,
    "start_time": "2023-07-01T07:58:08.833Z"
   },
   {
    "duration": 25,
    "start_time": "2023-07-01T07:58:09.005Z"
   },
   {
    "duration": 165,
    "start_time": "2023-07-01T07:58:09.033Z"
   },
   {
    "duration": 503,
    "start_time": "2023-07-01T07:58:09.200Z"
   },
   {
    "duration": 952,
    "start_time": "2023-07-01T07:58:09.707Z"
   },
   {
    "duration": 27,
    "start_time": "2023-07-01T07:58:10.661Z"
   },
   {
    "duration": 108,
    "start_time": "2023-07-01T07:58:10.689Z"
   },
   {
    "duration": 139,
    "start_time": "2023-07-01T07:58:10.799Z"
   },
   {
    "duration": 73,
    "start_time": "2023-07-01T07:58:10.940Z"
   },
   {
    "duration": 9,
    "start_time": "2023-07-01T07:58:11.015Z"
   },
   {
    "duration": 54,
    "start_time": "2023-07-01T07:58:11.025Z"
   },
   {
    "duration": 674,
    "start_time": "2023-07-01T07:58:11.080Z"
   },
   {
    "duration": 38,
    "start_time": "2023-07-01T07:58:11.756Z"
   },
   {
    "duration": 44,
    "start_time": "2023-07-01T07:58:11.796Z"
   },
   {
    "duration": 17,
    "start_time": "2023-07-01T07:58:11.842Z"
   },
   {
    "duration": 395,
    "start_time": "2023-07-01T07:58:11.861Z"
   },
   {
    "duration": 2082,
    "start_time": "2023-07-01T07:58:12.258Z"
   },
   {
    "duration": 56,
    "start_time": "2023-07-01T07:58:14.342Z"
   },
   {
    "duration": 56,
    "start_time": "2023-07-01T07:58:14.400Z"
   },
   {
    "duration": 38,
    "start_time": "2023-07-01T07:58:14.459Z"
   },
   {
    "duration": 8,
    "start_time": "2023-07-01T07:58:14.499Z"
   },
   {
    "duration": 529,
    "start_time": "2023-07-01T07:58:14.510Z"
   },
   {
    "duration": 51,
    "start_time": "2023-07-01T07:58:15.041Z"
   },
   {
    "duration": 35,
    "start_time": "2023-07-01T07:58:15.093Z"
   },
   {
    "duration": 51,
    "start_time": "2023-07-01T07:58:15.130Z"
   },
   {
    "duration": 8,
    "start_time": "2023-07-01T07:58:15.183Z"
   },
   {
    "duration": 18,
    "start_time": "2023-07-01T07:58:15.192Z"
   },
   {
    "duration": 54,
    "start_time": "2023-07-01T07:58:15.212Z"
   },
   {
    "duration": 44,
    "start_time": "2023-07-01T07:58:15.268Z"
   },
   {
    "duration": 59,
    "start_time": "2023-07-01T07:58:15.313Z"
   },
   {
    "duration": 35,
    "start_time": "2023-07-01T07:58:15.375Z"
   },
   {
    "duration": 53,
    "start_time": "2023-07-01T07:58:15.412Z"
   },
   {
    "duration": 67,
    "start_time": "2023-07-01T07:58:15.467Z"
   },
   {
    "duration": 105,
    "start_time": "2023-07-01T07:58:15.537Z"
   },
   {
    "duration": 84,
    "start_time": "2023-07-01T07:58:15.745Z"
   },
   {
    "duration": 17,
    "start_time": "2023-07-01T07:58:16.413Z"
   },
   {
    "duration": 61,
    "start_time": "2023-07-01T07:58:16.590Z"
   },
   {
    "duration": 83,
    "start_time": "2023-07-01T07:58:16.769Z"
   },
   {
    "duration": 12,
    "start_time": "2023-07-01T07:58:16.932Z"
   },
   {
    "duration": 159,
    "start_time": "2023-07-01T07:58:17.120Z"
   },
   {
    "duration": 1320,
    "start_time": "2023-07-01T07:58:17.281Z"
   },
   {
    "duration": 160,
    "start_time": "2023-07-01T07:58:18.604Z"
   },
   {
    "duration": 689,
    "start_time": "2023-07-01T07:58:18.766Z"
   },
   {
    "duration": 78,
    "start_time": "2023-07-01T07:58:19.458Z"
   },
   {
    "duration": 17,
    "start_time": "2023-07-01T07:58:19.537Z"
   },
   {
    "duration": 2,
    "start_time": "2023-07-01T07:58:19.557Z"
   },
   {
    "duration": 22798,
    "start_time": "2023-07-01T07:58:19.561Z"
   },
   {
    "duration": 203,
    "start_time": "2023-07-01T07:58:42.453Z"
   },
   {
    "duration": 4,
    "start_time": "2023-07-01T08:10:56.766Z"
   },
   {
    "duration": 869,
    "start_time": "2023-07-01T08:10:56.771Z"
   },
   {
    "duration": 21,
    "start_time": "2023-07-01T08:10:57.642Z"
   },
   {
    "duration": 144,
    "start_time": "2023-07-01T08:10:57.664Z"
   },
   {
    "duration": 136,
    "start_time": "2023-07-01T08:10:57.810Z"
   },
   {
    "duration": 29,
    "start_time": "2023-07-01T08:10:57.947Z"
   },
   {
    "duration": 156,
    "start_time": "2023-07-01T08:10:57.979Z"
   },
   {
    "duration": 499,
    "start_time": "2023-07-01T08:10:58.137Z"
   },
   {
    "duration": 935,
    "start_time": "2023-07-01T08:10:58.638Z"
   },
   {
    "duration": 30,
    "start_time": "2023-07-01T08:10:59.574Z"
   },
   {
    "duration": 102,
    "start_time": "2023-07-01T08:10:59.606Z"
   },
   {
    "duration": 133,
    "start_time": "2023-07-01T08:10:59.710Z"
   },
   {
    "duration": 59,
    "start_time": "2023-07-01T08:10:59.845Z"
   },
   {
    "duration": 8,
    "start_time": "2023-07-01T08:10:59.906Z"
   },
   {
    "duration": 57,
    "start_time": "2023-07-01T08:10:59.916Z"
   },
   {
    "duration": 681,
    "start_time": "2023-07-01T08:10:59.975Z"
   },
   {
    "duration": 36,
    "start_time": "2023-07-01T08:11:00.658Z"
   },
   {
    "duration": 54,
    "start_time": "2023-07-01T08:11:00.696Z"
   },
   {
    "duration": 44,
    "start_time": "2023-07-01T08:11:00.753Z"
   },
   {
    "duration": 378,
    "start_time": "2023-07-01T08:11:00.799Z"
   },
   {
    "duration": 2159,
    "start_time": "2023-07-01T08:11:01.179Z"
   },
   {
    "duration": 48,
    "start_time": "2023-07-01T08:11:03.340Z"
   },
   {
    "duration": 34,
    "start_time": "2023-07-01T08:11:03.390Z"
   },
   {
    "duration": 54,
    "start_time": "2023-07-01T08:11:03.426Z"
   },
   {
    "duration": 10,
    "start_time": "2023-07-01T08:11:03.486Z"
   },
   {
    "duration": 394,
    "start_time": "2023-07-01T08:11:03.498Z"
   },
   {
    "duration": 38,
    "start_time": "2023-07-01T08:11:03.895Z"
   },
   {
    "duration": 50,
    "start_time": "2023-07-01T08:11:03.935Z"
   },
   {
    "duration": 34,
    "start_time": "2023-07-01T08:11:03.986Z"
   },
   {
    "duration": 8,
    "start_time": "2023-07-01T08:11:04.022Z"
   },
   {
    "duration": 36,
    "start_time": "2023-07-01T08:11:04.031Z"
   },
   {
    "duration": 31,
    "start_time": "2023-07-01T08:11:04.069Z"
   },
   {
    "duration": 30,
    "start_time": "2023-07-01T08:11:04.102Z"
   },
   {
    "duration": 48,
    "start_time": "2023-07-01T08:11:04.134Z"
   },
   {
    "duration": 31,
    "start_time": "2023-07-01T08:11:04.183Z"
   },
   {
    "duration": 50,
    "start_time": "2023-07-01T08:11:04.215Z"
   },
   {
    "duration": 48,
    "start_time": "2023-07-01T08:11:04.267Z"
   },
   {
    "duration": 85,
    "start_time": "2023-07-01T08:11:04.317Z"
   },
   {
    "duration": 99,
    "start_time": "2023-07-01T08:11:04.403Z"
   },
   {
    "duration": 16,
    "start_time": "2023-07-01T08:11:04.504Z"
   },
   {
    "duration": 80,
    "start_time": "2023-07-01T08:11:04.522Z"
   },
   {
    "duration": 83,
    "start_time": "2023-07-01T08:11:04.604Z"
   },
   {
    "duration": 10,
    "start_time": "2023-07-01T08:11:04.689Z"
   },
   {
    "duration": 171,
    "start_time": "2023-07-01T08:11:04.701Z"
   },
   {
    "duration": 1136,
    "start_time": "2023-07-01T08:11:04.874Z"
   },
   {
    "duration": 168,
    "start_time": "2023-07-01T08:11:06.011Z"
   },
   {
    "duration": 694,
    "start_time": "2023-07-01T08:11:06.181Z"
   },
   {
    "duration": 84,
    "start_time": "2023-07-01T08:11:06.877Z"
   },
   {
    "duration": 2,
    "start_time": "2023-07-01T08:11:06.963Z"
   },
   {
    "duration": 6,
    "start_time": "2023-07-01T08:11:06.967Z"
   },
   {
    "duration": 22880,
    "start_time": "2023-07-01T08:11:06.975Z"
   },
   {
    "duration": 198,
    "start_time": "2023-07-01T08:11:29.858Z"
   },
   {
    "duration": 1418110,
    "start_time": "2023-07-01T08:11:30.059Z"
   },
   {
    "duration": 5,
    "start_time": "2023-07-01T09:10:38.398Z"
   },
   {
    "duration": 967,
    "start_time": "2023-07-01T09:10:38.404Z"
   },
   {
    "duration": 24,
    "start_time": "2023-07-01T09:10:39.373Z"
   },
   {
    "duration": 171,
    "start_time": "2023-07-01T09:10:39.399Z"
   },
   {
    "duration": 171,
    "start_time": "2023-07-01T09:10:39.578Z"
   },
   {
    "duration": 58,
    "start_time": "2023-07-01T09:10:39.762Z"
   },
   {
    "duration": 192,
    "start_time": "2023-07-01T09:10:39.821Z"
   },
   {
    "duration": 533,
    "start_time": "2023-07-01T09:10:40.015Z"
   },
   {
    "duration": 1034,
    "start_time": "2023-07-01T09:10:40.549Z"
   },
   {
    "duration": 29,
    "start_time": "2023-07-01T09:10:41.591Z"
   },
   {
    "duration": 114,
    "start_time": "2023-07-01T09:10:41.622Z"
   },
   {
    "duration": 185,
    "start_time": "2023-07-01T09:10:41.738Z"
   },
   {
    "duration": 69,
    "start_time": "2023-07-01T09:10:41.925Z"
   },
   {
    "duration": 11,
    "start_time": "2023-07-01T09:10:41.995Z"
   },
   {
    "duration": 64,
    "start_time": "2023-07-01T09:10:42.008Z"
   },
   {
    "duration": 769,
    "start_time": "2023-07-01T09:10:42.074Z"
   },
   {
    "duration": 66,
    "start_time": "2023-07-01T09:10:42.844Z"
   },
   {
    "duration": 63,
    "start_time": "2023-07-01T09:10:42.911Z"
   },
   {
    "duration": 17,
    "start_time": "2023-07-01T09:10:42.976Z"
   },
   {
    "duration": 432,
    "start_time": "2023-07-01T09:10:42.995Z"
   },
   {
    "duration": 2504,
    "start_time": "2023-07-01T09:10:43.429Z"
   },
   {
    "duration": 62,
    "start_time": "2023-07-01T09:10:45.935Z"
   },
   {
    "duration": 35,
    "start_time": "2023-07-01T09:10:45.999Z"
   },
   {
    "duration": 61,
    "start_time": "2023-07-01T09:10:46.039Z"
   },
   {
    "duration": 12,
    "start_time": "2023-07-01T09:10:46.101Z"
   },
   {
    "duration": 453,
    "start_time": "2023-07-01T09:10:46.115Z"
   },
   {
    "duration": 50,
    "start_time": "2023-07-01T09:10:46.570Z"
   },
   {
    "duration": 39,
    "start_time": "2023-07-01T09:10:46.622Z"
   },
   {
    "duration": 54,
    "start_time": "2023-07-01T09:10:46.664Z"
   },
   {
    "duration": 7,
    "start_time": "2023-07-01T09:10:46.720Z"
   },
   {
    "duration": 59,
    "start_time": "2023-07-01T09:10:46.728Z"
   },
   {
    "duration": 37,
    "start_time": "2023-07-01T09:10:46.791Z"
   },
   {
    "duration": 41,
    "start_time": "2023-07-01T09:10:46.829Z"
   },
   {
    "duration": 42,
    "start_time": "2023-07-01T09:10:46.881Z"
   },
   {
    "duration": 60,
    "start_time": "2023-07-01T09:10:46.925Z"
   },
   {
    "duration": 37,
    "start_time": "2023-07-01T09:10:46.991Z"
   },
   {
    "duration": 68,
    "start_time": "2023-07-01T09:10:47.030Z"
   },
   {
    "duration": 106,
    "start_time": "2023-07-01T09:10:47.100Z"
   },
   {
    "duration": 117,
    "start_time": "2023-07-01T09:10:47.208Z"
   },
   {
    "duration": 30,
    "start_time": "2023-07-01T09:10:47.327Z"
   },
   {
    "duration": 82,
    "start_time": "2023-07-01T09:10:47.359Z"
   },
   {
    "duration": 139,
    "start_time": "2023-07-01T09:10:47.443Z"
   },
   {
    "duration": 21,
    "start_time": "2023-07-01T09:10:47.584Z"
   },
   {
    "duration": 226,
    "start_time": "2023-07-01T09:10:47.608Z"
   },
   {
    "duration": 1341,
    "start_time": "2023-07-01T09:10:47.836Z"
   },
   {
    "duration": 193,
    "start_time": "2023-07-01T09:10:49.184Z"
   },
   {
    "duration": 826,
    "start_time": "2023-07-01T09:10:49.379Z"
   },
   {
    "duration": 92,
    "start_time": "2023-07-01T09:10:50.207Z"
   },
   {
    "duration": 3,
    "start_time": "2023-07-01T09:10:50.301Z"
   },
   {
    "duration": 7,
    "start_time": "2023-07-01T09:10:50.305Z"
   },
   {
    "duration": 2194,
    "start_time": "2023-07-08T10:52:09.372Z"
   },
   {
    "duration": 874,
    "start_time": "2023-07-08T10:52:12.223Z"
   },
   {
    "duration": 16,
    "start_time": "2023-07-08T10:52:13.098Z"
   },
   {
    "duration": 111,
    "start_time": "2023-07-08T10:52:13.116Z"
   },
   {
    "duration": 110,
    "start_time": "2023-07-08T10:52:13.229Z"
   },
   {
    "duration": 41,
    "start_time": "2023-07-08T10:52:13.341Z"
   },
   {
    "duration": 162,
    "start_time": "2023-07-08T10:52:13.384Z"
   },
   {
    "duration": 371,
    "start_time": "2023-07-08T10:52:13.547Z"
   },
   {
    "duration": 745,
    "start_time": "2023-07-08T10:52:13.919Z"
   },
   {
    "duration": 25,
    "start_time": "2023-07-08T10:52:14.665Z"
   },
   {
    "duration": 76,
    "start_time": "2023-07-08T10:52:14.691Z"
   },
   {
    "duration": 111,
    "start_time": "2023-07-08T10:52:14.769Z"
   },
   {
    "duration": 63,
    "start_time": "2023-07-08T10:52:14.881Z"
   },
   {
    "duration": 7,
    "start_time": "2023-07-08T10:52:14.946Z"
   },
   {
    "duration": 47,
    "start_time": "2023-07-08T10:52:14.955Z"
   },
   {
    "duration": 599,
    "start_time": "2023-07-08T10:52:15.003Z"
   },
   {
    "duration": 27,
    "start_time": "2023-07-08T10:52:15.603Z"
   },
   {
    "duration": 28,
    "start_time": "2023-07-08T10:52:15.631Z"
   },
   {
    "duration": 7,
    "start_time": "2023-07-08T10:52:15.661Z"
   },
   {
    "duration": 313,
    "start_time": "2023-07-08T10:52:15.680Z"
   },
   {
    "duration": 1615,
    "start_time": "2023-07-08T10:52:16.000Z"
   },
   {
    "duration": 41,
    "start_time": "2023-07-08T10:52:17.617Z"
   },
   {
    "duration": 25,
    "start_time": "2023-07-08T10:52:17.659Z"
   },
   {
    "duration": 28,
    "start_time": "2023-07-08T10:52:17.700Z"
   },
   {
    "duration": 8,
    "start_time": "2023-07-08T10:52:17.730Z"
   },
   {
    "duration": 339,
    "start_time": "2023-07-08T10:52:17.739Z"
   },
   {
    "duration": 41,
    "start_time": "2023-07-08T10:52:18.079Z"
   },
   {
    "duration": 25,
    "start_time": "2023-07-08T10:52:18.122Z"
   },
   {
    "duration": 51,
    "start_time": "2023-07-08T10:52:18.149Z"
   },
   {
    "duration": 7,
    "start_time": "2023-07-08T10:52:18.202Z"
   },
   {
    "duration": 12,
    "start_time": "2023-07-08T10:52:18.289Z"
   },
   {
    "duration": 26,
    "start_time": "2023-07-08T10:52:18.613Z"
   },
   {
    "duration": 23,
    "start_time": "2023-07-08T10:52:18.791Z"
   },
   {
    "duration": 25,
    "start_time": "2023-07-08T10:52:18.963Z"
   },
   {
    "duration": 26,
    "start_time": "2023-07-08T10:52:19.306Z"
   },
   {
    "duration": 27,
    "start_time": "2023-07-08T10:52:19.699Z"
   },
   {
    "duration": 27,
    "start_time": "2023-07-08T10:52:19.841Z"
   },
   {
    "duration": 59,
    "start_time": "2023-07-08T10:52:20.187Z"
   },
   {
    "duration": 58,
    "start_time": "2023-07-08T10:52:20.642Z"
   },
   {
    "duration": 13,
    "start_time": "2023-07-08T10:52:21.592Z"
   },
   {
    "duration": 48,
    "start_time": "2023-07-08T10:52:21.749Z"
   },
   {
    "duration": 74,
    "start_time": "2023-07-08T10:52:21.910Z"
   },
   {
    "duration": 10,
    "start_time": "2023-07-08T10:52:22.049Z"
   },
   {
    "duration": 136,
    "start_time": "2023-07-08T10:52:22.193Z"
   },
   {
    "duration": 762,
    "start_time": "2023-07-08T10:52:22.354Z"
   },
   {
    "duration": 124,
    "start_time": "2023-07-08T10:52:23.118Z"
   },
   {
    "duration": 585,
    "start_time": "2023-07-08T10:52:23.244Z"
   },
   {
    "duration": 58,
    "start_time": "2023-07-08T10:52:23.830Z"
   },
   {
    "duration": 2,
    "start_time": "2023-07-08T10:52:23.900Z"
   },
   {
    "duration": 34,
    "start_time": "2023-07-08T10:52:23.903Z"
   },
   {
    "duration": 15306,
    "start_time": "2023-07-08T10:52:24.086Z"
   },
   {
    "duration": 114,
    "start_time": "2023-07-08T10:52:39.394Z"
   },
   {
    "duration": 4,
    "start_time": "2023-07-08T10:58:41.606Z"
   },
   {
    "duration": 697,
    "start_time": "2023-07-08T10:58:41.619Z"
   },
   {
    "duration": 14,
    "start_time": "2023-07-08T10:58:43.020Z"
   },
   {
    "duration": 4,
    "start_time": "2023-07-08T11:26:57.601Z"
   },
   {
    "duration": 669,
    "start_time": "2023-07-08T11:26:57.703Z"
   },
   {
    "duration": 13,
    "start_time": "2023-07-08T11:26:58.374Z"
   },
   {
    "duration": 105,
    "start_time": "2023-07-08T11:26:59.037Z"
   },
   {
    "duration": 104,
    "start_time": "2023-07-08T11:26:59.643Z"
   },
   {
    "duration": 18,
    "start_time": "2023-07-08T11:27:00.255Z"
   },
   {
    "duration": 103,
    "start_time": "2023-07-08T11:27:00.806Z"
   },
   {
    "duration": 368,
    "start_time": "2023-07-08T11:27:01.295Z"
   },
   {
    "duration": 722,
    "start_time": "2023-07-08T11:27:01.664Z"
   },
   {
    "duration": 30,
    "start_time": "2023-07-08T11:27:02.387Z"
   },
   {
    "duration": 89,
    "start_time": "2023-07-08T11:27:02.419Z"
   },
   {
    "duration": 140,
    "start_time": "2023-07-08T11:27:02.510Z"
   },
   {
    "duration": 65,
    "start_time": "2023-07-08T11:27:02.651Z"
   },
   {
    "duration": 12,
    "start_time": "2023-07-08T11:27:03.947Z"
   },
   {
    "duration": 32,
    "start_time": "2023-07-08T11:27:04.130Z"
   },
   {
    "duration": 554,
    "start_time": "2023-07-08T11:27:04.271Z"
   },
   {
    "duration": 32,
    "start_time": "2023-07-08T11:27:04.828Z"
   },
   {
    "duration": 48,
    "start_time": "2023-07-08T11:27:05.805Z"
   },
   {
    "duration": 10,
    "start_time": "2023-07-08T11:27:05.975Z"
   },
   {
    "duration": 368,
    "start_time": "2023-07-08T11:27:06.104Z"
   },
   {
    "duration": 1788,
    "start_time": "2023-07-08T11:27:06.474Z"
   },
   {
    "duration": 46,
    "start_time": "2023-07-08T11:27:08.264Z"
   },
   {
    "duration": 29,
    "start_time": "2023-07-08T11:27:08.313Z"
   },
   {
    "duration": 41,
    "start_time": "2023-07-08T11:27:08.344Z"
   },
   {
    "duration": 19,
    "start_time": "2023-07-08T11:27:08.386Z"
   },
   {
    "duration": 354,
    "start_time": "2023-07-08T11:27:08.407Z"
   },
   {
    "duration": 57,
    "start_time": "2023-07-08T11:27:08.763Z"
   },
   {
    "duration": 46,
    "start_time": "2023-07-08T11:27:08.822Z"
   },
   {
    "duration": 55,
    "start_time": "2023-07-08T11:27:08.871Z"
   },
   {
    "duration": 10,
    "start_time": "2023-07-08T11:27:09.070Z"
   },
   {
    "duration": 16,
    "start_time": "2023-07-08T11:27:09.217Z"
   },
   {
    "duration": 46,
    "start_time": "2023-07-08T11:27:09.567Z"
   },
   {
    "duration": 38,
    "start_time": "2023-07-08T11:27:09.769Z"
   },
   {
    "duration": 40,
    "start_time": "2023-07-08T11:27:09.950Z"
   },
   {
    "duration": 26,
    "start_time": "2023-07-08T11:27:10.329Z"
   },
   {
    "duration": 43,
    "start_time": "2023-07-08T11:27:10.717Z"
   },
   {
    "duration": 49,
    "start_time": "2023-07-08T11:27:10.953Z"
   },
   {
    "duration": 129,
    "start_time": "2023-07-08T11:27:11.316Z"
   },
   {
    "duration": 123,
    "start_time": "2023-07-08T11:27:11.708Z"
   },
   {
    "duration": 21,
    "start_time": "2023-07-08T11:27:12.580Z"
   },
   {
    "duration": 69,
    "start_time": "2023-07-08T11:27:13.137Z"
   },
   {
    "duration": 66,
    "start_time": "2023-07-08T11:27:13.514Z"
   },
   {
    "duration": 11,
    "start_time": "2023-07-08T11:27:13.819Z"
   },
   {
    "duration": 145,
    "start_time": "2023-07-08T11:27:14.070Z"
   },
   {
    "duration": 790,
    "start_time": "2023-07-08T11:27:15.025Z"
   },
   {
    "duration": 147,
    "start_time": "2023-07-08T11:27:15.817Z"
   },
   {
    "duration": 633,
    "start_time": "2023-07-08T11:27:17.130Z"
   },
   {
    "duration": 72,
    "start_time": "2023-07-08T11:27:17.962Z"
   },
   {
    "duration": 3,
    "start_time": "2023-07-08T11:27:19.608Z"
   },
   {
    "duration": 2,
    "start_time": "2023-07-08T11:27:23.525Z"
   },
   {
    "duration": 30685,
    "start_time": "2023-07-08T11:27:24.424Z"
   },
   {
    "duration": 274890,
    "start_time": "2023-07-08T12:54:14.710Z"
   },
   {
    "duration": 197705,
    "start_time": "2023-07-08T12:58:49.602Z"
   },
   {
    "duration": 19657,
    "start_time": "2023-07-08T17:30:49.943Z"
   },
   {
    "duration": 27005,
    "start_time": "2023-07-08T17:31:22.618Z"
   },
   {
    "duration": 2569,
    "start_time": "2023-07-08T17:32:15.658Z"
   },
   {
    "duration": 249,
    "start_time": "2023-07-08T17:46:22.755Z"
   },
   {
    "duration": 20773,
    "start_time": "2023-07-08T17:46:27.328Z"
   },
   {
    "duration": 303,
    "start_time": "2023-07-08T17:46:48.103Z"
   },
   {
    "duration": 88,
    "start_time": "2023-07-08T17:46:48.413Z"
   },
   {
    "duration": 44,
    "start_time": "2023-07-08T17:47:46.160Z"
   },
   {
    "duration": 15,
    "start_time": "2023-07-08T17:47:46.550Z"
   },
   {
    "duration": 6,
    "start_time": "2023-07-08T17:47:46.947Z"
   },
   {
    "duration": 2314,
    "start_time": "2023-07-08T17:48:21.802Z"
   },
   {
    "duration": 312,
    "start_time": "2023-07-08T17:48:24.118Z"
   },
   {
    "duration": 5,
    "start_time": "2023-07-08T17:48:24.431Z"
   },
   {
    "duration": 275,
    "start_time": "2023-07-08T17:48:47.256Z"
   },
   {
    "duration": 33,
    "start_time": "2023-07-08T17:48:47.654Z"
   },
   {
    "duration": 5,
    "start_time": "2023-07-08T17:48:48.171Z"
   },
   {
    "duration": 7949,
    "start_time": "2023-07-08T17:50:11.726Z"
   },
   {
    "duration": 271,
    "start_time": "2023-07-08T17:50:19.677Z"
   },
   {
    "duration": 5,
    "start_time": "2023-07-08T17:50:19.950Z"
   },
   {
    "duration": 7033,
    "start_time": "2023-07-08T17:50:51.993Z"
   },
   {
    "duration": 37,
    "start_time": "2023-07-08T17:50:59.028Z"
   },
   {
    "duration": 4,
    "start_time": "2023-07-08T17:50:59.067Z"
   },
   {
    "duration": 5346,
    "start_time": "2023-07-08T17:51:28.204Z"
   },
   {
    "duration": 35,
    "start_time": "2023-07-08T17:51:33.552Z"
   },
   {
    "duration": 5,
    "start_time": "2023-07-08T17:51:33.588Z"
   },
   {
    "duration": 1874,
    "start_time": "2023-07-09T12:07:16.777Z"
   },
   {
    "duration": 3132,
    "start_time": "2023-07-09T12:07:18.654Z"
   },
   {
    "duration": 20,
    "start_time": "2023-07-09T12:07:21.788Z"
   },
   {
    "duration": 150,
    "start_time": "2023-07-09T12:07:21.810Z"
   },
   {
    "duration": 154,
    "start_time": "2023-07-09T12:07:21.962Z"
   },
   {
    "duration": 70,
    "start_time": "2023-07-09T12:07:22.899Z"
   },
   {
    "duration": 158,
    "start_time": "2023-07-09T12:07:23.168Z"
   },
   {
    "duration": 489,
    "start_time": "2023-07-09T12:07:23.351Z"
   },
   {
    "duration": 1099,
    "start_time": "2023-07-09T12:07:23.842Z"
   },
   {
    "duration": 27,
    "start_time": "2023-07-09T12:07:24.943Z"
   },
   {
    "duration": 122,
    "start_time": "2023-07-09T12:07:24.972Z"
   },
   {
    "duration": 130,
    "start_time": "2023-07-09T12:07:25.096Z"
   },
   {
    "duration": 67,
    "start_time": "2023-07-09T12:07:25.228Z"
   },
   {
    "duration": 26,
    "start_time": "2023-07-09T12:07:25.297Z"
   },
   {
    "duration": 54,
    "start_time": "2023-07-09T12:07:25.324Z"
   },
   {
    "duration": 824,
    "start_time": "2023-07-09T12:07:25.382Z"
   },
   {
    "duration": 32,
    "start_time": "2023-07-09T12:07:26.213Z"
   },
   {
    "duration": 40,
    "start_time": "2023-07-09T12:07:26.247Z"
   },
   {
    "duration": 12,
    "start_time": "2023-07-09T12:07:27.504Z"
   },
   {
    "duration": 493,
    "start_time": "2023-07-09T12:07:27.708Z"
   },
   {
    "duration": 2315,
    "start_time": "2023-07-09T12:07:28.207Z"
   },
   {
    "duration": 49,
    "start_time": "2023-07-09T12:07:30.528Z"
   },
   {
    "duration": 54,
    "start_time": "2023-07-09T12:07:30.579Z"
   },
   {
    "duration": 179,
    "start_time": "2023-07-09T12:07:30.636Z"
   },
   {
    "duration": 18,
    "start_time": "2023-07-09T12:07:30.817Z"
   },
   {
    "duration": 552,
    "start_time": "2023-07-09T12:07:30.838Z"
   },
   {
    "duration": 43,
    "start_time": "2023-07-09T12:07:31.392Z"
   },
   {
    "duration": 50,
    "start_time": "2023-07-09T12:07:31.438Z"
   },
   {
    "duration": 271,
    "start_time": "2023-07-09T12:07:31.490Z"
   },
   {
    "duration": 52,
    "start_time": "2023-07-09T12:07:31.764Z"
   },
   {
    "duration": 66,
    "start_time": "2023-07-09T12:07:31.819Z"
   },
   {
    "duration": 40,
    "start_time": "2023-07-09T12:07:31.925Z"
   },
   {
    "duration": 61,
    "start_time": "2023-07-09T12:07:31.968Z"
   },
   {
    "duration": 32,
    "start_time": "2023-07-09T12:07:32.031Z"
   },
   {
    "duration": 48,
    "start_time": "2023-07-09T12:07:32.067Z"
   },
   {
    "duration": 39,
    "start_time": "2023-07-09T12:07:32.450Z"
   },
   {
    "duration": 43,
    "start_time": "2023-07-09T12:07:32.634Z"
   },
   {
    "duration": 118,
    "start_time": "2023-07-09T12:07:32.978Z"
   },
   {
    "duration": 129,
    "start_time": "2023-07-09T12:07:33.307Z"
   },
   {
    "duration": 20,
    "start_time": "2023-07-09T12:07:34.005Z"
   },
   {
    "duration": 98,
    "start_time": "2023-07-09T12:07:34.164Z"
   },
   {
    "duration": 77,
    "start_time": "2023-07-09T12:07:34.359Z"
   },
   {
    "duration": 48,
    "start_time": "2023-07-09T12:07:34.560Z"
   },
   {
    "duration": 205,
    "start_time": "2023-07-09T12:07:34.795Z"
   },
   {
    "duration": 1282,
    "start_time": "2023-07-09T12:07:35.014Z"
   },
   {
    "duration": 156,
    "start_time": "2023-07-09T12:07:36.298Z"
   },
   {
    "duration": 636,
    "start_time": "2023-07-09T12:07:36.456Z"
   },
   {
    "duration": 89,
    "start_time": "2023-07-09T12:07:37.094Z"
   },
   {
    "duration": 997,
    "start_time": "2023-07-09T12:08:32.907Z"
   },
   {
    "duration": 80,
    "start_time": "2023-07-09T12:08:34.268Z"
   },
   {
    "duration": 3,
    "start_time": "2023-07-09T12:08:34.349Z"
   },
   {
    "duration": 36578,
    "start_time": "2023-07-09T12:08:40.235Z"
   },
   {
    "duration": 412,
    "start_time": "2023-07-09T12:09:16.816Z"
   },
   {
    "duration": 7,
    "start_time": "2023-07-09T12:09:17.314Z"
   },
   {
    "duration": 155,
    "start_time": "2023-07-09T12:09:17.325Z"
   },
   {
    "duration": 43,
    "start_time": "2023-07-09T12:09:17.483Z"
   },
   {
    "duration": 96,
    "start_time": "2023-07-09T12:09:17.529Z"
   },
   {
    "duration": 3351,
    "start_time": "2023-07-09T12:09:17.627Z"
   },
   {
    "duration": 437,
    "start_time": "2023-07-09T12:09:20.980Z"
   },
   {
    "duration": 6,
    "start_time": "2023-07-09T12:09:21.419Z"
   },
   {
    "duration": 364,
    "start_time": "2023-07-09T12:09:21.428Z"
   },
   {
    "duration": 38,
    "start_time": "2023-07-09T12:09:21.794Z"
   },
   {
    "duration": 6,
    "start_time": "2023-07-09T12:09:21.834Z"
   },
   {
    "duration": 8303,
    "start_time": "2023-07-09T12:09:21.842Z"
   },
   {
    "duration": 273,
    "start_time": "2023-07-09T12:09:30.147Z"
   },
   {
    "duration": 5,
    "start_time": "2023-07-09T12:09:30.422Z"
   },
   {
    "duration": 8534,
    "start_time": "2023-07-09T12:09:30.428Z"
   },
   {
    "duration": 47,
    "start_time": "2023-07-09T12:09:38.963Z"
   },
   {
    "duration": 5,
    "start_time": "2023-07-09T12:09:39.012Z"
   },
   {
    "duration": 6713,
    "start_time": "2023-07-09T12:09:39.019Z"
   },
   {
    "duration": 43,
    "start_time": "2023-07-09T12:09:45.734Z"
   },
   {
    "duration": 6,
    "start_time": "2023-07-09T12:09:45.779Z"
   },
   {
    "duration": 1062044,
    "start_time": "2023-07-09T12:09:45.786Z"
   },
   {
    "duration": 3524,
    "start_time": "2023-07-09T12:27:27.832Z"
   },
   {
    "duration": 8,
    "start_time": "2023-07-09T12:27:31.359Z"
   },
   {
    "duration": 1044909,
    "start_time": "2023-07-09T12:27:31.415Z"
   },
   {
    "duration": 2501,
    "start_time": "2023-07-09T12:44:56.327Z"
   },
   {
    "duration": 6,
    "start_time": "2023-07-09T12:44:58.829Z"
   },
   {
    "duration": 6,
    "start_time": "2023-07-09T12:59:39.735Z"
   },
   {
    "duration": 756,
    "start_time": "2023-07-09T13:05:30.193Z"
   },
   {
    "duration": 17,
    "start_time": "2023-07-09T13:05:30.951Z"
   },
   {
    "duration": 205,
    "start_time": "2023-07-09T13:05:31.772Z"
   },
   {
    "duration": 157,
    "start_time": "2023-07-09T13:05:31.981Z"
   },
   {
    "duration": 39,
    "start_time": "2023-07-09T13:05:32.140Z"
   },
   {
    "duration": 183,
    "start_time": "2023-07-09T13:05:32.234Z"
   },
   {
    "duration": 542,
    "start_time": "2023-07-09T13:05:32.420Z"
   },
   {
    "duration": 916,
    "start_time": "2023-07-09T13:05:32.964Z"
   },
   {
    "duration": 37,
    "start_time": "2023-07-09T13:05:33.882Z"
   },
   {
    "duration": 99,
    "start_time": "2023-07-09T13:05:33.925Z"
   },
   {
    "duration": 154,
    "start_time": "2023-07-09T13:05:34.026Z"
   },
   {
    "duration": 73,
    "start_time": "2023-07-09T13:05:34.182Z"
   },
   {
    "duration": 13,
    "start_time": "2023-07-09T13:05:34.257Z"
   },
   {
    "duration": 65,
    "start_time": "2023-07-09T13:05:34.273Z"
   },
   {
    "duration": 847,
    "start_time": "2023-07-09T13:05:34.341Z"
   },
   {
    "duration": 36,
    "start_time": "2023-07-09T13:05:35.191Z"
   },
   {
    "duration": 62,
    "start_time": "2023-07-09T13:05:35.229Z"
   },
   {
    "duration": 26,
    "start_time": "2023-07-09T13:05:35.294Z"
   },
   {
    "duration": 431,
    "start_time": "2023-07-09T13:05:35.323Z"
   },
   {
    "duration": 1957,
    "start_time": "2023-07-09T13:05:35.756Z"
   },
   {
    "duration": 38,
    "start_time": "2023-07-09T13:05:37.715Z"
   },
   {
    "duration": 28,
    "start_time": "2023-07-09T13:05:37.756Z"
   },
   {
    "duration": 53,
    "start_time": "2023-07-09T13:05:37.785Z"
   },
   {
    "duration": 8,
    "start_time": "2023-07-09T13:05:37.840Z"
   },
   {
    "duration": 417,
    "start_time": "2023-07-09T13:05:37.849Z"
   },
   {
    "duration": 50,
    "start_time": "2023-07-09T13:05:38.267Z"
   },
   {
    "duration": 27,
    "start_time": "2023-07-09T13:05:38.319Z"
   },
   {
    "duration": 47,
    "start_time": "2023-07-09T13:05:38.348Z"
   },
   {
    "duration": 18,
    "start_time": "2023-07-09T13:05:38.397Z"
   },
   {
    "duration": 20,
    "start_time": "2023-07-09T13:05:38.417Z"
   },
   {
    "duration": 41,
    "start_time": "2023-07-09T13:05:38.439Z"
   },
   {
    "duration": 57,
    "start_time": "2023-07-09T13:05:38.484Z"
   },
   {
    "duration": 34,
    "start_time": "2023-07-09T13:05:38.544Z"
   },
   {
    "duration": 43,
    "start_time": "2023-07-09T13:05:38.582Z"
   },
   {
    "duration": 25,
    "start_time": "2023-07-09T13:05:38.814Z"
   },
   {
    "duration": 45,
    "start_time": "2023-07-09T13:05:38.963Z"
   },
   {
    "duration": 121,
    "start_time": "2023-07-09T13:05:39.277Z"
   },
   {
    "duration": 93,
    "start_time": "2023-07-09T13:05:39.634Z"
   },
   {
    "duration": 20,
    "start_time": "2023-07-09T13:05:40.563Z"
   },
   {
    "duration": 71,
    "start_time": "2023-07-09T13:05:40.850Z"
   },
   {
    "duration": 104,
    "start_time": "2023-07-09T13:05:41.383Z"
   },
   {
    "duration": 13,
    "start_time": "2023-07-09T13:05:41.906Z"
   },
   {
    "duration": 191,
    "start_time": "2023-07-09T13:05:46.312Z"
   },
   {
    "duration": 1300,
    "start_time": "2023-07-09T13:05:48.431Z"
   },
   {
    "duration": 205,
    "start_time": "2023-07-09T13:05:49.734Z"
   },
   {
    "duration": 735,
    "start_time": "2023-07-09T13:05:49.940Z"
   },
   {
    "duration": 85,
    "start_time": "2023-07-09T13:05:50.677Z"
   },
   {
    "duration": 1710,
    "start_time": "2023-07-09T13:22:40.478Z"
   },
   {
    "duration": 2996,
    "start_time": "2023-07-09T13:23:49.840Z"
   },
   {
    "duration": 840,
    "start_time": "2023-07-09T13:23:54.184Z"
   },
   {
    "duration": 20,
    "start_time": "2023-07-09T13:23:55.026Z"
   },
   {
    "duration": 141,
    "start_time": "2023-07-09T13:23:55.048Z"
   },
   {
    "duration": 120,
    "start_time": "2023-07-09T13:23:55.192Z"
   },
   {
    "duration": 63,
    "start_time": "2023-07-09T13:23:55.314Z"
   },
   {
    "duration": 166,
    "start_time": "2023-07-09T13:23:55.378Z"
   },
   {
    "duration": 473,
    "start_time": "2023-07-09T13:23:55.546Z"
   },
   {
    "duration": 965,
    "start_time": "2023-07-09T13:23:56.021Z"
   },
   {
    "duration": 32,
    "start_time": "2023-07-09T13:23:56.989Z"
   },
   {
    "duration": 102,
    "start_time": "2023-07-09T13:23:57.023Z"
   },
   {
    "duration": 140,
    "start_time": "2023-07-09T13:23:57.127Z"
   },
   {
    "duration": 69,
    "start_time": "2023-07-09T13:23:57.269Z"
   },
   {
    "duration": 27,
    "start_time": "2023-07-09T13:23:57.340Z"
   },
   {
    "duration": 40,
    "start_time": "2023-07-09T13:23:57.369Z"
   },
   {
    "duration": 804,
    "start_time": "2023-07-09T13:23:57.411Z"
   },
   {
    "duration": 31,
    "start_time": "2023-07-09T13:23:58.217Z"
   },
   {
    "duration": 42,
    "start_time": "2023-07-09T13:23:58.249Z"
   },
   {
    "duration": 8,
    "start_time": "2023-07-09T13:23:58.294Z"
   },
   {
    "duration": 402,
    "start_time": "2023-07-09T13:23:58.304Z"
   },
   {
    "duration": 2000,
    "start_time": "2023-07-09T13:23:58.898Z"
   },
   {
    "duration": 49,
    "start_time": "2023-07-09T13:24:00.900Z"
   },
   {
    "duration": 40,
    "start_time": "2023-07-09T13:24:00.951Z"
   },
   {
    "duration": 79,
    "start_time": "2023-07-09T13:24:00.995Z"
   },
   {
    "duration": 36,
    "start_time": "2023-07-09T13:24:01.076Z"
   },
   {
    "duration": 417,
    "start_time": "2023-07-09T13:24:01.114Z"
   },
   {
    "duration": 56,
    "start_time": "2023-07-09T13:24:01.533Z"
   },
   {
    "duration": 158,
    "start_time": "2023-07-09T13:24:01.591Z"
   },
   {
    "duration": 98,
    "start_time": "2023-07-09T13:24:01.751Z"
   },
   {
    "duration": 27,
    "start_time": "2023-07-09T13:24:01.852Z"
   },
   {
    "duration": 72,
    "start_time": "2023-07-09T13:24:01.881Z"
   },
   {
    "duration": 74,
    "start_time": "2023-07-09T13:24:01.955Z"
   },
   {
    "duration": 69,
    "start_time": "2023-07-09T13:24:02.031Z"
   },
   {
    "duration": 157,
    "start_time": "2023-07-09T13:24:02.102Z"
   },
   {
    "duration": 35,
    "start_time": "2023-07-09T13:24:02.262Z"
   },
   {
    "duration": 28,
    "start_time": "2023-07-09T13:24:03.468Z"
   },
   {
    "duration": 27,
    "start_time": "2023-07-09T13:24:03.783Z"
   },
   {
    "duration": 66,
    "start_time": "2023-07-09T13:24:04.919Z"
   },
   {
    "duration": 65,
    "start_time": "2023-07-09T13:24:05.654Z"
   },
   {
    "duration": 14,
    "start_time": "2023-07-09T13:24:07.871Z"
   },
   {
    "duration": 66,
    "start_time": "2023-07-09T13:24:08.021Z"
   },
   {
    "duration": 64,
    "start_time": "2023-07-09T13:24:08.191Z"
   },
   {
    "duration": 11,
    "start_time": "2023-07-09T13:24:08.327Z"
   },
   {
    "duration": 151,
    "start_time": "2023-07-09T13:24:08.471Z"
   },
   {
    "duration": 1249,
    "start_time": "2023-07-09T13:24:08.783Z"
   },
   {
    "duration": 161,
    "start_time": "2023-07-09T13:24:10.034Z"
   },
   {
    "duration": 610,
    "start_time": "2023-07-09T13:24:10.196Z"
   },
   {
    "duration": 91,
    "start_time": "2023-07-09T13:24:10.808Z"
   },
   {
    "duration": 8,
    "start_time": "2023-07-09T13:30:20.510Z"
   },
   {
    "duration": 1079,
    "start_time": "2023-07-09T13:33:58.683Z"
   },
   {
    "duration": 15,
    "start_time": "2023-07-09T13:34:09.179Z"
   },
   {
    "duration": 120,
    "start_time": "2023-07-09T13:34:11.569Z"
   },
   {
    "duration": 133,
    "start_time": "2023-07-09T13:34:11.830Z"
   },
   {
    "duration": 51,
    "start_time": "2023-07-09T13:34:12.125Z"
   },
   {
    "duration": 128,
    "start_time": "2023-07-09T13:34:12.307Z"
   },
   {
    "duration": 434,
    "start_time": "2023-07-09T13:34:12.899Z"
   },
   {
    "duration": 910,
    "start_time": "2023-07-09T13:34:14.306Z"
   },
   {
    "duration": 138,
    "start_time": "2023-07-09T13:34:15.247Z"
   },
   {
    "duration": 0,
    "start_time": "2023-07-09T13:34:15.390Z"
   },
   {
    "duration": 0,
    "start_time": "2023-07-09T13:34:15.392Z"
   },
   {
    "duration": 0,
    "start_time": "2023-07-09T13:34:15.394Z"
   },
   {
    "duration": 0,
    "start_time": "2023-07-09T13:34:15.396Z"
   },
   {
    "duration": 0,
    "start_time": "2023-07-09T13:34:15.398Z"
   },
   {
    "duration": 0,
    "start_time": "2023-07-09T13:34:15.400Z"
   },
   {
    "duration": 0,
    "start_time": "2023-07-09T13:34:15.402Z"
   },
   {
    "duration": 0,
    "start_time": "2023-07-09T13:34:15.405Z"
   },
   {
    "duration": 0,
    "start_time": "2023-07-09T13:34:15.407Z"
   },
   {
    "duration": 0,
    "start_time": "2023-07-09T13:34:15.409Z"
   },
   {
    "duration": 0,
    "start_time": "2023-07-09T13:34:15.411Z"
   },
   {
    "duration": 0,
    "start_time": "2023-07-09T13:34:15.413Z"
   },
   {
    "duration": 0,
    "start_time": "2023-07-09T13:34:15.415Z"
   },
   {
    "duration": 0,
    "start_time": "2023-07-09T13:34:15.416Z"
   },
   {
    "duration": 0,
    "start_time": "2023-07-09T13:34:15.418Z"
   },
   {
    "duration": 0,
    "start_time": "2023-07-09T13:34:15.468Z"
   },
   {
    "duration": 0,
    "start_time": "2023-07-09T13:34:15.470Z"
   },
   {
    "duration": 0,
    "start_time": "2023-07-09T13:34:15.473Z"
   },
   {
    "duration": 0,
    "start_time": "2023-07-09T13:34:15.475Z"
   },
   {
    "duration": 0,
    "start_time": "2023-07-09T13:34:15.477Z"
   },
   {
    "duration": 0,
    "start_time": "2023-07-09T13:34:15.479Z"
   },
   {
    "duration": 0,
    "start_time": "2023-07-09T13:34:15.482Z"
   },
   {
    "duration": 1,
    "start_time": "2023-07-09T13:34:15.484Z"
   },
   {
    "duration": 0,
    "start_time": "2023-07-09T13:34:15.486Z"
   },
   {
    "duration": 0,
    "start_time": "2023-07-09T13:34:15.489Z"
   },
   {
    "duration": 0,
    "start_time": "2023-07-09T13:34:15.491Z"
   },
   {
    "duration": 0,
    "start_time": "2023-07-09T13:34:15.493Z"
   },
   {
    "duration": 0,
    "start_time": "2023-07-09T13:34:15.496Z"
   },
   {
    "duration": 0,
    "start_time": "2023-07-09T13:34:15.498Z"
   },
   {
    "duration": 0,
    "start_time": "2023-07-09T13:34:15.500Z"
   },
   {
    "duration": 0,
    "start_time": "2023-07-09T13:34:15.502Z"
   },
   {
    "duration": 0,
    "start_time": "2023-07-09T13:34:15.504Z"
   },
   {
    "duration": 0,
    "start_time": "2023-07-09T13:34:15.506Z"
   },
   {
    "duration": 0,
    "start_time": "2023-07-09T13:34:15.507Z"
   },
   {
    "duration": 0,
    "start_time": "2023-07-09T13:34:15.569Z"
   },
   {
    "duration": 0,
    "start_time": "2023-07-09T13:34:15.571Z"
   },
   {
    "duration": 0,
    "start_time": "2023-07-09T13:34:15.573Z"
   },
   {
    "duration": 0,
    "start_time": "2023-07-09T13:34:15.575Z"
   },
   {
    "duration": 0,
    "start_time": "2023-07-09T13:34:15.576Z"
   },
   {
    "duration": 0,
    "start_time": "2023-07-09T13:34:15.578Z"
   },
   {
    "duration": 0,
    "start_time": "2023-07-09T13:34:15.580Z"
   },
   {
    "duration": 0,
    "start_time": "2023-07-09T13:34:15.583Z"
   },
   {
    "duration": 0,
    "start_time": "2023-07-09T13:34:15.585Z"
   },
   {
    "duration": 0,
    "start_time": "2023-07-09T13:34:15.587Z"
   },
   {
    "duration": 0,
    "start_time": "2023-07-09T13:34:15.589Z"
   },
   {
    "duration": 0,
    "start_time": "2023-07-09T13:34:15.591Z"
   },
   {
    "duration": 0,
    "start_time": "2023-07-09T13:34:15.593Z"
   },
   {
    "duration": 0,
    "start_time": "2023-07-09T13:34:15.594Z"
   },
   {
    "duration": 0,
    "start_time": "2023-07-09T13:34:15.595Z"
   },
   {
    "duration": 4,
    "start_time": "2023-07-09T13:35:50.336Z"
   },
   {
    "duration": 802,
    "start_time": "2023-07-09T13:35:51.217Z"
   },
   {
    "duration": 15,
    "start_time": "2023-07-09T13:35:52.022Z"
   },
   {
    "duration": 130,
    "start_time": "2023-07-09T13:35:52.039Z"
   },
   {
    "duration": 130,
    "start_time": "2023-07-09T13:35:52.171Z"
   },
   {
    "duration": 27,
    "start_time": "2023-07-09T13:35:52.303Z"
   },
   {
    "duration": 142,
    "start_time": "2023-07-09T13:35:52.332Z"
   },
   {
    "duration": 510,
    "start_time": "2023-07-09T13:35:52.475Z"
   },
   {
    "duration": 997,
    "start_time": "2023-07-09T13:35:52.987Z"
   },
   {
    "duration": 33,
    "start_time": "2023-07-09T13:35:53.986Z"
   },
   {
    "duration": 109,
    "start_time": "2023-07-09T13:35:54.021Z"
   },
   {
    "duration": 148,
    "start_time": "2023-07-09T13:35:54.132Z"
   },
   {
    "duration": 135,
    "start_time": "2023-07-09T13:36:03.988Z"
   },
   {
    "duration": 62,
    "start_time": "2023-07-09T13:36:04.698Z"
   },
   {
    "duration": 9,
    "start_time": "2023-07-09T13:36:05.244Z"
   },
   {
    "duration": 35,
    "start_time": "2023-07-09T13:36:05.430Z"
   },
   {
    "duration": 747,
    "start_time": "2023-07-09T13:36:05.574Z"
   },
   {
    "duration": 29,
    "start_time": "2023-07-09T13:36:06.323Z"
   },
   {
    "duration": 31,
    "start_time": "2023-07-09T13:36:06.793Z"
   },
   {
    "duration": 9,
    "start_time": "2023-07-09T13:36:07.138Z"
   },
   {
    "duration": 338,
    "start_time": "2023-07-09T13:36:07.267Z"
   },
   {
    "duration": 1918,
    "start_time": "2023-07-09T13:36:07.607Z"
   },
   {
    "duration": 53,
    "start_time": "2023-07-09T13:36:09.528Z"
   },
   {
    "duration": 29,
    "start_time": "2023-07-09T13:36:09.583Z"
   },
   {
    "duration": 42,
    "start_time": "2023-07-09T13:36:09.613Z"
   },
   {
    "duration": 15,
    "start_time": "2023-07-09T13:36:09.657Z"
   },
   {
    "duration": 494,
    "start_time": "2023-07-09T13:36:09.674Z"
   },
   {
    "duration": 41,
    "start_time": "2023-07-09T13:36:10.170Z"
   },
   {
    "duration": 29,
    "start_time": "2023-07-09T13:36:10.214Z"
   },
   {
    "duration": 28,
    "start_time": "2023-07-09T13:36:10.266Z"
   },
   {
    "duration": 7,
    "start_time": "2023-07-09T13:36:10.560Z"
   },
   {
    "duration": 17,
    "start_time": "2023-07-09T13:36:10.875Z"
   },
   {
    "duration": 28,
    "start_time": "2023-07-09T13:36:11.390Z"
   },
   {
    "duration": 24,
    "start_time": "2023-07-09T13:36:11.610Z"
   },
   {
    "duration": 27,
    "start_time": "2023-07-09T13:36:11.838Z"
   },
   {
    "duration": 32,
    "start_time": "2023-07-09T13:36:12.637Z"
   },
   {
    "duration": 30,
    "start_time": "2023-07-09T13:36:13.154Z"
   },
   {
    "duration": 29,
    "start_time": "2023-07-09T13:36:13.438Z"
   },
   {
    "duration": 86,
    "start_time": "2023-07-09T13:36:14.058Z"
   },
   {
    "duration": 62,
    "start_time": "2023-07-09T13:36:14.688Z"
   },
   {
    "duration": 18,
    "start_time": "2023-07-09T13:36:15.991Z"
   },
   {
    "duration": 66,
    "start_time": "2023-07-09T13:36:16.138Z"
   },
   {
    "duration": 63,
    "start_time": "2023-07-09T13:36:16.268Z"
   },
   {
    "duration": 11,
    "start_time": "2023-07-09T13:36:16.414Z"
   },
   {
    "duration": 150,
    "start_time": "2023-07-09T13:36:16.542Z"
   },
   {
    "duration": 1906,
    "start_time": "2023-07-09T13:36:16.694Z"
   },
   {
    "duration": 157,
    "start_time": "2023-07-09T13:36:18.602Z"
   },
   {
    "duration": 657,
    "start_time": "2023-07-09T13:36:18.761Z"
   },
   {
    "duration": 91,
    "start_time": "2023-07-09T13:36:19.420Z"
   },
   {
    "duration": 973967,
    "start_time": "2023-07-09T13:36:24.107Z"
   },
   {
    "duration": 15306,
    "start_time": "2023-07-09T13:52:38.076Z"
   },
   {
    "duration": 4535,
    "start_time": "2023-07-09T13:52:53.384Z"
   },
   {
    "duration": 6,
    "start_time": "2023-07-09T13:52:57.921Z"
   },
   {
    "duration": 4266853,
    "start_time": "2023-07-09T13:52:57.928Z"
   },
   {
    "duration": 154996,
    "start_time": "2023-07-09T15:04:04.783Z"
   },
   {
    "duration": 2212,
    "start_time": "2023-07-09T15:06:39.781Z"
   },
   {
    "duration": 78,
    "start_time": "2023-07-09T15:06:41.995Z"
   },
   {
    "duration": 355271,
    "start_time": "2023-07-09T15:22:13.608Z"
   },
   {
    "duration": 2333,
    "start_time": "2023-07-09T15:28:08.881Z"
   },
   {
    "duration": 53,
    "start_time": "2023-07-09T15:28:11.217Z"
   },
   {
    "duration": 18,
    "start_time": "2023-07-09T15:43:08.899Z"
   },
   {
    "duration": 23962,
    "start_time": "2023-07-09T15:43:27.725Z"
   },
   {
    "duration": 386,
    "start_time": "2023-07-09T15:43:51.689Z"
   },
   {
    "duration": 6,
    "start_time": "2023-07-09T15:43:52.168Z"
   },
   {
    "duration": 100,
    "start_time": "2023-07-09T15:43:52.266Z"
   },
   {
    "duration": 99,
    "start_time": "2023-07-09T15:43:52.368Z"
   },
   {
    "duration": 7,
    "start_time": "2023-07-09T15:43:52.469Z"
   },
   {
    "duration": 3780,
    "start_time": "2023-07-09T15:43:52.478Z"
   },
   {
    "duration": 536,
    "start_time": "2023-07-09T15:43:56.266Z"
   },
   {
    "duration": 6,
    "start_time": "2023-07-09T15:43:56.804Z"
   },
   {
    "duration": 365,
    "start_time": "2023-07-09T15:43:56.813Z"
   },
   {
    "duration": 33,
    "start_time": "2023-07-09T15:43:57.180Z"
   },
   {
    "duration": 6,
    "start_time": "2023-07-09T15:43:57.214Z"
   },
   {
    "duration": 8483,
    "start_time": "2023-07-09T15:43:57.221Z"
   },
   {
    "duration": 286,
    "start_time": "2023-07-09T15:44:05.706Z"
   },
   {
    "duration": 6,
    "start_time": "2023-07-09T15:44:05.993Z"
   },
   {
    "duration": 8457,
    "start_time": "2023-07-09T15:44:06.001Z"
   },
   {
    "duration": 47,
    "start_time": "2023-07-09T15:44:14.460Z"
   },
   {
    "duration": 5,
    "start_time": "2023-07-09T15:44:14.509Z"
   },
   {
    "duration": 6509,
    "start_time": "2023-07-09T15:44:14.516Z"
   },
   {
    "duration": 42,
    "start_time": "2023-07-09T15:44:21.027Z"
   },
   {
    "duration": 6,
    "start_time": "2023-07-09T15:44:21.070Z"
   },
   {
    "duration": 12,
    "start_time": "2023-07-09T15:44:27.093Z"
   },
   {
    "duration": 16,
    "start_time": "2023-07-09T15:44:34.098Z"
   },
   {
    "duration": 14,
    "start_time": "2023-07-09T15:44:49.466Z"
   },
   {
    "duration": 15,
    "start_time": "2023-07-09T15:44:56.459Z"
   },
   {
    "duration": 16,
    "start_time": "2023-07-09T15:45:04.089Z"
   },
   {
    "duration": 18,
    "start_time": "2023-07-09T15:55:03.413Z"
   },
   {
    "duration": 102,
    "start_time": "2023-07-09T16:22:09.757Z"
   },
   {
    "duration": 14,
    "start_time": "2023-07-09T16:22:10.929Z"
   },
   {
    "duration": 5,
    "start_time": "2023-07-09T16:22:13.728Z"
   },
   {
    "duration": 2935,
    "start_time": "2023-07-09T17:08:17.015Z"
   },
   {
    "duration": 960,
    "start_time": "2023-07-09T17:08:19.952Z"
   },
   {
    "duration": 20,
    "start_time": "2023-07-09T17:08:20.916Z"
   },
   {
    "duration": 161,
    "start_time": "2023-07-09T17:08:20.954Z"
   },
   {
    "duration": 160,
    "start_time": "2023-07-09T17:08:21.116Z"
   },
   {
    "duration": 56,
    "start_time": "2023-07-09T17:08:21.278Z"
   },
   {
    "duration": 217,
    "start_time": "2023-07-09T17:08:21.336Z"
   },
   {
    "duration": 513,
    "start_time": "2023-07-09T17:08:21.555Z"
   },
   {
    "duration": 1052,
    "start_time": "2023-07-09T17:08:22.070Z"
   },
   {
    "duration": 47,
    "start_time": "2023-07-09T17:08:23.125Z"
   },
   {
    "duration": 97,
    "start_time": "2023-07-09T17:08:23.175Z"
   },
   {
    "duration": 144,
    "start_time": "2023-07-09T17:08:23.276Z"
   },
   {
    "duration": 77,
    "start_time": "2023-07-09T17:08:23.423Z"
   },
   {
    "duration": 10,
    "start_time": "2023-07-09T17:08:23.502Z"
   },
   {
    "duration": 58,
    "start_time": "2023-07-09T17:08:23.514Z"
   },
   {
    "duration": 765,
    "start_time": "2023-07-09T17:08:23.574Z"
   },
   {
    "duration": 50,
    "start_time": "2023-07-09T17:08:24.341Z"
   },
   {
    "duration": 80,
    "start_time": "2023-07-09T17:08:24.393Z"
   },
   {
    "duration": 11,
    "start_time": "2023-07-09T17:08:24.476Z"
   },
   {
    "duration": 389,
    "start_time": "2023-07-09T17:08:24.489Z"
   },
   {
    "duration": 2113,
    "start_time": "2023-07-09T17:08:24.880Z"
   },
   {
    "duration": 60,
    "start_time": "2023-07-09T17:08:26.995Z"
   },
   {
    "duration": 44,
    "start_time": "2023-07-09T17:08:27.056Z"
   },
   {
    "duration": 60,
    "start_time": "2023-07-09T17:08:27.102Z"
   },
   {
    "duration": 9,
    "start_time": "2023-07-09T17:08:27.165Z"
   },
   {
    "duration": 442,
    "start_time": "2023-07-09T17:08:27.176Z"
   },
   {
    "duration": 58,
    "start_time": "2023-07-09T17:08:27.620Z"
   },
   {
    "duration": 44,
    "start_time": "2023-07-09T17:08:27.680Z"
   },
   {
    "duration": 60,
    "start_time": "2023-07-09T17:08:27.726Z"
   },
   {
    "duration": 10,
    "start_time": "2023-07-09T17:08:27.788Z"
   },
   {
    "duration": 18,
    "start_time": "2023-07-09T17:08:27.800Z"
   },
   {
    "duration": 67,
    "start_time": "2023-07-09T17:08:27.820Z"
   },
   {
    "duration": 43,
    "start_time": "2023-07-09T17:08:27.889Z"
   },
   {
    "duration": 55,
    "start_time": "2023-07-09T17:08:27.934Z"
   },
   {
    "duration": 33,
    "start_time": "2023-07-09T17:08:27.990Z"
   },
   {
    "duration": 56,
    "start_time": "2023-07-09T17:08:28.024Z"
   },
   {
    "duration": 33,
    "start_time": "2023-07-09T17:08:28.082Z"
   },
   {
    "duration": 108,
    "start_time": "2023-07-09T17:08:28.117Z"
   },
   {
    "duration": 96,
    "start_time": "2023-07-09T17:08:28.227Z"
   },
   {
    "duration": 41,
    "start_time": "2023-07-09T17:08:28.329Z"
   },
   {
    "duration": 78,
    "start_time": "2023-07-09T17:08:28.372Z"
   },
   {
    "duration": 92,
    "start_time": "2023-07-09T17:08:28.454Z"
   },
   {
    "duration": 24,
    "start_time": "2023-07-09T17:08:28.548Z"
   },
   {
    "duration": 173,
    "start_time": "2023-07-09T17:08:28.574Z"
   },
   {
    "duration": 1118,
    "start_time": "2023-07-09T17:08:28.749Z"
   },
   {
    "duration": 170,
    "start_time": "2023-07-09T17:08:29.873Z"
   },
   {
    "duration": 768,
    "start_time": "2023-07-09T17:08:30.045Z"
   },
   {
    "duration": 106,
    "start_time": "2023-07-09T17:08:30.815Z"
   },
   {
    "duration": 48185,
    "start_time": "2023-07-09T17:08:30.923Z"
   },
   {
    "duration": 369,
    "start_time": "2023-07-09T17:09:19.110Z"
   },
   {
    "duration": 93,
    "start_time": "2023-07-09T17:09:19.561Z"
   },
   {
    "duration": 68,
    "start_time": "2023-07-09T17:09:19.656Z"
   },
   {
    "duration": 17,
    "start_time": "2023-07-09T17:09:19.760Z"
   },
   {
    "duration": 92,
    "start_time": "2023-07-09T17:09:19.780Z"
   },
   {
    "duration": 438412,
    "start_time": "2023-07-09T17:09:19.878Z"
   },
   {
    "duration": 3131,
    "start_time": "2023-07-09T17:16:38.292Z"
   },
   {
    "duration": 410,
    "start_time": "2023-07-09T17:16:41.425Z"
   },
   {
    "duration": 6,
    "start_time": "2023-07-09T17:16:41.837Z"
   },
   {
    "duration": 54126,
    "start_time": "2023-07-09T17:16:41.844Z"
   },
   {
    "duration": 335,
    "start_time": "2023-07-09T17:17:35.972Z"
   },
   {
    "duration": 31,
    "start_time": "2023-07-09T17:17:36.309Z"
   },
   {
    "duration": 14,
    "start_time": "2023-07-09T17:17:36.354Z"
   },
   {
    "duration": 8978,
    "start_time": "2023-07-09T17:17:36.370Z"
   },
   {
    "duration": 299,
    "start_time": "2023-07-09T17:17:45.350Z"
   },
   {
    "duration": 7,
    "start_time": "2023-07-09T17:17:45.662Z"
   },
   {
    "duration": 9743,
    "start_time": "2023-07-09T17:17:45.671Z"
   },
   {
    "duration": 60,
    "start_time": "2023-07-09T17:17:55.415Z"
   },
   {
    "duration": 6,
    "start_time": "2023-07-09T17:17:55.476Z"
   },
   {
    "duration": 7130,
    "start_time": "2023-07-09T17:17:55.483Z"
   },
   {
    "duration": 52,
    "start_time": "2023-07-09T17:18:02.615Z"
   },
   {
    "duration": 5,
    "start_time": "2023-07-09T17:18:02.669Z"
   },
   {
    "duration": 2079544,
    "start_time": "2023-07-09T17:18:02.676Z"
   },
   {
    "duration": 2999,
    "start_time": "2023-07-09T17:52:42.222Z"
   },
   {
    "duration": 138,
    "start_time": "2023-07-09T17:52:45.223Z"
   },
   {
    "duration": 11,
    "start_time": "2023-07-09T17:52:45.363Z"
   },
   {
    "duration": 0,
    "start_time": "2023-07-09T17:52:45.376Z"
   },
   {
    "duration": 0,
    "start_time": "2023-07-09T17:52:45.377Z"
   },
   {
    "duration": 0,
    "start_time": "2023-07-09T17:52:45.378Z"
   },
   {
    "duration": 0,
    "start_time": "2023-07-09T17:52:45.379Z"
   },
   {
    "duration": 0,
    "start_time": "2023-07-09T17:52:45.381Z"
   },
   {
    "duration": 0,
    "start_time": "2023-07-09T17:52:45.382Z"
   },
   {
    "duration": 0,
    "start_time": "2023-07-09T17:52:45.383Z"
   },
   {
    "duration": 0,
    "start_time": "2023-07-09T17:52:45.384Z"
   },
   {
    "duration": 0,
    "start_time": "2023-07-09T17:52:45.386Z"
   },
   {
    "duration": 1807,
    "start_time": "2023-07-10T05:36:15.527Z"
   },
   {
    "duration": 3103,
    "start_time": "2023-07-10T05:36:17.336Z"
   },
   {
    "duration": 23,
    "start_time": "2023-07-10T05:36:20.441Z"
   },
   {
    "duration": 127,
    "start_time": "2023-07-10T05:36:20.466Z"
   },
   {
    "duration": 127,
    "start_time": "2023-07-10T05:36:20.595Z"
   },
   {
    "duration": 80,
    "start_time": "2023-07-10T05:36:20.724Z"
   },
   {
    "duration": 171,
    "start_time": "2023-07-10T05:36:20.806Z"
   },
   {
    "duration": 580,
    "start_time": "2023-07-10T05:36:20.979Z"
   },
   {
    "duration": 1266,
    "start_time": "2023-07-10T05:36:21.567Z"
   },
   {
    "duration": 34,
    "start_time": "2023-07-10T05:36:24.237Z"
   },
   {
    "duration": 76,
    "start_time": "2023-07-10T05:36:24.733Z"
   },
   {
    "duration": 124,
    "start_time": "2023-07-10T05:36:24.902Z"
   },
   {
    "duration": 69,
    "start_time": "2023-07-10T05:36:25.114Z"
   },
   {
    "duration": 11,
    "start_time": "2023-07-10T05:36:26.565Z"
   },
   {
    "duration": 51,
    "start_time": "2023-07-10T05:36:26.783Z"
   },
   {
    "duration": 790,
    "start_time": "2023-07-10T05:36:27.281Z"
   },
   {
    "duration": 48,
    "start_time": "2023-07-10T05:37:54.055Z"
   },
   {
    "duration": 142,
    "start_time": "2023-07-10T05:39:30.319Z"
   },
   {
    "duration": 40,
    "start_time": "2023-07-10T05:39:43.059Z"
   },
   {
    "duration": 40,
    "start_time": "2023-07-10T05:40:06.312Z"
   },
   {
    "duration": 10,
    "start_time": "2023-07-10T05:40:19.283Z"
   },
   {
    "duration": 37,
    "start_time": "2023-07-10T05:40:20.727Z"
   },
   {
    "duration": 12,
    "start_time": "2023-07-10T05:40:28.780Z"
   },
   {
    "duration": 11,
    "start_time": "2023-07-10T05:40:29.426Z"
   },
   {
    "duration": 38,
    "start_time": "2023-07-10T05:40:30.367Z"
   },
   {
    "duration": 63,
    "start_time": "2023-07-10T05:41:43.809Z"
   },
   {
    "duration": 39,
    "start_time": "2023-07-10T05:41:47.834Z"
   },
   {
    "duration": 46,
    "start_time": "2023-07-10T05:41:54.442Z"
   },
   {
    "duration": 43,
    "start_time": "2023-07-10T05:41:55.465Z"
   },
   {
    "duration": 41,
    "start_time": "2023-07-10T05:42:08.267Z"
   },
   {
    "duration": 43,
    "start_time": "2023-07-10T05:42:08.908Z"
   },
   {
    "duration": 6,
    "start_time": "2023-07-10T05:42:52.676Z"
   },
   {
    "duration": 944,
    "start_time": "2023-07-10T05:42:52.849Z"
   },
   {
    "duration": 16,
    "start_time": "2023-07-10T05:42:53.795Z"
   },
   {
    "duration": 158,
    "start_time": "2023-07-10T05:42:53.813Z"
   },
   {
    "duration": 144,
    "start_time": "2023-07-10T05:42:54.116Z"
   },
   {
    "duration": 25,
    "start_time": "2023-07-10T05:42:54.295Z"
   },
   {
    "duration": 134,
    "start_time": "2023-07-10T05:42:54.518Z"
   },
   {
    "duration": 505,
    "start_time": "2023-07-10T05:42:54.695Z"
   },
   {
    "duration": 967,
    "start_time": "2023-07-10T05:42:55.202Z"
   },
   {
    "duration": 28,
    "start_time": "2023-07-10T05:42:56.174Z"
   },
   {
    "duration": 81,
    "start_time": "2023-07-10T05:42:56.204Z"
   },
   {
    "duration": 130,
    "start_time": "2023-07-10T05:42:56.287Z"
   },
   {
    "duration": 67,
    "start_time": "2023-07-10T05:43:00.082Z"
   },
   {
    "duration": 10,
    "start_time": "2023-07-10T05:43:02.138Z"
   },
   {
    "duration": 34,
    "start_time": "2023-07-10T05:43:02.760Z"
   },
   {
    "duration": 43,
    "start_time": "2023-07-10T05:43:07.274Z"
   },
   {
    "duration": 39,
    "start_time": "2023-07-10T05:43:17.971Z"
   },
   {
    "duration": 42,
    "start_time": "2023-07-10T05:43:18.849Z"
   },
   {
    "duration": 34,
    "start_time": "2023-07-10T05:43:24.646Z"
   },
   {
    "duration": 38,
    "start_time": "2023-07-10T05:43:25.423Z"
   },
   {
    "duration": 35,
    "start_time": "2023-07-10T05:43:30.632Z"
   },
   {
    "duration": 38,
    "start_time": "2023-07-10T05:43:31.420Z"
   },
   {
    "duration": 38,
    "start_time": "2023-07-10T05:43:36.885Z"
   },
   {
    "duration": 33,
    "start_time": "2023-07-10T05:43:37.516Z"
   },
   {
    "duration": 1782,
    "start_time": "2023-07-10T05:51:54.245Z"
   },
   {
    "duration": 6,
    "start_time": "2023-07-10T05:52:34.013Z"
   },
   {
    "duration": 894,
    "start_time": "2023-07-10T05:52:34.229Z"
   },
   {
    "duration": 19,
    "start_time": "2023-07-10T05:52:35.125Z"
   },
   {
    "duration": 122,
    "start_time": "2023-07-10T05:52:35.183Z"
   },
   {
    "duration": 119,
    "start_time": "2023-07-10T05:52:36.100Z"
   },
   {
    "duration": 60,
    "start_time": "2023-07-10T05:52:36.426Z"
   },
   {
    "duration": 137,
    "start_time": "2023-07-10T05:52:36.747Z"
   },
   {
    "duration": 477,
    "start_time": "2023-07-10T05:52:37.085Z"
   },
   {
    "duration": 969,
    "start_time": "2023-07-10T05:52:37.714Z"
   },
   {
    "duration": 34,
    "start_time": "2023-07-10T05:52:39.950Z"
   },
   {
    "duration": 25,
    "start_time": "2023-07-10T05:54:05.093Z"
   },
   {
    "duration": 649,
    "start_time": "2023-07-10T05:54:24.667Z"
   },
   {
    "duration": 33,
    "start_time": "2023-07-10T05:56:43.242Z"
   },
   {
    "duration": 88,
    "start_time": "2023-07-10T05:56:44.234Z"
   },
   {
    "duration": 136,
    "start_time": "2023-07-10T05:56:44.625Z"
   },
   {
    "duration": 69,
    "start_time": "2023-07-10T05:56:44.871Z"
   },
   {
    "duration": 10,
    "start_time": "2023-07-10T05:56:45.675Z"
   },
   {
    "duration": 47,
    "start_time": "2023-07-10T05:56:45.896Z"
   },
   {
    "duration": 38,
    "start_time": "2023-07-10T05:56:46.139Z"
   },
   {
    "duration": 665,
    "start_time": "2023-07-10T05:56:47.568Z"
   },
   {
    "duration": 30,
    "start_time": "2023-07-10T05:56:48.562Z"
   },
   {
    "duration": 33,
    "start_time": "2023-07-10T05:56:48.786Z"
   },
   {
    "duration": 9,
    "start_time": "2023-07-10T05:56:49.356Z"
   },
   {
    "duration": 356,
    "start_time": "2023-07-10T05:56:50.086Z"
   },
   {
    "duration": 1885,
    "start_time": "2023-07-10T05:56:50.444Z"
   },
   {
    "duration": 69,
    "start_time": "2023-07-10T05:56:52.333Z"
   },
   {
    "duration": 42,
    "start_time": "2023-07-10T05:58:24.558Z"
   },
   {
    "duration": 39,
    "start_time": "2023-07-10T06:00:14.846Z"
   },
   {
    "duration": 37,
    "start_time": "2023-07-10T06:00:15.289Z"
   },
   {
    "duration": 29,
    "start_time": "2023-07-10T06:00:29.179Z"
   },
   {
    "duration": 41,
    "start_time": "2023-07-10T06:00:29.209Z"
   },
   {
    "duration": 8,
    "start_time": "2023-07-10T06:00:29.351Z"
   },
   {
    "duration": 489,
    "start_time": "2023-07-10T06:00:29.601Z"
   },
   {
    "duration": 39,
    "start_time": "2023-07-10T06:00:30.594Z"
   },
   {
    "duration": 5,
    "start_time": "2023-07-10T07:26:31.444Z"
   },
   {
    "duration": 945,
    "start_time": "2023-07-10T07:26:31.710Z"
   },
   {
    "duration": 26,
    "start_time": "2023-07-10T07:26:32.657Z"
   },
   {
    "duration": 147,
    "start_time": "2023-07-10T07:26:32.707Z"
   },
   {
    "duration": 145,
    "start_time": "2023-07-10T07:26:33.399Z"
   },
   {
    "duration": 73,
    "start_time": "2023-07-10T07:26:33.659Z"
   },
   {
    "duration": 168,
    "start_time": "2023-07-10T07:26:33.910Z"
   },
   {
    "duration": 563,
    "start_time": "2023-07-10T07:26:34.124Z"
   },
   {
    "duration": 1047,
    "start_time": "2023-07-10T07:26:34.695Z"
   },
   {
    "duration": 46,
    "start_time": "2023-07-10T07:26:35.745Z"
   },
   {
    "duration": 35,
    "start_time": "2023-07-10T07:26:36.154Z"
   },
   {
    "duration": 94,
    "start_time": "2023-07-10T07:26:36.516Z"
   },
   {
    "duration": 136,
    "start_time": "2023-07-10T07:27:06.146Z"
   },
   {
    "duration": 64,
    "start_time": "2023-07-10T07:27:06.707Z"
   },
   {
    "duration": 11,
    "start_time": "2023-07-10T07:27:07.429Z"
   },
   {
    "duration": 42,
    "start_time": "2023-07-10T07:27:07.649Z"
   },
   {
    "duration": 40,
    "start_time": "2023-07-10T07:27:08.010Z"
   },
   {
    "duration": 777,
    "start_time": "2023-07-10T07:27:10.855Z"
   },
   {
    "duration": 31,
    "start_time": "2023-07-10T07:27:12.213Z"
   },
   {
    "duration": 35,
    "start_time": "2023-07-10T07:27:12.421Z"
   },
   {
    "duration": 9,
    "start_time": "2023-07-10T07:27:13.018Z"
   },
   {
    "duration": 402,
    "start_time": "2023-07-10T07:27:13.314Z"
   },
   {
    "duration": 2378,
    "start_time": "2023-07-10T07:27:13.721Z"
   },
   {
    "duration": 42,
    "start_time": "2023-07-10T07:27:16.101Z"
   },
   {
    "duration": 27,
    "start_time": "2023-07-10T07:27:16.813Z"
   },
   {
    "duration": 45,
    "start_time": "2023-07-10T07:27:17.147Z"
   },
   {
    "duration": 9,
    "start_time": "2023-07-10T07:27:18.023Z"
   },
   {
    "duration": 433,
    "start_time": "2023-07-10T07:27:18.399Z"
   },
   {
    "duration": 43,
    "start_time": "2023-07-10T07:27:19.199Z"
   },
   {
    "duration": 30,
    "start_time": "2023-07-10T07:27:23.324Z"
   },
   {
    "duration": 42,
    "start_time": "2023-07-10T07:27:23.557Z"
   },
   {
    "duration": 9,
    "start_time": "2023-07-10T07:27:24.216Z"
   },
   {
    "duration": 24,
    "start_time": "2023-07-10T07:27:24.595Z"
   },
   {
    "duration": 59,
    "start_time": "2023-07-10T07:27:25.354Z"
   },
   {
    "duration": 24,
    "start_time": "2023-07-10T07:27:25.714Z"
   },
   {
    "duration": 50,
    "start_time": "2023-07-10T07:27:26.066Z"
   },
   {
    "duration": 46,
    "start_time": "2023-07-10T07:27:27.007Z"
   },
   {
    "duration": 35,
    "start_time": "2023-07-10T07:27:28.329Z"
   },
   {
    "duration": 30,
    "start_time": "2023-07-10T07:27:28.711Z"
   },
   {
    "duration": 87,
    "start_time": "2023-07-10T07:27:29.630Z"
   },
   {
    "duration": 84,
    "start_time": "2023-07-10T07:52:36.215Z"
   },
   {
    "duration": 3021,
    "start_time": "2023-07-10T08:23:08.473Z"
   },
   {
    "duration": 28,
    "start_time": "2023-07-10T08:23:16.348Z"
   },
   {
    "duration": 30,
    "start_time": "2023-07-10T08:23:40.276Z"
   },
   {
    "duration": 17,
    "start_time": "2023-07-10T09:50:55.337Z"
   },
   {
    "duration": 53,
    "start_time": "2023-07-10T09:51:14.657Z"
   },
   {
    "duration": 13,
    "start_time": "2023-07-10T09:51:22.920Z"
   },
   {
    "duration": 14,
    "start_time": "2023-07-10T09:51:36.327Z"
   },
   {
    "duration": 16,
    "start_time": "2023-07-10T09:51:36.821Z"
   },
   {
    "duration": 4108,
    "start_time": "2023-07-10T10:18:19.434Z"
   },
   {
    "duration": 6,
    "start_time": "2023-07-10T10:18:23.544Z"
   },
   {
    "duration": 19,
    "start_time": "2023-07-10T10:24:12.180Z"
   },
   {
    "duration": 21,
    "start_time": "2023-07-10T10:28:55.769Z"
   },
   {
    "duration": 42,
    "start_time": "2023-07-10T10:29:42.163Z"
   },
   {
    "duration": 41,
    "start_time": "2023-07-10T10:29:55.158Z"
   },
   {
    "duration": 31,
    "start_time": "2023-07-10T10:31:12.750Z"
   },
   {
    "duration": 34,
    "start_time": "2023-07-10T10:31:23.168Z"
   },
   {
    "duration": 169,
    "start_time": "2023-07-10T10:31:32.093Z"
   },
   {
    "duration": 178,
    "start_time": "2023-07-10T10:32:01.508Z"
   },
   {
    "duration": 6,
    "start_time": "2023-07-10T10:38:05.970Z"
   },
   {
    "duration": 5089,
    "start_time": "2023-07-10T10:38:05.979Z"
   },
   {
    "duration": 99,
    "start_time": "2023-07-10T10:38:11.071Z"
   },
   {
    "duration": 713,
    "start_time": "2023-07-10T10:38:11.172Z"
   },
   {
    "duration": 790,
    "start_time": "2023-07-10T10:38:11.887Z"
   },
   {
    "duration": 385,
    "start_time": "2023-07-10T10:38:12.681Z"
   },
   {
    "duration": 801,
    "start_time": "2023-07-10T10:38:13.068Z"
   },
   {
    "duration": 2416,
    "start_time": "2023-07-10T10:38:13.871Z"
   },
   {
    "duration": 6184,
    "start_time": "2023-07-10T10:38:16.289Z"
   },
   {
    "duration": 199,
    "start_time": "2023-07-10T10:38:22.481Z"
   },
   {
    "duration": 198,
    "start_time": "2023-07-10T10:38:22.685Z"
   },
   {
    "duration": 11,
    "start_time": "2023-07-10T10:45:57.767Z"
   },
   {
    "duration": 6507,
    "start_time": "2023-07-10T10:45:58.168Z"
   },
   {
    "duration": 6611,
    "start_time": "2023-07-10T10:46:05.968Z"
   },
   {
    "duration": 188,
    "start_time": "2023-07-10T10:46:12.582Z"
   },
   {
    "duration": 1097,
    "start_time": "2023-07-10T10:46:12.773Z"
   },
   {
    "duration": 997,
    "start_time": "2023-07-10T10:46:13.873Z"
   },
   {
    "duration": 196,
    "start_time": "2023-07-10T10:46:14.872Z"
   },
   {
    "duration": 1197,
    "start_time": "2023-07-10T10:46:15.077Z"
   },
   {
    "duration": 3789,
    "start_time": "2023-07-10T10:46:16.277Z"
   },
   {
    "duration": 7203,
    "start_time": "2023-07-10T10:46:20.069Z"
   },
   {
    "duration": 293,
    "start_time": "2023-07-10T10:46:27.276Z"
   },
   {
    "duration": 111,
    "start_time": "2023-07-10T10:46:27.668Z"
   },
   {
    "duration": 693,
    "start_time": "2023-07-10T10:46:27.874Z"
   },
   {
    "duration": 1004,
    "start_time": "2023-07-10T10:46:28.570Z"
   },
   {
    "duration": 498,
    "start_time": "2023-07-10T10:46:29.580Z"
   },
   {
    "duration": 188,
    "start_time": "2023-07-10T10:46:30.082Z"
   },
   {
    "duration": 306,
    "start_time": "2023-07-10T10:46:30.279Z"
   },
   {
    "duration": 305,
    "start_time": "2023-07-10T10:46:30.669Z"
   },
   {
    "duration": 4988,
    "start_time": "2023-07-10T10:46:30.978Z"
   },
   {
    "duration": 205,
    "start_time": "2023-07-10T10:46:35.969Z"
   },
   {
    "duration": 292,
    "start_time": "2023-07-10T10:46:36.176Z"
   },
   {
    "duration": 108,
    "start_time": "2023-07-10T10:46:36.470Z"
   },
   {
    "duration": 2899,
    "start_time": "2023-07-10T10:46:36.668Z"
   },
   {
    "duration": 16297,
    "start_time": "2023-07-10T10:46:39.569Z"
   },
   {
    "duration": 405,
    "start_time": "2023-07-10T10:46:55.870Z"
   },
   {
    "duration": 302,
    "start_time": "2023-07-10T10:46:56.280Z"
   },
   {
    "duration": 296,
    "start_time": "2023-07-10T10:46:56.584Z"
   },
   {
    "duration": 13,
    "start_time": "2023-07-10T10:46:56.968Z"
   },
   {
    "duration": 2804,
    "start_time": "2023-07-10T10:46:57.169Z"
   },
   {
    "duration": 391,
    "start_time": "2023-07-10T10:46:59.977Z"
   },
   {
    "duration": 302,
    "start_time": "2023-07-10T10:47:00.371Z"
   },
   {
    "duration": 291,
    "start_time": "2023-07-10T10:47:00.675Z"
   },
   {
    "duration": 208,
    "start_time": "2023-07-10T10:47:00.968Z"
   },
   {
    "duration": 495,
    "start_time": "2023-07-10T10:47:01.178Z"
   },
   {
    "duration": 502,
    "start_time": "2023-07-10T10:47:01.678Z"
   },
   {
    "duration": 207,
    "start_time": "2023-07-10T10:47:02.270Z"
   },
   {
    "duration": 487,
    "start_time": "2023-07-10T10:47:02.479Z"
   },
   {
    "duration": 297,
    "start_time": "2023-07-10T10:47:02.974Z"
   },
   {
    "duration": 301,
    "start_time": "2023-07-10T10:47:03.273Z"
   },
   {
    "duration": 294,
    "start_time": "2023-07-10T10:47:03.577Z"
   },
   {
    "duration": 597,
    "start_time": "2023-07-10T10:47:03.878Z"
   },
   {
    "duration": 692,
    "start_time": "2023-07-10T10:47:04.477Z"
   },
   {
    "duration": 100,
    "start_time": "2023-07-10T10:47:05.176Z"
   },
   {
    "duration": 16610,
    "start_time": "2023-07-10T10:47:05.370Z"
   },
   {
    "duration": 7,
    "start_time": "2023-07-10T10:47:22.070Z"
   },
   {
    "duration": 9,
    "start_time": "2023-07-10T10:47:22.170Z"
   },
   {
    "duration": 609,
    "start_time": "2023-07-10T10:47:22.268Z"
   },
   {
    "duration": 104,
    "start_time": "2023-07-10T10:47:22.966Z"
   },
   {
    "duration": 1017,
    "start_time": "2023-07-10T10:47:23.073Z"
   },
   {
    "duration": 177,
    "start_time": "2023-07-10T10:47:24.092Z"
   },
   {
    "duration": 0,
    "start_time": "2023-07-10T10:47:24.272Z"
   },
   {
    "duration": 0,
    "start_time": "2023-07-10T10:47:24.274Z"
   },
   {
    "duration": 0,
    "start_time": "2023-07-10T10:47:24.275Z"
   },
   {
    "duration": 109,
    "start_time": "2023-07-10T10:49:47.668Z"
   },
   {
    "duration": 1099,
    "start_time": "2023-07-10T10:49:49.867Z"
   },
   {
    "duration": 4503,
    "start_time": "2023-07-10T10:51:51.868Z"
   },
   {
    "duration": 1018,
    "start_time": "2023-07-10T10:52:43.067Z"
   },
   {
    "duration": 2170,
    "start_time": "2023-07-10T11:05:05.749Z"
   },
   {
    "duration": 3080,
    "start_time": "2023-07-10T11:05:07.921Z"
   },
   {
    "duration": 22,
    "start_time": "2023-07-10T11:05:11.002Z"
   },
   {
    "duration": 128,
    "start_time": "2023-07-10T11:05:11.026Z"
   },
   {
    "duration": 126,
    "start_time": "2023-07-10T11:05:11.156Z"
   },
   {
    "duration": 60,
    "start_time": "2023-07-10T11:05:11.284Z"
   },
   {
    "duration": 185,
    "start_time": "2023-07-10T11:05:11.346Z"
   },
   {
    "duration": 569,
    "start_time": "2023-07-10T11:05:11.533Z"
   },
   {
    "duration": 1187,
    "start_time": "2023-07-10T11:05:12.105Z"
   },
   {
    "duration": 26,
    "start_time": "2023-07-10T11:05:13.296Z"
   },
   {
    "duration": 54,
    "start_time": "2023-07-10T11:05:13.324Z"
   },
   {
    "duration": 93,
    "start_time": "2023-07-10T11:05:13.380Z"
   },
   {
    "duration": 140,
    "start_time": "2023-07-10T11:05:13.474Z"
   },
   {
    "duration": 80,
    "start_time": "2023-07-10T11:05:13.616Z"
   },
   {
    "duration": 10,
    "start_time": "2023-07-10T11:05:13.697Z"
   },
   {
    "duration": 59,
    "start_time": "2023-07-10T11:05:13.709Z"
   },
   {
    "duration": 46,
    "start_time": "2023-07-10T11:05:13.771Z"
   },
   {
    "duration": 876,
    "start_time": "2023-07-10T11:05:13.819Z"
   },
   {
    "duration": 33,
    "start_time": "2023-07-10T11:05:14.697Z"
   },
   {
    "duration": 69,
    "start_time": "2023-07-10T11:05:14.732Z"
   },
   {
    "duration": 13,
    "start_time": "2023-07-10T11:05:14.803Z"
   },
   {
    "duration": 388,
    "start_time": "2023-07-10T11:05:14.819Z"
   },
   {
    "duration": 1900,
    "start_time": "2023-07-10T11:05:15.209Z"
   },
   {
    "duration": 68,
    "start_time": "2023-07-10T11:05:17.110Z"
   },
   {
    "duration": 30,
    "start_time": "2023-07-10T11:05:17.182Z"
   },
   {
    "duration": 33,
    "start_time": "2023-07-10T11:05:17.213Z"
   },
   {
    "duration": 23,
    "start_time": "2023-07-10T11:05:17.248Z"
   },
   {
    "duration": 543,
    "start_time": "2023-07-10T11:05:17.273Z"
   },
   {
    "duration": 56,
    "start_time": "2023-07-10T11:05:17.819Z"
   },
   {
    "duration": 28,
    "start_time": "2023-07-10T11:05:17.878Z"
   },
   {
    "duration": 30,
    "start_time": "2023-07-10T11:05:17.908Z"
   },
   {
    "duration": 30,
    "start_time": "2023-07-10T11:05:17.940Z"
   },
   {
    "duration": 25,
    "start_time": "2023-07-10T11:05:17.972Z"
   },
   {
    "duration": 29,
    "start_time": "2023-07-10T11:05:17.999Z"
   },
   {
    "duration": 47,
    "start_time": "2023-07-10T11:05:18.029Z"
   },
   {
    "duration": 29,
    "start_time": "2023-07-10T11:05:18.078Z"
   },
   {
    "duration": 29,
    "start_time": "2023-07-10T11:05:18.109Z"
   },
   {
    "duration": 46,
    "start_time": "2023-07-10T11:05:18.140Z"
   },
   {
    "duration": 30,
    "start_time": "2023-07-10T11:05:18.189Z"
   },
   {
    "duration": 65,
    "start_time": "2023-07-10T11:05:18.269Z"
   },
   {
    "duration": 66,
    "start_time": "2023-07-10T11:05:19.028Z"
   },
   {
    "duration": 17,
    "start_time": "2023-07-10T11:05:20.853Z"
   },
   {
    "duration": 3500,
    "start_time": "2023-07-10T11:05:20.992Z"
   },
   {
    "duration": 6,
    "start_time": "2023-07-10T11:05:24.495Z"
   },
   {
    "duration": 6,
    "start_time": "2023-07-10T11:05:24.502Z"
   },
   {
    "duration": 78,
    "start_time": "2023-07-10T11:05:24.510Z"
   },
   {
    "duration": 13,
    "start_time": "2023-07-10T11:05:24.590Z"
   },
   {
    "duration": 162,
    "start_time": "2023-07-10T11:05:24.605Z"
   },
   {
    "duration": 128,
    "start_time": "2023-07-10T11:05:25.932Z"
   },
   {
    "duration": 94,
    "start_time": "2023-07-10T11:05:35.373Z"
   },
   {
    "duration": 501,
    "start_time": "2023-07-10T11:07:39.474Z"
   },
   {
    "duration": 443,
    "start_time": "2023-07-10T11:07:47.742Z"
   },
   {
    "duration": 508,
    "start_time": "2023-07-10T11:09:38.784Z"
   },
   {
    "duration": 465,
    "start_time": "2023-07-10T11:11:48.525Z"
   },
   {
    "duration": 453,
    "start_time": "2023-07-10T11:11:52.117Z"
   },
   {
    "duration": 7,
    "start_time": "2023-07-10T11:12:30.771Z"
   },
   {
    "duration": 861,
    "start_time": "2023-07-10T11:12:30.936Z"
   },
   {
    "duration": 23,
    "start_time": "2023-07-10T11:12:31.799Z"
   },
   {
    "duration": 196,
    "start_time": "2023-07-10T11:12:31.825Z"
   },
   {
    "duration": 120,
    "start_time": "2023-07-10T11:12:32.066Z"
   },
   {
    "duration": 53,
    "start_time": "2023-07-10T11:12:32.240Z"
   },
   {
    "duration": 126,
    "start_time": "2023-07-10T11:12:32.452Z"
   },
   {
    "duration": 501,
    "start_time": "2023-07-10T11:12:32.613Z"
   },
   {
    "duration": 1059,
    "start_time": "2023-07-10T11:12:33.116Z"
   },
   {
    "duration": 40,
    "start_time": "2023-07-10T11:12:34.178Z"
   },
   {
    "duration": 48,
    "start_time": "2023-07-10T11:12:34.220Z"
   },
   {
    "duration": 78,
    "start_time": "2023-07-10T11:12:34.270Z"
   },
   {
    "duration": 154,
    "start_time": "2023-07-10T11:12:34.350Z"
   },
   {
    "duration": 81,
    "start_time": "2023-07-10T11:12:34.506Z"
   },
   {
    "duration": 11,
    "start_time": "2023-07-10T11:12:35.212Z"
   },
   {
    "duration": 38,
    "start_time": "2023-07-10T11:12:35.429Z"
   },
   {
    "duration": 37,
    "start_time": "2023-07-10T11:12:35.587Z"
   },
   {
    "duration": 665,
    "start_time": "2023-07-10T11:12:36.077Z"
   },
   {
    "duration": 43,
    "start_time": "2023-07-10T11:12:36.854Z"
   },
   {
    "duration": 33,
    "start_time": "2023-07-10T11:12:37.028Z"
   },
   {
    "duration": 9,
    "start_time": "2023-07-10T11:12:37.361Z"
   },
   {
    "duration": 387,
    "start_time": "2023-07-10T11:12:37.586Z"
   },
   {
    "duration": 2181,
    "start_time": "2023-07-10T11:12:37.975Z"
   },
   {
    "duration": 46,
    "start_time": "2023-07-10T11:12:40.157Z"
   },
   {
    "duration": 27,
    "start_time": "2023-07-10T11:12:40.206Z"
   },
   {
    "duration": 84,
    "start_time": "2023-07-10T11:12:40.236Z"
   },
   {
    "duration": 12,
    "start_time": "2023-07-10T11:12:40.322Z"
   },
   {
    "duration": 386,
    "start_time": "2023-07-10T11:12:40.336Z"
   },
   {
    "duration": 55,
    "start_time": "2023-07-10T11:12:40.724Z"
   },
   {
    "duration": 29,
    "start_time": "2023-07-10T11:12:40.781Z"
   },
   {
    "duration": 29,
    "start_time": "2023-07-10T11:12:40.811Z"
   },
   {
    "duration": 8,
    "start_time": "2023-07-10T11:12:40.886Z"
   },
   {
    "duration": 17,
    "start_time": "2023-07-10T11:12:41.082Z"
   },
   {
    "duration": 27,
    "start_time": "2023-07-10T11:12:41.407Z"
   },
   {
    "duration": 43,
    "start_time": "2023-07-10T11:12:41.612Z"
   },
   {
    "duration": 61,
    "start_time": "2023-07-10T11:12:41.789Z"
   },
   {
    "duration": 47,
    "start_time": "2023-07-10T11:12:42.108Z"
   },
   {
    "duration": 26,
    "start_time": "2023-07-10T11:12:42.491Z"
   },
   {
    "duration": 29,
    "start_time": "2023-07-10T11:12:42.661Z"
   },
   {
    "duration": 66,
    "start_time": "2023-07-10T11:12:42.987Z"
   },
   {
    "duration": 68,
    "start_time": "2023-07-10T11:12:43.683Z"
   },
   {
    "duration": 18,
    "start_time": "2023-07-10T11:12:45.377Z"
   },
   {
    "duration": 2409,
    "start_time": "2023-07-10T11:12:45.608Z"
   },
   {
    "duration": 8,
    "start_time": "2023-07-10T11:12:48.019Z"
   },
   {
    "duration": 28,
    "start_time": "2023-07-10T11:12:48.029Z"
   },
   {
    "duration": 69,
    "start_time": "2023-07-10T11:12:48.167Z"
   },
   {
    "duration": 16,
    "start_time": "2023-07-10T11:12:48.336Z"
   },
   {
    "duration": 133,
    "start_time": "2023-07-10T11:12:48.575Z"
   },
   {
    "duration": 445,
    "start_time": "2023-07-10T11:12:50.310Z"
   },
   {
    "duration": 513,
    "start_time": "2023-07-10T11:12:58.167Z"
   },
   {
    "duration": 461,
    "start_time": "2023-07-10T11:13:15.463Z"
   },
   {
    "duration": 683,
    "start_time": "2023-07-10T11:13:36.483Z"
   },
   {
    "duration": 465,
    "start_time": "2023-07-10T11:13:52.336Z"
   },
   {
    "duration": 541,
    "start_time": "2023-07-10T11:14:41.452Z"
   },
   {
    "duration": 24,
    "start_time": "2023-07-10T11:14:55.059Z"
   },
   {
    "duration": 2438,
    "start_time": "2023-07-10T11:14:55.611Z"
   },
   {
    "duration": 6,
    "start_time": "2023-07-10T11:14:58.052Z"
   },
   {
    "duration": 6,
    "start_time": "2023-07-10T11:14:58.066Z"
   },
   {
    "duration": 82,
    "start_time": "2023-07-10T11:14:58.075Z"
   },
   {
    "duration": 34,
    "start_time": "2023-07-10T11:14:58.159Z"
   },
   {
    "duration": 155,
    "start_time": "2023-07-10T11:14:58.196Z"
   },
   {
    "duration": 484,
    "start_time": "2023-07-10T11:14:58.703Z"
   },
   {
    "duration": 0,
    "start_time": "2023-07-10T11:14:59.189Z"
   },
   {
    "duration": 30,
    "start_time": "2023-07-10T11:15:00.036Z"
   },
   {
    "duration": 31,
    "start_time": "2023-07-10T11:15:00.348Z"
   },
   {
    "duration": 13,
    "start_time": "2023-07-10T11:15:01.187Z"
   },
   {
    "duration": 529,
    "start_time": "2023-07-10T11:15:01.686Z"
   },
   {
    "duration": 472,
    "start_time": "2023-07-10T11:15:02.982Z"
   },
   {
    "duration": 191,
    "start_time": "2023-07-10T11:15:04.130Z"
   },
   {
    "duration": 713,
    "start_time": "2023-07-10T11:15:15.481Z"
   },
   {
    "duration": 87,
    "start_time": "2023-07-10T11:15:18.262Z"
   },
   {
    "duration": 18,
    "start_time": "2023-07-10T11:17:05.940Z"
   },
   {
    "duration": 581,
    "start_time": "2023-07-10T11:17:28.848Z"
   },
   {
    "duration": 480,
    "start_time": "2023-07-10T11:17:53.852Z"
   },
   {
    "duration": 427,
    "start_time": "2023-07-10T11:18:02.085Z"
   },
   {
    "duration": 390,
    "start_time": "2023-07-10T11:18:56.320Z"
   },
   {
    "duration": 84,
    "start_time": "2023-07-10T11:20:34.236Z"
   },
   {
    "duration": 848,
    "start_time": "2023-07-10T11:20:52.156Z"
   },
   {
    "duration": 632,
    "start_time": "2023-07-10T11:21:20.271Z"
   },
   {
    "duration": 650,
    "start_time": "2023-07-10T11:21:27.320Z"
   },
   {
    "duration": 197,
    "start_time": "2023-07-10T11:22:16.896Z"
   },
   {
    "duration": 139,
    "start_time": "2023-07-10T11:22:53.249Z"
   },
   {
    "duration": 6,
    "start_time": "2023-07-10T11:23:30.755Z"
   },
   {
    "duration": 5,
    "start_time": "2023-07-10T11:23:42.984Z"
   },
   {
    "duration": 8,
    "start_time": "2023-07-10T11:23:48.832Z"
   },
   {
    "duration": 1037,
    "start_time": "2023-07-10T11:25:28.643Z"
   },
   {
    "duration": 115,
    "start_time": "2023-07-10T11:26:04.955Z"
   },
   {
    "duration": 13,
    "start_time": "2023-07-10T11:28:09.672Z"
   },
   {
    "duration": 80,
    "start_time": "2023-07-10T11:30:10.475Z"
   },
   {
    "duration": 5,
    "start_time": "2023-07-10T17:53:35.630Z"
   },
   {
    "duration": 800,
    "start_time": "2023-07-10T17:53:36.226Z"
   },
   {
    "duration": 17,
    "start_time": "2023-07-10T17:53:39.022Z"
   },
   {
    "duration": 115,
    "start_time": "2023-07-10T17:53:39.567Z"
   },
   {
    "duration": 144,
    "start_time": "2023-07-10T17:53:41.181Z"
   },
   {
    "duration": 29,
    "start_time": "2023-07-10T17:53:41.788Z"
   },
   {
    "duration": 117,
    "start_time": "2023-07-10T17:53:42.322Z"
   },
   {
    "duration": 366,
    "start_time": "2023-07-10T17:53:42.830Z"
   },
   {
    "duration": 837,
    "start_time": "2023-07-10T17:53:43.433Z"
   },
   {
    "duration": 23,
    "start_time": "2023-07-10T17:53:45.141Z"
   },
   {
    "duration": 25,
    "start_time": "2023-07-10T17:53:46.459Z"
   },
   {
    "duration": 85,
    "start_time": "2023-07-10T17:53:47.656Z"
   },
   {
    "duration": 118,
    "start_time": "2023-07-10T17:53:48.467Z"
   },
   {
    "duration": 76,
    "start_time": "2023-07-10T17:53:49.049Z"
   },
   {
    "duration": 8,
    "start_time": "2023-07-10T17:53:51.323Z"
   },
   {
    "duration": 28,
    "start_time": "2023-07-10T17:53:51.959Z"
   },
   {
    "duration": 40,
    "start_time": "2023-07-10T17:53:52.591Z"
   },
   {
    "duration": 669,
    "start_time": "2023-07-10T17:53:54.943Z"
   },
   {
    "duration": 28,
    "start_time": "2023-07-10T17:53:57.929Z"
   },
   {
    "duration": 40,
    "start_time": "2023-07-10T17:53:58.587Z"
   },
   {
    "duration": 11,
    "start_time": "2023-07-10T17:53:59.686Z"
   },
   {
    "duration": 319,
    "start_time": "2023-07-10T17:54:00.487Z"
   },
   {
    "duration": 1630,
    "start_time": "2023-07-10T17:54:01.192Z"
   },
   {
    "duration": 39,
    "start_time": "2023-07-10T17:54:02.825Z"
   },
   {
    "duration": 24,
    "start_time": "2023-07-10T17:54:04.670Z"
   },
   {
    "duration": 27,
    "start_time": "2023-07-10T17:54:05.227Z"
   },
   {
    "duration": 9,
    "start_time": "2023-07-10T17:54:06.526Z"
   },
   {
    "duration": 356,
    "start_time": "2023-07-10T17:54:07.288Z"
   },
   {
    "duration": 33,
    "start_time": "2023-07-10T17:54:12.358Z"
   },
   {
    "duration": 36,
    "start_time": "2023-07-10T17:54:13.855Z"
   },
   {
    "duration": 23,
    "start_time": "2023-07-10T17:54:14.333Z"
   },
   {
    "duration": 9,
    "start_time": "2023-07-10T17:54:15.336Z"
   },
   {
    "duration": 14,
    "start_time": "2023-07-10T17:54:15.823Z"
   },
   {
    "duration": 46,
    "start_time": "2023-07-10T17:54:16.889Z"
   },
   {
    "duration": 45,
    "start_time": "2023-07-10T17:54:17.396Z"
   },
   {
    "duration": 28,
    "start_time": "2023-07-10T17:54:17.921Z"
   },
   {
    "duration": 35,
    "start_time": "2023-07-10T17:54:18.885Z"
   },
   {
    "duration": 30,
    "start_time": "2023-07-10T17:55:41.218Z"
   },
   {
    "duration": 25,
    "start_time": "2023-07-10T17:55:41.627Z"
   },
   {
    "duration": 71,
    "start_time": "2023-07-10T17:55:42.263Z"
   },
   {
    "duration": 73,
    "start_time": "2023-07-10T17:55:44.484Z"
   },
   {
    "duration": 12,
    "start_time": "2023-07-10T17:58:24.126Z"
   },
   {
    "duration": 3590,
    "start_time": "2023-07-10T17:58:24.385Z"
   },
   {
    "duration": 5,
    "start_time": "2023-07-10T17:58:27.978Z"
   },
   {
    "duration": 6,
    "start_time": "2023-07-10T17:58:27.985Z"
   },
   {
    "duration": 99,
    "start_time": "2023-07-10T17:58:27.993Z"
   },
   {
    "duration": 36,
    "start_time": "2023-07-10T17:58:28.093Z"
   },
   {
    "duration": 184,
    "start_time": "2023-07-10T17:58:28.132Z"
   },
   {
    "duration": 642,
    "start_time": "2023-07-10T17:58:33.529Z"
   },
   {
    "duration": 17,
    "start_time": "2023-07-10T17:58:38.660Z"
   },
   {
    "duration": 604,
    "start_time": "2023-07-10T17:59:35.983Z"
   },
   {
    "duration": 641,
    "start_time": "2023-07-10T17:59:41.284Z"
   },
   {
    "duration": 2267,
    "start_time": "2023-07-11T13:09:02.698Z"
   },
   {
    "duration": 2283,
    "start_time": "2023-07-11T13:09:04.970Z"
   },
   {
    "duration": 24,
    "start_time": "2023-07-11T13:09:07.255Z"
   },
   {
    "duration": 295,
    "start_time": "2023-07-11T13:09:07.280Z"
   },
   {
    "duration": 211,
    "start_time": "2023-07-11T13:09:07.577Z"
   },
   {
    "duration": 88,
    "start_time": "2023-07-11T13:09:07.790Z"
   },
   {
    "duration": 248,
    "start_time": "2023-07-11T13:09:07.880Z"
   },
   {
    "duration": 564,
    "start_time": "2023-07-11T13:09:08.130Z"
   },
   {
    "duration": 1035,
    "start_time": "2023-07-11T13:09:08.696Z"
   },
   {
    "duration": 31,
    "start_time": "2023-07-11T13:09:09.743Z"
   },
   {
    "duration": 88,
    "start_time": "2023-07-11T13:09:09.775Z"
   },
   {
    "duration": 125,
    "start_time": "2023-07-11T13:09:09.866Z"
   },
   {
    "duration": 181,
    "start_time": "2023-07-11T13:09:09.993Z"
   },
   {
    "duration": 78,
    "start_time": "2023-07-11T13:09:10.175Z"
   },
   {
    "duration": 103,
    "start_time": "2023-07-11T13:09:10.258Z"
   },
   {
    "duration": 56,
    "start_time": "2023-07-11T13:09:10.366Z"
   },
   {
    "duration": 54,
    "start_time": "2023-07-11T13:09:10.423Z"
   },
   {
    "duration": 799,
    "start_time": "2023-07-11T13:09:10.479Z"
   },
   {
    "duration": 70,
    "start_time": "2023-07-11T13:09:11.280Z"
   },
   {
    "duration": 87,
    "start_time": "2023-07-11T13:09:11.370Z"
   },
   {
    "duration": 9,
    "start_time": "2023-07-11T13:09:11.462Z"
   },
   {
    "duration": 395,
    "start_time": "2023-07-11T13:09:11.472Z"
   },
   {
    "duration": 2045,
    "start_time": "2023-07-11T13:09:11.870Z"
   },
   {
    "duration": 52,
    "start_time": "2023-07-11T13:09:13.917Z"
   },
   {
    "duration": 80,
    "start_time": "2023-07-11T13:09:13.973Z"
   },
   {
    "duration": 69,
    "start_time": "2023-07-11T13:09:14.060Z"
   },
   {
    "duration": 11,
    "start_time": "2023-07-11T13:09:14.130Z"
   },
   {
    "duration": 445,
    "start_time": "2023-07-11T13:09:14.142Z"
   },
   {
    "duration": 44,
    "start_time": "2023-07-11T13:09:15.138Z"
   },
   {
    "duration": 66,
    "start_time": "2023-07-11T13:09:16.620Z"
   },
   {
    "duration": 50,
    "start_time": "2023-07-11T13:09:17.087Z"
   },
   {
    "duration": 16,
    "start_time": "2023-07-11T13:09:18.093Z"
   },
   {
    "duration": 44,
    "start_time": "2023-07-11T13:09:18.589Z"
   },
   {
    "duration": 29,
    "start_time": "2023-07-11T13:09:19.476Z"
   },
   {
    "duration": 24,
    "start_time": "2023-07-11T13:09:19.668Z"
   },
   {
    "duration": 77,
    "start_time": "2023-07-11T13:09:19.903Z"
   },
   {
    "duration": 59,
    "start_time": "2023-07-11T13:09:20.314Z"
   },
   {
    "duration": 49,
    "start_time": "2023-07-11T13:09:23.906Z"
   },
   {
    "duration": 70,
    "start_time": "2023-07-11T13:09:24.095Z"
   },
   {
    "duration": 151,
    "start_time": "2023-07-11T13:09:24.494Z"
   },
   {
    "duration": 106,
    "start_time": "2023-07-11T13:09:25.262Z"
   },
   {
    "duration": 31,
    "start_time": "2023-07-11T13:09:28.030Z"
   },
   {
    "duration": 4667,
    "start_time": "2023-07-11T13:09:28.266Z"
   },
   {
    "duration": 15,
    "start_time": "2023-07-11T13:09:32.950Z"
   },
   {
    "duration": 12,
    "start_time": "2023-07-11T13:09:32.966Z"
   },
   {
    "duration": 149,
    "start_time": "2023-07-11T13:09:35.984Z"
   },
   {
    "duration": 85,
    "start_time": "2023-07-11T13:09:36.198Z"
   },
   {
    "duration": 160,
    "start_time": "2023-07-11T13:09:36.436Z"
   },
   {
    "duration": 637,
    "start_time": "2023-07-11T13:09:41.055Z"
   },
   {
    "duration": 167,
    "start_time": "2023-07-11T13:09:41.694Z"
   },
   {
    "duration": 198,
    "start_time": "2023-07-11T13:10:02.788Z"
   },
   {
    "duration": 953,
    "start_time": "2023-07-11T13:10:03.683Z"
   },
   {
    "duration": 696,
    "start_time": "2023-07-11T13:10:30.751Z"
   },
   {
    "duration": 807,
    "start_time": "2023-07-11T13:12:28.947Z"
   },
   {
    "duration": 549,
    "start_time": "2023-07-11T13:12:56.814Z"
   },
   {
    "duration": 622,
    "start_time": "2023-07-11T13:14:34.487Z"
   },
   {
    "duration": 967,
    "start_time": "2023-07-11T13:17:59.371Z"
   },
   {
    "duration": 1114,
    "start_time": "2023-07-11T13:19:47.047Z"
   },
   {
    "duration": 1083,
    "start_time": "2023-07-11T13:24:28.153Z"
   },
   {
    "duration": 664,
    "start_time": "2023-07-11T13:24:52.381Z"
   },
   {
    "duration": 1117,
    "start_time": "2023-07-11T13:24:59.085Z"
   },
   {
    "duration": 1158,
    "start_time": "2023-07-11T13:25:04.619Z"
   },
   {
    "duration": 1377,
    "start_time": "2023-07-11T13:27:14.744Z"
   },
   {
    "duration": 178,
    "start_time": "2023-07-11T13:28:43.297Z"
   },
   {
    "duration": 763,
    "start_time": "2023-07-11T13:28:50.174Z"
   },
   {
    "duration": 1431,
    "start_time": "2023-07-11T13:30:17.998Z"
   },
   {
    "duration": 4,
    "start_time": "2023-07-11T13:34:44.658Z"
   },
   {
    "duration": 59,
    "start_time": "2023-07-11T13:34:46.621Z"
   },
   {
    "duration": 30,
    "start_time": "2023-07-11T13:34:47.375Z"
   },
   {
    "duration": 172,
    "start_time": "2023-07-11T13:35:18.126Z"
   },
   {
    "duration": 75,
    "start_time": "2023-07-11T13:36:27.398Z"
   },
   {
    "duration": 20,
    "start_time": "2023-07-11T13:36:45.153Z"
   },
   {
    "duration": 13,
    "start_time": "2023-07-11T13:37:00.328Z"
   },
   {
    "duration": 21,
    "start_time": "2023-07-11T13:37:10.436Z"
   },
   {
    "duration": 839,
    "start_time": "2023-07-11T13:49:37.646Z"
   },
   {
    "duration": 31,
    "start_time": "2023-07-11T13:49:52.590Z"
   },
   {
    "duration": 3,
    "start_time": "2023-07-11T13:55:13.682Z"
   },
   {
    "duration": 4,
    "start_time": "2023-07-11T13:55:41.962Z"
   },
   {
    "duration": 8,
    "start_time": "2023-07-11T13:55:45.569Z"
   },
   {
    "duration": 27,
    "start_time": "2023-07-11T13:55:57.594Z"
   },
   {
    "duration": 25,
    "start_time": "2023-07-11T13:56:05.284Z"
   },
   {
    "duration": 7,
    "start_time": "2023-07-11T13:57:04.342Z"
   },
   {
    "duration": 3,
    "start_time": "2023-07-11T13:57:19.694Z"
   },
   {
    "duration": 134,
    "start_time": "2023-07-11T13:57:53.658Z"
   },
   {
    "duration": 4,
    "start_time": "2023-07-11T13:58:45.248Z"
   },
   {
    "duration": 4,
    "start_time": "2023-07-11T13:59:39.990Z"
   },
   {
    "duration": 19,
    "start_time": "2023-07-11T13:59:45.966Z"
   },
   {
    "duration": 50,
    "start_time": "2023-07-11T14:01:28.634Z"
   },
   {
    "duration": 39,
    "start_time": "2023-07-11T14:06:32.298Z"
   },
   {
    "duration": 196,
    "start_time": "2023-07-11T14:06:44.188Z"
   },
   {
    "duration": 16,
    "start_time": "2023-07-11T14:08:19.977Z"
   },
   {
    "duration": 18,
    "start_time": "2023-07-11T14:08:41.570Z"
   },
   {
    "duration": 33,
    "start_time": "2023-07-11T14:10:19.592Z"
   },
   {
    "duration": 15,
    "start_time": "2023-07-11T14:10:37.267Z"
   },
   {
    "duration": 28961,
    "start_time": "2023-07-11T14:32:01.664Z"
   },
   {
    "duration": 36,
    "start_time": "2023-07-11T14:32:30.627Z"
   },
   {
    "duration": 209,
    "start_time": "2023-07-11T14:32:30.665Z"
   },
   {
    "duration": 15,
    "start_time": "2023-07-11T14:37:53.598Z"
   },
   {
    "duration": 125821,
    "start_time": "2023-07-11T14:47:44.796Z"
   },
   {
    "duration": 761,
    "start_time": "2023-07-11T14:49:50.618Z"
   },
   {
    "duration": 1286,
    "start_time": "2023-07-11T14:51:49.774Z"
   },
   {
    "duration": 9,
    "start_time": "2023-07-11T14:51:51.067Z"
   },
   {
    "duration": 53,
    "start_time": "2023-07-11T14:51:51.077Z"
   },
   {
    "duration": 39140,
    "start_time": "2023-07-11T14:51:55.536Z"
   },
   {
    "duration": 280,
    "start_time": "2023-07-11T14:52:34.677Z"
   },
   {
    "duration": 10,
    "start_time": "2023-07-11T14:52:34.970Z"
   },
   {
    "duration": 9,
    "start_time": "2023-07-11T14:52:34.981Z"
   },
   {
    "duration": 8486,
    "start_time": "2023-07-11T14:54:22.878Z"
   },
   {
    "duration": 108,
    "start_time": "2023-07-11T14:54:31.366Z"
   },
   {
    "duration": 78,
    "start_time": "2023-07-11T14:54:31.475Z"
   },
   {
    "duration": 10285,
    "start_time": "2023-07-11T14:55:09.584Z"
   },
   {
    "duration": 95,
    "start_time": "2023-07-11T14:55:19.871Z"
   },
   {
    "duration": 12,
    "start_time": "2023-07-11T14:55:19.968Z"
   },
   {
    "duration": 7550,
    "start_time": "2023-07-11T14:56:24.528Z"
   },
   {
    "duration": 207,
    "start_time": "2023-07-11T14:56:32.080Z"
   },
   {
    "duration": 85,
    "start_time": "2023-07-11T14:56:32.288Z"
   },
   {
    "duration": 2189,
    "start_time": "2023-07-11T15:39:20.995Z"
   },
   {
    "duration": 1177,
    "start_time": "2023-07-11T15:40:14.674Z"
   },
   {
    "duration": 28,
    "start_time": "2023-07-11T15:40:15.867Z"
   },
   {
    "duration": 351,
    "start_time": "2023-07-11T15:40:15.897Z"
   },
   {
    "duration": 283,
    "start_time": "2023-07-11T15:40:16.262Z"
   },
   {
    "duration": 207,
    "start_time": "2023-07-11T15:40:16.567Z"
   },
   {
    "duration": 293,
    "start_time": "2023-07-11T15:40:16.776Z"
   },
   {
    "duration": 609,
    "start_time": "2023-07-11T15:40:17.070Z"
   },
   {
    "duration": 1240,
    "start_time": "2023-07-11T15:40:17.681Z"
   },
   {
    "duration": 53,
    "start_time": "2023-07-11T15:40:18.937Z"
   },
   {
    "duration": 139,
    "start_time": "2023-07-11T15:40:18.992Z"
   },
   {
    "duration": 120,
    "start_time": "2023-07-11T15:40:19.133Z"
   },
   {
    "duration": 232,
    "start_time": "2023-07-11T15:40:19.254Z"
   },
   {
    "duration": 86,
    "start_time": "2023-07-11T15:40:19.488Z"
   },
   {
    "duration": 46,
    "start_time": "2023-07-11T15:40:19.577Z"
   },
   {
    "duration": 49,
    "start_time": "2023-07-11T15:40:20.349Z"
   },
   {
    "duration": 65,
    "start_time": "2023-07-11T15:40:20.513Z"
   },
   {
    "duration": 833,
    "start_time": "2023-07-11T15:40:20.991Z"
   },
   {
    "duration": 54,
    "start_time": "2023-07-11T15:40:21.829Z"
   },
   {
    "duration": 64,
    "start_time": "2023-07-11T15:40:21.884Z"
   },
   {
    "duration": 45,
    "start_time": "2023-07-11T15:40:21.966Z"
   },
   {
    "duration": 519,
    "start_time": "2023-07-11T15:40:22.118Z"
   },
   {
    "duration": 2072,
    "start_time": "2023-07-11T15:40:22.641Z"
   },
   {
    "duration": 54,
    "start_time": "2023-07-11T15:40:24.715Z"
   },
   {
    "duration": 163,
    "start_time": "2023-07-11T15:40:24.771Z"
   },
   {
    "duration": 127,
    "start_time": "2023-07-11T15:40:24.935Z"
   },
   {
    "duration": 110,
    "start_time": "2023-07-11T15:40:25.064Z"
   },
   {
    "duration": 543,
    "start_time": "2023-07-11T15:40:25.178Z"
   },
   {
    "duration": 69,
    "start_time": "2023-07-11T15:40:25.726Z"
   },
   {
    "duration": 140,
    "start_time": "2023-07-11T15:40:25.799Z"
   },
   {
    "duration": 124,
    "start_time": "2023-07-11T15:40:25.950Z"
   },
   {
    "duration": 41,
    "start_time": "2023-07-11T15:40:26.076Z"
   },
   {
    "duration": 169,
    "start_time": "2023-07-11T15:40:26.118Z"
   },
   {
    "duration": 105,
    "start_time": "2023-07-11T15:40:26.289Z"
   },
   {
    "duration": 131,
    "start_time": "2023-07-11T15:40:26.397Z"
   },
   {
    "duration": 99,
    "start_time": "2023-07-11T15:40:26.534Z"
   },
   {
    "duration": 134,
    "start_time": "2023-07-11T15:40:26.641Z"
   },
   {
    "duration": 114,
    "start_time": "2023-07-11T15:40:26.779Z"
   },
   {
    "duration": 138,
    "start_time": "2023-07-11T15:40:26.895Z"
   },
   {
    "duration": 134,
    "start_time": "2023-07-11T15:40:27.189Z"
   },
   {
    "duration": 173,
    "start_time": "2023-07-11T15:40:28.200Z"
   },
   {
    "duration": 18,
    "start_time": "2023-07-11T15:40:30.361Z"
   },
   {
    "duration": 3007,
    "start_time": "2023-07-11T15:40:30.518Z"
   },
   {
    "duration": 10,
    "start_time": "2023-07-11T15:40:33.530Z"
   },
   {
    "duration": 77,
    "start_time": "2023-07-11T15:40:33.545Z"
   },
   {
    "duration": 134,
    "start_time": "2023-07-11T15:40:33.631Z"
   },
   {
    "duration": 54,
    "start_time": "2023-07-11T15:40:33.767Z"
   },
   {
    "duration": 258,
    "start_time": "2023-07-11T15:40:33.840Z"
   },
   {
    "duration": 1513,
    "start_time": "2023-07-11T15:40:34.122Z"
   },
   {
    "duration": 5,
    "start_time": "2023-07-11T15:40:35.636Z"
   },
   {
    "duration": 175,
    "start_time": "2023-07-11T15:40:35.642Z"
   },
   {
    "duration": 125,
    "start_time": "2023-07-11T15:40:35.819Z"
   },
   {
    "duration": 347,
    "start_time": "2023-07-11T15:40:35.946Z"
   },
   {
    "duration": 50,
    "start_time": "2023-07-11T15:40:36.438Z"
   },
   {
    "duration": 883,
    "start_time": "2023-07-11T15:40:36.774Z"
   },
   {
    "duration": 2,
    "start_time": "2023-07-11T15:40:38.490Z"
   },
   {
    "duration": 24,
    "start_time": "2023-07-11T15:40:38.828Z"
   },
   {
    "duration": 11,
    "start_time": "2023-07-11T15:40:39.470Z"
   },
   {
    "duration": 21863,
    "start_time": "2023-07-11T15:40:47.058Z"
   },
   {
    "duration": 39,
    "start_time": "2023-07-11T15:41:08.922Z"
   },
   {
    "duration": 103,
    "start_time": "2023-07-11T15:41:08.962Z"
   },
   {
    "duration": 2281,
    "start_time": "2023-07-11T15:55:17.032Z"
   },
   {
    "duration": 1205,
    "start_time": "2023-07-11T15:55:20.074Z"
   },
   {
    "duration": 33,
    "start_time": "2023-07-11T15:55:21.280Z"
   },
   {
    "duration": 406,
    "start_time": "2023-07-11T15:55:21.317Z"
   },
   {
    "duration": 424,
    "start_time": "2023-07-11T15:55:21.729Z"
   },
   {
    "duration": 92,
    "start_time": "2023-07-11T15:55:22.165Z"
   },
   {
    "duration": 368,
    "start_time": "2023-07-11T15:55:22.275Z"
   },
   {
    "duration": 899,
    "start_time": "2023-07-11T15:55:22.658Z"
   },
   {
    "duration": 1503,
    "start_time": "2023-07-11T15:55:23.566Z"
   },
   {
    "duration": 81,
    "start_time": "2023-07-11T15:55:25.084Z"
   },
   {
    "duration": 116,
    "start_time": "2023-07-11T15:55:25.169Z"
   },
   {
    "duration": 238,
    "start_time": "2023-07-11T15:55:25.287Z"
   },
   {
    "duration": 360,
    "start_time": "2023-07-11T15:55:25.529Z"
   },
   {
    "duration": 117,
    "start_time": "2023-07-11T15:55:25.894Z"
   },
   {
    "duration": 108,
    "start_time": "2023-07-11T15:55:26.021Z"
   },
   {
    "duration": 167,
    "start_time": "2023-07-11T15:55:26.142Z"
   },
   {
    "duration": 131,
    "start_time": "2023-07-11T15:55:26.310Z"
   },
   {
    "duration": 834,
    "start_time": "2023-07-11T15:55:26.449Z"
   },
   {
    "duration": 57,
    "start_time": "2023-07-11T15:55:27.288Z"
   },
   {
    "duration": 137,
    "start_time": "2023-07-11T15:55:27.349Z"
   },
   {
    "duration": 194,
    "start_time": "2023-07-11T15:55:27.491Z"
   },
   {
    "duration": 708,
    "start_time": "2023-07-11T15:55:27.694Z"
   },
   {
    "duration": 2154,
    "start_time": "2023-07-11T15:55:28.403Z"
   },
   {
    "duration": 84,
    "start_time": "2023-07-11T15:55:30.561Z"
   },
   {
    "duration": 212,
    "start_time": "2023-07-11T15:55:30.649Z"
   },
   {
    "duration": 258,
    "start_time": "2023-07-11T15:55:30.866Z"
   },
   {
    "duration": 156,
    "start_time": "2023-07-11T15:55:31.129Z"
   },
   {
    "duration": 730,
    "start_time": "2023-07-11T15:55:31.286Z"
   },
   {
    "duration": 125,
    "start_time": "2023-07-11T15:55:32.024Z"
   },
   {
    "duration": 446,
    "start_time": "2023-07-11T15:55:32.159Z"
   },
   {
    "duration": 219,
    "start_time": "2023-07-11T15:55:32.607Z"
   },
   {
    "duration": 82,
    "start_time": "2023-07-11T15:55:32.828Z"
   },
   {
    "duration": 204,
    "start_time": "2023-07-11T15:55:32.913Z"
   },
   {
    "duration": 146,
    "start_time": "2023-07-11T15:55:33.131Z"
   },
   {
    "duration": 219,
    "start_time": "2023-07-11T15:55:33.279Z"
   },
   {
    "duration": 234,
    "start_time": "2023-07-11T15:55:33.507Z"
   },
   {
    "duration": 230,
    "start_time": "2023-07-11T15:55:33.742Z"
   },
   {
    "duration": 268,
    "start_time": "2023-07-11T15:55:33.977Z"
   },
   {
    "duration": 134,
    "start_time": "2023-07-11T15:55:34.250Z"
   },
   {
    "duration": 310,
    "start_time": "2023-07-11T15:55:34.395Z"
   },
   {
    "duration": 207,
    "start_time": "2023-07-11T15:55:34.720Z"
   },
   {
    "duration": 3359,
    "start_time": "2023-07-11T15:55:42.974Z"
   },
   {
    "duration": 7,
    "start_time": "2023-07-11T15:55:46.335Z"
   },
   {
    "duration": 138,
    "start_time": "2023-07-11T15:55:46.343Z"
   },
   {
    "duration": 338,
    "start_time": "2023-07-11T15:55:46.483Z"
   },
   {
    "duration": 38,
    "start_time": "2023-07-11T15:55:46.823Z"
   },
   {
    "duration": 555,
    "start_time": "2023-07-11T15:55:46.866Z"
   },
   {
    "duration": 789,
    "start_time": "2023-07-11T15:55:48.660Z"
   },
   {
    "duration": 8,
    "start_time": "2023-07-11T15:55:49.665Z"
   },
   {
    "duration": 68,
    "start_time": "2023-07-11T15:55:54.725Z"
   },
   {
    "duration": 84,
    "start_time": "2023-07-11T15:55:55.827Z"
   },
   {
    "duration": 31,
    "start_time": "2023-07-11T15:55:57.134Z"
   },
   {
    "duration": 29,
    "start_time": "2023-07-11T15:55:59.492Z"
   },
   {
    "duration": 19,
    "start_time": "2023-07-11T15:56:04.630Z"
   },
   {
    "duration": 18,
    "start_time": "2023-07-11T15:56:46.195Z"
   },
   {
    "duration": 3138,
    "start_time": "2023-07-11T15:56:46.395Z"
   },
   {
    "duration": 10,
    "start_time": "2023-07-11T15:56:49.535Z"
   },
   {
    "duration": 54,
    "start_time": "2023-07-11T15:56:49.546Z"
   },
   {
    "duration": 207,
    "start_time": "2023-07-11T15:56:49.606Z"
   },
   {
    "duration": 163,
    "start_time": "2023-07-11T15:56:49.818Z"
   },
   {
    "duration": 287,
    "start_time": "2023-07-11T15:56:49.988Z"
   },
   {
    "duration": 1427,
    "start_time": "2023-07-11T15:56:52.442Z"
   },
   {
    "duration": 8,
    "start_time": "2023-07-11T15:56:55.268Z"
   },
   {
    "duration": 53,
    "start_time": "2023-07-11T15:56:57.641Z"
   },
   {
    "duration": 65,
    "start_time": "2023-07-11T15:56:58.174Z"
   },
   {
    "duration": 43,
    "start_time": "2023-07-11T15:56:59.218Z"
   },
   {
    "duration": 21,
    "start_time": "2023-07-11T15:57:00.464Z"
   },
   {
    "duration": 850,
    "start_time": "2023-07-11T15:57:01.327Z"
   },
   {
    "duration": 16,
    "start_time": "2023-07-11T15:57:07.419Z"
   },
   {
    "duration": 15,
    "start_time": "2023-07-11T15:57:07.871Z"
   },
   {
    "duration": 31,
    "start_time": "2023-07-11T15:57:08.991Z"
   },
   {
    "duration": 2543,
    "start_time": "2023-07-11T16:00:08.094Z"
   },
   {
    "duration": 1104,
    "start_time": "2023-07-11T16:00:11.849Z"
   },
   {
    "duration": 41,
    "start_time": "2023-07-11T16:00:13.820Z"
   },
   {
    "duration": 229,
    "start_time": "2023-07-11T16:00:13.965Z"
   },
   {
    "duration": 239,
    "start_time": "2023-07-11T16:00:14.430Z"
   },
   {
    "duration": 66,
    "start_time": "2023-07-11T16:00:14.671Z"
   },
   {
    "duration": 307,
    "start_time": "2023-07-11T16:00:14.826Z"
   },
   {
    "duration": 599,
    "start_time": "2023-07-11T16:00:15.134Z"
   },
   {
    "duration": 1290,
    "start_time": "2023-07-11T16:00:15.735Z"
   },
   {
    "duration": 57,
    "start_time": "2023-07-11T16:00:17.030Z"
   },
   {
    "duration": 131,
    "start_time": "2023-07-11T16:00:17.092Z"
   },
   {
    "duration": 305,
    "start_time": "2023-07-11T16:00:17.228Z"
   },
   {
    "duration": 296,
    "start_time": "2023-07-11T16:00:17.541Z"
   },
   {
    "duration": 100,
    "start_time": "2023-07-11T16:00:17.841Z"
   },
   {
    "duration": 19,
    "start_time": "2023-07-11T16:00:17.950Z"
   },
   {
    "duration": 74,
    "start_time": "2023-07-11T16:00:17.979Z"
   },
   {
    "duration": 54,
    "start_time": "2023-07-11T16:00:18.059Z"
   },
   {
    "duration": 850,
    "start_time": "2023-07-11T16:00:18.115Z"
   },
   {
    "duration": 64,
    "start_time": "2023-07-11T16:00:18.969Z"
   },
   {
    "duration": 120,
    "start_time": "2023-07-11T16:00:19.041Z"
   },
   {
    "duration": 50,
    "start_time": "2023-07-11T16:00:19.163Z"
   },
   {
    "duration": 446,
    "start_time": "2023-07-11T16:00:19.255Z"
   },
   {
    "duration": 2222,
    "start_time": "2023-07-11T16:00:19.705Z"
   },
   {
    "duration": 131,
    "start_time": "2023-07-11T16:00:21.951Z"
   },
   {
    "duration": 74,
    "start_time": "2023-07-11T16:00:22.088Z"
   },
   {
    "duration": 51,
    "start_time": "2023-07-11T16:00:22.166Z"
   },
   {
    "duration": 22,
    "start_time": "2023-07-11T16:00:22.218Z"
   },
   {
    "duration": 584,
    "start_time": "2023-07-11T16:00:22.241Z"
   },
   {
    "duration": 67,
    "start_time": "2023-07-11T16:00:22.830Z"
   },
   {
    "duration": 75,
    "start_time": "2023-07-11T16:00:22.912Z"
   },
   {
    "duration": 89,
    "start_time": "2023-07-11T16:00:22.988Z"
   },
   {
    "duration": 63,
    "start_time": "2023-07-11T16:00:23.078Z"
   },
   {
    "duration": 91,
    "start_time": "2023-07-11T16:00:23.142Z"
   },
   {
    "duration": 156,
    "start_time": "2023-07-11T16:00:23.234Z"
   },
   {
    "duration": 65,
    "start_time": "2023-07-11T16:00:23.392Z"
   },
   {
    "duration": 77,
    "start_time": "2023-07-11T16:00:23.459Z"
   },
   {
    "duration": 51,
    "start_time": "2023-07-11T16:00:23.544Z"
   },
   {
    "duration": 57,
    "start_time": "2023-07-11T16:00:23.648Z"
   },
   {
    "duration": 83,
    "start_time": "2023-07-11T16:00:23.900Z"
   },
   {
    "duration": 131,
    "start_time": "2023-07-11T16:00:24.226Z"
   },
   {
    "duration": 106,
    "start_time": "2023-07-11T16:00:24.851Z"
   },
   {
    "duration": 39,
    "start_time": "2023-07-11T16:00:26.410Z"
   },
   {
    "duration": 2917,
    "start_time": "2023-07-11T16:00:26.620Z"
   },
   {
    "duration": 11,
    "start_time": "2023-07-11T16:00:29.539Z"
   },
   {
    "duration": 85,
    "start_time": "2023-07-11T16:00:29.552Z"
   },
   {
    "duration": 190,
    "start_time": "2023-07-11T16:00:29.639Z"
   },
   {
    "duration": 66,
    "start_time": "2023-07-11T16:00:29.831Z"
   },
   {
    "duration": 267,
    "start_time": "2023-07-11T16:00:29.898Z"
   },
   {
    "duration": 1322,
    "start_time": "2023-07-11T16:00:30.167Z"
   },
   {
    "duration": 6,
    "start_time": "2023-07-11T16:00:31.491Z"
   },
   {
    "duration": 278,
    "start_time": "2023-07-11T16:00:31.507Z"
   },
   {
    "duration": 179,
    "start_time": "2023-07-11T16:00:31.789Z"
   },
   {
    "duration": 221,
    "start_time": "2023-07-11T16:00:31.972Z"
   },
   {
    "duration": 0,
    "start_time": "2023-07-11T16:00:32.194Z"
   },
   {
    "duration": 0,
    "start_time": "2023-07-11T16:00:32.195Z"
   },
   {
    "duration": 7,
    "start_time": "2023-07-11T16:00:32.898Z"
   },
   {
    "duration": 23,
    "start_time": "2023-07-11T16:00:33.094Z"
   },
   {
    "duration": 21,
    "start_time": "2023-07-11T16:00:33.422Z"
   },
   {
    "duration": 2247,
    "start_time": "2023-07-11T16:29:12.024Z"
   },
   {
    "duration": 1134,
    "start_time": "2023-07-11T16:29:15.085Z"
   },
   {
    "duration": 40,
    "start_time": "2023-07-11T16:29:16.221Z"
   },
   {
    "duration": 249,
    "start_time": "2023-07-11T16:29:16.266Z"
   },
   {
    "duration": 403,
    "start_time": "2023-07-11T16:29:16.517Z"
   },
   {
    "duration": 111,
    "start_time": "2023-07-11T16:29:16.922Z"
   },
   {
    "duration": 453,
    "start_time": "2023-07-11T16:29:17.040Z"
   },
   {
    "duration": 708,
    "start_time": "2023-07-11T16:29:17.496Z"
   },
   {
    "duration": 1372,
    "start_time": "2023-07-11T16:29:18.209Z"
   },
   {
    "duration": 82,
    "start_time": "2023-07-11T16:29:19.587Z"
   },
   {
    "duration": 101,
    "start_time": "2023-07-11T16:29:19.681Z"
   },
   {
    "duration": 208,
    "start_time": "2023-07-11T16:29:19.784Z"
   },
   {
    "duration": 217,
    "start_time": "2023-07-11T16:29:19.994Z"
   },
   {
    "duration": 75,
    "start_time": "2023-07-11T16:29:20.218Z"
   },
   {
    "duration": 99,
    "start_time": "2023-07-11T16:29:20.295Z"
   },
   {
    "duration": 157,
    "start_time": "2023-07-11T16:29:20.396Z"
   },
   {
    "duration": 41,
    "start_time": "2023-07-11T16:29:20.554Z"
   },
   {
    "duration": 892,
    "start_time": "2023-07-11T16:29:20.597Z"
   },
   {
    "duration": 99,
    "start_time": "2023-07-11T16:29:21.494Z"
   },
   {
    "duration": 131,
    "start_time": "2023-07-11T16:29:21.594Z"
   },
   {
    "duration": 66,
    "start_time": "2023-07-11T16:29:21.727Z"
   },
   {
    "duration": 557,
    "start_time": "2023-07-11T16:29:21.795Z"
   },
   {
    "duration": 2176,
    "start_time": "2023-07-11T16:29:22.353Z"
   },
   {
    "duration": 72,
    "start_time": "2023-07-11T16:29:24.541Z"
   },
   {
    "duration": 57,
    "start_time": "2023-07-11T16:29:24.624Z"
   },
   {
    "duration": 77,
    "start_time": "2023-07-11T16:29:24.686Z"
   },
   {
    "duration": 28,
    "start_time": "2023-07-11T16:29:24.767Z"
   },
   {
    "duration": 572,
    "start_time": "2023-07-11T16:29:24.797Z"
   },
   {
    "duration": 56,
    "start_time": "2023-07-11T16:29:25.373Z"
   },
   {
    "duration": 88,
    "start_time": "2023-07-11T16:29:25.433Z"
   },
   {
    "duration": 102,
    "start_time": "2023-07-11T16:29:25.529Z"
   },
   {
    "duration": 32,
    "start_time": "2023-07-11T16:29:25.641Z"
   },
   {
    "duration": 22,
    "start_time": "2023-07-11T16:29:25.675Z"
   },
   {
    "duration": 70,
    "start_time": "2023-07-11T16:29:25.699Z"
   },
   {
    "duration": 115,
    "start_time": "2023-07-11T16:29:25.770Z"
   },
   {
    "duration": 46,
    "start_time": "2023-07-11T16:29:25.887Z"
   },
   {
    "duration": 107,
    "start_time": "2023-07-11T16:29:25.934Z"
   },
   {
    "duration": 132,
    "start_time": "2023-07-11T16:29:26.043Z"
   },
   {
    "duration": 77,
    "start_time": "2023-07-11T16:29:26.177Z"
   },
   {
    "duration": 149,
    "start_time": "2023-07-11T16:29:26.488Z"
   },
   {
    "duration": 171,
    "start_time": "2023-07-11T16:29:28.480Z"
   },
   {
    "duration": 32,
    "start_time": "2023-07-11T16:29:31.248Z"
   },
   {
    "duration": 3052,
    "start_time": "2023-07-11T16:29:31.282Z"
   },
   {
    "duration": 8,
    "start_time": "2023-07-11T16:29:34.336Z"
   },
   {
    "duration": 42,
    "start_time": "2023-07-11T16:29:34.345Z"
   },
   {
    "duration": 180,
    "start_time": "2023-07-11T16:29:34.389Z"
   },
   {
    "duration": 15,
    "start_time": "2023-07-11T16:29:34.577Z"
   },
   {
    "duration": 307,
    "start_time": "2023-07-11T16:29:34.595Z"
   },
   {
    "duration": 1325,
    "start_time": "2023-07-11T16:29:35.736Z"
   },
   {
    "duration": 3,
    "start_time": "2023-07-11T16:29:37.066Z"
   },
   {
    "duration": 26,
    "start_time": "2023-07-11T16:29:38.672Z"
   },
   {
    "duration": 56,
    "start_time": "2023-07-11T16:29:39.374Z"
   },
   {
    "duration": 185,
    "start_time": "2023-07-11T16:29:40.762Z"
   },
   {
    "duration": 9,
    "start_time": "2023-07-11T16:29:44.875Z"
   },
   {
    "duration": 932,
    "start_time": "2023-07-11T16:29:46.425Z"
   },
   {
    "duration": 3,
    "start_time": "2023-07-11T16:29:49.845Z"
   },
   {
    "duration": 19,
    "start_time": "2023-07-11T16:29:50.358Z"
   },
   {
    "duration": 10,
    "start_time": "2023-07-11T16:29:51.283Z"
   },
   {
    "duration": 23181,
    "start_time": "2023-07-11T16:29:59.632Z"
   },
   {
    "duration": 3135290,
    "start_time": "2023-07-11T16:31:52.743Z"
   },
   {
    "duration": 583,
    "start_time": "2023-07-11T17:24:08.034Z"
   },
   {
    "duration": 10,
    "start_time": "2023-07-11T17:24:08.618Z"
   },
   {
    "duration": 1981397,
    "start_time": "2023-07-11T17:24:08.632Z"
   },
   {
    "duration": 701,
    "start_time": "2023-07-11T17:57:10.030Z"
   },
   {
    "duration": 8,
    "start_time": "2023-07-11T17:57:10.733Z"
   },
   {
    "duration": 2136,
    "start_time": "2023-07-11T17:57:10.742Z"
   },
   {
    "duration": 3,
    "start_time": "2023-07-11T17:57:12.880Z"
   },
   {
    "duration": 1769,
    "start_time": "2023-07-11T20:37:39.888Z"
   },
   {
    "duration": 997,
    "start_time": "2023-07-11T20:37:41.660Z"
   },
   {
    "duration": 33,
    "start_time": "2023-07-11T20:37:44.050Z"
   },
   {
    "duration": 251,
    "start_time": "2023-07-11T20:37:44.278Z"
   },
   {
    "duration": 183,
    "start_time": "2023-07-11T20:37:44.930Z"
   },
   {
    "duration": 80,
    "start_time": "2023-07-11T20:37:45.185Z"
   },
   {
    "duration": 272,
    "start_time": "2023-07-11T20:37:45.377Z"
   },
   {
    "duration": 547,
    "start_time": "2023-07-11T20:37:45.664Z"
   },
   {
    "duration": 1152,
    "start_time": "2023-07-11T20:37:46.212Z"
   },
   {
    "duration": 64,
    "start_time": "2023-07-11T20:37:47.366Z"
   },
   {
    "duration": 48,
    "start_time": "2023-07-11T20:37:47.446Z"
   },
   {
    "duration": 282,
    "start_time": "2023-07-11T20:37:47.496Z"
   },
   {
    "duration": 208,
    "start_time": "2023-07-11T20:37:47.780Z"
   },
   {
    "duration": 126,
    "start_time": "2023-07-11T20:37:47.991Z"
   },
   {
    "duration": 17,
    "start_time": "2023-07-11T20:37:48.544Z"
   },
   {
    "duration": 49,
    "start_time": "2023-07-11T20:37:48.768Z"
   },
   {
    "duration": 55,
    "start_time": "2023-07-11T20:37:48.982Z"
   },
   {
    "duration": 881,
    "start_time": "2023-07-11T20:37:49.634Z"
   },
   {
    "duration": 64,
    "start_time": "2023-07-11T20:37:50.517Z"
   },
   {
    "duration": 84,
    "start_time": "2023-07-11T20:37:50.693Z"
   },
   {
    "duration": 37,
    "start_time": "2023-07-11T20:37:51.224Z"
   },
   {
    "duration": 425,
    "start_time": "2023-07-11T20:37:51.658Z"
   },
   {
    "duration": 1906,
    "start_time": "2023-07-11T20:37:52.085Z"
   },
   {
    "duration": 58,
    "start_time": "2023-07-11T20:37:53.993Z"
   },
   {
    "duration": 43,
    "start_time": "2023-07-11T20:37:54.145Z"
   },
   {
    "duration": 71,
    "start_time": "2023-07-11T20:37:54.374Z"
   },
   {
    "duration": 15,
    "start_time": "2023-07-11T20:37:54.874Z"
   },
   {
    "duration": 495,
    "start_time": "2023-07-11T20:37:55.246Z"
   },
   {
    "duration": 68,
    "start_time": "2023-07-11T20:37:56.315Z"
   },
   {
    "duration": 54,
    "start_time": "2023-07-11T20:37:57.930Z"
   },
   {
    "duration": 51,
    "start_time": "2023-07-11T20:37:58.134Z"
   },
   {
    "duration": 11,
    "start_time": "2023-07-11T20:37:59.067Z"
   },
   {
    "duration": 48,
    "start_time": "2023-07-11T20:37:59.293Z"
   },
   {
    "duration": 72,
    "start_time": "2023-07-11T20:37:59.745Z"
   },
   {
    "duration": 41,
    "start_time": "2023-07-11T20:37:59.945Z"
   },
   {
    "duration": 24,
    "start_time": "2023-07-11T20:38:00.174Z"
   },
   {
    "duration": 95,
    "start_time": "2023-07-11T20:38:00.630Z"
   },
   {
    "duration": 74,
    "start_time": "2023-07-11T20:38:01.076Z"
   },
   {
    "duration": 63,
    "start_time": "2023-07-11T20:38:01.282Z"
   },
   {
    "duration": 127,
    "start_time": "2023-07-11T20:38:01.850Z"
   },
   {
    "duration": 151,
    "start_time": "2023-07-11T20:38:02.726Z"
   },
   {
    "duration": 37,
    "start_time": "2023-07-11T20:38:05.132Z"
   },
   {
    "duration": 2920,
    "start_time": "2023-07-11T20:38:05.375Z"
   },
   {
    "duration": 15,
    "start_time": "2023-07-11T20:38:08.298Z"
   },
   {
    "duration": 61,
    "start_time": "2023-07-11T20:38:08.314Z"
   },
   {
    "duration": 135,
    "start_time": "2023-07-11T20:38:10.134Z"
   },
   {
    "duration": 14,
    "start_time": "2023-07-11T20:38:10.566Z"
   },
   {
    "duration": 231,
    "start_time": "2023-07-11T20:38:11.017Z"
   },
   {
    "duration": 1257,
    "start_time": "2023-07-11T20:38:13.728Z"
   },
   {
    "duration": 4,
    "start_time": "2023-07-11T20:38:16.091Z"
   },
   {
    "duration": 46,
    "start_time": "2023-07-11T20:38:22.675Z"
   },
   {
    "duration": 77,
    "start_time": "2023-07-11T20:38:23.287Z"
   },
   {
    "duration": 162,
    "start_time": "2023-07-11T20:38:24.555Z"
   },
   {
    "duration": 22,
    "start_time": "2023-07-11T20:38:31.946Z"
   },
   {
    "duration": 11,
    "start_time": "2023-07-11T20:38:35.478Z"
   },
   {
    "duration": 836,
    "start_time": "2023-07-11T20:38:39.099Z"
   },
   {
    "duration": 6,
    "start_time": "2023-07-11T20:38:41.727Z"
   },
   {
    "duration": 26,
    "start_time": "2023-07-11T20:38:42.534Z"
   },
   {
    "duration": 17,
    "start_time": "2023-07-11T20:38:47.158Z"
   },
   {
    "duration": 9,
    "start_time": "2023-07-11T20:38:48.588Z"
   },
   {
    "duration": 21222,
    "start_time": "2023-07-11T20:38:58.835Z"
   },
   {
    "duration": 14,
    "start_time": "2023-07-11T20:39:20.106Z"
   },
   {
    "duration": 71,
    "start_time": "2023-07-11T20:39:20.125Z"
   },
   {
    "duration": 124524,
    "start_time": "2023-07-11T20:40:28.836Z"
   },
   {
    "duration": 3820,
    "start_time": "2023-07-11T20:42:59.921Z"
   },
   {
    "duration": 25,
    "start_time": "2023-07-11T20:43:03.746Z"
   },
   {
    "duration": 12,
    "start_time": "2023-07-11T20:43:03.773Z"
   },
   {
    "duration": 38715,
    "start_time": "2023-07-11T20:43:25.654Z"
   },
   {
    "duration": 297,
    "start_time": "2023-07-11T20:44:13.054Z"
   },
   {
    "duration": 23,
    "start_time": "2023-07-11T20:44:13.538Z"
   },
   {
    "duration": 5,
    "start_time": "2023-07-11T20:44:14.187Z"
   },
   {
    "duration": 9492,
    "start_time": "2023-07-11T20:44:30.677Z"
   },
   {
    "duration": 118,
    "start_time": "2023-07-11T20:44:40.170Z"
   },
   {
    "duration": 4,
    "start_time": "2023-07-11T20:44:40.289Z"
   },
   {
    "duration": 10795,
    "start_time": "2023-07-11T20:44:46.154Z"
   },
   {
    "duration": 79,
    "start_time": "2023-07-11T20:44:56.954Z"
   },
   {
    "duration": 64,
    "start_time": "2023-07-11T20:44:57.034Z"
   },
   {
    "duration": 8971,
    "start_time": "2023-07-11T20:44:57.114Z"
   },
   {
    "duration": 338,
    "start_time": "2023-07-11T20:45:06.087Z"
   },
   {
    "duration": 69,
    "start_time": "2023-07-11T20:45:06.426Z"
   },
   {
    "duration": 1695,
    "start_time": "2023-07-11T21:24:27.950Z"
   },
   {
    "duration": 921,
    "start_time": "2023-07-11T21:24:32.257Z"
   },
   {
    "duration": 22,
    "start_time": "2023-07-11T21:24:33.183Z"
   },
   {
    "duration": 189,
    "start_time": "2023-07-11T21:24:33.206Z"
   },
   {
    "duration": 176,
    "start_time": "2023-07-11T21:24:33.455Z"
   },
   {
    "duration": 86,
    "start_time": "2023-07-11T21:24:33.663Z"
   },
   {
    "duration": 228,
    "start_time": "2023-07-11T21:24:33.770Z"
   },
   {
    "duration": 543,
    "start_time": "2023-07-11T21:24:34.334Z"
   },
   {
    "duration": 1238,
    "start_time": "2023-07-11T21:24:34.879Z"
   },
   {
    "duration": 37,
    "start_time": "2023-07-11T21:24:36.119Z"
   },
   {
    "duration": 173,
    "start_time": "2023-07-11T21:24:36.160Z"
   },
   {
    "duration": 240,
    "start_time": "2023-07-11T21:24:36.341Z"
   },
   {
    "duration": 292,
    "start_time": "2023-07-11T21:24:36.582Z"
   },
   {
    "duration": 102,
    "start_time": "2023-07-11T21:24:36.876Z"
   },
   {
    "duration": 10,
    "start_time": "2023-07-11T21:24:37.357Z"
   },
   {
    "duration": 46,
    "start_time": "2023-07-11T21:24:37.524Z"
   },
   {
    "duration": 72,
    "start_time": "2023-07-11T21:24:37.697Z"
   },
   {
    "duration": 815,
    "start_time": "2023-07-11T21:24:38.260Z"
   },
   {
    "duration": 27,
    "start_time": "2023-07-11T21:24:39.077Z"
   },
   {
    "duration": 52,
    "start_time": "2023-07-11T21:24:39.178Z"
   },
   {
    "duration": 11,
    "start_time": "2023-07-11T21:24:39.522Z"
   },
   {
    "duration": 384,
    "start_time": "2023-07-11T21:24:39.730Z"
   },
   {
    "duration": 1709,
    "start_time": "2023-07-11T21:24:40.116Z"
   },
   {
    "duration": 58,
    "start_time": "2023-07-11T21:24:41.826Z"
   },
   {
    "duration": 55,
    "start_time": "2023-07-11T21:24:41.886Z"
   },
   {
    "duration": 38,
    "start_time": "2023-07-11T21:24:41.953Z"
   },
   {
    "duration": 43,
    "start_time": "2023-07-11T21:24:41.993Z"
   },
   {
    "duration": 387,
    "start_time": "2023-07-11T21:24:42.042Z"
   },
   {
    "duration": 47,
    "start_time": "2023-07-11T21:24:42.438Z"
   },
   {
    "duration": 60,
    "start_time": "2023-07-11T21:24:42.815Z"
   },
   {
    "duration": 29,
    "start_time": "2023-07-11T21:24:43.052Z"
   },
   {
    "duration": 19,
    "start_time": "2023-07-11T21:24:43.421Z"
   },
   {
    "duration": 12,
    "start_time": "2023-07-11T21:24:43.571Z"
   },
   {
    "duration": 24,
    "start_time": "2023-07-11T21:24:43.959Z"
   },
   {
    "duration": 44,
    "start_time": "2023-07-11T21:24:44.126Z"
   },
   {
    "duration": 49,
    "start_time": "2023-07-11T21:24:44.290Z"
   },
   {
    "duration": 77,
    "start_time": "2023-07-11T21:24:44.687Z"
   },
   {
    "duration": 22,
    "start_time": "2023-07-11T21:24:45.075Z"
   },
   {
    "duration": 47,
    "start_time": "2023-07-11T21:24:45.334Z"
   },
   {
    "duration": 130,
    "start_time": "2023-07-11T21:24:45.694Z"
   },
   {
    "duration": 87,
    "start_time": "2023-07-11T21:24:46.767Z"
   },
   {
    "duration": 42,
    "start_time": "2023-07-11T21:24:49.423Z"
   },
   {
    "duration": 2525,
    "start_time": "2023-07-11T21:24:49.660Z"
   },
   {
    "duration": 5,
    "start_time": "2023-07-11T21:24:52.188Z"
   },
   {
    "duration": 80,
    "start_time": "2023-07-11T21:24:52.194Z"
   },
   {
    "duration": 162,
    "start_time": "2023-07-11T21:24:52.275Z"
   },
   {
    "duration": 46,
    "start_time": "2023-07-11T21:24:52.438Z"
   },
   {
    "duration": 206,
    "start_time": "2023-07-11T21:24:52.486Z"
   },
   {
    "duration": 1148,
    "start_time": "2023-07-11T21:24:52.967Z"
   },
   {
    "duration": 9,
    "start_time": "2023-07-11T21:24:54.116Z"
   },
   {
    "duration": 33,
    "start_time": "2023-07-11T21:24:54.250Z"
   },
   {
    "duration": 32,
    "start_time": "2023-07-11T21:24:54.450Z"
   },
   {
    "duration": 155,
    "start_time": "2023-07-11T21:24:54.961Z"
   },
   {
    "duration": 12,
    "start_time": "2023-07-11T21:24:55.366Z"
   },
   {
    "duration": 758,
    "start_time": "2023-07-11T21:24:55.594Z"
   },
   {
    "duration": 1,
    "start_time": "2023-07-11T21:24:56.667Z"
   },
   {
    "duration": 10,
    "start_time": "2023-07-11T21:24:56.862Z"
   },
   {
    "duration": 10,
    "start_time": "2023-07-11T21:24:57.259Z"
   },
   {
    "duration": 26908,
    "start_time": "2023-07-11T21:25:01.777Z"
   },
   {
    "duration": 51,
    "start_time": "2023-07-11T21:25:28.706Z"
   },
   {
    "duration": 28,
    "start_time": "2023-07-11T21:25:28.758Z"
   },
   {
    "duration": 126171,
    "start_time": "2023-07-11T21:25:36.262Z"
   },
   {
    "duration": 11475,
    "start_time": "2023-07-11T21:27:58.223Z"
   },
   {
    "duration": 65,
    "start_time": "2023-07-11T21:28:09.700Z"
   },
   {
    "duration": 8,
    "start_time": "2023-07-11T21:28:09.767Z"
   },
   {
    "duration": 36644,
    "start_time": "2023-07-11T21:28:11.922Z"
   },
   {
    "duration": 2076,
    "start_time": "2023-07-11T21:29:05.657Z"
   },
   {
    "duration": 82,
    "start_time": "2023-07-11T21:29:07.747Z"
   },
   {
    "duration": 5,
    "start_time": "2023-07-11T21:29:07.846Z"
   },
   {
    "duration": 8265,
    "start_time": "2023-07-11T21:29:26.072Z"
   },
   {
    "duration": 99,
    "start_time": "2023-07-11T21:29:34.341Z"
   },
   {
    "duration": 14,
    "start_time": "2023-07-11T21:29:34.442Z"
   },
   {
    "duration": 10318,
    "start_time": "2023-07-11T21:29:34.460Z"
   },
   {
    "duration": 78,
    "start_time": "2023-07-11T21:29:44.780Z"
   },
   {
    "duration": 4,
    "start_time": "2023-07-11T21:29:44.860Z"
   },
   {
    "duration": 7296,
    "start_time": "2023-07-11T21:29:44.866Z"
   },
   {
    "duration": 155,
    "start_time": "2023-07-11T21:29:52.164Z"
   },
   {
    "duration": 8,
    "start_time": "2023-07-11T21:29:52.320Z"
   },
   {
    "duration": 161,
    "start_time": "2023-07-11T21:51:03.915Z"
   },
   {
    "duration": 1393,
    "start_time": "2023-07-11T21:51:20.982Z"
   },
   {
    "duration": 861,
    "start_time": "2023-07-11T21:51:22.377Z"
   },
   {
    "duration": 17,
    "start_time": "2023-07-11T21:51:23.240Z"
   },
   {
    "duration": 128,
    "start_time": "2023-07-11T21:51:23.258Z"
   },
   {
    "duration": 132,
    "start_time": "2023-07-11T21:51:24.149Z"
   },
   {
    "duration": 51,
    "start_time": "2023-07-11T21:51:24.283Z"
   },
   {
    "duration": 177,
    "start_time": "2023-07-11T21:51:24.338Z"
   },
   {
    "duration": 437,
    "start_time": "2023-07-11T21:51:24.533Z"
   },
   {
    "duration": 903,
    "start_time": "2023-07-11T21:51:24.972Z"
   },
   {
    "duration": 46,
    "start_time": "2023-07-11T21:51:25.877Z"
   },
   {
    "duration": 63,
    "start_time": "2023-07-11T21:51:25.925Z"
   },
   {
    "duration": 128,
    "start_time": "2023-07-11T21:51:25.989Z"
   },
   {
    "duration": 143,
    "start_time": "2023-07-11T21:51:26.124Z"
   },
   {
    "duration": 67,
    "start_time": "2023-07-11T21:51:27.380Z"
   },
   {
    "duration": 14,
    "start_time": "2023-07-11T21:51:28.130Z"
   },
   {
    "duration": 38,
    "start_time": "2023-07-11T21:51:28.330Z"
   },
   {
    "duration": 35,
    "start_time": "2023-07-11T21:51:28.527Z"
   },
   {
    "duration": 699,
    "start_time": "2023-07-11T21:51:29.056Z"
   },
   {
    "duration": 27,
    "start_time": "2023-07-11T21:51:29.756Z"
   },
   {
    "duration": 25,
    "start_time": "2023-07-11T21:51:29.962Z"
   },
   {
    "duration": 7,
    "start_time": "2023-07-11T21:51:30.281Z"
   },
   {
    "duration": 340,
    "start_time": "2023-07-11T21:51:30.578Z"
   },
   {
    "duration": 1680,
    "start_time": "2023-07-11T21:51:30.919Z"
   },
   {
    "duration": 51,
    "start_time": "2023-07-11T21:51:32.601Z"
   },
   {
    "duration": 24,
    "start_time": "2023-07-11T21:51:32.654Z"
   },
   {
    "duration": 70,
    "start_time": "2023-07-11T21:51:32.680Z"
   },
   {
    "duration": 9,
    "start_time": "2023-07-11T21:51:32.752Z"
   },
   {
    "duration": 394,
    "start_time": "2023-07-11T21:51:32.762Z"
   },
   {
    "duration": 58,
    "start_time": "2023-07-11T21:51:33.158Z"
   },
   {
    "duration": 29,
    "start_time": "2023-07-11T21:51:33.630Z"
   },
   {
    "duration": 41,
    "start_time": "2023-07-11T21:51:33.785Z"
   },
   {
    "duration": 7,
    "start_time": "2023-07-11T21:51:34.174Z"
   },
   {
    "duration": 14,
    "start_time": "2023-07-11T21:51:34.370Z"
   },
   {
    "duration": 24,
    "start_time": "2023-07-11T21:51:34.749Z"
   },
   {
    "duration": 24,
    "start_time": "2023-07-11T21:51:34.950Z"
   },
   {
    "duration": 23,
    "start_time": "2023-07-11T21:51:35.167Z"
   },
   {
    "duration": 35,
    "start_time": "2023-07-11T21:51:35.525Z"
   },
   {
    "duration": 24,
    "start_time": "2023-07-11T21:51:35.966Z"
   },
   {
    "duration": 48,
    "start_time": "2023-07-11T21:51:36.377Z"
   },
   {
    "duration": 70,
    "start_time": "2023-07-11T21:51:36.862Z"
   },
   {
    "duration": 72,
    "start_time": "2023-07-11T21:51:37.715Z"
   },
   {
    "duration": 15,
    "start_time": "2023-07-11T21:51:40.779Z"
   },
   {
    "duration": 2396,
    "start_time": "2023-07-11T21:51:40.955Z"
   },
   {
    "duration": 5,
    "start_time": "2023-07-11T21:51:43.353Z"
   },
   {
    "duration": 8,
    "start_time": "2023-07-11T21:51:43.359Z"
   },
   {
    "duration": 105,
    "start_time": "2023-07-11T21:51:43.370Z"
   },
   {
    "duration": 10,
    "start_time": "2023-07-11T21:51:43.477Z"
   },
   {
    "duration": 172,
    "start_time": "2023-07-11T21:51:43.489Z"
   },
   {
    "duration": 976,
    "start_time": "2023-07-11T21:51:44.522Z"
   },
   {
    "duration": 13,
    "start_time": "2023-07-11T21:51:45.504Z"
   },
   {
    "duration": 32,
    "start_time": "2023-07-11T21:51:45.822Z"
   },
   {
    "duration": 57,
    "start_time": "2023-07-11T21:51:46.099Z"
   },
   {
    "duration": 110,
    "start_time": "2023-07-11T21:51:46.462Z"
   },
   {
    "duration": 10,
    "start_time": "2023-07-11T21:51:47.242Z"
   },
   {
    "duration": 589,
    "start_time": "2023-07-11T21:51:47.729Z"
   },
   {
    "duration": 5,
    "start_time": "2023-07-11T21:51:50.422Z"
   },
   {
    "duration": 14,
    "start_time": "2023-07-11T21:51:50.694Z"
   },
   {
    "duration": 9,
    "start_time": "2023-07-11T21:51:51.271Z"
   },
   {
    "duration": 1221795,
    "start_time": "2023-07-11T21:52:03.551Z"
   },
   {
    "duration": 269,
    "start_time": "2023-07-11T22:12:25.411Z"
   },
   {
    "duration": 9,
    "start_time": "2023-07-11T22:12:25.682Z"
   },
   {
    "duration": 54,
    "start_time": "2023-07-11T22:12:25.692Z"
   },
   {
    "duration": 4,
    "start_time": "2023-07-11T22:17:18.777Z"
   },
   {
    "duration": 6711,
    "start_time": "2023-07-12T17:13:58.918Z"
   },
   {
    "duration": 1213,
    "start_time": "2023-07-12T17:14:05.631Z"
   },
   {
    "duration": 19,
    "start_time": "2023-07-12T17:14:06.846Z"
   },
   {
    "duration": 131,
    "start_time": "2023-07-12T17:14:06.867Z"
   },
   {
    "duration": 137,
    "start_time": "2023-07-12T17:14:07.000Z"
   },
   {
    "duration": 77,
    "start_time": "2023-07-12T17:14:07.139Z"
   },
   {
    "duration": 178,
    "start_time": "2023-07-12T17:14:07.218Z"
   },
   {
    "duration": 515,
    "start_time": "2023-07-12T17:14:07.401Z"
   },
   {
    "duration": 1058,
    "start_time": "2023-07-12T17:14:07.918Z"
   },
   {
    "duration": 39,
    "start_time": "2023-07-12T17:14:08.977Z"
   },
   {
    "duration": 42,
    "start_time": "2023-07-12T17:14:09.020Z"
   },
   {
    "duration": 91,
    "start_time": "2023-07-12T17:14:09.064Z"
   },
   {
    "duration": 144,
    "start_time": "2023-07-12T17:14:09.156Z"
   },
   {
    "duration": 71,
    "start_time": "2023-07-12T17:14:09.308Z"
   },
   {
    "duration": 24,
    "start_time": "2023-07-12T17:14:09.380Z"
   },
   {
    "duration": 40,
    "start_time": "2023-07-12T17:14:09.414Z"
   },
   {
    "duration": 35,
    "start_time": "2023-07-12T17:14:09.456Z"
   },
   {
    "duration": 783,
    "start_time": "2023-07-12T17:14:09.492Z"
   },
   {
    "duration": 44,
    "start_time": "2023-07-12T17:14:10.277Z"
   },
   {
    "duration": 42,
    "start_time": "2023-07-12T17:14:10.323Z"
   },
   {
    "duration": 11,
    "start_time": "2023-07-12T17:14:10.367Z"
   },
   {
    "duration": 485,
    "start_time": "2023-07-12T17:14:10.380Z"
   },
   {
    "duration": 2118,
    "start_time": "2023-07-12T17:14:10.866Z"
   },
   {
    "duration": 68,
    "start_time": "2023-07-12T17:14:12.986Z"
   },
   {
    "duration": 31,
    "start_time": "2023-07-12T17:14:13.057Z"
   },
   {
    "duration": 58,
    "start_time": "2023-07-12T17:14:13.090Z"
   },
   {
    "duration": 8,
    "start_time": "2023-07-12T17:14:13.150Z"
   },
   {
    "duration": 402,
    "start_time": "2023-07-12T17:14:13.160Z"
   },
   {
    "duration": 55,
    "start_time": "2023-07-12T17:14:13.564Z"
   },
   {
    "duration": 37,
    "start_time": "2023-07-12T17:14:13.621Z"
   },
   {
    "duration": 46,
    "start_time": "2023-07-12T17:14:13.660Z"
   },
   {
    "duration": 11,
    "start_time": "2023-07-12T17:14:13.714Z"
   },
   {
    "duration": 26,
    "start_time": "2023-07-12T17:14:13.726Z"
   },
   {
    "duration": 26,
    "start_time": "2023-07-12T17:14:13.754Z"
   },
   {
    "duration": 34,
    "start_time": "2023-07-12T17:14:13.782Z"
   },
   {
    "duration": 27,
    "start_time": "2023-07-12T17:14:13.818Z"
   },
   {
    "duration": 36,
    "start_time": "2023-07-12T17:14:13.847Z"
   },
   {
    "duration": 48,
    "start_time": "2023-07-12T17:14:13.886Z"
   },
   {
    "duration": 37,
    "start_time": "2023-07-12T17:14:13.936Z"
   },
   {
    "duration": 80,
    "start_time": "2023-07-12T17:14:13.975Z"
   },
   {
    "duration": 75,
    "start_time": "2023-07-12T17:14:14.058Z"
   },
   {
    "duration": 14,
    "start_time": "2023-07-12T17:14:14.134Z"
   },
   {
    "duration": 3033,
    "start_time": "2023-07-12T17:14:14.150Z"
   },
   {
    "duration": 6,
    "start_time": "2023-07-12T17:14:17.185Z"
   },
   {
    "duration": 19,
    "start_time": "2023-07-12T17:14:17.205Z"
   },
   {
    "duration": 73,
    "start_time": "2023-07-12T17:14:17.226Z"
   },
   {
    "duration": 22,
    "start_time": "2023-07-12T17:14:17.301Z"
   },
   {
    "duration": 133,
    "start_time": "2023-07-12T17:14:17.325Z"
   },
   {
    "duration": 1308,
    "start_time": "2023-07-12T17:14:17.460Z"
   },
   {
    "duration": 3,
    "start_time": "2023-07-12T17:14:18.770Z"
   },
   {
    "duration": 52,
    "start_time": "2023-07-12T17:14:18.775Z"
   },
   {
    "duration": 28,
    "start_time": "2023-07-12T17:14:18.829Z"
   },
   {
    "duration": 165,
    "start_time": "2023-07-12T17:14:18.858Z"
   },
   {
    "duration": 0,
    "start_time": "2023-07-12T17:14:19.025Z"
   },
   {
    "duration": 0,
    "start_time": "2023-07-12T17:14:19.027Z"
   },
   {
    "duration": 0,
    "start_time": "2023-07-12T17:14:19.028Z"
   },
   {
    "duration": 10,
    "start_time": "2023-07-12T17:14:26.347Z"
   },
   {
    "duration": 5,
    "start_time": "2023-07-12T17:15:00.124Z"
   },
   {
    "duration": 1957,
    "start_time": "2023-07-12T21:21:50.226Z"
   },
   {
    "duration": 1414,
    "start_time": "2023-07-12T21:21:53.277Z"
   },
   {
    "duration": 30,
    "start_time": "2023-07-12T21:21:54.693Z"
   },
   {
    "duration": 179,
    "start_time": "2023-07-12T21:21:54.727Z"
   },
   {
    "duration": 153,
    "start_time": "2023-07-12T21:21:54.909Z"
   },
   {
    "duration": 70,
    "start_time": "2023-07-12T21:21:55.064Z"
   },
   {
    "duration": 221,
    "start_time": "2023-07-12T21:21:55.136Z"
   },
   {
    "duration": 523,
    "start_time": "2023-07-12T21:21:55.360Z"
   },
   {
    "duration": 1114,
    "start_time": "2023-07-12T21:21:55.885Z"
   },
   {
    "duration": 36,
    "start_time": "2023-07-12T21:21:57.001Z"
   },
   {
    "duration": 53,
    "start_time": "2023-07-12T21:21:57.039Z"
   },
   {
    "duration": 103,
    "start_time": "2023-07-12T21:21:57.238Z"
   },
   {
    "duration": 163,
    "start_time": "2023-07-12T21:21:57.436Z"
   },
   {
    "duration": 77,
    "start_time": "2023-07-12T21:21:57.718Z"
   },
   {
    "duration": 19,
    "start_time": "2023-07-12T21:21:58.702Z"
   },
   {
    "duration": 49,
    "start_time": "2023-07-12T21:21:58.914Z"
   },
   {
    "duration": 36,
    "start_time": "2023-07-12T21:21:59.158Z"
   },
   {
    "duration": 900,
    "start_time": "2023-07-12T21:22:00.544Z"
   },
   {
    "duration": 52,
    "start_time": "2023-07-12T21:22:02.224Z"
   },
   {
    "duration": 29,
    "start_time": "2023-07-12T21:22:02.654Z"
   },
   {
    "duration": 8,
    "start_time": "2023-07-12T21:22:03.550Z"
   },
   {
    "duration": 410,
    "start_time": "2023-07-12T21:22:03.921Z"
   },
   {
    "duration": 2140,
    "start_time": "2023-07-12T21:22:04.342Z"
   },
   {
    "duration": 63,
    "start_time": "2023-07-12T21:22:06.483Z"
   },
   {
    "duration": 28,
    "start_time": "2023-07-12T21:22:09.154Z"
   },
   {
    "duration": 47,
    "start_time": "2023-07-12T21:22:09.515Z"
   },
   {
    "duration": 10,
    "start_time": "2023-07-12T21:22:10.119Z"
   },
   {
    "duration": 493,
    "start_time": "2023-07-12T21:22:10.427Z"
   },
   {
    "duration": 47,
    "start_time": "2023-07-12T21:22:11.166Z"
   },
   {
    "duration": 54,
    "start_time": "2023-07-12T21:22:13.501Z"
   },
   {
    "duration": 52,
    "start_time": "2023-07-12T21:22:13.801Z"
   },
   {
    "duration": 20,
    "start_time": "2023-07-12T21:22:14.432Z"
   },
   {
    "duration": 15,
    "start_time": "2023-07-12T21:22:14.755Z"
   },
   {
    "duration": 29,
    "start_time": "2023-07-12T21:22:15.544Z"
   },
   {
    "duration": 44,
    "start_time": "2023-07-12T21:22:15.918Z"
   },
   {
    "duration": 46,
    "start_time": "2023-07-12T21:22:16.416Z"
   },
   {
    "duration": 30,
    "start_time": "2023-07-12T21:22:17.162Z"
   },
   {
    "duration": 46,
    "start_time": "2023-07-12T21:22:18.020Z"
   },
   {
    "duration": 54,
    "start_time": "2023-07-12T21:22:18.402Z"
   },
   {
    "duration": 84,
    "start_time": "2023-07-12T21:22:19.214Z"
   },
   {
    "duration": 82,
    "start_time": "2023-07-12T21:22:21.066Z"
   },
   {
    "duration": 21,
    "start_time": "2023-07-12T21:22:28.627Z"
   },
   {
    "duration": 3918,
    "start_time": "2023-07-12T21:22:29.553Z"
   },
   {
    "duration": 5,
    "start_time": "2023-07-12T21:22:33.474Z"
   },
   {
    "duration": 12,
    "start_time": "2023-07-12T21:22:33.481Z"
   },
   {
    "duration": 87,
    "start_time": "2023-07-12T21:22:40.026Z"
   },
   {
    "duration": 15,
    "start_time": "2023-07-12T21:22:40.555Z"
   },
   {
    "duration": 176,
    "start_time": "2023-07-12T21:22:41.001Z"
   },
   {
    "duration": 1374,
    "start_time": "2023-07-12T21:22:48.038Z"
   },
   {
    "duration": 159,
    "start_time": "2023-07-12T21:47:39.454Z"
   },
   {
    "duration": 32,
    "start_time": "2023-07-12T21:49:12.897Z"
   },
   {
    "duration": 146,
    "start_time": "2023-07-12T21:49:18.599Z"
   },
   {
    "duration": 4110,
    "start_time": "2023-07-12T21:49:24.132Z"
   },
   {
    "duration": 3656,
    "start_time": "2023-07-12T21:49:58.292Z"
   },
   {
    "duration": 473,
    "start_time": "2023-07-12T22:07:08.089Z"
   },
   {
    "duration": 115,
    "start_time": "2023-07-12T22:16:15.354Z"
   },
   {
    "duration": 480,
    "start_time": "2023-07-12T22:16:48.723Z"
   },
   {
    "duration": 20,
    "start_time": "2023-07-12T22:18:41.347Z"
   },
   {
    "duration": 432,
    "start_time": "2023-07-12T22:19:07.848Z"
   },
   {
    "duration": 29,
    "start_time": "2023-07-12T22:19:17.047Z"
   },
   {
    "duration": 28,
    "start_time": "2023-07-12T22:19:17.345Z"
   },
   {
    "duration": 17,
    "start_time": "2023-07-12T22:19:19.894Z"
   },
   {
    "duration": 12,
    "start_time": "2023-07-12T22:19:27.688Z"
   },
   {
    "duration": 24,
    "start_time": "2023-07-12T22:23:12.548Z"
   },
   {
    "duration": 524,
    "start_time": "2023-07-12T22:23:18.950Z"
   },
   {
    "duration": 22,
    "start_time": "2023-07-12T22:23:58.529Z"
   },
   {
    "duration": 557,
    "start_time": "2023-07-12T22:27:24.891Z"
   },
   {
    "duration": 434,
    "start_time": "2023-07-12T22:28:39.604Z"
   },
   {
    "duration": 3269,
    "start_time": "2023-07-12T22:29:03.650Z"
   },
   {
    "duration": 463,
    "start_time": "2023-07-12T22:29:49.658Z"
   },
   {
    "duration": 3,
    "start_time": "2023-07-12T22:29:53.294Z"
   },
   {
    "duration": 15,
    "start_time": "2023-07-12T22:30:00.645Z"
   },
   {
    "duration": 20,
    "start_time": "2023-07-12T22:30:06.930Z"
   },
   {
    "duration": 444,
    "start_time": "2023-07-12T22:31:23.428Z"
   },
   {
    "duration": 16,
    "start_time": "2023-07-12T22:31:30.285Z"
   },
   {
    "duration": 23,
    "start_time": "2023-07-12T22:32:52.119Z"
   },
   {
    "duration": 304,
    "start_time": "2023-07-12T22:36:31.945Z"
   },
   {
    "duration": 13,
    "start_time": "2023-07-12T22:36:55.185Z"
   },
   {
    "duration": 10,
    "start_time": "2023-07-12T22:37:02.388Z"
   },
   {
    "duration": 13,
    "start_time": "2023-07-12T22:40:40.087Z"
   },
   {
    "duration": 171,
    "start_time": "2023-07-12T22:43:37.944Z"
   },
   {
    "duration": 17,
    "start_time": "2023-07-12T22:43:51.042Z"
   },
   {
    "duration": 2524,
    "start_time": "2023-07-12T22:43:52.139Z"
   },
   {
    "duration": 5,
    "start_time": "2023-07-12T22:43:54.666Z"
   },
   {
    "duration": 8,
    "start_time": "2023-07-12T22:43:54.673Z"
   },
   {
    "duration": 96,
    "start_time": "2023-07-12T22:43:55.688Z"
   },
   {
    "duration": 12,
    "start_time": "2023-07-12T22:43:55.888Z"
   },
   {
    "duration": 181,
    "start_time": "2023-07-12T22:43:56.184Z"
   },
   {
    "duration": 3332,
    "start_time": "2023-07-12T22:44:00.465Z"
   },
   {
    "duration": 457,
    "start_time": "2023-07-12T22:44:03.801Z"
   },
   {
    "duration": 3,
    "start_time": "2023-07-12T22:44:04.259Z"
   },
   {
    "duration": 20,
    "start_time": "2023-07-12T22:44:19.332Z"
   },
   {
    "duration": 18,
    "start_time": "2023-07-12T22:45:00.734Z"
   },
   {
    "duration": 13,
    "start_time": "2023-07-12T22:47:09.748Z"
   },
   {
    "duration": 5,
    "start_time": "2023-07-12T22:47:54.849Z"
   },
   {
    "duration": 13,
    "start_time": "2023-07-12T22:49:21.545Z"
   },
   {
    "duration": 10,
    "start_time": "2023-07-12T22:49:51.505Z"
   },
   {
    "duration": 12,
    "start_time": "2023-07-12T22:53:30.685Z"
   },
   {
    "duration": 4,
    "start_time": "2023-07-12T22:53:36.463Z"
   },
   {
    "duration": 4,
    "start_time": "2023-07-12T22:53:38.541Z"
   },
   {
    "duration": 50,
    "start_time": "2023-07-12T22:55:57.879Z"
   },
   {
    "duration": 33,
    "start_time": "2023-07-12T22:56:00.842Z"
   },
   {
    "duration": 36,
    "start_time": "2023-07-12T22:56:01.629Z"
   },
   {
    "duration": 11,
    "start_time": "2023-07-12T22:56:03.057Z"
   },
   {
    "duration": 5,
    "start_time": "2023-07-12T22:56:15.811Z"
   },
   {
    "duration": 4,
    "start_time": "2023-07-12T22:56:23.453Z"
   },
   {
    "duration": 4,
    "start_time": "2023-07-12T22:56:30.763Z"
   },
   {
    "duration": 4,
    "start_time": "2023-07-12T22:56:31.789Z"
   },
   {
    "duration": 2,
    "start_time": "2023-07-12T22:56:32.260Z"
   },
   {
    "duration": 16,
    "start_time": "2023-07-12T22:56:32.753Z"
   },
   {
    "duration": 14,
    "start_time": "2023-07-12T22:58:04.869Z"
   },
   {
    "duration": 7,
    "start_time": "2023-07-12T22:58:33.741Z"
   },
   {
    "duration": 28,
    "start_time": "2023-07-12T22:58:34.304Z"
   },
   {
    "duration": 3,
    "start_time": "2023-07-12T22:58:45.486Z"
   },
   {
    "duration": 16,
    "start_time": "2023-07-12T22:58:45.945Z"
   },
   {
    "duration": 17,
    "start_time": "2023-07-12T23:00:13.871Z"
   },
   {
    "duration": 4,
    "start_time": "2023-07-12T23:04:41.444Z"
   },
   {
    "duration": 12,
    "start_time": "2023-07-12T23:06:35.367Z"
   },
   {
    "duration": 3,
    "start_time": "2023-07-12T23:06:44.943Z"
   },
   {
    "duration": 16,
    "start_time": "2023-07-12T23:06:45.925Z"
   },
   {
    "duration": 11,
    "start_time": "2023-07-12T23:07:03.439Z"
   },
   {
    "duration": 621,
    "start_time": "2023-07-12T23:07:35.560Z"
   },
   {
    "duration": 13,
    "start_time": "2023-07-12T23:07:52.132Z"
   },
   {
    "duration": 4,
    "start_time": "2023-07-12T23:08:05.659Z"
   },
   {
    "duration": 4,
    "start_time": "2023-07-12T23:08:36.258Z"
   },
   {
    "duration": 1965,
    "start_time": "2023-07-13T09:20:43.423Z"
   },
   {
    "duration": 3098,
    "start_time": "2023-07-13T09:20:45.391Z"
   },
   {
    "duration": 18,
    "start_time": "2023-07-13T09:20:49.920Z"
   },
   {
    "duration": 136,
    "start_time": "2023-07-13T09:20:50.430Z"
   },
   {
    "duration": 196,
    "start_time": "2023-07-13T09:20:51.844Z"
   },
   {
    "duration": 74,
    "start_time": "2023-07-13T09:20:52.423Z"
   },
   {
    "duration": 221,
    "start_time": "2023-07-13T09:20:52.820Z"
   },
   {
    "duration": 629,
    "start_time": "2023-07-13T09:20:53.432Z"
   },
   {
    "duration": 1162,
    "start_time": "2023-07-13T09:20:54.068Z"
   },
   {
    "duration": 25,
    "start_time": "2023-07-13T09:20:55.232Z"
   },
   {
    "duration": 48,
    "start_time": "2023-07-13T09:20:55.258Z"
   },
   {
    "duration": 103,
    "start_time": "2023-07-13T09:20:55.308Z"
   },
   {
    "duration": 156,
    "start_time": "2023-07-13T09:20:55.412Z"
   },
   {
    "duration": 68,
    "start_time": "2023-07-13T09:20:55.632Z"
   },
   {
    "duration": 14,
    "start_time": "2023-07-13T09:20:56.369Z"
   },
   {
    "duration": 35,
    "start_time": "2023-07-13T09:20:56.627Z"
   },
   {
    "duration": 33,
    "start_time": "2023-07-13T09:20:56.811Z"
   },
   {
    "duration": 755,
    "start_time": "2023-07-13T09:20:57.699Z"
   },
   {
    "duration": 49,
    "start_time": "2023-07-13T09:20:58.640Z"
   },
   {
    "duration": 43,
    "start_time": "2023-07-13T09:20:58.895Z"
   },
   {
    "duration": 13,
    "start_time": "2023-07-13T09:20:59.295Z"
   },
   {
    "duration": 360,
    "start_time": "2023-07-13T09:20:59.503Z"
   },
   {
    "duration": 1996,
    "start_time": "2023-07-13T09:20:59.868Z"
   },
   {
    "duration": 54,
    "start_time": "2023-07-13T09:21:01.866Z"
   },
   {
    "duration": 54,
    "start_time": "2023-07-13T09:21:01.922Z"
   },
   {
    "duration": 51,
    "start_time": "2023-07-13T09:21:01.979Z"
   },
   {
    "duration": 18,
    "start_time": "2023-07-13T09:21:02.032Z"
   },
   {
    "duration": 488,
    "start_time": "2023-07-13T09:21:02.052Z"
   },
   {
    "duration": 50,
    "start_time": "2023-07-13T09:21:02.542Z"
   },
   {
    "duration": 36,
    "start_time": "2023-07-13T09:21:02.939Z"
   },
   {
    "duration": 29,
    "start_time": "2023-07-13T09:21:03.191Z"
   },
   {
    "duration": 9,
    "start_time": "2023-07-13T09:21:03.707Z"
   },
   {
    "duration": 14,
    "start_time": "2023-07-13T09:21:03.911Z"
   },
   {
    "duration": 52,
    "start_time": "2023-07-13T09:21:04.349Z"
   },
   {
    "duration": 26,
    "start_time": "2023-07-13T09:21:04.557Z"
   },
   {
    "duration": 28,
    "start_time": "2023-07-13T09:21:04.899Z"
   },
   {
    "duration": 30,
    "start_time": "2023-07-13T09:21:05.302Z"
   },
   {
    "duration": 31,
    "start_time": "2023-07-13T09:21:05.795Z"
   },
   {
    "duration": 29,
    "start_time": "2023-07-13T09:21:06.123Z"
   },
   {
    "duration": 101,
    "start_time": "2023-07-13T09:21:07.013Z"
   },
   {
    "duration": 113,
    "start_time": "2023-07-13T09:21:09.595Z"
   },
   {
    "duration": 18,
    "start_time": "2023-07-13T09:21:13.926Z"
   },
   {
    "duration": 3639,
    "start_time": "2023-07-13T09:21:14.147Z"
   },
   {
    "duration": 7,
    "start_time": "2023-07-13T09:21:17.790Z"
   },
   {
    "duration": 8,
    "start_time": "2023-07-13T09:21:17.799Z"
   },
   {
    "duration": 84,
    "start_time": "2023-07-13T09:21:20.734Z"
   },
   {
    "duration": 13,
    "start_time": "2023-07-13T09:21:21.533Z"
   },
   {
    "duration": 160,
    "start_time": "2023-07-13T09:21:22.402Z"
   },
   {
    "duration": 6,
    "start_time": "2023-07-13T09:21:49.284Z"
   },
   {
    "duration": 194,
    "start_time": "2023-07-13T09:21:59.699Z"
   },
   {
    "duration": 4379,
    "start_time": "2023-07-13T09:22:05.132Z"
   },
   {
    "duration": 513,
    "start_time": "2023-07-13T09:22:09.514Z"
   },
   {
    "duration": 7,
    "start_time": "2023-07-13T09:22:13.147Z"
   },
   {
    "duration": 40,
    "start_time": "2023-07-13T09:22:17.438Z"
   },
   {
    "duration": 39,
    "start_time": "2023-07-13T09:22:18.011Z"
   },
   {
    "duration": 9,
    "start_time": "2023-07-13T09:22:21.167Z"
   },
   {
    "duration": 176,
    "start_time": "2023-07-13T09:22:25.752Z"
   },
   {
    "duration": 5,
    "start_time": "2023-07-13T09:30:52.193Z"
   },
   {
    "duration": 4,
    "start_time": "2023-07-13T09:30:52.560Z"
   },
   {
    "duration": 5,
    "start_time": "2023-07-13T09:30:52.849Z"
   },
   {
    "duration": 5,
    "start_time": "2023-07-13T09:30:53.168Z"
   },
   {
    "duration": 4,
    "start_time": "2023-07-13T09:30:53.718Z"
   },
   {
    "duration": 3,
    "start_time": "2023-07-13T09:30:54.239Z"
   },
   {
    "duration": 7,
    "start_time": "2023-07-13T09:30:54.762Z"
   },
   {
    "duration": 16,
    "start_time": "2023-07-13T09:30:56.616Z"
   },
   {
    "duration": 154,
    "start_time": "2023-07-13T09:46:39.621Z"
   },
   {
    "duration": 21,
    "start_time": "2023-07-13T09:46:48.602Z"
   },
   {
    "duration": 5,
    "start_time": "2023-07-13T09:47:20.592Z"
   },
   {
    "duration": 3,
    "start_time": "2023-07-13T09:47:45.443Z"
   },
   {
    "duration": 8,
    "start_time": "2023-07-13T09:47:53.608Z"
   },
   {
    "duration": 15,
    "start_time": "2023-07-13T09:47:55.532Z"
   },
   {
    "duration": 20,
    "start_time": "2023-07-13T09:48:00.251Z"
   },
   {
    "duration": 4,
    "start_time": "2023-07-13T09:52:05.817Z"
   },
   {
    "duration": 1730,
    "start_time": "2023-07-13T21:39:32.143Z"
   },
   {
    "duration": 2946,
    "start_time": "2023-07-13T21:39:33.875Z"
   },
   {
    "duration": 20,
    "start_time": "2023-07-13T21:39:38.726Z"
   },
   {
    "duration": 125,
    "start_time": "2023-07-13T21:39:38.977Z"
   },
   {
    "duration": 133,
    "start_time": "2023-07-13T21:39:39.895Z"
   },
   {
    "duration": 54,
    "start_time": "2023-07-13T21:39:40.147Z"
   },
   {
    "duration": 164,
    "start_time": "2023-07-13T21:39:40.379Z"
   },
   {
    "duration": 471,
    "start_time": "2023-07-13T21:39:40.688Z"
   },
   {
    "duration": 986,
    "start_time": "2023-07-13T21:39:41.161Z"
   },
   {
    "duration": 23,
    "start_time": "2023-07-13T21:39:42.150Z"
   },
   {
    "duration": 42,
    "start_time": "2023-07-13T21:39:42.174Z"
   },
   {
    "duration": 79,
    "start_time": "2023-07-13T21:39:42.449Z"
   },
   {
    "duration": 117,
    "start_time": "2023-07-13T21:39:42.686Z"
   },
   {
    "duration": 73,
    "start_time": "2023-07-13T21:39:42.910Z"
   },
   {
    "duration": 10,
    "start_time": "2023-07-13T21:39:43.732Z"
   },
   {
    "duration": 53,
    "start_time": "2023-07-13T21:39:43.964Z"
   },
   {
    "duration": 47,
    "start_time": "2023-07-13T21:39:44.197Z"
   },
   {
    "duration": 746,
    "start_time": "2023-07-13T21:39:45.239Z"
   },
   {
    "duration": 28,
    "start_time": "2023-07-13T21:39:46.151Z"
   },
   {
    "duration": 28,
    "start_time": "2023-07-13T21:39:46.386Z"
   },
   {
    "duration": 7,
    "start_time": "2023-07-13T21:39:46.867Z"
   },
   {
    "duration": 362,
    "start_time": "2023-07-13T21:39:47.115Z"
   },
   {
    "duration": 1881,
    "start_time": "2023-07-13T21:39:47.479Z"
   },
   {
    "duration": 51,
    "start_time": "2023-07-13T21:39:49.363Z"
   },
   {
    "duration": 28,
    "start_time": "2023-07-13T21:39:49.416Z"
   },
   {
    "duration": 46,
    "start_time": "2023-07-13T21:39:49.446Z"
   },
   {
    "duration": 13,
    "start_time": "2023-07-13T21:39:49.585Z"
   },
   {
    "duration": 360,
    "start_time": "2023-07-13T21:39:49.957Z"
   },
   {
    "duration": 36,
    "start_time": "2023-07-13T21:39:50.632Z"
   },
   {
    "duration": 26,
    "start_time": "2023-07-13T21:39:51.894Z"
   },
   {
    "duration": 26,
    "start_time": "2023-07-13T21:39:52.203Z"
   },
   {
    "duration": 7,
    "start_time": "2023-07-13T21:39:52.661Z"
   },
   {
    "duration": 15,
    "start_time": "2023-07-13T21:39:52.892Z"
   },
   {
    "duration": 26,
    "start_time": "2023-07-13T21:39:53.363Z"
   },
   {
    "duration": 27,
    "start_time": "2023-07-13T21:39:53.601Z"
   },
   {
    "duration": 35,
    "start_time": "2023-07-13T21:39:53.893Z"
   },
   {
    "duration": 26,
    "start_time": "2023-07-13T21:39:54.308Z"
   },
   {
    "duration": 25,
    "start_time": "2023-07-13T21:39:54.773Z"
   },
   {
    "duration": 30,
    "start_time": "2023-07-13T21:39:55.154Z"
   },
   {
    "duration": 62,
    "start_time": "2023-07-13T21:39:56.276Z"
   },
   {
    "duration": 62,
    "start_time": "2023-07-13T21:39:58.265Z"
   },
   {
    "duration": 14,
    "start_time": "2023-07-13T21:40:01.810Z"
   },
   {
    "duration": 3390,
    "start_time": "2023-07-13T21:40:02.058Z"
   },
   {
    "duration": 6,
    "start_time": "2023-07-13T21:40:05.451Z"
   },
   {
    "duration": 15,
    "start_time": "2023-07-13T21:40:05.459Z"
   },
   {
    "duration": 85,
    "start_time": "2023-07-13T21:40:08.134Z"
   },
   {
    "duration": 12,
    "start_time": "2023-07-13T21:40:08.417Z"
   },
   {
    "duration": 138,
    "start_time": "2023-07-13T21:40:08.758Z"
   },
   {
    "duration": 3581,
    "start_time": "2023-07-13T21:40:14.081Z"
   },
   {
    "duration": 533,
    "start_time": "2023-07-13T21:40:17.665Z"
   },
   {
    "duration": 14,
    "start_time": "2023-07-13T21:40:18.200Z"
   },
   {
    "duration": 58,
    "start_time": "2023-07-13T21:40:18.217Z"
   },
   {
    "duration": 35,
    "start_time": "2023-07-13T21:40:18.276Z"
   },
   {
    "duration": 4,
    "start_time": "2023-07-13T21:40:19.368Z"
   },
   {
    "duration": 4,
    "start_time": "2023-07-13T21:40:19.403Z"
   },
   {
    "duration": 5,
    "start_time": "2023-07-13T21:40:20.010Z"
   },
   {
    "duration": 4,
    "start_time": "2023-07-13T21:40:20.433Z"
   },
   {
    "duration": 3,
    "start_time": "2023-07-13T21:40:20.681Z"
   },
   {
    "duration": 2,
    "start_time": "2023-07-13T21:40:20.960Z"
   },
   {
    "duration": 3,
    "start_time": "2023-07-13T21:40:21.186Z"
   },
   {
    "duration": 4,
    "start_time": "2023-07-13T21:40:21.430Z"
   },
   {
    "duration": 121,
    "start_time": "2023-07-13T21:40:21.658Z"
   },
   {
    "duration": 11,
    "start_time": "2023-07-13T21:40:21.931Z"
   },
   {
    "duration": 9,
    "start_time": "2023-07-13T21:40:22.166Z"
   },
   {
    "duration": 23,
    "start_time": "2023-07-13T21:40:22.698Z"
   },
   {
    "duration": 3,
    "start_time": "2023-07-13T21:40:30.543Z"
   },
   {
    "duration": 4,
    "start_time": "2023-07-13T21:40:33.349Z"
   },
   {
    "duration": 4,
    "start_time": "2023-07-13T21:40:36.822Z"
   },
   {
    "duration": 20,
    "start_time": "2023-07-13T21:45:16.362Z"
   },
   {
    "duration": 436,
    "start_time": "2023-07-13T21:45:34.291Z"
   },
   {
    "duration": 451,
    "start_time": "2023-07-13T21:45:59.149Z"
   },
   {
    "duration": 6,
    "start_time": "2023-07-13T21:46:32.644Z"
   },
   {
    "duration": 4,
    "start_time": "2023-07-13T21:46:37.376Z"
   },
   {
    "duration": 16,
    "start_time": "2023-07-13T21:46:39.744Z"
   },
   {
    "duration": 3,
    "start_time": "2023-07-13T21:46:45.244Z"
   },
   {
    "duration": 5,
    "start_time": "2023-07-13T21:46:46.336Z"
   },
   {
    "duration": 5,
    "start_time": "2023-07-13T21:46:56.070Z"
   },
   {
    "duration": 14,
    "start_time": "2023-07-13T21:46:57.064Z"
   },
   {
    "duration": 4,
    "start_time": "2023-07-13T21:46:57.548Z"
   },
   {
    "duration": 15,
    "start_time": "2023-07-13T21:46:57.806Z"
   },
   {
    "duration": 4,
    "start_time": "2023-07-13T21:46:58.026Z"
   },
   {
    "duration": 4,
    "start_time": "2023-07-13T21:47:36.200Z"
   },
   {
    "duration": 5,
    "start_time": "2023-07-13T21:47:37.343Z"
   },
   {
    "duration": 5,
    "start_time": "2023-07-13T21:47:38.188Z"
   },
   {
    "duration": 15,
    "start_time": "2023-07-13T21:47:39.221Z"
   },
   {
    "duration": 471,
    "start_time": "2023-07-13T21:56:50.375Z"
   },
   {
    "duration": 12,
    "start_time": "2023-07-13T21:57:02.798Z"
   },
   {
    "duration": 11,
    "start_time": "2023-07-13T21:57:56.372Z"
   },
   {
    "duration": 431,
    "start_time": "2023-07-13T21:59:58.840Z"
   },
   {
    "duration": 21,
    "start_time": "2023-07-13T22:00:43.871Z"
   },
   {
    "duration": 5,
    "start_time": "2023-07-13T22:00:50.250Z"
   },
   {
    "duration": 14,
    "start_time": "2023-07-13T22:00:52.201Z"
   },
   {
    "duration": 3,
    "start_time": "2023-07-13T22:00:57.207Z"
   },
   {
    "duration": 3,
    "start_time": "2023-07-13T22:00:57.842Z"
   },
   {
    "duration": 469,
    "start_time": "2023-07-13T22:01:07.621Z"
   },
   {
    "duration": 24,
    "start_time": "2023-07-13T22:01:13.929Z"
   },
   {
    "duration": 17,
    "start_time": "2023-07-13T22:01:22.044Z"
   },
   {
    "duration": 4,
    "start_time": "2023-07-13T22:01:23.298Z"
   },
   {
    "duration": 20,
    "start_time": "2023-07-13T22:01:25.037Z"
   },
   {
    "duration": 4,
    "start_time": "2023-07-13T22:01:25.872Z"
   },
   {
    "duration": 3,
    "start_time": "2023-07-13T22:01:40.907Z"
   },
   {
    "duration": 26,
    "start_time": "2023-07-13T22:01:41.587Z"
   },
   {
    "duration": 3,
    "start_time": "2023-07-13T22:01:42.325Z"
   },
   {
    "duration": 15,
    "start_time": "2023-07-13T22:01:43.114Z"
   },
   {
    "duration": 3,
    "start_time": "2023-07-13T22:01:44.109Z"
   },
   {
    "duration": 4,
    "start_time": "2023-07-13T22:01:45.155Z"
   },
   {
    "duration": 20,
    "start_time": "2023-07-13T22:04:58.481Z"
   },
   {
    "duration": 4,
    "start_time": "2023-07-13T22:04:58.912Z"
   },
   {
    "duration": 5,
    "start_time": "2023-07-13T22:04:59.396Z"
   },
   {
    "duration": 588,
    "start_time": "2023-07-13T22:05:00.598Z"
   },
   {
    "duration": 2,
    "start_time": "2023-07-13T22:05:02.041Z"
   },
   {
    "duration": 15,
    "start_time": "2023-07-13T22:05:02.282Z"
   },
   {
    "duration": 5,
    "start_time": "2023-07-13T22:05:02.464Z"
   },
   {
    "duration": 5,
    "start_time": "2023-07-13T22:05:02.683Z"
   },
   {
    "duration": 15,
    "start_time": "2023-07-13T22:05:06.192Z"
   },
   {
    "duration": 2850,
    "start_time": "2023-07-14T10:47:59.819Z"
   },
   {
    "duration": 1176,
    "start_time": "2023-07-14T10:48:02.671Z"
   },
   {
    "duration": 56,
    "start_time": "2023-07-14T10:48:03.849Z"
   },
   {
    "duration": 131,
    "start_time": "2023-07-14T10:48:03.908Z"
   },
   {
    "duration": 119,
    "start_time": "2023-07-14T10:48:04.041Z"
   },
   {
    "duration": 56,
    "start_time": "2023-07-14T10:48:04.162Z"
   },
   {
    "duration": 159,
    "start_time": "2023-07-14T10:48:04.219Z"
   },
   {
    "duration": 426,
    "start_time": "2023-07-14T10:48:04.380Z"
   },
   {
    "duration": 907,
    "start_time": "2023-07-14T10:48:04.808Z"
   },
   {
    "duration": 22,
    "start_time": "2023-07-14T10:48:05.716Z"
   },
   {
    "duration": 37,
    "start_time": "2023-07-14T10:48:05.739Z"
   },
   {
    "duration": 83,
    "start_time": "2023-07-14T10:48:05.777Z"
   },
   {
    "duration": 154,
    "start_time": "2023-07-14T10:48:05.862Z"
   },
   {
    "duration": 84,
    "start_time": "2023-07-14T10:48:06.020Z"
   },
   {
    "duration": 12,
    "start_time": "2023-07-14T10:48:06.106Z"
   },
   {
    "duration": 52,
    "start_time": "2023-07-14T10:48:06.120Z"
   },
   {
    "duration": 46,
    "start_time": "2023-07-14T10:48:06.174Z"
   },
   {
    "duration": 664,
    "start_time": "2023-07-14T10:48:06.222Z"
   },
   {
    "duration": 38,
    "start_time": "2023-07-14T10:48:06.887Z"
   },
   {
    "duration": 27,
    "start_time": "2023-07-14T10:48:06.926Z"
   },
   {
    "duration": 12,
    "start_time": "2023-07-14T10:48:06.954Z"
   },
   {
    "duration": 356,
    "start_time": "2023-07-14T10:48:06.968Z"
   },
   {
    "duration": 1616,
    "start_time": "2023-07-14T10:48:07.325Z"
   },
   {
    "duration": 42,
    "start_time": "2023-07-14T10:48:08.942Z"
   },
   {
    "duration": 42,
    "start_time": "2023-07-14T10:48:08.986Z"
   },
   {
    "duration": 53,
    "start_time": "2023-07-14T10:48:09.029Z"
   },
   {
    "duration": 7,
    "start_time": "2023-07-14T10:48:09.083Z"
   },
   {
    "duration": 350,
    "start_time": "2023-07-14T10:48:09.091Z"
   },
   {
    "duration": 38,
    "start_time": "2023-07-14T10:48:09.442Z"
   },
   {
    "duration": 55,
    "start_time": "2023-07-14T10:48:09.481Z"
   },
   {
    "duration": 41,
    "start_time": "2023-07-14T10:48:09.538Z"
   },
   {
    "duration": 6,
    "start_time": "2023-07-14T10:48:09.580Z"
   },
   {
    "duration": 24,
    "start_time": "2023-07-14T10:48:09.588Z"
   },
   {
    "duration": 25,
    "start_time": "2023-07-14T10:48:09.614Z"
   },
   {
    "duration": 37,
    "start_time": "2023-07-14T10:48:09.641Z"
   },
   {
    "duration": 38,
    "start_time": "2023-07-14T10:48:09.679Z"
   },
   {
    "duration": 27,
    "start_time": "2023-07-14T10:48:09.719Z"
   },
   {
    "duration": 76,
    "start_time": "2023-07-14T10:48:09.748Z"
   },
   {
    "duration": 31,
    "start_time": "2023-07-14T10:48:09.825Z"
   },
   {
    "duration": 68,
    "start_time": "2023-07-14T10:48:09.858Z"
   },
   {
    "duration": 58,
    "start_time": "2023-07-14T10:48:09.930Z"
   },
   {
    "duration": 23,
    "start_time": "2023-07-14T10:48:09.990Z"
   },
   {
    "duration": 3809,
    "start_time": "2023-07-14T10:48:10.015Z"
   },
   {
    "duration": 5,
    "start_time": "2023-07-14T10:48:13.826Z"
   },
   {
    "duration": 8,
    "start_time": "2023-07-14T10:48:13.833Z"
   },
   {
    "duration": 86,
    "start_time": "2023-07-14T10:48:13.843Z"
   },
   {
    "duration": 10,
    "start_time": "2023-07-14T10:48:13.931Z"
   },
   {
    "duration": 146,
    "start_time": "2023-07-14T10:48:13.942Z"
   },
   {
    "duration": 3757,
    "start_time": "2023-07-14T10:48:14.090Z"
   },
   {
    "duration": 425,
    "start_time": "2023-07-14T10:48:17.848Z"
   },
   {
    "duration": 2,
    "start_time": "2023-07-14T10:48:18.274Z"
   },
   {
    "duration": 43,
    "start_time": "2023-07-14T10:48:18.278Z"
   },
   {
    "duration": 25,
    "start_time": "2023-07-14T10:48:18.322Z"
   },
   {
    "duration": 5,
    "start_time": "2023-07-14T10:48:29.039Z"
   },
   {
    "duration": 1830,
    "start_time": "2023-07-14T11:07:52.858Z"
   },
   {
    "duration": 2935,
    "start_time": "2023-07-14T11:07:54.690Z"
   },
   {
    "duration": 17,
    "start_time": "2023-07-14T11:07:57.627Z"
   },
   {
    "duration": 147,
    "start_time": "2023-07-14T11:07:57.646Z"
   },
   {
    "duration": 121,
    "start_time": "2023-07-14T11:07:57.795Z"
   },
   {
    "duration": 70,
    "start_time": "2023-07-14T11:07:57.918Z"
   },
   {
    "duration": 196,
    "start_time": "2023-07-14T11:07:57.989Z"
   },
   {
    "duration": 524,
    "start_time": "2023-07-14T11:07:58.187Z"
   },
   {
    "duration": 1044,
    "start_time": "2023-07-14T11:07:58.712Z"
   },
   {
    "duration": 26,
    "start_time": "2023-07-14T11:07:59.759Z"
   },
   {
    "duration": 33,
    "start_time": "2023-07-14T11:08:00.969Z"
   },
   {
    "duration": 73,
    "start_time": "2023-07-14T11:08:01.377Z"
   },
   {
    "duration": 127,
    "start_time": "2023-07-14T11:08:01.674Z"
   },
   {
    "duration": 70,
    "start_time": "2023-07-14T11:08:02.006Z"
   },
   {
    "duration": 9,
    "start_time": "2023-07-14T11:08:03.127Z"
   },
   {
    "duration": 36,
    "start_time": "2023-07-14T11:08:03.417Z"
   },
   {
    "duration": 46,
    "start_time": "2023-07-14T11:08:03.650Z"
   },
   {
    "duration": 788,
    "start_time": "2023-07-14T11:08:05.152Z"
   },
   {
    "duration": 29,
    "start_time": "2023-07-14T11:08:06.756Z"
   },
   {
    "duration": 28,
    "start_time": "2023-07-14T11:08:07.096Z"
   },
   {
    "duration": 16,
    "start_time": "2023-07-14T11:08:07.756Z"
   },
   {
    "duration": 374,
    "start_time": "2023-07-14T11:08:08.065Z"
   },
   {
    "duration": 1998,
    "start_time": "2023-07-14T11:08:08.442Z"
   },
   {
    "duration": 63,
    "start_time": "2023-07-14T11:08:10.442Z"
   },
   {
    "duration": 27,
    "start_time": "2023-07-14T11:08:10.507Z"
   },
   {
    "duration": 64,
    "start_time": "2023-07-14T11:08:10.536Z"
   },
   {
    "duration": 16,
    "start_time": "2023-07-14T11:08:10.859Z"
   },
   {
    "duration": 375,
    "start_time": "2023-07-14T11:08:11.177Z"
   },
   {
    "duration": 45,
    "start_time": "2023-07-14T11:08:11.863Z"
   },
   {
    "duration": 29,
    "start_time": "2023-07-14T11:08:13.173Z"
   },
   {
    "duration": 28,
    "start_time": "2023-07-14T11:08:13.461Z"
   },
   {
    "duration": 7,
    "start_time": "2023-07-14T11:08:13.985Z"
   },
   {
    "duration": 14,
    "start_time": "2023-07-14T11:08:14.305Z"
   },
   {
    "duration": 28,
    "start_time": "2023-07-14T11:08:15.033Z"
   },
   {
    "duration": 22,
    "start_time": "2023-07-14T11:08:15.422Z"
   },
   {
    "duration": 25,
    "start_time": "2023-07-14T11:08:15.713Z"
   },
   {
    "duration": 26,
    "start_time": "2023-07-14T11:08:16.429Z"
   },
   {
    "duration": 38,
    "start_time": "2023-07-14T11:08:17.342Z"
   },
   {
    "duration": 26,
    "start_time": "2023-07-14T11:08:17.877Z"
   },
   {
    "duration": 60,
    "start_time": "2023-07-14T11:08:21.062Z"
   },
   {
    "duration": 74,
    "start_time": "2023-07-14T11:08:27.432Z"
   },
   {
    "duration": 15,
    "start_time": "2023-07-14T11:08:30.506Z"
   },
   {
    "duration": 3502,
    "start_time": "2023-07-14T11:08:30.757Z"
   },
   {
    "duration": 11,
    "start_time": "2023-07-14T11:08:34.263Z"
   },
   {
    "duration": 6,
    "start_time": "2023-07-14T11:08:34.275Z"
   },
   {
    "duration": 92,
    "start_time": "2023-07-14T11:08:36.446Z"
   },
   {
    "duration": 11,
    "start_time": "2023-07-14T11:08:36.829Z"
   },
   {
    "duration": 167,
    "start_time": "2023-07-14T11:08:37.240Z"
   },
   {
    "duration": 20,
    "start_time": "2023-07-14T11:08:55.090Z"
   },
   {
    "duration": 5,
    "start_time": "2023-07-14T11:09:19.853Z"
   },
   {
    "duration": 145,
    "start_time": "2023-07-14T11:09:37.161Z"
   },
   {
    "duration": 4283,
    "start_time": "2023-07-14T11:09:40.924Z"
   },
   {
    "duration": 21,
    "start_time": "2023-07-14T11:09:45.209Z"
   },
   {
    "duration": 4,
    "start_time": "2023-07-14T11:10:00.655Z"
   },
   {
    "duration": 18,
    "start_time": "2023-07-14T11:10:13.182Z"
   },
   {
    "duration": 376,
    "start_time": "2023-07-14T11:10:15.310Z"
   },
   {
    "duration": 4,
    "start_time": "2023-07-14T11:10:15.688Z"
   },
   {
    "duration": 363,
    "start_time": "2023-07-14T11:10:21.443Z"
   },
   {
    "duration": 6,
    "start_time": "2023-07-14T11:10:22.076Z"
   },
   {
    "duration": 4,
    "start_time": "2023-07-14T11:10:34.498Z"
   },
   {
    "duration": 4,
    "start_time": "2023-07-14T11:11:04.086Z"
   },
   {
    "duration": 36,
    "start_time": "2023-07-14T11:11:06.183Z"
   },
   {
    "duration": 18,
    "start_time": "2023-07-14T11:15:03.281Z"
   },
   {
    "duration": 4,
    "start_time": "2023-07-14T11:15:24.651Z"
   },
   {
    "duration": 33,
    "start_time": "2023-07-14T11:15:55.069Z"
   },
   {
    "duration": 411,
    "start_time": "2023-07-14T11:24:02.025Z"
   },
   {
    "duration": 30,
    "start_time": "2023-07-14T11:24:05.128Z"
   },
   {
    "duration": 128,
    "start_time": "2023-07-14T11:24:06.252Z"
   },
   {
    "duration": 30,
    "start_time": "2023-07-14T11:24:10.777Z"
   },
   {
    "duration": 4,
    "start_time": "2023-07-14T11:24:12.390Z"
   },
   {
    "duration": 372,
    "start_time": "2023-07-14T11:26:04.586Z"
   },
   {
    "duration": 31,
    "start_time": "2023-07-14T11:26:06.471Z"
   },
   {
    "duration": 27,
    "start_time": "2023-07-14T11:26:07.618Z"
   },
   {
    "duration": 7,
    "start_time": "2023-07-14T11:26:08.970Z"
   },
   {
    "duration": 5,
    "start_time": "2023-07-14T11:26:10.009Z"
   },
   {
    "duration": 33,
    "start_time": "2023-07-14T11:26:10.478Z"
   },
   {
    "duration": 4,
    "start_time": "2023-07-14T11:26:13.361Z"
   },
   {
    "duration": 27,
    "start_time": "2023-07-14T11:26:16.026Z"
   },
   {
    "duration": 30,
    "start_time": "2023-07-14T11:26:16.776Z"
   },
   {
    "duration": 3,
    "start_time": "2023-07-14T11:26:19.309Z"
   },
   {
    "duration": 6,
    "start_time": "2023-07-14T11:26:19.784Z"
   },
   {
    "duration": 5,
    "start_time": "2023-07-14T11:26:20.172Z"
   },
   {
    "duration": 4,
    "start_time": "2023-07-14T11:26:20.811Z"
   },
   {
    "duration": 12,
    "start_time": "2023-07-14T11:26:21.202Z"
   },
   {
    "duration": 4,
    "start_time": "2023-07-14T11:26:21.573Z"
   },
   {
    "duration": 3,
    "start_time": "2023-07-14T11:26:21.977Z"
   },
   {
    "duration": 3,
    "start_time": "2023-07-14T11:26:22.242Z"
   },
   {
    "duration": 3,
    "start_time": "2023-07-14T11:26:22.477Z"
   },
   {
    "duration": 19,
    "start_time": "2023-07-14T11:26:22.778Z"
   },
   {
    "duration": 9,
    "start_time": "2023-07-14T11:26:23.525Z"
   },
   {
    "duration": 18,
    "start_time": "2023-07-14T11:26:24.025Z"
   },
   {
    "duration": 417,
    "start_time": "2023-07-14T11:26:48.423Z"
   },
   {
    "duration": 25,
    "start_time": "2023-07-14T11:26:49.915Z"
   },
   {
    "duration": 26,
    "start_time": "2023-07-14T11:26:50.144Z"
   },
   {
    "duration": 5,
    "start_time": "2023-07-14T11:26:50.609Z"
   },
   {
    "duration": 4,
    "start_time": "2023-07-14T11:26:50.820Z"
   },
   {
    "duration": 29,
    "start_time": "2023-07-14T11:26:51.025Z"
   },
   {
    "duration": 3,
    "start_time": "2023-07-14T11:26:52.064Z"
   },
   {
    "duration": 28,
    "start_time": "2023-07-14T11:26:53.142Z"
   },
   {
    "duration": 27,
    "start_time": "2023-07-14T11:26:53.381Z"
   },
   {
    "duration": 3,
    "start_time": "2023-07-14T11:26:54.352Z"
   },
   {
    "duration": 5,
    "start_time": "2023-07-14T11:26:54.553Z"
   },
   {
    "duration": 4,
    "start_time": "2023-07-14T11:26:54.807Z"
   },
   {
    "duration": 7,
    "start_time": "2023-07-14T11:26:55.063Z"
   },
   {
    "duration": 4,
    "start_time": "2023-07-14T11:26:55.272Z"
   },
   {
    "duration": 4,
    "start_time": "2023-07-14T11:26:55.474Z"
   },
   {
    "duration": 3,
    "start_time": "2023-07-14T11:26:55.679Z"
   },
   {
    "duration": 4,
    "start_time": "2023-07-14T11:26:55.888Z"
   },
   {
    "duration": 2,
    "start_time": "2023-07-14T11:26:56.121Z"
   },
   {
    "duration": 16,
    "start_time": "2023-07-14T11:26:56.333Z"
   },
   {
    "duration": 3,
    "start_time": "2023-07-14T11:26:56.532Z"
   },
   {
    "duration": 18,
    "start_time": "2023-07-14T11:26:56.746Z"
   },
   {
    "duration": 4,
    "start_time": "2023-07-14T11:26:56.958Z"
   },
   {
    "duration": 5,
    "start_time": "2023-07-14T11:26:57.160Z"
   },
   {
    "duration": 647,
    "start_time": "2023-07-14T11:26:58.334Z"
   },
   {
    "duration": 17,
    "start_time": "2023-07-14T11:48:03.984Z"
   },
   {
    "duration": 15,
    "start_time": "2023-07-14T11:48:20.722Z"
   },
   {
    "duration": 26,
    "start_time": "2023-07-14T11:48:39.705Z"
   },
   {
    "duration": 31,
    "start_time": "2023-07-14T11:48:40.221Z"
   },
   {
    "duration": 4,
    "start_time": "2023-07-14T11:48:40.505Z"
   },
   {
    "duration": 31,
    "start_time": "2023-07-14T11:48:40.805Z"
   },
   {
    "duration": 3,
    "start_time": "2023-07-14T11:48:42.030Z"
   },
   {
    "duration": 31,
    "start_time": "2023-07-14T11:48:43.441Z"
   },
   {
    "duration": 29,
    "start_time": "2023-07-14T11:48:43.694Z"
   },
   {
    "duration": 4,
    "start_time": "2023-07-14T11:48:44.813Z"
   },
   {
    "duration": 4,
    "start_time": "2023-07-14T11:48:45.082Z"
   },
   {
    "duration": 3,
    "start_time": "2023-07-14T11:48:45.322Z"
   },
   {
    "duration": 7,
    "start_time": "2023-07-14T11:48:45.567Z"
   },
   {
    "duration": 2,
    "start_time": "2023-07-14T11:48:45.802Z"
   },
   {
    "duration": 3,
    "start_time": "2023-07-14T11:48:46.060Z"
   },
   {
    "duration": 3,
    "start_time": "2023-07-14T11:48:46.316Z"
   },
   {
    "duration": 4,
    "start_time": "2023-07-14T11:48:46.542Z"
   },
   {
    "duration": 2,
    "start_time": "2023-07-14T11:48:46.784Z"
   },
   {
    "duration": 18,
    "start_time": "2023-07-14T11:48:47.041Z"
   },
   {
    "duration": 4,
    "start_time": "2023-07-14T11:48:47.339Z"
   },
   {
    "duration": 23,
    "start_time": "2023-07-14T11:48:47.650Z"
   },
   {
    "duration": 20,
    "start_time": "2023-07-14T11:48:47.924Z"
   },
   {
    "duration": 5,
    "start_time": "2023-07-14T11:48:48.176Z"
   },
   {
    "duration": 4,
    "start_time": "2023-07-14T11:48:48.417Z"
   },
   {
    "duration": 649,
    "start_time": "2023-07-14T11:48:49.309Z"
   },
   {
    "duration": 5,
    "start_time": "2023-07-14T11:53:55.500Z"
   },
   {
    "duration": 879,
    "start_time": "2023-07-14T11:53:55.729Z"
   },
   {
    "duration": 14,
    "start_time": "2023-07-14T11:53:56.610Z"
   },
   {
    "duration": 152,
    "start_time": "2023-07-14T11:53:56.629Z"
   },
   {
    "duration": 121,
    "start_time": "2023-07-14T11:53:59.800Z"
   },
   {
    "duration": 70,
    "start_time": "2023-07-14T11:54:00.718Z"
   },
   {
    "duration": 118,
    "start_time": "2023-07-14T11:54:01.238Z"
   },
   {
    "duration": 528,
    "start_time": "2023-07-14T11:54:01.679Z"
   },
   {
    "duration": 1073,
    "start_time": "2023-07-14T11:54:02.209Z"
   },
   {
    "duration": 25,
    "start_time": "2023-07-14T11:54:03.285Z"
   },
   {
    "duration": 88,
    "start_time": "2023-07-14T11:54:03.311Z"
   },
   {
    "duration": 76,
    "start_time": "2023-07-14T11:54:03.631Z"
   },
   {
    "duration": 119,
    "start_time": "2023-07-14T11:54:03.926Z"
   },
   {
    "duration": 69,
    "start_time": "2023-07-14T11:54:04.145Z"
   },
   {
    "duration": 9,
    "start_time": "2023-07-14T11:54:04.945Z"
   },
   {
    "duration": 43,
    "start_time": "2023-07-14T11:54:05.234Z"
   },
   {
    "duration": 38,
    "start_time": "2023-07-14T11:54:05.523Z"
   },
   {
    "duration": 723,
    "start_time": "2023-07-14T11:54:06.795Z"
   },
   {
    "duration": 30,
    "start_time": "2023-07-14T11:54:07.817Z"
   },
   {
    "duration": 39,
    "start_time": "2023-07-14T11:54:08.047Z"
   },
   {
    "duration": 9,
    "start_time": "2023-07-14T11:54:08.705Z"
   },
   {
    "duration": 417,
    "start_time": "2023-07-14T11:54:09.024Z"
   },
   {
    "duration": 2027,
    "start_time": "2023-07-14T11:54:09.443Z"
   },
   {
    "duration": 48,
    "start_time": "2023-07-14T11:54:11.472Z"
   },
   {
    "duration": 50,
    "start_time": "2023-07-14T11:54:11.522Z"
   },
   {
    "duration": 35,
    "start_time": "2023-07-14T11:54:11.576Z"
   },
   {
    "duration": 10,
    "start_time": "2023-07-14T11:54:11.613Z"
   },
   {
    "duration": 550,
    "start_time": "2023-07-14T11:54:11.825Z"
   },
   {
    "duration": 44,
    "start_time": "2023-07-14T11:54:12.379Z"
   },
   {
    "duration": 27,
    "start_time": "2023-07-14T11:54:13.480Z"
   },
   {
    "duration": 25,
    "start_time": "2023-07-14T11:54:13.701Z"
   },
   {
    "duration": 8,
    "start_time": "2023-07-14T11:54:14.144Z"
   },
   {
    "duration": 18,
    "start_time": "2023-07-14T11:54:14.357Z"
   },
   {
    "duration": 26,
    "start_time": "2023-07-14T11:54:14.814Z"
   },
   {
    "duration": 23,
    "start_time": "2023-07-14T11:54:15.098Z"
   },
   {
    "duration": 27,
    "start_time": "2023-07-14T11:54:15.516Z"
   },
   {
    "duration": 42,
    "start_time": "2023-07-14T11:54:16.654Z"
   },
   {
    "duration": 25,
    "start_time": "2023-07-14T11:54:17.589Z"
   },
   {
    "duration": 30,
    "start_time": "2023-07-14T11:54:18.032Z"
   },
   {
    "duration": 80,
    "start_time": "2023-07-14T11:54:18.907Z"
   },
   {
    "duration": 58,
    "start_time": "2023-07-14T11:54:20.668Z"
   },
   {
    "duration": 21,
    "start_time": "2023-07-14T11:54:24.076Z"
   },
   {
    "duration": 2296,
    "start_time": "2023-07-14T11:54:24.373Z"
   },
   {
    "duration": 6,
    "start_time": "2023-07-14T11:54:26.672Z"
   },
   {
    "duration": 9,
    "start_time": "2023-07-14T11:54:26.681Z"
   },
   {
    "duration": 62,
    "start_time": "2023-07-14T11:54:34.686Z"
   },
   {
    "duration": 12,
    "start_time": "2023-07-14T11:54:35.710Z"
   },
   {
    "duration": 187,
    "start_time": "2023-07-14T11:54:35.952Z"
   },
   {
    "duration": 19,
    "start_time": "2023-07-14T11:54:37.521Z"
   },
   {
    "duration": 5,
    "start_time": "2023-07-14T11:54:38.255Z"
   },
   {
    "duration": 3164,
    "start_time": "2023-07-14T11:54:46.489Z"
   },
   {
    "duration": 7,
    "start_time": "2023-07-14T11:54:49.658Z"
   },
   {
    "duration": 19,
    "start_time": "2023-07-14T11:54:52.899Z"
   },
   {
    "duration": 380,
    "start_time": "2023-07-14T11:54:53.588Z"
   },
   {
    "duration": 3,
    "start_time": "2023-07-14T11:54:54.575Z"
   },
   {
    "duration": 3,
    "start_time": "2023-07-14T11:54:55.390Z"
   },
   {
    "duration": 5,
    "start_time": "2023-07-14T11:54:56.776Z"
   },
   {
    "duration": 2,
    "start_time": "2023-07-14T11:54:57.312Z"
   },
   {
    "duration": 3,
    "start_time": "2023-07-14T11:54:57.796Z"
   },
   {
    "duration": 4,
    "start_time": "2023-07-14T11:55:00.472Z"
   },
   {
    "duration": 29,
    "start_time": "2023-07-14T11:55:02.955Z"
   },
   {
    "duration": 27,
    "start_time": "2023-07-14T11:55:03.520Z"
   },
   {
    "duration": 3,
    "start_time": "2023-07-14T11:55:06.629Z"
   },
   {
    "duration": 4,
    "start_time": "2023-07-14T11:55:07.256Z"
   },
   {
    "duration": 2,
    "start_time": "2023-07-14T11:55:07.824Z"
   },
   {
    "duration": 2,
    "start_time": "2023-07-14T11:55:08.286Z"
   },
   {
    "duration": 3,
    "start_time": "2023-07-14T11:55:08.725Z"
   },
   {
    "duration": 3,
    "start_time": "2023-07-14T11:55:09.160Z"
   },
   {
    "duration": 2,
    "start_time": "2023-07-14T11:55:09.602Z"
   },
   {
    "duration": 3,
    "start_time": "2023-07-14T11:55:10.038Z"
   },
   {
    "duration": 3,
    "start_time": "2023-07-14T11:55:10.498Z"
   },
   {
    "duration": 2,
    "start_time": "2023-07-14T11:55:10.932Z"
   },
   {
    "duration": 4,
    "start_time": "2023-07-14T11:55:12.369Z"
   },
   {
    "duration": 15,
    "start_time": "2023-07-14T11:55:13.880Z"
   },
   {
    "duration": 16,
    "start_time": "2023-07-14T11:55:16.142Z"
   },
   {
    "duration": 4,
    "start_time": "2023-07-14T11:56:04.758Z"
   },
   {
    "duration": 4,
    "start_time": "2023-07-14T11:56:05.363Z"
   },
   {
    "duration": 3,
    "start_time": "2023-07-14T11:56:05.754Z"
   },
   {
    "duration": 2,
    "start_time": "2023-07-14T11:56:06.309Z"
   },
   {
    "duration": 3,
    "start_time": "2023-07-14T11:56:06.717Z"
   },
   {
    "duration": 2,
    "start_time": "2023-07-14T11:56:07.139Z"
   },
   {
    "duration": 3,
    "start_time": "2023-07-14T11:56:07.624Z"
   },
   {
    "duration": 18,
    "start_time": "2023-07-14T11:56:08.147Z"
   },
   {
    "duration": 18,
    "start_time": "2023-07-14T11:56:09.104Z"
   },
   {
    "duration": 17,
    "start_time": "2023-07-14T11:57:03.017Z"
   },
   {
    "duration": 5,
    "start_time": "2023-07-14T12:05:31.719Z"
   },
   {
    "duration": 800,
    "start_time": "2023-07-14T12:05:32.053Z"
   },
   {
    "duration": 15,
    "start_time": "2023-07-14T12:05:32.856Z"
   },
   {
    "duration": 106,
    "start_time": "2023-07-14T12:05:33.093Z"
   },
   {
    "duration": 110,
    "start_time": "2023-07-14T12:05:33.671Z"
   },
   {
    "duration": 51,
    "start_time": "2023-07-14T12:05:33.993Z"
   },
   {
    "duration": 108,
    "start_time": "2023-07-14T12:05:34.238Z"
   },
   {
    "duration": 464,
    "start_time": "2023-07-14T12:05:34.653Z"
   },
   {
    "duration": 939,
    "start_time": "2023-07-14T12:05:35.357Z"
   },
   {
    "duration": 24,
    "start_time": "2023-07-14T12:05:36.514Z"
   },
   {
    "duration": 34,
    "start_time": "2023-07-14T12:05:37.143Z"
   },
   {
    "duration": 77,
    "start_time": "2023-07-14T12:05:37.613Z"
   },
   {
    "duration": 105,
    "start_time": "2023-07-14T12:05:37.938Z"
   },
   {
    "duration": 61,
    "start_time": "2023-07-14T12:05:38.175Z"
   },
   {
    "duration": 11,
    "start_time": "2023-07-14T12:05:39.241Z"
   },
   {
    "duration": 40,
    "start_time": "2023-07-14T12:05:39.551Z"
   },
   {
    "duration": 37,
    "start_time": "2023-07-14T12:05:39.783Z"
   },
   {
    "duration": 603,
    "start_time": "2023-07-14T12:05:40.917Z"
   },
   {
    "duration": 29,
    "start_time": "2023-07-14T12:05:41.772Z"
   },
   {
    "duration": 29,
    "start_time": "2023-07-14T12:05:42.074Z"
   },
   {
    "duration": 8,
    "start_time": "2023-07-14T12:05:42.639Z"
   },
   {
    "duration": 350,
    "start_time": "2023-07-14T12:05:42.946Z"
   },
   {
    "duration": 1917,
    "start_time": "2023-07-14T12:05:43.298Z"
   },
   {
    "duration": 49,
    "start_time": "2023-07-14T12:05:45.217Z"
   },
   {
    "duration": 28,
    "start_time": "2023-07-14T12:05:45.268Z"
   },
   {
    "duration": 28,
    "start_time": "2023-07-14T12:05:45.298Z"
   },
   {
    "duration": 8,
    "start_time": "2023-07-14T12:05:45.706Z"
   },
   {
    "duration": 340,
    "start_time": "2023-07-14T12:05:45.967Z"
   },
   {
    "duration": 39,
    "start_time": "2023-07-14T12:05:46.542Z"
   },
   {
    "duration": 33,
    "start_time": "2023-07-14T12:05:47.896Z"
   },
   {
    "duration": 29,
    "start_time": "2023-07-14T12:05:48.200Z"
   },
   {
    "duration": 9,
    "start_time": "2023-07-14T12:05:48.947Z"
   },
   {
    "duration": 14,
    "start_time": "2023-07-14T12:05:49.194Z"
   },
   {
    "duration": 25,
    "start_time": "2023-07-14T12:05:49.709Z"
   },
   {
    "duration": 24,
    "start_time": "2023-07-14T12:05:50.012Z"
   },
   {
    "duration": 24,
    "start_time": "2023-07-14T12:05:50.263Z"
   },
   {
    "duration": 26,
    "start_time": "2023-07-14T12:05:50.801Z"
   },
   {
    "duration": 23,
    "start_time": "2023-07-14T12:05:51.484Z"
   },
   {
    "duration": 25,
    "start_time": "2023-07-14T12:05:51.720Z"
   },
   {
    "duration": 63,
    "start_time": "2023-07-14T12:05:52.483Z"
   },
   {
    "duration": 64,
    "start_time": "2023-07-14T12:05:53.908Z"
   },
   {
    "duration": 17,
    "start_time": "2023-07-14T12:05:57.174Z"
   },
   {
    "duration": 2305,
    "start_time": "2023-07-14T12:05:57.540Z"
   },
   {
    "duration": 6,
    "start_time": "2023-07-14T12:05:59.856Z"
   },
   {
    "duration": 3,
    "start_time": "2023-07-14T12:06:10.941Z"
   },
   {
    "duration": 60,
    "start_time": "2023-07-14T12:06:22.092Z"
   },
   {
    "duration": 11,
    "start_time": "2023-07-14T12:06:22.716Z"
   },
   {
    "duration": 174,
    "start_time": "2023-07-14T12:06:24.110Z"
   },
   {
    "duration": 3275,
    "start_time": "2023-07-14T12:06:32.659Z"
   },
   {
    "duration": 3433,
    "start_time": "2023-07-14T12:09:06.770Z"
   },
   {
    "duration": 3225,
    "start_time": "2023-07-14T12:09:36.355Z"
   },
   {
    "duration": 3104,
    "start_time": "2023-07-14T12:11:59.037Z"
   },
   {
    "duration": 3051,
    "start_time": "2023-07-14T12:12:15.305Z"
   },
   {
    "duration": 3413,
    "start_time": "2023-07-14T12:15:14.371Z"
   },
   {
    "duration": 4,
    "start_time": "2023-07-14T12:19:05.667Z"
   },
   {
    "duration": 749,
    "start_time": "2023-07-14T12:19:05.920Z"
   },
   {
    "duration": 15,
    "start_time": "2023-07-14T12:19:06.670Z"
   },
   {
    "duration": 111,
    "start_time": "2023-07-14T12:19:06.858Z"
   },
   {
    "duration": 111,
    "start_time": "2023-07-14T12:19:07.489Z"
   },
   {
    "duration": 55,
    "start_time": "2023-07-14T12:19:07.816Z"
   },
   {
    "duration": 109,
    "start_time": "2023-07-14T12:19:08.063Z"
   },
   {
    "duration": 511,
    "start_time": "2023-07-14T12:19:08.307Z"
   },
   {
    "duration": 972,
    "start_time": "2023-07-14T12:19:08.821Z"
   },
   {
    "duration": 27,
    "start_time": "2023-07-14T12:19:09.795Z"
   },
   {
    "duration": 42,
    "start_time": "2023-07-14T12:19:09.824Z"
   },
   {
    "duration": 70,
    "start_time": "2023-07-14T12:19:10.139Z"
   },
   {
    "duration": 105,
    "start_time": "2023-07-14T12:19:10.378Z"
   },
   {
    "duration": 60,
    "start_time": "2023-07-14T12:19:10.625Z"
   },
   {
    "duration": 9,
    "start_time": "2023-07-14T12:19:11.415Z"
   },
   {
    "duration": 35,
    "start_time": "2023-07-14T12:19:11.666Z"
   },
   {
    "duration": 36,
    "start_time": "2023-07-14T12:19:11.917Z"
   },
   {
    "duration": 603,
    "start_time": "2023-07-14T12:19:12.882Z"
   },
   {
    "duration": 29,
    "start_time": "2023-07-14T12:19:14.301Z"
   },
   {
    "duration": 29,
    "start_time": "2023-07-14T12:19:14.672Z"
   },
   {
    "duration": 8,
    "start_time": "2023-07-14T12:19:15.427Z"
   },
   {
    "duration": 334,
    "start_time": "2023-07-14T12:19:15.762Z"
   },
   {
    "duration": 1917,
    "start_time": "2023-07-14T12:19:16.102Z"
   },
   {
    "duration": 60,
    "start_time": "2023-07-14T12:19:18.021Z"
   },
   {
    "duration": 27,
    "start_time": "2023-07-14T12:19:18.083Z"
   },
   {
    "duration": 32,
    "start_time": "2023-07-14T12:19:18.112Z"
   },
   {
    "duration": 9,
    "start_time": "2023-07-14T12:19:18.641Z"
   },
   {
    "duration": 386,
    "start_time": "2023-07-14T12:19:18.972Z"
   },
   {
    "duration": 39,
    "start_time": "2023-07-14T12:19:19.489Z"
   },
   {
    "duration": 29,
    "start_time": "2023-07-14T12:19:20.724Z"
   },
   {
    "duration": 25,
    "start_time": "2023-07-14T12:19:21.061Z"
   },
   {
    "duration": 7,
    "start_time": "2023-07-14T12:19:21.557Z"
   },
   {
    "duration": 14,
    "start_time": "2023-07-14T12:19:21.802Z"
   },
   {
    "duration": 23,
    "start_time": "2023-07-14T12:19:22.308Z"
   },
   {
    "duration": 22,
    "start_time": "2023-07-14T12:19:22.613Z"
   },
   {
    "duration": 30,
    "start_time": "2023-07-14T12:19:22.860Z"
   },
   {
    "duration": 26,
    "start_time": "2023-07-14T12:19:23.372Z"
   },
   {
    "duration": 22,
    "start_time": "2023-07-14T12:19:23.802Z"
   },
   {
    "duration": 26,
    "start_time": "2023-07-14T12:19:24.132Z"
   },
   {
    "duration": 58,
    "start_time": "2023-07-14T12:19:24.602Z"
   },
   {
    "duration": 59,
    "start_time": "2023-07-14T12:19:25.399Z"
   },
   {
    "duration": 16,
    "start_time": "2023-07-14T12:19:27.876Z"
   },
   {
    "duration": 2160,
    "start_time": "2023-07-14T12:19:28.207Z"
   },
   {
    "duration": 5,
    "start_time": "2023-07-14T12:19:30.370Z"
   },
   {
    "duration": 45,
    "start_time": "2023-07-14T12:19:30.377Z"
   },
   {
    "duration": 62,
    "start_time": "2023-07-14T12:19:33.587Z"
   },
   {
    "duration": 11,
    "start_time": "2023-07-14T12:19:34.075Z"
   },
   {
    "duration": 131,
    "start_time": "2023-07-14T12:19:34.577Z"
   },
   {
    "duration": 21,
    "start_time": "2023-07-14T12:19:36.147Z"
   },
   {
    "duration": 4,
    "start_time": "2023-07-14T12:19:37.078Z"
   },
   {
    "duration": 3139,
    "start_time": "2023-07-14T12:19:37.670Z"
   },
   {
    "duration": 3113,
    "start_time": "2023-07-14T12:21:14.369Z"
   },
   {
    "duration": 6,
    "start_time": "2023-07-14T12:24:39.022Z"
   },
   {
    "duration": 11,
    "start_time": "2023-07-14T12:24:59.405Z"
   },
   {
    "duration": 10,
    "start_time": "2023-07-14T12:25:06.074Z"
   },
   {
    "duration": 3220,
    "start_time": "2023-07-14T12:25:56.984Z"
   },
   {
    "duration": 3139,
    "start_time": "2023-07-14T12:27:38.276Z"
   },
   {
    "duration": 3202,
    "start_time": "2023-07-14T12:27:52.408Z"
   },
   {
    "duration": 1588,
    "start_time": "2023-07-14T12:44:25.109Z"
   },
   {
    "duration": 899,
    "start_time": "2023-07-14T12:44:27.471Z"
   },
   {
    "duration": 19,
    "start_time": "2023-07-14T12:44:28.619Z"
   },
   {
    "duration": 164,
    "start_time": "2023-07-14T12:44:28.868Z"
   },
   {
    "duration": 127,
    "start_time": "2023-07-14T12:44:29.584Z"
   },
   {
    "duration": 56,
    "start_time": "2023-07-14T12:44:29.916Z"
   },
   {
    "duration": 157,
    "start_time": "2023-07-14T12:44:30.241Z"
   },
   {
    "duration": 501,
    "start_time": "2023-07-14T12:44:30.534Z"
   },
   {
    "duration": 1056,
    "start_time": "2023-07-14T12:44:31.038Z"
   },
   {
    "duration": 25,
    "start_time": "2023-07-14T12:44:32.096Z"
   },
   {
    "duration": 80,
    "start_time": "2023-07-14T12:44:32.122Z"
   },
   {
    "duration": 82,
    "start_time": "2023-07-14T12:44:32.572Z"
   },
   {
    "duration": 122,
    "start_time": "2023-07-14T12:44:32.926Z"
   },
   {
    "duration": 71,
    "start_time": "2023-07-14T12:44:33.246Z"
   },
   {
    "duration": 10,
    "start_time": "2023-07-14T12:44:34.442Z"
   },
   {
    "duration": 38,
    "start_time": "2023-07-14T12:44:34.700Z"
   },
   {
    "duration": 35,
    "start_time": "2023-07-14T12:44:35.127Z"
   },
   {
    "duration": 742,
    "start_time": "2023-07-14T12:44:37.868Z"
   },
   {
    "duration": 44,
    "start_time": "2023-07-14T12:44:38.612Z"
   },
   {
    "duration": 30,
    "start_time": "2023-07-14T12:44:38.658Z"
   },
   {
    "duration": 8,
    "start_time": "2023-07-14T12:44:39.113Z"
   },
   {
    "duration": 340,
    "start_time": "2023-07-14T12:44:39.445Z"
   },
   {
    "duration": 1772,
    "start_time": "2023-07-14T12:44:39.787Z"
   },
   {
    "duration": 46,
    "start_time": "2023-07-14T12:44:41.561Z"
   },
   {
    "duration": 26,
    "start_time": "2023-07-14T12:44:41.609Z"
   },
   {
    "duration": 28,
    "start_time": "2023-07-14T12:44:41.759Z"
   },
   {
    "duration": 8,
    "start_time": "2023-07-14T12:44:42.356Z"
   },
   {
    "duration": 366,
    "start_time": "2023-07-14T12:44:42.632Z"
   },
   {
    "duration": 39,
    "start_time": "2023-07-14T12:44:43.132Z"
   },
   {
    "duration": 26,
    "start_time": "2023-07-14T12:44:44.427Z"
   },
   {
    "duration": 24,
    "start_time": "2023-07-14T12:44:44.754Z"
   },
   {
    "duration": 8,
    "start_time": "2023-07-14T12:44:45.247Z"
   },
   {
    "duration": 17,
    "start_time": "2023-07-14T12:44:45.489Z"
   },
   {
    "duration": 23,
    "start_time": "2023-07-14T12:44:46.184Z"
   },
   {
    "duration": 23,
    "start_time": "2023-07-14T12:44:46.525Z"
   },
   {
    "duration": 40,
    "start_time": "2023-07-14T12:44:46.889Z"
   },
   {
    "duration": 35,
    "start_time": "2023-07-14T12:44:47.744Z"
   },
   {
    "duration": 34,
    "start_time": "2023-07-14T12:44:48.868Z"
   },
   {
    "duration": 28,
    "start_time": "2023-07-14T12:44:49.405Z"
   },
   {
    "duration": 61,
    "start_time": "2023-07-14T12:44:50.472Z"
   },
   {
    "duration": 59,
    "start_time": "2023-07-14T12:44:52.642Z"
   },
   {
    "duration": 14,
    "start_time": "2023-07-14T12:44:58.666Z"
   },
   {
    "duration": 2190,
    "start_time": "2023-07-14T12:44:59.121Z"
   },
   {
    "duration": 6,
    "start_time": "2023-07-14T12:45:01.314Z"
   },
   {
    "duration": 56,
    "start_time": "2023-07-14T12:45:01.321Z"
   },
   {
    "duration": 68,
    "start_time": "2023-07-14T12:45:07.363Z"
   },
   {
    "duration": 12,
    "start_time": "2023-07-14T12:45:07.606Z"
   },
   {
    "duration": 149,
    "start_time": "2023-07-14T12:45:08.205Z"
   },
   {
    "duration": 24,
    "start_time": "2023-07-14T12:45:09.336Z"
   },
   {
    "duration": 4,
    "start_time": "2023-07-14T12:45:10.234Z"
   },
   {
    "duration": 296,
    "start_time": "2023-07-14T12:46:48.746Z"
   },
   {
    "duration": 3297,
    "start_time": "2023-07-14T12:47:18.299Z"
   },
   {
    "duration": 5,
    "start_time": "2023-07-14T12:54:27.933Z"
   },
   {
    "duration": 124,
    "start_time": "2023-07-14T12:54:39.675Z"
   },
   {
    "duration": 3,
    "start_time": "2023-07-14T12:57:36.992Z"
   },
   {
    "duration": 3,
    "start_time": "2023-07-14T12:58:21.018Z"
   },
   {
    "duration": 3,
    "start_time": "2023-07-14T12:58:54.829Z"
   },
   {
    "duration": 234,
    "start_time": "2023-07-14T12:59:29.928Z"
   },
   {
    "duration": 3161,
    "start_time": "2023-07-14T13:00:02.981Z"
   },
   {
    "duration": 3112,
    "start_time": "2023-07-14T13:01:12.505Z"
   },
   {
    "duration": 3145,
    "start_time": "2023-07-14T13:02:05.354Z"
   },
   {
    "duration": 5,
    "start_time": "2023-07-14T13:02:37.062Z"
   },
   {
    "duration": 262,
    "start_time": "2023-07-14T13:04:33.331Z"
   },
   {
    "duration": 542,
    "start_time": "2023-07-14T13:05:48.823Z"
   },
   {
    "duration": 3,
    "start_time": "2023-07-14T13:10:04.129Z"
   },
   {
    "duration": 471,
    "start_time": "2023-07-14T13:10:56.118Z"
   },
   {
    "duration": 5,
    "start_time": "2023-07-14T13:11:02.055Z"
   },
   {
    "duration": 5,
    "start_time": "2023-07-14T13:11:20.086Z"
   },
   {
    "duration": 216,
    "start_time": "2023-07-14T13:12:18.259Z"
   },
   {
    "duration": 11,
    "start_time": "2023-07-14T13:12:19.663Z"
   },
   {
    "duration": 6,
    "start_time": "2023-07-14T13:12:21.222Z"
   },
   {
    "duration": 135,
    "start_time": "2023-07-14T13:15:45.742Z"
   },
   {
    "duration": 6,
    "start_time": "2023-07-14T13:15:48.510Z"
   },
   {
    "duration": 6,
    "start_time": "2023-07-14T13:15:49.479Z"
   },
   {
    "duration": 20737,
    "start_time": "2023-07-14T13:15:53.353Z"
   },
   {
    "duration": 151,
    "start_time": "2023-07-14T13:16:38.899Z"
   },
   {
    "duration": 9,
    "start_time": "2023-07-14T13:16:39.871Z"
   },
   {
    "duration": 5,
    "start_time": "2023-07-14T13:16:40.787Z"
   },
   {
    "duration": 33358,
    "start_time": "2023-07-14T13:16:47.564Z"
   },
   {
    "duration": 215,
    "start_time": "2023-07-14T13:17:24.899Z"
   },
   {
    "duration": 12,
    "start_time": "2023-07-14T13:17:25.590Z"
   },
   {
    "duration": 5,
    "start_time": "2023-07-14T13:17:26.402Z"
   },
   {
    "duration": 7605,
    "start_time": "2023-07-14T13:17:31.832Z"
   },
   {
    "duration": 75,
    "start_time": "2023-07-14T13:17:39.439Z"
   },
   {
    "duration": 5,
    "start_time": "2023-07-14T13:17:40.560Z"
   },
   {
    "duration": 1743,
    "start_time": "2023-07-14T13:17:43.491Z"
   },
   {
    "duration": 224,
    "start_time": "2023-07-14T13:17:45.237Z"
   },
   {
    "duration": 5,
    "start_time": "2023-07-14T13:17:45.724Z"
   },
   {
    "duration": 6439,
    "start_time": "2023-07-14T13:17:48.762Z"
   },
   {
    "duration": 130,
    "start_time": "2023-07-14T13:17:55.203Z"
   },
   {
    "duration": 5,
    "start_time": "2023-07-14T13:17:55.335Z"
   },
   {
    "duration": 1281244,
    "start_time": "2023-07-14T13:18:04.642Z"
   },
   {
    "duration": 471,
    "start_time": "2023-07-14T13:39:25.893Z"
   },
   {
    "duration": 9,
    "start_time": "2023-07-14T13:39:26.367Z"
   },
   {
    "duration": 974180,
    "start_time": "2023-07-14T13:39:26.380Z"
   },
   {
    "duration": 598,
    "start_time": "2023-07-14T13:55:40.562Z"
   },
   {
    "duration": 6,
    "start_time": "2023-07-14T13:55:41.161Z"
   },
   {
    "duration": 19,
    "start_time": "2023-07-14T13:55:41.169Z"
   },
   {
    "duration": 0,
    "start_time": "2023-07-14T13:55:41.189Z"
   },
   {
    "duration": 15,
    "start_time": "2023-07-14T14:09:28.273Z"
   },
   {
    "duration": 7509,
    "start_time": "2023-07-14T15:05:12.332Z"
   },
   {
    "duration": 70,
    "start_time": "2023-07-14T15:05:19.843Z"
   },
   {
    "duration": 4,
    "start_time": "2023-07-14T15:05:19.915Z"
   }
  ],
  "kernelspec": {
   "display_name": "Python 3 (ipykernel)",
   "language": "python",
   "name": "python3"
  },
  "language_info": {
   "codemirror_mode": {
    "name": "ipython",
    "version": 3
   },
   "file_extension": ".py",
   "mimetype": "text/x-python",
   "name": "python",
   "nbconvert_exporter": "python",
   "pygments_lexer": "ipython3",
   "version": "3.9.5"
  },
  "toc": {
   "base_numbering": 1,
   "nav_menu": {},
   "number_sections": true,
   "sideBar": true,
   "skip_h1_title": true,
   "title_cell": "Table of Contents",
   "title_sidebar": "Contents",
   "toc_cell": false,
   "toc_position": {
    "height": "calc(100% - 180px)",
    "left": "10px",
    "top": "150px",
    "width": "399.391px"
   },
   "toc_section_display": true,
   "toc_window_display": false
  }
 },
 "nbformat": 4,
 "nbformat_minor": 4
}
