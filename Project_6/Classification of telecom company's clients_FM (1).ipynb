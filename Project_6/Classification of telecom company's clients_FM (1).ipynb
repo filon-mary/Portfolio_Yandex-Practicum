{
 "cells": [
  {
   "cell_type": "markdown",
   "metadata": {},
   "source": [
    "# Рекомендация тарифов"
   ]
  },
  {
   "cell_type": "markdown",
   "metadata": {},
   "source": [
    "В нашем распоряжении данные о поведении клиентов, которые уже перешли на эти тарифы (из проекта \"Определение выгодного тарифа для телеком компании\" курса «Статистический анализ данных»). Нужно построить модель для задачи классификации, которая выберет подходящий тариф. Предобработка данных не понадобится — мы её уже сделали.\n",
    "\n",
    "Необходимо построить модель с максимально большим значением *accuracy*. Чтобы сдать проект успешно, нужно довести долю правильных ответов по крайней мере до 0.75. Проверим *accuracy* на тестовой выборке самостоятельно."
   ]
  },
  {
   "cell_type": "markdown",
   "metadata": {},
   "source": [
    "# Цель исследования\n",
    "1. Построить модель с максимально большим значением accuracy, которая выберет подходящий тариф.\n",
    "\n",
    "\n",
    "# Ход исследования\n",
    "Данные о поведении клиентов, которые уже перешли на эти тарифы мы получим из файла '/datasets/users_behavior.csv'. О качестве данных нам известно, предобработка данных совершена, поэтому сразу приступим к целям исследования и построению наилучшей модели.<br>\n",
    "\n",
    "Таким образом, исследование пройдёт в шесть этапов:<br>\n",
    "\n",
    "• Обзор данных<br>\n",
    "• Выявление лучшей модели<br>\n",
    "• Проверка качества лучшей модели <br>\n",
    "• Проверка модели на вменяемость<br>\n",
    "• Написание промежуточных выводов<br>\n",
    "• Написание общего вывода<br>"
   ]
  },
  {
   "cell_type": "markdown",
   "metadata": {},
   "source": [
    "## Откройте и изучите файл"
   ]
  },
  {
   "cell_type": "code",
   "execution_count": 2,
   "metadata": {},
   "outputs": [],
   "source": [
    "#Импортируем необходимые библиотеки\n",
    "import pandas as pd\n",
    "import numpy as np\n",
    "import seaborn as sns\n",
    "import matplotlib.pyplot as plt\n",
    "from tqdm import tqdm\n",
    "from sklearn import tree\n",
    "from sklearn.metrics import accuracy_score, confusion_matrix, recall_score, precision_score, f1_score\n",
    "from sklearn.model_selection import train_test_split \n",
    "from sklearn.tree import DecisionTreeClassifier, plot_tree\n",
    "from sklearn.ensemble import RandomForestClassifier\n",
    "from sklearn.linear_model import LogisticRegression\n",
    "from sklearn.dummy import DummyClassifier"
   ]
  },
  {
   "cell_type": "code",
   "execution_count": 3,
   "metadata": {},
   "outputs": [],
   "source": [
    "#Открываем файл с данными и изучаем его\n",
    "try:\n",
    "    data = pd.read_csv('/datasets/users_behavior.csv')\n",
    "except:\n",
    "    pass"
   ]
  },
  {
   "cell_type": "code",
   "execution_count": 3,
   "metadata": {
    "scrolled": true
   },
   "outputs": [
    {
     "name": "stdout",
     "output_type": "stream",
     "text": [
      "<class 'pandas.core.frame.DataFrame'>\n",
      "RangeIndex: 3214 entries, 0 to 3213\n",
      "Data columns (total 5 columns):\n",
      " #   Column    Non-Null Count  Dtype  \n",
      "---  ------    --------------  -----  \n",
      " 0   calls     3214 non-null   float64\n",
      " 1   minutes   3214 non-null   float64\n",
      " 2   messages  3214 non-null   float64\n",
      " 3   mb_used   3214 non-null   float64\n",
      " 4   is_ultra  3214 non-null   int64  \n",
      "dtypes: float64(4), int64(1)\n",
      "memory usage: 125.7 KB\n"
     ]
    }
   ],
   "source": [
    "#Ознакамливаемся с датафреймом\n",
    "data.info()"
   ]
  },
  {
   "cell_type": "code",
   "execution_count": 4,
   "metadata": {},
   "outputs": [
    {
     "data": {
      "text/html": [
       "<div>\n",
       "<style scoped>\n",
       "    .dataframe tbody tr th:only-of-type {\n",
       "        vertical-align: middle;\n",
       "    }\n",
       "\n",
       "    .dataframe tbody tr th {\n",
       "        vertical-align: top;\n",
       "    }\n",
       "\n",
       "    .dataframe thead th {\n",
       "        text-align: right;\n",
       "    }\n",
       "</style>\n",
       "<table border=\"1\" class=\"dataframe\">\n",
       "  <thead>\n",
       "    <tr style=\"text-align: right;\">\n",
       "      <th></th>\n",
       "      <th>calls</th>\n",
       "      <th>minutes</th>\n",
       "      <th>messages</th>\n",
       "      <th>mb_used</th>\n",
       "      <th>is_ultra</th>\n",
       "    </tr>\n",
       "  </thead>\n",
       "  <tbody>\n",
       "    <tr>\n",
       "      <th>count</th>\n",
       "      <td>3214.000000</td>\n",
       "      <td>3214.000000</td>\n",
       "      <td>3214.000000</td>\n",
       "      <td>3214.000000</td>\n",
       "      <td>3214.000000</td>\n",
       "    </tr>\n",
       "    <tr>\n",
       "      <th>mean</th>\n",
       "      <td>63.038892</td>\n",
       "      <td>438.208787</td>\n",
       "      <td>38.281269</td>\n",
       "      <td>17207.673836</td>\n",
       "      <td>0.306472</td>\n",
       "    </tr>\n",
       "    <tr>\n",
       "      <th>std</th>\n",
       "      <td>33.236368</td>\n",
       "      <td>234.569872</td>\n",
       "      <td>36.148326</td>\n",
       "      <td>7570.968246</td>\n",
       "      <td>0.461100</td>\n",
       "    </tr>\n",
       "    <tr>\n",
       "      <th>min</th>\n",
       "      <td>0.000000</td>\n",
       "      <td>0.000000</td>\n",
       "      <td>0.000000</td>\n",
       "      <td>0.000000</td>\n",
       "      <td>0.000000</td>\n",
       "    </tr>\n",
       "    <tr>\n",
       "      <th>25%</th>\n",
       "      <td>40.000000</td>\n",
       "      <td>274.575000</td>\n",
       "      <td>9.000000</td>\n",
       "      <td>12491.902500</td>\n",
       "      <td>0.000000</td>\n",
       "    </tr>\n",
       "    <tr>\n",
       "      <th>50%</th>\n",
       "      <td>62.000000</td>\n",
       "      <td>430.600000</td>\n",
       "      <td>30.000000</td>\n",
       "      <td>16943.235000</td>\n",
       "      <td>0.000000</td>\n",
       "    </tr>\n",
       "    <tr>\n",
       "      <th>75%</th>\n",
       "      <td>82.000000</td>\n",
       "      <td>571.927500</td>\n",
       "      <td>57.000000</td>\n",
       "      <td>21424.700000</td>\n",
       "      <td>1.000000</td>\n",
       "    </tr>\n",
       "    <tr>\n",
       "      <th>max</th>\n",
       "      <td>244.000000</td>\n",
       "      <td>1632.060000</td>\n",
       "      <td>224.000000</td>\n",
       "      <td>49745.730000</td>\n",
       "      <td>1.000000</td>\n",
       "    </tr>\n",
       "  </tbody>\n",
       "</table>\n",
       "</div>"
      ],
      "text/plain": [
       "             calls      minutes     messages       mb_used     is_ultra\n",
       "count  3214.000000  3214.000000  3214.000000   3214.000000  3214.000000\n",
       "mean     63.038892   438.208787    38.281269  17207.673836     0.306472\n",
       "std      33.236368   234.569872    36.148326   7570.968246     0.461100\n",
       "min       0.000000     0.000000     0.000000      0.000000     0.000000\n",
       "25%      40.000000   274.575000     9.000000  12491.902500     0.000000\n",
       "50%      62.000000   430.600000    30.000000  16943.235000     0.000000\n",
       "75%      82.000000   571.927500    57.000000  21424.700000     1.000000\n",
       "max     244.000000  1632.060000   224.000000  49745.730000     1.000000"
      ]
     },
     "execution_count": 4,
     "metadata": {},
     "output_type": "execute_result"
    }
   ],
   "source": [
    "data.describe()"
   ]
  },
  {
   "cell_type": "code",
   "execution_count": 5,
   "metadata": {
    "scrolled": true
   },
   "outputs": [
    {
     "data": {
      "text/html": [
       "<div>\n",
       "<style scoped>\n",
       "    .dataframe tbody tr th:only-of-type {\n",
       "        vertical-align: middle;\n",
       "    }\n",
       "\n",
       "    .dataframe tbody tr th {\n",
       "        vertical-align: top;\n",
       "    }\n",
       "\n",
       "    .dataframe thead th {\n",
       "        text-align: right;\n",
       "    }\n",
       "</style>\n",
       "<table border=\"1\" class=\"dataframe\">\n",
       "  <thead>\n",
       "    <tr style=\"text-align: right;\">\n",
       "      <th></th>\n",
       "      <th>calls</th>\n",
       "      <th>minutes</th>\n",
       "      <th>messages</th>\n",
       "      <th>mb_used</th>\n",
       "      <th>is_ultra</th>\n",
       "    </tr>\n",
       "  </thead>\n",
       "  <tbody>\n",
       "    <tr>\n",
       "      <th>0</th>\n",
       "      <td>40.0</td>\n",
       "      <td>311.90</td>\n",
       "      <td>83.0</td>\n",
       "      <td>19915.42</td>\n",
       "      <td>0</td>\n",
       "    </tr>\n",
       "    <tr>\n",
       "      <th>1</th>\n",
       "      <td>85.0</td>\n",
       "      <td>516.75</td>\n",
       "      <td>56.0</td>\n",
       "      <td>22696.96</td>\n",
       "      <td>0</td>\n",
       "    </tr>\n",
       "    <tr>\n",
       "      <th>2</th>\n",
       "      <td>77.0</td>\n",
       "      <td>467.66</td>\n",
       "      <td>86.0</td>\n",
       "      <td>21060.45</td>\n",
       "      <td>0</td>\n",
       "    </tr>\n",
       "    <tr>\n",
       "      <th>3</th>\n",
       "      <td>106.0</td>\n",
       "      <td>745.53</td>\n",
       "      <td>81.0</td>\n",
       "      <td>8437.39</td>\n",
       "      <td>1</td>\n",
       "    </tr>\n",
       "    <tr>\n",
       "      <th>4</th>\n",
       "      <td>66.0</td>\n",
       "      <td>418.74</td>\n",
       "      <td>1.0</td>\n",
       "      <td>14502.75</td>\n",
       "      <td>0</td>\n",
       "    </tr>\n",
       "  </tbody>\n",
       "</table>\n",
       "</div>"
      ],
      "text/plain": [
       "   calls  minutes  messages   mb_used  is_ultra\n",
       "0   40.0   311.90      83.0  19915.42         0\n",
       "1   85.0   516.75      56.0  22696.96         0\n",
       "2   77.0   467.66      86.0  21060.45         0\n",
       "3  106.0   745.53      81.0   8437.39         1\n",
       "4   66.0   418.74       1.0  14502.75         0"
      ]
     },
     "execution_count": 5,
     "metadata": {},
     "output_type": "execute_result"
    }
   ],
   "source": [
    "data.head()"
   ]
  },
  {
   "cell_type": "code",
   "execution_count": 6,
   "metadata": {},
   "outputs": [
    {
     "name": "stdout",
     "output_type": "stream",
     "text": [
      "(3214, 5)\n"
     ]
    }
   ],
   "source": [
    "print(data.shape)"
   ]
  },
  {
   "cell_type": "code",
   "execution_count": 7,
   "metadata": {
    "scrolled": true
   },
   "outputs": [
    {
     "data": {
      "image/png": "[encoded data removed]",
      "text/plain": [
       "<Figure size 432x288 with 1 Axes>"
      ]
     },
     "metadata": {
      "needs_background": "light"
     },
     "output_type": "display_data"
    }
   ],
   "source": [
    "#Проверяем датасет на сбалансированность классов\n",
    "xx  = data['is_ultra'].value_counts().reset_index()\n",
    "sns.barplot(x='index', y='is_ultra', data=xx, palette='cividis');"
   ]
  },
  {
   "cell_type": "markdown",
   "metadata": {},
   "source": [
    "Набор данных несбалансирован. "
   ]
  },
  {
   "cell_type": "code",
   "execution_count": 8,
   "metadata": {
    "scrolled": true
   },
   "outputs": [
    {
     "data": {
      "text/html": [
       "<div>\n",
       "<style scoped>\n",
       "    .dataframe tbody tr th:only-of-type {\n",
       "        vertical-align: middle;\n",
       "    }\n",
       "\n",
       "    .dataframe tbody tr th {\n",
       "        vertical-align: top;\n",
       "    }\n",
       "\n",
       "    .dataframe thead th {\n",
       "        text-align: right;\n",
       "    }\n",
       "</style>\n",
       "<table border=\"1\" class=\"dataframe\">\n",
       "  <thead>\n",
       "    <tr style=\"text-align: right;\">\n",
       "      <th></th>\n",
       "      <th>calls</th>\n",
       "      <th>minutes</th>\n",
       "      <th>messages</th>\n",
       "      <th>mb_used</th>\n",
       "      <th>is_ultra</th>\n",
       "    </tr>\n",
       "  </thead>\n",
       "  <tbody>\n",
       "    <tr>\n",
       "      <th>calls</th>\n",
       "      <td>1.000000</td>\n",
       "      <td>0.982083</td>\n",
       "      <td>0.177385</td>\n",
       "      <td>0.286442</td>\n",
       "      <td>0.207122</td>\n",
       "    </tr>\n",
       "    <tr>\n",
       "      <th>minutes</th>\n",
       "      <td>0.982083</td>\n",
       "      <td>1.000000</td>\n",
       "      <td>0.173110</td>\n",
       "      <td>0.280967</td>\n",
       "      <td>0.206955</td>\n",
       "    </tr>\n",
       "    <tr>\n",
       "      <th>messages</th>\n",
       "      <td>0.177385</td>\n",
       "      <td>0.173110</td>\n",
       "      <td>1.000000</td>\n",
       "      <td>0.195721</td>\n",
       "      <td>0.203830</td>\n",
       "    </tr>\n",
       "    <tr>\n",
       "      <th>mb_used</th>\n",
       "      <td>0.286442</td>\n",
       "      <td>0.280967</td>\n",
       "      <td>0.195721</td>\n",
       "      <td>1.000000</td>\n",
       "      <td>0.198568</td>\n",
       "    </tr>\n",
       "    <tr>\n",
       "      <th>is_ultra</th>\n",
       "      <td>0.207122</td>\n",
       "      <td>0.206955</td>\n",
       "      <td>0.203830</td>\n",
       "      <td>0.198568</td>\n",
       "      <td>1.000000</td>\n",
       "    </tr>\n",
       "  </tbody>\n",
       "</table>\n",
       "</div>"
      ],
      "text/plain": [
       "             calls   minutes  messages   mb_used  is_ultra\n",
       "calls     1.000000  0.982083  0.177385  0.286442  0.207122\n",
       "minutes   0.982083  1.000000  0.173110  0.280967  0.206955\n",
       "messages  0.177385  0.173110  1.000000  0.195721  0.203830\n",
       "mb_used   0.286442  0.280967  0.195721  1.000000  0.198568\n",
       "is_ultra  0.207122  0.206955  0.203830  0.198568  1.000000"
      ]
     },
     "execution_count": 8,
     "metadata": {},
     "output_type": "execute_result"
    }
   ],
   "source": [
    "#Находим коэффициент корреляции для всего датасета\n",
    "data.corr()"
   ]
  },
  {
   "cell_type": "markdown",
   "metadata": {},
   "source": [
    "###  Вывод:\n",
    "Мы ознакомились с представленным датафреймом и изучили его. Всего в датафрейме 3 214 строки и 5 столбцов. Так же импортировали необходимые библиотеки и функции."
   ]
  },
  {
   "cell_type": "markdown",
   "metadata": {},
   "source": [
    "## Разбейте данные на выборки"
   ]
  },
  {
   "cell_type": "code",
   "execution_count": 9,
   "metadata": {},
   "outputs": [
    {
     "name": "stdout",
     "output_type": "stream",
     "text": [
      "Размер обучающей выборки:\n",
      "(1928, 4)\n",
      "(1928,)\n"
     ]
    }
   ],
   "source": [
    "#Объявим две переменные\n",
    "features = data.drop(['is_ultra'], axis=1)\n",
    "target = data['is_ultra']\n",
    "\n",
    "#Разбиваем исходные данные на обучающую, валидационную и тестовую выборки \n",
    "#Обучающая выборка\n",
    "features_train, features_test, target_train, target_test = train_test_split(\n",
    "    features, target, test_size=0.4, random_state=12345, stratify=target)\n",
    "\n",
    "#Проверяем размер выборки\n",
    "print('Размер обучающей выборки:')\n",
    "print(features_train.shape)\n",
    "print(target_train.shape)"
   ]
  },
  {
   "cell_type": "code",
   "execution_count": 10,
   "metadata": {},
   "outputs": [
    {
     "name": "stdout",
     "output_type": "stream",
     "text": [
      "Размер валидационной выборки:\n",
      "(643, 4)\n",
      "(643,)\n",
      "\n",
      "Размер тестовой выборки:\n",
      "(643, 4)\n",
      "(643,)\n"
     ]
    }
   ],
   "source": [
    "#Валидационная и тестовая выборки\n",
    "features_valid, features_test, target_valid, target_test = train_test_split(\n",
    "    features_test, target_test, test_size=0.5, random_state=12345, stratify=target_test)\n",
    "\n",
    "#Проверяем размер выборок\n",
    "print('Размер валидационной выборки:')\n",
    "print(features_valid.shape)\n",
    "print(target_valid.shape)\n",
    "\n",
    "print()\n",
    "\n",
    "print('Размер тестовой выборки:')\n",
    "print(features_test.shape)\n",
    "print(target_test.shape)"
   ]
  },
  {
   "cell_type": "markdown",
   "metadata": {},
   "source": [
    "###  Вывод:\n",
    "Мы разделили исходные данные на обучающую, валидационную и тестовую выборки в соотношении 3:1:1 (обучающая выборка - 60% от датасета, валидационная и тестовая выборки по 20%, соответственно). "
   ]
  },
  {
   "cell_type": "markdown",
   "metadata": {},
   "source": [
    "## Исследуйте модели"
   ]
  },
  {
   "cell_type": "markdown",
   "metadata": {},
   "source": [
    "### Решающее дерево"
   ]
  },
  {
   "cell_type": "code",
   "execution_count": 11,
   "metadata": {},
   "outputs": [
    {
     "name": "stdout",
     "output_type": "stream",
     "text": [
      "Accuracy лучшей модели: 0.7853810264385692 Глубина дерева: 5\n"
     ]
    }
   ],
   "source": [
    "#Исследуем качество решающего дерева на валидационной выборке\n",
    "best_model_dt = None\n",
    "best_result_dt = 0\n",
    "best_depth_dt = 0\n",
    "for depth in range(1, 6):\n",
    "    model = DecisionTreeClassifier(random_state=12345, max_depth=depth)\n",
    "    model.fit(features_train, target_train)\n",
    "    predictions = model.predict(features_valid)\n",
    "    result = model.score(features_valid, target_valid)\n",
    "    if result > best_result_dt:\n",
    "        best_model_dt = model\n",
    "        best_result_dt = result\n",
    "        best_depth_dt = depth\n",
    "        \n",
    "print('Accuracy лучшей модели:', best_result_dt, 'Глубина дерева:', best_depth_dt)    "
   ]
  },
  {
   "cell_type": "code",
   "execution_count": 12,
   "metadata": {
    "scrolled": true
   },
   "outputs": [
    {
     "data": {
      "image/png": "[encoded data removed]",
      "text/plain": [
       "<Figure size 1080x1080 with 1 Axes>"
      ]
     },
     "metadata": {
      "needs_background": "light"
     },
     "output_type": "display_data"
    }
   ],
   "source": [
    "#Строим tree_plot\n",
    "tree_plot = tree.DecisionTreeClassifier(max_depth=3) \n",
    "tree_plot.fit(features_train, target_train)\n",
    "\n",
    "plt.figure(figsize=(15,15)) \n",
    "tree.plot_tree(tree_plot, fontsize=10)\n",
    "plt.show()"
   ]
  },
  {
   "cell_type": "code",
   "execution_count": 15,
   "metadata": {},
   "outputs": [
    {
     "data": {
      "image/png": "[encoded data removed]",
      "text/plain": [
       "<Figure size 2520x1440 with 1 Axes>"
      ]
     },
     "metadata": {
      "needs_background": "light"
     },
     "output_type": "display_data"
    }
   ],
   "source": [
    "from sklearn import tree\n",
    "import matplotlib.pyplot as plt\n",
    "fig = plt.figure(figsize=(35,20))\n",
    "_ = tree.plot_tree(best_model_dt, \n",
    "               feature_names=features.columns.values, \n",
    "               class_names=['Smart','Ultra'],\n",
    "               filled=True,\n",
    "               fontsize = 15,\n",
    "               max_depth = 3)"
   ]
  },
  {
   "cell_type": "markdown",
   "metadata": {},
   "source": [
    "Метрика качества (accuracy) лучшей модели решающего дерева на валидационной выборке является 0.78 при глубине дерева 5. "
   ]
  },
  {
   "cell_type": "markdown",
   "metadata": {},
   "source": [
    "### Случайный лес"
   ]
  },
  {
   "cell_type": "code",
   "execution_count": 289,
   "metadata": {},
   "outputs": [
    {
     "name": "stderr",
     "output_type": "stream",
     "text": [
      "100%|██████████| 10/10 [00:01<00:00,  5.26it/s]"
     ]
    },
    {
     "name": "stdout",
     "output_type": "stream",
     "text": [
      "Accuracy наилучшей модели на валидационной выборке: 0.807153965785381\n",
      "Количество деревьев: 6\n",
      "Максимальная глубина: 10\n"
     ]
    },
    {
     "name": "stderr",
     "output_type": "stream",
     "text": [
      "\n"
     ]
    }
   ],
   "source": [
    "#Исследуем качество случайного леса на валидационной выборке\n",
    "best_model_rf = None\n",
    "best_result_rf = 0\n",
    "best_est_rf = 0\n",
    "best_depth_rf = 0\n",
    "for est in tqdm (range(1, 11)):\n",
    "    for depth in range (1, 11):\n",
    "        model = RandomForestClassifier(random_state=12345, n_estimators=est, max_depth=depth)\n",
    "        model.fit(features_train, target_train) \n",
    "        predictions_valid = model.predict(features_valid) \n",
    "        result = model.score(features_valid, target_valid) \n",
    "        if result > best_result_rf:\n",
    "            best_model_rf = model\n",
    "            best_result_rf = result\n",
    "            best_est_rf = est\n",
    "            best_depth_rf = depth\n",
    "\n",
    "print('Accuracy наилучшей модели на валидационной выборке:', best_result_rf)\n",
    "print('Количество деревьев:', best_est_rf)\n",
    "print('Максимальная глубина:', depth)"
   ]
  },
  {
   "cell_type": "markdown",
   "metadata": {},
   "source": [
    "Accuracy наилучшей модели случайного леса на валидационной выборке: 0.81, при количестве деревьев 6 и глубине дерева 10."
   ]
  },
  {
   "cell_type": "markdown",
   "metadata": {},
   "source": [
    "### Логистическая регрессия"
   ]
  },
  {
   "cell_type": "code",
   "execution_count": 290,
   "metadata": {},
   "outputs": [
    {
     "name": "stdout",
     "output_type": "stream",
     "text": [
      "Accuracy наилучшей модели: 0.7387247278382582\n"
     ]
    }
   ],
   "source": [
    "#Исследуем качество логистической регрессии на валидационной выборке\n",
    "model_lg = LogisticRegression(random_state=12345, solver='lbfgs', max_iter=1000)\n",
    "model_lg.fit(features_train, target_train) \n",
    "model_lg.predict(features_valid)\n",
    "model_lg.score(features_valid, target_valid)\n",
    "\n",
    "print('Accuracy наилучшей модели:', model_lg.score(features_valid, target_valid))"
   ]
  },
  {
   "cell_type": "markdown",
   "metadata": {},
   "source": [
    "Accuracy наилучшей модели логистической регрессии на валидационной выборке: 0.74."
   ]
  },
  {
   "cell_type": "markdown",
   "metadata": {},
   "source": [
    "### Вывод:\n",
    "Мы исследовали качество разных моделей, меняя гиперпараметры. <br>\n",
    "Наилучшей моделью оказался случайный лес - Accuracy наилучшей модели на валидационной выборке составляет: 0.807153965785381.<br>\n",
    "Второй по значимости моделью является решающий лес - Accuracy лучшей модели: 0.7853810264385692.<br>\n",
    "Замыкающей моделью является логистическая регрессия - Accuracy наилучшей модели 0.7387247278382582.<br>"
   ]
  },
  {
   "cell_type": "markdown",
   "metadata": {},
   "source": [
    "## Проверьте модель на тестовой выборке"
   ]
  },
  {
   "cell_type": "code",
   "execution_count": 291,
   "metadata": {},
   "outputs": [
    {
     "name": "stdout",
     "output_type": "stream",
     "text": [
      "Accuracy модели: 0.8087091757387247\n"
     ]
    }
   ],
   "source": [
    "#Наилучшей моделью по Accuracy оказался случайный лес, поэтому случайный лес будем проверять на тестовой выборке\n",
    "model = RandomForestClassifier(random_state=12345, max_depth = 10, n_estimators=6) \n",
    "model.fit(features_train, target_train)\n",
    "model.predict(features_test)\n",
    "model.score(features_test, target_test)\n",
    "\n",
    "print('Accuracy модели:', model.score(features_test, target_test))"
   ]
  },
  {
   "cell_type": "markdown",
   "metadata": {},
   "source": [
    "### Вывод:\n",
    "Мы проверили модель на теcтовой выборке. <br>\n",
    "Выявили, что наилучшей моделью по Accuracy оказался случайный лес, поэтому случайный лес мы проверили на тестовой выборке. Accuracy модели случайного леса на тестовой выборке составляет: 0.8087091757387247."
   ]
  },
  {
   "cell_type": "markdown",
   "metadata": {},
   "source": [
    "## Проверяем качество модели на тестовой выборке по нескольким метрикам"
   ]
  },
  {
   "cell_type": "code",
   "execution_count": 293,
   "metadata": {},
   "outputs": [
    {
     "data": {
      "text/plain": [
       "array([[413,  33],\n",
       "       [ 90, 107]])"
      ]
     },
     "execution_count": 293,
     "metadata": {},
     "output_type": "execute_result"
    }
   ],
   "source": [
    "#Проверила качество с помощью матрицы путаницы (Confusion_matrix) на тестовой выборке \n",
    "confusion_matrix(target_test, model.predict(features_test))"
   ]
  },
  {
   "cell_type": "code",
   "execution_count": 300,
   "metadata": {},
   "outputs": [
    {
     "name": "stdout",
     "output_type": "stream",
     "text": [
      "0.7926796364669129\n",
      "\n",
      "0.8087091757387247\n",
      "\n",
      "0.8036751055541888\n",
      "\n",
      "[0.82107356 0.76428571]\n"
     ]
    }
   ],
   "source": [
    "#Проверила качество с помощью precision на тестовой выборке \n",
    "print(precision_score(target_test, model.predict(features_test), average='macro'))\n",
    "print()\n",
    "print(precision_score(target_test, model.predict(features_test), average='micro'))\n",
    "print()\n",
    "print(precision_score(target_test, model.predict(features_test), average='weighted'))\n",
    "print()\n",
    "print(precision_score(target_test, model.predict(features_test), average=None))"
   ]
  },
  {
   "cell_type": "code",
   "execution_count": 299,
   "metadata": {},
   "outputs": [
    {
     "name": "stdout",
     "output_type": "stream",
     "text": [
      "0.7345780883658464\n",
      "\n",
      "0.8087091757387247\n",
      "\n",
      "0.8087091757387247\n",
      "\n",
      "[0.92600897 0.54314721]\n"
     ]
    }
   ],
   "source": [
    "#Проверила качество с помощью recall на тестовой выборке \n",
    "print(recall_score(target_test, model.predict(features_test), average='macro'))\n",
    "print()\n",
    "print(recall_score(target_test, model.predict(features_test), average='micro'))\n",
    "print()\n",
    "print(recall_score(target_test, model.predict(features_test), average='weighted'))\n",
    "print()\n",
    "print(recall_score(target_test, model.predict(features_test), average=None))"
   ]
  },
  {
   "cell_type": "code",
   "execution_count": 301,
   "metadata": {
    "scrolled": true
   },
   "outputs": [
    {
     "name": "stdout",
     "output_type": "stream",
     "text": [
      "0.7527023604418832\n",
      "\n",
      "0.8087091757387247\n",
      "\n",
      "0.7982765336736269\n",
      "\n",
      "[0.87038988 0.63501484]\n"
     ]
    }
   ],
   "source": [
    "#Проверила качество с помощью F1 на тестовой выборке \n",
    "print(f1_score(target_test, model.predict(features_test), average='macro'))\n",
    "print()\n",
    "print(f1_score(target_test, model.predict(features_test), average='micro'))\n",
    "print()\n",
    "print(f1_score(target_test, model.predict(features_test), average='weighted'))\n",
    "print()\n",
    "print(f1_score(target_test, model.predict(features_test), average=None))"
   ]
  },
  {
   "cell_type": "markdown",
   "metadata": {},
   "source": [
    "### Вывод:\n",
    "Мы проверили качество модели с помощью метрик: precision, recall, F1 и confussion matrix. Показатели метрик находятся ближе к 1, что говори нам о том, что модель качественная. "
   ]
  },
  {
   "cell_type": "markdown",
   "metadata": {},
   "source": [
    "## (бонус) Проверьте модели на адекватность"
   ]
  },
  {
   "cell_type": "code",
   "execution_count": 275,
   "metadata": {},
   "outputs": [
    {
     "name": "stdout",
     "output_type": "stream",
     "text": [
      "Accuracy модели DummyClassifier: 0.6936236391912908\n"
     ]
    }
   ],
   "source": [
    "#Для проверки на адекватность используем DummyClassifier\n",
    "model_dummy = DummyClassifier(random_state=12345, strategy='most_frequent')\n",
    "model_dummy.fit(features_train, target_train) \n",
    "model_dummy.predict(features_valid)\n",
    "model_dummy.score(features_valid, target_valid)\n",
    "\n",
    "print('Accuracy модели DummyClassifier:', model_dummy.score(features_valid, target_valid))"
   ]
  },
  {
   "cell_type": "markdown",
   "metadata": {},
   "source": [
    "### Вывод:\n",
    "Мы проверили модель на адекватность (sanity check) и выявили, что Accuracy модели DummyClassifier, которая составляет 0.7060653188180405 ниже Accuracy модели RandomForestClassifier(случайный лес): 0.80248833592535, что говорит о том, что наша модель адекватна и эффективна.  "
   ]
  },
  {
   "cell_type": "markdown",
   "metadata": {},
   "source": [
    "## Общий вывод:\n",
    "1. Мы ознакомились с представленным датафреймом и изучили его.\n",
    "2. Мы разделили исходные данные на обучающую, валидационную и тестовую выборки в соотношении 3:1:1.\n",
    "3. Мы исследовали качество разных моделей, меняя гиперпараметры:<br>\n",
    "• Наилучшей моделью оказался случайный лес - Accuracy наилучшей модели на валидационной выборке составляет: 0.80248833592535; <br>\n",
    "• Второй по значимости моделью является решающий лес - Accuracy лучшей модели: 0.7853810264385692;<br>\n",
    "• Замыкающей моделью является логистическая регрессия - Accuracy наилучшей модели 0.7107309486780715.<br>\n",
    "4. Мы проверили модель на тестовой выборке: <br>\n",
    "• Выявили, что наилучшей моделью по Accuracy оказался случайный лес, поэтому случайный лес мы проверили на тестовой выборке. Accuracy модели случайного леса на тестовой выборке составляет: 0.8087091757387247.<br>\n",
    "5. Мы проверили модель на адекватность (sanity check): <br>\n",
    "• Accuracy модели DummyClassifier, которая составляет 0.7060653188180405 ниже Accuracy модели RandomForestClassifier: 0.80248833592535, что говорит о том, что наша модель адекватна и эффективна."
   ]
  },
  {
   "cell_type": "markdown",
   "metadata": {},
   "source": [
    "## Чек-лист готовности проекта"
   ]
  },
  {
   "cell_type": "markdown",
   "metadata": {},
   "source": [
    "Поставьте 'x' в выполненных пунктах. Далее нажмите Shift+Enter."
   ]
  },
  {
   "cell_type": "markdown",
   "metadata": {},
   "source": [
    "- [x] Jupyter Notebook открыт\n",
    "- [x] Весь код исполняется без ошибок\n",
    "- [x] Ячейки с кодом расположены в порядке исполнения\n",
    "- [x] Выполнено задание 1: данные загружены и изучены\n",
    "- [x] Выполнено задание 2: данные разбиты на три выборки\n",
    "- [x] Выполнено задание 3: проведено исследование моделей\n",
    "    - [x] Рассмотрено больше одной модели\n",
    "    - [x] Рассмотрено хотя бы 3 значения гипепараметров для какой-нибудь модели\n",
    "    - [x] Написаны выводы по результатам исследования\n",
    "- [x] Выполнено задание 3: Проведено тестирование\n",
    "- [x] Удалось достичь accuracy не меньше 0.75\n"
   ]
  }
 ],
 "metadata": {
  "ExecuteTimeLog": [
   {
    "duration": 1284,
    "start_time": "2023-04-10T13:25:57.594Z"
   },
   {
    "duration": 120,
    "start_time": "2023-04-10T13:25:58.880Z"
   },
   {
    "duration": 12,
    "start_time": "2023-04-10T13:25:59.002Z"
   },
   {
    "duration": 19,
    "start_time": "2023-04-10T13:25:59.062Z"
   },
   {
    "duration": 129,
    "start_time": "2023-04-10T14:18:31.068Z"
   },
   {
    "duration": 4,
    "start_time": "2023-04-10T14:18:38.158Z"
   },
   {
    "duration": 30,
    "start_time": "2023-04-10T14:18:38.382Z"
   },
   {
    "duration": 12,
    "start_time": "2023-04-10T14:18:38.610Z"
   },
   {
    "duration": 11,
    "start_time": "2023-04-10T14:18:39.012Z"
   },
   {
    "duration": 10,
    "start_time": "2023-04-10T14:18:39.782Z"
   },
   {
    "duration": 11,
    "start_time": "2023-04-10T14:19:09.496Z"
   },
   {
    "duration": 8,
    "start_time": "2023-04-10T14:19:11.520Z"
   },
   {
    "duration": 3,
    "start_time": "2023-04-10T14:19:21.298Z"
   },
   {
    "duration": 7,
    "start_time": "2023-04-10T14:39:44.021Z"
   },
   {
    "duration": 202,
    "start_time": "2023-04-10T14:45:45.475Z"
   },
   {
    "duration": 149,
    "start_time": "2023-04-10T14:46:08.043Z"
   },
   {
    "duration": 8,
    "start_time": "2023-04-10T14:46:13.341Z"
   },
   {
    "duration": 7,
    "start_time": "2023-04-10T14:46:21.563Z"
   },
   {
    "duration": 7,
    "start_time": "2023-04-10T14:47:16.833Z"
   },
   {
    "duration": 7,
    "start_time": "2023-04-10T14:47:42.633Z"
   },
   {
    "duration": 7,
    "start_time": "2023-04-10T15:05:13.520Z"
   },
   {
    "duration": 7,
    "start_time": "2023-04-10T15:05:14.171Z"
   },
   {
    "duration": 3,
    "start_time": "2023-04-10T15:21:28.851Z"
   },
   {
    "duration": 76,
    "start_time": "2023-04-10T15:35:45.815Z"
   },
   {
    "duration": 17,
    "start_time": "2023-04-10T15:36:02.559Z"
   },
   {
    "duration": 38,
    "start_time": "2023-04-10T15:36:32.437Z"
   },
   {
    "duration": 32,
    "start_time": "2023-04-10T15:37:55.611Z"
   },
   {
    "duration": 38,
    "start_time": "2023-04-10T15:38:42.006Z"
   },
   {
    "duration": 2,
    "start_time": "2023-04-10T15:48:06.704Z"
   },
   {
    "duration": 33,
    "start_time": "2023-04-10T15:55:27.828Z"
   },
   {
    "duration": 39,
    "start_time": "2023-04-10T15:57:41.725Z"
   },
   {
    "duration": 19,
    "start_time": "2023-04-10T16:11:33.360Z"
   },
   {
    "duration": 16,
    "start_time": "2023-04-10T16:13:20.196Z"
   },
   {
    "duration": 13,
    "start_time": "2023-04-10T16:14:00.736Z"
   },
   {
    "duration": 13,
    "start_time": "2023-04-10T16:14:57.950Z"
   },
   {
    "duration": 17,
    "start_time": "2023-04-10T16:15:27.409Z"
   },
   {
    "duration": 15,
    "start_time": "2023-04-10T16:15:49.265Z"
   },
   {
    "duration": 298,
    "start_time": "2023-04-10T16:16:55.651Z"
   },
   {
    "duration": 207,
    "start_time": "2023-04-10T16:17:23.337Z"
   },
   {
    "duration": 285,
    "start_time": "2023-04-10T16:17:25.925Z"
   },
   {
    "duration": 289,
    "start_time": "2023-04-10T16:17:38.839Z"
   },
   {
    "duration": 296,
    "start_time": "2023-04-10T16:18:18.688Z"
   },
   {
    "duration": 3,
    "start_time": "2023-04-10T16:18:25.246Z"
   },
   {
    "duration": 38,
    "start_time": "2023-04-10T16:18:25.422Z"
   },
   {
    "duration": 10,
    "start_time": "2023-04-10T16:18:25.597Z"
   },
   {
    "duration": 10,
    "start_time": "2023-04-10T16:18:25.768Z"
   },
   {
    "duration": 3,
    "start_time": "2023-04-10T16:18:25.958Z"
   },
   {
    "duration": 9,
    "start_time": "2023-04-10T16:18:26.470Z"
   },
   {
    "duration": 8,
    "start_time": "2023-04-10T16:18:26.630Z"
   },
   {
    "duration": 35,
    "start_time": "2023-04-10T16:18:27.351Z"
   },
   {
    "duration": 38,
    "start_time": "2023-04-10T16:18:27.520Z"
   },
   {
    "duration": 281,
    "start_time": "2023-04-10T16:18:29.115Z"
   },
   {
    "duration": 277,
    "start_time": "2023-04-10T16:19:50.406Z"
   },
   {
    "duration": 349,
    "start_time": "2023-04-10T16:24:00.502Z"
   },
   {
    "duration": 12,
    "start_time": "2023-04-10T16:26:15.107Z"
   },
   {
    "duration": 1897,
    "start_time": "2023-04-10T16:26:32.909Z"
   },
   {
    "duration": 1829,
    "start_time": "2023-04-10T16:28:23.497Z"
   },
   {
    "duration": 2024,
    "start_time": "2023-04-10T16:29:53.851Z"
   },
   {
    "duration": 1917,
    "start_time": "2023-04-10T16:29:55.877Z"
   },
   {
    "duration": 1921,
    "start_time": "2023-04-10T16:44:09.716Z"
   },
   {
    "duration": 29,
    "start_time": "2023-04-10T16:46:14.180Z"
   },
   {
    "duration": 30,
    "start_time": "2023-04-10T16:46:23.039Z"
   },
   {
    "duration": 28,
    "start_time": "2023-04-10T16:47:35.820Z"
   },
   {
    "duration": 1156,
    "start_time": "2023-04-11T11:07:16.513Z"
   },
   {
    "duration": 196,
    "start_time": "2023-04-11T11:07:17.672Z"
   },
   {
    "duration": 31,
    "start_time": "2023-04-11T11:07:17.870Z"
   },
   {
    "duration": 45,
    "start_time": "2023-04-11T11:07:17.904Z"
   },
   {
    "duration": 8,
    "start_time": "2023-04-11T11:07:17.950Z"
   },
   {
    "duration": 56,
    "start_time": "2023-04-11T11:07:17.959Z"
   },
   {
    "duration": 9,
    "start_time": "2023-04-11T11:07:18.130Z"
   },
   {
    "duration": 35,
    "start_time": "2023-04-11T11:07:23.914Z"
   },
   {
    "duration": 85,
    "start_time": "2023-04-11T11:07:24.140Z"
   },
   {
    "duration": 2248,
    "start_time": "2023-04-11T11:07:25.287Z"
   },
   {
    "duration": 21,
    "start_time": "2023-04-11T11:07:27.537Z"
   },
   {
    "duration": 5,
    "start_time": "2023-04-11T11:07:28.000Z"
   },
   {
    "duration": 44,
    "start_time": "2023-04-11T11:12:17.100Z"
   },
   {
    "duration": 4,
    "start_time": "2023-04-11T13:57:55.626Z"
   },
   {
    "duration": 27,
    "start_time": "2023-04-11T13:57:55.784Z"
   },
   {
    "duration": 10,
    "start_time": "2023-04-11T13:57:55.977Z"
   },
   {
    "duration": 9,
    "start_time": "2023-04-11T13:57:56.158Z"
   },
   {
    "duration": 3,
    "start_time": "2023-04-11T13:57:56.335Z"
   },
   {
    "duration": 8,
    "start_time": "2023-04-11T13:57:56.853Z"
   },
   {
    "duration": 5,
    "start_time": "2023-04-11T13:57:57.022Z"
   },
   {
    "duration": 31,
    "start_time": "2023-04-11T13:57:57.717Z"
   },
   {
    "duration": 32,
    "start_time": "2023-04-11T13:57:57.900Z"
   },
   {
    "duration": 1977,
    "start_time": "2023-04-11T13:57:58.435Z"
   },
   {
    "duration": 21,
    "start_time": "2023-04-11T13:58:00.414Z"
   },
   {
    "duration": 63,
    "start_time": "2023-04-11T13:58:00.437Z"
   },
   {
    "duration": 13,
    "start_time": "2023-04-11T14:09:51.532Z"
   },
   {
    "duration": 5,
    "start_time": "2023-04-11T14:10:41.653Z"
   },
   {
    "duration": 3,
    "start_time": "2023-04-11T14:38:11.302Z"
   },
   {
    "duration": 25,
    "start_time": "2023-04-11T14:38:11.995Z"
   },
   {
    "duration": 9,
    "start_time": "2023-04-11T14:38:15.016Z"
   },
   {
    "duration": 9,
    "start_time": "2023-04-11T14:38:15.749Z"
   },
   {
    "duration": 3,
    "start_time": "2023-04-11T14:38:17.133Z"
   },
   {
    "duration": 8,
    "start_time": "2023-04-11T14:38:20.195Z"
   },
   {
    "duration": 9,
    "start_time": "2023-04-11T14:38:20.990Z"
   },
   {
    "duration": 37,
    "start_time": "2023-04-11T14:38:23.761Z"
   },
   {
    "duration": 42,
    "start_time": "2023-04-11T14:38:24.445Z"
   },
   {
    "duration": 1797,
    "start_time": "2023-04-11T14:38:26.347Z"
   },
   {
    "duration": 33,
    "start_time": "2023-04-11T14:38:39.795Z"
   },
   {
    "duration": 51,
    "start_time": "2023-04-11T14:38:44.301Z"
   },
   {
    "duration": 7,
    "start_time": "2023-04-11T14:38:46.305Z"
   },
   {
    "duration": 2575,
    "start_time": "2023-04-11T14:57:46.376Z"
   },
   {
    "duration": 62,
    "start_time": "2023-04-11T14:57:48.953Z"
   },
   {
    "duration": 14,
    "start_time": "2023-04-11T14:57:49.017Z"
   },
   {
    "duration": 43,
    "start_time": "2023-04-11T14:57:49.033Z"
   },
   {
    "duration": 7,
    "start_time": "2023-04-11T14:57:49.077Z"
   },
   {
    "duration": 20,
    "start_time": "2023-04-11T14:57:49.086Z"
   },
   {
    "duration": 24,
    "start_time": "2023-04-11T14:57:49.108Z"
   },
   {
    "duration": 49,
    "start_time": "2023-04-11T14:57:49.134Z"
   },
   {
    "duration": 39,
    "start_time": "2023-04-11T14:57:49.185Z"
   },
   {
    "duration": 1943,
    "start_time": "2023-04-11T14:57:49.226Z"
   },
   {
    "duration": 31,
    "start_time": "2023-04-11T14:57:51.170Z"
   },
   {
    "duration": 63,
    "start_time": "2023-04-11T14:57:51.203Z"
   },
   {
    "duration": 6,
    "start_time": "2023-04-11T14:57:51.268Z"
   },
   {
    "duration": 1217,
    "start_time": "2023-04-12T11:37:15.639Z"
   },
   {
    "duration": 125,
    "start_time": "2023-04-12T11:37:16.858Z"
   },
   {
    "duration": 12,
    "start_time": "2023-04-12T11:37:17.636Z"
   },
   {
    "duration": 18,
    "start_time": "2023-04-12T11:37:18.064Z"
   },
   {
    "duration": 21,
    "start_time": "2023-04-12T11:37:31.564Z"
   },
   {
    "duration": 16,
    "start_time": "2023-04-12T11:50:15.681Z"
   },
   {
    "duration": 488,
    "start_time": "2023-04-12T11:56:59.257Z"
   },
   {
    "duration": 31,
    "start_time": "2023-04-12T11:57:00.867Z"
   },
   {
    "duration": 13,
    "start_time": "2023-04-12T11:57:01.945Z"
   },
   {
    "duration": 22,
    "start_time": "2023-04-12T11:57:02.517Z"
   },
   {
    "duration": 10,
    "start_time": "2023-04-12T11:57:03.105Z"
   },
   {
    "duration": 3,
    "start_time": "2023-04-12T11:57:04.051Z"
   },
   {
    "duration": 151,
    "start_time": "2023-04-12T11:57:04.703Z"
   },
   {
    "duration": 12,
    "start_time": "2023-04-12T11:57:24.750Z"
   },
   {
    "duration": 98,
    "start_time": "2023-04-12T11:57:29.803Z"
   },
   {
    "duration": 9,
    "start_time": "2023-04-12T12:18:08.925Z"
   },
   {
    "duration": 12,
    "start_time": "2023-04-12T12:22:26.878Z"
   },
   {
    "duration": 17,
    "start_time": "2023-04-12T12:22:33.533Z"
   },
   {
    "duration": 13,
    "start_time": "2023-04-12T12:22:41.952Z"
   },
   {
    "duration": 17,
    "start_time": "2023-04-12T12:23:30.524Z"
   },
   {
    "duration": 16,
    "start_time": "2023-04-12T12:25:12.152Z"
   },
   {
    "duration": 10,
    "start_time": "2023-04-12T12:39:32.904Z"
   },
   {
    "duration": 8,
    "start_time": "2023-04-12T12:49:41.828Z"
   },
   {
    "duration": 38,
    "start_time": "2023-04-12T13:00:04.326Z"
   },
   {
    "duration": 2,
    "start_time": "2023-04-12T13:03:48.670Z"
   },
   {
    "duration": 1967,
    "start_time": "2023-04-12T13:04:45.126Z"
   },
   {
    "duration": 2003,
    "start_time": "2023-04-12T13:05:18.127Z"
   },
   {
    "duration": 3,
    "start_time": "2023-04-12T13:05:27.492Z"
   },
   {
    "duration": 29,
    "start_time": "2023-04-12T13:05:27.976Z"
   },
   {
    "duration": 10,
    "start_time": "2023-04-12T13:05:28.283Z"
   },
   {
    "duration": 25,
    "start_time": "2023-04-12T13:05:28.474Z"
   },
   {
    "duration": 12,
    "start_time": "2023-04-12T13:05:28.661Z"
   },
   {
    "duration": 3,
    "start_time": "2023-04-12T13:05:28.815Z"
   },
   {
    "duration": 87,
    "start_time": "2023-04-12T13:05:28.964Z"
   },
   {
    "duration": 12,
    "start_time": "2023-04-12T13:05:29.356Z"
   },
   {
    "duration": 9,
    "start_time": "2023-04-12T13:05:30.104Z"
   },
   {
    "duration": 7,
    "start_time": "2023-04-12T13:05:30.244Z"
   },
   {
    "duration": 36,
    "start_time": "2023-04-12T13:05:31.242Z"
   },
   {
    "duration": 3,
    "start_time": "2023-04-12T13:05:31.922Z"
   },
   {
    "duration": 1928,
    "start_time": "2023-04-12T13:05:34.270Z"
   },
   {
    "duration": 1895,
    "start_time": "2023-04-12T13:10:51.064Z"
   },
   {
    "duration": 1910,
    "start_time": "2023-04-12T13:10:55.484Z"
   },
   {
    "duration": 1900,
    "start_time": "2023-04-12T13:11:12.237Z"
   },
   {
    "duration": 1859,
    "start_time": "2023-04-12T13:11:22.030Z"
   },
   {
    "duration": 34,
    "start_time": "2023-04-12T13:14:15.654Z"
   },
   {
    "duration": 3,
    "start_time": "2023-04-12T13:30:23.867Z"
   },
   {
    "duration": 29,
    "start_time": "2023-04-12T13:30:24.365Z"
   },
   {
    "duration": 9,
    "start_time": "2023-04-12T13:30:24.676Z"
   },
   {
    "duration": 22,
    "start_time": "2023-04-12T13:30:24.838Z"
   },
   {
    "duration": 9,
    "start_time": "2023-04-12T13:30:25.018Z"
   },
   {
    "duration": 3,
    "start_time": "2023-04-12T13:30:25.188Z"
   },
   {
    "duration": 82,
    "start_time": "2023-04-12T13:30:25.338Z"
   },
   {
    "duration": 9,
    "start_time": "2023-04-12T13:30:25.667Z"
   },
   {
    "duration": 9,
    "start_time": "2023-04-12T13:30:27.167Z"
   },
   {
    "duration": 7,
    "start_time": "2023-04-12T13:30:27.343Z"
   },
   {
    "duration": 35,
    "start_time": "2023-04-12T13:30:28.965Z"
   },
   {
    "duration": 8,
    "start_time": "2023-04-12T13:31:54.874Z"
   },
   {
    "duration": 3,
    "start_time": "2023-04-12T13:33:09.002Z"
   },
   {
    "duration": 29,
    "start_time": "2023-04-12T13:33:09.447Z"
   },
   {
    "duration": 12,
    "start_time": "2023-04-12T13:33:09.770Z"
   },
   {
    "duration": 21,
    "start_time": "2023-04-12T13:33:09.927Z"
   },
   {
    "duration": 9,
    "start_time": "2023-04-12T13:33:10.083Z"
   },
   {
    "duration": 3,
    "start_time": "2023-04-12T13:33:10.236Z"
   },
   {
    "duration": 84,
    "start_time": "2023-04-12T13:33:10.378Z"
   },
   {
    "duration": 10,
    "start_time": "2023-04-12T13:33:10.681Z"
   },
   {
    "duration": 8,
    "start_time": "2023-04-12T13:33:11.477Z"
   },
   {
    "duration": 7,
    "start_time": "2023-04-12T13:33:11.631Z"
   },
   {
    "duration": 36,
    "start_time": "2023-04-12T13:33:13.295Z"
   },
   {
    "duration": 875,
    "start_time": "2023-04-12T13:33:13.849Z"
   },
   {
    "duration": 828,
    "start_time": "2023-04-12T13:33:27.547Z"
   },
   {
    "duration": 856,
    "start_time": "2023-04-12T13:33:33.397Z"
   },
   {
    "duration": 920,
    "start_time": "2023-04-12T13:33:45.131Z"
   },
   {
    "duration": 1028,
    "start_time": "2023-04-12T13:33:53.674Z"
   },
   {
    "duration": 981,
    "start_time": "2023-04-12T13:34:04.590Z"
   },
   {
    "duration": 957,
    "start_time": "2023-04-12T13:34:13.820Z"
   },
   {
    "duration": 915,
    "start_time": "2023-04-12T13:34:21.371Z"
   },
   {
    "duration": 926,
    "start_time": "2023-04-12T13:34:27.679Z"
   },
   {
    "duration": 990,
    "start_time": "2023-04-12T13:34:32.567Z"
   },
   {
    "duration": 3,
    "start_time": "2023-04-12T13:41:29.487Z"
   },
   {
    "duration": 27,
    "start_time": "2023-04-12T13:41:29.977Z"
   },
   {
    "duration": 11,
    "start_time": "2023-04-12T13:41:30.334Z"
   },
   {
    "duration": 21,
    "start_time": "2023-04-12T13:41:30.479Z"
   },
   {
    "duration": 12,
    "start_time": "2023-04-12T13:41:30.657Z"
   },
   {
    "duration": 3,
    "start_time": "2023-04-12T13:41:30.800Z"
   },
   {
    "duration": 169,
    "start_time": "2023-04-12T13:41:30.969Z"
   },
   {
    "duration": 9,
    "start_time": "2023-04-12T13:41:31.263Z"
   },
   {
    "duration": 7,
    "start_time": "2023-04-12T13:41:32.198Z"
   },
   {
    "duration": 7,
    "start_time": "2023-04-12T13:41:32.366Z"
   },
   {
    "duration": 39,
    "start_time": "2023-04-12T13:41:33.379Z"
   },
   {
    "duration": 940,
    "start_time": "2023-04-12T13:41:33.964Z"
   },
   {
    "duration": 3,
    "start_time": "2023-04-12T13:41:34.905Z"
   },
   {
    "duration": 545,
    "start_time": "2023-04-12T13:44:19.178Z"
   },
   {
    "duration": 517,
    "start_time": "2023-04-12T13:44:26.072Z"
   },
   {
    "duration": 495,
    "start_time": "2023-04-12T13:44:31.970Z"
   },
   {
    "duration": 1986,
    "start_time": "2023-04-12T14:01:42.927Z"
   },
   {
    "duration": 4,
    "start_time": "2023-04-12T14:02:55.274Z"
   },
   {
    "duration": 28,
    "start_time": "2023-04-12T14:02:57.015Z"
   },
   {
    "duration": 12,
    "start_time": "2023-04-12T14:02:57.263Z"
   },
   {
    "duration": 21,
    "start_time": "2023-04-12T14:02:57.425Z"
   },
   {
    "duration": 9,
    "start_time": "2023-04-12T14:02:57.583Z"
   },
   {
    "duration": 3,
    "start_time": "2023-04-12T14:02:57.708Z"
   },
   {
    "duration": 85,
    "start_time": "2023-04-12T14:02:57.863Z"
   },
   {
    "duration": 10,
    "start_time": "2023-04-12T14:02:58.159Z"
   },
   {
    "duration": 8,
    "start_time": "2023-04-12T14:02:58.946Z"
   },
   {
    "duration": 7,
    "start_time": "2023-04-12T14:02:59.101Z"
   },
   {
    "duration": 37,
    "start_time": "2023-04-12T14:03:00.127Z"
   },
   {
    "duration": 529,
    "start_time": "2023-04-12T14:03:00.798Z"
   },
   {
    "duration": 2,
    "start_time": "2023-04-12T14:03:01.329Z"
   },
   {
    "duration": 1966,
    "start_time": "2023-04-12T14:03:03.790Z"
   },
   {
    "duration": 7,
    "start_time": "2023-04-12T19:28:04.232Z"
   },
   {
    "duration": 4,
    "start_time": "2023-04-12T20:22:05.000Z"
   },
   {
    "duration": 28,
    "start_time": "2023-04-12T20:22:07.142Z"
   },
   {
    "duration": 10,
    "start_time": "2023-04-12T20:22:07.445Z"
   },
   {
    "duration": 21,
    "start_time": "2023-04-12T20:22:07.624Z"
   },
   {
    "duration": 9,
    "start_time": "2023-04-12T20:22:07.748Z"
   },
   {
    "duration": 3,
    "start_time": "2023-04-12T20:22:07.913Z"
   },
   {
    "duration": 87,
    "start_time": "2023-04-12T20:22:08.063Z"
   },
   {
    "duration": 10,
    "start_time": "2023-04-12T20:22:08.374Z"
   },
   {
    "duration": 9,
    "start_time": "2023-04-12T20:22:09.210Z"
   },
   {
    "duration": 7,
    "start_time": "2023-04-12T20:22:09.380Z"
   },
   {
    "duration": 37,
    "start_time": "2023-04-12T20:22:10.386Z"
   },
   {
    "duration": 514,
    "start_time": "2023-04-12T20:22:10.904Z"
   },
   {
    "duration": 3,
    "start_time": "2023-04-12T20:22:11.420Z"
   },
   {
    "duration": 1998,
    "start_time": "2023-04-12T20:22:11.951Z"
   },
   {
    "duration": 37,
    "start_time": "2023-04-12T20:22:13.951Z"
   },
   {
    "duration": 42,
    "start_time": "2023-04-12T20:22:15.848Z"
   },
   {
    "duration": 7,
    "start_time": "2023-04-12T20:22:17.875Z"
   },
   {
    "duration": 4,
    "start_time": "2023-04-12T20:24:54.609Z"
   },
   {
    "duration": 28,
    "start_time": "2023-04-12T20:31:11.926Z"
   },
   {
    "duration": 10,
    "start_time": "2023-04-12T20:31:12.250Z"
   },
   {
    "duration": 20,
    "start_time": "2023-04-12T20:31:12.441Z"
   },
   {
    "duration": 9,
    "start_time": "2023-04-12T20:31:12.612Z"
   },
   {
    "duration": 3,
    "start_time": "2023-04-12T20:31:12.737Z"
   },
   {
    "duration": 90,
    "start_time": "2023-04-12T20:31:12.897Z"
   },
   {
    "duration": 11,
    "start_time": "2023-04-12T20:31:13.207Z"
   },
   {
    "duration": 8,
    "start_time": "2023-04-12T20:31:14.002Z"
   },
   {
    "duration": 7,
    "start_time": "2023-04-12T20:31:14.189Z"
   },
   {
    "duration": 37,
    "start_time": "2023-04-12T20:31:15.885Z"
   },
   {
    "duration": 512,
    "start_time": "2023-04-12T20:31:16.413Z"
   },
   {
    "duration": 3,
    "start_time": "2023-04-12T20:31:16.927Z"
   },
   {
    "duration": 1954,
    "start_time": "2023-04-12T20:31:17.472Z"
   },
   {
    "duration": 46,
    "start_time": "2023-04-12T20:31:19.428Z"
   },
   {
    "duration": 43,
    "start_time": "2023-04-12T20:31:20.960Z"
   },
   {
    "duration": 78,
    "start_time": "2023-04-12T20:34:42.971Z"
   },
   {
    "duration": 11,
    "start_time": "2023-04-12T20:46:15.775Z"
   },
   {
    "duration": 7,
    "start_time": "2023-04-12T20:46:41.595Z"
   },
   {
    "duration": 6,
    "start_time": "2023-04-12T20:46:45.643Z"
   },
   {
    "duration": 58,
    "start_time": "2023-04-12T20:50:19.776Z"
   },
   {
    "duration": 37,
    "start_time": "2023-04-12T20:52:04.777Z"
   },
   {
    "duration": 14,
    "start_time": "2023-04-12T20:52:43.305Z"
   },
   {
    "duration": 13,
    "start_time": "2023-04-12T20:53:01.269Z"
   },
   {
    "duration": 38,
    "start_time": "2023-04-12T20:53:07.077Z"
   },
   {
    "duration": 492,
    "start_time": "2023-04-12T20:53:07.610Z"
   },
   {
    "duration": 3,
    "start_time": "2023-04-12T20:53:08.103Z"
   },
   {
    "duration": 1954,
    "start_time": "2023-04-12T20:53:08.533Z"
   },
   {
    "duration": 33,
    "start_time": "2023-04-12T20:53:10.489Z"
   },
   {
    "duration": 59,
    "start_time": "2023-04-12T20:53:10.523Z"
   },
   {
    "duration": 2,
    "start_time": "2023-04-12T20:53:11.285Z"
   },
   {
    "duration": 1932,
    "start_time": "2023-04-12T20:53:11.488Z"
   },
   {
    "duration": 28,
    "start_time": "2023-04-12T20:53:13.422Z"
   },
   {
    "duration": 0,
    "start_time": "2023-04-12T20:53:13.452Z"
   },
   {
    "duration": 15,
    "start_time": "2023-04-12T20:53:35.087Z"
   },
   {
    "duration": 3,
    "start_time": "2023-04-12T20:53:43.405Z"
   },
   {
    "duration": 28,
    "start_time": "2023-04-12T20:53:43.896Z"
   },
   {
    "duration": 10,
    "start_time": "2023-04-12T20:53:44.275Z"
   },
   {
    "duration": 25,
    "start_time": "2023-04-12T20:53:44.440Z"
   },
   {
    "duration": 12,
    "start_time": "2023-04-12T20:53:44.613Z"
   },
   {
    "duration": 3,
    "start_time": "2023-04-12T20:53:44.736Z"
   },
   {
    "duration": 82,
    "start_time": "2023-04-12T20:53:44.894Z"
   },
   {
    "duration": 9,
    "start_time": "2023-04-12T20:53:45.229Z"
   },
   {
    "duration": 8,
    "start_time": "2023-04-12T20:53:46.158Z"
   },
   {
    "duration": 8,
    "start_time": "2023-04-12T20:53:46.652Z"
   },
   {
    "duration": 37,
    "start_time": "2023-04-12T20:53:47.287Z"
   },
   {
    "duration": 572,
    "start_time": "2023-04-12T20:53:47.814Z"
   },
   {
    "duration": 2,
    "start_time": "2023-04-12T20:53:48.388Z"
   },
   {
    "duration": 1897,
    "start_time": "2023-04-12T20:53:48.910Z"
   },
   {
    "duration": 32,
    "start_time": "2023-04-12T20:53:51.560Z"
   },
   {
    "duration": 41,
    "start_time": "2023-04-12T20:53:53.331Z"
   },
   {
    "duration": 3,
    "start_time": "2023-04-12T20:53:55.336Z"
   },
   {
    "duration": 1913,
    "start_time": "2023-04-12T20:53:56.078Z"
   },
   {
    "duration": 22,
    "start_time": "2023-04-12T20:53:57.993Z"
   },
   {
    "duration": 5,
    "start_time": "2023-04-12T20:55:06.372Z"
   },
   {
    "duration": 28,
    "start_time": "2023-04-12T20:55:06.855Z"
   },
   {
    "duration": 11,
    "start_time": "2023-04-12T20:55:07.204Z"
   },
   {
    "duration": 22,
    "start_time": "2023-04-12T20:55:07.374Z"
   },
   {
    "duration": 10,
    "start_time": "2023-04-12T20:55:07.572Z"
   },
   {
    "duration": 3,
    "start_time": "2023-04-12T20:55:07.741Z"
   },
   {
    "duration": 85,
    "start_time": "2023-04-12T20:55:07.944Z"
   },
   {
    "duration": 10,
    "start_time": "2023-04-12T20:55:08.288Z"
   },
   {
    "duration": 8,
    "start_time": "2023-04-12T20:55:09.161Z"
   },
   {
    "duration": 8,
    "start_time": "2023-04-12T20:55:09.372Z"
   },
   {
    "duration": 37,
    "start_time": "2023-04-12T20:55:10.411Z"
   },
   {
    "duration": 503,
    "start_time": "2023-04-12T20:55:10.955Z"
   },
   {
    "duration": 2,
    "start_time": "2023-04-12T20:55:11.460Z"
   },
   {
    "duration": 1932,
    "start_time": "2023-04-12T20:55:12.079Z"
   },
   {
    "duration": 40,
    "start_time": "2023-04-12T20:55:14.561Z"
   },
   {
    "duration": 48,
    "start_time": "2023-04-12T20:55:17.049Z"
   },
   {
    "duration": 3,
    "start_time": "2023-04-12T20:55:19.247Z"
   },
   {
    "duration": 1919,
    "start_time": "2023-04-12T20:55:19.935Z"
   },
   {
    "duration": 16,
    "start_time": "2023-04-12T20:55:21.856Z"
   },
   {
    "duration": 15,
    "start_time": "2023-04-12T20:55:51.967Z"
   },
   {
    "duration": 16,
    "start_time": "2023-04-12T20:57:44.415Z"
   },
   {
    "duration": 16,
    "start_time": "2023-04-12T20:57:50.525Z"
   },
   {
    "duration": 45,
    "start_time": "2023-04-12T20:58:02.447Z"
   },
   {
    "duration": 2,
    "start_time": "2023-04-12T20:58:05.390Z"
   },
   {
    "duration": 21,
    "start_time": "2023-04-12T20:58:06.074Z"
   },
   {
    "duration": 12,
    "start_time": "2023-04-12T20:58:07.140Z"
   },
   {
    "duration": 4,
    "start_time": "2023-04-12T21:00:56.250Z"
   },
   {
    "duration": 29,
    "start_time": "2023-04-12T21:00:56.733Z"
   },
   {
    "duration": 11,
    "start_time": "2023-04-12T21:00:57.081Z"
   },
   {
    "duration": 22,
    "start_time": "2023-04-12T21:00:57.257Z"
   },
   {
    "duration": 8,
    "start_time": "2023-04-12T21:00:57.411Z"
   },
   {
    "duration": 3,
    "start_time": "2023-04-12T21:00:57.595Z"
   },
   {
    "duration": 88,
    "start_time": "2023-04-12T21:00:57.732Z"
   },
   {
    "duration": 9,
    "start_time": "2023-04-12T21:00:58.053Z"
   },
   {
    "duration": 8,
    "start_time": "2023-04-12T21:00:58.915Z"
   },
   {
    "duration": 7,
    "start_time": "2023-04-12T21:00:59.081Z"
   },
   {
    "duration": 39,
    "start_time": "2023-04-12T21:01:00.050Z"
   },
   {
    "duration": 534,
    "start_time": "2023-04-12T21:01:00.571Z"
   },
   {
    "duration": 2,
    "start_time": "2023-04-12T21:01:01.107Z"
   },
   {
    "duration": 1976,
    "start_time": "2023-04-12T21:01:01.538Z"
   },
   {
    "duration": 43,
    "start_time": "2023-04-12T21:01:03.516Z"
   },
   {
    "duration": 42,
    "start_time": "2023-04-12T21:01:03.620Z"
   },
   {
    "duration": 3,
    "start_time": "2023-04-12T21:01:04.629Z"
   },
   {
    "duration": 15,
    "start_time": "2023-04-12T21:01:05.232Z"
   },
   {
    "duration": 12,
    "start_time": "2023-04-12T21:01:06.196Z"
   },
   {
    "duration": 53,
    "start_time": "2023-04-12T21:01:41.071Z"
   },
   {
    "duration": 212,
    "start_time": "2023-04-12T21:01:54.429Z"
   },
   {
    "duration": 54,
    "start_time": "2023-04-12T21:01:57.351Z"
   },
   {
    "duration": 41,
    "start_time": "2023-04-12T21:02:06.246Z"
   },
   {
    "duration": 3,
    "start_time": "2023-04-12T22:11:38.992Z"
   },
   {
    "duration": 29,
    "start_time": "2023-04-12T22:11:39.500Z"
   },
   {
    "duration": 10,
    "start_time": "2023-04-12T22:11:39.866Z"
   },
   {
    "duration": 21,
    "start_time": "2023-04-12T22:11:40.011Z"
   },
   {
    "duration": 9,
    "start_time": "2023-04-12T22:11:40.185Z"
   },
   {
    "duration": 3,
    "start_time": "2023-04-12T22:11:40.315Z"
   },
   {
    "duration": 83,
    "start_time": "2023-04-12T22:11:40.661Z"
   },
   {
    "duration": 9,
    "start_time": "2023-04-12T22:11:40.997Z"
   },
   {
    "duration": 7,
    "start_time": "2023-04-12T22:11:41.775Z"
   },
   {
    "duration": 6,
    "start_time": "2023-04-12T22:11:41.952Z"
   },
   {
    "duration": 34,
    "start_time": "2023-04-12T22:11:42.971Z"
   },
   {
    "duration": 499,
    "start_time": "2023-04-12T22:11:43.482Z"
   },
   {
    "duration": 2,
    "start_time": "2023-04-12T22:11:43.983Z"
   },
   {
    "duration": 1933,
    "start_time": "2023-04-12T22:11:44.541Z"
   },
   {
    "duration": 30,
    "start_time": "2023-04-12T22:11:46.476Z"
   },
   {
    "duration": 41,
    "start_time": "2023-04-12T22:11:47.564Z"
   },
   {
    "duration": 3,
    "start_time": "2023-04-12T22:11:48.441Z"
   },
   {
    "duration": 16,
    "start_time": "2023-04-12T22:11:48.661Z"
   },
   {
    "duration": 11,
    "start_time": "2023-04-12T22:11:48.880Z"
   },
   {
    "duration": 34,
    "start_time": "2023-04-12T22:12:22.699Z"
   },
   {
    "duration": 15,
    "start_time": "2023-04-12T22:13:49.889Z"
   },
   {
    "duration": 10,
    "start_time": "2023-04-12T22:14:57.557Z"
   },
   {
    "duration": 8,
    "start_time": "2023-04-12T22:15:59.193Z"
   },
   {
    "duration": 7,
    "start_time": "2023-04-12T22:16:16.159Z"
   },
   {
    "duration": 7,
    "start_time": "2023-04-12T22:16:20.141Z"
   },
   {
    "duration": 3,
    "start_time": "2023-04-13T00:32:47.006Z"
   },
   {
    "duration": 4,
    "start_time": "2023-04-13T00:32:53.435Z"
   },
   {
    "duration": 28,
    "start_time": "2023-04-13T00:32:54.189Z"
   },
   {
    "duration": 10,
    "start_time": "2023-04-13T00:32:54.545Z"
   },
   {
    "duration": 20,
    "start_time": "2023-04-13T00:32:54.727Z"
   },
   {
    "duration": 9,
    "start_time": "2023-04-13T00:32:54.903Z"
   },
   {
    "duration": 3,
    "start_time": "2023-04-13T00:32:55.088Z"
   },
   {
    "duration": 82,
    "start_time": "2023-04-13T00:32:55.237Z"
   },
   {
    "duration": 10,
    "start_time": "2023-04-13T00:32:55.568Z"
   },
   {
    "duration": 8,
    "start_time": "2023-04-13T00:32:56.472Z"
   },
   {
    "duration": 7,
    "start_time": "2023-04-13T00:32:56.663Z"
   },
   {
    "duration": 35,
    "start_time": "2023-04-13T00:32:57.760Z"
   },
   {
    "duration": 476,
    "start_time": "2023-04-13T00:32:58.263Z"
   },
   {
    "duration": 7,
    "start_time": "2023-04-13T00:32:58.741Z"
   },
   {
    "duration": 1943,
    "start_time": "2023-04-13T00:32:59.382Z"
   },
   {
    "duration": 43,
    "start_time": "2023-04-13T00:33:01.326Z"
   },
   {
    "duration": 35,
    "start_time": "2023-04-13T00:33:01.694Z"
   },
   {
    "duration": 2,
    "start_time": "2023-04-13T00:33:02.401Z"
   },
   {
    "duration": 8,
    "start_time": "2023-04-13T00:33:02.591Z"
   },
   {
    "duration": 7,
    "start_time": "2023-04-13T00:33:02.765Z"
   },
   {
    "duration": 6,
    "start_time": "2023-04-13T00:33:03.175Z"
   },
   {
    "duration": 3,
    "start_time": "2023-04-13T00:35:36.271Z"
   },
   {
    "duration": 43,
    "start_time": "2023-04-13T00:35:36.276Z"
   },
   {
    "duration": 10,
    "start_time": "2023-04-13T00:35:36.530Z"
   },
   {
    "duration": 20,
    "start_time": "2023-04-13T00:35:36.682Z"
   },
   {
    "duration": 8,
    "start_time": "2023-04-13T00:35:36.847Z"
   },
   {
    "duration": 3,
    "start_time": "2023-04-13T00:35:37.031Z"
   },
   {
    "duration": 84,
    "start_time": "2023-04-13T00:35:37.181Z"
   },
   {
    "duration": 9,
    "start_time": "2023-04-13T00:35:37.500Z"
   },
   {
    "duration": 9,
    "start_time": "2023-04-13T00:35:38.312Z"
   },
   {
    "duration": 8,
    "start_time": "2023-04-13T00:35:38.491Z"
   },
   {
    "duration": 37,
    "start_time": "2023-04-13T00:35:39.512Z"
   },
   {
    "duration": 496,
    "start_time": "2023-04-13T00:35:39.986Z"
   },
   {
    "duration": 3,
    "start_time": "2023-04-13T00:35:40.483Z"
   },
   {
    "duration": 1907,
    "start_time": "2023-04-13T00:35:41.060Z"
   },
   {
    "duration": 30,
    "start_time": "2023-04-13T00:35:42.968Z"
   },
   {
    "duration": 34,
    "start_time": "2023-04-13T00:35:43.441Z"
   },
   {
    "duration": 2,
    "start_time": "2023-04-13T00:35:44.177Z"
   },
   {
    "duration": 8,
    "start_time": "2023-04-13T00:35:44.499Z"
   },
   {
    "duration": 2,
    "start_time": "2023-04-13T00:35:44.708Z"
   },
   {
    "duration": 2,
    "start_time": "2023-04-13T00:35:44.927Z"
   },
   {
    "duration": 2,
    "start_time": "2023-04-13T00:35:45.834Z"
   },
   {
    "duration": 2,
    "start_time": "2023-04-13T00:39:26.939Z"
   },
   {
    "duration": 17,
    "start_time": "2023-04-13T00:45:02.711Z"
   },
   {
    "duration": 21,
    "start_time": "2023-04-13T00:45:19.148Z"
   },
   {
    "duration": 21,
    "start_time": "2023-04-13T00:46:16.332Z"
   },
   {
    "duration": 21,
    "start_time": "2023-04-13T00:47:00.898Z"
   },
   {
    "duration": 1756,
    "start_time": "2023-04-14T10:45:39.778Z"
   },
   {
    "duration": 95,
    "start_time": "2023-04-14T10:45:41.537Z"
   },
   {
    "duration": 14,
    "start_time": "2023-04-14T10:45:41.633Z"
   },
   {
    "duration": 31,
    "start_time": "2023-04-14T10:45:41.650Z"
   },
   {
    "duration": 31,
    "start_time": "2023-04-14T10:45:41.683Z"
   },
   {
    "duration": 3,
    "start_time": "2023-04-14T10:45:41.716Z"
   },
   {
    "duration": 118,
    "start_time": "2023-04-14T10:45:41.721Z"
   },
   {
    "duration": 12,
    "start_time": "2023-04-14T10:45:41.842Z"
   },
   {
    "duration": 9,
    "start_time": "2023-04-14T10:45:42.725Z"
   },
   {
    "duration": 13,
    "start_time": "2023-04-14T10:45:42.907Z"
   },
   {
    "duration": 68,
    "start_time": "2023-04-14T10:45:44.079Z"
   },
   {
    "duration": 644,
    "start_time": "2023-04-14T10:45:44.613Z"
   },
   {
    "duration": 65,
    "start_time": "2023-04-14T10:45:57.565Z"
   },
   {
    "duration": 140,
    "start_time": "2023-04-14T10:46:07.607Z"
   },
   {
    "duration": 1291,
    "start_time": "2023-04-14T10:47:34.235Z"
   },
   {
    "duration": 11,
    "start_time": "2023-04-14T10:59:02.667Z"
   },
   {
    "duration": 12,
    "start_time": "2023-04-14T10:59:13.565Z"
   },
   {
    "duration": 6,
    "start_time": "2023-04-14T10:59:19.034Z"
   },
   {
    "duration": 25,
    "start_time": "2023-04-14T10:59:23.712Z"
   }
  ],
  "kernelspec": {
   "display_name": "Python 3 (ipykernel)",
   "language": "python",
   "name": "python3"
  },
  "language_info": {
   "codemirror_mode": {
    "name": "ipython",
    "version": 3
   },
   "file_extension": ".py",
   "mimetype": "text/x-python",
   "name": "python",
   "nbconvert_exporter": "python",
   "pygments_lexer": "ipython3",
   "version": "3.9.5"
  },
  "toc": {
   "base_numbering": 1,
   "nav_menu": {},
   "number_sections": true,
   "sideBar": true,
   "skip_h1_title": true,
   "title_cell": "Table of Contents",
   "title_sidebar": "Contents",
   "toc_cell": false,
   "toc_position": {},
   "toc_section_display": true,
   "toc_window_display": false
  }
 },
 "nbformat": 4,
 "nbformat_minor": 4
}
