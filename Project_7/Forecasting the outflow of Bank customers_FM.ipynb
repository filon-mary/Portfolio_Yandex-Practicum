{
 "cells": [
  {
   "cell_type": "markdown",
   "metadata": {
    "toc": true
   },
   "source": [
    "<h1>Содержание<span class=\"tocSkip\"></span></h1>\n",
    "<div class=\"toc\"><ul class=\"toc-item\"><li><span><a href=\"#Подготовка-данных\" data-toc-modified-id=\"Подготовка-данных-1\"><span class=\"toc-item-num\">1&nbsp;&nbsp;</span>Подготовка данных</a></span><ul class=\"toc-item\"><li><span><a href=\"#Вывод\" data-toc-modified-id=\"Вывод-1.1\"><span class=\"toc-item-num\">1.1&nbsp;&nbsp;</span>Вывод</a></span></li></ul></li><li><span><a href=\"#Разбиваем-данные-на-выборки-и-продолжаем-подготавливать-данные\" data-toc-modified-id=\"Разбиваем-данные-на-выборки-и-продолжаем-подготавливать-данные-2\"><span class=\"toc-item-num\">2&nbsp;&nbsp;</span>Разбиваем данные на выборки и продолжаем подготавливать данные</a></span><ul class=\"toc-item\"><li><span><a href=\"#Вывод:\" data-toc-modified-id=\"Вывод:-2.1\"><span class=\"toc-item-num\">2.1&nbsp;&nbsp;</span>Вывод:</a></span></li></ul></li><li><span><a href=\"#Исследование-задачи\" data-toc-modified-id=\"Исследование-задачи-3\"><span class=\"toc-item-num\">3&nbsp;&nbsp;</span>Исследование задачи</a></span><ul class=\"toc-item\"><li><span><a href=\"#Обучим-модели-без-учёта-дисбаланса\" data-toc-modified-id=\"Обучим-модели-без-учёта-дисбаланса-3.1\"><span class=\"toc-item-num\">3.1&nbsp;&nbsp;</span>Обучим модели без учёта дисбаланса</a></span></li><li><span><a href=\"#Вывод:\" data-toc-modified-id=\"Вывод:-3.2\"><span class=\"toc-item-num\">3.2&nbsp;&nbsp;</span>Вывод:</a></span></li></ul></li><li><span><a href=\"#Борьба-с-дисбалансом\" data-toc-modified-id=\"Борьба-с-дисбалансом-4\"><span class=\"toc-item-num\">4&nbsp;&nbsp;</span>Борьба с дисбалансом</a></span><ul class=\"toc-item\"><li><span><a href=\"#Взвешивание-классов\" data-toc-modified-id=\"Взвешивание-классов-4.1\"><span class=\"toc-item-num\">4.1&nbsp;&nbsp;</span>Взвешивание классов</a></span></li><li><span><a href=\"#Увеличение-выборки-(upsampling)\" data-toc-modified-id=\"Увеличение-выборки-(upsampling)-4.2\"><span class=\"toc-item-num\">4.2&nbsp;&nbsp;</span>Увеличение выборки (upsampling)</a></span></li><li><span><a href=\"#Уменьшение-выборки-(downsampling)\" data-toc-modified-id=\"Уменьшение-выборки-(downsampling)-4.3\"><span class=\"toc-item-num\">4.3&nbsp;&nbsp;</span>Уменьшение выборки (downsampling)</a></span></li><li><span><a href=\"#Вывод:\" data-toc-modified-id=\"Вывод:-4.4\"><span class=\"toc-item-num\">4.4&nbsp;&nbsp;</span>Вывод:</a></span></li></ul></li><li><span><a href=\"#Тестирование-модели\" data-toc-modified-id=\"Тестирование-модели-5\"><span class=\"toc-item-num\">5&nbsp;&nbsp;</span>Тестирование модели</a></span><ul class=\"toc-item\"><li><span><a href=\"#Вывод:\" data-toc-modified-id=\"Вывод:-5.1\"><span class=\"toc-item-num\">5.1&nbsp;&nbsp;</span>Вывод:</a></span></li></ul></li><li><span><a href=\"#Общий-вывод:\" data-toc-modified-id=\"Общий-вывод:-6\"><span class=\"toc-item-num\">6&nbsp;&nbsp;</span>Общий вывод:</a></span></li><li><span><a href=\"#Чек-лист-готовности-проекта\" data-toc-modified-id=\"Чек-лист-готовности-проекта-7\"><span class=\"toc-item-num\">7&nbsp;&nbsp;</span>Чек-лист готовности проекта</a></span></li></ul></div>"
   ]
  },
  {
   "cell_type": "markdown",
   "metadata": {},
   "source": [
    "# Отток клиентов"
   ]
  },
  {
   "cell_type": "markdown",
   "metadata": {},
   "source": [
    "Из «Бета-Банка» стали уходить клиенты. Каждый месяц. Немного, но заметно. Банковские маркетологи посчитали: сохранять текущих клиентов дешевле, чем привлекать новых.\n",
    "\n",
    "Нужно спрогнозировать, уйдёт клиент из банка в ближайшее время или нет. Нам предоставлены исторические данные о поведении клиентов и расторжении договоров с банком. \n",
    "\n",
    "Необходимо построить модель с предельно большим значением *F1*-меры. Чтобы сдать проект успешно, нужно довести метрику до 0.59. Необходимо проверить *F1*-меру на тестовой выборке самостоятельно.\n",
    "\n",
    "Дополнительно измеряя *AUC-ROC*, сравнивая её значение с *F1*-мерой."
   ]
  },
  {
   "cell_type": "markdown",
   "metadata": {},
   "source": [
    "# Цель исследования\n",
    "1. Построить модель с максимально большим значением F1-меры, которая спрогнозирует уход клиента из банка.\n",
    "\n",
    "\n",
    "# Ход исследования\n",
    "Данные о поведении клиентов, которые уже перешли на эти тарифы мы получим из файла '/datasets/Churn.csv'. О качестве данных ничего не известно, поэтому перед тем, как приступать к целям исследования, понадобится обзор данных. Мы проверим данные на ошибки.. Затем, на этапе предобработки мы будем искать возможность исправить все ошибки в данных, которые не приведут к искажению конечного результата. Далее приступим к целям исследования и построению наилучшей модели.<br>\n",
    "\n",
    "Таким образом, исследование пройдёт в восемь этапов:<br>\n",
    "\n",
    "• Обзор данных<br>\n",
    "• Предобработка данных<br>\n",
    "• Исследования баланса классов<br>\n",
    "• Улучшение качества модели с учетом дисбаланса классов<br>\n",
    "• Выявление лучшей модели<br>\n",
    "• Написание промежуточных выводов<br>\n",
    "• Проведение финального тестирования<br>\n",
    "• Написание общего вывода"
   ]
  },
  {
   "cell_type": "markdown",
   "metadata": {},
   "source": [
    "## Подготовка данных"
   ]
  },
  {
   "cell_type": "code",
   "execution_count": 40,
   "metadata": {},
   "outputs": [],
   "source": [
    "#Импортируем необходимые библиотеки\n",
    "import pandas as pd\n",
    "from tqdm import tqdm\n",
    "from sklearn.utils import shuffle\n",
    "from sklearn.metrics import confusion_matrix, f1_score, ConfusionMatrixDisplay, roc_auc_score\n",
    "from sklearn.preprocessing import StandardScaler \n",
    "from sklearn.model_selection import train_test_split \n",
    "from sklearn.tree import DecisionTreeClassifier\n",
    "from sklearn.ensemble import RandomForestClassifier\n",
    "from sklearn.linear_model import LogisticRegression"
   ]
  },
  {
   "cell_type": "code",
   "execution_count": 41,
   "metadata": {},
   "outputs": [],
   "source": [
    "#Открываем файл с данными и изучаем его\n",
    "try:\n",
    "    data = pd.read_csv('/datasets/Churn.csv')\n",
    "except:\n",
    "    pass"
   ]
  },
  {
   "cell_type": "code",
   "execution_count": 42,
   "metadata": {},
   "outputs": [
    {
     "name": "stdout",
     "output_type": "stream",
     "text": [
      "<class 'pandas.core.frame.DataFrame'>\n",
      "RangeIndex: 10000 entries, 0 to 9999\n",
      "Data columns (total 14 columns):\n",
      " #   Column           Non-Null Count  Dtype  \n",
      "---  ------           --------------  -----  \n",
      " 0   RowNumber        10000 non-null  int64  \n",
      " 1   CustomerId       10000 non-null  int64  \n",
      " 2   Surname          10000 non-null  object \n",
      " 3   CreditScore      10000 non-null  int64  \n",
      " 4   Geography        10000 non-null  object \n",
      " 5   Gender           10000 non-null  object \n",
      " 6   Age              10000 non-null  int64  \n",
      " 7   Tenure           9091 non-null   float64\n",
      " 8   Balance          10000 non-null  float64\n",
      " 9   NumOfProducts    10000 non-null  int64  \n",
      " 10  HasCrCard        10000 non-null  int64  \n",
      " 11  IsActiveMember   10000 non-null  int64  \n",
      " 12  EstimatedSalary  10000 non-null  float64\n",
      " 13  Exited           10000 non-null  int64  \n",
      "dtypes: float64(3), int64(8), object(3)\n",
      "memory usage: 1.1+ MB\n"
     ]
    }
   ],
   "source": [
    "#Ознакамливаемся с датафреймом\n",
    "data.info() "
   ]
  },
  {
   "cell_type": "code",
   "execution_count": 43,
   "metadata": {},
   "outputs": [
    {
     "data": {
      "text/plain": [
       "RowNumber            0\n",
       "CustomerId           0\n",
       "Surname              0\n",
       "CreditScore          0\n",
       "Geography            0\n",
       "Gender               0\n",
       "Age                  0\n",
       "Tenure             909\n",
       "Balance              0\n",
       "NumOfProducts        0\n",
       "HasCrCard            0\n",
       "IsActiveMember       0\n",
       "EstimatedSalary      0\n",
       "Exited               0\n",
       "dtype: int64"
      ]
     },
     "execution_count": 43,
     "metadata": {},
     "output_type": "execute_result"
    }
   ],
   "source": [
    "#Находим количество пропущенных значений в столбцах и изучаем их\n",
    "data.isna().sum()"
   ]
  },
  {
   "cell_type": "code",
   "execution_count": 44,
   "metadata": {},
   "outputs": [
    {
     "data": {
      "text/html": [
       "<style  type=\"text/css\" >\n",
       "#T_f3006_row0_col0,#T_f3006_row1_col0,#T_f3006_row2_col0,#T_f3006_row3_col0,#T_f3006_row4_col0,#T_f3006_row5_col0,#T_f3006_row6_col0,#T_f3006_row8_col0,#T_f3006_row9_col0,#T_f3006_row10_col0,#T_f3006_row11_col0,#T_f3006_row12_col0,#T_f3006_row13_col0{\n",
       "            background-color:  #3b4cc0;\n",
       "            color:  #f1f1f1;\n",
       "        }#T_f3006_row7_col0{\n",
       "            background-color:  #b40426;\n",
       "            color:  #f1f1f1;\n",
       "        }</style><table id=\"T_f3006_\" ><thead>    <tr>        <th class=\"blank level0\" ></th>        <th class=\"col_heading level0 col0\" >0</th>    </tr></thead><tbody>\n",
       "                <tr>\n",
       "                        <th id=\"T_f3006_level0_row0\" class=\"row_heading level0 row0\" >RowNumber</th>\n",
       "                        <td id=\"T_f3006_row0_col0\" class=\"data row0 col0\" >0.000000</td>\n",
       "            </tr>\n",
       "            <tr>\n",
       "                        <th id=\"T_f3006_level0_row1\" class=\"row_heading level0 row1\" >CustomerId</th>\n",
       "                        <td id=\"T_f3006_row1_col0\" class=\"data row1 col0\" >0.000000</td>\n",
       "            </tr>\n",
       "            <tr>\n",
       "                        <th id=\"T_f3006_level0_row2\" class=\"row_heading level0 row2\" >Surname</th>\n",
       "                        <td id=\"T_f3006_row2_col0\" class=\"data row2 col0\" >0.000000</td>\n",
       "            </tr>\n",
       "            <tr>\n",
       "                        <th id=\"T_f3006_level0_row3\" class=\"row_heading level0 row3\" >CreditScore</th>\n",
       "                        <td id=\"T_f3006_row3_col0\" class=\"data row3 col0\" >0.000000</td>\n",
       "            </tr>\n",
       "            <tr>\n",
       "                        <th id=\"T_f3006_level0_row4\" class=\"row_heading level0 row4\" >Geography</th>\n",
       "                        <td id=\"T_f3006_row4_col0\" class=\"data row4 col0\" >0.000000</td>\n",
       "            </tr>\n",
       "            <tr>\n",
       "                        <th id=\"T_f3006_level0_row5\" class=\"row_heading level0 row5\" >Gender</th>\n",
       "                        <td id=\"T_f3006_row5_col0\" class=\"data row5 col0\" >0.000000</td>\n",
       "            </tr>\n",
       "            <tr>\n",
       "                        <th id=\"T_f3006_level0_row6\" class=\"row_heading level0 row6\" >Age</th>\n",
       "                        <td id=\"T_f3006_row6_col0\" class=\"data row6 col0\" >0.000000</td>\n",
       "            </tr>\n",
       "            <tr>\n",
       "                        <th id=\"T_f3006_level0_row7\" class=\"row_heading level0 row7\" >Tenure</th>\n",
       "                        <td id=\"T_f3006_row7_col0\" class=\"data row7 col0\" >9.000000</td>\n",
       "            </tr>\n",
       "            <tr>\n",
       "                        <th id=\"T_f3006_level0_row8\" class=\"row_heading level0 row8\" >Balance</th>\n",
       "                        <td id=\"T_f3006_row8_col0\" class=\"data row8 col0\" >0.000000</td>\n",
       "            </tr>\n",
       "            <tr>\n",
       "                        <th id=\"T_f3006_level0_row9\" class=\"row_heading level0 row9\" >NumOfProducts</th>\n",
       "                        <td id=\"T_f3006_row9_col0\" class=\"data row9 col0\" >0.000000</td>\n",
       "            </tr>\n",
       "            <tr>\n",
       "                        <th id=\"T_f3006_level0_row10\" class=\"row_heading level0 row10\" >HasCrCard</th>\n",
       "                        <td id=\"T_f3006_row10_col0\" class=\"data row10 col0\" >0.000000</td>\n",
       "            </tr>\n",
       "            <tr>\n",
       "                        <th id=\"T_f3006_level0_row11\" class=\"row_heading level0 row11\" >IsActiveMember</th>\n",
       "                        <td id=\"T_f3006_row11_col0\" class=\"data row11 col0\" >0.000000</td>\n",
       "            </tr>\n",
       "            <tr>\n",
       "                        <th id=\"T_f3006_level0_row12\" class=\"row_heading level0 row12\" >EstimatedSalary</th>\n",
       "                        <td id=\"T_f3006_row12_col0\" class=\"data row12 col0\" >0.000000</td>\n",
       "            </tr>\n",
       "            <tr>\n",
       "                        <th id=\"T_f3006_level0_row13\" class=\"row_heading level0 row13\" >Exited</th>\n",
       "                        <td id=\"T_f3006_row13_col0\" class=\"data row13 col0\" >0.000000</td>\n",
       "            </tr>\n",
       "    </tbody></table>"
      ],
      "text/plain": [
       "<pandas.io.formats.style.Styler at 0x7fc0ad37da00>"
      ]
     },
     "execution_count": 44,
     "metadata": {},
     "output_type": "execute_result"
    }
   ],
   "source": [
    "#Проверяем колличество пропусков в %\n",
    "pd.DataFrame(round(data.isna().mean()*100,)).style.background_gradient('coolwarm')"
   ]
  },
  {
   "cell_type": "code",
   "execution_count": 45,
   "metadata": {},
   "outputs": [
    {
     "data": {
      "text/plain": [
       "0"
      ]
     },
     "execution_count": 45,
     "metadata": {},
     "output_type": "execute_result"
    }
   ],
   "source": [
    "#Проверяем количество явных дубликатов\n",
    "data.duplicated().sum()"
   ]
  },
  {
   "cell_type": "code",
   "execution_count": 46,
   "metadata": {},
   "outputs": [],
   "source": [
    "#Удаляем пропущенные значения в столбце \"Tenure — сколько лет человек является клиентом банка\"\n",
    "data = data.dropna(subset=['Tenure'])"
   ]
  },
  {
   "cell_type": "code",
   "execution_count": 47,
   "metadata": {
    "scrolled": true
   },
   "outputs": [
    {
     "data": {
      "text/plain": [
       "RowNumber          0\n",
       "CustomerId         0\n",
       "Surname            0\n",
       "CreditScore        0\n",
       "Geography          0\n",
       "Gender             0\n",
       "Age                0\n",
       "Tenure             0\n",
       "Balance            0\n",
       "NumOfProducts      0\n",
       "HasCrCard          0\n",
       "IsActiveMember     0\n",
       "EstimatedSalary    0\n",
       "Exited             0\n",
       "dtype: int64"
      ]
     },
     "execution_count": 47,
     "metadata": {},
     "output_type": "execute_result"
    }
   ],
   "source": [
    "#Проверяем количество пропусков\n",
    "data.isna().sum()"
   ]
  },
  {
   "cell_type": "code",
   "execution_count": 48,
   "metadata": {},
   "outputs": [
    {
     "data": {
      "text/html": [
       "<div>\n",
       "<style scoped>\n",
       "    .dataframe tbody tr th:only-of-type {\n",
       "        vertical-align: middle;\n",
       "    }\n",
       "\n",
       "    .dataframe tbody tr th {\n",
       "        vertical-align: top;\n",
       "    }\n",
       "\n",
       "    .dataframe thead th {\n",
       "        text-align: right;\n",
       "    }\n",
       "</style>\n",
       "<table border=\"1\" class=\"dataframe\">\n",
       "  <thead>\n",
       "    <tr style=\"text-align: right;\">\n",
       "      <th></th>\n",
       "      <th>RowNumber</th>\n",
       "      <th>CustomerId</th>\n",
       "      <th>CreditScore</th>\n",
       "      <th>Age</th>\n",
       "      <th>Tenure</th>\n",
       "      <th>Balance</th>\n",
       "      <th>NumOfProducts</th>\n",
       "      <th>HasCrCard</th>\n",
       "      <th>IsActiveMember</th>\n",
       "      <th>EstimatedSalary</th>\n",
       "      <th>Exited</th>\n",
       "    </tr>\n",
       "  </thead>\n",
       "  <tbody>\n",
       "    <tr>\n",
       "      <th>count</th>\n",
       "      <td>9091.000000</td>\n",
       "      <td>9.091000e+03</td>\n",
       "      <td>9091.000000</td>\n",
       "      <td>9091.000000</td>\n",
       "      <td>9091.000000</td>\n",
       "      <td>9091.000000</td>\n",
       "      <td>9091.000000</td>\n",
       "      <td>9091.000000</td>\n",
       "      <td>9091.000000</td>\n",
       "      <td>9091.000000</td>\n",
       "      <td>9091.000000</td>\n",
       "    </tr>\n",
       "    <tr>\n",
       "      <th>mean</th>\n",
       "      <td>5013.909911</td>\n",
       "      <td>1.569105e+07</td>\n",
       "      <td>650.736553</td>\n",
       "      <td>38.949181</td>\n",
       "      <td>4.997690</td>\n",
       "      <td>76522.740015</td>\n",
       "      <td>1.530195</td>\n",
       "      <td>0.704983</td>\n",
       "      <td>0.515565</td>\n",
       "      <td>100181.214924</td>\n",
       "      <td>0.203938</td>\n",
       "    </tr>\n",
       "    <tr>\n",
       "      <th>std</th>\n",
       "      <td>2884.433466</td>\n",
       "      <td>7.161419e+04</td>\n",
       "      <td>96.410471</td>\n",
       "      <td>10.555581</td>\n",
       "      <td>2.894723</td>\n",
       "      <td>62329.528576</td>\n",
       "      <td>0.581003</td>\n",
       "      <td>0.456076</td>\n",
       "      <td>0.499785</td>\n",
       "      <td>57624.755647</td>\n",
       "      <td>0.402946</td>\n",
       "    </tr>\n",
       "    <tr>\n",
       "      <th>min</th>\n",
       "      <td>1.000000</td>\n",
       "      <td>1.556570e+07</td>\n",
       "      <td>350.000000</td>\n",
       "      <td>18.000000</td>\n",
       "      <td>0.000000</td>\n",
       "      <td>0.000000</td>\n",
       "      <td>1.000000</td>\n",
       "      <td>0.000000</td>\n",
       "      <td>0.000000</td>\n",
       "      <td>11.580000</td>\n",
       "      <td>0.000000</td>\n",
       "    </tr>\n",
       "    <tr>\n",
       "      <th>25%</th>\n",
       "      <td>2521.500000</td>\n",
       "      <td>1.562899e+07</td>\n",
       "      <td>584.000000</td>\n",
       "      <td>32.000000</td>\n",
       "      <td>2.000000</td>\n",
       "      <td>0.000000</td>\n",
       "      <td>1.000000</td>\n",
       "      <td>0.000000</td>\n",
       "      <td>0.000000</td>\n",
       "      <td>51227.745000</td>\n",
       "      <td>0.000000</td>\n",
       "    </tr>\n",
       "    <tr>\n",
       "      <th>50%</th>\n",
       "      <td>5019.000000</td>\n",
       "      <td>1.569106e+07</td>\n",
       "      <td>652.000000</td>\n",
       "      <td>37.000000</td>\n",
       "      <td>5.000000</td>\n",
       "      <td>97318.250000</td>\n",
       "      <td>1.000000</td>\n",
       "      <td>1.000000</td>\n",
       "      <td>1.000000</td>\n",
       "      <td>100240.200000</td>\n",
       "      <td>0.000000</td>\n",
       "    </tr>\n",
       "    <tr>\n",
       "      <th>75%</th>\n",
       "      <td>7511.500000</td>\n",
       "      <td>1.575285e+07</td>\n",
       "      <td>717.000000</td>\n",
       "      <td>44.000000</td>\n",
       "      <td>7.000000</td>\n",
       "      <td>127561.890000</td>\n",
       "      <td>2.000000</td>\n",
       "      <td>1.000000</td>\n",
       "      <td>1.000000</td>\n",
       "      <td>149567.210000</td>\n",
       "      <td>0.000000</td>\n",
       "    </tr>\n",
       "    <tr>\n",
       "      <th>max</th>\n",
       "      <td>9999.000000</td>\n",
       "      <td>1.581566e+07</td>\n",
       "      <td>850.000000</td>\n",
       "      <td>92.000000</td>\n",
       "      <td>10.000000</td>\n",
       "      <td>250898.090000</td>\n",
       "      <td>4.000000</td>\n",
       "      <td>1.000000</td>\n",
       "      <td>1.000000</td>\n",
       "      <td>199992.480000</td>\n",
       "      <td>1.000000</td>\n",
       "    </tr>\n",
       "  </tbody>\n",
       "</table>\n",
       "</div>"
      ],
      "text/plain": [
       "         RowNumber    CustomerId  CreditScore          Age       Tenure  \\\n",
       "count  9091.000000  9.091000e+03  9091.000000  9091.000000  9091.000000   \n",
       "mean   5013.909911  1.569105e+07   650.736553    38.949181     4.997690   \n",
       "std    2884.433466  7.161419e+04    96.410471    10.555581     2.894723   \n",
       "min       1.000000  1.556570e+07   350.000000    18.000000     0.000000   \n",
       "25%    2521.500000  1.562899e+07   584.000000    32.000000     2.000000   \n",
       "50%    5019.000000  1.569106e+07   652.000000    37.000000     5.000000   \n",
       "75%    7511.500000  1.575285e+07   717.000000    44.000000     7.000000   \n",
       "max    9999.000000  1.581566e+07   850.000000    92.000000    10.000000   \n",
       "\n",
       "             Balance  NumOfProducts    HasCrCard  IsActiveMember  \\\n",
       "count    9091.000000    9091.000000  9091.000000     9091.000000   \n",
       "mean    76522.740015       1.530195     0.704983        0.515565   \n",
       "std     62329.528576       0.581003     0.456076        0.499785   \n",
       "min         0.000000       1.000000     0.000000        0.000000   \n",
       "25%         0.000000       1.000000     0.000000        0.000000   \n",
       "50%     97318.250000       1.000000     1.000000        1.000000   \n",
       "75%    127561.890000       2.000000     1.000000        1.000000   \n",
       "max    250898.090000       4.000000     1.000000        1.000000   \n",
       "\n",
       "       EstimatedSalary       Exited  \n",
       "count      9091.000000  9091.000000  \n",
       "mean     100181.214924     0.203938  \n",
       "std       57624.755647     0.402946  \n",
       "min          11.580000     0.000000  \n",
       "25%       51227.745000     0.000000  \n",
       "50%      100240.200000     0.000000  \n",
       "75%      149567.210000     0.000000  \n",
       "max      199992.480000     1.000000  "
      ]
     },
     "execution_count": 48,
     "metadata": {},
     "output_type": "execute_result"
    }
   ],
   "source": [
    "data.describe()"
   ]
  },
  {
   "cell_type": "code",
   "execution_count": 49,
   "metadata": {
    "scrolled": true
   },
   "outputs": [
    {
     "data": {
      "text/html": [
       "<div>\n",
       "<style scoped>\n",
       "    .dataframe tbody tr th:only-of-type {\n",
       "        vertical-align: middle;\n",
       "    }\n",
       "\n",
       "    .dataframe tbody tr th {\n",
       "        vertical-align: top;\n",
       "    }\n",
       "\n",
       "    .dataframe thead th {\n",
       "        text-align: right;\n",
       "    }\n",
       "</style>\n",
       "<table border=\"1\" class=\"dataframe\">\n",
       "  <thead>\n",
       "    <tr style=\"text-align: right;\">\n",
       "      <th></th>\n",
       "      <th>RowNumber</th>\n",
       "      <th>CustomerId</th>\n",
       "      <th>Surname</th>\n",
       "      <th>CreditScore</th>\n",
       "      <th>Geography</th>\n",
       "      <th>Gender</th>\n",
       "      <th>Age</th>\n",
       "      <th>Tenure</th>\n",
       "      <th>Balance</th>\n",
       "      <th>NumOfProducts</th>\n",
       "      <th>HasCrCard</th>\n",
       "      <th>IsActiveMember</th>\n",
       "      <th>EstimatedSalary</th>\n",
       "      <th>Exited</th>\n",
       "    </tr>\n",
       "  </thead>\n",
       "  <tbody>\n",
       "    <tr>\n",
       "      <th>0</th>\n",
       "      <td>1</td>\n",
       "      <td>15634602</td>\n",
       "      <td>Hargrave</td>\n",
       "      <td>619</td>\n",
       "      <td>France</td>\n",
       "      <td>Female</td>\n",
       "      <td>42</td>\n",
       "      <td>2.0</td>\n",
       "      <td>0.00</td>\n",
       "      <td>1</td>\n",
       "      <td>1</td>\n",
       "      <td>1</td>\n",
       "      <td>101348.88</td>\n",
       "      <td>1</td>\n",
       "    </tr>\n",
       "    <tr>\n",
       "      <th>1</th>\n",
       "      <td>2</td>\n",
       "      <td>15647311</td>\n",
       "      <td>Hill</td>\n",
       "      <td>608</td>\n",
       "      <td>Spain</td>\n",
       "      <td>Female</td>\n",
       "      <td>41</td>\n",
       "      <td>1.0</td>\n",
       "      <td>83807.86</td>\n",
       "      <td>1</td>\n",
       "      <td>0</td>\n",
       "      <td>1</td>\n",
       "      <td>112542.58</td>\n",
       "      <td>0</td>\n",
       "    </tr>\n",
       "    <tr>\n",
       "      <th>2</th>\n",
       "      <td>3</td>\n",
       "      <td>15619304</td>\n",
       "      <td>Onio</td>\n",
       "      <td>502</td>\n",
       "      <td>France</td>\n",
       "      <td>Female</td>\n",
       "      <td>42</td>\n",
       "      <td>8.0</td>\n",
       "      <td>159660.80</td>\n",
       "      <td>3</td>\n",
       "      <td>1</td>\n",
       "      <td>0</td>\n",
       "      <td>113931.57</td>\n",
       "      <td>1</td>\n",
       "    </tr>\n",
       "    <tr>\n",
       "      <th>3</th>\n",
       "      <td>4</td>\n",
       "      <td>15701354</td>\n",
       "      <td>Boni</td>\n",
       "      <td>699</td>\n",
       "      <td>France</td>\n",
       "      <td>Female</td>\n",
       "      <td>39</td>\n",
       "      <td>1.0</td>\n",
       "      <td>0.00</td>\n",
       "      <td>2</td>\n",
       "      <td>0</td>\n",
       "      <td>0</td>\n",
       "      <td>93826.63</td>\n",
       "      <td>0</td>\n",
       "    </tr>\n",
       "    <tr>\n",
       "      <th>4</th>\n",
       "      <td>5</td>\n",
       "      <td>15737888</td>\n",
       "      <td>Mitchell</td>\n",
       "      <td>850</td>\n",
       "      <td>Spain</td>\n",
       "      <td>Female</td>\n",
       "      <td>43</td>\n",
       "      <td>2.0</td>\n",
       "      <td>125510.82</td>\n",
       "      <td>1</td>\n",
       "      <td>1</td>\n",
       "      <td>1</td>\n",
       "      <td>79084.10</td>\n",
       "      <td>0</td>\n",
       "    </tr>\n",
       "    <tr>\n",
       "      <th>5</th>\n",
       "      <td>6</td>\n",
       "      <td>15574012</td>\n",
       "      <td>Chu</td>\n",
       "      <td>645</td>\n",
       "      <td>Spain</td>\n",
       "      <td>Male</td>\n",
       "      <td>44</td>\n",
       "      <td>8.0</td>\n",
       "      <td>113755.78</td>\n",
       "      <td>2</td>\n",
       "      <td>1</td>\n",
       "      <td>0</td>\n",
       "      <td>149756.71</td>\n",
       "      <td>1</td>\n",
       "    </tr>\n",
       "    <tr>\n",
       "      <th>6</th>\n",
       "      <td>7</td>\n",
       "      <td>15592531</td>\n",
       "      <td>Bartlett</td>\n",
       "      <td>822</td>\n",
       "      <td>France</td>\n",
       "      <td>Male</td>\n",
       "      <td>50</td>\n",
       "      <td>7.0</td>\n",
       "      <td>0.00</td>\n",
       "      <td>2</td>\n",
       "      <td>1</td>\n",
       "      <td>1</td>\n",
       "      <td>10062.80</td>\n",
       "      <td>0</td>\n",
       "    </tr>\n",
       "    <tr>\n",
       "      <th>7</th>\n",
       "      <td>8</td>\n",
       "      <td>15656148</td>\n",
       "      <td>Obinna</td>\n",
       "      <td>376</td>\n",
       "      <td>Germany</td>\n",
       "      <td>Female</td>\n",
       "      <td>29</td>\n",
       "      <td>4.0</td>\n",
       "      <td>115046.74</td>\n",
       "      <td>4</td>\n",
       "      <td>1</td>\n",
       "      <td>0</td>\n",
       "      <td>119346.88</td>\n",
       "      <td>1</td>\n",
       "    </tr>\n",
       "    <tr>\n",
       "      <th>8</th>\n",
       "      <td>9</td>\n",
       "      <td>15792365</td>\n",
       "      <td>He</td>\n",
       "      <td>501</td>\n",
       "      <td>France</td>\n",
       "      <td>Male</td>\n",
       "      <td>44</td>\n",
       "      <td>4.0</td>\n",
       "      <td>142051.07</td>\n",
       "      <td>2</td>\n",
       "      <td>0</td>\n",
       "      <td>1</td>\n",
       "      <td>74940.50</td>\n",
       "      <td>0</td>\n",
       "    </tr>\n",
       "    <tr>\n",
       "      <th>9</th>\n",
       "      <td>10</td>\n",
       "      <td>15592389</td>\n",
       "      <td>H?</td>\n",
       "      <td>684</td>\n",
       "      <td>France</td>\n",
       "      <td>Male</td>\n",
       "      <td>27</td>\n",
       "      <td>2.0</td>\n",
       "      <td>134603.88</td>\n",
       "      <td>1</td>\n",
       "      <td>1</td>\n",
       "      <td>1</td>\n",
       "      <td>71725.73</td>\n",
       "      <td>0</td>\n",
       "    </tr>\n",
       "  </tbody>\n",
       "</table>\n",
       "</div>"
      ],
      "text/plain": [
       "   RowNumber  CustomerId   Surname  CreditScore Geography  Gender  Age  \\\n",
       "0          1    15634602  Hargrave          619    France  Female   42   \n",
       "1          2    15647311      Hill          608     Spain  Female   41   \n",
       "2          3    15619304      Onio          502    France  Female   42   \n",
       "3          4    15701354      Boni          699    France  Female   39   \n",
       "4          5    15737888  Mitchell          850     Spain  Female   43   \n",
       "5          6    15574012       Chu          645     Spain    Male   44   \n",
       "6          7    15592531  Bartlett          822    France    Male   50   \n",
       "7          8    15656148    Obinna          376   Germany  Female   29   \n",
       "8          9    15792365        He          501    France    Male   44   \n",
       "9         10    15592389        H?          684    France    Male   27   \n",
       "\n",
       "   Tenure    Balance  NumOfProducts  HasCrCard  IsActiveMember  \\\n",
       "0     2.0       0.00              1          1               1   \n",
       "1     1.0   83807.86              1          0               1   \n",
       "2     8.0  159660.80              3          1               0   \n",
       "3     1.0       0.00              2          0               0   \n",
       "4     2.0  125510.82              1          1               1   \n",
       "5     8.0  113755.78              2          1               0   \n",
       "6     7.0       0.00              2          1               1   \n",
       "7     4.0  115046.74              4          1               0   \n",
       "8     4.0  142051.07              2          0               1   \n",
       "9     2.0  134603.88              1          1               1   \n",
       "\n",
       "   EstimatedSalary  Exited  \n",
       "0        101348.88       1  \n",
       "1        112542.58       0  \n",
       "2        113931.57       1  \n",
       "3         93826.63       0  \n",
       "4         79084.10       0  \n",
       "5        149756.71       1  \n",
       "6         10062.80       0  \n",
       "7        119346.88       1  \n",
       "8         74940.50       0  \n",
       "9         71725.73       0  "
      ]
     },
     "execution_count": 49,
     "metadata": {},
     "output_type": "execute_result"
    }
   ],
   "source": [
    "data.head(10)"
   ]
  },
  {
   "cell_type": "code",
   "execution_count": 50,
   "metadata": {},
   "outputs": [
    {
     "name": "stdout",
     "output_type": "stream",
     "text": [
      "<class 'pandas.core.frame.DataFrame'>\n",
      "Int64Index: 9091 entries, 0 to 9998\n",
      "Data columns (total 14 columns):\n",
      " #   Column           Non-Null Count  Dtype  \n",
      "---  ------           --------------  -----  \n",
      " 0   RowNumber        9091 non-null   int64  \n",
      " 1   CustomerId       9091 non-null   int64  \n",
      " 2   Surname          9091 non-null   object \n",
      " 3   CreditScore      9091 non-null   int64  \n",
      " 4   Geography        9091 non-null   object \n",
      " 5   Gender           9091 non-null   object \n",
      " 6   Age              9091 non-null   int64  \n",
      " 7   Tenure           9091 non-null   float64\n",
      " 8   Balance          9091 non-null   float64\n",
      " 9   NumOfProducts    9091 non-null   int64  \n",
      " 10  HasCrCard        9091 non-null   int64  \n",
      " 11  IsActiveMember   9091 non-null   int64  \n",
      " 12  EstimatedSalary  9091 non-null   float64\n",
      " 13  Exited           9091 non-null   int64  \n",
      "dtypes: float64(3), int64(8), object(3)\n",
      "memory usage: 1.0+ MB\n"
     ]
    }
   ],
   "source": [
    "data.info()"
   ]
  },
  {
   "cell_type": "markdown",
   "metadata": {},
   "source": [
    "### Вывод\n",
    "Мы ознакомились с представленным датафреймом и провели предобработку данных. Всего в датафрейме 14 столбцов и 10 000 записи. Имеются пропущенные значения в столбце \"Tenure — сколько лет человек является клиентом банка\". Пропуски в данном столбце составляют 9% от всего датафрейма, поэтому было принято решение удалить пропущенные строки.\n",
    "После удаления пропущенных значений, в датафрейме осталось 9 091 записи. Дубликатов невыявлено.<br>\n",
    "\n",
    "Целевым признаком является: <br>\n",
    "• Exited — факт ухода клиента<br>\n",
    "\n",
    "Признаками являются:<br>\n",
    "• RowNumber — индекс строки в данных<br>\n",
    "• CustomerId — уникальный идентификатор клиента<br>\n",
    "• Surname — фамилия<br>\n",
    "• CreditScore — кредитный рейтинг<br>\n",
    "• Geography — страна проживания<br>\n",
    "• Gender — пол<br>\n",
    "• Age — возраст<br>\n",
    "• Tenure — сколько лет человек является клиентом банка<br>\n",
    "• Balance — баланс на счёте<br>\n",
    "• NumOfProducts — количество продуктов банка, используемых клиентом<br>\n",
    "• HasCrCard — наличие кредитной карты<br>\n",
    "• IsActiveMember — активность клиента<br>\n",
    "• EstimatedSalary — предполагаемая зарплата<br>"
   ]
  },
  {
   "cell_type": "markdown",
   "metadata": {},
   "source": [
    "## Разбиваем данные на выборки и продолжаем подготавливать данные\n"
   ]
  },
  {
   "cell_type": "code",
   "execution_count": 51,
   "metadata": {},
   "outputs": [
    {
     "data": {
      "text/html": [
       "<div>\n",
       "<style scoped>\n",
       "    .dataframe tbody tr th:only-of-type {\n",
       "        vertical-align: middle;\n",
       "    }\n",
       "\n",
       "    .dataframe tbody tr th {\n",
       "        vertical-align: top;\n",
       "    }\n",
       "\n",
       "    .dataframe thead th {\n",
       "        text-align: right;\n",
       "    }\n",
       "</style>\n",
       "<table border=\"1\" class=\"dataframe\">\n",
       "  <thead>\n",
       "    <tr style=\"text-align: right;\">\n",
       "      <th></th>\n",
       "      <th>RowNumber</th>\n",
       "      <th>CustomerId</th>\n",
       "      <th>Surname</th>\n",
       "      <th>CreditScore</th>\n",
       "      <th>Age</th>\n",
       "      <th>Tenure</th>\n",
       "      <th>Balance</th>\n",
       "      <th>NumOfProducts</th>\n",
       "      <th>HasCrCard</th>\n",
       "      <th>IsActiveMember</th>\n",
       "      <th>EstimatedSalary</th>\n",
       "      <th>Exited</th>\n",
       "      <th>Gender_Male</th>\n",
       "      <th>Geography_Germany</th>\n",
       "      <th>Geography_Spain</th>\n",
       "    </tr>\n",
       "  </thead>\n",
       "  <tbody>\n",
       "    <tr>\n",
       "      <th>0</th>\n",
       "      <td>1</td>\n",
       "      <td>15634602</td>\n",
       "      <td>Hargrave</td>\n",
       "      <td>619</td>\n",
       "      <td>42</td>\n",
       "      <td>2.0</td>\n",
       "      <td>0.00</td>\n",
       "      <td>1</td>\n",
       "      <td>1</td>\n",
       "      <td>1</td>\n",
       "      <td>101348.88</td>\n",
       "      <td>1</td>\n",
       "      <td>0</td>\n",
       "      <td>0</td>\n",
       "      <td>0</td>\n",
       "    </tr>\n",
       "    <tr>\n",
       "      <th>1</th>\n",
       "      <td>2</td>\n",
       "      <td>15647311</td>\n",
       "      <td>Hill</td>\n",
       "      <td>608</td>\n",
       "      <td>41</td>\n",
       "      <td>1.0</td>\n",
       "      <td>83807.86</td>\n",
       "      <td>1</td>\n",
       "      <td>0</td>\n",
       "      <td>1</td>\n",
       "      <td>112542.58</td>\n",
       "      <td>0</td>\n",
       "      <td>0</td>\n",
       "      <td>0</td>\n",
       "      <td>1</td>\n",
       "    </tr>\n",
       "    <tr>\n",
       "      <th>2</th>\n",
       "      <td>3</td>\n",
       "      <td>15619304</td>\n",
       "      <td>Onio</td>\n",
       "      <td>502</td>\n",
       "      <td>42</td>\n",
       "      <td>8.0</td>\n",
       "      <td>159660.80</td>\n",
       "      <td>3</td>\n",
       "      <td>1</td>\n",
       "      <td>0</td>\n",
       "      <td>113931.57</td>\n",
       "      <td>1</td>\n",
       "      <td>0</td>\n",
       "      <td>0</td>\n",
       "      <td>0</td>\n",
       "    </tr>\n",
       "    <tr>\n",
       "      <th>3</th>\n",
       "      <td>4</td>\n",
       "      <td>15701354</td>\n",
       "      <td>Boni</td>\n",
       "      <td>699</td>\n",
       "      <td>39</td>\n",
       "      <td>1.0</td>\n",
       "      <td>0.00</td>\n",
       "      <td>2</td>\n",
       "      <td>0</td>\n",
       "      <td>0</td>\n",
       "      <td>93826.63</td>\n",
       "      <td>0</td>\n",
       "      <td>0</td>\n",
       "      <td>0</td>\n",
       "      <td>0</td>\n",
       "    </tr>\n",
       "    <tr>\n",
       "      <th>4</th>\n",
       "      <td>5</td>\n",
       "      <td>15737888</td>\n",
       "      <td>Mitchell</td>\n",
       "      <td>850</td>\n",
       "      <td>43</td>\n",
       "      <td>2.0</td>\n",
       "      <td>125510.82</td>\n",
       "      <td>1</td>\n",
       "      <td>1</td>\n",
       "      <td>1</td>\n",
       "      <td>79084.10</td>\n",
       "      <td>0</td>\n",
       "      <td>0</td>\n",
       "      <td>0</td>\n",
       "      <td>1</td>\n",
       "    </tr>\n",
       "  </tbody>\n",
       "</table>\n",
       "</div>"
      ],
      "text/plain": [
       "   RowNumber  CustomerId   Surname  CreditScore  Age  Tenure    Balance  \\\n",
       "0          1    15634602  Hargrave          619   42     2.0       0.00   \n",
       "1          2    15647311      Hill          608   41     1.0   83807.86   \n",
       "2          3    15619304      Onio          502   42     8.0  159660.80   \n",
       "3          4    15701354      Boni          699   39     1.0       0.00   \n",
       "4          5    15737888  Mitchell          850   43     2.0  125510.82   \n",
       "\n",
       "   NumOfProducts  HasCrCard  IsActiveMember  EstimatedSalary  Exited  \\\n",
       "0              1          1               1        101348.88       1   \n",
       "1              1          0               1        112542.58       0   \n",
       "2              3          1               0        113931.57       1   \n",
       "3              2          0               0         93826.63       0   \n",
       "4              1          1               1         79084.10       0   \n",
       "\n",
       "   Gender_Male  Geography_Germany  Geography_Spain  \n",
       "0            0                  0                0  \n",
       "1            0                  0                1  \n",
       "2            0                  0                0  \n",
       "3            0                  0                0  \n",
       "4            0                  0                1  "
      ]
     },
     "execution_count": 51,
     "metadata": {},
     "output_type": "execute_result"
    }
   ],
   "source": [
    "#Мы выявили тип данных object в нескольких столбцах (Surname, Geography, Gender)\n",
    "#Применяем прямое кодирование к столбцам Geography и Gender, столбец Surname в признаках удалили\n",
    "\n",
    "data = pd.get_dummies(data, columns=['Gender','Geography'], drop_first= True)\n",
    "data.head()"
   ]
  },
  {
   "cell_type": "code",
   "execution_count": 53,
   "metadata": {},
   "outputs": [],
   "source": [
    "#Объявим две переменные\n",
    "#Удалим в признаках столбцы RowNumber, CustomerId и Surname, так как данные этих столбцов не повлияют на качество обучения\n",
    "\n",
    "features = data.drop(['Exited','RowNumber','CustomerId', 'Surname'], axis=1)\n",
    "target = data['Exited']"
   ]
  },
  {
   "cell_type": "code",
   "execution_count": 54,
   "metadata": {},
   "outputs": [
    {
     "name": "stdout",
     "output_type": "stream",
     "text": [
      "Requirement already satisfied: fast_ml in /opt/conda/lib/python3.9/site-packages (3.68)\n"
     ]
    }
   ],
   "source": [
    "!pip install fast_ml\n",
    "from fast_ml.model_development import train_valid_test_split\n",
    "features_train, target_train, features_valid, target_valid, features_test, target_test = train_valid_test_split(data, target = 'Exited',train_size=0.6, valid_size=0.2, test_size=0.2)"
   ]
  },
  {
   "cell_type": "code",
   "execution_count": 55,
   "metadata": {},
   "outputs": [
    {
     "name": "stdout",
     "output_type": "stream",
     "text": [
      "Размер обучающей выборки:\n",
      "(5454, 11)\n",
      "(5454,)\n"
     ]
    }
   ],
   "source": [
    "#Разбиваем исходные данные на три выборки\n",
    "#Обучающая выборка\n",
    "features_train, features_test, target_train, target_test = train_test_split(\n",
    "    features, target, test_size=0.4, random_state=12345, stratify=target)\n",
    "\n",
    "#Проверяем размер выборки\n",
    "print('Размер обучающей выборки:')\n",
    "print(features_train.shape)\n",
    "print(target_train.shape)"
   ]
  },
  {
   "cell_type": "code",
   "execution_count": 56,
   "metadata": {},
   "outputs": [
    {
     "name": "stdout",
     "output_type": "stream",
     "text": [
      "Размер валидационной выборки:\n",
      "(1818, 11)\n",
      "(1818,)\n",
      "\n",
      "Размер тестовой выборки:\n",
      "(1819, 11)\n",
      "(1819,)\n"
     ]
    }
   ],
   "source": [
    "#Валидационная и тестовая выборки\n",
    "features_valid, features_test, target_valid, target_test = train_test_split(\n",
    "    features_test, target_test, test_size=0.5, random_state=12345, stratify=target_test)\n",
    "\n",
    "#Проверяем размер выборок\n",
    "print('Размер валидационной выборки:')\n",
    "print(features_valid.shape)\n",
    "print(target_valid.shape)\n",
    "\n",
    "print()\n",
    "\n",
    "print('Размер тестовой выборки:')\n",
    "print(features_test.shape)\n",
    "print(target_test.shape)"
   ]
  },
  {
   "cell_type": "code",
   "execution_count": 57,
   "metadata": {
    "scrolled": true
   },
   "outputs": [
    {
     "data": {
      "text/html": [
       "<div>\n",
       "<style scoped>\n",
       "    .dataframe tbody tr th:only-of-type {\n",
       "        vertical-align: middle;\n",
       "    }\n",
       "\n",
       "    .dataframe tbody tr th {\n",
       "        vertical-align: top;\n",
       "    }\n",
       "\n",
       "    .dataframe thead th {\n",
       "        text-align: right;\n",
       "    }\n",
       "</style>\n",
       "<table border=\"1\" class=\"dataframe\">\n",
       "  <thead>\n",
       "    <tr style=\"text-align: right;\">\n",
       "      <th></th>\n",
       "      <th>RowNumber</th>\n",
       "      <th>CustomerId</th>\n",
       "      <th>Surname</th>\n",
       "      <th>CreditScore</th>\n",
       "      <th>Age</th>\n",
       "      <th>Tenure</th>\n",
       "      <th>Balance</th>\n",
       "      <th>NumOfProducts</th>\n",
       "      <th>HasCrCard</th>\n",
       "      <th>IsActiveMember</th>\n",
       "      <th>EstimatedSalary</th>\n",
       "      <th>Exited</th>\n",
       "      <th>Gender_Male</th>\n",
       "      <th>Geography_Germany</th>\n",
       "      <th>Geography_Spain</th>\n",
       "    </tr>\n",
       "  </thead>\n",
       "  <tbody>\n",
       "    <tr>\n",
       "      <th>0</th>\n",
       "      <td>1</td>\n",
       "      <td>15634602</td>\n",
       "      <td>Hargrave</td>\n",
       "      <td>619</td>\n",
       "      <td>42</td>\n",
       "      <td>2.0</td>\n",
       "      <td>0.00</td>\n",
       "      <td>1</td>\n",
       "      <td>1</td>\n",
       "      <td>1</td>\n",
       "      <td>101348.88</td>\n",
       "      <td>1</td>\n",
       "      <td>0</td>\n",
       "      <td>0</td>\n",
       "      <td>0</td>\n",
       "    </tr>\n",
       "    <tr>\n",
       "      <th>1</th>\n",
       "      <td>2</td>\n",
       "      <td>15647311</td>\n",
       "      <td>Hill</td>\n",
       "      <td>608</td>\n",
       "      <td>41</td>\n",
       "      <td>1.0</td>\n",
       "      <td>83807.86</td>\n",
       "      <td>1</td>\n",
       "      <td>0</td>\n",
       "      <td>1</td>\n",
       "      <td>112542.58</td>\n",
       "      <td>0</td>\n",
       "      <td>0</td>\n",
       "      <td>0</td>\n",
       "      <td>1</td>\n",
       "    </tr>\n",
       "    <tr>\n",
       "      <th>2</th>\n",
       "      <td>3</td>\n",
       "      <td>15619304</td>\n",
       "      <td>Onio</td>\n",
       "      <td>502</td>\n",
       "      <td>42</td>\n",
       "      <td>8.0</td>\n",
       "      <td>159660.80</td>\n",
       "      <td>3</td>\n",
       "      <td>1</td>\n",
       "      <td>0</td>\n",
       "      <td>113931.57</td>\n",
       "      <td>1</td>\n",
       "      <td>0</td>\n",
       "      <td>0</td>\n",
       "      <td>0</td>\n",
       "    </tr>\n",
       "    <tr>\n",
       "      <th>3</th>\n",
       "      <td>4</td>\n",
       "      <td>15701354</td>\n",
       "      <td>Boni</td>\n",
       "      <td>699</td>\n",
       "      <td>39</td>\n",
       "      <td>1.0</td>\n",
       "      <td>0.00</td>\n",
       "      <td>2</td>\n",
       "      <td>0</td>\n",
       "      <td>0</td>\n",
       "      <td>93826.63</td>\n",
       "      <td>0</td>\n",
       "      <td>0</td>\n",
       "      <td>0</td>\n",
       "      <td>0</td>\n",
       "    </tr>\n",
       "    <tr>\n",
       "      <th>4</th>\n",
       "      <td>5</td>\n",
       "      <td>15737888</td>\n",
       "      <td>Mitchell</td>\n",
       "      <td>850</td>\n",
       "      <td>43</td>\n",
       "      <td>2.0</td>\n",
       "      <td>125510.82</td>\n",
       "      <td>1</td>\n",
       "      <td>1</td>\n",
       "      <td>1</td>\n",
       "      <td>79084.10</td>\n",
       "      <td>0</td>\n",
       "      <td>0</td>\n",
       "      <td>0</td>\n",
       "      <td>1</td>\n",
       "    </tr>\n",
       "  </tbody>\n",
       "</table>\n",
       "</div>"
      ],
      "text/plain": [
       "   RowNumber  CustomerId   Surname  CreditScore  Age  Tenure    Balance  \\\n",
       "0          1    15634602  Hargrave          619   42     2.0       0.00   \n",
       "1          2    15647311      Hill          608   41     1.0   83807.86   \n",
       "2          3    15619304      Onio          502   42     8.0  159660.80   \n",
       "3          4    15701354      Boni          699   39     1.0       0.00   \n",
       "4          5    15737888  Mitchell          850   43     2.0  125510.82   \n",
       "\n",
       "   NumOfProducts  HasCrCard  IsActiveMember  EstimatedSalary  Exited  \\\n",
       "0              1          1               1        101348.88       1   \n",
       "1              1          0               1        112542.58       0   \n",
       "2              3          1               0        113931.57       1   \n",
       "3              2          0               0         93826.63       0   \n",
       "4              1          1               1         79084.10       0   \n",
       "\n",
       "   Gender_Male  Geography_Germany  Geography_Spain  \n",
       "0            0                  0                0  \n",
       "1            0                  0                1  \n",
       "2            0                  0                0  \n",
       "3            0                  0                0  \n",
       "4            0                  0                1  "
      ]
     },
     "execution_count": 57,
     "metadata": {},
     "output_type": "execute_result"
    }
   ],
   "source": [
    "#Необходимо масштабировать признаки \n",
    "#Признаки, которые будем масштабировать: CreditScore, Balance и EstimatedSalary\n",
    "numeric = ['CreditScore', 'Balance', 'EstimatedSalary', 'Age']\n",
    "\n",
    "scaler = StandardScaler()\n",
    "scaler.fit(features_train[numeric]) \n",
    "\n",
    "features_train[numeric]= scaler.transform(features_train[numeric])\n",
    "features_valid[numeric] = scaler.transform(features_valid[numeric]) \n",
    "features_test[numeric] = scaler.transform(features_test[numeric]) \n",
    "\n",
    "pd.options.mode.chained_assignment = None\n",
    "data.head()"
   ]
  },
  {
   "cell_type": "markdown",
   "metadata": {},
   "source": [
    "###  Вывод:\n",
    "Мы объявили переменные и разделили исходные данные на обучающую, валидационную и тестовую выборки в соотношении 3:1:1 (обучающая выборка - 60% от датасета, валидационная и тестовая выборки по 20%, соответственно). <br>\n",
    "Мы применили прямое кодирование к категориальным данным, а так же масштабировали признаки."
   ]
  },
  {
   "cell_type": "markdown",
   "metadata": {},
   "source": [
    "## Исследование задачи"
   ]
  },
  {
   "cell_type": "code",
   "execution_count": 58,
   "metadata": {},
   "outputs": [
    {
     "name": "stdout",
     "output_type": "stream",
     "text": [
      "0    0.796062\n",
      "1    0.203938\n",
      "Name: Exited, dtype: float64\n"
     ]
    },
    {
     "data": {
      "image/png": "[encoded data removed]",
      "text/plain": [
       "<Figure size 432x288 with 1 Axes>"
      ]
     },
     "metadata": {
      "needs_background": "light"
     },
     "output_type": "display_data"
    }
   ],
   "source": [
    "#Проверяем датасет на сбалансированность классов\n",
    "class_frequency = data['Exited'].value_counts(normalize=True)\n",
    "print(class_frequency)\n",
    "class_frequency.plot(kind='bar');"
   ]
  },
  {
   "cell_type": "markdown",
   "metadata": {},
   "source": [
    "Дисбаланс классов присутствует. Классы несбалансированны, когда их соотношение далеко от 1:1. Как мы наблюдаем, действительно, из «Бета-Банка» стали уходить клиенты. Немного, но заметно - примерно 20% от всех клиентов."
   ]
  },
  {
   "cell_type": "markdown",
   "metadata": {},
   "source": [
    "### Обучим модели без учёта дисбаланса"
   ]
  },
  {
   "cell_type": "markdown",
   "metadata": {},
   "source": [
    "**Решающее дерево**"
   ]
  },
  {
   "cell_type": "code",
   "execution_count": 81,
   "metadata": {},
   "outputs": [
    {
     "name": "stderr",
     "output_type": "stream",
     "text": [
      "100%|██████████| 25/25 [00:52<00:00,  2.11s/it]"
     ]
    },
    {
     "name": "stdout",
     "output_type": "stream",
     "text": [
      "F1 лучшей модели: 0.5939597315436241\n",
      "Глубина дерева: 7\n",
      "Минимальное количество примеров для разделения: 2\n",
      "Минимальное количество объектов в листе: 3\n"
     ]
    },
    {
     "name": "stderr",
     "output_type": "stream",
     "text": [
      "\n"
     ]
    }
   ],
   "source": [
    "#Исследуем качество решающего дерева на валидационной выборке на f1 метрике\n",
    "best_model_dt = None\n",
    "best_result_dt = 0\n",
    "best_depth_dt = 0\n",
    "best_split_dt = 0\n",
    "best_leaf_dt = 0\n",
    "for depth in tqdm (range(1, 50, 2)):\n",
    "    for split in range(2, 11):\n",
    "        for leaf in range(1, 11):\n",
    "            model_dt = DecisionTreeClassifier(random_state=12345, max_depth=depth, \n",
    "                                              min_samples_split=split, min_samples_leaf=leaf)\n",
    "            model_dt.fit(features_train, target_train)\n",
    "            predicted_valid = model_dt.predict(features_valid)\n",
    "            result = f1_score(target_valid, predicted_valid)\n",
    "            if result > best_result_dt:\n",
    "                best_model_dt = model_dt\n",
    "                best_result_dt = result\n",
    "                best_depth_dt = depth\n",
    "                best_split_dt = split\n",
    "                best_leaf_dt = leaf\n",
    "        \n",
    "print('F1 лучшей модели:', best_result_dt) \n",
    "print('Глубина дерева:', best_depth_dt)\n",
    "print('Минимальное количество примеров для разделения:', best_split_dt) \n",
    "print('Минимальное количество объектов в листе:', best_leaf_dt) "
   ]
  },
  {
   "cell_type": "markdown",
   "metadata": {},
   "source": [
    "F1-мера наилучшей модели решающего дерева на валидационной выборке: 0.59, при глубине дерева 7, минимальном количестве разделения 2 и минимальном количестве объектов в листе 3."
   ]
  },
  {
   "cell_type": "code",
   "execution_count": 68,
   "metadata": {},
   "outputs": [
    {
     "name": "stdout",
     "output_type": "stream",
     "text": [
      "AUC-ROC лучшей модели решающего дерева: 0.8172638994704166\n"
     ]
    }
   ],
   "source": [
    "#Измерим AUC-ROC для модели решающего дерева \n",
    "probabilities_valid = model_dt.predict_proba(features_valid)\n",
    "probabilities_one_valid = probabilities_valid[:, 1]\n",
    "\n",
    "auc_roc = roc_auc_score(target_valid, probabilities_valid[:, 1])\n",
    "\n",
    "print('AUC-ROC лучшей модели решающего дерева:', auc_roc)"
   ]
  },
  {
   "cell_type": "code",
   "execution_count": 69,
   "metadata": {
    "scrolled": true
   },
   "outputs": [
    {
     "data": {
      "image/png": "[encoded data removed]",
      "text/plain": [
       "<Figure size 432x288 with 2 Axes>"
      ]
     },
     "metadata": {
      "needs_background": "light"
     },
     "output_type": "display_data"
    }
   ],
   "source": [
    "#Построим матрицу ошибок модели решающего дерева\n",
    "cm_dt = confusion_matrix(target_valid, predicted_valid, labels=model_dt.classes_)\n",
    "disp = ConfusionMatrixDisplay(confusion_matrix=cm_dt,\n",
    "                              display_labels=model_dt.classes_)\n",
    "disp.plot();"
   ]
  },
  {
   "cell_type": "markdown",
   "metadata": {},
   "source": [
    "Матрица ошибок модели решающего дерева нам показывает, что истинно отрицательных ответов у нас большинство, что означает, что по прогнозу модели клиенты не уходили из банка и фактически клиенты не ушли из банка, то есть модель прогнозирует и работает корректно. "
   ]
  },
  {
   "cell_type": "markdown",
   "metadata": {},
   "source": [
    "**Случайный лес**"
   ]
  },
  {
   "cell_type": "code",
   "execution_count": 70,
   "metadata": {},
   "outputs": [
    {
     "name": "stderr",
     "output_type": "stream",
     "text": [
      "100%|██████████| 25/25 [00:26<00:00,  1.08s/it]"
     ]
    },
    {
     "name": "stdout",
     "output_type": "stream",
     "text": [
      "F1 наилучшей модели: 0.6016806722689076\n",
      "Количество деревьев: 15\n",
      "Максимальная глубина: 10\n"
     ]
    },
    {
     "name": "stderr",
     "output_type": "stream",
     "text": [
      "\n"
     ]
    }
   ],
   "source": [
    "#Исследуем качество случайного леса на валидационной выборке\n",
    "best_model_rf = None\n",
    "best_result_rf = 0\n",
    "best_est_rf = 0\n",
    "best_depth_rf = 0\n",
    "for est in tqdm (range(1, 50, 2)):\n",
    "    for depth in range(1, 11):\n",
    "        model_rf = RandomForestClassifier(random_state=12345, n_estimators=est, max_depth=depth)\n",
    "        model_rf.fit(features_train, target_train)\n",
    "        predicted_valid = model_rf.predict(features_valid)\n",
    "        result = f1_score(target_valid, predicted_valid)\n",
    "        if result > best_result_rf:\n",
    "            best_model_rf = model_rf\n",
    "            best_result_rf = result\n",
    "            best_est_rf = est\n",
    "            best_depth_rf = depth\n",
    "            \n",
    "print('F1 наилучшей модели:', best_result_rf)\n",
    "print('Количество деревьев:', best_est_rf)\n",
    "print('Максимальная глубина:', depth)"
   ]
  },
  {
   "cell_type": "markdown",
   "metadata": {},
   "source": [
    "F1-мера наилучшей модели случайного леса на валидационной выборке: 0.60, при количестве деревьев 15 и глубине дерева 10."
   ]
  },
  {
   "cell_type": "code",
   "execution_count": 74,
   "metadata": {},
   "outputs": [
    {
     "name": "stdout",
     "output_type": "stream",
     "text": [
      "AUC-ROC лучшей модели случайного леса: 0.8763013726699167\n"
     ]
    }
   ],
   "source": [
    "#Измерим AUC-ROC для модели случайного леса\n",
    "probabilities_valid = model_rf.predict_proba(features_valid)\n",
    "probabilities_one_valid = probabilities_valid[:, 1]\n",
    "\n",
    "auc_roc = roc_auc_score(target_valid, probabilities_valid[:, 1])\n",
    "\n",
    "print('AUC-ROC лучшей модели случайного леса:', auc_roc)"
   ]
  },
  {
   "cell_type": "code",
   "execution_count": 75,
   "metadata": {},
   "outputs": [
    {
     "data": {
      "image/png": "[encoded data removed]",
      "text/plain": [
       "<Figure size 432x288 with 2 Axes>"
      ]
     },
     "metadata": {
      "needs_background": "light"
     },
     "output_type": "display_data"
    }
   ],
   "source": [
    "#Построим матрицу ошибок модели случайного леса\n",
    "cm_rf = confusion_matrix(target_valid, predicted_valid, labels=model_rf.classes_)\n",
    "disp = ConfusionMatrixDisplay(confusion_matrix=cm_rf,\n",
    "                              display_labels=model_rf.classes_)\n",
    "disp.plot();"
   ]
  },
  {
   "cell_type": "markdown",
   "metadata": {},
   "source": [
    "Матрица ошибок модели случайного леса нам показывает, что истинно отрицательных ответов у нас большинство, соответственно модель прогнозирует и работает корректно."
   ]
  },
  {
   "cell_type": "markdown",
   "metadata": {},
   "source": [
    "**Логистическая регрессия**"
   ]
  },
  {
   "cell_type": "code",
   "execution_count": 76,
   "metadata": {},
   "outputs": [
    {
     "name": "stdout",
     "output_type": "stream",
     "text": [
      "F1 наилучшей модели: 0.3306772908366534\n",
      "CPU times: user 42.9 ms, sys: 36 ms, total: 78.9 ms\n",
      "Wall time: 58.6 ms\n"
     ]
    }
   ],
   "source": [
    "%%time\n",
    "#Исследуем качество логистической регрессии на валидационной выборке\n",
    "model_lg = LogisticRegression(random_state=12345, solver='liblinear', max_iter=1000)\n",
    "model_lg.fit(features_train, target_train) \n",
    "predicted_valid = model_lg.predict(features_valid)\n",
    "\n",
    "print('F1 наилучшей модели:', f1_score(target_valid, predicted_valid))"
   ]
  },
  {
   "cell_type": "markdown",
   "metadata": {},
   "source": [
    "F1-метрика наилучшей модели логистической регрессии на валидационной выборке: 0.08."
   ]
  },
  {
   "cell_type": "code",
   "execution_count": 77,
   "metadata": {},
   "outputs": [
    {
     "name": "stdout",
     "output_type": "stream",
     "text": [
      "AUC-ROC лучшей модели логистической регрессии: 0.7892507409139087\n"
     ]
    }
   ],
   "source": [
    "#Измерим AUC-ROC для модели логистической регрессии\n",
    "probabilities_valid = model_lg.predict_proba(features_valid)\n",
    "probabilities_one_valid = probabilities_valid[:, 1]\n",
    "\n",
    "auc_roc = roc_auc_score(target_valid, probabilities_valid[:, 1])\n",
    "\n",
    "print('AUC-ROC лучшей модели логистической регрессии:', auc_roc)"
   ]
  },
  {
   "cell_type": "code",
   "execution_count": 79,
   "metadata": {
    "scrolled": true
   },
   "outputs": [
    {
     "data": {
      "image/png": "[encoded data removed]",
      "text/plain": [
       "<Figure size 432x288 with 2 Axes>"
      ]
     },
     "metadata": {
      "needs_background": "light"
     },
     "output_type": "display_data"
    }
   ],
   "source": [
    "#Построим матрицу ошибок модели логистической регрессии\n",
    "cm_lg = confusion_matrix(target_valid, predicted_valid, labels=model_lg.classes_)\n",
    "disp = ConfusionMatrixDisplay(confusion_matrix=cm_lg,\n",
    "                              display_labels=model_lg.classes_)\n",
    "disp.plot();"
   ]
  },
  {
   "cell_type": "markdown",
   "metadata": {},
   "source": [
    "Матрица ошибок модели случайного леса нам показывает, что истинно отрицательных ответов у нас большинство, соответственно модель прогнозирует и работает корректно."
   ]
  },
  {
   "cell_type": "markdown",
   "metadata": {},
   "source": [
    "###  Вывод:\n",
    "Мы исследовали качество разных моделей без учёта дисбаланса, меняя гиперпараметры. <br>\n",
    "Наилучшей моделью оказался случайный лес - F1-мера наилучшей модели на валидационной выборке составляет: 0.6016806722689076 при значении AUC-ROC: 0.8763013726699167.<br>\n",
    "Второй по значимости моделью является решающее дерево - F1-мера лучшей модели: 0.5939597315436241 при значении AUC-ROC: 0.8172638994704166.<br>\n",
    "Замыкающей моделью является логистическая регрессия - F1-мера наилучшей модели 0.3306772908366534 при значении AUC-ROC: 0.7892507409139087.<br>\n",
    "\n",
    "Наулучшим значением AUC-ROC является 0.8763013726699167 при модели случайного леса.<br>\n",
    "\n",
    "Мы построили матрицу ошибок для каждой модели, матрица у всех моделей нам так же показывает, что присутсвует дисбаланс классов."
   ]
  },
  {
   "cell_type": "markdown",
   "metadata": {},
   "source": [
    "## Борьба с дисбалансом"
   ]
  },
  {
   "cell_type": "markdown",
   "metadata": {},
   "source": [
    "Чтобы увеличить качество модели при дисбалансе классов, мы применим три техники: взвешивание классов, upsampling и downsampling."
   ]
  },
  {
   "cell_type": "markdown",
   "metadata": {},
   "source": [
    "###  Взвешивание классов"
   ]
  },
  {
   "cell_type": "markdown",
   "metadata": {},
   "source": [
    "**Решающее дерево**"
   ]
  },
  {
   "cell_type": "code",
   "execution_count": 82,
   "metadata": {},
   "outputs": [
    {
     "name": "stderr",
     "output_type": "stream",
     "text": [
      "100%|██████████| 25/25 [00:54<00:00,  2.16s/it]"
     ]
    },
    {
     "name": "stdout",
     "output_type": "stream",
     "text": [
      "F1 лучшей модели: 0.5731108930323847\n",
      "Глубина дерева: 5\n",
      "Минимальное количество примеров для разделения: 2\n",
      "Минимальное количество объектов в листе: 10\n"
     ]
    },
    {
     "name": "stderr",
     "output_type": "stream",
     "text": [
      "\n"
     ]
    }
   ],
   "source": [
    "#Исследуем качество решающего дерева на валидационной выборке на f1 метрике и взвесим классы\n",
    "best_model_dt = None\n",
    "best_result_dt = 0\n",
    "best_depth_dt = 0\n",
    "best_split_dt = 0\n",
    "best_leaf_dt = 0\n",
    "for depth in tqdm (range(1, 50, 2)):\n",
    "    for split in range(2, 11):\n",
    "        for leaf in range(1, 11):\n",
    "            model_dt = DecisionTreeClassifier(random_state=12345, max_depth=depth, \n",
    "                                              min_samples_split=split, min_samples_leaf=leaf, class_weight='balanced')\n",
    "            model_dt.fit(features_train, target_train)\n",
    "            predicted_valid = model_dt.predict(features_valid)\n",
    "            result = f1_score(target_valid, predicted_valid)\n",
    "            if result > best_result_dt:\n",
    "                best_model_dt = model_dt\n",
    "                best_result_dt = result\n",
    "                best_depth_dt = depth\n",
    "                best_split_dt = split\n",
    "                best_leaf_dt = leaf\n",
    "        \n",
    "print('F1 лучшей модели:', best_result_dt) \n",
    "print('Глубина дерева:', best_depth_dt)\n",
    "print('Минимальное количество примеров для разделения:', best_split_dt) \n",
    "print('Минимальное количество объектов в листе:', best_leaf_dt) "
   ]
  },
  {
   "cell_type": "markdown",
   "metadata": {},
   "source": [
    "F1 решающего дерева после взвешивания классов стал хуже - 0.57 при глубине дерева 5, минимальном количестве разделения 2 и минимальном количестве объектов в листе 10."
   ]
  },
  {
   "cell_type": "code",
   "execution_count": 83,
   "metadata": {},
   "outputs": [
    {
     "name": "stdout",
     "output_type": "stream",
     "text": [
      "AUC-ROC лучшей модели решающего дерева: 0.8097616222428783\n"
     ]
    }
   ],
   "source": [
    "#Измерим AUC-ROC для модели решающего дерева\n",
    "probabilities_valid = model_dt.predict_proba(features_valid)\n",
    "probabilities_one_valid = probabilities_valid[:, 1]\n",
    "\n",
    "auc_roc = roc_auc_score(target_valid, probabilities_valid[:, 1])\n",
    "\n",
    "print('AUC-ROC лучшей модели решающего дерева:', auc_roc)"
   ]
  },
  {
   "cell_type": "markdown",
   "metadata": {},
   "source": [
    "**Случайный лес**"
   ]
  },
  {
   "cell_type": "code",
   "execution_count": 84,
   "metadata": {},
   "outputs": [
    {
     "name": "stderr",
     "output_type": "stream",
     "text": [
      "100%|██████████| 25/25 [00:26<00:00,  1.07s/it]"
     ]
    },
    {
     "name": "stdout",
     "output_type": "stream",
     "text": [
      "F1 наилучшей модели: 0.6468200270635995\n",
      "Количество деревьев: 29\n",
      "Максимальная глубина: 10\n"
     ]
    },
    {
     "name": "stderr",
     "output_type": "stream",
     "text": [
      "\n"
     ]
    }
   ],
   "source": [
    "#Исследуем качество случайного леса на валидационной выборке и взвесим классы\n",
    "best_model_rf = None\n",
    "best_result_rf = 0\n",
    "best_est_rf = 0\n",
    "best_depth_rf = 0\n",
    "for est in tqdm (range(1, 50, 2)):\n",
    "    for depth in range(1, 11):\n",
    "        model_rf = RandomForestClassifier(random_state=12345, n_estimators=est, max_depth=depth, class_weight='balanced')\n",
    "        model_rf.fit(features_train, target_train)\n",
    "        predicted_valid = model_rf.predict(features_valid)\n",
    "        result = f1_score(target_valid, predicted_valid)\n",
    "        if result > best_result_rf:\n",
    "            best_model_rf = model_rf\n",
    "            best_result_rf = result\n",
    "            best_est_rf = est\n",
    "            best_depth_rf = depth\n",
    "            \n",
    "print('F1 наилучшей модели:', best_result_rf)\n",
    "print('Количество деревьев:', best_est_rf)\n",
    "print('Максимальная глубина:', depth)"
   ]
  },
  {
   "cell_type": "markdown",
   "metadata": {},
   "source": [
    "F1 случайного леса после взвешивания классов стал лучше: 0.65, при количестве деревьев 29 и глубине дерева 10."
   ]
  },
  {
   "cell_type": "code",
   "execution_count": 85,
   "metadata": {},
   "outputs": [
    {
     "name": "stdout",
     "output_type": "stream",
     "text": [
      "AUC-ROC лучшей модели случайного леса: 0.8725087875835682\n"
     ]
    }
   ],
   "source": [
    "#Измерим AUC-ROC для модели случайного леса\n",
    "probabilities_valid = model_rf.predict_proba(features_valid)\n",
    "probabilities_one_valid = probabilities_valid[:, 1]\n",
    "\n",
    "auc_roc = roc_auc_score(target_valid, probabilities_valid[:, 1])\n",
    "\n",
    "print('AUC-ROC лучшей модели случайного леса:', auc_roc)"
   ]
  },
  {
   "cell_type": "markdown",
   "metadata": {},
   "source": [
    "**Логистическая регрессия**"
   ]
  },
  {
   "cell_type": "code",
   "execution_count": 86,
   "metadata": {},
   "outputs": [
    {
     "name": "stdout",
     "output_type": "stream",
     "text": [
      "F1 наилучшей модели: 0.5065420560747663\n",
      "CPU times: user 43.3 ms, sys: 48 ms, total: 91.3 ms\n",
      "Wall time: 30.8 ms\n"
     ]
    }
   ],
   "source": [
    "%%time\n",
    "#Исследуем качество логистической регрессии на валидационной выборке и взвесим классы\n",
    "model_lg = LogisticRegression(random_state=12345, solver='liblinear', max_iter=1000, class_weight='balanced')\n",
    "model_lg.fit(features_train, target_train) \n",
    "predicted_valid = model_lg.predict(features_valid)\n",
    "\n",
    "print('F1 наилучшей модели:', f1_score(target_valid, predicted_valid))"
   ]
  },
  {
   "cell_type": "markdown",
   "metadata": {},
   "source": [
    "F1 логистической регрессии после взвешивания классов стал значительно лучше: : 0.51."
   ]
  },
  {
   "cell_type": "code",
   "execution_count": 87,
   "metadata": {},
   "outputs": [
    {
     "name": "stdout",
     "output_type": "stream",
     "text": [
      "AUC-ROC лучшей модели логистической регрессии: 0.7907893829970736\n"
     ]
    }
   ],
   "source": [
    "#Измерим AUC-ROC для модели логистической регрессии\n",
    "probabilities_valid = model_lg.predict_proba(features_valid)\n",
    "probabilities_one_valid = probabilities_valid[:, 1]\n",
    "\n",
    "auc_roc = roc_auc_score(target_valid, probabilities_valid[:, 1])\n",
    "\n",
    "print('AUC-ROC лучшей модели логистической регрессии:', auc_roc)"
   ]
  },
  {
   "cell_type": "markdown",
   "metadata": {},
   "source": [
    "**Вывод:** <br>\n",
    "Наилучшей моделью техники взвешивания классов стала модель случайного леса: F1 наиулучшей модели составляет 0.6468200270635995 при значении AUC-ROC: 0.8725087875835682"
   ]
  },
  {
   "cell_type": "markdown",
   "metadata": {},
   "source": [
    "###  Увеличение выборки (upsampling)"
   ]
  },
  {
   "cell_type": "code",
   "execution_count": 88,
   "metadata": {},
   "outputs": [],
   "source": [
    "#Проведем увеличение выборки\n",
    "def upsample(features, target, repeat):\n",
    "    features_zeros = features[target == 0]\n",
    "    features_ones = features[target == 1]\n",
    "    target_zeros = target[target == 0]\n",
    "    target_ones = target[target == 1]\n",
    "\n",
    "    features_upsampled = pd.concat([features_zeros] + [features_ones] * repeat)\n",
    "    target_upsampled = pd.concat([target_zeros] + [target_ones] * repeat)\n",
    "    \n",
    "    features_upsampled, target_upsampled = shuffle(\n",
    "        features_upsampled, target_upsampled, random_state=12345)\n",
    "    \n",
    "    return features_upsampled, target_upsampled\n",
    "\n",
    "features_upsampled, target_upsampled = upsample(features_train, target_train, 4)"
   ]
  },
  {
   "cell_type": "markdown",
   "metadata": {},
   "source": [
    "**Решающее дерево**"
   ]
  },
  {
   "cell_type": "code",
   "execution_count": 100,
   "metadata": {},
   "outputs": [
    {
     "name": "stderr",
     "output_type": "stream",
     "text": [
      "100%|██████████| 25/25 [01:11<00:00,  2.86s/it]"
     ]
    },
    {
     "name": "stdout",
     "output_type": "stream",
     "text": [
      "F1 лучшей модели: 0.5711481844946025\n",
      "Глубина дерева: 5\n",
      "Минимальное количество примеров для разделения: 2\n",
      "Минимальное количество объектов в листе: 1\n"
     ]
    },
    {
     "name": "stderr",
     "output_type": "stream",
     "text": [
      "\n"
     ]
    }
   ],
   "source": [
    "#Исследуем качество решающего дерева на валидационной выборке на f1 метрике с помощью техники upsampling\n",
    "best_model_dt = None\n",
    "best_result_dt = 0\n",
    "best_depth_dt = 0\n",
    "best_split_dt = 0\n",
    "best_leaf_dt = 0\n",
    "for depth in tqdm (range(1, 50, 2)):\n",
    "    for split in range(2, 11):\n",
    "        for leaf in range(1, 11):\n",
    "            model_dt = DecisionTreeClassifier(random_state=12345, max_depth=depth, \n",
    "                                              min_samples_split=split, min_samples_leaf=leaf)\n",
    "            model_dt.fit(features_upsampled, target_upsampled)\n",
    "            predicted_valid = model_dt.predict(features_valid)\n",
    "            result = f1_score(target_valid, predicted_valid)\n",
    "            if result > best_result_dt:\n",
    "                best_model_dt = model_dt\n",
    "                best_result_dt = result\n",
    "                best_depth_dt = depth\n",
    "                best_split_dt = split\n",
    "                best_leaf_dt = leaf\n",
    "        \n",
    "print('F1 лучшей модели:', best_result_dt) \n",
    "print('Глубина дерева:', best_depth_dt)\n",
    "print('Минимальное количество примеров для разделения:', best_split_dt) \n",
    "print('Минимальное количество объектов в листе:', best_leaf_dt) "
   ]
  },
  {
   "cell_type": "markdown",
   "metadata": {},
   "source": [
    "F1 решающего дерева после увеличения выборки остался примерно на том же уровне - 0.57 при глубине дерева 5, минимальном количестве разделения 2 и минимальном количестве объектов в листе 1."
   ]
  },
  {
   "cell_type": "code",
   "execution_count": 101,
   "metadata": {},
   "outputs": [
    {
     "name": "stdout",
     "output_type": "stream",
     "text": [
      "AUC-ROC лучшей модели решающего дерева: 0.790183053701589\n"
     ]
    }
   ],
   "source": [
    "#Измерим AUC-ROC для модели решающего дерева\n",
    "probabilities_valid = model_dt.predict_proba(features_valid)\n",
    "probabilities_one_valid = probabilities_valid[:, 1]\n",
    "\n",
    "auc_roc = roc_auc_score(target_valid, probabilities_valid[:, 1])\n",
    "\n",
    "print('AUC-ROC лучшей модели решающего дерева:', auc_roc)"
   ]
  },
  {
   "cell_type": "markdown",
   "metadata": {},
   "source": [
    "**Случайный лес**"
   ]
  },
  {
   "cell_type": "code",
   "execution_count": 102,
   "metadata": {},
   "outputs": [
    {
     "name": "stderr",
     "output_type": "stream",
     "text": [
      "100%|██████████| 25/25 [00:37<00:00,  1.50s/it]"
     ]
    },
    {
     "name": "stdout",
     "output_type": "stream",
     "text": [
      "F1 наилучшей модели: 0.6399026763990266\n",
      "Количество деревьев: 33\n",
      "Максимальная глубина: 10\n"
     ]
    },
    {
     "name": "stderr",
     "output_type": "stream",
     "text": [
      "\n"
     ]
    }
   ],
   "source": [
    "#Исследуем качество случайного леса на валидационной выборке с помощью техники upsampling\n",
    "best_model_rf = None\n",
    "best_result_rf = 0\n",
    "best_est_rf = 0\n",
    "best_depth_rf = 0\n",
    "for est in tqdm (range(1, 50, 2)):\n",
    "    for depth in range(1, 11):\n",
    "        model_rf = RandomForestClassifier(random_state=12345, n_estimators=est, max_depth=depth)\n",
    "        model_rf.fit(features_upsampled, target_upsampled)\n",
    "        predicted_valid = model_rf.predict(features_valid)\n",
    "        result = f1_score(target_valid, predicted_valid)\n",
    "        if result > best_result_rf:\n",
    "            best_model_rf = model_rf\n",
    "            best_result_rf = result\n",
    "            best_est_rf = est\n",
    "            best_depth_rf = depth\n",
    "            \n",
    "print('F1 наилучшей модели:', best_result_rf)\n",
    "print('Количество деревьев:', best_est_rf)\n",
    "print('Максимальная глубина:', depth)"
   ]
  },
  {
   "cell_type": "markdown",
   "metadata": {},
   "source": [
    "F1 случайного леса после увеличения выборки стало немного хуже: 0.64, при количестве деревьев 33 и глубине дерева 10."
   ]
  },
  {
   "cell_type": "code",
   "execution_count": 103,
   "metadata": {},
   "outputs": [
    {
     "name": "stdout",
     "output_type": "stream",
     "text": [
      "AUC-ROC лучшей модели случайного леса: 0.873371246765778\n"
     ]
    }
   ],
   "source": [
    "#Измерим AUC-ROC для модели случайного леса\n",
    "probabilities_valid = model_rf.predict_proba(features_valid)\n",
    "probabilities_one_valid = probabilities_valid[:, 1]\n",
    "\n",
    "auc_roc = roc_auc_score(target_valid, probabilities_valid[:, 1])\n",
    "\n",
    "print('AUC-ROC лучшей модели случайного леса:', auc_roc)"
   ]
  },
  {
   "cell_type": "markdown",
   "metadata": {},
   "source": [
    "**Логистическая регрессия**"
   ]
  },
  {
   "cell_type": "code",
   "execution_count": 104,
   "metadata": {},
   "outputs": [
    {
     "name": "stdout",
     "output_type": "stream",
     "text": [
      "F1 наилучшей модели: 0.5050878815911193\n",
      "CPU times: user 24.4 ms, sys: 63.9 ms, total: 88.3 ms\n",
      "Wall time: 34.3 ms\n"
     ]
    }
   ],
   "source": [
    "%%time\n",
    "#Исследуем качество логистической регрессии на валидационной выборке с помощью техники upsampling\n",
    "model_lg = LogisticRegression(random_state=12345, solver='liblinear', max_iter=1000)\n",
    "model_lg.fit(features_upsampled, target_upsampled) \n",
    "predicted_valid = model_lg.predict(features_valid)\n",
    "\n",
    "print('F1 наилучшей модели:', f1_score(target_valid, predicted_valid))"
   ]
  },
  {
   "cell_type": "markdown",
   "metadata": {},
   "source": [
    "F1 логистической регрессии после увеличения выборки стало хуже: : 0.50."
   ]
  },
  {
   "cell_type": "code",
   "execution_count": 105,
   "metadata": {},
   "outputs": [
    {
     "name": "stdout",
     "output_type": "stream",
     "text": [
      "AUC-ROC лучшей модели логистической регрессии: 0.7907856574714484\n"
     ]
    }
   ],
   "source": [
    "#Измерим AUC-ROC для модели логистической регрессии\n",
    "probabilities_valid = model_lg.predict_proba(features_valid)\n",
    "probabilities_one_valid = probabilities_valid[:, 1]\n",
    "\n",
    "auc_roc = roc_auc_score(target_valid, probabilities_valid[:, 1])\n",
    "\n",
    "print('AUC-ROC лучшей модели логистической регрессии:', auc_roc)"
   ]
  },
  {
   "cell_type": "markdown",
   "metadata": {},
   "source": [
    "**Вывод:** <br>\n",
    "Наилучшей моделью техники увеличения выборки (upsampling) стала модель случайного леса: F1 наиулучшей модели составляет 0.6399026763990266 при значении AUC-ROC: 0.873371246765778."
   ]
  },
  {
   "cell_type": "markdown",
   "metadata": {},
   "source": [
    "###  Уменьшение выборки (downsampling)"
   ]
  },
  {
   "cell_type": "code",
   "execution_count": 106,
   "metadata": {},
   "outputs": [],
   "source": [
    "def downsample(features, target, fraction):\n",
    "    features_zeros = features[target == 0]\n",
    "    features_ones = features[target == 1]\n",
    "    target_zeros = target[target == 0]\n",
    "    target_ones = target[target == 1]\n",
    "\n",
    "    features_downsampled = pd.concat(\n",
    "        [features_zeros.sample(frac=fraction, random_state=12345)] + [features_ones])\n",
    "    target_downsampled = pd.concat(\n",
    "        [target_zeros.sample(frac=fraction, random_state=12345)] + [target_ones])\n",
    "    \n",
    "    features_downsampled, target_downsampled = shuffle(\n",
    "        features_downsampled, target_downsampled, random_state=12345)\n",
    "    \n",
    "    return features_downsampled, target_downsampled\n",
    "\n",
    "features_downsampled, target_downsampled = downsample(features_train, target_train, 0.4)"
   ]
  },
  {
   "cell_type": "markdown",
   "metadata": {},
   "source": [
    "Маш, на 0.25 надо умножить"
   ]
  },
  {
   "cell_type": "markdown",
   "metadata": {},
   "source": [
    "**Решающее дерево**"
   ]
  },
  {
   "cell_type": "code",
   "execution_count": 107,
   "metadata": {},
   "outputs": [
    {
     "name": "stderr",
     "output_type": "stream",
     "text": [
      "100%|██████████| 25/25 [00:33<00:00,  1.36s/it]"
     ]
    },
    {
     "name": "stdout",
     "output_type": "stream",
     "text": [
      "F1 лучшей модели: 0.6086956521739131\n",
      "Глубина дерева: 5\n",
      "Минимальное количество примеров для разделения: 2\n",
      "Минимальное количество объектов в листе: 9\n"
     ]
    },
    {
     "name": "stderr",
     "output_type": "stream",
     "text": [
      "\n"
     ]
    }
   ],
   "source": [
    "#Исследуем качество решающего дерева на валидационной выборке на f1 метрике с помощью техники downsampling\n",
    "best_model_dt = None\n",
    "best_result_dt = 0\n",
    "best_depth_dt = 0\n",
    "best_split_dt = 0\n",
    "best_leaf_dt = 0\n",
    "for depth in tqdm (range(1, 50, 2)):\n",
    "    for split in range(2, 11):\n",
    "        for leaf in range(1, 11):\n",
    "            model_dt = DecisionTreeClassifier(random_state=12345, max_depth=depth, \n",
    "                                              min_samples_split=split, min_samples_leaf=leaf)\n",
    "            model_dt.fit(features_downsampled, target_downsampled)\n",
    "            predicted_valid = model_dt.predict(features_valid)\n",
    "            result = f1_score(target_valid, predicted_valid)\n",
    "            if result > best_result_dt:\n",
    "                best_model_dt = model_dt\n",
    "                best_result_dt = result\n",
    "                best_depth_dt = depth\n",
    "                best_split_dt = split\n",
    "                best_leaf_dt = leaf\n",
    "        \n",
    "print('F1 лучшей модели:', best_result_dt) \n",
    "print('Глубина дерева:', best_depth_dt)\n",
    "print('Минимальное количество примеров для разделения:', best_split_dt) \n",
    "print('Минимальное количество объектов в листе:', best_leaf_dt) "
   ]
  },
  {
   "cell_type": "markdown",
   "metadata": {},
   "source": [
    "F1 решающего дерева после уменьшения выборки стал лучше - 0.61 при глубине дерева 5, минимальном количестве разделения 2 и минимальном количестве объектов в листе 9."
   ]
  },
  {
   "cell_type": "code",
   "execution_count": 108,
   "metadata": {},
   "outputs": [
    {
     "name": "stdout",
     "output_type": "stream",
     "text": [
      "AUC-ROC лучшей модели решающего дерева: 0.820513489196907\n"
     ]
    }
   ],
   "source": [
    "#Измерим AUC-ROC для модели решающего дерева\n",
    "probabilities_valid = model_dt.predict_proba(features_valid)\n",
    "probabilities_one_valid = probabilities_valid[:, 1]\n",
    "\n",
    "auc_roc = roc_auc_score(target_valid, probabilities_valid[:, 1])\n",
    "\n",
    "print('AUC-ROC лучшей модели решающего дерева:', auc_roc)"
   ]
  },
  {
   "cell_type": "markdown",
   "metadata": {},
   "source": [
    "**Случайный лес**"
   ]
  },
  {
   "cell_type": "code",
   "execution_count": 109,
   "metadata": {},
   "outputs": [
    {
     "name": "stderr",
     "output_type": "stream",
     "text": [
      "100%|██████████| 25/25 [00:20<00:00,  1.20it/s]"
     ]
    },
    {
     "name": "stdout",
     "output_type": "stream",
     "text": [
      "F1 наилучшей модели: 0.6508563899868247\n",
      "Количество деревьев: 39\n",
      "Максимальная глубина: 10\n"
     ]
    },
    {
     "name": "stderr",
     "output_type": "stream",
     "text": [
      "\n"
     ]
    }
   ],
   "source": [
    "#Исследуем качество случайного леса на валидационной выборке с помощью техники downsampling\n",
    "best_model_rf = None\n",
    "best_result_rf = 0\n",
    "best_est_rf = 0\n",
    "best_depth_rf = 0\n",
    "for est in tqdm (range(1, 50, 2)):\n",
    "    for depth in range(1, 11):\n",
    "        model_rf = RandomForestClassifier(random_state=12345, n_estimators=est, max_depth=depth)\n",
    "        model_rf.fit(features_downsampled, target_downsampled)\n",
    "        predicted_valid = model_rf.predict(features_valid)\n",
    "        result = f1_score(target_valid, predicted_valid)\n",
    "        if result > best_result_rf:\n",
    "            best_model_rf = model_rf\n",
    "            best_result_rf = result\n",
    "            best_est_rf = est\n",
    "            best_depth_rf = depth\n",
    "            \n",
    "print('F1 наилучшей модели:', best_result_rf)\n",
    "print('Количество деревьев:', best_est_rf)\n",
    "print('Максимальная глубина:', depth)"
   ]
  },
  {
   "cell_type": "markdown",
   "metadata": {},
   "source": [
    "F1 случайного леса после уменьшения выборки улучшилось: 0.65, при количестве деревьев 39 и глубине дерева 10."
   ]
  },
  {
   "cell_type": "code",
   "execution_count": 110,
   "metadata": {},
   "outputs": [
    {
     "name": "stdout",
     "output_type": "stream",
     "text": [
      "AUC-ROC лучшей модели случайного леса: 0.8755506792564597\n"
     ]
    }
   ],
   "source": [
    "#Измерим AUC-ROC для модели случайного леса\n",
    "probabilities_valid = model_rf.predict_proba(features_valid)\n",
    "probabilities_one_valid = probabilities_valid[:, 1]\n",
    "\n",
    "auc_roc = roc_auc_score(target_valid, probabilities_valid[:, 1])\n",
    "\n",
    "print('AUC-ROC лучшей модели случайного леса:', auc_roc)"
   ]
  },
  {
   "cell_type": "markdown",
   "metadata": {},
   "source": [
    "**Логистическая регрессия**"
   ]
  },
  {
   "cell_type": "code",
   "execution_count": 111,
   "metadata": {},
   "outputs": [
    {
     "name": "stdout",
     "output_type": "stream",
     "text": [
      "F1 наилучшей модели: 0.5253012048192772\n",
      "CPU times: user 13 ms, sys: 15.9 ms, total: 28.9 ms\n",
      "Wall time: 16.2 ms\n"
     ]
    }
   ],
   "source": [
    "%%time\n",
    "#Исследуем качество логистической регрессии на валидационной выборке с помощью техники downsampling\n",
    "model_lg = LogisticRegression(random_state=12345, solver='liblinear', max_iter=1000)\n",
    "model_lg.fit(features_downsampled, target_downsampled) \n",
    "predicted_valid = model_lg.predict(features_valid)\n",
    "\n",
    "print('F1 наилучшей модели:', f1_score(target_valid, predicted_valid))"
   ]
  },
  {
   "cell_type": "markdown",
   "metadata": {},
   "source": [
    "F1 логистической регрессии после уменьшения выборки стало лучше: : 0.53."
   ]
  },
  {
   "cell_type": "code",
   "execution_count": 112,
   "metadata": {},
   "outputs": [
    {
     "name": "stdout",
     "output_type": "stream",
     "text": [
      "AUC-ROC лучшей модели логистической регрессии: 0.790593792901756\n"
     ]
    }
   ],
   "source": [
    "#Измерим AUC-ROC для модели логистической регрессии\n",
    "probabilities_valid = model_lg.predict_proba(features_valid)\n",
    "probabilities_one_valid = probabilities_valid[:, 1]\n",
    "\n",
    "auc_roc = roc_auc_score(target_valid, probabilities_valid[:, 1])\n",
    "\n",
    "print('AUC-ROC лучшей модели логистической регрессии:', auc_roc)"
   ]
  },
  {
   "cell_type": "markdown",
   "metadata": {},
   "source": [
    "**Вывод:** <br>\n",
    "Наилучшей моделью техники уменьшения выборки (downsampling) стала модель случайного леса: F1 наилучшей модели составляет 0.6508563899868247 при значении AUC-ROC: 0.8755506792564597."
   ]
  },
  {
   "cell_type": "markdown",
   "metadata": {},
   "source": [
    "###  Вывод:\n",
    "\n",
    "Мы улучшили качество моделей, учитывая дисбаланс классов (мы применили три техники: взвешивание классов, upsampling и downsampling). <br>\n",
    "Наилучшей моделью является Random Forest - случайный лес: F1 наилучшей модели составляет 0.6508563899868247 при значении AUC-ROC: 0.8755506792564597, значение которого мы добились с помощью техники уменьшения выборки (downsampling), а так же 0.6468200270635995 при значении AUC-ROC: 0.8725087875835682, мы добились улучшения модели с помощью техники взвешивания классов."
   ]
  },
  {
   "cell_type": "markdown",
   "metadata": {},
   "source": [
    "## Тестирование модели"
   ]
  },
  {
   "cell_type": "code",
   "execution_count": 114,
   "metadata": {},
   "outputs": [
    {
     "name": "stdout",
     "output_type": "stream",
     "text": [
      "F1 модели: 0.606993006993007\n"
     ]
    }
   ],
   "source": [
    "#Наилучшей моделью по F1 оказался случайный лес, поэтому случайный лес будем проверять на тестовой выборке\n",
    "model = RandomForestClassifier(random_state=12345, n_estimators=29, max_depth=10, class_weight='balanced')\n",
    "model.fit(features_train, target_train)\n",
    "predicted_test = model.predict(features_test)\n",
    "resul_f1 = f1_score(target_test, predicted_test)\n",
    "\n",
    "print('F1 модели:', resul_f1)"
   ]
  },
  {
   "cell_type": "code",
   "execution_count": 116,
   "metadata": {},
   "outputs": [
    {
     "name": "stdout",
     "output_type": "stream",
     "text": [
      "AUC-ROC модели случайного леса: 0.8469903649982875\n"
     ]
    }
   ],
   "source": [
    "#Измерим AUC-ROC для модели случайного леса\n",
    "probabilities_test = model.predict_proba(features_test)\n",
    "probabilities_one_test = probabilities_test[:, 1]\n",
    "\n",
    "auc_roc = roc_auc_score(target_test, probabilities_test[:, 1])\n",
    "\n",
    "print('AUC-ROC модели случайного леса:', auc_roc)"
   ]
  },
  {
   "cell_type": "markdown",
   "metadata": {},
   "source": [
    "### Вывод:\n",
    "Мы проверили модель на теcтовой выборке. <br>\n",
    "Выявили, что наилучшей моделью по F1 оказался случайный лес, поэтому случайный лес мы проверили на тестовой выборке с учетом техники взвешивания классов. F1 модели случайного леса на тестовой выборке составляет: 0.606993006993007 при AUC-ROC модели: 0.8469903649982875. Нам удалось достичь F1-меры не менее 0.59."
   ]
  },
  {
   "cell_type": "markdown",
   "metadata": {},
   "source": [
    "## Общий вывод:\n",
    "1. Мы ознакомились с представленным датафреймом и провели предобработку данных.<br>\n",
    "\n",
    "2. Разделили исходные данные на обучающую, валидационную и тестовую выборки в соотношении 3:1:1.<br>\n",
    "\n",
    "3. Применили прямое кодирование к категориальным данным, а так же масштабировали признаки.<br>\n",
    "\n",
    "4. Выявили дисбаланс классов и исследовали качество разных моделей без учёта дисбаланса, меняя гиперпараметры:<br>\n",
    "• Наилучшей моделью оказался случайный лес - F1-мера наилучшей модели на валидационной выборке составляет: 0.6016806722689076 при значении AUC-ROC: 0.8763013726699167;<br>\n",
    "• Второй по значимости моделью является решающее дерево - F1-мера лучшей модели: 0.5939597315436241 при значении AUC-ROC: 0.8172638994704166;<br>\n",
    "• Замыкающей моделью является логистическая регрессия - F1-мера наилучшей модели 0.3306772908366534 при значении AUC-ROC: 0.7892507409139087.<br>\n",
    "\n",
    "5. Мы улучшили качество моделей, учитывая дисбаланс классов, применили три техники: взвешивание классов, upsampling и downsampling. <br>\n",
    "\n",
    "6. Мы добились улучшения модели с помощью двух техник: взвешивания классов и уменьшения выборки (downsampling):<br>\n",
    "• Наилучшей моделью является Random Forest - случайный лес: F1 наилучшей модели составляет 0.6468200270635995 при значении AUC-ROC: 0.8725087875835682.<br>\n",
    "• И F1 наилучшей модели составляет 0.6508563899868247 при значении AUC-ROC: 0.8755506792564597.\n",
    "\n",
    "7. Мы проверили модель на теcтовой выборке,  нам удалось достичь F1-меры не менее 0.59: <br>\n",
    "• F1 наилучшей модели случайного леса на тестовой выборке составляет: 0.606993006993007 при AUC-ROC модели: 0.8469903649982875.<br>\n",
    "\n",
    "Рекомендации:<br>\n",
    "Мы выявили наилучшую модель (случайный лес, RandomForest), у которой была наивысшая точность среди всех моделей. Данная модель готова для исследования и внедрения в бизнес. С помощью модели случайного леса прогноз о том, уйдет клиент из банка в ближайшее время или нет - будет точным. Следовательно, с помощью правильного прогноза – «Бета-Банк» сможет выявить и попытаться сохранить клиента (предложить лояльные условия пользования банковскими продуктами, чтобы клиент оставался в компании как можно дольше и больше не намеревался уходить). Следовательно, чем точнее будет прогноз, тем больше шансов выявить уходящих клиентов и успеть предложить более выгодные условия, тем самым сохранив и клиентов и не понести убытков для компании. \n"
   ]
  }
 ],
 "metadata": {
  "ExecuteTimeLog": [
   {
    "duration": 71,
    "start_time": "2023-04-26T11:57:19.773Z"
   },
   {
    "duration": 453,
    "start_time": "2023-04-26T11:57:37.245Z"
   },
   {
    "duration": 115,
    "start_time": "2023-04-26T11:57:37.793Z"
   },
   {
    "duration": 240,
    "start_time": "2023-04-26T11:58:30.068Z"
   },
   {
    "duration": 39,
    "start_time": "2023-04-26T11:58:35.990Z"
   },
   {
    "duration": 49,
    "start_time": "2023-04-26T12:07:41.065Z"
   },
   {
    "duration": 12,
    "start_time": "2023-04-26T14:27:10.705Z"
   },
   {
    "duration": 43,
    "start_time": "2023-04-26T14:28:37.539Z"
   },
   {
    "duration": 14,
    "start_time": "2023-04-26T14:29:39.443Z"
   },
   {
    "duration": 18,
    "start_time": "2023-04-26T14:29:44.154Z"
   },
   {
    "duration": 18,
    "start_time": "2023-04-26T14:32:45.592Z"
   },
   {
    "duration": 6,
    "start_time": "2023-04-26T14:34:28.537Z"
   },
   {
    "duration": 444,
    "start_time": "2023-04-26T14:34:31.640Z"
   },
   {
    "duration": 3,
    "start_time": "2023-04-26T14:42:27.093Z"
   },
   {
    "duration": 12,
    "start_time": "2023-04-26T14:42:27.496Z"
   },
   {
    "duration": 11,
    "start_time": "2023-04-26T14:43:05.127Z"
   },
   {
    "duration": 40,
    "start_time": "2023-04-26T14:44:02.698Z"
   },
   {
    "duration": 38,
    "start_time": "2023-04-26T14:44:06.322Z"
   },
   {
    "duration": 7,
    "start_time": "2023-04-26T14:44:24.626Z"
   },
   {
    "duration": 7,
    "start_time": "2023-04-26T14:44:49.136Z"
   },
   {
    "duration": 11,
    "start_time": "2023-04-26T14:45:10.374Z"
   },
   {
    "duration": 4,
    "start_time": "2023-04-26T14:52:25.530Z"
   },
   {
    "duration": 2,
    "start_time": "2023-04-26T14:52:34.951Z"
   },
   {
    "duration": 41,
    "start_time": "2023-04-26T14:52:35.548Z"
   },
   {
    "duration": 3,
    "start_time": "2023-04-26T14:52:36.099Z"
   },
   {
    "duration": 8,
    "start_time": "2023-04-26T14:52:37.183Z"
   },
   {
    "duration": 8,
    "start_time": "2023-04-26T14:52:39.386Z"
   },
   {
    "duration": 2,
    "start_time": "2023-04-26T14:52:45.348Z"
   },
   {
    "duration": 41,
    "start_time": "2023-04-26T14:52:45.982Z"
   },
   {
    "duration": 5,
    "start_time": "2023-04-26T14:52:46.615Z"
   },
   {
    "duration": 8,
    "start_time": "2023-04-26T14:52:47.533Z"
   },
   {
    "duration": 7,
    "start_time": "2023-04-26T14:52:48.912Z"
   },
   {
    "duration": 7,
    "start_time": "2023-04-26T14:52:50.575Z"
   },
   {
    "duration": 3,
    "start_time": "2023-04-26T14:53:33.918Z"
   },
   {
    "duration": 41,
    "start_time": "2023-04-26T14:53:34.627Z"
   },
   {
    "duration": 4,
    "start_time": "2023-04-26T14:53:35.362Z"
   },
   {
    "duration": 11,
    "start_time": "2023-04-26T14:53:35.946Z"
   },
   {
    "duration": 3,
    "start_time": "2023-04-26T14:53:43.894Z"
   },
   {
    "duration": 40,
    "start_time": "2023-04-26T14:53:44.343Z"
   },
   {
    "duration": 3,
    "start_time": "2023-04-26T14:53:45.407Z"
   },
   {
    "duration": 17,
    "start_time": "2023-04-26T14:53:46.478Z"
   },
   {
    "duration": 5,
    "start_time": "2023-04-26T14:54:00.668Z"
   },
   {
    "duration": 10,
    "start_time": "2023-04-26T14:54:06.028Z"
   },
   {
    "duration": 8,
    "start_time": "2023-04-26T14:54:25.904Z"
   },
   {
    "duration": 10,
    "start_time": "2023-04-26T14:54:39.683Z"
   },
   {
    "duration": 8,
    "start_time": "2023-04-26T14:55:07.391Z"
   },
   {
    "duration": 10,
    "start_time": "2023-04-26T14:55:52.400Z"
   },
   {
    "duration": 8,
    "start_time": "2023-04-26T14:58:28.870Z"
   },
   {
    "duration": 8,
    "start_time": "2023-04-26T14:58:38.513Z"
   },
   {
    "duration": 8,
    "start_time": "2023-04-26T14:59:03.810Z"
   },
   {
    "duration": 12,
    "start_time": "2023-04-26T14:59:11.299Z"
   },
   {
    "duration": 11,
    "start_time": "2023-04-26T14:59:28.345Z"
   },
   {
    "duration": 9,
    "start_time": "2023-04-26T14:59:39.033Z"
   },
   {
    "duration": 8,
    "start_time": "2023-04-26T15:04:49.597Z"
   },
   {
    "duration": 7,
    "start_time": "2023-04-26T15:04:59.296Z"
   },
   {
    "duration": 7,
    "start_time": "2023-04-26T15:05:01.167Z"
   },
   {
    "duration": 2,
    "start_time": "2023-04-26T15:05:04.274Z"
   },
   {
    "duration": 45,
    "start_time": "2023-04-26T15:05:04.622Z"
   },
   {
    "duration": 2,
    "start_time": "2023-04-26T15:05:05.613Z"
   },
   {
    "duration": 11,
    "start_time": "2023-04-26T15:05:06.383Z"
   },
   {
    "duration": 4,
    "start_time": "2023-04-26T15:05:17.678Z"
   },
   {
    "duration": 8,
    "start_time": "2023-04-26T15:05:22.434Z"
   },
   {
    "duration": 8,
    "start_time": "2023-04-26T15:06:07.226Z"
   },
   {
    "duration": 2,
    "start_time": "2023-04-26T15:06:13.999Z"
   },
   {
    "duration": 40,
    "start_time": "2023-04-26T15:06:14.248Z"
   },
   {
    "duration": 3,
    "start_time": "2023-04-26T15:06:14.838Z"
   },
   {
    "duration": 4,
    "start_time": "2023-04-26T15:06:15.370Z"
   },
   {
    "duration": 7,
    "start_time": "2023-04-26T15:06:16.173Z"
   },
   {
    "duration": 6,
    "start_time": "2023-04-26T15:06:16.860Z"
   },
   {
    "duration": 3,
    "start_time": "2023-04-26T15:06:34.539Z"
   },
   {
    "duration": 45,
    "start_time": "2023-04-26T15:06:34.723Z"
   },
   {
    "duration": 3,
    "start_time": "2023-04-26T15:06:35.104Z"
   },
   {
    "duration": 11,
    "start_time": "2023-04-26T15:06:35.288Z"
   },
   {
    "duration": 6,
    "start_time": "2023-04-26T15:06:35.480Z"
   },
   {
    "duration": 13,
    "start_time": "2023-04-26T15:06:35.707Z"
   },
   {
    "duration": 7,
    "start_time": "2023-04-26T15:07:02.828Z"
   },
   {
    "duration": 13,
    "start_time": "2023-04-26T15:07:03.083Z"
   },
   {
    "duration": 11,
    "start_time": "2023-04-26T15:07:03.299Z"
   },
   {
    "duration": 9,
    "start_time": "2023-04-26T15:07:04.213Z"
   },
   {
    "duration": 7,
    "start_time": "2023-04-26T15:07:04.712Z"
   },
   {
    "duration": 3,
    "start_time": "2023-04-26T15:07:11.878Z"
   },
   {
    "duration": 39,
    "start_time": "2023-04-26T15:07:12.045Z"
   },
   {
    "duration": 11,
    "start_time": "2023-04-26T15:07:12.221Z"
   },
   {
    "duration": 7,
    "start_time": "2023-04-26T15:07:12.394Z"
   },
   {
    "duration": 13,
    "start_time": "2023-04-26T15:07:12.560Z"
   },
   {
    "duration": 12,
    "start_time": "2023-04-26T15:07:12.736Z"
   },
   {
    "duration": 7,
    "start_time": "2023-04-26T15:07:13.022Z"
   },
   {
    "duration": 7,
    "start_time": "2023-04-26T15:07:13.228Z"
   },
   {
    "duration": 35,
    "start_time": "2023-04-26T15:07:14.081Z"
   },
   {
    "duration": 19,
    "start_time": "2023-04-26T15:07:14.699Z"
   },
   {
    "duration": 14,
    "start_time": "2023-04-26T15:07:16.430Z"
   },
   {
    "duration": 4,
    "start_time": "2023-04-26T15:07:16.930Z"
   },
   {
    "duration": 873,
    "start_time": "2023-04-26T15:13:22.689Z"
   },
   {
    "duration": 41,
    "start_time": "2023-04-26T15:13:23.565Z"
   },
   {
    "duration": 12,
    "start_time": "2023-04-26T15:13:23.607Z"
   },
   {
    "duration": 9,
    "start_time": "2023-04-26T15:13:23.621Z"
   },
   {
    "duration": 16,
    "start_time": "2023-04-26T15:13:23.632Z"
   },
   {
    "duration": 14,
    "start_time": "2023-04-26T15:13:23.650Z"
   },
   {
    "duration": 6,
    "start_time": "2023-04-26T15:13:23.896Z"
   },
   {
    "duration": 7,
    "start_time": "2023-04-26T15:13:24.122Z"
   },
   {
    "duration": 38,
    "start_time": "2023-04-26T15:13:24.425Z"
   },
   {
    "duration": 18,
    "start_time": "2023-04-26T15:13:24.750Z"
   },
   {
    "duration": 14,
    "start_time": "2023-04-26T15:13:25.306Z"
   },
   {
    "duration": 4,
    "start_time": "2023-04-26T15:13:25.800Z"
   },
   {
    "duration": 102,
    "start_time": "2023-04-26T15:13:27.403Z"
   },
   {
    "duration": 174,
    "start_time": "2023-04-26T15:18:09.765Z"
   },
   {
    "duration": 3,
    "start_time": "2023-04-26T15:18:11.167Z"
   },
   {
    "duration": 5,
    "start_time": "2023-04-26T15:20:36.714Z"
   },
   {
    "duration": 11,
    "start_time": "2023-04-26T15:20:58.182Z"
   },
   {
    "duration": 8,
    "start_time": "2023-04-26T15:21:23.113Z"
   },
   {
    "duration": 59,
    "start_time": "2023-04-26T15:28:52.036Z"
   },
   {
    "duration": 40,
    "start_time": "2023-04-26T15:28:52.212Z"
   },
   {
    "duration": 12,
    "start_time": "2023-04-26T15:28:52.402Z"
   },
   {
    "duration": 9,
    "start_time": "2023-04-26T15:28:52.571Z"
   },
   {
    "duration": 19,
    "start_time": "2023-04-26T15:28:52.743Z"
   },
   {
    "duration": 11,
    "start_time": "2023-04-26T15:28:52.908Z"
   },
   {
    "duration": 7,
    "start_time": "2023-04-26T15:28:53.064Z"
   },
   {
    "duration": 7,
    "start_time": "2023-04-26T15:28:53.231Z"
   },
   {
    "duration": 35,
    "start_time": "2023-04-26T15:28:53.410Z"
   },
   {
    "duration": 20,
    "start_time": "2023-04-26T15:28:53.570Z"
   },
   {
    "duration": 11,
    "start_time": "2023-04-26T15:28:53.735Z"
   },
   {
    "duration": 4,
    "start_time": "2023-04-26T15:28:53.915Z"
   },
   {
    "duration": 93,
    "start_time": "2023-04-26T15:28:54.243Z"
   },
   {
    "duration": 5,
    "start_time": "2023-04-26T15:28:54.587Z"
   },
   {
    "duration": 12,
    "start_time": "2023-04-26T15:28:54.793Z"
   },
   {
    "duration": 11,
    "start_time": "2023-04-26T15:28:55.178Z"
   },
   {
    "duration": 2,
    "start_time": "2023-04-26T15:43:26.526Z"
   },
   {
    "duration": 198,
    "start_time": "2023-04-26T15:49:05.318Z"
   },
   {
    "duration": 146,
    "start_time": "2023-04-26T15:49:32.328Z"
   },
   {
    "duration": 217,
    "start_time": "2023-04-26T15:49:57.402Z"
   },
   {
    "duration": 2,
    "start_time": "2023-04-26T15:55:29.424Z"
   },
   {
    "duration": 18,
    "start_time": "2023-04-26T16:06:42.886Z"
   },
   {
    "duration": 52,
    "start_time": "2023-04-26T16:06:47.430Z"
   },
   {
    "duration": 13,
    "start_time": "2023-04-26T16:06:49.574Z"
   },
   {
    "duration": 12,
    "start_time": "2023-04-26T16:06:57.637Z"
   },
   {
    "duration": 4,
    "start_time": "2023-04-26T16:07:42.217Z"
   },
   {
    "duration": 36,
    "start_time": "2023-04-26T16:07:42.688Z"
   },
   {
    "duration": 11,
    "start_time": "2023-04-26T16:07:42.784Z"
   },
   {
    "duration": 8,
    "start_time": "2023-04-26T16:07:42.861Z"
   },
   {
    "duration": 12,
    "start_time": "2023-04-26T16:07:42.961Z"
   },
   {
    "duration": 10,
    "start_time": "2023-04-26T16:07:43.073Z"
   },
   {
    "duration": 5,
    "start_time": "2023-04-26T16:07:43.258Z"
   },
   {
    "duration": 7,
    "start_time": "2023-04-26T16:07:43.440Z"
   },
   {
    "duration": 35,
    "start_time": "2023-04-26T16:07:43.622Z"
   },
   {
    "duration": 12,
    "start_time": "2023-04-26T16:07:43.781Z"
   },
   {
    "duration": 11,
    "start_time": "2023-04-26T16:07:43.975Z"
   },
   {
    "duration": 4,
    "start_time": "2023-04-26T16:07:44.146Z"
   },
   {
    "duration": 86,
    "start_time": "2023-04-26T16:07:44.497Z"
   },
   {
    "duration": 17,
    "start_time": "2023-04-26T16:07:44.858Z"
   },
   {
    "duration": 5,
    "start_time": "2023-04-26T16:07:45.879Z"
   },
   {
    "duration": 10,
    "start_time": "2023-04-26T16:07:46.782Z"
   },
   {
    "duration": 8,
    "start_time": "2023-04-26T16:07:47.229Z"
   },
   {
    "duration": 4,
    "start_time": "2023-04-26T16:09:07.939Z"
   },
   {
    "duration": 1335,
    "start_time": "2023-04-26T16:12:25.232Z"
   },
   {
    "duration": 4,
    "start_time": "2023-04-26T16:12:52.977Z"
   },
   {
    "duration": 4,
    "start_time": "2023-04-26T16:14:13.777Z"
   },
   {
    "duration": 37,
    "start_time": "2023-04-26T16:14:13.953Z"
   },
   {
    "duration": 11,
    "start_time": "2023-04-26T16:14:14.136Z"
   },
   {
    "duration": 7,
    "start_time": "2023-04-26T16:14:14.314Z"
   },
   {
    "duration": 16,
    "start_time": "2023-04-26T16:14:14.525Z"
   },
   {
    "duration": 10,
    "start_time": "2023-04-26T16:14:14.753Z"
   },
   {
    "duration": 8,
    "start_time": "2023-04-26T16:14:14.972Z"
   },
   {
    "duration": 8,
    "start_time": "2023-04-26T16:14:15.191Z"
   },
   {
    "duration": 35,
    "start_time": "2023-04-26T16:14:15.540Z"
   },
   {
    "duration": 15,
    "start_time": "2023-04-26T16:14:15.962Z"
   },
   {
    "duration": 14,
    "start_time": "2023-04-26T16:14:16.610Z"
   },
   {
    "duration": 5,
    "start_time": "2023-04-26T16:14:17.182Z"
   },
   {
    "duration": 81,
    "start_time": "2023-04-26T16:14:18.254Z"
   },
   {
    "duration": 19,
    "start_time": "2023-04-26T16:14:19.403Z"
   },
   {
    "duration": 211,
    "start_time": "2023-04-26T16:15:14.449Z"
   },
   {
    "duration": 18,
    "start_time": "2023-04-26T16:15:33.191Z"
   },
   {
    "duration": 13,
    "start_time": "2023-04-26T16:15:42.763Z"
   },
   {
    "duration": 3,
    "start_time": "2023-04-26T16:15:52.358Z"
   },
   {
    "duration": 38,
    "start_time": "2023-04-26T16:15:52.490Z"
   },
   {
    "duration": 12,
    "start_time": "2023-04-26T16:15:52.657Z"
   },
   {
    "duration": 7,
    "start_time": "2023-04-26T16:15:52.820Z"
   },
   {
    "duration": 15,
    "start_time": "2023-04-26T16:15:52.984Z"
   },
   {
    "duration": 12,
    "start_time": "2023-04-26T16:15:53.164Z"
   },
   {
    "duration": 6,
    "start_time": "2023-04-26T16:15:53.329Z"
   },
   {
    "duration": 6,
    "start_time": "2023-04-26T16:15:53.492Z"
   },
   {
    "duration": 34,
    "start_time": "2023-04-26T16:15:53.670Z"
   },
   {
    "duration": 14,
    "start_time": "2023-04-26T16:15:53.869Z"
   },
   {
    "duration": 13,
    "start_time": "2023-04-26T16:15:54.160Z"
   },
   {
    "duration": 4,
    "start_time": "2023-04-26T16:15:54.319Z"
   },
   {
    "duration": 79,
    "start_time": "2023-04-26T16:15:55.329Z"
   },
   {
    "duration": 26,
    "start_time": "2023-04-26T16:15:56.498Z"
   },
   {
    "duration": 12,
    "start_time": "2023-04-26T16:16:34.175Z"
   },
   {
    "duration": 4,
    "start_time": "2023-04-26T16:16:44.109Z"
   },
   {
    "duration": 38,
    "start_time": "2023-04-26T16:16:44.275Z"
   },
   {
    "duration": 11,
    "start_time": "2023-04-26T16:16:44.455Z"
   },
   {
    "duration": 9,
    "start_time": "2023-04-26T16:16:44.620Z"
   },
   {
    "duration": 20,
    "start_time": "2023-04-26T16:16:44.790Z"
   },
   {
    "duration": 13,
    "start_time": "2023-04-26T16:16:44.959Z"
   },
   {
    "duration": 8,
    "start_time": "2023-04-26T16:16:45.124Z"
   },
   {
    "duration": 9,
    "start_time": "2023-04-26T16:16:45.308Z"
   },
   {
    "duration": 46,
    "start_time": "2023-04-26T16:16:45.485Z"
   },
   {
    "duration": 13,
    "start_time": "2023-04-26T16:16:45.661Z"
   },
   {
    "duration": 12,
    "start_time": "2023-04-26T16:16:45.841Z"
   },
   {
    "duration": 5,
    "start_time": "2023-04-26T16:16:46.025Z"
   },
   {
    "duration": 76,
    "start_time": "2023-04-26T16:16:46.380Z"
   },
   {
    "duration": 23,
    "start_time": "2023-04-26T16:16:46.770Z"
   },
   {
    "duration": 3,
    "start_time": "2023-04-26T16:18:48.197Z"
   },
   {
    "duration": 37,
    "start_time": "2023-04-26T16:18:48.376Z"
   },
   {
    "duration": 11,
    "start_time": "2023-04-26T16:18:48.543Z"
   },
   {
    "duration": 7,
    "start_time": "2023-04-26T16:18:48.717Z"
   },
   {
    "duration": 13,
    "start_time": "2023-04-26T16:18:48.865Z"
   },
   {
    "duration": 11,
    "start_time": "2023-04-26T16:18:49.044Z"
   },
   {
    "duration": 6,
    "start_time": "2023-04-26T16:18:49.212Z"
   },
   {
    "duration": 8,
    "start_time": "2023-04-26T16:18:49.370Z"
   },
   {
    "duration": 37,
    "start_time": "2023-04-26T16:18:49.541Z"
   },
   {
    "duration": 16,
    "start_time": "2023-04-26T16:18:49.702Z"
   },
   {
    "duration": 12,
    "start_time": "2023-04-26T16:18:49.870Z"
   },
   {
    "duration": 4,
    "start_time": "2023-04-26T16:18:50.042Z"
   },
   {
    "duration": 136,
    "start_time": "2023-04-26T16:18:50.330Z"
   },
   {
    "duration": 24,
    "start_time": "2023-04-26T16:18:50.646Z"
   },
   {
    "duration": 5,
    "start_time": "2023-04-26T16:18:51.419Z"
   },
   {
    "duration": 9,
    "start_time": "2023-04-26T16:18:51.822Z"
   },
   {
    "duration": 9,
    "start_time": "2023-04-26T16:18:52.172Z"
   },
   {
    "duration": 14,
    "start_time": "2023-04-26T16:22:10.006Z"
   },
   {
    "duration": 4,
    "start_time": "2023-04-26T16:22:21.132Z"
   },
   {
    "duration": 37,
    "start_time": "2023-04-26T16:22:21.275Z"
   },
   {
    "duration": 12,
    "start_time": "2023-04-26T16:22:21.434Z"
   },
   {
    "duration": 7,
    "start_time": "2023-04-26T16:22:21.577Z"
   },
   {
    "duration": 13,
    "start_time": "2023-04-26T16:22:21.703Z"
   },
   {
    "duration": 11,
    "start_time": "2023-04-26T16:22:21.850Z"
   },
   {
    "duration": 6,
    "start_time": "2023-04-26T16:22:22.037Z"
   },
   {
    "duration": 8,
    "start_time": "2023-04-26T16:22:22.147Z"
   },
   {
    "duration": 36,
    "start_time": "2023-04-26T16:22:22.296Z"
   },
   {
    "duration": 14,
    "start_time": "2023-04-26T16:22:22.425Z"
   },
   {
    "duration": 11,
    "start_time": "2023-04-26T16:22:22.586Z"
   },
   {
    "duration": 6,
    "start_time": "2023-04-26T16:22:22.781Z"
   },
   {
    "duration": 145,
    "start_time": "2023-04-26T16:22:23.076Z"
   },
   {
    "duration": 4,
    "start_time": "2023-04-26T16:22:23.429Z"
   },
   {
    "duration": 8,
    "start_time": "2023-04-26T16:22:23.559Z"
   },
   {
    "duration": 8,
    "start_time": "2023-04-26T16:22:23.709Z"
   },
   {
    "duration": 25,
    "start_time": "2023-04-26T16:22:24.216Z"
   },
   {
    "duration": 31,
    "start_time": "2023-04-26T16:29:44.284Z"
   },
   {
    "duration": 36,
    "start_time": "2023-04-26T16:30:56.819Z"
   },
   {
    "duration": 110,
    "start_time": "2023-04-26T16:41:27.296Z"
   },
   {
    "duration": 107,
    "start_time": "2023-04-26T16:41:35.858Z"
   },
   {
    "duration": 1567,
    "start_time": "2023-04-26T16:42:34.748Z"
   },
   {
    "duration": 12,
    "start_time": "2023-04-26T16:42:53.189Z"
   },
   {
    "duration": 96,
    "start_time": "2023-04-26T16:43:22.820Z"
   },
   {
    "duration": 100,
    "start_time": "2023-04-26T16:43:25.614Z"
   },
   {
    "duration": 121,
    "start_time": "2023-04-26T16:49:00.445Z"
   },
   {
    "duration": 12,
    "start_time": "2023-04-26T16:49:48.684Z"
   },
   {
    "duration": 0,
    "start_time": "2023-04-26T16:49:48.698Z"
   },
   {
    "duration": 100,
    "start_time": "2023-04-26T16:49:48.888Z"
   },
   {
    "duration": 14,
    "start_time": "2023-04-26T16:49:54.288Z"
   },
   {
    "duration": 28,
    "start_time": "2023-04-26T16:49:54.903Z"
   },
   {
    "duration": 4,
    "start_time": "2023-04-26T16:50:27.729Z"
   },
   {
    "duration": 38,
    "start_time": "2023-04-26T16:50:27.911Z"
   },
   {
    "duration": 15,
    "start_time": "2023-04-26T16:50:28.107Z"
   },
   {
    "duration": 8,
    "start_time": "2023-04-26T16:50:28.299Z"
   },
   {
    "duration": 14,
    "start_time": "2023-04-26T16:50:28.675Z"
   },
   {
    "duration": 10,
    "start_time": "2023-04-26T16:50:28.866Z"
   },
   {
    "duration": 7,
    "start_time": "2023-04-26T16:50:29.061Z"
   },
   {
    "duration": 9,
    "start_time": "2023-04-26T16:50:29.273Z"
   },
   {
    "duration": 45,
    "start_time": "2023-04-26T16:50:29.479Z"
   },
   {
    "duration": 14,
    "start_time": "2023-04-26T16:50:29.638Z"
   },
   {
    "duration": 17,
    "start_time": "2023-04-26T16:50:29.827Z"
   },
   {
    "duration": 4,
    "start_time": "2023-04-26T16:50:30.006Z"
   },
   {
    "duration": 74,
    "start_time": "2023-04-26T16:50:30.386Z"
   },
   {
    "duration": 6,
    "start_time": "2023-04-26T16:50:31.143Z"
   },
   {
    "duration": 9,
    "start_time": "2023-04-26T16:50:31.503Z"
   },
   {
    "duration": 8,
    "start_time": "2023-04-26T16:50:31.933Z"
   },
   {
    "duration": 25,
    "start_time": "2023-04-26T16:50:35.309Z"
   },
   {
    "duration": 28,
    "start_time": "2023-04-26T16:50:36.003Z"
   },
   {
    "duration": 152,
    "start_time": "2023-04-26T16:50:37.847Z"
   },
   {
    "duration": 1373,
    "start_time": "2023-04-27T00:01:34.107Z"
   },
   {
    "duration": 98,
    "start_time": "2023-04-27T00:01:35.482Z"
   },
   {
    "duration": 12,
    "start_time": "2023-04-27T00:01:35.582Z"
   },
   {
    "duration": 12,
    "start_time": "2023-04-27T00:01:35.596Z"
   },
   {
    "duration": 590,
    "start_time": "2023-04-27T00:01:35.609Z"
   },
   {
    "duration": 12,
    "start_time": "2023-04-27T00:01:36.200Z"
   },
   {
    "duration": 12,
    "start_time": "2023-04-27T00:01:36.214Z"
   },
   {
    "duration": 14,
    "start_time": "2023-04-27T00:01:36.238Z"
   },
   {
    "duration": 53,
    "start_time": "2023-04-27T00:01:36.254Z"
   },
   {
    "duration": 15,
    "start_time": "2023-04-27T00:01:36.308Z"
   },
   {
    "duration": 25,
    "start_time": "2023-04-27T00:01:36.325Z"
   },
   {
    "duration": 14,
    "start_time": "2023-04-27T00:01:36.352Z"
   },
   {
    "duration": 93,
    "start_time": "2023-04-27T00:01:36.570Z"
   },
   {
    "duration": 4,
    "start_time": "2023-04-27T00:01:36.955Z"
   },
   {
    "duration": 10,
    "start_time": "2023-04-27T00:01:37.178Z"
   },
   {
    "duration": 9,
    "start_time": "2023-04-27T00:01:37.553Z"
   },
   {
    "duration": 24,
    "start_time": "2023-04-27T00:01:38.903Z"
   },
   {
    "duration": 27,
    "start_time": "2023-04-27T00:01:39.084Z"
   },
   {
    "duration": 115,
    "start_time": "2023-04-27T00:01:39.679Z"
   },
   {
    "duration": 3,
    "start_time": "2023-04-27T00:16:04.188Z"
   },
   {
    "duration": 48,
    "start_time": "2023-04-27T00:16:04.511Z"
   },
   {
    "duration": 14,
    "start_time": "2023-04-27T00:16:04.683Z"
   },
   {
    "duration": 8,
    "start_time": "2023-04-27T00:16:04.877Z"
   },
   {
    "duration": 15,
    "start_time": "2023-04-27T00:16:05.013Z"
   },
   {
    "duration": 11,
    "start_time": "2023-04-27T00:16:05.190Z"
   },
   {
    "duration": 8,
    "start_time": "2023-04-27T00:16:05.366Z"
   },
   {
    "duration": 7,
    "start_time": "2023-04-27T00:16:05.540Z"
   },
   {
    "duration": 36,
    "start_time": "2023-04-27T00:16:05.712Z"
   },
   {
    "duration": 14,
    "start_time": "2023-04-27T00:16:05.885Z"
   },
   {
    "duration": 11,
    "start_time": "2023-04-27T00:16:06.043Z"
   },
   {
    "duration": 5,
    "start_time": "2023-04-27T00:16:06.220Z"
   },
   {
    "duration": 186,
    "start_time": "2023-04-27T00:16:06.578Z"
   },
   {
    "duration": 5,
    "start_time": "2023-04-27T00:16:06.987Z"
   },
   {
    "duration": 9,
    "start_time": "2023-04-27T00:16:07.243Z"
   },
   {
    "duration": 9,
    "start_time": "2023-04-27T00:16:07.475Z"
   },
   {
    "duration": 26,
    "start_time": "2023-04-27T00:16:08.389Z"
   },
   {
    "duration": 27,
    "start_time": "2023-04-27T00:16:08.654Z"
   },
   {
    "duration": 101,
    "start_time": "2023-04-27T00:16:09.846Z"
   },
   {
    "duration": 2,
    "start_time": "2023-04-27T00:16:10.632Z"
   },
   {
    "duration": 3,
    "start_time": "2023-04-27T00:16:52.997Z"
   },
   {
    "duration": 113,
    "start_time": "2023-04-27T00:26:25.811Z"
   },
   {
    "duration": 10,
    "start_time": "2023-04-27T00:27:01.518Z"
   },
   {
    "duration": 7,
    "start_time": "2023-04-27T00:27:05.368Z"
   },
   {
    "duration": 13,
    "start_time": "2023-04-27T00:28:33.918Z"
   },
   {
    "duration": 6,
    "start_time": "2023-04-27T00:28:34.569Z"
   },
   {
    "duration": 8,
    "start_time": "2023-04-27T00:28:35.468Z"
   },
   {
    "duration": 4,
    "start_time": "2023-04-27T00:28:54.061Z"
   },
   {
    "duration": 37,
    "start_time": "2023-04-27T00:28:54.247Z"
   },
   {
    "duration": 10,
    "start_time": "2023-04-27T00:28:54.429Z"
   },
   {
    "duration": 10,
    "start_time": "2023-04-27T00:28:54.620Z"
   },
   {
    "duration": 14,
    "start_time": "2023-04-27T00:28:54.855Z"
   },
   {
    "duration": 11,
    "start_time": "2023-04-27T00:28:55.026Z"
   },
   {
    "duration": 6,
    "start_time": "2023-04-27T00:28:55.220Z"
   },
   {
    "duration": 9,
    "start_time": "2023-04-27T00:28:55.426Z"
   },
   {
    "duration": 36,
    "start_time": "2023-04-27T00:28:55.597Z"
   },
   {
    "duration": 14,
    "start_time": "2023-04-27T00:28:55.784Z"
   },
   {
    "duration": 11,
    "start_time": "2023-04-27T00:28:55.963Z"
   },
   {
    "duration": 4,
    "start_time": "2023-04-27T00:28:56.147Z"
   },
   {
    "duration": 83,
    "start_time": "2023-04-27T00:28:56.514Z"
   },
   {
    "duration": 5,
    "start_time": "2023-04-27T00:28:57.107Z"
   },
   {
    "duration": 11,
    "start_time": "2023-04-27T00:28:57.647Z"
   },
   {
    "duration": 5,
    "start_time": "2023-04-27T00:29:08.569Z"
   },
   {
    "duration": 9,
    "start_time": "2023-04-27T00:29:09.485Z"
   },
   {
    "duration": 8,
    "start_time": "2023-04-27T00:29:10.852Z"
   },
   {
    "duration": 24,
    "start_time": "2023-04-27T00:29:12.781Z"
   },
   {
    "duration": 25,
    "start_time": "2023-04-27T00:29:13.355Z"
   },
   {
    "duration": 5,
    "start_time": "2023-04-27T00:29:13.955Z"
   },
   {
    "duration": 107,
    "start_time": "2023-04-27T00:29:15.932Z"
   },
   {
    "duration": 18,
    "start_time": "2023-04-27T00:29:17.778Z"
   },
   {
    "duration": 14,
    "start_time": "2023-04-27T00:30:02.316Z"
   },
   {
    "duration": 23,
    "start_time": "2023-04-27T00:30:03.631Z"
   },
   {
    "duration": 2,
    "start_time": "2023-04-27T00:30:24.487Z"
   },
   {
    "duration": 40,
    "start_time": "2023-04-27T00:30:24.654Z"
   },
   {
    "duration": 11,
    "start_time": "2023-04-27T00:30:27.673Z"
   },
   {
    "duration": 7,
    "start_time": "2023-04-27T00:30:27.868Z"
   },
   {
    "duration": 14,
    "start_time": "2023-04-27T00:30:28.040Z"
   },
   {
    "duration": 11,
    "start_time": "2023-04-27T00:30:28.219Z"
   },
   {
    "duration": 6,
    "start_time": "2023-04-27T00:30:28.559Z"
   },
   {
    "duration": 6,
    "start_time": "2023-04-27T00:30:28.690Z"
   },
   {
    "duration": 36,
    "start_time": "2023-04-27T00:30:28.843Z"
   },
   {
    "duration": 13,
    "start_time": "2023-04-27T00:30:29.320Z"
   },
   {
    "duration": 11,
    "start_time": "2023-04-27T00:30:29.561Z"
   },
   {
    "duration": 4,
    "start_time": "2023-04-27T00:30:30.242Z"
   },
   {
    "duration": 8,
    "start_time": "2023-04-27T00:30:30.424Z"
   },
   {
    "duration": 9,
    "start_time": "2023-04-27T00:30:30.608Z"
   },
   {
    "duration": 23,
    "start_time": "2023-04-27T00:30:31.174Z"
   },
   {
    "duration": 25,
    "start_time": "2023-04-27T00:30:31.372Z"
   },
   {
    "duration": 4,
    "start_time": "2023-04-27T00:30:31.589Z"
   },
   {
    "duration": 99,
    "start_time": "2023-04-27T00:30:32.867Z"
   },
   {
    "duration": 17,
    "start_time": "2023-04-27T00:30:34.370Z"
   },
   {
    "duration": 4,
    "start_time": "2023-04-27T00:32:13.083Z"
   },
   {
    "duration": 43,
    "start_time": "2023-04-27T00:32:13.265Z"
   },
   {
    "duration": 11,
    "start_time": "2023-04-27T00:32:13.440Z"
   },
   {
    "duration": 8,
    "start_time": "2023-04-27T00:32:13.612Z"
   },
   {
    "duration": 14,
    "start_time": "2023-04-27T00:32:13.804Z"
   },
   {
    "duration": 11,
    "start_time": "2023-04-27T00:32:13.999Z"
   },
   {
    "duration": 6,
    "start_time": "2023-04-27T00:32:14.172Z"
   },
   {
    "duration": 8,
    "start_time": "2023-04-27T00:32:14.373Z"
   },
   {
    "duration": 143,
    "start_time": "2023-04-27T00:32:14.542Z"
   },
   {
    "duration": 15,
    "start_time": "2023-04-27T00:32:14.725Z"
   },
   {
    "duration": 11,
    "start_time": "2023-04-27T00:32:14.893Z"
   },
   {
    "duration": 21,
    "start_time": "2023-04-27T00:32:15.483Z"
   },
   {
    "duration": 5,
    "start_time": "2023-04-27T00:32:15.719Z"
   },
   {
    "duration": 9,
    "start_time": "2023-04-27T00:32:15.970Z"
   },
   {
    "duration": 7,
    "start_time": "2023-04-27T00:32:16.187Z"
   },
   {
    "duration": 25,
    "start_time": "2023-04-27T00:32:17.292Z"
   },
   {
    "duration": 4,
    "start_time": "2023-04-27T00:32:18.272Z"
   },
   {
    "duration": 97,
    "start_time": "2023-04-27T00:32:19.480Z"
   },
   {
    "duration": 20,
    "start_time": "2023-04-27T00:32:20.758Z"
   },
   {
    "duration": 55,
    "start_time": "2023-04-27T00:33:34.399Z"
   },
   {
    "duration": 4,
    "start_time": "2023-04-27T00:34:47.471Z"
   },
   {
    "duration": 39,
    "start_time": "2023-04-27T00:34:47.648Z"
   },
   {
    "duration": 12,
    "start_time": "2023-04-27T00:34:47.812Z"
   },
   {
    "duration": 8,
    "start_time": "2023-04-27T00:34:47.986Z"
   },
   {
    "duration": 14,
    "start_time": "2023-04-27T00:34:48.179Z"
   },
   {
    "duration": 12,
    "start_time": "2023-04-27T00:34:48.365Z"
   },
   {
    "duration": 6,
    "start_time": "2023-04-27T00:34:48.661Z"
   },
   {
    "duration": 7,
    "start_time": "2023-04-27T00:34:48.855Z"
   },
   {
    "duration": 37,
    "start_time": "2023-04-27T00:34:49.051Z"
   },
   {
    "duration": 15,
    "start_time": "2023-04-27T00:34:49.251Z"
   },
   {
    "duration": 13,
    "start_time": "2023-04-27T00:34:49.410Z"
   },
   {
    "duration": 5,
    "start_time": "2023-04-27T00:34:50.303Z"
   },
   {
    "duration": 10,
    "start_time": "2023-04-27T00:34:50.547Z"
   },
   {
    "duration": 10,
    "start_time": "2023-04-27T00:34:50.774Z"
   },
   {
    "duration": 24,
    "start_time": "2023-04-27T00:34:51.351Z"
   },
   {
    "duration": 25,
    "start_time": "2023-04-27T00:34:51.533Z"
   },
   {
    "duration": 5,
    "start_time": "2023-04-27T00:34:51.915Z"
   },
   {
    "duration": 100,
    "start_time": "2023-04-27T00:34:52.556Z"
   },
   {
    "duration": 19,
    "start_time": "2023-04-27T00:34:58.365Z"
   },
   {
    "duration": 12,
    "start_time": "2023-04-27T00:35:15.617Z"
   },
   {
    "duration": 23,
    "start_time": "2023-04-27T00:35:17.521Z"
   },
   {
    "duration": 4,
    "start_time": "2023-04-27T00:35:21.876Z"
   },
   {
    "duration": 37,
    "start_time": "2023-04-27T00:35:22.035Z"
   },
   {
    "duration": 11,
    "start_time": "2023-04-27T00:35:22.209Z"
   },
   {
    "duration": 7,
    "start_time": "2023-04-27T00:35:22.380Z"
   },
   {
    "duration": 12,
    "start_time": "2023-04-27T00:35:22.543Z"
   },
   {
    "duration": 11,
    "start_time": "2023-04-27T00:35:22.727Z"
   },
   {
    "duration": 6,
    "start_time": "2023-04-27T00:35:22.893Z"
   },
   {
    "duration": 8,
    "start_time": "2023-04-27T00:35:23.068Z"
   },
   {
    "duration": 37,
    "start_time": "2023-04-27T00:35:23.230Z"
   },
   {
    "duration": 12,
    "start_time": "2023-04-27T00:35:23.421Z"
   },
   {
    "duration": 10,
    "start_time": "2023-04-27T00:35:23.596Z"
   },
   {
    "duration": 5,
    "start_time": "2023-04-27T00:35:24.108Z"
   },
   {
    "duration": 9,
    "start_time": "2023-04-27T00:35:24.290Z"
   },
   {
    "duration": 7,
    "start_time": "2023-04-27T00:35:24.483Z"
   },
   {
    "duration": 24,
    "start_time": "2023-04-27T00:35:25.069Z"
   },
   {
    "duration": 24,
    "start_time": "2023-04-27T00:35:25.779Z"
   },
   {
    "duration": 5,
    "start_time": "2023-04-27T00:35:26.183Z"
   },
   {
    "duration": 96,
    "start_time": "2023-04-27T00:35:27.140Z"
   },
   {
    "duration": 18,
    "start_time": "2023-04-27T00:35:28.281Z"
   },
   {
    "duration": 4,
    "start_time": "2023-04-27T00:35:50.620Z"
   },
   {
    "duration": 38,
    "start_time": "2023-04-27T00:35:50.779Z"
   },
   {
    "duration": 12,
    "start_time": "2023-04-27T00:35:50.965Z"
   },
   {
    "duration": 7,
    "start_time": "2023-04-27T00:35:51.140Z"
   },
   {
    "duration": 14,
    "start_time": "2023-04-27T00:35:51.308Z"
   },
   {
    "duration": 12,
    "start_time": "2023-04-27T00:35:51.471Z"
   },
   {
    "duration": 6,
    "start_time": "2023-04-27T00:35:51.654Z"
   },
   {
    "duration": 7,
    "start_time": "2023-04-27T00:35:51.831Z"
   },
   {
    "duration": 40,
    "start_time": "2023-04-27T00:35:51.999Z"
   },
   {
    "duration": 13,
    "start_time": "2023-04-27T00:35:52.183Z"
   },
   {
    "duration": 12,
    "start_time": "2023-04-27T00:35:52.358Z"
   },
   {
    "duration": 5,
    "start_time": "2023-04-27T00:35:52.888Z"
   },
   {
    "duration": 8,
    "start_time": "2023-04-27T00:35:53.067Z"
   },
   {
    "duration": 7,
    "start_time": "2023-04-27T00:35:53.250Z"
   },
   {
    "duration": 23,
    "start_time": "2023-04-27T00:35:53.799Z"
   },
   {
    "duration": 24,
    "start_time": "2023-04-27T00:35:53.972Z"
   },
   {
    "duration": 5,
    "start_time": "2023-04-27T00:35:54.157Z"
   },
   {
    "duration": 108,
    "start_time": "2023-04-27T00:35:54.689Z"
   },
   {
    "duration": 20,
    "start_time": "2023-04-27T00:35:55.267Z"
   },
   {
    "duration": 12,
    "start_time": "2023-04-27T00:36:11.867Z"
   },
   {
    "duration": 3,
    "start_time": "2023-04-27T00:36:38.177Z"
   },
   {
    "duration": 37,
    "start_time": "2023-04-27T00:36:38.349Z"
   },
   {
    "duration": 10,
    "start_time": "2023-04-27T00:36:38.523Z"
   },
   {
    "duration": 7,
    "start_time": "2023-04-27T00:36:38.692Z"
   },
   {
    "duration": 13,
    "start_time": "2023-04-27T00:36:38.873Z"
   },
   {
    "duration": 10,
    "start_time": "2023-04-27T00:36:39.064Z"
   },
   {
    "duration": 5,
    "start_time": "2023-04-27T00:36:39.211Z"
   },
   {
    "duration": 7,
    "start_time": "2023-04-27T00:36:39.411Z"
   },
   {
    "duration": 36,
    "start_time": "2023-04-27T00:36:39.605Z"
   },
   {
    "duration": 13,
    "start_time": "2023-04-27T00:36:39.803Z"
   },
   {
    "duration": 10,
    "start_time": "2023-04-27T00:36:39.976Z"
   },
   {
    "duration": 22,
    "start_time": "2023-04-27T00:36:40.487Z"
   },
   {
    "duration": 5,
    "start_time": "2023-04-27T00:36:40.664Z"
   },
   {
    "duration": 10,
    "start_time": "2023-04-27T00:36:41.535Z"
   },
   {
    "duration": 10,
    "start_time": "2023-04-27T00:36:41.911Z"
   },
   {
    "duration": 27,
    "start_time": "2023-04-27T00:36:43.527Z"
   },
   {
    "duration": 5,
    "start_time": "2023-04-27T00:36:43.903Z"
   },
   {
    "duration": 124,
    "start_time": "2023-04-27T00:36:45.138Z"
   },
   {
    "duration": 59,
    "start_time": "2023-04-27T00:36:46.319Z"
   },
   {
    "duration": 15,
    "start_time": "2023-04-27T00:39:15.362Z"
   },
   {
    "duration": 4,
    "start_time": "2023-04-27T00:39:47.775Z"
   },
   {
    "duration": 38,
    "start_time": "2023-04-27T00:39:47.919Z"
   },
   {
    "duration": 11,
    "start_time": "2023-04-27T00:39:48.087Z"
   },
   {
    "duration": 8,
    "start_time": "2023-04-27T00:39:48.246Z"
   },
   {
    "duration": 13,
    "start_time": "2023-04-27T00:39:48.400Z"
   },
   {
    "duration": 10,
    "start_time": "2023-04-27T00:39:48.572Z"
   },
   {
    "duration": 6,
    "start_time": "2023-04-27T00:39:48.741Z"
   },
   {
    "duration": 9,
    "start_time": "2023-04-27T00:39:48.903Z"
   },
   {
    "duration": 54,
    "start_time": "2023-04-27T00:39:49.070Z"
   },
   {
    "duration": 14,
    "start_time": "2023-04-27T00:39:49.238Z"
   },
   {
    "duration": 11,
    "start_time": "2023-04-27T00:39:49.401Z"
   },
   {
    "duration": 22,
    "start_time": "2023-04-27T00:39:50.064Z"
   },
   {
    "duration": 6,
    "start_time": "2023-04-27T00:39:50.239Z"
   },
   {
    "duration": 9,
    "start_time": "2023-04-27T00:39:50.408Z"
   },
   {
    "duration": 8,
    "start_time": "2023-04-27T00:39:50.576Z"
   },
   {
    "duration": 25,
    "start_time": "2023-04-27T00:39:50.744Z"
   },
   {
    "duration": 5,
    "start_time": "2023-04-27T00:39:50.917Z"
   },
   {
    "duration": 97,
    "start_time": "2023-04-27T00:39:51.447Z"
   },
   {
    "duration": 55,
    "start_time": "2023-04-27T00:39:51.993Z"
   },
   {
    "duration": 3,
    "start_time": "2023-04-27T00:41:23.172Z"
   },
   {
    "duration": 38,
    "start_time": "2023-04-27T00:41:23.334Z"
   },
   {
    "duration": 12,
    "start_time": "2023-04-27T00:41:23.500Z"
   },
   {
    "duration": 8,
    "start_time": "2023-04-27T00:41:23.667Z"
   },
   {
    "duration": 12,
    "start_time": "2023-04-27T00:41:23.819Z"
   },
   {
    "duration": 11,
    "start_time": "2023-04-27T00:41:24.006Z"
   },
   {
    "duration": 5,
    "start_time": "2023-04-27T00:41:24.159Z"
   },
   {
    "duration": 10,
    "start_time": "2023-04-27T00:41:24.335Z"
   },
   {
    "duration": 51,
    "start_time": "2023-04-27T00:41:24.502Z"
   },
   {
    "duration": 16,
    "start_time": "2023-04-27T00:41:24.657Z"
   },
   {
    "duration": 11,
    "start_time": "2023-04-27T00:41:24.834Z"
   },
   {
    "duration": 22,
    "start_time": "2023-04-27T00:41:25.301Z"
   },
   {
    "duration": 5,
    "start_time": "2023-04-27T00:41:25.473Z"
   },
   {
    "duration": 9,
    "start_time": "2023-04-27T00:41:25.645Z"
   },
   {
    "duration": 10,
    "start_time": "2023-04-27T00:41:25.816Z"
   },
   {
    "duration": 24,
    "start_time": "2023-04-27T00:41:26.010Z"
   },
   {
    "duration": 96,
    "start_time": "2023-04-27T00:41:26.530Z"
   },
   {
    "duration": 68,
    "start_time": "2023-04-27T00:41:27.108Z"
   },
   {
    "duration": 3,
    "start_time": "2023-04-27T00:42:15.305Z"
   },
   {
    "duration": 37,
    "start_time": "2023-04-27T00:42:15.452Z"
   },
   {
    "duration": 11,
    "start_time": "2023-04-27T00:42:15.608Z"
   },
   {
    "duration": 8,
    "start_time": "2023-04-27T00:42:15.764Z"
   },
   {
    "duration": 12,
    "start_time": "2023-04-27T00:42:15.925Z"
   },
   {
    "duration": 10,
    "start_time": "2023-04-27T00:42:16.080Z"
   },
   {
    "duration": 5,
    "start_time": "2023-04-27T00:42:16.223Z"
   },
   {
    "duration": 6,
    "start_time": "2023-04-27T00:42:16.374Z"
   },
   {
    "duration": 35,
    "start_time": "2023-04-27T00:42:16.540Z"
   },
   {
    "duration": 13,
    "start_time": "2023-04-27T00:42:16.690Z"
   },
   {
    "duration": 11,
    "start_time": "2023-04-27T00:42:16.880Z"
   },
   {
    "duration": 22,
    "start_time": "2023-04-27T00:42:17.340Z"
   },
   {
    "duration": 5,
    "start_time": "2023-04-27T00:42:17.507Z"
   },
   {
    "duration": 8,
    "start_time": "2023-04-27T00:42:17.660Z"
   },
   {
    "duration": 8,
    "start_time": "2023-04-27T00:42:17.830Z"
   },
   {
    "duration": 23,
    "start_time": "2023-04-27T00:42:17.987Z"
   },
   {
    "duration": 96,
    "start_time": "2023-04-27T00:42:18.492Z"
   },
   {
    "duration": 55,
    "start_time": "2023-04-27T00:42:19.026Z"
   },
   {
    "duration": 57,
    "start_time": "2023-04-27T00:44:31.471Z"
   },
   {
    "duration": 3,
    "start_time": "2023-04-27T00:45:03.208Z"
   },
   {
    "duration": 13,
    "start_time": "2023-04-27T00:50:07.069Z"
   },
   {
    "duration": 21,
    "start_time": "2023-04-27T00:50:22.966Z"
   },
   {
    "duration": 2326,
    "start_time": "2023-04-27T00:50:50.078Z"
   },
   {
    "duration": 4,
    "start_time": "2023-04-27T00:55:28.200Z"
   },
   {
    "duration": 4,
    "start_time": "2023-04-27T00:56:25.919Z"
   },
   {
    "duration": 4,
    "start_time": "2023-04-27T00:59:24.326Z"
   },
   {
    "duration": 41,
    "start_time": "2023-04-27T00:59:24.496Z"
   },
   {
    "duration": 15,
    "start_time": "2023-04-27T00:59:24.656Z"
   },
   {
    "duration": 7,
    "start_time": "2023-04-27T00:59:24.821Z"
   },
   {
    "duration": 13,
    "start_time": "2023-04-27T00:59:24.991Z"
   },
   {
    "duration": 11,
    "start_time": "2023-04-27T00:59:25.150Z"
   },
   {
    "duration": 6,
    "start_time": "2023-04-27T00:59:25.316Z"
   },
   {
    "duration": 7,
    "start_time": "2023-04-27T00:59:25.479Z"
   },
   {
    "duration": 35,
    "start_time": "2023-04-27T00:59:25.645Z"
   },
   {
    "duration": 13,
    "start_time": "2023-04-27T00:59:25.822Z"
   },
   {
    "duration": 11,
    "start_time": "2023-04-27T00:59:25.987Z"
   },
   {
    "duration": 22,
    "start_time": "2023-04-27T00:59:26.431Z"
   },
   {
    "duration": 5,
    "start_time": "2023-04-27T00:59:26.615Z"
   },
   {
    "duration": 9,
    "start_time": "2023-04-27T00:59:26.789Z"
   },
   {
    "duration": 8,
    "start_time": "2023-04-27T00:59:26.969Z"
   },
   {
    "duration": 23,
    "start_time": "2023-04-27T00:59:27.141Z"
   },
   {
    "duration": 97,
    "start_time": "2023-04-27T00:59:27.669Z"
   },
   {
    "duration": 57,
    "start_time": "2023-04-27T00:59:28.234Z"
   },
   {
    "duration": 2331,
    "start_time": "2023-04-27T00:59:29.169Z"
   },
   {
    "duration": 4,
    "start_time": "2023-04-27T00:59:31.501Z"
   },
   {
    "duration": 531,
    "start_time": "2023-04-27T01:00:25.606Z"
   },
   {
    "duration": 562,
    "start_time": "2023-04-27T01:01:04.482Z"
   },
   {
    "duration": 800,
    "start_time": "2023-04-27T01:03:09.536Z"
   },
   {
    "duration": 206,
    "start_time": "2023-04-27T01:04:25.835Z"
   },
   {
    "duration": 209,
    "start_time": "2023-04-27T01:04:32.492Z"
   },
   {
    "duration": 4,
    "start_time": "2023-04-27T01:05:04.919Z"
   },
   {
    "duration": 39,
    "start_time": "2023-04-27T01:05:05.097Z"
   },
   {
    "duration": 15,
    "start_time": "2023-04-27T01:05:05.265Z"
   },
   {
    "duration": 7,
    "start_time": "2023-04-27T01:05:05.441Z"
   },
   {
    "duration": 13,
    "start_time": "2023-04-27T01:05:05.613Z"
   },
   {
    "duration": 10,
    "start_time": "2023-04-27T01:05:05.806Z"
   },
   {
    "duration": 5,
    "start_time": "2023-04-27T01:05:05.972Z"
   },
   {
    "duration": 8,
    "start_time": "2023-04-27T01:05:06.152Z"
   },
   {
    "duration": 39,
    "start_time": "2023-04-27T01:05:06.314Z"
   },
   {
    "duration": 14,
    "start_time": "2023-04-27T01:05:06.492Z"
   },
   {
    "duration": 12,
    "start_time": "2023-04-27T01:05:06.672Z"
   },
   {
    "duration": 28,
    "start_time": "2023-04-27T01:05:07.186Z"
   },
   {
    "duration": 6,
    "start_time": "2023-04-27T01:05:07.378Z"
   },
   {
    "duration": 10,
    "start_time": "2023-04-27T01:05:07.554Z"
   },
   {
    "duration": 8,
    "start_time": "2023-04-27T01:05:07.715Z"
   },
   {
    "duration": 25,
    "start_time": "2023-04-27T01:05:07.894Z"
   },
   {
    "duration": 108,
    "start_time": "2023-04-27T01:05:08.457Z"
   },
   {
    "duration": 58,
    "start_time": "2023-04-27T01:05:09.184Z"
   },
   {
    "duration": 2430,
    "start_time": "2023-04-27T01:05:09.905Z"
   },
   {
    "duration": 205,
    "start_time": "2023-04-27T01:05:12.337Z"
   },
   {
    "duration": 30,
    "start_time": "2023-04-27T01:07:32.445Z"
   },
   {
    "duration": 86,
    "start_time": "2023-04-27T01:08:08.648Z"
   },
   {
    "duration": 1120,
    "start_time": "2023-04-27T10:21:03.905Z"
   },
   {
    "duration": 88,
    "start_time": "2023-04-27T10:21:05.027Z"
   },
   {
    "duration": 12,
    "start_time": "2023-04-27T10:21:05.117Z"
   },
   {
    "duration": 10,
    "start_time": "2023-04-27T10:21:05.130Z"
   },
   {
    "duration": 475,
    "start_time": "2023-04-27T10:21:05.142Z"
   },
   {
    "duration": 10,
    "start_time": "2023-04-27T10:21:05.619Z"
   },
   {
    "duration": 12,
    "start_time": "2023-04-27T10:21:05.630Z"
   },
   {
    "duration": 13,
    "start_time": "2023-04-27T10:21:05.648Z"
   },
   {
    "duration": 43,
    "start_time": "2023-04-27T10:21:05.663Z"
   },
   {
    "duration": 13,
    "start_time": "2023-04-27T10:21:05.707Z"
   },
   {
    "duration": 25,
    "start_time": "2023-04-27T10:21:05.721Z"
   },
   {
    "duration": 23,
    "start_time": "2023-04-27T10:21:06.160Z"
   },
   {
    "duration": 4,
    "start_time": "2023-04-27T10:21:06.357Z"
   },
   {
    "duration": 8,
    "start_time": "2023-04-27T10:21:06.520Z"
   },
   {
    "duration": 8,
    "start_time": "2023-04-27T10:21:06.707Z"
   },
   {
    "duration": 25,
    "start_time": "2023-04-27T10:21:06.914Z"
   },
   {
    "duration": 112,
    "start_time": "2023-04-27T10:21:07.513Z"
   },
   {
    "duration": 69,
    "start_time": "2023-04-27T10:21:08.102Z"
   },
   {
    "duration": 2633,
    "start_time": "2023-04-27T10:21:09.110Z"
   },
   {
    "duration": 20149,
    "start_time": "2023-04-27T10:21:45.387Z"
   },
   {
    "duration": 100024,
    "start_time": "2023-04-27T10:22:43.013Z"
   },
   {
    "duration": 765,
    "start_time": "2023-04-27T10:24:23.038Z"
   },
   {
    "duration": 408,
    "start_time": "2023-04-27T10:27:01.043Z"
   },
   {
    "duration": 719,
    "start_time": "2023-04-27T10:30:58.576Z"
   },
   {
    "duration": 101518,
    "start_time": "2023-04-27T10:31:27.461Z"
   },
   {
    "duration": 79,
    "start_time": "2023-04-27T10:35:17.872Z"
   },
   {
    "duration": 41,
    "start_time": "2023-04-27T10:35:18.185Z"
   },
   {
    "duration": 122,
    "start_time": "2023-04-27T10:35:36.417Z"
   },
   {
    "duration": 4,
    "start_time": "2023-04-27T10:35:46.406Z"
   },
   {
    "duration": 40,
    "start_time": "2023-04-27T10:35:47.372Z"
   },
   {
    "duration": 12,
    "start_time": "2023-04-27T10:35:47.700Z"
   },
   {
    "duration": 7,
    "start_time": "2023-04-27T10:35:47.904Z"
   },
   {
    "duration": 13,
    "start_time": "2023-04-27T10:35:48.098Z"
   },
   {
    "duration": 28,
    "start_time": "2023-04-27T10:35:48.239Z"
   },
   {
    "duration": 6,
    "start_time": "2023-04-27T10:35:48.402Z"
   },
   {
    "duration": 13,
    "start_time": "2023-04-27T10:35:48.567Z"
   },
   {
    "duration": 51,
    "start_time": "2023-04-27T10:35:48.728Z"
   },
   {
    "duration": 19,
    "start_time": "2023-04-27T10:35:48.886Z"
   },
   {
    "duration": 14,
    "start_time": "2023-04-27T10:35:49.080Z"
   },
   {
    "duration": 30,
    "start_time": "2023-04-27T10:35:49.525Z"
   },
   {
    "duration": 5,
    "start_time": "2023-04-27T10:35:49.682Z"
   },
   {
    "duration": 25,
    "start_time": "2023-04-27T10:35:49.845Z"
   },
   {
    "duration": 11,
    "start_time": "2023-04-27T10:35:50.026Z"
   },
   {
    "duration": 27,
    "start_time": "2023-04-27T10:35:50.192Z"
   },
   {
    "duration": 135,
    "start_time": "2023-04-27T10:35:50.743Z"
   },
   {
    "duration": 781,
    "start_time": "2023-04-27T10:35:51.310Z"
   },
   {
    "duration": 104433,
    "start_time": "2023-04-27T10:35:52.308Z"
   },
   {
    "duration": 139,
    "start_time": "2023-04-27T10:37:36.859Z"
   },
   {
    "duration": 148,
    "start_time": "2023-04-27T10:38:00.994Z"
   },
   {
    "duration": 170,
    "start_time": "2023-04-27T10:38:23.513Z"
   },
   {
    "duration": 143,
    "start_time": "2023-04-27T10:38:35.873Z"
   },
   {
    "duration": 140,
    "start_time": "2023-04-27T10:39:46.904Z"
   },
   {
    "duration": 168,
    "start_time": "2023-04-27T10:39:54.444Z"
   },
   {
    "duration": 135,
    "start_time": "2023-04-27T11:21:22.996Z"
   },
   {
    "duration": 131,
    "start_time": "2023-04-27T11:22:57.744Z"
   },
   {
    "duration": 3,
    "start_time": "2023-04-27T11:23:31.349Z"
   },
   {
    "duration": 39,
    "start_time": "2023-04-27T11:23:31.524Z"
   },
   {
    "duration": 11,
    "start_time": "2023-04-27T11:23:31.694Z"
   },
   {
    "duration": 7,
    "start_time": "2023-04-27T11:23:31.860Z"
   },
   {
    "duration": 13,
    "start_time": "2023-04-27T11:23:32.040Z"
   },
   {
    "duration": 11,
    "start_time": "2023-04-27T11:23:32.217Z"
   },
   {
    "duration": 6,
    "start_time": "2023-04-27T11:23:32.551Z"
   },
   {
    "duration": 6,
    "start_time": "2023-04-27T11:23:32.762Z"
   },
   {
    "duration": 34,
    "start_time": "2023-04-27T11:23:32.949Z"
   },
   {
    "duration": 14,
    "start_time": "2023-04-27T11:23:33.134Z"
   },
   {
    "duration": 11,
    "start_time": "2023-04-27T11:23:33.325Z"
   },
   {
    "duration": 23,
    "start_time": "2023-04-27T11:23:33.885Z"
   },
   {
    "duration": 6,
    "start_time": "2023-04-27T11:23:34.070Z"
   },
   {
    "duration": 8,
    "start_time": "2023-04-27T11:23:34.266Z"
   },
   {
    "duration": 9,
    "start_time": "2023-04-27T11:23:34.469Z"
   },
   {
    "duration": 32,
    "start_time": "2023-04-27T11:23:34.661Z"
   },
   {
    "duration": 101,
    "start_time": "2023-04-27T11:23:35.231Z"
   },
   {
    "duration": 754,
    "start_time": "2023-04-27T11:23:35.817Z"
   },
   {
    "duration": 138,
    "start_time": "2023-04-27T11:23:36.573Z"
   },
   {
    "duration": 100062,
    "start_time": "2023-04-27T11:23:36.871Z"
   },
   {
    "duration": 146,
    "start_time": "2023-04-27T11:25:16.934Z"
   },
   {
    "duration": 91,
    "start_time": "2023-04-27T11:25:17.082Z"
   },
   {
    "duration": 223,
    "start_time": "2023-04-27T11:25:17.256Z"
   },
   {
    "duration": 2,
    "start_time": "2023-04-27T11:29:07.934Z"
   },
   {
    "duration": 2,
    "start_time": "2023-04-27T11:29:57.344Z"
   },
   {
    "duration": 3,
    "start_time": "2023-04-27T11:30:08.577Z"
   },
   {
    "duration": 847,
    "start_time": "2023-04-27T11:33:44.274Z"
   },
   {
    "duration": 168,
    "start_time": "2023-04-27T11:33:45.123Z"
   },
   {
    "duration": 99243,
    "start_time": "2023-04-27T11:33:45.912Z"
   },
   {
    "duration": 142,
    "start_time": "2023-04-27T11:35:25.157Z"
   },
   {
    "duration": 55,
    "start_time": "2023-04-27T11:35:25.301Z"
   },
   {
    "duration": 255,
    "start_time": "2023-04-27T11:35:25.358Z"
   },
   {
    "duration": 752,
    "start_time": "2023-04-27T11:44:49.802Z"
   },
   {
    "duration": 38,
    "start_time": "2023-04-27T11:47:55.625Z"
   },
   {
    "duration": 729,
    "start_time": "2023-04-27T11:48:45.820Z"
   },
   {
    "duration": 97388,
    "start_time": "2023-04-27T11:48:47.639Z"
   },
   {
    "duration": 128,
    "start_time": "2023-04-27T11:50:25.029Z"
   },
   {
    "duration": 735,
    "start_time": "2023-04-27T13:27:33.061Z"
   },
   {
    "duration": 83,
    "start_time": "2023-04-27T13:28:43.569Z"
   },
   {
    "duration": 3,
    "start_time": "2023-04-27T13:38:39.451Z"
   },
   {
    "duration": 52,
    "start_time": "2023-04-27T13:38:39.735Z"
   },
   {
    "duration": 12,
    "start_time": "2023-04-27T13:38:39.981Z"
   },
   {
    "duration": 7,
    "start_time": "2023-04-27T13:38:40.149Z"
   },
   {
    "duration": 14,
    "start_time": "2023-04-27T13:38:40.318Z"
   },
   {
    "duration": 12,
    "start_time": "2023-04-27T13:38:40.465Z"
   },
   {
    "duration": 5,
    "start_time": "2023-04-27T13:38:40.621Z"
   },
   {
    "duration": 9,
    "start_time": "2023-04-27T13:38:40.757Z"
   },
   {
    "duration": 46,
    "start_time": "2023-04-27T13:38:40.910Z"
   },
   {
    "duration": 17,
    "start_time": "2023-04-27T13:38:41.078Z"
   },
   {
    "duration": 12,
    "start_time": "2023-04-27T13:38:41.217Z"
   },
   {
    "duration": 22,
    "start_time": "2023-04-27T13:38:41.660Z"
   },
   {
    "duration": 6,
    "start_time": "2023-04-27T13:38:41.806Z"
   },
   {
    "duration": 10,
    "start_time": "2023-04-27T13:38:41.957Z"
   },
   {
    "duration": 9,
    "start_time": "2023-04-27T13:38:42.096Z"
   },
   {
    "duration": 24,
    "start_time": "2023-04-27T13:38:42.271Z"
   },
   {
    "duration": 99,
    "start_time": "2023-04-27T13:38:42.726Z"
   },
   {
    "duration": 716,
    "start_time": "2023-04-27T13:38:43.333Z"
   },
   {
    "duration": 136,
    "start_time": "2023-04-27T13:38:44.051Z"
   },
   {
    "duration": 98048,
    "start_time": "2023-04-27T13:38:44.189Z"
   },
   {
    "duration": 134,
    "start_time": "2023-04-27T13:40:22.238Z"
   },
   {
    "duration": 177,
    "start_time": "2023-04-27T13:40:22.374Z"
   },
   {
    "duration": 200,
    "start_time": "2023-04-27T13:40:22.553Z"
   },
   {
    "duration": 770,
    "start_time": "2023-04-27T13:40:22.755Z"
   },
   {
    "duration": 96239,
    "start_time": "2023-04-27T13:40:23.527Z"
   },
   {
    "duration": 84,
    "start_time": "2023-04-27T13:41:59.768Z"
   },
   {
    "duration": 12,
    "start_time": "2023-04-27T13:41:59.858Z"
   },
   {
    "duration": 13,
    "start_time": "2023-04-27T13:45:44.450Z"
   },
   {
    "duration": 1195,
    "start_time": "2023-04-27T13:45:45.411Z"
   },
   {
    "duration": 174432,
    "start_time": "2023-04-27T13:45:47.508Z"
   },
   {
    "duration": 190,
    "start_time": "2023-04-27T13:48:42.008Z"
   },
   {
    "duration": 1224,
    "start_time": "2023-04-27T13:53:44.566Z"
   },
   {
    "duration": 98,
    "start_time": "2023-04-27T13:54:31.859Z"
   },
   {
    "duration": 10,
    "start_time": "2023-04-27T14:10:22.872Z"
   },
   {
    "duration": 258,
    "start_time": "2023-04-27T14:10:23.915Z"
   },
   {
    "duration": 42315,
    "start_time": "2023-04-27T14:10:25.849Z"
   },
   {
    "duration": 83,
    "start_time": "2023-04-27T14:11:08.166Z"
   },
   {
    "duration": 4,
    "start_time": "2023-05-04T14:57:04.292Z"
   },
   {
    "duration": 36,
    "start_time": "2023-05-04T14:57:06.072Z"
   },
   {
    "duration": 11,
    "start_time": "2023-05-04T14:57:06.573Z"
   },
   {
    "duration": 6,
    "start_time": "2023-05-04T14:57:06.933Z"
   },
   {
    "duration": 14,
    "start_time": "2023-05-04T14:57:07.320Z"
   },
   {
    "duration": 10,
    "start_time": "2023-05-04T14:57:07.649Z"
   },
   {
    "duration": 6,
    "start_time": "2023-05-04T14:57:08.102Z"
   },
   {
    "duration": 7,
    "start_time": "2023-05-04T14:57:08.574Z"
   },
   {
    "duration": 39,
    "start_time": "2023-05-04T14:57:09.020Z"
   },
   {
    "duration": 14,
    "start_time": "2023-05-04T14:57:09.384Z"
   },
   {
    "duration": 10,
    "start_time": "2023-05-04T14:57:09.657Z"
   },
   {
    "duration": 22,
    "start_time": "2023-05-04T14:57:10.204Z"
   },
   {
    "duration": 5,
    "start_time": "2023-05-04T14:57:10.701Z"
   },
   {
    "duration": 10,
    "start_time": "2023-05-04T14:57:11.018Z"
   },
   {
    "duration": 8,
    "start_time": "2023-05-04T14:57:11.225Z"
   },
   {
    "duration": 31,
    "start_time": "2023-05-04T14:57:11.403Z"
   },
   {
    "duration": 97,
    "start_time": "2023-05-04T14:57:11.921Z"
   },
   {
    "duration": 615,
    "start_time": "2023-05-04T14:57:13.779Z"
   },
   {
    "duration": 10,
    "start_time": "2023-05-04T14:57:17.190Z"
   },
   {
    "duration": 13,
    "start_time": "2023-05-04T14:58:09.341Z"
   },
   {
    "duration": 8,
    "start_time": "2023-05-04T14:58:15.100Z"
   },
   {
    "duration": 9,
    "start_time": "2023-05-04T14:58:41.419Z"
   },
   {
    "duration": 129,
    "start_time": "2023-05-04T14:58:41.882Z"
   },
   {
    "duration": 83613,
    "start_time": "2023-05-04T14:58:44.196Z"
   },
   {
    "duration": 33,
    "start_time": "2023-05-04T15:02:36.180Z"
   },
   {
    "duration": 32,
    "start_time": "2023-05-04T15:03:18.298Z"
   },
   {
    "duration": 138,
    "start_time": "2023-05-04T15:03:18.879Z"
   },
   {
    "duration": 85,
    "start_time": "2023-05-04T15:03:20.718Z"
   },
   {
    "duration": 32,
    "start_time": "2023-05-04T15:03:34.359Z"
   },
   {
    "duration": 141,
    "start_time": "2023-05-04T15:03:39.479Z"
   },
   {
    "duration": 9,
    "start_time": "2023-05-04T15:19:55.482Z"
   },
   {
    "duration": 13,
    "start_time": "2023-05-04T15:20:48.850Z"
   },
   {
    "duration": 141,
    "start_time": "2023-05-04T15:20:50.337Z"
   },
   {
    "duration": 691,
    "start_time": "2023-05-04T15:20:54.046Z"
   },
   {
    "duration": 7,
    "start_time": "2023-05-04T15:21:31.866Z"
   },
   {
    "duration": 7,
    "start_time": "2023-05-04T15:21:46.190Z"
   },
   {
    "duration": 81584,
    "start_time": "2023-05-04T15:21:47.592Z"
   },
   {
    "duration": 27,
    "start_time": "2023-05-04T15:23:16.460Z"
   },
   {
    "duration": 51,
    "start_time": "2023-05-04T15:23:30.564Z"
   },
   {
    "duration": 9,
    "start_time": "2023-05-04T15:24:02.342Z"
   },
   {
    "duration": 12,
    "start_time": "2023-05-04T15:26:09.565Z"
   },
   {
    "duration": 953,
    "start_time": "2023-05-04T15:26:12.742Z"
   },
   {
    "duration": 7,
    "start_time": "2023-05-04T15:26:20.303Z"
   },
   {
    "duration": 148752,
    "start_time": "2023-05-04T15:26:23.265Z"
   },
   {
    "duration": 28,
    "start_time": "2023-05-04T15:29:04.587Z"
   },
   {
    "duration": 90,
    "start_time": "2023-05-04T15:29:19.305Z"
   },
   {
    "duration": 9,
    "start_time": "2023-05-04T15:29:21.413Z"
   },
   {
    "duration": 11,
    "start_time": "2023-05-04T15:30:18.232Z"
   },
   {
    "duration": 230,
    "start_time": "2023-05-04T15:30:19.447Z"
   },
   {
    "duration": 7,
    "start_time": "2023-05-04T15:30:21.623Z"
   },
   {
    "duration": 38979,
    "start_time": "2023-05-04T15:30:24.999Z"
   },
   {
    "duration": 24,
    "start_time": "2023-05-04T15:31:35.370Z"
   },
   {
    "duration": 20,
    "start_time": "2023-05-04T15:31:39.840Z"
   },
   {
    "duration": 8,
    "start_time": "2023-05-04T15:31:42.736Z"
   },
   {
    "duration": 262,
    "start_time": "2023-05-04T15:48:58.555Z"
   },
   {
    "duration": 35,
    "start_time": "2023-05-04T15:49:04.045Z"
   },
   {
    "duration": 289,
    "start_time": "2023-05-04T15:50:29.983Z"
   },
   {
    "duration": 260,
    "start_time": "2023-05-04T15:53:12.079Z"
   },
   {
    "duration": 81458,
    "start_time": "2023-05-04T15:55:04.469Z"
   },
   {
    "duration": 247,
    "start_time": "2023-05-04T15:56:40.447Z"
   },
   {
    "duration": 244,
    "start_time": "2023-05-04T15:59:02.611Z"
   },
   {
    "duration": 291,
    "start_time": "2023-05-04T15:59:31.359Z"
   },
   {
    "duration": 259,
    "start_time": "2023-05-04T16:04:42.915Z"
   },
   {
    "duration": 279,
    "start_time": "2023-05-04T16:05:00.844Z"
   },
   {
    "duration": 2468,
    "start_time": "2023-05-04T16:06:39.464Z"
   },
   {
    "duration": 41,
    "start_time": "2023-05-04T16:07:18.185Z"
   },
   {
    "duration": 265,
    "start_time": "2023-05-04T16:07:37.401Z"
   },
   {
    "duration": 4,
    "start_time": "2023-05-04T16:14:19.524Z"
   },
   {
    "duration": 37,
    "start_time": "2023-05-04T16:14:19.866Z"
   },
   {
    "duration": 12,
    "start_time": "2023-05-04T16:14:20.167Z"
   },
   {
    "duration": 8,
    "start_time": "2023-05-04T16:14:20.517Z"
   },
   {
    "duration": 14,
    "start_time": "2023-05-04T16:14:20.940Z"
   },
   {
    "duration": 12,
    "start_time": "2023-05-04T16:14:21.344Z"
   },
   {
    "duration": 5,
    "start_time": "2023-05-04T16:14:22.145Z"
   },
   {
    "duration": 6,
    "start_time": "2023-05-04T16:14:22.519Z"
   },
   {
    "duration": 53,
    "start_time": "2023-05-04T16:14:22.876Z"
   },
   {
    "duration": 14,
    "start_time": "2023-05-04T16:14:23.253Z"
   },
   {
    "duration": 16,
    "start_time": "2023-05-04T16:14:23.673Z"
   },
   {
    "duration": 23,
    "start_time": "2023-05-04T16:14:24.852Z"
   },
   {
    "duration": 7,
    "start_time": "2023-05-04T16:14:25.406Z"
   },
   {
    "duration": 10,
    "start_time": "2023-05-04T16:14:25.960Z"
   },
   {
    "duration": 9,
    "start_time": "2023-05-04T16:14:26.556Z"
   },
   {
    "duration": 26,
    "start_time": "2023-05-04T16:14:27.003Z"
   },
   {
    "duration": 99,
    "start_time": "2023-05-04T16:14:28.347Z"
   },
   {
    "duration": 593,
    "start_time": "2023-05-04T16:14:34.226Z"
   },
   {
    "duration": 10,
    "start_time": "2023-05-04T16:14:35.747Z"
   },
   {
    "duration": 125,
    "start_time": "2023-05-04T16:14:36.345Z"
   },
   {
    "duration": 83801,
    "start_time": "2023-05-04T16:14:37.332Z"
   },
   {
    "duration": 28,
    "start_time": "2023-05-04T16:16:16.243Z"
   },
   {
    "duration": 130,
    "start_time": "2023-05-04T16:16:16.777Z"
   },
   {
    "duration": 33,
    "start_time": "2023-05-04T16:16:18.108Z"
   },
   {
    "duration": 11,
    "start_time": "2023-05-04T16:16:19.559Z"
   },
   {
    "duration": 158,
    "start_time": "2023-05-04T16:16:20.130Z"
   },
   {
    "duration": 609,
    "start_time": "2023-05-04T16:16:22.709Z"
   },
   {
    "duration": 11,
    "start_time": "2023-05-04T16:16:24.145Z"
   },
   {
    "duration": 84165,
    "start_time": "2023-05-04T16:16:25.241Z"
   },
   {
    "duration": 29,
    "start_time": "2023-05-04T16:17:56.497Z"
   },
   {
    "duration": 54,
    "start_time": "2023-05-04T16:17:57.130Z"
   },
   {
    "duration": 9,
    "start_time": "2023-05-04T16:17:57.724Z"
   },
   {
    "duration": 13,
    "start_time": "2023-05-04T16:17:58.873Z"
   },
   {
    "duration": 1121,
    "start_time": "2023-05-04T16:18:00.640Z"
   },
   {
    "duration": 9,
    "start_time": "2023-05-04T16:18:02.795Z"
   },
   {
    "duration": 151821,
    "start_time": "2023-05-04T16:18:03.933Z"
   },
   {
    "duration": 40,
    "start_time": "2023-05-04T16:22:05.052Z"
   },
   {
    "duration": 69,
    "start_time": "2023-05-04T16:22:05.725Z"
   },
   {
    "duration": 8,
    "start_time": "2023-05-04T16:22:06.170Z"
   },
   {
    "duration": 11,
    "start_time": "2023-05-04T16:22:07.219Z"
   },
   {
    "duration": 230,
    "start_time": "2023-05-04T16:22:07.794Z"
   },
   {
    "duration": 8,
    "start_time": "2023-05-04T16:22:08.508Z"
   },
   {
    "duration": 38956,
    "start_time": "2023-05-04T16:22:09.555Z"
   },
   {
    "duration": 27,
    "start_time": "2023-05-04T16:23:02.598Z"
   },
   {
    "duration": 25,
    "start_time": "2023-05-04T16:23:03.149Z"
   },
   {
    "duration": 13,
    "start_time": "2023-05-04T16:23:03.662Z"
   },
   {
    "duration": 276,
    "start_time": "2023-05-04T16:23:04.884Z"
   },
   {
    "duration": 27,
    "start_time": "2023-05-04T16:23:05.292Z"
   },
   {
    "duration": 200,
    "start_time": "2023-05-04T16:23:56.981Z"
   },
   {
    "duration": 280,
    "start_time": "2023-05-04T16:24:07.079Z"
   },
   {
    "duration": 22998,
    "start_time": "2023-05-04T16:25:15.016Z"
   },
   {
    "duration": 179,
    "start_time": "2023-05-04T16:26:25.434Z"
   },
   {
    "duration": 22214,
    "start_time": "2023-05-04T16:27:01.394Z"
   },
   {
    "duration": 592,
    "start_time": "2023-05-04T16:28:47.755Z"
   },
   {
    "duration": 8,
    "start_time": "2023-05-04T16:28:50.837Z"
   },
   {
    "duration": 23156,
    "start_time": "2023-05-04T16:28:51.793Z"
   },
   {
    "duration": 27,
    "start_time": "2023-05-04T16:29:28.954Z"
   },
   {
    "duration": 68,
    "start_time": "2023-05-04T16:29:29.644Z"
   },
   {
    "duration": 15,
    "start_time": "2023-05-04T16:29:30.584Z"
   },
   {
    "duration": 14,
    "start_time": "2023-05-04T16:29:33.466Z"
   },
   {
    "duration": 1038,
    "start_time": "2023-05-04T16:29:34.969Z"
   },
   {
    "duration": 7,
    "start_time": "2023-05-04T16:29:38.825Z"
   },
   {
    "duration": 40036,
    "start_time": "2023-05-04T16:29:45.805Z"
   },
   {
    "duration": 28,
    "start_time": "2023-05-04T16:31:02.987Z"
   },
   {
    "duration": 87,
    "start_time": "2023-05-04T16:31:04.513Z"
   },
   {
    "duration": 15,
    "start_time": "2023-05-04T16:32:44.256Z"
   },
   {
    "duration": 239,
    "start_time": "2023-05-04T16:32:46.655Z"
   },
   {
    "duration": 7,
    "start_time": "2023-05-04T16:32:48.004Z"
   },
   {
    "duration": 13341,
    "start_time": "2023-05-04T16:32:53.687Z"
   },
   {
    "duration": 10,
    "start_time": "2023-05-04T16:34:06.247Z"
   },
   {
    "duration": 85,
    "start_time": "2023-05-04T16:34:15.099Z"
   },
   {
    "duration": 250,
    "start_time": "2023-05-04T16:34:30.188Z"
   },
   {
    "duration": 8,
    "start_time": "2023-05-04T16:34:42.584Z"
   },
   {
    "duration": 13162,
    "start_time": "2023-05-04T16:34:48.975Z"
   },
   {
    "duration": 25,
    "start_time": "2023-05-04T16:35:04.875Z"
   },
   {
    "duration": 21,
    "start_time": "2023-05-04T16:35:14.278Z"
   },
   {
    "duration": 9,
    "start_time": "2023-05-04T16:35:15.132Z"
   },
   {
    "duration": 161,
    "start_time": "2023-05-04T16:37:58.829Z"
   },
   {
    "duration": 164,
    "start_time": "2023-05-04T16:38:04.475Z"
   },
   {
    "duration": 27,
    "start_time": "2023-05-04T16:38:06.496Z"
   },
   {
    "duration": 170,
    "start_time": "2023-05-04T16:38:23.271Z"
   },
   {
    "duration": 192,
    "start_time": "2023-05-04T16:38:25.597Z"
   },
   {
    "duration": 35,
    "start_time": "2023-05-04T17:14:12.915Z"
   },
   {
    "duration": 11,
    "start_time": "2023-05-04T17:14:13.720Z"
   },
   {
    "duration": 3247,
    "start_time": "2023-05-05T05:35:47.325Z"
   },
   {
    "duration": 88,
    "start_time": "2023-05-05T05:35:50.574Z"
   },
   {
    "duration": 14,
    "start_time": "2023-05-05T05:35:50.664Z"
   },
   {
    "duration": 12,
    "start_time": "2023-05-05T05:35:50.679Z"
   },
   {
    "duration": 937,
    "start_time": "2023-05-05T05:35:50.750Z"
   },
   {
    "duration": 73,
    "start_time": "2023-05-05T05:35:51.689Z"
   },
   {
    "duration": 7,
    "start_time": "2023-05-05T05:35:51.764Z"
   },
   {
    "duration": 13,
    "start_time": "2023-05-05T05:35:51.773Z"
   },
   {
    "duration": 103,
    "start_time": "2023-05-05T05:35:51.787Z"
   },
   {
    "duration": 68,
    "start_time": "2023-05-05T05:35:51.891Z"
   },
   {
    "duration": 33,
    "start_time": "2023-05-05T05:35:51.961Z"
   },
   {
    "duration": 71,
    "start_time": "2023-05-05T05:35:51.996Z"
   },
   {
    "duration": 14,
    "start_time": "2023-05-05T05:35:52.069Z"
   },
   {
    "duration": 69,
    "start_time": "2023-05-05T05:35:52.087Z"
   },
   {
    "duration": 17,
    "start_time": "2023-05-05T05:35:52.158Z"
   },
   {
    "duration": 82,
    "start_time": "2023-05-05T05:35:52.177Z"
   },
   {
    "duration": 226,
    "start_time": "2023-05-05T05:35:52.260Z"
   },
   {
    "duration": 1562,
    "start_time": "2023-05-05T05:35:52.487Z"
   },
   {
    "duration": 9,
    "start_time": "2023-05-05T05:35:54.051Z"
   },
   {
    "duration": 313,
    "start_time": "2023-05-05T05:35:54.062Z"
   },
   {
    "duration": 28203,
    "start_time": "2023-05-05T05:35:54.377Z"
   },
   {
    "duration": 28,
    "start_time": "2023-05-05T05:36:22.582Z"
   },
   {
    "duration": 146,
    "start_time": "2023-05-05T05:36:22.612Z"
   },
   {
    "duration": 93,
    "start_time": "2023-05-05T05:36:22.759Z"
   },
   {
    "duration": 97,
    "start_time": "2023-05-05T05:36:22.853Z"
   },
   {
    "duration": 291,
    "start_time": "2023-05-05T05:36:22.953Z"
   },
   {
    "duration": 745,
    "start_time": "2023-05-05T05:36:23.245Z"
   },
   {
    "duration": 8,
    "start_time": "2023-05-05T05:36:23.992Z"
   },
   {
    "duration": 25737,
    "start_time": "2023-05-05T05:36:24.002Z"
   },
   {
    "duration": 32,
    "start_time": "2023-05-05T05:36:49.740Z"
   },
   {
    "duration": 175,
    "start_time": "2023-05-05T05:36:49.774Z"
   },
   {
    "duration": 11,
    "start_time": "2023-05-05T05:36:49.951Z"
   },
   {
    "duration": 196,
    "start_time": "2023-05-05T05:36:49.964Z"
   },
   {
    "duration": 1238,
    "start_time": "2023-05-05T05:36:50.162Z"
   },
   {
    "duration": 10,
    "start_time": "2023-05-05T05:36:51.402Z"
   },
   {
    "duration": 46380,
    "start_time": "2023-05-05T05:36:51.414Z"
   },
   {
    "duration": 22,
    "start_time": "2023-05-05T05:37:37.796Z"
   },
   {
    "duration": 130,
    "start_time": "2023-05-05T05:37:37.819Z"
   },
   {
    "duration": 8,
    "start_time": "2023-05-05T05:37:37.952Z"
   },
   {
    "duration": 204,
    "start_time": "2023-05-05T05:37:37.962Z"
   },
   {
    "duration": 280,
    "start_time": "2023-05-05T05:37:38.169Z"
   },
   {
    "duration": 8,
    "start_time": "2023-05-05T05:37:38.451Z"
   },
   {
    "duration": 13742,
    "start_time": "2023-05-05T05:37:38.460Z"
   },
   {
    "duration": 23,
    "start_time": "2023-05-05T05:37:52.204Z"
   },
   {
    "duration": 37,
    "start_time": "2023-05-05T05:37:52.229Z"
   },
   {
    "duration": 186,
    "start_time": "2023-05-05T05:37:52.268Z"
   },
   {
    "duration": 282,
    "start_time": "2023-05-05T05:37:52.456Z"
   },
   {
    "duration": 22,
    "start_time": "2023-05-05T05:37:52.740Z"
   },
   {
    "duration": 1118,
    "start_time": "2023-05-05T11:28:44.944Z"
   },
   {
    "duration": 100,
    "start_time": "2023-05-05T11:28:46.064Z"
   },
   {
    "duration": 15,
    "start_time": "2023-05-05T11:28:46.624Z"
   },
   {
    "duration": 17,
    "start_time": "2023-05-05T11:29:00.288Z"
   },
   {
    "duration": 522,
    "start_time": "2023-05-05T11:29:02.543Z"
   },
   {
    "duration": 13,
    "start_time": "2023-05-05T11:29:03.851Z"
   },
   {
    "duration": 7,
    "start_time": "2023-05-05T11:29:04.364Z"
   },
   {
    "duration": 4,
    "start_time": "2023-05-05T12:13:22.727Z"
   },
   {
    "duration": 39,
    "start_time": "2023-05-05T12:13:22.842Z"
   },
   {
    "duration": 32,
    "start_time": "2023-05-05T12:13:23.312Z"
   },
   {
    "duration": 17,
    "start_time": "2023-05-05T12:13:23.621Z"
   },
   {
    "duration": 31,
    "start_time": "2023-05-05T12:13:23.786Z"
   },
   {
    "duration": 11,
    "start_time": "2023-05-05T12:13:23.960Z"
   },
   {
    "duration": 6,
    "start_time": "2023-05-05T12:13:24.155Z"
   },
   {
    "duration": 6,
    "start_time": "2023-05-05T12:13:25.048Z"
   },
   {
    "duration": 53,
    "start_time": "2023-05-05T12:13:25.218Z"
   },
   {
    "duration": 31,
    "start_time": "2023-05-05T12:13:25.389Z"
   },
   {
    "duration": 25,
    "start_time": "2023-05-05T12:13:25.585Z"
   },
   {
    "duration": 34,
    "start_time": "2023-05-05T12:13:27.999Z"
   },
   {
    "duration": 235,
    "start_time": "2023-05-05T12:13:44.106Z"
   },
   {
    "duration": 131,
    "start_time": "2023-05-05T12:16:11.543Z"
   },
   {
    "duration": 17,
    "start_time": "2023-05-05T12:16:23.368Z"
   },
   {
    "duration": 13,
    "start_time": "2023-05-05T12:16:49.272Z"
   },
   {
    "duration": 12,
    "start_time": "2023-05-05T12:17:35.516Z"
   },
   {
    "duration": 35,
    "start_time": "2023-05-05T12:17:35.654Z"
   },
   {
    "duration": 30,
    "start_time": "2023-05-05T12:17:36.122Z"
   },
   {
    "duration": 12,
    "start_time": "2023-05-05T12:17:36.451Z"
   },
   {
    "duration": 17,
    "start_time": "2023-05-05T12:17:36.669Z"
   },
   {
    "duration": 18,
    "start_time": "2023-05-05T12:17:36.827Z"
   },
   {
    "duration": 6,
    "start_time": "2023-05-05T12:17:36.976Z"
   },
   {
    "duration": 26,
    "start_time": "2023-05-05T12:17:37.724Z"
   },
   {
    "duration": 73,
    "start_time": "2023-05-05T12:17:37.899Z"
   },
   {
    "duration": 26,
    "start_time": "2023-05-05T12:17:38.081Z"
   },
   {
    "duration": 14,
    "start_time": "2023-05-05T12:17:38.236Z"
   },
   {
    "duration": 30,
    "start_time": "2023-05-05T12:17:39.824Z"
   },
   {
    "duration": 3,
    "start_time": "2023-05-05T12:41:10.506Z"
   },
   {
    "duration": 62,
    "start_time": "2023-05-05T13:53:45.561Z"
   },
   {
    "duration": 3025,
    "start_time": "2023-05-05T13:53:50.336Z"
   },
   {
    "duration": 56,
    "start_time": "2023-05-05T14:04:09.189Z"
   },
   {
    "duration": 4,
    "start_time": "2023-05-05T14:20:20.996Z"
   },
   {
    "duration": 35,
    "start_time": "2023-05-05T14:20:21.155Z"
   },
   {
    "duration": 18,
    "start_time": "2023-05-05T14:20:21.580Z"
   },
   {
    "duration": 7,
    "start_time": "2023-05-05T14:20:21.875Z"
   },
   {
    "duration": 14,
    "start_time": "2023-05-05T14:20:22.045Z"
   },
   {
    "duration": 18,
    "start_time": "2023-05-05T14:20:22.186Z"
   },
   {
    "duration": 9,
    "start_time": "2023-05-05T14:20:22.356Z"
   },
   {
    "duration": 11,
    "start_time": "2023-05-05T14:20:23.113Z"
   },
   {
    "duration": 45,
    "start_time": "2023-05-05T14:20:23.280Z"
   },
   {
    "duration": 16,
    "start_time": "2023-05-05T14:20:23.455Z"
   },
   {
    "duration": 14,
    "start_time": "2023-05-05T14:20:23.606Z"
   },
   {
    "duration": 21,
    "start_time": "2023-05-05T14:20:24.533Z"
   },
   {
    "duration": 3,
    "start_time": "2023-05-05T14:20:25.304Z"
   },
   {
    "duration": 6,
    "start_time": "2023-05-05T14:20:25.620Z"
   },
   {
    "duration": 2169,
    "start_time": "2023-05-05T14:20:26.382Z"
   },
   {
    "duration": 12,
    "start_time": "2023-05-05T14:20:28.554Z"
   },
   {
    "duration": 10,
    "start_time": "2023-05-05T14:20:28.568Z"
   },
   {
    "duration": 39,
    "start_time": "2023-05-05T14:20:28.581Z"
   },
   {
    "duration": 122,
    "start_time": "2023-05-05T14:20:29.813Z"
   },
   {
    "duration": 27,
    "start_time": "2023-05-05T14:20:31.650Z"
   },
   {
    "duration": 51,
    "start_time": "2023-05-05T14:23:41.704Z"
   },
   {
    "duration": 49,
    "start_time": "2023-05-05T14:23:44.119Z"
   },
   {
    "duration": 118,
    "start_time": "2023-05-05T14:24:11.258Z"
   },
   {
    "duration": 53524,
    "start_time": "2023-05-05T14:26:09.049Z"
   },
   {
    "duration": 49,
    "start_time": "2023-05-05T15:01:09.520Z"
   },
   {
    "duration": 56486,
    "start_time": "2023-05-05T15:01:28.231Z"
   },
   {
    "duration": 13,
    "start_time": "2023-05-05T15:05:33.318Z"
   },
   {
    "duration": 54832,
    "start_time": "2023-05-05T16:03:55.373Z"
   },
   {
    "duration": 10,
    "start_time": "2023-05-05T16:06:17.219Z"
   },
   {
    "duration": 186,
    "start_time": "2023-05-05T16:06:17.645Z"
   },
   {
    "duration": 26986,
    "start_time": "2023-05-05T16:06:18.088Z"
   },
   {
    "duration": 39,
    "start_time": "2023-05-05T16:06:45.076Z"
   },
   {
    "duration": 156,
    "start_time": "2023-05-05T16:06:45.120Z"
   },
   {
    "duration": 54712,
    "start_time": "2023-05-05T16:08:41.219Z"
   },
   {
    "duration": 27,
    "start_time": "2023-05-05T16:09:35.932Z"
   },
   {
    "duration": 177,
    "start_time": "2023-05-05T16:09:35.961Z"
   },
   {
    "duration": 65,
    "start_time": "2023-05-05T16:09:36.141Z"
   },
   {
    "duration": 94,
    "start_time": "2023-05-05T16:09:36.207Z"
   },
   {
    "duration": 251,
    "start_time": "2023-05-05T16:09:36.303Z"
   },
   {
    "duration": 140,
    "start_time": "2023-05-05T16:13:35.509Z"
   },
   {
    "duration": 657,
    "start_time": "2023-05-05T16:13:40.550Z"
   },
   {
    "duration": 52811,
    "start_time": "2023-05-05T16:14:16.988Z"
   },
   {
    "duration": 54127,
    "start_time": "2023-05-05T16:16:19.146Z"
   },
   {
    "duration": 9,
    "start_time": "2023-05-05T16:17:55.052Z"
   },
   {
    "duration": 26710,
    "start_time": "2023-05-05T16:18:05.061Z"
   },
   {
    "duration": 35,
    "start_time": "2023-05-05T16:18:51.570Z"
   },
   {
    "duration": 35,
    "start_time": "2023-05-05T16:18:55.666Z"
   },
   {
    "duration": 10,
    "start_time": "2023-05-05T16:18:57.856Z"
   },
   {
    "duration": 13,
    "start_time": "2023-05-05T17:57:26.704Z"
   },
   {
    "duration": 72498,
    "start_time": "2023-05-05T17:58:51.546Z"
   },
   {
    "duration": 802,
    "start_time": "2023-05-05T18:03:25.806Z"
   },
   {
    "duration": 8,
    "start_time": "2023-05-05T18:04:11.363Z"
   },
   {
    "duration": 33690,
    "start_time": "2023-05-05T18:04:15.326Z"
   },
   {
    "duration": 27,
    "start_time": "2023-05-05T18:05:24.932Z"
   },
   {
    "duration": 171,
    "start_time": "2023-05-05T18:05:35.621Z"
   },
   {
    "duration": 13,
    "start_time": "2023-05-05T18:05:59.971Z"
   },
   {
    "duration": 30,
    "start_time": "2023-05-05T18:29:34.285Z"
   },
   {
    "duration": 17,
    "start_time": "2023-05-05T18:30:59.043Z"
   },
   {
    "duration": 33,
    "start_time": "2023-05-05T18:32:58.879Z"
   },
   {
    "duration": 13,
    "start_time": "2023-05-05T18:34:56.266Z"
   },
   {
    "duration": 71498,
    "start_time": "2023-05-05T18:36:10.620Z"
   },
   {
    "duration": 10,
    "start_time": "2023-05-05T18:37:29.816Z"
   },
   {
    "duration": 37524,
    "start_time": "2023-05-05T18:37:30.354Z"
   },
   {
    "duration": 38,
    "start_time": "2023-05-05T18:38:07.879Z"
   },
   {
    "duration": 53,
    "start_time": "2023-05-05T18:38:10.142Z"
   },
   {
    "duration": 13,
    "start_time": "2023-05-05T18:38:10.912Z"
   },
   {
    "duration": 18,
    "start_time": "2023-05-05T18:38:12.932Z"
   },
   {
    "duration": 33932,
    "start_time": "2023-05-05T18:39:56.786Z"
   },
   {
    "duration": 11,
    "start_time": "2023-05-05T18:41:32.074Z"
   },
   {
    "duration": 20907,
    "start_time": "2023-05-05T18:41:35.938Z"
   },
   {
    "duration": 34,
    "start_time": "2023-05-05T18:42:21.886Z"
   },
   {
    "duration": 23,
    "start_time": "2023-05-05T18:42:25.547Z"
   },
   {
    "duration": 15,
    "start_time": "2023-05-05T18:43:12.657Z"
   },
   {
    "duration": 178,
    "start_time": "2023-05-05T18:55:42.284Z"
   },
   {
    "duration": 165,
    "start_time": "2023-05-05T18:55:52.109Z"
   },
   {
    "duration": 27,
    "start_time": "2023-05-05T18:55:54.787Z"
   },
   {
    "duration": 26,
    "start_time": "2023-05-05T18:57:17.344Z"
   }
  ],
  "kernelspec": {
   "display_name": "Python 3 (ipykernel)",
   "language": "python",
   "name": "python3"
  },
  "language_info": {
   "codemirror_mode": {
    "name": "ipython",
    "version": 3
   },
   "file_extension": ".py",
   "mimetype": "text/x-python",
   "name": "python",
   "nbconvert_exporter": "python",
   "pygments_lexer": "ipython3",
   "version": "3.9.5"
  },
  "toc": {
   "base_numbering": 1,
   "nav_menu": {},
   "number_sections": true,
   "sideBar": true,
   "skip_h1_title": true,
   "title_cell": "Содержание",
   "title_sidebar": "Contents",
   "toc_cell": true,
   "toc_position": {
    "height": "calc(100% - 180px)",
    "left": "10px",
    "top": "150px",
    "width": "348px"
   },
   "toc_section_display": true,
   "toc_window_display": false
  }
 },
 "nbformat": 4,
 "nbformat_minor": 4
}
