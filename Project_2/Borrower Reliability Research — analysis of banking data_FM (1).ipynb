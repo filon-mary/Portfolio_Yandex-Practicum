{
 "cells": [
  {
   "cell_type": "markdown",
   "id": "624a82db",
   "metadata": {
    "deletable": false,
    "editable": false,
    "id": "c81daeeb"
   },
   "source": [
    "# Исследование надежности заемщиков\n"
   ]
  },
  {
   "cell_type": "markdown",
   "id": "af52a023",
   "metadata": {
    "deletable": false,
    "editable": false,
    "id": "827c20bf"
   },
   "source": [
    "Во второй части проекта вы выполните шаги 3 и 4. Их вручную проверит ревьюер.\n",
    "Чтобы вам не пришлось писать код заново для шагов 1 и 2, мы добавили авторские решения в ячейки с кодом. \n",
    "\n"
   ]
  },
  {
   "cell_type": "markdown",
   "id": "5dfe2af6-b353-40d5-8e19-8dfeca8feb7b",
   "metadata": {},
   "source": [
    "**Цель исследования** — понять, влияет ли семейное положение и количество детей клиента на факт погашения кредита в срок.<br>\n",
    "\n",
    "Результаты исследования будут учтены при построении модели кредитного скоринга, которая оценивает способность потенциального заёмщика вернуть кредит банку.\n",
    " \n",
    "**Таким образом, исследование пройдёт в три этапа:**\n",
    " 1. Обзор данных.\n",
    " 2. Предобработка данных.\n",
    " 3. Проверка гипотез.\n"
   ]
  },
  {
   "cell_type": "markdown",
   "id": "f303d84c",
   "metadata": {
    "deletable": false,
    "editable": false,
    "id": "744d7639"
   },
   "source": [
    "## Откройте таблицу и изучите общую информацию о данных"
   ]
  },
  {
   "cell_type": "markdown",
   "id": "a7e382ef",
   "metadata": {
    "deletable": false,
    "editable": false,
    "id": "e7a14c31"
   },
   "source": [
    "**Задание 1. Импортируйте библиотеку pandas. Считайте данные из csv-файла в датафрейм и сохраните в переменную `data`. Путь к файлу:**\n",
    "\n",
    "`/datasets/data.csv`"
   ]
  },
  {
   "cell_type": "code",
   "execution_count": 4,
   "id": "d3e82494",
   "metadata": {
    "deletable": false,
    "id": "7bcf75c9"
   },
   "outputs": [],
   "source": [
    "import pandas as pd\n",
    "\n",
    "try:\n",
    "    data = pd.read_csv('/datasets/data.csv')\n",
    "    \n",
    "except:\n",
    "    pass"
   ]
  },
  {
   "cell_type": "markdown",
   "id": "8b3e3641",
   "metadata": {
    "deletable": false,
    "editable": false,
    "id": "b8038fe3"
   },
   "source": [
    "**Задание 2. Выведите первые 20 строчек датафрейма `data` на экран.**"
   ]
  },
  {
   "cell_type": "code",
   "execution_count": 2,
   "id": "ba8daf93",
   "metadata": {
    "deletable": false,
    "id": "2a7cab99",
    "outputId": "1a8f3ef2-d323-4ec2-ddf7-89670b5944c4"
   },
   "outputs": [
    {
     "data": {
      "text/html": [
       "<div>\n",
       "<style scoped>\n",
       "    .dataframe tbody tr th:only-of-type {\n",
       "        vertical-align: middle;\n",
       "    }\n",
       "\n",
       "    .dataframe tbody tr th {\n",
       "        vertical-align: top;\n",
       "    }\n",
       "\n",
       "    .dataframe thead th {\n",
       "        text-align: right;\n",
       "    }\n",
       "</style>\n",
       "<table border=\"1\" class=\"dataframe\">\n",
       "  <thead>\n",
       "    <tr style=\"text-align: right;\">\n",
       "      <th></th>\n",
       "      <th>children</th>\n",
       "      <th>days_employed</th>\n",
       "      <th>dob_years</th>\n",
       "      <th>education</th>\n",
       "      <th>education_id</th>\n",
       "      <th>family_status</th>\n",
       "      <th>family_status_id</th>\n",
       "      <th>gender</th>\n",
       "      <th>income_type</th>\n",
       "      <th>debt</th>\n",
       "      <th>total_income</th>\n",
       "      <th>purpose</th>\n",
       "    </tr>\n",
       "  </thead>\n",
       "  <tbody>\n",
       "    <tr>\n",
       "      <th>0</th>\n",
       "      <td>1</td>\n",
       "      <td>-8437.673028</td>\n",
       "      <td>42</td>\n",
       "      <td>высшее</td>\n",
       "      <td>0</td>\n",
       "      <td>женат / замужем</td>\n",
       "      <td>0</td>\n",
       "      <td>F</td>\n",
       "      <td>сотрудник</td>\n",
       "      <td>0</td>\n",
       "      <td>253875.639453</td>\n",
       "      <td>покупка жилья</td>\n",
       "    </tr>\n",
       "    <tr>\n",
       "      <th>1</th>\n",
       "      <td>1</td>\n",
       "      <td>-4024.803754</td>\n",
       "      <td>36</td>\n",
       "      <td>среднее</td>\n",
       "      <td>1</td>\n",
       "      <td>женат / замужем</td>\n",
       "      <td>0</td>\n",
       "      <td>F</td>\n",
       "      <td>сотрудник</td>\n",
       "      <td>0</td>\n",
       "      <td>112080.014102</td>\n",
       "      <td>приобретение автомобиля</td>\n",
       "    </tr>\n",
       "    <tr>\n",
       "      <th>2</th>\n",
       "      <td>0</td>\n",
       "      <td>-5623.422610</td>\n",
       "      <td>33</td>\n",
       "      <td>Среднее</td>\n",
       "      <td>1</td>\n",
       "      <td>женат / замужем</td>\n",
       "      <td>0</td>\n",
       "      <td>M</td>\n",
       "      <td>сотрудник</td>\n",
       "      <td>0</td>\n",
       "      <td>145885.952297</td>\n",
       "      <td>покупка жилья</td>\n",
       "    </tr>\n",
       "    <tr>\n",
       "      <th>3</th>\n",
       "      <td>3</td>\n",
       "      <td>-4124.747207</td>\n",
       "      <td>32</td>\n",
       "      <td>среднее</td>\n",
       "      <td>1</td>\n",
       "      <td>женат / замужем</td>\n",
       "      <td>0</td>\n",
       "      <td>M</td>\n",
       "      <td>сотрудник</td>\n",
       "      <td>0</td>\n",
       "      <td>267628.550329</td>\n",
       "      <td>дополнительное образование</td>\n",
       "    </tr>\n",
       "    <tr>\n",
       "      <th>4</th>\n",
       "      <td>0</td>\n",
       "      <td>340266.072047</td>\n",
       "      <td>53</td>\n",
       "      <td>среднее</td>\n",
       "      <td>1</td>\n",
       "      <td>гражданский брак</td>\n",
       "      <td>1</td>\n",
       "      <td>F</td>\n",
       "      <td>пенсионер</td>\n",
       "      <td>0</td>\n",
       "      <td>158616.077870</td>\n",
       "      <td>сыграть свадьбу</td>\n",
       "    </tr>\n",
       "    <tr>\n",
       "      <th>5</th>\n",
       "      <td>0</td>\n",
       "      <td>-926.185831</td>\n",
       "      <td>27</td>\n",
       "      <td>высшее</td>\n",
       "      <td>0</td>\n",
       "      <td>гражданский брак</td>\n",
       "      <td>1</td>\n",
       "      <td>M</td>\n",
       "      <td>компаньон</td>\n",
       "      <td>0</td>\n",
       "      <td>255763.565419</td>\n",
       "      <td>покупка жилья</td>\n",
       "    </tr>\n",
       "    <tr>\n",
       "      <th>6</th>\n",
       "      <td>0</td>\n",
       "      <td>-2879.202052</td>\n",
       "      <td>43</td>\n",
       "      <td>высшее</td>\n",
       "      <td>0</td>\n",
       "      <td>женат / замужем</td>\n",
       "      <td>0</td>\n",
       "      <td>F</td>\n",
       "      <td>компаньон</td>\n",
       "      <td>0</td>\n",
       "      <td>240525.971920</td>\n",
       "      <td>операции с жильем</td>\n",
       "    </tr>\n",
       "    <tr>\n",
       "      <th>7</th>\n",
       "      <td>0</td>\n",
       "      <td>-152.779569</td>\n",
       "      <td>50</td>\n",
       "      <td>СРЕДНЕЕ</td>\n",
       "      <td>1</td>\n",
       "      <td>женат / замужем</td>\n",
       "      <td>0</td>\n",
       "      <td>M</td>\n",
       "      <td>сотрудник</td>\n",
       "      <td>0</td>\n",
       "      <td>135823.934197</td>\n",
       "      <td>образование</td>\n",
       "    </tr>\n",
       "    <tr>\n",
       "      <th>8</th>\n",
       "      <td>2</td>\n",
       "      <td>-6929.865299</td>\n",
       "      <td>35</td>\n",
       "      <td>ВЫСШЕЕ</td>\n",
       "      <td>0</td>\n",
       "      <td>гражданский брак</td>\n",
       "      <td>1</td>\n",
       "      <td>F</td>\n",
       "      <td>сотрудник</td>\n",
       "      <td>0</td>\n",
       "      <td>95856.832424</td>\n",
       "      <td>на проведение свадьбы</td>\n",
       "    </tr>\n",
       "    <tr>\n",
       "      <th>9</th>\n",
       "      <td>0</td>\n",
       "      <td>-2188.756445</td>\n",
       "      <td>41</td>\n",
       "      <td>среднее</td>\n",
       "      <td>1</td>\n",
       "      <td>женат / замужем</td>\n",
       "      <td>0</td>\n",
       "      <td>M</td>\n",
       "      <td>сотрудник</td>\n",
       "      <td>0</td>\n",
       "      <td>144425.938277</td>\n",
       "      <td>покупка жилья для семьи</td>\n",
       "    </tr>\n",
       "    <tr>\n",
       "      <th>10</th>\n",
       "      <td>2</td>\n",
       "      <td>-4171.483647</td>\n",
       "      <td>36</td>\n",
       "      <td>высшее</td>\n",
       "      <td>0</td>\n",
       "      <td>женат / замужем</td>\n",
       "      <td>0</td>\n",
       "      <td>M</td>\n",
       "      <td>компаньон</td>\n",
       "      <td>0</td>\n",
       "      <td>113943.491460</td>\n",
       "      <td>покупка недвижимости</td>\n",
       "    </tr>\n",
       "    <tr>\n",
       "      <th>11</th>\n",
       "      <td>0</td>\n",
       "      <td>-792.701887</td>\n",
       "      <td>40</td>\n",
       "      <td>среднее</td>\n",
       "      <td>1</td>\n",
       "      <td>женат / замужем</td>\n",
       "      <td>0</td>\n",
       "      <td>F</td>\n",
       "      <td>сотрудник</td>\n",
       "      <td>0</td>\n",
       "      <td>77069.234271</td>\n",
       "      <td>покупка коммерческой недвижимости</td>\n",
       "    </tr>\n",
       "    <tr>\n",
       "      <th>12</th>\n",
       "      <td>0</td>\n",
       "      <td>NaN</td>\n",
       "      <td>65</td>\n",
       "      <td>среднее</td>\n",
       "      <td>1</td>\n",
       "      <td>гражданский брак</td>\n",
       "      <td>1</td>\n",
       "      <td>M</td>\n",
       "      <td>пенсионер</td>\n",
       "      <td>0</td>\n",
       "      <td>NaN</td>\n",
       "      <td>сыграть свадьбу</td>\n",
       "    </tr>\n",
       "    <tr>\n",
       "      <th>13</th>\n",
       "      <td>0</td>\n",
       "      <td>-1846.641941</td>\n",
       "      <td>54</td>\n",
       "      <td>неоконченное высшее</td>\n",
       "      <td>2</td>\n",
       "      <td>женат / замужем</td>\n",
       "      <td>0</td>\n",
       "      <td>F</td>\n",
       "      <td>сотрудник</td>\n",
       "      <td>0</td>\n",
       "      <td>130458.228857</td>\n",
       "      <td>приобретение автомобиля</td>\n",
       "    </tr>\n",
       "    <tr>\n",
       "      <th>14</th>\n",
       "      <td>0</td>\n",
       "      <td>-1844.956182</td>\n",
       "      <td>56</td>\n",
       "      <td>высшее</td>\n",
       "      <td>0</td>\n",
       "      <td>гражданский брак</td>\n",
       "      <td>1</td>\n",
       "      <td>F</td>\n",
       "      <td>компаньон</td>\n",
       "      <td>1</td>\n",
       "      <td>165127.911772</td>\n",
       "      <td>покупка жилой недвижимости</td>\n",
       "    </tr>\n",
       "    <tr>\n",
       "      <th>15</th>\n",
       "      <td>1</td>\n",
       "      <td>-972.364419</td>\n",
       "      <td>26</td>\n",
       "      <td>среднее</td>\n",
       "      <td>1</td>\n",
       "      <td>женат / замужем</td>\n",
       "      <td>0</td>\n",
       "      <td>F</td>\n",
       "      <td>сотрудник</td>\n",
       "      <td>0</td>\n",
       "      <td>116820.904450</td>\n",
       "      <td>строительство собственной недвижимости</td>\n",
       "    </tr>\n",
       "    <tr>\n",
       "      <th>16</th>\n",
       "      <td>0</td>\n",
       "      <td>-1719.934226</td>\n",
       "      <td>35</td>\n",
       "      <td>среднее</td>\n",
       "      <td>1</td>\n",
       "      <td>женат / замужем</td>\n",
       "      <td>0</td>\n",
       "      <td>F</td>\n",
       "      <td>сотрудник</td>\n",
       "      <td>0</td>\n",
       "      <td>289202.704229</td>\n",
       "      <td>недвижимость</td>\n",
       "    </tr>\n",
       "    <tr>\n",
       "      <th>17</th>\n",
       "      <td>0</td>\n",
       "      <td>-2369.999720</td>\n",
       "      <td>33</td>\n",
       "      <td>высшее</td>\n",
       "      <td>0</td>\n",
       "      <td>гражданский брак</td>\n",
       "      <td>1</td>\n",
       "      <td>M</td>\n",
       "      <td>сотрудник</td>\n",
       "      <td>0</td>\n",
       "      <td>90410.586745</td>\n",
       "      <td>строительство недвижимости</td>\n",
       "    </tr>\n",
       "    <tr>\n",
       "      <th>18</th>\n",
       "      <td>0</td>\n",
       "      <td>400281.136913</td>\n",
       "      <td>53</td>\n",
       "      <td>среднее</td>\n",
       "      <td>1</td>\n",
       "      <td>вдовец / вдова</td>\n",
       "      <td>2</td>\n",
       "      <td>F</td>\n",
       "      <td>пенсионер</td>\n",
       "      <td>0</td>\n",
       "      <td>56823.777243</td>\n",
       "      <td>на покупку подержанного автомобиля</td>\n",
       "    </tr>\n",
       "    <tr>\n",
       "      <th>19</th>\n",
       "      <td>0</td>\n",
       "      <td>-10038.818549</td>\n",
       "      <td>48</td>\n",
       "      <td>СРЕДНЕЕ</td>\n",
       "      <td>1</td>\n",
       "      <td>в разводе</td>\n",
       "      <td>3</td>\n",
       "      <td>F</td>\n",
       "      <td>сотрудник</td>\n",
       "      <td>0</td>\n",
       "      <td>242831.107982</td>\n",
       "      <td>на покупку своего автомобиля</td>\n",
       "    </tr>\n",
       "  </tbody>\n",
       "</table>\n",
       "</div>"
      ],
      "text/plain": [
       "    children  days_employed  dob_years            education  education_id  \\\n",
       "0          1   -8437.673028         42               высшее             0   \n",
       "1          1   -4024.803754         36              среднее             1   \n",
       "2          0   -5623.422610         33              Среднее             1   \n",
       "3          3   -4124.747207         32              среднее             1   \n",
       "4          0  340266.072047         53              среднее             1   \n",
       "5          0    -926.185831         27               высшее             0   \n",
       "6          0   -2879.202052         43               высшее             0   \n",
       "7          0    -152.779569         50              СРЕДНЕЕ             1   \n",
       "8          2   -6929.865299         35               ВЫСШЕЕ             0   \n",
       "9          0   -2188.756445         41              среднее             1   \n",
       "10         2   -4171.483647         36               высшее             0   \n",
       "11         0    -792.701887         40              среднее             1   \n",
       "12         0            NaN         65              среднее             1   \n",
       "13         0   -1846.641941         54  неоконченное высшее             2   \n",
       "14         0   -1844.956182         56               высшее             0   \n",
       "15         1    -972.364419         26              среднее             1   \n",
       "16         0   -1719.934226         35              среднее             1   \n",
       "17         0   -2369.999720         33               высшее             0   \n",
       "18         0  400281.136913         53              среднее             1   \n",
       "19         0  -10038.818549         48              СРЕДНЕЕ             1   \n",
       "\n",
       "       family_status  family_status_id gender income_type  debt  \\\n",
       "0    женат / замужем                 0      F   сотрудник     0   \n",
       "1    женат / замужем                 0      F   сотрудник     0   \n",
       "2    женат / замужем                 0      M   сотрудник     0   \n",
       "3    женат / замужем                 0      M   сотрудник     0   \n",
       "4   гражданский брак                 1      F   пенсионер     0   \n",
       "5   гражданский брак                 1      M   компаньон     0   \n",
       "6    женат / замужем                 0      F   компаньон     0   \n",
       "7    женат / замужем                 0      M   сотрудник     0   \n",
       "8   гражданский брак                 1      F   сотрудник     0   \n",
       "9    женат / замужем                 0      M   сотрудник     0   \n",
       "10   женат / замужем                 0      M   компаньон     0   \n",
       "11   женат / замужем                 0      F   сотрудник     0   \n",
       "12  гражданский брак                 1      M   пенсионер     0   \n",
       "13   женат / замужем                 0      F   сотрудник     0   \n",
       "14  гражданский брак                 1      F   компаньон     1   \n",
       "15   женат / замужем                 0      F   сотрудник     0   \n",
       "16   женат / замужем                 0      F   сотрудник     0   \n",
       "17  гражданский брак                 1      M   сотрудник     0   \n",
       "18    вдовец / вдова                 2      F   пенсионер     0   \n",
       "19         в разводе                 3      F   сотрудник     0   \n",
       "\n",
       "     total_income                                 purpose  \n",
       "0   253875.639453                           покупка жилья  \n",
       "1   112080.014102                 приобретение автомобиля  \n",
       "2   145885.952297                           покупка жилья  \n",
       "3   267628.550329              дополнительное образование  \n",
       "4   158616.077870                         сыграть свадьбу  \n",
       "5   255763.565419                           покупка жилья  \n",
       "6   240525.971920                       операции с жильем  \n",
       "7   135823.934197                             образование  \n",
       "8    95856.832424                   на проведение свадьбы  \n",
       "9   144425.938277                 покупка жилья для семьи  \n",
       "10  113943.491460                    покупка недвижимости  \n",
       "11   77069.234271       покупка коммерческой недвижимости  \n",
       "12            NaN                         сыграть свадьбу  \n",
       "13  130458.228857                 приобретение автомобиля  \n",
       "14  165127.911772              покупка жилой недвижимости  \n",
       "15  116820.904450  строительство собственной недвижимости  \n",
       "16  289202.704229                            недвижимость  \n",
       "17   90410.586745              строительство недвижимости  \n",
       "18   56823.777243      на покупку подержанного автомобиля  \n",
       "19  242831.107982            на покупку своего автомобиля  "
      ]
     },
     "execution_count": 2,
     "metadata": {},
     "output_type": "execute_result"
    }
   ],
   "source": [
    "data.head(20)"
   ]
  },
  {
   "cell_type": "markdown",
   "id": "b2ec87fd",
   "metadata": {
    "deletable": false,
    "editable": false,
    "id": "1c12e233"
   },
   "source": [
    "**Задание 3. Выведите основную информацию о датафрейме с помощью метода `info()`.**"
   ]
  },
  {
   "cell_type": "code",
   "execution_count": 3,
   "id": "5e7b213f",
   "metadata": {
    "deletable": false,
    "id": "2b757bca",
    "outputId": "15376089-8dad-46c9-b520-c05248d43158"
   },
   "outputs": [
    {
     "name": "stdout",
     "output_type": "stream",
     "text": [
      "<class 'pandas.core.frame.DataFrame'>\n",
      "RangeIndex: 21525 entries, 0 to 21524\n",
      "Data columns (total 12 columns):\n",
      " #   Column            Non-Null Count  Dtype  \n",
      "---  ------            --------------  -----  \n",
      " 0   children          21525 non-null  int64  \n",
      " 1   days_employed     19351 non-null  float64\n",
      " 2   dob_years         21525 non-null  int64  \n",
      " 3   education         21525 non-null  object \n",
      " 4   education_id      21525 non-null  int64  \n",
      " 5   family_status     21525 non-null  object \n",
      " 6   family_status_id  21525 non-null  int64  \n",
      " 7   gender            21525 non-null  object \n",
      " 8   income_type       21525 non-null  object \n",
      " 9   debt              21525 non-null  int64  \n",
      " 10  total_income      19351 non-null  float64\n",
      " 11  purpose           21525 non-null  object \n",
      "dtypes: float64(2), int64(5), object(5)\n",
      "memory usage: 2.0+ MB\n"
     ]
    }
   ],
   "source": [
    "data.info()"
   ]
  },
  {
   "cell_type": "markdown",
   "id": "7255849c",
   "metadata": {
    "deletable": false,
    "editable": false,
    "id": "333ec665"
   },
   "source": [
    "## Предобработка данных"
   ]
  },
  {
   "cell_type": "markdown",
   "id": "2df678c6",
   "metadata": {
    "deletable": false,
    "editable": false,
    "id": "02d92d53"
   },
   "source": [
    "### Удаление пропусков"
   ]
  },
  {
   "cell_type": "markdown",
   "id": "81ad18cb",
   "metadata": {
    "deletable": false,
    "editable": false,
    "id": "cd84967c"
   },
   "source": [
    "**Задание 4. Выведите количество пропущенных значений для каждого столбца. Используйте комбинацию двух методов.**"
   ]
  },
  {
   "cell_type": "code",
   "execution_count": 4,
   "id": "7af3b47f",
   "metadata": {
    "deletable": false,
    "id": "7f9b2309",
    "outputId": "81f4d817-781c-465c-ed15-91ce4446810d"
   },
   "outputs": [
    {
     "data": {
      "text/plain": [
       "children               0\n",
       "days_employed       2174\n",
       "dob_years              0\n",
       "education              0\n",
       "education_id           0\n",
       "family_status          0\n",
       "family_status_id       0\n",
       "gender                 0\n",
       "income_type            0\n",
       "debt                   0\n",
       "total_income        2174\n",
       "purpose                0\n",
       "dtype: int64"
      ]
     },
     "execution_count": 4,
     "metadata": {},
     "output_type": "execute_result"
    }
   ],
   "source": [
    "data.isna().sum()"
   ]
  },
  {
   "cell_type": "markdown",
   "id": "1e90ed86",
   "metadata": {
    "deletable": false,
    "editable": false,
    "id": "db86e27b"
   },
   "source": [
    "**Задание 5. В двух столбцах есть пропущенные значения. Один из них — `days_employed`. Пропуски в этом столбце вы обработаете на следующем этапе. Другой столбец с пропущенными значениями — `total_income` — хранит данные о доходах. На сумму дохода сильнее всего влияет тип занятости, поэтому заполнить пропуски в этом столбце нужно медианным значением по каждому типу из столбца `income_type`. Например, у человека с типом занятости `сотрудник` пропуск в столбце `total_income` должен быть заполнен медианным доходом среди всех записей с тем же типом.**"
   ]
  },
  {
   "cell_type": "code",
   "execution_count": 5,
   "id": "e6801f84",
   "metadata": {
    "deletable": false,
    "id": "42006a93"
   },
   "outputs": [],
   "source": [
    "for t in data['income_type'].unique():\n",
    "    data.loc[(data['income_type'] == t) & (data['total_income'].isna()), 'total_income'] = \\\n",
    "    data.loc[(data['income_type'] == t), 'total_income'].median()"
   ]
  },
  {
   "cell_type": "markdown",
   "id": "623daf28",
   "metadata": {
    "deletable": false,
    "editable": false,
    "id": "89da5ece"
   },
   "source": [
    "### Обработка аномальных значений"
   ]
  },
  {
   "cell_type": "markdown",
   "id": "a66efdb8",
   "metadata": {
    "deletable": false,
    "editable": false,
    "id": "57964554"
   },
   "source": [
    "**Задание 6. В данных могут встречаться артефакты (аномалии) — значения, которые не отражают действительность и появились по какой-то ошибке. таким артефактом будет отрицательное количество дней трудового стажа в столбце `days_employed`. Для реальных данных это нормально. Обработайте значения в этом столбце: замените все отрицательные значения положительными с помощью метода `abs()`.**"
   ]
  },
  {
   "cell_type": "code",
   "execution_count": 6,
   "id": "fd9e48f1",
   "metadata": {
    "deletable": false,
    "id": "f6f055bf"
   },
   "outputs": [],
   "source": [
    "data['days_employed'] = data['days_employed'].abs()"
   ]
  },
  {
   "cell_type": "markdown",
   "id": "b6d3a49a",
   "metadata": {
    "deletable": false,
    "editable": false,
    "id": "6107dd2f"
   },
   "source": [
    "**Задание 7. Для каждого типа занятости выведите медианное значение трудового стажа `days_employed` в днях.**"
   ]
  },
  {
   "cell_type": "code",
   "execution_count": 7,
   "id": "ddf962cc",
   "metadata": {
    "deletable": false,
    "id": "85a5faf6",
    "outputId": "801ef80e-522b-4668-f34e-565af7432bcf"
   },
   "outputs": [
    {
     "data": {
      "text/plain": [
       "income_type\n",
       "безработный        366413.652744\n",
       "в декрете            3296.759962\n",
       "госслужащий          2689.368353\n",
       "компаньон            1547.382223\n",
       "пенсионер          365213.306266\n",
       "предприниматель       520.848083\n",
       "сотрудник            1574.202821\n",
       "студент               578.751554\n",
       "Name: days_employed, dtype: float64"
      ]
     },
     "execution_count": 7,
     "metadata": {},
     "output_type": "execute_result"
    }
   ],
   "source": [
    "data.groupby('income_type')['days_employed'].agg('median')"
   ]
  },
  {
   "cell_type": "markdown",
   "id": "1cc98ee0",
   "metadata": {
    "deletable": false,
    "editable": false,
    "id": "38d1a030"
   },
   "source": [
    "У двух типов (безработные и пенсионеры) получатся аномально большие значения. Исправить такие значения сложно, поэтому оставьте их как есть. Тем более этот столбец не понадобится вам для исследования."
   ]
  },
  {
   "cell_type": "markdown",
   "id": "4ea0cc72",
   "metadata": {
    "deletable": false,
    "editable": false,
    "id": "d8a9f147"
   },
   "source": [
    "**Задание 8. Выведите перечень уникальных значений столбца `children`.**"
   ]
  },
  {
   "cell_type": "code",
   "execution_count": 8,
   "id": "ba9d58b6",
   "metadata": {
    "deletable": false,
    "id": "ef5056eb",
    "outputId": "6975b15c-7f95-4697-d16d-a0c79b657b03"
   },
   "outputs": [
    {
     "data": {
      "text/plain": [
       "array([ 1,  0,  3,  2, -1,  4, 20,  5])"
      ]
     },
     "execution_count": 8,
     "metadata": {},
     "output_type": "execute_result"
    }
   ],
   "source": [
    "data['children'].unique()"
   ]
  },
  {
   "cell_type": "markdown",
   "id": "39d7bd45",
   "metadata": {
    "deletable": false,
    "editable": false,
    "id": "40b9ebf2"
   },
   "source": [
    "**Задание 9. В столбце `children` есть два аномальных значения. Удалите строки, в которых встречаются такие аномальные значения из датафрейма `data`.**"
   ]
  },
  {
   "cell_type": "code",
   "execution_count": 9,
   "id": "8fe176d2",
   "metadata": {
    "deletable": false,
    "id": "3ff9801d"
   },
   "outputs": [],
   "source": [
    "data = data[(data['children'] != -1) & (data['children'] != 20)]"
   ]
  },
  {
   "cell_type": "code",
   "execution_count": 10,
   "id": "efa3466c",
   "metadata": {},
   "outputs": [],
   "source": [
    "data = data.query('children != -1')"
   ]
  },
  {
   "cell_type": "markdown",
   "id": "4b90f58e",
   "metadata": {
    "deletable": false,
    "editable": false,
    "id": "bbc4d0ce"
   },
   "source": [
    "**Задание 10. Ещё раз выведите перечень уникальных значений столбца `children`, чтобы убедиться, что артефакты удалены.**"
   ]
  },
  {
   "cell_type": "code",
   "execution_count": 11,
   "id": "2a2221eb",
   "metadata": {
    "deletable": false,
    "id": "ad4fa8b7",
    "outputId": "b2097101-d49d-44d9-901b-32a65c9463d1"
   },
   "outputs": [
    {
     "data": {
      "text/plain": [
       "array([1, 0, 3, 2, 4, 5])"
      ]
     },
     "execution_count": 11,
     "metadata": {},
     "output_type": "execute_result"
    }
   ],
   "source": [
    "data['children'].unique()"
   ]
  },
  {
   "cell_type": "markdown",
   "id": "7c8e3954",
   "metadata": {
    "deletable": false,
    "editable": false,
    "id": "75440b63"
   },
   "source": [
    "### Удаление пропусков (продолжение)"
   ]
  },
  {
   "cell_type": "markdown",
   "id": "b85f3f3b",
   "metadata": {
    "deletable": false,
    "editable": false,
    "id": "f4ea573f"
   },
   "source": [
    "**Задание 11. Заполните пропуски в столбце `days_employed` медианными значениями по каждого типа занятости `income_type`.**"
   ]
  },
  {
   "cell_type": "code",
   "execution_count": 12,
   "id": "50a30b9c",
   "metadata": {
    "deletable": false,
    "id": "af6b1a7e"
   },
   "outputs": [],
   "source": [
    "for t in data['income_type'].unique():\n",
    "    data.loc[(data['income_type'] == t) & (data['days_employed'].isna()), 'days_employed'] = \\\n",
    "    data.loc[(data['income_type'] == t), 'days_employed'].median()"
   ]
  },
  {
   "cell_type": "markdown",
   "id": "e9998b29",
   "metadata": {
    "deletable": false,
    "editable": false,
    "id": "2753f40d"
   },
   "source": [
    "**Задание 12. Убедитесь, что все пропуски заполнены. Проверьте себя и ещё раз выведите количество пропущенных значений для каждого столбца с помощью двух методов.**"
   ]
  },
  {
   "cell_type": "code",
   "execution_count": 13,
   "id": "f8ea7df6",
   "metadata": {
    "deletable": false,
    "id": "55f78bc2",
    "outputId": "8da1e4e1-358e-4e87-98c9-f261bce0a7b2"
   },
   "outputs": [
    {
     "data": {
      "text/plain": [
       "children            0\n",
       "days_employed       0\n",
       "dob_years           0\n",
       "education           0\n",
       "education_id        0\n",
       "family_status       0\n",
       "family_status_id    0\n",
       "gender              0\n",
       "income_type         0\n",
       "debt                0\n",
       "total_income        0\n",
       "purpose             0\n",
       "dtype: int64"
      ]
     },
     "execution_count": 13,
     "metadata": {},
     "output_type": "execute_result"
    }
   ],
   "source": [
    "data.isna().sum()"
   ]
  },
  {
   "cell_type": "markdown",
   "id": "274beba0",
   "metadata": {
    "deletable": false,
    "editable": false,
    "id": "ddc81e43"
   },
   "source": [
    "### Изменение типов данных"
   ]
  },
  {
   "cell_type": "markdown",
   "id": "84d1d0a0",
   "metadata": {
    "deletable": false,
    "editable": false,
    "id": "42d19d24"
   },
   "source": [
    "**Задание 13. Замените вещественный тип данных в столбце `total_income` на целочисленный с помощью метода `astype()`.**"
   ]
  },
  {
   "cell_type": "code",
   "execution_count": 14,
   "id": "cb4cbc7d",
   "metadata": {
    "deletable": false,
    "id": "920b65ad"
   },
   "outputs": [],
   "source": [
    "data['total_income'] = data['total_income'].astype(int)"
   ]
  },
  {
   "cell_type": "markdown",
   "id": "67732074",
   "metadata": {
    "deletable": false,
    "editable": false,
    "id": "80c420ba"
   },
   "source": [
    "### Обработка дубликатов"
   ]
  },
  {
   "cell_type": "markdown",
   "id": "0105b575",
   "metadata": {
    "deletable": false,
    "editable": false
   },
   "source": [
    "**Задание 14. Обработайте неявные дубликаты в столбце `education`. В этом столбце есть одни и те же значения, но записанные по-разному: с использованием заглавных и строчных букв. Приведите их к нижнему регистру. Проверьте остальные столбцы.**"
   ]
  },
  {
   "cell_type": "code",
   "execution_count": 15,
   "id": "b0f36eb0",
   "metadata": {
    "deletable": false
   },
   "outputs": [],
   "source": [
    "data['education'] = data['education'].str.lower()"
   ]
  },
  {
   "cell_type": "markdown",
   "id": "1e84314b",
   "metadata": {
    "deletable": false,
    "editable": false,
    "id": "dc587695"
   },
   "source": [
    "**Задание 15. Выведите на экран количество строк-дубликатов в данных. Если такие строки присутствуют, удалите их.**"
   ]
  },
  {
   "cell_type": "code",
   "execution_count": 16,
   "id": "e0d41f42",
   "metadata": {
    "deletable": false,
    "id": "3ee445e4",
    "outputId": "9684deba-1934-42d1-99e1-cda61740f822"
   },
   "outputs": [
    {
     "data": {
      "text/plain": [
       "71"
      ]
     },
     "execution_count": 16,
     "metadata": {},
     "output_type": "execute_result"
    }
   ],
   "source": [
    "data.duplicated().sum()"
   ]
  },
  {
   "cell_type": "code",
   "execution_count": 17,
   "id": "765f2df5",
   "metadata": {
    "deletable": false,
    "id": "8575fe05"
   },
   "outputs": [],
   "source": [
    "data = data.drop_duplicates()"
   ]
  },
  {
   "cell_type": "markdown",
   "id": "649b56a6",
   "metadata": {
    "deletable": false,
    "editable": false,
    "id": "9904cf55"
   },
   "source": [
    "### Категоризация данных"
   ]
  },
  {
   "cell_type": "markdown",
   "id": "df93e798",
   "metadata": {
    "deletable": false,
    "editable": false,
    "id": "72fcc8a2"
   },
   "source": [
    "**Задание 16. На основании диапазонов, указанных ниже, создайте в датафрейме `data` столбец `total_income_category` с категориями:**\n",
    "\n",
    "- 0–30000 — `'E'`;\n",
    "- 30001–50000 — `'D'`;\n",
    "- 50001–200000 — `'C'`;\n",
    "- 200001–1000000 — `'B'`;\n",
    "- 1000001 и выше — `'A'`.\n",
    "\n",
    "\n",
    "**Например, кредитополучателю с доходом 25000 нужно назначить категорию `'E'`, а клиенту, получающему 235000, — `'B'`. Используйте собственную функцию с именем `categorize_income()` и метод `apply()`.**"
   ]
  },
  {
   "cell_type": "code",
   "execution_count": 18,
   "id": "cf725c50",
   "metadata": {
    "deletable": false,
    "id": "e1771346"
   },
   "outputs": [],
   "source": [
    "def categorize_income(income):\n",
    "    try:\n",
    "        if 0 <= income <= 30000:\n",
    "            return 'E'\n",
    "        elif 30001 <= income <= 50000:\n",
    "            return 'D'\n",
    "        elif 50001 <= income <= 200000:\n",
    "            return 'C'\n",
    "        elif 200001 <= income <= 1000000:\n",
    "            return 'B'\n",
    "        elif income >= 1000001:\n",
    "            return 'A'\n",
    "    except:\n",
    "        pass"
   ]
  },
  {
   "cell_type": "code",
   "execution_count": 19,
   "id": "62716e98",
   "metadata": {
    "deletable": false,
    "id": "d5f3586d"
   },
   "outputs": [],
   "source": [
    "data['total_income_category'] = data['total_income'].apply(categorize_income)"
   ]
  },
  {
   "cell_type": "markdown",
   "id": "d98d31a6",
   "metadata": {
    "deletable": false,
    "editable": false,
    "id": "dde49b5c"
   },
   "source": [
    "**Задание 17. Выведите на экран перечень уникальных целей взятия кредита из столбца `purpose`.**"
   ]
  },
  {
   "cell_type": "code",
   "execution_count": 20,
   "id": "7fdfb84e",
   "metadata": {
    "deletable": false,
    "id": "f67ce9b3",
    "outputId": "673c12d9-7d7e-4ae0-9812-c622c89dd244"
   },
   "outputs": [
    {
     "data": {
      "text/plain": [
       "array(['покупка жилья', 'приобретение автомобиля',\n",
       "       'дополнительное образование', 'сыграть свадьбу',\n",
       "       'операции с жильем', 'образование', 'на проведение свадьбы',\n",
       "       'покупка жилья для семьи', 'покупка недвижимости',\n",
       "       'покупка коммерческой недвижимости', 'покупка жилой недвижимости',\n",
       "       'строительство собственной недвижимости', 'недвижимость',\n",
       "       'строительство недвижимости', 'на покупку подержанного автомобиля',\n",
       "       'на покупку своего автомобиля',\n",
       "       'операции с коммерческой недвижимостью',\n",
       "       'строительство жилой недвижимости', 'жилье',\n",
       "       'операции со своей недвижимостью', 'автомобили',\n",
       "       'заняться образованием', 'сделка с подержанным автомобилем',\n",
       "       'получение образования', 'автомобиль', 'свадьба',\n",
       "       'получение дополнительного образования', 'покупка своего жилья',\n",
       "       'операции с недвижимостью', 'получение высшего образования',\n",
       "       'свой автомобиль', 'сделка с автомобилем',\n",
       "       'профильное образование', 'высшее образование',\n",
       "       'покупка жилья для сдачи', 'на покупку автомобиля', 'ремонт жилью',\n",
       "       'заняться высшим образованием'], dtype=object)"
      ]
     },
     "execution_count": 20,
     "metadata": {},
     "output_type": "execute_result"
    }
   ],
   "source": [
    "data['purpose'].unique()"
   ]
  },
  {
   "cell_type": "markdown",
   "id": "f00b327f",
   "metadata": {
    "deletable": false,
    "editable": false,
    "id": "85d0aef0"
   },
   "source": [
    "**Задание 18. Создайте функцию, которая на основании данных из столбца `purpose` сформирует новый столбец `purpose_category`, в который войдут следующие категории:**\n",
    "\n",
    "- `'операции с автомобилем'`,\n",
    "- `'операции с недвижимостью'`,\n",
    "- `'проведение свадьбы'`,\n",
    "- `'получение образования'`.\n",
    "\n",
    "**Например, если в столбце `purpose` находится подстрока `'на покупку автомобиля'`, то в столбце `purpose_category` должна появиться строка `'операции с автомобилем'`.**\n",
    "\n",
    "**Используйте собственную функцию с именем `categorize_purpose()` и метод `apply()`. Изучите данные в столбце `purpose` и определите, какие подстроки помогут вам правильно определить категорию.**"
   ]
  },
  {
   "cell_type": "code",
   "execution_count": 21,
   "id": "39a5fb79",
   "metadata": {
    "deletable": false,
    "id": "e149fab4"
   },
   "outputs": [],
   "source": [
    "def categorize_purpose(row):\n",
    "    try:\n",
    "        if 'автом' in row:\n",
    "            return 'операции с автомобилем'\n",
    "        elif 'жил' in row or 'недвиж' in row:\n",
    "            return 'операции с недвижимостью'\n",
    "        elif 'свад' in row:\n",
    "            return 'проведение свадьбы'\n",
    "        elif 'образов' in row:\n",
    "            return 'получение образования'\n",
    "    except:\n",
    "        return 'нет категории'"
   ]
  },
  {
   "cell_type": "code",
   "execution_count": 22,
   "id": "a6bbfda6",
   "metadata": {
    "deletable": false,
    "id": "bf36e69b"
   },
   "outputs": [],
   "source": [
    "data['purpose_category'] = data['purpose'].apply(categorize_purpose)"
   ]
  },
  {
   "cell_type": "markdown",
   "id": "b44c6291",
   "metadata": {
    "deletable": false,
    "editable": false,
    "id": "09b242bf"
   },
   "source": [
    "### Шаг 3. Исследуйте данные и ответьте на вопросы"
   ]
  },
  {
   "cell_type": "markdown",
   "id": "9c5dbf91",
   "metadata": {
    "deletable": false,
    "editable": false,
    "id": "c5d66278"
   },
   "source": [
    "#### 3.1 Есть ли зависимость между количеством детей и возвратом кредита в срок?"
   ]
  },
  {
   "cell_type": "code",
   "execution_count": 23,
   "id": "d72c20cd",
   "metadata": {
    "deletable": false,
    "id": "2cacfc4a"
   },
   "outputs": [
    {
     "data": {
      "text/html": [
       "<div>\n",
       "<style scoped>\n",
       "    .dataframe tbody tr th:only-of-type {\n",
       "        vertical-align: middle;\n",
       "    }\n",
       "\n",
       "    .dataframe tbody tr th {\n",
       "        vertical-align: top;\n",
       "    }\n",
       "\n",
       "    .dataframe thead th {\n",
       "        text-align: right;\n",
       "    }\n",
       "</style>\n",
       "<table border=\"1\" class=\"dataframe\">\n",
       "  <thead>\n",
       "    <tr style=\"text-align: right;\">\n",
       "      <th></th>\n",
       "      <th>total</th>\n",
       "      <th>mean</th>\n",
       "      <th>sum</th>\n",
       "    </tr>\n",
       "    <tr>\n",
       "      <th>children</th>\n",
       "      <th></th>\n",
       "      <th></th>\n",
       "      <th></th>\n",
       "    </tr>\n",
       "  </thead>\n",
       "  <tbody>\n",
       "    <tr>\n",
       "      <th>5</th>\n",
       "      <td>9.0</td>\n",
       "      <td>0.000000</td>\n",
       "      <td>0.0</td>\n",
       "    </tr>\n",
       "    <tr>\n",
       "      <th>0</th>\n",
       "      <td>14091.0</td>\n",
       "      <td>7.543822</td>\n",
       "      <td>1063.0</td>\n",
       "    </tr>\n",
       "    <tr>\n",
       "      <th>3</th>\n",
       "      <td>330.0</td>\n",
       "      <td>8.181818</td>\n",
       "      <td>27.0</td>\n",
       "    </tr>\n",
       "    <tr>\n",
       "      <th>1</th>\n",
       "      <td>4808.0</td>\n",
       "      <td>9.234609</td>\n",
       "      <td>444.0</td>\n",
       "    </tr>\n",
       "    <tr>\n",
       "      <th>2</th>\n",
       "      <td>2052.0</td>\n",
       "      <td>9.454191</td>\n",
       "      <td>194.0</td>\n",
       "    </tr>\n",
       "    <tr>\n",
       "      <th>4</th>\n",
       "      <td>41.0</td>\n",
       "      <td>9.756098</td>\n",
       "      <td>4.0</td>\n",
       "    </tr>\n",
       "  </tbody>\n",
       "</table>\n",
       "</div>"
      ],
      "text/plain": [
       "            total      mean     sum\n",
       "children                           \n",
       "5             9.0  0.000000     0.0\n",
       "0         14091.0  7.543822  1063.0\n",
       "3           330.0  8.181818    27.0\n",
       "1          4808.0  9.234609   444.0\n",
       "2          2052.0  9.454191   194.0\n",
       "4            41.0  9.756098     4.0"
      ]
     },
     "execution_count": 23,
     "metadata": {},
     "output_type": "execute_result"
    }
   ],
   "source": [
    "children_debt = data.pivot_table(index = ['children'], values = 'debt', aggfunc = {'count','sum','mean'})\n",
    "children_debt = children_debt.rename(columns={'count':'total'})\n",
    "children_debt['mean'] *= 100\n",
    "children_debt.sort_values(by='mean', ascending=True)"
   ]
  },
  {
   "cell_type": "markdown",
   "id": "508e1a7a",
   "metadata": {
    "deletable": false,
    "id": "3a6b99ec"
   },
   "source": [
    "**Вывод:** \n",
    "Исходя из данных, представленных в таблице, можно сказать, что клиенты, у которых нет детей, лучше отдают кредит в срок, доля должников, в данном случае, составляет 7,5%. Отрицательная тендецния по возврату кредита в срок складываеся у клиентов, которые имеют одного или двух детей, их доля невозврата кредита равняется 9,2% и 9,4% соответственно.\n",
    "Можно предположить, что положительная тенденция возврата кредита в срок в семьях, которые не имеют детей,  вызвана тем, что они легче переносят траты и имеют возможность откладывать больше в семейный бюджет, в связи с отсутствием детей.  "
   ]
  },
  {
   "cell_type": "markdown",
   "id": "c26fb13a",
   "metadata": {
    "deletable": false,
    "editable": false,
    "id": "97be82ca"
   },
   "source": [
    "#### 3.2 Есть ли зависимость между семейным положением и возвратом кредита в срок?"
   ]
  },
  {
   "cell_type": "code",
   "execution_count": 24,
   "id": "de0d02fe",
   "metadata": {
    "deletable": false,
    "id": "dc3f7ee8"
   },
   "outputs": [
    {
     "data": {
      "text/html": [
       "<div>\n",
       "<style scoped>\n",
       "    .dataframe tbody tr th:only-of-type {\n",
       "        vertical-align: middle;\n",
       "    }\n",
       "\n",
       "    .dataframe tbody tr th {\n",
       "        vertical-align: top;\n",
       "    }\n",
       "\n",
       "    .dataframe thead th {\n",
       "        text-align: right;\n",
       "    }\n",
       "</style>\n",
       "<table border=\"1\" class=\"dataframe\">\n",
       "  <thead>\n",
       "    <tr style=\"text-align: right;\">\n",
       "      <th></th>\n",
       "      <th>total</th>\n",
       "      <th>mean</th>\n",
       "      <th>sum</th>\n",
       "    </tr>\n",
       "    <tr>\n",
       "      <th>family_status</th>\n",
       "      <th></th>\n",
       "      <th></th>\n",
       "      <th></th>\n",
       "    </tr>\n",
       "  </thead>\n",
       "  <tbody>\n",
       "    <tr>\n",
       "      <th>вдовец / вдова</th>\n",
       "      <td>951.0</td>\n",
       "      <td>6.624606</td>\n",
       "      <td>63.0</td>\n",
       "    </tr>\n",
       "    <tr>\n",
       "      <th>в разводе</th>\n",
       "      <td>1189.0</td>\n",
       "      <td>7.064760</td>\n",
       "      <td>84.0</td>\n",
       "    </tr>\n",
       "    <tr>\n",
       "      <th>женат / замужем</th>\n",
       "      <td>12261.0</td>\n",
       "      <td>7.560558</td>\n",
       "      <td>927.0</td>\n",
       "    </tr>\n",
       "    <tr>\n",
       "      <th>гражданский брак</th>\n",
       "      <td>4134.0</td>\n",
       "      <td>9.313014</td>\n",
       "      <td>385.0</td>\n",
       "    </tr>\n",
       "    <tr>\n",
       "      <th>Не женат / не замужем</th>\n",
       "      <td>2796.0</td>\n",
       "      <td>9.763948</td>\n",
       "      <td>273.0</td>\n",
       "    </tr>\n",
       "  </tbody>\n",
       "</table>\n",
       "</div>"
      ],
      "text/plain": [
       "                         total      mean    sum\n",
       "family_status                                  \n",
       "вдовец / вдова           951.0  6.624606   63.0\n",
       "в разводе               1189.0  7.064760   84.0\n",
       "женат / замужем        12261.0  7.560558  927.0\n",
       "гражданский брак        4134.0  9.313014  385.0\n",
       "Не женат / не замужем   2796.0  9.763948  273.0"
      ]
     },
     "execution_count": 24,
     "metadata": {},
     "output_type": "execute_result"
    }
   ],
   "source": [
    "family_status_debt = data.pivot_table(index = ['family_status'], values = 'debt', aggfunc={'count', 'sum', 'mean'})\n",
    "family_status_debt = family_status_debt.rename(columns={'count':'total'})\n",
    "family_status_debt['mean'] *= 100\n",
    "family_status_debt.sort_values(by='mean', ascending=True)"
   ]
  },
  {
   "cell_type": "markdown",
   "id": "d1ec2906",
   "metadata": {
    "deletable": false,
    "id": "1cef7837"
   },
   "source": [
    "**Вывод:** Как показано в таблице, люди, которые находятся в официальном браке меньше подвержены невозврату кредита в срок, доля должников среди данных клиентов составляет 7,5%. У клиентов, которые состоят в гражданском браке или вовсе не состоят в браке, хуже обстоят дела с возвратом кредита в срок, их доля невозврата составляет 9,3% и 9,7% соответственно. \n",
    "Можно предположить, что данные результаты, которые мы наблюдем в таблице, сформированы потому, что первая категория клиентов более дисциплинирована и умеет распределять семейный бюджет, вторая категория, наоборот, неопытна в ведении и распределении семейного бюджета."
   ]
  },
  {
   "cell_type": "markdown",
   "id": "97baf595",
   "metadata": {
    "deletable": false,
    "editable": false,
    "id": "1e8b2fca"
   },
   "source": [
    "#### 3.3 Есть ли зависимость между уровнем дохода и возвратом кредита в срок?"
   ]
  },
  {
   "cell_type": "code",
   "execution_count": 25,
   "id": "8ebf3d1c",
   "metadata": {
    "deletable": false,
    "id": "cd7e3720"
   },
   "outputs": [
    {
     "data": {
      "text/html": [
       "<div>\n",
       "<style scoped>\n",
       "    .dataframe tbody tr th:only-of-type {\n",
       "        vertical-align: middle;\n",
       "    }\n",
       "\n",
       "    .dataframe tbody tr th {\n",
       "        vertical-align: top;\n",
       "    }\n",
       "\n",
       "    .dataframe thead th {\n",
       "        text-align: right;\n",
       "    }\n",
       "</style>\n",
       "<table border=\"1\" class=\"dataframe\">\n",
       "  <thead>\n",
       "    <tr style=\"text-align: right;\">\n",
       "      <th></th>\n",
       "      <th>total</th>\n",
       "      <th>mean</th>\n",
       "      <th>sum</th>\n",
       "    </tr>\n",
       "    <tr>\n",
       "      <th>total_income_category</th>\n",
       "      <th></th>\n",
       "      <th></th>\n",
       "      <th></th>\n",
       "    </tr>\n",
       "  </thead>\n",
       "  <tbody>\n",
       "    <tr>\n",
       "      <th>D</th>\n",
       "      <td>349.0</td>\n",
       "      <td>6.017192</td>\n",
       "      <td>21.0</td>\n",
       "    </tr>\n",
       "    <tr>\n",
       "      <th>B</th>\n",
       "      <td>5014.0</td>\n",
       "      <td>7.060231</td>\n",
       "      <td>354.0</td>\n",
       "    </tr>\n",
       "    <tr>\n",
       "      <th>A</th>\n",
       "      <td>25.0</td>\n",
       "      <td>8.000000</td>\n",
       "      <td>2.0</td>\n",
       "    </tr>\n",
       "    <tr>\n",
       "      <th>C</th>\n",
       "      <td>15921.0</td>\n",
       "      <td>8.498210</td>\n",
       "      <td>1353.0</td>\n",
       "    </tr>\n",
       "    <tr>\n",
       "      <th>E</th>\n",
       "      <td>22.0</td>\n",
       "      <td>9.090909</td>\n",
       "      <td>2.0</td>\n",
       "    </tr>\n",
       "  </tbody>\n",
       "</table>\n",
       "</div>"
      ],
      "text/plain": [
       "                         total      mean     sum\n",
       "total_income_category                           \n",
       "D                        349.0  6.017192    21.0\n",
       "B                       5014.0  7.060231   354.0\n",
       "A                         25.0  8.000000     2.0\n",
       "C                      15921.0  8.498210  1353.0\n",
       "E                         22.0  9.090909     2.0"
      ]
     },
     "execution_count": 25,
     "metadata": {},
     "output_type": "execute_result"
    }
   ],
   "source": [
    "total_income_category_debt = data.pivot_table(index = ['total_income_category'], values = 'debt', aggfunc={'count', 'sum', 'mean'})\n",
    "total_income_category_debt = total_income_category_debt.rename(columns={'count':'total'})\n",
    "total_income_category_debt['mean'] *= 100\n",
    "total_income_category_debt.sort_values(by='mean', ascending=True)"
   ]
  },
  {
   "cell_type": "markdown",
   "id": "c4d56725",
   "metadata": {
    "deletable": false,
    "id": "e8593def"
   },
   "source": [
    "**Вывод:**\n",
    "Исходя из данных, можно сделать вывод, что зависимость между уровнем дохода и возвратом кредита в срок прослеживается. Клиенты, чьи доходы составляют от 200 001 до 1 000 000, имеют положительную тенденцию возврата кредита в срок, их доля должников составляет 7,1%, возможно, это связано с тем, что данная категория клиентов имеет доход, который во много раз превышает среднестатистический.\n",
    "Хуже всего происходит возврат кредита в срок у клиентов, чьи доходы составляют от 50 001 до 200 000, их доля составляет 8,5%. Можно предположить, что это связано с тем, что данные клиенты имеют среднестатистический доход и, возможно, нерационально распределяют свой бюджет. "
   ]
  },
  {
   "cell_type": "markdown",
   "id": "e90a871d",
   "metadata": {
    "deletable": false,
    "editable": false,
    "id": "99ecbd1f"
   },
   "source": [
    "#### 3.4 Как разные цели кредита влияют на его возврат в срок?"
   ]
  },
  {
   "cell_type": "code",
   "execution_count": 26,
   "id": "aba5c7e6",
   "metadata": {
    "deletable": false,
    "id": "2b687290"
   },
   "outputs": [
    {
     "data": {
      "text/html": [
       "<div>\n",
       "<style scoped>\n",
       "    .dataframe tbody tr th:only-of-type {\n",
       "        vertical-align: middle;\n",
       "    }\n",
       "\n",
       "    .dataframe tbody tr th {\n",
       "        vertical-align: top;\n",
       "    }\n",
       "\n",
       "    .dataframe thead th {\n",
       "        text-align: right;\n",
       "    }\n",
       "</style>\n",
       "<table border=\"1\" class=\"dataframe\">\n",
       "  <thead>\n",
       "    <tr style=\"text-align: right;\">\n",
       "      <th></th>\n",
       "      <th>total</th>\n",
       "      <th>mean</th>\n",
       "      <th>sum</th>\n",
       "    </tr>\n",
       "    <tr>\n",
       "      <th>purpose_category</th>\n",
       "      <th></th>\n",
       "      <th></th>\n",
       "      <th></th>\n",
       "    </tr>\n",
       "  </thead>\n",
       "  <tbody>\n",
       "    <tr>\n",
       "      <th>операции с недвижимостью</th>\n",
       "      <td>10751.0</td>\n",
       "      <td>7.255139</td>\n",
       "      <td>780.0</td>\n",
       "    </tr>\n",
       "    <tr>\n",
       "      <th>проведение свадьбы</th>\n",
       "      <td>2313.0</td>\n",
       "      <td>7.911803</td>\n",
       "      <td>183.0</td>\n",
       "    </tr>\n",
       "    <tr>\n",
       "      <th>получение образования</th>\n",
       "      <td>3988.0</td>\n",
       "      <td>9.252758</td>\n",
       "      <td>369.0</td>\n",
       "    </tr>\n",
       "    <tr>\n",
       "      <th>операции с автомобилем</th>\n",
       "      <td>4279.0</td>\n",
       "      <td>9.347978</td>\n",
       "      <td>400.0</td>\n",
       "    </tr>\n",
       "  </tbody>\n",
       "</table>\n",
       "</div>"
      ],
      "text/plain": [
       "                            total      mean    sum\n",
       "purpose_category                                  \n",
       "операции с недвижимостью  10751.0  7.255139  780.0\n",
       "проведение свадьбы         2313.0  7.911803  183.0\n",
       "получение образования      3988.0  9.252758  369.0\n",
       "операции с автомобилем     4279.0  9.347978  400.0"
      ]
     },
     "execution_count": 26,
     "metadata": {},
     "output_type": "execute_result"
    }
   ],
   "source": [
    "purpose_category_debt = data.pivot_table(index = ['purpose_category'], values = 'debt', aggfunc = {'count','sum','mean'})\n",
    "purpose_category_debt = purpose_category_debt.rename(columns={'count':'total'})\n",
    "purpose_category_debt['mean'] *= 100\n",
    "purpose_category_debt.sort_values(by='mean', ascending=True)"
   ]
  },
  {
   "cell_type": "markdown",
   "id": "e998495d",
   "metadata": {
    "deletable": false,
    "id": "b4bb2ce6"
   },
   "source": [
    "**Вывод:** Исходя из данных, представленных в таблице, можно сделать вывод о том, что цели кредита, которые связаны с операциями по недвижимости и проведением свадьбы, меньше подвержены невозврату кредита в срок. В случае операций с недвижимостью, это может быть связано с тем, что данная цель имеет большой вес как и в стоимости, так и в обремениях, поэтому  клиенты более ответственны к данному кредиту. В случае проведения свадьбы может быть связано с тем, что молодоженам на свадьбе в качестве подарка дарят деньги, которые в последствии могут пойти на погашение кредита в срок.\n",
    "Самые уязвимые цели кредита, которые больше подвержены невозврату кредита в срок, являются получение образования и операции с автомобилем. Возможно, данная уязвимость обусловнена тем, что цели кредита малозатратны, соответственно, клиенты менее ответственны к кредиту.  "
   ]
  },
  {
   "cell_type": "markdown",
   "id": "f37b2059",
   "metadata": {
    "deletable": false,
    "editable": false,
    "id": "09c3ac4c"
   },
   "source": [
    "#### 3.5 Приведите возможные причины появления пропусков в исходных данных."
   ]
  },
  {
   "cell_type": "markdown",
   "id": "5935d8ea",
   "metadata": {
    "deletable": false,
    "id": "9da2ceda"
   },
   "source": [
    "*Ответ:* \n",
    "1. При переносе данных в \"читебельный\" вид для аналитика произошла ошибка и данные подтянулись неккоректно;\n",
    "2. При заполнении информации о клиентах, сотрудники могли записывать информацию в разных таблицах и при объединении таблиц в одну, могла произойти потеря данных; \n",
    "3. Клиенты не захотели давать полную иформацию о себе и своих доходах."
   ]
  },
  {
   "cell_type": "markdown",
   "id": "a7c0f696",
   "metadata": {
    "deletable": false,
    "editable": false,
    "id": "7b0487d6"
   },
   "source": [
    "#### 3.6 Объясните, почему заполнить пропуски медианным значением — лучшее решение для количественных переменных."
   ]
  },
  {
   "cell_type": "markdown",
   "id": "9a41e566",
   "metadata": {
    "deletable": false,
    "id": "7ecf2b8e"
   },
   "source": [
    "*Ответ:* Потому как есть \"выпадающие\" значения, которые могут сформировать неверный вывод, если преминить среднее значение, так как среднее значение не учитывает разброс данных. "
   ]
  },
  {
   "cell_type": "markdown",
   "id": "9e1eb9e0",
   "metadata": {
    "deletable": false,
    "editable": false,
    "id": "6db5255a"
   },
   "source": [
    "### Шаг 4: общий вывод."
   ]
  },
  {
   "cell_type": "markdown",
   "id": "adf5deda",
   "metadata": {
    "deletable": false,
    "id": "bad65432"
   },
   "source": [
    "Подводя итоги, можно сделать следующие выводы:\n",
    "1. Прослеживается зависимость между количеством детей и возвратом кредита в срок, клиенты, у которых нет детей, меньше подвержены невозврату кредита в срок - доля должников составляет 7,5%, чем клиенты, у которых один или двое детей - их доля невозврата кредита существенно больше и равняется 9,2% и 9,4% соответственно. \n",
    "2. Люди, которые находятся в официальном браке меньше подвержены невозврату кредита в срок, доля должников среди данных клиентов составляет 7,5%. У клиентов, которые состоят в гражданском браке или вовсе не состоят в браке, хуже обстоят дела с возвратом кредита в срок, их доля невозврата составляет 9,3% и 9,7% соответственно.\n",
    "3. Категория клиентов, доход которых во много раз превышает среднестатистический, меньше подвержены к просрочке кредита - доля должников составляет 7,1%, чем те клиенты, которые имеют среднестатистический доход - их доля составляет 8,5%.\n",
    "4. Цели кредита, которые являются операции с недвижимостью/проведение свадьбы меньше подвержены неуплате кредита в срок.\n",
    "**Рекомендации:**<br>\n",
    "а) Основываясь на вышеперечисленных выводах, можно сказать, что самая \"выгодная\" категория клиентов это клиенты, которые имеют доход выше среднего, находятся в официальном браке и берут кредит объектом которого является недвижимое имущество;<br>\n",
    "б) В скоринг данных необходимо добавить следующую информацию: на протяжении какого времени клиент состоит в официальном браке, работает ли по специальности, указанной в дипломе, количество владения движимым и недвижимым имуществом, информация о занимаемой должности на работе."
   ]
  }
 ],
 "metadata": {
  "ExecuteTimeLog": [
   {
    "duration": 47,
    "start_time": "2023-01-27T10:33:29.286Z"
   },
   {
    "duration": 561,
    "start_time": "2023-01-27T10:33:41.281Z"
   },
   {
    "duration": 24,
    "start_time": "2023-01-27T10:33:42.703Z"
   },
   {
    "duration": 22,
    "start_time": "2023-01-27T10:33:44.140Z"
   },
   {
    "duration": 11,
    "start_time": "2023-01-27T10:33:46.698Z"
   },
   {
    "duration": 36,
    "start_time": "2023-01-27T10:33:47.608Z"
   },
   {
    "duration": 4,
    "start_time": "2023-01-27T10:33:48.128Z"
   },
   {
    "duration": 10,
    "start_time": "2023-01-27T10:33:48.469Z"
   },
   {
    "duration": 6,
    "start_time": "2023-01-27T10:33:49.005Z"
   },
   {
    "duration": 9,
    "start_time": "2023-01-27T10:33:49.340Z"
   },
   {
    "duration": 6,
    "start_time": "2023-01-27T10:33:49.706Z"
   },
   {
    "duration": 41,
    "start_time": "2023-01-27T10:33:50.205Z"
   },
   {
    "duration": 9,
    "start_time": "2023-01-27T10:33:50.605Z"
   },
   {
    "duration": 4,
    "start_time": "2023-01-27T10:33:51.144Z"
   },
   {
    "duration": 18,
    "start_time": "2023-01-27T10:33:51.706Z"
   },
   {
    "duration": 31,
    "start_time": "2023-01-27T10:33:52.055Z"
   },
   {
    "duration": 17,
    "start_time": "2023-01-27T10:33:52.236Z"
   },
   {
    "duration": 4,
    "start_time": "2023-01-27T10:33:52.822Z"
   },
   {
    "duration": 16,
    "start_time": "2023-01-27T10:33:53.035Z"
   },
   {
    "duration": 7,
    "start_time": "2023-01-27T10:33:53.360Z"
   },
   {
    "duration": 4,
    "start_time": "2023-01-27T10:33:53.925Z"
   },
   {
    "duration": 16,
    "start_time": "2023-01-27T10:33:54.904Z"
   },
   {
    "duration": 35,
    "start_time": "2023-01-27T10:33:57.177Z"
   },
   {
    "duration": 18,
    "start_time": "2023-01-27T10:35:12.868Z"
   },
   {
    "duration": 13,
    "start_time": "2023-01-27T10:35:15.266Z"
   },
   {
    "duration": 14,
    "start_time": "2023-01-27T10:35:30.358Z"
   },
   {
    "duration": 28,
    "start_time": "2023-01-27T10:45:25.006Z"
   },
   {
    "duration": 26,
    "start_time": "2023-01-27T10:45:29.108Z"
   },
   {
    "duration": 22,
    "start_time": "2023-01-27T11:01:28.503Z"
   },
   {
    "duration": 20,
    "start_time": "2023-01-27T11:02:18.604Z"
   },
   {
    "duration": 21,
    "start_time": "2023-01-27T11:02:30.548Z"
   },
   {
    "duration": 20,
    "start_time": "2023-01-27T11:03:18.966Z"
   },
   {
    "duration": 14,
    "start_time": "2023-01-27T11:05:14.427Z"
   },
   {
    "duration": 20,
    "start_time": "2023-01-27T11:05:46.840Z"
   },
   {
    "duration": 15,
    "start_time": "2023-01-27T11:06:02.672Z"
   },
   {
    "duration": 15,
    "start_time": "2023-01-27T11:07:38.184Z"
   },
   {
    "duration": 72,
    "start_time": "2023-01-27T11:44:20.573Z"
   },
   {
    "duration": 23,
    "start_time": "2023-01-27T11:44:20.917Z"
   },
   {
    "duration": 18,
    "start_time": "2023-01-27T11:44:21.264Z"
   },
   {
    "duration": 11,
    "start_time": "2023-01-27T11:44:21.958Z"
   },
   {
    "duration": 37,
    "start_time": "2023-01-27T11:44:22.320Z"
   },
   {
    "duration": 3,
    "start_time": "2023-01-27T11:44:22.842Z"
   },
   {
    "duration": 13,
    "start_time": "2023-01-27T11:44:23.221Z"
   },
   {
    "duration": 5,
    "start_time": "2023-01-27T11:44:23.787Z"
   },
   {
    "duration": 7,
    "start_time": "2023-01-27T11:44:24.147Z"
   },
   {
    "duration": 6,
    "start_time": "2023-01-27T11:44:24.513Z"
   },
   {
    "duration": 35,
    "start_time": "2023-01-27T11:44:25.047Z"
   },
   {
    "duration": 11,
    "start_time": "2023-01-27T11:44:25.394Z"
   },
   {
    "duration": 4,
    "start_time": "2023-01-27T11:44:25.927Z"
   },
   {
    "duration": 12,
    "start_time": "2023-01-27T11:44:26.477Z"
   },
   {
    "duration": 21,
    "start_time": "2023-01-27T11:44:26.853Z"
   },
   {
    "duration": 19,
    "start_time": "2023-01-27T11:44:27.036Z"
   },
   {
    "duration": 5,
    "start_time": "2023-01-27T11:44:27.585Z"
   },
   {
    "duration": 15,
    "start_time": "2023-01-27T11:44:27.763Z"
   },
   {
    "duration": 7,
    "start_time": "2023-01-27T11:44:28.556Z"
   },
   {
    "duration": 4,
    "start_time": "2023-01-27T11:44:29.506Z"
   },
   {
    "duration": 10,
    "start_time": "2023-01-27T11:44:30.126Z"
   },
   {
    "duration": 21,
    "start_time": "2023-01-27T11:44:31.765Z"
   },
   {
    "duration": 16,
    "start_time": "2023-01-27T11:44:49.769Z"
   },
   {
    "duration": 20,
    "start_time": "2023-01-27T11:46:37.177Z"
   },
   {
    "duration": 47,
    "start_time": "2023-01-30T12:36:07.892Z"
   },
   {
    "duration": 685,
    "start_time": "2023-01-30T12:36:17.346Z"
   },
   {
    "duration": 23,
    "start_time": "2023-01-30T12:36:18.585Z"
   },
   {
    "duration": 14,
    "start_time": "2023-01-30T12:36:19.816Z"
   },
   {
    "duration": 9,
    "start_time": "2023-01-30T12:36:21.506Z"
   },
   {
    "duration": 36,
    "start_time": "2023-01-30T12:36:21.991Z"
   },
   {
    "duration": 4,
    "start_time": "2023-01-30T12:36:22.525Z"
   },
   {
    "duration": 8,
    "start_time": "2023-01-30T12:36:23.060Z"
   },
   {
    "duration": 6,
    "start_time": "2023-01-30T12:36:23.841Z"
   },
   {
    "duration": 7,
    "start_time": "2023-01-30T12:36:24.275Z"
   },
   {
    "duration": 4,
    "start_time": "2023-01-30T12:36:24.659Z"
   },
   {
    "duration": 32,
    "start_time": "2023-01-30T12:36:25.230Z"
   },
   {
    "duration": 10,
    "start_time": "2023-01-30T12:36:25.592Z"
   },
   {
    "duration": 4,
    "start_time": "2023-01-30T12:36:26.178Z"
   },
   {
    "duration": 10,
    "start_time": "2023-01-30T12:36:26.735Z"
   },
   {
    "duration": 19,
    "start_time": "2023-01-30T12:36:27.082Z"
   },
   {
    "duration": 16,
    "start_time": "2023-01-30T12:36:27.266Z"
   },
   {
    "duration": 4,
    "start_time": "2023-01-30T12:36:27.750Z"
   },
   {
    "duration": 9,
    "start_time": "2023-01-30T12:36:27.907Z"
   },
   {
    "duration": 5,
    "start_time": "2023-01-30T12:36:28.241Z"
   },
   {
    "duration": 3,
    "start_time": "2023-01-30T12:36:28.648Z"
   },
   {
    "duration": 8,
    "start_time": "2023-01-30T12:36:29.122Z"
   },
   {
    "duration": 21,
    "start_time": "2023-01-30T12:36:29.775Z"
   },
   {
    "duration": 26,
    "start_time": "2023-01-30T12:36:30.438Z"
   },
   {
    "duration": 16,
    "start_time": "2023-01-30T12:36:44.263Z"
   },
   {
    "duration": 17,
    "start_time": "2023-01-30T12:41:08.988Z"
   },
   {
    "duration": 18,
    "start_time": "2023-01-30T12:43:33.339Z"
   },
   {
    "duration": 7,
    "start_time": "2023-01-30T12:51:27.024Z"
   },
   {
    "duration": 8,
    "start_time": "2023-01-30T12:51:44.269Z"
   },
   {
    "duration": 7,
    "start_time": "2023-01-30T12:52:05.090Z"
   },
   {
    "duration": 19,
    "start_time": "2023-01-30T12:52:07.902Z"
   },
   {
    "duration": 8,
    "start_time": "2023-01-30T12:52:10.277Z"
   },
   {
    "duration": 20,
    "start_time": "2023-01-30T12:52:31.716Z"
   },
   {
    "duration": 73,
    "start_time": "2023-01-30T12:53:18.461Z"
   },
   {
    "duration": 22,
    "start_time": "2023-01-30T12:53:35.116Z"
   },
   {
    "duration": 18,
    "start_time": "2023-01-30T12:53:46.300Z"
   },
   {
    "duration": 20,
    "start_time": "2023-01-30T12:56:36.633Z"
   },
   {
    "duration": 1352,
    "start_time": "2023-01-30T12:56:48.424Z"
   },
   {
    "duration": 15,
    "start_time": "2023-01-30T12:57:20.196Z"
   },
   {
    "duration": 14,
    "start_time": "2023-01-30T12:57:22.637Z"
   },
   {
    "duration": 1244,
    "start_time": "2023-01-30T12:57:26.482Z"
   },
   {
    "duration": 1266,
    "start_time": "2023-01-30T12:58:10.655Z"
   },
   {
    "duration": 20,
    "start_time": "2023-01-30T12:58:29.736Z"
   },
   {
    "duration": 531,
    "start_time": "2023-01-31T13:54:32.462Z"
   },
   {
    "duration": 26,
    "start_time": "2023-01-31T13:54:32.996Z"
   },
   {
    "duration": 17,
    "start_time": "2023-01-31T13:54:33.094Z"
   },
   {
    "duration": 10,
    "start_time": "2023-01-31T13:54:33.749Z"
   },
   {
    "duration": 37,
    "start_time": "2023-01-31T13:54:34.119Z"
   },
   {
    "duration": 4,
    "start_time": "2023-01-31T13:54:34.608Z"
   },
   {
    "duration": 9,
    "start_time": "2023-01-31T13:54:34.959Z"
   },
   {
    "duration": 5,
    "start_time": "2023-01-31T13:54:35.473Z"
   },
   {
    "duration": 6,
    "start_time": "2023-01-31T13:54:35.829Z"
   },
   {
    "duration": 5,
    "start_time": "2023-01-31T13:54:36.184Z"
   },
   {
    "duration": 34,
    "start_time": "2023-01-31T13:54:36.714Z"
   },
   {
    "duration": 12,
    "start_time": "2023-01-31T13:54:37.072Z"
   },
   {
    "duration": 4,
    "start_time": "2023-01-31T13:54:37.579Z"
   },
   {
    "duration": 10,
    "start_time": "2023-01-31T13:54:38.071Z"
   },
   {
    "duration": 19,
    "start_time": "2023-01-31T13:54:38.455Z"
   },
   {
    "duration": 19,
    "start_time": "2023-01-31T13:54:38.653Z"
   },
   {
    "duration": 3,
    "start_time": "2023-01-31T13:54:39.207Z"
   },
   {
    "duration": 10,
    "start_time": "2023-01-31T13:54:39.393Z"
   },
   {
    "duration": 5,
    "start_time": "2023-01-31T13:54:39.758Z"
   },
   {
    "duration": 4,
    "start_time": "2023-01-31T13:54:40.133Z"
   },
   {
    "duration": 8,
    "start_time": "2023-01-31T13:54:40.318Z"
   },
   {
    "duration": 22,
    "start_time": "2023-01-31T13:54:40.862Z"
   },
   {
    "duration": 20,
    "start_time": "2023-01-31T13:54:41.447Z"
   },
   {
    "duration": 19,
    "start_time": "2023-01-31T13:54:42.005Z"
   },
   {
    "duration": 3,
    "start_time": "2023-01-31T13:54:42.897Z"
   },
   {
    "duration": 75,
    "start_time": "2023-01-31T13:58:27.246Z"
   },
   {
    "duration": 23,
    "start_time": "2023-01-31T13:58:44.764Z"
   },
   {
    "duration": 21,
    "start_time": "2023-01-31T13:59:04.317Z"
   },
   {
    "duration": 20,
    "start_time": "2023-01-31T14:01:01.461Z"
   },
   {
    "duration": 118,
    "start_time": "2023-01-31T22:48:30.087Z"
   },
   {
    "duration": 54,
    "start_time": "2023-02-01T11:57:26.871Z"
   },
   {
    "duration": 907,
    "start_time": "2023-02-01T11:57:39.228Z"
   },
   {
    "duration": 49,
    "start_time": "2023-02-01T11:57:40.141Z"
   },
   {
    "duration": 37,
    "start_time": "2023-02-01T11:57:40.192Z"
   },
   {
    "duration": 16,
    "start_time": "2023-02-01T11:57:41.014Z"
   },
   {
    "duration": 51,
    "start_time": "2023-02-01T11:57:41.562Z"
   },
   {
    "duration": 7,
    "start_time": "2023-02-01T11:57:42.245Z"
   },
   {
    "duration": 12,
    "start_time": "2023-02-01T11:57:42.626Z"
   },
   {
    "duration": 8,
    "start_time": "2023-02-01T11:57:43.126Z"
   },
   {
    "duration": 18,
    "start_time": "2023-02-01T11:57:43.462Z"
   },
   {
    "duration": 6,
    "start_time": "2023-02-01T11:57:44.002Z"
   },
   {
    "duration": 59,
    "start_time": "2023-02-01T11:57:44.554Z"
   },
   {
    "duration": 10,
    "start_time": "2023-02-01T11:57:44.910Z"
   },
   {
    "duration": 4,
    "start_time": "2023-02-01T11:57:45.430Z"
   },
   {
    "duration": 18,
    "start_time": "2023-02-01T11:57:45.971Z"
   },
   {
    "duration": 40,
    "start_time": "2023-02-01T11:57:46.326Z"
   },
   {
    "duration": 40,
    "start_time": "2023-02-01T11:57:46.514Z"
   },
   {
    "duration": 5,
    "start_time": "2023-02-01T11:57:47.230Z"
   },
   {
    "duration": 17,
    "start_time": "2023-02-01T11:57:47.410Z"
   },
   {
    "duration": 9,
    "start_time": "2023-02-01T11:57:47.962Z"
   },
   {
    "duration": 10,
    "start_time": "2023-02-01T11:57:48.354Z"
   },
   {
    "duration": 21,
    "start_time": "2023-02-01T11:57:48.528Z"
   },
   {
    "duration": 37,
    "start_time": "2023-02-01T11:57:49.263Z"
   },
   {
    "duration": 1336,
    "start_time": "2023-02-01T11:58:10.763Z"
   },
   {
    "duration": 22,
    "start_time": "2023-02-01T11:58:24.300Z"
   },
   {
    "duration": 23,
    "start_time": "2023-02-01T12:00:50.506Z"
   },
   {
    "duration": 49,
    "start_time": "2023-02-01T12:01:12.703Z"
   },
   {
    "duration": 934,
    "start_time": "2023-02-01T12:02:05.515Z"
   },
   {
    "duration": 27,
    "start_time": "2023-02-01T12:02:20.159Z"
   },
   {
    "duration": 27,
    "start_time": "2023-02-01T12:02:30.202Z"
   },
   {
    "duration": 30,
    "start_time": "2023-02-01T12:02:35.352Z"
   },
   {
    "duration": 35,
    "start_time": "2023-02-01T12:20:42.614Z"
   },
   {
    "duration": 47,
    "start_time": "2023-02-01T12:20:48.614Z"
   },
   {
    "duration": 61,
    "start_time": "2023-02-01T13:53:36.683Z"
   },
   {
    "duration": 701,
    "start_time": "2023-02-01T13:53:45.583Z"
   },
   {
    "duration": 25,
    "start_time": "2023-02-01T13:53:46.522Z"
   },
   {
    "duration": 17,
    "start_time": "2023-02-01T13:53:46.883Z"
   },
   {
    "duration": 9,
    "start_time": "2023-02-01T13:53:47.738Z"
   },
   {
    "duration": 47,
    "start_time": "2023-02-01T13:53:48.337Z"
   },
   {
    "duration": 4,
    "start_time": "2023-02-01T13:53:49.004Z"
   },
   {
    "duration": 14,
    "start_time": "2023-02-01T13:53:49.336Z"
   },
   {
    "duration": 5,
    "start_time": "2023-02-01T13:53:49.834Z"
   },
   {
    "duration": 8,
    "start_time": "2023-02-01T13:53:50.382Z"
   },
   {
    "duration": 6,
    "start_time": "2023-02-01T13:53:51.597Z"
   },
   {
    "duration": 44,
    "start_time": "2023-02-01T13:53:52.138Z"
   },
   {
    "duration": 9,
    "start_time": "2023-02-01T13:53:52.521Z"
   },
   {
    "duration": 4,
    "start_time": "2023-02-01T13:53:53.020Z"
   },
   {
    "duration": 13,
    "start_time": "2023-02-01T13:53:53.604Z"
   },
   {
    "duration": 20,
    "start_time": "2023-02-01T13:53:54.120Z"
   },
   {
    "duration": 18,
    "start_time": "2023-02-01T13:53:54.310Z"
   },
   {
    "duration": 5,
    "start_time": "2023-02-01T13:53:55.315Z"
   },
   {
    "duration": 10,
    "start_time": "2023-02-01T13:53:55.525Z"
   },
   {
    "duration": 6,
    "start_time": "2023-02-01T13:53:56.510Z"
   },
   {
    "duration": 4,
    "start_time": "2023-02-01T13:53:57.117Z"
   },
   {
    "duration": 10,
    "start_time": "2023-02-01T13:53:58.099Z"
   },
   {
    "duration": 55,
    "start_time": "2023-02-01T13:54:00.333Z"
   },
   {
    "duration": 25,
    "start_time": "2023-02-01T13:54:12.491Z"
   },
   {
    "duration": 30,
    "start_time": "2023-02-01T14:05:58.888Z"
   },
   {
    "duration": 26,
    "start_time": "2023-02-01T14:06:32.209Z"
   },
   {
    "duration": 26,
    "start_time": "2023-02-01T14:27:13.851Z"
   },
   {
    "duration": 19,
    "start_time": "2023-02-01T14:27:51.576Z"
   },
   {
    "duration": 32,
    "start_time": "2023-02-01T14:33:08.768Z"
   },
   {
    "duration": 42,
    "start_time": "2023-02-01T14:55:38.320Z"
   },
   {
    "duration": 27,
    "start_time": "2023-02-01T14:56:34.910Z"
   },
   {
    "duration": 35,
    "start_time": "2023-02-01T14:56:43.949Z"
   },
   {
    "duration": 25,
    "start_time": "2023-02-01T14:58:01.390Z"
   },
   {
    "duration": 34,
    "start_time": "2023-02-01T14:58:11.033Z"
   },
   {
    "duration": 38,
    "start_time": "2023-02-01T14:58:19.313Z"
   },
   {
    "duration": 736,
    "start_time": "2023-02-02T15:52:44.975Z"
   },
   {
    "duration": 26,
    "start_time": "2023-02-02T15:52:45.713Z"
   },
   {
    "duration": 18,
    "start_time": "2023-02-02T15:52:45.741Z"
   },
   {
    "duration": 12,
    "start_time": "2023-02-02T15:52:45.761Z"
   },
   {
    "duration": 35,
    "start_time": "2023-02-02T15:52:45.781Z"
   },
   {
    "duration": 3,
    "start_time": "2023-02-02T15:52:45.818Z"
   },
   {
    "duration": 20,
    "start_time": "2023-02-02T15:52:45.823Z"
   },
   {
    "duration": 7,
    "start_time": "2023-02-02T15:52:45.844Z"
   },
   {
    "duration": 85,
    "start_time": "2023-02-02T15:52:45.853Z"
   },
   {
    "duration": 0,
    "start_time": "2023-02-02T15:52:45.940Z"
   },
   {
    "duration": 0,
    "start_time": "2023-02-02T15:52:45.941Z"
   },
   {
    "duration": 0,
    "start_time": "2023-02-02T15:52:45.942Z"
   },
   {
    "duration": 0,
    "start_time": "2023-02-02T15:52:45.943Z"
   },
   {
    "duration": 0,
    "start_time": "2023-02-02T15:52:45.944Z"
   },
   {
    "duration": 0,
    "start_time": "2023-02-02T15:52:45.945Z"
   },
   {
    "duration": 0,
    "start_time": "2023-02-02T15:52:45.946Z"
   },
   {
    "duration": 0,
    "start_time": "2023-02-02T15:52:45.947Z"
   },
   {
    "duration": 0,
    "start_time": "2023-02-02T15:52:45.948Z"
   },
   {
    "duration": 0,
    "start_time": "2023-02-02T15:52:45.949Z"
   },
   {
    "duration": 0,
    "start_time": "2023-02-02T15:52:45.950Z"
   },
   {
    "duration": 0,
    "start_time": "2023-02-02T15:52:45.951Z"
   },
   {
    "duration": 0,
    "start_time": "2023-02-02T15:52:45.952Z"
   },
   {
    "duration": 0,
    "start_time": "2023-02-02T15:52:45.953Z"
   },
   {
    "duration": 0,
    "start_time": "2023-02-02T15:52:45.981Z"
   },
   {
    "duration": 0,
    "start_time": "2023-02-02T15:52:45.983Z"
   },
   {
    "duration": 0,
    "start_time": "2023-02-02T15:52:45.985Z"
   },
   {
    "duration": 16,
    "start_time": "2023-02-02T15:53:05.416Z"
   },
   {
    "duration": 7,
    "start_time": "2023-02-02T15:53:15.130Z"
   },
   {
    "duration": 7,
    "start_time": "2023-02-02T15:53:47.139Z"
   },
   {
    "duration": 8,
    "start_time": "2023-02-02T15:53:52.369Z"
   },
   {
    "duration": 477,
    "start_time": "2023-02-02T15:54:44.695Z"
   },
   {
    "duration": 23,
    "start_time": "2023-02-02T15:54:45.174Z"
   },
   {
    "duration": 17,
    "start_time": "2023-02-02T15:54:45.199Z"
   },
   {
    "duration": 10,
    "start_time": "2023-02-02T15:54:45.219Z"
   },
   {
    "duration": 65,
    "start_time": "2023-02-02T15:54:45.232Z"
   },
   {
    "duration": 3,
    "start_time": "2023-02-02T15:54:45.299Z"
   },
   {
    "duration": 11,
    "start_time": "2023-02-02T15:54:45.304Z"
   },
   {
    "duration": 5,
    "start_time": "2023-02-02T15:54:45.317Z"
   },
   {
    "duration": 16,
    "start_time": "2023-02-02T15:54:45.323Z"
   },
   {
    "duration": 9,
    "start_time": "2023-02-02T15:54:45.344Z"
   },
   {
    "duration": 28,
    "start_time": "2023-02-02T15:54:45.355Z"
   },
   {
    "duration": 43,
    "start_time": "2023-02-02T15:54:45.385Z"
   },
   {
    "duration": 10,
    "start_time": "2023-02-02T15:54:45.430Z"
   },
   {
    "duration": 9,
    "start_time": "2023-02-02T15:54:45.441Z"
   },
   {
    "duration": 17,
    "start_time": "2023-02-02T15:54:45.452Z"
   },
   {
    "duration": 31,
    "start_time": "2023-02-02T15:54:45.470Z"
   },
   {
    "duration": 18,
    "start_time": "2023-02-02T15:54:45.503Z"
   },
   {
    "duration": 4,
    "start_time": "2023-02-02T15:54:45.523Z"
   },
   {
    "duration": 19,
    "start_time": "2023-02-02T15:54:45.529Z"
   },
   {
    "duration": 31,
    "start_time": "2023-02-02T15:54:45.551Z"
   },
   {
    "duration": 4,
    "start_time": "2023-02-02T15:54:45.585Z"
   },
   {
    "duration": 25,
    "start_time": "2023-02-02T15:54:45.591Z"
   },
   {
    "duration": 38,
    "start_time": "2023-02-02T15:54:45.617Z"
   },
   {
    "duration": 26,
    "start_time": "2023-02-02T15:54:45.656Z"
   },
   {
    "duration": 23,
    "start_time": "2023-02-02T15:54:45.684Z"
   },
   {
    "duration": 24,
    "start_time": "2023-02-02T15:54:45.709Z"
   },
   {
    "duration": 48,
    "start_time": "2023-02-02T16:00:23.601Z"
   }
  ],
  "colab": {
   "name": "dpp_template_part2.ipynb",
   "provenance": []
  },
  "kernelspec": {
   "display_name": "Python 3 (ipykernel)",
   "language": "python",
   "name": "python3"
  },
  "language_info": {
   "codemirror_mode": {
    "name": "ipython",
    "version": 3
   },
   "file_extension": ".py",
   "mimetype": "text/x-python",
   "name": "python",
   "nbconvert_exporter": "python",
   "pygments_lexer": "ipython3",
   "version": "3.9.5"
  },
  "toc": {
   "base_numbering": 1,
   "nav_menu": {},
   "number_sections": true,
   "sideBar": true,
   "skip_h1_title": true,
   "title_cell": "Table of Contents",
   "title_sidebar": "Contents",
   "toc_cell": false,
   "toc_position": {},
   "toc_section_display": true,
   "toc_window_display": false
  }
 },
 "nbformat": 4,
 "nbformat_minor": 5
}
