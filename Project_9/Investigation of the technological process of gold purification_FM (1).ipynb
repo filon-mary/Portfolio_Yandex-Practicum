{
 "cells": [
  {
   "cell_type": "markdown",
   "metadata": {
    "toc": true
   },
   "source": [
    "<h1>Содержание<span class=\"tocSkip\"></span></h1>\n",
    "<div class=\"toc\"><ul class=\"toc-item\"><li><span><a href=\"#Подготовка-данных\" data-toc-modified-id=\"Подготовка-данных-1\"><span class=\"toc-item-num\">1&nbsp;&nbsp;</span>Подготовка данных</a></span><ul class=\"toc-item\"><li><span><a href=\"#Открываем-и-изучаем-файлы\" data-toc-modified-id=\"Открываем-и-изучаем-файлы-1.1\"><span class=\"toc-item-num\">1.1&nbsp;&nbsp;</span>Открываем и изучаем файлы</a></span><ul class=\"toc-item\"><li><span><a href=\"#Вывод:\" data-toc-modified-id=\"Вывод:-1.1.1\"><span class=\"toc-item-num\">1.1.1&nbsp;&nbsp;</span>Вывод:</a></span></li></ul></li><li><span><a href=\"#-Комментарий-ревьюера-v1\" data-toc-modified-id=\"-Комментарий-ревьюера-v1-1.2\"><span class=\"toc-item-num\">1.2&nbsp;&nbsp;</span> Комментарий ревьюера v1</a></span></li><li><span><a href=\"#Проверим-эффективность-обогащения-и-найдем-MAE\" data-toc-modified-id=\"Проверим-эффективность-обогащения-и-найдем-MAE-1.3\"><span class=\"toc-item-num\">1.3&nbsp;&nbsp;</span>Проверим эффективность обогащения и найдем MAE</a></span><ul class=\"toc-item\"><li><span><a href=\"#Вывод:\" data-toc-modified-id=\"Вывод:-1.3.1\"><span class=\"toc-item-num\">1.3.1&nbsp;&nbsp;</span>Вывод:</a></span></li></ul></li><li><span><a href=\"#-Комментарий-ревьюера-v1\" data-toc-modified-id=\"-Комментарий-ревьюера-v1-1.4\"><span class=\"toc-item-num\">1.4&nbsp;&nbsp;</span> Комментарий ревьюера v1</a></span></li><li><span><a href=\"#Проведем-анализ-признаков,-недоступных-в-тестовой-выборке\" data-toc-modified-id=\"Проведем-анализ-признаков,-недоступных-в-тестовой-выборке-1.5\"><span class=\"toc-item-num\">1.5&nbsp;&nbsp;</span>Проведем анализ признаков, недоступных в тестовой выборке</a></span><ul class=\"toc-item\"><li><span><a href=\"#Вывод:\" data-toc-modified-id=\"Вывод:-1.5.1\"><span class=\"toc-item-num\">1.5.1&nbsp;&nbsp;</span>Вывод:</a></span></li></ul></li><li><span><a href=\"#-Комментарий-ревьюера-v1\" data-toc-modified-id=\"-Комментарий-ревьюера-v1-1.6\"><span class=\"toc-item-num\">1.6&nbsp;&nbsp;</span> Комментарий ревьюера v1</a></span></li><li><span><a href=\"#Проведем-предобработку-данных\" data-toc-modified-id=\"Проведем-предобработку-данных-1.7\"><span class=\"toc-item-num\">1.7&nbsp;&nbsp;</span>Проведем предобработку данных</a></span></li><li><span><a href=\"#-Комментарий-ревьюера-v1\" data-toc-modified-id=\"-Комментарий-ревьюера-v1-1.8\"><span class=\"toc-item-num\">1.8&nbsp;&nbsp;</span> Комментарий ревьюера v1</a></span></li><li><span><a href=\"#-Комментарий-ревьюера-v2\" data-toc-modified-id=\"-Комментарий-ревьюера-v2-1.9\"><span class=\"toc-item-num\">1.9&nbsp;&nbsp;</span> Комментарий ревьюера v2</a></span><ul class=\"toc-item\"><li><span><a href=\"#Вывод:\" data-toc-modified-id=\"Вывод:-1.9.1\"><span class=\"toc-item-num\">1.9.1&nbsp;&nbsp;</span>Вывод:</a></span></li></ul></li><li><span><a href=\"#Вывод:\" data-toc-modified-id=\"Вывод:-1.10\"><span class=\"toc-item-num\">1.10&nbsp;&nbsp;</span>Вывод:</a></span></li><li><span><a href=\"#-Комментарий-ревьюера-v1\" data-toc-modified-id=\"-Комментарий-ревьюера-v1-1.11\"><span class=\"toc-item-num\">1.11&nbsp;&nbsp;</span> Комментарий ревьюера v1</a></span></li></ul></li><li><span><a href=\"#Анализ-данных\" data-toc-modified-id=\"Анализ-данных-2\"><span class=\"toc-item-num\">2&nbsp;&nbsp;</span>Анализ данных</a></span><ul class=\"toc-item\"><li><span><a href=\"#Пронализируем-как--меняется-концентрация-металлов-(Au,-Ag,-Pb)-на-различных-этапах-отчистки\" data-toc-modified-id=\"Пронализируем-как--меняется-концентрация-металлов-(Au,-Ag,-Pb)-на-различных-этапах-отчистки-2.1\"><span class=\"toc-item-num\">2.1&nbsp;&nbsp;</span>Пронализируем как  меняется концентрация металлов (Au, Ag, Pb) на различных этапах отчистки</a></span><ul class=\"toc-item\"><li><span><a href=\"#Вывод:\" data-toc-modified-id=\"Вывод:-2.1.1\"><span class=\"toc-item-num\">2.1.1&nbsp;&nbsp;</span>Вывод:</a></span></li></ul></li><li><span><a href=\"#-Комментарий-ревьюера-v1\" data-toc-modified-id=\"-Комментарий-ревьюера-v1-2.2\"><span class=\"toc-item-num\">2.2&nbsp;&nbsp;</span> Комментарий ревьюера v1</a></span></li><li><span><a href=\"#Сравниваем-распределения-размеров-гранул-исходного-сырья-на-обучающей-и-тестовой-выборках\" data-toc-modified-id=\"Сравниваем-распределения-размеров-гранул-исходного-сырья-на-обучающей-и-тестовой-выборках-2.3\"><span class=\"toc-item-num\">2.3&nbsp;&nbsp;</span>Сравниваем распределения размеров гранул исходного сырья на обучающей и тестовой выборках</a></span><ul class=\"toc-item\"><li><span><a href=\"#Вывод:\" data-toc-modified-id=\"Вывод:-2.3.1\"><span class=\"toc-item-num\">2.3.1&nbsp;&nbsp;</span>Вывод:</a></span></li></ul></li><li><span><a href=\"#-Комментарий-ревьюера-v1\" data-toc-modified-id=\"-Комментарий-ревьюера-v1-2.4\"><span class=\"toc-item-num\">2.4&nbsp;&nbsp;</span> Комментарий ревьюера v1</a></span></li><li><span><a href=\"#Исследуем-суммарную-концентрацию-металлов-на-разных-стадиях:-в-сырье,-в-черновом-концентрате,-в-концентрате-после-первой-очистки-и-в-финальном-концентрате\" data-toc-modified-id=\"Исследуем-суммарную-концентрацию-металлов-на-разных-стадиях:-в-сырье,-в-черновом-концентрате,-в-концентрате-после-первой-очистки-и-в-финальном-концентрате-2.5\"><span class=\"toc-item-num\">2.5&nbsp;&nbsp;</span>Исследуем суммарную концентрацию металлов на разных стадиях: в сырье, в черновом концентрате, в концентрате после первой очистки и в финальном концентрате</a></span></li><li><span><a href=\"#-Комментарий-ревьюера-v1\" data-toc-modified-id=\"-Комментарий-ревьюера-v1-2.6\"><span class=\"toc-item-num\">2.6&nbsp;&nbsp;</span> Комментарий ревьюера v1</a></span><ul class=\"toc-item\"><li><span><a href=\"#Вывод:\" data-toc-modified-id=\"Вывод:-2.6.1\"><span class=\"toc-item-num\">2.6.1&nbsp;&nbsp;</span>Вывод:</a></span></li></ul></li><li><span><a href=\"#Вывод:\" data-toc-modified-id=\"Вывод:-2.7\"><span class=\"toc-item-num\">2.7&nbsp;&nbsp;</span>Вывод:</a></span></li><li><span><a href=\"#-Комментарий-ревьюера-v1\" data-toc-modified-id=\"-Комментарий-ревьюера-v1-2.8\"><span class=\"toc-item-num\">2.8&nbsp;&nbsp;</span> Комментарий ревьюера v1</a></span></li></ul></li><li><span><a href=\"#Модель\" data-toc-modified-id=\"Модель-3\"><span class=\"toc-item-num\">3&nbsp;&nbsp;</span>Модель</a></span><ul class=\"toc-item\"><li><span><a href=\"#Функция-для-вычисления-итоговой-sMAPE\" data-toc-modified-id=\"Функция-для-вычисления-итоговой-sMAPE-3.1\"><span class=\"toc-item-num\">3.1&nbsp;&nbsp;</span>Функция для вычисления итоговой sMAPE</a></span></li><li><span><a href=\"#-Комментарий-ревьюера-v1\" data-toc-modified-id=\"-Комментарий-ревьюера-v1-3.2\"><span class=\"toc-item-num\">3.2&nbsp;&nbsp;</span> Комментарий ревьюера v1</a></span><ul class=\"toc-item\"><li><span><a href=\"#Вывод:\" data-toc-modified-id=\"Вывод:-3.2.1\"><span class=\"toc-item-num\">3.2.1&nbsp;&nbsp;</span>Вывод:</a></span></li></ul></li><li><span><a href=\"#Обучение-разных-моделей-и-оценка-их-качества-кросс-валидацией\" data-toc-modified-id=\"Обучение-разных-моделей-и-оценка-их-качества-кросс-валидацией-3.3\"><span class=\"toc-item-num\">3.3&nbsp;&nbsp;</span>Обучение разных моделей и оценка их качества кросс-валидацией</a></span></li><li><span><a href=\"#-Комментарий-ревьюера-v1\" data-toc-modified-id=\"-Комментарий-ревьюера-v1-3.4\"><span class=\"toc-item-num\">3.4&nbsp;&nbsp;</span> Комментарий ревьюера v1</a></span></li><li><span><a href=\"#-Комментарий-ревьюера-v1\" data-toc-modified-id=\"-Комментарий-ревьюера-v1-3.5\"><span class=\"toc-item-num\">3.5&nbsp;&nbsp;</span> Комментарий ревьюера v1</a></span><ul class=\"toc-item\"><li><span><a href=\"#Вывод:\" data-toc-modified-id=\"Вывод:-3.5.1\"><span class=\"toc-item-num\">3.5.1&nbsp;&nbsp;</span>Вывод:</a></span></li></ul></li><li><span><a href=\"#-Комментарий-ревьюера-v1\" data-toc-modified-id=\"-Комментарий-ревьюера-v1-3.6\"><span class=\"toc-item-num\">3.6&nbsp;&nbsp;</span> Комментарий ревьюера v1</a></span></li><li><span><a href=\"#-Комментарий-ревьюера-v2\" data-toc-modified-id=\"-Комментарий-ревьюера-v2-3.7\"><span class=\"toc-item-num\">3.7&nbsp;&nbsp;</span> Комментарий ревьюера v2</a></span></li><li><span><a href=\"#Выбираем-лучшую-модель-и-проверяем-на-тестовой-выборке\" data-toc-modified-id=\"Выбираем-лучшую-модель-и-проверяем-на-тестовой-выборке-3.8\"><span class=\"toc-item-num\">3.8&nbsp;&nbsp;</span>Выбираем лучшую модель и проверяем на тестовой выборке</a></span></li><li><span><a href=\"#-Комментарий-ревьюера-v1\" data-toc-modified-id=\"-Комментарий-ревьюера-v1-3.9\"><span class=\"toc-item-num\">3.9&nbsp;&nbsp;</span> Комментарий ревьюера v1</a></span><ul class=\"toc-item\"><li><span><a href=\"#Вывод:\" data-toc-modified-id=\"Вывод:-3.9.1\"><span class=\"toc-item-num\">3.9.1&nbsp;&nbsp;</span>Вывод:</a></span></li></ul></li><li><span><a href=\"#-Комментарий-ревьюера-v1\" data-toc-modified-id=\"-Комментарий-ревьюера-v1-3.10\"><span class=\"toc-item-num\">3.10&nbsp;&nbsp;</span> Комментарий ревьюера v1</a></span></li><li><span><a href=\"#Вывод:\" data-toc-modified-id=\"Вывод:-3.11\"><span class=\"toc-item-num\">3.11&nbsp;&nbsp;</span>Вывод:</a></span></li></ul></li><li><span><a href=\"#Общий-вывод:\" data-toc-modified-id=\"Общий-вывод:-4\"><span class=\"toc-item-num\">4&nbsp;&nbsp;</span>Общий вывод:</a></span></li><li><span><a href=\"#Чек-лист-готовности-проекта\" data-toc-modified-id=\"Чек-лист-готовности-проекта-5\"><span class=\"toc-item-num\">5&nbsp;&nbsp;</span>Чек-лист готовности проекта</a></span><ul class=\"toc-item\"><li><span><a href=\"#-Итоговый-комментарий\" data-toc-modified-id=\"-Итоговый-комментарий-5.1\"><span class=\"toc-item-num\">5.1&nbsp;&nbsp;</span> Итоговый комментарий</a></span></li><li><span><a href=\"#-Комментарий-ревьюера-v2\" data-toc-modified-id=\"-Комментарий-ревьюера-v2-5.2\"><span class=\"toc-item-num\">5.2&nbsp;&nbsp;</span> Комментарий ревьюера v2</a></span></li></ul></li></ul></div>"
   ]
  },
  {
   "cell_type": "markdown",
   "metadata": {},
   "source": [
    "# Восстановление золота из руды"
   ]
  },
  {
   "cell_type": "markdown",
   "metadata": {},
   "source": [
    "# Цель исследования\n",
    "1. Построить модель машинного обучения, которая должна предсказать коэффициент восстановления золота из золотосодержащей руды и поможет оптимизировать производство, чтобы не запускать предприятие с убыточными характеристиками.\n",
    "\n",
    "\n",
    "# Ход исследования\n",
    "Нам предоставленны данные с параметрами добычи и очистки. Все данные находятся в трёх файлах: '/datasets/gold_industry_train.csv' — обучающая выборка; '/datasets/gold_industry_test.csv' — тестовая выборка; '/datasets/gold_industry_full.csv' — исходные данные. О качестве данных нам ничего не известно, поэтому перед тем, как приступать к целям исследования, понадобится обзор данных. Мы проверим данные на ошибки. Затем, на этапе предобработки мы будем искать возможность исправить все ошибки в данных, которые не приведут к искажению конечного результата. Далее приступим к целям исследования.<br>\n",
    "\n",
    "\n",
    "Таким образом, исследование пройдёт в 7 этапов:<br>\n",
    "\n",
    "* Обзор данных <br>\n",
    "* Предобработка данных <br>\n",
    "* Проведение исследоватльского анализа данных<br>\n",
    "* Построение и обучение модели<br>\n",
    "* Выявление наилучшей модели<br>\n",
    "* Написание промежуточных выводов <br>\n",
    "* Написание общего вывода"
   ]
  },
  {
   "cell_type": "markdown",
   "metadata": {},
   "source": [
    "# Описание данных\n",
    "# Технологический процесс\n",
    "* Rougher feed — исходное сырье\n",
    "* Rougher additions (или reagent additions) — флотационные реагенты: Xanthate, Sulphate, Depressant\n",
    "   * Xanthate — ксантогенат (промотер, или активатор флотации);\n",
    "   * Sulphate — сульфат (на данном производстве сульфид натрия);\n",
    "   * Depressant — депрессант (силикат натрия).\n",
    "* Rougher process (англ. «грубый процесс») — флотация\n",
    "* Rougher tails — отвальные хвосты\n",
    "* Float banks — флотационная установка\n",
    "* Cleaner process — очистка\n",
    "* Rougher Au — черновой концентрат золота\n",
    "* Final Au — финальный концентрат золота\n",
    "\n",
    "# Параметры этапов\n",
    "* air amount — объём воздуха\n",
    "* fluid levels — уровень жидкости\n",
    "* feed size — размер гранул сырья\n",
    "* feed rate — скорость подачи"
   ]
  },
  {
   "cell_type": "markdown",
   "metadata": {},
   "source": [
    "## Подготовка данных"
   ]
  },
  {
   "cell_type": "markdown",
   "metadata": {},
   "source": [
    "### Открываем и изучаем файлы"
   ]
  },
  {
   "cell_type": "code",
   "execution_count": 1,
   "metadata": {},
   "outputs": [],
   "source": [
    "#Импортируем необходимые библиотеки \n",
    "import pandas as pd\n",
    "import numpy as np\n",
    "import seaborn as sns\n",
    "import matplotlib.pyplot as plt\n",
    "from tqdm.notebook import tqdm\n",
    "from numpy.random import RandomState\n",
    "from sklearn.utils import shuffle\n",
    "from sklearn.dummy import DummyRegressor\n",
    "from sklearn.preprocessing import StandardScaler \n",
    "from sklearn.metrics import make_scorer\n",
    "from sklearn.model_selection import GridSearchCV\n",
    "from sklearn.model_selection import cross_val_score\n",
    "from sklearn.utils import shuffle\n",
    "from sklearn.metrics import mean_squared_error, r2_score, mean_absolute_error\n",
    "from sklearn.preprocessing import StandardScaler \n",
    "from sklearn.model_selection import train_test_split \n",
    "from sklearn.tree import DecisionTreeRegressor\n",
    "from sklearn.ensemble import RandomForestRegressor\n",
    "from sklearn.linear_model import LinearRegression\n",
    "from scipy import stats as st"
   ]
  },
  {
   "cell_type": "code",
   "execution_count": 2,
   "metadata": {},
   "outputs": [],
   "source": [
    "#Открываем файлы с данными и изучаем их, всего датайремов три (данные индексируются датой и временем получения информации)\n",
    "try:\n",
    "    data_train = pd.read_csv('/datasets/gold_industry_train.csv', index_col='date')\n",
    "    data_test = pd.read_csv('/datasets/gold_industry_test.csv', index_col='date')\n",
    "    data_full = pd.read_csv('/datasets/gold_industry_full.csv', index_col='date')\n",
    "    \n",
    "except:\n",
    "    pass"
   ]
  },
  {
   "cell_type": "code",
   "execution_count": 3,
   "metadata": {
    "scrolled": true
   },
   "outputs": [
    {
     "data": {
      "text/html": [
       "<div>\n",
       "<style scoped>\n",
       "    .dataframe tbody tr th:only-of-type {\n",
       "        vertical-align: middle;\n",
       "    }\n",
       "\n",
       "    .dataframe tbody tr th {\n",
       "        vertical-align: top;\n",
       "    }\n",
       "\n",
       "    .dataframe thead th {\n",
       "        text-align: right;\n",
       "    }\n",
       "</style>\n",
       "<table border=\"1\" class=\"dataframe\">\n",
       "  <thead>\n",
       "    <tr style=\"text-align: right;\">\n",
       "      <th></th>\n",
       "      <th>rougher.input.feed_au</th>\n",
       "      <th>rougher.input.feed_ag</th>\n",
       "      <th>rougher.input.feed_pb</th>\n",
       "      <th>rougher.input.feed_sol</th>\n",
       "      <th>rougher.input.feed_rate</th>\n",
       "      <th>rougher.input.feed_size</th>\n",
       "      <th>rougher.input.floatbank10_sulfate</th>\n",
       "      <th>rougher.input.floatbank10_xanthate</th>\n",
       "      <th>rougher.state.floatbank10_a_air</th>\n",
       "      <th>rougher.state.floatbank10_a_level</th>\n",
       "      <th>...</th>\n",
       "      <th>secondary_cleaner.output.tail_sol</th>\n",
       "      <th>final.output.concentrate_au</th>\n",
       "      <th>final.output.concentrate_ag</th>\n",
       "      <th>final.output.concentrate_pb</th>\n",
       "      <th>final.output.concentrate_sol</th>\n",
       "      <th>final.output.recovery</th>\n",
       "      <th>final.output.tail_au</th>\n",
       "      <th>final.output.tail_ag</th>\n",
       "      <th>final.output.tail_pb</th>\n",
       "      <th>final.output.tail_sol</th>\n",
       "    </tr>\n",
       "    <tr>\n",
       "      <th>date</th>\n",
       "      <th></th>\n",
       "      <th></th>\n",
       "      <th></th>\n",
       "      <th></th>\n",
       "      <th></th>\n",
       "      <th></th>\n",
       "      <th></th>\n",
       "      <th></th>\n",
       "      <th></th>\n",
       "      <th></th>\n",
       "      <th></th>\n",
       "      <th></th>\n",
       "      <th></th>\n",
       "      <th></th>\n",
       "      <th></th>\n",
       "      <th></th>\n",
       "      <th></th>\n",
       "      <th></th>\n",
       "      <th></th>\n",
       "      <th></th>\n",
       "      <th></th>\n",
       "    </tr>\n",
       "  </thead>\n",
       "  <tbody>\n",
       "    <tr>\n",
       "      <th>2016-01-15 00:00:00</th>\n",
       "      <td>6.486150</td>\n",
       "      <td>6.100378</td>\n",
       "      <td>2.284912</td>\n",
       "      <td>36.808594</td>\n",
       "      <td>523.546326</td>\n",
       "      <td>55.486599</td>\n",
       "      <td>11.986616</td>\n",
       "      <td>6.007990</td>\n",
       "      <td>999.706909</td>\n",
       "      <td>-404.066986</td>\n",
       "      <td>...</td>\n",
       "      <td>8.764648</td>\n",
       "      <td>42.192020</td>\n",
       "      <td>6.055403</td>\n",
       "      <td>9.889648</td>\n",
       "      <td>5.507324</td>\n",
       "      <td>70.541216</td>\n",
       "      <td>2.143149</td>\n",
       "      <td>10.411962</td>\n",
       "      <td>0.895447</td>\n",
       "      <td>16.904297</td>\n",
       "    </tr>\n",
       "    <tr>\n",
       "      <th>2016-01-15 01:00:00</th>\n",
       "      <td>6.478583</td>\n",
       "      <td>6.161113</td>\n",
       "      <td>2.266033</td>\n",
       "      <td>35.753385</td>\n",
       "      <td>525.290581</td>\n",
       "      <td>57.278666</td>\n",
       "      <td>11.971193</td>\n",
       "      <td>6.005766</td>\n",
       "      <td>1000.286398</td>\n",
       "      <td>-400.065196</td>\n",
       "      <td>...</td>\n",
       "      <td>9.001494</td>\n",
       "      <td>42.701629</td>\n",
       "      <td>6.029369</td>\n",
       "      <td>9.968944</td>\n",
       "      <td>5.257781</td>\n",
       "      <td>69.266198</td>\n",
       "      <td>2.224930</td>\n",
       "      <td>10.462676</td>\n",
       "      <td>0.927452</td>\n",
       "      <td>16.634514</td>\n",
       "    </tr>\n",
       "    <tr>\n",
       "      <th>2016-01-15 02:00:00</th>\n",
       "      <td>6.362222</td>\n",
       "      <td>6.116455</td>\n",
       "      <td>2.159622</td>\n",
       "      <td>35.971630</td>\n",
       "      <td>530.026610</td>\n",
       "      <td>57.510649</td>\n",
       "      <td>11.920603</td>\n",
       "      <td>6.197377</td>\n",
       "      <td>999.719565</td>\n",
       "      <td>-400.074028</td>\n",
       "      <td>...</td>\n",
       "      <td>8.842896</td>\n",
       "      <td>42.657501</td>\n",
       "      <td>6.055926</td>\n",
       "      <td>10.213995</td>\n",
       "      <td>5.383759</td>\n",
       "      <td>68.116445</td>\n",
       "      <td>2.257889</td>\n",
       "      <td>10.507046</td>\n",
       "      <td>0.953716</td>\n",
       "      <td>16.208849</td>\n",
       "    </tr>\n",
       "    <tr>\n",
       "      <th>2016-01-15 03:00:00</th>\n",
       "      <td>6.118189</td>\n",
       "      <td>6.043309</td>\n",
       "      <td>2.037807</td>\n",
       "      <td>36.862241</td>\n",
       "      <td>542.590390</td>\n",
       "      <td>57.792734</td>\n",
       "      <td>11.630094</td>\n",
       "      <td>6.203177</td>\n",
       "      <td>999.814770</td>\n",
       "      <td>-400.200179</td>\n",
       "      <td>...</td>\n",
       "      <td>9.122857</td>\n",
       "      <td>42.689819</td>\n",
       "      <td>6.047977</td>\n",
       "      <td>9.977019</td>\n",
       "      <td>4.858634</td>\n",
       "      <td>68.347543</td>\n",
       "      <td>2.146849</td>\n",
       "      <td>10.422762</td>\n",
       "      <td>0.883763</td>\n",
       "      <td>16.532835</td>\n",
       "    </tr>\n",
       "    <tr>\n",
       "      <th>2016-01-15 04:00:00</th>\n",
       "      <td>5.663707</td>\n",
       "      <td>6.060915</td>\n",
       "      <td>1.786875</td>\n",
       "      <td>34.347666</td>\n",
       "      <td>540.531893</td>\n",
       "      <td>56.047189</td>\n",
       "      <td>10.957755</td>\n",
       "      <td>6.198826</td>\n",
       "      <td>999.678690</td>\n",
       "      <td>-399.752729</td>\n",
       "      <td>...</td>\n",
       "      <td>8.871028</td>\n",
       "      <td>42.774141</td>\n",
       "      <td>6.148599</td>\n",
       "      <td>10.142511</td>\n",
       "      <td>4.939416</td>\n",
       "      <td>66.927016</td>\n",
       "      <td>2.055292</td>\n",
       "      <td>10.360302</td>\n",
       "      <td>0.792826</td>\n",
       "      <td>16.525686</td>\n",
       "    </tr>\n",
       "  </tbody>\n",
       "</table>\n",
       "<p>5 rows × 86 columns</p>\n",
       "</div>"
      ],
      "text/plain": [
       "                     rougher.input.feed_au  rougher.input.feed_ag  \\\n",
       "date                                                                \n",
       "2016-01-15 00:00:00               6.486150               6.100378   \n",
       "2016-01-15 01:00:00               6.478583               6.161113   \n",
       "2016-01-15 02:00:00               6.362222               6.116455   \n",
       "2016-01-15 03:00:00               6.118189               6.043309   \n",
       "2016-01-15 04:00:00               5.663707               6.060915   \n",
       "\n",
       "                     rougher.input.feed_pb  rougher.input.feed_sol  \\\n",
       "date                                                                 \n",
       "2016-01-15 00:00:00               2.284912               36.808594   \n",
       "2016-01-15 01:00:00               2.266033               35.753385   \n",
       "2016-01-15 02:00:00               2.159622               35.971630   \n",
       "2016-01-15 03:00:00               2.037807               36.862241   \n",
       "2016-01-15 04:00:00               1.786875               34.347666   \n",
       "\n",
       "                     rougher.input.feed_rate  rougher.input.feed_size  \\\n",
       "date                                                                    \n",
       "2016-01-15 00:00:00               523.546326                55.486599   \n",
       "2016-01-15 01:00:00               525.290581                57.278666   \n",
       "2016-01-15 02:00:00               530.026610                57.510649   \n",
       "2016-01-15 03:00:00               542.590390                57.792734   \n",
       "2016-01-15 04:00:00               540.531893                56.047189   \n",
       "\n",
       "                     rougher.input.floatbank10_sulfate  \\\n",
       "date                                                     \n",
       "2016-01-15 00:00:00                          11.986616   \n",
       "2016-01-15 01:00:00                          11.971193   \n",
       "2016-01-15 02:00:00                          11.920603   \n",
       "2016-01-15 03:00:00                          11.630094   \n",
       "2016-01-15 04:00:00                          10.957755   \n",
       "\n",
       "                     rougher.input.floatbank10_xanthate  \\\n",
       "date                                                      \n",
       "2016-01-15 00:00:00                            6.007990   \n",
       "2016-01-15 01:00:00                            6.005766   \n",
       "2016-01-15 02:00:00                            6.197377   \n",
       "2016-01-15 03:00:00                            6.203177   \n",
       "2016-01-15 04:00:00                            6.198826   \n",
       "\n",
       "                     rougher.state.floatbank10_a_air  \\\n",
       "date                                                   \n",
       "2016-01-15 00:00:00                       999.706909   \n",
       "2016-01-15 01:00:00                      1000.286398   \n",
       "2016-01-15 02:00:00                       999.719565   \n",
       "2016-01-15 03:00:00                       999.814770   \n",
       "2016-01-15 04:00:00                       999.678690   \n",
       "\n",
       "                     rougher.state.floatbank10_a_level  ...  \\\n",
       "date                                                    ...   \n",
       "2016-01-15 00:00:00                        -404.066986  ...   \n",
       "2016-01-15 01:00:00                        -400.065196  ...   \n",
       "2016-01-15 02:00:00                        -400.074028  ...   \n",
       "2016-01-15 03:00:00                        -400.200179  ...   \n",
       "2016-01-15 04:00:00                        -399.752729  ...   \n",
       "\n",
       "                     secondary_cleaner.output.tail_sol  \\\n",
       "date                                                     \n",
       "2016-01-15 00:00:00                           8.764648   \n",
       "2016-01-15 01:00:00                           9.001494   \n",
       "2016-01-15 02:00:00                           8.842896   \n",
       "2016-01-15 03:00:00                           9.122857   \n",
       "2016-01-15 04:00:00                           8.871028   \n",
       "\n",
       "                     final.output.concentrate_au  final.output.concentrate_ag  \\\n",
       "date                                                                            \n",
       "2016-01-15 00:00:00                    42.192020                     6.055403   \n",
       "2016-01-15 01:00:00                    42.701629                     6.029369   \n",
       "2016-01-15 02:00:00                    42.657501                     6.055926   \n",
       "2016-01-15 03:00:00                    42.689819                     6.047977   \n",
       "2016-01-15 04:00:00                    42.774141                     6.148599   \n",
       "\n",
       "                     final.output.concentrate_pb  \\\n",
       "date                                               \n",
       "2016-01-15 00:00:00                     9.889648   \n",
       "2016-01-15 01:00:00                     9.968944   \n",
       "2016-01-15 02:00:00                    10.213995   \n",
       "2016-01-15 03:00:00                     9.977019   \n",
       "2016-01-15 04:00:00                    10.142511   \n",
       "\n",
       "                     final.output.concentrate_sol  final.output.recovery  \\\n",
       "date                                                                       \n",
       "2016-01-15 00:00:00                      5.507324              70.541216   \n",
       "2016-01-15 01:00:00                      5.257781              69.266198   \n",
       "2016-01-15 02:00:00                      5.383759              68.116445   \n",
       "2016-01-15 03:00:00                      4.858634              68.347543   \n",
       "2016-01-15 04:00:00                      4.939416              66.927016   \n",
       "\n",
       "                     final.output.tail_au  final.output.tail_ag  \\\n",
       "date                                                              \n",
       "2016-01-15 00:00:00              2.143149             10.411962   \n",
       "2016-01-15 01:00:00              2.224930             10.462676   \n",
       "2016-01-15 02:00:00              2.257889             10.507046   \n",
       "2016-01-15 03:00:00              2.146849             10.422762   \n",
       "2016-01-15 04:00:00              2.055292             10.360302   \n",
       "\n",
       "                     final.output.tail_pb  final.output.tail_sol  \n",
       "date                                                              \n",
       "2016-01-15 00:00:00              0.895447              16.904297  \n",
       "2016-01-15 01:00:00              0.927452              16.634514  \n",
       "2016-01-15 02:00:00              0.953716              16.208849  \n",
       "2016-01-15 03:00:00              0.883763              16.532835  \n",
       "2016-01-15 04:00:00              0.792826              16.525686  \n",
       "\n",
       "[5 rows x 86 columns]"
      ]
     },
     "metadata": {},
     "output_type": "display_data"
    },
    {
     "name": "stdout",
     "output_type": "stream",
     "text": [
      "\n",
      "<class 'pandas.core.frame.DataFrame'>\n",
      "Index: 14579 entries, 2016-01-15 00:00:00 to 2017-12-09 13:59:59\n",
      "Data columns (total 86 columns):\n",
      " #   Column                                              Non-Null Count  Dtype  \n",
      "---  ------                                              --------------  -----  \n",
      " 0   rougher.input.feed_au                               14579 non-null  float64\n",
      " 1   rougher.input.feed_ag                               14579 non-null  float64\n",
      " 2   rougher.input.feed_pb                               14507 non-null  float64\n",
      " 3   rougher.input.feed_sol                              14502 non-null  float64\n",
      " 4   rougher.input.feed_rate                             14572 non-null  float64\n",
      " 5   rougher.input.feed_size                             14478 non-null  float64\n",
      " 6   rougher.input.floatbank10_sulfate                   14548 non-null  float64\n",
      " 7   rougher.input.floatbank10_xanthate                  14572 non-null  float64\n",
      " 8   rougher.state.floatbank10_a_air                     14579 non-null  float64\n",
      " 9   rougher.state.floatbank10_a_level                   14579 non-null  float64\n",
      " 10  rougher.state.floatbank10_b_air                     14579 non-null  float64\n",
      " 11  rougher.state.floatbank10_b_level                   14579 non-null  float64\n",
      " 12  rougher.state.floatbank10_c_air                     14579 non-null  float64\n",
      " 13  rougher.state.floatbank10_c_level                   14579 non-null  float64\n",
      " 14  rougher.state.floatbank10_d_air                     14579 non-null  float64\n",
      " 15  rougher.state.floatbank10_d_level                   14579 non-null  float64\n",
      " 16  rougher.state.floatbank10_e_air                     14150 non-null  float64\n",
      " 17  rougher.state.floatbank10_e_level                   14579 non-null  float64\n",
      " 18  rougher.state.floatbank10_f_air                     14579 non-null  float64\n",
      " 19  rougher.state.floatbank10_f_level                   14579 non-null  float64\n",
      " 20  rougher.input.floatbank11_sulfate                   14543 non-null  float64\n",
      " 21  rougher.input.floatbank11_xanthate                  14172 non-null  float64\n",
      " 22  rougher.calculation.sulfate_to_au_concentrate       14578 non-null  float64\n",
      " 23  rougher.calculation.floatbank10_sulfate_to_au_feed  14578 non-null  float64\n",
      " 24  rougher.calculation.floatbank11_sulfate_to_au_feed  14578 non-null  float64\n",
      " 25  rougher.calculation.au_pb_ratio                     14579 non-null  float64\n",
      " 26  rougher.output.concentrate_au                       14579 non-null  float64\n",
      " 27  rougher.output.concentrate_ag                       14579 non-null  float64\n",
      " 28  rougher.output.concentrate_pb                       14579 non-null  float64\n",
      " 29  rougher.output.concentrate_sol                      14561 non-null  float64\n",
      " 30  rougher.output.recovery                             14579 non-null  float64\n",
      " 31  rougher.output.tail_au                              14579 non-null  float64\n",
      " 32  rougher.output.tail_ag                              14578 non-null  float64\n",
      " 33  rougher.output.tail_pb                              14579 non-null  float64\n",
      " 34  rougher.output.tail_sol                             14579 non-null  float64\n",
      " 35  primary_cleaner.input.sulfate                       14556 non-null  float64\n",
      " 36  primary_cleaner.input.depressant                    14551 non-null  float64\n",
      " 37  primary_cleaner.input.feed_size                     14579 non-null  float64\n",
      " 38  primary_cleaner.input.xanthate                      14518 non-null  float64\n",
      " 39  primary_cleaner.state.floatbank8_a_air              14576 non-null  float64\n",
      " 40  primary_cleaner.state.floatbank8_a_level            14579 non-null  float64\n",
      " 41  primary_cleaner.state.floatbank8_b_air              14576 non-null  float64\n",
      " 42  primary_cleaner.state.floatbank8_b_level            14579 non-null  float64\n",
      " 43  primary_cleaner.state.floatbank8_c_air              14579 non-null  float64\n",
      " 44  primary_cleaner.state.floatbank8_c_level            14579 non-null  float64\n",
      " 45  primary_cleaner.state.floatbank8_d_air              14578 non-null  float64\n",
      " 46  primary_cleaner.state.floatbank8_d_level            14579 non-null  float64\n",
      " 47  primary_cleaner.output.concentrate_au               14579 non-null  float64\n",
      " 48  primary_cleaner.output.concentrate_ag               14579 non-null  float64\n",
      " 49  primary_cleaner.output.concentrate_pb               14491 non-null  float64\n",
      " 50  primary_cleaner.output.concentrate_sol              14314 non-null  float64\n",
      " 51  primary_cleaner.output.tail_au                      14579 non-null  float64\n",
      " 52  primary_cleaner.output.tail_ag                      14575 non-null  float64\n",
      " 53  primary_cleaner.output.tail_pb                      14573 non-null  float64\n",
      " 54  primary_cleaner.output.tail_sol                     14534 non-null  float64\n",
      " 55  secondary_cleaner.state.floatbank2_a_air            14485 non-null  float64\n",
      " 56  secondary_cleaner.state.floatbank2_a_level          14579 non-null  float64\n",
      " 57  secondary_cleaner.state.floatbank2_b_air            14557 non-null  float64\n",
      " 58  secondary_cleaner.state.floatbank2_b_level          14579 non-null  float64\n",
      " 59  secondary_cleaner.state.floatbank3_a_air            14567 non-null  float64\n",
      " 60  secondary_cleaner.state.floatbank3_a_level          14579 non-null  float64\n",
      " 61  secondary_cleaner.state.floatbank3_b_air            14579 non-null  float64\n",
      " 62  secondary_cleaner.state.floatbank3_b_level          14579 non-null  float64\n",
      " 63  secondary_cleaner.state.floatbank4_a_air            14574 non-null  float64\n",
      " 64  secondary_cleaner.state.floatbank4_a_level          14579 non-null  float64\n",
      " 65  secondary_cleaner.state.floatbank4_b_air            14579 non-null  float64\n",
      " 66  secondary_cleaner.state.floatbank4_b_level          14579 non-null  float64\n",
      " 67  secondary_cleaner.state.floatbank5_a_air            14579 non-null  float64\n",
      " 68  secondary_cleaner.state.floatbank5_a_level          14579 non-null  float64\n",
      " 69  secondary_cleaner.state.floatbank5_b_air            14579 non-null  float64\n",
      " 70  secondary_cleaner.state.floatbank5_b_level          14579 non-null  float64\n",
      " 71  secondary_cleaner.state.floatbank6_a_air            14578 non-null  float64\n",
      " 72  secondary_cleaner.state.floatbank6_a_level          14579 non-null  float64\n",
      " 73  secondary_cleaner.output.tail_au                    14579 non-null  float64\n",
      " 74  secondary_cleaner.output.tail_ag                    14578 non-null  float64\n",
      " 75  secondary_cleaner.output.tail_pb                    14575 non-null  float64\n",
      " 76  secondary_cleaner.output.tail_sol                   13659 non-null  float64\n",
      " 77  final.output.concentrate_au                         14579 non-null  float64\n",
      " 78  final.output.concentrate_ag                         14578 non-null  float64\n",
      " 79  final.output.concentrate_pb                         14578 non-null  float64\n",
      " 80  final.output.concentrate_sol                        14387 non-null  float64\n",
      " 81  final.output.recovery                               14579 non-null  float64\n",
      " 82  final.output.tail_au                                14579 non-null  float64\n",
      " 83  final.output.tail_ag                                14578 non-null  float64\n",
      " 84  final.output.tail_pb                                14504 non-null  float64\n",
      " 85  final.output.tail_sol                               14574 non-null  float64\n",
      "dtypes: float64(86)\n",
      "memory usage: 9.7+ MB\n",
      "None\n",
      "\n",
      "Проверяем количество пропусков в %\n"
     ]
    },
    {
     "data": {
      "text/html": [
       "<style  type=\"text/css\" >\n",
       "#T_e3394_row0_col0,#T_e3394_row1_col0,#T_e3394_row2_col0,#T_e3394_row4_col0,#T_e3394_row6_col0,#T_e3394_row7_col0,#T_e3394_row8_col0,#T_e3394_row9_col0,#T_e3394_row10_col0,#T_e3394_row11_col0,#T_e3394_row12_col0,#T_e3394_row13_col0,#T_e3394_row14_col0,#T_e3394_row15_col0,#T_e3394_row17_col0,#T_e3394_row18_col0,#T_e3394_row19_col0,#T_e3394_row20_col0,#T_e3394_row22_col0,#T_e3394_row23_col0,#T_e3394_row24_col0,#T_e3394_row25_col0,#T_e3394_row26_col0,#T_e3394_row27_col0,#T_e3394_row28_col0,#T_e3394_row29_col0,#T_e3394_row30_col0,#T_e3394_row31_col0,#T_e3394_row32_col0,#T_e3394_row33_col0,#T_e3394_row34_col0,#T_e3394_row35_col0,#T_e3394_row36_col0,#T_e3394_row37_col0,#T_e3394_row38_col0,#T_e3394_row39_col0,#T_e3394_row40_col0,#T_e3394_row41_col0,#T_e3394_row42_col0,#T_e3394_row43_col0,#T_e3394_row44_col0,#T_e3394_row45_col0,#T_e3394_row46_col0,#T_e3394_row47_col0,#T_e3394_row48_col0,#T_e3394_row51_col0,#T_e3394_row52_col0,#T_e3394_row53_col0,#T_e3394_row54_col0,#T_e3394_row56_col0,#T_e3394_row57_col0,#T_e3394_row58_col0,#T_e3394_row59_col0,#T_e3394_row60_col0,#T_e3394_row61_col0,#T_e3394_row62_col0,#T_e3394_row63_col0,#T_e3394_row64_col0,#T_e3394_row65_col0,#T_e3394_row66_col0,#T_e3394_row67_col0,#T_e3394_row68_col0,#T_e3394_row69_col0,#T_e3394_row70_col0,#T_e3394_row71_col0,#T_e3394_row72_col0,#T_e3394_row73_col0,#T_e3394_row74_col0,#T_e3394_row75_col0,#T_e3394_row77_col0,#T_e3394_row78_col0,#T_e3394_row79_col0,#T_e3394_row81_col0,#T_e3394_row82_col0,#T_e3394_row83_col0,#T_e3394_row85_col0{\n",
       "            background-color:  #3b4cc0;\n",
       "            color:  #f1f1f1;\n",
       "        }#T_e3394_row3_col0,#T_e3394_row5_col0,#T_e3394_row49_col0,#T_e3394_row55_col0,#T_e3394_row80_col0,#T_e3394_row84_col0{\n",
       "            background-color:  #6f92f3;\n",
       "            color:  #000000;\n",
       "        }#T_e3394_row16_col0,#T_e3394_row21_col0{\n",
       "            background-color:  #dddcdc;\n",
       "            color:  #000000;\n",
       "        }#T_e3394_row50_col0{\n",
       "            background-color:  #aac7fd;\n",
       "            color:  #000000;\n",
       "        }#T_e3394_row76_col0{\n",
       "            background-color:  #b40426;\n",
       "            color:  #f1f1f1;\n",
       "        }</style><table id=\"T_e3394_\" ><thead>    <tr>        <th class=\"blank level0\" ></th>        <th class=\"col_heading level0 col0\" >0</th>    </tr></thead><tbody>\n",
       "                <tr>\n",
       "                        <th id=\"T_e3394_level0_row0\" class=\"row_heading level0 row0\" >rougher.input.feed_au</th>\n",
       "                        <td id=\"T_e3394_row0_col0\" class=\"data row0 col0\" >0.000000</td>\n",
       "            </tr>\n",
       "            <tr>\n",
       "                        <th id=\"T_e3394_level0_row1\" class=\"row_heading level0 row1\" >rougher.input.feed_ag</th>\n",
       "                        <td id=\"T_e3394_row1_col0\" class=\"data row1 col0\" >0.000000</td>\n",
       "            </tr>\n",
       "            <tr>\n",
       "                        <th id=\"T_e3394_level0_row2\" class=\"row_heading level0 row2\" >rougher.input.feed_pb</th>\n",
       "                        <td id=\"T_e3394_row2_col0\" class=\"data row2 col0\" >0.000000</td>\n",
       "            </tr>\n",
       "            <tr>\n",
       "                        <th id=\"T_e3394_level0_row3\" class=\"row_heading level0 row3\" >rougher.input.feed_sol</th>\n",
       "                        <td id=\"T_e3394_row3_col0\" class=\"data row3 col0\" >1.000000</td>\n",
       "            </tr>\n",
       "            <tr>\n",
       "                        <th id=\"T_e3394_level0_row4\" class=\"row_heading level0 row4\" >rougher.input.feed_rate</th>\n",
       "                        <td id=\"T_e3394_row4_col0\" class=\"data row4 col0\" >0.000000</td>\n",
       "            </tr>\n",
       "            <tr>\n",
       "                        <th id=\"T_e3394_level0_row5\" class=\"row_heading level0 row5\" >rougher.input.feed_size</th>\n",
       "                        <td id=\"T_e3394_row5_col0\" class=\"data row5 col0\" >1.000000</td>\n",
       "            </tr>\n",
       "            <tr>\n",
       "                        <th id=\"T_e3394_level0_row6\" class=\"row_heading level0 row6\" >rougher.input.floatbank10_sulfate</th>\n",
       "                        <td id=\"T_e3394_row6_col0\" class=\"data row6 col0\" >0.000000</td>\n",
       "            </tr>\n",
       "            <tr>\n",
       "                        <th id=\"T_e3394_level0_row7\" class=\"row_heading level0 row7\" >rougher.input.floatbank10_xanthate</th>\n",
       "                        <td id=\"T_e3394_row7_col0\" class=\"data row7 col0\" >0.000000</td>\n",
       "            </tr>\n",
       "            <tr>\n",
       "                        <th id=\"T_e3394_level0_row8\" class=\"row_heading level0 row8\" >rougher.state.floatbank10_a_air</th>\n",
       "                        <td id=\"T_e3394_row8_col0\" class=\"data row8 col0\" >0.000000</td>\n",
       "            </tr>\n",
       "            <tr>\n",
       "                        <th id=\"T_e3394_level0_row9\" class=\"row_heading level0 row9\" >rougher.state.floatbank10_a_level</th>\n",
       "                        <td id=\"T_e3394_row9_col0\" class=\"data row9 col0\" >0.000000</td>\n",
       "            </tr>\n",
       "            <tr>\n",
       "                        <th id=\"T_e3394_level0_row10\" class=\"row_heading level0 row10\" >rougher.state.floatbank10_b_air</th>\n",
       "                        <td id=\"T_e3394_row10_col0\" class=\"data row10 col0\" >0.000000</td>\n",
       "            </tr>\n",
       "            <tr>\n",
       "                        <th id=\"T_e3394_level0_row11\" class=\"row_heading level0 row11\" >rougher.state.floatbank10_b_level</th>\n",
       "                        <td id=\"T_e3394_row11_col0\" class=\"data row11 col0\" >0.000000</td>\n",
       "            </tr>\n",
       "            <tr>\n",
       "                        <th id=\"T_e3394_level0_row12\" class=\"row_heading level0 row12\" >rougher.state.floatbank10_c_air</th>\n",
       "                        <td id=\"T_e3394_row12_col0\" class=\"data row12 col0\" >0.000000</td>\n",
       "            </tr>\n",
       "            <tr>\n",
       "                        <th id=\"T_e3394_level0_row13\" class=\"row_heading level0 row13\" >rougher.state.floatbank10_c_level</th>\n",
       "                        <td id=\"T_e3394_row13_col0\" class=\"data row13 col0\" >0.000000</td>\n",
       "            </tr>\n",
       "            <tr>\n",
       "                        <th id=\"T_e3394_level0_row14\" class=\"row_heading level0 row14\" >rougher.state.floatbank10_d_air</th>\n",
       "                        <td id=\"T_e3394_row14_col0\" class=\"data row14 col0\" >0.000000</td>\n",
       "            </tr>\n",
       "            <tr>\n",
       "                        <th id=\"T_e3394_level0_row15\" class=\"row_heading level0 row15\" >rougher.state.floatbank10_d_level</th>\n",
       "                        <td id=\"T_e3394_row15_col0\" class=\"data row15 col0\" >0.000000</td>\n",
       "            </tr>\n",
       "            <tr>\n",
       "                        <th id=\"T_e3394_level0_row16\" class=\"row_heading level0 row16\" >rougher.state.floatbank10_e_air</th>\n",
       "                        <td id=\"T_e3394_row16_col0\" class=\"data row16 col0\" >3.000000</td>\n",
       "            </tr>\n",
       "            <tr>\n",
       "                        <th id=\"T_e3394_level0_row17\" class=\"row_heading level0 row17\" >rougher.state.floatbank10_e_level</th>\n",
       "                        <td id=\"T_e3394_row17_col0\" class=\"data row17 col0\" >0.000000</td>\n",
       "            </tr>\n",
       "            <tr>\n",
       "                        <th id=\"T_e3394_level0_row18\" class=\"row_heading level0 row18\" >rougher.state.floatbank10_f_air</th>\n",
       "                        <td id=\"T_e3394_row18_col0\" class=\"data row18 col0\" >0.000000</td>\n",
       "            </tr>\n",
       "            <tr>\n",
       "                        <th id=\"T_e3394_level0_row19\" class=\"row_heading level0 row19\" >rougher.state.floatbank10_f_level</th>\n",
       "                        <td id=\"T_e3394_row19_col0\" class=\"data row19 col0\" >0.000000</td>\n",
       "            </tr>\n",
       "            <tr>\n",
       "                        <th id=\"T_e3394_level0_row20\" class=\"row_heading level0 row20\" >rougher.input.floatbank11_sulfate</th>\n",
       "                        <td id=\"T_e3394_row20_col0\" class=\"data row20 col0\" >0.000000</td>\n",
       "            </tr>\n",
       "            <tr>\n",
       "                        <th id=\"T_e3394_level0_row21\" class=\"row_heading level0 row21\" >rougher.input.floatbank11_xanthate</th>\n",
       "                        <td id=\"T_e3394_row21_col0\" class=\"data row21 col0\" >3.000000</td>\n",
       "            </tr>\n",
       "            <tr>\n",
       "                        <th id=\"T_e3394_level0_row22\" class=\"row_heading level0 row22\" >rougher.calculation.sulfate_to_au_concentrate</th>\n",
       "                        <td id=\"T_e3394_row22_col0\" class=\"data row22 col0\" >0.000000</td>\n",
       "            </tr>\n",
       "            <tr>\n",
       "                        <th id=\"T_e3394_level0_row23\" class=\"row_heading level0 row23\" >rougher.calculation.floatbank10_sulfate_to_au_feed</th>\n",
       "                        <td id=\"T_e3394_row23_col0\" class=\"data row23 col0\" >0.000000</td>\n",
       "            </tr>\n",
       "            <tr>\n",
       "                        <th id=\"T_e3394_level0_row24\" class=\"row_heading level0 row24\" >rougher.calculation.floatbank11_sulfate_to_au_feed</th>\n",
       "                        <td id=\"T_e3394_row24_col0\" class=\"data row24 col0\" >0.000000</td>\n",
       "            </tr>\n",
       "            <tr>\n",
       "                        <th id=\"T_e3394_level0_row25\" class=\"row_heading level0 row25\" >rougher.calculation.au_pb_ratio</th>\n",
       "                        <td id=\"T_e3394_row25_col0\" class=\"data row25 col0\" >0.000000</td>\n",
       "            </tr>\n",
       "            <tr>\n",
       "                        <th id=\"T_e3394_level0_row26\" class=\"row_heading level0 row26\" >rougher.output.concentrate_au</th>\n",
       "                        <td id=\"T_e3394_row26_col0\" class=\"data row26 col0\" >0.000000</td>\n",
       "            </tr>\n",
       "            <tr>\n",
       "                        <th id=\"T_e3394_level0_row27\" class=\"row_heading level0 row27\" >rougher.output.concentrate_ag</th>\n",
       "                        <td id=\"T_e3394_row27_col0\" class=\"data row27 col0\" >0.000000</td>\n",
       "            </tr>\n",
       "            <tr>\n",
       "                        <th id=\"T_e3394_level0_row28\" class=\"row_heading level0 row28\" >rougher.output.concentrate_pb</th>\n",
       "                        <td id=\"T_e3394_row28_col0\" class=\"data row28 col0\" >0.000000</td>\n",
       "            </tr>\n",
       "            <tr>\n",
       "                        <th id=\"T_e3394_level0_row29\" class=\"row_heading level0 row29\" >rougher.output.concentrate_sol</th>\n",
       "                        <td id=\"T_e3394_row29_col0\" class=\"data row29 col0\" >0.000000</td>\n",
       "            </tr>\n",
       "            <tr>\n",
       "                        <th id=\"T_e3394_level0_row30\" class=\"row_heading level0 row30\" >rougher.output.recovery</th>\n",
       "                        <td id=\"T_e3394_row30_col0\" class=\"data row30 col0\" >0.000000</td>\n",
       "            </tr>\n",
       "            <tr>\n",
       "                        <th id=\"T_e3394_level0_row31\" class=\"row_heading level0 row31\" >rougher.output.tail_au</th>\n",
       "                        <td id=\"T_e3394_row31_col0\" class=\"data row31 col0\" >0.000000</td>\n",
       "            </tr>\n",
       "            <tr>\n",
       "                        <th id=\"T_e3394_level0_row32\" class=\"row_heading level0 row32\" >rougher.output.tail_ag</th>\n",
       "                        <td id=\"T_e3394_row32_col0\" class=\"data row32 col0\" >0.000000</td>\n",
       "            </tr>\n",
       "            <tr>\n",
       "                        <th id=\"T_e3394_level0_row33\" class=\"row_heading level0 row33\" >rougher.output.tail_pb</th>\n",
       "                        <td id=\"T_e3394_row33_col0\" class=\"data row33 col0\" >0.000000</td>\n",
       "            </tr>\n",
       "            <tr>\n",
       "                        <th id=\"T_e3394_level0_row34\" class=\"row_heading level0 row34\" >rougher.output.tail_sol</th>\n",
       "                        <td id=\"T_e3394_row34_col0\" class=\"data row34 col0\" >0.000000</td>\n",
       "            </tr>\n",
       "            <tr>\n",
       "                        <th id=\"T_e3394_level0_row35\" class=\"row_heading level0 row35\" >primary_cleaner.input.sulfate</th>\n",
       "                        <td id=\"T_e3394_row35_col0\" class=\"data row35 col0\" >0.000000</td>\n",
       "            </tr>\n",
       "            <tr>\n",
       "                        <th id=\"T_e3394_level0_row36\" class=\"row_heading level0 row36\" >primary_cleaner.input.depressant</th>\n",
       "                        <td id=\"T_e3394_row36_col0\" class=\"data row36 col0\" >0.000000</td>\n",
       "            </tr>\n",
       "            <tr>\n",
       "                        <th id=\"T_e3394_level0_row37\" class=\"row_heading level0 row37\" >primary_cleaner.input.feed_size</th>\n",
       "                        <td id=\"T_e3394_row37_col0\" class=\"data row37 col0\" >0.000000</td>\n",
       "            </tr>\n",
       "            <tr>\n",
       "                        <th id=\"T_e3394_level0_row38\" class=\"row_heading level0 row38\" >primary_cleaner.input.xanthate</th>\n",
       "                        <td id=\"T_e3394_row38_col0\" class=\"data row38 col0\" >0.000000</td>\n",
       "            </tr>\n",
       "            <tr>\n",
       "                        <th id=\"T_e3394_level0_row39\" class=\"row_heading level0 row39\" >primary_cleaner.state.floatbank8_a_air</th>\n",
       "                        <td id=\"T_e3394_row39_col0\" class=\"data row39 col0\" >0.000000</td>\n",
       "            </tr>\n",
       "            <tr>\n",
       "                        <th id=\"T_e3394_level0_row40\" class=\"row_heading level0 row40\" >primary_cleaner.state.floatbank8_a_level</th>\n",
       "                        <td id=\"T_e3394_row40_col0\" class=\"data row40 col0\" >0.000000</td>\n",
       "            </tr>\n",
       "            <tr>\n",
       "                        <th id=\"T_e3394_level0_row41\" class=\"row_heading level0 row41\" >primary_cleaner.state.floatbank8_b_air</th>\n",
       "                        <td id=\"T_e3394_row41_col0\" class=\"data row41 col0\" >0.000000</td>\n",
       "            </tr>\n",
       "            <tr>\n",
       "                        <th id=\"T_e3394_level0_row42\" class=\"row_heading level0 row42\" >primary_cleaner.state.floatbank8_b_level</th>\n",
       "                        <td id=\"T_e3394_row42_col0\" class=\"data row42 col0\" >0.000000</td>\n",
       "            </tr>\n",
       "            <tr>\n",
       "                        <th id=\"T_e3394_level0_row43\" class=\"row_heading level0 row43\" >primary_cleaner.state.floatbank8_c_air</th>\n",
       "                        <td id=\"T_e3394_row43_col0\" class=\"data row43 col0\" >0.000000</td>\n",
       "            </tr>\n",
       "            <tr>\n",
       "                        <th id=\"T_e3394_level0_row44\" class=\"row_heading level0 row44\" >primary_cleaner.state.floatbank8_c_level</th>\n",
       "                        <td id=\"T_e3394_row44_col0\" class=\"data row44 col0\" >0.000000</td>\n",
       "            </tr>\n",
       "            <tr>\n",
       "                        <th id=\"T_e3394_level0_row45\" class=\"row_heading level0 row45\" >primary_cleaner.state.floatbank8_d_air</th>\n",
       "                        <td id=\"T_e3394_row45_col0\" class=\"data row45 col0\" >0.000000</td>\n",
       "            </tr>\n",
       "            <tr>\n",
       "                        <th id=\"T_e3394_level0_row46\" class=\"row_heading level0 row46\" >primary_cleaner.state.floatbank8_d_level</th>\n",
       "                        <td id=\"T_e3394_row46_col0\" class=\"data row46 col0\" >0.000000</td>\n",
       "            </tr>\n",
       "            <tr>\n",
       "                        <th id=\"T_e3394_level0_row47\" class=\"row_heading level0 row47\" >primary_cleaner.output.concentrate_au</th>\n",
       "                        <td id=\"T_e3394_row47_col0\" class=\"data row47 col0\" >0.000000</td>\n",
       "            </tr>\n",
       "            <tr>\n",
       "                        <th id=\"T_e3394_level0_row48\" class=\"row_heading level0 row48\" >primary_cleaner.output.concentrate_ag</th>\n",
       "                        <td id=\"T_e3394_row48_col0\" class=\"data row48 col0\" >0.000000</td>\n",
       "            </tr>\n",
       "            <tr>\n",
       "                        <th id=\"T_e3394_level0_row49\" class=\"row_heading level0 row49\" >primary_cleaner.output.concentrate_pb</th>\n",
       "                        <td id=\"T_e3394_row49_col0\" class=\"data row49 col0\" >1.000000</td>\n",
       "            </tr>\n",
       "            <tr>\n",
       "                        <th id=\"T_e3394_level0_row50\" class=\"row_heading level0 row50\" >primary_cleaner.output.concentrate_sol</th>\n",
       "                        <td id=\"T_e3394_row50_col0\" class=\"data row50 col0\" >2.000000</td>\n",
       "            </tr>\n",
       "            <tr>\n",
       "                        <th id=\"T_e3394_level0_row51\" class=\"row_heading level0 row51\" >primary_cleaner.output.tail_au</th>\n",
       "                        <td id=\"T_e3394_row51_col0\" class=\"data row51 col0\" >0.000000</td>\n",
       "            </tr>\n",
       "            <tr>\n",
       "                        <th id=\"T_e3394_level0_row52\" class=\"row_heading level0 row52\" >primary_cleaner.output.tail_ag</th>\n",
       "                        <td id=\"T_e3394_row52_col0\" class=\"data row52 col0\" >0.000000</td>\n",
       "            </tr>\n",
       "            <tr>\n",
       "                        <th id=\"T_e3394_level0_row53\" class=\"row_heading level0 row53\" >primary_cleaner.output.tail_pb</th>\n",
       "                        <td id=\"T_e3394_row53_col0\" class=\"data row53 col0\" >0.000000</td>\n",
       "            </tr>\n",
       "            <tr>\n",
       "                        <th id=\"T_e3394_level0_row54\" class=\"row_heading level0 row54\" >primary_cleaner.output.tail_sol</th>\n",
       "                        <td id=\"T_e3394_row54_col0\" class=\"data row54 col0\" >0.000000</td>\n",
       "            </tr>\n",
       "            <tr>\n",
       "                        <th id=\"T_e3394_level0_row55\" class=\"row_heading level0 row55\" >secondary_cleaner.state.floatbank2_a_air</th>\n",
       "                        <td id=\"T_e3394_row55_col0\" class=\"data row55 col0\" >1.000000</td>\n",
       "            </tr>\n",
       "            <tr>\n",
       "                        <th id=\"T_e3394_level0_row56\" class=\"row_heading level0 row56\" >secondary_cleaner.state.floatbank2_a_level</th>\n",
       "                        <td id=\"T_e3394_row56_col0\" class=\"data row56 col0\" >0.000000</td>\n",
       "            </tr>\n",
       "            <tr>\n",
       "                        <th id=\"T_e3394_level0_row57\" class=\"row_heading level0 row57\" >secondary_cleaner.state.floatbank2_b_air</th>\n",
       "                        <td id=\"T_e3394_row57_col0\" class=\"data row57 col0\" >0.000000</td>\n",
       "            </tr>\n",
       "            <tr>\n",
       "                        <th id=\"T_e3394_level0_row58\" class=\"row_heading level0 row58\" >secondary_cleaner.state.floatbank2_b_level</th>\n",
       "                        <td id=\"T_e3394_row58_col0\" class=\"data row58 col0\" >0.000000</td>\n",
       "            </tr>\n",
       "            <tr>\n",
       "                        <th id=\"T_e3394_level0_row59\" class=\"row_heading level0 row59\" >secondary_cleaner.state.floatbank3_a_air</th>\n",
       "                        <td id=\"T_e3394_row59_col0\" class=\"data row59 col0\" >0.000000</td>\n",
       "            </tr>\n",
       "            <tr>\n",
       "                        <th id=\"T_e3394_level0_row60\" class=\"row_heading level0 row60\" >secondary_cleaner.state.floatbank3_a_level</th>\n",
       "                        <td id=\"T_e3394_row60_col0\" class=\"data row60 col0\" >0.000000</td>\n",
       "            </tr>\n",
       "            <tr>\n",
       "                        <th id=\"T_e3394_level0_row61\" class=\"row_heading level0 row61\" >secondary_cleaner.state.floatbank3_b_air</th>\n",
       "                        <td id=\"T_e3394_row61_col0\" class=\"data row61 col0\" >0.000000</td>\n",
       "            </tr>\n",
       "            <tr>\n",
       "                        <th id=\"T_e3394_level0_row62\" class=\"row_heading level0 row62\" >secondary_cleaner.state.floatbank3_b_level</th>\n",
       "                        <td id=\"T_e3394_row62_col0\" class=\"data row62 col0\" >0.000000</td>\n",
       "            </tr>\n",
       "            <tr>\n",
       "                        <th id=\"T_e3394_level0_row63\" class=\"row_heading level0 row63\" >secondary_cleaner.state.floatbank4_a_air</th>\n",
       "                        <td id=\"T_e3394_row63_col0\" class=\"data row63 col0\" >0.000000</td>\n",
       "            </tr>\n",
       "            <tr>\n",
       "                        <th id=\"T_e3394_level0_row64\" class=\"row_heading level0 row64\" >secondary_cleaner.state.floatbank4_a_level</th>\n",
       "                        <td id=\"T_e3394_row64_col0\" class=\"data row64 col0\" >0.000000</td>\n",
       "            </tr>\n",
       "            <tr>\n",
       "                        <th id=\"T_e3394_level0_row65\" class=\"row_heading level0 row65\" >secondary_cleaner.state.floatbank4_b_air</th>\n",
       "                        <td id=\"T_e3394_row65_col0\" class=\"data row65 col0\" >0.000000</td>\n",
       "            </tr>\n",
       "            <tr>\n",
       "                        <th id=\"T_e3394_level0_row66\" class=\"row_heading level0 row66\" >secondary_cleaner.state.floatbank4_b_level</th>\n",
       "                        <td id=\"T_e3394_row66_col0\" class=\"data row66 col0\" >0.000000</td>\n",
       "            </tr>\n",
       "            <tr>\n",
       "                        <th id=\"T_e3394_level0_row67\" class=\"row_heading level0 row67\" >secondary_cleaner.state.floatbank5_a_air</th>\n",
       "                        <td id=\"T_e3394_row67_col0\" class=\"data row67 col0\" >0.000000</td>\n",
       "            </tr>\n",
       "            <tr>\n",
       "                        <th id=\"T_e3394_level0_row68\" class=\"row_heading level0 row68\" >secondary_cleaner.state.floatbank5_a_level</th>\n",
       "                        <td id=\"T_e3394_row68_col0\" class=\"data row68 col0\" >0.000000</td>\n",
       "            </tr>\n",
       "            <tr>\n",
       "                        <th id=\"T_e3394_level0_row69\" class=\"row_heading level0 row69\" >secondary_cleaner.state.floatbank5_b_air</th>\n",
       "                        <td id=\"T_e3394_row69_col0\" class=\"data row69 col0\" >0.000000</td>\n",
       "            </tr>\n",
       "            <tr>\n",
       "                        <th id=\"T_e3394_level0_row70\" class=\"row_heading level0 row70\" >secondary_cleaner.state.floatbank5_b_level</th>\n",
       "                        <td id=\"T_e3394_row70_col0\" class=\"data row70 col0\" >0.000000</td>\n",
       "            </tr>\n",
       "            <tr>\n",
       "                        <th id=\"T_e3394_level0_row71\" class=\"row_heading level0 row71\" >secondary_cleaner.state.floatbank6_a_air</th>\n",
       "                        <td id=\"T_e3394_row71_col0\" class=\"data row71 col0\" >0.000000</td>\n",
       "            </tr>\n",
       "            <tr>\n",
       "                        <th id=\"T_e3394_level0_row72\" class=\"row_heading level0 row72\" >secondary_cleaner.state.floatbank6_a_level</th>\n",
       "                        <td id=\"T_e3394_row72_col0\" class=\"data row72 col0\" >0.000000</td>\n",
       "            </tr>\n",
       "            <tr>\n",
       "                        <th id=\"T_e3394_level0_row73\" class=\"row_heading level0 row73\" >secondary_cleaner.output.tail_au</th>\n",
       "                        <td id=\"T_e3394_row73_col0\" class=\"data row73 col0\" >0.000000</td>\n",
       "            </tr>\n",
       "            <tr>\n",
       "                        <th id=\"T_e3394_level0_row74\" class=\"row_heading level0 row74\" >secondary_cleaner.output.tail_ag</th>\n",
       "                        <td id=\"T_e3394_row74_col0\" class=\"data row74 col0\" >0.000000</td>\n",
       "            </tr>\n",
       "            <tr>\n",
       "                        <th id=\"T_e3394_level0_row75\" class=\"row_heading level0 row75\" >secondary_cleaner.output.tail_pb</th>\n",
       "                        <td id=\"T_e3394_row75_col0\" class=\"data row75 col0\" >0.000000</td>\n",
       "            </tr>\n",
       "            <tr>\n",
       "                        <th id=\"T_e3394_level0_row76\" class=\"row_heading level0 row76\" >secondary_cleaner.output.tail_sol</th>\n",
       "                        <td id=\"T_e3394_row76_col0\" class=\"data row76 col0\" >6.000000</td>\n",
       "            </tr>\n",
       "            <tr>\n",
       "                        <th id=\"T_e3394_level0_row77\" class=\"row_heading level0 row77\" >final.output.concentrate_au</th>\n",
       "                        <td id=\"T_e3394_row77_col0\" class=\"data row77 col0\" >0.000000</td>\n",
       "            </tr>\n",
       "            <tr>\n",
       "                        <th id=\"T_e3394_level0_row78\" class=\"row_heading level0 row78\" >final.output.concentrate_ag</th>\n",
       "                        <td id=\"T_e3394_row78_col0\" class=\"data row78 col0\" >0.000000</td>\n",
       "            </tr>\n",
       "            <tr>\n",
       "                        <th id=\"T_e3394_level0_row79\" class=\"row_heading level0 row79\" >final.output.concentrate_pb</th>\n",
       "                        <td id=\"T_e3394_row79_col0\" class=\"data row79 col0\" >0.000000</td>\n",
       "            </tr>\n",
       "            <tr>\n",
       "                        <th id=\"T_e3394_level0_row80\" class=\"row_heading level0 row80\" >final.output.concentrate_sol</th>\n",
       "                        <td id=\"T_e3394_row80_col0\" class=\"data row80 col0\" >1.000000</td>\n",
       "            </tr>\n",
       "            <tr>\n",
       "                        <th id=\"T_e3394_level0_row81\" class=\"row_heading level0 row81\" >final.output.recovery</th>\n",
       "                        <td id=\"T_e3394_row81_col0\" class=\"data row81 col0\" >0.000000</td>\n",
       "            </tr>\n",
       "            <tr>\n",
       "                        <th id=\"T_e3394_level0_row82\" class=\"row_heading level0 row82\" >final.output.tail_au</th>\n",
       "                        <td id=\"T_e3394_row82_col0\" class=\"data row82 col0\" >0.000000</td>\n",
       "            </tr>\n",
       "            <tr>\n",
       "                        <th id=\"T_e3394_level0_row83\" class=\"row_heading level0 row83\" >final.output.tail_ag</th>\n",
       "                        <td id=\"T_e3394_row83_col0\" class=\"data row83 col0\" >0.000000</td>\n",
       "            </tr>\n",
       "            <tr>\n",
       "                        <th id=\"T_e3394_level0_row84\" class=\"row_heading level0 row84\" >final.output.tail_pb</th>\n",
       "                        <td id=\"T_e3394_row84_col0\" class=\"data row84 col0\" >1.000000</td>\n",
       "            </tr>\n",
       "            <tr>\n",
       "                        <th id=\"T_e3394_level0_row85\" class=\"row_heading level0 row85\" >final.output.tail_sol</th>\n",
       "                        <td id=\"T_e3394_row85_col0\" class=\"data row85 col0\" >0.000000</td>\n",
       "            </tr>\n",
       "    </tbody></table>"
      ],
      "text/plain": [
       "<pandas.io.formats.style.Styler at 0x7f1c18a962b0>"
      ]
     },
     "metadata": {},
     "output_type": "display_data"
    },
    {
     "name": "stdout",
     "output_type": "stream",
     "text": [
      "Проверяем количество явных дубликатов\n",
      "Количество дубликатов: 0\n",
      "\n"
     ]
    },
    {
     "data": {
      "text/html": [
       "<div>\n",
       "<style scoped>\n",
       "    .dataframe tbody tr th:only-of-type {\n",
       "        vertical-align: middle;\n",
       "    }\n",
       "\n",
       "    .dataframe tbody tr th {\n",
       "        vertical-align: top;\n",
       "    }\n",
       "\n",
       "    .dataframe thead th {\n",
       "        text-align: right;\n",
       "    }\n",
       "</style>\n",
       "<table border=\"1\" class=\"dataframe\">\n",
       "  <thead>\n",
       "    <tr style=\"text-align: right;\">\n",
       "      <th></th>\n",
       "      <th>rougher.input.feed_au</th>\n",
       "      <th>rougher.input.feed_ag</th>\n",
       "      <th>rougher.input.feed_pb</th>\n",
       "      <th>rougher.input.feed_sol</th>\n",
       "      <th>rougher.input.feed_rate</th>\n",
       "      <th>rougher.input.feed_size</th>\n",
       "      <th>rougher.input.floatbank10_sulfate</th>\n",
       "      <th>rougher.input.floatbank10_xanthate</th>\n",
       "      <th>rougher.state.floatbank10_a_air</th>\n",
       "      <th>rougher.state.floatbank10_a_level</th>\n",
       "      <th>...</th>\n",
       "      <th>secondary_cleaner.output.tail_sol</th>\n",
       "      <th>final.output.concentrate_au</th>\n",
       "      <th>final.output.concentrate_ag</th>\n",
       "      <th>final.output.concentrate_pb</th>\n",
       "      <th>final.output.concentrate_sol</th>\n",
       "      <th>final.output.recovery</th>\n",
       "      <th>final.output.tail_au</th>\n",
       "      <th>final.output.tail_ag</th>\n",
       "      <th>final.output.tail_pb</th>\n",
       "      <th>final.output.tail_sol</th>\n",
       "    </tr>\n",
       "  </thead>\n",
       "  <tbody>\n",
       "    <tr>\n",
       "      <th>count</th>\n",
       "      <td>14579.000000</td>\n",
       "      <td>14579.000000</td>\n",
       "      <td>14507.000000</td>\n",
       "      <td>14502.000000</td>\n",
       "      <td>14572.000000</td>\n",
       "      <td>14478.000000</td>\n",
       "      <td>14548.000000</td>\n",
       "      <td>14572.000000</td>\n",
       "      <td>14579.000000</td>\n",
       "      <td>14579.000000</td>\n",
       "      <td>...</td>\n",
       "      <td>13659.000000</td>\n",
       "      <td>14579.000000</td>\n",
       "      <td>14578.000000</td>\n",
       "      <td>14578.000000</td>\n",
       "      <td>14387.000000</td>\n",
       "      <td>14579.000000</td>\n",
       "      <td>14579.000000</td>\n",
       "      <td>14578.000000</td>\n",
       "      <td>14504.000000</td>\n",
       "      <td>14574.000000</td>\n",
       "    </tr>\n",
       "    <tr>\n",
       "      <th>mean</th>\n",
       "      <td>8.352941</td>\n",
       "      <td>8.877460</td>\n",
       "      <td>3.604221</td>\n",
       "      <td>36.561420</td>\n",
       "      <td>474.332784</td>\n",
       "      <td>58.922712</td>\n",
       "      <td>12.427399</td>\n",
       "      <td>5.994854</td>\n",
       "      <td>1104.208278</td>\n",
       "      <td>-379.367166</td>\n",
       "      <td>...</td>\n",
       "      <td>7.111347</td>\n",
       "      <td>43.979499</td>\n",
       "      <td>5.192145</td>\n",
       "      <td>9.923809</td>\n",
       "      <td>9.566676</td>\n",
       "      <td>66.759066</td>\n",
       "      <td>3.087939</td>\n",
       "      <td>9.731972</td>\n",
       "      <td>2.719985</td>\n",
       "      <td>10.612745</td>\n",
       "    </tr>\n",
       "    <tr>\n",
       "      <th>std</th>\n",
       "      <td>1.934376</td>\n",
       "      <td>1.922536</td>\n",
       "      <td>1.056063</td>\n",
       "      <td>5.209823</td>\n",
       "      <td>108.503552</td>\n",
       "      <td>22.407410</td>\n",
       "      <td>3.428939</td>\n",
       "      <td>1.152873</td>\n",
       "      <td>162.235606</td>\n",
       "      <td>94.652311</td>\n",
       "      <td>...</td>\n",
       "      <td>3.909951</td>\n",
       "      <td>5.471437</td>\n",
       "      <td>1.388014</td>\n",
       "      <td>1.706976</td>\n",
       "      <td>2.805654</td>\n",
       "      <td>10.619709</td>\n",
       "      <td>0.915187</td>\n",
       "      <td>2.358143</td>\n",
       "      <td>0.958929</td>\n",
       "      <td>2.871075</td>\n",
       "    </tr>\n",
       "    <tr>\n",
       "      <th>min</th>\n",
       "      <td>0.010000</td>\n",
       "      <td>0.010000</td>\n",
       "      <td>0.010000</td>\n",
       "      <td>0.010000</td>\n",
       "      <td>0.002986</td>\n",
       "      <td>0.049194</td>\n",
       "      <td>0.001083</td>\n",
       "      <td>0.000568</td>\n",
       "      <td>-0.042069</td>\n",
       "      <td>-657.949759</td>\n",
       "      <td>...</td>\n",
       "      <td>0.000000</td>\n",
       "      <td>0.000000</td>\n",
       "      <td>0.000000</td>\n",
       "      <td>0.000000</td>\n",
       "      <td>0.000000</td>\n",
       "      <td>0.000000</td>\n",
       "      <td>0.000000</td>\n",
       "      <td>0.000000</td>\n",
       "      <td>0.000000</td>\n",
       "      <td>0.000000</td>\n",
       "    </tr>\n",
       "    <tr>\n",
       "      <th>25%</th>\n",
       "      <td>6.932996</td>\n",
       "      <td>7.341922</td>\n",
       "      <td>2.880490</td>\n",
       "      <td>34.093951</td>\n",
       "      <td>411.048483</td>\n",
       "      <td>47.278490</td>\n",
       "      <td>10.002832</td>\n",
       "      <td>5.304167</td>\n",
       "      <td>999.644856</td>\n",
       "      <td>-499.861797</td>\n",
       "      <td>...</td>\n",
       "      <td>3.784897</td>\n",
       "      <td>43.345906</td>\n",
       "      <td>4.283347</td>\n",
       "      <td>9.103183</td>\n",
       "      <td>7.860030</td>\n",
       "      <td>63.114596</td>\n",
       "      <td>2.505287</td>\n",
       "      <td>8.088928</td>\n",
       "      <td>2.036512</td>\n",
       "      <td>9.013412</td>\n",
       "    </tr>\n",
       "    <tr>\n",
       "      <th>50%</th>\n",
       "      <td>8.225284</td>\n",
       "      <td>8.715859</td>\n",
       "      <td>3.532399</td>\n",
       "      <td>37.097511</td>\n",
       "      <td>498.187968</td>\n",
       "      <td>54.361187</td>\n",
       "      <td>12.003320</td>\n",
       "      <td>6.003053</td>\n",
       "      <td>1000.982624</td>\n",
       "      <td>-300.314199</td>\n",
       "      <td>...</td>\n",
       "      <td>7.629968</td>\n",
       "      <td>44.975014</td>\n",
       "      <td>5.118647</td>\n",
       "      <td>10.046455</td>\n",
       "      <td>9.301970</td>\n",
       "      <td>67.962788</td>\n",
       "      <td>3.029238</td>\n",
       "      <td>9.818512</td>\n",
       "      <td>2.774847</td>\n",
       "      <td>10.670515</td>\n",
       "    </tr>\n",
       "    <tr>\n",
       "      <th>75%</th>\n",
       "      <td>9.832210</td>\n",
       "      <td>10.255843</td>\n",
       "      <td>4.257282</td>\n",
       "      <td>39.899799</td>\n",
       "      <td>549.586552</td>\n",
       "      <td>64.464926</td>\n",
       "      <td>14.929903</td>\n",
       "      <td>6.796632</td>\n",
       "      <td>1292.663971</td>\n",
       "      <td>-299.989315</td>\n",
       "      <td>...</td>\n",
       "      <td>10.367050</td>\n",
       "      <td>46.275153</td>\n",
       "      <td>5.925380</td>\n",
       "      <td>10.981203</td>\n",
       "      <td>11.001573</td>\n",
       "      <td>72.598187</td>\n",
       "      <td>3.614098</td>\n",
       "      <td>11.169187</td>\n",
       "      <td>3.353845</td>\n",
       "      <td>12.130827</td>\n",
       "    </tr>\n",
       "    <tr>\n",
       "      <th>max</th>\n",
       "      <td>13.731330</td>\n",
       "      <td>14.596026</td>\n",
       "      <td>7.052325</td>\n",
       "      <td>53.475325</td>\n",
       "      <td>717.508837</td>\n",
       "      <td>484.967466</td>\n",
       "      <td>36.118275</td>\n",
       "      <td>9.703448</td>\n",
       "      <td>1512.299531</td>\n",
       "      <td>-273.776101</td>\n",
       "      <td>...</td>\n",
       "      <td>26.000772</td>\n",
       "      <td>52.756638</td>\n",
       "      <td>16.001945</td>\n",
       "      <td>16.705297</td>\n",
       "      <td>19.423912</td>\n",
       "      <td>100.000000</td>\n",
       "      <td>8.245022</td>\n",
       "      <td>19.552149</td>\n",
       "      <td>5.804178</td>\n",
       "      <td>22.317730</td>\n",
       "    </tr>\n",
       "  </tbody>\n",
       "</table>\n",
       "<p>8 rows × 86 columns</p>\n",
       "</div>"
      ],
      "text/plain": [
       "       rougher.input.feed_au  rougher.input.feed_ag  rougher.input.feed_pb  \\\n",
       "count           14579.000000           14579.000000           14507.000000   \n",
       "mean                8.352941               8.877460               3.604221   \n",
       "std                 1.934376               1.922536               1.056063   \n",
       "min                 0.010000               0.010000               0.010000   \n",
       "25%                 6.932996               7.341922               2.880490   \n",
       "50%                 8.225284               8.715859               3.532399   \n",
       "75%                 9.832210              10.255843               4.257282   \n",
       "max                13.731330              14.596026               7.052325   \n",
       "\n",
       "       rougher.input.feed_sol  rougher.input.feed_rate  \\\n",
       "count            14502.000000             14572.000000   \n",
       "mean                36.561420               474.332784   \n",
       "std                  5.209823               108.503552   \n",
       "min                  0.010000                 0.002986   \n",
       "25%                 34.093951               411.048483   \n",
       "50%                 37.097511               498.187968   \n",
       "75%                 39.899799               549.586552   \n",
       "max                 53.475325               717.508837   \n",
       "\n",
       "       rougher.input.feed_size  rougher.input.floatbank10_sulfate  \\\n",
       "count             14478.000000                       14548.000000   \n",
       "mean                 58.922712                          12.427399   \n",
       "std                  22.407410                           3.428939   \n",
       "min                   0.049194                           0.001083   \n",
       "25%                  47.278490                          10.002832   \n",
       "50%                  54.361187                          12.003320   \n",
       "75%                  64.464926                          14.929903   \n",
       "max                 484.967466                          36.118275   \n",
       "\n",
       "       rougher.input.floatbank10_xanthate  rougher.state.floatbank10_a_air  \\\n",
       "count                        14572.000000                     14579.000000   \n",
       "mean                             5.994854                      1104.208278   \n",
       "std                              1.152873                       162.235606   \n",
       "min                              0.000568                        -0.042069   \n",
       "25%                              5.304167                       999.644856   \n",
       "50%                              6.003053                      1000.982624   \n",
       "75%                              6.796632                      1292.663971   \n",
       "max                              9.703448                      1512.299531   \n",
       "\n",
       "       rougher.state.floatbank10_a_level  ...  \\\n",
       "count                       14579.000000  ...   \n",
       "mean                         -379.367166  ...   \n",
       "std                            94.652311  ...   \n",
       "min                          -657.949759  ...   \n",
       "25%                          -499.861797  ...   \n",
       "50%                          -300.314199  ...   \n",
       "75%                          -299.989315  ...   \n",
       "max                          -273.776101  ...   \n",
       "\n",
       "       secondary_cleaner.output.tail_sol  final.output.concentrate_au  \\\n",
       "count                       13659.000000                 14579.000000   \n",
       "mean                            7.111347                    43.979499   \n",
       "std                             3.909951                     5.471437   \n",
       "min                             0.000000                     0.000000   \n",
       "25%                             3.784897                    43.345906   \n",
       "50%                             7.629968                    44.975014   \n",
       "75%                            10.367050                    46.275153   \n",
       "max                            26.000772                    52.756638   \n",
       "\n",
       "       final.output.concentrate_ag  final.output.concentrate_pb  \\\n",
       "count                 14578.000000                 14578.000000   \n",
       "mean                      5.192145                     9.923809   \n",
       "std                       1.388014                     1.706976   \n",
       "min                       0.000000                     0.000000   \n",
       "25%                       4.283347                     9.103183   \n",
       "50%                       5.118647                    10.046455   \n",
       "75%                       5.925380                    10.981203   \n",
       "max                      16.001945                    16.705297   \n",
       "\n",
       "       final.output.concentrate_sol  final.output.recovery  \\\n",
       "count                  14387.000000           14579.000000   \n",
       "mean                       9.566676              66.759066   \n",
       "std                        2.805654              10.619709   \n",
       "min                        0.000000               0.000000   \n",
       "25%                        7.860030              63.114596   \n",
       "50%                        9.301970              67.962788   \n",
       "75%                       11.001573              72.598187   \n",
       "max                       19.423912             100.000000   \n",
       "\n",
       "       final.output.tail_au  final.output.tail_ag  final.output.tail_pb  \\\n",
       "count          14579.000000          14578.000000          14504.000000   \n",
       "mean               3.087939              9.731972              2.719985   \n",
       "std                0.915187              2.358143              0.958929   \n",
       "min                0.000000              0.000000              0.000000   \n",
       "25%                2.505287              8.088928              2.036512   \n",
       "50%                3.029238              9.818512              2.774847   \n",
       "75%                3.614098             11.169187              3.353845   \n",
       "max                8.245022             19.552149              5.804178   \n",
       "\n",
       "       final.output.tail_sol  \n",
       "count           14574.000000  \n",
       "mean               10.612745  \n",
       "std                 2.871075  \n",
       "min                 0.000000  \n",
       "25%                 9.013412  \n",
       "50%                10.670515  \n",
       "75%                12.130827  \n",
       "max                22.317730  \n",
       "\n",
       "[8 rows x 86 columns]"
      ]
     },
     "metadata": {},
     "output_type": "display_data"
    },
    {
     "name": "stdout",
     "output_type": "stream",
     "text": [
      "Следующий датафрейм:\n"
     ]
    },
    {
     "data": {
      "text/html": [
       "<div>\n",
       "<style scoped>\n",
       "    .dataframe tbody tr th:only-of-type {\n",
       "        vertical-align: middle;\n",
       "    }\n",
       "\n",
       "    .dataframe tbody tr th {\n",
       "        vertical-align: top;\n",
       "    }\n",
       "\n",
       "    .dataframe thead th {\n",
       "        text-align: right;\n",
       "    }\n",
       "</style>\n",
       "<table border=\"1\" class=\"dataframe\">\n",
       "  <thead>\n",
       "    <tr style=\"text-align: right;\">\n",
       "      <th></th>\n",
       "      <th>rougher.input.feed_au</th>\n",
       "      <th>rougher.input.feed_ag</th>\n",
       "      <th>rougher.input.feed_pb</th>\n",
       "      <th>rougher.input.feed_sol</th>\n",
       "      <th>rougher.input.feed_rate</th>\n",
       "      <th>rougher.input.feed_size</th>\n",
       "      <th>rougher.input.floatbank10_sulfate</th>\n",
       "      <th>rougher.input.floatbank10_xanthate</th>\n",
       "      <th>rougher.state.floatbank10_a_air</th>\n",
       "      <th>rougher.state.floatbank10_a_level</th>\n",
       "      <th>...</th>\n",
       "      <th>secondary_cleaner.state.floatbank4_a_air</th>\n",
       "      <th>secondary_cleaner.state.floatbank4_a_level</th>\n",
       "      <th>secondary_cleaner.state.floatbank4_b_air</th>\n",
       "      <th>secondary_cleaner.state.floatbank4_b_level</th>\n",
       "      <th>secondary_cleaner.state.floatbank5_a_air</th>\n",
       "      <th>secondary_cleaner.state.floatbank5_a_level</th>\n",
       "      <th>secondary_cleaner.state.floatbank5_b_air</th>\n",
       "      <th>secondary_cleaner.state.floatbank5_b_level</th>\n",
       "      <th>secondary_cleaner.state.floatbank6_a_air</th>\n",
       "      <th>secondary_cleaner.state.floatbank6_a_level</th>\n",
       "    </tr>\n",
       "    <tr>\n",
       "      <th>date</th>\n",
       "      <th></th>\n",
       "      <th></th>\n",
       "      <th></th>\n",
       "      <th></th>\n",
       "      <th></th>\n",
       "      <th></th>\n",
       "      <th></th>\n",
       "      <th></th>\n",
       "      <th></th>\n",
       "      <th></th>\n",
       "      <th></th>\n",
       "      <th></th>\n",
       "      <th></th>\n",
       "      <th></th>\n",
       "      <th></th>\n",
       "      <th></th>\n",
       "      <th></th>\n",
       "      <th></th>\n",
       "      <th></th>\n",
       "      <th></th>\n",
       "      <th></th>\n",
       "    </tr>\n",
       "  </thead>\n",
       "  <tbody>\n",
       "    <tr>\n",
       "      <th>2017-12-09 14:59:59</th>\n",
       "      <td>4.365491</td>\n",
       "      <td>6.158718</td>\n",
       "      <td>3.875727</td>\n",
       "      <td>39.135119</td>\n",
       "      <td>555.820208</td>\n",
       "      <td>94.544358</td>\n",
       "      <td>6.146982</td>\n",
       "      <td>9.308612</td>\n",
       "      <td>1196.238112</td>\n",
       "      <td>-299.862743</td>\n",
       "      <td>...</td>\n",
       "      <td>23.018622</td>\n",
       "      <td>-500.492702</td>\n",
       "      <td>20.020205</td>\n",
       "      <td>-500.220296</td>\n",
       "      <td>17.963512</td>\n",
       "      <td>-499.939490</td>\n",
       "      <td>12.990306</td>\n",
       "      <td>-500.080993</td>\n",
       "      <td>19.990336</td>\n",
       "      <td>-499.191575</td>\n",
       "    </tr>\n",
       "    <tr>\n",
       "      <th>2017-12-09 15:59:59</th>\n",
       "      <td>4.362781</td>\n",
       "      <td>6.048130</td>\n",
       "      <td>3.902537</td>\n",
       "      <td>39.713906</td>\n",
       "      <td>544.731687</td>\n",
       "      <td>123.742430</td>\n",
       "      <td>6.210119</td>\n",
       "      <td>9.297709</td>\n",
       "      <td>1201.904177</td>\n",
       "      <td>-299.907308</td>\n",
       "      <td>...</td>\n",
       "      <td>23.024963</td>\n",
       "      <td>-501.153409</td>\n",
       "      <td>20.054122</td>\n",
       "      <td>-500.314711</td>\n",
       "      <td>17.979515</td>\n",
       "      <td>-499.272871</td>\n",
       "      <td>12.992404</td>\n",
       "      <td>-499.976268</td>\n",
       "      <td>20.013986</td>\n",
       "      <td>-500.625471</td>\n",
       "    </tr>\n",
       "    <tr>\n",
       "      <th>2017-12-09 16:59:59</th>\n",
       "      <td>5.081681</td>\n",
       "      <td>6.082745</td>\n",
       "      <td>4.564078</td>\n",
       "      <td>37.208683</td>\n",
       "      <td>558.155110</td>\n",
       "      <td>82.610855</td>\n",
       "      <td>7.363824</td>\n",
       "      <td>9.003562</td>\n",
       "      <td>1200.826926</td>\n",
       "      <td>-300.124116</td>\n",
       "      <td>...</td>\n",
       "      <td>22.993827</td>\n",
       "      <td>-501.559663</td>\n",
       "      <td>20.029144</td>\n",
       "      <td>-500.000662</td>\n",
       "      <td>18.012723</td>\n",
       "      <td>-500.024764</td>\n",
       "      <td>13.016445</td>\n",
       "      <td>-500.058432</td>\n",
       "      <td>19.973767</td>\n",
       "      <td>-501.394155</td>\n",
       "    </tr>\n",
       "    <tr>\n",
       "      <th>2017-12-09 17:59:59</th>\n",
       "      <td>5.145949</td>\n",
       "      <td>6.084374</td>\n",
       "      <td>4.768124</td>\n",
       "      <td>36.808874</td>\n",
       "      <td>539.713765</td>\n",
       "      <td>77.984784</td>\n",
       "      <td>6.927072</td>\n",
       "      <td>8.955597</td>\n",
       "      <td>1199.292489</td>\n",
       "      <td>-299.778385</td>\n",
       "      <td>...</td>\n",
       "      <td>23.032807</td>\n",
       "      <td>-501.287889</td>\n",
       "      <td>19.977466</td>\n",
       "      <td>-500.159903</td>\n",
       "      <td>17.980463</td>\n",
       "      <td>-500.504602</td>\n",
       "      <td>12.949071</td>\n",
       "      <td>-500.009937</td>\n",
       "      <td>20.010332</td>\n",
       "      <td>-508.337973</td>\n",
       "    </tr>\n",
       "    <tr>\n",
       "      <th>2017-12-09 18:59:59</th>\n",
       "      <td>5.735249</td>\n",
       "      <td>6.165220</td>\n",
       "      <td>4.512346</td>\n",
       "      <td>37.810642</td>\n",
       "      <td>558.713584</td>\n",
       "      <td>86.434874</td>\n",
       "      <td>7.823471</td>\n",
       "      <td>7.490356</td>\n",
       "      <td>1198.005449</td>\n",
       "      <td>-300.283401</td>\n",
       "      <td>...</td>\n",
       "      <td>23.001911</td>\n",
       "      <td>-499.947838</td>\n",
       "      <td>20.023735</td>\n",
       "      <td>-499.713680</td>\n",
       "      <td>17.990955</td>\n",
       "      <td>-500.334769</td>\n",
       "      <td>13.007523</td>\n",
       "      <td>-499.968459</td>\n",
       "      <td>19.995999</td>\n",
       "      <td>-499.788805</td>\n",
       "    </tr>\n",
       "  </tbody>\n",
       "</table>\n",
       "<p>5 rows × 52 columns</p>\n",
       "</div>"
      ],
      "text/plain": [
       "                     rougher.input.feed_au  rougher.input.feed_ag  \\\n",
       "date                                                                \n",
       "2017-12-09 14:59:59               4.365491               6.158718   \n",
       "2017-12-09 15:59:59               4.362781               6.048130   \n",
       "2017-12-09 16:59:59               5.081681               6.082745   \n",
       "2017-12-09 17:59:59               5.145949               6.084374   \n",
       "2017-12-09 18:59:59               5.735249               6.165220   \n",
       "\n",
       "                     rougher.input.feed_pb  rougher.input.feed_sol  \\\n",
       "date                                                                 \n",
       "2017-12-09 14:59:59               3.875727               39.135119   \n",
       "2017-12-09 15:59:59               3.902537               39.713906   \n",
       "2017-12-09 16:59:59               4.564078               37.208683   \n",
       "2017-12-09 17:59:59               4.768124               36.808874   \n",
       "2017-12-09 18:59:59               4.512346               37.810642   \n",
       "\n",
       "                     rougher.input.feed_rate  rougher.input.feed_size  \\\n",
       "date                                                                    \n",
       "2017-12-09 14:59:59               555.820208                94.544358   \n",
       "2017-12-09 15:59:59               544.731687               123.742430   \n",
       "2017-12-09 16:59:59               558.155110                82.610855   \n",
       "2017-12-09 17:59:59               539.713765                77.984784   \n",
       "2017-12-09 18:59:59               558.713584                86.434874   \n",
       "\n",
       "                     rougher.input.floatbank10_sulfate  \\\n",
       "date                                                     \n",
       "2017-12-09 14:59:59                           6.146982   \n",
       "2017-12-09 15:59:59                           6.210119   \n",
       "2017-12-09 16:59:59                           7.363824   \n",
       "2017-12-09 17:59:59                           6.927072   \n",
       "2017-12-09 18:59:59                           7.823471   \n",
       "\n",
       "                     rougher.input.floatbank10_xanthate  \\\n",
       "date                                                      \n",
       "2017-12-09 14:59:59                            9.308612   \n",
       "2017-12-09 15:59:59                            9.297709   \n",
       "2017-12-09 16:59:59                            9.003562   \n",
       "2017-12-09 17:59:59                            8.955597   \n",
       "2017-12-09 18:59:59                            7.490356   \n",
       "\n",
       "                     rougher.state.floatbank10_a_air  \\\n",
       "date                                                   \n",
       "2017-12-09 14:59:59                      1196.238112   \n",
       "2017-12-09 15:59:59                      1201.904177   \n",
       "2017-12-09 16:59:59                      1200.826926   \n",
       "2017-12-09 17:59:59                      1199.292489   \n",
       "2017-12-09 18:59:59                      1198.005449   \n",
       "\n",
       "                     rougher.state.floatbank10_a_level  ...  \\\n",
       "date                                                    ...   \n",
       "2017-12-09 14:59:59                        -299.862743  ...   \n",
       "2017-12-09 15:59:59                        -299.907308  ...   \n",
       "2017-12-09 16:59:59                        -300.124116  ...   \n",
       "2017-12-09 17:59:59                        -299.778385  ...   \n",
       "2017-12-09 18:59:59                        -300.283401  ...   \n",
       "\n",
       "                     secondary_cleaner.state.floatbank4_a_air  \\\n",
       "date                                                            \n",
       "2017-12-09 14:59:59                                 23.018622   \n",
       "2017-12-09 15:59:59                                 23.024963   \n",
       "2017-12-09 16:59:59                                 22.993827   \n",
       "2017-12-09 17:59:59                                 23.032807   \n",
       "2017-12-09 18:59:59                                 23.001911   \n",
       "\n",
       "                     secondary_cleaner.state.floatbank4_a_level  \\\n",
       "date                                                              \n",
       "2017-12-09 14:59:59                                 -500.492702   \n",
       "2017-12-09 15:59:59                                 -501.153409   \n",
       "2017-12-09 16:59:59                                 -501.559663   \n",
       "2017-12-09 17:59:59                                 -501.287889   \n",
       "2017-12-09 18:59:59                                 -499.947838   \n",
       "\n",
       "                     secondary_cleaner.state.floatbank4_b_air  \\\n",
       "date                                                            \n",
       "2017-12-09 14:59:59                                 20.020205   \n",
       "2017-12-09 15:59:59                                 20.054122   \n",
       "2017-12-09 16:59:59                                 20.029144   \n",
       "2017-12-09 17:59:59                                 19.977466   \n",
       "2017-12-09 18:59:59                                 20.023735   \n",
       "\n",
       "                     secondary_cleaner.state.floatbank4_b_level  \\\n",
       "date                                                              \n",
       "2017-12-09 14:59:59                                 -500.220296   \n",
       "2017-12-09 15:59:59                                 -500.314711   \n",
       "2017-12-09 16:59:59                                 -500.000662   \n",
       "2017-12-09 17:59:59                                 -500.159903   \n",
       "2017-12-09 18:59:59                                 -499.713680   \n",
       "\n",
       "                     secondary_cleaner.state.floatbank5_a_air  \\\n",
       "date                                                            \n",
       "2017-12-09 14:59:59                                 17.963512   \n",
       "2017-12-09 15:59:59                                 17.979515   \n",
       "2017-12-09 16:59:59                                 18.012723   \n",
       "2017-12-09 17:59:59                                 17.980463   \n",
       "2017-12-09 18:59:59                                 17.990955   \n",
       "\n",
       "                     secondary_cleaner.state.floatbank5_a_level  \\\n",
       "date                                                              \n",
       "2017-12-09 14:59:59                                 -499.939490   \n",
       "2017-12-09 15:59:59                                 -499.272871   \n",
       "2017-12-09 16:59:59                                 -500.024764   \n",
       "2017-12-09 17:59:59                                 -500.504602   \n",
       "2017-12-09 18:59:59                                 -500.334769   \n",
       "\n",
       "                     secondary_cleaner.state.floatbank5_b_air  \\\n",
       "date                                                            \n",
       "2017-12-09 14:59:59                                 12.990306   \n",
       "2017-12-09 15:59:59                                 12.992404   \n",
       "2017-12-09 16:59:59                                 13.016445   \n",
       "2017-12-09 17:59:59                                 12.949071   \n",
       "2017-12-09 18:59:59                                 13.007523   \n",
       "\n",
       "                     secondary_cleaner.state.floatbank5_b_level  \\\n",
       "date                                                              \n",
       "2017-12-09 14:59:59                                 -500.080993   \n",
       "2017-12-09 15:59:59                                 -499.976268   \n",
       "2017-12-09 16:59:59                                 -500.058432   \n",
       "2017-12-09 17:59:59                                 -500.009937   \n",
       "2017-12-09 18:59:59                                 -499.968459   \n",
       "\n",
       "                     secondary_cleaner.state.floatbank6_a_air  \\\n",
       "date                                                            \n",
       "2017-12-09 14:59:59                                 19.990336   \n",
       "2017-12-09 15:59:59                                 20.013986   \n",
       "2017-12-09 16:59:59                                 19.973767   \n",
       "2017-12-09 17:59:59                                 20.010332   \n",
       "2017-12-09 18:59:59                                 19.995999   \n",
       "\n",
       "                     secondary_cleaner.state.floatbank6_a_level  \n",
       "date                                                             \n",
       "2017-12-09 14:59:59                                 -499.191575  \n",
       "2017-12-09 15:59:59                                 -500.625471  \n",
       "2017-12-09 16:59:59                                 -501.394155  \n",
       "2017-12-09 17:59:59                                 -508.337973  \n",
       "2017-12-09 18:59:59                                 -499.788805  \n",
       "\n",
       "[5 rows x 52 columns]"
      ]
     },
     "metadata": {},
     "output_type": "display_data"
    },
    {
     "name": "stdout",
     "output_type": "stream",
     "text": [
      "\n",
      "<class 'pandas.core.frame.DataFrame'>\n",
      "Index: 4860 entries, 2017-12-09 14:59:59 to 2018-08-18 10:59:59\n",
      "Data columns (total 52 columns):\n",
      " #   Column                                      Non-Null Count  Dtype  \n",
      "---  ------                                      --------------  -----  \n",
      " 0   rougher.input.feed_au                       4860 non-null   float64\n",
      " 1   rougher.input.feed_ag                       4860 non-null   float64\n",
      " 2   rougher.input.feed_pb                       4832 non-null   float64\n",
      " 3   rougher.input.feed_sol                      4838 non-null   float64\n",
      " 4   rougher.input.feed_rate                     4856 non-null   float64\n",
      " 5   rougher.input.feed_size                     4816 non-null   float64\n",
      " 6   rougher.input.floatbank10_sulfate           4857 non-null   float64\n",
      " 7   rougher.input.floatbank10_xanthate          4859 non-null   float64\n",
      " 8   rougher.state.floatbank10_a_air             4859 non-null   float64\n",
      " 9   rougher.state.floatbank10_a_level           4859 non-null   float64\n",
      " 10  rougher.state.floatbank10_b_air             4859 non-null   float64\n",
      " 11  rougher.state.floatbank10_b_level           4859 non-null   float64\n",
      " 12  rougher.state.floatbank10_c_air             4859 non-null   float64\n",
      " 13  rougher.state.floatbank10_c_level           4859 non-null   float64\n",
      " 14  rougher.state.floatbank10_d_air             4860 non-null   float64\n",
      " 15  rougher.state.floatbank10_d_level           4860 non-null   float64\n",
      " 16  rougher.state.floatbank10_e_air             4853 non-null   float64\n",
      " 17  rougher.state.floatbank10_e_level           4860 non-null   float64\n",
      " 18  rougher.state.floatbank10_f_air             4860 non-null   float64\n",
      " 19  rougher.state.floatbank10_f_level           4860 non-null   float64\n",
      " 20  rougher.input.floatbank11_sulfate           4852 non-null   float64\n",
      " 21  rougher.input.floatbank11_xanthate          4814 non-null   float64\n",
      " 22  primary_cleaner.input.sulfate               4859 non-null   float64\n",
      " 23  primary_cleaner.input.depressant            4851 non-null   float64\n",
      " 24  primary_cleaner.input.feed_size             4860 non-null   float64\n",
      " 25  primary_cleaner.input.xanthate              4817 non-null   float64\n",
      " 26  primary_cleaner.state.floatbank8_a_air      4859 non-null   float64\n",
      " 27  primary_cleaner.state.floatbank8_a_level    4859 non-null   float64\n",
      " 28  primary_cleaner.state.floatbank8_b_air      4859 non-null   float64\n",
      " 29  primary_cleaner.state.floatbank8_b_level    4859 non-null   float64\n",
      " 30  primary_cleaner.state.floatbank8_c_air      4858 non-null   float64\n",
      " 31  primary_cleaner.state.floatbank8_c_level    4859 non-null   float64\n",
      " 32  primary_cleaner.state.floatbank8_d_air      4858 non-null   float64\n",
      " 33  primary_cleaner.state.floatbank8_d_level    4859 non-null   float64\n",
      " 34  secondary_cleaner.state.floatbank2_a_air    4734 non-null   float64\n",
      " 35  secondary_cleaner.state.floatbank2_a_level  4859 non-null   float64\n",
      " 36  secondary_cleaner.state.floatbank2_b_air    4859 non-null   float64\n",
      " 37  secondary_cleaner.state.floatbank2_b_level  4859 non-null   float64\n",
      " 38  secondary_cleaner.state.floatbank3_a_air    4859 non-null   float64\n",
      " 39  secondary_cleaner.state.floatbank3_a_level  4859 non-null   float64\n",
      " 40  secondary_cleaner.state.floatbank3_b_air    4859 non-null   float64\n",
      " 41  secondary_cleaner.state.floatbank3_b_level  4859 non-null   float64\n",
      " 42  secondary_cleaner.state.floatbank4_a_air    4859 non-null   float64\n",
      " 43  secondary_cleaner.state.floatbank4_a_level  4859 non-null   float64\n",
      " 44  secondary_cleaner.state.floatbank4_b_air    4859 non-null   float64\n",
      " 45  secondary_cleaner.state.floatbank4_b_level  4859 non-null   float64\n",
      " 46  secondary_cleaner.state.floatbank5_a_air    4859 non-null   float64\n",
      " 47  secondary_cleaner.state.floatbank5_a_level  4859 non-null   float64\n",
      " 48  secondary_cleaner.state.floatbank5_b_air    4859 non-null   float64\n",
      " 49  secondary_cleaner.state.floatbank5_b_level  4859 non-null   float64\n",
      " 50  secondary_cleaner.state.floatbank6_a_air    4859 non-null   float64\n",
      " 51  secondary_cleaner.state.floatbank6_a_level  4859 non-null   float64\n",
      "dtypes: float64(52)\n",
      "memory usage: 2.0+ MB\n",
      "None\n",
      "\n",
      "Проверяем количество пропусков в %\n"
     ]
    },
    {
     "data": {
      "text/html": [
       "<style  type=\"text/css\" >\n",
       "#T_eafb2_row0_col0,#T_eafb2_row1_col0,#T_eafb2_row3_col0,#T_eafb2_row4_col0,#T_eafb2_row6_col0,#T_eafb2_row7_col0,#T_eafb2_row8_col0,#T_eafb2_row9_col0,#T_eafb2_row10_col0,#T_eafb2_row11_col0,#T_eafb2_row12_col0,#T_eafb2_row13_col0,#T_eafb2_row14_col0,#T_eafb2_row15_col0,#T_eafb2_row16_col0,#T_eafb2_row17_col0,#T_eafb2_row18_col0,#T_eafb2_row19_col0,#T_eafb2_row20_col0,#T_eafb2_row22_col0,#T_eafb2_row23_col0,#T_eafb2_row24_col0,#T_eafb2_row26_col0,#T_eafb2_row27_col0,#T_eafb2_row28_col0,#T_eafb2_row29_col0,#T_eafb2_row30_col0,#T_eafb2_row31_col0,#T_eafb2_row32_col0,#T_eafb2_row33_col0,#T_eafb2_row35_col0,#T_eafb2_row36_col0,#T_eafb2_row37_col0,#T_eafb2_row38_col0,#T_eafb2_row39_col0,#T_eafb2_row40_col0,#T_eafb2_row41_col0,#T_eafb2_row42_col0,#T_eafb2_row43_col0,#T_eafb2_row44_col0,#T_eafb2_row45_col0,#T_eafb2_row46_col0,#T_eafb2_row47_col0,#T_eafb2_row48_col0,#T_eafb2_row49_col0,#T_eafb2_row50_col0,#T_eafb2_row51_col0{\n",
       "            background-color:  #3b4cc0;\n",
       "            color:  #f1f1f1;\n",
       "        }#T_eafb2_row2_col0,#T_eafb2_row5_col0,#T_eafb2_row21_col0,#T_eafb2_row25_col0{\n",
       "            background-color:  #aac7fd;\n",
       "            color:  #000000;\n",
       "        }#T_eafb2_row34_col0{\n",
       "            background-color:  #b40426;\n",
       "            color:  #f1f1f1;\n",
       "        }</style><table id=\"T_eafb2_\" ><thead>    <tr>        <th class=\"blank level0\" ></th>        <th class=\"col_heading level0 col0\" >0</th>    </tr></thead><tbody>\n",
       "                <tr>\n",
       "                        <th id=\"T_eafb2_level0_row0\" class=\"row_heading level0 row0\" >rougher.input.feed_au</th>\n",
       "                        <td id=\"T_eafb2_row0_col0\" class=\"data row0 col0\" >0.000000</td>\n",
       "            </tr>\n",
       "            <tr>\n",
       "                        <th id=\"T_eafb2_level0_row1\" class=\"row_heading level0 row1\" >rougher.input.feed_ag</th>\n",
       "                        <td id=\"T_eafb2_row1_col0\" class=\"data row1 col0\" >0.000000</td>\n",
       "            </tr>\n",
       "            <tr>\n",
       "                        <th id=\"T_eafb2_level0_row2\" class=\"row_heading level0 row2\" >rougher.input.feed_pb</th>\n",
       "                        <td id=\"T_eafb2_row2_col0\" class=\"data row2 col0\" >1.000000</td>\n",
       "            </tr>\n",
       "            <tr>\n",
       "                        <th id=\"T_eafb2_level0_row3\" class=\"row_heading level0 row3\" >rougher.input.feed_sol</th>\n",
       "                        <td id=\"T_eafb2_row3_col0\" class=\"data row3 col0\" >0.000000</td>\n",
       "            </tr>\n",
       "            <tr>\n",
       "                        <th id=\"T_eafb2_level0_row4\" class=\"row_heading level0 row4\" >rougher.input.feed_rate</th>\n",
       "                        <td id=\"T_eafb2_row4_col0\" class=\"data row4 col0\" >0.000000</td>\n",
       "            </tr>\n",
       "            <tr>\n",
       "                        <th id=\"T_eafb2_level0_row5\" class=\"row_heading level0 row5\" >rougher.input.feed_size</th>\n",
       "                        <td id=\"T_eafb2_row5_col0\" class=\"data row5 col0\" >1.000000</td>\n",
       "            </tr>\n",
       "            <tr>\n",
       "                        <th id=\"T_eafb2_level0_row6\" class=\"row_heading level0 row6\" >rougher.input.floatbank10_sulfate</th>\n",
       "                        <td id=\"T_eafb2_row6_col0\" class=\"data row6 col0\" >0.000000</td>\n",
       "            </tr>\n",
       "            <tr>\n",
       "                        <th id=\"T_eafb2_level0_row7\" class=\"row_heading level0 row7\" >rougher.input.floatbank10_xanthate</th>\n",
       "                        <td id=\"T_eafb2_row7_col0\" class=\"data row7 col0\" >0.000000</td>\n",
       "            </tr>\n",
       "            <tr>\n",
       "                        <th id=\"T_eafb2_level0_row8\" class=\"row_heading level0 row8\" >rougher.state.floatbank10_a_air</th>\n",
       "                        <td id=\"T_eafb2_row8_col0\" class=\"data row8 col0\" >0.000000</td>\n",
       "            </tr>\n",
       "            <tr>\n",
       "                        <th id=\"T_eafb2_level0_row9\" class=\"row_heading level0 row9\" >rougher.state.floatbank10_a_level</th>\n",
       "                        <td id=\"T_eafb2_row9_col0\" class=\"data row9 col0\" >0.000000</td>\n",
       "            </tr>\n",
       "            <tr>\n",
       "                        <th id=\"T_eafb2_level0_row10\" class=\"row_heading level0 row10\" >rougher.state.floatbank10_b_air</th>\n",
       "                        <td id=\"T_eafb2_row10_col0\" class=\"data row10 col0\" >0.000000</td>\n",
       "            </tr>\n",
       "            <tr>\n",
       "                        <th id=\"T_eafb2_level0_row11\" class=\"row_heading level0 row11\" >rougher.state.floatbank10_b_level</th>\n",
       "                        <td id=\"T_eafb2_row11_col0\" class=\"data row11 col0\" >0.000000</td>\n",
       "            </tr>\n",
       "            <tr>\n",
       "                        <th id=\"T_eafb2_level0_row12\" class=\"row_heading level0 row12\" >rougher.state.floatbank10_c_air</th>\n",
       "                        <td id=\"T_eafb2_row12_col0\" class=\"data row12 col0\" >0.000000</td>\n",
       "            </tr>\n",
       "            <tr>\n",
       "                        <th id=\"T_eafb2_level0_row13\" class=\"row_heading level0 row13\" >rougher.state.floatbank10_c_level</th>\n",
       "                        <td id=\"T_eafb2_row13_col0\" class=\"data row13 col0\" >0.000000</td>\n",
       "            </tr>\n",
       "            <tr>\n",
       "                        <th id=\"T_eafb2_level0_row14\" class=\"row_heading level0 row14\" >rougher.state.floatbank10_d_air</th>\n",
       "                        <td id=\"T_eafb2_row14_col0\" class=\"data row14 col0\" >0.000000</td>\n",
       "            </tr>\n",
       "            <tr>\n",
       "                        <th id=\"T_eafb2_level0_row15\" class=\"row_heading level0 row15\" >rougher.state.floatbank10_d_level</th>\n",
       "                        <td id=\"T_eafb2_row15_col0\" class=\"data row15 col0\" >0.000000</td>\n",
       "            </tr>\n",
       "            <tr>\n",
       "                        <th id=\"T_eafb2_level0_row16\" class=\"row_heading level0 row16\" >rougher.state.floatbank10_e_air</th>\n",
       "                        <td id=\"T_eafb2_row16_col0\" class=\"data row16 col0\" >0.000000</td>\n",
       "            </tr>\n",
       "            <tr>\n",
       "                        <th id=\"T_eafb2_level0_row17\" class=\"row_heading level0 row17\" >rougher.state.floatbank10_e_level</th>\n",
       "                        <td id=\"T_eafb2_row17_col0\" class=\"data row17 col0\" >0.000000</td>\n",
       "            </tr>\n",
       "            <tr>\n",
       "                        <th id=\"T_eafb2_level0_row18\" class=\"row_heading level0 row18\" >rougher.state.floatbank10_f_air</th>\n",
       "                        <td id=\"T_eafb2_row18_col0\" class=\"data row18 col0\" >0.000000</td>\n",
       "            </tr>\n",
       "            <tr>\n",
       "                        <th id=\"T_eafb2_level0_row19\" class=\"row_heading level0 row19\" >rougher.state.floatbank10_f_level</th>\n",
       "                        <td id=\"T_eafb2_row19_col0\" class=\"data row19 col0\" >0.000000</td>\n",
       "            </tr>\n",
       "            <tr>\n",
       "                        <th id=\"T_eafb2_level0_row20\" class=\"row_heading level0 row20\" >rougher.input.floatbank11_sulfate</th>\n",
       "                        <td id=\"T_eafb2_row20_col0\" class=\"data row20 col0\" >0.000000</td>\n",
       "            </tr>\n",
       "            <tr>\n",
       "                        <th id=\"T_eafb2_level0_row21\" class=\"row_heading level0 row21\" >rougher.input.floatbank11_xanthate</th>\n",
       "                        <td id=\"T_eafb2_row21_col0\" class=\"data row21 col0\" >1.000000</td>\n",
       "            </tr>\n",
       "            <tr>\n",
       "                        <th id=\"T_eafb2_level0_row22\" class=\"row_heading level0 row22\" >primary_cleaner.input.sulfate</th>\n",
       "                        <td id=\"T_eafb2_row22_col0\" class=\"data row22 col0\" >0.000000</td>\n",
       "            </tr>\n",
       "            <tr>\n",
       "                        <th id=\"T_eafb2_level0_row23\" class=\"row_heading level0 row23\" >primary_cleaner.input.depressant</th>\n",
       "                        <td id=\"T_eafb2_row23_col0\" class=\"data row23 col0\" >0.000000</td>\n",
       "            </tr>\n",
       "            <tr>\n",
       "                        <th id=\"T_eafb2_level0_row24\" class=\"row_heading level0 row24\" >primary_cleaner.input.feed_size</th>\n",
       "                        <td id=\"T_eafb2_row24_col0\" class=\"data row24 col0\" >0.000000</td>\n",
       "            </tr>\n",
       "            <tr>\n",
       "                        <th id=\"T_eafb2_level0_row25\" class=\"row_heading level0 row25\" >primary_cleaner.input.xanthate</th>\n",
       "                        <td id=\"T_eafb2_row25_col0\" class=\"data row25 col0\" >1.000000</td>\n",
       "            </tr>\n",
       "            <tr>\n",
       "                        <th id=\"T_eafb2_level0_row26\" class=\"row_heading level0 row26\" >primary_cleaner.state.floatbank8_a_air</th>\n",
       "                        <td id=\"T_eafb2_row26_col0\" class=\"data row26 col0\" >0.000000</td>\n",
       "            </tr>\n",
       "            <tr>\n",
       "                        <th id=\"T_eafb2_level0_row27\" class=\"row_heading level0 row27\" >primary_cleaner.state.floatbank8_a_level</th>\n",
       "                        <td id=\"T_eafb2_row27_col0\" class=\"data row27 col0\" >0.000000</td>\n",
       "            </tr>\n",
       "            <tr>\n",
       "                        <th id=\"T_eafb2_level0_row28\" class=\"row_heading level0 row28\" >primary_cleaner.state.floatbank8_b_air</th>\n",
       "                        <td id=\"T_eafb2_row28_col0\" class=\"data row28 col0\" >0.000000</td>\n",
       "            </tr>\n",
       "            <tr>\n",
       "                        <th id=\"T_eafb2_level0_row29\" class=\"row_heading level0 row29\" >primary_cleaner.state.floatbank8_b_level</th>\n",
       "                        <td id=\"T_eafb2_row29_col0\" class=\"data row29 col0\" >0.000000</td>\n",
       "            </tr>\n",
       "            <tr>\n",
       "                        <th id=\"T_eafb2_level0_row30\" class=\"row_heading level0 row30\" >primary_cleaner.state.floatbank8_c_air</th>\n",
       "                        <td id=\"T_eafb2_row30_col0\" class=\"data row30 col0\" >0.000000</td>\n",
       "            </tr>\n",
       "            <tr>\n",
       "                        <th id=\"T_eafb2_level0_row31\" class=\"row_heading level0 row31\" >primary_cleaner.state.floatbank8_c_level</th>\n",
       "                        <td id=\"T_eafb2_row31_col0\" class=\"data row31 col0\" >0.000000</td>\n",
       "            </tr>\n",
       "            <tr>\n",
       "                        <th id=\"T_eafb2_level0_row32\" class=\"row_heading level0 row32\" >primary_cleaner.state.floatbank8_d_air</th>\n",
       "                        <td id=\"T_eafb2_row32_col0\" class=\"data row32 col0\" >0.000000</td>\n",
       "            </tr>\n",
       "            <tr>\n",
       "                        <th id=\"T_eafb2_level0_row33\" class=\"row_heading level0 row33\" >primary_cleaner.state.floatbank8_d_level</th>\n",
       "                        <td id=\"T_eafb2_row33_col0\" class=\"data row33 col0\" >0.000000</td>\n",
       "            </tr>\n",
       "            <tr>\n",
       "                        <th id=\"T_eafb2_level0_row34\" class=\"row_heading level0 row34\" >secondary_cleaner.state.floatbank2_a_air</th>\n",
       "                        <td id=\"T_eafb2_row34_col0\" class=\"data row34 col0\" >3.000000</td>\n",
       "            </tr>\n",
       "            <tr>\n",
       "                        <th id=\"T_eafb2_level0_row35\" class=\"row_heading level0 row35\" >secondary_cleaner.state.floatbank2_a_level</th>\n",
       "                        <td id=\"T_eafb2_row35_col0\" class=\"data row35 col0\" >0.000000</td>\n",
       "            </tr>\n",
       "            <tr>\n",
       "                        <th id=\"T_eafb2_level0_row36\" class=\"row_heading level0 row36\" >secondary_cleaner.state.floatbank2_b_air</th>\n",
       "                        <td id=\"T_eafb2_row36_col0\" class=\"data row36 col0\" >0.000000</td>\n",
       "            </tr>\n",
       "            <tr>\n",
       "                        <th id=\"T_eafb2_level0_row37\" class=\"row_heading level0 row37\" >secondary_cleaner.state.floatbank2_b_level</th>\n",
       "                        <td id=\"T_eafb2_row37_col0\" class=\"data row37 col0\" >0.000000</td>\n",
       "            </tr>\n",
       "            <tr>\n",
       "                        <th id=\"T_eafb2_level0_row38\" class=\"row_heading level0 row38\" >secondary_cleaner.state.floatbank3_a_air</th>\n",
       "                        <td id=\"T_eafb2_row38_col0\" class=\"data row38 col0\" >0.000000</td>\n",
       "            </tr>\n",
       "            <tr>\n",
       "                        <th id=\"T_eafb2_level0_row39\" class=\"row_heading level0 row39\" >secondary_cleaner.state.floatbank3_a_level</th>\n",
       "                        <td id=\"T_eafb2_row39_col0\" class=\"data row39 col0\" >0.000000</td>\n",
       "            </tr>\n",
       "            <tr>\n",
       "                        <th id=\"T_eafb2_level0_row40\" class=\"row_heading level0 row40\" >secondary_cleaner.state.floatbank3_b_air</th>\n",
       "                        <td id=\"T_eafb2_row40_col0\" class=\"data row40 col0\" >0.000000</td>\n",
       "            </tr>\n",
       "            <tr>\n",
       "                        <th id=\"T_eafb2_level0_row41\" class=\"row_heading level0 row41\" >secondary_cleaner.state.floatbank3_b_level</th>\n",
       "                        <td id=\"T_eafb2_row41_col0\" class=\"data row41 col0\" >0.000000</td>\n",
       "            </tr>\n",
       "            <tr>\n",
       "                        <th id=\"T_eafb2_level0_row42\" class=\"row_heading level0 row42\" >secondary_cleaner.state.floatbank4_a_air</th>\n",
       "                        <td id=\"T_eafb2_row42_col0\" class=\"data row42 col0\" >0.000000</td>\n",
       "            </tr>\n",
       "            <tr>\n",
       "                        <th id=\"T_eafb2_level0_row43\" class=\"row_heading level0 row43\" >secondary_cleaner.state.floatbank4_a_level</th>\n",
       "                        <td id=\"T_eafb2_row43_col0\" class=\"data row43 col0\" >0.000000</td>\n",
       "            </tr>\n",
       "            <tr>\n",
       "                        <th id=\"T_eafb2_level0_row44\" class=\"row_heading level0 row44\" >secondary_cleaner.state.floatbank4_b_air</th>\n",
       "                        <td id=\"T_eafb2_row44_col0\" class=\"data row44 col0\" >0.000000</td>\n",
       "            </tr>\n",
       "            <tr>\n",
       "                        <th id=\"T_eafb2_level0_row45\" class=\"row_heading level0 row45\" >secondary_cleaner.state.floatbank4_b_level</th>\n",
       "                        <td id=\"T_eafb2_row45_col0\" class=\"data row45 col0\" >0.000000</td>\n",
       "            </tr>\n",
       "            <tr>\n",
       "                        <th id=\"T_eafb2_level0_row46\" class=\"row_heading level0 row46\" >secondary_cleaner.state.floatbank5_a_air</th>\n",
       "                        <td id=\"T_eafb2_row46_col0\" class=\"data row46 col0\" >0.000000</td>\n",
       "            </tr>\n",
       "            <tr>\n",
       "                        <th id=\"T_eafb2_level0_row47\" class=\"row_heading level0 row47\" >secondary_cleaner.state.floatbank5_a_level</th>\n",
       "                        <td id=\"T_eafb2_row47_col0\" class=\"data row47 col0\" >0.000000</td>\n",
       "            </tr>\n",
       "            <tr>\n",
       "                        <th id=\"T_eafb2_level0_row48\" class=\"row_heading level0 row48\" >secondary_cleaner.state.floatbank5_b_air</th>\n",
       "                        <td id=\"T_eafb2_row48_col0\" class=\"data row48 col0\" >0.000000</td>\n",
       "            </tr>\n",
       "            <tr>\n",
       "                        <th id=\"T_eafb2_level0_row49\" class=\"row_heading level0 row49\" >secondary_cleaner.state.floatbank5_b_level</th>\n",
       "                        <td id=\"T_eafb2_row49_col0\" class=\"data row49 col0\" >0.000000</td>\n",
       "            </tr>\n",
       "            <tr>\n",
       "                        <th id=\"T_eafb2_level0_row50\" class=\"row_heading level0 row50\" >secondary_cleaner.state.floatbank6_a_air</th>\n",
       "                        <td id=\"T_eafb2_row50_col0\" class=\"data row50 col0\" >0.000000</td>\n",
       "            </tr>\n",
       "            <tr>\n",
       "                        <th id=\"T_eafb2_level0_row51\" class=\"row_heading level0 row51\" >secondary_cleaner.state.floatbank6_a_level</th>\n",
       "                        <td id=\"T_eafb2_row51_col0\" class=\"data row51 col0\" >0.000000</td>\n",
       "            </tr>\n",
       "    </tbody></table>"
      ],
      "text/plain": [
       "<pandas.io.formats.style.Styler at 0x7f1c188b1820>"
      ]
     },
     "metadata": {},
     "output_type": "display_data"
    },
    {
     "name": "stdout",
     "output_type": "stream",
     "text": [
      "Проверяем количество явных дубликатов\n",
      "Количество дубликатов: 0\n",
      "\n"
     ]
    },
    {
     "data": {
      "text/html": [
       "<div>\n",
       "<style scoped>\n",
       "    .dataframe tbody tr th:only-of-type {\n",
       "        vertical-align: middle;\n",
       "    }\n",
       "\n",
       "    .dataframe tbody tr th {\n",
       "        vertical-align: top;\n",
       "    }\n",
       "\n",
       "    .dataframe thead th {\n",
       "        text-align: right;\n",
       "    }\n",
       "</style>\n",
       "<table border=\"1\" class=\"dataframe\">\n",
       "  <thead>\n",
       "    <tr style=\"text-align: right;\">\n",
       "      <th></th>\n",
       "      <th>rougher.input.feed_au</th>\n",
       "      <th>rougher.input.feed_ag</th>\n",
       "      <th>rougher.input.feed_pb</th>\n",
       "      <th>rougher.input.feed_sol</th>\n",
       "      <th>rougher.input.feed_rate</th>\n",
       "      <th>rougher.input.feed_size</th>\n",
       "      <th>rougher.input.floatbank10_sulfate</th>\n",
       "      <th>rougher.input.floatbank10_xanthate</th>\n",
       "      <th>rougher.state.floatbank10_a_air</th>\n",
       "      <th>rougher.state.floatbank10_a_level</th>\n",
       "      <th>...</th>\n",
       "      <th>secondary_cleaner.state.floatbank4_a_air</th>\n",
       "      <th>secondary_cleaner.state.floatbank4_a_level</th>\n",
       "      <th>secondary_cleaner.state.floatbank4_b_air</th>\n",
       "      <th>secondary_cleaner.state.floatbank4_b_level</th>\n",
       "      <th>secondary_cleaner.state.floatbank5_a_air</th>\n",
       "      <th>secondary_cleaner.state.floatbank5_a_level</th>\n",
       "      <th>secondary_cleaner.state.floatbank5_b_air</th>\n",
       "      <th>secondary_cleaner.state.floatbank5_b_level</th>\n",
       "      <th>secondary_cleaner.state.floatbank6_a_air</th>\n",
       "      <th>secondary_cleaner.state.floatbank6_a_level</th>\n",
       "    </tr>\n",
       "  </thead>\n",
       "  <tbody>\n",
       "    <tr>\n",
       "      <th>count</th>\n",
       "      <td>4860.000000</td>\n",
       "      <td>4860.000000</td>\n",
       "      <td>4832.000000</td>\n",
       "      <td>4838.000000</td>\n",
       "      <td>4856.000000</td>\n",
       "      <td>4816.000000</td>\n",
       "      <td>4857.000000</td>\n",
       "      <td>4859.000000</td>\n",
       "      <td>4859.000000</td>\n",
       "      <td>4859.000000</td>\n",
       "      <td>...</td>\n",
       "      <td>4.859000e+03</td>\n",
       "      <td>4859.000000</td>\n",
       "      <td>4.859000e+03</td>\n",
       "      <td>4859.000000</td>\n",
       "      <td>4859.000000</td>\n",
       "      <td>4859.000000</td>\n",
       "      <td>4859.000000</td>\n",
       "      <td>4859.000000</td>\n",
       "      <td>4859.000000</td>\n",
       "      <td>4859.000000</td>\n",
       "    </tr>\n",
       "    <tr>\n",
       "      <th>mean</th>\n",
       "      <td>8.005584</td>\n",
       "      <td>8.547348</td>\n",
       "      <td>3.579662</td>\n",
       "      <td>37.095864</td>\n",
       "      <td>490.285103</td>\n",
       "      <td>59.113400</td>\n",
       "      <td>12.055735</td>\n",
       "      <td>6.101308</td>\n",
       "      <td>1108.635895</td>\n",
       "      <td>-368.340127</td>\n",
       "      <td>...</td>\n",
       "      <td>1.985770e+01</td>\n",
       "      <td>-488.665140</td>\n",
       "      <td>1.557025e+01</td>\n",
       "      <td>-464.176507</td>\n",
       "      <td>16.594103</td>\n",
       "      <td>-490.815250</td>\n",
       "      <td>12.945971</td>\n",
       "      <td>-489.583564</td>\n",
       "      <td>19.053888</td>\n",
       "      <td>-504.678924</td>\n",
       "    </tr>\n",
       "    <tr>\n",
       "      <th>std</th>\n",
       "      <td>1.993590</td>\n",
       "      <td>1.958601</td>\n",
       "      <td>1.029377</td>\n",
       "      <td>4.926284</td>\n",
       "      <td>94.371623</td>\n",
       "      <td>19.125122</td>\n",
       "      <td>3.407642</td>\n",
       "      <td>1.042754</td>\n",
       "      <td>156.493143</td>\n",
       "      <td>91.155929</td>\n",
       "      <td>...</td>\n",
       "      <td>5.913105e+00</td>\n",
       "      <td>44.392714</td>\n",
       "      <td>4.927361e+00</td>\n",
       "      <td>65.706994</td>\n",
       "      <td>5.724305</td>\n",
       "      <td>32.258443</td>\n",
       "      <td>5.533176</td>\n",
       "      <td>37.084609</td>\n",
       "      <td>5.548996</td>\n",
       "      <td>38.690186</td>\n",
       "    </tr>\n",
       "    <tr>\n",
       "      <th>min</th>\n",
       "      <td>0.010000</td>\n",
       "      <td>0.010000</td>\n",
       "      <td>0.010000</td>\n",
       "      <td>0.010000</td>\n",
       "      <td>0.012786</td>\n",
       "      <td>0.046369</td>\n",
       "      <td>0.018907</td>\n",
       "      <td>0.015783</td>\n",
       "      <td>300.792494</td>\n",
       "      <td>-600.568138</td>\n",
       "      <td>...</td>\n",
       "      <td>1.079872e-16</td>\n",
       "      <td>-799.704969</td>\n",
       "      <td>2.489718e-17</td>\n",
       "      <td>-799.860767</td>\n",
       "      <td>-0.371498</td>\n",
       "      <td>-797.142475</td>\n",
       "      <td>1.358469</td>\n",
       "      <td>-800.006180</td>\n",
       "      <td>0.160386</td>\n",
       "      <td>-809.734800</td>\n",
       "    </tr>\n",
       "    <tr>\n",
       "      <th>25%</th>\n",
       "      <td>6.574363</td>\n",
       "      <td>6.975898</td>\n",
       "      <td>2.903612</td>\n",
       "      <td>34.510841</td>\n",
       "      <td>434.099695</td>\n",
       "      <td>47.596984</td>\n",
       "      <td>9.890429</td>\n",
       "      <td>5.499808</td>\n",
       "      <td>999.715729</td>\n",
       "      <td>-499.731972</td>\n",
       "      <td>...</td>\n",
       "      <td>1.501123e+01</td>\n",
       "      <td>-500.704004</td>\n",
       "      <td>1.202172e+01</td>\n",
       "      <td>-500.196517</td>\n",
       "      <td>11.073822</td>\n",
       "      <td>-500.483564</td>\n",
       "      <td>9.011890</td>\n",
       "      <td>-500.129913</td>\n",
       "      <td>14.963953</td>\n",
       "      <td>-500.668501</td>\n",
       "    </tr>\n",
       "    <tr>\n",
       "      <th>50%</th>\n",
       "      <td>7.812923</td>\n",
       "      <td>8.179714</td>\n",
       "      <td>3.540772</td>\n",
       "      <td>37.499761</td>\n",
       "      <td>502.118742</td>\n",
       "      <td>55.509481</td>\n",
       "      <td>11.997859</td>\n",
       "      <td>6.099805</td>\n",
       "      <td>1001.414798</td>\n",
       "      <td>-300.181367</td>\n",
       "      <td>...</td>\n",
       "      <td>1.996807e+01</td>\n",
       "      <td>-499.892919</td>\n",
       "      <td>1.501240e+01</td>\n",
       "      <td>-499.540776</td>\n",
       "      <td>16.631195</td>\n",
       "      <td>-499.873136</td>\n",
       "      <td>11.999417</td>\n",
       "      <td>-499.955304</td>\n",
       "      <td>19.960006</td>\n",
       "      <td>-500.033769</td>\n",
       "    </tr>\n",
       "    <tr>\n",
       "      <th>75%</th>\n",
       "      <td>9.556589</td>\n",
       "      <td>10.084339</td>\n",
       "      <td>4.199847</td>\n",
       "      <td>40.461315</td>\n",
       "      <td>555.596563</td>\n",
       "      <td>66.661547</td>\n",
       "      <td>14.496072</td>\n",
       "      <td>6.802101</td>\n",
       "      <td>1202.837565</td>\n",
       "      <td>-299.961547</td>\n",
       "      <td>...</td>\n",
       "      <td>2.498900e+01</td>\n",
       "      <td>-498.652030</td>\n",
       "      <td>1.999949e+01</td>\n",
       "      <td>-400.302329</td>\n",
       "      <td>19.983191</td>\n",
       "      <td>-498.852815</td>\n",
       "      <td>15.004198</td>\n",
       "      <td>-499.643776</td>\n",
       "      <td>24.974583</td>\n",
       "      <td>-499.460134</td>\n",
       "    </tr>\n",
       "    <tr>\n",
       "      <th>max</th>\n",
       "      <td>13.417156</td>\n",
       "      <td>14.533698</td>\n",
       "      <td>7.142594</td>\n",
       "      <td>53.477742</td>\n",
       "      <td>702.523396</td>\n",
       "      <td>363.989699</td>\n",
       "      <td>30.010759</td>\n",
       "      <td>9.396928</td>\n",
       "      <td>1521.980372</td>\n",
       "      <td>-281.039299</td>\n",
       "      <td>...</td>\n",
       "      <td>3.008450e+01</td>\n",
       "      <td>-383.373053</td>\n",
       "      <td>2.398898e+01</td>\n",
       "      <td>-114.250832</td>\n",
       "      <td>33.215996</td>\n",
       "      <td>-288.963521</td>\n",
       "      <td>24.177106</td>\n",
       "      <td>-141.934397</td>\n",
       "      <td>32.028529</td>\n",
       "      <td>-104.427459</td>\n",
       "    </tr>\n",
       "  </tbody>\n",
       "</table>\n",
       "<p>8 rows × 52 columns</p>\n",
       "</div>"
      ],
      "text/plain": [
       "       rougher.input.feed_au  rougher.input.feed_ag  rougher.input.feed_pb  \\\n",
       "count            4860.000000            4860.000000            4832.000000   \n",
       "mean                8.005584               8.547348               3.579662   \n",
       "std                 1.993590               1.958601               1.029377   \n",
       "min                 0.010000               0.010000               0.010000   \n",
       "25%                 6.574363               6.975898               2.903612   \n",
       "50%                 7.812923               8.179714               3.540772   \n",
       "75%                 9.556589              10.084339               4.199847   \n",
       "max                13.417156              14.533698               7.142594   \n",
       "\n",
       "       rougher.input.feed_sol  rougher.input.feed_rate  \\\n",
       "count             4838.000000              4856.000000   \n",
       "mean                37.095864               490.285103   \n",
       "std                  4.926284                94.371623   \n",
       "min                  0.010000                 0.012786   \n",
       "25%                 34.510841               434.099695   \n",
       "50%                 37.499761               502.118742   \n",
       "75%                 40.461315               555.596563   \n",
       "max                 53.477742               702.523396   \n",
       "\n",
       "       rougher.input.feed_size  rougher.input.floatbank10_sulfate  \\\n",
       "count              4816.000000                        4857.000000   \n",
       "mean                 59.113400                          12.055735   \n",
       "std                  19.125122                           3.407642   \n",
       "min                   0.046369                           0.018907   \n",
       "25%                  47.596984                           9.890429   \n",
       "50%                  55.509481                          11.997859   \n",
       "75%                  66.661547                          14.496072   \n",
       "max                 363.989699                          30.010759   \n",
       "\n",
       "       rougher.input.floatbank10_xanthate  rougher.state.floatbank10_a_air  \\\n",
       "count                         4859.000000                      4859.000000   \n",
       "mean                             6.101308                      1108.635895   \n",
       "std                              1.042754                       156.493143   \n",
       "min                              0.015783                       300.792494   \n",
       "25%                              5.499808                       999.715729   \n",
       "50%                              6.099805                      1001.414798   \n",
       "75%                              6.802101                      1202.837565   \n",
       "max                              9.396928                      1521.980372   \n",
       "\n",
       "       rougher.state.floatbank10_a_level  ...  \\\n",
       "count                        4859.000000  ...   \n",
       "mean                         -368.340127  ...   \n",
       "std                            91.155929  ...   \n",
       "min                          -600.568138  ...   \n",
       "25%                          -499.731972  ...   \n",
       "50%                          -300.181367  ...   \n",
       "75%                          -299.961547  ...   \n",
       "max                          -281.039299  ...   \n",
       "\n",
       "       secondary_cleaner.state.floatbank4_a_air  \\\n",
       "count                              4.859000e+03   \n",
       "mean                               1.985770e+01   \n",
       "std                                5.913105e+00   \n",
       "min                                1.079872e-16   \n",
       "25%                                1.501123e+01   \n",
       "50%                                1.996807e+01   \n",
       "75%                                2.498900e+01   \n",
       "max                                3.008450e+01   \n",
       "\n",
       "       secondary_cleaner.state.floatbank4_a_level  \\\n",
       "count                                 4859.000000   \n",
       "mean                                  -488.665140   \n",
       "std                                     44.392714   \n",
       "min                                   -799.704969   \n",
       "25%                                   -500.704004   \n",
       "50%                                   -499.892919   \n",
       "75%                                   -498.652030   \n",
       "max                                   -383.373053   \n",
       "\n",
       "       secondary_cleaner.state.floatbank4_b_air  \\\n",
       "count                              4.859000e+03   \n",
       "mean                               1.557025e+01   \n",
       "std                                4.927361e+00   \n",
       "min                                2.489718e-17   \n",
       "25%                                1.202172e+01   \n",
       "50%                                1.501240e+01   \n",
       "75%                                1.999949e+01   \n",
       "max                                2.398898e+01   \n",
       "\n",
       "       secondary_cleaner.state.floatbank4_b_level  \\\n",
       "count                                 4859.000000   \n",
       "mean                                  -464.176507   \n",
       "std                                     65.706994   \n",
       "min                                   -799.860767   \n",
       "25%                                   -500.196517   \n",
       "50%                                   -499.540776   \n",
       "75%                                   -400.302329   \n",
       "max                                   -114.250832   \n",
       "\n",
       "       secondary_cleaner.state.floatbank5_a_air  \\\n",
       "count                               4859.000000   \n",
       "mean                                  16.594103   \n",
       "std                                    5.724305   \n",
       "min                                   -0.371498   \n",
       "25%                                   11.073822   \n",
       "50%                                   16.631195   \n",
       "75%                                   19.983191   \n",
       "max                                   33.215996   \n",
       "\n",
       "       secondary_cleaner.state.floatbank5_a_level  \\\n",
       "count                                 4859.000000   \n",
       "mean                                  -490.815250   \n",
       "std                                     32.258443   \n",
       "min                                   -797.142475   \n",
       "25%                                   -500.483564   \n",
       "50%                                   -499.873136   \n",
       "75%                                   -498.852815   \n",
       "max                                   -288.963521   \n",
       "\n",
       "       secondary_cleaner.state.floatbank5_b_air  \\\n",
       "count                               4859.000000   \n",
       "mean                                  12.945971   \n",
       "std                                    5.533176   \n",
       "min                                    1.358469   \n",
       "25%                                    9.011890   \n",
       "50%                                   11.999417   \n",
       "75%                                   15.004198   \n",
       "max                                   24.177106   \n",
       "\n",
       "       secondary_cleaner.state.floatbank5_b_level  \\\n",
       "count                                 4859.000000   \n",
       "mean                                  -489.583564   \n",
       "std                                     37.084609   \n",
       "min                                   -800.006180   \n",
       "25%                                   -500.129913   \n",
       "50%                                   -499.955304   \n",
       "75%                                   -499.643776   \n",
       "max                                   -141.934397   \n",
       "\n",
       "       secondary_cleaner.state.floatbank6_a_air  \\\n",
       "count                               4859.000000   \n",
       "mean                                  19.053888   \n",
       "std                                    5.548996   \n",
       "min                                    0.160386   \n",
       "25%                                   14.963953   \n",
       "50%                                   19.960006   \n",
       "75%                                   24.974583   \n",
       "max                                   32.028529   \n",
       "\n",
       "       secondary_cleaner.state.floatbank6_a_level  \n",
       "count                                 4859.000000  \n",
       "mean                                  -504.678924  \n",
       "std                                     38.690186  \n",
       "min                                   -809.734800  \n",
       "25%                                   -500.668501  \n",
       "50%                                   -500.033769  \n",
       "75%                                   -499.460134  \n",
       "max                                   -104.427459  \n",
       "\n",
       "[8 rows x 52 columns]"
      ]
     },
     "metadata": {},
     "output_type": "display_data"
    },
    {
     "name": "stdout",
     "output_type": "stream",
     "text": [
      "Следующий датафрейм:\n"
     ]
    },
    {
     "data": {
      "text/html": [
       "<div>\n",
       "<style scoped>\n",
       "    .dataframe tbody tr th:only-of-type {\n",
       "        vertical-align: middle;\n",
       "    }\n",
       "\n",
       "    .dataframe tbody tr th {\n",
       "        vertical-align: top;\n",
       "    }\n",
       "\n",
       "    .dataframe thead th {\n",
       "        text-align: right;\n",
       "    }\n",
       "</style>\n",
       "<table border=\"1\" class=\"dataframe\">\n",
       "  <thead>\n",
       "    <tr style=\"text-align: right;\">\n",
       "      <th></th>\n",
       "      <th>rougher.input.feed_au</th>\n",
       "      <th>rougher.input.feed_ag</th>\n",
       "      <th>rougher.input.feed_pb</th>\n",
       "      <th>rougher.input.feed_sol</th>\n",
       "      <th>rougher.input.feed_rate</th>\n",
       "      <th>rougher.input.feed_size</th>\n",
       "      <th>rougher.input.floatbank10_sulfate</th>\n",
       "      <th>rougher.input.floatbank10_xanthate</th>\n",
       "      <th>rougher.state.floatbank10_a_air</th>\n",
       "      <th>rougher.state.floatbank10_a_level</th>\n",
       "      <th>...</th>\n",
       "      <th>secondary_cleaner.output.tail_sol</th>\n",
       "      <th>final.output.concentrate_au</th>\n",
       "      <th>final.output.concentrate_ag</th>\n",
       "      <th>final.output.concentrate_pb</th>\n",
       "      <th>final.output.concentrate_sol</th>\n",
       "      <th>final.output.recovery</th>\n",
       "      <th>final.output.tail_au</th>\n",
       "      <th>final.output.tail_ag</th>\n",
       "      <th>final.output.tail_pb</th>\n",
       "      <th>final.output.tail_sol</th>\n",
       "    </tr>\n",
       "    <tr>\n",
       "      <th>date</th>\n",
       "      <th></th>\n",
       "      <th></th>\n",
       "      <th></th>\n",
       "      <th></th>\n",
       "      <th></th>\n",
       "      <th></th>\n",
       "      <th></th>\n",
       "      <th></th>\n",
       "      <th></th>\n",
       "      <th></th>\n",
       "      <th></th>\n",
       "      <th></th>\n",
       "      <th></th>\n",
       "      <th></th>\n",
       "      <th></th>\n",
       "      <th></th>\n",
       "      <th></th>\n",
       "      <th></th>\n",
       "      <th></th>\n",
       "      <th></th>\n",
       "      <th></th>\n",
       "    </tr>\n",
       "  </thead>\n",
       "  <tbody>\n",
       "    <tr>\n",
       "      <th>2016-01-15 00:00:00</th>\n",
       "      <td>6.486150</td>\n",
       "      <td>6.100378</td>\n",
       "      <td>2.284912</td>\n",
       "      <td>36.808594</td>\n",
       "      <td>523.546326</td>\n",
       "      <td>55.486599</td>\n",
       "      <td>11.986616</td>\n",
       "      <td>6.007990</td>\n",
       "      <td>999.706909</td>\n",
       "      <td>-404.066986</td>\n",
       "      <td>...</td>\n",
       "      <td>8.764648</td>\n",
       "      <td>42.192020</td>\n",
       "      <td>6.055403</td>\n",
       "      <td>9.889648</td>\n",
       "      <td>5.507324</td>\n",
       "      <td>70.541216</td>\n",
       "      <td>2.143149</td>\n",
       "      <td>10.411962</td>\n",
       "      <td>0.895447</td>\n",
       "      <td>16.904297</td>\n",
       "    </tr>\n",
       "    <tr>\n",
       "      <th>2016-01-15 01:00:00</th>\n",
       "      <td>6.478583</td>\n",
       "      <td>6.161113</td>\n",
       "      <td>2.266033</td>\n",
       "      <td>35.753385</td>\n",
       "      <td>525.290581</td>\n",
       "      <td>57.278666</td>\n",
       "      <td>11.971193</td>\n",
       "      <td>6.005766</td>\n",
       "      <td>1000.286398</td>\n",
       "      <td>-400.065196</td>\n",
       "      <td>...</td>\n",
       "      <td>9.001494</td>\n",
       "      <td>42.701629</td>\n",
       "      <td>6.029369</td>\n",
       "      <td>9.968944</td>\n",
       "      <td>5.257781</td>\n",
       "      <td>69.266198</td>\n",
       "      <td>2.224930</td>\n",
       "      <td>10.462676</td>\n",
       "      <td>0.927452</td>\n",
       "      <td>16.634514</td>\n",
       "    </tr>\n",
       "    <tr>\n",
       "      <th>2016-01-15 02:00:00</th>\n",
       "      <td>6.362222</td>\n",
       "      <td>6.116455</td>\n",
       "      <td>2.159622</td>\n",
       "      <td>35.971630</td>\n",
       "      <td>530.026610</td>\n",
       "      <td>57.510649</td>\n",
       "      <td>11.920603</td>\n",
       "      <td>6.197377</td>\n",
       "      <td>999.719565</td>\n",
       "      <td>-400.074028</td>\n",
       "      <td>...</td>\n",
       "      <td>8.842896</td>\n",
       "      <td>42.657501</td>\n",
       "      <td>6.055926</td>\n",
       "      <td>10.213995</td>\n",
       "      <td>5.383759</td>\n",
       "      <td>68.116445</td>\n",
       "      <td>2.257889</td>\n",
       "      <td>10.507046</td>\n",
       "      <td>0.953716</td>\n",
       "      <td>16.208849</td>\n",
       "    </tr>\n",
       "    <tr>\n",
       "      <th>2016-01-15 03:00:00</th>\n",
       "      <td>6.118189</td>\n",
       "      <td>6.043309</td>\n",
       "      <td>2.037807</td>\n",
       "      <td>36.862241</td>\n",
       "      <td>542.590390</td>\n",
       "      <td>57.792734</td>\n",
       "      <td>11.630094</td>\n",
       "      <td>6.203177</td>\n",
       "      <td>999.814770</td>\n",
       "      <td>-400.200179</td>\n",
       "      <td>...</td>\n",
       "      <td>9.122857</td>\n",
       "      <td>42.689819</td>\n",
       "      <td>6.047977</td>\n",
       "      <td>9.977019</td>\n",
       "      <td>4.858634</td>\n",
       "      <td>68.347543</td>\n",
       "      <td>2.146849</td>\n",
       "      <td>10.422762</td>\n",
       "      <td>0.883763</td>\n",
       "      <td>16.532835</td>\n",
       "    </tr>\n",
       "    <tr>\n",
       "      <th>2016-01-15 04:00:00</th>\n",
       "      <td>5.663707</td>\n",
       "      <td>6.060915</td>\n",
       "      <td>1.786875</td>\n",
       "      <td>34.347666</td>\n",
       "      <td>540.531893</td>\n",
       "      <td>56.047189</td>\n",
       "      <td>10.957755</td>\n",
       "      <td>6.198826</td>\n",
       "      <td>999.678690</td>\n",
       "      <td>-399.752729</td>\n",
       "      <td>...</td>\n",
       "      <td>8.871028</td>\n",
       "      <td>42.774141</td>\n",
       "      <td>6.148599</td>\n",
       "      <td>10.142511</td>\n",
       "      <td>4.939416</td>\n",
       "      <td>66.927016</td>\n",
       "      <td>2.055292</td>\n",
       "      <td>10.360302</td>\n",
       "      <td>0.792826</td>\n",
       "      <td>16.525686</td>\n",
       "    </tr>\n",
       "  </tbody>\n",
       "</table>\n",
       "<p>5 rows × 86 columns</p>\n",
       "</div>"
      ],
      "text/plain": [
       "                     rougher.input.feed_au  rougher.input.feed_ag  \\\n",
       "date                                                                \n",
       "2016-01-15 00:00:00               6.486150               6.100378   \n",
       "2016-01-15 01:00:00               6.478583               6.161113   \n",
       "2016-01-15 02:00:00               6.362222               6.116455   \n",
       "2016-01-15 03:00:00               6.118189               6.043309   \n",
       "2016-01-15 04:00:00               5.663707               6.060915   \n",
       "\n",
       "                     rougher.input.feed_pb  rougher.input.feed_sol  \\\n",
       "date                                                                 \n",
       "2016-01-15 00:00:00               2.284912               36.808594   \n",
       "2016-01-15 01:00:00               2.266033               35.753385   \n",
       "2016-01-15 02:00:00               2.159622               35.971630   \n",
       "2016-01-15 03:00:00               2.037807               36.862241   \n",
       "2016-01-15 04:00:00               1.786875               34.347666   \n",
       "\n",
       "                     rougher.input.feed_rate  rougher.input.feed_size  \\\n",
       "date                                                                    \n",
       "2016-01-15 00:00:00               523.546326                55.486599   \n",
       "2016-01-15 01:00:00               525.290581                57.278666   \n",
       "2016-01-15 02:00:00               530.026610                57.510649   \n",
       "2016-01-15 03:00:00               542.590390                57.792734   \n",
       "2016-01-15 04:00:00               540.531893                56.047189   \n",
       "\n",
       "                     rougher.input.floatbank10_sulfate  \\\n",
       "date                                                     \n",
       "2016-01-15 00:00:00                          11.986616   \n",
       "2016-01-15 01:00:00                          11.971193   \n",
       "2016-01-15 02:00:00                          11.920603   \n",
       "2016-01-15 03:00:00                          11.630094   \n",
       "2016-01-15 04:00:00                          10.957755   \n",
       "\n",
       "                     rougher.input.floatbank10_xanthate  \\\n",
       "date                                                      \n",
       "2016-01-15 00:00:00                            6.007990   \n",
       "2016-01-15 01:00:00                            6.005766   \n",
       "2016-01-15 02:00:00                            6.197377   \n",
       "2016-01-15 03:00:00                            6.203177   \n",
       "2016-01-15 04:00:00                            6.198826   \n",
       "\n",
       "                     rougher.state.floatbank10_a_air  \\\n",
       "date                                                   \n",
       "2016-01-15 00:00:00                       999.706909   \n",
       "2016-01-15 01:00:00                      1000.286398   \n",
       "2016-01-15 02:00:00                       999.719565   \n",
       "2016-01-15 03:00:00                       999.814770   \n",
       "2016-01-15 04:00:00                       999.678690   \n",
       "\n",
       "                     rougher.state.floatbank10_a_level  ...  \\\n",
       "date                                                    ...   \n",
       "2016-01-15 00:00:00                        -404.066986  ...   \n",
       "2016-01-15 01:00:00                        -400.065196  ...   \n",
       "2016-01-15 02:00:00                        -400.074028  ...   \n",
       "2016-01-15 03:00:00                        -400.200179  ...   \n",
       "2016-01-15 04:00:00                        -399.752729  ...   \n",
       "\n",
       "                     secondary_cleaner.output.tail_sol  \\\n",
       "date                                                     \n",
       "2016-01-15 00:00:00                           8.764648   \n",
       "2016-01-15 01:00:00                           9.001494   \n",
       "2016-01-15 02:00:00                           8.842896   \n",
       "2016-01-15 03:00:00                           9.122857   \n",
       "2016-01-15 04:00:00                           8.871028   \n",
       "\n",
       "                     final.output.concentrate_au  final.output.concentrate_ag  \\\n",
       "date                                                                            \n",
       "2016-01-15 00:00:00                    42.192020                     6.055403   \n",
       "2016-01-15 01:00:00                    42.701629                     6.029369   \n",
       "2016-01-15 02:00:00                    42.657501                     6.055926   \n",
       "2016-01-15 03:00:00                    42.689819                     6.047977   \n",
       "2016-01-15 04:00:00                    42.774141                     6.148599   \n",
       "\n",
       "                     final.output.concentrate_pb  \\\n",
       "date                                               \n",
       "2016-01-15 00:00:00                     9.889648   \n",
       "2016-01-15 01:00:00                     9.968944   \n",
       "2016-01-15 02:00:00                    10.213995   \n",
       "2016-01-15 03:00:00                     9.977019   \n",
       "2016-01-15 04:00:00                    10.142511   \n",
       "\n",
       "                     final.output.concentrate_sol  final.output.recovery  \\\n",
       "date                                                                       \n",
       "2016-01-15 00:00:00                      5.507324              70.541216   \n",
       "2016-01-15 01:00:00                      5.257781              69.266198   \n",
       "2016-01-15 02:00:00                      5.383759              68.116445   \n",
       "2016-01-15 03:00:00                      4.858634              68.347543   \n",
       "2016-01-15 04:00:00                      4.939416              66.927016   \n",
       "\n",
       "                     final.output.tail_au  final.output.tail_ag  \\\n",
       "date                                                              \n",
       "2016-01-15 00:00:00              2.143149             10.411962   \n",
       "2016-01-15 01:00:00              2.224930             10.462676   \n",
       "2016-01-15 02:00:00              2.257889             10.507046   \n",
       "2016-01-15 03:00:00              2.146849             10.422762   \n",
       "2016-01-15 04:00:00              2.055292             10.360302   \n",
       "\n",
       "                     final.output.tail_pb  final.output.tail_sol  \n",
       "date                                                              \n",
       "2016-01-15 00:00:00              0.895447              16.904297  \n",
       "2016-01-15 01:00:00              0.927452              16.634514  \n",
       "2016-01-15 02:00:00              0.953716              16.208849  \n",
       "2016-01-15 03:00:00              0.883763              16.532835  \n",
       "2016-01-15 04:00:00              0.792826              16.525686  \n",
       "\n",
       "[5 rows x 86 columns]"
      ]
     },
     "metadata": {},
     "output_type": "display_data"
    },
    {
     "name": "stdout",
     "output_type": "stream",
     "text": [
      "\n",
      "<class 'pandas.core.frame.DataFrame'>\n",
      "Index: 19439 entries, 2016-01-15 00:00:00 to 2018-08-18 10:59:59\n",
      "Data columns (total 86 columns):\n",
      " #   Column                                              Non-Null Count  Dtype  \n",
      "---  ------                                              --------------  -----  \n",
      " 0   rougher.input.feed_au                               19439 non-null  float64\n",
      " 1   rougher.input.feed_ag                               19439 non-null  float64\n",
      " 2   rougher.input.feed_pb                               19339 non-null  float64\n",
      " 3   rougher.input.feed_sol                              19340 non-null  float64\n",
      " 4   rougher.input.feed_rate                             19428 non-null  float64\n",
      " 5   rougher.input.feed_size                             19294 non-null  float64\n",
      " 6   rougher.input.floatbank10_sulfate                   19405 non-null  float64\n",
      " 7   rougher.input.floatbank10_xanthate                  19431 non-null  float64\n",
      " 8   rougher.state.floatbank10_a_air                     19438 non-null  float64\n",
      " 9   rougher.state.floatbank10_a_level                   19438 non-null  float64\n",
      " 10  rougher.state.floatbank10_b_air                     19438 non-null  float64\n",
      " 11  rougher.state.floatbank10_b_level                   19438 non-null  float64\n",
      " 12  rougher.state.floatbank10_c_air                     19438 non-null  float64\n",
      " 13  rougher.state.floatbank10_c_level                   19438 non-null  float64\n",
      " 14  rougher.state.floatbank10_d_air                     19439 non-null  float64\n",
      " 15  rougher.state.floatbank10_d_level                   19439 non-null  float64\n",
      " 16  rougher.state.floatbank10_e_air                     19003 non-null  float64\n",
      " 17  rougher.state.floatbank10_e_level                   19439 non-null  float64\n",
      " 18  rougher.state.floatbank10_f_air                     19439 non-null  float64\n",
      " 19  rougher.state.floatbank10_f_level                   19439 non-null  float64\n",
      " 20  rougher.input.floatbank11_sulfate                   19395 non-null  float64\n",
      " 21  rougher.input.floatbank11_xanthate                  18986 non-null  float64\n",
      " 22  rougher.calculation.sulfate_to_au_concentrate       19437 non-null  float64\n",
      " 23  rougher.calculation.floatbank10_sulfate_to_au_feed  19437 non-null  float64\n",
      " 24  rougher.calculation.floatbank11_sulfate_to_au_feed  19437 non-null  float64\n",
      " 25  rougher.calculation.au_pb_ratio                     19439 non-null  float64\n",
      " 26  rougher.output.concentrate_au                       19439 non-null  float64\n",
      " 27  rougher.output.concentrate_ag                       19439 non-null  float64\n",
      " 28  rougher.output.concentrate_pb                       19439 non-null  float64\n",
      " 29  rougher.output.concentrate_sol                      19416 non-null  float64\n",
      " 30  rougher.output.recovery                             19439 non-null  float64\n",
      " 31  rougher.output.tail_au                              19439 non-null  float64\n",
      " 32  rougher.output.tail_ag                              19438 non-null  float64\n",
      " 33  rougher.output.tail_pb                              19439 non-null  float64\n",
      " 34  rougher.output.tail_sol                             19439 non-null  float64\n",
      " 35  primary_cleaner.input.sulfate                       19415 non-null  float64\n",
      " 36  primary_cleaner.input.depressant                    19402 non-null  float64\n",
      " 37  primary_cleaner.input.feed_size                     19439 non-null  float64\n",
      " 38  primary_cleaner.input.xanthate                      19335 non-null  float64\n",
      " 39  primary_cleaner.state.floatbank8_a_air              19435 non-null  float64\n",
      " 40  primary_cleaner.state.floatbank8_a_level            19438 non-null  float64\n",
      " 41  primary_cleaner.state.floatbank8_b_air              19435 non-null  float64\n",
      " 42  primary_cleaner.state.floatbank8_b_level            19438 non-null  float64\n",
      " 43  primary_cleaner.state.floatbank8_c_air              19437 non-null  float64\n",
      " 44  primary_cleaner.state.floatbank8_c_level            19438 non-null  float64\n",
      " 45  primary_cleaner.state.floatbank8_d_air              19436 non-null  float64\n",
      " 46  primary_cleaner.state.floatbank8_d_level            19438 non-null  float64\n",
      " 47  primary_cleaner.output.concentrate_au               19439 non-null  float64\n",
      " 48  primary_cleaner.output.concentrate_ag               19439 non-null  float64\n",
      " 49  primary_cleaner.output.concentrate_pb               19323 non-null  float64\n",
      " 50  primary_cleaner.output.concentrate_sol              19069 non-null  float64\n",
      " 51  primary_cleaner.output.tail_au                      19439 non-null  float64\n",
      " 52  primary_cleaner.output.tail_ag                      19435 non-null  float64\n",
      " 53  primary_cleaner.output.tail_pb                      19418 non-null  float64\n",
      " 54  primary_cleaner.output.tail_sol                     19377 non-null  float64\n",
      " 55  secondary_cleaner.state.floatbank2_a_air            19219 non-null  float64\n",
      " 56  secondary_cleaner.state.floatbank2_a_level          19438 non-null  float64\n",
      " 57  secondary_cleaner.state.floatbank2_b_air            19416 non-null  float64\n",
      " 58  secondary_cleaner.state.floatbank2_b_level          19438 non-null  float64\n",
      " 59  secondary_cleaner.state.floatbank3_a_air            19426 non-null  float64\n",
      " 60  secondary_cleaner.state.floatbank3_a_level          19438 non-null  float64\n",
      " 61  secondary_cleaner.state.floatbank3_b_air            19438 non-null  float64\n",
      " 62  secondary_cleaner.state.floatbank3_b_level          19438 non-null  float64\n",
      " 63  secondary_cleaner.state.floatbank4_a_air            19433 non-null  float64\n",
      " 64  secondary_cleaner.state.floatbank4_a_level          19438 non-null  float64\n",
      " 65  secondary_cleaner.state.floatbank4_b_air            19438 non-null  float64\n",
      " 66  secondary_cleaner.state.floatbank4_b_level          19438 non-null  float64\n",
      " 67  secondary_cleaner.state.floatbank5_a_air            19438 non-null  float64\n",
      " 68  secondary_cleaner.state.floatbank5_a_level          19438 non-null  float64\n",
      " 69  secondary_cleaner.state.floatbank5_b_air            19438 non-null  float64\n",
      " 70  secondary_cleaner.state.floatbank5_b_level          19438 non-null  float64\n",
      " 71  secondary_cleaner.state.floatbank6_a_air            19437 non-null  float64\n",
      " 72  secondary_cleaner.state.floatbank6_a_level          19438 non-null  float64\n",
      " 73  secondary_cleaner.output.tail_au                    19439 non-null  float64\n",
      " 74  secondary_cleaner.output.tail_ag                    19437 non-null  float64\n",
      " 75  secondary_cleaner.output.tail_pb                    19427 non-null  float64\n",
      " 76  secondary_cleaner.output.tail_sol                   17691 non-null  float64\n",
      " 77  final.output.concentrate_au                         19439 non-null  float64\n",
      " 78  final.output.concentrate_ag                         19438 non-null  float64\n",
      " 79  final.output.concentrate_pb                         19438 non-null  float64\n",
      " 80  final.output.concentrate_sol                        19228 non-null  float64\n",
      " 81  final.output.recovery                               19439 non-null  float64\n",
      " 82  final.output.tail_au                                19439 non-null  float64\n",
      " 83  final.output.tail_ag                                19438 non-null  float64\n",
      " 84  final.output.tail_pb                                19338 non-null  float64\n",
      " 85  final.output.tail_sol                               19433 non-null  float64\n",
      "dtypes: float64(86)\n",
      "memory usage: 12.9+ MB\n",
      "None\n",
      "\n",
      "Проверяем количество пропусков в %\n"
     ]
    },
    {
     "data": {
      "text/html": [
       "<style  type=\"text/css\" >\n",
       "#T_c30d8_row0_col0,#T_c30d8_row1_col0,#T_c30d8_row4_col0,#T_c30d8_row6_col0,#T_c30d8_row7_col0,#T_c30d8_row8_col0,#T_c30d8_row9_col0,#T_c30d8_row10_col0,#T_c30d8_row11_col0,#T_c30d8_row12_col0,#T_c30d8_row13_col0,#T_c30d8_row14_col0,#T_c30d8_row15_col0,#T_c30d8_row17_col0,#T_c30d8_row18_col0,#T_c30d8_row19_col0,#T_c30d8_row20_col0,#T_c30d8_row22_col0,#T_c30d8_row23_col0,#T_c30d8_row24_col0,#T_c30d8_row25_col0,#T_c30d8_row26_col0,#T_c30d8_row27_col0,#T_c30d8_row28_col0,#T_c30d8_row29_col0,#T_c30d8_row30_col0,#T_c30d8_row31_col0,#T_c30d8_row32_col0,#T_c30d8_row33_col0,#T_c30d8_row34_col0,#T_c30d8_row35_col0,#T_c30d8_row36_col0,#T_c30d8_row37_col0,#T_c30d8_row39_col0,#T_c30d8_row40_col0,#T_c30d8_row41_col0,#T_c30d8_row42_col0,#T_c30d8_row43_col0,#T_c30d8_row44_col0,#T_c30d8_row45_col0,#T_c30d8_row46_col0,#T_c30d8_row47_col0,#T_c30d8_row48_col0,#T_c30d8_row51_col0,#T_c30d8_row52_col0,#T_c30d8_row53_col0,#T_c30d8_row54_col0,#T_c30d8_row56_col0,#T_c30d8_row57_col0,#T_c30d8_row58_col0,#T_c30d8_row59_col0,#T_c30d8_row60_col0,#T_c30d8_row61_col0,#T_c30d8_row62_col0,#T_c30d8_row63_col0,#T_c30d8_row64_col0,#T_c30d8_row65_col0,#T_c30d8_row66_col0,#T_c30d8_row67_col0,#T_c30d8_row68_col0,#T_c30d8_row69_col0,#T_c30d8_row70_col0,#T_c30d8_row71_col0,#T_c30d8_row72_col0,#T_c30d8_row73_col0,#T_c30d8_row74_col0,#T_c30d8_row75_col0,#T_c30d8_row77_col0,#T_c30d8_row78_col0,#T_c30d8_row79_col0,#T_c30d8_row81_col0,#T_c30d8_row82_col0,#T_c30d8_row83_col0,#T_c30d8_row85_col0{\n",
       "            background-color:  #3b4cc0;\n",
       "            color:  #f1f1f1;\n",
       "        }#T_c30d8_row2_col0,#T_c30d8_row3_col0,#T_c30d8_row5_col0,#T_c30d8_row38_col0,#T_c30d8_row49_col0,#T_c30d8_row55_col0,#T_c30d8_row80_col0,#T_c30d8_row84_col0{\n",
       "            background-color:  #5d7ce6;\n",
       "            color:  #000000;\n",
       "        }#T_c30d8_row16_col0,#T_c30d8_row21_col0,#T_c30d8_row50_col0{\n",
       "            background-color:  #82a6fb;\n",
       "            color:  #000000;\n",
       "        }#T_c30d8_row76_col0{\n",
       "            background-color:  #b40426;\n",
       "            color:  #f1f1f1;\n",
       "        }</style><table id=\"T_c30d8_\" ><thead>    <tr>        <th class=\"blank level0\" ></th>        <th class=\"col_heading level0 col0\" >0</th>    </tr></thead><tbody>\n",
       "                <tr>\n",
       "                        <th id=\"T_c30d8_level0_row0\" class=\"row_heading level0 row0\" >rougher.input.feed_au</th>\n",
       "                        <td id=\"T_c30d8_row0_col0\" class=\"data row0 col0\" >0.000000</td>\n",
       "            </tr>\n",
       "            <tr>\n",
       "                        <th id=\"T_c30d8_level0_row1\" class=\"row_heading level0 row1\" >rougher.input.feed_ag</th>\n",
       "                        <td id=\"T_c30d8_row1_col0\" class=\"data row1 col0\" >0.000000</td>\n",
       "            </tr>\n",
       "            <tr>\n",
       "                        <th id=\"T_c30d8_level0_row2\" class=\"row_heading level0 row2\" >rougher.input.feed_pb</th>\n",
       "                        <td id=\"T_c30d8_row2_col0\" class=\"data row2 col0\" >1.000000</td>\n",
       "            </tr>\n",
       "            <tr>\n",
       "                        <th id=\"T_c30d8_level0_row3\" class=\"row_heading level0 row3\" >rougher.input.feed_sol</th>\n",
       "                        <td id=\"T_c30d8_row3_col0\" class=\"data row3 col0\" >1.000000</td>\n",
       "            </tr>\n",
       "            <tr>\n",
       "                        <th id=\"T_c30d8_level0_row4\" class=\"row_heading level0 row4\" >rougher.input.feed_rate</th>\n",
       "                        <td id=\"T_c30d8_row4_col0\" class=\"data row4 col0\" >0.000000</td>\n",
       "            </tr>\n",
       "            <tr>\n",
       "                        <th id=\"T_c30d8_level0_row5\" class=\"row_heading level0 row5\" >rougher.input.feed_size</th>\n",
       "                        <td id=\"T_c30d8_row5_col0\" class=\"data row5 col0\" >1.000000</td>\n",
       "            </tr>\n",
       "            <tr>\n",
       "                        <th id=\"T_c30d8_level0_row6\" class=\"row_heading level0 row6\" >rougher.input.floatbank10_sulfate</th>\n",
       "                        <td id=\"T_c30d8_row6_col0\" class=\"data row6 col0\" >0.000000</td>\n",
       "            </tr>\n",
       "            <tr>\n",
       "                        <th id=\"T_c30d8_level0_row7\" class=\"row_heading level0 row7\" >rougher.input.floatbank10_xanthate</th>\n",
       "                        <td id=\"T_c30d8_row7_col0\" class=\"data row7 col0\" >0.000000</td>\n",
       "            </tr>\n",
       "            <tr>\n",
       "                        <th id=\"T_c30d8_level0_row8\" class=\"row_heading level0 row8\" >rougher.state.floatbank10_a_air</th>\n",
       "                        <td id=\"T_c30d8_row8_col0\" class=\"data row8 col0\" >0.000000</td>\n",
       "            </tr>\n",
       "            <tr>\n",
       "                        <th id=\"T_c30d8_level0_row9\" class=\"row_heading level0 row9\" >rougher.state.floatbank10_a_level</th>\n",
       "                        <td id=\"T_c30d8_row9_col0\" class=\"data row9 col0\" >0.000000</td>\n",
       "            </tr>\n",
       "            <tr>\n",
       "                        <th id=\"T_c30d8_level0_row10\" class=\"row_heading level0 row10\" >rougher.state.floatbank10_b_air</th>\n",
       "                        <td id=\"T_c30d8_row10_col0\" class=\"data row10 col0\" >0.000000</td>\n",
       "            </tr>\n",
       "            <tr>\n",
       "                        <th id=\"T_c30d8_level0_row11\" class=\"row_heading level0 row11\" >rougher.state.floatbank10_b_level</th>\n",
       "                        <td id=\"T_c30d8_row11_col0\" class=\"data row11 col0\" >0.000000</td>\n",
       "            </tr>\n",
       "            <tr>\n",
       "                        <th id=\"T_c30d8_level0_row12\" class=\"row_heading level0 row12\" >rougher.state.floatbank10_c_air</th>\n",
       "                        <td id=\"T_c30d8_row12_col0\" class=\"data row12 col0\" >0.000000</td>\n",
       "            </tr>\n",
       "            <tr>\n",
       "                        <th id=\"T_c30d8_level0_row13\" class=\"row_heading level0 row13\" >rougher.state.floatbank10_c_level</th>\n",
       "                        <td id=\"T_c30d8_row13_col0\" class=\"data row13 col0\" >0.000000</td>\n",
       "            </tr>\n",
       "            <tr>\n",
       "                        <th id=\"T_c30d8_level0_row14\" class=\"row_heading level0 row14\" >rougher.state.floatbank10_d_air</th>\n",
       "                        <td id=\"T_c30d8_row14_col0\" class=\"data row14 col0\" >0.000000</td>\n",
       "            </tr>\n",
       "            <tr>\n",
       "                        <th id=\"T_c30d8_level0_row15\" class=\"row_heading level0 row15\" >rougher.state.floatbank10_d_level</th>\n",
       "                        <td id=\"T_c30d8_row15_col0\" class=\"data row15 col0\" >0.000000</td>\n",
       "            </tr>\n",
       "            <tr>\n",
       "                        <th id=\"T_c30d8_level0_row16\" class=\"row_heading level0 row16\" >rougher.state.floatbank10_e_air</th>\n",
       "                        <td id=\"T_c30d8_row16_col0\" class=\"data row16 col0\" >2.000000</td>\n",
       "            </tr>\n",
       "            <tr>\n",
       "                        <th id=\"T_c30d8_level0_row17\" class=\"row_heading level0 row17\" >rougher.state.floatbank10_e_level</th>\n",
       "                        <td id=\"T_c30d8_row17_col0\" class=\"data row17 col0\" >0.000000</td>\n",
       "            </tr>\n",
       "            <tr>\n",
       "                        <th id=\"T_c30d8_level0_row18\" class=\"row_heading level0 row18\" >rougher.state.floatbank10_f_air</th>\n",
       "                        <td id=\"T_c30d8_row18_col0\" class=\"data row18 col0\" >0.000000</td>\n",
       "            </tr>\n",
       "            <tr>\n",
       "                        <th id=\"T_c30d8_level0_row19\" class=\"row_heading level0 row19\" >rougher.state.floatbank10_f_level</th>\n",
       "                        <td id=\"T_c30d8_row19_col0\" class=\"data row19 col0\" >0.000000</td>\n",
       "            </tr>\n",
       "            <tr>\n",
       "                        <th id=\"T_c30d8_level0_row20\" class=\"row_heading level0 row20\" >rougher.input.floatbank11_sulfate</th>\n",
       "                        <td id=\"T_c30d8_row20_col0\" class=\"data row20 col0\" >0.000000</td>\n",
       "            </tr>\n",
       "            <tr>\n",
       "                        <th id=\"T_c30d8_level0_row21\" class=\"row_heading level0 row21\" >rougher.input.floatbank11_xanthate</th>\n",
       "                        <td id=\"T_c30d8_row21_col0\" class=\"data row21 col0\" >2.000000</td>\n",
       "            </tr>\n",
       "            <tr>\n",
       "                        <th id=\"T_c30d8_level0_row22\" class=\"row_heading level0 row22\" >rougher.calculation.sulfate_to_au_concentrate</th>\n",
       "                        <td id=\"T_c30d8_row22_col0\" class=\"data row22 col0\" >0.000000</td>\n",
       "            </tr>\n",
       "            <tr>\n",
       "                        <th id=\"T_c30d8_level0_row23\" class=\"row_heading level0 row23\" >rougher.calculation.floatbank10_sulfate_to_au_feed</th>\n",
       "                        <td id=\"T_c30d8_row23_col0\" class=\"data row23 col0\" >0.000000</td>\n",
       "            </tr>\n",
       "            <tr>\n",
       "                        <th id=\"T_c30d8_level0_row24\" class=\"row_heading level0 row24\" >rougher.calculation.floatbank11_sulfate_to_au_feed</th>\n",
       "                        <td id=\"T_c30d8_row24_col0\" class=\"data row24 col0\" >0.000000</td>\n",
       "            </tr>\n",
       "            <tr>\n",
       "                        <th id=\"T_c30d8_level0_row25\" class=\"row_heading level0 row25\" >rougher.calculation.au_pb_ratio</th>\n",
       "                        <td id=\"T_c30d8_row25_col0\" class=\"data row25 col0\" >0.000000</td>\n",
       "            </tr>\n",
       "            <tr>\n",
       "                        <th id=\"T_c30d8_level0_row26\" class=\"row_heading level0 row26\" >rougher.output.concentrate_au</th>\n",
       "                        <td id=\"T_c30d8_row26_col0\" class=\"data row26 col0\" >0.000000</td>\n",
       "            </tr>\n",
       "            <tr>\n",
       "                        <th id=\"T_c30d8_level0_row27\" class=\"row_heading level0 row27\" >rougher.output.concentrate_ag</th>\n",
       "                        <td id=\"T_c30d8_row27_col0\" class=\"data row27 col0\" >0.000000</td>\n",
       "            </tr>\n",
       "            <tr>\n",
       "                        <th id=\"T_c30d8_level0_row28\" class=\"row_heading level0 row28\" >rougher.output.concentrate_pb</th>\n",
       "                        <td id=\"T_c30d8_row28_col0\" class=\"data row28 col0\" >0.000000</td>\n",
       "            </tr>\n",
       "            <tr>\n",
       "                        <th id=\"T_c30d8_level0_row29\" class=\"row_heading level0 row29\" >rougher.output.concentrate_sol</th>\n",
       "                        <td id=\"T_c30d8_row29_col0\" class=\"data row29 col0\" >0.000000</td>\n",
       "            </tr>\n",
       "            <tr>\n",
       "                        <th id=\"T_c30d8_level0_row30\" class=\"row_heading level0 row30\" >rougher.output.recovery</th>\n",
       "                        <td id=\"T_c30d8_row30_col0\" class=\"data row30 col0\" >0.000000</td>\n",
       "            </tr>\n",
       "            <tr>\n",
       "                        <th id=\"T_c30d8_level0_row31\" class=\"row_heading level0 row31\" >rougher.output.tail_au</th>\n",
       "                        <td id=\"T_c30d8_row31_col0\" class=\"data row31 col0\" >0.000000</td>\n",
       "            </tr>\n",
       "            <tr>\n",
       "                        <th id=\"T_c30d8_level0_row32\" class=\"row_heading level0 row32\" >rougher.output.tail_ag</th>\n",
       "                        <td id=\"T_c30d8_row32_col0\" class=\"data row32 col0\" >0.000000</td>\n",
       "            </tr>\n",
       "            <tr>\n",
       "                        <th id=\"T_c30d8_level0_row33\" class=\"row_heading level0 row33\" >rougher.output.tail_pb</th>\n",
       "                        <td id=\"T_c30d8_row33_col0\" class=\"data row33 col0\" >0.000000</td>\n",
       "            </tr>\n",
       "            <tr>\n",
       "                        <th id=\"T_c30d8_level0_row34\" class=\"row_heading level0 row34\" >rougher.output.tail_sol</th>\n",
       "                        <td id=\"T_c30d8_row34_col0\" class=\"data row34 col0\" >0.000000</td>\n",
       "            </tr>\n",
       "            <tr>\n",
       "                        <th id=\"T_c30d8_level0_row35\" class=\"row_heading level0 row35\" >primary_cleaner.input.sulfate</th>\n",
       "                        <td id=\"T_c30d8_row35_col0\" class=\"data row35 col0\" >0.000000</td>\n",
       "            </tr>\n",
       "            <tr>\n",
       "                        <th id=\"T_c30d8_level0_row36\" class=\"row_heading level0 row36\" >primary_cleaner.input.depressant</th>\n",
       "                        <td id=\"T_c30d8_row36_col0\" class=\"data row36 col0\" >0.000000</td>\n",
       "            </tr>\n",
       "            <tr>\n",
       "                        <th id=\"T_c30d8_level0_row37\" class=\"row_heading level0 row37\" >primary_cleaner.input.feed_size</th>\n",
       "                        <td id=\"T_c30d8_row37_col0\" class=\"data row37 col0\" >0.000000</td>\n",
       "            </tr>\n",
       "            <tr>\n",
       "                        <th id=\"T_c30d8_level0_row38\" class=\"row_heading level0 row38\" >primary_cleaner.input.xanthate</th>\n",
       "                        <td id=\"T_c30d8_row38_col0\" class=\"data row38 col0\" >1.000000</td>\n",
       "            </tr>\n",
       "            <tr>\n",
       "                        <th id=\"T_c30d8_level0_row39\" class=\"row_heading level0 row39\" >primary_cleaner.state.floatbank8_a_air</th>\n",
       "                        <td id=\"T_c30d8_row39_col0\" class=\"data row39 col0\" >0.000000</td>\n",
       "            </tr>\n",
       "            <tr>\n",
       "                        <th id=\"T_c30d8_level0_row40\" class=\"row_heading level0 row40\" >primary_cleaner.state.floatbank8_a_level</th>\n",
       "                        <td id=\"T_c30d8_row40_col0\" class=\"data row40 col0\" >0.000000</td>\n",
       "            </tr>\n",
       "            <tr>\n",
       "                        <th id=\"T_c30d8_level0_row41\" class=\"row_heading level0 row41\" >primary_cleaner.state.floatbank8_b_air</th>\n",
       "                        <td id=\"T_c30d8_row41_col0\" class=\"data row41 col0\" >0.000000</td>\n",
       "            </tr>\n",
       "            <tr>\n",
       "                        <th id=\"T_c30d8_level0_row42\" class=\"row_heading level0 row42\" >primary_cleaner.state.floatbank8_b_level</th>\n",
       "                        <td id=\"T_c30d8_row42_col0\" class=\"data row42 col0\" >0.000000</td>\n",
       "            </tr>\n",
       "            <tr>\n",
       "                        <th id=\"T_c30d8_level0_row43\" class=\"row_heading level0 row43\" >primary_cleaner.state.floatbank8_c_air</th>\n",
       "                        <td id=\"T_c30d8_row43_col0\" class=\"data row43 col0\" >0.000000</td>\n",
       "            </tr>\n",
       "            <tr>\n",
       "                        <th id=\"T_c30d8_level0_row44\" class=\"row_heading level0 row44\" >primary_cleaner.state.floatbank8_c_level</th>\n",
       "                        <td id=\"T_c30d8_row44_col0\" class=\"data row44 col0\" >0.000000</td>\n",
       "            </tr>\n",
       "            <tr>\n",
       "                        <th id=\"T_c30d8_level0_row45\" class=\"row_heading level0 row45\" >primary_cleaner.state.floatbank8_d_air</th>\n",
       "                        <td id=\"T_c30d8_row45_col0\" class=\"data row45 col0\" >0.000000</td>\n",
       "            </tr>\n",
       "            <tr>\n",
       "                        <th id=\"T_c30d8_level0_row46\" class=\"row_heading level0 row46\" >primary_cleaner.state.floatbank8_d_level</th>\n",
       "                        <td id=\"T_c30d8_row46_col0\" class=\"data row46 col0\" >0.000000</td>\n",
       "            </tr>\n",
       "            <tr>\n",
       "                        <th id=\"T_c30d8_level0_row47\" class=\"row_heading level0 row47\" >primary_cleaner.output.concentrate_au</th>\n",
       "                        <td id=\"T_c30d8_row47_col0\" class=\"data row47 col0\" >0.000000</td>\n",
       "            </tr>\n",
       "            <tr>\n",
       "                        <th id=\"T_c30d8_level0_row48\" class=\"row_heading level0 row48\" >primary_cleaner.output.concentrate_ag</th>\n",
       "                        <td id=\"T_c30d8_row48_col0\" class=\"data row48 col0\" >0.000000</td>\n",
       "            </tr>\n",
       "            <tr>\n",
       "                        <th id=\"T_c30d8_level0_row49\" class=\"row_heading level0 row49\" >primary_cleaner.output.concentrate_pb</th>\n",
       "                        <td id=\"T_c30d8_row49_col0\" class=\"data row49 col0\" >1.000000</td>\n",
       "            </tr>\n",
       "            <tr>\n",
       "                        <th id=\"T_c30d8_level0_row50\" class=\"row_heading level0 row50\" >primary_cleaner.output.concentrate_sol</th>\n",
       "                        <td id=\"T_c30d8_row50_col0\" class=\"data row50 col0\" >2.000000</td>\n",
       "            </tr>\n",
       "            <tr>\n",
       "                        <th id=\"T_c30d8_level0_row51\" class=\"row_heading level0 row51\" >primary_cleaner.output.tail_au</th>\n",
       "                        <td id=\"T_c30d8_row51_col0\" class=\"data row51 col0\" >0.000000</td>\n",
       "            </tr>\n",
       "            <tr>\n",
       "                        <th id=\"T_c30d8_level0_row52\" class=\"row_heading level0 row52\" >primary_cleaner.output.tail_ag</th>\n",
       "                        <td id=\"T_c30d8_row52_col0\" class=\"data row52 col0\" >0.000000</td>\n",
       "            </tr>\n",
       "            <tr>\n",
       "                        <th id=\"T_c30d8_level0_row53\" class=\"row_heading level0 row53\" >primary_cleaner.output.tail_pb</th>\n",
       "                        <td id=\"T_c30d8_row53_col0\" class=\"data row53 col0\" >0.000000</td>\n",
       "            </tr>\n",
       "            <tr>\n",
       "                        <th id=\"T_c30d8_level0_row54\" class=\"row_heading level0 row54\" >primary_cleaner.output.tail_sol</th>\n",
       "                        <td id=\"T_c30d8_row54_col0\" class=\"data row54 col0\" >0.000000</td>\n",
       "            </tr>\n",
       "            <tr>\n",
       "                        <th id=\"T_c30d8_level0_row55\" class=\"row_heading level0 row55\" >secondary_cleaner.state.floatbank2_a_air</th>\n",
       "                        <td id=\"T_c30d8_row55_col0\" class=\"data row55 col0\" >1.000000</td>\n",
       "            </tr>\n",
       "            <tr>\n",
       "                        <th id=\"T_c30d8_level0_row56\" class=\"row_heading level0 row56\" >secondary_cleaner.state.floatbank2_a_level</th>\n",
       "                        <td id=\"T_c30d8_row56_col0\" class=\"data row56 col0\" >0.000000</td>\n",
       "            </tr>\n",
       "            <tr>\n",
       "                        <th id=\"T_c30d8_level0_row57\" class=\"row_heading level0 row57\" >secondary_cleaner.state.floatbank2_b_air</th>\n",
       "                        <td id=\"T_c30d8_row57_col0\" class=\"data row57 col0\" >0.000000</td>\n",
       "            </tr>\n",
       "            <tr>\n",
       "                        <th id=\"T_c30d8_level0_row58\" class=\"row_heading level0 row58\" >secondary_cleaner.state.floatbank2_b_level</th>\n",
       "                        <td id=\"T_c30d8_row58_col0\" class=\"data row58 col0\" >0.000000</td>\n",
       "            </tr>\n",
       "            <tr>\n",
       "                        <th id=\"T_c30d8_level0_row59\" class=\"row_heading level0 row59\" >secondary_cleaner.state.floatbank3_a_air</th>\n",
       "                        <td id=\"T_c30d8_row59_col0\" class=\"data row59 col0\" >0.000000</td>\n",
       "            </tr>\n",
       "            <tr>\n",
       "                        <th id=\"T_c30d8_level0_row60\" class=\"row_heading level0 row60\" >secondary_cleaner.state.floatbank3_a_level</th>\n",
       "                        <td id=\"T_c30d8_row60_col0\" class=\"data row60 col0\" >0.000000</td>\n",
       "            </tr>\n",
       "            <tr>\n",
       "                        <th id=\"T_c30d8_level0_row61\" class=\"row_heading level0 row61\" >secondary_cleaner.state.floatbank3_b_air</th>\n",
       "                        <td id=\"T_c30d8_row61_col0\" class=\"data row61 col0\" >0.000000</td>\n",
       "            </tr>\n",
       "            <tr>\n",
       "                        <th id=\"T_c30d8_level0_row62\" class=\"row_heading level0 row62\" >secondary_cleaner.state.floatbank3_b_level</th>\n",
       "                        <td id=\"T_c30d8_row62_col0\" class=\"data row62 col0\" >0.000000</td>\n",
       "            </tr>\n",
       "            <tr>\n",
       "                        <th id=\"T_c30d8_level0_row63\" class=\"row_heading level0 row63\" >secondary_cleaner.state.floatbank4_a_air</th>\n",
       "                        <td id=\"T_c30d8_row63_col0\" class=\"data row63 col0\" >0.000000</td>\n",
       "            </tr>\n",
       "            <tr>\n",
       "                        <th id=\"T_c30d8_level0_row64\" class=\"row_heading level0 row64\" >secondary_cleaner.state.floatbank4_a_level</th>\n",
       "                        <td id=\"T_c30d8_row64_col0\" class=\"data row64 col0\" >0.000000</td>\n",
       "            </tr>\n",
       "            <tr>\n",
       "                        <th id=\"T_c30d8_level0_row65\" class=\"row_heading level0 row65\" >secondary_cleaner.state.floatbank4_b_air</th>\n",
       "                        <td id=\"T_c30d8_row65_col0\" class=\"data row65 col0\" >0.000000</td>\n",
       "            </tr>\n",
       "            <tr>\n",
       "                        <th id=\"T_c30d8_level0_row66\" class=\"row_heading level0 row66\" >secondary_cleaner.state.floatbank4_b_level</th>\n",
       "                        <td id=\"T_c30d8_row66_col0\" class=\"data row66 col0\" >0.000000</td>\n",
       "            </tr>\n",
       "            <tr>\n",
       "                        <th id=\"T_c30d8_level0_row67\" class=\"row_heading level0 row67\" >secondary_cleaner.state.floatbank5_a_air</th>\n",
       "                        <td id=\"T_c30d8_row67_col0\" class=\"data row67 col0\" >0.000000</td>\n",
       "            </tr>\n",
       "            <tr>\n",
       "                        <th id=\"T_c30d8_level0_row68\" class=\"row_heading level0 row68\" >secondary_cleaner.state.floatbank5_a_level</th>\n",
       "                        <td id=\"T_c30d8_row68_col0\" class=\"data row68 col0\" >0.000000</td>\n",
       "            </tr>\n",
       "            <tr>\n",
       "                        <th id=\"T_c30d8_level0_row69\" class=\"row_heading level0 row69\" >secondary_cleaner.state.floatbank5_b_air</th>\n",
       "                        <td id=\"T_c30d8_row69_col0\" class=\"data row69 col0\" >0.000000</td>\n",
       "            </tr>\n",
       "            <tr>\n",
       "                        <th id=\"T_c30d8_level0_row70\" class=\"row_heading level0 row70\" >secondary_cleaner.state.floatbank5_b_level</th>\n",
       "                        <td id=\"T_c30d8_row70_col0\" class=\"data row70 col0\" >0.000000</td>\n",
       "            </tr>\n",
       "            <tr>\n",
       "                        <th id=\"T_c30d8_level0_row71\" class=\"row_heading level0 row71\" >secondary_cleaner.state.floatbank6_a_air</th>\n",
       "                        <td id=\"T_c30d8_row71_col0\" class=\"data row71 col0\" >0.000000</td>\n",
       "            </tr>\n",
       "            <tr>\n",
       "                        <th id=\"T_c30d8_level0_row72\" class=\"row_heading level0 row72\" >secondary_cleaner.state.floatbank6_a_level</th>\n",
       "                        <td id=\"T_c30d8_row72_col0\" class=\"data row72 col0\" >0.000000</td>\n",
       "            </tr>\n",
       "            <tr>\n",
       "                        <th id=\"T_c30d8_level0_row73\" class=\"row_heading level0 row73\" >secondary_cleaner.output.tail_au</th>\n",
       "                        <td id=\"T_c30d8_row73_col0\" class=\"data row73 col0\" >0.000000</td>\n",
       "            </tr>\n",
       "            <tr>\n",
       "                        <th id=\"T_c30d8_level0_row74\" class=\"row_heading level0 row74\" >secondary_cleaner.output.tail_ag</th>\n",
       "                        <td id=\"T_c30d8_row74_col0\" class=\"data row74 col0\" >0.000000</td>\n",
       "            </tr>\n",
       "            <tr>\n",
       "                        <th id=\"T_c30d8_level0_row75\" class=\"row_heading level0 row75\" >secondary_cleaner.output.tail_pb</th>\n",
       "                        <td id=\"T_c30d8_row75_col0\" class=\"data row75 col0\" >0.000000</td>\n",
       "            </tr>\n",
       "            <tr>\n",
       "                        <th id=\"T_c30d8_level0_row76\" class=\"row_heading level0 row76\" >secondary_cleaner.output.tail_sol</th>\n",
       "                        <td id=\"T_c30d8_row76_col0\" class=\"data row76 col0\" >9.000000</td>\n",
       "            </tr>\n",
       "            <tr>\n",
       "                        <th id=\"T_c30d8_level0_row77\" class=\"row_heading level0 row77\" >final.output.concentrate_au</th>\n",
       "                        <td id=\"T_c30d8_row77_col0\" class=\"data row77 col0\" >0.000000</td>\n",
       "            </tr>\n",
       "            <tr>\n",
       "                        <th id=\"T_c30d8_level0_row78\" class=\"row_heading level0 row78\" >final.output.concentrate_ag</th>\n",
       "                        <td id=\"T_c30d8_row78_col0\" class=\"data row78 col0\" >0.000000</td>\n",
       "            </tr>\n",
       "            <tr>\n",
       "                        <th id=\"T_c30d8_level0_row79\" class=\"row_heading level0 row79\" >final.output.concentrate_pb</th>\n",
       "                        <td id=\"T_c30d8_row79_col0\" class=\"data row79 col0\" >0.000000</td>\n",
       "            </tr>\n",
       "            <tr>\n",
       "                        <th id=\"T_c30d8_level0_row80\" class=\"row_heading level0 row80\" >final.output.concentrate_sol</th>\n",
       "                        <td id=\"T_c30d8_row80_col0\" class=\"data row80 col0\" >1.000000</td>\n",
       "            </tr>\n",
       "            <tr>\n",
       "                        <th id=\"T_c30d8_level0_row81\" class=\"row_heading level0 row81\" >final.output.recovery</th>\n",
       "                        <td id=\"T_c30d8_row81_col0\" class=\"data row81 col0\" >0.000000</td>\n",
       "            </tr>\n",
       "            <tr>\n",
       "                        <th id=\"T_c30d8_level0_row82\" class=\"row_heading level0 row82\" >final.output.tail_au</th>\n",
       "                        <td id=\"T_c30d8_row82_col0\" class=\"data row82 col0\" >0.000000</td>\n",
       "            </tr>\n",
       "            <tr>\n",
       "                        <th id=\"T_c30d8_level0_row83\" class=\"row_heading level0 row83\" >final.output.tail_ag</th>\n",
       "                        <td id=\"T_c30d8_row83_col0\" class=\"data row83 col0\" >0.000000</td>\n",
       "            </tr>\n",
       "            <tr>\n",
       "                        <th id=\"T_c30d8_level0_row84\" class=\"row_heading level0 row84\" >final.output.tail_pb</th>\n",
       "                        <td id=\"T_c30d8_row84_col0\" class=\"data row84 col0\" >1.000000</td>\n",
       "            </tr>\n",
       "            <tr>\n",
       "                        <th id=\"T_c30d8_level0_row85\" class=\"row_heading level0 row85\" >final.output.tail_sol</th>\n",
       "                        <td id=\"T_c30d8_row85_col0\" class=\"data row85 col0\" >0.000000</td>\n",
       "            </tr>\n",
       "    </tbody></table>"
      ],
      "text/plain": [
       "<pandas.io.formats.style.Styler at 0x7f1ca006c190>"
      ]
     },
     "metadata": {},
     "output_type": "display_data"
    },
    {
     "name": "stdout",
     "output_type": "stream",
     "text": [
      "Проверяем количество явных дубликатов\n",
      "Количество дубликатов: 0\n",
      "\n"
     ]
    },
    {
     "data": {
      "text/html": [
       "<div>\n",
       "<style scoped>\n",
       "    .dataframe tbody tr th:only-of-type {\n",
       "        vertical-align: middle;\n",
       "    }\n",
       "\n",
       "    .dataframe tbody tr th {\n",
       "        vertical-align: top;\n",
       "    }\n",
       "\n",
       "    .dataframe thead th {\n",
       "        text-align: right;\n",
       "    }\n",
       "</style>\n",
       "<table border=\"1\" class=\"dataframe\">\n",
       "  <thead>\n",
       "    <tr style=\"text-align: right;\">\n",
       "      <th></th>\n",
       "      <th>rougher.input.feed_au</th>\n",
       "      <th>rougher.input.feed_ag</th>\n",
       "      <th>rougher.input.feed_pb</th>\n",
       "      <th>rougher.input.feed_sol</th>\n",
       "      <th>rougher.input.feed_rate</th>\n",
       "      <th>rougher.input.feed_size</th>\n",
       "      <th>rougher.input.floatbank10_sulfate</th>\n",
       "      <th>rougher.input.floatbank10_xanthate</th>\n",
       "      <th>rougher.state.floatbank10_a_air</th>\n",
       "      <th>rougher.state.floatbank10_a_level</th>\n",
       "      <th>...</th>\n",
       "      <th>secondary_cleaner.output.tail_sol</th>\n",
       "      <th>final.output.concentrate_au</th>\n",
       "      <th>final.output.concentrate_ag</th>\n",
       "      <th>final.output.concentrate_pb</th>\n",
       "      <th>final.output.concentrate_sol</th>\n",
       "      <th>final.output.recovery</th>\n",
       "      <th>final.output.tail_au</th>\n",
       "      <th>final.output.tail_ag</th>\n",
       "      <th>final.output.tail_pb</th>\n",
       "      <th>final.output.tail_sol</th>\n",
       "    </tr>\n",
       "  </thead>\n",
       "  <tbody>\n",
       "    <tr>\n",
       "      <th>count</th>\n",
       "      <td>19439.000000</td>\n",
       "      <td>19439.000000</td>\n",
       "      <td>19339.000000</td>\n",
       "      <td>19340.000000</td>\n",
       "      <td>19428.000000</td>\n",
       "      <td>19294.000000</td>\n",
       "      <td>19405.000000</td>\n",
       "      <td>19431.000000</td>\n",
       "      <td>19438.000000</td>\n",
       "      <td>19438.000000</td>\n",
       "      <td>...</td>\n",
       "      <td>17691.000000</td>\n",
       "      <td>19439.000000</td>\n",
       "      <td>19438.000000</td>\n",
       "      <td>19438.000000</td>\n",
       "      <td>19228.000000</td>\n",
       "      <td>19439.000000</td>\n",
       "      <td>19439.000000</td>\n",
       "      <td>19438.000000</td>\n",
       "      <td>19338.000000</td>\n",
       "      <td>19433.000000</td>\n",
       "    </tr>\n",
       "    <tr>\n",
       "      <th>mean</th>\n",
       "      <td>8.266097</td>\n",
       "      <td>8.794927</td>\n",
       "      <td>3.598085</td>\n",
       "      <td>36.695114</td>\n",
       "      <td>478.320042</td>\n",
       "      <td>58.970310</td>\n",
       "      <td>12.334373</td>\n",
       "      <td>6.021474</td>\n",
       "      <td>1105.315068</td>\n",
       "      <td>-376.610690</td>\n",
       "      <td>...</td>\n",
       "      <td>7.167247</td>\n",
       "      <td>44.076513</td>\n",
       "      <td>5.168470</td>\n",
       "      <td>9.978895</td>\n",
       "      <td>9.501224</td>\n",
       "      <td>67.050208</td>\n",
       "      <td>3.042467</td>\n",
       "      <td>9.688589</td>\n",
       "      <td>2.705795</td>\n",
       "      <td>10.583728</td>\n",
       "    </tr>\n",
       "    <tr>\n",
       "      <th>std</th>\n",
       "      <td>1.955092</td>\n",
       "      <td>1.936847</td>\n",
       "      <td>1.049486</td>\n",
       "      <td>5.145445</td>\n",
       "      <td>105.373758</td>\n",
       "      <td>21.634478</td>\n",
       "      <td>3.427317</td>\n",
       "      <td>1.127263</td>\n",
       "      <td>160.826798</td>\n",
       "      <td>93.909667</td>\n",
       "      <td>...</td>\n",
       "      <td>3.916079</td>\n",
       "      <td>5.129784</td>\n",
       "      <td>1.372348</td>\n",
       "      <td>1.669240</td>\n",
       "      <td>2.787537</td>\n",
       "      <td>10.125840</td>\n",
       "      <td>0.922808</td>\n",
       "      <td>2.328642</td>\n",
       "      <td>0.949077</td>\n",
       "      <td>2.868782</td>\n",
       "    </tr>\n",
       "    <tr>\n",
       "      <th>min</th>\n",
       "      <td>0.010000</td>\n",
       "      <td>0.010000</td>\n",
       "      <td>0.010000</td>\n",
       "      <td>0.010000</td>\n",
       "      <td>0.002986</td>\n",
       "      <td>0.046369</td>\n",
       "      <td>0.001083</td>\n",
       "      <td>0.000568</td>\n",
       "      <td>-0.042069</td>\n",
       "      <td>-657.949759</td>\n",
       "      <td>...</td>\n",
       "      <td>0.000000</td>\n",
       "      <td>0.000000</td>\n",
       "      <td>0.000000</td>\n",
       "      <td>0.000000</td>\n",
       "      <td>0.000000</td>\n",
       "      <td>0.000000</td>\n",
       "      <td>0.000000</td>\n",
       "      <td>0.000000</td>\n",
       "      <td>0.000000</td>\n",
       "      <td>0.000000</td>\n",
       "    </tr>\n",
       "    <tr>\n",
       "      <th>25%</th>\n",
       "      <td>6.854384</td>\n",
       "      <td>7.237967</td>\n",
       "      <td>2.887280</td>\n",
       "      <td>34.207799</td>\n",
       "      <td>416.525453</td>\n",
       "      <td>47.435103</td>\n",
       "      <td>10.000362</td>\n",
       "      <td>5.398678</td>\n",
       "      <td>999.661867</td>\n",
       "      <td>-499.835165</td>\n",
       "      <td>...</td>\n",
       "      <td>3.845475</td>\n",
       "      <td>43.402215</td>\n",
       "      <td>4.251240</td>\n",
       "      <td>9.137262</td>\n",
       "      <td>7.722820</td>\n",
       "      <td>63.299712</td>\n",
       "      <td>2.461138</td>\n",
       "      <td>8.062878</td>\n",
       "      <td>2.040119</td>\n",
       "      <td>8.938947</td>\n",
       "    </tr>\n",
       "    <tr>\n",
       "      <th>50%</th>\n",
       "      <td>8.125839</td>\n",
       "      <td>8.593574</td>\n",
       "      <td>3.534895</td>\n",
       "      <td>37.202650</td>\n",
       "      <td>499.416120</td>\n",
       "      <td>54.610197</td>\n",
       "      <td>12.001174</td>\n",
       "      <td>6.008273</td>\n",
       "      <td>1001.072890</td>\n",
       "      <td>-300.263994</td>\n",
       "      <td>...</td>\n",
       "      <td>7.685827</td>\n",
       "      <td>45.011244</td>\n",
       "      <td>5.066094</td>\n",
       "      <td>10.102433</td>\n",
       "      <td>9.218961</td>\n",
       "      <td>68.172738</td>\n",
       "      <td>2.984909</td>\n",
       "      <td>9.743623</td>\n",
       "      <td>2.748730</td>\n",
       "      <td>10.622456</td>\n",
       "    </tr>\n",
       "    <tr>\n",
       "      <th>75%</th>\n",
       "      <td>9.769917</td>\n",
       "      <td>10.213771</td>\n",
       "      <td>4.244161</td>\n",
       "      <td>40.039133</td>\n",
       "      <td>550.172183</td>\n",
       "      <td>65.023044</td>\n",
       "      <td>14.716595</td>\n",
       "      <td>6.798051</td>\n",
       "      <td>1205.620588</td>\n",
       "      <td>-299.981998</td>\n",
       "      <td>...</td>\n",
       "      <td>10.411296</td>\n",
       "      <td>46.275313</td>\n",
       "      <td>5.895527</td>\n",
       "      <td>11.035769</td>\n",
       "      <td>10.947813</td>\n",
       "      <td>72.686642</td>\n",
       "      <td>3.571351</td>\n",
       "      <td>11.134294</td>\n",
       "      <td>3.333216</td>\n",
       "      <td>12.104271</td>\n",
       "    </tr>\n",
       "    <tr>\n",
       "      <th>max</th>\n",
       "      <td>13.731330</td>\n",
       "      <td>14.596026</td>\n",
       "      <td>7.142594</td>\n",
       "      <td>53.477742</td>\n",
       "      <td>717.508837</td>\n",
       "      <td>484.967466</td>\n",
       "      <td>36.118275</td>\n",
       "      <td>9.703448</td>\n",
       "      <td>1521.980372</td>\n",
       "      <td>-273.776101</td>\n",
       "      <td>...</td>\n",
       "      <td>26.000772</td>\n",
       "      <td>52.756638</td>\n",
       "      <td>16.001945</td>\n",
       "      <td>17.031899</td>\n",
       "      <td>19.615720</td>\n",
       "      <td>100.000000</td>\n",
       "      <td>8.245022</td>\n",
       "      <td>19.552149</td>\n",
       "      <td>5.804178</td>\n",
       "      <td>22.317730</td>\n",
       "    </tr>\n",
       "  </tbody>\n",
       "</table>\n",
       "<p>8 rows × 86 columns</p>\n",
       "</div>"
      ],
      "text/plain": [
       "       rougher.input.feed_au  rougher.input.feed_ag  rougher.input.feed_pb  \\\n",
       "count           19439.000000           19439.000000           19339.000000   \n",
       "mean                8.266097               8.794927               3.598085   \n",
       "std                 1.955092               1.936847               1.049486   \n",
       "min                 0.010000               0.010000               0.010000   \n",
       "25%                 6.854384               7.237967               2.887280   \n",
       "50%                 8.125839               8.593574               3.534895   \n",
       "75%                 9.769917              10.213771               4.244161   \n",
       "max                13.731330              14.596026               7.142594   \n",
       "\n",
       "       rougher.input.feed_sol  rougher.input.feed_rate  \\\n",
       "count            19340.000000             19428.000000   \n",
       "mean                36.695114               478.320042   \n",
       "std                  5.145445               105.373758   \n",
       "min                  0.010000                 0.002986   \n",
       "25%                 34.207799               416.525453   \n",
       "50%                 37.202650               499.416120   \n",
       "75%                 40.039133               550.172183   \n",
       "max                 53.477742               717.508837   \n",
       "\n",
       "       rougher.input.feed_size  rougher.input.floatbank10_sulfate  \\\n",
       "count             19294.000000                       19405.000000   \n",
       "mean                 58.970310                          12.334373   \n",
       "std                  21.634478                           3.427317   \n",
       "min                   0.046369                           0.001083   \n",
       "25%                  47.435103                          10.000362   \n",
       "50%                  54.610197                          12.001174   \n",
       "75%                  65.023044                          14.716595   \n",
       "max                 484.967466                          36.118275   \n",
       "\n",
       "       rougher.input.floatbank10_xanthate  rougher.state.floatbank10_a_air  \\\n",
       "count                        19431.000000                     19438.000000   \n",
       "mean                             6.021474                      1105.315068   \n",
       "std                              1.127263                       160.826798   \n",
       "min                              0.000568                        -0.042069   \n",
       "25%                              5.398678                       999.661867   \n",
       "50%                              6.008273                      1001.072890   \n",
       "75%                              6.798051                      1205.620588   \n",
       "max                              9.703448                      1521.980372   \n",
       "\n",
       "       rougher.state.floatbank10_a_level  ...  \\\n",
       "count                       19438.000000  ...   \n",
       "mean                         -376.610690  ...   \n",
       "std                            93.909667  ...   \n",
       "min                          -657.949759  ...   \n",
       "25%                          -499.835165  ...   \n",
       "50%                          -300.263994  ...   \n",
       "75%                          -299.981998  ...   \n",
       "max                          -273.776101  ...   \n",
       "\n",
       "       secondary_cleaner.output.tail_sol  final.output.concentrate_au  \\\n",
       "count                       17691.000000                 19439.000000   \n",
       "mean                            7.167247                    44.076513   \n",
       "std                             3.916079                     5.129784   \n",
       "min                             0.000000                     0.000000   \n",
       "25%                             3.845475                    43.402215   \n",
       "50%                             7.685827                    45.011244   \n",
       "75%                            10.411296                    46.275313   \n",
       "max                            26.000772                    52.756638   \n",
       "\n",
       "       final.output.concentrate_ag  final.output.concentrate_pb  \\\n",
       "count                 19438.000000                 19438.000000   \n",
       "mean                      5.168470                     9.978895   \n",
       "std                       1.372348                     1.669240   \n",
       "min                       0.000000                     0.000000   \n",
       "25%                       4.251240                     9.137262   \n",
       "50%                       5.066094                    10.102433   \n",
       "75%                       5.895527                    11.035769   \n",
       "max                      16.001945                    17.031899   \n",
       "\n",
       "       final.output.concentrate_sol  final.output.recovery  \\\n",
       "count                  19228.000000           19439.000000   \n",
       "mean                       9.501224              67.050208   \n",
       "std                        2.787537              10.125840   \n",
       "min                        0.000000               0.000000   \n",
       "25%                        7.722820              63.299712   \n",
       "50%                        9.218961              68.172738   \n",
       "75%                       10.947813              72.686642   \n",
       "max                       19.615720             100.000000   \n",
       "\n",
       "       final.output.tail_au  final.output.tail_ag  final.output.tail_pb  \\\n",
       "count          19439.000000          19438.000000          19338.000000   \n",
       "mean               3.042467              9.688589              2.705795   \n",
       "std                0.922808              2.328642              0.949077   \n",
       "min                0.000000              0.000000              0.000000   \n",
       "25%                2.461138              8.062878              2.040119   \n",
       "50%                2.984909              9.743623              2.748730   \n",
       "75%                3.571351             11.134294              3.333216   \n",
       "max                8.245022             19.552149              5.804178   \n",
       "\n",
       "       final.output.tail_sol  \n",
       "count           19433.000000  \n",
       "mean               10.583728  \n",
       "std                 2.868782  \n",
       "min                 0.000000  \n",
       "25%                 8.938947  \n",
       "50%                10.622456  \n",
       "75%                12.104271  \n",
       "max                22.317730  \n",
       "\n",
       "[8 rows x 86 columns]"
      ]
     },
     "metadata": {},
     "output_type": "display_data"
    },
    {
     "name": "stdout",
     "output_type": "stream",
     "text": [
      "Следующий датафрейм:\n"
     ]
    }
   ],
   "source": [
    "#Ознакамливаемся с помощью цикла с датафреймами и изучаем их\n",
    "for data in [data_train, data_test, data_full]:\n",
    "    display(data.head())\n",
    "    print()\n",
    "    print(data.info())\n",
    "    print()\n",
    "    print('Проверяем количество пропусков в %')\n",
    "    display(pd.DataFrame(round(data.isna().mean()*100,)).style.background_gradient('coolwarm'))\n",
    "    print('Проверяем количество явных дубликатов')\n",
    "    print('Количество дубликатов:', data.duplicated().sum())\n",
    "    print()\n",
    "    display(data.describe())\n",
    "    #print()\n",
    "    #display(data.corr())\n",
    "    print('Следующий датафрейм:')"
   ]
  },
  {
   "cell_type": "markdown",
   "metadata": {},
   "source": [
    "#### Вывод:\n",
    "\n",
    "Мы ознакомились с тремя датафреймами:\n",
    "* gold_industry_train.csv — обучающая выборка; дубликатов не обнаружено, всего в датафрейме 86 столбцов и 14 579 записи.Имеются пропущенные значения в столбцах, однако пропущенные значения в каждом столбце составляют не более 10% от всего датафрейма.Тип данных у всех данных - float.\n",
    "\n",
    "* gold_industry_test.csv — тестовая выборка; дубликатов не обнаружено, всего в датафрейме 53 столбца и 4 860 записи. Имеются пропущенные значения в столбцах, однако пропущенные значения в каждом столбце составляют не более 10% от всего датафрейма. В данном датасете намного меньше признаков, чем в двух других. Тип данных у всех данных - float.\n",
    "\n",
    "* gold_industry_full.csv — исходные данные. дубликатов не обнаружено, всего в датафрейме 87 столбцов и 19 439 записи. Имеются пропущенные значения в столбцах, однако пропущенные значения в каждом столбце составляют не более 10% от всего датафрейма. Тип данных у всех данных - float. <br>\n",
    "\n",
    "Целевыми признаками являются final.output.recovery и rougher.output.recovery."
   ]
  },
  {
   "cell_type": "markdown",
   "metadata": {},
   "source": [
    "### Проверим эффективность обогащения и найдем MAE"
   ]
  },
  {
   "cell_type": "code",
   "execution_count": 4,
   "metadata": {},
   "outputs": [
    {
     "data": {
      "text/plain": [
       "date\n",
       "2016-01-15 00:00:00    87.107763\n",
       "2016-01-15 01:00:00    86.843261\n",
       "2016-01-15 02:00:00    86.842308\n",
       "2016-01-15 03:00:00    87.226430\n",
       "2016-01-15 04:00:00    86.688794\n",
       "                         ...    \n",
       "2017-12-09 09:59:59    87.684717\n",
       "2017-12-09 10:59:59    90.677361\n",
       "2017-12-09 11:59:59    89.574376\n",
       "2017-12-09 12:59:59    87.724007\n",
       "2017-12-09 13:59:59    88.890579\n",
       "Length: 14579, dtype: float64"
      ]
     },
     "execution_count": 4,
     "metadata": {},
     "output_type": "execute_result"
    }
   ],
   "source": [
    "#Создаем функцию для расчета эффективности обогащения\n",
    "def recovery_test(rougher_output, rougher_input, rougher_tails):\n",
    "    recovery = (rougher_output * (rougher_input - rougher_tails)) / (rougher_input * (rougher_output - rougher_tails)) * 100\n",
    "    return recovery\n",
    "\n",
    "#Вычисляем её на обучающей выборке для признака rougher.output.recovery\n",
    "recovery = recovery_test(data_train['rougher.output.concentrate_au'],\n",
    "                         data_train['rougher.input.feed_au'],\n",
    "                         data_train['rougher.output.tail_au'])\n",
    "recovery"
   ]
  },
  {
   "cell_type": "code",
   "execution_count": 5,
   "metadata": {},
   "outputs": [
    {
     "name": "stdout",
     "output_type": "stream",
     "text": [
      "MAE - среднее абсолютное отклонение составляет: 9.83758577644259e-15\n"
     ]
    }
   ],
   "source": [
    "#Найдем MAE между нашими расчётами и значением признака rougher.output.recovery\n",
    "mae = mean_absolute_error(data_train['rougher.output.recovery'], recovery)\n",
    "print('MAE - среднее абсолютное отклонение составляет:', mae)"
   ]
  },
  {
   "cell_type": "markdown",
   "metadata": {},
   "source": [
    "#### Вывод:\n",
    "* Проверили эффективность обогащения и найшли MAE: <br>\n",
    "\n",
    "\n",
    "Чем ближе MAE к нулю, тем точнее результат. Наше MAE (среднее абсолютное отклонение) между эффективностью обогащения и значением признака rougher.output.recovery составляет: 9.83758577644259e-15, что является хорошим результатом, так как значение находится близко к нулю, эффективность обогащения рассчитана правильно."
   ]
  },
  {
   "cell_type": "markdown",
   "metadata": {},
   "source": [
    "### Проведем анализ признаков, недоступных в тестовой выборке"
   ]
  },
  {
   "cell_type": "code",
   "execution_count": 6,
   "metadata": {
    "scrolled": true
   },
   "outputs": [
    {
     "name": "stdout",
     "output_type": "stream",
     "text": [
      "<class 'pandas.core.frame.DataFrame'>\n",
      "Index: 14579 entries, 2016-01-15 00:00:00 to 2017-12-09 13:59:59\n",
      "Data columns (total 34 columns):\n",
      " #   Column                                              Non-Null Count  Dtype  \n",
      "---  ------                                              --------------  -----  \n",
      " 0   rougher.output.tail_au                              14579 non-null  float64\n",
      " 1   primary_cleaner.output.concentrate_ag               14579 non-null  float64\n",
      " 2   primary_cleaner.output.concentrate_au               14579 non-null  float64\n",
      " 3   primary_cleaner.output.tail_ag                      14575 non-null  float64\n",
      " 4   secondary_cleaner.output.tail_sol                   13659 non-null  float64\n",
      " 5   secondary_cleaner.output.tail_pb                    14575 non-null  float64\n",
      " 6   primary_cleaner.output.tail_pb                      14573 non-null  float64\n",
      " 7   primary_cleaner.output.concentrate_sol              14314 non-null  float64\n",
      " 8   rougher.output.tail_ag                              14578 non-null  float64\n",
      " 9   rougher.output.tail_sol                             14579 non-null  float64\n",
      " 10  rougher.calculation.floatbank10_sulfate_to_au_feed  14578 non-null  float64\n",
      " 11  rougher.output.concentrate_sol                      14561 non-null  float64\n",
      " 12  final.output.tail_ag                                14578 non-null  float64\n",
      " 13  rougher.output.concentrate_ag                       14579 non-null  float64\n",
      " 14  final.output.tail_sol                               14574 non-null  float64\n",
      " 15  rougher.output.concentrate_au                       14579 non-null  float64\n",
      " 16  rougher.output.recovery                             14579 non-null  float64\n",
      " 17  secondary_cleaner.output.tail_ag                    14578 non-null  float64\n",
      " 18  rougher.calculation.au_pb_ratio                     14579 non-null  float64\n",
      " 19  final.output.concentrate_sol                        14387 non-null  float64\n",
      " 20  final.output.concentrate_au                         14579 non-null  float64\n",
      " 21  final.output.concentrate_ag                         14578 non-null  float64\n",
      " 22  primary_cleaner.output.tail_au                      14579 non-null  float64\n",
      " 23  primary_cleaner.output.concentrate_pb               14491 non-null  float64\n",
      " 24  secondary_cleaner.output.tail_au                    14579 non-null  float64\n",
      " 25  final.output.recovery                               14579 non-null  float64\n",
      " 26  final.output.concentrate_pb                         14578 non-null  float64\n",
      " 27  rougher.calculation.floatbank11_sulfate_to_au_feed  14578 non-null  float64\n",
      " 28  primary_cleaner.output.tail_sol                     14534 non-null  float64\n",
      " 29  final.output.tail_pb                                14504 non-null  float64\n",
      " 30  final.output.tail_au                                14579 non-null  float64\n",
      " 31  rougher.output.tail_pb                              14579 non-null  float64\n",
      " 32  rougher.output.concentrate_pb                       14579 non-null  float64\n",
      " 33  rougher.calculation.sulfate_to_au_concentrate       14578 non-null  float64\n",
      "dtypes: float64(34)\n",
      "memory usage: 4.4+ MB\n"
     ]
    }
   ],
   "source": [
    "#Уберем дублирубщие признаки с помощью тренировочной выборки и тем самым найдем недостающие признаки в тестовой выборке\n",
    "miss_test_features = set(data_train.columns) - set(data_test.columns)\n",
    "data_train[miss_test_features].info()"
   ]
  },
  {
   "cell_type": "markdown",
   "metadata": {},
   "source": [
    "#### Вывод:\n",
    "* Провели анализ признаков, недоступных в тестовой выборке:\n",
    "    * Мы выявили 34 недостающих столбцов (признаков) в тестовой выборке;\n",
    "    * Все данные содержат вещественный тип данных (float);\n",
    "    * Отсутствуют данные о первых и вторых этапах отчистки;\n",
    "    * Отсутствуют целевые признаки final.output.recovery и rougher.output.recovery;\n",
    "    * Из 34 недостающих столбцов, 30 столбцов относятся к output — параметры продукта, а 4 столбца к calculation — расчётные характеристики."
   ]
  },
  {
   "cell_type": "markdown",
   "metadata": {},
   "source": [
    "### Проведем предобработку данных"
   ]
  },
  {
   "cell_type": "code",
   "execution_count": 7,
   "metadata": {},
   "outputs": [
    {
     "data": {
      "text/plain": [
       "(4860, 54)"
      ]
     },
     "execution_count": 7,
     "metadata": {},
     "output_type": "execute_result"
    }
   ],
   "source": [
    "#Так как в тестовой выборке отсутствуют целевые признаки, необходимо их добавить из полного датасета\n",
    "data_test_target = data_test.merge(data_full[['final.output.recovery', 'rougher.output.recovery']], on='date', how='left')\n",
    "data_test_target.shape"
   ]
  },
  {
   "cell_type": "code",
   "execution_count": 8,
   "metadata": {},
   "outputs": [
    {
     "data": {
      "text/plain": [
       "(4860, 52)"
      ]
     },
     "execution_count": 8,
     "metadata": {},
     "output_type": "execute_result"
    }
   ],
   "source": [
    "data_test.shape"
   ]
  },
  {
   "cell_type": "code",
   "execution_count": 9,
   "metadata": {},
   "outputs": [],
   "source": [
    "#Заплним пропуски\n",
    "#Так как по условию задачи сказано, что \"Соседние по времени параметры часто похожи\", \n",
    "#произведем замену пропусков на следующие значения\n",
    "data_test_target = data_test_target.fillna(method='bfill')\n",
    "data_train = data_train.fillna(method='bfill')"
   ]
  },
  {
   "cell_type": "code",
   "execution_count": 10,
   "metadata": {
    "scrolled": true
   },
   "outputs": [
    {
     "name": "stdout",
     "output_type": "stream",
     "text": [
      "<class 'pandas.core.frame.DataFrame'>\n",
      "Index: 14579 entries, 2016-01-15 00:00:00 to 2017-12-09 13:59:59\n",
      "Data columns (total 86 columns):\n",
      " #   Column                                              Non-Null Count  Dtype  \n",
      "---  ------                                              --------------  -----  \n",
      " 0   rougher.input.feed_au                               14579 non-null  float64\n",
      " 1   rougher.input.feed_ag                               14579 non-null  float64\n",
      " 2   rougher.input.feed_pb                               14579 non-null  float64\n",
      " 3   rougher.input.feed_sol                              14579 non-null  float64\n",
      " 4   rougher.input.feed_rate                             14579 non-null  float64\n",
      " 5   rougher.input.feed_size                             14579 non-null  float64\n",
      " 6   rougher.input.floatbank10_sulfate                   14579 non-null  float64\n",
      " 7   rougher.input.floatbank10_xanthate                  14579 non-null  float64\n",
      " 8   rougher.state.floatbank10_a_air                     14579 non-null  float64\n",
      " 9   rougher.state.floatbank10_a_level                   14579 non-null  float64\n",
      " 10  rougher.state.floatbank10_b_air                     14579 non-null  float64\n",
      " 11  rougher.state.floatbank10_b_level                   14579 non-null  float64\n",
      " 12  rougher.state.floatbank10_c_air                     14579 non-null  float64\n",
      " 13  rougher.state.floatbank10_c_level                   14579 non-null  float64\n",
      " 14  rougher.state.floatbank10_d_air                     14579 non-null  float64\n",
      " 15  rougher.state.floatbank10_d_level                   14579 non-null  float64\n",
      " 16  rougher.state.floatbank10_e_air                     14579 non-null  float64\n",
      " 17  rougher.state.floatbank10_e_level                   14579 non-null  float64\n",
      " 18  rougher.state.floatbank10_f_air                     14579 non-null  float64\n",
      " 19  rougher.state.floatbank10_f_level                   14579 non-null  float64\n",
      " 20  rougher.input.floatbank11_sulfate                   14579 non-null  float64\n",
      " 21  rougher.input.floatbank11_xanthate                  14579 non-null  float64\n",
      " 22  rougher.calculation.sulfate_to_au_concentrate       14579 non-null  float64\n",
      " 23  rougher.calculation.floatbank10_sulfate_to_au_feed  14579 non-null  float64\n",
      " 24  rougher.calculation.floatbank11_sulfate_to_au_feed  14579 non-null  float64\n",
      " 25  rougher.calculation.au_pb_ratio                     14579 non-null  float64\n",
      " 26  rougher.output.concentrate_au                       14579 non-null  float64\n",
      " 27  rougher.output.concentrate_ag                       14579 non-null  float64\n",
      " 28  rougher.output.concentrate_pb                       14579 non-null  float64\n",
      " 29  rougher.output.concentrate_sol                      14579 non-null  float64\n",
      " 30  rougher.output.recovery                             14579 non-null  float64\n",
      " 31  rougher.output.tail_au                              14579 non-null  float64\n",
      " 32  rougher.output.tail_ag                              14579 non-null  float64\n",
      " 33  rougher.output.tail_pb                              14579 non-null  float64\n",
      " 34  rougher.output.tail_sol                             14579 non-null  float64\n",
      " 35  primary_cleaner.input.sulfate                       14579 non-null  float64\n",
      " 36  primary_cleaner.input.depressant                    14579 non-null  float64\n",
      " 37  primary_cleaner.input.feed_size                     14579 non-null  float64\n",
      " 38  primary_cleaner.input.xanthate                      14579 non-null  float64\n",
      " 39  primary_cleaner.state.floatbank8_a_air              14579 non-null  float64\n",
      " 40  primary_cleaner.state.floatbank8_a_level            14579 non-null  float64\n",
      " 41  primary_cleaner.state.floatbank8_b_air              14579 non-null  float64\n",
      " 42  primary_cleaner.state.floatbank8_b_level            14579 non-null  float64\n",
      " 43  primary_cleaner.state.floatbank8_c_air              14579 non-null  float64\n",
      " 44  primary_cleaner.state.floatbank8_c_level            14579 non-null  float64\n",
      " 45  primary_cleaner.state.floatbank8_d_air              14579 non-null  float64\n",
      " 46  primary_cleaner.state.floatbank8_d_level            14579 non-null  float64\n",
      " 47  primary_cleaner.output.concentrate_au               14579 non-null  float64\n",
      " 48  primary_cleaner.output.concentrate_ag               14579 non-null  float64\n",
      " 49  primary_cleaner.output.concentrate_pb               14579 non-null  float64\n",
      " 50  primary_cleaner.output.concentrate_sol              14579 non-null  float64\n",
      " 51  primary_cleaner.output.tail_au                      14579 non-null  float64\n",
      " 52  primary_cleaner.output.tail_ag                      14579 non-null  float64\n",
      " 53  primary_cleaner.output.tail_pb                      14579 non-null  float64\n",
      " 54  primary_cleaner.output.tail_sol                     14579 non-null  float64\n",
      " 55  secondary_cleaner.state.floatbank2_a_air            14579 non-null  float64\n",
      " 56  secondary_cleaner.state.floatbank2_a_level          14579 non-null  float64\n",
      " 57  secondary_cleaner.state.floatbank2_b_air            14579 non-null  float64\n",
      " 58  secondary_cleaner.state.floatbank2_b_level          14579 non-null  float64\n",
      " 59  secondary_cleaner.state.floatbank3_a_air            14579 non-null  float64\n",
      " 60  secondary_cleaner.state.floatbank3_a_level          14579 non-null  float64\n",
      " 61  secondary_cleaner.state.floatbank3_b_air            14579 non-null  float64\n",
      " 62  secondary_cleaner.state.floatbank3_b_level          14579 non-null  float64\n",
      " 63  secondary_cleaner.state.floatbank4_a_air            14579 non-null  float64\n",
      " 64  secondary_cleaner.state.floatbank4_a_level          14579 non-null  float64\n",
      " 65  secondary_cleaner.state.floatbank4_b_air            14579 non-null  float64\n",
      " 66  secondary_cleaner.state.floatbank4_b_level          14579 non-null  float64\n",
      " 67  secondary_cleaner.state.floatbank5_a_air            14579 non-null  float64\n",
      " 68  secondary_cleaner.state.floatbank5_a_level          14579 non-null  float64\n",
      " 69  secondary_cleaner.state.floatbank5_b_air            14579 non-null  float64\n",
      " 70  secondary_cleaner.state.floatbank5_b_level          14579 non-null  float64\n",
      " 71  secondary_cleaner.state.floatbank6_a_air            14579 non-null  float64\n",
      " 72  secondary_cleaner.state.floatbank6_a_level          14579 non-null  float64\n",
      " 73  secondary_cleaner.output.tail_au                    14579 non-null  float64\n",
      " 74  secondary_cleaner.output.tail_ag                    14579 non-null  float64\n",
      " 75  secondary_cleaner.output.tail_pb                    14579 non-null  float64\n",
      " 76  secondary_cleaner.output.tail_sol                   14579 non-null  float64\n",
      " 77  final.output.concentrate_au                         14579 non-null  float64\n",
      " 78  final.output.concentrate_ag                         14579 non-null  float64\n",
      " 79  final.output.concentrate_pb                         14579 non-null  float64\n",
      " 80  final.output.concentrate_sol                        14579 non-null  float64\n",
      " 81  final.output.recovery                               14579 non-null  float64\n",
      " 82  final.output.tail_au                                14579 non-null  float64\n",
      " 83  final.output.tail_ag                                14579 non-null  float64\n",
      " 84  final.output.tail_pb                                14579 non-null  float64\n",
      " 85  final.output.tail_sol                               14579 non-null  float64\n",
      "dtypes: float64(86)\n",
      "memory usage: 10.2+ MB\n",
      "None\n",
      "\n",
      "Проверяем количество пропусков в %\n"
     ]
    },
    {
     "data": {
      "text/html": [
       "<style  type=\"text/css\" >\n",
       "#T_1d823_row0_col0,#T_1d823_row1_col0,#T_1d823_row2_col0,#T_1d823_row3_col0,#T_1d823_row4_col0,#T_1d823_row5_col0,#T_1d823_row6_col0,#T_1d823_row7_col0,#T_1d823_row8_col0,#T_1d823_row9_col0,#T_1d823_row10_col0,#T_1d823_row11_col0,#T_1d823_row12_col0,#T_1d823_row13_col0,#T_1d823_row14_col0,#T_1d823_row15_col0,#T_1d823_row16_col0,#T_1d823_row17_col0,#T_1d823_row18_col0,#T_1d823_row19_col0,#T_1d823_row20_col0,#T_1d823_row21_col0,#T_1d823_row22_col0,#T_1d823_row23_col0,#T_1d823_row24_col0,#T_1d823_row25_col0,#T_1d823_row26_col0,#T_1d823_row27_col0,#T_1d823_row28_col0,#T_1d823_row29_col0,#T_1d823_row30_col0,#T_1d823_row31_col0,#T_1d823_row32_col0,#T_1d823_row33_col0,#T_1d823_row34_col0,#T_1d823_row35_col0,#T_1d823_row36_col0,#T_1d823_row37_col0,#T_1d823_row38_col0,#T_1d823_row39_col0,#T_1d823_row40_col0,#T_1d823_row41_col0,#T_1d823_row42_col0,#T_1d823_row43_col0,#T_1d823_row44_col0,#T_1d823_row45_col0,#T_1d823_row46_col0,#T_1d823_row47_col0,#T_1d823_row48_col0,#T_1d823_row49_col0,#T_1d823_row50_col0,#T_1d823_row51_col0,#T_1d823_row52_col0,#T_1d823_row53_col0,#T_1d823_row54_col0,#T_1d823_row55_col0,#T_1d823_row56_col0,#T_1d823_row57_col0,#T_1d823_row58_col0,#T_1d823_row59_col0,#T_1d823_row60_col0,#T_1d823_row61_col0,#T_1d823_row62_col0,#T_1d823_row63_col0,#T_1d823_row64_col0,#T_1d823_row65_col0,#T_1d823_row66_col0,#T_1d823_row67_col0,#T_1d823_row68_col0,#T_1d823_row69_col0,#T_1d823_row70_col0,#T_1d823_row71_col0,#T_1d823_row72_col0,#T_1d823_row73_col0,#T_1d823_row74_col0,#T_1d823_row75_col0,#T_1d823_row76_col0,#T_1d823_row77_col0,#T_1d823_row78_col0,#T_1d823_row79_col0,#T_1d823_row80_col0,#T_1d823_row81_col0,#T_1d823_row82_col0,#T_1d823_row83_col0,#T_1d823_row84_col0,#T_1d823_row85_col0{\n",
       "            background-color:  #3b4cc0;\n",
       "            color:  #f1f1f1;\n",
       "        }</style><table id=\"T_1d823_\" ><thead>    <tr>        <th class=\"blank level0\" ></th>        <th class=\"col_heading level0 col0\" >0</th>    </tr></thead><tbody>\n",
       "                <tr>\n",
       "                        <th id=\"T_1d823_level0_row0\" class=\"row_heading level0 row0\" >rougher.input.feed_au</th>\n",
       "                        <td id=\"T_1d823_row0_col0\" class=\"data row0 col0\" >0.000000</td>\n",
       "            </tr>\n",
       "            <tr>\n",
       "                        <th id=\"T_1d823_level0_row1\" class=\"row_heading level0 row1\" >rougher.input.feed_ag</th>\n",
       "                        <td id=\"T_1d823_row1_col0\" class=\"data row1 col0\" >0.000000</td>\n",
       "            </tr>\n",
       "            <tr>\n",
       "                        <th id=\"T_1d823_level0_row2\" class=\"row_heading level0 row2\" >rougher.input.feed_pb</th>\n",
       "                        <td id=\"T_1d823_row2_col0\" class=\"data row2 col0\" >0.000000</td>\n",
       "            </tr>\n",
       "            <tr>\n",
       "                        <th id=\"T_1d823_level0_row3\" class=\"row_heading level0 row3\" >rougher.input.feed_sol</th>\n",
       "                        <td id=\"T_1d823_row3_col0\" class=\"data row3 col0\" >0.000000</td>\n",
       "            </tr>\n",
       "            <tr>\n",
       "                        <th id=\"T_1d823_level0_row4\" class=\"row_heading level0 row4\" >rougher.input.feed_rate</th>\n",
       "                        <td id=\"T_1d823_row4_col0\" class=\"data row4 col0\" >0.000000</td>\n",
       "            </tr>\n",
       "            <tr>\n",
       "                        <th id=\"T_1d823_level0_row5\" class=\"row_heading level0 row5\" >rougher.input.feed_size</th>\n",
       "                        <td id=\"T_1d823_row5_col0\" class=\"data row5 col0\" >0.000000</td>\n",
       "            </tr>\n",
       "            <tr>\n",
       "                        <th id=\"T_1d823_level0_row6\" class=\"row_heading level0 row6\" >rougher.input.floatbank10_sulfate</th>\n",
       "                        <td id=\"T_1d823_row6_col0\" class=\"data row6 col0\" >0.000000</td>\n",
       "            </tr>\n",
       "            <tr>\n",
       "                        <th id=\"T_1d823_level0_row7\" class=\"row_heading level0 row7\" >rougher.input.floatbank10_xanthate</th>\n",
       "                        <td id=\"T_1d823_row7_col0\" class=\"data row7 col0\" >0.000000</td>\n",
       "            </tr>\n",
       "            <tr>\n",
       "                        <th id=\"T_1d823_level0_row8\" class=\"row_heading level0 row8\" >rougher.state.floatbank10_a_air</th>\n",
       "                        <td id=\"T_1d823_row8_col0\" class=\"data row8 col0\" >0.000000</td>\n",
       "            </tr>\n",
       "            <tr>\n",
       "                        <th id=\"T_1d823_level0_row9\" class=\"row_heading level0 row9\" >rougher.state.floatbank10_a_level</th>\n",
       "                        <td id=\"T_1d823_row9_col0\" class=\"data row9 col0\" >0.000000</td>\n",
       "            </tr>\n",
       "            <tr>\n",
       "                        <th id=\"T_1d823_level0_row10\" class=\"row_heading level0 row10\" >rougher.state.floatbank10_b_air</th>\n",
       "                        <td id=\"T_1d823_row10_col0\" class=\"data row10 col0\" >0.000000</td>\n",
       "            </tr>\n",
       "            <tr>\n",
       "                        <th id=\"T_1d823_level0_row11\" class=\"row_heading level0 row11\" >rougher.state.floatbank10_b_level</th>\n",
       "                        <td id=\"T_1d823_row11_col0\" class=\"data row11 col0\" >0.000000</td>\n",
       "            </tr>\n",
       "            <tr>\n",
       "                        <th id=\"T_1d823_level0_row12\" class=\"row_heading level0 row12\" >rougher.state.floatbank10_c_air</th>\n",
       "                        <td id=\"T_1d823_row12_col0\" class=\"data row12 col0\" >0.000000</td>\n",
       "            </tr>\n",
       "            <tr>\n",
       "                        <th id=\"T_1d823_level0_row13\" class=\"row_heading level0 row13\" >rougher.state.floatbank10_c_level</th>\n",
       "                        <td id=\"T_1d823_row13_col0\" class=\"data row13 col0\" >0.000000</td>\n",
       "            </tr>\n",
       "            <tr>\n",
       "                        <th id=\"T_1d823_level0_row14\" class=\"row_heading level0 row14\" >rougher.state.floatbank10_d_air</th>\n",
       "                        <td id=\"T_1d823_row14_col0\" class=\"data row14 col0\" >0.000000</td>\n",
       "            </tr>\n",
       "            <tr>\n",
       "                        <th id=\"T_1d823_level0_row15\" class=\"row_heading level0 row15\" >rougher.state.floatbank10_d_level</th>\n",
       "                        <td id=\"T_1d823_row15_col0\" class=\"data row15 col0\" >0.000000</td>\n",
       "            </tr>\n",
       "            <tr>\n",
       "                        <th id=\"T_1d823_level0_row16\" class=\"row_heading level0 row16\" >rougher.state.floatbank10_e_air</th>\n",
       "                        <td id=\"T_1d823_row16_col0\" class=\"data row16 col0\" >0.000000</td>\n",
       "            </tr>\n",
       "            <tr>\n",
       "                        <th id=\"T_1d823_level0_row17\" class=\"row_heading level0 row17\" >rougher.state.floatbank10_e_level</th>\n",
       "                        <td id=\"T_1d823_row17_col0\" class=\"data row17 col0\" >0.000000</td>\n",
       "            </tr>\n",
       "            <tr>\n",
       "                        <th id=\"T_1d823_level0_row18\" class=\"row_heading level0 row18\" >rougher.state.floatbank10_f_air</th>\n",
       "                        <td id=\"T_1d823_row18_col0\" class=\"data row18 col0\" >0.000000</td>\n",
       "            </tr>\n",
       "            <tr>\n",
       "                        <th id=\"T_1d823_level0_row19\" class=\"row_heading level0 row19\" >rougher.state.floatbank10_f_level</th>\n",
       "                        <td id=\"T_1d823_row19_col0\" class=\"data row19 col0\" >0.000000</td>\n",
       "            </tr>\n",
       "            <tr>\n",
       "                        <th id=\"T_1d823_level0_row20\" class=\"row_heading level0 row20\" >rougher.input.floatbank11_sulfate</th>\n",
       "                        <td id=\"T_1d823_row20_col0\" class=\"data row20 col0\" >0.000000</td>\n",
       "            </tr>\n",
       "            <tr>\n",
       "                        <th id=\"T_1d823_level0_row21\" class=\"row_heading level0 row21\" >rougher.input.floatbank11_xanthate</th>\n",
       "                        <td id=\"T_1d823_row21_col0\" class=\"data row21 col0\" >0.000000</td>\n",
       "            </tr>\n",
       "            <tr>\n",
       "                        <th id=\"T_1d823_level0_row22\" class=\"row_heading level0 row22\" >rougher.calculation.sulfate_to_au_concentrate</th>\n",
       "                        <td id=\"T_1d823_row22_col0\" class=\"data row22 col0\" >0.000000</td>\n",
       "            </tr>\n",
       "            <tr>\n",
       "                        <th id=\"T_1d823_level0_row23\" class=\"row_heading level0 row23\" >rougher.calculation.floatbank10_sulfate_to_au_feed</th>\n",
       "                        <td id=\"T_1d823_row23_col0\" class=\"data row23 col0\" >0.000000</td>\n",
       "            </tr>\n",
       "            <tr>\n",
       "                        <th id=\"T_1d823_level0_row24\" class=\"row_heading level0 row24\" >rougher.calculation.floatbank11_sulfate_to_au_feed</th>\n",
       "                        <td id=\"T_1d823_row24_col0\" class=\"data row24 col0\" >0.000000</td>\n",
       "            </tr>\n",
       "            <tr>\n",
       "                        <th id=\"T_1d823_level0_row25\" class=\"row_heading level0 row25\" >rougher.calculation.au_pb_ratio</th>\n",
       "                        <td id=\"T_1d823_row25_col0\" class=\"data row25 col0\" >0.000000</td>\n",
       "            </tr>\n",
       "            <tr>\n",
       "                        <th id=\"T_1d823_level0_row26\" class=\"row_heading level0 row26\" >rougher.output.concentrate_au</th>\n",
       "                        <td id=\"T_1d823_row26_col0\" class=\"data row26 col0\" >0.000000</td>\n",
       "            </tr>\n",
       "            <tr>\n",
       "                        <th id=\"T_1d823_level0_row27\" class=\"row_heading level0 row27\" >rougher.output.concentrate_ag</th>\n",
       "                        <td id=\"T_1d823_row27_col0\" class=\"data row27 col0\" >0.000000</td>\n",
       "            </tr>\n",
       "            <tr>\n",
       "                        <th id=\"T_1d823_level0_row28\" class=\"row_heading level0 row28\" >rougher.output.concentrate_pb</th>\n",
       "                        <td id=\"T_1d823_row28_col0\" class=\"data row28 col0\" >0.000000</td>\n",
       "            </tr>\n",
       "            <tr>\n",
       "                        <th id=\"T_1d823_level0_row29\" class=\"row_heading level0 row29\" >rougher.output.concentrate_sol</th>\n",
       "                        <td id=\"T_1d823_row29_col0\" class=\"data row29 col0\" >0.000000</td>\n",
       "            </tr>\n",
       "            <tr>\n",
       "                        <th id=\"T_1d823_level0_row30\" class=\"row_heading level0 row30\" >rougher.output.recovery</th>\n",
       "                        <td id=\"T_1d823_row30_col0\" class=\"data row30 col0\" >0.000000</td>\n",
       "            </tr>\n",
       "            <tr>\n",
       "                        <th id=\"T_1d823_level0_row31\" class=\"row_heading level0 row31\" >rougher.output.tail_au</th>\n",
       "                        <td id=\"T_1d823_row31_col0\" class=\"data row31 col0\" >0.000000</td>\n",
       "            </tr>\n",
       "            <tr>\n",
       "                        <th id=\"T_1d823_level0_row32\" class=\"row_heading level0 row32\" >rougher.output.tail_ag</th>\n",
       "                        <td id=\"T_1d823_row32_col0\" class=\"data row32 col0\" >0.000000</td>\n",
       "            </tr>\n",
       "            <tr>\n",
       "                        <th id=\"T_1d823_level0_row33\" class=\"row_heading level0 row33\" >rougher.output.tail_pb</th>\n",
       "                        <td id=\"T_1d823_row33_col0\" class=\"data row33 col0\" >0.000000</td>\n",
       "            </tr>\n",
       "            <tr>\n",
       "                        <th id=\"T_1d823_level0_row34\" class=\"row_heading level0 row34\" >rougher.output.tail_sol</th>\n",
       "                        <td id=\"T_1d823_row34_col0\" class=\"data row34 col0\" >0.000000</td>\n",
       "            </tr>\n",
       "            <tr>\n",
       "                        <th id=\"T_1d823_level0_row35\" class=\"row_heading level0 row35\" >primary_cleaner.input.sulfate</th>\n",
       "                        <td id=\"T_1d823_row35_col0\" class=\"data row35 col0\" >0.000000</td>\n",
       "            </tr>\n",
       "            <tr>\n",
       "                        <th id=\"T_1d823_level0_row36\" class=\"row_heading level0 row36\" >primary_cleaner.input.depressant</th>\n",
       "                        <td id=\"T_1d823_row36_col0\" class=\"data row36 col0\" >0.000000</td>\n",
       "            </tr>\n",
       "            <tr>\n",
       "                        <th id=\"T_1d823_level0_row37\" class=\"row_heading level0 row37\" >primary_cleaner.input.feed_size</th>\n",
       "                        <td id=\"T_1d823_row37_col0\" class=\"data row37 col0\" >0.000000</td>\n",
       "            </tr>\n",
       "            <tr>\n",
       "                        <th id=\"T_1d823_level0_row38\" class=\"row_heading level0 row38\" >primary_cleaner.input.xanthate</th>\n",
       "                        <td id=\"T_1d823_row38_col0\" class=\"data row38 col0\" >0.000000</td>\n",
       "            </tr>\n",
       "            <tr>\n",
       "                        <th id=\"T_1d823_level0_row39\" class=\"row_heading level0 row39\" >primary_cleaner.state.floatbank8_a_air</th>\n",
       "                        <td id=\"T_1d823_row39_col0\" class=\"data row39 col0\" >0.000000</td>\n",
       "            </tr>\n",
       "            <tr>\n",
       "                        <th id=\"T_1d823_level0_row40\" class=\"row_heading level0 row40\" >primary_cleaner.state.floatbank8_a_level</th>\n",
       "                        <td id=\"T_1d823_row40_col0\" class=\"data row40 col0\" >0.000000</td>\n",
       "            </tr>\n",
       "            <tr>\n",
       "                        <th id=\"T_1d823_level0_row41\" class=\"row_heading level0 row41\" >primary_cleaner.state.floatbank8_b_air</th>\n",
       "                        <td id=\"T_1d823_row41_col0\" class=\"data row41 col0\" >0.000000</td>\n",
       "            </tr>\n",
       "            <tr>\n",
       "                        <th id=\"T_1d823_level0_row42\" class=\"row_heading level0 row42\" >primary_cleaner.state.floatbank8_b_level</th>\n",
       "                        <td id=\"T_1d823_row42_col0\" class=\"data row42 col0\" >0.000000</td>\n",
       "            </tr>\n",
       "            <tr>\n",
       "                        <th id=\"T_1d823_level0_row43\" class=\"row_heading level0 row43\" >primary_cleaner.state.floatbank8_c_air</th>\n",
       "                        <td id=\"T_1d823_row43_col0\" class=\"data row43 col0\" >0.000000</td>\n",
       "            </tr>\n",
       "            <tr>\n",
       "                        <th id=\"T_1d823_level0_row44\" class=\"row_heading level0 row44\" >primary_cleaner.state.floatbank8_c_level</th>\n",
       "                        <td id=\"T_1d823_row44_col0\" class=\"data row44 col0\" >0.000000</td>\n",
       "            </tr>\n",
       "            <tr>\n",
       "                        <th id=\"T_1d823_level0_row45\" class=\"row_heading level0 row45\" >primary_cleaner.state.floatbank8_d_air</th>\n",
       "                        <td id=\"T_1d823_row45_col0\" class=\"data row45 col0\" >0.000000</td>\n",
       "            </tr>\n",
       "            <tr>\n",
       "                        <th id=\"T_1d823_level0_row46\" class=\"row_heading level0 row46\" >primary_cleaner.state.floatbank8_d_level</th>\n",
       "                        <td id=\"T_1d823_row46_col0\" class=\"data row46 col0\" >0.000000</td>\n",
       "            </tr>\n",
       "            <tr>\n",
       "                        <th id=\"T_1d823_level0_row47\" class=\"row_heading level0 row47\" >primary_cleaner.output.concentrate_au</th>\n",
       "                        <td id=\"T_1d823_row47_col0\" class=\"data row47 col0\" >0.000000</td>\n",
       "            </tr>\n",
       "            <tr>\n",
       "                        <th id=\"T_1d823_level0_row48\" class=\"row_heading level0 row48\" >primary_cleaner.output.concentrate_ag</th>\n",
       "                        <td id=\"T_1d823_row48_col0\" class=\"data row48 col0\" >0.000000</td>\n",
       "            </tr>\n",
       "            <tr>\n",
       "                        <th id=\"T_1d823_level0_row49\" class=\"row_heading level0 row49\" >primary_cleaner.output.concentrate_pb</th>\n",
       "                        <td id=\"T_1d823_row49_col0\" class=\"data row49 col0\" >0.000000</td>\n",
       "            </tr>\n",
       "            <tr>\n",
       "                        <th id=\"T_1d823_level0_row50\" class=\"row_heading level0 row50\" >primary_cleaner.output.concentrate_sol</th>\n",
       "                        <td id=\"T_1d823_row50_col0\" class=\"data row50 col0\" >0.000000</td>\n",
       "            </tr>\n",
       "            <tr>\n",
       "                        <th id=\"T_1d823_level0_row51\" class=\"row_heading level0 row51\" >primary_cleaner.output.tail_au</th>\n",
       "                        <td id=\"T_1d823_row51_col0\" class=\"data row51 col0\" >0.000000</td>\n",
       "            </tr>\n",
       "            <tr>\n",
       "                        <th id=\"T_1d823_level0_row52\" class=\"row_heading level0 row52\" >primary_cleaner.output.tail_ag</th>\n",
       "                        <td id=\"T_1d823_row52_col0\" class=\"data row52 col0\" >0.000000</td>\n",
       "            </tr>\n",
       "            <tr>\n",
       "                        <th id=\"T_1d823_level0_row53\" class=\"row_heading level0 row53\" >primary_cleaner.output.tail_pb</th>\n",
       "                        <td id=\"T_1d823_row53_col0\" class=\"data row53 col0\" >0.000000</td>\n",
       "            </tr>\n",
       "            <tr>\n",
       "                        <th id=\"T_1d823_level0_row54\" class=\"row_heading level0 row54\" >primary_cleaner.output.tail_sol</th>\n",
       "                        <td id=\"T_1d823_row54_col0\" class=\"data row54 col0\" >0.000000</td>\n",
       "            </tr>\n",
       "            <tr>\n",
       "                        <th id=\"T_1d823_level0_row55\" class=\"row_heading level0 row55\" >secondary_cleaner.state.floatbank2_a_air</th>\n",
       "                        <td id=\"T_1d823_row55_col0\" class=\"data row55 col0\" >0.000000</td>\n",
       "            </tr>\n",
       "            <tr>\n",
       "                        <th id=\"T_1d823_level0_row56\" class=\"row_heading level0 row56\" >secondary_cleaner.state.floatbank2_a_level</th>\n",
       "                        <td id=\"T_1d823_row56_col0\" class=\"data row56 col0\" >0.000000</td>\n",
       "            </tr>\n",
       "            <tr>\n",
       "                        <th id=\"T_1d823_level0_row57\" class=\"row_heading level0 row57\" >secondary_cleaner.state.floatbank2_b_air</th>\n",
       "                        <td id=\"T_1d823_row57_col0\" class=\"data row57 col0\" >0.000000</td>\n",
       "            </tr>\n",
       "            <tr>\n",
       "                        <th id=\"T_1d823_level0_row58\" class=\"row_heading level0 row58\" >secondary_cleaner.state.floatbank2_b_level</th>\n",
       "                        <td id=\"T_1d823_row58_col0\" class=\"data row58 col0\" >0.000000</td>\n",
       "            </tr>\n",
       "            <tr>\n",
       "                        <th id=\"T_1d823_level0_row59\" class=\"row_heading level0 row59\" >secondary_cleaner.state.floatbank3_a_air</th>\n",
       "                        <td id=\"T_1d823_row59_col0\" class=\"data row59 col0\" >0.000000</td>\n",
       "            </tr>\n",
       "            <tr>\n",
       "                        <th id=\"T_1d823_level0_row60\" class=\"row_heading level0 row60\" >secondary_cleaner.state.floatbank3_a_level</th>\n",
       "                        <td id=\"T_1d823_row60_col0\" class=\"data row60 col0\" >0.000000</td>\n",
       "            </tr>\n",
       "            <tr>\n",
       "                        <th id=\"T_1d823_level0_row61\" class=\"row_heading level0 row61\" >secondary_cleaner.state.floatbank3_b_air</th>\n",
       "                        <td id=\"T_1d823_row61_col0\" class=\"data row61 col0\" >0.000000</td>\n",
       "            </tr>\n",
       "            <tr>\n",
       "                        <th id=\"T_1d823_level0_row62\" class=\"row_heading level0 row62\" >secondary_cleaner.state.floatbank3_b_level</th>\n",
       "                        <td id=\"T_1d823_row62_col0\" class=\"data row62 col0\" >0.000000</td>\n",
       "            </tr>\n",
       "            <tr>\n",
       "                        <th id=\"T_1d823_level0_row63\" class=\"row_heading level0 row63\" >secondary_cleaner.state.floatbank4_a_air</th>\n",
       "                        <td id=\"T_1d823_row63_col0\" class=\"data row63 col0\" >0.000000</td>\n",
       "            </tr>\n",
       "            <tr>\n",
       "                        <th id=\"T_1d823_level0_row64\" class=\"row_heading level0 row64\" >secondary_cleaner.state.floatbank4_a_level</th>\n",
       "                        <td id=\"T_1d823_row64_col0\" class=\"data row64 col0\" >0.000000</td>\n",
       "            </tr>\n",
       "            <tr>\n",
       "                        <th id=\"T_1d823_level0_row65\" class=\"row_heading level0 row65\" >secondary_cleaner.state.floatbank4_b_air</th>\n",
       "                        <td id=\"T_1d823_row65_col0\" class=\"data row65 col0\" >0.000000</td>\n",
       "            </tr>\n",
       "            <tr>\n",
       "                        <th id=\"T_1d823_level0_row66\" class=\"row_heading level0 row66\" >secondary_cleaner.state.floatbank4_b_level</th>\n",
       "                        <td id=\"T_1d823_row66_col0\" class=\"data row66 col0\" >0.000000</td>\n",
       "            </tr>\n",
       "            <tr>\n",
       "                        <th id=\"T_1d823_level0_row67\" class=\"row_heading level0 row67\" >secondary_cleaner.state.floatbank5_a_air</th>\n",
       "                        <td id=\"T_1d823_row67_col0\" class=\"data row67 col0\" >0.000000</td>\n",
       "            </tr>\n",
       "            <tr>\n",
       "                        <th id=\"T_1d823_level0_row68\" class=\"row_heading level0 row68\" >secondary_cleaner.state.floatbank5_a_level</th>\n",
       "                        <td id=\"T_1d823_row68_col0\" class=\"data row68 col0\" >0.000000</td>\n",
       "            </tr>\n",
       "            <tr>\n",
       "                        <th id=\"T_1d823_level0_row69\" class=\"row_heading level0 row69\" >secondary_cleaner.state.floatbank5_b_air</th>\n",
       "                        <td id=\"T_1d823_row69_col0\" class=\"data row69 col0\" >0.000000</td>\n",
       "            </tr>\n",
       "            <tr>\n",
       "                        <th id=\"T_1d823_level0_row70\" class=\"row_heading level0 row70\" >secondary_cleaner.state.floatbank5_b_level</th>\n",
       "                        <td id=\"T_1d823_row70_col0\" class=\"data row70 col0\" >0.000000</td>\n",
       "            </tr>\n",
       "            <tr>\n",
       "                        <th id=\"T_1d823_level0_row71\" class=\"row_heading level0 row71\" >secondary_cleaner.state.floatbank6_a_air</th>\n",
       "                        <td id=\"T_1d823_row71_col0\" class=\"data row71 col0\" >0.000000</td>\n",
       "            </tr>\n",
       "            <tr>\n",
       "                        <th id=\"T_1d823_level0_row72\" class=\"row_heading level0 row72\" >secondary_cleaner.state.floatbank6_a_level</th>\n",
       "                        <td id=\"T_1d823_row72_col0\" class=\"data row72 col0\" >0.000000</td>\n",
       "            </tr>\n",
       "            <tr>\n",
       "                        <th id=\"T_1d823_level0_row73\" class=\"row_heading level0 row73\" >secondary_cleaner.output.tail_au</th>\n",
       "                        <td id=\"T_1d823_row73_col0\" class=\"data row73 col0\" >0.000000</td>\n",
       "            </tr>\n",
       "            <tr>\n",
       "                        <th id=\"T_1d823_level0_row74\" class=\"row_heading level0 row74\" >secondary_cleaner.output.tail_ag</th>\n",
       "                        <td id=\"T_1d823_row74_col0\" class=\"data row74 col0\" >0.000000</td>\n",
       "            </tr>\n",
       "            <tr>\n",
       "                        <th id=\"T_1d823_level0_row75\" class=\"row_heading level0 row75\" >secondary_cleaner.output.tail_pb</th>\n",
       "                        <td id=\"T_1d823_row75_col0\" class=\"data row75 col0\" >0.000000</td>\n",
       "            </tr>\n",
       "            <tr>\n",
       "                        <th id=\"T_1d823_level0_row76\" class=\"row_heading level0 row76\" >secondary_cleaner.output.tail_sol</th>\n",
       "                        <td id=\"T_1d823_row76_col0\" class=\"data row76 col0\" >0.000000</td>\n",
       "            </tr>\n",
       "            <tr>\n",
       "                        <th id=\"T_1d823_level0_row77\" class=\"row_heading level0 row77\" >final.output.concentrate_au</th>\n",
       "                        <td id=\"T_1d823_row77_col0\" class=\"data row77 col0\" >0.000000</td>\n",
       "            </tr>\n",
       "            <tr>\n",
       "                        <th id=\"T_1d823_level0_row78\" class=\"row_heading level0 row78\" >final.output.concentrate_ag</th>\n",
       "                        <td id=\"T_1d823_row78_col0\" class=\"data row78 col0\" >0.000000</td>\n",
       "            </tr>\n",
       "            <tr>\n",
       "                        <th id=\"T_1d823_level0_row79\" class=\"row_heading level0 row79\" >final.output.concentrate_pb</th>\n",
       "                        <td id=\"T_1d823_row79_col0\" class=\"data row79 col0\" >0.000000</td>\n",
       "            </tr>\n",
       "            <tr>\n",
       "                        <th id=\"T_1d823_level0_row80\" class=\"row_heading level0 row80\" >final.output.concentrate_sol</th>\n",
       "                        <td id=\"T_1d823_row80_col0\" class=\"data row80 col0\" >0.000000</td>\n",
       "            </tr>\n",
       "            <tr>\n",
       "                        <th id=\"T_1d823_level0_row81\" class=\"row_heading level0 row81\" >final.output.recovery</th>\n",
       "                        <td id=\"T_1d823_row81_col0\" class=\"data row81 col0\" >0.000000</td>\n",
       "            </tr>\n",
       "            <tr>\n",
       "                        <th id=\"T_1d823_level0_row82\" class=\"row_heading level0 row82\" >final.output.tail_au</th>\n",
       "                        <td id=\"T_1d823_row82_col0\" class=\"data row82 col0\" >0.000000</td>\n",
       "            </tr>\n",
       "            <tr>\n",
       "                        <th id=\"T_1d823_level0_row83\" class=\"row_heading level0 row83\" >final.output.tail_ag</th>\n",
       "                        <td id=\"T_1d823_row83_col0\" class=\"data row83 col0\" >0.000000</td>\n",
       "            </tr>\n",
       "            <tr>\n",
       "                        <th id=\"T_1d823_level0_row84\" class=\"row_heading level0 row84\" >final.output.tail_pb</th>\n",
       "                        <td id=\"T_1d823_row84_col0\" class=\"data row84 col0\" >0.000000</td>\n",
       "            </tr>\n",
       "            <tr>\n",
       "                        <th id=\"T_1d823_level0_row85\" class=\"row_heading level0 row85\" >final.output.tail_sol</th>\n",
       "                        <td id=\"T_1d823_row85_col0\" class=\"data row85 col0\" >0.000000</td>\n",
       "            </tr>\n",
       "    </tbody></table>"
      ],
      "text/plain": [
       "<pandas.io.formats.style.Styler at 0x7f1c18a07d00>"
      ]
     },
     "metadata": {},
     "output_type": "display_data"
    },
    {
     "name": "stdout",
     "output_type": "stream",
     "text": [
      "Следующий датафрейм:\n",
      "<class 'pandas.core.frame.DataFrame'>\n",
      "Index: 4860 entries, 2017-12-09 14:59:59 to 2018-08-18 10:59:59\n",
      "Data columns (total 54 columns):\n",
      " #   Column                                      Non-Null Count  Dtype  \n",
      "---  ------                                      --------------  -----  \n",
      " 0   rougher.input.feed_au                       4860 non-null   float64\n",
      " 1   rougher.input.feed_ag                       4860 non-null   float64\n",
      " 2   rougher.input.feed_pb                       4860 non-null   float64\n",
      " 3   rougher.input.feed_sol                      4860 non-null   float64\n",
      " 4   rougher.input.feed_rate                     4860 non-null   float64\n",
      " 5   rougher.input.feed_size                     4860 non-null   float64\n",
      " 6   rougher.input.floatbank10_sulfate           4860 non-null   float64\n",
      " 7   rougher.input.floatbank10_xanthate          4860 non-null   float64\n",
      " 8   rougher.state.floatbank10_a_air             4860 non-null   float64\n",
      " 9   rougher.state.floatbank10_a_level           4860 non-null   float64\n",
      " 10  rougher.state.floatbank10_b_air             4860 non-null   float64\n",
      " 11  rougher.state.floatbank10_b_level           4860 non-null   float64\n",
      " 12  rougher.state.floatbank10_c_air             4860 non-null   float64\n",
      " 13  rougher.state.floatbank10_c_level           4860 non-null   float64\n",
      " 14  rougher.state.floatbank10_d_air             4860 non-null   float64\n",
      " 15  rougher.state.floatbank10_d_level           4860 non-null   float64\n",
      " 16  rougher.state.floatbank10_e_air             4860 non-null   float64\n",
      " 17  rougher.state.floatbank10_e_level           4860 non-null   float64\n",
      " 18  rougher.state.floatbank10_f_air             4860 non-null   float64\n",
      " 19  rougher.state.floatbank10_f_level           4860 non-null   float64\n",
      " 20  rougher.input.floatbank11_sulfate           4860 non-null   float64\n",
      " 21  rougher.input.floatbank11_xanthate          4860 non-null   float64\n",
      " 22  primary_cleaner.input.sulfate               4860 non-null   float64\n",
      " 23  primary_cleaner.input.depressant            4860 non-null   float64\n",
      " 24  primary_cleaner.input.feed_size             4860 non-null   float64\n",
      " 25  primary_cleaner.input.xanthate              4860 non-null   float64\n",
      " 26  primary_cleaner.state.floatbank8_a_air      4860 non-null   float64\n",
      " 27  primary_cleaner.state.floatbank8_a_level    4860 non-null   float64\n",
      " 28  primary_cleaner.state.floatbank8_b_air      4860 non-null   float64\n",
      " 29  primary_cleaner.state.floatbank8_b_level    4860 non-null   float64\n",
      " 30  primary_cleaner.state.floatbank8_c_air      4860 non-null   float64\n",
      " 31  primary_cleaner.state.floatbank8_c_level    4860 non-null   float64\n",
      " 32  primary_cleaner.state.floatbank8_d_air      4860 non-null   float64\n",
      " 33  primary_cleaner.state.floatbank8_d_level    4860 non-null   float64\n",
      " 34  secondary_cleaner.state.floatbank2_a_air    4860 non-null   float64\n",
      " 35  secondary_cleaner.state.floatbank2_a_level  4860 non-null   float64\n",
      " 36  secondary_cleaner.state.floatbank2_b_air    4860 non-null   float64\n",
      " 37  secondary_cleaner.state.floatbank2_b_level  4860 non-null   float64\n",
      " 38  secondary_cleaner.state.floatbank3_a_air    4860 non-null   float64\n",
      " 39  secondary_cleaner.state.floatbank3_a_level  4860 non-null   float64\n",
      " 40  secondary_cleaner.state.floatbank3_b_air    4860 non-null   float64\n",
      " 41  secondary_cleaner.state.floatbank3_b_level  4860 non-null   float64\n",
      " 42  secondary_cleaner.state.floatbank4_a_air    4860 non-null   float64\n",
      " 43  secondary_cleaner.state.floatbank4_a_level  4860 non-null   float64\n",
      " 44  secondary_cleaner.state.floatbank4_b_air    4860 non-null   float64\n",
      " 45  secondary_cleaner.state.floatbank4_b_level  4860 non-null   float64\n",
      " 46  secondary_cleaner.state.floatbank5_a_air    4860 non-null   float64\n",
      " 47  secondary_cleaner.state.floatbank5_a_level  4860 non-null   float64\n",
      " 48  secondary_cleaner.state.floatbank5_b_air    4860 non-null   float64\n",
      " 49  secondary_cleaner.state.floatbank5_b_level  4860 non-null   float64\n",
      " 50  secondary_cleaner.state.floatbank6_a_air    4860 non-null   float64\n",
      " 51  secondary_cleaner.state.floatbank6_a_level  4860 non-null   float64\n",
      " 52  final.output.recovery                       4860 non-null   float64\n",
      " 53  rougher.output.recovery                     4860 non-null   float64\n",
      "dtypes: float64(54)\n",
      "memory usage: 2.0+ MB\n",
      "None\n",
      "\n",
      "Проверяем количество пропусков в %\n"
     ]
    },
    {
     "data": {
      "text/html": [
       "<style  type=\"text/css\" >\n",
       "#T_05da8_row0_col0,#T_05da8_row1_col0,#T_05da8_row2_col0,#T_05da8_row3_col0,#T_05da8_row4_col0,#T_05da8_row5_col0,#T_05da8_row6_col0,#T_05da8_row7_col0,#T_05da8_row8_col0,#T_05da8_row9_col0,#T_05da8_row10_col0,#T_05da8_row11_col0,#T_05da8_row12_col0,#T_05da8_row13_col0,#T_05da8_row14_col0,#T_05da8_row15_col0,#T_05da8_row16_col0,#T_05da8_row17_col0,#T_05da8_row18_col0,#T_05da8_row19_col0,#T_05da8_row20_col0,#T_05da8_row21_col0,#T_05da8_row22_col0,#T_05da8_row23_col0,#T_05da8_row24_col0,#T_05da8_row25_col0,#T_05da8_row26_col0,#T_05da8_row27_col0,#T_05da8_row28_col0,#T_05da8_row29_col0,#T_05da8_row30_col0,#T_05da8_row31_col0,#T_05da8_row32_col0,#T_05da8_row33_col0,#T_05da8_row34_col0,#T_05da8_row35_col0,#T_05da8_row36_col0,#T_05da8_row37_col0,#T_05da8_row38_col0,#T_05da8_row39_col0,#T_05da8_row40_col0,#T_05da8_row41_col0,#T_05da8_row42_col0,#T_05da8_row43_col0,#T_05da8_row44_col0,#T_05da8_row45_col0,#T_05da8_row46_col0,#T_05da8_row47_col0,#T_05da8_row48_col0,#T_05da8_row49_col0,#T_05da8_row50_col0,#T_05da8_row51_col0,#T_05da8_row52_col0,#T_05da8_row53_col0{\n",
       "            background-color:  #3b4cc0;\n",
       "            color:  #f1f1f1;\n",
       "        }</style><table id=\"T_05da8_\" ><thead>    <tr>        <th class=\"blank level0\" ></th>        <th class=\"col_heading level0 col0\" >0</th>    </tr></thead><tbody>\n",
       "                <tr>\n",
       "                        <th id=\"T_05da8_level0_row0\" class=\"row_heading level0 row0\" >rougher.input.feed_au</th>\n",
       "                        <td id=\"T_05da8_row0_col0\" class=\"data row0 col0\" >0.000000</td>\n",
       "            </tr>\n",
       "            <tr>\n",
       "                        <th id=\"T_05da8_level0_row1\" class=\"row_heading level0 row1\" >rougher.input.feed_ag</th>\n",
       "                        <td id=\"T_05da8_row1_col0\" class=\"data row1 col0\" >0.000000</td>\n",
       "            </tr>\n",
       "            <tr>\n",
       "                        <th id=\"T_05da8_level0_row2\" class=\"row_heading level0 row2\" >rougher.input.feed_pb</th>\n",
       "                        <td id=\"T_05da8_row2_col0\" class=\"data row2 col0\" >0.000000</td>\n",
       "            </tr>\n",
       "            <tr>\n",
       "                        <th id=\"T_05da8_level0_row3\" class=\"row_heading level0 row3\" >rougher.input.feed_sol</th>\n",
       "                        <td id=\"T_05da8_row3_col0\" class=\"data row3 col0\" >0.000000</td>\n",
       "            </tr>\n",
       "            <tr>\n",
       "                        <th id=\"T_05da8_level0_row4\" class=\"row_heading level0 row4\" >rougher.input.feed_rate</th>\n",
       "                        <td id=\"T_05da8_row4_col0\" class=\"data row4 col0\" >0.000000</td>\n",
       "            </tr>\n",
       "            <tr>\n",
       "                        <th id=\"T_05da8_level0_row5\" class=\"row_heading level0 row5\" >rougher.input.feed_size</th>\n",
       "                        <td id=\"T_05da8_row5_col0\" class=\"data row5 col0\" >0.000000</td>\n",
       "            </tr>\n",
       "            <tr>\n",
       "                        <th id=\"T_05da8_level0_row6\" class=\"row_heading level0 row6\" >rougher.input.floatbank10_sulfate</th>\n",
       "                        <td id=\"T_05da8_row6_col0\" class=\"data row6 col0\" >0.000000</td>\n",
       "            </tr>\n",
       "            <tr>\n",
       "                        <th id=\"T_05da8_level0_row7\" class=\"row_heading level0 row7\" >rougher.input.floatbank10_xanthate</th>\n",
       "                        <td id=\"T_05da8_row7_col0\" class=\"data row7 col0\" >0.000000</td>\n",
       "            </tr>\n",
       "            <tr>\n",
       "                        <th id=\"T_05da8_level0_row8\" class=\"row_heading level0 row8\" >rougher.state.floatbank10_a_air</th>\n",
       "                        <td id=\"T_05da8_row8_col0\" class=\"data row8 col0\" >0.000000</td>\n",
       "            </tr>\n",
       "            <tr>\n",
       "                        <th id=\"T_05da8_level0_row9\" class=\"row_heading level0 row9\" >rougher.state.floatbank10_a_level</th>\n",
       "                        <td id=\"T_05da8_row9_col0\" class=\"data row9 col0\" >0.000000</td>\n",
       "            </tr>\n",
       "            <tr>\n",
       "                        <th id=\"T_05da8_level0_row10\" class=\"row_heading level0 row10\" >rougher.state.floatbank10_b_air</th>\n",
       "                        <td id=\"T_05da8_row10_col0\" class=\"data row10 col0\" >0.000000</td>\n",
       "            </tr>\n",
       "            <tr>\n",
       "                        <th id=\"T_05da8_level0_row11\" class=\"row_heading level0 row11\" >rougher.state.floatbank10_b_level</th>\n",
       "                        <td id=\"T_05da8_row11_col0\" class=\"data row11 col0\" >0.000000</td>\n",
       "            </tr>\n",
       "            <tr>\n",
       "                        <th id=\"T_05da8_level0_row12\" class=\"row_heading level0 row12\" >rougher.state.floatbank10_c_air</th>\n",
       "                        <td id=\"T_05da8_row12_col0\" class=\"data row12 col0\" >0.000000</td>\n",
       "            </tr>\n",
       "            <tr>\n",
       "                        <th id=\"T_05da8_level0_row13\" class=\"row_heading level0 row13\" >rougher.state.floatbank10_c_level</th>\n",
       "                        <td id=\"T_05da8_row13_col0\" class=\"data row13 col0\" >0.000000</td>\n",
       "            </tr>\n",
       "            <tr>\n",
       "                        <th id=\"T_05da8_level0_row14\" class=\"row_heading level0 row14\" >rougher.state.floatbank10_d_air</th>\n",
       "                        <td id=\"T_05da8_row14_col0\" class=\"data row14 col0\" >0.000000</td>\n",
       "            </tr>\n",
       "            <tr>\n",
       "                        <th id=\"T_05da8_level0_row15\" class=\"row_heading level0 row15\" >rougher.state.floatbank10_d_level</th>\n",
       "                        <td id=\"T_05da8_row15_col0\" class=\"data row15 col0\" >0.000000</td>\n",
       "            </tr>\n",
       "            <tr>\n",
       "                        <th id=\"T_05da8_level0_row16\" class=\"row_heading level0 row16\" >rougher.state.floatbank10_e_air</th>\n",
       "                        <td id=\"T_05da8_row16_col0\" class=\"data row16 col0\" >0.000000</td>\n",
       "            </tr>\n",
       "            <tr>\n",
       "                        <th id=\"T_05da8_level0_row17\" class=\"row_heading level0 row17\" >rougher.state.floatbank10_e_level</th>\n",
       "                        <td id=\"T_05da8_row17_col0\" class=\"data row17 col0\" >0.000000</td>\n",
       "            </tr>\n",
       "            <tr>\n",
       "                        <th id=\"T_05da8_level0_row18\" class=\"row_heading level0 row18\" >rougher.state.floatbank10_f_air</th>\n",
       "                        <td id=\"T_05da8_row18_col0\" class=\"data row18 col0\" >0.000000</td>\n",
       "            </tr>\n",
       "            <tr>\n",
       "                        <th id=\"T_05da8_level0_row19\" class=\"row_heading level0 row19\" >rougher.state.floatbank10_f_level</th>\n",
       "                        <td id=\"T_05da8_row19_col0\" class=\"data row19 col0\" >0.000000</td>\n",
       "            </tr>\n",
       "            <tr>\n",
       "                        <th id=\"T_05da8_level0_row20\" class=\"row_heading level0 row20\" >rougher.input.floatbank11_sulfate</th>\n",
       "                        <td id=\"T_05da8_row20_col0\" class=\"data row20 col0\" >0.000000</td>\n",
       "            </tr>\n",
       "            <tr>\n",
       "                        <th id=\"T_05da8_level0_row21\" class=\"row_heading level0 row21\" >rougher.input.floatbank11_xanthate</th>\n",
       "                        <td id=\"T_05da8_row21_col0\" class=\"data row21 col0\" >0.000000</td>\n",
       "            </tr>\n",
       "            <tr>\n",
       "                        <th id=\"T_05da8_level0_row22\" class=\"row_heading level0 row22\" >primary_cleaner.input.sulfate</th>\n",
       "                        <td id=\"T_05da8_row22_col0\" class=\"data row22 col0\" >0.000000</td>\n",
       "            </tr>\n",
       "            <tr>\n",
       "                        <th id=\"T_05da8_level0_row23\" class=\"row_heading level0 row23\" >primary_cleaner.input.depressant</th>\n",
       "                        <td id=\"T_05da8_row23_col0\" class=\"data row23 col0\" >0.000000</td>\n",
       "            </tr>\n",
       "            <tr>\n",
       "                        <th id=\"T_05da8_level0_row24\" class=\"row_heading level0 row24\" >primary_cleaner.input.feed_size</th>\n",
       "                        <td id=\"T_05da8_row24_col0\" class=\"data row24 col0\" >0.000000</td>\n",
       "            </tr>\n",
       "            <tr>\n",
       "                        <th id=\"T_05da8_level0_row25\" class=\"row_heading level0 row25\" >primary_cleaner.input.xanthate</th>\n",
       "                        <td id=\"T_05da8_row25_col0\" class=\"data row25 col0\" >0.000000</td>\n",
       "            </tr>\n",
       "            <tr>\n",
       "                        <th id=\"T_05da8_level0_row26\" class=\"row_heading level0 row26\" >primary_cleaner.state.floatbank8_a_air</th>\n",
       "                        <td id=\"T_05da8_row26_col0\" class=\"data row26 col0\" >0.000000</td>\n",
       "            </tr>\n",
       "            <tr>\n",
       "                        <th id=\"T_05da8_level0_row27\" class=\"row_heading level0 row27\" >primary_cleaner.state.floatbank8_a_level</th>\n",
       "                        <td id=\"T_05da8_row27_col0\" class=\"data row27 col0\" >0.000000</td>\n",
       "            </tr>\n",
       "            <tr>\n",
       "                        <th id=\"T_05da8_level0_row28\" class=\"row_heading level0 row28\" >primary_cleaner.state.floatbank8_b_air</th>\n",
       "                        <td id=\"T_05da8_row28_col0\" class=\"data row28 col0\" >0.000000</td>\n",
       "            </tr>\n",
       "            <tr>\n",
       "                        <th id=\"T_05da8_level0_row29\" class=\"row_heading level0 row29\" >primary_cleaner.state.floatbank8_b_level</th>\n",
       "                        <td id=\"T_05da8_row29_col0\" class=\"data row29 col0\" >0.000000</td>\n",
       "            </tr>\n",
       "            <tr>\n",
       "                        <th id=\"T_05da8_level0_row30\" class=\"row_heading level0 row30\" >primary_cleaner.state.floatbank8_c_air</th>\n",
       "                        <td id=\"T_05da8_row30_col0\" class=\"data row30 col0\" >0.000000</td>\n",
       "            </tr>\n",
       "            <tr>\n",
       "                        <th id=\"T_05da8_level0_row31\" class=\"row_heading level0 row31\" >primary_cleaner.state.floatbank8_c_level</th>\n",
       "                        <td id=\"T_05da8_row31_col0\" class=\"data row31 col0\" >0.000000</td>\n",
       "            </tr>\n",
       "            <tr>\n",
       "                        <th id=\"T_05da8_level0_row32\" class=\"row_heading level0 row32\" >primary_cleaner.state.floatbank8_d_air</th>\n",
       "                        <td id=\"T_05da8_row32_col0\" class=\"data row32 col0\" >0.000000</td>\n",
       "            </tr>\n",
       "            <tr>\n",
       "                        <th id=\"T_05da8_level0_row33\" class=\"row_heading level0 row33\" >primary_cleaner.state.floatbank8_d_level</th>\n",
       "                        <td id=\"T_05da8_row33_col0\" class=\"data row33 col0\" >0.000000</td>\n",
       "            </tr>\n",
       "            <tr>\n",
       "                        <th id=\"T_05da8_level0_row34\" class=\"row_heading level0 row34\" >secondary_cleaner.state.floatbank2_a_air</th>\n",
       "                        <td id=\"T_05da8_row34_col0\" class=\"data row34 col0\" >0.000000</td>\n",
       "            </tr>\n",
       "            <tr>\n",
       "                        <th id=\"T_05da8_level0_row35\" class=\"row_heading level0 row35\" >secondary_cleaner.state.floatbank2_a_level</th>\n",
       "                        <td id=\"T_05da8_row35_col0\" class=\"data row35 col0\" >0.000000</td>\n",
       "            </tr>\n",
       "            <tr>\n",
       "                        <th id=\"T_05da8_level0_row36\" class=\"row_heading level0 row36\" >secondary_cleaner.state.floatbank2_b_air</th>\n",
       "                        <td id=\"T_05da8_row36_col0\" class=\"data row36 col0\" >0.000000</td>\n",
       "            </tr>\n",
       "            <tr>\n",
       "                        <th id=\"T_05da8_level0_row37\" class=\"row_heading level0 row37\" >secondary_cleaner.state.floatbank2_b_level</th>\n",
       "                        <td id=\"T_05da8_row37_col0\" class=\"data row37 col0\" >0.000000</td>\n",
       "            </tr>\n",
       "            <tr>\n",
       "                        <th id=\"T_05da8_level0_row38\" class=\"row_heading level0 row38\" >secondary_cleaner.state.floatbank3_a_air</th>\n",
       "                        <td id=\"T_05da8_row38_col0\" class=\"data row38 col0\" >0.000000</td>\n",
       "            </tr>\n",
       "            <tr>\n",
       "                        <th id=\"T_05da8_level0_row39\" class=\"row_heading level0 row39\" >secondary_cleaner.state.floatbank3_a_level</th>\n",
       "                        <td id=\"T_05da8_row39_col0\" class=\"data row39 col0\" >0.000000</td>\n",
       "            </tr>\n",
       "            <tr>\n",
       "                        <th id=\"T_05da8_level0_row40\" class=\"row_heading level0 row40\" >secondary_cleaner.state.floatbank3_b_air</th>\n",
       "                        <td id=\"T_05da8_row40_col0\" class=\"data row40 col0\" >0.000000</td>\n",
       "            </tr>\n",
       "            <tr>\n",
       "                        <th id=\"T_05da8_level0_row41\" class=\"row_heading level0 row41\" >secondary_cleaner.state.floatbank3_b_level</th>\n",
       "                        <td id=\"T_05da8_row41_col0\" class=\"data row41 col0\" >0.000000</td>\n",
       "            </tr>\n",
       "            <tr>\n",
       "                        <th id=\"T_05da8_level0_row42\" class=\"row_heading level0 row42\" >secondary_cleaner.state.floatbank4_a_air</th>\n",
       "                        <td id=\"T_05da8_row42_col0\" class=\"data row42 col0\" >0.000000</td>\n",
       "            </tr>\n",
       "            <tr>\n",
       "                        <th id=\"T_05da8_level0_row43\" class=\"row_heading level0 row43\" >secondary_cleaner.state.floatbank4_a_level</th>\n",
       "                        <td id=\"T_05da8_row43_col0\" class=\"data row43 col0\" >0.000000</td>\n",
       "            </tr>\n",
       "            <tr>\n",
       "                        <th id=\"T_05da8_level0_row44\" class=\"row_heading level0 row44\" >secondary_cleaner.state.floatbank4_b_air</th>\n",
       "                        <td id=\"T_05da8_row44_col0\" class=\"data row44 col0\" >0.000000</td>\n",
       "            </tr>\n",
       "            <tr>\n",
       "                        <th id=\"T_05da8_level0_row45\" class=\"row_heading level0 row45\" >secondary_cleaner.state.floatbank4_b_level</th>\n",
       "                        <td id=\"T_05da8_row45_col0\" class=\"data row45 col0\" >0.000000</td>\n",
       "            </tr>\n",
       "            <tr>\n",
       "                        <th id=\"T_05da8_level0_row46\" class=\"row_heading level0 row46\" >secondary_cleaner.state.floatbank5_a_air</th>\n",
       "                        <td id=\"T_05da8_row46_col0\" class=\"data row46 col0\" >0.000000</td>\n",
       "            </tr>\n",
       "            <tr>\n",
       "                        <th id=\"T_05da8_level0_row47\" class=\"row_heading level0 row47\" >secondary_cleaner.state.floatbank5_a_level</th>\n",
       "                        <td id=\"T_05da8_row47_col0\" class=\"data row47 col0\" >0.000000</td>\n",
       "            </tr>\n",
       "            <tr>\n",
       "                        <th id=\"T_05da8_level0_row48\" class=\"row_heading level0 row48\" >secondary_cleaner.state.floatbank5_b_air</th>\n",
       "                        <td id=\"T_05da8_row48_col0\" class=\"data row48 col0\" >0.000000</td>\n",
       "            </tr>\n",
       "            <tr>\n",
       "                        <th id=\"T_05da8_level0_row49\" class=\"row_heading level0 row49\" >secondary_cleaner.state.floatbank5_b_level</th>\n",
       "                        <td id=\"T_05da8_row49_col0\" class=\"data row49 col0\" >0.000000</td>\n",
       "            </tr>\n",
       "            <tr>\n",
       "                        <th id=\"T_05da8_level0_row50\" class=\"row_heading level0 row50\" >secondary_cleaner.state.floatbank6_a_air</th>\n",
       "                        <td id=\"T_05da8_row50_col0\" class=\"data row50 col0\" >0.000000</td>\n",
       "            </tr>\n",
       "            <tr>\n",
       "                        <th id=\"T_05da8_level0_row51\" class=\"row_heading level0 row51\" >secondary_cleaner.state.floatbank6_a_level</th>\n",
       "                        <td id=\"T_05da8_row51_col0\" class=\"data row51 col0\" >0.000000</td>\n",
       "            </tr>\n",
       "            <tr>\n",
       "                        <th id=\"T_05da8_level0_row52\" class=\"row_heading level0 row52\" >final.output.recovery</th>\n",
       "                        <td id=\"T_05da8_row52_col0\" class=\"data row52 col0\" >0.000000</td>\n",
       "            </tr>\n",
       "            <tr>\n",
       "                        <th id=\"T_05da8_level0_row53\" class=\"row_heading level0 row53\" >rougher.output.recovery</th>\n",
       "                        <td id=\"T_05da8_row53_col0\" class=\"data row53 col0\" >0.000000</td>\n",
       "            </tr>\n",
       "    </tbody></table>"
      ],
      "text/plain": [
       "<pandas.io.formats.style.Styler at 0x7f1c1880b3a0>"
      ]
     },
     "metadata": {},
     "output_type": "display_data"
    },
    {
     "name": "stdout",
     "output_type": "stream",
     "text": [
      "Следующий датафрейм:\n"
     ]
    }
   ],
   "source": [
    "#Проверим пропущенные значени\n",
    "for data in [data_train, data_test_target]:\n",
    "    print(data.info())\n",
    "    print()\n",
    "    print('Проверяем количество пропусков в %')\n",
    "    display(pd.DataFrame(round(data.isna().mean()*100,)).style.background_gradient('coolwarm'))\n",
    "    print('Следующий датафрейм:')"
   ]
  },
  {
   "cell_type": "markdown",
   "metadata": {},
   "source": [
    "#### Вывод:\n",
    "Мы провели предобработку данных, устранили пропуски в обучающей и тренировочной выборках, а так же добавили целевые признаки в тестовую выборку."
   ]
  },
  {
   "cell_type": "markdown",
   "metadata": {},
   "source": [
    "### Вывод:\n",
    "1. Мы ознакомились с тремя датафреймами:\n",
    "\n",
    "    * gold_industry_train.csv — обучающая выборка; дубликатов не обнаружено, всего в датафрейме 86 столбцов и 14 579 записи.Имеются пропущенные значения в столбцах, однако пропущенные значения в каждом столбце составляют не более 10% от всего датафрейма.Тип данных у всех данных - float.\n",
    "\n",
    "    * gold_industry_test.csv — тестовая выборка; дубликатов не обнаружено, всего в датафрейме 53 столбца и 4 860 записи. Имеются пропущенные значения в столбцах, однако пропущенные значения в каждом столбце составляют не более 10% от всего датафрейма. В данном датасете намного меньше признаков, чем в двух других. Тип данных у всех данных - float.\n",
    "\n",
    "    * gold_industry_full.csv — исходные данные. дубликатов не обнаружено, всего в датафрейме 87 столбцов и 19 439 записи. Имеются пропущенные значения в столбцах, однако пропущенные значения в каждом столбце составляют не более 10% от всего датафрейма. Тип данных у всех данных - float.\n",
    "\n",
    "    * Целевыми признаками являются final.output.recovery и rougher.output.recovery.\n",
    "    \n",
    "2. Проверили эффективность обогащения и найшли MAE:\n",
    "    * MAE (среднее абсолютное отклонение) между эффективностью обогащения и значением признака rougher.output.recovery составляет: 9.83758577644259e-15, что является хорошим результатом, так как значение находится близко к нулю, эффективность обогащения рассчитана правильно.\n",
    "    \n",
    "3. Провели анализ признаков, недоступных в тестовой выборке.\n",
    "4. Мы провели предобработку данных, устранили пропуски в обучающей и тренировочной выборках, а так же добавили целевые признаки в тестовую выборку."
   ]
  },
  {
   "cell_type": "markdown",
   "metadata": {},
   "source": [
    "## Анализ данных"
   ]
  },
  {
   "cell_type": "markdown",
   "metadata": {},
   "source": [
    "### Пронализируем как  меняется концентрация металлов (Au, Ag, Pb) на различных этапах отчистки"
   ]
  },
  {
   "cell_type": "code",
   "execution_count": 11,
   "metadata": {},
   "outputs": [
    {
     "name": "stdout",
     "output_type": "stream",
     "text": [
      "Концентрация до флотации (в сырье)\n",
      "Концентрация Золота: 8.27, Серебра: 8.79, Свинца: 3.60\n"
     ]
    }
   ],
   "source": [
    "print('Концентрация до флотации (в сырье)')\n",
    "print('Концентрация Золота:{: 0.2f}, Серебра:{: 0.2f}, Свинца:{: 0.2f}'.\n",
    "format(data_full['rougher.input.feed_au'].mean(),\n",
    "data_full['rougher.input.feed_ag'].mean(),\n",
    "data_full['rougher.input.feed_pb'].mean()))"
   ]
  },
  {
   "cell_type": "code",
   "execution_count": 12,
   "metadata": {},
   "outputs": [
    {
     "name": "stdout",
     "output_type": "stream",
     "text": [
      "Концентрация после флотации (черновой концентрат)\n",
      "Коцентрация Золота: 19.77, Серебра: 11.99, Свинца: 7.61\n"
     ]
    }
   ],
   "source": [
    "print('Концентрация после флотации (черновой концентрат)')\n",
    "print('Коцентрация Золота:{: 0.2f}, Серебра:{: 0.2f}, Свинца:{: 0.2f}'.\n",
    "format(data_full['rougher.output.concentrate_au'].mean(),\n",
    "data_full['rougher.output.concentrate_ag'].mean(),\n",
    "data_full['rougher.output.concentrate_pb'].mean()))"
   ]
  },
  {
   "cell_type": "code",
   "execution_count": 13,
   "metadata": {},
   "outputs": [
    {
     "name": "stdout",
     "output_type": "stream",
     "text": [
      "Концентрация после первичной очистки\n",
      "Концентрация Золота: 32.12, Серебра: 8.44, Свинца: 9.83\n"
     ]
    }
   ],
   "source": [
    "print('Концентрация после первичной очистки')\n",
    "print('Концентрация Золота:{: 0.2f}, Серебра:{: 0.2f}, Свинца:{: 0.2f}'.\n",
    "format(data_full['primary_cleaner.output.concentrate_au'].mean(),\n",
    "data_full['primary_cleaner.output.concentrate_ag'].mean(),\n",
    "data_full['primary_cleaner.output.concentrate_pb'].mean()))"
   ]
  },
  {
   "cell_type": "code",
   "execution_count": 14,
   "metadata": {},
   "outputs": [
    {
     "name": "stdout",
     "output_type": "stream",
     "text": [
      "Финальный концентрат\n",
      "Концентрация Золота: 44.08, Серебра: 5.17, Свинца: 9.98\n"
     ]
    }
   ],
   "source": [
    "print('Финальный концентрат')\n",
    "print('Концентрация Золота:{: 0.2f}, Серебра:{: 0.2f}, Свинца:{: 0.2f}'.\n",
    "format(data_full['final.output.concentrate_au'].mean(),\n",
    "data_full['final.output.concentrate_ag'].mean(),\n",
    "data_full['final.output.concentrate_pb'].mean()))"
   ]
  },
  {
   "cell_type": "markdown",
   "metadata": {},
   "source": [
    "Как мы можем наблюдать: <br>\n",
    "* концентрация золота до флотации и после вторичной отчистки значительно увеличилась с 8.27 до 44.08\n",
    "* концентрация серебра, наоборот, уменьшилась, с 8.79 до 5.17\n",
    "* концетрация свинца увеличилась, с 3.60 до 9.98"
   ]
  },
  {
   "cell_type": "code",
   "execution_count": 15,
   "metadata": {},
   "outputs": [
    {
     "data": {
      "text/plain": [
       "rougher.input.feed_au                     8.266097\n",
       "rougher.output.concentrate_au            19.772000\n",
       "primary_cleaner.output.concentrate_au    32.119400\n",
       "final.output.concentrate_au              44.076513\n",
       "dtype: float64"
      ]
     },
     "execution_count": 15,
     "metadata": {},
     "output_type": "execute_result"
    }
   ],
   "source": [
    "#Извлеку признаки каждого этапа для построения наглядного графика\n",
    "#Золото\n",
    "au_concentration = data_full[['rougher.input.feed_au', 'rougher.output.concentrate_au',\n",
    "                             'primary_cleaner.output.concentrate_au', 'final.output.concentrate_au']].mean()\n",
    "\n",
    "au_concentration"
   ]
  },
  {
   "cell_type": "code",
   "execution_count": 16,
   "metadata": {},
   "outputs": [
    {
     "data": {
      "text/plain": [
       "rougher.input.feed_ag                     8.794927\n",
       "rougher.output.concentrate_ag            11.994759\n",
       "primary_cleaner.output.concentrate_ag     8.442408\n",
       "final.output.concentrate_ag               5.168470\n",
       "dtype: float64"
      ]
     },
     "execution_count": 16,
     "metadata": {},
     "output_type": "execute_result"
    }
   ],
   "source": [
    "#Серебро\n",
    "ag_concentration = data_full[['rougher.input.feed_ag', 'rougher.output.concentrate_ag',\n",
    "                             'primary_cleaner.output.concentrate_ag', 'final.output.concentrate_ag']].mean()\n",
    "\n",
    "ag_concentration"
   ]
  },
  {
   "cell_type": "code",
   "execution_count": 17,
   "metadata": {},
   "outputs": [
    {
     "data": {
      "text/plain": [
       "rougher.input.feed_pb                    3.598085\n",
       "rougher.output.concentrate_pb            7.606272\n",
       "primary_cleaner.output.concentrate_pb    9.829530\n",
       "final.output.concentrate_pb              9.978895\n",
       "dtype: float64"
      ]
     },
     "execution_count": 17,
     "metadata": {},
     "output_type": "execute_result"
    }
   ],
   "source": [
    "#Свинец\n",
    "pb_concentration = data_full[['rougher.input.feed_pb', 'rougher.output.concentrate_pb',\n",
    "                             'primary_cleaner.output.concentrate_pb', 'final.output.concentrate_pb']].mean()\n",
    "\n",
    "pb_concentration"
   ]
  },
  {
   "cell_type": "code",
   "execution_count": 18,
   "metadata": {},
   "outputs": [
    {
     "data": {
      "image/png": "[encoded data removed]",
      "text/plain": [
       "<Figure size 1080x504 with 1 Axes>"
      ]
     },
     "metadata": {
      "needs_background": "light"
     },
     "output_type": "display_data"
    }
   ],
   "source": [
    "#Построим график для нагляядности как меняется концентрация металлов (Au, Ag, Pb) на различных этапах отчистки\n",
    "au_concentration.plot(style='-o', grid=True, figsize=(15, 7), label='Au') \n",
    "\n",
    "ag_concentration.plot(style='-o', grid=True, figsize=(15, 7), label='Ag')\n",
    "\n",
    "pb_concentration.plot(style='-o', grid=True, figsize=(15, 7), label='Pb')\n",
    "\n",
    "plt.title('Как меняется концентрация металлов (Au, Ag, Pb) на различных этапах отчистки')\n",
    "plt.ylabel('Концентрация')\n",
    "plt.xlabel('Этапы отчистки')\n",
    "plt.legend()\n",
    "plt.show()"
   ]
  },
  {
   "cell_type": "markdown",
   "metadata": {},
   "source": [
    "На графике так же наблюдается, что концентрация золота и свинца после всех этапов отчистки увеличилась, а концентрация серебра, наоборот, уменьшилась."
   ]
  },
  {
   "cell_type": "markdown",
   "metadata": {},
   "source": [
    "#### Вывод:\n",
    "Мы проанализировали как меняется концентрация металлов (Au, Ag, Pb) на различных этапах отчистки: <br>\n",
    "   * концентрация золота до флотации и после вторичной отчистки значительно увеличилась с 8.27 до 44.08\n",
    "   * концентрация серебра, наоборот, уменьшилась, с 8.79 до 5.17\n",
    "   * концетрация свинца увеличилась, с 3.60 до 9.98"
   ]
  },
  {
   "cell_type": "markdown",
   "metadata": {},
   "source": [
    "### Сравниваем распределения размеров гранул исходного сырья на обучающей и тестовой выборках"
   ]
  },
  {
   "cell_type": "code",
   "execution_count": 19,
   "metadata": {},
   "outputs": [
    {
     "name": "stderr",
     "output_type": "stream",
     "text": [
      "/opt/conda/lib/python3.9/site-packages/seaborn/distributions.py:2557: FutureWarning: `distplot` is a deprecated function and will be removed in a future version. Please adapt your code to use either `displot` (a figure-level function with similar flexibility) or `histplot` (an axes-level function for histograms).\n",
      "  warnings.warn(msg, FutureWarning)\n",
      "/opt/conda/lib/python3.9/site-packages/seaborn/distributions.py:2557: FutureWarning: `distplot` is a deprecated function and will be removed in a future version. Please adapt your code to use either `displot` (a figure-level function with similar flexibility) or `histplot` (an axes-level function for histograms).\n",
      "  warnings.warn(msg, FutureWarning)\n"
     ]
    },
    {
     "data": {
      "image/png": "[encoded data removed]",
      "text/plain": [
       "<Figure size 1080x576 with 1 Axes>"
      ]
     },
     "metadata": {
      "needs_background": "light"
     },
     "output_type": "display_data"
    }
   ],
   "source": [
    "#Построим графики для сравнения распределения размеров гранул исходного сырья на обучающей и тестовой выборках \n",
    "#на этапе флотации\n",
    "plt.figure(figsize=(15,8))\n",
    "sns.distplot(data_train['rougher.input.feed_size'],label='train')\n",
    "sns.distplot(data_test_target['rougher.input.feed_size'],label='test')\n",
    "plt.title('Распределения размеров гранул исходного сырья на обучающей и тестовой выборках на этапе флотации')\n",
    "plt.legend()\n",
    "plt.ylabel('Частота')\n",
    "plt.xlabel('Размер гранул сырья')\n",
    "plt.show();"
   ]
  },
  {
   "cell_type": "code",
   "execution_count": 20,
   "metadata": {},
   "outputs": [
    {
     "data": {
      "image/png": "[encoded data removed]",
      "text/plain": [
       "<Figure size 432x288 with 1 Axes>"
      ]
     },
     "metadata": {
      "needs_background": "light"
     },
     "output_type": "display_data"
    }
   ],
   "source": [
    "y1 = data_train['rougher.input.feed_size']\n",
    "y2 = data_test_target['rougher.input.feed_size']\n",
    "\n",
    "plt.hist(y1, bins=100, range=(0, 150), color='red', label='train', alpha=0.5)\n",
    "plt.hist(y2, bins=100, range=(0, 150), color='blue', label='test', alpha=0.5)\n",
    "plt.legend(loc='center right')\n",
    "plt.title('Распределения размеров гранул исходного сырья на обучающей и тестовой выборках на этапе флотации')\n",
    "plt.ylabel('Частота')\n",
    "plt.xlabel('Размер гранул сырья')\n",
    "plt.show()"
   ]
  },
  {
   "cell_type": "code",
   "execution_count": 21,
   "metadata": {},
   "outputs": [
    {
     "name": "stderr",
     "output_type": "stream",
     "text": [
      "/opt/conda/lib/python3.9/site-packages/seaborn/distributions.py:2557: FutureWarning: `distplot` is a deprecated function and will be removed in a future version. Please adapt your code to use either `displot` (a figure-level function with similar flexibility) or `histplot` (an axes-level function for histograms).\n",
      "  warnings.warn(msg, FutureWarning)\n",
      "/opt/conda/lib/python3.9/site-packages/seaborn/distributions.py:2557: FutureWarning: `distplot` is a deprecated function and will be removed in a future version. Please adapt your code to use either `displot` (a figure-level function with similar flexibility) or `histplot` (an axes-level function for histograms).\n",
      "  warnings.warn(msg, FutureWarning)\n"
     ]
    },
    {
     "data": {
      "image/png": "[encoded data removed]",
      "text/plain": [
       "<Figure size 1080x576 with 1 Axes>"
      ]
     },
     "metadata": {
      "needs_background": "light"
     },
     "output_type": "display_data"
    }
   ],
   "source": [
    "#Построим графики для сравнения распределения размеров гранул исходного сырья на обучающей и тестовой выборках \n",
    "#на этапе первичной отчистки\n",
    "plt.figure(figsize=(15,8))\n",
    "sns.distplot(data_train['primary_cleaner.input.feed_size'],label='train')\n",
    "sns.distplot(data_test_target['primary_cleaner.input.feed_size'],label='test')\n",
    "plt.title('Распределения размеров гранул исходного сырья на обучающей и тестовой выборках на этапе первичной отчистки')\n",
    "plt.legend()\n",
    "plt.ylabel('Частота')\n",
    "plt.xlabel('Размер гранул сырья')\n",
    "plt.show();"
   ]
  },
  {
   "cell_type": "code",
   "execution_count": 22,
   "metadata": {},
   "outputs": [
    {
     "data": {
      "image/png": "[encoded data removed]",
      "text/plain": [
       "<Figure size 432x288 with 1 Axes>"
      ]
     },
     "metadata": {
      "needs_background": "light"
     },
     "output_type": "display_data"
    }
   ],
   "source": [
    "y1 = data_train['primary_cleaner.input.feed_size']\n",
    "y2 = data_test_target['primary_cleaner.input.feed_size']\n",
    "\n",
    "plt.hist(y1, bins=100, range=(0, 15), color='red', label='train', alpha=0.5)\n",
    "plt.hist(y2, bins=100, range=(0, 15), color='blue', label='test', alpha=0.5)\n",
    "plt.rcParams['figure.figsize'] = (15, 5)\n",
    "plt.legend()\n",
    "plt.title('Распределения размеров гранул исходного сырья на обучающей и тестовой выборках на этапе первичной отчистки')\n",
    "plt.ylabel('Частота')\n",
    "plt.xlabel('Размер гранул сырья')\n",
    "plt.show()"
   ]
  },
  {
   "cell_type": "markdown",
   "metadata": {},
   "source": [
    "#### Вывод:\n",
    "Мы сравнили распределения размеров гранул исходного сырья на обучающей и тестовой выборках: <br>\n",
    "* Размер гранул исходного сырья на обучающей и тестовой выборках на этапе флотации примерно одинаковое и равняется 47;\n",
    "* Размер гранул исходного сырья на обучающей и тестовой выборках на этапе первичной отчистки примерно одинаковое и равняется 7.5;\n",
    "* Распределения размеров гранул не сильно отличаются друг от друга, поэтому можно смело предположить, что оценка модели будет правильной.\n"
   ]
  },
  {
   "cell_type": "markdown",
   "metadata": {},
   "source": [
    "### Исследуем суммарную концентрацию металлов на разных стадиях: в сырье, в черновом концентрате, в концентрате после первой очистки и в финальном концентрате"
   ]
  },
  {
   "cell_type": "code",
   "execution_count": 23,
   "metadata": {},
   "outputs": [
    {
     "data": {
      "text/html": [
       "<div>\n",
       "<style scoped>\n",
       "    .dataframe tbody tr th:only-of-type {\n",
       "        vertical-align: middle;\n",
       "    }\n",
       "\n",
       "    .dataframe tbody tr th {\n",
       "        vertical-align: top;\n",
       "    }\n",
       "\n",
       "    .dataframe thead th {\n",
       "        text-align: right;\n",
       "    }\n",
       "</style>\n",
       "<table border=\"1\" class=\"dataframe\">\n",
       "  <thead>\n",
       "    <tr style=\"text-align: right;\">\n",
       "      <th></th>\n",
       "      <th>rougher.input.feed</th>\n",
       "      <th>rougher.output.concentrate</th>\n",
       "      <th>primary_cleaner.output.concentrate</th>\n",
       "      <th>final.output.concentrate</th>\n",
       "    </tr>\n",
       "  </thead>\n",
       "  <tbody>\n",
       "    <tr>\n",
       "      <th>count</th>\n",
       "      <td>19245.000000</td>\n",
       "      <td>19416.000000</td>\n",
       "      <td>19069.000000</td>\n",
       "      <td>19227.000000</td>\n",
       "    </tr>\n",
       "    <tr>\n",
       "      <th>mean</th>\n",
       "      <td>57.407926</td>\n",
       "      <td>68.188914</td>\n",
       "      <td>60.949928</td>\n",
       "      <td>68.727562</td>\n",
       "    </tr>\n",
       "    <tr>\n",
       "      <th>std</th>\n",
       "      <td>7.165219</td>\n",
       "      <td>12.478522</td>\n",
       "      <td>9.953770</td>\n",
       "      <td>7.423741</td>\n",
       "    </tr>\n",
       "    <tr>\n",
       "      <th>min</th>\n",
       "      <td>0.040000</td>\n",
       "      <td>0.000000</td>\n",
       "      <td>0.000000</td>\n",
       "      <td>0.000000</td>\n",
       "    </tr>\n",
       "    <tr>\n",
       "      <th>25%</th>\n",
       "      <td>53.660745</td>\n",
       "      <td>66.026048</td>\n",
       "      <td>59.165854</td>\n",
       "      <td>67.985659</td>\n",
       "    </tr>\n",
       "    <tr>\n",
       "      <th>50%</th>\n",
       "      <td>57.647093</td>\n",
       "      <td>70.186130</td>\n",
       "      <td>62.615189</td>\n",
       "      <td>69.632597</td>\n",
       "    </tr>\n",
       "    <tr>\n",
       "      <th>75%</th>\n",
       "      <td>62.012223</td>\n",
       "      <td>74.362878</td>\n",
       "      <td>65.725507</td>\n",
       "      <td>71.390461</td>\n",
       "    </tr>\n",
       "    <tr>\n",
       "      <th>max</th>\n",
       "      <td>76.978947</td>\n",
       "      <td>88.140119</td>\n",
       "      <td>80.749343</td>\n",
       "      <td>80.210644</td>\n",
       "    </tr>\n",
       "  </tbody>\n",
       "</table>\n",
       "</div>"
      ],
      "text/plain": [
       "       rougher.input.feed  rougher.output.concentrate  \\\n",
       "count        19245.000000                19416.000000   \n",
       "mean            57.407926                   68.188914   \n",
       "std              7.165219                   12.478522   \n",
       "min              0.040000                    0.000000   \n",
       "25%             53.660745                   66.026048   \n",
       "50%             57.647093                   70.186130   \n",
       "75%             62.012223                   74.362878   \n",
       "max             76.978947                   88.140119   \n",
       "\n",
       "       primary_cleaner.output.concentrate  final.output.concentrate  \n",
       "count                        19069.000000              19227.000000  \n",
       "mean                            60.949928                 68.727562  \n",
       "std                              9.953770                  7.423741  \n",
       "min                              0.000000                  0.000000  \n",
       "25%                             59.165854                 67.985659  \n",
       "50%                             62.615189                 69.632597  \n",
       "75%                             65.725507                 71.390461  \n",
       "max                             80.749343                 80.210644  "
      ]
     },
     "execution_count": 23,
     "metadata": {},
     "output_type": "execute_result"
    }
   ],
   "source": [
    "#Построим новую таблицу и наглядный график для понимания выбросов, \n",
    "#а так же для исследования суммарной концентрации металлов на разных стадиях\n",
    "concentration_sum = pd.DataFrame()\n",
    "\n",
    "#Суммарная концентрация металлов до флотации (в сырье)\n",
    "concentration_sum['rougher.input.feed'] = data_full['rougher.input.feed_au'] \\\n",
    "+ data_full['rougher.input.feed_ag'] \\\n",
    "+ data_full['rougher.input.feed_pb'] \\\n",
    "+ data_full['rougher.input.feed_sol']\n",
    "\n",
    "#Суммарная концентрация металлов после флотации (черновой концентрат)\n",
    "concentration_sum['rougher.output.concentrate'] = data_full['rougher.output.concentrate_au'] \\\n",
    "+ data_full['rougher.output.concentrate_ag'] \\\n",
    "+ data_full['rougher.output.concentrate_pb'] \\\n",
    "+ data_full['rougher.output.concentrate_sol']\n",
    "\n",
    "#Суммарная концентрация металлов после первичной отчистки \n",
    "concentration_sum['primary_cleaner.output.concentrate'] = data_full['primary_cleaner.output.concentrate_au'] \\\n",
    "+ data_full['primary_cleaner.output.concentrate_ag'] \\\n",
    "+ data_full['primary_cleaner.output.concentrate_pb'] \\\n",
    "+ data_full['primary_cleaner.output.concentrate_sol']\n",
    "\n",
    "#Суммарный финальный концентрат металлов\n",
    "concentration_sum['final.output.concentrate'] = data_full['final.output.concentrate_au'] \\\n",
    "+ data_full['final.output.concentrate_ag'] \\\n",
    "+ data_full['final.output.concentrate_pb'] \\\n",
    "+ data_full['final.output.concentrate_sol']\n",
    "\n",
    "concentration_sum.describe()"
   ]
  },
  {
   "cell_type": "markdown",
   "metadata": {},
   "source": [
    "* Как мы можем заметить, в суммарной концентрации металов среднее и медиана (50%) почти не отличаются, следовательно, выборосов предполагается не много;\n",
    "* Суммарная концентрация металлов до флотации (в сырье) в среднем равняется 57.41;\n",
    "* Суммарная концентрация металлов после флотации (черновой концентрат) в среднем равняется 68.19;\n",
    "* Суммарная концентрация металлов после первичной отчистки в среднем равняется 60.95;\n",
    "* Суммарный финальный концентрат металлов в среднем равняется 68.73."
   ]
  },
  {
   "cell_type": "code",
   "execution_count": 24,
   "metadata": {},
   "outputs": [
    {
     "data": {
      "image/png": "[encoded data removed]",
      "text/plain": [
       "<Figure size 1080x360 with 1 Axes>"
      ]
     },
     "metadata": {
      "needs_background": "light"
     },
     "output_type": "display_data"
    }
   ],
   "source": [
    "#Построим график\n",
    "y1 = concentration_sum['rougher.input.feed']\n",
    "y2 = concentration_sum['rougher.output.concentrate']\n",
    "y3 = concentration_sum['primary_cleaner.output.concentrate']\n",
    "y4 = concentration_sum['final.output.concentrate']\n",
    "\n",
    "plt.hist(y1, bins=150, range=(0, 90), color='grey', label='Сумм. концентрация до флотации (в сырье)', alpha=0.5)\n",
    "plt.hist(y2, bins=150, range=(0, 90), color='red', label='Сумм. концентрация после флотации (черновой концентрат)', alpha=0.5)\n",
    "plt.hist(y3, bins=150, range=(0, 90), color='blue', label='Сумм. концентрация после первичной отчистки ', alpha=0.5)\n",
    "plt.hist(y4, bins=150, range=(0, 90), color='green', label='Суммарный финальный концентрат', alpha=0.5)\n",
    "\n",
    "plt.rcParams['figure.figsize'] = (20, 10)\n",
    "plt.legend()\n",
    "plt.title('Суммарная концентрация металлов на разных стадиях')\n",
    "plt.ylabel('Частота')\n",
    "plt.xlabel('Размер')\n",
    "plt.show()"
   ]
  },
  {
   "cell_type": "markdown",
   "metadata": {},
   "source": [
    "* На графике мы можем наблюдать, что присутствует всплеск значений около нуля, что соответсвует выбросам. Эти данные следует удалить, чтобы наша модель предсказывала верно;\n",
    "* Наблюдаются высокие значения у финального концетрата;\n",
    "* Концентрация металлов до флотации (в сырье) и концентрация металлов после флотации (черновой концентрат) находятся примерно на одном уровне."
   ]
  },
  {
   "cell_type": "code",
   "execution_count": 25,
   "metadata": {},
   "outputs": [
    {
     "data": {
      "image/png": "[encoded data removed]",
      "text/plain": [
       "<Figure size 1224x720 with 1 Axes>"
      ]
     },
     "metadata": {
      "needs_background": "light"
     },
     "output_type": "display_data"
    }
   ],
   "source": [
    "#Построим боксплот\n",
    "plt.figure(figsize=(17,10))\n",
    "a=sns.set(style=\"whitegrid\")\n",
    "a=sns.boxplot(data=concentration_sum)"
   ]
  },
  {
   "cell_type": "markdown",
   "metadata": {},
   "source": [
    "На графике \"ящик с усами\" мы можем так же наблюдать, что значенительные выбросы присутсвуют около 0, однако есть выбросы и до 40, однако медиана распределена нормально и находится ровно посередине от 0.25 и 0.75 квантилей, предполагаю, что выбросы до 40 не значительны, поэтому принимаем решение их не устранять. Выбросы до 1 будут удалены. "
   ]
  },
  {
   "cell_type": "code",
   "execution_count": 26,
   "metadata": {},
   "outputs": [],
   "source": [
    "#Удаляем выбросы до 1\n",
    "#в тренировочной выборке\n",
    "data_train = data_train.drop(data_train[data_train['rougher.input.feed_au'] < 1].index)\n",
    "data_train = data_train.drop(data_train[data_train['rougher.input.feed_ag'] < 1].index)\n",
    "data_train = data_train.drop(data_train[data_train['rougher.input.feed_pb'] < 1].index)\n",
    "data_train = data_train.drop(data_train[data_train['rougher.input.feed_sol'] < 1].index)\n",
    "\n",
    "data_train = data_train.drop(data_train[data_train['rougher.output.concentrate_au'] < 1].index)\n",
    "data_train = data_train.drop(data_train[data_train['rougher.output.concentrate_ag'] < 1].index)\n",
    "data_train = data_train.drop(data_train[data_train['rougher.output.concentrate_pb'] < 1].index)\n",
    "data_train = data_train.drop(data_train[data_train['rougher.output.concentrate_sol'] < 1].index)\n",
    "\n",
    "data_train = data_train.drop(data_train[data_train['primary_cleaner.output.concentrate_au'] < 1].index)\n",
    "data_train = data_train.drop(data_train[data_train['primary_cleaner.output.concentrate_ag'] < 1].index)\n",
    "data_train = data_train.drop(data_train[data_train['primary_cleaner.output.concentrate_pb'] < 1].index)\n",
    "data_train = data_train.drop(data_train[data_train['primary_cleaner.output.concentrate_sol'] < 1].index)\n",
    "\n",
    "data_train = data_train.drop(data_train[data_train['final.output.concentrate_au'] < 1].index)\n",
    "data_train = data_train.drop(data_train[data_train['final.output.concentrate_ag'] < 1].index)\n",
    "data_train = data_train.drop(data_train[data_train['final.output.concentrate_pb'] < 1].index)\n",
    "data_train = data_train.drop(data_train[data_train['final.output.concentrate_sol'] < 1].index)"
   ]
  },
  {
   "cell_type": "code",
   "execution_count": 27,
   "metadata": {},
   "outputs": [],
   "source": [
    "#в исходных данных\n",
    "data_full = data_full.drop(data_full[data_full['rougher.input.feed_au'] < 1].index)\n",
    "data_full = data_full.drop(data_full[data_full['rougher.input.feed_ag'] < 1].index)\n",
    "data_full = data_full.drop(data_full[data_full['rougher.input.feed_pb'] < 1].index)\n",
    "data_full = data_full.drop(data_full[data_full['rougher.input.feed_sol'] < 1].index)\n",
    "\n",
    "data_full = data_full.drop(data_full[data_full['rougher.output.concentrate_au'] < 1].index)\n",
    "data_full = data_full.drop(data_full[data_full['rougher.output.concentrate_ag'] < 1].index)\n",
    "data_full = data_full.drop(data_full[data_full['rougher.output.concentrate_pb'] < 1].index)\n",
    "data_full = data_full.drop(data_full[data_full['rougher.output.concentrate_sol'] < 1].index)\n",
    "\n",
    "data_full = data_full.drop(data_full[data_full['primary_cleaner.output.concentrate_au'] < 1].index)\n",
    "data_full = data_full.drop(data_full[data_full['primary_cleaner.output.concentrate_ag'] < 1].index)\n",
    "data_full = data_full.drop(data_full[data_full['primary_cleaner.output.concentrate_pb'] < 1].index)\n",
    "data_full = data_full.drop(data_full[data_full['primary_cleaner.output.concentrate_sol'] < 1].index)\n",
    "\n",
    "data_full = data_full.drop(data_full[data_full['final.output.concentrate_au'] < 1].index)\n",
    "data_full = data_full.drop(data_full[data_full['final.output.concentrate_ag'] < 1].index)\n",
    "data_full = data_full.drop(data_full[data_full['final.output.concentrate_pb'] < 1].index)\n",
    "data_full = data_full.drop(data_full[data_full['final.output.concentrate_sol'] < 1].index)"
   ]
  },
  {
   "cell_type": "code",
   "execution_count": 28,
   "metadata": {},
   "outputs": [],
   "source": [
    "#в тестовой выборке\n",
    "data_test_target = data_test_target.drop(data_test_target[data_test_target['rougher.input.feed_au'] < 1].index)\n",
    "data_test_target = data_test_target.drop(data_test_target[data_test_target['rougher.input.feed_ag'] < 1].index)\n",
    "data_test_target = data_test_target.drop(data_test_target[data_test_target['rougher.input.feed_pb'] < 1].index)\n",
    "data_test_target = data_test_target.drop(data_test_target[data_test_target['rougher.input.feed_sol'] < 1].index)"
   ]
  },
  {
   "cell_type": "markdown",
   "metadata": {},
   "source": [
    "#### Вывод:\n",
    "Мы исследовали суммарную концентрацию металлов на разных стадиях: в сырье, в черновом концентрате, в концентрате после первой очистки и в финальном концентрате, а так же выявили и устранили выбросы: <br>\n",
    "   * суммарная концентрация металлов до флотации (в сырье) в среднем равняется 57.41;\n",
    "   * суммарная концентрация металлов после флотации (черновой концентрат) в среднем равняется 68.19;\n",
    "   * суммарная концентрация металлов после первичной отчистки в среднем равняется 60.95;\n",
    "   * суммарный финальный концентрат металлов в среднем равняется 68.73;\n",
    "   * выбросы до 1 удалены."
   ]
  },
  {
   "cell_type": "markdown",
   "metadata": {},
   "source": [
    "### Вывод:\n",
    "1. Мы проанализировали как меняется концентрация металлов (Au, Ag, Pb) на различных этапах отчистки:\n",
    "   * концентрация золота до флотации и после вторичной отчистки значительно увеличилась с 8.27 до 44.08\n",
    "   * концентрация серебра, наоборот, уменьшилась, с 8.79 до 5.17\n",
    "   * концетрация свинца увеличилась, с 3.60 до 9.98\n",
    "2. Мы сравнили распределения размеров гранул исходного сырья на обучающей и тестовой выборках:\n",
    "   * размер гранул исходного сырья на обучающей и тестовой выборках на этапе флотации примерно одинаковое и равняется 47;\n",
    "   * размер гранул исходного сырья на обучающей и тестовой выборках на этапе первичной отчистки примерно одинаковое и равняется 7.5;\n",
    "   * распределения размеров гранул не сильно отличаются друг от друга, поэтому можно смело предположить, что оценка модели будет правильной.\n",
    "3. Мы исследовали суммарную концентрацию металлов на разных стадиях: в сырье, в черновом концентрате, в концентрате после первой очистки и в финальном концентрате, а так же выявили и устранили выбросы:\n",
    "   * суммарная концентрация металлов до флотации (в сырье) в среднем равняется 57.41;\n",
    "   * суммарная концентрация металлов после флотации (черновой концентрат) в среднем равняется 68.19;\n",
    "   * суммарная концентрация металлов после первичной отчистки в среднем равняется 60.95;\n",
    "   * суммарный финальный концентрат металлов в среднем равняется 68.73;\n",
    "   * выбросы до 1 удалены.\n"
   ]
  },
  {
   "cell_type": "markdown",
   "metadata": {},
   "source": [
    "## Модель"
   ]
  },
  {
   "cell_type": "markdown",
   "metadata": {},
   "source": [
    "### Функция для вычисления итоговой sMAPE"
   ]
  },
  {
   "cell_type": "code",
   "execution_count": 29,
   "metadata": {},
   "outputs": [],
   "source": [
    "#В Python нет встроенной функции для вычисления sMAPE, но мы можем создать для этого функцию:\n",
    "def smape_func(target, predict):\n",
    "    smape = np.mean(abs(target - predict) / ((abs(target) + abs(predict)) / 2)) * 100\n",
    "    return smape"
   ]
  },
  {
   "cell_type": "code",
   "execution_count": 30,
   "metadata": {},
   "outputs": [],
   "source": [
    "#Создаем функцию для итоговой sMAPE\n",
    "def summary_smape_funs(smape_rougher, smape_final):\n",
    "    return (0.25 * smape_rougher + 0.75 * smape_final)"
   ]
  },
  {
   "cell_type": "markdown",
   "metadata": {},
   "source": [
    "#### Вывод:\n",
    "Функция для вычисления итоговой sMAPE написана."
   ]
  },
  {
   "cell_type": "markdown",
   "metadata": {},
   "source": [
    "### Обучение разных моделей и оценка их качества кросс-валидацией"
   ]
  },
  {
   "cell_type": "code",
   "execution_count": 31,
   "metadata": {},
   "outputs": [],
   "source": [
    "#Извлекаем признаки и целевой признак для обучающей выборки\n",
    "features_train = data_train.drop(['rougher.output.recovery', 'final.output.recovery',\n",
    "                                      'rougher.output.concentrate_au', 'primary_cleaner.output.tail_pb',\n",
    "                                      'final.output.concentrate_au', 'primary_cleaner.output.concentrate_pb',\n",
    "                                      'final.output.tail_sol',\n",
    "                                      'rougher.calculation.floatbank10_sulfate_to_au_feed',\n",
    "                                      'rougher.output.tail_sol', 'final.output.tail_au',\n",
    "                                      'primary_cleaner.output.concentrate_ag',\n",
    "                                      'rougher.calculation.floatbank11_sulfate_to_au_feed',\n",
    "                                      'rougher.output.tail_ag', 'rougher.output.tail_pb',\n",
    "                                      'secondary_cleaner.output.tail_pb', 'final.output.tail_ag',\n",
    "                                      'final.output.concentrate_sol', 'primary_cleaner.output.tail_au',\n",
    "                                      'secondary_cleaner.output.tail_sol', 'secondary_cleaner.output.tail_ag',\n",
    "                                      'rougher.output.tail_au', 'rougher.output.concentrate_ag',\n",
    "                                      'primary_cleaner.output.concentrate_sol', 'final.output.concentrate_pb',\n",
    "                                      'final.output.concentrate_ag', 'secondary_cleaner.output.tail_au',\n",
    "                                      'rougher.output.concentrate_pb', 'rougher.output.concentrate_sol',\n",
    "                                      'primary_cleaner.output.tail_sol',\n",
    "                                      'rougher.calculation.sulfate_to_au_concentrate',\n",
    "                                      'final.output.tail_pb', 'primary_cleaner.output.concentrate_au',\n",
    "                                      'primary_cleaner.output.tail_ag', 'rougher.calculation.au_pb_ratio'], axis=1)\n",
    "\n",
    "target_train = data_train[['rougher.output.recovery','final.output.recovery']] "
   ]
  },
  {
   "cell_type": "code",
   "execution_count": 32,
   "metadata": {},
   "outputs": [
    {
     "data": {
      "text/plain": [
       "(13659, 52)"
      ]
     },
     "execution_count": 32,
     "metadata": {},
     "output_type": "execute_result"
    }
   ],
   "source": [
    "features_train.shape"
   ]
  },
  {
   "cell_type": "code",
   "execution_count": 33,
   "metadata": {},
   "outputs": [
    {
     "data": {
      "text/plain": [
       "(13659, 2)"
      ]
     },
     "execution_count": 33,
     "metadata": {},
     "output_type": "execute_result"
    }
   ],
   "source": [
    "target_train.shape"
   ]
  },
  {
   "cell_type": "code",
   "execution_count": 37,
   "metadata": {},
   "outputs": [],
   "source": [
    "smape_scorer = make_scorer(smape_func, greater_is_better=False)"
   ]
  },
  {
   "cell_type": "markdown",
   "metadata": {},
   "source": [
    "**Модель линейной регрессии**"
   ]
  },
  {
   "cell_type": "code",
   "execution_count": 38,
   "metadata": {},
   "outputs": [
    {
     "name": "stdout",
     "output_type": "stream",
     "text": [
      "Средняя оценка smape_rougher модели линейной регрессии: 6.984\n"
     ]
    }
   ],
   "source": [
    "#Модель линейной регрессии\n",
    "model_lg = LinearRegression()\n",
    "\n",
    "#Применим кроссвалидацию и вычислим smape_rougher\n",
    "scores_model_lg = cross_val_score(model_lg,\n",
    "                                 features_train,\n",
    "                                 target_train['rougher.output.recovery'],\n",
    "                                 scoring=smape_scorer,\n",
    "                                 cv=5)\n",
    "smape_rougher_lg = np.mean(abs(scores_model_lg))\n",
    "print('Средняя оценка smape_rougher модели линейной регрессии:', round(smape_rougher_lg, 3))"
   ]
  },
  {
   "cell_type": "code",
   "execution_count": 39,
   "metadata": {},
   "outputs": [
    {
     "name": "stdout",
     "output_type": "stream",
     "text": [
      "Средняя оценка smape_final модели линейной регрессии: 9.295\n"
     ]
    }
   ],
   "source": [
    "#Применим кроссвалидацию и вычислим smape_final\n",
    "scores_model_lg = cross_val_score(model_lg,\n",
    "                                 features_train,\n",
    "                                 target_train['final.output.recovery'],\n",
    "                                 scoring=smape_scorer,\n",
    "                                 cv=5)\n",
    "smape_final_lg = np.mean(abs(scores_model_lg))\n",
    "print('Средняя оценка smape_final модели линейной регрессии:', round(smape_final_lg, 3))"
   ]
  },
  {
   "cell_type": "code",
   "execution_count": 40,
   "metadata": {},
   "outputs": [
    {
     "name": "stdout",
     "output_type": "stream",
     "text": [
      "Итоговое sMAPE для модели линейной регрессии является: 8.717\n"
     ]
    }
   ],
   "source": [
    "#Вычисим итоговое sMAPE\n",
    "smape_total_lg = summary_smape_funs(smape_rougher_lg, smape_final_lg)\n",
    "print('Итоговое sMAPE для модели линейной регрессии является:', round(smape_total_lg, 3))"
   ]
  },
  {
   "cell_type": "markdown",
   "metadata": {},
   "source": [
    "Мы обучили модель линейной регрессии и оценили качество кросс-валидацией:\n",
    "* Средняя оценка smape_rougher модели линейной регрессии является 6.984;\n",
    "* Средняя оценка smape_final модели линейной регрессии 9.295;\n",
    "* Итоговое sMAPE (относительная ошибка прогноза) для модели линейной регрессии составляет 8.717."
   ]
  },
  {
   "cell_type": "markdown",
   "metadata": {},
   "source": [
    "**Модель решающего дерева**"
   ]
  },
  {
   "cell_type": "code",
   "execution_count": 41,
   "metadata": {},
   "outputs": [
    {
     "name": "stdout",
     "output_type": "stream",
     "text": [
      "Лучшие параметры: {'max_depth': 6, 'min_samples_leaf': 1, 'min_samples_split': 5}\n",
      "Средняя оценка smape_rougher модели решающего дерева: 6.946\n",
      "CPU times: user 3min 46s, sys: 1.66 s, total: 3min 48s\n",
      "Wall time: 3min 50s\n"
     ]
    }
   ],
   "source": [
    "%%time\n",
    "#Модель дерева решений, вычислим smape_rougher\n",
    "model_dtr = DecisionTreeRegressor(random_state=12345)\n",
    "parametrs = {'max_depth': range (1, 30, 5),\n",
    "              'min_samples_leaf': range (1, 5),\n",
    "              'min_samples_split': range (2, 6)}\n",
    "\n",
    "scores_rougher_dtr = GridSearchCV(model_dtr,\n",
    "                                 parametrs,\n",
    "                                 scoring=smape_scorer,\n",
    "                                 cv=5)\n",
    "scores_rougher_dtr.fit(features_train, target_train['rougher.output.recovery'])\n",
    "best_score_rougher_dtr = abs(round(scores_rougher_dtr.best_score_, 3))\n",
    "                                 \n",
    "print('Лучшие параметры:', scores_rougher_dtr.best_params_)\n",
    "print('Средняя оценка smape_rougher модели решающего дерева:', best_score_rougher_dtr)"
   ]
  },
  {
   "cell_type": "code",
   "execution_count": 42,
   "metadata": {},
   "outputs": [
    {
     "name": "stdout",
     "output_type": "stream",
     "text": [
      "Лучшие параметры: {'max_depth': 1, 'min_samples_leaf': 1, 'min_samples_split': 2}\n",
      "Средняя оценка smape_final модели решающего дерева: 8.84\n",
      "CPU times: user 3min 58s, sys: 1.29 s, total: 4min\n",
      "Wall time: 4min\n"
     ]
    }
   ],
   "source": [
    "%%time\n",
    "#Модель дерева решений, вычислим smape_final\n",
    "model_dtr = DecisionTreeRegressor(random_state=12345)\n",
    "parametrs = {'max_depth': range (1, 30, 5),\n",
    "              'min_samples_leaf': range (1, 5),\n",
    "              'min_samples_split': range (2, 6)}\n",
    "\n",
    "scores_final_dtr = GridSearchCV(model_dtr,\n",
    "                                 parametrs,\n",
    "                                 scoring=smape_scorer,\n",
    "                                 cv=5)\n",
    "scores_final_dtr.fit(features_train, target_train['final.output.recovery'])\n",
    "best_score_final_dtr = abs(round(scores_final_dtr.best_score_, 3))\n",
    "\n",
    "print('Лучшие параметры:', scores_final_dtr.best_params_)\n",
    "print('Средняя оценка smape_final модели решающего дерева:', best_score_final_dtr)"
   ]
  },
  {
   "cell_type": "code",
   "execution_count": 43,
   "metadata": {
    "scrolled": true
   },
   "outputs": [
    {
     "name": "stdout",
     "output_type": "stream",
     "text": [
      "Итоговое sMAPE для модели решающего дерева является: 8.366\n"
     ]
    }
   ],
   "source": [
    "#Вычисим итоговое sMAPE модели дерева решений\n",
    "smape_total_dtr = summary_smape_funs(best_score_rougher_dtr, best_score_final_dtr)\n",
    "print('Итоговое sMAPE для модели решающего дерева является:', round(smape_total_dtr, 3))"
   ]
  },
  {
   "cell_type": "markdown",
   "metadata": {},
   "source": [
    "Мы обучили модель дерева решений и оценили качество кросс-валидацией:\n",
    "* Средняя оценка smape_rougher модели решающего дерева 6.946, лучшими параметрами являются, глубина дерева 6, минимальное количество объектов в листе 1, минимальное количество примеров для разделения 5;\n",
    "* Средняя оценка smape_final модели решающего дерева 8.84, лучшими параметрами являются, глубина дерева 1, минимальное количество объектов в листе 1, минимальное количество примеров для разделения 2;\n",
    "* Итоговое sMAPE (относительная ошибка прогноза) для модели решающего дерева составляет 8.366."
   ]
  },
  {
   "cell_type": "markdown",
   "metadata": {},
   "source": [
    "**Модель случайного леса**"
   ]
  },
  {
   "cell_type": "code",
   "execution_count": 44,
   "metadata": {},
   "outputs": [
    {
     "name": "stdout",
     "output_type": "stream",
     "text": [
      "Лучшие параметры: {'max_depth': 4, 'n_estimators': 21}\n",
      "Средняя оценка smape_rougher модели случайного леса: 6.296\n",
      "CPU times: user 11min 2s, sys: 3.52 s, total: 11min 6s\n",
      "Wall time: 11min 7s\n"
     ]
    }
   ],
   "source": [
    "%%time\n",
    "#Модель случайного леса, вычислим smape_rougher\n",
    "model_rfr = RandomForestRegressor(random_state=12345)\n",
    "parametrs = {'max_depth': range (1, 11),\n",
    "              'n_estimators': range (1, 30, 5)}\n",
    "\n",
    "scores_rougher_rfr = GridSearchCV(model_rfr,\n",
    "                                 parametrs,\n",
    "                                 scoring=smape_scorer,\n",
    "                                 cv=5)\n",
    "scores_rougher_rfr.fit(features_train, target_train['rougher.output.recovery'])\n",
    "best_score_rougher_rfr = abs(round(scores_rougher_rfr.best_score_, 3))\n",
    "\n",
    "print('Лучшие параметры:', scores_rougher_rfr.best_params_)\n",
    "print('Средняя оценка smape_rougher модели случайного леса:', best_score_rougher_rfr)"
   ]
  },
  {
   "cell_type": "code",
   "execution_count": 45,
   "metadata": {},
   "outputs": [
    {
     "name": "stdout",
     "output_type": "stream",
     "text": [
      "Лучшие параметры: {'max_depth': 2, 'n_estimators': 21}\n",
      "Средняя оценка smape_final модели случайного леса: 8.572\n",
      "CPU times: user 11min 37s, sys: 3.91 s, total: 11min 41s\n",
      "Wall time: 11min 43s\n"
     ]
    }
   ],
   "source": [
    "%%time\n",
    "#Модель случайного леса, вычислим smape_final\n",
    "model_rfr = RandomForestRegressor(random_state=12345)\n",
    "parametrs = {'max_depth': range (1, 11),\n",
    "              'n_estimators': range (1, 30, 5)}\n",
    "\n",
    "scores_final_rfr = GridSearchCV(model_rfr,\n",
    "                                 parametrs,\n",
    "                                 scoring=smape_scorer,\n",
    "                                 cv=5)\n",
    "scores_final_rfr.fit(features_train, target_train['final.output.recovery'])\n",
    "best_score_final_rfr = abs(round(scores_final_rfr.best_score_, 3))\n",
    "\n",
    "print('Лучшие параметры:', scores_final_rfr.best_params_)\n",
    "print('Средняя оценка smape_final модели случайного леса:', best_score_final_rfr)"
   ]
  },
  {
   "cell_type": "code",
   "execution_count": 46,
   "metadata": {},
   "outputs": [
    {
     "name": "stdout",
     "output_type": "stream",
     "text": [
      "Итоговое sMAPE для модели случайного леса является: 8.003\n"
     ]
    }
   ],
   "source": [
    "#Вычисим итоговое sMAPE модели случайного леса\n",
    "smape_total_rfr = summary_smape_funs(best_score_rougher_rfr, best_score_final_rfr)\n",
    "print('Итоговое sMAPE для модели случайного леса является:', round(smape_total_rfr, 3))"
   ]
  },
  {
   "cell_type": "markdown",
   "metadata": {},
   "source": [
    "Мы обучили модель случайного леса и оценили качество кросс-валидацией:\n",
    "* Средняя оценка smape_rougher модели случайного леса 6.296, лучшими параметрами являются, глубина дерева 4, количество деревьев 21;\n",
    "* Средняя оценка smape_final модели случайного леса: 8.572, лучшими параметрами являются, глубина дерева 2, количество деревьев 21;\n",
    "* Итоговое sMAPE  (относительная ошибка прогноза) для модели случайного леса составляет 8.003."
   ]
  },
  {
   "cell_type": "markdown",
   "metadata": {},
   "source": [
    "#### Вывод:\n",
    "Мы обучили разные модели (случайный лес, решающее дерево, линейная регрессия) и оценили их качество кросс-валидацией:\n",
    "* Наилучшую относительную ошибку прогноза показала модель случайного леса с результатом 8.003, наилучшими параметрами для smape_rougher являются: глубина дерева 4, количество деревьев 21, наилучшими параметрами для smape_final являются:  глубина дерева 2, количество деревьев 21.<br>\n",
    "\n",
    "Для проверки на тестовой выборке будет выбрана модель случайного леса."
   ]
  },
  {
   "cell_type": "markdown",
   "metadata": {},
   "source": [
    "### Выбираем лучшую модель и проверяем на тестовой выборке"
   ]
  },
  {
   "cell_type": "code",
   "execution_count": 47,
   "metadata": {},
   "outputs": [],
   "source": [
    "#Наилучшей моделью стал случайный лес, проверим модель на тестовой выборке\n",
    "#Выделим целевые признаки из тестовой выборки\n",
    "features_test = np.array(data_test_target.drop(['rougher.output.recovery', 'final.output.recovery'], axis=1))\n",
    "target_test_rouger = np.array(data_test_target['rougher.output.recovery'])\n",
    "target_test_final = np.array(data_test_target['final.output.recovery'])"
   ]
  },
  {
   "cell_type": "code",
   "execution_count": 48,
   "metadata": {},
   "outputs": [],
   "source": [
    "#Построим модель по наилучшим параметрам\n",
    "model_rfr_test = RandomForestRegressor(random_state=12345, n_estimators=21, max_depth=4)\n",
    "model_rfr_test.fit(features_train, target_train['rougher.output.recovery'])\n",
    "model_rfr_test_rougher = model_rfr_test.predict(features_test)"
   ]
  },
  {
   "cell_type": "code",
   "execution_count": 49,
   "metadata": {},
   "outputs": [],
   "source": [
    "model_rfr_test_1 = RandomForestRegressor(random_state=12345, n_estimators=21, max_depth=2)\n",
    "model_rfr_test_1.fit(features_train, target_train['final.output.recovery'])\n",
    "model_rfr_test_final = model_rfr_test_1.predict(features_test)"
   ]
  },
  {
   "cell_type": "code",
   "execution_count": 50,
   "metadata": {},
   "outputs": [
    {
     "name": "stdout",
     "output_type": "stream",
     "text": [
      "Итоговое sMAPE (относительная ошибка прогноза) на тестовой выборке: 7.343\n"
     ]
    }
   ],
   "source": [
    "#Найдем sMAPE\n",
    "rouger_smape_test = smape_func(target_test_rouger, model_rfr_test_rougher)\n",
    "final_smape_test = smape_func(target_test_final, model_rfr_test_final)\n",
    "\n",
    "final_smape = summary_smape_funs(rouger_smape_test, final_smape_test)\n",
    "print('Итоговое sMAPE (относительная ошибка прогноза) на тестовой выборке:', round(final_smape,3))"
   ]
  },
  {
   "cell_type": "markdown",
   "metadata": {},
   "source": [
    "#### Вывод:\n",
    "Мы выбрали лучшую модель, ей оказался случайный лес и проверили на тестовой выборке:\n",
    "* Итоговое sMAPE (относительная ошибка прогноза) на тестовой выборке составляет 7.343 - наша модель работает хорошо."
   ]
  },
  {
   "cell_type": "code",
   "execution_count": 51,
   "metadata": {},
   "outputs": [
    {
     "name": "stdout",
     "output_type": "stream",
     "text": [
      "Для стратегии mean итоговая sMAPE = 8.392\n",
      "Для стратегии median итоговая sMAPE = 8.247\n"
     ]
    }
   ],
   "source": [
    "#Проверим модель на адекватность\n",
    "for strategy in ['mean', 'median']:\n",
    "    dummy_rougher = DummyRegressor(strategy=strategy)\n",
    "    dummy_final = DummyRegressor(strategy=strategy)\n",
    "    \n",
    "    dummy_rougher.fit(features_train, target_train['rougher.output.recovery'])\n",
    "    dummy_final.fit(features_train, target_train['final.output.recovery'])\n",
    "    \n",
    "    rougher = dummy_rougher.predict(data_test_target)\n",
    "    final = dummy_final.predict(data_test_target)\n",
    "    \n",
    "    final_smape = summary_smape_funs(smape_func(target_test_rouger, rougher),\n",
    "                                   smape_func(target_test_final, final))\n",
    "\n",
    "    print('Для стратегии', strategy, 'итоговая sMAPE =', round(final_smape,3))"
   ]
  },
  {
   "cell_type": "markdown",
   "metadata": {},
   "source": [
    "Мы проверили модель на адекватность:\n",
    "* Итоговые ценки sMAPE константной модели на тестовых данных равны 8.392 и 8.247, что говорит нам о том, что наша модель адекватна."
   ]
  },
  {
   "cell_type": "markdown",
   "metadata": {},
   "source": [
    "### Вывод:\n",
    "1. Функция для вычисления итоговой sMAPE написана;\n",
    "2. Мы обучили разные модели (случайный лес, решающее дерево, линейная регрессия) и оценили их качество кросс-валидацией:\n",
    "   * Наилучшую относительную ошибку прогноза показала модель случайного леса с результатом 8.003, наилучшими параметрами для smape_rougher являются: глубина дерева 4, количество деревьев 21, наилучшими параметрами для smape_final являются:  глубина дерева 2, количество деревьев 21. Для проверки на тестовой выборке будет выбрана модель случайного леса.\n",
    "3. Мы выбрали лучшую модель, ей оказался случайный лес и проверили на тестовой выборке:\n",
    "   * Итоговое sMAPE (относительная ошибка прогноза) на тестовой выборке составляет 7.343 - наша модель работает хорошо.\n",
    "4. Мы проверили модель на адекватность:\n",
    "   * Итоговые ценки sMAPE константной модели на тестовых данных равны 8.392 и 8.247, что говорит нам о том, что наша модель адекватна."
   ]
  },
  {
   "cell_type": "markdown",
   "metadata": {},
   "source": [
    "## Общий вывод:\n",
    "1. Мы ознакомились с тремя датафреймами:\n",
    "\n",
    "    * gold_industry_train.csv — обучающая выборка; дубликатов не обнаружено, всего в датафрейме 86 столбцов и 14 579 записи.Имеются пропущенные значения в столбцах, однако пропущенные значения в каждом столбце составляют не более 10% от всего датафрейма.Тип данных у всех данных - float.\n",
    "\n",
    "    * gold_industry_test.csv — тестовая выборка; дубликатов не обнаружено, всего в датафрейме 53 столбца и 4 860 записи. Имеются пропущенные значения в столбцах, однако пропущенные значения в каждом столбце составляют не более 10% от всего датафрейма. В данном датасете намного меньше признаков, чем в двух других. Тип данных у всех данных - float.\n",
    "\n",
    "    * gold_industry_full.csv — исходные данные. дубликатов не обнаружено, всего в датафрейме 87 столбцов и 19 439 записи. Имеются пропущенные значения в столбцах, однако пропущенные значения в каждом столбце составляют не более 10% от всего датафрейма. Тип данных у всех данных - float.\n",
    "\n",
    "    * Целевыми признаками являются final.output.recovery и rougher.output.recovery.\n",
    "    \n",
    "2. Проверили эффективность обогащения и найшли MAE:\n",
    "    * MAE (среднее абсолютное отклонение) между эффективностью обогащения и значением признака rougher.output.recovery составляет: 9.83758577644259e-15, что является хорошим результатом, так как значение находится близко к нулю, эффективность обогащения рассчитана правильно.\n",
    "    \n",
    "3. Провели анализ признаков, недоступных в тестовой выборке.\n",
    "4. Мы провели предобработку данных, устранили пропуски в обучающей и тренировочной выборках, а так же добавили целевые признаки в тестовую выборку.\n",
    "\n",
    "5. Мы проанализировали как меняется концентрация металлов (Au, Ag, Pb) на различных этапах отчистки:\n",
    "   * концентрация золота до флотации и после вторичной отчистки значительно увеличилась с 8.27 до 44.08\n",
    "   * концентрация серебра, наоборот, уменьшилась, с 8.79 до 5.17\n",
    "   * концетрация свинца увеличилась, с 3.60 до 9.98\n",
    "6. Мы сравнили распределения размеров гранул исходного сырья на обучающей и тестовой выборках:\n",
    "   * размер гранул исходного сырья на обучающей и тестовой выборках на этапе флотации примерно одинаковое и равняется 47;\n",
    "   * размер гранул исходного сырья на обучающей и тестовой выборках на этапе первичной отчистки примерно одинаковое и равняется 7.5;\n",
    "   * распределения размеров гранул не сильно отличаются друг от друга, поэтому можно смело предположить, что оценка модели будет правильной.\n",
    "7. Мы исследовали суммарную концентрацию металлов на разных стадиях: в сырье, в черновом концентрате, в концентрате после первой очистки и в финальном концентрате, а так же выявили и устранили выбросы:\n",
    "   * суммарная концентрация металлов до флотации (в сырье) в среднем равняется 57.41;\n",
    "   * суммарная концентрация металлов после флотации (черновой концентрат) в среднем равняется 68.19;\n",
    "   * суммарная концентрация металлов после первичной отчистки в среднем равняется 60.95;\n",
    "   * суммарный финальный концентрат металлов в среднем равняется 68.73;\n",
    "   * выбросы до 1 удалены.\n",
    "   \n",
    "8. Функция для вычисления итоговой sMAPE написана;\n",
    "9. Мы обучили разные модели (случайный лес, решающее дерево, линейная регрессия) и оценили их качество кросс-валидацией:\n",
    "   * Наилучшую относительную ошибку прогноза показала модель случайного леса с результатом 8.003, наилучшими параметрами для smape_rougher являются: глубина дерева 4, количество деревьев 21, наилучшими параметрами для smape_final являются:  глубина дерева 2, количество деревьев 21. Для проверки на тестовой выборке будет выбрана модель случайного леса.\n",
    "10. Мы выбрали лучшую модель, ей оказался случайный лес и проверили на тестовой выборке:\n",
    "   * Итоговое sMAPE (относительная ошибка прогноза) на тестовой выборке составляет 7.343 - наша модель работает хорошо.\n",
    "11. Мы проверили модель на адекватность:\n",
    "   * Итоговые ценки sMAPE константной модели на тестовых данных равны 8.392 и 8.247, что говорит нам о том, что наша модель адекватна.   \n",
    "   \n",
    "Рекомендации: <br>\n",
    "Мы подготовили модель, которая будет адекватно предсказывать коэффициент восстановления золота из золотосодержащей руды. Модель поможет оптимизировать производство, чтобы не запускать предприятие с убыточными характеристиками. Благодаря предсказаниям модели, компания минимизирует убытки и приумножет прибыль.\n",
    "   "
   ]
  },
  {
   "cell_type": "markdown",
   "metadata": {},
   "source": [
    "## Чек-лист готовности проекта"
   ]
  },
  {
   "cell_type": "markdown",
   "metadata": {},
   "source": [
    "- [x]  Jupyter Notebook открыт\n",
    "- [x]  Весь код выполняется без ошибок\n",
    "- [x]  Ячейки с кодом расположены в порядке выполнения\n",
    "- [x]  Выполнен шаг 1: данные подготовлены\n",
    "    - [x]  Проверена формула вычисления эффективности обогащения\n",
    "    - [x]  Проанализированы признаки, недоступные в тестовой выборке\n",
    "    - [x]  Проведена предобработка данных\n",
    "- [x]  Выполнен шаг 2: данные проанализированы\n",
    "    - [x]  Исследовано изменение концентрации элементов на каждом этапе\n",
    "    - [x]  Проанализированы распределения размеров гранул на обучающей и тестовой выборках\n",
    "    - [x]  Исследованы суммарные концентрации\n",
    "- [x]  Выполнен шаг 3: построена модель прогнозирования\n",
    "    - [x]  Написана функция для вычисления итогового *sMAPE*\n",
    "    - [x]  Обучено и проверено несколько моделей\n",
    "    - [x]  Выбрана лучшая модель, её качество проверено на тестовой выборке"
   ]
  }
 ],
 "metadata": {
  "ExecuteTimeLog": [
   {
    "duration": 1860,
    "start_time": "2023-05-15T12:03:39.836Z"
   },
   {
    "duration": 2257,
    "start_time": "2023-05-15T12:39:25.955Z"
   },
   {
    "duration": 27,
    "start_time": "2023-05-15T12:39:36.794Z"
   },
   {
    "duration": 18,
    "start_time": "2023-05-15T12:39:53.412Z"
   },
   {
    "duration": 753,
    "start_time": "2023-05-15T12:40:43.971Z"
   },
   {
    "duration": 29,
    "start_time": "2023-05-15T12:40:44.726Z"
   },
   {
    "duration": 21,
    "start_time": "2023-05-15T12:40:54.643Z"
   },
   {
    "duration": 16,
    "start_time": "2023-05-15T12:40:55.723Z"
   },
   {
    "duration": 843,
    "start_time": "2023-05-15T12:41:24.323Z"
   },
   {
    "duration": 28,
    "start_time": "2023-05-15T12:41:25.169Z"
   },
   {
    "duration": 18,
    "start_time": "2023-05-15T12:41:35.337Z"
   },
   {
    "duration": 758,
    "start_time": "2023-05-15T12:41:43.706Z"
   },
   {
    "duration": 20,
    "start_time": "2023-05-15T12:41:45.415Z"
   },
   {
    "duration": 15,
    "start_time": "2023-05-15T12:41:45.494Z"
   },
   {
    "duration": 119,
    "start_time": "2023-05-15T12:53:38.299Z"
   },
   {
    "duration": 10,
    "start_time": "2023-05-15T12:53:56.648Z"
   },
   {
    "duration": 42,
    "start_time": "2023-05-15T12:54:27.660Z"
   },
   {
    "duration": 170,
    "start_time": "2023-05-15T12:54:44.220Z"
   },
   {
    "duration": 1648,
    "start_time": "2023-05-15T12:54:54.350Z"
   },
   {
    "duration": 1617,
    "start_time": "2023-05-15T12:55:46.132Z"
   },
   {
    "duration": 1592,
    "start_time": "2023-05-15T12:56:44.868Z"
   },
   {
    "duration": 296,
    "start_time": "2023-05-15T12:58:44.089Z"
   },
   {
    "duration": 1920,
    "start_time": "2023-05-15T13:00:31.049Z"
   },
   {
    "duration": 1836,
    "start_time": "2023-05-15T13:00:37.152Z"
   },
   {
    "duration": 1783,
    "start_time": "2023-05-15T13:01:33.506Z"
   },
   {
    "duration": 50,
    "start_time": "2023-05-15T13:05:46.813Z"
   },
   {
    "duration": 1725,
    "start_time": "2023-05-15T13:07:17.723Z"
   },
   {
    "duration": 40,
    "start_time": "2023-05-15T13:07:34.389Z"
   },
   {
    "duration": 1831,
    "start_time": "2023-05-15T13:07:36.911Z"
   },
   {
    "duration": 1855,
    "start_time": "2023-05-15T13:08:47.932Z"
   },
   {
    "duration": 1811,
    "start_time": "2023-05-15T13:09:18.026Z"
   },
   {
    "duration": 1764,
    "start_time": "2023-05-15T13:09:37.992Z"
   },
   {
    "duration": 1047,
    "start_time": "2023-05-15T13:10:13.958Z"
   },
   {
    "duration": 1011,
    "start_time": "2023-05-15T13:10:36.873Z"
   },
   {
    "duration": 786,
    "start_time": "2023-05-15T13:27:44.428Z"
   },
   {
    "duration": 985,
    "start_time": "2023-05-15T13:27:45.216Z"
   },
   {
    "duration": 4,
    "start_time": "2023-05-15T13:31:17.621Z"
   },
   {
    "duration": 734,
    "start_time": "2023-05-15T13:31:17.987Z"
   },
   {
    "duration": 1013,
    "start_time": "2023-05-15T13:31:18.723Z"
   },
   {
    "duration": 311,
    "start_time": "2023-05-15T14:08:28.379Z"
   },
   {
    "duration": 352,
    "start_time": "2023-05-15T14:09:26.423Z"
   },
   {
    "duration": 3,
    "start_time": "2023-05-15T14:10:36.218Z"
   },
   {
    "duration": 12,
    "start_time": "2023-05-15T14:11:16.885Z"
   },
   {
    "duration": 5,
    "start_time": "2023-05-15T14:32:44.392Z"
   },
   {
    "duration": 3,
    "start_time": "2023-05-15T15:02:07.122Z"
   },
   {
    "duration": 12,
    "start_time": "2023-05-15T15:02:20.999Z"
   },
   {
    "duration": 15,
    "start_time": "2023-05-15T15:03:02.132Z"
   },
   {
    "duration": 1509,
    "start_time": "2023-05-16T05:50:55.464Z"
   },
   {
    "duration": 3449,
    "start_time": "2023-05-16T05:50:56.975Z"
   },
   {
    "duration": 939,
    "start_time": "2023-05-16T05:51:00.425Z"
   },
   {
    "duration": 9,
    "start_time": "2023-05-16T05:51:01.366Z"
   },
   {
    "duration": 21,
    "start_time": "2023-05-16T05:51:01.377Z"
   },
   {
    "duration": 27,
    "start_time": "2023-05-16T05:51:01.400Z"
   },
   {
    "duration": 16,
    "start_time": "2023-05-16T05:51:01.428Z"
   },
   {
    "duration": 107,
    "start_time": "2023-05-16T05:53:45.644Z"
   },
   {
    "duration": 16,
    "start_time": "2023-05-16T05:53:52.699Z"
   },
   {
    "duration": 31,
    "start_time": "2023-05-16T05:54:39.046Z"
   },
   {
    "duration": 22,
    "start_time": "2023-05-16T05:54:46.721Z"
   },
   {
    "duration": 15,
    "start_time": "2023-05-16T05:55:29.995Z"
   },
   {
    "duration": 20,
    "start_time": "2023-05-16T05:56:03.527Z"
   },
   {
    "duration": 5,
    "start_time": "2023-05-16T05:56:19.656Z"
   },
   {
    "duration": 6,
    "start_time": "2023-05-16T05:56:31.335Z"
   },
   {
    "duration": 836,
    "start_time": "2023-05-16T05:56:31.496Z"
   },
   {
    "duration": 993,
    "start_time": "2023-05-16T05:56:32.334Z"
   },
   {
    "duration": 12,
    "start_time": "2023-05-16T05:56:33.329Z"
   },
   {
    "duration": 17,
    "start_time": "2023-05-16T05:56:33.343Z"
   },
   {
    "duration": 19,
    "start_time": "2023-05-16T05:56:33.362Z"
   },
   {
    "duration": 3,
    "start_time": "2023-05-16T05:56:33.383Z"
   },
   {
    "duration": 23,
    "start_time": "2023-05-16T05:56:33.721Z"
   },
   {
    "duration": 5,
    "start_time": "2023-05-16T05:56:33.899Z"
   },
   {
    "duration": 3,
    "start_time": "2023-05-16T05:57:34.212Z"
   },
   {
    "duration": 703,
    "start_time": "2023-05-16T05:57:34.402Z"
   },
   {
    "duration": 1283,
    "start_time": "2023-05-16T05:57:35.107Z"
   },
   {
    "duration": 11,
    "start_time": "2023-05-16T05:57:36.393Z"
   },
   {
    "duration": 15,
    "start_time": "2023-05-16T05:57:36.406Z"
   },
   {
    "duration": 35,
    "start_time": "2023-05-16T05:57:36.423Z"
   },
   {
    "duration": 3,
    "start_time": "2023-05-16T05:57:36.460Z"
   },
   {
    "duration": 20,
    "start_time": "2023-05-16T05:57:37.158Z"
   },
   {
    "duration": 5,
    "start_time": "2023-05-16T05:57:37.892Z"
   },
   {
    "duration": 21,
    "start_time": "2023-05-16T05:58:59.717Z"
   },
   {
    "duration": 20,
    "start_time": "2023-05-16T05:59:14.334Z"
   },
   {
    "duration": 13,
    "start_time": "2023-05-16T06:00:44.626Z"
   },
   {
    "duration": 20,
    "start_time": "2023-05-16T06:00:45.771Z"
   },
   {
    "duration": 750,
    "start_time": "2023-05-16T06:01:19.815Z"
   },
   {
    "duration": 1115,
    "start_time": "2023-05-16T06:01:20.567Z"
   },
   {
    "duration": 9,
    "start_time": "2023-05-16T06:01:21.684Z"
   },
   {
    "duration": 29,
    "start_time": "2023-05-16T06:01:21.695Z"
   },
   {
    "duration": 36,
    "start_time": "2023-05-16T06:01:21.726Z"
   },
   {
    "duration": 2,
    "start_time": "2023-05-16T06:01:21.780Z"
   },
   {
    "duration": 13,
    "start_time": "2023-05-16T06:01:22.064Z"
   },
   {
    "duration": 4,
    "start_time": "2023-05-16T06:01:22.231Z"
   },
   {
    "duration": 7,
    "start_time": "2023-05-16T06:01:22.393Z"
   },
   {
    "duration": 19,
    "start_time": "2023-05-16T06:01:22.560Z"
   },
   {
    "duration": 4,
    "start_time": "2023-05-16T06:01:38.476Z"
   },
   {
    "duration": 762,
    "start_time": "2023-05-16T06:01:38.816Z"
   },
   {
    "duration": 932,
    "start_time": "2023-05-16T06:01:39.579Z"
   },
   {
    "duration": 11,
    "start_time": "2023-05-16T06:01:40.513Z"
   },
   {
    "duration": 4,
    "start_time": "2023-05-16T06:01:40.526Z"
   },
   {
    "duration": 33,
    "start_time": "2023-05-16T06:01:40.532Z"
   },
   {
    "duration": 3,
    "start_time": "2023-05-16T06:01:40.566Z"
   },
   {
    "duration": 15,
    "start_time": "2023-05-16T06:01:40.795Z"
   },
   {
    "duration": 5,
    "start_time": "2023-05-16T06:01:40.947Z"
   },
   {
    "duration": 9,
    "start_time": "2023-05-16T06:01:41.111Z"
   },
   {
    "duration": 14,
    "start_time": "2023-05-16T06:01:41.280Z"
   },
   {
    "duration": 5,
    "start_time": "2023-05-16T06:02:12.367Z"
   },
   {
    "duration": 21,
    "start_time": "2023-05-16T06:02:22.665Z"
   },
   {
    "duration": 13,
    "start_time": "2023-05-16T06:07:07.657Z"
   },
   {
    "duration": 51,
    "start_time": "2023-05-16T06:08:08.567Z"
   },
   {
    "duration": 49,
    "start_time": "2023-05-16T06:54:15.074Z"
   },
   {
    "duration": 6,
    "start_time": "2023-05-16T06:57:59.296Z"
   },
   {
    "duration": 6,
    "start_time": "2023-05-16T06:58:00.001Z"
   },
   {
    "duration": 5,
    "start_time": "2023-05-16T06:58:00.758Z"
   },
   {
    "duration": 5,
    "start_time": "2023-05-16T06:58:01.403Z"
   },
   {
    "duration": 6,
    "start_time": "2023-05-16T07:02:19.780Z"
   },
   {
    "duration": 6,
    "start_time": "2023-05-16T07:02:24.847Z"
   },
   {
    "duration": 6,
    "start_time": "2023-05-16T07:02:25.055Z"
   },
   {
    "duration": 6,
    "start_time": "2023-05-16T07:02:25.504Z"
   },
   {
    "duration": 12,
    "start_time": "2023-05-16T07:42:34.890Z"
   },
   {
    "duration": 8,
    "start_time": "2023-05-16T07:42:50.631Z"
   },
   {
    "duration": 9,
    "start_time": "2023-05-16T07:44:03.994Z"
   },
   {
    "duration": 9,
    "start_time": "2023-05-16T07:44:36.437Z"
   },
   {
    "duration": 217,
    "start_time": "2023-05-16T07:48:45.991Z"
   },
   {
    "duration": 274,
    "start_time": "2023-05-16T07:48:58.675Z"
   },
   {
    "duration": 247,
    "start_time": "2023-05-16T07:49:44.211Z"
   },
   {
    "duration": 4,
    "start_time": "2023-05-16T07:52:42.115Z"
   },
   {
    "duration": 743,
    "start_time": "2023-05-16T07:52:42.271Z"
   },
   {
    "duration": 1011,
    "start_time": "2023-05-16T07:52:43.016Z"
   },
   {
    "duration": 14,
    "start_time": "2023-05-16T07:52:44.029Z"
   },
   {
    "duration": 17,
    "start_time": "2023-05-16T07:52:44.058Z"
   },
   {
    "duration": 15,
    "start_time": "2023-05-16T07:52:44.077Z"
   },
   {
    "duration": 18,
    "start_time": "2023-05-16T07:52:44.094Z"
   },
   {
    "duration": 4,
    "start_time": "2023-05-16T07:52:44.219Z"
   },
   {
    "duration": 12,
    "start_time": "2023-05-16T07:52:44.304Z"
   },
   {
    "duration": 54,
    "start_time": "2023-05-16T07:52:44.446Z"
   },
   {
    "duration": 2,
    "start_time": "2023-05-16T07:52:45.042Z"
   },
   {
    "duration": 6,
    "start_time": "2023-05-16T07:52:45.356Z"
   },
   {
    "duration": 5,
    "start_time": "2023-05-16T07:52:45.504Z"
   },
   {
    "duration": 5,
    "start_time": "2023-05-16T07:52:45.669Z"
   },
   {
    "duration": 6,
    "start_time": "2023-05-16T07:52:45.901Z"
   },
   {
    "duration": 8,
    "start_time": "2023-05-16T07:52:46.419Z"
   },
   {
    "duration": 7,
    "start_time": "2023-05-16T07:52:46.840Z"
   },
   {
    "duration": 8,
    "start_time": "2023-05-16T07:52:47.300Z"
   },
   {
    "duration": 3,
    "start_time": "2023-05-16T07:54:33.568Z"
   },
   {
    "duration": 14,
    "start_time": "2023-05-16T07:54:34.004Z"
   },
   {
    "duration": 188,
    "start_time": "2023-05-16T07:55:02.785Z"
   },
   {
    "duration": 238,
    "start_time": "2023-05-16T07:55:28.478Z"
   },
   {
    "duration": 181,
    "start_time": "2023-05-16T07:55:39.640Z"
   },
   {
    "duration": 207,
    "start_time": "2023-05-16T07:56:08.759Z"
   },
   {
    "duration": 394,
    "start_time": "2023-05-16T07:57:10.396Z"
   },
   {
    "duration": 268,
    "start_time": "2023-05-16T07:57:22.783Z"
   },
   {
    "duration": 221,
    "start_time": "2023-05-16T07:57:29.556Z"
   },
   {
    "duration": 257,
    "start_time": "2023-05-16T07:58:49.286Z"
   },
   {
    "duration": 230,
    "start_time": "2023-05-16T07:59:36.506Z"
   },
   {
    "duration": 221,
    "start_time": "2023-05-16T07:59:43.043Z"
   },
   {
    "duration": 12,
    "start_time": "2023-05-16T08:39:55.348Z"
   },
   {
    "duration": 13,
    "start_time": "2023-05-16T08:40:05.308Z"
   },
   {
    "duration": 131,
    "start_time": "2023-05-16T08:40:11.846Z"
   },
   {
    "duration": 542,
    "start_time": "2023-05-16T08:40:32.622Z"
   },
   {
    "duration": 514,
    "start_time": "2023-05-16T08:40:41.947Z"
   },
   {
    "duration": 346,
    "start_time": "2023-05-16T08:41:07.811Z"
   },
   {
    "duration": 425,
    "start_time": "2023-05-16T08:41:46.212Z"
   },
   {
    "duration": 667,
    "start_time": "2023-05-16T08:42:09.329Z"
   },
   {
    "duration": 486,
    "start_time": "2023-05-16T08:42:18.944Z"
   },
   {
    "duration": 522,
    "start_time": "2023-05-16T08:42:26.724Z"
   },
   {
    "duration": 467,
    "start_time": "2023-05-16T08:42:33.713Z"
   },
   {
    "duration": 812,
    "start_time": "2023-05-16T08:42:51.913Z"
   },
   {
    "duration": 424,
    "start_time": "2023-05-16T08:42:59.777Z"
   },
   {
    "duration": 380,
    "start_time": "2023-05-16T08:43:12.924Z"
   },
   {
    "duration": 564,
    "start_time": "2023-05-16T08:43:17.293Z"
   },
   {
    "duration": 652,
    "start_time": "2023-05-16T08:44:09.474Z"
   },
   {
    "duration": 445,
    "start_time": "2023-05-16T08:45:09.426Z"
   },
   {
    "duration": 448,
    "start_time": "2023-05-16T08:46:49.471Z"
   },
   {
    "duration": 724,
    "start_time": "2023-05-16T08:51:27.900Z"
   },
   {
    "duration": 62,
    "start_time": "2023-05-16T08:51:36.761Z"
   },
   {
    "duration": 549,
    "start_time": "2023-05-16T08:51:40.709Z"
   },
   {
    "duration": 568,
    "start_time": "2023-05-16T08:51:54.280Z"
   },
   {
    "duration": 581,
    "start_time": "2023-05-16T08:56:18.395Z"
   },
   {
    "duration": 450,
    "start_time": "2023-05-16T08:56:19.329Z"
   },
   {
    "duration": 557,
    "start_time": "2023-05-16T08:56:34.771Z"
   },
   {
    "duration": 421,
    "start_time": "2023-05-16T08:57:18.876Z"
   },
   {
    "duration": 416,
    "start_time": "2023-05-16T08:57:29.282Z"
   },
   {
    "duration": 451,
    "start_time": "2023-05-16T08:57:34.130Z"
   },
   {
    "duration": 777,
    "start_time": "2023-05-16T08:57:50.888Z"
   },
   {
    "duration": 440,
    "start_time": "2023-05-16T08:58:05.960Z"
   },
   {
    "duration": 423,
    "start_time": "2023-05-16T08:58:27.576Z"
   },
   {
    "duration": 645,
    "start_time": "2023-05-16T08:58:33.303Z"
   },
   {
    "duration": 527,
    "start_time": "2023-05-16T08:58:48.588Z"
   },
   {
    "duration": 512,
    "start_time": "2023-05-16T08:58:52.887Z"
   },
   {
    "duration": 487,
    "start_time": "2023-05-16T08:58:57.188Z"
   },
   {
    "duration": 592,
    "start_time": "2023-05-16T08:59:00.361Z"
   },
   {
    "duration": 478,
    "start_time": "2023-05-16T08:59:04.402Z"
   },
   {
    "duration": 475,
    "start_time": "2023-05-16T08:59:08.368Z"
   },
   {
    "duration": 451,
    "start_time": "2023-05-16T08:59:10.978Z"
   },
   {
    "duration": 617,
    "start_time": "2023-05-16T08:59:14.570Z"
   },
   {
    "duration": 450,
    "start_time": "2023-05-16T08:59:17.275Z"
   },
   {
    "duration": 444,
    "start_time": "2023-05-16T08:59:26.572Z"
   },
   {
    "duration": 582,
    "start_time": "2023-05-16T08:59:29.090Z"
   },
   {
    "duration": 570,
    "start_time": "2023-05-16T08:59:35.305Z"
   },
   {
    "duration": 541,
    "start_time": "2023-05-16T08:59:38.071Z"
   },
   {
    "duration": 626,
    "start_time": "2023-05-16T08:59:52.100Z"
   },
   {
    "duration": 636,
    "start_time": "2023-05-16T09:00:00.558Z"
   },
   {
    "duration": 1622,
    "start_time": "2023-05-16T10:57:21.106Z"
   },
   {
    "duration": 5385,
    "start_time": "2023-05-16T10:57:22.730Z"
   },
   {
    "duration": 1181,
    "start_time": "2023-05-16T10:57:28.116Z"
   },
   {
    "duration": 13,
    "start_time": "2023-05-16T10:57:29.307Z"
   },
   {
    "duration": 9,
    "start_time": "2023-05-16T10:57:29.322Z"
   },
   {
    "duration": 14,
    "start_time": "2023-05-16T10:57:29.332Z"
   },
   {
    "duration": 13,
    "start_time": "2023-05-16T10:57:29.348Z"
   },
   {
    "duration": 6,
    "start_time": "2023-05-16T10:57:29.363Z"
   },
   {
    "duration": 21,
    "start_time": "2023-05-16T10:57:29.382Z"
   },
   {
    "duration": 62,
    "start_time": "2023-05-16T10:57:29.405Z"
   },
   {
    "duration": 7,
    "start_time": "2023-05-16T10:57:29.476Z"
   },
   {
    "duration": 16,
    "start_time": "2023-05-16T10:57:29.492Z"
   },
   {
    "duration": 8,
    "start_time": "2023-05-16T10:57:29.518Z"
   },
   {
    "duration": 5,
    "start_time": "2023-05-16T10:57:29.530Z"
   },
   {
    "duration": 11,
    "start_time": "2023-05-16T10:57:36.674Z"
   },
   {
    "duration": 5,
    "start_time": "2023-05-16T10:57:37.066Z"
   },
   {
    "duration": 5,
    "start_time": "2023-05-16T10:57:37.357Z"
   },
   {
    "duration": 5,
    "start_time": "2023-05-16T10:57:37.724Z"
   },
   {
    "duration": 11,
    "start_time": "2023-05-16T10:57:38.205Z"
   },
   {
    "duration": 19,
    "start_time": "2023-05-16T10:57:38.373Z"
   },
   {
    "duration": 8,
    "start_time": "2023-05-16T10:57:38.564Z"
   },
   {
    "duration": 339,
    "start_time": "2023-05-16T10:57:38.760Z"
   },
   {
    "duration": 605,
    "start_time": "2023-05-16T10:57:39.859Z"
   },
   {
    "duration": 429,
    "start_time": "2023-05-16T10:57:40.474Z"
   },
   {
    "duration": 654,
    "start_time": "2023-05-16T10:57:40.905Z"
   },
   {
    "duration": 509,
    "start_time": "2023-05-16T10:57:41.560Z"
   },
   {
    "duration": 604,
    "start_time": "2023-05-16T10:57:48.316Z"
   },
   {
    "duration": 44,
    "start_time": "2023-05-16T11:15:49.511Z"
   },
   {
    "duration": 34,
    "start_time": "2023-05-16T11:16:06.519Z"
   },
   {
    "duration": 45,
    "start_time": "2023-05-16T11:16:19.099Z"
   },
   {
    "duration": 34,
    "start_time": "2023-05-16T11:17:18.296Z"
   },
   {
    "duration": 35,
    "start_time": "2023-05-16T11:18:36.686Z"
   },
   {
    "duration": 47,
    "start_time": "2023-05-16T11:20:10.919Z"
   },
   {
    "duration": 1639,
    "start_time": "2023-05-16T11:34:33.104Z"
   },
   {
    "duration": 1279,
    "start_time": "2023-05-16T11:34:41.960Z"
   },
   {
    "duration": 1367,
    "start_time": "2023-05-16T11:34:48.087Z"
   },
   {
    "duration": 1484,
    "start_time": "2023-05-16T11:34:51.699Z"
   },
   {
    "duration": 1625,
    "start_time": "2023-05-16T11:35:01.666Z"
   },
   {
    "duration": 1553,
    "start_time": "2023-05-16T11:35:06.263Z"
   },
   {
    "duration": 1419,
    "start_time": "2023-05-16T11:35:11.254Z"
   },
   {
    "duration": 1635,
    "start_time": "2023-05-16T11:35:15.853Z"
   },
   {
    "duration": 1498,
    "start_time": "2023-05-16T11:35:19.706Z"
   },
   {
    "duration": 1510,
    "start_time": "2023-05-16T11:35:26.519Z"
   },
   {
    "duration": 1618,
    "start_time": "2023-05-16T11:35:30.119Z"
   },
   {
    "duration": 283,
    "start_time": "2023-05-16T11:44:34.158Z"
   },
   {
    "duration": 1523,
    "start_time": "2023-05-16T12:09:04.414Z"
   },
   {
    "duration": 17,
    "start_time": "2023-05-16T12:09:21.422Z"
   },
   {
    "duration": 53,
    "start_time": "2023-05-16T12:10:11.021Z"
   },
   {
    "duration": 68,
    "start_time": "2023-05-16T12:10:45.104Z"
   },
   {
    "duration": 77,
    "start_time": "2023-05-16T12:10:59.072Z"
   },
   {
    "duration": 138,
    "start_time": "2023-05-16T12:15:53.027Z"
   },
   {
    "duration": 85,
    "start_time": "2023-05-16T12:20:47.994Z"
   },
   {
    "duration": 95,
    "start_time": "2023-05-16T12:20:48.348Z"
   },
   {
    "duration": 13,
    "start_time": "2023-05-16T12:20:49.115Z"
   },
   {
    "duration": 263,
    "start_time": "2023-05-16T12:20:52.562Z"
   },
   {
    "duration": 55,
    "start_time": "2023-05-16T12:23:36.397Z"
   },
   {
    "duration": 3,
    "start_time": "2023-05-16T12:30:20.352Z"
   },
   {
    "duration": 49,
    "start_time": "2023-05-16T12:49:50.758Z"
   },
   {
    "duration": 3450,
    "start_time": "2023-05-16T12:49:50.953Z"
   },
   {
    "duration": 1335,
    "start_time": "2023-05-16T12:49:54.407Z"
   },
   {
    "duration": 12,
    "start_time": "2023-05-16T12:49:55.744Z"
   },
   {
    "duration": 5,
    "start_time": "2023-05-16T12:49:55.759Z"
   },
   {
    "duration": 28,
    "start_time": "2023-05-16T12:49:55.777Z"
   },
   {
    "duration": 21,
    "start_time": "2023-05-16T12:49:55.807Z"
   },
   {
    "duration": 4,
    "start_time": "2023-05-16T12:49:55.838Z"
   },
   {
    "duration": 13,
    "start_time": "2023-05-16T12:49:55.845Z"
   },
   {
    "duration": 98,
    "start_time": "2023-05-16T12:49:55.859Z"
   },
   {
    "duration": 6,
    "start_time": "2023-05-16T12:49:55.960Z"
   },
   {
    "duration": 6,
    "start_time": "2023-05-16T12:49:55.968Z"
   },
   {
    "duration": 8,
    "start_time": "2023-05-16T12:49:55.984Z"
   },
   {
    "duration": 9,
    "start_time": "2023-05-16T12:49:56.002Z"
   },
   {
    "duration": 10,
    "start_time": "2023-05-16T12:49:56.017Z"
   },
   {
    "duration": 12,
    "start_time": "2023-05-16T12:49:56.028Z"
   },
   {
    "duration": 7,
    "start_time": "2023-05-16T12:49:56.045Z"
   },
   {
    "duration": 303,
    "start_time": "2023-05-16T12:49:56.053Z"
   },
   {
    "duration": 802,
    "start_time": "2023-05-16T12:49:56.592Z"
   },
   {
    "duration": 788,
    "start_time": "2023-05-16T12:49:57.396Z"
   },
   {
    "duration": 826,
    "start_time": "2023-05-16T12:49:58.186Z"
   },
   {
    "duration": 825,
    "start_time": "2023-05-16T12:49:59.017Z"
   },
   {
    "duration": 59,
    "start_time": "2023-05-16T12:49:59.850Z"
   },
   {
    "duration": 1668,
    "start_time": "2023-05-16T12:49:59.916Z"
   },
   {
    "duration": 302,
    "start_time": "2023-05-16T12:50:01.589Z"
   },
   {
    "duration": 128,
    "start_time": "2023-05-16T12:50:01.893Z"
   },
   {
    "duration": 129,
    "start_time": "2023-05-16T12:50:02.023Z"
   },
   {
    "duration": 13,
    "start_time": "2023-05-16T12:50:02.154Z"
   },
   {
    "duration": 56,
    "start_time": "2023-05-16T13:06:45.721Z"
   },
   {
    "duration": 4,
    "start_time": "2023-05-16T13:28:06.008Z"
   },
   {
    "duration": 3,
    "start_time": "2023-05-16T13:28:32.703Z"
   },
   {
    "duration": 8,
    "start_time": "2023-05-16T13:41:08.916Z"
   },
   {
    "duration": 4,
    "start_time": "2023-05-16T13:41:40.515Z"
   },
   {
    "duration": 5,
    "start_time": "2023-05-16T13:41:48.010Z"
   },
   {
    "duration": 14,
    "start_time": "2023-05-16T14:06:19.146Z"
   },
   {
    "duration": 876,
    "start_time": "2023-05-16T14:06:19.315Z"
   },
   {
    "duration": 1017,
    "start_time": "2023-05-16T14:06:20.193Z"
   },
   {
    "duration": 11,
    "start_time": "2023-05-16T14:06:21.212Z"
   },
   {
    "duration": 4,
    "start_time": "2023-05-16T14:06:21.225Z"
   },
   {
    "duration": 14,
    "start_time": "2023-05-16T14:06:21.230Z"
   },
   {
    "duration": 21,
    "start_time": "2023-05-16T14:06:21.294Z"
   },
   {
    "duration": 4,
    "start_time": "2023-05-16T14:06:21.410Z"
   },
   {
    "duration": 11,
    "start_time": "2023-05-16T14:06:21.556Z"
   },
   {
    "duration": 53,
    "start_time": "2023-05-16T14:06:21.706Z"
   },
   {
    "duration": 5,
    "start_time": "2023-05-16T14:06:22.617Z"
   },
   {
    "duration": 5,
    "start_time": "2023-05-16T14:06:22.826Z"
   },
   {
    "duration": 4,
    "start_time": "2023-05-16T14:06:23.006Z"
   },
   {
    "duration": 5,
    "start_time": "2023-05-16T14:06:23.205Z"
   },
   {
    "duration": 8,
    "start_time": "2023-05-16T14:06:23.618Z"
   },
   {
    "duration": 7,
    "start_time": "2023-05-16T14:06:23.765Z"
   },
   {
    "duration": 9,
    "start_time": "2023-05-16T14:06:23.954Z"
   },
   {
    "duration": 280,
    "start_time": "2023-05-16T14:06:24.158Z"
   },
   {
    "duration": 819,
    "start_time": "2023-05-16T14:06:24.908Z"
   },
   {
    "duration": 531,
    "start_time": "2023-05-16T14:06:25.729Z"
   },
   {
    "duration": 652,
    "start_time": "2023-05-16T14:06:26.263Z"
   },
   {
    "duration": 603,
    "start_time": "2023-05-16T14:06:26.918Z"
   },
   {
    "duration": 38,
    "start_time": "2023-05-16T14:06:27.524Z"
   },
   {
    "duration": 1503,
    "start_time": "2023-05-16T14:06:27.575Z"
   },
   {
    "duration": 240,
    "start_time": "2023-05-16T14:06:29.081Z"
   },
   {
    "duration": 102,
    "start_time": "2023-05-16T14:06:29.323Z"
   },
   {
    "duration": 130,
    "start_time": "2023-05-16T14:06:29.427Z"
   },
   {
    "duration": 18,
    "start_time": "2023-05-16T14:06:29.559Z"
   },
   {
    "duration": 9,
    "start_time": "2023-05-16T14:06:29.579Z"
   },
   {
    "duration": 4,
    "start_time": "2023-05-16T14:06:29.590Z"
   },
   {
    "duration": 9,
    "start_time": "2023-05-16T14:06:29.597Z"
   },
   {
    "duration": 10,
    "start_time": "2023-05-16T14:06:30.510Z"
   },
   {
    "duration": 5,
    "start_time": "2023-05-16T15:34:31.965Z"
   },
   {
    "duration": 5,
    "start_time": "2023-05-16T15:34:32.408Z"
   },
   {
    "duration": 9,
    "start_time": "2023-05-16T15:40:37.653Z"
   },
   {
    "duration": 13,
    "start_time": "2023-05-16T15:40:43.972Z"
   },
   {
    "duration": 6,
    "start_time": "2023-05-16T15:40:44.607Z"
   },
   {
    "duration": 4,
    "start_time": "2023-05-16T15:40:59.052Z"
   },
   {
    "duration": 9,
    "start_time": "2023-05-16T15:51:55.743Z"
   },
   {
    "duration": 12,
    "start_time": "2023-05-16T15:52:15.847Z"
   },
   {
    "duration": 871,
    "start_time": "2023-05-16T15:52:16.120Z"
   },
   {
    "duration": 1125,
    "start_time": "2023-05-16T15:52:16.994Z"
   },
   {
    "duration": 73,
    "start_time": "2023-05-16T15:53:36.498Z"
   },
   {
    "duration": 21,
    "start_time": "2023-05-16T15:53:45.898Z"
   },
   {
    "duration": 1011,
    "start_time": "2023-05-16T15:53:47.906Z"
   },
   {
    "duration": 1286,
    "start_time": "2023-05-16T15:53:48.922Z"
   },
   {
    "duration": 20,
    "start_time": "2023-05-16T15:53:50.213Z"
   },
   {
    "duration": 5,
    "start_time": "2023-05-16T15:53:50.240Z"
   },
   {
    "duration": 24,
    "start_time": "2023-05-16T15:53:52.102Z"
   },
   {
    "duration": 17,
    "start_time": "2023-05-16T15:53:53.048Z"
   },
   {
    "duration": 12,
    "start_time": "2023-05-16T15:53:53.305Z"
   },
   {
    "duration": 23,
    "start_time": "2023-05-16T15:53:53.502Z"
   },
   {
    "duration": 80,
    "start_time": "2023-05-16T15:53:53.750Z"
   },
   {
    "duration": 5,
    "start_time": "2023-05-16T15:53:54.752Z"
   },
   {
    "duration": 6,
    "start_time": "2023-05-16T15:53:54.949Z"
   },
   {
    "duration": 16,
    "start_time": "2023-05-16T15:53:55.121Z"
   },
   {
    "duration": 13,
    "start_time": "2023-05-16T15:53:55.308Z"
   },
   {
    "duration": 7,
    "start_time": "2023-05-16T15:53:55.648Z"
   },
   {
    "duration": 10,
    "start_time": "2023-05-16T15:53:55.832Z"
   },
   {
    "duration": 10,
    "start_time": "2023-05-16T15:53:56.020Z"
   },
   {
    "duration": 308,
    "start_time": "2023-05-16T15:53:56.193Z"
   },
   {
    "duration": 721,
    "start_time": "2023-05-16T15:53:56.903Z"
   },
   {
    "duration": 643,
    "start_time": "2023-05-16T15:53:57.629Z"
   },
   {
    "duration": 777,
    "start_time": "2023-05-16T15:53:58.275Z"
   },
   {
    "duration": 800,
    "start_time": "2023-05-16T15:53:59.054Z"
   },
   {
    "duration": 64,
    "start_time": "2023-05-16T15:53:59.857Z"
   },
   {
    "duration": 1601,
    "start_time": "2023-05-16T15:53:59.931Z"
   },
   {
    "duration": 286,
    "start_time": "2023-05-16T15:54:01.534Z"
   },
   {
    "duration": 135,
    "start_time": "2023-05-16T15:54:01.827Z"
   },
   {
    "duration": 167,
    "start_time": "2023-05-16T15:54:01.964Z"
   },
   {
    "duration": 16,
    "start_time": "2023-05-16T15:54:02.136Z"
   },
   {
    "duration": 51,
    "start_time": "2023-05-16T15:54:02.154Z"
   },
   {
    "duration": 45,
    "start_time": "2023-05-16T15:54:02.207Z"
   },
   {
    "duration": 27,
    "start_time": "2023-05-16T15:54:02.254Z"
   },
   {
    "duration": 53,
    "start_time": "2023-05-16T15:54:02.282Z"
   },
   {
    "duration": 30,
    "start_time": "2023-05-16T15:54:02.338Z"
   },
   {
    "duration": 51,
    "start_time": "2023-05-16T15:54:02.370Z"
   },
   {
    "duration": 92,
    "start_time": "2023-05-16T15:54:02.425Z"
   },
   {
    "duration": 10,
    "start_time": "2023-05-16T15:54:02.523Z"
   },
   {
    "duration": 4,
    "start_time": "2023-05-16T15:54:03.149Z"
   },
   {
    "duration": 3,
    "start_time": "2023-05-16T15:54:03.534Z"
   },
   {
    "duration": 14,
    "start_time": "2023-05-16T16:04:42.327Z"
   },
   {
    "duration": 3,
    "start_time": "2023-05-16T16:04:47.939Z"
   },
   {
    "duration": 3,
    "start_time": "2023-05-16T16:04:48.426Z"
   },
   {
    "duration": 5068,
    "start_time": "2023-05-16T16:04:48.916Z"
   },
   {
    "duration": 3266,
    "start_time": "2023-05-16T16:05:03.175Z"
   },
   {
    "duration": 3055,
    "start_time": "2023-05-16T16:05:28.128Z"
   },
   {
    "duration": 3866,
    "start_time": "2023-05-16T16:07:04.947Z"
   },
   {
    "duration": 4679,
    "start_time": "2023-05-16T16:07:18.755Z"
   },
   {
    "duration": 3772,
    "start_time": "2023-05-16T16:09:59.326Z"
   },
   {
    "duration": 3016,
    "start_time": "2023-05-16T16:10:09.135Z"
   },
   {
    "duration": 14,
    "start_time": "2023-05-16T16:15:30.855Z"
   },
   {
    "duration": 6,
    "start_time": "2023-05-16T16:15:53.106Z"
   },
   {
    "duration": 4,
    "start_time": "2023-05-16T16:15:53.517Z"
   },
   {
    "duration": 9,
    "start_time": "2023-05-16T16:15:54.554Z"
   },
   {
    "duration": 5,
    "start_time": "2023-05-16T16:15:54.755Z"
   },
   {
    "duration": 5,
    "start_time": "2023-05-16T16:15:55.018Z"
   },
   {
    "duration": 7,
    "start_time": "2023-05-16T16:15:55.255Z"
   },
   {
    "duration": 4,
    "start_time": "2023-05-16T16:15:55.450Z"
   },
   {
    "duration": 6,
    "start_time": "2023-05-16T16:15:55.620Z"
   },
   {
    "duration": 3,
    "start_time": "2023-05-16T16:15:55.818Z"
   },
   {
    "duration": 4,
    "start_time": "2023-05-16T16:15:56.109Z"
   },
   {
    "duration": 5676,
    "start_time": "2023-05-16T16:15:56.554Z"
   },
   {
    "duration": 5244,
    "start_time": "2023-05-16T16:16:02.284Z"
   },
   {
    "duration": 77,
    "start_time": "2023-05-16T16:16:07.531Z"
   },
   {
    "duration": 26,
    "start_time": "2023-05-16T16:16:36.893Z"
   },
   {
    "duration": 3,
    "start_time": "2023-05-16T16:16:43.217Z"
   },
   {
    "duration": 3,
    "start_time": "2023-05-16T16:16:43.755Z"
   },
   {
    "duration": 4,
    "start_time": "2023-05-16T16:16:44.154Z"
   },
   {
    "duration": 13,
    "start_time": "2023-05-16T16:16:44.802Z"
   },
   {
    "duration": 8,
    "start_time": "2023-05-16T16:16:44.963Z"
   },
   {
    "duration": 5,
    "start_time": "2023-05-16T16:16:45.129Z"
   },
   {
    "duration": 6,
    "start_time": "2023-05-16T16:16:45.298Z"
   },
   {
    "duration": 4,
    "start_time": "2023-05-16T16:16:45.467Z"
   },
   {
    "duration": 6,
    "start_time": "2023-05-16T16:16:45.651Z"
   },
   {
    "duration": 3,
    "start_time": "2023-05-16T16:16:45.808Z"
   },
   {
    "duration": 3,
    "start_time": "2023-05-16T16:16:46.002Z"
   },
   {
    "duration": 3589,
    "start_time": "2023-05-16T16:16:46.153Z"
   },
   {
    "duration": 3449,
    "start_time": "2023-05-16T16:16:49.749Z"
   },
   {
    "duration": 22,
    "start_time": "2023-05-16T16:16:53.200Z"
   },
   {
    "duration": 6,
    "start_time": "2023-05-16T16:17:47.498Z"
   },
   {
    "duration": 6,
    "start_time": "2023-05-16T16:17:51.295Z"
   },
   {
    "duration": 5,
    "start_time": "2023-05-16T16:19:43.254Z"
   },
   {
    "duration": 1179,
    "start_time": "2023-05-16T16:19:43.406Z"
   },
   {
    "duration": 1501,
    "start_time": "2023-05-16T16:19:44.596Z"
   },
   {
    "duration": 14,
    "start_time": "2023-05-16T16:19:46.099Z"
   },
   {
    "duration": 17,
    "start_time": "2023-05-16T16:19:46.116Z"
   },
   {
    "duration": 37,
    "start_time": "2023-05-16T16:19:46.136Z"
   },
   {
    "duration": 34,
    "start_time": "2023-05-16T16:19:46.175Z"
   },
   {
    "duration": 16,
    "start_time": "2023-05-16T16:19:46.211Z"
   },
   {
    "duration": 22,
    "start_time": "2023-05-16T16:19:46.229Z"
   },
   {
    "duration": 85,
    "start_time": "2023-05-16T16:19:46.302Z"
   },
   {
    "duration": 9,
    "start_time": "2023-05-16T16:19:47.532Z"
   },
   {
    "duration": 5,
    "start_time": "2023-05-16T16:19:47.754Z"
   },
   {
    "duration": 6,
    "start_time": "2023-05-16T16:19:47.949Z"
   },
   {
    "duration": 5,
    "start_time": "2023-05-16T16:19:48.255Z"
   },
   {
    "duration": 10,
    "start_time": "2023-05-16T16:19:48.756Z"
   },
   {
    "duration": 10,
    "start_time": "2023-05-16T16:19:48.904Z"
   },
   {
    "duration": 8,
    "start_time": "2023-05-16T16:19:49.054Z"
   },
   {
    "duration": 377,
    "start_time": "2023-05-16T16:19:49.254Z"
   },
   {
    "duration": 868,
    "start_time": "2023-05-16T16:19:50.141Z"
   },
   {
    "duration": 703,
    "start_time": "2023-05-16T16:19:51.015Z"
   },
   {
    "duration": 879,
    "start_time": "2023-05-16T16:19:51.732Z"
   },
   {
    "duration": 1029,
    "start_time": "2023-05-16T16:19:52.614Z"
   },
   {
    "duration": 54,
    "start_time": "2023-05-16T16:19:53.647Z"
   },
   {
    "duration": 1713,
    "start_time": "2023-05-16T16:19:53.703Z"
   },
   {
    "duration": 277,
    "start_time": "2023-05-16T16:19:55.423Z"
   },
   {
    "duration": 314,
    "start_time": "2023-05-16T16:19:55.712Z"
   },
   {
    "duration": 129,
    "start_time": "2023-05-16T16:19:56.033Z"
   },
   {
    "duration": 18,
    "start_time": "2023-05-16T16:19:56.164Z"
   },
   {
    "duration": 4,
    "start_time": "2023-05-16T16:19:56.184Z"
   },
   {
    "duration": 5,
    "start_time": "2023-05-16T16:19:56.196Z"
   },
   {
    "duration": 11,
    "start_time": "2023-05-16T16:19:56.202Z"
   },
   {
    "duration": 15,
    "start_time": "2023-05-16T16:19:56.214Z"
   },
   {
    "duration": 20,
    "start_time": "2023-05-16T16:19:56.233Z"
   },
   {
    "duration": 4,
    "start_time": "2023-05-16T16:19:56.255Z"
   },
   {
    "duration": 35,
    "start_time": "2023-05-16T16:19:56.260Z"
   },
   {
    "duration": 10,
    "start_time": "2023-05-16T16:19:56.301Z"
   },
   {
    "duration": 8,
    "start_time": "2023-05-16T16:19:56.316Z"
   },
   {
    "duration": 5,
    "start_time": "2023-05-16T16:19:56.336Z"
   },
   {
    "duration": 3,
    "start_time": "2023-05-16T16:19:56.343Z"
   },
   {
    "duration": 3,
    "start_time": "2023-05-16T16:19:56.418Z"
   },
   {
    "duration": 4164,
    "start_time": "2023-05-16T16:19:56.630Z"
   },
   {
    "duration": 4166,
    "start_time": "2023-05-16T16:20:00.805Z"
   },
   {
    "duration": 39,
    "start_time": "2023-05-16T16:20:04.981Z"
   },
   {
    "duration": 15,
    "start_time": "2023-05-16T16:21:08.504Z"
   },
   {
    "duration": 8,
    "start_time": "2023-05-16T16:22:30.602Z"
   },
   {
    "duration": 4,
    "start_time": "2023-05-16T16:22:32.859Z"
   },
   {
    "duration": 2,
    "start_time": "2023-05-16T16:22:33.171Z"
   },
   {
    "duration": 7,
    "start_time": "2023-05-16T16:22:33.402Z"
   },
   {
    "duration": 7,
    "start_time": "2023-05-16T16:22:35.952Z"
   },
   {
    "duration": 4,
    "start_time": "2023-05-16T16:22:36.255Z"
   },
   {
    "duration": 6,
    "start_time": "2023-05-16T16:22:36.431Z"
   },
   {
    "duration": 4,
    "start_time": "2023-05-16T16:24:57.559Z"
   },
   {
    "duration": 15,
    "start_time": "2023-05-16T16:24:58.429Z"
   },
   {
    "duration": 5,
    "start_time": "2023-05-16T16:24:58.570Z"
   },
   {
    "duration": 4,
    "start_time": "2023-05-16T16:24:58.767Z"
   },
   {
    "duration": 5,
    "start_time": "2023-05-16T16:24:58.955Z"
   },
   {
    "duration": 11,
    "start_time": "2023-05-16T16:24:59.120Z"
   },
   {
    "duration": 9,
    "start_time": "2023-05-16T16:24:59.294Z"
   },
   {
    "duration": 4,
    "start_time": "2023-05-16T16:24:59.461Z"
   },
   {
    "duration": 4,
    "start_time": "2023-05-16T16:24:59.661Z"
   },
   {
    "duration": 2920,
    "start_time": "2023-05-16T16:24:59.821Z"
   },
   {
    "duration": 3600,
    "start_time": "2023-05-16T16:25:02.753Z"
   },
   {
    "duration": 27,
    "start_time": "2023-05-16T16:25:06.382Z"
   },
   {
    "duration": 3,
    "start_time": "2023-05-16T16:25:25.052Z"
   },
   {
    "duration": 9,
    "start_time": "2023-05-16T16:25:25.557Z"
   },
   {
    "duration": 62,
    "start_time": "2023-05-16T16:26:11.710Z"
   },
   {
    "duration": 3,
    "start_time": "2023-05-16T16:27:11.351Z"
   },
   {
    "duration": 9,
    "start_time": "2023-05-16T16:27:12.951Z"
   },
   {
    "duration": 11,
    "start_time": "2023-05-16T16:27:13.125Z"
   },
   {
    "duration": 6,
    "start_time": "2023-05-16T16:27:13.321Z"
   },
   {
    "duration": 6,
    "start_time": "2023-05-16T16:27:13.555Z"
   },
   {
    "duration": 5,
    "start_time": "2023-05-16T16:27:13.846Z"
   },
   {
    "duration": 14,
    "start_time": "2023-05-16T16:27:14.086Z"
   },
   {
    "duration": 8,
    "start_time": "2023-05-16T16:27:14.301Z"
   },
   {
    "duration": 4,
    "start_time": "2023-05-16T16:27:14.550Z"
   },
   {
    "duration": 4279,
    "start_time": "2023-05-16T16:27:14.808Z"
   },
   {
    "duration": 4255,
    "start_time": "2023-05-16T16:27:19.090Z"
   },
   {
    "duration": 83,
    "start_time": "2023-05-16T16:27:23.347Z"
   },
   {
    "duration": 11,
    "start_time": "2023-05-16T16:28:05.862Z"
   },
   {
    "duration": 9,
    "start_time": "2023-05-16T16:28:55.628Z"
   },
   {
    "duration": 135,
    "start_time": "2023-05-16T16:28:56.194Z"
   },
   {
    "duration": 12,
    "start_time": "2023-05-16T16:28:56.824Z"
   },
   {
    "duration": 3,
    "start_time": "2023-05-16T16:29:01.860Z"
   },
   {
    "duration": 9,
    "start_time": "2023-05-16T16:29:02.952Z"
   },
   {
    "duration": 7,
    "start_time": "2023-05-16T16:29:03.156Z"
   },
   {
    "duration": 6,
    "start_time": "2023-05-16T16:29:03.462Z"
   },
   {
    "duration": 6,
    "start_time": "2023-05-16T16:29:03.762Z"
   },
   {
    "duration": 8,
    "start_time": "2023-05-16T16:29:04.166Z"
   },
   {
    "duration": 7,
    "start_time": "2023-05-16T16:29:04.416Z"
   },
   {
    "duration": 3,
    "start_time": "2023-05-16T16:29:04.694Z"
   },
   {
    "duration": 6,
    "start_time": "2023-05-16T16:29:04.933Z"
   },
   {
    "duration": 4421,
    "start_time": "2023-05-16T16:29:05.257Z"
   },
   {
    "duration": 2745,
    "start_time": "2023-05-16T16:29:09.692Z"
   },
   {
    "duration": 93,
    "start_time": "2023-05-16T16:29:12.448Z"
   },
   {
    "duration": 4,
    "start_time": "2023-05-16T16:29:53.368Z"
   },
   {
    "duration": 5,
    "start_time": "2023-05-16T16:29:54.231Z"
   },
   {
    "duration": 9,
    "start_time": "2023-05-16T16:29:54.962Z"
   },
   {
    "duration": 15,
    "start_time": "2023-05-16T16:29:55.139Z"
   },
   {
    "duration": 13,
    "start_time": "2023-05-16T16:29:55.312Z"
   },
   {
    "duration": 18,
    "start_time": "2023-05-16T16:29:55.518Z"
   },
   {
    "duration": 11,
    "start_time": "2023-05-16T16:29:55.726Z"
   },
   {
    "duration": 5,
    "start_time": "2023-05-16T16:29:55.903Z"
   },
   {
    "duration": 4,
    "start_time": "2023-05-16T16:29:56.058Z"
   },
   {
    "duration": 3,
    "start_time": "2023-05-16T16:29:56.233Z"
   },
   {
    "duration": 4380,
    "start_time": "2023-05-16T16:29:56.451Z"
   },
   {
    "duration": 3139,
    "start_time": "2023-05-16T16:30:00.854Z"
   },
   {
    "duration": 13,
    "start_time": "2023-05-16T16:30:04.009Z"
   },
   {
    "duration": 4,
    "start_time": "2023-05-16T16:30:32.231Z"
   },
   {
    "duration": 4,
    "start_time": "2023-05-16T16:30:39.514Z"
   },
   {
    "duration": 1992,
    "start_time": "2023-05-16T21:52:49.172Z"
   },
   {
    "duration": 3463,
    "start_time": "2023-05-16T21:53:02.238Z"
   },
   {
    "duration": 1323,
    "start_time": "2023-05-16T21:53:05.703Z"
   },
   {
    "duration": 30,
    "start_time": "2023-05-16T21:53:07.029Z"
   },
   {
    "duration": 6,
    "start_time": "2023-05-16T21:53:07.063Z"
   },
   {
    "duration": 22,
    "start_time": "2023-05-16T21:53:08.300Z"
   },
   {
    "duration": 35,
    "start_time": "2023-05-16T21:53:08.864Z"
   },
   {
    "duration": 6,
    "start_time": "2023-05-16T21:53:09.034Z"
   },
   {
    "duration": 17,
    "start_time": "2023-05-16T21:53:09.181Z"
   },
   {
    "duration": 102,
    "start_time": "2023-05-16T21:53:09.343Z"
   },
   {
    "duration": 11,
    "start_time": "2023-05-16T21:53:10.142Z"
   },
   {
    "duration": 6,
    "start_time": "2023-05-16T21:53:10.325Z"
   },
   {
    "duration": 11,
    "start_time": "2023-05-16T21:53:10.452Z"
   },
   {
    "duration": 6,
    "start_time": "2023-05-16T21:53:10.601Z"
   },
   {
    "duration": 17,
    "start_time": "2023-05-16T21:53:10.946Z"
   },
   {
    "duration": 23,
    "start_time": "2023-05-16T21:53:11.087Z"
   },
   {
    "duration": 15,
    "start_time": "2023-05-16T21:53:11.242Z"
   },
   {
    "duration": 321,
    "start_time": "2023-05-16T21:53:11.478Z"
   },
   {
    "duration": 1021,
    "start_time": "2023-05-16T21:53:12.193Z"
   },
   {
    "duration": 660,
    "start_time": "2023-05-16T21:53:13.217Z"
   },
   {
    "duration": 861,
    "start_time": "2023-05-16T21:53:13.894Z"
   },
   {
    "duration": 715,
    "start_time": "2023-05-16T21:53:14.760Z"
   },
   {
    "duration": 49,
    "start_time": "2023-05-16T21:53:15.476Z"
   },
   {
    "duration": 1823,
    "start_time": "2023-05-16T21:53:15.527Z"
   },
   {
    "duration": 309,
    "start_time": "2023-05-16T21:53:17.356Z"
   },
   {
    "duration": 116,
    "start_time": "2023-05-16T21:53:17.673Z"
   },
   {
    "duration": 132,
    "start_time": "2023-05-16T21:53:17.795Z"
   },
   {
    "duration": 26,
    "start_time": "2023-05-16T21:53:17.929Z"
   },
   {
    "duration": 60,
    "start_time": "2023-05-16T21:53:17.962Z"
   },
   {
    "duration": 100,
    "start_time": "2023-05-16T21:53:18.025Z"
   },
   {
    "duration": 5,
    "start_time": "2023-05-16T21:53:18.353Z"
   },
   {
    "duration": 4,
    "start_time": "2023-05-16T21:53:18.726Z"
   },
   {
    "duration": 16,
    "start_time": "2023-05-16T21:53:20.072Z"
   },
   {
    "duration": 5,
    "start_time": "2023-05-16T21:53:20.404Z"
   },
   {
    "duration": 7,
    "start_time": "2023-05-16T21:53:20.980Z"
   },
   {
    "duration": 6,
    "start_time": "2023-05-16T21:53:21.564Z"
   },
   {
    "duration": 14,
    "start_time": "2023-05-16T21:53:21.980Z"
   },
   {
    "duration": 5,
    "start_time": "2023-05-16T21:53:22.337Z"
   },
   {
    "duration": 3,
    "start_time": "2023-05-16T21:53:22.712Z"
   },
   {
    "duration": 11,
    "start_time": "2023-05-16T21:53:23.343Z"
   },
   {
    "duration": 111,
    "start_time": "2023-05-16T22:14:33.823Z"
   },
   {
    "duration": 344,
    "start_time": "2023-05-16T22:14:48.293Z"
   },
   {
    "duration": 15,
    "start_time": "2023-05-16T22:16:05.343Z"
   },
   {
    "duration": 20,
    "start_time": "2023-05-16T22:16:05.564Z"
   },
   {
    "duration": 3,
    "start_time": "2023-05-16T22:16:05.724Z"
   },
   {
    "duration": 9,
    "start_time": "2023-05-16T22:16:06.226Z"
   },
   {
    "duration": 10,
    "start_time": "2023-05-16T22:16:06.394Z"
   },
   {
    "duration": 14,
    "start_time": "2023-05-16T22:16:06.640Z"
   },
   {
    "duration": 15,
    "start_time": "2023-05-16T22:16:06.879Z"
   },
   {
    "duration": 4,
    "start_time": "2023-05-16T22:16:07.022Z"
   },
   {
    "duration": 7,
    "start_time": "2023-05-16T22:16:07.191Z"
   },
   {
    "duration": 8,
    "start_time": "2023-05-16T22:16:07.388Z"
   },
   {
    "duration": 5,
    "start_time": "2023-05-16T22:16:07.564Z"
   },
   {
    "duration": 29,
    "start_time": "2023-05-16T22:16:07.938Z"
   },
   {
    "duration": 12,
    "start_time": "2023-05-16T22:16:08.202Z"
   },
   {
    "duration": 15,
    "start_time": "2023-05-16T22:16:09.467Z"
   },
   {
    "duration": 311,
    "start_time": "2023-05-16T22:16:10.632Z"
   },
   {
    "duration": 12,
    "start_time": "2023-05-16T22:16:52.075Z"
   },
   {
    "duration": 3,
    "start_time": "2023-05-16T22:16:52.526Z"
   },
   {
    "duration": 5364,
    "start_time": "2023-05-16T22:16:52.702Z"
   },
   {
    "duration": 3403,
    "start_time": "2023-05-16T22:16:58.078Z"
   },
   {
    "duration": 10,
    "start_time": "2023-05-16T22:17:01.490Z"
   },
   {
    "duration": 63,
    "start_time": "2023-05-16T22:17:01.566Z"
   },
   {
    "duration": 5,
    "start_time": "2023-05-16T22:17:13.128Z"
   },
   {
    "duration": 106,
    "start_time": "2023-05-16T22:34:50.399Z"
   },
   {
    "duration": 1262,
    "start_time": "2023-05-16T22:34:50.508Z"
   },
   {
    "duration": 1396,
    "start_time": "2023-05-16T22:34:51.778Z"
   },
   {
    "duration": 28,
    "start_time": "2023-05-16T22:34:53.178Z"
   },
   {
    "duration": 119,
    "start_time": "2023-05-16T22:34:53.213Z"
   },
   {
    "duration": 60,
    "start_time": "2023-05-16T22:34:53.334Z"
   },
   {
    "duration": 7,
    "start_time": "2023-05-16T22:34:56.734Z"
   },
   {
    "duration": 1149,
    "start_time": "2023-05-16T22:34:57.434Z"
   },
   {
    "duration": 1390,
    "start_time": "2023-05-16T22:34:58.591Z"
   },
   {
    "duration": 51,
    "start_time": "2023-05-16T22:35:01.643Z"
   },
   {
    "duration": 6,
    "start_time": "2023-05-16T22:35:02.214Z"
   },
   {
    "duration": 27,
    "start_time": "2023-05-16T22:35:03.043Z"
   },
   {
    "duration": 31,
    "start_time": "2023-05-16T22:35:03.578Z"
   },
   {
    "duration": 21,
    "start_time": "2023-05-16T22:35:04.073Z"
   },
   {
    "duration": 25,
    "start_time": "2023-05-16T22:35:04.443Z"
   },
   {
    "duration": 78,
    "start_time": "2023-05-16T22:35:04.808Z"
   },
   {
    "duration": 9,
    "start_time": "2023-05-16T22:35:06.406Z"
   },
   {
    "duration": 8,
    "start_time": "2023-05-16T22:35:06.810Z"
   },
   {
    "duration": 6,
    "start_time": "2023-05-16T22:35:07.207Z"
   },
   {
    "duration": 12,
    "start_time": "2023-05-16T22:35:07.594Z"
   },
   {
    "duration": 10,
    "start_time": "2023-05-16T22:35:08.429Z"
   },
   {
    "duration": 12,
    "start_time": "2023-05-16T22:35:09.096Z"
   },
   {
    "duration": 19,
    "start_time": "2023-05-16T22:35:09.479Z"
   },
   {
    "duration": 373,
    "start_time": "2023-05-16T22:35:09.799Z"
   },
   {
    "duration": 849,
    "start_time": "2023-05-16T22:35:10.920Z"
   },
   {
    "duration": 921,
    "start_time": "2023-05-16T22:35:12.408Z"
   },
   {
    "duration": 949,
    "start_time": "2023-05-16T22:35:13.332Z"
   },
   {
    "duration": 770,
    "start_time": "2023-05-16T22:35:14.283Z"
   },
   {
    "duration": 59,
    "start_time": "2023-05-16T22:35:15.068Z"
   },
   {
    "duration": 1948,
    "start_time": "2023-05-16T22:35:16.180Z"
   },
   {
    "duration": 280,
    "start_time": "2023-05-16T22:35:18.130Z"
   },
   {
    "duration": 165,
    "start_time": "2023-05-16T22:35:19.534Z"
   },
   {
    "duration": 181,
    "start_time": "2023-05-16T22:35:19.991Z"
   },
   {
    "duration": 18,
    "start_time": "2023-05-16T22:35:20.411Z"
   },
   {
    "duration": 4,
    "start_time": "2023-05-16T22:35:22.195Z"
   },
   {
    "duration": 5,
    "start_time": "2023-05-16T22:35:23.000Z"
   },
   {
    "duration": 3,
    "start_time": "2023-05-16T22:35:23.335Z"
   },
   {
    "duration": 8,
    "start_time": "2023-05-16T22:35:23.779Z"
   },
   {
    "duration": 23,
    "start_time": "2023-05-16T22:35:25.577Z"
   },
   {
    "duration": 7,
    "start_time": "2023-05-16T22:35:25.967Z"
   },
   {
    "duration": 5,
    "start_time": "2023-05-16T22:35:26.410Z"
   },
   {
    "duration": 7,
    "start_time": "2023-05-16T22:35:26.826Z"
   },
   {
    "duration": 4,
    "start_time": "2023-05-16T22:35:27.398Z"
   },
   {
    "duration": 6,
    "start_time": "2023-05-16T22:35:27.889Z"
   },
   {
    "duration": 3,
    "start_time": "2023-05-16T22:35:28.336Z"
   },
   {
    "duration": 4,
    "start_time": "2023-05-16T22:35:28.737Z"
   },
   {
    "duration": 5643,
    "start_time": "2023-05-16T22:35:29.309Z"
   },
   {
    "duration": 4444,
    "start_time": "2023-05-16T22:35:38.078Z"
   },
   {
    "duration": 3392,
    "start_time": "2023-05-16T22:35:42.574Z"
   },
   {
    "duration": 12,
    "start_time": "2023-05-16T22:35:46.006Z"
   },
   {
    "duration": 1140911,
    "start_time": "2023-05-16T22:35:48.375Z"
   },
   {
    "duration": 21900,
    "start_time": "2023-05-16T22:54:49.288Z"
   },
   {
    "duration": 76,
    "start_time": "2023-05-16T22:55:11.191Z"
   },
   {
    "duration": 0,
    "start_time": "2023-05-16T22:55:11.272Z"
   },
   {
    "duration": 22046,
    "start_time": "2023-05-16T22:56:01.129Z"
   },
   {
    "duration": 20753,
    "start_time": "2023-05-16T22:56:43.667Z"
   },
   {
    "duration": 338647,
    "start_time": "2023-05-16T22:57:46.492Z"
   },
   {
    "duration": 5,
    "start_time": "2023-05-16T23:03:27.977Z"
   },
   {
    "duration": 17,
    "start_time": "2023-05-16T23:04:23.639Z"
   },
   {
    "duration": 302940,
    "start_time": "2023-05-16T23:04:47.210Z"
   },
   {
    "duration": 313305,
    "start_time": "2023-05-16T23:12:22.583Z"
   },
   {
    "duration": 18,
    "start_time": "2023-05-16T23:17:35.890Z"
   },
   {
    "duration": 20,
    "start_time": "2023-05-16T23:21:14.383Z"
   },
   {
    "duration": 153,
    "start_time": "2023-05-16T23:23:03.121Z"
   },
   {
    "duration": 134,
    "start_time": "2023-05-16T23:23:14.644Z"
   },
   {
    "duration": 109,
    "start_time": "2023-05-16T23:23:57.898Z"
   },
   {
    "duration": 133,
    "start_time": "2023-05-16T23:24:05.211Z"
   },
   {
    "duration": 124,
    "start_time": "2023-05-16T23:24:12.914Z"
   },
   {
    "duration": 182,
    "start_time": "2023-05-16T23:24:26.443Z"
   },
   {
    "duration": 160,
    "start_time": "2023-05-16T23:25:20.318Z"
   },
   {
    "duration": 145,
    "start_time": "2023-05-16T23:26:38.947Z"
   },
   {
    "duration": 196,
    "start_time": "2023-05-16T23:27:00.219Z"
   },
   {
    "duration": 94,
    "start_time": "2023-05-16T23:29:01.475Z"
   },
   {
    "duration": 3,
    "start_time": "2023-05-16T23:41:16.173Z"
   },
   {
    "duration": 17699,
    "start_time": "2023-05-16T23:41:23.501Z"
   },
   {
    "duration": 18471,
    "start_time": "2023-05-16T23:41:41.202Z"
   },
   {
    "duration": 7,
    "start_time": "2023-05-16T23:43:43.062Z"
   },
   {
    "duration": 17535,
    "start_time": "2023-05-16T23:43:50.133Z"
   },
   {
    "duration": 257015,
    "start_time": "2023-05-16T23:44:46.697Z"
   },
   {
    "duration": 258657,
    "start_time": "2023-05-17T00:01:30.187Z"
   },
   {
    "duration": 202595,
    "start_time": "2023-05-17T00:05:48.846Z"
   },
   {
    "duration": 18,
    "start_time": "2023-05-17T00:09:11.443Z"
   },
   {
    "duration": 268179,
    "start_time": "2023-05-17T00:09:19.322Z"
   },
   {
    "duration": 4,
    "start_time": "2023-05-17T00:13:47.504Z"
   },
   {
    "duration": 755501,
    "start_time": "2023-05-17T00:19:41.670Z"
   },
   {
    "duration": 775371,
    "start_time": "2023-05-17T00:32:17.174Z"
   },
   {
    "duration": 14,
    "start_time": "2023-05-17T00:45:12.547Z"
   },
   {
    "duration": 4,
    "start_time": "2023-05-17T01:03:44.722Z"
   },
   {
    "duration": 3,
    "start_time": "2023-05-17T01:12:09.982Z"
   },
   {
    "duration": 5912,
    "start_time": "2023-05-17T01:14:16.589Z"
   },
   {
    "duration": 9,
    "start_time": "2023-05-17T01:16:48.882Z"
   },
   {
    "duration": 4,
    "start_time": "2023-05-17T01:16:49.833Z"
   },
   {
    "duration": 4,
    "start_time": "2023-05-17T01:16:51.961Z"
   },
   {
    "duration": 11,
    "start_time": "2023-05-17T01:18:56.670Z"
   },
   {
    "duration": 8,
    "start_time": "2023-05-17T01:19:37.119Z"
   },
   {
    "duration": 4,
    "start_time": "2023-05-17T01:19:37.792Z"
   },
   {
    "duration": 4,
    "start_time": "2023-05-17T01:19:38.497Z"
   },
   {
    "duration": 5,
    "start_time": "2023-05-17T01:19:38.907Z"
   },
   {
    "duration": 5908,
    "start_time": "2023-05-17T01:19:44.461Z"
   },
   {
    "duration": 4250,
    "start_time": "2023-05-17T01:36:42.217Z"
   },
   {
    "duration": 28,
    "start_time": "2023-05-17T01:37:27.427Z"
   },
   {
    "duration": 2301,
    "start_time": "2023-05-17T01:37:36.260Z"
   },
   {
    "duration": 20,
    "start_time": "2023-05-17T01:37:38.564Z"
   },
   {
    "duration": 3,
    "start_time": "2023-05-17T01:38:50.148Z"
   },
   {
    "duration": 2,
    "start_time": "2023-05-17T01:38:50.565Z"
   },
   {
    "duration": 4235,
    "start_time": "2023-05-17T01:38:56.240Z"
   },
   {
    "duration": 2284,
    "start_time": "2023-05-17T01:39:00.478Z"
   },
   {
    "duration": 14,
    "start_time": "2023-05-17T01:39:02.764Z"
   },
   {
    "duration": 4224,
    "start_time": "2023-05-17T01:40:44.647Z"
   },
   {
    "duration": 2261,
    "start_time": "2023-05-17T01:40:48.873Z"
   },
   {
    "duration": 37,
    "start_time": "2023-05-17T01:40:51.136Z"
   },
   {
    "duration": 79424,
    "start_time": "2023-05-17T01:43:09.388Z"
   },
   {
    "duration": 0,
    "start_time": "2023-05-17T01:44:28.815Z"
   },
   {
    "duration": 0,
    "start_time": "2023-05-17T01:44:28.817Z"
   },
   {
    "duration": 0,
    "start_time": "2023-05-17T01:44:28.819Z"
   },
   {
    "duration": 3830,
    "start_time": "2023-05-17T01:44:37.105Z"
   },
   {
    "duration": 2152,
    "start_time": "2023-05-17T01:44:40.937Z"
   },
   {
    "duration": 23,
    "start_time": "2023-05-17T01:44:43.091Z"
   },
   {
    "duration": 10,
    "start_time": "2023-05-17T01:49:11.422Z"
   },
   {
    "duration": 3863,
    "start_time": "2023-05-17T01:49:13.345Z"
   },
   {
    "duration": 0,
    "start_time": "2023-05-17T01:49:17.210Z"
   },
   {
    "duration": 0,
    "start_time": "2023-05-17T01:49:17.212Z"
   },
   {
    "duration": 3896,
    "start_time": "2023-05-17T01:49:38.377Z"
   },
   {
    "duration": 3971,
    "start_time": "2023-05-17T01:50:41.144Z"
   },
   {
    "duration": 11,
    "start_time": "2023-05-17T01:50:45.117Z"
   },
   {
    "duration": 0,
    "start_time": "2023-05-17T01:50:45.130Z"
   },
   {
    "duration": 2117,
    "start_time": "2023-05-17T01:50:51.517Z"
   },
   {
    "duration": 22,
    "start_time": "2023-05-17T01:50:54.142Z"
   },
   {
    "duration": 16,
    "start_time": "2023-05-17T01:51:09.118Z"
   },
   {
    "duration": 17,
    "start_time": "2023-05-17T01:51:48.373Z"
   },
   {
    "duration": 2067,
    "start_time": "2023-05-17T01:53:57.723Z"
   },
   {
    "duration": 3819,
    "start_time": "2023-05-17T01:57:25.661Z"
   },
   {
    "duration": 2047,
    "start_time": "2023-05-17T01:57:29.482Z"
   },
   {
    "duration": 33,
    "start_time": "2023-05-17T01:57:31.531Z"
   },
   {
    "duration": 13,
    "start_time": "2023-05-17T02:00:15.952Z"
   },
   {
    "duration": 3885,
    "start_time": "2023-05-17T02:00:51.965Z"
   },
   {
    "duration": 3,
    "start_time": "2023-05-17T02:00:56.661Z"
   },
   {
    "duration": 3806,
    "start_time": "2023-05-17T02:00:58.186Z"
   },
   {
    "duration": 2058,
    "start_time": "2023-05-17T02:01:01.994Z"
   },
   {
    "duration": 6,
    "start_time": "2023-05-17T02:01:04.056Z"
   },
   {
    "duration": 11,
    "start_time": "2023-05-17T02:02:51.141Z"
   },
   {
    "duration": 8,
    "start_time": "2023-05-17T02:03:22.751Z"
   },
   {
    "duration": 5,
    "start_time": "2023-05-17T02:03:31.725Z"
   },
   {
    "duration": 6004,
    "start_time": "2023-05-17T02:03:34.834Z"
   },
   {
    "duration": 3,
    "start_time": "2023-05-17T02:05:54.932Z"
   },
   {
    "duration": 3878,
    "start_time": "2023-05-17T02:05:55.623Z"
   },
   {
    "duration": 1998,
    "start_time": "2023-05-17T02:05:59.503Z"
   },
   {
    "duration": 6,
    "start_time": "2023-05-17T02:06:01.503Z"
   },
   {
    "duration": 11,
    "start_time": "2023-05-17T02:09:21.629Z"
   },
   {
    "duration": 12,
    "start_time": "2023-05-17T02:10:27.428Z"
   },
   {
    "duration": 4,
    "start_time": "2023-05-17T02:13:30.418Z"
   },
   {
    "duration": 13,
    "start_time": "2023-05-17T02:13:34.577Z"
   },
   {
    "duration": 9,
    "start_time": "2023-05-17T02:15:20.581Z"
   },
   {
    "duration": 1544,
    "start_time": "2023-05-17T02:45:53.357Z"
   },
   {
    "duration": 889,
    "start_time": "2023-05-17T02:45:54.903Z"
   },
   {
    "duration": 1135,
    "start_time": "2023-05-17T02:45:55.794Z"
   },
   {
    "duration": 20,
    "start_time": "2023-05-17T02:45:56.932Z"
   },
   {
    "duration": 25,
    "start_time": "2023-05-17T02:45:56.954Z"
   },
   {
    "duration": 39,
    "start_time": "2023-05-17T02:45:56.981Z"
   },
   {
    "duration": 19,
    "start_time": "2023-05-17T02:45:57.021Z"
   },
   {
    "duration": 13,
    "start_time": "2023-05-17T02:45:57.042Z"
   },
   {
    "duration": 21,
    "start_time": "2023-05-17T02:45:57.057Z"
   },
   {
    "duration": 56,
    "start_time": "2023-05-17T02:45:57.081Z"
   },
   {
    "duration": 13,
    "start_time": "2023-05-17T02:45:57.150Z"
   },
   {
    "duration": 12,
    "start_time": "2023-05-17T02:45:57.164Z"
   },
   {
    "duration": 9,
    "start_time": "2023-05-17T02:45:57.178Z"
   },
   {
    "duration": 10,
    "start_time": "2023-05-17T02:45:57.189Z"
   },
   {
    "duration": 14,
    "start_time": "2023-05-17T02:45:57.201Z"
   },
   {
    "duration": 16,
    "start_time": "2023-05-17T02:45:57.217Z"
   },
   {
    "duration": 15,
    "start_time": "2023-05-17T02:45:57.235Z"
   },
   {
    "duration": 287,
    "start_time": "2023-05-17T02:45:57.251Z"
   },
   {
    "duration": 812,
    "start_time": "2023-05-17T02:45:57.546Z"
   },
   {
    "duration": 464,
    "start_time": "2023-05-17T02:45:58.363Z"
   },
   {
    "duration": 625,
    "start_time": "2023-05-17T02:45:58.829Z"
   },
   {
    "duration": 518,
    "start_time": "2023-05-17T02:45:59.456Z"
   },
   {
    "duration": 36,
    "start_time": "2023-05-17T02:45:59.976Z"
   },
   {
    "duration": 1360,
    "start_time": "2023-05-17T02:46:00.014Z"
   },
   {
    "duration": 244,
    "start_time": "2023-05-17T02:46:01.376Z"
   },
   {
    "duration": 106,
    "start_time": "2023-05-17T02:46:01.622Z"
   },
   {
    "duration": 147,
    "start_time": "2023-05-17T02:46:01.730Z"
   },
   {
    "duration": 16,
    "start_time": "2023-05-17T02:46:01.882Z"
   },
   {
    "duration": 33,
    "start_time": "2023-05-17T02:46:01.900Z"
   },
   {
    "duration": 88,
    "start_time": "2023-05-17T02:46:01.935Z"
   },
   {
    "duration": 45,
    "start_time": "2023-05-17T02:46:02.026Z"
   },
   {
    "duration": 66,
    "start_time": "2023-05-17T02:46:02.073Z"
   },
   {
    "duration": 43,
    "start_time": "2023-05-17T02:46:02.140Z"
   },
   {
    "duration": 31,
    "start_time": "2023-05-17T02:46:02.184Z"
   },
   {
    "duration": 18,
    "start_time": "2023-05-17T02:46:02.217Z"
   },
   {
    "duration": 24,
    "start_time": "2023-05-17T02:46:02.237Z"
   },
   {
    "duration": 36,
    "start_time": "2023-05-17T02:46:02.263Z"
   },
   {
    "duration": 1853,
    "start_time": "2023-05-17T02:46:02.302Z"
   },
   {
    "duration": 2409,
    "start_time": "2023-05-17T02:46:04.159Z"
   },
   {
    "duration": 80,
    "start_time": "2023-05-17T02:46:06.570Z"
   },
   {
    "duration": 256059,
    "start_time": "2023-05-17T02:46:06.660Z"
   },
   {
    "duration": 270228,
    "start_time": "2023-05-17T02:50:22.721Z"
   },
   {
    "duration": 6,
    "start_time": "2023-05-17T02:54:52.951Z"
   },
   {
    "duration": 753627,
    "start_time": "2023-05-17T02:54:52.967Z"
   },
   {
    "duration": 763593,
    "start_time": "2023-05-17T03:07:26.596Z"
   },
   {
    "duration": 4,
    "start_time": "2023-05-17T03:20:10.191Z"
   },
   {
    "duration": 10,
    "start_time": "2023-05-17T03:20:10.196Z"
   },
   {
    "duration": 4017,
    "start_time": "2023-05-17T03:20:10.208Z"
   },
   {
    "duration": 0,
    "start_time": "2023-05-17T03:20:14.226Z"
   },
   {
    "duration": 0,
    "start_time": "2023-05-17T03:20:14.228Z"
   },
   {
    "duration": 0,
    "start_time": "2023-05-17T03:20:14.229Z"
   },
   {
    "duration": 90,
    "start_time": "2023-05-17T07:02:10.654Z"
   },
   {
    "duration": 1771,
    "start_time": "2023-05-17T07:02:51.560Z"
   },
   {
    "duration": 3539,
    "start_time": "2023-05-17T07:02:53.344Z"
   },
   {
    "duration": 1162,
    "start_time": "2023-05-17T07:02:56.885Z"
   },
   {
    "duration": 15,
    "start_time": "2023-05-17T07:02:58.050Z"
   },
   {
    "duration": 7,
    "start_time": "2023-05-17T07:02:58.068Z"
   },
   {
    "duration": 15,
    "start_time": "2023-05-17T07:02:58.077Z"
   },
   {
    "duration": 46,
    "start_time": "2023-05-17T07:02:58.093Z"
   },
   {
    "duration": 6,
    "start_time": "2023-05-17T07:02:58.141Z"
   },
   {
    "duration": 15,
    "start_time": "2023-05-17T07:02:58.149Z"
   },
   {
    "duration": 101,
    "start_time": "2023-05-17T07:02:58.168Z"
   },
   {
    "duration": 6,
    "start_time": "2023-05-17T07:02:58.271Z"
   },
   {
    "duration": 9,
    "start_time": "2023-05-17T07:02:58.279Z"
   },
   {
    "duration": 39,
    "start_time": "2023-05-17T07:02:58.289Z"
   },
   {
    "duration": 15,
    "start_time": "2023-05-17T07:02:58.330Z"
   },
   {
    "duration": 10,
    "start_time": "2023-05-17T07:02:58.348Z"
   },
   {
    "duration": 11,
    "start_time": "2023-05-17T07:02:58.360Z"
   },
   {
    "duration": 7,
    "start_time": "2023-05-17T07:02:58.373Z"
   },
   {
    "duration": 311,
    "start_time": "2023-05-17T07:02:58.382Z"
   },
   {
    "duration": 753,
    "start_time": "2023-05-17T07:02:58.695Z"
   },
   {
    "duration": 507,
    "start_time": "2023-05-17T07:02:59.450Z"
   },
   {
    "duration": 711,
    "start_time": "2023-05-17T07:02:59.959Z"
   },
   {
    "duration": 553,
    "start_time": "2023-05-17T07:03:00.672Z"
   },
   {
    "duration": 46,
    "start_time": "2023-05-17T07:03:01.231Z"
   },
   {
    "duration": 1475,
    "start_time": "2023-05-17T07:03:01.279Z"
   },
   {
    "duration": 249,
    "start_time": "2023-05-17T07:03:02.756Z"
   },
   {
    "duration": 128,
    "start_time": "2023-05-17T07:03:03.007Z"
   },
   {
    "duration": 134,
    "start_time": "2023-05-17T07:03:03.138Z"
   },
   {
    "duration": 14,
    "start_time": "2023-05-17T07:03:03.276Z"
   },
   {
    "duration": 5,
    "start_time": "2023-05-17T07:03:03.292Z"
   },
   {
    "duration": 12,
    "start_time": "2023-05-17T07:03:03.300Z"
   },
   {
    "duration": 27,
    "start_time": "2023-05-17T07:03:03.315Z"
   },
   {
    "duration": 8,
    "start_time": "2023-05-17T07:03:03.346Z"
   },
   {
    "duration": 5,
    "start_time": "2023-05-17T07:03:03.356Z"
   },
   {
    "duration": 5,
    "start_time": "2023-05-17T07:03:03.363Z"
   },
   {
    "duration": 5,
    "start_time": "2023-05-17T07:03:03.369Z"
   },
   {
    "duration": 11,
    "start_time": "2023-05-17T07:03:03.376Z"
   },
   {
    "duration": 7,
    "start_time": "2023-05-17T07:03:03.388Z"
   },
   {
    "duration": 1936,
    "start_time": "2023-05-17T07:03:03.397Z"
   },
   {
    "duration": 1712,
    "start_time": "2023-05-17T07:03:05.353Z"
   },
   {
    "duration": 6,
    "start_time": "2023-05-17T07:03:07.069Z"
   },
   {
    "duration": 1872,
    "start_time": "2023-05-17T07:11:55.921Z"
   },
   {
    "duration": 1093,
    "start_time": "2023-05-17T07:11:57.795Z"
   },
   {
    "duration": 1412,
    "start_time": "2023-05-17T07:11:58.893Z"
   },
   {
    "duration": 28,
    "start_time": "2023-05-17T07:12:00.307Z"
   },
   {
    "duration": 19,
    "start_time": "2023-05-17T07:12:00.337Z"
   },
   {
    "duration": 39,
    "start_time": "2023-05-17T07:12:00.359Z"
   },
   {
    "duration": 43,
    "start_time": "2023-05-17T07:12:00.400Z"
   },
   {
    "duration": 37,
    "start_time": "2023-05-17T07:12:00.445Z"
   },
   {
    "duration": 19,
    "start_time": "2023-05-17T07:12:00.490Z"
   },
   {
    "duration": 112,
    "start_time": "2023-05-17T07:12:00.512Z"
   },
   {
    "duration": 10,
    "start_time": "2023-05-17T07:12:00.633Z"
   },
   {
    "duration": 39,
    "start_time": "2023-05-17T07:12:00.648Z"
   },
   {
    "duration": 34,
    "start_time": "2023-05-17T07:12:00.689Z"
   },
   {
    "duration": 31,
    "start_time": "2023-05-17T07:12:00.725Z"
   },
   {
    "duration": 45,
    "start_time": "2023-05-17T07:12:00.758Z"
   },
   {
    "duration": 154,
    "start_time": "2023-05-17T07:12:00.805Z"
   },
   {
    "duration": 42,
    "start_time": "2023-05-17T07:12:00.962Z"
   },
   {
    "duration": 383,
    "start_time": "2023-05-17T07:12:01.005Z"
   },
   {
    "duration": 1015,
    "start_time": "2023-05-17T07:12:01.392Z"
   },
   {
    "duration": 604,
    "start_time": "2023-05-17T07:12:02.408Z"
   },
   {
    "duration": 827,
    "start_time": "2023-05-17T07:12:03.014Z"
   },
   {
    "duration": 666,
    "start_time": "2023-05-17T07:12:03.844Z"
   },
   {
    "duration": 52,
    "start_time": "2023-05-17T07:12:04.511Z"
   },
   {
    "duration": 1677,
    "start_time": "2023-05-17T07:12:04.565Z"
   },
   {
    "duration": 280,
    "start_time": "2023-05-17T07:12:06.243Z"
   },
   {
    "duration": 131,
    "start_time": "2023-05-17T07:12:06.526Z"
   },
   {
    "duration": 133,
    "start_time": "2023-05-17T07:12:06.661Z"
   },
   {
    "duration": 13,
    "start_time": "2023-05-17T07:12:06.798Z"
   },
   {
    "duration": 24,
    "start_time": "2023-05-17T07:12:06.813Z"
   },
   {
    "duration": 42,
    "start_time": "2023-05-17T07:12:06.843Z"
   },
   {
    "duration": 18,
    "start_time": "2023-05-17T07:12:06.890Z"
   },
   {
    "duration": 150,
    "start_time": "2023-05-17T07:12:06.920Z"
   },
   {
    "duration": 136,
    "start_time": "2023-05-17T07:12:07.072Z"
   },
   {
    "duration": 7,
    "start_time": "2023-05-17T07:12:07.211Z"
   },
   {
    "duration": 25,
    "start_time": "2023-05-17T07:12:07.221Z"
   },
   {
    "duration": 4,
    "start_time": "2023-05-17T07:12:07.257Z"
   },
   {
    "duration": 42,
    "start_time": "2023-05-17T07:12:07.263Z"
   },
   {
    "duration": 3386,
    "start_time": "2023-05-17T07:12:07.307Z"
   },
   {
    "duration": 4847,
    "start_time": "2023-05-17T07:12:10.696Z"
   },
   {
    "duration": 28,
    "start_time": "2023-05-17T07:12:15.548Z"
   },
   {
    "duration": 328329,
    "start_time": "2023-05-17T07:12:15.638Z"
   },
   {
    "duration": 386195,
    "start_time": "2023-05-17T07:17:43.972Z"
   },
   {
    "duration": 8,
    "start_time": "2023-05-17T07:24:10.173Z"
   },
   {
    "duration": 998390,
    "start_time": "2023-05-17T07:24:10.188Z"
   },
   {
    "duration": 918032,
    "start_time": "2023-05-17T07:40:48.584Z"
   },
   {
    "duration": 11,
    "start_time": "2023-05-17T07:56:06.619Z"
   },
   {
    "duration": 194,
    "start_time": "2023-05-17T07:56:06.633Z"
   },
   {
    "duration": 0,
    "start_time": "2023-05-17T07:56:06.829Z"
   },
   {
    "duration": 0,
    "start_time": "2023-05-17T07:56:06.830Z"
   },
   {
    "duration": 0,
    "start_time": "2023-05-17T07:56:06.831Z"
   },
   {
    "duration": 0,
    "start_time": "2023-05-17T07:56:06.832Z"
   },
   {
    "duration": 99,
    "start_time": "2023-05-18T13:54:49.302Z"
   },
   {
    "duration": 1732,
    "start_time": "2023-05-18T13:56:37.340Z"
   },
   {
    "duration": 4246,
    "start_time": "2023-05-18T13:56:39.074Z"
   },
   {
    "duration": 1267,
    "start_time": "2023-05-18T13:56:43.321Z"
   },
   {
    "duration": 11,
    "start_time": "2023-05-18T13:56:44.591Z"
   },
   {
    "duration": 6,
    "start_time": "2023-05-18T13:56:46.492Z"
   },
   {
    "duration": 18,
    "start_time": "2023-05-18T13:56:47.500Z"
   },
   {
    "duration": 23,
    "start_time": "2023-05-18T13:56:48.196Z"
   },
   {
    "duration": 6,
    "start_time": "2023-05-18T13:56:48.385Z"
   },
   {
    "duration": 17,
    "start_time": "2023-05-18T13:56:48.592Z"
   },
   {
    "duration": 65,
    "start_time": "2023-05-18T13:56:49.084Z"
   },
   {
    "duration": 4,
    "start_time": "2023-05-18T13:56:56.749Z"
   },
   {
    "duration": 7,
    "start_time": "2023-05-18T13:56:56.956Z"
   },
   {
    "duration": 8,
    "start_time": "2023-05-18T13:56:57.199Z"
   },
   {
    "duration": 4,
    "start_time": "2023-05-18T13:56:57.433Z"
   },
   {
    "duration": 7,
    "start_time": "2023-05-18T13:56:57.790Z"
   },
   {
    "duration": 7,
    "start_time": "2023-05-18T13:56:58.037Z"
   },
   {
    "duration": 11,
    "start_time": "2023-05-18T13:56:58.252Z"
   },
   {
    "duration": 275,
    "start_time": "2023-05-18T13:56:58.545Z"
   },
   {
    "duration": 823,
    "start_time": "2023-05-18T13:56:59.974Z"
   },
   {
    "duration": 501,
    "start_time": "2023-05-18T13:57:00.799Z"
   },
   {
    "duration": 746,
    "start_time": "2023-05-18T13:57:01.302Z"
   },
   {
    "duration": 581,
    "start_time": "2023-05-18T13:57:02.051Z"
   },
   {
    "duration": 51,
    "start_time": "2023-05-18T13:57:02.634Z"
   },
   {
    "duration": 1375,
    "start_time": "2023-05-18T13:57:03.973Z"
   },
   {
    "duration": 242,
    "start_time": "2023-05-18T13:57:05.351Z"
   },
   {
    "duration": 92,
    "start_time": "2023-05-18T13:57:06.385Z"
   },
   {
    "duration": 116,
    "start_time": "2023-05-18T13:57:06.593Z"
   },
   {
    "duration": 11,
    "start_time": "2023-05-18T13:57:06.806Z"
   },
   {
    "duration": 6,
    "start_time": "2023-05-18T13:57:11.161Z"
   },
   {
    "duration": 3,
    "start_time": "2023-05-18T13:57:11.937Z"
   },
   {
    "duration": 11,
    "start_time": "2023-05-18T13:57:14.895Z"
   },
   {
    "duration": 4,
    "start_time": "2023-05-18T13:57:15.685Z"
   },
   {
    "duration": 4,
    "start_time": "2023-05-18T13:57:17.041Z"
   },
   {
    "duration": 3,
    "start_time": "2023-05-18T13:57:17.388Z"
   },
   {
    "duration": 3,
    "start_time": "2023-05-18T13:57:17.752Z"
   },
   {
    "duration": 3,
    "start_time": "2023-05-18T13:57:18.149Z"
   },
   {
    "duration": 7,
    "start_time": "2023-05-18T13:57:25.473Z"
   },
   {
    "duration": 17,
    "start_time": "2023-05-18T13:57:28.673Z"
   },
   {
    "duration": 9,
    "start_time": "2023-05-18T13:57:31.079Z"
   },
   {
    "duration": 3541,
    "start_time": "2023-05-18T13:57:32.906Z"
   },
   {
    "duration": 2143,
    "start_time": "2023-05-18T13:57:39.897Z"
   },
   {
    "duration": 5,
    "start_time": "2023-05-18T13:57:42.042Z"
   },
   {
    "duration": 1503,
    "start_time": "2023-05-18T14:10:26.691Z"
   },
   {
    "duration": 769,
    "start_time": "2023-05-18T14:10:28.196Z"
   },
   {
    "duration": 1119,
    "start_time": "2023-05-18T14:10:28.967Z"
   },
   {
    "duration": 11,
    "start_time": "2023-05-18T14:10:30.089Z"
   },
   {
    "duration": 54,
    "start_time": "2023-05-18T14:10:30.102Z"
   },
   {
    "duration": 27,
    "start_time": "2023-05-18T14:10:30.161Z"
   },
   {
    "duration": 16,
    "start_time": "2023-05-18T14:10:30.192Z"
   },
   {
    "duration": 21,
    "start_time": "2023-05-18T14:10:30.210Z"
   },
   {
    "duration": 23,
    "start_time": "2023-05-18T14:10:30.232Z"
   },
   {
    "duration": 72,
    "start_time": "2023-05-18T14:10:30.256Z"
   },
   {
    "duration": 6,
    "start_time": "2023-05-18T14:10:30.329Z"
   },
   {
    "duration": 23,
    "start_time": "2023-05-18T14:10:30.337Z"
   },
   {
    "duration": 9,
    "start_time": "2023-05-18T14:10:30.373Z"
   },
   {
    "duration": 24,
    "start_time": "2023-05-18T14:10:30.391Z"
   },
   {
    "duration": 23,
    "start_time": "2023-05-18T14:10:30.417Z"
   },
   {
    "duration": 37,
    "start_time": "2023-05-18T14:10:30.442Z"
   },
   {
    "duration": 26,
    "start_time": "2023-05-18T14:10:30.485Z"
   },
   {
    "duration": 303,
    "start_time": "2023-05-18T14:10:30.513Z"
   },
   {
    "duration": 771,
    "start_time": "2023-05-18T14:10:30.818Z"
   },
   {
    "duration": 517,
    "start_time": "2023-05-18T14:10:31.592Z"
   },
   {
    "duration": 619,
    "start_time": "2023-05-18T14:10:32.111Z"
   },
   {
    "duration": 517,
    "start_time": "2023-05-18T14:10:32.732Z"
   },
   {
    "duration": 48,
    "start_time": "2023-05-18T14:10:33.251Z"
   },
   {
    "duration": 1405,
    "start_time": "2023-05-18T14:10:33.300Z"
   },
   {
    "duration": 242,
    "start_time": "2023-05-18T14:10:34.706Z"
   },
   {
    "duration": 99,
    "start_time": "2023-05-18T14:10:34.950Z"
   },
   {
    "duration": 108,
    "start_time": "2023-05-18T14:10:35.050Z"
   },
   {
    "duration": 23,
    "start_time": "2023-05-18T14:10:35.160Z"
   },
   {
    "duration": 9,
    "start_time": "2023-05-18T14:10:35.184Z"
   },
   {
    "duration": 7,
    "start_time": "2023-05-18T14:10:35.196Z"
   },
   {
    "duration": 10,
    "start_time": "2023-05-18T14:10:35.205Z"
   },
   {
    "duration": 43,
    "start_time": "2023-05-18T14:10:35.216Z"
   },
   {
    "duration": 19,
    "start_time": "2023-05-18T14:10:35.261Z"
   },
   {
    "duration": 4,
    "start_time": "2023-05-18T14:10:35.286Z"
   },
   {
    "duration": 11,
    "start_time": "2023-05-18T14:10:35.292Z"
   },
   {
    "duration": 6,
    "start_time": "2023-05-18T14:10:35.305Z"
   },
   {
    "duration": 3,
    "start_time": "2023-05-18T14:10:35.313Z"
   },
   {
    "duration": 3776,
    "start_time": "2023-05-18T14:10:35.318Z"
   },
   {
    "duration": 3072,
    "start_time": "2023-05-18T14:10:39.096Z"
   },
   {
    "duration": 82,
    "start_time": "2023-05-18T14:10:42.176Z"
   },
   {
    "duration": 230181,
    "start_time": "2023-05-18T14:10:42.263Z"
   },
   {
    "duration": 240629,
    "start_time": "2023-05-18T14:14:32.445Z"
   },
   {
    "duration": 3,
    "start_time": "2023-05-18T14:18:33.076Z"
   },
   {
    "duration": 667328,
    "start_time": "2023-05-18T14:18:33.081Z"
   },
   {
    "duration": 703031,
    "start_time": "2023-05-18T14:29:40.412Z"
   },
   {
    "duration": 4,
    "start_time": "2023-05-18T14:41:23.445Z"
   },
   {
    "duration": 7,
    "start_time": "2023-05-18T14:41:23.465Z"
   },
   {
    "duration": 3670,
    "start_time": "2023-05-18T14:41:23.474Z"
   },
   {
    "duration": 1931,
    "start_time": "2023-05-18T14:41:27.146Z"
   },
   {
    "duration": 5,
    "start_time": "2023-05-18T14:41:29.081Z"
   },
   {
    "duration": 12,
    "start_time": "2023-05-18T14:41:29.087Z"
   }
  ],
  "kernelspec": {
   "display_name": "Python 3 (ipykernel)",
   "language": "python",
   "name": "python3"
  },
  "language_info": {
   "codemirror_mode": {
    "name": "ipython",
    "version": 3
   },
   "file_extension": ".py",
   "mimetype": "text/x-python",
   "name": "python",
   "nbconvert_exporter": "python",
   "pygments_lexer": "ipython3",
   "version": "3.9.5"
  },
  "toc": {
   "base_numbering": 1,
   "nav_menu": {},
   "number_sections": true,
   "sideBar": true,
   "skip_h1_title": true,
   "title_cell": "Содержание",
   "title_sidebar": "Contents",
   "toc_cell": true,
   "toc_position": {
    "height": "calc(100% - 180px)",
    "left": "10px",
    "top": "150px",
    "width": "274px"
   },
   "toc_section_display": true,
   "toc_window_display": false
  }
 },
 "nbformat": 4,
 "nbformat_minor": 4
}
