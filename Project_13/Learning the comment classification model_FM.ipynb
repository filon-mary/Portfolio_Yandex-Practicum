{
 "cells": [
  {
   "cell_type": "markdown",
   "id": "f5003606-9721-4ed6-8166-5de4733cf1d2",
   "metadata": {},
   "source": [
    "<h1>Содержание<span class=\"tocSkip\"></span></h1>\n",
    "<div class=\"toc\"><ul class=\"toc-item\"><li><span><a href=\"#Подготовка\" data-toc-modified-id=\"Подготовка-1\"><span class=\"toc-item-num\">1&nbsp;&nbsp;</span>Подготовка</a></span></li><li><span><a href=\"#Обучение\" data-toc-modified-id=\"Обучение-2\"><span class=\"toc-item-num\">2&nbsp;&nbsp;</span>Обучение</a></span></li><li><span><a href=\"#Выводы\" data-toc-modified-id=\"Выводы-3\"><span class=\"toc-item-num\">3&nbsp;&nbsp;</span>Выводы</a></span></li><li><span><a href=\"#Чек-лист-проверки\" data-toc-modified-id=\"Чек-лист-проверки-4\"><span class=\"toc-item-num\">4&nbsp;&nbsp;</span>Чек-лист проверки</a></span></li></ul></div>"
   ]
  },
  {
   "cell_type": "markdown",
   "id": "e128c078-34ef-4a00-a489-088f62722c89",
   "metadata": {
    "tags": []
   },
   "source": [
    "# Проект для «Викишоп»"
   ]
  },
  {
   "cell_type": "markdown",
   "id": "5a121ceb-4f12-42e3-a0b3-6aa1126c2081",
   "metadata": {},
   "source": [
    "# Цель исследования\n",
    "1. Обучить модель, которая классифицирует комментарии на позитивные и негативные. \n",
    "\n",
    "# Ход исследования\n",
    "Нам предоставлен набор данных с разметкой о токсичности правок. Данные находятся в датафрейме, который мы получим из файла 'toxic_comments.csv'. О качестве данных нам ничего не известно, поэтому перед тем, как приступать к целям исследования, понадобится обзор данных. Мы проверим данные на ошибки. Затем, на этапе предобработки мы будем искать возможность исправить все ошибки в данных, которые не приведут к искажению конечного результата. Далее приступим к целям исследования.<br>\n",
    "\n",
    "\n",
    "Таким образом, исследование пройдёт в двенадцать этапов:<br>\n",
    "\n",
    "* Обзор данных \n",
    "* Предобработка данных \n",
    "* Анализ данных\n",
    "* Лемматизация данных\n",
    "* Отсистка текста\n",
    "* Подготовка выборок\n",
    "* Вычисление TF-IDF\n",
    "* Обучение разных моделей с различными гиперпараметрами\n",
    "* Выявление лучшей модели \n",
    "* Проверка наилучшей модели на тестовой выборке \n",
    "* Написание промежуточных выводов \n",
    "* Написание общего вывода"
   ]
  },
  {
   "cell_type": "markdown",
   "id": "fcef892e-f4b5-4dfa-81d8-fb2748a06d8c",
   "metadata": {},
   "source": [
    "## 1. Подготовка"
   ]
  },
  {
   "cell_type": "code",
   "execution_count": 1,
   "id": "3a881932-aec4-40f6-91f0-d48735b0c11e",
   "metadata": {},
   "outputs": [
    {
     "name": "stderr",
     "output_type": "stream",
     "text": [
      "[nltk_data] Downloading package wordnet to\n",
      "[nltk_data]     C:\\Users\\Mary\\AppData\\Roaming\\nltk_data...\n",
      "[nltk_data]   Package wordnet is already up-to-date!\n",
      "[nltk_data] Downloading package averaged_perceptron_tagger to\n",
      "[nltk_data]     C:\\Users\\Mary\\AppData\\Roaming\\nltk_data...\n",
      "[nltk_data]   Package averaged_perceptron_tagger is already up-to-\n",
      "[nltk_data]       date!\n",
      "[nltk_data] Downloading package punkt to\n",
      "[nltk_data]     C:\\Users\\Mary\\AppData\\Roaming\\nltk_data...\n",
      "[nltk_data]   Package punkt is already up-to-date!\n",
      "[nltk_data] Downloading package stopwords to\n",
      "[nltk_data]     C:\\Users\\Mary\\AppData\\Roaming\\nltk_data...\n",
      "[nltk_data]   Package stopwords is already up-to-date!\n"
     ]
    }
   ],
   "source": [
    "#Импортируем необходимые библиотеки\n",
    "import pandas as pd\n",
    "import lightgbm as lgb\n",
    "import re \n",
    "import numpy as np\n",
    "import matplotlib.pyplot as plt\n",
    "from lightgbm import LGBMClassifier\n",
    "from sklearn.utils import shuffle\n",
    "from sklearn.metrics import confusion_matrix, f1_score, ConfusionMatrixDisplay, roc_auc_score\n",
    "from sklearn.preprocessing import StandardScaler \n",
    "from sklearn.model_selection import train_test_split \n",
    "from sklearn.tree import DecisionTreeClassifier\n",
    "from sklearn.ensemble import RandomForestClassifier\n",
    "from sklearn.linear_model import LogisticRegression\n",
    "from sklearn.model_selection import GridSearchCV\n",
    "\n",
    "\n",
    "import nltk\n",
    "from nltk import pos_tag\n",
    "nltk.download('wordnet')\n",
    "nltk.download('averaged_perceptron_tagger')\n",
    "nltk.download('punkt')\n",
    "from nltk.corpus import wordnet\n",
    "from nltk.stem import WordNetLemmatizer\n",
    "from nltk.corpus import stopwords as nltk_stopwords\n",
    "nltk.download('stopwords')\n",
    "stopwords = set(nltk_stopwords.words('english'))\n",
    "from pymystem3 import Mystem\n",
    "\n",
    "from sklearn.feature_extraction.text import TfidfVectorizer"
   ]
  },
  {
   "cell_type": "code",
   "execution_count": 2,
   "id": "2368bab2-bb02-4265-9bec-b1da47c5fa88",
   "metadata": {},
   "outputs": [],
   "source": [
    "#Загружаем и изучаем датафрейм\n",
    "try:\n",
    "    data = pd.read_csv('toxic_comments.csv')\n",
    "except:    \n",
    "    pass"
   ]
  },
  {
   "cell_type": "code",
   "execution_count": 3,
   "id": "e874849b-a952-4208-9952-9277fc2ffd39",
   "metadata": {
    "scrolled": true
   },
   "outputs": [
    {
     "data": {
      "text/html": [
       "<div>\n",
       "<style scoped>\n",
       "    .dataframe tbody tr th:only-of-type {\n",
       "        vertical-align: middle;\n",
       "    }\n",
       "\n",
       "    .dataframe tbody tr th {\n",
       "        vertical-align: top;\n",
       "    }\n",
       "\n",
       "    .dataframe thead th {\n",
       "        text-align: right;\n",
       "    }\n",
       "</style>\n",
       "<table border=\"1\" class=\"dataframe\">\n",
       "  <thead>\n",
       "    <tr style=\"text-align: right;\">\n",
       "      <th></th>\n",
       "      <th>Unnamed: 0</th>\n",
       "      <th>text</th>\n",
       "      <th>toxic</th>\n",
       "    </tr>\n",
       "  </thead>\n",
       "  <tbody>\n",
       "    <tr>\n",
       "      <th>0</th>\n",
       "      <td>0</td>\n",
       "      <td>Explanation\\nWhy the edits made under my usern...</td>\n",
       "      <td>0</td>\n",
       "    </tr>\n",
       "    <tr>\n",
       "      <th>1</th>\n",
       "      <td>1</td>\n",
       "      <td>D'aww! He matches this background colour I'm s...</td>\n",
       "      <td>0</td>\n",
       "    </tr>\n",
       "    <tr>\n",
       "      <th>2</th>\n",
       "      <td>2</td>\n",
       "      <td>Hey man, I'm really not trying to edit war. It...</td>\n",
       "      <td>0</td>\n",
       "    </tr>\n",
       "    <tr>\n",
       "      <th>3</th>\n",
       "      <td>3</td>\n",
       "      <td>\"\\nMore\\nI can't make any real suggestions on ...</td>\n",
       "      <td>0</td>\n",
       "    </tr>\n",
       "    <tr>\n",
       "      <th>4</th>\n",
       "      <td>4</td>\n",
       "      <td>You, sir, are my hero. Any chance you remember...</td>\n",
       "      <td>0</td>\n",
       "    </tr>\n",
       "  </tbody>\n",
       "</table>\n",
       "</div>"
      ],
      "text/plain": [
       "   Unnamed: 0                                               text  toxic\n",
       "0           0  Explanation\\nWhy the edits made under my usern...      0\n",
       "1           1  D'aww! He matches this background colour I'm s...      0\n",
       "2           2  Hey man, I'm really not trying to edit war. It...      0\n",
       "3           3  \"\\nMore\\nI can't make any real suggestions on ...      0\n",
       "4           4  You, sir, are my hero. Any chance you remember...      0"
      ]
     },
     "execution_count": 3,
     "metadata": {},
     "output_type": "execute_result"
    }
   ],
   "source": [
    "#Ознакамливаемся с датафреймом\n",
    "data.head()"
   ]
  },
  {
   "cell_type": "code",
   "execution_count": 4,
   "id": "8810be28-3f80-4f1b-9b01-f81b87036fc2",
   "metadata": {},
   "outputs": [
    {
     "name": "stdout",
     "output_type": "stream",
     "text": [
      "<class 'pandas.core.frame.DataFrame'>\n",
      "RangeIndex: 159292 entries, 0 to 159291\n",
      "Data columns (total 3 columns):\n",
      " #   Column      Non-Null Count   Dtype \n",
      "---  ------      --------------   ----- \n",
      " 0   Unnamed: 0  159292 non-null  int64 \n",
      " 1   text        159292 non-null  object\n",
      " 2   toxic       159292 non-null  int64 \n",
      "dtypes: int64(2), object(1)\n",
      "memory usage: 3.6+ MB\n"
     ]
    }
   ],
   "source": [
    "data.info()"
   ]
  },
  {
   "cell_type": "code",
   "execution_count": 5,
   "id": "5b4c544e-3e6e-459a-9b19-f8c8a5facee3",
   "metadata": {},
   "outputs": [
    {
     "data": {
      "text/html": [
       "<style  type=\"text/css\" >\n",
       "#T_18c51_row0_col0,#T_18c51_row1_col0,#T_18c51_row2_col0{\n",
       "            background-color:  #3b4cc0;\n",
       "            color:  #f1f1f1;\n",
       "        }</style><table id=\"T_18c51_\" ><thead>    <tr>        <th class=\"blank level0\" ></th>        <th class=\"col_heading level0 col0\" >0</th>    </tr></thead><tbody>\n",
       "                <tr>\n",
       "                        <th id=\"T_18c51_level0_row0\" class=\"row_heading level0 row0\" >Unnamed: 0</th>\n",
       "                        <td id=\"T_18c51_row0_col0\" class=\"data row0 col0\" >0.000000</td>\n",
       "            </tr>\n",
       "            <tr>\n",
       "                        <th id=\"T_18c51_level0_row1\" class=\"row_heading level0 row1\" >text</th>\n",
       "                        <td id=\"T_18c51_row1_col0\" class=\"data row1 col0\" >0.000000</td>\n",
       "            </tr>\n",
       "            <tr>\n",
       "                        <th id=\"T_18c51_level0_row2\" class=\"row_heading level0 row2\" >toxic</th>\n",
       "                        <td id=\"T_18c51_row2_col0\" class=\"data row2 col0\" >0.000000</td>\n",
       "            </tr>\n",
       "    </tbody></table>"
      ],
      "text/plain": [
       "<pandas.io.formats.style.Styler at 0x7fd06c18f070>"
      ]
     },
     "execution_count": 5,
     "metadata": {},
     "output_type": "execute_result"
    }
   ],
   "source": [
    "#Проверяем количество пропусков в %\n",
    "pd.DataFrame(round(data.isna().mean()*100)).style.background_gradient('coolwarm')"
   ]
  },
  {
   "cell_type": "markdown",
   "id": "6ec5f245-2875-4ca7-98ee-d2678b711492",
   "metadata": {},
   "source": [
    "Пропусков не обнаружено"
   ]
  },
  {
   "cell_type": "code",
   "execution_count": 6,
   "id": "4ebf43f6-332c-4867-975b-c43179c8d70f",
   "metadata": {},
   "outputs": [
    {
     "data": {
      "text/plain": [
       "0"
      ]
     },
     "execution_count": 6,
     "metadata": {},
     "output_type": "execute_result"
    }
   ],
   "source": [
    "#Проверяем количество явных дубликатов\n",
    "data.duplicated().sum()"
   ]
  },
  {
   "cell_type": "code",
   "execution_count": 7,
   "id": "0d7a2a90-e48f-4237-bd73-05461da8ed23",
   "metadata": {},
   "outputs": [],
   "source": [
    "#Удалим столбец \"Unnamed: 0\", так как он не несет информативной важности\n",
    "data = data.drop(['Unnamed: 0'], axis=1)"
   ]
  },
  {
   "cell_type": "code",
   "execution_count": 8,
   "id": "362d15ea-fff4-47a3-a359-7dcea9629a2f",
   "metadata": {},
   "outputs": [
    {
     "name": "stdout",
     "output_type": "stream",
     "text": [
      "<class 'pandas.core.frame.DataFrame'>\n",
      "RangeIndex: 159292 entries, 0 to 159291\n",
      "Data columns (total 2 columns):\n",
      " #   Column  Non-Null Count   Dtype \n",
      "---  ------  --------------   ----- \n",
      " 0   text    159292 non-null  object\n",
      " 1   toxic   159292 non-null  int64 \n",
      "dtypes: int64(1), object(1)\n",
      "memory usage: 2.4+ MB\n"
     ]
    }
   ],
   "source": [
    "data.info()"
   ]
  },
  {
   "cell_type": "code",
   "execution_count": 9,
   "id": "97e37135-488e-462d-a969-9bb53f850778",
   "metadata": {},
   "outputs": [
    {
     "data": {
      "text/html": [
       "<div>\n",
       "<style scoped>\n",
       "    .dataframe tbody tr th:only-of-type {\n",
       "        vertical-align: middle;\n",
       "    }\n",
       "\n",
       "    .dataframe tbody tr th {\n",
       "        vertical-align: top;\n",
       "    }\n",
       "\n",
       "    .dataframe thead th {\n",
       "        text-align: right;\n",
       "    }\n",
       "</style>\n",
       "<table border=\"1\" class=\"dataframe\">\n",
       "  <thead>\n",
       "    <tr style=\"text-align: right;\">\n",
       "      <th></th>\n",
       "      <th>text</th>\n",
       "      <th>toxic</th>\n",
       "    </tr>\n",
       "  </thead>\n",
       "  <tbody>\n",
       "    <tr>\n",
       "      <th>0</th>\n",
       "      <td>Explanation\\nWhy the edits made under my usern...</td>\n",
       "      <td>0</td>\n",
       "    </tr>\n",
       "    <tr>\n",
       "      <th>1</th>\n",
       "      <td>D'aww! He matches this background colour I'm s...</td>\n",
       "      <td>0</td>\n",
       "    </tr>\n",
       "    <tr>\n",
       "      <th>2</th>\n",
       "      <td>Hey man, I'm really not trying to edit war. It...</td>\n",
       "      <td>0</td>\n",
       "    </tr>\n",
       "    <tr>\n",
       "      <th>3</th>\n",
       "      <td>\"\\nMore\\nI can't make any real suggestions on ...</td>\n",
       "      <td>0</td>\n",
       "    </tr>\n",
       "    <tr>\n",
       "      <th>4</th>\n",
       "      <td>You, sir, are my hero. Any chance you remember...</td>\n",
       "      <td>0</td>\n",
       "    </tr>\n",
       "    <tr>\n",
       "      <th>5</th>\n",
       "      <td>\"\\n\\nCongratulations from me as well, use the ...</td>\n",
       "      <td>0</td>\n",
       "    </tr>\n",
       "    <tr>\n",
       "      <th>6</th>\n",
       "      <td>COCKSUCKER BEFORE YOU PISS AROUND ON MY WORK</td>\n",
       "      <td>1</td>\n",
       "    </tr>\n",
       "    <tr>\n",
       "      <th>7</th>\n",
       "      <td>Your vandalism to the Matt Shirvington article...</td>\n",
       "      <td>0</td>\n",
       "    </tr>\n",
       "    <tr>\n",
       "      <th>8</th>\n",
       "      <td>Sorry if the word 'nonsense' was offensive to ...</td>\n",
       "      <td>0</td>\n",
       "    </tr>\n",
       "    <tr>\n",
       "      <th>9</th>\n",
       "      <td>alignment on this subject and which are contra...</td>\n",
       "      <td>0</td>\n",
       "    </tr>\n",
       "  </tbody>\n",
       "</table>\n",
       "</div>"
      ],
      "text/plain": [
       "                                                text  toxic\n",
       "0  Explanation\\nWhy the edits made under my usern...      0\n",
       "1  D'aww! He matches this background colour I'm s...      0\n",
       "2  Hey man, I'm really not trying to edit war. It...      0\n",
       "3  \"\\nMore\\nI can't make any real suggestions on ...      0\n",
       "4  You, sir, are my hero. Any chance you remember...      0\n",
       "5  \"\\n\\nCongratulations from me as well, use the ...      0\n",
       "6       COCKSUCKER BEFORE YOU PISS AROUND ON MY WORK      1\n",
       "7  Your vandalism to the Matt Shirvington article...      0\n",
       "8  Sorry if the word 'nonsense' was offensive to ...      0\n",
       "9  alignment on this subject and which are contra...      0"
      ]
     },
     "execution_count": 9,
     "metadata": {},
     "output_type": "execute_result"
    }
   ],
   "source": [
    "data.head(10)"
   ]
  },
  {
   "cell_type": "code",
   "execution_count": 11,
   "id": "7a31fc48-5c97-46f1-8c61-8a08ab813c0b",
   "metadata": {},
   "outputs": [],
   "source": [
    "#Напишем функцию лемматизации\n",
    "def get_wordnet_pos(word):\n",
    "    tag = nltk.pos_tag([word])[0][1][0].upper()\n",
    "    tag_dict = {\"J\": wordnet.ADJ,              \n",
    "                \"N\": wordnet.NOUN,              \n",
    "                \"V\": wordnet.VERB,              \n",
    "                \"R\": wordnet.ADV                \n",
    "               }  \n",
    "    return tag_dict.get(tag, wordnet.NOUN)\n",
    "\n",
    "lemmatizer = WordNetLemmatizer()\n",
    "\n",
    "def lemmatize(text):\n",
    "    text = [lemmatizer.lemmatize(w, get_wordnet_pos(w)) for w in nltk.word_tokenize(text)]\n",
    "    return ' '.join(text)"
   ]
  },
  {
   "cell_type": "code",
   "execution_count": null,
   "id": "12be052a-70a9-4b6c-8dc0-f29707aea51f",
   "metadata": {},
   "outputs": [],
   "source": [
    "%%time\n",
    "\n",
    "data['text'] = data['text'].apply(lemmatize)"
   ]
  },
  {
   "cell_type": "code",
   "execution_count": null,
   "id": "f1aada7c-879c-473d-8a1d-8c0615b7856d",
   "metadata": {},
   "outputs": [],
   "source": [
    "data['text'].head(10)"
   ]
  },
  {
   "cell_type": "code",
   "execution_count": 15,
   "id": "ffa0faa2-0674-4bdb-8bcc-e762b183dc15",
   "metadata": {},
   "outputs": [],
   "source": [
    "#Напишем функцию, которая оставит в тексте только кириллические символы и пробелы\n",
    "def clear_text(text):\n",
    "    lemm_re = re.sub(r\"[^a-zA-Z ']\", ' ', text)     \n",
    "    lemm_tex = ' '.join(lemm_re.split())\n",
    "    return lemm_tex\n",
    "\n",
    "data['text'] = data['text'].apply(clear_text)"
   ]
  },
  {
   "cell_type": "code",
   "execution_count": 16,
   "id": "1b25d29f-bc47-4de5-ba65-4da64893b0bc",
   "metadata": {},
   "outputs": [
    {
     "data": {
      "text/html": [
       "<div>\n",
       "<style scoped>\n",
       "    .dataframe tbody tr th:only-of-type {\n",
       "        vertical-align: middle;\n",
       "    }\n",
       "\n",
       "    .dataframe tbody tr th {\n",
       "        vertical-align: top;\n",
       "    }\n",
       "\n",
       "    .dataframe thead th {\n",
       "        text-align: right;\n",
       "    }\n",
       "</style>\n",
       "<table border=\"1\" class=\"dataframe\">\n",
       "  <thead>\n",
       "    <tr style=\"text-align: right;\">\n",
       "      <th></th>\n",
       "      <th>text</th>\n",
       "      <th>toxic</th>\n",
       "    </tr>\n",
       "  </thead>\n",
       "  <tbody>\n",
       "    <tr>\n",
       "      <th>0</th>\n",
       "      <td>Explanation Why the edits make under my userna...</td>\n",
       "      <td>0</td>\n",
       "    </tr>\n",
       "    <tr>\n",
       "      <th>1</th>\n",
       "      <td>D'aww He match this background colour I 'm see...</td>\n",
       "      <td>0</td>\n",
       "    </tr>\n",
       "    <tr>\n",
       "      <th>2</th>\n",
       "      <td>Hey man I 'm really not try to edit war It 's ...</td>\n",
       "      <td>0</td>\n",
       "    </tr>\n",
       "    <tr>\n",
       "      <th>3</th>\n",
       "      <td>More I ca n't make any real suggestion on impr...</td>\n",
       "      <td>0</td>\n",
       "    </tr>\n",
       "    <tr>\n",
       "      <th>4</th>\n",
       "      <td>You sir be my hero Any chance you remember wha...</td>\n",
       "      <td>0</td>\n",
       "    </tr>\n",
       "  </tbody>\n",
       "</table>\n",
       "</div>"
      ],
      "text/plain": [
       "                                                text  toxic\n",
       "0  Explanation Why the edits make under my userna...      0\n",
       "1  D'aww He match this background colour I 'm see...      0\n",
       "2  Hey man I 'm really not try to edit war It 's ...      0\n",
       "3  More I ca n't make any real suggestion on impr...      0\n",
       "4  You sir be my hero Any chance you remember wha...      0"
      ]
     },
     "execution_count": 16,
     "metadata": {},
     "output_type": "execute_result"
    }
   ],
   "source": [
    "data.head()"
   ]
  },
  {
   "cell_type": "markdown",
   "id": "74485a99-140d-49e6-909d-82d8eb48af23",
   "metadata": {},
   "source": [
    "### Вывод:\n",
    "* Мы загрузили и ознакомились с представленным датафреймом:\n",
    "    * Всего в датафрейме 3 столбца и 159 291 записи\n",
    "    * Удалили столбец \"Unnamed: 0\", так как он не несет информативной важности\n",
    "* Лемматризировали данные, а так же отчистили текст"
   ]
  },
  {
   "cell_type": "markdown",
   "id": "6bf33c1e-0264-489a-9469-46338f6db1b1",
   "metadata": {},
   "source": [
    "## 2. Разделим данные на выборки и вычислим TF-IDF"
   ]
  },
  {
   "cell_type": "code",
   "execution_count": 17,
   "id": "d1bda420-68ff-4290-8fbe-85f04fb7cdee",
   "metadata": {},
   "outputs": [],
   "source": [
    "#Объявим две переменные\n",
    "features = data.drop(['toxic'], axis=1)\n",
    "target = data['toxic']"
   ]
  },
  {
   "cell_type": "code",
   "execution_count": 18,
   "id": "7ce84b0d-2208-4975-b602-4bde06731f4a",
   "metadata": {},
   "outputs": [
    {
     "name": "stdout",
     "output_type": "stream",
     "text": [
      "Размер обучающей выборки:\n",
      "(127433, 1)\n",
      "(127433,)\n"
     ]
    }
   ],
   "source": [
    "#Разбиваем исходные данные на три выборки, в соотношении 80:10:10 (8:1:1)\n",
    "#Обучающая выборка\n",
    "features_train, features_test, target_train, target_test = train_test_split(features, target, test_size=0.2, random_state=12345, stratify=target)\n",
    "\n",
    "#Проверяем размер выборки\n",
    "print('Размер обучающей выборки:')\n",
    "print(features_train.shape)\n",
    "print(target_train.shape)"
   ]
  },
  {
   "cell_type": "code",
   "execution_count": 19,
   "id": "501cee6b-29a4-49e0-bf7a-b8eb65529700",
   "metadata": {},
   "outputs": [
    {
     "name": "stdout",
     "output_type": "stream",
     "text": [
      "Размер валидационной выборки:\n",
      "(15929, 1)\n",
      "(15929,)\n",
      "\n",
      "Размер тестовой выборки:\n",
      "(15930, 1)\n",
      "(15930,)\n"
     ]
    }
   ],
   "source": [
    "#Валидационная и тестовая выборки\n",
    "features_valid, features_test, target_valid, target_test = train_test_split(\n",
    "    features_test, target_test, test_size=0.5, random_state=12345, stratify=target_test)\n",
    "\n",
    "#Проверяем размер выборок\n",
    "print('Размер валидационной выборки:')\n",
    "print(features_valid.shape)\n",
    "print(target_valid.shape)\n",
    "\n",
    "print()\n",
    "\n",
    "print('Размер тестовой выборки:')\n",
    "print(features_test.shape)\n",
    "print(target_test.shape)"
   ]
  },
  {
   "cell_type": "code",
   "execution_count": 21,
   "id": "f82e5a6f-e658-4ef5-9df8-f7500951084b",
   "metadata": {},
   "outputs": [
    {
     "data": {
      "image/png": "[encoded data removed]",
      "text/plain": [
       "<Figure size 432x288 with 1 Axes>"
      ]
     },
     "metadata": {
      "needs_background": "light"
     },
     "output_type": "display_data"
    }
   ],
   "source": [
    "#Проверяем датасет на сбалансированность классов\n",
    "data['toxic'].value_counts().plot.bar()\n",
    "plt.title('Баланс классов');"
   ]
  },
  {
   "cell_type": "markdown",
   "id": "51c136df-1737-492a-806c-55934c8add0f",
   "metadata": {},
   "source": [
    "Дисбаланс классов присутствует. Классы несбалансированны, когда их соотношение далеко от 1:1.\n",
    "Значит в моделях применим технику взвешивания классов."
   ]
  },
  {
   "cell_type": "code",
   "execution_count": 22,
   "id": "0d2a0ebf-9b70-48bc-82f0-5b8450e25387",
   "metadata": {},
   "outputs": [
    {
     "name": "stdout",
     "output_type": "stream",
     "text": [
      "Размер матрицы: (127433, 141070)\n"
     ]
    }
   ],
   "source": [
    "#Вычислим TF-IDF для тренировочной выборки \n",
    "count_tf_idf_train = TfidfVectorizer(stop_words=stopwords)\n",
    "tf_idf_train = count_tf_idf_train.fit_transform(features_train.text)\n",
    "\n",
    "print('Размер матрицы:', tf_idf_train.shape)"
   ]
  },
  {
   "cell_type": "code",
   "execution_count": 23,
   "id": "31886847-070c-47e1-bac6-19473bca82e8",
   "metadata": {},
   "outputs": [
    {
     "name": "stdout",
     "output_type": "stream",
     "text": [
      "Размер матрицы: (15930, 141070)\n"
     ]
    }
   ],
   "source": [
    "#Вычислим TF-IDF для тестовой выборки \n",
    "count_tf_idf_test = TfidfVectorizer(stop_words=stopwords)\n",
    "tf_idf_test = count_tf_idf_train.transform(features_test.text)\n",
    "\n",
    "print('Размер матрицы:', tf_idf_test.shape)"
   ]
  },
  {
   "cell_type": "code",
   "execution_count": 24,
   "id": "5b8e9e1f-b038-4b9b-b3a6-661bd9120c07",
   "metadata": {},
   "outputs": [
    {
     "name": "stdout",
     "output_type": "stream",
     "text": [
      "Размер матрицы: (15930, 141070)\n"
     ]
    }
   ],
   "source": [
    "#Вычислим TF-IDF для валидационной выборки \n",
    "count_tf_idf_test = TfidfVectorizer(stop_words=stopwords)\n",
    "tf_idf_valid = count_tf_idf_train.transform(features_valid.text)\n",
    "\n",
    "print('Размер матрицы:', tf_idf_test.shape)"
   ]
  },
  {
   "cell_type": "markdown",
   "id": "87f814b4-67ca-4bf3-b411-e9ac0c65897b",
   "metadata": {},
   "source": [
    "### Вывод:\n",
    "* Мы разделили даннные на обучающую, тестовую и валидационную выборки в соотношении 8:1:1\n",
    "* Вычислили TF-IDF"
   ]
  },
  {
   "cell_type": "markdown",
   "id": "7b47e8ad-a51b-43ae-96ff-4b1bf9465bd0",
   "metadata": {},
   "source": [
    "## 3. Обучение"
   ]
  },
  {
   "cell_type": "markdown",
   "id": "b2b617d3-0be8-4b40-9279-1c250a958044",
   "metadata": {},
   "source": [
    "**Модель Логистической регрессии - LogisticRegression**"
   ]
  },
  {
   "cell_type": "code",
   "execution_count": 37,
   "id": "343ec678-cf75-4c5b-b605-509c12906c90",
   "metadata": {},
   "outputs": [
    {
     "name": "stdout",
     "output_type": "stream",
     "text": [
      "F1 наилучшей модели: 0.77\n",
      "Wall time: 2.01 s\n"
     ]
    }
   ],
   "source": [
    "%%time\n",
    "#Исследуем качество логистической регрессии на валидационной выборке и взвесим классы\n",
    "model_lg = LogisticRegression(random_state=12345, solver='liblinear', max_iter=1000, C=14.0, class_weight='balanced')\n",
    "model_lg.fit(tf_idf_train, target_train) \n",
    "predicted_valid = model_lg.predict(tf_idf_valid)\n",
    "f1_valid_lg = f1_score(target_valid, predicted_valid)\n",
    "\n",
    "print('F1 наилучшей модели: {:.2f}'.format(f1_valid_lg)) "
   ]
  },
  {
   "cell_type": "code",
   "execution_count": 38,
   "id": "ece79e11-9699-4d1f-9a4e-91b8b4b6e1e6",
   "metadata": {},
   "outputs": [
    {
     "name": "stdout",
     "output_type": "stream",
     "text": [
      "AUC-ROC лучшей модели логистической регрессии: 0.96\n"
     ]
    }
   ],
   "source": [
    "#Измерим AUC-ROC для модели логистической регрессии\n",
    "probabilities_valid = model_lg.predict_proba(tf_idf_valid)\n",
    "probabilities_one_valid = probabilities_valid[:, 1]\n",
    "\n",
    "auc_roc = roc_auc_score(target_valid, probabilities_valid[:, 1])\n",
    "\n",
    "print('AUC-ROC лучшей модели логистической регрессии: {:.2f}'.format(auc_roc))"
   ]
  },
  {
   "cell_type": "markdown",
   "id": "59d1fdca-982d-445b-84a2-67f4ec3770f2",
   "metadata": {},
   "source": [
    "**Вывод:** <br>\n",
    "F1 наиулучшей модели логистической регрессии составляет 0.77 при значении AUC-ROC: 0.96. Значение AUC-ROC отличное. "
   ]
  },
  {
   "cell_type": "markdown",
   "id": "0a0eb175-20a2-4e4c-b1cf-ccd70cdcce46",
   "metadata": {},
   "source": [
    "**Модель Случайного леса - RandomForestClassifier**"
   ]
  },
  {
   "cell_type": "code",
   "execution_count": 60,
   "id": "c64ffdd2-9083-4d18-a675-7b066d18ab06",
   "metadata": {},
   "outputs": [
    {
     "name": "stdout",
     "output_type": "stream",
     "text": [
      "F1 наилучшей модели: 0.43\n",
      "Количество деревьев: 7\n",
      "Максимальная глубина: 10\n",
      "Wall time: 29.3 s\n"
     ]
    }
   ],
   "source": [
    "%%time\n",
    "#Исследуем качество случайного леса на валидационной выборке и взвесим классы\n",
    "best_model_rf = None\n",
    "best_result_rf = 0\n",
    "best_est_rf = 0\n",
    "best_depth_rf = 0\n",
    "for est in range(1, 11):\n",
    "    for depth in range(1, 11):\n",
    "        model_rf = RandomForestClassifier(random_state=12345, n_estimators=est, max_depth=depth, class_weight='balanced')\n",
    "        model_rf.fit(tf_idf_train, target_train)\n",
    "        predicted_valid = model_rf.predict(tf_idf_valid)\n",
    "        result = f1_score(target_valid, predicted_valid)\n",
    "        if result > best_result_rf:\n",
    "            best_model_rf = model_rf\n",
    "            best_result_rf = result\n",
    "            best_est_rf = est\n",
    "            best_depth_rf = depth\n",
    "            \n",
    "print('F1 наилучшей модели: {:.2f}'.format(best_result_rf))\n",
    "print('Количество деревьев:', best_est_rf)\n",
    "print('Максимальная глубина:', depth)"
   ]
  },
  {
   "cell_type": "code",
   "execution_count": 61,
   "id": "e055053b-ddd1-48c5-bc10-aa139d3be3bb",
   "metadata": {},
   "outputs": [
    {
     "name": "stdout",
     "output_type": "stream",
     "text": [
      "AUC-ROC лучшей модели случайного леса: 0.78\n"
     ]
    }
   ],
   "source": [
    "#Измерим AUC-ROC для модели случайного леса\n",
    "probabilities_valid = model_rf.predict_proba(tf_idf_valid)\n",
    "probabilities_one_valid = probabilities_valid[:, 1]\n",
    "\n",
    "auc_roc = roc_auc_score(target_valid, probabilities_valid[:, 1])\n",
    "\n",
    "print('AUC-ROC лучшей модели случайного леса: {:.2f}'.format(auc_roc))"
   ]
  },
  {
   "cell_type": "markdown",
   "id": "6b52215e-a8fa-48df-817b-c84453b2c48a",
   "metadata": {},
   "source": [
    "**Вывод:** <br>\n",
    "F1 наиулучшей модели случайного леса составляет 0.43 при значении AUC-ROC: 0.78. Значение AUC-ROC хорошее. "
   ]
  },
  {
   "cell_type": "markdown",
   "id": "0ec2e653-4987-4213-b7b7-621b90d37933",
   "metadata": {},
   "source": [
    "**Модель бустинга - LightGBMClassifier**"
   ]
  },
  {
   "cell_type": "code",
   "execution_count": 39,
   "id": "d882c7c3-b763-4380-b26b-122141408b5d",
   "metadata": {},
   "outputs": [
    {
     "name": "stdout",
     "output_type": "stream",
     "text": [
      "F1 наилучшей модели бустинга - LightGBMRegressor на валидационной выборке: 0.74\n",
      "Wall time: 11.6 s\n"
     ]
    }
   ],
   "source": [
    "%%time\n",
    "model_lgbmr = LGBMClassifier(class_weight='balanced') \n",
    "model_lgbmr.fit(tf_idf_train, target_train)\n",
    "predict_lgbmr = model_lgbmr.predict(tf_idf_valid)\n",
    "f1_score_lgbmr = f1_score(target_valid, predict_lgbmr)\n",
    "\n",
    "print('F1 наилучшей модели бустинга - LightGBMRegressor на валидационной выборке: {:.2f}'.format(f1_score_lgbmr))"
   ]
  },
  {
   "cell_type": "markdown",
   "id": "87be6309-df69-4351-8e31-6c22c8a7df51",
   "metadata": {},
   "source": [
    "**Вывод:** <br>\n",
    "F1 наиулучшей модели бустинга - LightGBMClassifier составляет 0.74. "
   ]
  },
  {
   "cell_type": "markdown",
   "id": "259460cd-e747-47c9-a2d6-5ea0eeb400ad",
   "metadata": {},
   "source": [
    "### Вывод:\n",
    "* Было проведено обучение различных моделей:\n",
    "    * Наилучшей моделью оказалась модель логистической регрессии, F1 наиулучшей модели составляет 0.77 при значении AUC-ROC: 0.96, значение AUC-ROC отличное. "
   ]
  },
  {
   "cell_type": "markdown",
   "id": "6e1689f0-6090-48ce-b164-c96583ca67f7",
   "metadata": {},
   "source": [
    "## 4. Тестирование"
   ]
  },
  {
   "cell_type": "code",
   "execution_count": 40,
   "id": "1cd11dcf-1d3b-4ffd-a755-d6c7f9915622",
   "metadata": {},
   "outputs": [
    {
     "name": "stdout",
     "output_type": "stream",
     "text": [
      "F1 наилучшей модели: 0.76\n",
      "Wall time: 2.03 s\n"
     ]
    }
   ],
   "source": [
    "%%time\n",
    "#Исследуем качество логистической регрессии на тестовой выборке и взвесим классы\n",
    "model_lg_test = LogisticRegression(random_state=12345, solver='liblinear', max_iter=1000, C=14.0, class_weight='balanced')\n",
    "model_lg_test.fit(tf_idf_train, target_train) \n",
    "predicted_test = model_lg_test.predict(tf_idf_test)\n",
    "f1_test_lg = f1_score(target_test, predicted_test)\n",
    "\n",
    "print('F1 наилучшей модели: {:.2f}'.format(f1_test_lg))"
   ]
  },
  {
   "cell_type": "code",
   "execution_count": 41,
   "id": "e27bac48-931b-441c-b042-20cc40d25dbd",
   "metadata": {},
   "outputs": [
    {
     "name": "stdout",
     "output_type": "stream",
     "text": [
      "AUC-ROC лучшей модели логистической регрессии: 0.97\n"
     ]
    }
   ],
   "source": [
    "#Измерим AUC-ROC для модели логистической регрессии\n",
    "probabilities_test = model_lg_test.predict_proba(tf_idf_test)\n",
    "probabilities_one_test = probabilities_test[:, 1]\n",
    "\n",
    "auc_roc = roc_auc_score(target_test, probabilities_test[:, 1])\n",
    "\n",
    "print('AUC-ROC лучшей модели логистической регрессии: {:.2f}'.format(auc_roc))"
   ]
  },
  {
   "cell_type": "markdown",
   "id": "12e2a5c9-2bb8-4bfc-bc11-303185b3127d",
   "metadata": {},
   "source": [
    "### Вывод:\n",
    "* Проведено тестирование наилучшей модели - модели логистической регрессии:\n",
    "    * F1 наиулучшей модели на тестовой выборке составляет 0.76 при значении AUC-ROC: 0.97, значение AUC-ROC отличное. "
   ]
  },
  {
   "cell_type": "markdown",
   "id": "2b25a33c-a148-4c85-9edd-c13578245fe0",
   "metadata": {},
   "source": [
    "## 5. Выводы"
   ]
  },
  {
   "cell_type": "markdown",
   "id": "dd7356d6-0c58-407a-a0eb-e889a35ab2cb",
   "metadata": {},
   "source": [
    "1. Мы загрузили и ознакомились с представленным датафреймом\n",
    "2. Лемматризировали данные, а так же отчистили текст\n",
    "3. Мы разделили даннные на обучающую, тестовую и валидационную выборки в соотношении 8:1:1\n",
    "4. Вычислили TF-IDF\n",
    "5. Провели обучение различных моделей:\n",
    "    * Наилучшей моделью оказалась модель логистической регрессии, F1 наиулучшей модели составляет 0.77 при значении AUC-ROC: 0.96, значение AUC-ROC отличное. \n",
    "    \n",
    "7. Проведено тестирование наилучшей модели - модели логистической регрессии:\n",
    "    * F1 наиулучшей модели на тестовой выборке составляет 0.76 при значении AUC-ROC: 0.97, значение AUC-ROC отличное.\n",
    "    \n",
    "8. Добились значения метрики F1 не меньше 0.75<br>\n",
    "<br>\n",
    "Рекомендации: <br>\n",
    "С помощью нашей модели, которая умеет качественно и быстро классифицировать комментарии на позитивные и негативные, интернет-магазин «Викишоп» может причлечь еще больше польхователей, за счет быстрой и качественной работы модели."
   ]
  }
 ],
 "metadata": {
  "ExecuteTimeLog": [
   {
    "duration": 4492,
    "start_time": "2023-08-03T15:44:01.396Z"
   },
   {
    "duration": 253,
    "start_time": "2023-08-03T15:44:05.891Z"
   },
   {
    "duration": 4718,
    "start_time": "2023-08-04T09:19:15.739Z"
   },
   {
    "duration": 2011,
    "start_time": "2023-08-04T09:19:20.460Z"
   },
   {
    "duration": 31,
    "start_time": "2023-08-04T09:19:22.472Z"
   },
   {
    "duration": 29,
    "start_time": "2023-08-04T09:19:22.505Z"
   },
   {
    "duration": 81,
    "start_time": "2023-08-04T09:19:22.536Z"
   },
   {
    "duration": 237,
    "start_time": "2023-08-04T09:19:22.618Z"
   },
   {
    "duration": 9,
    "start_time": "2023-08-04T09:19:22.856Z"
   },
   {
    "duration": 40,
    "start_time": "2023-08-04T09:19:22.867Z"
   },
   {
    "duration": 6,
    "start_time": "2023-08-04T09:19:22.909Z"
   },
   {
    "duration": 8,
    "start_time": "2023-08-04T09:19:22.917Z"
   },
   {
    "duration": 11,
    "start_time": "2023-08-04T09:19:22.926Z"
   }
  ],
  "kernelspec": {
   "display_name": "Python 3 (ipykernel)",
   "language": "python",
   "name": "python3"
  },
  "language_info": {
   "codemirror_mode": {
    "name": "ipython",
    "version": 3
   },
   "file_extension": ".py",
   "mimetype": "text/x-python",
   "name": "python",
   "nbconvert_exporter": "python",
   "pygments_lexer": "ipython3",
   "version": "3.9.5"
  },
  "toc": {
   "base_numbering": 1,
   "nav_menu": {},
   "number_sections": true,
   "sideBar": true,
   "skip_h1_title": true,
   "title_cell": "Table of Contents",
   "title_sidebar": "Contents",
   "toc_cell": false,
   "toc_position": {},
   "toc_section_display": true,
   "toc_window_display": false
  }
 },
 "nbformat": 4,
 "nbformat_minor": 5
}
