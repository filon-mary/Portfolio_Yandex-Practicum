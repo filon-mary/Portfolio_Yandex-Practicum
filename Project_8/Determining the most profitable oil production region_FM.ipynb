{
 "cells": [
  {
   "cell_type": "markdown",
   "metadata": {},
   "source": [
    "# Выбор локации для скважины"
   ]
  },
  {
   "cell_type": "markdown",
   "metadata": {},
   "source": [
    "Допустим, мы работаем в добывающей компании «ГлавРосГосНефть». Нужно решить, где бурить новую скважину.\n",
    "\n",
    "Нам предоставлены пробы нефти в трёх регионах: в каждом 10 000 месторождений, где измерили качество нефти и объём её запасов. Необходимо построить модель машинного обучения, которая поможет определить регион, где добыча принесёт наибольшую прибыль. Проанализировать возможную прибыль и риски техникой *Bootstrap.*\n",
    "\n",
    "Шаги для выбора локации:\n",
    "\n",
    "- В избранном регионе ищут месторождения, для каждого определяют значения признаков;\n",
    "- Строят модель и оценивают объём запасов;\n",
    "- Выбирают месторождения с самым высокими оценками значений. Количество месторождений зависит от бюджета компании и стоимости разработки одной скважины;\n",
    "- Прибыль равна суммарной прибыли отобранных месторождений."
   ]
  },
  {
   "cell_type": "markdown",
   "metadata": {},
   "source": [
    "# Цель исследования\n",
    "1. Построить модель машинного обучения, которая поможет определить регион, где добыча принесёт наибольшую прибыль.\n",
    "\n",
    "\n",
    "# Ход исследования\n",
    "Нам предоставленны данные пробы нефти в трёх регионах: в каждом 10 000 месторождений, где измерили качество нефти и объём её запасов. Данные разделены на три датафрейма, которые мы получим из файлов '/datasets/geo_data_0.csv', '/datasets/geo_data_1.csv', '/datasets/geo_data_2.csv'. О качестве данных нам ничего не известно, поэтому перед тем, как приступать к целям исследования, понадобится обзор данных. Мы проверим данные на ошибки. Затем, на этапе предобработки мы будем искать возможность исправить все ошибки в данных, которые не приведут к искажению конечного результата. Далее приступим к целям исследования.<br>\n",
    "\n",
    "\n",
    "Таким образом, исследование пройдёт в девять этапов:<br>\n",
    "\n",
    "* Обзор данных <br>\n",
    "* Предобработка данных <br>\n",
    "* Обучение и проверка модели для каждого региона<br>\n",
    "* Подготовка к расчету прибыли<br>\n",
    "* Написание функции для расчёта прибыли по выбранным скважинам и предсказаниям модели<br>\n",
    "* Расчет рисков и прибыли для каждого региона<br>\n",
    "* Выявление лучшего региона<br>\n",
    "* Написание промежуточных выводов <br>\n",
    "* Написание общего вывода"
   ]
  },
  {
   "cell_type": "markdown",
   "metadata": {},
   "source": [
    "## Загрузка и подготовка данных"
   ]
  },
  {
   "cell_type": "code",
   "execution_count": 1,
   "metadata": {},
   "outputs": [],
   "source": [
    "#Импортируем необходимые библиотеки \n",
    "import pandas as pd\n",
    "import numpy as np\n",
    "import seaborn as sns\n",
    "import matplotlib.pyplot as plt\n",
    "from tqdm.notebook import tqdm\n",
    "from numpy.random import RandomState\n",
    "from sklearn.utils import shuffle\n",
    "from sklearn.metrics import mean_squared_error, r2_score\n",
    "from sklearn.preprocessing import StandardScaler \n",
    "from sklearn.model_selection import train_test_split \n",
    "from sklearn.linear_model import LinearRegression\n",
    "from scipy import stats as st"
   ]
  },
  {
   "cell_type": "code",
   "execution_count": 2,
   "metadata": {},
   "outputs": [],
   "source": [
    "#Открываем файлы с данными и изучаем их, всего датайремов три\n",
    "#Первый датафрейм - первый регион\n",
    "try:\n",
    "    data_0 = pd.read_csv('/datasets/geo_data_0.csv')\n",
    "except:\n",
    "    pass"
   ]
  },
  {
   "cell_type": "code",
   "execution_count": 3,
   "metadata": {},
   "outputs": [],
   "source": [
    "#Второй датафрейм - второй регион\n",
    "try:\n",
    "    data_1 = pd.read_csv('/datasets/geo_data_1.csv')\n",
    "except:\n",
    "    pass"
   ]
  },
  {
   "cell_type": "code",
   "execution_count": 4,
   "metadata": {},
   "outputs": [],
   "source": [
    "#Третий датафрейм - третий регион\n",
    "try:\n",
    "    data_2 = pd.read_csv('/datasets/geo_data_2.csv')\n",
    "except:\n",
    "    pass"
   ]
  },
  {
   "cell_type": "code",
   "execution_count": 5,
   "metadata": {},
   "outputs": [
    {
     "name": "stdout",
     "output_type": "stream",
     "text": [
      "<class 'pandas.core.frame.DataFrame'>\n",
      "RangeIndex: 100000 entries, 0 to 99999\n",
      "Data columns (total 5 columns):\n",
      " #   Column   Non-Null Count   Dtype  \n",
      "---  ------   --------------   -----  \n",
      " 0   id       100000 non-null  object \n",
      " 1   f0       100000 non-null  float64\n",
      " 2   f1       100000 non-null  float64\n",
      " 3   f2       100000 non-null  float64\n",
      " 4   product  100000 non-null  float64\n",
      "dtypes: float64(4), object(1)\n",
      "memory usage: 3.8+ MB\n"
     ]
    }
   ],
   "source": [
    "#Изучаем первый датафрейм\n",
    "data_0.info()"
   ]
  },
  {
   "cell_type": "code",
   "execution_count": 6,
   "metadata": {},
   "outputs": [
    {
     "data": {
      "text/plain": [
       "0"
      ]
     },
     "execution_count": 6,
     "metadata": {},
     "output_type": "execute_result"
    }
   ],
   "source": [
    "#Проверяем количество явных дубликатов\n",
    "data_0.duplicated().sum()"
   ]
  },
  {
   "cell_type": "code",
   "execution_count": 7,
   "metadata": {},
   "outputs": [
    {
     "data": {
      "text/html": [
       "<div>\n",
       "<style scoped>\n",
       "    .dataframe tbody tr th:only-of-type {\n",
       "        vertical-align: middle;\n",
       "    }\n",
       "\n",
       "    .dataframe tbody tr th {\n",
       "        vertical-align: top;\n",
       "    }\n",
       "\n",
       "    .dataframe thead th {\n",
       "        text-align: right;\n",
       "    }\n",
       "</style>\n",
       "<table border=\"1\" class=\"dataframe\">\n",
       "  <thead>\n",
       "    <tr style=\"text-align: right;\">\n",
       "      <th></th>\n",
       "      <th>id</th>\n",
       "      <th>f0</th>\n",
       "      <th>f1</th>\n",
       "      <th>f2</th>\n",
       "      <th>product</th>\n",
       "    </tr>\n",
       "  </thead>\n",
       "  <tbody>\n",
       "    <tr>\n",
       "      <th>0</th>\n",
       "      <td>txEyH</td>\n",
       "      <td>0.705745</td>\n",
       "      <td>-0.497823</td>\n",
       "      <td>1.221170</td>\n",
       "      <td>105.280062</td>\n",
       "    </tr>\n",
       "    <tr>\n",
       "      <th>1</th>\n",
       "      <td>2acmU</td>\n",
       "      <td>1.334711</td>\n",
       "      <td>-0.340164</td>\n",
       "      <td>4.365080</td>\n",
       "      <td>73.037750</td>\n",
       "    </tr>\n",
       "    <tr>\n",
       "      <th>2</th>\n",
       "      <td>409Wp</td>\n",
       "      <td>1.022732</td>\n",
       "      <td>0.151990</td>\n",
       "      <td>1.419926</td>\n",
       "      <td>85.265647</td>\n",
       "    </tr>\n",
       "    <tr>\n",
       "      <th>3</th>\n",
       "      <td>iJLyR</td>\n",
       "      <td>-0.032172</td>\n",
       "      <td>0.139033</td>\n",
       "      <td>2.978566</td>\n",
       "      <td>168.620776</td>\n",
       "    </tr>\n",
       "    <tr>\n",
       "      <th>4</th>\n",
       "      <td>Xdl7t</td>\n",
       "      <td>1.988431</td>\n",
       "      <td>0.155413</td>\n",
       "      <td>4.751769</td>\n",
       "      <td>154.036647</td>\n",
       "    </tr>\n",
       "  </tbody>\n",
       "</table>\n",
       "</div>"
      ],
      "text/plain": [
       "      id        f0        f1        f2     product\n",
       "0  txEyH  0.705745 -0.497823  1.221170  105.280062\n",
       "1  2acmU  1.334711 -0.340164  4.365080   73.037750\n",
       "2  409Wp  1.022732  0.151990  1.419926   85.265647\n",
       "3  iJLyR -0.032172  0.139033  2.978566  168.620776\n",
       "4  Xdl7t  1.988431  0.155413  4.751769  154.036647"
      ]
     },
     "execution_count": 7,
     "metadata": {},
     "output_type": "execute_result"
    }
   ],
   "source": [
    "data_0.head()"
   ]
  },
  {
   "cell_type": "code",
   "execution_count": 8,
   "metadata": {},
   "outputs": [
    {
     "data": {
      "text/html": [
       "<div>\n",
       "<style scoped>\n",
       "    .dataframe tbody tr th:only-of-type {\n",
       "        vertical-align: middle;\n",
       "    }\n",
       "\n",
       "    .dataframe tbody tr th {\n",
       "        vertical-align: top;\n",
       "    }\n",
       "\n",
       "    .dataframe thead th {\n",
       "        text-align: right;\n",
       "    }\n",
       "</style>\n",
       "<table border=\"1\" class=\"dataframe\">\n",
       "  <thead>\n",
       "    <tr style=\"text-align: right;\">\n",
       "      <th></th>\n",
       "      <th>f0</th>\n",
       "      <th>f1</th>\n",
       "      <th>f2</th>\n",
       "      <th>product</th>\n",
       "    </tr>\n",
       "  </thead>\n",
       "  <tbody>\n",
       "    <tr>\n",
       "      <th>count</th>\n",
       "      <td>100000.000000</td>\n",
       "      <td>100000.000000</td>\n",
       "      <td>100000.000000</td>\n",
       "      <td>100000.000000</td>\n",
       "    </tr>\n",
       "    <tr>\n",
       "      <th>mean</th>\n",
       "      <td>0.500419</td>\n",
       "      <td>0.250143</td>\n",
       "      <td>2.502647</td>\n",
       "      <td>92.500000</td>\n",
       "    </tr>\n",
       "    <tr>\n",
       "      <th>std</th>\n",
       "      <td>0.871832</td>\n",
       "      <td>0.504433</td>\n",
       "      <td>3.248248</td>\n",
       "      <td>44.288691</td>\n",
       "    </tr>\n",
       "    <tr>\n",
       "      <th>min</th>\n",
       "      <td>-1.408605</td>\n",
       "      <td>-0.848218</td>\n",
       "      <td>-12.088328</td>\n",
       "      <td>0.000000</td>\n",
       "    </tr>\n",
       "    <tr>\n",
       "      <th>25%</th>\n",
       "      <td>-0.072580</td>\n",
       "      <td>-0.200881</td>\n",
       "      <td>0.287748</td>\n",
       "      <td>56.497507</td>\n",
       "    </tr>\n",
       "    <tr>\n",
       "      <th>50%</th>\n",
       "      <td>0.502360</td>\n",
       "      <td>0.250252</td>\n",
       "      <td>2.515969</td>\n",
       "      <td>91.849972</td>\n",
       "    </tr>\n",
       "    <tr>\n",
       "      <th>75%</th>\n",
       "      <td>1.073581</td>\n",
       "      <td>0.700646</td>\n",
       "      <td>4.715088</td>\n",
       "      <td>128.564089</td>\n",
       "    </tr>\n",
       "    <tr>\n",
       "      <th>max</th>\n",
       "      <td>2.362331</td>\n",
       "      <td>1.343769</td>\n",
       "      <td>16.003790</td>\n",
       "      <td>185.364347</td>\n",
       "    </tr>\n",
       "  </tbody>\n",
       "</table>\n",
       "</div>"
      ],
      "text/plain": [
       "                  f0             f1             f2        product\n",
       "count  100000.000000  100000.000000  100000.000000  100000.000000\n",
       "mean        0.500419       0.250143       2.502647      92.500000\n",
       "std         0.871832       0.504433       3.248248      44.288691\n",
       "min        -1.408605      -0.848218     -12.088328       0.000000\n",
       "25%        -0.072580      -0.200881       0.287748      56.497507\n",
       "50%         0.502360       0.250252       2.515969      91.849972\n",
       "75%         1.073581       0.700646       4.715088     128.564089\n",
       "max         2.362331       1.343769      16.003790     185.364347"
      ]
     },
     "execution_count": 8,
     "metadata": {},
     "output_type": "execute_result"
    }
   ],
   "source": [
    "data_0.describe()"
   ]
  },
  {
   "cell_type": "code",
   "execution_count": 9,
   "metadata": {},
   "outputs": [
    {
     "data": {
      "text/html": [
       "<div>\n",
       "<style scoped>\n",
       "    .dataframe tbody tr th:only-of-type {\n",
       "        vertical-align: middle;\n",
       "    }\n",
       "\n",
       "    .dataframe tbody tr th {\n",
       "        vertical-align: top;\n",
       "    }\n",
       "\n",
       "    .dataframe thead th {\n",
       "        text-align: right;\n",
       "    }\n",
       "</style>\n",
       "<table border=\"1\" class=\"dataframe\">\n",
       "  <thead>\n",
       "    <tr style=\"text-align: right;\">\n",
       "      <th></th>\n",
       "      <th>f0</th>\n",
       "      <th>f1</th>\n",
       "      <th>f2</th>\n",
       "      <th>product</th>\n",
       "    </tr>\n",
       "  </thead>\n",
       "  <tbody>\n",
       "    <tr>\n",
       "      <th>f0</th>\n",
       "      <td>1.000000</td>\n",
       "      <td>-0.440723</td>\n",
       "      <td>-0.003153</td>\n",
       "      <td>0.143536</td>\n",
       "    </tr>\n",
       "    <tr>\n",
       "      <th>f1</th>\n",
       "      <td>-0.440723</td>\n",
       "      <td>1.000000</td>\n",
       "      <td>0.001724</td>\n",
       "      <td>-0.192356</td>\n",
       "    </tr>\n",
       "    <tr>\n",
       "      <th>f2</th>\n",
       "      <td>-0.003153</td>\n",
       "      <td>0.001724</td>\n",
       "      <td>1.000000</td>\n",
       "      <td>0.483663</td>\n",
       "    </tr>\n",
       "    <tr>\n",
       "      <th>product</th>\n",
       "      <td>0.143536</td>\n",
       "      <td>-0.192356</td>\n",
       "      <td>0.483663</td>\n",
       "      <td>1.000000</td>\n",
       "    </tr>\n",
       "  </tbody>\n",
       "</table>\n",
       "</div>"
      ],
      "text/plain": [
       "               f0        f1        f2   product\n",
       "f0       1.000000 -0.440723 -0.003153  0.143536\n",
       "f1      -0.440723  1.000000  0.001724 -0.192356\n",
       "f2      -0.003153  0.001724  1.000000  0.483663\n",
       "product  0.143536 -0.192356  0.483663  1.000000"
      ]
     },
     "execution_count": 9,
     "metadata": {},
     "output_type": "execute_result"
    }
   ],
   "source": [
    "data_0.corr()"
   ]
  },
  {
   "cell_type": "code",
   "execution_count": 10,
   "metadata": {},
   "outputs": [
    {
     "data": {
      "image/png": "[encoded data removed]",
      "text/plain": [
       "<Figure size 432x288 with 2 Axes>"
      ]
     },
     "metadata": {
      "needs_background": "light"
     },
     "output_type": "display_data"
    }
   ],
   "source": [
    "#Тепловая карта корреляции \n",
    "sns.heatmap(data_0.corr(), vmin = -1, vmax = +1, annot = True, cmap = 'coolwarm');"
   ]
  },
  {
   "cell_type": "markdown",
   "metadata": {},
   "source": [
    "\n",
    "\n",
    "Мы ознакомились с первым представленным датафреймом. Всего в датафрейме 5 столбцов и 100 000 записей. Пропущенных значений и  дубликатов невыявлено."
   ]
  },
  {
   "cell_type": "code",
   "execution_count": 11,
   "metadata": {},
   "outputs": [
    {
     "name": "stdout",
     "output_type": "stream",
     "text": [
      "<class 'pandas.core.frame.DataFrame'>\n",
      "RangeIndex: 100000 entries, 0 to 99999\n",
      "Data columns (total 5 columns):\n",
      " #   Column   Non-Null Count   Dtype  \n",
      "---  ------   --------------   -----  \n",
      " 0   id       100000 non-null  object \n",
      " 1   f0       100000 non-null  float64\n",
      " 2   f1       100000 non-null  float64\n",
      " 3   f2       100000 non-null  float64\n",
      " 4   product  100000 non-null  float64\n",
      "dtypes: float64(4), object(1)\n",
      "memory usage: 3.8+ MB\n"
     ]
    }
   ],
   "source": [
    "#Изучаем второй датафрейм\n",
    "data_1.info()"
   ]
  },
  {
   "cell_type": "code",
   "execution_count": 12,
   "metadata": {},
   "outputs": [
    {
     "data": {
      "text/plain": [
       "0"
      ]
     },
     "execution_count": 12,
     "metadata": {},
     "output_type": "execute_result"
    }
   ],
   "source": [
    "#Проверяем количество явных дубликатов\n",
    "data_1.duplicated().sum()"
   ]
  },
  {
   "cell_type": "code",
   "execution_count": 13,
   "metadata": {},
   "outputs": [
    {
     "data": {
      "text/html": [
       "<div>\n",
       "<style scoped>\n",
       "    .dataframe tbody tr th:only-of-type {\n",
       "        vertical-align: middle;\n",
       "    }\n",
       "\n",
       "    .dataframe tbody tr th {\n",
       "        vertical-align: top;\n",
       "    }\n",
       "\n",
       "    .dataframe thead th {\n",
       "        text-align: right;\n",
       "    }\n",
       "</style>\n",
       "<table border=\"1\" class=\"dataframe\">\n",
       "  <thead>\n",
       "    <tr style=\"text-align: right;\">\n",
       "      <th></th>\n",
       "      <th>id</th>\n",
       "      <th>f0</th>\n",
       "      <th>f1</th>\n",
       "      <th>f2</th>\n",
       "      <th>product</th>\n",
       "    </tr>\n",
       "  </thead>\n",
       "  <tbody>\n",
       "    <tr>\n",
       "      <th>0</th>\n",
       "      <td>kBEdx</td>\n",
       "      <td>-15.001348</td>\n",
       "      <td>-8.276000</td>\n",
       "      <td>-0.005876</td>\n",
       "      <td>3.179103</td>\n",
       "    </tr>\n",
       "    <tr>\n",
       "      <th>1</th>\n",
       "      <td>62mP7</td>\n",
       "      <td>14.272088</td>\n",
       "      <td>-3.475083</td>\n",
       "      <td>0.999183</td>\n",
       "      <td>26.953261</td>\n",
       "    </tr>\n",
       "    <tr>\n",
       "      <th>2</th>\n",
       "      <td>vyE1P</td>\n",
       "      <td>6.263187</td>\n",
       "      <td>-5.948386</td>\n",
       "      <td>5.001160</td>\n",
       "      <td>134.766305</td>\n",
       "    </tr>\n",
       "    <tr>\n",
       "      <th>3</th>\n",
       "      <td>KcrkZ</td>\n",
       "      <td>-13.081196</td>\n",
       "      <td>-11.506057</td>\n",
       "      <td>4.999415</td>\n",
       "      <td>137.945408</td>\n",
       "    </tr>\n",
       "    <tr>\n",
       "      <th>4</th>\n",
       "      <td>AHL4O</td>\n",
       "      <td>12.702195</td>\n",
       "      <td>-8.147433</td>\n",
       "      <td>5.004363</td>\n",
       "      <td>134.766305</td>\n",
       "    </tr>\n",
       "  </tbody>\n",
       "</table>\n",
       "</div>"
      ],
      "text/plain": [
       "      id         f0         f1        f2     product\n",
       "0  kBEdx -15.001348  -8.276000 -0.005876    3.179103\n",
       "1  62mP7  14.272088  -3.475083  0.999183   26.953261\n",
       "2  vyE1P   6.263187  -5.948386  5.001160  134.766305\n",
       "3  KcrkZ -13.081196 -11.506057  4.999415  137.945408\n",
       "4  AHL4O  12.702195  -8.147433  5.004363  134.766305"
      ]
     },
     "execution_count": 13,
     "metadata": {},
     "output_type": "execute_result"
    }
   ],
   "source": [
    "data_1.head()"
   ]
  },
  {
   "cell_type": "code",
   "execution_count": 14,
   "metadata": {},
   "outputs": [
    {
     "data": {
      "text/html": [
       "<div>\n",
       "<style scoped>\n",
       "    .dataframe tbody tr th:only-of-type {\n",
       "        vertical-align: middle;\n",
       "    }\n",
       "\n",
       "    .dataframe tbody tr th {\n",
       "        vertical-align: top;\n",
       "    }\n",
       "\n",
       "    .dataframe thead th {\n",
       "        text-align: right;\n",
       "    }\n",
       "</style>\n",
       "<table border=\"1\" class=\"dataframe\">\n",
       "  <thead>\n",
       "    <tr style=\"text-align: right;\">\n",
       "      <th></th>\n",
       "      <th>f0</th>\n",
       "      <th>f1</th>\n",
       "      <th>f2</th>\n",
       "      <th>product</th>\n",
       "    </tr>\n",
       "  </thead>\n",
       "  <tbody>\n",
       "    <tr>\n",
       "      <th>count</th>\n",
       "      <td>100000.000000</td>\n",
       "      <td>100000.000000</td>\n",
       "      <td>100000.000000</td>\n",
       "      <td>100000.000000</td>\n",
       "    </tr>\n",
       "    <tr>\n",
       "      <th>mean</th>\n",
       "      <td>1.141296</td>\n",
       "      <td>-4.796579</td>\n",
       "      <td>2.494541</td>\n",
       "      <td>68.825000</td>\n",
       "    </tr>\n",
       "    <tr>\n",
       "      <th>std</th>\n",
       "      <td>8.965932</td>\n",
       "      <td>5.119872</td>\n",
       "      <td>1.703572</td>\n",
       "      <td>45.944423</td>\n",
       "    </tr>\n",
       "    <tr>\n",
       "      <th>min</th>\n",
       "      <td>-31.609576</td>\n",
       "      <td>-26.358598</td>\n",
       "      <td>-0.018144</td>\n",
       "      <td>0.000000</td>\n",
       "    </tr>\n",
       "    <tr>\n",
       "      <th>25%</th>\n",
       "      <td>-6.298551</td>\n",
       "      <td>-8.267985</td>\n",
       "      <td>1.000021</td>\n",
       "      <td>26.953261</td>\n",
       "    </tr>\n",
       "    <tr>\n",
       "      <th>50%</th>\n",
       "      <td>1.153055</td>\n",
       "      <td>-4.813172</td>\n",
       "      <td>2.011479</td>\n",
       "      <td>57.085625</td>\n",
       "    </tr>\n",
       "    <tr>\n",
       "      <th>75%</th>\n",
       "      <td>8.621015</td>\n",
       "      <td>-1.332816</td>\n",
       "      <td>3.999904</td>\n",
       "      <td>107.813044</td>\n",
       "    </tr>\n",
       "    <tr>\n",
       "      <th>max</th>\n",
       "      <td>29.421755</td>\n",
       "      <td>18.734063</td>\n",
       "      <td>5.019721</td>\n",
       "      <td>137.945408</td>\n",
       "    </tr>\n",
       "  </tbody>\n",
       "</table>\n",
       "</div>"
      ],
      "text/plain": [
       "                  f0             f1             f2        product\n",
       "count  100000.000000  100000.000000  100000.000000  100000.000000\n",
       "mean        1.141296      -4.796579       2.494541      68.825000\n",
       "std         8.965932       5.119872       1.703572      45.944423\n",
       "min       -31.609576     -26.358598      -0.018144       0.000000\n",
       "25%        -6.298551      -8.267985       1.000021      26.953261\n",
       "50%         1.153055      -4.813172       2.011479      57.085625\n",
       "75%         8.621015      -1.332816       3.999904     107.813044\n",
       "max        29.421755      18.734063       5.019721     137.945408"
      ]
     },
     "execution_count": 14,
     "metadata": {},
     "output_type": "execute_result"
    }
   ],
   "source": [
    "data_1.describe()"
   ]
  },
  {
   "cell_type": "code",
   "execution_count": 15,
   "metadata": {},
   "outputs": [
    {
     "data": {
      "text/html": [
       "<div>\n",
       "<style scoped>\n",
       "    .dataframe tbody tr th:only-of-type {\n",
       "        vertical-align: middle;\n",
       "    }\n",
       "\n",
       "    .dataframe tbody tr th {\n",
       "        vertical-align: top;\n",
       "    }\n",
       "\n",
       "    .dataframe thead th {\n",
       "        text-align: right;\n",
       "    }\n",
       "</style>\n",
       "<table border=\"1\" class=\"dataframe\">\n",
       "  <thead>\n",
       "    <tr style=\"text-align: right;\">\n",
       "      <th></th>\n",
       "      <th>f0</th>\n",
       "      <th>f1</th>\n",
       "      <th>f2</th>\n",
       "      <th>product</th>\n",
       "    </tr>\n",
       "  </thead>\n",
       "  <tbody>\n",
       "    <tr>\n",
       "      <th>f0</th>\n",
       "      <td>1.000000</td>\n",
       "      <td>0.182287</td>\n",
       "      <td>-0.001777</td>\n",
       "      <td>-0.030491</td>\n",
       "    </tr>\n",
       "    <tr>\n",
       "      <th>f1</th>\n",
       "      <td>0.182287</td>\n",
       "      <td>1.000000</td>\n",
       "      <td>-0.002595</td>\n",
       "      <td>-0.010155</td>\n",
       "    </tr>\n",
       "    <tr>\n",
       "      <th>f2</th>\n",
       "      <td>-0.001777</td>\n",
       "      <td>-0.002595</td>\n",
       "      <td>1.000000</td>\n",
       "      <td>0.999397</td>\n",
       "    </tr>\n",
       "    <tr>\n",
       "      <th>product</th>\n",
       "      <td>-0.030491</td>\n",
       "      <td>-0.010155</td>\n",
       "      <td>0.999397</td>\n",
       "      <td>1.000000</td>\n",
       "    </tr>\n",
       "  </tbody>\n",
       "</table>\n",
       "</div>"
      ],
      "text/plain": [
       "               f0        f1        f2   product\n",
       "f0       1.000000  0.182287 -0.001777 -0.030491\n",
       "f1       0.182287  1.000000 -0.002595 -0.010155\n",
       "f2      -0.001777 -0.002595  1.000000  0.999397\n",
       "product -0.030491 -0.010155  0.999397  1.000000"
      ]
     },
     "execution_count": 15,
     "metadata": {},
     "output_type": "execute_result"
    }
   ],
   "source": [
    "data_1.corr()"
   ]
  },
  {
   "cell_type": "code",
   "execution_count": 16,
   "metadata": {},
   "outputs": [
    {
     "data": {
      "image/png": "[encoded data removed]",
      "text/plain": [
       "<Figure size 432x288 with 2 Axes>"
      ]
     },
     "metadata": {
      "needs_background": "light"
     },
     "output_type": "display_data"
    }
   ],
   "source": [
    "#Тепловая карта корреляции \n",
    "sns.heatmap(data_1.corr(), vmin = -1, vmax = +1, annot = True, cmap = 'coolwarm');"
   ]
  },
  {
   "cell_type": "markdown",
   "metadata": {},
   "source": [
    "Мы ознакомились со вторым представленным датафреймом. Всего в датафрейме 5 столбцов и 100 000 записей. Пропущенных значений и дубликатов невыявлено."
   ]
  },
  {
   "cell_type": "code",
   "execution_count": 17,
   "metadata": {},
   "outputs": [
    {
     "name": "stdout",
     "output_type": "stream",
     "text": [
      "<class 'pandas.core.frame.DataFrame'>\n",
      "RangeIndex: 100000 entries, 0 to 99999\n",
      "Data columns (total 5 columns):\n",
      " #   Column   Non-Null Count   Dtype  \n",
      "---  ------   --------------   -----  \n",
      " 0   id       100000 non-null  object \n",
      " 1   f0       100000 non-null  float64\n",
      " 2   f1       100000 non-null  float64\n",
      " 3   f2       100000 non-null  float64\n",
      " 4   product  100000 non-null  float64\n",
      "dtypes: float64(4), object(1)\n",
      "memory usage: 3.8+ MB\n"
     ]
    }
   ],
   "source": [
    "#Изучаем третий датафрейм\n",
    "data_2.info()"
   ]
  },
  {
   "cell_type": "code",
   "execution_count": 18,
   "metadata": {},
   "outputs": [
    {
     "data": {
      "text/plain": [
       "0"
      ]
     },
     "execution_count": 18,
     "metadata": {},
     "output_type": "execute_result"
    }
   ],
   "source": [
    "#Проверяем количество явных дубликатов\n",
    "data_2.duplicated().sum()"
   ]
  },
  {
   "cell_type": "code",
   "execution_count": 19,
   "metadata": {},
   "outputs": [
    {
     "data": {
      "text/html": [
       "<div>\n",
       "<style scoped>\n",
       "    .dataframe tbody tr th:only-of-type {\n",
       "        vertical-align: middle;\n",
       "    }\n",
       "\n",
       "    .dataframe tbody tr th {\n",
       "        vertical-align: top;\n",
       "    }\n",
       "\n",
       "    .dataframe thead th {\n",
       "        text-align: right;\n",
       "    }\n",
       "</style>\n",
       "<table border=\"1\" class=\"dataframe\">\n",
       "  <thead>\n",
       "    <tr style=\"text-align: right;\">\n",
       "      <th></th>\n",
       "      <th>id</th>\n",
       "      <th>f0</th>\n",
       "      <th>f1</th>\n",
       "      <th>f2</th>\n",
       "      <th>product</th>\n",
       "    </tr>\n",
       "  </thead>\n",
       "  <tbody>\n",
       "    <tr>\n",
       "      <th>0</th>\n",
       "      <td>fwXo0</td>\n",
       "      <td>-1.146987</td>\n",
       "      <td>0.963328</td>\n",
       "      <td>-0.828965</td>\n",
       "      <td>27.758673</td>\n",
       "    </tr>\n",
       "    <tr>\n",
       "      <th>1</th>\n",
       "      <td>WJtFt</td>\n",
       "      <td>0.262778</td>\n",
       "      <td>0.269839</td>\n",
       "      <td>-2.530187</td>\n",
       "      <td>56.069697</td>\n",
       "    </tr>\n",
       "    <tr>\n",
       "      <th>2</th>\n",
       "      <td>ovLUW</td>\n",
       "      <td>0.194587</td>\n",
       "      <td>0.289035</td>\n",
       "      <td>-5.586433</td>\n",
       "      <td>62.871910</td>\n",
       "    </tr>\n",
       "    <tr>\n",
       "      <th>3</th>\n",
       "      <td>q6cA6</td>\n",
       "      <td>2.236060</td>\n",
       "      <td>-0.553760</td>\n",
       "      <td>0.930038</td>\n",
       "      <td>114.572842</td>\n",
       "    </tr>\n",
       "    <tr>\n",
       "      <th>4</th>\n",
       "      <td>WPMUX</td>\n",
       "      <td>-0.515993</td>\n",
       "      <td>1.716266</td>\n",
       "      <td>5.899011</td>\n",
       "      <td>149.600746</td>\n",
       "    </tr>\n",
       "  </tbody>\n",
       "</table>\n",
       "</div>"
      ],
      "text/plain": [
       "      id        f0        f1        f2     product\n",
       "0  fwXo0 -1.146987  0.963328 -0.828965   27.758673\n",
       "1  WJtFt  0.262778  0.269839 -2.530187   56.069697\n",
       "2  ovLUW  0.194587  0.289035 -5.586433   62.871910\n",
       "3  q6cA6  2.236060 -0.553760  0.930038  114.572842\n",
       "4  WPMUX -0.515993  1.716266  5.899011  149.600746"
      ]
     },
     "execution_count": 19,
     "metadata": {},
     "output_type": "execute_result"
    }
   ],
   "source": [
    "data_2.head()"
   ]
  },
  {
   "cell_type": "code",
   "execution_count": 20,
   "metadata": {},
   "outputs": [
    {
     "data": {
      "text/html": [
       "<div>\n",
       "<style scoped>\n",
       "    .dataframe tbody tr th:only-of-type {\n",
       "        vertical-align: middle;\n",
       "    }\n",
       "\n",
       "    .dataframe tbody tr th {\n",
       "        vertical-align: top;\n",
       "    }\n",
       "\n",
       "    .dataframe thead th {\n",
       "        text-align: right;\n",
       "    }\n",
       "</style>\n",
       "<table border=\"1\" class=\"dataframe\">\n",
       "  <thead>\n",
       "    <tr style=\"text-align: right;\">\n",
       "      <th></th>\n",
       "      <th>f0</th>\n",
       "      <th>f1</th>\n",
       "      <th>f2</th>\n",
       "      <th>product</th>\n",
       "    </tr>\n",
       "  </thead>\n",
       "  <tbody>\n",
       "    <tr>\n",
       "      <th>count</th>\n",
       "      <td>100000.000000</td>\n",
       "      <td>100000.000000</td>\n",
       "      <td>100000.000000</td>\n",
       "      <td>100000.000000</td>\n",
       "    </tr>\n",
       "    <tr>\n",
       "      <th>mean</th>\n",
       "      <td>0.002023</td>\n",
       "      <td>-0.002081</td>\n",
       "      <td>2.495128</td>\n",
       "      <td>95.000000</td>\n",
       "    </tr>\n",
       "    <tr>\n",
       "      <th>std</th>\n",
       "      <td>1.732045</td>\n",
       "      <td>1.730417</td>\n",
       "      <td>3.473445</td>\n",
       "      <td>44.749921</td>\n",
       "    </tr>\n",
       "    <tr>\n",
       "      <th>min</th>\n",
       "      <td>-8.760004</td>\n",
       "      <td>-7.084020</td>\n",
       "      <td>-11.970335</td>\n",
       "      <td>0.000000</td>\n",
       "    </tr>\n",
       "    <tr>\n",
       "      <th>25%</th>\n",
       "      <td>-1.162288</td>\n",
       "      <td>-1.174820</td>\n",
       "      <td>0.130359</td>\n",
       "      <td>59.450441</td>\n",
       "    </tr>\n",
       "    <tr>\n",
       "      <th>50%</th>\n",
       "      <td>0.009424</td>\n",
       "      <td>-0.009482</td>\n",
       "      <td>2.484236</td>\n",
       "      <td>94.925613</td>\n",
       "    </tr>\n",
       "    <tr>\n",
       "      <th>75%</th>\n",
       "      <td>1.158535</td>\n",
       "      <td>1.163678</td>\n",
       "      <td>4.858794</td>\n",
       "      <td>130.595027</td>\n",
       "    </tr>\n",
       "    <tr>\n",
       "      <th>max</th>\n",
       "      <td>7.238262</td>\n",
       "      <td>7.844801</td>\n",
       "      <td>16.739402</td>\n",
       "      <td>190.029838</td>\n",
       "    </tr>\n",
       "  </tbody>\n",
       "</table>\n",
       "</div>"
      ],
      "text/plain": [
       "                  f0             f1             f2        product\n",
       "count  100000.000000  100000.000000  100000.000000  100000.000000\n",
       "mean        0.002023      -0.002081       2.495128      95.000000\n",
       "std         1.732045       1.730417       3.473445      44.749921\n",
       "min        -8.760004      -7.084020     -11.970335       0.000000\n",
       "25%        -1.162288      -1.174820       0.130359      59.450441\n",
       "50%         0.009424      -0.009482       2.484236      94.925613\n",
       "75%         1.158535       1.163678       4.858794     130.595027\n",
       "max         7.238262       7.844801      16.739402     190.029838"
      ]
     },
     "execution_count": 20,
     "metadata": {},
     "output_type": "execute_result"
    }
   ],
   "source": [
    "data_2.describe()"
   ]
  },
  {
   "cell_type": "code",
   "execution_count": 21,
   "metadata": {},
   "outputs": [
    {
     "data": {
      "text/html": [
       "<div>\n",
       "<style scoped>\n",
       "    .dataframe tbody tr th:only-of-type {\n",
       "        vertical-align: middle;\n",
       "    }\n",
       "\n",
       "    .dataframe tbody tr th {\n",
       "        vertical-align: top;\n",
       "    }\n",
       "\n",
       "    .dataframe thead th {\n",
       "        text-align: right;\n",
       "    }\n",
       "</style>\n",
       "<table border=\"1\" class=\"dataframe\">\n",
       "  <thead>\n",
       "    <tr style=\"text-align: right;\">\n",
       "      <th></th>\n",
       "      <th>f0</th>\n",
       "      <th>f1</th>\n",
       "      <th>f2</th>\n",
       "      <th>product</th>\n",
       "    </tr>\n",
       "  </thead>\n",
       "  <tbody>\n",
       "    <tr>\n",
       "      <th>f0</th>\n",
       "      <td>1.000000</td>\n",
       "      <td>0.000528</td>\n",
       "      <td>-0.000448</td>\n",
       "      <td>-0.001987</td>\n",
       "    </tr>\n",
       "    <tr>\n",
       "      <th>f1</th>\n",
       "      <td>0.000528</td>\n",
       "      <td>1.000000</td>\n",
       "      <td>0.000779</td>\n",
       "      <td>-0.001012</td>\n",
       "    </tr>\n",
       "    <tr>\n",
       "      <th>f2</th>\n",
       "      <td>-0.000448</td>\n",
       "      <td>0.000779</td>\n",
       "      <td>1.000000</td>\n",
       "      <td>0.445871</td>\n",
       "    </tr>\n",
       "    <tr>\n",
       "      <th>product</th>\n",
       "      <td>-0.001987</td>\n",
       "      <td>-0.001012</td>\n",
       "      <td>0.445871</td>\n",
       "      <td>1.000000</td>\n",
       "    </tr>\n",
       "  </tbody>\n",
       "</table>\n",
       "</div>"
      ],
      "text/plain": [
       "               f0        f1        f2   product\n",
       "f0       1.000000  0.000528 -0.000448 -0.001987\n",
       "f1       0.000528  1.000000  0.000779 -0.001012\n",
       "f2      -0.000448  0.000779  1.000000  0.445871\n",
       "product -0.001987 -0.001012  0.445871  1.000000"
      ]
     },
     "execution_count": 21,
     "metadata": {},
     "output_type": "execute_result"
    }
   ],
   "source": [
    "data_2.corr()"
   ]
  },
  {
   "cell_type": "code",
   "execution_count": 22,
   "metadata": {},
   "outputs": [
    {
     "data": {
      "image/png": "[encoded data removed]",
      "text/plain": [
       "<Figure size 432x288 with 2 Axes>"
      ]
     },
     "metadata": {
      "needs_background": "light"
     },
     "output_type": "display_data"
    }
   ],
   "source": [
    "#Тепловая карта корреляции \n",
    "sns.heatmap(data_2.corr(), vmin = -1, vmax = +1, annot = True, cmap = 'coolwarm');"
   ]
  },
  {
   "cell_type": "markdown",
   "metadata": {},
   "source": [
    "Мы ознакомились с третьим представленным датафреймом. Всего в датафрейме 5 столбцов и 100 000 записей. Пропущенных значений и дубликатов невыявлено."
   ]
  },
  {
   "cell_type": "code",
   "execution_count": 23,
   "metadata": {},
   "outputs": [
    {
     "data": {
      "image/png": "[encoded data removed]",
      "text/plain": [
       "<Figure size 864x504 with 1 Axes>"
      ]
     },
     "metadata": {
      "needs_background": "light"
     },
     "output_type": "display_data"
    }
   ],
   "source": [
    "#Построим наглядный грфаик распределения сырья(product — объём запасов в скважине) в трех регионах\n",
    "plt.title('Графики распределения запасов сырья в регионах')\n",
    "ax=data_0['product'].plot(kind='hist',figsize=(12,7), grid=True, \n",
    "                          legend=True, alpha=0.6, histtype='step', \n",
    "                          linewidth=5, label='1 регион')\n",
    "\n",
    "ax1=data_1['product'].plot(kind='hist',figsize=(12,7), grid=True, \n",
    "                           legend=True, alpha=0.7,histtype='step', \n",
    "                           linewidth=5, label='2 регион', ax=ax)\n",
    "\n",
    "data_2['product'].plot(kind='hist',figsize=(12,7), grid=True, \n",
    "                       legend=True, alpha=0.5, histtype='step', \n",
    "                       linewidth=5, label='3 регион', ax=ax1)\n",
    "\n",
    "plt.xlabel('Распределение данных по запасам сырья в регионах')\n",
    "plt.ylabel('Объём запасов в скважине (тыс. баррелей)')\n",
    "plt.show()"
   ]
  },
  {
   "cell_type": "code",
   "execution_count": 24,
   "metadata": {
    "scrolled": true
   },
   "outputs": [
    {
     "data": {
      "text/plain": [
       "id          99990\n",
       "f0         100000\n",
       "f1         100000\n",
       "f2         100000\n",
       "product    100000\n",
       "dtype: int64"
      ]
     },
     "execution_count": 24,
     "metadata": {},
     "output_type": "execute_result"
    }
   ],
   "source": [
    "#Проверим каждый датафрейм на уникальные значения\n",
    "data_0.nunique()"
   ]
  },
  {
   "cell_type": "code",
   "execution_count": 25,
   "metadata": {},
   "outputs": [
    {
     "data": {
      "text/plain": [
       "id          99996\n",
       "f0         100000\n",
       "f1         100000\n",
       "f2         100000\n",
       "product        12\n",
       "dtype: int64"
      ]
     },
     "execution_count": 25,
     "metadata": {},
     "output_type": "execute_result"
    }
   ],
   "source": [
    "data_1.nunique()"
   ]
  },
  {
   "cell_type": "code",
   "execution_count": 26,
   "metadata": {},
   "outputs": [
    {
     "data": {
      "text/plain": [
       "array([  3.17910258,  26.95326103, 134.76630516, 137.94540774,\n",
       "        84.03888568, 110.99214671,  53.90652206,   0.        ,\n",
       "       107.81304413,  57.08562465,  30.13236361,  80.85978309])"
      ]
     },
     "execution_count": 26,
     "metadata": {},
     "output_type": "execute_result"
    }
   ],
   "source": [
    "data_1['product'].unique()"
   ]
  },
  {
   "cell_type": "code",
   "execution_count": 27,
   "metadata": {
    "scrolled": true
   },
   "outputs": [
    {
     "data": {
      "text/plain": [
       "53.906522     8472\n",
       "26.953261     8468\n",
       "84.038886     8431\n",
       "57.085625     8390\n",
       "3.179103      8337\n",
       "80.859783     8320\n",
       "30.132364     8306\n",
       "134.766305    8304\n",
       "110.992147    8303\n",
       "0.000000      8235\n",
       "137.945408    8233\n",
       "107.813044    8201\n",
       "Name: product, dtype: int64"
      ]
     },
     "execution_count": 27,
     "metadata": {},
     "output_type": "execute_result"
    }
   ],
   "source": [
    "data_1['product'].value_counts()"
   ]
  },
  {
   "cell_type": "code",
   "execution_count": 28,
   "metadata": {},
   "outputs": [
    {
     "data": {
      "text/plain": [
       "id          99996\n",
       "f0         100000\n",
       "f1         100000\n",
       "f2         100000\n",
       "product    100000\n",
       "dtype: int64"
      ]
     },
     "execution_count": 28,
     "metadata": {},
     "output_type": "execute_result"
    }
   ],
   "source": [
    "data_2.nunique()"
   ]
  },
  {
   "cell_type": "markdown",
   "metadata": {},
   "source": [
    "Во втором регионе выявлены 12 уникальных значений в столбце 'product', скорее всего это уникальные отдельные значения, которые встречаются только один раз в наборе данных, так как дубликатов  в данном датафрейме у нас не было выявлено. Данные уникальные значения не должны повлиять на результат, так как их количество слишком мало, но будем наблюдать в процессе. <br>\n",
    "В остальных двух регионах (1 и 3) выбивающихся уникальных значений не выявлено."
   ]
  },
  {
   "cell_type": "code",
   "execution_count": 29,
   "metadata": {
    "scrolled": true
   },
   "outputs": [
    {
     "data": {
      "text/plain": [
       "0        False\n",
       "1        False\n",
       "2        False\n",
       "3        False\n",
       "4        False\n",
       "         ...  \n",
       "99995    False\n",
       "99996    False\n",
       "99997    False\n",
       "99998    False\n",
       "99999    False\n",
       "Length: 100000, dtype: bool"
      ]
     },
     "execution_count": 29,
     "metadata": {},
     "output_type": "execute_result"
    }
   ],
   "source": [
    "#Проверяем на наличие дубликатов во всех трех датафреймах по столбцу 'id'\n",
    "data_0.duplicated('id')"
   ]
  },
  {
   "cell_type": "code",
   "execution_count": 30,
   "metadata": {},
   "outputs": [
    {
     "data": {
      "text/plain": [
       "0        False\n",
       "1        False\n",
       "2        False\n",
       "3        False\n",
       "4        False\n",
       "         ...  \n",
       "99995    False\n",
       "99996    False\n",
       "99997    False\n",
       "99998    False\n",
       "99999    False\n",
       "Length: 100000, dtype: bool"
      ]
     },
     "execution_count": 30,
     "metadata": {},
     "output_type": "execute_result"
    }
   ],
   "source": [
    "data_1.duplicated('id')"
   ]
  },
  {
   "cell_type": "code",
   "execution_count": 31,
   "metadata": {},
   "outputs": [
    {
     "data": {
      "text/plain": [
       "0        False\n",
       "1        False\n",
       "2        False\n",
       "3        False\n",
       "4        False\n",
       "         ...  \n",
       "99995    False\n",
       "99996    False\n",
       "99997    False\n",
       "99998    False\n",
       "99999    False\n",
       "Length: 100000, dtype: bool"
      ]
     },
     "execution_count": 31,
     "metadata": {},
     "output_type": "execute_result"
    }
   ],
   "source": [
    "data_2.duplicated('id')"
   ]
  },
  {
   "cell_type": "markdown",
   "metadata": {},
   "source": [
    "Дубликатов в столбце с id - уникальным идентификатором скважины не выявлено во всех трех датафреймах."
   ]
  },
  {
   "cell_type": "markdown",
   "metadata": {},
   "source": [
    "### Вывод:\n",
    "Мы ознакомились с тремя представленными регионами(датафреймами). В каждом датафрейме 5 столбцов и 100 000 записей. Пропущенных значений и дубликатов невыявлено.<br>\n",
    "\n",
    "Как мы можем наблюдать на графике, второй регион сильно отличается от двух других регионов по распределению запасов сырья, у него есть сильно выбивающиеся значения, тогда как у первого и третьего регионов относительно похожие распределния. Так же можем заметить сильную корреляцию у второго региона с целевым признаком (0.99), что хорошо отразиться на предсказания модели линейной регресии.<br>\n",
    "\n",
    "Целевым признаком является: <br>\n",
    "• product — объём запасов в скважине (тыс. баррелей)<br>\n",
    "\n",
    "Признаками являются:<br>\n",
    "• id — уникальный идентификатор скважины<br>\n",
    "• f0, f1, f2 — три признака точек"
   ]
  },
  {
   "cell_type": "markdown",
   "metadata": {},
   "source": [
    "## Обучение и проверка модели"
   ]
  },
  {
   "cell_type": "markdown",
   "metadata": {},
   "source": [
    "### Разбиваем данные на выборки"
   ]
  },
  {
   "cell_type": "code",
   "execution_count": 32,
   "metadata": {},
   "outputs": [
    {
     "name": "stdout",
     "output_type": "stream",
     "text": [
      "Размер обучающей выборки 1 региона:\n",
      "(75000, 3)\n",
      "(75000,)\n",
      "\n",
      "Размер валидационной выборки 1 региона:\n",
      "(25000, 3)\n",
      "(25000,)\n"
     ]
    }
   ],
   "source": [
    "#Объявим две переменные \n",
    "#Удалим в признаках столбец id, так как данные этого столбца не повлияют на качество и результат обучения\n",
    "#1 регион\n",
    "\n",
    "features_0 = data_0.drop(['id', 'product'], axis=1)\n",
    "target_0 = data_0['product']\n",
    "\n",
    "#Разбиваем данные на обучающую и валидационную выборки в соотношении 75:25\n",
    "features_train_0, features_valid_0, target_train_0, target_valid_0 = train_test_split(features_0, target_0, \n",
    "                                                                              test_size=0.25, random_state=12345)\n",
    "\n",
    "#Проверяем размер выборки\n",
    "print('Размер обучающей выборки 1 региона:')\n",
    "print(features_train_0.shape)\n",
    "print(target_train_0.shape)\n",
    "\n",
    "print()\n",
    "\n",
    "#Проверяем размер выборок\n",
    "print('Размер валидационной выборки 1 региона:')\n",
    "print(features_valid_0.shape)\n",
    "print(target_valid_0.shape)"
   ]
  },
  {
   "cell_type": "code",
   "execution_count": 33,
   "metadata": {},
   "outputs": [
    {
     "name": "stdout",
     "output_type": "stream",
     "text": [
      "Размер обучающей выборки 2 региона:\n",
      "(75000, 3)\n",
      "(75000,)\n",
      "\n",
      "Размер валидационной выборки 2 региона:\n",
      "(25000, 3)\n",
      "(25000,)\n"
     ]
    }
   ],
   "source": [
    "#2 регион\n",
    "features_1 = data_1.drop(['id', 'product'], axis=1)\n",
    "target_1 = data_1['product']\n",
    "\n",
    "#Разбиваем данные на обучающую и валидационную выборки в соотношении 75:25\n",
    "features_train_1, features_valid_1, target_train_1, target_valid_1 = train_test_split(features_1, target_1, \n",
    "                                                                              test_size=0.25, random_state=12345)\n",
    "\n",
    "#Проверяем размер выборки\n",
    "print('Размер обучающей выборки 2 региона:')\n",
    "print(features_train_1.shape)\n",
    "print(target_train_1.shape)\n",
    "\n",
    "print()\n",
    "\n",
    "#Проверяем размер выборок\n",
    "print('Размер валидационной выборки 2 региона:')\n",
    "print(features_valid_1.shape)\n",
    "print(target_valid_1.shape)"
   ]
  },
  {
   "cell_type": "code",
   "execution_count": 34,
   "metadata": {
    "scrolled": true
   },
   "outputs": [
    {
     "name": "stdout",
     "output_type": "stream",
     "text": [
      "Размер обучающей выборки 3 региона:\n",
      "(75000, 3)\n",
      "(75000,)\n",
      "\n",
      "Размер валидационной выборки 3 региона:\n",
      "(25000, 3)\n",
      "(25000,)\n"
     ]
    }
   ],
   "source": [
    "#3 регион\n",
    "features_2 = data_2.drop(['id', 'product'], axis=1)\n",
    "target_2 = data_2['product']\n",
    "\n",
    "#Разбиваем данные на обучающую и валидационную выборки в соотношении 75:25\n",
    "features_train_2, features_valid_2, target_train_2, target_valid_2 = train_test_split(features_2, target_2, \n",
    "                                                                              test_size=0.25, random_state=12345)\n",
    "\n",
    "#Проверяем размер выборки\n",
    "print('Размер обучающей выборки 3 региона:')\n",
    "print(features_train_2.shape)\n",
    "print(target_train_2.shape)\n",
    "\n",
    "print()\n",
    "\n",
    "#Проверяем размер выборок\n",
    "print('Размер валидационной выборки 3 региона:')\n",
    "print(features_valid_2.shape)\n",
    "print(target_valid_2.shape)"
   ]
  },
  {
   "cell_type": "markdown",
   "metadata": {},
   "source": [
    "#### Вывод:\n",
    "Мы разбили данные на обучающую и валидационную выборки в соотношении 75:25."
   ]
  },
  {
   "cell_type": "markdown",
   "metadata": {},
   "source": [
    "### Обучаем модель для каждого региона"
   ]
  },
  {
   "cell_type": "code",
   "execution_count": 35,
   "metadata": {},
   "outputs": [
    {
     "name": "stdout",
     "output_type": "stream",
     "text": [
      "RMSE модели линейной регрессии на валидационной выборке 1 региона: 37.5794217150813\n",
      "R2 на валидационной выборке 1 региона:  0.27994321524487786\n"
     ]
    }
   ],
   "source": [
    "#Обучим модель линейной регрессии на валидационной выборке, найдем RMSE и коэффициент детерминации (метрика R2)\n",
    "#1 регион\n",
    "model_0 = LinearRegression()\n",
    "model_0.fit(features_train_0, target_train_0)\n",
    "predictions_valid_0 = model_0.predict(features_valid_0) \n",
    "rmse_0 = mean_squared_error(target_valid_0, predictions_valid_0) ** 0.5 \n",
    "\n",
    "print(\"RMSE модели линейной регрессии на валидационной выборке 1 региона:\", rmse_0)\n",
    "print(\"R2 на валидационной выборке 1 региона: \", model_0.score(features_valid_0, target_valid_0))"
   ]
  },
  {
   "cell_type": "code",
   "execution_count": 36,
   "metadata": {},
   "outputs": [
    {
     "name": "stdout",
     "output_type": "stream",
     "text": [
      "RMSE модели линейной регрессии на валидационной выборке 2 региона: 0.893099286775617\n",
      "R2 на валидационной выборке 2 региона:  0.9996233978805127\n"
     ]
    }
   ],
   "source": [
    "#2 регион\n",
    "model_1 = LinearRegression()\n",
    "model_1.fit(features_train_1, target_train_1)\n",
    "predictions_valid_1 = model_1.predict(features_valid_1) \n",
    "rmse_1 = mean_squared_error(target_valid_1, predictions_valid_1) ** 0.5 \n",
    "\n",
    "print(\"RMSE модели линейной регрессии на валидационной выборке 2 региона:\", rmse_1)\n",
    "print(\"R2 на валидационной выборке 2 региона: \", model_1.score(features_valid_1, target_valid_1))"
   ]
  },
  {
   "cell_type": "code",
   "execution_count": 37,
   "metadata": {},
   "outputs": [
    {
     "name": "stdout",
     "output_type": "stream",
     "text": [
      "RMSE модели линейной регрессии на валидационной выборке 3 региона: 40.02970873393434\n",
      "R2 на валидационной выборке 3 региона:  0.20524758386040443\n"
     ]
    }
   ],
   "source": [
    "#3 регион\n",
    "model_2 = LinearRegression()\n",
    "model_2.fit(features_train_2, target_train_2)\n",
    "predictions_valid_2 = model_2.predict(features_valid_2) \n",
    "rmse_2 = mean_squared_error(target_valid_2, predictions_valid_2) ** 0.5 \n",
    "\n",
    "print(\"RMSE модели линейной регрессии на валидационной выборке 3 региона:\", rmse_2)\n",
    "print(\"R2 на валидационной выборке 3 региона: \", model_2.score(features_valid_2, target_valid_2))"
   ]
  },
  {
   "cell_type": "markdown",
   "metadata": {},
   "source": [
    "#### Вывод:\n",
    "Мы обучили модель линейной регрессии и сделали предсказания на валидационной выборке:<br>\n",
    "Наилучшими показателями обладает 2 регион, RMSE модели линейной регрессии на валидационной выборке: 0.89, R2 на валидационной выборке: 1.0. <br>\n",
    "Следующими хорошими показателями обладает 1 регион, при RMSE модели 37.58 и R2 0.28.<br>\n",
    "Замыкающим стал регион № 3 с худшими показателями: RMSE модели 40.03 и R2 0.21."
   ]
  },
  {
   "cell_type": "markdown",
   "metadata": {},
   "source": [
    "### Сохраняем предсказания и правильные ответы на валидационной выборке"
   ]
  },
  {
   "cell_type": "code",
   "execution_count": 38,
   "metadata": {},
   "outputs": [
    {
     "name": "stdout",
     "output_type": "stream",
     "text": [
      "1 регион:\n",
      " Предсказания модели: predictions_valid_0\n",
      " Правильные ответы: target_valid_0\n",
      "\n",
      "2 регион:\n",
      " Предсказания модели: predictions_valid_1\n",
      " Правильные ответы: target_valid_1\n",
      "\n",
      "3 регион:\n",
      " Предсказания модели: predictions_valid_2\n",
      " Правильные ответы: target_valid_2\n",
      "\n"
     ]
    }
   ],
   "source": [
    "print('1 регион:\\n Предсказания модели:','predictions_valid_0\\n','Правильные ответы:','target_valid_0')\n",
    "print()\n",
    "print('2 регион:\\n Предсказания модели:','predictions_valid_1\\n','Правильные ответы:','target_valid_1')\n",
    "print()\n",
    "print('3 регион:\\n Предсказания модели:','predictions_valid_2\\n','Правильные ответы:','target_valid_2')\n",
    "print()"
   ]
  },
  {
   "cell_type": "markdown",
   "metadata": {},
   "source": [
    "#### Вывод:\n",
    "Мы сохранили предсказания и правильные ответы на валидационной выборке и вывели на экран."
   ]
  },
  {
   "cell_type": "markdown",
   "metadata": {},
   "source": [
    "### Средний запас предсказанного сырья и RMSE модели"
   ]
  },
  {
   "cell_type": "code",
   "execution_count": 39,
   "metadata": {},
   "outputs": [
    {
     "data": {
      "text/html": [
       "<div>\n",
       "<style scoped>\n",
       "    .dataframe tbody tr th:only-of-type {\n",
       "        vertical-align: middle;\n",
       "    }\n",
       "\n",
       "    .dataframe tbody tr th {\n",
       "        vertical-align: top;\n",
       "    }\n",
       "\n",
       "    .dataframe thead th {\n",
       "        text-align: right;\n",
       "    }\n",
       "</style>\n",
       "<table border=\"1\" class=\"dataframe\">\n",
       "  <thead>\n",
       "    <tr style=\"text-align: right;\">\n",
       "      <th></th>\n",
       "      <th>1 регион</th>\n",
       "      <th>2 регион</th>\n",
       "      <th>3 регион</th>\n",
       "    </tr>\n",
       "  </thead>\n",
       "  <tbody>\n",
       "    <tr>\n",
       "      <th>Средний запас предсказанного сырья</th>\n",
       "      <td>92.592568</td>\n",
       "      <td>68.728547</td>\n",
       "      <td>94.965046</td>\n",
       "    </tr>\n",
       "    <tr>\n",
       "      <th>RMSE модели</th>\n",
       "      <td>37.579422</td>\n",
       "      <td>0.893099</td>\n",
       "      <td>40.029709</td>\n",
       "    </tr>\n",
       "  </tbody>\n",
       "</table>\n",
       "</div>"
      ],
      "text/plain": [
       "                                     1 регион   2 регион   3 регион\n",
       "Средний запас предсказанного сырья  92.592568  68.728547  94.965046\n",
       "RMSE модели                         37.579422   0.893099  40.029709"
      ]
     },
     "execution_count": 39,
     "metadata": {},
     "output_type": "execute_result"
    }
   ],
   "source": [
    "table_info = pd.DataFrame(index=['Средний запас предсказанного сырья', 'RMSE модели'], \n",
    "                          columns=['1 регион', '2 регион', '3 регион'])\n",
    "table_info['1 регион'] = predictions_valid_0.mean(), rmse_0\n",
    "table_info['2 регион'] = predictions_valid_1.mean(), rmse_1\n",
    "table_info['3 регион'] = predictions_valid_2.mean(), rmse_2\n",
    "table_info"
   ]
  },
  {
   "cell_type": "markdown",
   "metadata": {},
   "source": [
    "#### Вывод:\n",
    "Мы напечатали на экране средний запас предсказанного сырья и RMSE модели для каждого региона."
   ]
  },
  {
   "cell_type": "markdown",
   "metadata": {},
   "source": [
    "### Вывод:\n",
    "• Мы разбили данные на обучающую и валидационную выборки в соотношении 75:25 <br>\n",
    "• Мы обучили модель линейной регрессии и сделали предсказания на валидационной выборке: <br>\n",
    "Наилучшими показателями обладает 2 регион, RMSE модели линейной регрессии на валидационной выборке: 0.89, R2 на валидационной выборке: 1.0.<br>\n",
    "Следующими хорошими показателями обладает 1 регион, при RMSE модели 37.58 и R2 0.28.<br>\n",
    "Замыкающим стал 3 регион с худшими показателями: RMSE модели 40.03 и R2 0.21.  <br>\n",
    "\n",
    "• Мы сохранили предсказания и правильные ответы на валидационной выборке и вывели на экран <br>\n",
    "• Мы напечатали на экране средний запас предсказанного сырья и RMSE модели для каждого региона: <br>\n",
    "Наибольший средний запас предсказанного сырья приходится на 3 и 1 регионы, 94.96 и 92.59 соответственно при RMSE моделей 40.03 и 37.58 соответственно, однако наилучшее RMSE у модели региона - 0.89 при среднем запасе предсказанного сырья в 68.73."
   ]
  },
  {
   "cell_type": "markdown",
   "metadata": {},
   "source": [
    "## Подготовка к расчёту прибыли"
   ]
  },
  {
   "cell_type": "markdown",
   "metadata": {},
   "source": [
    "Условия: <br>\n",
    "• При разведке региона необходимо исследовать 500 точек, из которых с помощью машинного обучения выбрать 200 лучших для разработки.<br>\n",
    "• Бюджет на разработку скважин в регионе — 10 млрд рублей.<br>\n",
    "• При нынешних ценах один баррель сырья приносит 450 рублей дохода. Доход с каждой единицы продукта составляет 450 тыс. рублей, поскольку объём указан в тысячах баррелей.<br>\n",
    "• После оценки рисков нужно оставить лишь те регионы, в которых вероятность убытков меньше 2.5%. Среди них выбирать регион с наибольшей средней прибылью.<br>"
   ]
  },
  {
   "cell_type": "markdown",
   "metadata": {},
   "source": [
    "### Ключевые значения для расчётов в отдельных переменных"
   ]
  },
  {
   "cell_type": "code",
   "execution_count": 40,
   "metadata": {},
   "outputs": [
    {
     "name": "stdout",
     "output_type": "stream",
     "text": [
      "Цена одной скважины (млн. рублей): 50.0\n"
     ]
    }
   ],
   "source": [
    "#Бюджет на разработку скважин в регионе — 10 млрд рублей\n",
    "BUDGET = 10_000_000_000\n",
    "\n",
    "#200 точек для разработки\n",
    "WELL_POINT = 200\n",
    "\n",
    "#Доход от одного баррель сырья, тыс. рублей\n",
    "PROFIT_ONE_BARREL = 450_000\n",
    "\n",
    "#Вероятность убытков\n",
    "LOSS_PROBABILITY = 2.5/100\n",
    "\n",
    "#Считаем цену одной скважины\n",
    "PRICE_ONE_WELL = BUDGET/WELL_POINT\n",
    "\n",
    "print('Цена одной скважины (млн. рублей):', PRICE_ONE_WELL/1_000_000)"
   ]
  },
  {
   "cell_type": "code",
   "execution_count": 41,
   "metadata": {},
   "outputs": [
    {
     "name": "stdout",
     "output_type": "stream",
     "text": [
      "Средний объём запасов в скважине (тыс. баррелей) в 1 регионе:  92.5\n",
      "Средний объём запасов в скважине (тыс. баррелей) в 2 регионе:  68.83\n",
      "Средний объём запасов в скважине (тыс. баррелей) в 3 регионе:  95.0\n"
     ]
    }
   ],
   "source": [
    "#Средний запас сырья по регионам \n",
    "product_mean_0 = data_0['product'].mean()#.round(2)\n",
    "product_mean_1 = data_1['product'].mean()#.round(2)\n",
    "product_mean_2 = data_2['product'].mean()#.round(2)\n",
    "\n",
    "print('Средний объём запасов в скважине (тыс. баррелей) в 1 регионе: ', product_mean_0.round(2))\n",
    "print('Средний объём запасов в скважине (тыс. баррелей) в 2 регионе: ', product_mean_1.round(2))\n",
    "print('Средний объём запасов в скважине (тыс. баррелей) в 3 регионе: ', product_mean_2.round(2))"
   ]
  },
  {
   "cell_type": "markdown",
   "metadata": {},
   "source": [
    "#### Вывод:\n",
    "Мы сохранили все ключевые значения для расчётов в отдельных переменных."
   ]
  },
  {
   "cell_type": "markdown",
   "metadata": {},
   "source": [
    "### Рассчитываем достаточный объём сырья для безубыточной разработки новой скважины"
   ]
  },
  {
   "cell_type": "code",
   "execution_count": 42,
   "metadata": {},
   "outputs": [
    {
     "name": "stdout",
     "output_type": "stream",
     "text": [
      "Объем безубыточной одной скважины должен составлять не менее 111.11 тыс. баррелей\n"
     ]
    }
   ],
   "source": [
    "breakeven_well = PRICE_ONE_WELL/PROFIT_ONE_BARREL\n",
    "rounded = round(breakeven_well, 2)\n",
    "\n",
    "print('Объем безубыточной одной скважины должен составлять не менее', rounded, 'тыс. баррелей')"
   ]
  },
  {
   "cell_type": "markdown",
   "metadata": {},
   "source": [
    "#### Вывод:\n",
    "Мы рассчитали достаточный объём сырья для безубыточной разработки новой скважины и выяснили, что для безубыточной одной скважины объем должен составлять не менее 111.11 тыс. баррелей."
   ]
  },
  {
   "cell_type": "markdown",
   "metadata": {},
   "source": [
    "### Сравниваем полученный объём сырья со средним запасом в каждом регионе"
   ]
  },
  {
   "cell_type": "code",
   "execution_count": 43,
   "metadata": {},
   "outputs": [
    {
     "data": {
      "text/html": [
       "<div>\n",
       "<style scoped>\n",
       "    .dataframe tbody tr th:only-of-type {\n",
       "        vertical-align: middle;\n",
       "    }\n",
       "\n",
       "    .dataframe tbody tr th {\n",
       "        vertical-align: top;\n",
       "    }\n",
       "\n",
       "    .dataframe thead th {\n",
       "        text-align: right;\n",
       "    }\n",
       "</style>\n",
       "<table border=\"1\" class=\"dataframe\">\n",
       "  <thead>\n",
       "    <tr style=\"text-align: right;\">\n",
       "      <th></th>\n",
       "      <th>Сравнение полученного объема сырья со средним запасом в каждом регионе, тыс. баррелей.</th>\n",
       "    </tr>\n",
       "  </thead>\n",
       "  <tbody>\n",
       "    <tr>\n",
       "      <th>0</th>\n",
       "      <td>92.500000</td>\n",
       "    </tr>\n",
       "    <tr>\n",
       "      <th>1</th>\n",
       "      <td>68.825000</td>\n",
       "    </tr>\n",
       "    <tr>\n",
       "      <th>2</th>\n",
       "      <td>95.000000</td>\n",
       "    </tr>\n",
       "    <tr>\n",
       "      <th>3</th>\n",
       "      <td>111.111111</td>\n",
       "    </tr>\n",
       "  </tbody>\n",
       "</table>\n",
       "</div>"
      ],
      "text/plain": [
       "   Сравнение полученного объема сырья со средним запасом в каждом регионе, тыс. баррелей.\n",
       "0                                          92.500000                                     \n",
       "1                                          68.825000                                     \n",
       "2                                          95.000000                                     \n",
       "3                                         111.111111                                     "
      ]
     },
     "execution_count": 43,
     "metadata": {},
     "output_type": "execute_result"
    }
   ],
   "source": [
    "data = pd.concat([pd.DataFrame([product_mean_0, product_mean_1, product_mean_2, breakeven_well], )])\n",
    "data.columns=['Сравнение полученного объема сырья со средним запасом в каждом регионе, тыс. баррелей.']\n",
    "data"
   ]
  },
  {
   "cell_type": "markdown",
   "metadata": {},
   "source": [
    "#### Вывод:\n",
    "Мы сравнили полученный объем сырья со средним запасом в каждом регионе и, как мы можем наблюдать, ни в одном регионе нет достаточного объема сырья для безубыточной разработки новой скважины, однако можем отметить, что близкими по значению к отметке в 111.11 тыс. баррелей при котором происходит безубыточная разработка, являются первый и третий регионы, с объемами в 92.5 и 95.0 тыс. баррелей соответственно. Самым убыточным ябляется второй регион, средний объем сырья которого составляет 68.82 тыс. баррелей."
   ]
  },
  {
   "cell_type": "markdown",
   "metadata": {},
   "source": [
    "### Рассчитываем прибыль для каждого региона"
   ]
  },
  {
   "cell_type": "code",
   "execution_count": 44,
   "metadata": {},
   "outputs": [
    {
     "data": {
      "text/html": [
       "<div>\n",
       "<style scoped>\n",
       "    .dataframe tbody tr th:only-of-type {\n",
       "        vertical-align: middle;\n",
       "    }\n",
       "\n",
       "    .dataframe tbody tr th {\n",
       "        vertical-align: top;\n",
       "    }\n",
       "\n",
       "    .dataframe thead th {\n",
       "        text-align: right;\n",
       "    }\n",
       "</style>\n",
       "<table border=\"1\" class=\"dataframe\">\n",
       "  <thead>\n",
       "    <tr style=\"text-align: right;\">\n",
       "      <th></th>\n",
       "      <th>id</th>\n",
       "      <th>f0</th>\n",
       "      <th>f1</th>\n",
       "      <th>f2</th>\n",
       "      <th>product</th>\n",
       "      <th>profit</th>\n",
       "    </tr>\n",
       "  </thead>\n",
       "  <tbody>\n",
       "    <tr>\n",
       "      <th>0</th>\n",
       "      <td>txEyH</td>\n",
       "      <td>0.705745</td>\n",
       "      <td>-0.497823</td>\n",
       "      <td>1.221170</td>\n",
       "      <td>105.280062</td>\n",
       "      <td>47376027.83</td>\n",
       "    </tr>\n",
       "    <tr>\n",
       "      <th>1</th>\n",
       "      <td>2acmU</td>\n",
       "      <td>1.334711</td>\n",
       "      <td>-0.340164</td>\n",
       "      <td>4.365080</td>\n",
       "      <td>73.037750</td>\n",
       "      <td>32866987.62</td>\n",
       "    </tr>\n",
       "    <tr>\n",
       "      <th>2</th>\n",
       "      <td>409Wp</td>\n",
       "      <td>1.022732</td>\n",
       "      <td>0.151990</td>\n",
       "      <td>1.419926</td>\n",
       "      <td>85.265647</td>\n",
       "      <td>38369541.21</td>\n",
       "    </tr>\n",
       "    <tr>\n",
       "      <th>3</th>\n",
       "      <td>iJLyR</td>\n",
       "      <td>-0.032172</td>\n",
       "      <td>0.139033</td>\n",
       "      <td>2.978566</td>\n",
       "      <td>168.620776</td>\n",
       "      <td>75879349.00</td>\n",
       "    </tr>\n",
       "    <tr>\n",
       "      <th>4</th>\n",
       "      <td>Xdl7t</td>\n",
       "      <td>1.988431</td>\n",
       "      <td>0.155413</td>\n",
       "      <td>4.751769</td>\n",
       "      <td>154.036647</td>\n",
       "      <td>69316491.03</td>\n",
       "    </tr>\n",
       "  </tbody>\n",
       "</table>\n",
       "</div>"
      ],
      "text/plain": [
       "      id        f0        f1        f2     product       profit\n",
       "0  txEyH  0.705745 -0.497823  1.221170  105.280062  47376027.83\n",
       "1  2acmU  1.334711 -0.340164  4.365080   73.037750  32866987.62\n",
       "2  409Wp  1.022732  0.151990  1.419926   85.265647  38369541.21\n",
       "3  iJLyR -0.032172  0.139033  2.978566  168.620776  75879349.00\n",
       "4  Xdl7t  1.988431  0.155413  4.751769  154.036647  69316491.03"
      ]
     },
     "execution_count": 44,
     "metadata": {},
     "output_type": "execute_result"
    }
   ],
   "source": [
    "#Прибыль 1 региона\n",
    "data_0['profit']=(data_0['product']*(PROFIT_ONE_BARREL)).round(2)\n",
    "data_0.head()"
   ]
  },
  {
   "cell_type": "code",
   "execution_count": 45,
   "metadata": {
    "scrolled": true
   },
   "outputs": [
    {
     "data": {
      "text/html": [
       "<div>\n",
       "<style scoped>\n",
       "    .dataframe tbody tr th:only-of-type {\n",
       "        vertical-align: middle;\n",
       "    }\n",
       "\n",
       "    .dataframe tbody tr th {\n",
       "        vertical-align: top;\n",
       "    }\n",
       "\n",
       "    .dataframe thead th {\n",
       "        text-align: right;\n",
       "    }\n",
       "</style>\n",
       "<table border=\"1\" class=\"dataframe\">\n",
       "  <thead>\n",
       "    <tr style=\"text-align: right;\">\n",
       "      <th></th>\n",
       "      <th>id</th>\n",
       "      <th>f0</th>\n",
       "      <th>f1</th>\n",
       "      <th>f2</th>\n",
       "      <th>product</th>\n",
       "      <th>profit</th>\n",
       "      <th>ROI</th>\n",
       "    </tr>\n",
       "  </thead>\n",
       "  <tbody>\n",
       "    <tr>\n",
       "      <th>0</th>\n",
       "      <td>txEyH</td>\n",
       "      <td>0.705745</td>\n",
       "      <td>-0.497823</td>\n",
       "      <td>1.221170</td>\n",
       "      <td>105.280062</td>\n",
       "      <td>47376027.83</td>\n",
       "      <td>-5.25</td>\n",
       "    </tr>\n",
       "    <tr>\n",
       "      <th>1</th>\n",
       "      <td>2acmU</td>\n",
       "      <td>1.334711</td>\n",
       "      <td>-0.340164</td>\n",
       "      <td>4.365080</td>\n",
       "      <td>73.037750</td>\n",
       "      <td>32866987.62</td>\n",
       "      <td>-34.27</td>\n",
       "    </tr>\n",
       "    <tr>\n",
       "      <th>2</th>\n",
       "      <td>409Wp</td>\n",
       "      <td>1.022732</td>\n",
       "      <td>0.151990</td>\n",
       "      <td>1.419926</td>\n",
       "      <td>85.265647</td>\n",
       "      <td>38369541.21</td>\n",
       "      <td>-23.26</td>\n",
       "    </tr>\n",
       "    <tr>\n",
       "      <th>3</th>\n",
       "      <td>iJLyR</td>\n",
       "      <td>-0.032172</td>\n",
       "      <td>0.139033</td>\n",
       "      <td>2.978566</td>\n",
       "      <td>168.620776</td>\n",
       "      <td>75879349.00</td>\n",
       "      <td>51.76</td>\n",
       "    </tr>\n",
       "    <tr>\n",
       "      <th>4</th>\n",
       "      <td>Xdl7t</td>\n",
       "      <td>1.988431</td>\n",
       "      <td>0.155413</td>\n",
       "      <td>4.751769</td>\n",
       "      <td>154.036647</td>\n",
       "      <td>69316491.03</td>\n",
       "      <td>38.63</td>\n",
       "    </tr>\n",
       "  </tbody>\n",
       "</table>\n",
       "</div>"
      ],
      "text/plain": [
       "      id        f0        f1        f2     product       profit    ROI\n",
       "0  txEyH  0.705745 -0.497823  1.221170  105.280062  47376027.83  -5.25\n",
       "1  2acmU  1.334711 -0.340164  4.365080   73.037750  32866987.62 -34.27\n",
       "2  409Wp  1.022732  0.151990  1.419926   85.265647  38369541.21 -23.26\n",
       "3  iJLyR -0.032172  0.139033  2.978566  168.620776  75879349.00  51.76\n",
       "4  Xdl7t  1.988431  0.155413  4.751769  154.036647  69316491.03  38.63"
      ]
     },
     "execution_count": 45,
     "metadata": {},
     "output_type": "execute_result"
    }
   ],
   "source": [
    "#Рассчитаем метрику ROI (от англ. return on investments, «возврат на инвестиции»), в % для 1 региона\n",
    "data_0['ROI'] = ((data_0['profit'] - PRICE_ONE_WELL) / PRICE_ONE_WELL * 100).round(2)\n",
    "data_0.head()"
   ]
  },
  {
   "cell_type": "code",
   "execution_count": 46,
   "metadata": {},
   "outputs": [
    {
     "data": {
      "text/html": [
       "<div>\n",
       "<style scoped>\n",
       "    .dataframe tbody tr th:only-of-type {\n",
       "        vertical-align: middle;\n",
       "    }\n",
       "\n",
       "    .dataframe tbody tr th {\n",
       "        vertical-align: top;\n",
       "    }\n",
       "\n",
       "    .dataframe thead th {\n",
       "        text-align: right;\n",
       "    }\n",
       "</style>\n",
       "<table border=\"1\" class=\"dataframe\">\n",
       "  <thead>\n",
       "    <tr style=\"text-align: right;\">\n",
       "      <th></th>\n",
       "      <th>f0</th>\n",
       "      <th>f1</th>\n",
       "      <th>f2</th>\n",
       "      <th>product</th>\n",
       "      <th>profit</th>\n",
       "      <th>ROI</th>\n",
       "    </tr>\n",
       "  </thead>\n",
       "  <tbody>\n",
       "    <tr>\n",
       "      <th>count</th>\n",
       "      <td>100000.000000</td>\n",
       "      <td>100000.000000</td>\n",
       "      <td>100000.000000</td>\n",
       "      <td>100000.000000</td>\n",
       "      <td>1.000000e+05</td>\n",
       "      <td>100000.000000</td>\n",
       "    </tr>\n",
       "    <tr>\n",
       "      <th>mean</th>\n",
       "      <td>0.500419</td>\n",
       "      <td>0.250143</td>\n",
       "      <td>2.502647</td>\n",
       "      <td>92.500000</td>\n",
       "      <td>4.162500e+07</td>\n",
       "      <td>-16.750004</td>\n",
       "    </tr>\n",
       "    <tr>\n",
       "      <th>std</th>\n",
       "      <td>0.871832</td>\n",
       "      <td>0.504433</td>\n",
       "      <td>3.248248</td>\n",
       "      <td>44.288691</td>\n",
       "      <td>1.992991e+07</td>\n",
       "      <td>39.859815</td>\n",
       "    </tr>\n",
       "    <tr>\n",
       "      <th>min</th>\n",
       "      <td>-1.408605</td>\n",
       "      <td>-0.848218</td>\n",
       "      <td>-12.088328</td>\n",
       "      <td>0.000000</td>\n",
       "      <td>0.000000e+00</td>\n",
       "      <td>-100.000000</td>\n",
       "    </tr>\n",
       "    <tr>\n",
       "      <th>25%</th>\n",
       "      <td>-0.072580</td>\n",
       "      <td>-0.200881</td>\n",
       "      <td>0.287748</td>\n",
       "      <td>56.497507</td>\n",
       "      <td>2.542388e+07</td>\n",
       "      <td>-49.150000</td>\n",
       "    </tr>\n",
       "    <tr>\n",
       "      <th>50%</th>\n",
       "      <td>0.502360</td>\n",
       "      <td>0.250252</td>\n",
       "      <td>2.515969</td>\n",
       "      <td>91.849972</td>\n",
       "      <td>4.133249e+07</td>\n",
       "      <td>-17.335000</td>\n",
       "    </tr>\n",
       "    <tr>\n",
       "      <th>75%</th>\n",
       "      <td>1.073581</td>\n",
       "      <td>0.700646</td>\n",
       "      <td>4.715088</td>\n",
       "      <td>128.564089</td>\n",
       "      <td>5.785384e+07</td>\n",
       "      <td>15.710000</td>\n",
       "    </tr>\n",
       "    <tr>\n",
       "      <th>max</th>\n",
       "      <td>2.362331</td>\n",
       "      <td>1.343769</td>\n",
       "      <td>16.003790</td>\n",
       "      <td>185.364347</td>\n",
       "      <td>8.341396e+07</td>\n",
       "      <td>66.830000</td>\n",
       "    </tr>\n",
       "  </tbody>\n",
       "</table>\n",
       "</div>"
      ],
      "text/plain": [
       "                  f0             f1             f2        product  \\\n",
       "count  100000.000000  100000.000000  100000.000000  100000.000000   \n",
       "mean        0.500419       0.250143       2.502647      92.500000   \n",
       "std         0.871832       0.504433       3.248248      44.288691   \n",
       "min        -1.408605      -0.848218     -12.088328       0.000000   \n",
       "25%        -0.072580      -0.200881       0.287748      56.497507   \n",
       "50%         0.502360       0.250252       2.515969      91.849972   \n",
       "75%         1.073581       0.700646       4.715088     128.564089   \n",
       "max         2.362331       1.343769      16.003790     185.364347   \n",
       "\n",
       "             profit            ROI  \n",
       "count  1.000000e+05  100000.000000  \n",
       "mean   4.162500e+07     -16.750004  \n",
       "std    1.992991e+07      39.859815  \n",
       "min    0.000000e+00    -100.000000  \n",
       "25%    2.542388e+07     -49.150000  \n",
       "50%    4.133249e+07     -17.335000  \n",
       "75%    5.785384e+07      15.710000  \n",
       "max    8.341396e+07      66.830000  "
      ]
     },
     "execution_count": 46,
     "metadata": {},
     "output_type": "execute_result"
    }
   ],
   "source": [
    "data_0.describe()"
   ]
  },
  {
   "cell_type": "markdown",
   "metadata": {},
   "source": [
    "Как мы видим на графике, в среднем прибыль (profit) у 1 региона равняется примерно ~ 41.5 млн. рублей. Средний ROI вложений пока не окупается и в среднем уходит в минус, то есть вложения пока не окупаются. "
   ]
  },
  {
   "cell_type": "code",
   "execution_count": 47,
   "metadata": {},
   "outputs": [
    {
     "data": {
      "text/html": [
       "<div>\n",
       "<style scoped>\n",
       "    .dataframe tbody tr th:only-of-type {\n",
       "        vertical-align: middle;\n",
       "    }\n",
       "\n",
       "    .dataframe tbody tr th {\n",
       "        vertical-align: top;\n",
       "    }\n",
       "\n",
       "    .dataframe thead th {\n",
       "        text-align: right;\n",
       "    }\n",
       "</style>\n",
       "<table border=\"1\" class=\"dataframe\">\n",
       "  <thead>\n",
       "    <tr style=\"text-align: right;\">\n",
       "      <th></th>\n",
       "      <th>id</th>\n",
       "      <th>f0</th>\n",
       "      <th>f1</th>\n",
       "      <th>f2</th>\n",
       "      <th>product</th>\n",
       "      <th>profit</th>\n",
       "    </tr>\n",
       "  </thead>\n",
       "  <tbody>\n",
       "    <tr>\n",
       "      <th>0</th>\n",
       "      <td>kBEdx</td>\n",
       "      <td>-15.001348</td>\n",
       "      <td>-8.276000</td>\n",
       "      <td>-0.005876</td>\n",
       "      <td>3.179103</td>\n",
       "      <td>1430596.16</td>\n",
       "    </tr>\n",
       "    <tr>\n",
       "      <th>1</th>\n",
       "      <td>62mP7</td>\n",
       "      <td>14.272088</td>\n",
       "      <td>-3.475083</td>\n",
       "      <td>0.999183</td>\n",
       "      <td>26.953261</td>\n",
       "      <td>12128967.46</td>\n",
       "    </tr>\n",
       "    <tr>\n",
       "      <th>2</th>\n",
       "      <td>vyE1P</td>\n",
       "      <td>6.263187</td>\n",
       "      <td>-5.948386</td>\n",
       "      <td>5.001160</td>\n",
       "      <td>134.766305</td>\n",
       "      <td>60644837.32</td>\n",
       "    </tr>\n",
       "    <tr>\n",
       "      <th>3</th>\n",
       "      <td>KcrkZ</td>\n",
       "      <td>-13.081196</td>\n",
       "      <td>-11.506057</td>\n",
       "      <td>4.999415</td>\n",
       "      <td>137.945408</td>\n",
       "      <td>62075433.48</td>\n",
       "    </tr>\n",
       "    <tr>\n",
       "      <th>4</th>\n",
       "      <td>AHL4O</td>\n",
       "      <td>12.702195</td>\n",
       "      <td>-8.147433</td>\n",
       "      <td>5.004363</td>\n",
       "      <td>134.766305</td>\n",
       "      <td>60644837.32</td>\n",
       "    </tr>\n",
       "  </tbody>\n",
       "</table>\n",
       "</div>"
      ],
      "text/plain": [
       "      id         f0         f1        f2     product       profit\n",
       "0  kBEdx -15.001348  -8.276000 -0.005876    3.179103   1430596.16\n",
       "1  62mP7  14.272088  -3.475083  0.999183   26.953261  12128967.46\n",
       "2  vyE1P   6.263187  -5.948386  5.001160  134.766305  60644837.32\n",
       "3  KcrkZ -13.081196 -11.506057  4.999415  137.945408  62075433.48\n",
       "4  AHL4O  12.702195  -8.147433  5.004363  134.766305  60644837.32"
      ]
     },
     "execution_count": 47,
     "metadata": {},
     "output_type": "execute_result"
    }
   ],
   "source": [
    "#Прибыль 2 региона\n",
    "data_1['profit']=(data_1['product']*(PROFIT_ONE_BARREL)).round(2)\n",
    "data_1.head()"
   ]
  },
  {
   "cell_type": "code",
   "execution_count": 48,
   "metadata": {},
   "outputs": [
    {
     "data": {
      "text/html": [
       "<div>\n",
       "<style scoped>\n",
       "    .dataframe tbody tr th:only-of-type {\n",
       "        vertical-align: middle;\n",
       "    }\n",
       "\n",
       "    .dataframe tbody tr th {\n",
       "        vertical-align: top;\n",
       "    }\n",
       "\n",
       "    .dataframe thead th {\n",
       "        text-align: right;\n",
       "    }\n",
       "</style>\n",
       "<table border=\"1\" class=\"dataframe\">\n",
       "  <thead>\n",
       "    <tr style=\"text-align: right;\">\n",
       "      <th></th>\n",
       "      <th>id</th>\n",
       "      <th>f0</th>\n",
       "      <th>f1</th>\n",
       "      <th>f2</th>\n",
       "      <th>product</th>\n",
       "      <th>profit</th>\n",
       "      <th>ROI</th>\n",
       "    </tr>\n",
       "  </thead>\n",
       "  <tbody>\n",
       "    <tr>\n",
       "      <th>0</th>\n",
       "      <td>kBEdx</td>\n",
       "      <td>-15.001348</td>\n",
       "      <td>-8.276000</td>\n",
       "      <td>-0.005876</td>\n",
       "      <td>3.179103</td>\n",
       "      <td>1430596.16</td>\n",
       "      <td>-97.14</td>\n",
       "    </tr>\n",
       "    <tr>\n",
       "      <th>1</th>\n",
       "      <td>62mP7</td>\n",
       "      <td>14.272088</td>\n",
       "      <td>-3.475083</td>\n",
       "      <td>0.999183</td>\n",
       "      <td>26.953261</td>\n",
       "      <td>12128967.46</td>\n",
       "      <td>-75.74</td>\n",
       "    </tr>\n",
       "    <tr>\n",
       "      <th>2</th>\n",
       "      <td>vyE1P</td>\n",
       "      <td>6.263187</td>\n",
       "      <td>-5.948386</td>\n",
       "      <td>5.001160</td>\n",
       "      <td>134.766305</td>\n",
       "      <td>60644837.32</td>\n",
       "      <td>21.29</td>\n",
       "    </tr>\n",
       "    <tr>\n",
       "      <th>3</th>\n",
       "      <td>KcrkZ</td>\n",
       "      <td>-13.081196</td>\n",
       "      <td>-11.506057</td>\n",
       "      <td>4.999415</td>\n",
       "      <td>137.945408</td>\n",
       "      <td>62075433.48</td>\n",
       "      <td>24.15</td>\n",
       "    </tr>\n",
       "    <tr>\n",
       "      <th>4</th>\n",
       "      <td>AHL4O</td>\n",
       "      <td>12.702195</td>\n",
       "      <td>-8.147433</td>\n",
       "      <td>5.004363</td>\n",
       "      <td>134.766305</td>\n",
       "      <td>60644837.32</td>\n",
       "      <td>21.29</td>\n",
       "    </tr>\n",
       "  </tbody>\n",
       "</table>\n",
       "</div>"
      ],
      "text/plain": [
       "      id         f0         f1        f2     product       profit    ROI\n",
       "0  kBEdx -15.001348  -8.276000 -0.005876    3.179103   1430596.16 -97.14\n",
       "1  62mP7  14.272088  -3.475083  0.999183   26.953261  12128967.46 -75.74\n",
       "2  vyE1P   6.263187  -5.948386  5.001160  134.766305  60644837.32  21.29\n",
       "3  KcrkZ -13.081196 -11.506057  4.999415  137.945408  62075433.48  24.15\n",
       "4  AHL4O  12.702195  -8.147433  5.004363  134.766305  60644837.32  21.29"
      ]
     },
     "execution_count": 48,
     "metadata": {},
     "output_type": "execute_result"
    }
   ],
   "source": [
    "#Рассчитаем метрику ROI (от англ. return on investments, «возврат на инвестиции»), в % для 2 региона\n",
    "data_1['ROI'] = ((data_1['profit'] - PRICE_ONE_WELL) / PRICE_ONE_WELL * 100).round(2)\n",
    "data_1.head()"
   ]
  },
  {
   "cell_type": "code",
   "execution_count": 49,
   "metadata": {},
   "outputs": [
    {
     "data": {
      "text/html": [
       "<div>\n",
       "<style scoped>\n",
       "    .dataframe tbody tr th:only-of-type {\n",
       "        vertical-align: middle;\n",
       "    }\n",
       "\n",
       "    .dataframe tbody tr th {\n",
       "        vertical-align: top;\n",
       "    }\n",
       "\n",
       "    .dataframe thead th {\n",
       "        text-align: right;\n",
       "    }\n",
       "</style>\n",
       "<table border=\"1\" class=\"dataframe\">\n",
       "  <thead>\n",
       "    <tr style=\"text-align: right;\">\n",
       "      <th></th>\n",
       "      <th>f0</th>\n",
       "      <th>f1</th>\n",
       "      <th>f2</th>\n",
       "      <th>product</th>\n",
       "      <th>profit</th>\n",
       "      <th>ROI</th>\n",
       "    </tr>\n",
       "  </thead>\n",
       "  <tbody>\n",
       "    <tr>\n",
       "      <th>count</th>\n",
       "      <td>100000.000000</td>\n",
       "      <td>100000.000000</td>\n",
       "      <td>100000.000000</td>\n",
       "      <td>100000.000000</td>\n",
       "      <td>1.000000e+05</td>\n",
       "      <td>100000.000000</td>\n",
       "    </tr>\n",
       "    <tr>\n",
       "      <th>mean</th>\n",
       "      <td>1.141296</td>\n",
       "      <td>-4.796579</td>\n",
       "      <td>2.494541</td>\n",
       "      <td>68.825000</td>\n",
       "      <td>3.097125e+07</td>\n",
       "      <td>-38.057924</td>\n",
       "    </tr>\n",
       "    <tr>\n",
       "      <th>std</th>\n",
       "      <td>8.965932</td>\n",
       "      <td>5.119872</td>\n",
       "      <td>1.703572</td>\n",
       "      <td>45.944423</td>\n",
       "      <td>2.067499e+07</td>\n",
       "      <td>41.349090</td>\n",
       "    </tr>\n",
       "    <tr>\n",
       "      <th>min</th>\n",
       "      <td>-31.609576</td>\n",
       "      <td>-26.358598</td>\n",
       "      <td>-0.018144</td>\n",
       "      <td>0.000000</td>\n",
       "      <td>0.000000e+00</td>\n",
       "      <td>-100.000000</td>\n",
       "    </tr>\n",
       "    <tr>\n",
       "      <th>25%</th>\n",
       "      <td>-6.298551</td>\n",
       "      <td>-8.267985</td>\n",
       "      <td>1.000021</td>\n",
       "      <td>26.953261</td>\n",
       "      <td>1.212897e+07</td>\n",
       "      <td>-75.740000</td>\n",
       "    </tr>\n",
       "    <tr>\n",
       "      <th>50%</th>\n",
       "      <td>1.153055</td>\n",
       "      <td>-4.813172</td>\n",
       "      <td>2.011479</td>\n",
       "      <td>57.085625</td>\n",
       "      <td>2.568853e+07</td>\n",
       "      <td>-48.620000</td>\n",
       "    </tr>\n",
       "    <tr>\n",
       "      <th>75%</th>\n",
       "      <td>8.621015</td>\n",
       "      <td>-1.332816</td>\n",
       "      <td>3.999904</td>\n",
       "      <td>107.813044</td>\n",
       "      <td>4.851587e+07</td>\n",
       "      <td>-2.970000</td>\n",
       "    </tr>\n",
       "    <tr>\n",
       "      <th>max</th>\n",
       "      <td>29.421755</td>\n",
       "      <td>18.734063</td>\n",
       "      <td>5.019721</td>\n",
       "      <td>137.945408</td>\n",
       "      <td>6.207543e+07</td>\n",
       "      <td>24.150000</td>\n",
       "    </tr>\n",
       "  </tbody>\n",
       "</table>\n",
       "</div>"
      ],
      "text/plain": [
       "                  f0             f1             f2        product  \\\n",
       "count  100000.000000  100000.000000  100000.000000  100000.000000   \n",
       "mean        1.141296      -4.796579       2.494541      68.825000   \n",
       "std         8.965932       5.119872       1.703572      45.944423   \n",
       "min       -31.609576     -26.358598      -0.018144       0.000000   \n",
       "25%        -6.298551      -8.267985       1.000021      26.953261   \n",
       "50%         1.153055      -4.813172       2.011479      57.085625   \n",
       "75%         8.621015      -1.332816       3.999904     107.813044   \n",
       "max        29.421755      18.734063       5.019721     137.945408   \n",
       "\n",
       "             profit            ROI  \n",
       "count  1.000000e+05  100000.000000  \n",
       "mean   3.097125e+07     -38.057924  \n",
       "std    2.067499e+07      41.349090  \n",
       "min    0.000000e+00    -100.000000  \n",
       "25%    1.212897e+07     -75.740000  \n",
       "50%    2.568853e+07     -48.620000  \n",
       "75%    4.851587e+07      -2.970000  \n",
       "max    6.207543e+07      24.150000  "
      ]
     },
     "execution_count": 49,
     "metadata": {},
     "output_type": "execute_result"
    }
   ],
   "source": [
    "data_1.describe()"
   ]
  },
  {
   "cell_type": "markdown",
   "metadata": {},
   "source": [
    "Как можно наблюдать на графике, в среднем прибыль (profit) у 2 региона равняется примерно ~ 30 млн. рублей. Средний ROI вложений пока не окупается и в среднем уходит в минус, то есть вложения в бизнес пока не окупаются."
   ]
  },
  {
   "cell_type": "code",
   "execution_count": 50,
   "metadata": {},
   "outputs": [
    {
     "data": {
      "text/html": [
       "<div>\n",
       "<style scoped>\n",
       "    .dataframe tbody tr th:only-of-type {\n",
       "        vertical-align: middle;\n",
       "    }\n",
       "\n",
       "    .dataframe tbody tr th {\n",
       "        vertical-align: top;\n",
       "    }\n",
       "\n",
       "    .dataframe thead th {\n",
       "        text-align: right;\n",
       "    }\n",
       "</style>\n",
       "<table border=\"1\" class=\"dataframe\">\n",
       "  <thead>\n",
       "    <tr style=\"text-align: right;\">\n",
       "      <th></th>\n",
       "      <th>id</th>\n",
       "      <th>f0</th>\n",
       "      <th>f1</th>\n",
       "      <th>f2</th>\n",
       "      <th>product</th>\n",
       "      <th>profit</th>\n",
       "    </tr>\n",
       "  </thead>\n",
       "  <tbody>\n",
       "    <tr>\n",
       "      <th>0</th>\n",
       "      <td>fwXo0</td>\n",
       "      <td>-1.146987</td>\n",
       "      <td>0.963328</td>\n",
       "      <td>-0.828965</td>\n",
       "      <td>27.758673</td>\n",
       "      <td>12491402.95</td>\n",
       "    </tr>\n",
       "    <tr>\n",
       "      <th>1</th>\n",
       "      <td>WJtFt</td>\n",
       "      <td>0.262778</td>\n",
       "      <td>0.269839</td>\n",
       "      <td>-2.530187</td>\n",
       "      <td>56.069697</td>\n",
       "      <td>25231363.48</td>\n",
       "    </tr>\n",
       "    <tr>\n",
       "      <th>2</th>\n",
       "      <td>ovLUW</td>\n",
       "      <td>0.194587</td>\n",
       "      <td>0.289035</td>\n",
       "      <td>-5.586433</td>\n",
       "      <td>62.871910</td>\n",
       "      <td>28292359.52</td>\n",
       "    </tr>\n",
       "    <tr>\n",
       "      <th>3</th>\n",
       "      <td>q6cA6</td>\n",
       "      <td>2.236060</td>\n",
       "      <td>-0.553760</td>\n",
       "      <td>0.930038</td>\n",
       "      <td>114.572842</td>\n",
       "      <td>51557778.75</td>\n",
       "    </tr>\n",
       "    <tr>\n",
       "      <th>4</th>\n",
       "      <td>WPMUX</td>\n",
       "      <td>-0.515993</td>\n",
       "      <td>1.716266</td>\n",
       "      <td>5.899011</td>\n",
       "      <td>149.600746</td>\n",
       "      <td>67320335.66</td>\n",
       "    </tr>\n",
       "  </tbody>\n",
       "</table>\n",
       "</div>"
      ],
      "text/plain": [
       "      id        f0        f1        f2     product       profit\n",
       "0  fwXo0 -1.146987  0.963328 -0.828965   27.758673  12491402.95\n",
       "1  WJtFt  0.262778  0.269839 -2.530187   56.069697  25231363.48\n",
       "2  ovLUW  0.194587  0.289035 -5.586433   62.871910  28292359.52\n",
       "3  q6cA6  2.236060 -0.553760  0.930038  114.572842  51557778.75\n",
       "4  WPMUX -0.515993  1.716266  5.899011  149.600746  67320335.66"
      ]
     },
     "execution_count": 50,
     "metadata": {},
     "output_type": "execute_result"
    }
   ],
   "source": [
    "#Прибыль 3 региона\n",
    "data_2['profit']=(data_2['product']*(PROFIT_ONE_BARREL)).round(2)\n",
    "data_2.head()"
   ]
  },
  {
   "cell_type": "code",
   "execution_count": 51,
   "metadata": {},
   "outputs": [
    {
     "data": {
      "text/html": [
       "<div>\n",
       "<style scoped>\n",
       "    .dataframe tbody tr th:only-of-type {\n",
       "        vertical-align: middle;\n",
       "    }\n",
       "\n",
       "    .dataframe tbody tr th {\n",
       "        vertical-align: top;\n",
       "    }\n",
       "\n",
       "    .dataframe thead th {\n",
       "        text-align: right;\n",
       "    }\n",
       "</style>\n",
       "<table border=\"1\" class=\"dataframe\">\n",
       "  <thead>\n",
       "    <tr style=\"text-align: right;\">\n",
       "      <th></th>\n",
       "      <th>id</th>\n",
       "      <th>f0</th>\n",
       "      <th>f1</th>\n",
       "      <th>f2</th>\n",
       "      <th>product</th>\n",
       "      <th>profit</th>\n",
       "      <th>ROI</th>\n",
       "    </tr>\n",
       "  </thead>\n",
       "  <tbody>\n",
       "    <tr>\n",
       "      <th>0</th>\n",
       "      <td>fwXo0</td>\n",
       "      <td>-1.146987</td>\n",
       "      <td>0.963328</td>\n",
       "      <td>-0.828965</td>\n",
       "      <td>27.758673</td>\n",
       "      <td>12491402.95</td>\n",
       "      <td>-75.02</td>\n",
       "    </tr>\n",
       "    <tr>\n",
       "      <th>1</th>\n",
       "      <td>WJtFt</td>\n",
       "      <td>0.262778</td>\n",
       "      <td>0.269839</td>\n",
       "      <td>-2.530187</td>\n",
       "      <td>56.069697</td>\n",
       "      <td>25231363.48</td>\n",
       "      <td>-49.54</td>\n",
       "    </tr>\n",
       "    <tr>\n",
       "      <th>2</th>\n",
       "      <td>ovLUW</td>\n",
       "      <td>0.194587</td>\n",
       "      <td>0.289035</td>\n",
       "      <td>-5.586433</td>\n",
       "      <td>62.871910</td>\n",
       "      <td>28292359.52</td>\n",
       "      <td>-43.42</td>\n",
       "    </tr>\n",
       "    <tr>\n",
       "      <th>3</th>\n",
       "      <td>q6cA6</td>\n",
       "      <td>2.236060</td>\n",
       "      <td>-0.553760</td>\n",
       "      <td>0.930038</td>\n",
       "      <td>114.572842</td>\n",
       "      <td>51557778.75</td>\n",
       "      <td>3.12</td>\n",
       "    </tr>\n",
       "    <tr>\n",
       "      <th>4</th>\n",
       "      <td>WPMUX</td>\n",
       "      <td>-0.515993</td>\n",
       "      <td>1.716266</td>\n",
       "      <td>5.899011</td>\n",
       "      <td>149.600746</td>\n",
       "      <td>67320335.66</td>\n",
       "      <td>34.64</td>\n",
       "    </tr>\n",
       "  </tbody>\n",
       "</table>\n",
       "</div>"
      ],
      "text/plain": [
       "      id        f0        f1        f2     product       profit    ROI\n",
       "0  fwXo0 -1.146987  0.963328 -0.828965   27.758673  12491402.95 -75.02\n",
       "1  WJtFt  0.262778  0.269839 -2.530187   56.069697  25231363.48 -49.54\n",
       "2  ovLUW  0.194587  0.289035 -5.586433   62.871910  28292359.52 -43.42\n",
       "3  q6cA6  2.236060 -0.553760  0.930038  114.572842  51557778.75   3.12\n",
       "4  WPMUX -0.515993  1.716266  5.899011  149.600746  67320335.66  34.64"
      ]
     },
     "execution_count": 51,
     "metadata": {},
     "output_type": "execute_result"
    }
   ],
   "source": [
    "#Рассчитаем метрику ROI (от англ. return on investments, «возврат на инвестиции»), в % для 1 региона\n",
    "data_2['ROI'] = ((data_2['profit'] - PRICE_ONE_WELL) / PRICE_ONE_WELL * 100).round(2)\n",
    "data_2.head()"
   ]
  },
  {
   "cell_type": "code",
   "execution_count": 52,
   "metadata": {},
   "outputs": [
    {
     "data": {
      "text/html": [
       "<div>\n",
       "<style scoped>\n",
       "    .dataframe tbody tr th:only-of-type {\n",
       "        vertical-align: middle;\n",
       "    }\n",
       "\n",
       "    .dataframe tbody tr th {\n",
       "        vertical-align: top;\n",
       "    }\n",
       "\n",
       "    .dataframe thead th {\n",
       "        text-align: right;\n",
       "    }\n",
       "</style>\n",
       "<table border=\"1\" class=\"dataframe\">\n",
       "  <thead>\n",
       "    <tr style=\"text-align: right;\">\n",
       "      <th></th>\n",
       "      <th>f0</th>\n",
       "      <th>f1</th>\n",
       "      <th>f2</th>\n",
       "      <th>product</th>\n",
       "      <th>profit</th>\n",
       "      <th>ROI</th>\n",
       "    </tr>\n",
       "  </thead>\n",
       "  <tbody>\n",
       "    <tr>\n",
       "      <th>count</th>\n",
       "      <td>100000.000000</td>\n",
       "      <td>100000.000000</td>\n",
       "      <td>100000.000000</td>\n",
       "      <td>100000.000000</td>\n",
       "      <td>1.000000e+05</td>\n",
       "      <td>100000.000000</td>\n",
       "    </tr>\n",
       "    <tr>\n",
       "      <th>mean</th>\n",
       "      <td>0.002023</td>\n",
       "      <td>-0.002081</td>\n",
       "      <td>2.495128</td>\n",
       "      <td>95.000000</td>\n",
       "      <td>4.275000e+07</td>\n",
       "      <td>-14.500000</td>\n",
       "    </tr>\n",
       "    <tr>\n",
       "      <th>std</th>\n",
       "      <td>1.732045</td>\n",
       "      <td>1.730417</td>\n",
       "      <td>3.473445</td>\n",
       "      <td>44.749921</td>\n",
       "      <td>2.013746e+07</td>\n",
       "      <td>40.274918</td>\n",
       "    </tr>\n",
       "    <tr>\n",
       "      <th>min</th>\n",
       "      <td>-8.760004</td>\n",
       "      <td>-7.084020</td>\n",
       "      <td>-11.970335</td>\n",
       "      <td>0.000000</td>\n",
       "      <td>0.000000e+00</td>\n",
       "      <td>-100.000000</td>\n",
       "    </tr>\n",
       "    <tr>\n",
       "      <th>25%</th>\n",
       "      <td>-1.162288</td>\n",
       "      <td>-1.174820</td>\n",
       "      <td>0.130359</td>\n",
       "      <td>59.450441</td>\n",
       "      <td>2.675270e+07</td>\n",
       "      <td>-46.490000</td>\n",
       "    </tr>\n",
       "    <tr>\n",
       "      <th>50%</th>\n",
       "      <td>0.009424</td>\n",
       "      <td>-0.009482</td>\n",
       "      <td>2.484236</td>\n",
       "      <td>94.925613</td>\n",
       "      <td>4.271653e+07</td>\n",
       "      <td>-14.570000</td>\n",
       "    </tr>\n",
       "    <tr>\n",
       "      <th>75%</th>\n",
       "      <td>1.158535</td>\n",
       "      <td>1.163678</td>\n",
       "      <td>4.858794</td>\n",
       "      <td>130.595027</td>\n",
       "      <td>5.876776e+07</td>\n",
       "      <td>17.540000</td>\n",
       "    </tr>\n",
       "    <tr>\n",
       "      <th>max</th>\n",
       "      <td>7.238262</td>\n",
       "      <td>7.844801</td>\n",
       "      <td>16.739402</td>\n",
       "      <td>190.029838</td>\n",
       "      <td>8.551343e+07</td>\n",
       "      <td>71.030000</td>\n",
       "    </tr>\n",
       "  </tbody>\n",
       "</table>\n",
       "</div>"
      ],
      "text/plain": [
       "                  f0             f1             f2        product  \\\n",
       "count  100000.000000  100000.000000  100000.000000  100000.000000   \n",
       "mean        0.002023      -0.002081       2.495128      95.000000   \n",
       "std         1.732045       1.730417       3.473445      44.749921   \n",
       "min        -8.760004      -7.084020     -11.970335       0.000000   \n",
       "25%        -1.162288      -1.174820       0.130359      59.450441   \n",
       "50%         0.009424      -0.009482       2.484236      94.925613   \n",
       "75%         1.158535       1.163678       4.858794     130.595027   \n",
       "max         7.238262       7.844801      16.739402     190.029838   \n",
       "\n",
       "             profit            ROI  \n",
       "count  1.000000e+05  100000.000000  \n",
       "mean   4.275000e+07     -14.500000  \n",
       "std    2.013746e+07      40.274918  \n",
       "min    0.000000e+00    -100.000000  \n",
       "25%    2.675270e+07     -46.490000  \n",
       "50%    4.271653e+07     -14.570000  \n",
       "75%    5.876776e+07      17.540000  \n",
       "max    8.551343e+07      71.030000  "
      ]
     },
     "execution_count": 52,
     "metadata": {},
     "output_type": "execute_result"
    }
   ],
   "source": [
    "data_2.describe()"
   ]
  },
  {
   "cell_type": "markdown",
   "metadata": {},
   "source": [
    "Как можно заметить, в среднем прибыль (profit) у 3 региона равняется примерно ~ 42.7 млн. рублей. Средний ROI вложений пока не окупается и в среднем уходит в минус, то есть вложения в бизнес пока не окупаются."
   ]
  },
  {
   "cell_type": "markdown",
   "metadata": {},
   "source": [
    "### Вывод:\n",
    "* Мы сохранили все ключевые значения для расчётов в отдельных переменных <br>\n",
    "* Мы рассчитали достаточный объём сырья для безубыточной разработки новой скважины и выяснили, что для безубыточной одной скважины объем должен составлять не менее 111.11 тыс. баррелей <br>\n",
    "* Мы сравнили полученный объем сырья со средним запасом в каждом регионе:<br>\n",
    "\n",
    "-ни в одном регионе нет достаточного объема сырья для безубыточной разработки новой скважины; <br>\n",
    "\n",
    "-близкими по значению к отметке в 111.11 тыс. баррелей при котором происходит безубыточная разработка, являются 1 и 3 регионы, с объемами в 92.5 и 95.0 тыс. баррелей соответственно;<br>\n",
    "\n",
    "-самым убыточным является второй регион, средний объем сырья которого составляет 68.82 тыс. баррелей.<br>\n",
    "\n",
    "* Мы рассчитали прибыль для каждого региона на основе предыдущих вычислений:<br>\n",
    "\n",
    "-в среднем прибыль (profit) у 1 региона равняется примерно ~ 41.5 млн. рублей. Средний ROI вложений пока не окупается и в среднем уходит в минус, то есть вложения пока не окупаются;<br>\n",
    "\n",
    "-в среднем прибыль у 2 региона равняется примерно ~ 30 млн. рублей. Средний ROI вложений пока не окупается и в среднем уходит в минус, то есть вложения в бизнес пока не окупаются;<br>\n",
    "\n",
    "-в среднем прибыль у 3 региона равняется примерно ~ 42.7 млн. рублей. Средний ROI вложений пока не окупается и в среднем уходит в минус, то есть вложения в бизнес пока не окупаются.<br>\n",
    "\n",
    "На основе полученных данных, можно сказать, что прибыльными для бизнеса являются 1 и 3 регионы, они близки по значениям к безубыточной разработке, а так же являются самыми прибыльными регионами, лидером выступает 3 регион с объемом разработки 95.0 тыс. баррелей и прыблью в ~ 42.7 млн. рублей."
   ]
  },
  {
   "cell_type": "markdown",
   "metadata": {},
   "source": [
    "## Функция для расчёта прибыли по выбранным скважинам и предсказаниям модели "
   ]
  },
  {
   "cell_type": "markdown",
   "metadata": {},
   "source": [
    "### Выбираем скважины с максимальными значениями предсказаний"
   ]
  },
  {
   "cell_type": "code",
   "execution_count": 53,
   "metadata": {},
   "outputs": [
    {
     "data": {
      "text/plain": [
       "93073    180.180713\n",
       "46784    176.252213\n",
       "78948    175.850623\n",
       "43388    175.658429\n",
       "6496     173.299686\n",
       "            ...    \n",
       "30488    148.507064\n",
       "98799    148.481767\n",
       "53840    148.476498\n",
       "4638     148.436761\n",
       "75908    148.365941\n",
       "Length: 200, dtype: float64"
      ]
     },
     "execution_count": 53,
     "metadata": {},
     "output_type": "execute_result"
    }
   ],
   "source": [
    "#Привяжем индексы скважин к предсказаниям модели и отсорируем список по убыванию\n",
    "predict_sorted_0 = pd.Series(predictions_valid_0, index=target_valid_0.index).sort_values(ascending=False)\n",
    "predict_sorted_0\n",
    "\n",
    "#Выберем 200 точек с максимальными предсказаниями \n",
    "top_of_max_0 = predict_sorted_0[:200]\n",
    "top_of_max_0"
   ]
  },
  {
   "cell_type": "markdown",
   "metadata": {},
   "source": [
    "#### Вывод:\n",
    "Мы отобрали 200 скважин с максимальными значениями предсказаний."
   ]
  },
  {
   "cell_type": "markdown",
   "metadata": {},
   "source": [
    "### Просуммируем целевое значение объёма сырья, соответствующее этим предсказаниям"
   ]
  },
  {
   "cell_type": "code",
   "execution_count": 54,
   "metadata": {},
   "outputs": [
    {
     "name": "stdout",
     "output_type": "stream",
     "text": [
      "Суммарный объем запасов в 200 лучших скважинах составляет: 31102.33 тыс. баррелей\n"
     ]
    }
   ],
   "source": [
    "#Находим суммарный объем 200 точек с максимальными предсказаниями \n",
    "top_of_max_0_sum = top_of_max_0.sum()\n",
    "print('Суммарный объем запасов в 200 лучших скважинах составляет:', top_of_max_0_sum.round(2), 'тыс. баррелей')"
   ]
  },
  {
   "cell_type": "markdown",
   "metadata": {},
   "source": [
    "#### Вывод:\n",
    "Мы просуммировали целевое значение объёма сырья, соответствующее предсказаниям: <br>\n",
    "* Суммарный объем запасов в 200 лучших скважинах составляет: 31102.33 тыс. баррелей."
   ]
  },
  {
   "cell_type": "markdown",
   "metadata": {},
   "source": [
    "### Рассчитаем прибыль для полученного объёма сырья"
   ]
  },
  {
   "cell_type": "code",
   "execution_count": 55,
   "metadata": {},
   "outputs": [
    {
     "name": "stdout",
     "output_type": "stream",
     "text": [
      "Общая прибыль для полученного объёма сырья составляет: 3996048877.47 млрд. рублей\n"
     ]
    }
   ],
   "source": [
    "#Рассчитаем прибыль для полученного объёма сырья\n",
    "profit_total_0= (top_of_max_0_sum * PROFIT_ONE_BARREL) - BUDGET\n",
    "print('Общая прибыль для полученного объёма сырья составляет:', profit_total_0.round(2), 'млрд. рублей')"
   ]
  },
  {
   "cell_type": "code",
   "execution_count": 56,
   "metadata": {},
   "outputs": [],
   "source": [
    "#Напишем функцию для расчёта прибыли по выбранным скважинам и предсказаниям модели\n",
    "def total_of_profit(predict, target, count):\n",
    "    predict_sorted = pd.Series(predict, index=target.index).sort_values(ascending=False)\n",
    "    top_of_max = predict_sorted[:count].sum()\n",
    "    profit_total=(top_of_max * PROFIT_ONE_BARREL) - BUDGET\n",
    "    print('Суммарный объем запасов в 200 лучших скважинах составляет:', top_of_max.round(2), 'тыс. баррелей')\n",
    "    print('Общая прибыль для полученного объёма сырья составляет:', profit_total.round(2), 'млрд. рублей')"
   ]
  },
  {
   "cell_type": "code",
   "execution_count": 57,
   "metadata": {},
   "outputs": [
    {
     "name": "stdout",
     "output_type": "stream",
     "text": [
      "Суммарный объем запасов в 200 лучших скважинах составляет: 31102.33 тыс. баррелей\n",
      "Общая прибыль для полученного объёма сырья составляет: 3996048877.47 млрд. рублей\n"
     ]
    }
   ],
   "source": [
    "#Прибыль 1 региона\n",
    "total_of_profit(predictions_valid_0, target_valid_0, 200)"
   ]
  },
  {
   "cell_type": "code",
   "execution_count": 58,
   "metadata": {},
   "outputs": [
    {
     "name": "stdout",
     "output_type": "stream",
     "text": [
      "Суммарный объем запасов в 200 лучших скважинах составляет: 27746.03 тыс. баррелей\n",
      "Общая прибыль для полученного объёма сырья составляет: 2485712051.97 млрд. рублей\n"
     ]
    }
   ],
   "source": [
    "#Прибыль 2 региона\n",
    "total_of_profit(predictions_valid_1, target_valid_1, 200)"
   ]
  },
  {
   "cell_type": "code",
   "execution_count": 59,
   "metadata": {},
   "outputs": [
    {
     "name": "stdout",
     "output_type": "stream",
     "text": [
      "Суммарный объем запасов в 200 лучших скважинах составляет: 29603.9 тыс. баррелей\n",
      "Общая прибыль для полученного объёма сырья составляет: 3321754396.24 млрд. рублей\n"
     ]
    }
   ],
   "source": [
    "#Прибыль 3 региона\n",
    "total_of_profit(predictions_valid_2, target_valid_2, 200)"
   ]
  },
  {
   "cell_type": "markdown",
   "metadata": {},
   "source": [
    "#### Вывод:\n",
    "Мы рассчитали прибыль для полученного объёма сырья и написали функцию для расчёта прибыли по выбранным скважинам и предсказаниям модели."
   ]
  },
  {
   "cell_type": "markdown",
   "metadata": {},
   "source": [
    "### Вывод:\n",
    "* Мы отобрали 200 скважин с максимальными значениями предсказаний<br>\n",
    "* Мы просуммировали целевое значение объёма сырья, соответствующее предсказаниям<br>\n",
    "\n",
    "* Мы рассчитали прибыль для полученного объёма сырья<br>\n",
    "* Написали функцию для расчёта прибыли по выбранным скважинам и предсказаниям модели:<br>\n",
    "\n",
    "-1 регион: <br>\n",
    "Суммарный объем запасов в 200 лучших скважинах составляет: 31102.33 тыс. баррелей<br>\n",
    "Общая прибыль для полученного объёма сырья составляет: 4 млрд. рублей<br>\n",
    "\n",
    "-2 регион:<br>\n",
    "Суммарный объем запасов в 200 лучших скважинах составляет: 27746.03 тыс. баррелей<br>\n",
    "Общая прибыль для полученного объёма сырья составляет: 2.5 млрд. рублей<br>\n",
    "\n",
    "-3 регион:<br>\n",
    "Суммарный объем запасов в 200 лучших скважинах составляет: 29603.9 тыс. баррелей<br>\n",
    "Общая прибыль для полученного объёма сырья составляет: 3.3 млрд. рублей<br>\n",
    "\n",
    "Как мы можем наблюдать, лидерами по суммарному объему запасов в 200  лучших скважинах и общей прибыли для полученного объма сырья выступают 1 и 3 регионы, с показателями в 31102.33 тыс. баррелей и 29603.9 тыс. баррелей, 4 млрд. рублей и 3.3 млрд. руюлей соответственно. "
   ]
  },
  {
   "cell_type": "markdown",
   "metadata": {},
   "source": [
    "## Расчёт прибыли и рисков "
   ]
  },
  {
   "cell_type": "code",
   "execution_count": 60,
   "metadata": {},
   "outputs": [],
   "source": [
    "def profit(predict, target, count):\n",
    "    predict_sorted = pd.Series(predict).sort_values(ascending=False)\n",
    "    target_sorted = target[predict_sorted.index][:count]\n",
    "    product = target_sorted.sum()\n",
    "    revenue = product * PROFIT_ONE_BARREL\n",
    "    return revenue - BUDGET"
   ]
  },
  {
   "cell_type": "code",
   "execution_count": 61,
   "metadata": {},
   "outputs": [],
   "source": [
    "#Применяем технику Bootstrap с 1000 выборок, чтобы найти распределение прибыли\n",
    "#и находим айдите среднюю прибыль, 95%-й доверительный интервал и риск убытков\n",
    "#Убыток — это отрицательная прибыль\n",
    "def bootstrap(target, predict):\n",
    "    values = []\n",
    "    count=0\n",
    "    state = np.random.RandomState(12345)\n",
    "    predict_e = pd.Series(predict, index=target.index)\n",
    "    \n",
    "    for i in tqdm(range(1000)):\n",
    "        target_subsample = target.sample(n=500, replace=True, random_state=state)\n",
    "        probs_subsample = predict_e[target_subsample.index]\n",
    "        values.append(profit(probs_subsample, target_subsample, 200))\n",
    "        \n",
    "    for i in values:\n",
    "        if i < 0:\n",
    "            count +=1\n",
    "            \n",
    "    values = pd.Series(values)\n",
    "    mean = values.mean()\n",
    "    confidence_interval = st.t.interval(0.95, len(values)-1, values.mean(), values.sem())\n",
    "    \n",
    "    plt.title('Распределение прибыли')\n",
    "    values.plot(kind=\"hist\", grid=True, figsize=(10, 5))\n",
    "    plt.xlabel('Прибыль, млрд. рублей')\n",
    "    plt.ylabel('Объем')\n",
    "    plt.show()\n",
    "    \n",
    "    lower = values.quantile(0.025)\n",
    "    upper = values.quantile(0.975)\n",
    "    \n",
    "    print(\"Средняя прибыль: {:.2f} млн.руб\".format(mean/1000000))\n",
    "    print('С вероятностью 95% прибыль в данном регионе будет составлять от: {:.2f} млн.руб до: {:.2f} млн.руб'.format((lower/1000000),(upper/1000000)))\n",
    "    print(\"95%-ый доверительный интервал: от {:.2f} млн.руб до {:.2f} млн.руб\". format((confidence_interval[0]/1000000),(confidence_interval[1]/1000000)))\n",
    "    print ('Процент вероятности убытка в данном регионе составит {:.1%}'.format(count/1000))"
   ]
  },
  {
   "cell_type": "code",
   "execution_count": 62,
   "metadata": {},
   "outputs": [
    {
     "data": {
      "application/vnd.jupyter.widget-view+json": {
       "model_id": "07052abdc2004ad0a8cb71daf6e1eb98",
       "version_major": 2,
       "version_minor": 0
      },
      "text/plain": [
       "  0%|          | 0/1000 [00:00<?, ?it/s]"
      ]
     },
     "metadata": {},
     "output_type": "display_data"
    },
    {
     "data": {
      "image/png": "[encoded data removed]",
      "text/plain": [
       "<Figure size 720x360 with 1 Axes>"
      ]
     },
     "metadata": {
      "needs_background": "light"
     },
     "output_type": "display_data"
    },
    {
     "name": "stdout",
     "output_type": "stream",
     "text": [
      "Средняя прибыль: 425.94 млн.руб\n",
      "С вероятностью 95% прибыль в данном регионе будет составлять от: -102.09 млн.руб до: 947.98 млн.руб\n",
      "95%-ый доверительный интервал: от 408.73 млн.руб до 443.14 млн.руб\n",
      "Процент вероятности убытка в данном регионе составит 6.0%\n"
     ]
    }
   ],
   "source": [
    "#Расчёт прибыли и рисков 1 региона\n",
    "bootstrap(target_valid_0, predictions_valid_0)"
   ]
  },
  {
   "cell_type": "code",
   "execution_count": 63,
   "metadata": {},
   "outputs": [
    {
     "data": {
      "application/vnd.jupyter.widget-view+json": {
       "model_id": "7517ffb30bd2435b8af554e6c0236723",
       "version_major": 2,
       "version_minor": 0
      },
      "text/plain": [
       "  0%|          | 0/1000 [00:00<?, ?it/s]"
      ]
     },
     "metadata": {},
     "output_type": "display_data"
    },
    {
     "data": {
      "image/png": "[encoded data removed]",
      "text/plain": [
       "<Figure size 720x360 with 1 Axes>"
      ]
     },
     "metadata": {
      "needs_background": "light"
     },
     "output_type": "display_data"
    },
    {
     "name": "stdout",
     "output_type": "stream",
     "text": [
      "Средняя прибыль: 515.22 млн.руб\n",
      "С вероятностью 95% прибыль в данном регионе будет составлять от: 68.87 млн.руб до: 931.55 млн.руб\n",
      "95%-ый доверительный интервал: от 501.62 млн.руб до 528.82 млн.руб\n",
      "Процент вероятности убытка в данном регионе составит 1.0%\n"
     ]
    }
   ],
   "source": [
    "#Расчёт прибыли и рисков 2 региона\n",
    "bootstrap(target_valid_1, predictions_valid_1)"
   ]
  },
  {
   "cell_type": "code",
   "execution_count": 64,
   "metadata": {},
   "outputs": [
    {
     "data": {
      "application/vnd.jupyter.widget-view+json": {
       "model_id": "5e8d6d0dd620495f85e8debadfb470f3",
       "version_major": 2,
       "version_minor": 0
      },
      "text/plain": [
       "  0%|          | 0/1000 [00:00<?, ?it/s]"
      ]
     },
     "metadata": {},
     "output_type": "display_data"
    },
    {
     "data": {
      "image/png": "[encoded data removed]",
      "text/plain": [
       "<Figure size 720x360 with 1 Axes>"
      ]
     },
     "metadata": {
      "needs_background": "light"
     },
     "output_type": "display_data"
    },
    {
     "name": "stdout",
     "output_type": "stream",
     "text": [
      "Средняя прибыль: 435.01 млн.руб\n",
      "С вероятностью 95% прибыль в данном регионе будет составлять от: -128.88 млн.руб до: 969.71 млн.руб\n",
      "95%-ый доверительный интервал: от 417.45 млн.руб до 452.56 млн.руб\n",
      "Процент вероятности убытка в данном регионе составит 6.4%\n"
     ]
    }
   ],
   "source": [
    "#Расчёт прибыли и рисков 3 региона\n",
    "bootstrap(target_valid_2, predictions_valid_2)"
   ]
  },
  {
   "cell_type": "code",
   "execution_count": 65,
   "metadata": {
    "scrolled": true
   },
   "outputs": [
    {
     "data": {
      "text/html": [
       "<div>\n",
       "<style scoped>\n",
       "    .dataframe tbody tr th:only-of-type {\n",
       "        vertical-align: middle;\n",
       "    }\n",
       "\n",
       "    .dataframe tbody tr th {\n",
       "        vertical-align: top;\n",
       "    }\n",
       "\n",
       "    .dataframe thead th {\n",
       "        text-align: right;\n",
       "    }\n",
       "</style>\n",
       "<table border=\"1\" class=\"dataframe\">\n",
       "  <thead>\n",
       "    <tr style=\"text-align: right;\">\n",
       "      <th></th>\n",
       "      <th>1 регион</th>\n",
       "      <th>2 регион</th>\n",
       "      <th>3 регион</th>\n",
       "    </tr>\n",
       "  </thead>\n",
       "  <tbody>\n",
       "    <tr>\n",
       "      <th>Средняя прибыль в регионе, млн. руб.</th>\n",
       "      <td>425.94</td>\n",
       "      <td>515.22</td>\n",
       "      <td>435.01</td>\n",
       "    </tr>\n",
       "    <tr>\n",
       "      <th>Суммарный объем запасов, тыс. бар.</th>\n",
       "      <td>31102.33</td>\n",
       "      <td>27746.03</td>\n",
       "      <td>29603.9</td>\n",
       "    </tr>\n",
       "    <tr>\n",
       "      <th>Вероятность убытка, %</th>\n",
       "      <td>6.0</td>\n",
       "      <td>1.0</td>\n",
       "      <td>6.4</td>\n",
       "    </tr>\n",
       "  </tbody>\n",
       "</table>\n",
       "</div>"
      ],
      "text/plain": [
       "                                      1 регион  2 регион 3 регион\n",
       "Средняя прибыль в регионе, млн. руб.    425.94    515.22   435.01\n",
       "Суммарный объем запасов, тыс. бар.    31102.33  27746.03  29603.9\n",
       "Вероятность убытка, %                      6.0       1.0      6.4"
      ]
     },
     "execution_count": 65,
     "metadata": {},
     "output_type": "execute_result"
    }
   ],
   "source": [
    "#Напечатаем на экране основные характеристики для каждого региона \n",
    "#и выберем регион с наименьшей вероятностью убытков\n",
    "table_info_2 = pd.DataFrame(index=['Средняя прибыль в регионе, млн. руб.', 'Суммарный объем запасов, тыс. бар.', 'Вероятность убытка, %'], \n",
    "                          columns=['1 регион', '2 регион', '3 регион'])\n",
    "table_info_2['1 регион'] = '425.94', '31102.33', '6.0'\n",
    "table_info_2['2 регион'] = '515.22', '27746.03', '1.0'\n",
    "table_info_2['3 регион'] = '435.01', '29603.9', '6.4'\n",
    "table_info_2"
   ]
  },
  {
   "cell_type": "markdown",
   "metadata": {},
   "source": [
    "#### Вывод:\n",
    "Абсолютным лидером, у которого вероятность убытков составляет менее 2.5% и средняя прибыль приходится самой большой среди двух других регионов, является 2 регион с вероятностью убытков в 1 %, средней прибылью в регионе 515.22 млн. рублей и суммарным объемом запасов сырья 27746.03 тыс. баррелей."
   ]
  },
  {
   "cell_type": "markdown",
   "metadata": {},
   "source": [
    "### Вывод:\n",
    "* Мы посчитали риски и прибыль для каждого региона <br>\n",
    "* Применили технику Bootstrap с 1000 выборок, чтобы найти распределение прибыли<br>\n",
    "* Нашли среднюю прибыль, 95%-й доверительный интервал и риск убытков<br>\n",
    "* Предложили регион для разработки скважин и обосновали выбор:<br>\n",
    "\n",
    "Благодаря технике бутстреп, мы выявили лидера и нашли регион, где можно бурить новую скважину с минимальными потерями и высокой прибылью, данным регионом является 2 регион, с вероятностью убытков в 1 %, средней прибылью в регионе 515.22 млн. рублей и суммарным объемом запасов сырья 27746.03 тыс. баррелей. "
   ]
  },
  {
   "cell_type": "markdown",
   "metadata": {},
   "source": [
    "## Общий вывод:\n",
    "1. Мы ознакомились с представленным датафреймом и провели предобработку данных <br>\n",
    "2. Мы разбили данные на обучающую и валидационную выборки в соотношении 75:25 <br>\n",
    "3. Мы обучили модель линейной регрессии и сделали предсказания на валидационной выборке: <br>\n",
    "* Наилучшими показателями обладает 2 регион, RMSE модели линейной регрессии на валидационной выборке: 0.89, R2 на валидационной выборке: 1.0. <br>\n",
    "\n",
    "* Следующими хорошими показателями обладает 1 регион, при RMSE модели 37.58 и R2 0.28. <br>\n",
    "\n",
    "* Замыкающим стал 3 регион с худшими показателями: RMSE модели 40.03 и R2 0.21. <br>\n",
    "\n",
    "\n",
    "4. Мы сохранили предсказания и правильные ответы на валидационной выборке и вывели на экран <br>\n",
    "5. Мы напечатали на экране средний запас предсказанного сырья и RMSE модели для каждого региона: <br> \n",
    "* Наибольший средний запас предсказанного сырья приходится на 3 и 1 регионы, 94.96 и 92.59 соответственно при RMSE моделей 40.03 и 37.58 соответственно, однако наилучшее RMSE у модели региона - 0.89 при среднем запасе предсказанного сырья в 68.73. <br>\n",
    "\n",
    "\n",
    "6. Мы сохранили все ключевые значения для расчётов в отдельных переменных <br>\n",
    "7. Мы рассчитали достаточный объём сырья для безубыточной разработки новой скважины и выяснили, что для безубыточной одной скважины объем должен составлять не менее 111.11 тыс. баррелей <br>\n",
    "8. Мы сравнили полученный объем сырья со средним запасом в каждом регионе: <br>\n",
    "* ни в одном регионе нет достаточного объема сырья для безубыточной разработки новой скважины; <br>\n",
    "\n",
    "* близкими по значению к отметке в 111.11 тыс. баррелей при котором происходит безубыточная разработка, являются 1 и 3 регионы, с объемами в 92.5 и 95.0 тыс. баррелей соответственно; <br>\n",
    "\n",
    "* самым убыточным является второй регион, средний объем сырья которого составляет 68.82 тыс. баррелей. <br>\n",
    "\n",
    "\n",
    "9. Мы рассчитали прибыль для каждого региона на основе предыдущих вычислений: <br>\n",
    "* в среднем прибыль (profit) у 1 региона равняется примерно ~ 41.5 млн. рублей. Средний ROI вложений пока не окупается и в среднем уходит в минус, то есть вложения пока не окупаются; <br>\n",
    "\n",
    "* в среднем прибыль у 2 региона равняется примерно ~ 30 млн. рублей. Средний ROI вложений пока не окупается и в среднем уходит в минус, то есть вложения в бизнес пока не окупаются; <br>\n",
    "\n",
    "* в среднем прибыль у 3 региона равняется примерно ~ 42.7 млн. рублей. Средний ROI вложений пока не окупается и в среднем уходит в минус, то есть вложения в бизнес пока не окупаются. <br>\n",
    "\n",
    "\n",
    "10.\tМы отобрали 200 скважин с максимальными значениями предсказаний <br>\n",
    "11.\tМы просуммировали целевое значение объёма сырья, соответствующее предсказаниям <br>\n",
    "12.\tМы рассчитали прибыль для полученного объёма сырья <br>\n",
    "13.\tНаписали функцию для расчёта прибыли по выбранным скважинам и предсказаниям модели: <br>\n",
    "* 1 регион: <br>\n",
    "Суммарный объем запасов в 200 лучших скважинах составляет: 31102.33 тыс. баррелей <br>\n",
    "Общая прибыль для полученного объёма сырья составляет: 4 млрд. рублей <br>\n",
    "\n",
    "* 2 регион: <br>\n",
    "Суммарный объем запасов в 200 лучших скважинах составляет: 27746.03 тыс. баррелей <br>\n",
    "Общая прибыль для полученного объёма сырья составляет: 2.5 млрд. рублей <br>\n",
    "\n",
    "* 3 регион: <br>\n",
    "Суммарный объем запасов в 200 лучших скважинах составляет: 29603.9 тыс. баррелей <br>\n",
    "Общая прибыль для полученного объёма сырья составляет: 3.3 млрд. рублей <br>\n",
    "\n",
    "\n",
    "14. Мы посчитали риски и прибыль для каждого региона <br>\n",
    "15. Применили технику Bootstrap с 1000 выборок, чтобы найти распределение прибыли <br>\n",
    "16. Нашли среднюю прибыль, 95%-й доверительный интервал и риск убытков <br>\n",
    "17. Предложили регион для разработки скважин и обосновали выбор: <br>\n",
    "* лидером для бурения новой скважины выступает 2 регион. <br>\n",
    "\n",
    "\n",
    "Рекомендации: <br>\n",
    "2 регион рекомендуется для места бурения новой скважины, так как имеет хорошие показатели прибыли и объема сырья, а так же имея вероятность в убытке 1 %, что немаловажно. То есть с большей вроятностью новая скважина окупит себя или начнет приносить прибыль. Так же в процессе обучения модели линейной регрессии и предсказаний на валидационной выборке, 2 регион обладал наилучшими показателями и являлся абсолютным лидером: RMSE модели линейной регрессии на валидационной выборке 0.89, R2 на валидационной выборке 1.0."
   ]
  },
  {
   "cell_type": "markdown",
   "metadata": {},
   "source": [
    "## Чек-лист готовности проекта"
   ]
  },
  {
   "cell_type": "markdown",
   "metadata": {},
   "source": [
    "Поставьте 'x' в выполненных пунктах. Далее нажмите Shift+Enter."
   ]
  },
  {
   "cell_type": "markdown",
   "metadata": {},
   "source": [
    "- [x]  Jupyter Notebook открыт\n",
    "- [x]  Весь код выполняется без ошибок\n",
    "- [x]  Ячейки с кодом расположены в порядке исполнения\n",
    "- [x]  Выполнен шаг 1: данные подготовлены\n",
    "- [x]  Выполнен шаг 2: модели обучены и проверены\n",
    "    - [x]  Данные корректно разбиты на обучающую и валидационную выборки\n",
    "    - [x]  Модели обучены, предсказания сделаны\n",
    "    - [x]  Предсказания и правильные ответы на валидационной выборке сохранены\n",
    "    - [x]  На экране напечатаны результаты\n",
    "    - [x]  Сделаны выводы\n",
    "- [x]  Выполнен шаг 3: проведена подготовка к расчёту прибыли\n",
    "    - [x]  Для всех ключевых значений созданы константы Python\n",
    "    - [x]  Посчитано минимальное среднее количество продукта в месторождениях региона, достаточное для разработки\n",
    "    - [x]  По предыдущему пункту сделаны выводы\n",
    "    - [x]  Написана функция расчёта прибыли\n",
    "- [x]  Выполнен шаг 4: посчитаны риски и прибыль\n",
    "    - [x]  Проведена процедура *Bootstrap*\n",
    "    - [x]  Все параметры бутстрепа соответствуют условию\n",
    "    - [x]  Найдены все нужные величины\n",
    "    - [x]  Предложен регион для разработки месторождения\n",
    "    - [x]  Выбор региона обоснован"
   ]
  }
 ],
 "metadata": {
  "ExecuteTimeLog": [
   {
    "duration": 428,
    "start_time": "2023-05-12T11:38:24.344Z"
   },
   {
    "duration": 402,
    "start_time": "2023-05-12T11:38:24.774Z"
   },
   {
    "duration": 598,
    "start_time": "2023-05-12T11:38:25.652Z"
   },
   {
    "duration": 646,
    "start_time": "2023-05-12T11:38:26.252Z"
   },
   {
    "duration": 17,
    "start_time": "2023-05-12T11:39:09.316Z"
   },
   {
    "duration": 15,
    "start_time": "2023-05-12T11:40:40.869Z"
   },
   {
    "duration": 50,
    "start_time": "2023-05-12T11:41:27.280Z"
   },
   {
    "duration": 11,
    "start_time": "2023-05-12T11:42:52.003Z"
   },
   {
    "duration": 64,
    "start_time": "2023-05-12T11:42:59.995Z"
   },
   {
    "duration": 38,
    "start_time": "2023-05-12T11:43:03.808Z"
   },
   {
    "duration": 17,
    "start_time": "2023-05-12T11:43:13.095Z"
   },
   {
    "duration": 16,
    "start_time": "2023-05-12T11:52:58.434Z"
   },
   {
    "duration": 45,
    "start_time": "2023-05-12T11:52:58.741Z"
   },
   {
    "duration": 11,
    "start_time": "2023-05-12T11:52:59.195Z"
   },
   {
    "duration": 41,
    "start_time": "2023-05-12T11:52:59.517Z"
   },
   {
    "duration": 19,
    "start_time": "2023-05-12T11:52:59.977Z"
   },
   {
    "duration": 15,
    "start_time": "2023-05-12T11:55:29.953Z"
   },
   {
    "duration": 51,
    "start_time": "2023-05-12T11:55:31.395Z"
   },
   {
    "duration": 11,
    "start_time": "2023-05-12T11:55:31.851Z"
   },
   {
    "duration": 41,
    "start_time": "2023-05-12T11:55:32.325Z"
   },
   {
    "duration": 14,
    "start_time": "2023-05-12T11:55:32.693Z"
   },
   {
    "duration": 13,
    "start_time": "2023-05-12T12:07:29.579Z"
   },
   {
    "duration": 1183,
    "start_time": "2023-05-12T12:09:35.034Z"
   },
   {
    "duration": 159,
    "start_time": "2023-05-12T12:09:36.220Z"
   },
   {
    "duration": 133,
    "start_time": "2023-05-12T12:09:36.381Z"
   },
   {
    "duration": 140,
    "start_time": "2023-05-12T12:09:36.516Z"
   },
   {
    "duration": 28,
    "start_time": "2023-05-12T12:09:36.659Z"
   },
   {
    "duration": 87,
    "start_time": "2023-05-12T12:09:36.688Z"
   },
   {
    "duration": 11,
    "start_time": "2023-05-12T12:09:36.776Z"
   },
   {
    "duration": 72,
    "start_time": "2023-05-12T12:09:36.789Z"
   },
   {
    "duration": 16,
    "start_time": "2023-05-12T12:09:36.862Z"
   },
   {
    "duration": 17,
    "start_time": "2023-05-12T12:09:37.555Z"
   },
   {
    "duration": 46,
    "start_time": "2023-05-12T12:09:37.778Z"
   },
   {
    "duration": 10,
    "start_time": "2023-05-12T12:09:37.939Z"
   },
   {
    "duration": 46,
    "start_time": "2023-05-12T12:09:38.123Z"
   },
   {
    "duration": 15,
    "start_time": "2023-05-12T12:09:38.300Z"
   },
   {
    "duration": 14,
    "start_time": "2023-05-12T12:09:38.619Z"
   },
   {
    "duration": 46,
    "start_time": "2023-05-12T12:09:38.785Z"
   },
   {
    "duration": 10,
    "start_time": "2023-05-12T12:09:38.981Z"
   },
   {
    "duration": 39,
    "start_time": "2023-05-12T12:09:39.145Z"
   },
   {
    "duration": 15,
    "start_time": "2023-05-12T12:09:39.321Z"
   },
   {
    "duration": 279,
    "start_time": "2023-05-12T12:09:39.891Z"
   },
   {
    "duration": 307,
    "start_time": "2023-05-12T12:10:31.479Z"
   },
   {
    "duration": 312,
    "start_time": "2023-05-12T12:10:46.588Z"
   },
   {
    "duration": 324,
    "start_time": "2023-05-12T12:12:15.540Z"
   },
   {
    "duration": 335,
    "start_time": "2023-05-12T12:12:18.203Z"
   },
   {
    "duration": 428,
    "start_time": "2023-05-12T12:12:34.892Z"
   },
   {
    "duration": 308,
    "start_time": "2023-05-12T12:12:58.813Z"
   },
   {
    "duration": 327,
    "start_time": "2023-05-12T12:13:20.831Z"
   },
   {
    "duration": 364,
    "start_time": "2023-05-12T12:13:30.261Z"
   },
   {
    "duration": 322,
    "start_time": "2023-05-12T12:13:43.872Z"
   },
   {
    "duration": 4,
    "start_time": "2023-05-12T12:24:35.432Z"
   },
   {
    "duration": 55,
    "start_time": "2023-05-12T12:35:11.886Z"
   },
   {
    "duration": 1817,
    "start_time": "2023-05-12T12:35:31.829Z"
   },
   {
    "duration": 412,
    "start_time": "2023-05-12T12:35:33.648Z"
   },
   {
    "duration": 598,
    "start_time": "2023-05-12T12:35:34.061Z"
   },
   {
    "duration": 4,
    "start_time": "2023-05-12T12:36:00.268Z"
   },
   {
    "duration": 145,
    "start_time": "2023-05-12T12:36:00.439Z"
   },
   {
    "duration": 133,
    "start_time": "2023-05-12T12:36:00.634Z"
   },
   {
    "duration": 606,
    "start_time": "2023-05-12T12:36:00.807Z"
   },
   {
    "duration": 17,
    "start_time": "2023-05-12T12:36:01.415Z"
   },
   {
    "duration": 204,
    "start_time": "2023-05-12T12:36:01.434Z"
   },
   {
    "duration": 20,
    "start_time": "2023-05-12T12:36:01.640Z"
   },
   {
    "duration": 84,
    "start_time": "2023-05-12T12:36:01.662Z"
   },
   {
    "duration": 39,
    "start_time": "2023-05-12T12:36:01.749Z"
   },
   {
    "duration": 23,
    "start_time": "2023-05-12T12:36:02.046Z"
   },
   {
    "duration": 75,
    "start_time": "2023-05-12T12:36:02.187Z"
   },
   {
    "duration": 17,
    "start_time": "2023-05-12T12:36:02.352Z"
   },
   {
    "duration": 49,
    "start_time": "2023-05-12T12:36:02.520Z"
   },
   {
    "duration": 18,
    "start_time": "2023-05-12T12:36:02.702Z"
   },
   {
    "duration": 16,
    "start_time": "2023-05-12T12:36:03.201Z"
   },
   {
    "duration": 53,
    "start_time": "2023-05-12T12:36:03.386Z"
   },
   {
    "duration": 14,
    "start_time": "2023-05-12T12:36:03.552Z"
   },
   {
    "duration": 39,
    "start_time": "2023-05-12T12:36:03.741Z"
   },
   {
    "duration": 16,
    "start_time": "2023-05-12T12:36:03.916Z"
   },
   {
    "duration": 310,
    "start_time": "2023-05-12T12:36:04.678Z"
   },
   {
    "duration": 3,
    "start_time": "2023-05-12T12:36:05.992Z"
   },
   {
    "duration": 54,
    "start_time": "2023-05-12T12:36:13.108Z"
   },
   {
    "duration": 1625,
    "start_time": "2023-05-12T12:44:03.984Z"
   },
   {
    "duration": 427,
    "start_time": "2023-05-12T12:44:05.611Z"
   },
   {
    "duration": 649,
    "start_time": "2023-05-12T12:44:06.040Z"
   },
   {
    "duration": 602,
    "start_time": "2023-05-12T12:44:06.692Z"
   },
   {
    "duration": 27,
    "start_time": "2023-05-12T12:44:07.296Z"
   },
   {
    "duration": 103,
    "start_time": "2023-05-12T12:44:07.325Z"
   },
   {
    "duration": 19,
    "start_time": "2023-05-12T12:44:07.429Z"
   },
   {
    "duration": 83,
    "start_time": "2023-05-12T12:44:07.450Z"
   },
   {
    "duration": 27,
    "start_time": "2023-05-12T12:44:07.535Z"
   },
   {
    "duration": 38,
    "start_time": "2023-05-12T12:44:07.565Z"
   },
   {
    "duration": 54,
    "start_time": "2023-05-12T12:44:07.605Z"
   },
   {
    "duration": 11,
    "start_time": "2023-05-12T12:44:07.660Z"
   },
   {
    "duration": 75,
    "start_time": "2023-05-12T12:44:07.673Z"
   },
   {
    "duration": 25,
    "start_time": "2023-05-12T12:44:07.750Z"
   },
   {
    "duration": 17,
    "start_time": "2023-05-12T12:44:07.777Z"
   },
   {
    "duration": 102,
    "start_time": "2023-05-12T12:44:07.796Z"
   },
   {
    "duration": 13,
    "start_time": "2023-05-12T12:44:07.901Z"
   },
   {
    "duration": 64,
    "start_time": "2023-05-12T12:44:07.917Z"
   },
   {
    "duration": 18,
    "start_time": "2023-05-12T12:44:07.995Z"
   },
   {
    "duration": 319,
    "start_time": "2023-05-12T12:44:08.312Z"
   },
   {
    "duration": 4,
    "start_time": "2023-05-12T12:46:22.648Z"
   },
   {
    "duration": 7,
    "start_time": "2023-05-12T12:48:09.149Z"
   },
   {
    "duration": 21,
    "start_time": "2023-05-12T12:53:15.780Z"
   },
   {
    "duration": 28,
    "start_time": "2023-05-12T12:55:08.810Z"
   },
   {
    "duration": 27,
    "start_time": "2023-05-12T12:55:09.579Z"
   },
   {
    "duration": 19,
    "start_time": "2023-05-12T12:55:49.834Z"
   },
   {
    "duration": 19,
    "start_time": "2023-05-12T12:55:50.449Z"
   },
   {
    "duration": 17,
    "start_time": "2023-05-12T12:55:50.983Z"
   },
   {
    "duration": 3,
    "start_time": "2023-05-12T13:02:15.259Z"
   },
   {
    "duration": 176,
    "start_time": "2023-05-12T13:02:15.265Z"
   },
   {
    "duration": 144,
    "start_time": "2023-05-12T13:02:15.443Z"
   },
   {
    "duration": 145,
    "start_time": "2023-05-12T13:02:15.590Z"
   },
   {
    "duration": 38,
    "start_time": "2023-05-12T13:02:15.738Z"
   },
   {
    "duration": 96,
    "start_time": "2023-05-12T13:02:15.778Z"
   },
   {
    "duration": 11,
    "start_time": "2023-05-12T13:02:15.875Z"
   },
   {
    "duration": 59,
    "start_time": "2023-05-12T13:02:15.888Z"
   },
   {
    "duration": 24,
    "start_time": "2023-05-12T13:02:15.949Z"
   },
   {
    "duration": 27,
    "start_time": "2023-05-12T13:02:15.975Z"
   },
   {
    "duration": 4,
    "start_time": "2023-05-12T13:02:17.149Z"
   },
   {
    "duration": 139,
    "start_time": "2023-05-12T13:02:17.615Z"
   },
   {
    "duration": 134,
    "start_time": "2023-05-12T13:02:18.126Z"
   },
   {
    "duration": 163,
    "start_time": "2023-05-12T13:02:18.501Z"
   },
   {
    "duration": 19,
    "start_time": "2023-05-12T13:02:18.861Z"
   },
   {
    "duration": 70,
    "start_time": "2023-05-12T13:02:19.187Z"
   },
   {
    "duration": 11,
    "start_time": "2023-05-12T13:02:19.535Z"
   },
   {
    "duration": 39,
    "start_time": "2023-05-12T13:02:19.917Z"
   },
   {
    "duration": 17,
    "start_time": "2023-05-12T13:02:20.256Z"
   },
   {
    "duration": 17,
    "start_time": "2023-05-12T13:02:20.767Z"
   },
   {
    "duration": 46,
    "start_time": "2023-05-12T13:02:21.081Z"
   },
   {
    "duration": 10,
    "start_time": "2023-05-12T13:02:21.308Z"
   },
   {
    "duration": 45,
    "start_time": "2023-05-12T13:02:21.489Z"
   },
   {
    "duration": 16,
    "start_time": "2023-05-12T13:02:21.699Z"
   },
   {
    "duration": 29,
    "start_time": "2023-05-12T13:02:22.076Z"
   },
   {
    "duration": 121,
    "start_time": "2023-05-12T13:02:22.287Z"
   },
   {
    "duration": 13,
    "start_time": "2023-05-12T13:02:22.484Z"
   },
   {
    "duration": 54,
    "start_time": "2023-05-12T13:02:22.685Z"
   },
   {
    "duration": 24,
    "start_time": "2023-05-12T13:02:22.855Z"
   },
   {
    "duration": 297,
    "start_time": "2023-05-12T13:02:23.625Z"
   },
   {
    "duration": 15,
    "start_time": "2023-05-12T13:02:25.397Z"
   },
   {
    "duration": 19,
    "start_time": "2023-05-12T13:02:25.715Z"
   },
   {
    "duration": 21,
    "start_time": "2023-05-12T13:02:26.095Z"
   },
   {
    "duration": 4,
    "start_time": "2023-05-12T13:02:26.483Z"
   },
   {
    "duration": 60,
    "start_time": "2023-05-12T13:03:21.936Z"
   },
   {
    "duration": 1459,
    "start_time": "2023-05-12T13:03:27.533Z"
   },
   {
    "duration": 415,
    "start_time": "2023-05-12T13:03:28.994Z"
   },
   {
    "duration": 620,
    "start_time": "2023-05-12T13:03:29.411Z"
   },
   {
    "duration": 587,
    "start_time": "2023-05-12T13:03:30.035Z"
   },
   {
    "duration": 17,
    "start_time": "2023-05-12T13:03:30.623Z"
   },
   {
    "duration": 64,
    "start_time": "2023-05-12T13:03:30.641Z"
   },
   {
    "duration": 14,
    "start_time": "2023-05-12T13:03:30.707Z"
   },
   {
    "duration": 50,
    "start_time": "2023-05-12T13:03:30.724Z"
   },
   {
    "duration": 23,
    "start_time": "2023-05-12T13:03:30.776Z"
   },
   {
    "duration": 44,
    "start_time": "2023-05-12T13:03:32.829Z"
   },
   {
    "duration": 9,
    "start_time": "2023-05-12T13:03:33.192Z"
   },
   {
    "duration": 48,
    "start_time": "2023-05-12T13:03:33.393Z"
   },
   {
    "duration": 16,
    "start_time": "2023-05-12T13:03:33.549Z"
   },
   {
    "duration": 15,
    "start_time": "2023-05-12T13:03:33.882Z"
   },
   {
    "duration": 47,
    "start_time": "2023-05-12T13:03:34.047Z"
   },
   {
    "duration": 10,
    "start_time": "2023-05-12T13:03:34.181Z"
   },
   {
    "duration": 36,
    "start_time": "2023-05-12T13:03:34.350Z"
   },
   {
    "duration": 16,
    "start_time": "2023-05-12T13:03:34.518Z"
   },
   {
    "duration": 15,
    "start_time": "2023-05-12T13:03:34.850Z"
   },
   {
    "duration": 45,
    "start_time": "2023-05-12T13:03:35.040Z"
   },
   {
    "duration": 10,
    "start_time": "2023-05-12T13:03:35.191Z"
   },
   {
    "duration": 50,
    "start_time": "2023-05-12T13:03:35.391Z"
   },
   {
    "duration": 15,
    "start_time": "2023-05-12T13:03:35.559Z"
   },
   {
    "duration": 317,
    "start_time": "2023-05-12T13:03:35.968Z"
   },
   {
    "duration": 20,
    "start_time": "2023-05-12T13:03:37.187Z"
   },
   {
    "duration": 20,
    "start_time": "2023-05-12T13:03:37.441Z"
   },
   {
    "duration": 19,
    "start_time": "2023-05-12T13:03:37.684Z"
   },
   {
    "duration": 3,
    "start_time": "2023-05-12T13:03:37.895Z"
   },
   {
    "duration": 4,
    "start_time": "2023-05-12T13:04:18.660Z"
   },
   {
    "duration": 194,
    "start_time": "2023-05-12T13:04:19.273Z"
   },
   {
    "duration": 148,
    "start_time": "2023-05-12T13:04:19.592Z"
   },
   {
    "duration": 158,
    "start_time": "2023-05-12T13:04:20.251Z"
   },
   {
    "duration": 17,
    "start_time": "2023-05-12T13:04:20.602Z"
   },
   {
    "duration": 60,
    "start_time": "2023-05-12T13:04:20.942Z"
   },
   {
    "duration": 16,
    "start_time": "2023-05-12T13:04:21.423Z"
   },
   {
    "duration": 44,
    "start_time": "2023-05-12T13:04:21.760Z"
   },
   {
    "duration": 25,
    "start_time": "2023-05-12T13:04:22.094Z"
   },
   {
    "duration": 17,
    "start_time": "2023-05-12T13:04:22.839Z"
   },
   {
    "duration": 48,
    "start_time": "2023-05-12T13:04:23.200Z"
   },
   {
    "duration": 15,
    "start_time": "2023-05-12T13:04:23.580Z"
   },
   {
    "duration": 37,
    "start_time": "2023-05-12T13:04:23.907Z"
   },
   {
    "duration": 15,
    "start_time": "2023-05-12T13:04:24.251Z"
   },
   {
    "duration": 16,
    "start_time": "2023-05-12T13:04:24.892Z"
   },
   {
    "duration": 49,
    "start_time": "2023-05-12T13:04:25.130Z"
   },
   {
    "duration": 10,
    "start_time": "2023-05-12T13:04:25.325Z"
   },
   {
    "duration": 39,
    "start_time": "2023-05-12T13:04:25.506Z"
   },
   {
    "duration": 16,
    "start_time": "2023-05-12T13:04:25.684Z"
   },
   {
    "duration": 323,
    "start_time": "2023-05-12T13:04:26.072Z"
   },
   {
    "duration": 17,
    "start_time": "2023-05-12T13:04:27.465Z"
   },
   {
    "duration": 16,
    "start_time": "2023-05-12T13:04:27.887Z"
   },
   {
    "duration": 15,
    "start_time": "2023-05-12T13:04:32.025Z"
   },
   {
    "duration": 3,
    "start_time": "2023-05-12T13:04:32.649Z"
   },
   {
    "duration": 307932,
    "start_time": "2023-05-12T13:04:33.614Z"
   },
   {
    "duration": 9,
    "start_time": "2023-05-12T13:09:41.818Z"
   },
   {
    "duration": 7,
    "start_time": "2023-05-12T13:09:45.597Z"
   },
   {
    "duration": 4,
    "start_time": "2023-05-12T13:14:19.897Z"
   },
   {
    "duration": 157,
    "start_time": "2023-05-12T13:14:20.315Z"
   },
   {
    "duration": 144,
    "start_time": "2023-05-12T13:14:20.647Z"
   },
   {
    "duration": 160,
    "start_time": "2023-05-12T13:14:20.913Z"
   },
   {
    "duration": 27,
    "start_time": "2023-05-12T13:14:21.090Z"
   },
   {
    "duration": 85,
    "start_time": "2023-05-12T13:14:21.227Z"
   },
   {
    "duration": 10,
    "start_time": "2023-05-12T13:14:21.407Z"
   },
   {
    "duration": 38,
    "start_time": "2023-05-12T13:14:21.629Z"
   },
   {
    "duration": 19,
    "start_time": "2023-05-12T13:14:21.799Z"
   },
   {
    "duration": 27,
    "start_time": "2023-05-12T13:14:22.091Z"
   },
   {
    "duration": 78,
    "start_time": "2023-05-12T13:14:22.233Z"
   },
   {
    "duration": 10,
    "start_time": "2023-05-12T13:14:22.383Z"
   },
   {
    "duration": 45,
    "start_time": "2023-05-12T13:14:22.508Z"
   },
   {
    "duration": 16,
    "start_time": "2023-05-12T13:14:22.654Z"
   },
   {
    "duration": 25,
    "start_time": "2023-05-12T13:14:22.909Z"
   },
   {
    "duration": 93,
    "start_time": "2023-05-12T13:14:23.055Z"
   },
   {
    "duration": 11,
    "start_time": "2023-05-12T13:14:23.210Z"
   },
   {
    "duration": 39,
    "start_time": "2023-05-12T13:14:23.380Z"
   },
   {
    "duration": 16,
    "start_time": "2023-05-12T13:14:23.523Z"
   },
   {
    "duration": 283,
    "start_time": "2023-05-12T13:14:23.829Z"
   },
   {
    "duration": 15,
    "start_time": "2023-05-12T13:14:24.646Z"
   },
   {
    "duration": 18,
    "start_time": "2023-05-12T13:14:24.829Z"
   },
   {
    "duration": 21,
    "start_time": "2023-05-12T13:14:24.994Z"
   },
   {
    "duration": 3,
    "start_time": "2023-05-12T13:14:25.187Z"
   },
   {
    "duration": 35,
    "start_time": "2023-05-12T15:12:18.330Z"
   },
   {
    "duration": 20,
    "start_time": "2023-05-12T15:12:32.720Z"
   },
   {
    "duration": 27,
    "start_time": "2023-05-12T15:13:31.038Z"
   },
   {
    "duration": 23,
    "start_time": "2023-05-12T15:14:39.531Z"
   },
   {
    "duration": 22,
    "start_time": "2023-05-12T15:15:44.513Z"
   },
   {
    "duration": 20,
    "start_time": "2023-05-12T15:15:49.385Z"
   },
   {
    "duration": 97,
    "start_time": "2023-05-12T15:23:51.454Z"
   },
   {
    "duration": 5,
    "start_time": "2023-05-12T15:39:21.547Z"
   },
   {
    "duration": 4,
    "start_time": "2023-05-12T15:40:04.635Z"
   },
   {
    "duration": 4,
    "start_time": "2023-05-12T15:40:08.232Z"
   },
   {
    "duration": 6,
    "start_time": "2023-05-12T15:40:49.359Z"
   },
   {
    "duration": 5,
    "start_time": "2023-05-12T15:41:26.181Z"
   },
   {
    "duration": 15,
    "start_time": "2023-05-12T15:52:52.727Z"
   },
   {
    "duration": 13,
    "start_time": "2023-05-12T15:53:41.140Z"
   },
   {
    "duration": 12,
    "start_time": "2023-05-12T15:54:05.554Z"
   },
   {
    "duration": 13,
    "start_time": "2023-05-12T15:54:43.615Z"
   },
   {
    "duration": 17,
    "start_time": "2023-05-12T15:54:48.142Z"
   },
   {
    "duration": 10,
    "start_time": "2023-05-12T18:19:11.381Z"
   },
   {
    "duration": 4,
    "start_time": "2023-05-12T18:19:13.862Z"
   },
   {
    "duration": 3,
    "start_time": "2023-05-12T18:19:14.298Z"
   },
   {
    "duration": 3,
    "start_time": "2023-05-12T18:21:51.807Z"
   },
   {
    "duration": 3,
    "start_time": "2023-05-12T18:23:26.207Z"
   },
   {
    "duration": 3,
    "start_time": "2023-05-12T18:27:08.488Z"
   },
   {
    "duration": 5,
    "start_time": "2023-05-12T18:41:40.815Z"
   },
   {
    "duration": 5,
    "start_time": "2023-05-12T18:41:50.902Z"
   },
   {
    "duration": 4,
    "start_time": "2023-05-12T18:41:56.816Z"
   },
   {
    "duration": 5,
    "start_time": "2023-05-12T18:41:58.298Z"
   },
   {
    "duration": 5,
    "start_time": "2023-05-12T18:44:49.888Z"
   },
   {
    "duration": 3,
    "start_time": "2023-05-12T18:44:53.702Z"
   },
   {
    "duration": 3,
    "start_time": "2023-05-12T18:45:23.595Z"
   },
   {
    "duration": 15,
    "start_time": "2023-05-12T18:45:55.079Z"
   },
   {
    "duration": 3,
    "start_time": "2023-05-12T18:46:00.919Z"
   },
   {
    "duration": 6,
    "start_time": "2023-05-12T18:46:06.680Z"
   },
   {
    "duration": 4,
    "start_time": "2023-05-12T18:46:07.122Z"
   },
   {
    "duration": 7,
    "start_time": "2023-05-12T18:46:20.802Z"
   },
   {
    "duration": 13,
    "start_time": "2023-05-12T18:47:37.761Z"
   },
   {
    "duration": 3,
    "start_time": "2023-05-12T18:47:53.074Z"
   },
   {
    "duration": 9,
    "start_time": "2023-05-12T18:47:53.463Z"
   },
   {
    "duration": 3,
    "start_time": "2023-05-12T18:47:54.159Z"
   },
   {
    "duration": 3,
    "start_time": "2023-05-12T18:47:54.575Z"
   },
   {
    "duration": 8,
    "start_time": "2023-05-12T18:47:55.068Z"
   },
   {
    "duration": 4,
    "start_time": "2023-05-12T18:48:07.122Z"
   },
   {
    "duration": 5,
    "start_time": "2023-05-12T18:49:02.301Z"
   },
   {
    "duration": 2,
    "start_time": "2023-05-12T18:49:02.578Z"
   },
   {
    "duration": 3,
    "start_time": "2023-05-12T18:49:02.887Z"
   },
   {
    "duration": 6,
    "start_time": "2023-05-12T18:49:03.190Z"
   },
   {
    "duration": 3,
    "start_time": "2023-05-12T18:50:18.287Z"
   },
   {
    "duration": 5,
    "start_time": "2023-05-12T18:50:18.713Z"
   },
   {
    "duration": 7,
    "start_time": "2023-05-12T18:50:19.145Z"
   },
   {
    "duration": 3,
    "start_time": "2023-05-12T18:50:19.586Z"
   },
   {
    "duration": 8,
    "start_time": "2023-05-12T18:50:20.286Z"
   },
   {
    "duration": 4,
    "start_time": "2023-05-12T18:53:17.359Z"
   },
   {
    "duration": 4,
    "start_time": "2023-05-12T18:53:49.135Z"
   },
   {
    "duration": 3,
    "start_time": "2023-05-12T18:54:04.809Z"
   },
   {
    "duration": 3,
    "start_time": "2023-05-12T18:54:16.899Z"
   },
   {
    "duration": 2,
    "start_time": "2023-05-12T18:54:17.135Z"
   },
   {
    "duration": 8,
    "start_time": "2023-05-12T18:54:17.312Z"
   },
   {
    "duration": 2,
    "start_time": "2023-05-12T18:54:18.014Z"
   },
   {
    "duration": 4,
    "start_time": "2023-05-12T18:54:18.688Z"
   },
   {
    "duration": 6,
    "start_time": "2023-05-12T18:56:59.950Z"
   },
   {
    "duration": 6,
    "start_time": "2023-05-12T18:58:19.361Z"
   },
   {
    "duration": 11,
    "start_time": "2023-05-12T18:58:32.692Z"
   },
   {
    "duration": 4,
    "start_time": "2023-05-12T18:58:45.170Z"
   },
   {
    "duration": 14,
    "start_time": "2023-05-12T18:59:12.668Z"
   },
   {
    "duration": 4,
    "start_time": "2023-05-12T19:00:59.270Z"
   },
   {
    "duration": 4,
    "start_time": "2023-05-12T19:01:04.190Z"
   },
   {
    "duration": 4,
    "start_time": "2023-05-12T19:01:24.490Z"
   },
   {
    "duration": 5,
    "start_time": "2023-05-12T19:06:06.270Z"
   },
   {
    "duration": 7,
    "start_time": "2023-05-12T19:07:46.827Z"
   },
   {
    "duration": 7,
    "start_time": "2023-05-12T19:07:52.283Z"
   },
   {
    "duration": 14,
    "start_time": "2023-05-12T19:08:08.574Z"
   },
   {
    "duration": 7,
    "start_time": "2023-05-12T19:08:14.710Z"
   },
   {
    "duration": 12,
    "start_time": "2023-05-12T19:21:47.459Z"
   },
   {
    "duration": 13,
    "start_time": "2023-05-12T19:22:48.888Z"
   },
   {
    "duration": 11,
    "start_time": "2023-05-12T19:24:37.487Z"
   },
   {
    "duration": 7,
    "start_time": "2023-05-12T19:25:10.783Z"
   },
   {
    "duration": 4,
    "start_time": "2023-05-12T19:25:42.591Z"
   },
   {
    "duration": 18,
    "start_time": "2023-05-12T19:25:45.888Z"
   },
   {
    "duration": 7,
    "start_time": "2023-05-12T19:26:00.026Z"
   },
   {
    "duration": 143,
    "start_time": "2023-05-12T19:26:25.691Z"
   },
   {
    "duration": 130,
    "start_time": "2023-05-12T19:26:34.219Z"
   },
   {
    "duration": 79,
    "start_time": "2023-05-12T19:27:00.809Z"
   },
   {
    "duration": 181,
    "start_time": "2023-05-12T19:27:09.513Z"
   },
   {
    "duration": 141,
    "start_time": "2023-05-12T19:27:15.860Z"
   },
   {
    "duration": 139,
    "start_time": "2023-05-12T19:27:27.459Z"
   },
   {
    "duration": 14,
    "start_time": "2023-05-12T19:30:03.887Z"
   },
   {
    "duration": 10,
    "start_time": "2023-05-12T19:30:13.168Z"
   },
   {
    "duration": 5,
    "start_time": "2023-05-12T19:32:26.661Z"
   },
   {
    "duration": 6,
    "start_time": "2023-05-12T19:32:40.461Z"
   },
   {
    "duration": 5,
    "start_time": "2023-05-12T19:33:15.359Z"
   },
   {
    "duration": 7,
    "start_time": "2023-05-12T19:33:19.483Z"
   },
   {
    "duration": 5,
    "start_time": "2023-05-12T19:33:39.786Z"
   },
   {
    "duration": 6,
    "start_time": "2023-05-12T19:33:40.863Z"
   },
   {
    "duration": 4,
    "start_time": "2023-05-12T19:35:04.782Z"
   },
   {
    "duration": 6,
    "start_time": "2023-05-12T19:35:10.322Z"
   },
   {
    "duration": 6,
    "start_time": "2023-05-12T19:35:41.418Z"
   },
   {
    "duration": 8,
    "start_time": "2023-05-12T19:35:42.458Z"
   },
   {
    "duration": 6,
    "start_time": "2023-05-12T19:35:42.794Z"
   },
   {
    "duration": 5,
    "start_time": "2023-05-12T19:35:49.764Z"
   },
   {
    "duration": 6,
    "start_time": "2023-05-12T19:35:50.060Z"
   },
   {
    "duration": 3,
    "start_time": "2023-05-12T19:36:43.301Z"
   },
   {
    "duration": 4,
    "start_time": "2023-05-12T19:36:43.760Z"
   },
   {
    "duration": 8,
    "start_time": "2023-05-12T19:36:44.436Z"
   },
   {
    "duration": 69,
    "start_time": "2023-05-12T19:40:45.488Z"
   },
   {
    "duration": 86,
    "start_time": "2023-05-12T19:40:51.203Z"
   },
   {
    "duration": 11,
    "start_time": "2023-05-12T19:41:02.625Z"
   },
   {
    "duration": 9,
    "start_time": "2023-05-12T19:41:03.904Z"
   },
   {
    "duration": 8,
    "start_time": "2023-05-12T19:41:35.152Z"
   },
   {
    "duration": 11,
    "start_time": "2023-05-12T19:55:30.478Z"
   },
   {
    "duration": 15,
    "start_time": "2023-05-12T19:56:13.096Z"
   },
   {
    "duration": 18,
    "start_time": "2023-05-12T19:56:27.041Z"
   },
   {
    "duration": 18,
    "start_time": "2023-05-12T19:56:29.891Z"
   },
   {
    "duration": 6,
    "start_time": "2023-05-12T20:00:04.251Z"
   },
   {
    "duration": 14,
    "start_time": "2023-05-12T20:00:10.904Z"
   },
   {
    "duration": 19,
    "start_time": "2023-05-12T20:00:45.302Z"
   },
   {
    "duration": 14,
    "start_time": "2023-05-12T20:00:50.687Z"
   },
   {
    "duration": 15,
    "start_time": "2023-05-12T20:01:06.692Z"
   },
   {
    "duration": 58,
    "start_time": "2023-05-12T20:13:16.813Z"
   },
   {
    "duration": 1440,
    "start_time": "2023-05-13T10:48:45.487Z"
   },
   {
    "duration": 494,
    "start_time": "2023-05-13T10:48:46.929Z"
   },
   {
    "duration": 178,
    "start_time": "2023-05-13T10:48:47.425Z"
   },
   {
    "duration": 190,
    "start_time": "2023-05-13T10:48:47.604Z"
   },
   {
    "duration": 15,
    "start_time": "2023-05-13T10:48:47.795Z"
   },
   {
    "duration": 49,
    "start_time": "2023-05-13T10:48:47.811Z"
   },
   {
    "duration": 12,
    "start_time": "2023-05-13T10:48:47.862Z"
   },
   {
    "duration": 35,
    "start_time": "2023-05-13T10:48:47.875Z"
   },
   {
    "duration": 14,
    "start_time": "2023-05-13T10:48:47.911Z"
   },
   {
    "duration": 12,
    "start_time": "2023-05-13T10:48:50.355Z"
   },
   {
    "duration": 42,
    "start_time": "2023-05-13T10:48:50.820Z"
   },
   {
    "duration": 8,
    "start_time": "2023-05-13T10:48:51.225Z"
   },
   {
    "duration": 34,
    "start_time": "2023-05-13T10:48:51.668Z"
   },
   {
    "duration": 15,
    "start_time": "2023-05-13T10:48:52.075Z"
   },
   {
    "duration": 13,
    "start_time": "2023-05-13T10:48:52.957Z"
   },
   {
    "duration": 42,
    "start_time": "2023-05-13T10:48:53.351Z"
   },
   {
    "duration": 9,
    "start_time": "2023-05-13T10:48:53.753Z"
   },
   {
    "duration": 32,
    "start_time": "2023-05-13T10:48:54.154Z"
   },
   {
    "duration": 15,
    "start_time": "2023-05-13T10:48:54.552Z"
   },
   {
    "duration": 244,
    "start_time": "2023-05-13T10:48:55.407Z"
   },
   {
    "duration": 15,
    "start_time": "2023-05-13T10:48:57.008Z"
   },
   {
    "duration": 16,
    "start_time": "2023-05-13T10:48:57.404Z"
   },
   {
    "duration": 18,
    "start_time": "2023-05-13T10:48:57.794Z"
   },
   {
    "duration": 21,
    "start_time": "2023-05-13T10:48:58.975Z"
   },
   {
    "duration": 18,
    "start_time": "2023-05-13T10:48:59.374Z"
   },
   {
    "duration": 17,
    "start_time": "2023-05-13T10:48:59.754Z"
   },
   {
    "duration": 5,
    "start_time": "2023-05-13T10:49:00.853Z"
   },
   {
    "duration": 11,
    "start_time": "2023-05-13T10:49:01.885Z"
   },
   {
    "duration": 3,
    "start_time": "2023-05-13T10:49:04.103Z"
   },
   {
    "duration": 3,
    "start_time": "2023-05-13T10:49:04.957Z"
   },
   {
    "duration": 4,
    "start_time": "2023-05-13T10:49:06.454Z"
   },
   {
    "duration": 3,
    "start_time": "2023-05-13T10:49:06.925Z"
   },
   {
    "duration": 4,
    "start_time": "2023-05-13T10:49:43.861Z"
   },
   {
    "duration": 5,
    "start_time": "2023-05-13T10:50:25.649Z"
   },
   {
    "duration": 95,
    "start_time": "2023-05-13T10:51:17.184Z"
   },
   {
    "duration": 6,
    "start_time": "2023-05-13T10:51:21.489Z"
   },
   {
    "duration": 2,
    "start_time": "2023-05-13T10:51:22.503Z"
   },
   {
    "duration": 4,
    "start_time": "2023-05-13T10:51:23.306Z"
   },
   {
    "duration": 8,
    "start_time": "2023-05-13T10:51:25.306Z"
   },
   {
    "duration": 13,
    "start_time": "2023-05-13T10:52:12.013Z"
   },
   {
    "duration": 14,
    "start_time": "2023-05-13T11:00:13.575Z"
   },
   {
    "duration": 53,
    "start_time": "2023-05-13T11:00:14.064Z"
   },
   {
    "duration": 12,
    "start_time": "2023-05-13T11:03:16.352Z"
   },
   {
    "duration": 13,
    "start_time": "2023-05-13T11:03:16.975Z"
   },
   {
    "duration": 50,
    "start_time": "2023-05-13T11:03:17.405Z"
   },
   {
    "duration": 11,
    "start_time": "2023-05-13T11:03:18.397Z"
   },
   {
    "duration": 12,
    "start_time": "2023-05-13T11:03:18.891Z"
   },
   {
    "duration": 50,
    "start_time": "2023-05-13T11:03:19.223Z"
   },
   {
    "duration": 17,
    "start_time": "2023-05-13T11:06:23.909Z"
   },
   {
    "duration": 13,
    "start_time": "2023-05-13T11:06:24.187Z"
   },
   {
    "duration": 46,
    "start_time": "2023-05-13T11:06:24.489Z"
   },
   {
    "duration": 11,
    "start_time": "2023-05-13T11:06:40.573Z"
   },
   {
    "duration": 12,
    "start_time": "2023-05-13T11:06:41.294Z"
   },
   {
    "duration": 44,
    "start_time": "2023-05-13T11:06:42.223Z"
   },
   {
    "duration": 715,
    "start_time": "2023-05-13T11:39:32.976Z"
   },
   {
    "duration": 9,
    "start_time": "2023-05-13T11:45:07.189Z"
   },
   {
    "duration": 10,
    "start_time": "2023-05-13T11:45:26.315Z"
   },
   {
    "duration": 4,
    "start_time": "2023-05-13T11:46:17.946Z"
   },
   {
    "duration": 9,
    "start_time": "2023-05-13T11:50:07.600Z"
   },
   {
    "duration": 10,
    "start_time": "2023-05-13T11:54:44.804Z"
   },
   {
    "duration": 12,
    "start_time": "2023-05-13T11:54:51.539Z"
   },
   {
    "duration": 5,
    "start_time": "2023-05-13T11:54:58.617Z"
   },
   {
    "duration": 9,
    "start_time": "2023-05-13T11:58:23.611Z"
   },
   {
    "duration": 6,
    "start_time": "2023-05-13T12:01:37.303Z"
   },
   {
    "duration": 8,
    "start_time": "2023-05-13T12:01:51.787Z"
   },
   {
    "duration": 8,
    "start_time": "2023-05-13T12:01:54.483Z"
   },
   {
    "duration": 8,
    "start_time": "2023-05-13T12:01:58.668Z"
   },
   {
    "duration": 4,
    "start_time": "2023-05-13T12:02:06.784Z"
   },
   {
    "duration": 9,
    "start_time": "2023-05-13T12:07:44.663Z"
   },
   {
    "duration": 9,
    "start_time": "2023-05-13T12:08:07.423Z"
   },
   {
    "duration": 3,
    "start_time": "2023-05-13T12:19:10.804Z"
   },
   {
    "duration": 3,
    "start_time": "2023-05-13T12:33:18.333Z"
   },
   {
    "duration": 4,
    "start_time": "2023-05-13T12:33:31.685Z"
   },
   {
    "duration": 4,
    "start_time": "2023-05-13T12:33:50.241Z"
   },
   {
    "duration": 4,
    "start_time": "2023-05-13T12:34:10.991Z"
   },
   {
    "duration": 4,
    "start_time": "2023-05-13T12:35:06.190Z"
   },
   {
    "duration": 3,
    "start_time": "2023-05-13T12:38:06.087Z"
   },
   {
    "duration": 4,
    "start_time": "2023-05-13T12:42:49.891Z"
   },
   {
    "duration": 3,
    "start_time": "2023-05-13T12:44:18.438Z"
   },
   {
    "duration": 4,
    "start_time": "2023-05-13T12:44:31.326Z"
   },
   {
    "duration": 5,
    "start_time": "2023-05-13T12:44:34.047Z"
   },
   {
    "duration": 4,
    "start_time": "2023-05-13T12:44:36.760Z"
   },
   {
    "duration": 4,
    "start_time": "2023-05-13T12:44:48.806Z"
   },
   {
    "duration": 4,
    "start_time": "2023-05-13T12:45:37.693Z"
   },
   {
    "duration": 4,
    "start_time": "2023-05-13T12:51:06.498Z"
   },
   {
    "duration": 5,
    "start_time": "2023-05-13T12:51:50.363Z"
   },
   {
    "duration": 4,
    "start_time": "2023-05-13T12:51:58.151Z"
   },
   {
    "duration": 18,
    "start_time": "2023-05-13T12:53:44.660Z"
   },
   {
    "duration": 5,
    "start_time": "2023-05-13T12:54:26.964Z"
   },
   {
    "duration": 6,
    "start_time": "2023-05-13T12:54:29.759Z"
   },
   {
    "duration": 4,
    "start_time": "2023-05-13T12:54:58.115Z"
   },
   {
    "duration": 3,
    "start_time": "2023-05-13T12:55:20.726Z"
   },
   {
    "duration": 16,
    "start_time": "2023-05-13T12:55:21.324Z"
   },
   {
    "duration": 4,
    "start_time": "2023-05-13T12:55:58.722Z"
   },
   {
    "duration": 7,
    "start_time": "2023-05-13T12:55:59.493Z"
   },
   {
    "duration": 8,
    "start_time": "2023-05-13T12:57:13.768Z"
   },
   {
    "duration": 8,
    "start_time": "2023-05-13T12:57:14.264Z"
   },
   {
    "duration": 9,
    "start_time": "2023-05-13T13:08:12.822Z"
   },
   {
    "duration": 12,
    "start_time": "2023-05-13T13:09:04.050Z"
   },
   {
    "duration": 4,
    "start_time": "2023-05-13T13:09:04.752Z"
   },
   {
    "duration": 4,
    "start_time": "2023-05-13T13:09:05.447Z"
   },
   {
    "duration": 4,
    "start_time": "2023-05-13T13:09:05.642Z"
   },
   {
    "duration": 10,
    "start_time": "2023-05-13T13:09:05.804Z"
   },
   {
    "duration": 7,
    "start_time": "2023-05-13T13:09:05.961Z"
   },
   {
    "duration": 7,
    "start_time": "2023-05-13T13:09:06.112Z"
   },
   {
    "duration": 60,
    "start_time": "2023-05-13T13:29:42.792Z"
   },
   {
    "duration": 14,
    "start_time": "2023-05-13T13:30:17.053Z"
   },
   {
    "duration": 60,
    "start_time": "2023-05-13T13:48:10.464Z"
   },
   {
    "duration": 16,
    "start_time": "2023-05-13T13:48:17.398Z"
   },
   {
    "duration": 5,
    "start_time": "2023-05-13T13:48:49.977Z"
   },
   {
    "duration": 139,
    "start_time": "2023-05-13T13:48:50.403Z"
   },
   {
    "duration": 128,
    "start_time": "2023-05-13T13:48:50.612Z"
   },
   {
    "duration": 124,
    "start_time": "2023-05-13T13:48:50.756Z"
   },
   {
    "duration": 15,
    "start_time": "2023-05-13T13:48:50.905Z"
   },
   {
    "duration": 54,
    "start_time": "2023-05-13T13:48:51.057Z"
   },
   {
    "duration": 10,
    "start_time": "2023-05-13T13:48:51.221Z"
   },
   {
    "duration": 40,
    "start_time": "2023-05-13T13:48:51.383Z"
   },
   {
    "duration": 16,
    "start_time": "2023-05-13T13:48:51.544Z"
   },
   {
    "duration": 15,
    "start_time": "2023-05-13T13:48:51.863Z"
   },
   {
    "duration": 46,
    "start_time": "2023-05-13T13:48:52.057Z"
   },
   {
    "duration": 9,
    "start_time": "2023-05-13T13:48:53.490Z"
   },
   {
    "duration": 42,
    "start_time": "2023-05-13T13:48:53.690Z"
   },
   {
    "duration": 15,
    "start_time": "2023-05-13T13:48:54.511Z"
   },
   {
    "duration": 13,
    "start_time": "2023-05-13T13:48:54.868Z"
   },
   {
    "duration": 46,
    "start_time": "2023-05-13T13:48:55.051Z"
   },
   {
    "duration": 10,
    "start_time": "2023-05-13T13:48:55.207Z"
   },
   {
    "duration": 42,
    "start_time": "2023-05-13T13:48:55.367Z"
   },
   {
    "duration": 16,
    "start_time": "2023-05-13T13:48:55.521Z"
   },
   {
    "duration": 265,
    "start_time": "2023-05-13T13:48:55.841Z"
   },
   {
    "duration": 15,
    "start_time": "2023-05-13T13:48:58.125Z"
   },
   {
    "duration": 16,
    "start_time": "2023-05-13T13:48:58.284Z"
   },
   {
    "duration": 15,
    "start_time": "2023-05-13T13:48:58.442Z"
   },
   {
    "duration": 23,
    "start_time": "2023-05-13T13:48:58.912Z"
   },
   {
    "duration": 18,
    "start_time": "2023-05-13T13:48:59.106Z"
   },
   {
    "duration": 18,
    "start_time": "2023-05-13T13:48:59.257Z"
   },
   {
    "duration": 6,
    "start_time": "2023-05-13T13:48:59.772Z"
   },
   {
    "duration": 13,
    "start_time": "2023-05-13T13:49:00.450Z"
   },
   {
    "duration": 4,
    "start_time": "2023-05-13T13:49:01.540Z"
   },
   {
    "duration": 7,
    "start_time": "2023-05-13T13:49:01.696Z"
   },
   {
    "duration": 4,
    "start_time": "2023-05-13T13:49:02.220Z"
   },
   {
    "duration": 8,
    "start_time": "2023-05-13T13:49:02.723Z"
   },
   {
    "duration": 12,
    "start_time": "2023-05-13T13:49:03.235Z"
   },
   {
    "duration": 16,
    "start_time": "2023-05-13T13:49:03.411Z"
   },
   {
    "duration": 67,
    "start_time": "2023-05-13T13:49:03.585Z"
   },
   {
    "duration": 18,
    "start_time": "2023-05-13T13:49:03.919Z"
   },
   {
    "duration": 18,
    "start_time": "2023-05-13T13:49:04.075Z"
   },
   {
    "duration": 62,
    "start_time": "2023-05-13T13:49:04.261Z"
   },
   {
    "duration": 14,
    "start_time": "2023-05-13T13:49:04.569Z"
   },
   {
    "duration": 14,
    "start_time": "2023-05-13T13:49:04.744Z"
   },
   {
    "duration": 61,
    "start_time": "2023-05-13T13:49:04.911Z"
   },
   {
    "duration": 11,
    "start_time": "2023-05-13T13:49:05.775Z"
   },
   {
    "duration": 4,
    "start_time": "2023-05-13T13:49:06.344Z"
   },
   {
    "duration": 4,
    "start_time": "2023-05-13T13:49:06.879Z"
   },
   {
    "duration": 6,
    "start_time": "2023-05-13T13:49:07.060Z"
   },
   {
    "duration": 9,
    "start_time": "2023-05-13T13:49:07.246Z"
   },
   {
    "duration": 8,
    "start_time": "2023-05-13T13:49:07.420Z"
   },
   {
    "duration": 7,
    "start_time": "2023-05-13T13:49:07.582Z"
   },
   {
    "duration": 3,
    "start_time": "2023-05-13T13:49:08.252Z"
   },
   {
    "duration": 3,
    "start_time": "2023-05-13T13:49:08.447Z"
   },
   {
    "duration": 19,
    "start_time": "2023-05-13T13:49:08.603Z"
   },
   {
    "duration": 52,
    "start_time": "2023-05-13T13:52:43.192Z"
   },
   {
    "duration": 9,
    "start_time": "2023-05-13T13:52:53.119Z"
   },
   {
    "duration": 55,
    "start_time": "2023-05-13T13:56:56.579Z"
   },
   {
    "duration": 7,
    "start_time": "2023-05-13T13:57:08.809Z"
   },
   {
    "duration": 18,
    "start_time": "2023-05-13T13:57:11.574Z"
   },
   {
    "duration": 25,
    "start_time": "2023-05-13T13:58:59.324Z"
   },
   {
    "duration": 17,
    "start_time": "2023-05-13T13:59:03.299Z"
   },
   {
    "duration": 13,
    "start_time": "2023-05-13T14:04:54.720Z"
   },
   {
    "duration": 4,
    "start_time": "2023-05-13T14:09:00.226Z"
   },
   {
    "duration": 58,
    "start_time": "2023-05-13T14:09:00.712Z"
   },
   {
    "duration": 9,
    "start_time": "2023-05-13T14:09:21.123Z"
   },
   {
    "duration": 56,
    "start_time": "2023-05-13T14:10:25.984Z"
   },
   {
    "duration": 142,
    "start_time": "2023-05-13T14:10:26.730Z"
   },
   {
    "duration": 135,
    "start_time": "2023-05-13T14:10:27.038Z"
   },
   {
    "duration": 126,
    "start_time": "2023-05-13T14:10:27.382Z"
   },
   {
    "duration": 19,
    "start_time": "2023-05-13T14:10:27.735Z"
   },
   {
    "duration": 52,
    "start_time": "2023-05-13T14:10:28.130Z"
   },
   {
    "duration": 10,
    "start_time": "2023-05-13T14:10:28.395Z"
   },
   {
    "duration": 42,
    "start_time": "2023-05-13T14:10:28.588Z"
   },
   {
    "duration": 17,
    "start_time": "2023-05-13T14:10:28.741Z"
   },
   {
    "duration": 18,
    "start_time": "2023-05-13T14:10:29.064Z"
   },
   {
    "duration": 59,
    "start_time": "2023-05-13T14:10:29.241Z"
   },
   {
    "duration": 10,
    "start_time": "2023-05-13T14:10:29.433Z"
   },
   {
    "duration": 39,
    "start_time": "2023-05-13T14:10:29.586Z"
   },
   {
    "duration": 15,
    "start_time": "2023-05-13T14:10:29.739Z"
   },
   {
    "duration": 18,
    "start_time": "2023-05-13T14:10:30.066Z"
   },
   {
    "duration": 63,
    "start_time": "2023-05-13T14:10:30.243Z"
   },
   {
    "duration": 11,
    "start_time": "2023-05-13T14:10:30.403Z"
   },
   {
    "duration": 42,
    "start_time": "2023-05-13T14:10:30.570Z"
   },
   {
    "duration": 21,
    "start_time": "2023-05-13T14:10:30.755Z"
   },
   {
    "duration": 311,
    "start_time": "2023-05-13T14:10:31.079Z"
   },
   {
    "duration": 24,
    "start_time": "2023-05-13T14:10:31.782Z"
   },
   {
    "duration": 17,
    "start_time": "2023-05-13T14:10:31.961Z"
   },
   {
    "duration": 18,
    "start_time": "2023-05-13T14:10:32.140Z"
   },
   {
    "duration": 23,
    "start_time": "2023-05-13T14:10:32.632Z"
   },
   {
    "duration": 19,
    "start_time": "2023-05-13T14:10:32.857Z"
   },
   {
    "duration": 18,
    "start_time": "2023-05-13T14:10:33.059Z"
   },
   {
    "duration": 6,
    "start_time": "2023-05-13T14:10:33.492Z"
   },
   {
    "duration": 17,
    "start_time": "2023-05-13T14:10:34.030Z"
   },
   {
    "duration": 4,
    "start_time": "2023-05-13T14:10:35.068Z"
   },
   {
    "duration": 7,
    "start_time": "2023-05-13T14:10:35.255Z"
   },
   {
    "duration": 3,
    "start_time": "2023-05-13T14:10:35.740Z"
   },
   {
    "duration": 8,
    "start_time": "2023-05-13T14:10:36.234Z"
   },
   {
    "duration": 18,
    "start_time": "2023-05-13T14:10:36.747Z"
   },
   {
    "duration": 15,
    "start_time": "2023-05-13T14:10:36.955Z"
   },
   {
    "duration": 56,
    "start_time": "2023-05-13T14:10:37.097Z"
   },
   {
    "duration": 12,
    "start_time": "2023-05-13T14:10:37.470Z"
   },
   {
    "duration": 14,
    "start_time": "2023-05-13T14:10:37.598Z"
   },
   {
    "duration": 51,
    "start_time": "2023-05-13T14:10:37.767Z"
   },
   {
    "duration": 12,
    "start_time": "2023-05-13T14:10:38.135Z"
   },
   {
    "duration": 13,
    "start_time": "2023-05-13T14:10:38.261Z"
   },
   {
    "duration": 52,
    "start_time": "2023-05-13T14:10:38.448Z"
   },
   {
    "duration": 11,
    "start_time": "2023-05-13T14:10:39.344Z"
   },
   {
    "duration": 6,
    "start_time": "2023-05-13T14:10:39.877Z"
   },
   {
    "duration": 4,
    "start_time": "2023-05-13T14:10:40.456Z"
   },
   {
    "duration": 5,
    "start_time": "2023-05-13T14:10:40.639Z"
   },
   {
    "duration": 9,
    "start_time": "2023-05-13T14:10:40.829Z"
   },
   {
    "duration": 8,
    "start_time": "2023-05-13T14:10:40.995Z"
   },
   {
    "duration": 8,
    "start_time": "2023-05-13T14:10:41.183Z"
   },
   {
    "duration": 3,
    "start_time": "2023-05-13T14:10:41.890Z"
   },
   {
    "duration": 3,
    "start_time": "2023-05-13T14:10:42.089Z"
   },
   {
    "duration": 4,
    "start_time": "2023-05-13T14:10:42.286Z"
   },
   {
    "duration": 87,
    "start_time": "2023-05-13T14:10:42.481Z"
   },
   {
    "duration": 42,
    "start_time": "2023-05-13T14:11:26.616Z"
   },
   {
    "duration": 10,
    "start_time": "2023-05-13T14:11:54.280Z"
   },
   {
    "duration": 1979,
    "start_time": "2023-05-13T14:11:54.818Z"
   },
   {
    "duration": 4,
    "start_time": "2023-05-13T14:12:43.308Z"
   },
   {
    "duration": 138,
    "start_time": "2023-05-13T14:12:43.459Z"
   },
   {
    "duration": 142,
    "start_time": "2023-05-13T14:12:43.624Z"
   },
   {
    "duration": 151,
    "start_time": "2023-05-13T14:12:43.768Z"
   },
   {
    "duration": 23,
    "start_time": "2023-05-13T14:12:43.929Z"
   },
   {
    "duration": 71,
    "start_time": "2023-05-13T14:12:44.053Z"
   },
   {
    "duration": 15,
    "start_time": "2023-05-13T14:12:44.195Z"
   },
   {
    "duration": 56,
    "start_time": "2023-05-13T14:12:44.335Z"
   },
   {
    "duration": 17,
    "start_time": "2023-05-13T14:12:44.486Z"
   },
   {
    "duration": 17,
    "start_time": "2023-05-13T14:12:44.764Z"
   },
   {
    "duration": 48,
    "start_time": "2023-05-13T14:12:44.936Z"
   },
   {
    "duration": 14,
    "start_time": "2023-05-13T14:12:46.648Z"
   },
   {
    "duration": 33,
    "start_time": "2023-05-13T14:12:47.343Z"
   },
   {
    "duration": 14,
    "start_time": "2023-05-13T14:12:47.539Z"
   },
   {
    "duration": 14,
    "start_time": "2023-05-13T14:12:47.893Z"
   },
   {
    "duration": 55,
    "start_time": "2023-05-13T14:12:48.752Z"
   },
   {
    "duration": 14,
    "start_time": "2023-05-13T14:12:49.117Z"
   },
   {
    "duration": 32,
    "start_time": "2023-05-13T14:12:49.592Z"
   },
   {
    "duration": 15,
    "start_time": "2023-05-13T14:12:49.847Z"
   },
   {
    "duration": 269,
    "start_time": "2023-05-13T14:12:50.208Z"
   },
   {
    "duration": 16,
    "start_time": "2023-05-13T14:12:51.074Z"
   },
   {
    "duration": 16,
    "start_time": "2023-05-13T14:12:51.235Z"
   },
   {
    "duration": 17,
    "start_time": "2023-05-13T14:12:51.383Z"
   },
   {
    "duration": 17,
    "start_time": "2023-05-13T14:12:51.882Z"
   },
   {
    "duration": 19,
    "start_time": "2023-05-13T14:12:52.058Z"
   },
   {
    "duration": 16,
    "start_time": "2023-05-13T14:12:52.258Z"
   },
   {
    "duration": 7,
    "start_time": "2023-05-13T14:12:52.702Z"
   },
   {
    "duration": 16,
    "start_time": "2023-05-13T14:12:53.196Z"
   },
   {
    "duration": 4,
    "start_time": "2023-05-13T14:12:54.227Z"
   },
   {
    "duration": 6,
    "start_time": "2023-05-13T14:12:54.380Z"
   },
   {
    "duration": 5,
    "start_time": "2023-05-13T14:12:54.902Z"
   },
   {
    "duration": 9,
    "start_time": "2023-05-13T14:12:55.426Z"
   },
   {
    "duration": 16,
    "start_time": "2023-05-13T14:12:55.931Z"
   },
   {
    "duration": 17,
    "start_time": "2023-05-13T14:12:56.107Z"
   },
   {
    "duration": 64,
    "start_time": "2023-05-13T14:12:56.302Z"
   },
   {
    "duration": 12,
    "start_time": "2023-05-13T14:12:56.705Z"
   },
   {
    "duration": 13,
    "start_time": "2023-05-13T14:12:56.843Z"
   },
   {
    "duration": 58,
    "start_time": "2023-05-13T14:12:57.027Z"
   },
   {
    "duration": 13,
    "start_time": "2023-05-13T14:12:57.403Z"
   },
   {
    "duration": 14,
    "start_time": "2023-05-13T14:12:57.567Z"
   },
   {
    "duration": 54,
    "start_time": "2023-05-13T14:12:57.769Z"
   },
   {
    "duration": 10,
    "start_time": "2023-05-13T14:12:58.670Z"
   },
   {
    "duration": 4,
    "start_time": "2023-05-13T14:12:59.222Z"
   },
   {
    "duration": 5,
    "start_time": "2023-05-13T14:12:59.773Z"
   },
   {
    "duration": 5,
    "start_time": "2023-05-13T14:12:59.944Z"
   },
   {
    "duration": 8,
    "start_time": "2023-05-13T14:13:00.124Z"
   },
   {
    "duration": 6,
    "start_time": "2023-05-13T14:13:00.293Z"
   },
   {
    "duration": 7,
    "start_time": "2023-05-13T14:13:00.468Z"
   },
   {
    "duration": 3,
    "start_time": "2023-05-13T14:13:01.211Z"
   },
   {
    "duration": 3,
    "start_time": "2023-05-13T14:13:01.390Z"
   },
   {
    "duration": 5,
    "start_time": "2023-05-13T14:13:01.540Z"
   },
   {
    "duration": 10,
    "start_time": "2023-05-13T14:13:01.724Z"
   },
   {
    "duration": 1640,
    "start_time": "2023-05-13T14:13:01.903Z"
   },
   {
    "duration": 10,
    "start_time": "2023-05-13T14:13:34.228Z"
   },
   {
    "duration": 6,
    "start_time": "2023-05-13T14:14:06.457Z"
   },
   {
    "duration": 7,
    "start_time": "2023-05-13T14:18:13.502Z"
   },
   {
    "duration": 1771,
    "start_time": "2023-05-13T14:18:14.036Z"
   },
   {
    "duration": 7,
    "start_time": "2023-05-13T14:24:31.553Z"
   },
   {
    "duration": 1849,
    "start_time": "2023-05-13T14:24:32.055Z"
   },
   {
    "duration": 7,
    "start_time": "2023-05-13T14:25:38.030Z"
   },
   {
    "duration": 8,
    "start_time": "2023-05-13T14:25:43.303Z"
   },
   {
    "duration": 1801,
    "start_time": "2023-05-13T14:25:45.723Z"
   },
   {
    "duration": 7,
    "start_time": "2023-05-13T14:25:52.353Z"
   },
   {
    "duration": 1842,
    "start_time": "2023-05-13T14:25:53.872Z"
   },
   {
    "duration": 7,
    "start_time": "2023-05-13T14:26:02.622Z"
   },
   {
    "duration": 1783,
    "start_time": "2023-05-13T14:26:10.339Z"
   },
   {
    "duration": 10,
    "start_time": "2023-05-13T14:27:41.920Z"
   },
   {
    "duration": 2043,
    "start_time": "2023-05-13T14:27:42.363Z"
   },
   {
    "duration": 6,
    "start_time": "2023-05-13T14:28:18.137Z"
   },
   {
    "duration": 1647,
    "start_time": "2023-05-13T14:28:19.365Z"
   },
   {
    "duration": 7,
    "start_time": "2023-05-13T14:28:53.967Z"
   },
   {
    "duration": 1702,
    "start_time": "2023-05-13T14:28:54.871Z"
   },
   {
    "duration": 99,
    "start_time": "2023-05-13T14:29:13.107Z"
   },
   {
    "duration": 1694,
    "start_time": "2023-05-13T14:29:14.078Z"
   },
   {
    "duration": 7,
    "start_time": "2023-05-13T14:32:08.885Z"
   },
   {
    "duration": 1602,
    "start_time": "2023-05-13T14:32:09.212Z"
   },
   {
    "duration": 9,
    "start_time": "2023-05-13T14:32:18.773Z"
   },
   {
    "duration": 11,
    "start_time": "2023-05-13T14:32:30.582Z"
   },
   {
    "duration": 1922,
    "start_time": "2023-05-13T14:32:31.124Z"
   },
   {
    "duration": 6,
    "start_time": "2023-05-13T14:32:37.174Z"
   },
   {
    "duration": 1555,
    "start_time": "2023-05-13T14:32:38.612Z"
   },
   {
    "duration": 7,
    "start_time": "2023-05-13T14:32:57.032Z"
   },
   {
    "duration": 1750,
    "start_time": "2023-05-13T14:32:57.564Z"
   },
   {
    "duration": 8,
    "start_time": "2023-05-13T14:33:05.466Z"
   },
   {
    "duration": 1589,
    "start_time": "2023-05-13T14:33:06.280Z"
   },
   {
    "duration": 6,
    "start_time": "2023-05-13T14:33:14.880Z"
   },
   {
    "duration": 1672,
    "start_time": "2023-05-13T14:33:15.459Z"
   },
   {
    "duration": 6,
    "start_time": "2023-05-13T14:36:01.416Z"
   },
   {
    "duration": 1538,
    "start_time": "2023-05-13T14:36:01.897Z"
   },
   {
    "duration": 7,
    "start_time": "2023-05-13T14:38:24.958Z"
   },
   {
    "duration": 1585,
    "start_time": "2023-05-13T14:38:25.408Z"
   },
   {
    "duration": 9,
    "start_time": "2023-05-13T14:40:15.355Z"
   },
   {
    "duration": 1845,
    "start_time": "2023-05-13T14:40:15.842Z"
   },
   {
    "duration": 2033,
    "start_time": "2023-05-13T14:41:29.978Z"
   },
   {
    "duration": 2174,
    "start_time": "2023-05-13T14:41:32.013Z"
   },
   {
    "duration": 11,
    "start_time": "2023-05-13T14:50:19.091Z"
   },
   {
    "duration": 1889,
    "start_time": "2023-05-13T14:50:19.889Z"
   },
   {
    "duration": 1803,
    "start_time": "2023-05-13T14:50:21.779Z"
   },
   {
    "duration": 1943,
    "start_time": "2023-05-13T14:50:23.584Z"
   },
   {
    "duration": 11,
    "start_time": "2023-05-13T14:56:41.388Z"
   },
   {
    "duration": 3,
    "start_time": "2023-05-13T15:51:42.565Z"
   },
   {
    "duration": 117,
    "start_time": "2023-05-13T15:51:42.999Z"
   },
   {
    "duration": 111,
    "start_time": "2023-05-13T15:51:43.457Z"
   },
   {
    "duration": 140,
    "start_time": "2023-05-13T15:51:43.655Z"
   },
   {
    "duration": 15,
    "start_time": "2023-05-13T15:51:43.816Z"
   },
   {
    "duration": 59,
    "start_time": "2023-05-13T15:51:44.041Z"
   },
   {
    "duration": 10,
    "start_time": "2023-05-13T15:51:44.189Z"
   },
   {
    "duration": 41,
    "start_time": "2023-05-13T15:51:44.346Z"
   },
   {
    "duration": 20,
    "start_time": "2023-05-13T15:51:44.508Z"
   },
   {
    "duration": 17,
    "start_time": "2023-05-13T15:51:44.903Z"
   },
   {
    "duration": 47,
    "start_time": "2023-05-13T15:51:45.490Z"
   },
   {
    "duration": 9,
    "start_time": "2023-05-13T15:51:45.748Z"
   },
   {
    "duration": 39,
    "start_time": "2023-05-13T15:51:45.959Z"
   },
   {
    "duration": 15,
    "start_time": "2023-05-13T15:51:46.131Z"
   },
   {
    "duration": 13,
    "start_time": "2023-05-13T15:51:46.459Z"
   },
   {
    "duration": 47,
    "start_time": "2023-05-13T15:51:46.625Z"
   },
   {
    "duration": 9,
    "start_time": "2023-05-13T15:51:46.807Z"
   },
   {
    "duration": 34,
    "start_time": "2023-05-13T15:51:46.966Z"
   },
   {
    "duration": 14,
    "start_time": "2023-05-13T15:51:47.138Z"
   },
   {
    "duration": 255,
    "start_time": "2023-05-13T15:51:47.457Z"
   },
   {
    "duration": 15,
    "start_time": "2023-05-13T15:51:48.100Z"
   },
   {
    "duration": 14,
    "start_time": "2023-05-13T15:51:48.273Z"
   },
   {
    "duration": 14,
    "start_time": "2023-05-13T15:51:48.443Z"
   },
   {
    "duration": 18,
    "start_time": "2023-05-13T15:51:49.240Z"
   },
   {
    "duration": 19,
    "start_time": "2023-05-13T15:51:49.458Z"
   },
   {
    "duration": 17,
    "start_time": "2023-05-13T15:51:49.658Z"
   },
   {
    "duration": 5,
    "start_time": "2023-05-13T15:51:50.205Z"
   },
   {
    "duration": 12,
    "start_time": "2023-05-13T15:51:50.757Z"
   },
   {
    "duration": 4,
    "start_time": "2023-05-13T15:51:52.009Z"
   },
   {
    "duration": 7,
    "start_time": "2023-05-13T15:51:52.231Z"
   },
   {
    "duration": 4,
    "start_time": "2023-05-13T15:51:52.842Z"
   },
   {
    "duration": 9,
    "start_time": "2023-05-13T15:51:53.560Z"
   },
   {
    "duration": 12,
    "start_time": "2023-05-13T15:51:54.312Z"
   },
   {
    "duration": 13,
    "start_time": "2023-05-13T15:51:54.496Z"
   },
   {
    "duration": 57,
    "start_time": "2023-05-13T15:51:54.684Z"
   },
   {
    "duration": 13,
    "start_time": "2023-05-13T15:51:55.043Z"
   },
   {
    "duration": 14,
    "start_time": "2023-05-13T15:51:55.242Z"
   },
   {
    "duration": 54,
    "start_time": "2023-05-13T15:51:55.393Z"
   },
   {
    "duration": 12,
    "start_time": "2023-05-13T15:51:55.796Z"
   },
   {
    "duration": 18,
    "start_time": "2023-05-13T15:51:55.951Z"
   },
   {
    "duration": 50,
    "start_time": "2023-05-13T15:51:56.193Z"
   },
   {
    "duration": 10,
    "start_time": "2023-05-13T15:51:57.215Z"
   },
   {
    "duration": 5,
    "start_time": "2023-05-13T15:51:57.792Z"
   },
   {
    "duration": 4,
    "start_time": "2023-05-13T15:51:58.377Z"
   },
   {
    "duration": 4,
    "start_time": "2023-05-13T15:51:58.572Z"
   },
   {
    "duration": 7,
    "start_time": "2023-05-13T15:51:58.770Z"
   },
   {
    "duration": 8,
    "start_time": "2023-05-13T15:51:58.971Z"
   },
   {
    "duration": 7,
    "start_time": "2023-05-13T15:51:59.148Z"
   },
   {
    "duration": 3,
    "start_time": "2023-05-13T15:52:00.150Z"
   },
   {
    "duration": 7,
    "start_time": "2023-05-13T15:52:00.434Z"
   },
   {
    "duration": 1722,
    "start_time": "2023-05-13T15:52:00.667Z"
   },
   {
    "duration": 1724,
    "start_time": "2023-05-13T15:52:02.391Z"
   },
   {
    "duration": 1693,
    "start_time": "2023-05-13T15:52:04.117Z"
   },
   {
    "duration": 12,
    "start_time": "2023-05-13T15:52:05.812Z"
   },
   {
    "duration": 2454,
    "start_time": "2023-05-13T20:07:03.818Z"
   },
   {
    "duration": 601,
    "start_time": "2023-05-13T20:07:06.275Z"
   },
   {
    "duration": 221,
    "start_time": "2023-05-13T20:07:06.881Z"
   },
   {
    "duration": 228,
    "start_time": "2023-05-13T20:07:07.105Z"
   },
   {
    "duration": 21,
    "start_time": "2023-05-13T20:07:07.336Z"
   },
   {
    "duration": 68,
    "start_time": "2023-05-13T20:07:07.359Z"
   },
   {
    "duration": 17,
    "start_time": "2023-05-13T20:07:07.429Z"
   },
   {
    "duration": 69,
    "start_time": "2023-05-13T20:07:07.448Z"
   },
   {
    "duration": 21,
    "start_time": "2023-05-13T20:07:07.519Z"
   },
   {
    "duration": 17,
    "start_time": "2023-05-13T20:07:07.543Z"
   },
   {
    "duration": 63,
    "start_time": "2023-05-13T20:07:07.582Z"
   },
   {
    "duration": 12,
    "start_time": "2023-05-13T20:07:07.647Z"
   },
   {
    "duration": 67,
    "start_time": "2023-05-13T20:07:07.661Z"
   },
   {
    "duration": 18,
    "start_time": "2023-05-13T20:07:07.731Z"
   },
   {
    "duration": 31,
    "start_time": "2023-05-13T20:07:07.751Z"
   },
   {
    "duration": 52,
    "start_time": "2023-05-13T20:07:07.789Z"
   },
   {
    "duration": 9,
    "start_time": "2023-05-13T20:07:07.843Z"
   },
   {
    "duration": 53,
    "start_time": "2023-05-13T20:07:07.854Z"
   },
   {
    "duration": 15,
    "start_time": "2023-05-13T20:07:07.909Z"
   },
   {
    "duration": 328,
    "start_time": "2023-05-13T20:07:07.926Z"
   },
   {
    "duration": 28,
    "start_time": "2023-05-13T20:07:08.255Z"
   },
   {
    "duration": 20,
    "start_time": "2023-05-13T20:07:08.289Z"
   },
   {
    "duration": 19,
    "start_time": "2023-05-13T20:07:08.310Z"
   },
   {
    "duration": 151,
    "start_time": "2023-05-13T20:07:08.331Z"
   },
   {
    "duration": 113,
    "start_time": "2023-05-13T20:07:08.487Z"
   },
   {
    "duration": 99,
    "start_time": "2023-05-13T20:07:08.602Z"
   },
   {
    "duration": 7,
    "start_time": "2023-05-13T20:07:08.778Z"
   },
   {
    "duration": 13,
    "start_time": "2023-05-13T20:07:08.791Z"
   },
   {
    "duration": 74,
    "start_time": "2023-05-13T20:07:08.806Z"
   },
   {
    "duration": 10,
    "start_time": "2023-05-13T20:07:08.881Z"
   },
   {
    "duration": 3,
    "start_time": "2023-05-13T20:07:08.893Z"
   },
   {
    "duration": 19,
    "start_time": "2023-05-13T20:07:08.898Z"
   },
   {
    "duration": 14,
    "start_time": "2023-05-13T20:07:08.918Z"
   },
   {
    "duration": 13,
    "start_time": "2023-05-13T20:07:08.933Z"
   },
   {
    "duration": 91,
    "start_time": "2023-05-13T20:07:08.947Z"
   },
   {
    "duration": 11,
    "start_time": "2023-05-13T20:07:09.041Z"
   },
   {
    "duration": 39,
    "start_time": "2023-05-13T20:07:09.054Z"
   },
   {
    "duration": 52,
    "start_time": "2023-05-13T20:07:09.095Z"
   },
   {
    "duration": 11,
    "start_time": "2023-05-13T20:07:09.149Z"
   },
   {
    "duration": 29,
    "start_time": "2023-05-13T20:07:09.162Z"
   },
   {
    "duration": 59,
    "start_time": "2023-05-13T20:07:09.193Z"
   },
   {
    "duration": 8,
    "start_time": "2023-05-13T20:07:09.254Z"
   },
   {
    "duration": 11,
    "start_time": "2023-05-13T20:07:09.282Z"
   },
   {
    "duration": 4,
    "start_time": "2023-05-13T20:07:09.295Z"
   },
   {
    "duration": 4,
    "start_time": "2023-05-13T20:07:09.301Z"
   },
   {
    "duration": 14,
    "start_time": "2023-05-13T20:07:09.307Z"
   },
   {
    "duration": 19,
    "start_time": "2023-05-13T20:07:09.323Z"
   },
   {
    "duration": 11,
    "start_time": "2023-05-13T20:07:09.343Z"
   },
   {
    "duration": 5,
    "start_time": "2023-05-13T20:07:09.356Z"
   },
   {
    "duration": 20,
    "start_time": "2023-05-13T20:07:09.363Z"
   },
   {
    "duration": 1834,
    "start_time": "2023-05-13T20:07:09.385Z"
   },
   {
    "duration": 1803,
    "start_time": "2023-05-13T20:07:11.221Z"
   },
   {
    "duration": 1874,
    "start_time": "2023-05-13T20:07:13.026Z"
   },
   {
    "duration": 10,
    "start_time": "2023-05-13T20:07:14.902Z"
   },
   {
    "duration": 1747,
    "start_time": "2023-05-14T15:25:11.408Z"
   },
   {
    "duration": 4,
    "start_time": "2023-05-14T15:25:14.311Z"
   },
   {
    "duration": 620,
    "start_time": "2023-05-14T15:25:15.403Z"
   },
   {
    "duration": 294,
    "start_time": "2023-05-14T15:25:16.030Z"
   },
   {
    "duration": 318,
    "start_time": "2023-05-14T15:25:16.686Z"
   },
   {
    "duration": 33,
    "start_time": "2023-05-14T15:25:17.502Z"
   },
   {
    "duration": 74,
    "start_time": "2023-05-14T15:25:17.929Z"
   },
   {
    "duration": 18,
    "start_time": "2023-05-14T15:25:18.320Z"
   },
   {
    "duration": 67,
    "start_time": "2023-05-14T15:25:18.586Z"
   },
   {
    "duration": 28,
    "start_time": "2023-05-14T15:25:18.775Z"
   },
   {
    "duration": 22,
    "start_time": "2023-05-14T15:25:19.627Z"
   },
   {
    "duration": 58,
    "start_time": "2023-05-14T15:25:19.906Z"
   },
   {
    "duration": 12,
    "start_time": "2023-05-14T15:25:20.036Z"
   },
   {
    "duration": 44,
    "start_time": "2023-05-14T15:25:20.231Z"
   },
   {
    "duration": 32,
    "start_time": "2023-05-14T15:25:20.471Z"
   },
   {
    "duration": 19,
    "start_time": "2023-05-14T15:25:20.905Z"
   },
   {
    "duration": 67,
    "start_time": "2023-05-14T15:25:21.130Z"
   },
   {
    "duration": 22,
    "start_time": "2023-05-14T15:25:21.597Z"
   },
   {
    "duration": 46,
    "start_time": "2023-05-14T15:25:21.834Z"
   },
   {
    "duration": 24,
    "start_time": "2023-05-14T15:25:22.017Z"
   },
   {
    "duration": 407,
    "start_time": "2023-05-14T15:25:24.199Z"
   },
   {
    "duration": 346,
    "start_time": "2023-05-14T15:26:14.580Z"
   },
   {
    "duration": 284,
    "start_time": "2023-05-14T15:26:23.470Z"
   },
   {
    "duration": 434,
    "start_time": "2023-05-14T15:27:24.034Z"
   },
   {
    "duration": 341,
    "start_time": "2023-05-14T15:30:09.891Z"
   },
   {
    "duration": 455,
    "start_time": "2023-05-14T15:30:23.446Z"
   },
   {
    "duration": 306,
    "start_time": "2023-05-14T15:30:42.603Z"
   },
   {
    "duration": 161,
    "start_time": "2023-05-14T15:42:38.102Z"
   },
   {
    "duration": 62,
    "start_time": "2023-05-14T15:43:47.490Z"
   },
   {
    "duration": 6,
    "start_time": "2023-05-14T15:44:17.901Z"
   },
   {
    "duration": 5,
    "start_time": "2023-05-14T15:44:48.840Z"
   },
   {
    "duration": 48,
    "start_time": "2023-05-14T15:44:54.062Z"
   },
   {
    "duration": 4,
    "start_time": "2023-05-14T15:44:54.566Z"
   },
   {
    "duration": 26,
    "start_time": "2023-05-14T15:45:36.988Z"
   },
   {
    "duration": 63,
    "start_time": "2023-05-14T15:46:01.669Z"
   },
   {
    "duration": 16,
    "start_time": "2023-05-14T15:46:30.272Z"
   },
   {
    "duration": 5,
    "start_time": "2023-05-14T15:46:33.402Z"
   },
   {
    "duration": 7,
    "start_time": "2023-05-14T15:46:55.824Z"
   },
   {
    "duration": 52,
    "start_time": "2023-05-14T15:53:16.971Z"
   },
   {
    "duration": 21,
    "start_time": "2023-05-14T15:57:07.209Z"
   },
   {
    "duration": 42,
    "start_time": "2023-05-14T15:57:12.562Z"
   },
   {
    "duration": 23,
    "start_time": "2023-05-14T15:57:47.021Z"
   },
   {
    "duration": 33,
    "start_time": "2023-05-14T15:58:00.491Z"
   },
   {
    "duration": 23,
    "start_time": "2023-05-14T16:01:01.262Z"
   },
   {
    "duration": 24,
    "start_time": "2023-05-14T16:01:10.490Z"
   },
   {
    "duration": 35,
    "start_time": "2023-05-14T16:01:33.962Z"
   },
   {
    "duration": 23,
    "start_time": "2023-05-14T16:01:36.253Z"
   },
   {
    "duration": 23,
    "start_time": "2023-05-14T16:01:54.231Z"
   },
   {
    "duration": 37,
    "start_time": "2023-05-14T16:03:00.776Z"
   },
   {
    "duration": 33,
    "start_time": "2023-05-14T16:03:02.563Z"
   },
   {
    "duration": 5,
    "start_time": "2023-05-14T16:31:08.447Z"
   },
   {
    "duration": 7,
    "start_time": "2023-05-14T16:31:11.825Z"
   },
   {
    "duration": 7,
    "start_time": "2023-05-14T16:31:39.188Z"
   },
   {
    "duration": 5,
    "start_time": "2023-05-14T16:31:42.319Z"
   },
   {
    "duration": 8,
    "start_time": "2023-05-14T16:31:53.870Z"
   },
   {
    "duration": 13,
    "start_time": "2023-05-14T16:32:12.725Z"
   },
   {
    "duration": 17,
    "start_time": "2023-05-14T16:32:17.619Z"
   },
   {
    "duration": 56,
    "start_time": "2023-05-14T16:32:18.101Z"
   },
   {
    "duration": 16,
    "start_time": "2023-05-14T16:32:18.960Z"
   },
   {
    "duration": 19,
    "start_time": "2023-05-14T16:32:19.527Z"
   },
   {
    "duration": 56,
    "start_time": "2023-05-14T16:32:20.551Z"
   },
   {
    "duration": 13,
    "start_time": "2023-05-14T16:32:21.602Z"
   },
   {
    "duration": 17,
    "start_time": "2023-05-14T16:32:22.292Z"
   },
   {
    "duration": 55,
    "start_time": "2023-05-14T16:32:22.797Z"
   },
   {
    "duration": 12,
    "start_time": "2023-05-14T16:32:31.096Z"
   },
   {
    "duration": 18,
    "start_time": "2023-05-14T16:33:01.217Z"
   },
   {
    "duration": 25,
    "start_time": "2023-05-14T16:33:01.506Z"
   },
   {
    "duration": 23,
    "start_time": "2023-05-14T16:33:01.744Z"
   },
   {
    "duration": 247,
    "start_time": "2023-05-14T16:33:03.342Z"
   },
   {
    "duration": 206,
    "start_time": "2023-05-14T16:33:03.593Z"
   },
   {
    "duration": 203,
    "start_time": "2023-05-14T16:33:03.801Z"
   },
   {
    "duration": 7,
    "start_time": "2023-05-14T16:33:04.289Z"
   },
   {
    "duration": 14,
    "start_time": "2023-05-14T16:33:04.789Z"
   },
   {
    "duration": 5,
    "start_time": "2023-05-14T16:33:06.292Z"
   },
   {
    "duration": 7,
    "start_time": "2023-05-14T16:33:06.942Z"
   },
   {
    "duration": 5,
    "start_time": "2023-05-14T16:33:07.562Z"
   },
   {
    "duration": 8,
    "start_time": "2023-05-14T16:33:08.245Z"
   },
   {
    "duration": 12,
    "start_time": "2023-05-14T16:33:09.004Z"
   },
   {
    "duration": 14,
    "start_time": "2023-05-14T16:33:09.195Z"
   },
   {
    "duration": 52,
    "start_time": "2023-05-14T16:33:09.394Z"
   },
   {
    "duration": 12,
    "start_time": "2023-05-14T16:33:09.745Z"
   },
   {
    "duration": 15,
    "start_time": "2023-05-14T16:33:09.900Z"
   },
   {
    "duration": 50,
    "start_time": "2023-05-14T16:33:10.071Z"
   },
   {
    "duration": 13,
    "start_time": "2023-05-14T16:33:10.542Z"
   },
   {
    "duration": 15,
    "start_time": "2023-05-14T16:33:10.739Z"
   },
   {
    "duration": 57,
    "start_time": "2023-05-14T16:33:10.945Z"
   },
   {
    "duration": 9,
    "start_time": "2023-05-14T16:33:13.025Z"
   },
   {
    "duration": 4,
    "start_time": "2023-05-14T16:33:17.962Z"
   },
   {
    "duration": 4,
    "start_time": "2023-05-14T16:33:28.691Z"
   },
   {
    "duration": 4,
    "start_time": "2023-05-14T16:33:29.439Z"
   },
   {
    "duration": 7,
    "start_time": "2023-05-14T16:33:29.899Z"
   },
   {
    "duration": 8,
    "start_time": "2023-05-14T16:33:30.627Z"
   },
   {
    "duration": 8,
    "start_time": "2023-05-14T16:33:31.109Z"
   },
   {
    "duration": 8,
    "start_time": "2023-05-14T16:44:40.737Z"
   },
   {
    "duration": 4,
    "start_time": "2023-05-14T16:44:41.763Z"
   },
   {
    "duration": 12,
    "start_time": "2023-05-14T16:44:42.072Z"
   },
   {
    "duration": 1757,
    "start_time": "2023-05-14T16:44:42.543Z"
   },
   {
    "duration": 1896,
    "start_time": "2023-05-14T16:44:44.302Z"
   },
   {
    "duration": 1864,
    "start_time": "2023-05-14T16:44:46.199Z"
   },
   {
    "duration": 20,
    "start_time": "2023-05-14T16:44:48.066Z"
   },
   {
    "duration": 12,
    "start_time": "2023-05-14T16:45:53.195Z"
   },
   {
    "duration": 23,
    "start_time": "2023-05-14T16:46:09.973Z"
   },
   {
    "duration": 11,
    "start_time": "2023-05-14T16:46:19.397Z"
   },
   {
    "duration": 1407,
    "start_time": "2023-05-14T16:51:31.566Z"
   },
   {
    "duration": 144,
    "start_time": "2023-05-14T16:51:32.975Z"
   },
   {
    "duration": 121,
    "start_time": "2023-05-14T16:51:33.121Z"
   },
   {
    "duration": 121,
    "start_time": "2023-05-14T16:51:33.245Z"
   },
   {
    "duration": 26,
    "start_time": "2023-05-14T16:51:33.368Z"
   },
   {
    "duration": 46,
    "start_time": "2023-05-14T16:51:33.395Z"
   },
   {
    "duration": 11,
    "start_time": "2023-05-14T16:51:33.442Z"
   },
   {
    "duration": 64,
    "start_time": "2023-05-14T16:51:33.455Z"
   },
   {
    "duration": 21,
    "start_time": "2023-05-14T16:51:33.522Z"
   },
   {
    "duration": 381,
    "start_time": "2023-05-14T16:51:33.546Z"
   },
   {
    "duration": 15,
    "start_time": "2023-05-14T16:51:33.929Z"
   },
   {
    "duration": 73,
    "start_time": "2023-05-14T16:51:33.946Z"
   },
   {
    "duration": 11,
    "start_time": "2023-05-14T16:51:34.021Z"
   },
   {
    "duration": 59,
    "start_time": "2023-05-14T16:51:34.034Z"
   },
   {
    "duration": 18,
    "start_time": "2023-05-14T16:51:34.095Z"
   },
   {
    "duration": 404,
    "start_time": "2023-05-14T16:51:34.115Z"
   },
   {
    "duration": 15,
    "start_time": "2023-05-14T16:51:34.521Z"
   },
   {
    "duration": 70,
    "start_time": "2023-05-14T16:51:34.538Z"
   },
   {
    "duration": 10,
    "start_time": "2023-05-14T16:51:34.609Z"
   },
   {
    "duration": 38,
    "start_time": "2023-05-14T16:51:34.621Z"
   },
   {
    "duration": 20,
    "start_time": "2023-05-14T16:51:34.682Z"
   },
   {
    "duration": 327,
    "start_time": "2023-05-14T16:51:34.703Z"
   },
   {
    "duration": 318,
    "start_time": "2023-05-14T16:51:35.033Z"
   },
   {
    "duration": 65,
    "start_time": "2023-05-14T16:51:35.353Z"
   },
   {
    "duration": 66,
    "start_time": "2023-05-14T16:51:35.420Z"
   },
   {
    "duration": 7,
    "start_time": "2023-05-14T16:51:35.488Z"
   },
   {
    "duration": 7,
    "start_time": "2023-05-14T16:51:35.498Z"
   },
   {
    "duration": 45,
    "start_time": "2023-05-14T16:51:35.509Z"
   },
   {
    "duration": 53,
    "start_time": "2023-05-14T16:51:35.556Z"
   },
   {
    "duration": 27,
    "start_time": "2023-05-14T16:51:35.611Z"
   },
   {
    "duration": 47,
    "start_time": "2023-05-14T16:51:35.640Z"
   },
   {
    "duration": 18,
    "start_time": "2023-05-14T16:51:35.690Z"
   },
   {
    "duration": 19,
    "start_time": "2023-05-14T16:51:35.709Z"
   },
   {
    "duration": 20,
    "start_time": "2023-05-14T16:51:35.729Z"
   },
   {
    "duration": 57,
    "start_time": "2023-05-14T16:51:35.751Z"
   },
   {
    "duration": 177,
    "start_time": "2023-05-14T16:51:35.813Z"
   },
   {
    "duration": 102,
    "start_time": "2023-05-14T16:51:36.077Z"
   },
   {
    "duration": 92,
    "start_time": "2023-05-14T16:51:36.187Z"
   },
   {
    "duration": 15,
    "start_time": "2023-05-14T16:51:36.281Z"
   },
   {
    "duration": 3,
    "start_time": "2023-05-14T16:51:36.298Z"
   },
   {
    "duration": 7,
    "start_time": "2023-05-14T16:51:36.303Z"
   },
   {
    "duration": 5,
    "start_time": "2023-05-14T16:51:36.311Z"
   },
   {
    "duration": 8,
    "start_time": "2023-05-14T16:51:36.318Z"
   },
   {
    "duration": 12,
    "start_time": "2023-05-14T16:51:36.328Z"
   },
   {
    "duration": 22,
    "start_time": "2023-05-14T16:51:36.384Z"
   },
   {
    "duration": 52,
    "start_time": "2023-05-14T16:51:36.408Z"
   },
   {
    "duration": 27,
    "start_time": "2023-05-14T16:51:36.462Z"
   },
   {
    "duration": 13,
    "start_time": "2023-05-14T16:51:36.494Z"
   },
   {
    "duration": 50,
    "start_time": "2023-05-14T16:51:36.509Z"
   },
   {
    "duration": 31,
    "start_time": "2023-05-14T16:51:36.560Z"
   },
   {
    "duration": 14,
    "start_time": "2023-05-14T16:51:36.595Z"
   },
   {
    "duration": 53,
    "start_time": "2023-05-14T16:51:36.610Z"
   },
   {
    "duration": 29,
    "start_time": "2023-05-14T16:51:36.665Z"
   },
   {
    "duration": 3,
    "start_time": "2023-05-14T16:51:36.696Z"
   },
   {
    "duration": 5,
    "start_time": "2023-05-14T16:51:36.701Z"
   },
   {
    "duration": 5,
    "start_time": "2023-05-14T16:51:36.707Z"
   },
   {
    "duration": 8,
    "start_time": "2023-05-14T16:51:36.715Z"
   },
   {
    "duration": 8,
    "start_time": "2023-05-14T16:51:36.725Z"
   },
   {
    "duration": 7,
    "start_time": "2023-05-14T16:51:36.734Z"
   },
   {
    "duration": 11,
    "start_time": "2023-05-14T16:51:36.778Z"
   },
   {
    "duration": 7,
    "start_time": "2023-05-14T16:51:36.795Z"
   },
   {
    "duration": 1883,
    "start_time": "2023-05-14T16:51:36.804Z"
   },
   {
    "duration": 1784,
    "start_time": "2023-05-14T16:51:38.692Z"
   },
   {
    "duration": 1785,
    "start_time": "2023-05-14T16:51:40.478Z"
   },
   {
    "duration": 26,
    "start_time": "2023-05-14T16:51:42.264Z"
   }
  ],
  "kernelspec": {
   "display_name": "Python 3 (ipykernel)",
   "language": "python",
   "name": "python3"
  },
  "language_info": {
   "codemirror_mode": {
    "name": "ipython",
    "version": 3
   },
   "file_extension": ".py",
   "mimetype": "text/x-python",
   "name": "python",
   "nbconvert_exporter": "python",
   "pygments_lexer": "ipython3",
   "version": "3.9.5"
  },
  "toc": {
   "base_numbering": 1,
   "nav_menu": {},
   "number_sections": true,
   "sideBar": true,
   "skip_h1_title": true,
   "title_cell": "Table of Contents",
   "title_sidebar": "Contents",
   "toc_cell": false,
   "toc_position": {},
   "toc_section_display": true,
   "toc_window_display": false
  }
 },
 "nbformat": 4,
 "nbformat_minor": 4
}
