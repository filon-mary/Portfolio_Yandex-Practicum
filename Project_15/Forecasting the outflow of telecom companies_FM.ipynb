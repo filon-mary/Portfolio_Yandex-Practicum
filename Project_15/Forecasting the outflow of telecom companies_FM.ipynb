{
 "cells": [
  {
   "cell_type": "markdown",
   "id": "d70c3b29-6d83-47de-b350-1866dacac6f9",
   "metadata": {},
   "source": [
    "# Прогноз ухода клиента от оператора связи «Ниединогоразрыва.ком» \n",
    "\n",
    "# Описание проекта: телекоммуникации\n",
    "Оператор связи «Ниединогоразрыва.ком» хочет научиться прогнозировать отток клиентов. Если выяснится, что пользователь планирует уйти, ему будут предложены промокоды и специальные условия. Команда оператора собрала персональные данные о некоторых клиентах, информацию об их тарифах и договорах.\n",
    "\n",
    "## Описание услуг\n",
    "Оператор предоставляет два основных типа услуг: \n",
    "* Стационарную телефонную связь. Возможно подключение телефонного аппарата к нескольким линиям одновременно.\n",
    "* Интернет. Подключение может быть двух типов: через телефонную линию (DSL, от англ. digital subscriber line, «цифровая абонентская линия») или оптоволоконный кабель (Fiber optic).\n",
    "\n",
    "Также доступны такие услуги:\n",
    "* Интернет-безопасность: антивирус (DeviceProtection) и блокировка небезопасных сайтов (OnlineSecurity);\n",
    "* Выделенная линия технической поддержки (TechSupport);\n",
    "* Облачное хранилище файлов для резервного копирования данных (OnlineBackup);\n",
    "* Стриминговое телевидение (StreamingTV) и каталог фильмов (StreamingMovies). <br>\n",
    "\n",
    "За услуги клиенты могут платить каждый месяц или заключить договор на 1–2 года. Доступны различные способы расчёта и возможность получения электронного чека.\n",
    "\n",
    "## Описание данных\n",
    "Данные состоят из файлов, полученных из разных источников:\n",
    "* contract_new.csv — информация о договоре;\n",
    "* personal_new.csv — персональные данные клиента;\n",
    "* internet_new.csv — информация об интернет-услугах;\n",
    "* phone_new.csv — информация об услугах телефонии.\n",
    "\n",
    "## Описание полей данных\n",
    "* BeginDate – дата начала пользования услугами,\n",
    "* EndDate – дата окончания пользования услугами,\n",
    "* Type – тип оплаты: ежемесячный, годовой и тд,\n",
    "* PaperlessBilling – безналичный расчет,\n",
    "* PaymentMethod – способ оплаты,\n",
    "* MonthlyCharges – ежемесячные траты на услуги,\n",
    "* TotalCharges – всего потрачено денег на услуги\n",
    "* Dependents – наличие иждивенцев\n",
    "* Senior Citizen – наличие пенсионного статуса по возрасту\n",
    "* Partner – наличие супруга(и)\n",
    "* MultipleLines – наличие возможности ведения параллельных линий во время звонка\n",
    "\n",
    "Во всех файлах столбец customerID содержит код клиента.<br>\n",
    "Информация о договорах актуальна на 1 февраля 2020.<br>\n",
    "### Данные\n",
    "contract_new.csv<br>\n",
    "personal_new.csv<br>\n",
    "internet_new.csv<br>\n",
    "phone_new.csv<br>"
   ]
  },
  {
   "cell_type": "markdown",
   "id": "6b21ea28-68ed-4d7c-8cb9-2b643fbe1998",
   "metadata": {},
   "source": [
    "# Цель исследования\n",
    "1. Построить модель с максимально большим значением метрики AUC-ROC, которая спрогнозирует уход клиента.\n",
    "\n",
    "\n",
    "# 1. План работы\n",
    "1. Написание плана работы\n",
    "2. Предобработка данных:\n",
    "    * объединение данных,\n",
    "    * генерация признаков, \n",
    "    * проверка датасета на пропуски, аномалии и т.д\n",
    "3. Исследовательский анализ данных:\n",
    "    * рассмотрим и проанализируем несколько признаков, а так же проведем анализ на корреляцию,\n",
    "    * выдвижение гипотез,\n",
    "    * написание выводов\n",
    "4. Подготовка данных:\n",
    "    * деление данных на выборки, \n",
    "    * кодировка и масштабирование данных, где это необходимо\n",
    "5. Обучение моделей:\n",
    "    * проводим настройки моделей, \n",
    "    * выбираем наилучшую модель - качество финальной модели должно быть больше значения основной метрики: AUC-ROC >= 0.85\n",
    "6. Тестирование наилучшей модели:\n",
    "    * проверяем наилучшую модель на тестовой выборке\n",
    "7. Общий вывод\n",
    "8. Отчет о проделанной работе"
   ]
  },
  {
   "cell_type": "markdown",
   "id": "b98602d3-c279-4ca2-a178-88f42756ea7b",
   "metadata": {},
   "source": [
    "Загружаем необходимые библиотеки"
   ]
  },
  {
   "cell_type": "code",
   "execution_count": 1,
   "id": "0e8481c0-2413-4dca-b6b0-65dba8f75188",
   "metadata": {},
   "outputs": [],
   "source": [
    "import pandas as pd\n",
    "import numpy as np\n",
    "import seaborn as sns\n",
    "import matplotlib.pyplot as plt \n",
    "import sklearn\n",
    "import lightgbm as lgb\n",
    "from lightgbm import LGBMClassifier\n",
    "from catboost import CatBoostClassifier\n",
    "from sklearn.ensemble import RandomForestClassifier\n",
    "from sklearn.linear_model import LogisticRegression\n",
    "from sklearn.preprocessing import OneHotEncoder\n",
    "from sklearn.utils import shuffle\n",
    "from sklearn.metrics import confusion_matrix, f1_score, ConfusionMatrixDisplay, roc_auc_score\n",
    "from sklearn.preprocessing import StandardScaler \n",
    "from sklearn.model_selection import train_test_split \n",
    "from sklearn.preprocessing import StandardScaler \n",
    "from sklearn.metrics import make_scorer\n",
    "from sklearn.model_selection import GridSearchCV\n",
    "from sklearn.model_selection import cross_val_score\n",
    "from sklearn.utils import shuffle\n",
    "from sklearn.metrics import roc_curve "
   ]
  },
  {
   "cell_type": "code",
   "execution_count": 2,
   "id": "2c550e9e-784b-43ca-b142-1c51017b9928",
   "metadata": {},
   "outputs": [],
   "source": [
    "data_load = '2020-02-01'"
   ]
  },
  {
   "cell_type": "code",
   "execution_count": 3,
   "id": "0413b89a-aa85-4313-a6f7-b787f0a5ad58",
   "metadata": {},
   "outputs": [],
   "source": [
    "!pip install -U -q scikit-learn\n",
    "!pip install -U -q matplotlib\n",
    "!pip install -U -q seaborn"
   ]
  },
  {
   "cell_type": "markdown",
   "id": "1ab8be63-efbf-4519-8e79-1555b85874a2",
   "metadata": {},
   "source": [
    "Загружаем и изучаем датафрейм (информация о договоре)"
   ]
  },
  {
   "cell_type": "code",
   "execution_count": 4,
   "id": "3cf84a56-42d1-4e4d-90c4-65d38a55ff69",
   "metadata": {},
   "outputs": [],
   "source": [
    "try:\n",
    "    data_contract = pd.read_csv('contract_new.csv')\n",
    "except:    \n",
    "    pass"
   ]
  },
  {
   "cell_type": "markdown",
   "id": "f3e3d4f9-074b-4301-adf1-ffe58fc995ce",
   "metadata": {},
   "source": [
    "Загружаем и изучаем датафрейм (персональные данные клиента)"
   ]
  },
  {
   "cell_type": "code",
   "execution_count": 5,
   "id": "19f5509a-5263-4d87-8f2c-a7129eca205d",
   "metadata": {},
   "outputs": [],
   "source": [
    "try:\n",
    "    data_personal = pd.read_csv('personal_new.csv')\n",
    "except:    \n",
    "    pass"
   ]
  },
  {
   "cell_type": "markdown",
   "id": "6e1e3a93-b24a-4182-bfb4-634b3befcccc",
   "metadata": {},
   "source": [
    "Загружаем и изучаем датафрейм (информация об интернет-услугах)"
   ]
  },
  {
   "cell_type": "code",
   "execution_count": 6,
   "id": "99dbf7b0-89ca-4b8b-8df8-90e502b1f778",
   "metadata": {},
   "outputs": [],
   "source": [
    "try:\n",
    "    data_internet = pd.read_csv('internet_new.csv')\n",
    "except:    \n",
    "    pass"
   ]
  },
  {
   "cell_type": "markdown",
   "id": "9a0df338-da5c-4ded-9d96-48ea5d0b0e22",
   "metadata": {},
   "source": [
    "Загружаем и изучаем датафрейм (информация об услугах телефонии)"
   ]
  },
  {
   "cell_type": "code",
   "execution_count": 7,
   "id": "d3afc576-18ba-43aa-b77a-4f26518a9422",
   "metadata": {},
   "outputs": [],
   "source": [
    "try:\n",
    "    data_phone = pd.read_csv('phone_new.csv')\n",
    "except:    \n",
    "    pass "
   ]
  },
  {
   "cell_type": "markdown",
   "id": "649cec72-63c8-4631-9458-483b83bb1c12",
   "metadata": {},
   "source": [
    "Исследуем датасеты\n",
    "\n",
    "Информация о договоре"
   ]
  },
  {
   "cell_type": "code",
   "execution_count": 8,
   "id": "8b907c10-9942-40e6-afe3-94c20062646e",
   "metadata": {},
   "outputs": [
    {
     "data": {
      "text/html": [
       "<div>\n",
       "<style scoped>\n",
       "    .dataframe tbody tr th:only-of-type {\n",
       "        vertical-align: middle;\n",
       "    }\n",
       "\n",
       "    .dataframe tbody tr th {\n",
       "        vertical-align: top;\n",
       "    }\n",
       "\n",
       "    .dataframe thead th {\n",
       "        text-align: right;\n",
       "    }\n",
       "</style>\n",
       "<table border=\"1\" class=\"dataframe\">\n",
       "  <thead>\n",
       "    <tr style=\"text-align: right;\">\n",
       "      <th></th>\n",
       "      <th>customerID</th>\n",
       "      <th>BeginDate</th>\n",
       "      <th>EndDate</th>\n",
       "      <th>Type</th>\n",
       "      <th>PaperlessBilling</th>\n",
       "      <th>PaymentMethod</th>\n",
       "      <th>MonthlyCharges</th>\n",
       "      <th>TotalCharges</th>\n",
       "    </tr>\n",
       "  </thead>\n",
       "  <tbody>\n",
       "    <tr>\n",
       "      <th>0</th>\n",
       "      <td>7590-VHVEG</td>\n",
       "      <td>2020-01-01</td>\n",
       "      <td>No</td>\n",
       "      <td>Month-to-month</td>\n",
       "      <td>Yes</td>\n",
       "      <td>Electronic check</td>\n",
       "      <td>29.85</td>\n",
       "      <td>31.04</td>\n",
       "    </tr>\n",
       "    <tr>\n",
       "      <th>1</th>\n",
       "      <td>5575-GNVDE</td>\n",
       "      <td>2017-04-01</td>\n",
       "      <td>No</td>\n",
       "      <td>One year</td>\n",
       "      <td>No</td>\n",
       "      <td>Mailed check</td>\n",
       "      <td>56.95</td>\n",
       "      <td>2071.84</td>\n",
       "    </tr>\n",
       "    <tr>\n",
       "      <th>2</th>\n",
       "      <td>3668-QPYBK</td>\n",
       "      <td>2019-10-01</td>\n",
       "      <td>No</td>\n",
       "      <td>Month-to-month</td>\n",
       "      <td>Yes</td>\n",
       "      <td>Mailed check</td>\n",
       "      <td>53.85</td>\n",
       "      <td>226.17</td>\n",
       "    </tr>\n",
       "    <tr>\n",
       "      <th>3</th>\n",
       "      <td>7795-CFOCW</td>\n",
       "      <td>2016-05-01</td>\n",
       "      <td>No</td>\n",
       "      <td>One year</td>\n",
       "      <td>No</td>\n",
       "      <td>Bank transfer (automatic)</td>\n",
       "      <td>42.30</td>\n",
       "      <td>1960.6</td>\n",
       "    </tr>\n",
       "    <tr>\n",
       "      <th>4</th>\n",
       "      <td>9237-HQITU</td>\n",
       "      <td>2019-09-01</td>\n",
       "      <td>No</td>\n",
       "      <td>Month-to-month</td>\n",
       "      <td>Yes</td>\n",
       "      <td>Electronic check</td>\n",
       "      <td>70.70</td>\n",
       "      <td>353.5</td>\n",
       "    </tr>\n",
       "  </tbody>\n",
       "</table>\n",
       "</div>"
      ],
      "text/plain": [
       "   customerID   BeginDate EndDate            Type PaperlessBilling  \\\n",
       "0  7590-VHVEG  2020-01-01      No  Month-to-month              Yes   \n",
       "1  5575-GNVDE  2017-04-01      No        One year               No   \n",
       "2  3668-QPYBK  2019-10-01      No  Month-to-month              Yes   \n",
       "3  7795-CFOCW  2016-05-01      No        One year               No   \n",
       "4  9237-HQITU  2019-09-01      No  Month-to-month              Yes   \n",
       "\n",
       "               PaymentMethod  MonthlyCharges TotalCharges  \n",
       "0           Electronic check           29.85        31.04  \n",
       "1               Mailed check           56.95      2071.84  \n",
       "2               Mailed check           53.85       226.17  \n",
       "3  Bank transfer (automatic)           42.30       1960.6  \n",
       "4           Electronic check           70.70        353.5  "
      ]
     },
     "execution_count": 8,
     "metadata": {},
     "output_type": "execute_result"
    }
   ],
   "source": [
    "data_contract.head()"
   ]
  },
  {
   "cell_type": "code",
   "execution_count": 9,
   "id": "7662681c-02b6-4777-ad20-896d7f3b778c",
   "metadata": {
    "scrolled": true,
    "tags": []
   },
   "outputs": [
    {
     "name": "stdout",
     "output_type": "stream",
     "text": [
      "<class 'pandas.core.frame.DataFrame'>\n",
      "RangeIndex: 7043 entries, 0 to 7042\n",
      "Data columns (total 8 columns):\n",
      " #   Column            Non-Null Count  Dtype  \n",
      "---  ------            --------------  -----  \n",
      " 0   customerID        7043 non-null   object \n",
      " 1   BeginDate         7043 non-null   object \n",
      " 2   EndDate           7043 non-null   object \n",
      " 3   Type              7043 non-null   object \n",
      " 4   PaperlessBilling  7043 non-null   object \n",
      " 5   PaymentMethod     7043 non-null   object \n",
      " 6   MonthlyCharges    7043 non-null   float64\n",
      " 7   TotalCharges      7043 non-null   object \n",
      "dtypes: float64(1), object(7)\n",
      "memory usage: 440.3+ KB\n"
     ]
    }
   ],
   "source": [
    "data_contract.info()"
   ]
  },
  {
   "cell_type": "code",
   "execution_count": 10,
   "id": "0405bc7f-857f-4d61-8823-1a2b2a4fcf4c",
   "metadata": {},
   "outputs": [
    {
     "data": {
      "text/html": [
       "<div>\n",
       "<style scoped>\n",
       "    .dataframe tbody tr th:only-of-type {\n",
       "        vertical-align: middle;\n",
       "    }\n",
       "\n",
       "    .dataframe tbody tr th {\n",
       "        vertical-align: top;\n",
       "    }\n",
       "\n",
       "    .dataframe thead th {\n",
       "        text-align: right;\n",
       "    }\n",
       "</style>\n",
       "<table border=\"1\" class=\"dataframe\">\n",
       "  <thead>\n",
       "    <tr style=\"text-align: right;\">\n",
       "      <th></th>\n",
       "      <th>MonthlyCharges</th>\n",
       "    </tr>\n",
       "  </thead>\n",
       "  <tbody>\n",
       "    <tr>\n",
       "      <th>count</th>\n",
       "      <td>7043.000000</td>\n",
       "    </tr>\n",
       "    <tr>\n",
       "      <th>mean</th>\n",
       "      <td>64.761692</td>\n",
       "    </tr>\n",
       "    <tr>\n",
       "      <th>std</th>\n",
       "      <td>30.090047</td>\n",
       "    </tr>\n",
       "    <tr>\n",
       "      <th>min</th>\n",
       "      <td>18.250000</td>\n",
       "    </tr>\n",
       "    <tr>\n",
       "      <th>25%</th>\n",
       "      <td>35.500000</td>\n",
       "    </tr>\n",
       "    <tr>\n",
       "      <th>50%</th>\n",
       "      <td>70.350000</td>\n",
       "    </tr>\n",
       "    <tr>\n",
       "      <th>75%</th>\n",
       "      <td>89.850000</td>\n",
       "    </tr>\n",
       "    <tr>\n",
       "      <th>max</th>\n",
       "      <td>118.750000</td>\n",
       "    </tr>\n",
       "  </tbody>\n",
       "</table>\n",
       "</div>"
      ],
      "text/plain": [
       "       MonthlyCharges\n",
       "count     7043.000000\n",
       "mean        64.761692\n",
       "std         30.090047\n",
       "min         18.250000\n",
       "25%         35.500000\n",
       "50%         70.350000\n",
       "75%         89.850000\n",
       "max        118.750000"
      ]
     },
     "execution_count": 10,
     "metadata": {},
     "output_type": "execute_result"
    }
   ],
   "source": [
    "data_contract.describe()"
   ]
  },
  {
   "cell_type": "markdown",
   "id": "55f816ba-4e0e-4a53-b284-edac8398cb07",
   "metadata": {},
   "source": [
    "Персональные данные клиента"
   ]
  },
  {
   "cell_type": "code",
   "execution_count": 11,
   "id": "0d6ebb0d-0b32-40e8-a1d9-4d5ddb1226c2",
   "metadata": {},
   "outputs": [
    {
     "data": {
      "text/html": [
       "<div>\n",
       "<style scoped>\n",
       "    .dataframe tbody tr th:only-of-type {\n",
       "        vertical-align: middle;\n",
       "    }\n",
       "\n",
       "    .dataframe tbody tr th {\n",
       "        vertical-align: top;\n",
       "    }\n",
       "\n",
       "    .dataframe thead th {\n",
       "        text-align: right;\n",
       "    }\n",
       "</style>\n",
       "<table border=\"1\" class=\"dataframe\">\n",
       "  <thead>\n",
       "    <tr style=\"text-align: right;\">\n",
       "      <th></th>\n",
       "      <th>customerID</th>\n",
       "      <th>gender</th>\n",
       "      <th>SeniorCitizen</th>\n",
       "      <th>Partner</th>\n",
       "      <th>Dependents</th>\n",
       "    </tr>\n",
       "  </thead>\n",
       "  <tbody>\n",
       "    <tr>\n",
       "      <th>0</th>\n",
       "      <td>7590-VHVEG</td>\n",
       "      <td>Female</td>\n",
       "      <td>0</td>\n",
       "      <td>Yes</td>\n",
       "      <td>No</td>\n",
       "    </tr>\n",
       "    <tr>\n",
       "      <th>1</th>\n",
       "      <td>5575-GNVDE</td>\n",
       "      <td>Male</td>\n",
       "      <td>0</td>\n",
       "      <td>No</td>\n",
       "      <td>No</td>\n",
       "    </tr>\n",
       "    <tr>\n",
       "      <th>2</th>\n",
       "      <td>3668-QPYBK</td>\n",
       "      <td>Male</td>\n",
       "      <td>0</td>\n",
       "      <td>No</td>\n",
       "      <td>No</td>\n",
       "    </tr>\n",
       "    <tr>\n",
       "      <th>3</th>\n",
       "      <td>7795-CFOCW</td>\n",
       "      <td>Male</td>\n",
       "      <td>0</td>\n",
       "      <td>No</td>\n",
       "      <td>No</td>\n",
       "    </tr>\n",
       "    <tr>\n",
       "      <th>4</th>\n",
       "      <td>9237-HQITU</td>\n",
       "      <td>Female</td>\n",
       "      <td>0</td>\n",
       "      <td>No</td>\n",
       "      <td>No</td>\n",
       "    </tr>\n",
       "  </tbody>\n",
       "</table>\n",
       "</div>"
      ],
      "text/plain": [
       "   customerID  gender  SeniorCitizen Partner Dependents\n",
       "0  7590-VHVEG  Female              0     Yes         No\n",
       "1  5575-GNVDE    Male              0      No         No\n",
       "2  3668-QPYBK    Male              0      No         No\n",
       "3  7795-CFOCW    Male              0      No         No\n",
       "4  9237-HQITU  Female              0      No         No"
      ]
     },
     "execution_count": 11,
     "metadata": {},
     "output_type": "execute_result"
    }
   ],
   "source": [
    "data_personal.head()"
   ]
  },
  {
   "cell_type": "code",
   "execution_count": 12,
   "id": "04f5875b-6b1a-4cd3-b688-f1383fbb9d4b",
   "metadata": {},
   "outputs": [
    {
     "name": "stdout",
     "output_type": "stream",
     "text": [
      "<class 'pandas.core.frame.DataFrame'>\n",
      "RangeIndex: 7043 entries, 0 to 7042\n",
      "Data columns (total 5 columns):\n",
      " #   Column         Non-Null Count  Dtype \n",
      "---  ------         --------------  ----- \n",
      " 0   customerID     7043 non-null   object\n",
      " 1   gender         7043 non-null   object\n",
      " 2   SeniorCitizen  7043 non-null   int64 \n",
      " 3   Partner        7043 non-null   object\n",
      " 4   Dependents     7043 non-null   object\n",
      "dtypes: int64(1), object(4)\n",
      "memory usage: 275.2+ KB\n"
     ]
    }
   ],
   "source": [
    "data_personal.info()"
   ]
  },
  {
   "cell_type": "code",
   "execution_count": 13,
   "id": "2ade56d1-73b2-41a1-8360-61adf943d293",
   "metadata": {},
   "outputs": [
    {
     "data": {
      "text/html": [
       "<div>\n",
       "<style scoped>\n",
       "    .dataframe tbody tr th:only-of-type {\n",
       "        vertical-align: middle;\n",
       "    }\n",
       "\n",
       "    .dataframe tbody tr th {\n",
       "        vertical-align: top;\n",
       "    }\n",
       "\n",
       "    .dataframe thead th {\n",
       "        text-align: right;\n",
       "    }\n",
       "</style>\n",
       "<table border=\"1\" class=\"dataframe\">\n",
       "  <thead>\n",
       "    <tr style=\"text-align: right;\">\n",
       "      <th></th>\n",
       "      <th>SeniorCitizen</th>\n",
       "    </tr>\n",
       "  </thead>\n",
       "  <tbody>\n",
       "    <tr>\n",
       "      <th>count</th>\n",
       "      <td>7043.000000</td>\n",
       "    </tr>\n",
       "    <tr>\n",
       "      <th>mean</th>\n",
       "      <td>0.162147</td>\n",
       "    </tr>\n",
       "    <tr>\n",
       "      <th>std</th>\n",
       "      <td>0.368612</td>\n",
       "    </tr>\n",
       "    <tr>\n",
       "      <th>min</th>\n",
       "      <td>0.000000</td>\n",
       "    </tr>\n",
       "    <tr>\n",
       "      <th>25%</th>\n",
       "      <td>0.000000</td>\n",
       "    </tr>\n",
       "    <tr>\n",
       "      <th>50%</th>\n",
       "      <td>0.000000</td>\n",
       "    </tr>\n",
       "    <tr>\n",
       "      <th>75%</th>\n",
       "      <td>0.000000</td>\n",
       "    </tr>\n",
       "    <tr>\n",
       "      <th>max</th>\n",
       "      <td>1.000000</td>\n",
       "    </tr>\n",
       "  </tbody>\n",
       "</table>\n",
       "</div>"
      ],
      "text/plain": [
       "       SeniorCitizen\n",
       "count    7043.000000\n",
       "mean        0.162147\n",
       "std         0.368612\n",
       "min         0.000000\n",
       "25%         0.000000\n",
       "50%         0.000000\n",
       "75%         0.000000\n",
       "max         1.000000"
      ]
     },
     "execution_count": 13,
     "metadata": {},
     "output_type": "execute_result"
    }
   ],
   "source": [
    "data_personal.describe()"
   ]
  },
  {
   "cell_type": "markdown",
   "id": "f2f987cc-3984-4910-afa6-3ed650fd8cec",
   "metadata": {},
   "source": [
    "Информация об интернет-услугах"
   ]
  },
  {
   "cell_type": "code",
   "execution_count": 14,
   "id": "91ae410c-dde6-40dd-bce4-6419880333b1",
   "metadata": {},
   "outputs": [
    {
     "data": {
      "text/html": [
       "<div>\n",
       "<style scoped>\n",
       "    .dataframe tbody tr th:only-of-type {\n",
       "        vertical-align: middle;\n",
       "    }\n",
       "\n",
       "    .dataframe tbody tr th {\n",
       "        vertical-align: top;\n",
       "    }\n",
       "\n",
       "    .dataframe thead th {\n",
       "        text-align: right;\n",
       "    }\n",
       "</style>\n",
       "<table border=\"1\" class=\"dataframe\">\n",
       "  <thead>\n",
       "    <tr style=\"text-align: right;\">\n",
       "      <th></th>\n",
       "      <th>customerID</th>\n",
       "      <th>InternetService</th>\n",
       "      <th>OnlineSecurity</th>\n",
       "      <th>OnlineBackup</th>\n",
       "      <th>DeviceProtection</th>\n",
       "      <th>TechSupport</th>\n",
       "      <th>StreamingTV</th>\n",
       "      <th>StreamingMovies</th>\n",
       "    </tr>\n",
       "  </thead>\n",
       "  <tbody>\n",
       "    <tr>\n",
       "      <th>0</th>\n",
       "      <td>7590-VHVEG</td>\n",
       "      <td>DSL</td>\n",
       "      <td>No</td>\n",
       "      <td>Yes</td>\n",
       "      <td>No</td>\n",
       "      <td>No</td>\n",
       "      <td>No</td>\n",
       "      <td>No</td>\n",
       "    </tr>\n",
       "    <tr>\n",
       "      <th>1</th>\n",
       "      <td>5575-GNVDE</td>\n",
       "      <td>DSL</td>\n",
       "      <td>Yes</td>\n",
       "      <td>No</td>\n",
       "      <td>Yes</td>\n",
       "      <td>No</td>\n",
       "      <td>No</td>\n",
       "      <td>No</td>\n",
       "    </tr>\n",
       "    <tr>\n",
       "      <th>2</th>\n",
       "      <td>3668-QPYBK</td>\n",
       "      <td>DSL</td>\n",
       "      <td>Yes</td>\n",
       "      <td>Yes</td>\n",
       "      <td>No</td>\n",
       "      <td>No</td>\n",
       "      <td>No</td>\n",
       "      <td>No</td>\n",
       "    </tr>\n",
       "    <tr>\n",
       "      <th>3</th>\n",
       "      <td>7795-CFOCW</td>\n",
       "      <td>DSL</td>\n",
       "      <td>Yes</td>\n",
       "      <td>No</td>\n",
       "      <td>Yes</td>\n",
       "      <td>Yes</td>\n",
       "      <td>No</td>\n",
       "      <td>No</td>\n",
       "    </tr>\n",
       "    <tr>\n",
       "      <th>4</th>\n",
       "      <td>9237-HQITU</td>\n",
       "      <td>Fiber optic</td>\n",
       "      <td>No</td>\n",
       "      <td>No</td>\n",
       "      <td>No</td>\n",
       "      <td>No</td>\n",
       "      <td>No</td>\n",
       "      <td>No</td>\n",
       "    </tr>\n",
       "  </tbody>\n",
       "</table>\n",
       "</div>"
      ],
      "text/plain": [
       "   customerID InternetService OnlineSecurity OnlineBackup DeviceProtection  \\\n",
       "0  7590-VHVEG             DSL             No          Yes               No   \n",
       "1  5575-GNVDE             DSL            Yes           No              Yes   \n",
       "2  3668-QPYBK             DSL            Yes          Yes               No   \n",
       "3  7795-CFOCW             DSL            Yes           No              Yes   \n",
       "4  9237-HQITU     Fiber optic             No           No               No   \n",
       "\n",
       "  TechSupport StreamingTV StreamingMovies  \n",
       "0          No          No              No  \n",
       "1          No          No              No  \n",
       "2          No          No              No  \n",
       "3         Yes          No              No  \n",
       "4          No          No              No  "
      ]
     },
     "execution_count": 14,
     "metadata": {},
     "output_type": "execute_result"
    }
   ],
   "source": [
    "data_internet.head()"
   ]
  },
  {
   "cell_type": "code",
   "execution_count": 15,
   "id": "33017439-6644-4ef4-8e08-206c61f97589",
   "metadata": {},
   "outputs": [
    {
     "name": "stdout",
     "output_type": "stream",
     "text": [
      "<class 'pandas.core.frame.DataFrame'>\n",
      "RangeIndex: 5517 entries, 0 to 5516\n",
      "Data columns (total 8 columns):\n",
      " #   Column            Non-Null Count  Dtype \n",
      "---  ------            --------------  ----- \n",
      " 0   customerID        5517 non-null   object\n",
      " 1   InternetService   5517 non-null   object\n",
      " 2   OnlineSecurity    5517 non-null   object\n",
      " 3   OnlineBackup      5517 non-null   object\n",
      " 4   DeviceProtection  5517 non-null   object\n",
      " 5   TechSupport       5517 non-null   object\n",
      " 6   StreamingTV       5517 non-null   object\n",
      " 7   StreamingMovies   5517 non-null   object\n",
      "dtypes: object(8)\n",
      "memory usage: 344.9+ KB\n"
     ]
    }
   ],
   "source": [
    "data_internet.info()"
   ]
  },
  {
   "cell_type": "code",
   "execution_count": 16,
   "id": "a0a6d137-e170-4afa-9018-68c8a80d7684",
   "metadata": {},
   "outputs": [
    {
     "data": {
      "text/html": [
       "<div>\n",
       "<style scoped>\n",
       "    .dataframe tbody tr th:only-of-type {\n",
       "        vertical-align: middle;\n",
       "    }\n",
       "\n",
       "    .dataframe tbody tr th {\n",
       "        vertical-align: top;\n",
       "    }\n",
       "\n",
       "    .dataframe thead th {\n",
       "        text-align: right;\n",
       "    }\n",
       "</style>\n",
       "<table border=\"1\" class=\"dataframe\">\n",
       "  <thead>\n",
       "    <tr style=\"text-align: right;\">\n",
       "      <th></th>\n",
       "      <th>customerID</th>\n",
       "      <th>InternetService</th>\n",
       "      <th>OnlineSecurity</th>\n",
       "      <th>OnlineBackup</th>\n",
       "      <th>DeviceProtection</th>\n",
       "      <th>TechSupport</th>\n",
       "      <th>StreamingTV</th>\n",
       "      <th>StreamingMovies</th>\n",
       "    </tr>\n",
       "  </thead>\n",
       "  <tbody>\n",
       "    <tr>\n",
       "      <th>count</th>\n",
       "      <td>5517</td>\n",
       "      <td>5517</td>\n",
       "      <td>5517</td>\n",
       "      <td>5517</td>\n",
       "      <td>5517</td>\n",
       "      <td>5517</td>\n",
       "      <td>5517</td>\n",
       "      <td>5517</td>\n",
       "    </tr>\n",
       "    <tr>\n",
       "      <th>unique</th>\n",
       "      <td>5517</td>\n",
       "      <td>2</td>\n",
       "      <td>2</td>\n",
       "      <td>2</td>\n",
       "      <td>2</td>\n",
       "      <td>2</td>\n",
       "      <td>2</td>\n",
       "      <td>2</td>\n",
       "    </tr>\n",
       "    <tr>\n",
       "      <th>top</th>\n",
       "      <td>0866-QLSIR</td>\n",
       "      <td>Fiber optic</td>\n",
       "      <td>No</td>\n",
       "      <td>No</td>\n",
       "      <td>No</td>\n",
       "      <td>No</td>\n",
       "      <td>No</td>\n",
       "      <td>No</td>\n",
       "    </tr>\n",
       "    <tr>\n",
       "      <th>freq</th>\n",
       "      <td>1</td>\n",
       "      <td>3096</td>\n",
       "      <td>3498</td>\n",
       "      <td>3088</td>\n",
       "      <td>3095</td>\n",
       "      <td>3473</td>\n",
       "      <td>2810</td>\n",
       "      <td>2785</td>\n",
       "    </tr>\n",
       "  </tbody>\n",
       "</table>\n",
       "</div>"
      ],
      "text/plain": [
       "        customerID InternetService OnlineSecurity OnlineBackup  \\\n",
       "count         5517            5517           5517         5517   \n",
       "unique        5517               2              2            2   \n",
       "top     0866-QLSIR     Fiber optic             No           No   \n",
       "freq             1            3096           3498         3088   \n",
       "\n",
       "       DeviceProtection TechSupport StreamingTV StreamingMovies  \n",
       "count              5517        5517        5517            5517  \n",
       "unique                2           2           2               2  \n",
       "top                  No          No          No              No  \n",
       "freq               3095        3473        2810            2785  "
      ]
     },
     "execution_count": 16,
     "metadata": {},
     "output_type": "execute_result"
    }
   ],
   "source": [
    "data_internet.describe()"
   ]
  },
  {
   "cell_type": "markdown",
   "id": "23a50432-4eeb-4bc1-98ba-c89376355cee",
   "metadata": {},
   "source": [
    "Информация об услугах телефонии"
   ]
  },
  {
   "cell_type": "code",
   "execution_count": 17,
   "id": "8b808c4c-1d42-4a28-bd85-984fe94c7bd2",
   "metadata": {},
   "outputs": [
    {
     "data": {
      "text/html": [
       "<div>\n",
       "<style scoped>\n",
       "    .dataframe tbody tr th:only-of-type {\n",
       "        vertical-align: middle;\n",
       "    }\n",
       "\n",
       "    .dataframe tbody tr th {\n",
       "        vertical-align: top;\n",
       "    }\n",
       "\n",
       "    .dataframe thead th {\n",
       "        text-align: right;\n",
       "    }\n",
       "</style>\n",
       "<table border=\"1\" class=\"dataframe\">\n",
       "  <thead>\n",
       "    <tr style=\"text-align: right;\">\n",
       "      <th></th>\n",
       "      <th>customerID</th>\n",
       "      <th>MultipleLines</th>\n",
       "    </tr>\n",
       "  </thead>\n",
       "  <tbody>\n",
       "    <tr>\n",
       "      <th>0</th>\n",
       "      <td>5575-GNVDE</td>\n",
       "      <td>No</td>\n",
       "    </tr>\n",
       "    <tr>\n",
       "      <th>1</th>\n",
       "      <td>3668-QPYBK</td>\n",
       "      <td>No</td>\n",
       "    </tr>\n",
       "    <tr>\n",
       "      <th>2</th>\n",
       "      <td>9237-HQITU</td>\n",
       "      <td>No</td>\n",
       "    </tr>\n",
       "    <tr>\n",
       "      <th>3</th>\n",
       "      <td>9305-CDSKC</td>\n",
       "      <td>Yes</td>\n",
       "    </tr>\n",
       "    <tr>\n",
       "      <th>4</th>\n",
       "      <td>1452-KIOVK</td>\n",
       "      <td>Yes</td>\n",
       "    </tr>\n",
       "  </tbody>\n",
       "</table>\n",
       "</div>"
      ],
      "text/plain": [
       "   customerID MultipleLines\n",
       "0  5575-GNVDE            No\n",
       "1  3668-QPYBK            No\n",
       "2  9237-HQITU            No\n",
       "3  9305-CDSKC           Yes\n",
       "4  1452-KIOVK           Yes"
      ]
     },
     "execution_count": 17,
     "metadata": {},
     "output_type": "execute_result"
    }
   ],
   "source": [
    "data_phone.head()"
   ]
  },
  {
   "cell_type": "code",
   "execution_count": 18,
   "id": "176836e4-fd0d-45dd-b78a-6c57862850c5",
   "metadata": {},
   "outputs": [
    {
     "name": "stdout",
     "output_type": "stream",
     "text": [
      "<class 'pandas.core.frame.DataFrame'>\n",
      "RangeIndex: 6361 entries, 0 to 6360\n",
      "Data columns (total 2 columns):\n",
      " #   Column         Non-Null Count  Dtype \n",
      "---  ------         --------------  ----- \n",
      " 0   customerID     6361 non-null   object\n",
      " 1   MultipleLines  6361 non-null   object\n",
      "dtypes: object(2)\n",
      "memory usage: 99.5+ KB\n"
     ]
    }
   ],
   "source": [
    "data_phone.info()"
   ]
  },
  {
   "cell_type": "code",
   "execution_count": 19,
   "id": "a98c0cee-0caa-4ff5-94cb-db44d3151eb5",
   "metadata": {},
   "outputs": [
    {
     "data": {
      "text/html": [
       "<div>\n",
       "<style scoped>\n",
       "    .dataframe tbody tr th:only-of-type {\n",
       "        vertical-align: middle;\n",
       "    }\n",
       "\n",
       "    .dataframe tbody tr th {\n",
       "        vertical-align: top;\n",
       "    }\n",
       "\n",
       "    .dataframe thead th {\n",
       "        text-align: right;\n",
       "    }\n",
       "</style>\n",
       "<table border=\"1\" class=\"dataframe\">\n",
       "  <thead>\n",
       "    <tr style=\"text-align: right;\">\n",
       "      <th></th>\n",
       "      <th>customerID</th>\n",
       "      <th>MultipleLines</th>\n",
       "    </tr>\n",
       "  </thead>\n",
       "  <tbody>\n",
       "    <tr>\n",
       "      <th>count</th>\n",
       "      <td>6361</td>\n",
       "      <td>6361</td>\n",
       "    </tr>\n",
       "    <tr>\n",
       "      <th>unique</th>\n",
       "      <td>6361</td>\n",
       "      <td>2</td>\n",
       "    </tr>\n",
       "    <tr>\n",
       "      <th>top</th>\n",
       "      <td>0866-QLSIR</td>\n",
       "      <td>No</td>\n",
       "    </tr>\n",
       "    <tr>\n",
       "      <th>freq</th>\n",
       "      <td>1</td>\n",
       "      <td>3390</td>\n",
       "    </tr>\n",
       "  </tbody>\n",
       "</table>\n",
       "</div>"
      ],
      "text/plain": [
       "        customerID MultipleLines\n",
       "count         6361          6361\n",
       "unique        6361             2\n",
       "top     0866-QLSIR            No\n",
       "freq             1          3390"
      ]
     },
     "execution_count": 19,
     "metadata": {},
     "output_type": "execute_result"
    }
   ],
   "source": [
    "data_phone.describe()"
   ]
  },
  {
   "cell_type": "markdown",
   "id": "45fc6387-746d-4fcf-980a-3d2314c499de",
   "metadata": {},
   "source": [
    "### Вывод:\n",
    "* Мы познакомились с первоначальными данными\n",
    "* Данные разделены на четыре датасета:\n",
    "    * Информация о договоре - 7043 записи и 8 столбцов, ежемесячные траты на услуги в среднем составляют 70.3 \n",
    "    * Персональные данные клиента - 7043 записи и 5 столбцов\n",
    "    * Информация об интернет-услугах - 5517 записи и 8 столбцов\n",
    "    * Информация об услугах телефонии - 6361 записи и 2 столбца\n",
    "* Целевым признаком является:\n",
    "    * EndDate — дата окончания пользования услугами        "
   ]
  },
  {
   "cell_type": "markdown",
   "id": "fec4577d-8241-4348-91eb-f7047a100d66",
   "metadata": {},
   "source": [
    "## 2. Предобработка данных"
   ]
  },
  {
   "cell_type": "markdown",
   "id": "fc87e47f-dc1b-4016-8df8-861270a4e17e",
   "metadata": {},
   "source": [
    "Проведем предобработку данных"
   ]
  },
  {
   "cell_type": "markdown",
   "id": "5a792589-6182-469f-a3ff-fcb2ceda929e",
   "metadata": {},
   "source": [
    "Объединим все таблицы в одну по столбцу ID клиентов"
   ]
  },
  {
   "cell_type": "code",
   "execution_count": 20,
   "id": "11852e0a-52a4-49a7-9b64-52c5aa743c20",
   "metadata": {},
   "outputs": [
    {
     "data": {
      "text/html": [
       "<div>\n",
       "<style scoped>\n",
       "    .dataframe tbody tr th:only-of-type {\n",
       "        vertical-align: middle;\n",
       "    }\n",
       "\n",
       "    .dataframe tbody tr th {\n",
       "        vertical-align: top;\n",
       "    }\n",
       "\n",
       "    .dataframe thead th {\n",
       "        text-align: right;\n",
       "    }\n",
       "</style>\n",
       "<table border=\"1\" class=\"dataframe\">\n",
       "  <thead>\n",
       "    <tr style=\"text-align: right;\">\n",
       "      <th></th>\n",
       "      <th>customerID</th>\n",
       "      <th>BeginDate</th>\n",
       "      <th>EndDate</th>\n",
       "      <th>Type</th>\n",
       "      <th>PaperlessBilling</th>\n",
       "      <th>PaymentMethod</th>\n",
       "      <th>MonthlyCharges</th>\n",
       "      <th>TotalCharges</th>\n",
       "      <th>gender</th>\n",
       "      <th>SeniorCitizen</th>\n",
       "      <th>Partner</th>\n",
       "      <th>Dependents</th>\n",
       "      <th>InternetService</th>\n",
       "      <th>OnlineSecurity</th>\n",
       "      <th>OnlineBackup</th>\n",
       "      <th>DeviceProtection</th>\n",
       "      <th>TechSupport</th>\n",
       "      <th>StreamingTV</th>\n",
       "      <th>StreamingMovies</th>\n",
       "      <th>MultipleLines</th>\n",
       "    </tr>\n",
       "  </thead>\n",
       "  <tbody>\n",
       "    <tr>\n",
       "      <th>0</th>\n",
       "      <td>7590-VHVEG</td>\n",
       "      <td>2020-01-01</td>\n",
       "      <td>No</td>\n",
       "      <td>Month-to-month</td>\n",
       "      <td>Yes</td>\n",
       "      <td>Electronic check</td>\n",
       "      <td>29.85</td>\n",
       "      <td>31.04</td>\n",
       "      <td>Female</td>\n",
       "      <td>0</td>\n",
       "      <td>Yes</td>\n",
       "      <td>No</td>\n",
       "      <td>DSL</td>\n",
       "      <td>No</td>\n",
       "      <td>Yes</td>\n",
       "      <td>No</td>\n",
       "      <td>No</td>\n",
       "      <td>No</td>\n",
       "      <td>No</td>\n",
       "      <td>NaN</td>\n",
       "    </tr>\n",
       "    <tr>\n",
       "      <th>1</th>\n",
       "      <td>5575-GNVDE</td>\n",
       "      <td>2017-04-01</td>\n",
       "      <td>No</td>\n",
       "      <td>One year</td>\n",
       "      <td>No</td>\n",
       "      <td>Mailed check</td>\n",
       "      <td>56.95</td>\n",
       "      <td>2071.84</td>\n",
       "      <td>Male</td>\n",
       "      <td>0</td>\n",
       "      <td>No</td>\n",
       "      <td>No</td>\n",
       "      <td>DSL</td>\n",
       "      <td>Yes</td>\n",
       "      <td>No</td>\n",
       "      <td>Yes</td>\n",
       "      <td>No</td>\n",
       "      <td>No</td>\n",
       "      <td>No</td>\n",
       "      <td>No</td>\n",
       "    </tr>\n",
       "    <tr>\n",
       "      <th>2</th>\n",
       "      <td>3668-QPYBK</td>\n",
       "      <td>2019-10-01</td>\n",
       "      <td>No</td>\n",
       "      <td>Month-to-month</td>\n",
       "      <td>Yes</td>\n",
       "      <td>Mailed check</td>\n",
       "      <td>53.85</td>\n",
       "      <td>226.17</td>\n",
       "      <td>Male</td>\n",
       "      <td>0</td>\n",
       "      <td>No</td>\n",
       "      <td>No</td>\n",
       "      <td>DSL</td>\n",
       "      <td>Yes</td>\n",
       "      <td>Yes</td>\n",
       "      <td>No</td>\n",
       "      <td>No</td>\n",
       "      <td>No</td>\n",
       "      <td>No</td>\n",
       "      <td>No</td>\n",
       "    </tr>\n",
       "    <tr>\n",
       "      <th>3</th>\n",
       "      <td>7795-CFOCW</td>\n",
       "      <td>2016-05-01</td>\n",
       "      <td>No</td>\n",
       "      <td>One year</td>\n",
       "      <td>No</td>\n",
       "      <td>Bank transfer (automatic)</td>\n",
       "      <td>42.30</td>\n",
       "      <td>1960.6</td>\n",
       "      <td>Male</td>\n",
       "      <td>0</td>\n",
       "      <td>No</td>\n",
       "      <td>No</td>\n",
       "      <td>DSL</td>\n",
       "      <td>Yes</td>\n",
       "      <td>No</td>\n",
       "      <td>Yes</td>\n",
       "      <td>Yes</td>\n",
       "      <td>No</td>\n",
       "      <td>No</td>\n",
       "      <td>NaN</td>\n",
       "    </tr>\n",
       "    <tr>\n",
       "      <th>4</th>\n",
       "      <td>9237-HQITU</td>\n",
       "      <td>2019-09-01</td>\n",
       "      <td>No</td>\n",
       "      <td>Month-to-month</td>\n",
       "      <td>Yes</td>\n",
       "      <td>Electronic check</td>\n",
       "      <td>70.70</td>\n",
       "      <td>353.5</td>\n",
       "      <td>Female</td>\n",
       "      <td>0</td>\n",
       "      <td>No</td>\n",
       "      <td>No</td>\n",
       "      <td>Fiber optic</td>\n",
       "      <td>No</td>\n",
       "      <td>No</td>\n",
       "      <td>No</td>\n",
       "      <td>No</td>\n",
       "      <td>No</td>\n",
       "      <td>No</td>\n",
       "      <td>No</td>\n",
       "    </tr>\n",
       "  </tbody>\n",
       "</table>\n",
       "</div>"
      ],
      "text/plain": [
       "   customerID   BeginDate EndDate            Type PaperlessBilling  \\\n",
       "0  7590-VHVEG  2020-01-01      No  Month-to-month              Yes   \n",
       "1  5575-GNVDE  2017-04-01      No        One year               No   \n",
       "2  3668-QPYBK  2019-10-01      No  Month-to-month              Yes   \n",
       "3  7795-CFOCW  2016-05-01      No        One year               No   \n",
       "4  9237-HQITU  2019-09-01      No  Month-to-month              Yes   \n",
       "\n",
       "               PaymentMethod  MonthlyCharges TotalCharges  gender  \\\n",
       "0           Electronic check           29.85        31.04  Female   \n",
       "1               Mailed check           56.95      2071.84    Male   \n",
       "2               Mailed check           53.85       226.17    Male   \n",
       "3  Bank transfer (automatic)           42.30       1960.6    Male   \n",
       "4           Electronic check           70.70        353.5  Female   \n",
       "\n",
       "   SeniorCitizen Partner Dependents InternetService OnlineSecurity  \\\n",
       "0              0     Yes         No             DSL             No   \n",
       "1              0      No         No             DSL            Yes   \n",
       "2              0      No         No             DSL            Yes   \n",
       "3              0      No         No             DSL            Yes   \n",
       "4              0      No         No     Fiber optic             No   \n",
       "\n",
       "  OnlineBackup DeviceProtection TechSupport StreamingTV StreamingMovies  \\\n",
       "0          Yes               No          No          No              No   \n",
       "1           No              Yes          No          No              No   \n",
       "2          Yes               No          No          No              No   \n",
       "3           No              Yes         Yes          No              No   \n",
       "4           No               No          No          No              No   \n",
       "\n",
       "  MultipleLines  \n",
       "0           NaN  \n",
       "1            No  \n",
       "2            No  \n",
       "3           NaN  \n",
       "4            No  "
      ]
     },
     "execution_count": 20,
     "metadata": {},
     "output_type": "execute_result"
    }
   ],
   "source": [
    "data = data_contract.merge(data_personal, on='customerID', how='outer').merge(data_internet, on='customerID', how='outer').merge(data_phone, on='customerID', how='outer')\n",
    "data.head()"
   ]
  },
  {
   "cell_type": "code",
   "execution_count": 21,
   "id": "7641344f-1d48-4211-a283-741284139b3b",
   "metadata": {},
   "outputs": [
    {
     "name": "stdout",
     "output_type": "stream",
     "text": [
      "<class 'pandas.core.frame.DataFrame'>\n",
      "Int64Index: 7043 entries, 0 to 7042\n",
      "Data columns (total 20 columns):\n",
      " #   Column            Non-Null Count  Dtype  \n",
      "---  ------            --------------  -----  \n",
      " 0   customerID        7043 non-null   object \n",
      " 1   BeginDate         7043 non-null   object \n",
      " 2   EndDate           7043 non-null   object \n",
      " 3   Type              7043 non-null   object \n",
      " 4   PaperlessBilling  7043 non-null   object \n",
      " 5   PaymentMethod     7043 non-null   object \n",
      " 6   MonthlyCharges    7043 non-null   float64\n",
      " 7   TotalCharges      7043 non-null   object \n",
      " 8   gender            7043 non-null   object \n",
      " 9   SeniorCitizen     7043 non-null   int64  \n",
      " 10  Partner           7043 non-null   object \n",
      " 11  Dependents        7043 non-null   object \n",
      " 12  InternetService   5517 non-null   object \n",
      " 13  OnlineSecurity    5517 non-null   object \n",
      " 14  OnlineBackup      5517 non-null   object \n",
      " 15  DeviceProtection  5517 non-null   object \n",
      " 16  TechSupport       5517 non-null   object \n",
      " 17  StreamingTV       5517 non-null   object \n",
      " 18  StreamingMovies   5517 non-null   object \n",
      " 19  MultipleLines     6361 non-null   object \n",
      "dtypes: float64(1), int64(1), object(18)\n",
      "memory usage: 1.1+ MB\n"
     ]
    }
   ],
   "source": [
    "data.info()"
   ]
  },
  {
   "cell_type": "markdown",
   "id": "d599c9aa-e02c-4a55-b8ae-b0b97ade9e76",
   "metadata": {},
   "source": [
    "* В общем датафрейме 7 043 записи и 20 столбцов\n",
    "* Выявили неккоректный тип данных в столбцах: BeginDate, EndDate и TotalCharges\n",
    "* Выявили пропуски в данных\n",
    "* Выявили целевой признак EndDate – дата окончания пользования услугами."
   ]
  },
  {
   "cell_type": "markdown",
   "id": "c97d8eb1-9131-4208-b0c7-115c3a8b4faa",
   "metadata": {},
   "source": [
    "Проверяем количество пропусков в общем датафрейме"
   ]
  },
  {
   "cell_type": "code",
   "execution_count": 22,
   "id": "5a108053-8846-4c08-ba61-10978bbf87a4",
   "metadata": {},
   "outputs": [
    {
     "data": {
      "text/html": [
       "<style  type=\"text/css\" >\n",
       "#T_a2a7a_row0_col0,#T_a2a7a_row1_col0,#T_a2a7a_row2_col0,#T_a2a7a_row3_col0,#T_a2a7a_row4_col0,#T_a2a7a_row5_col0,#T_a2a7a_row6_col0,#T_a2a7a_row7_col0,#T_a2a7a_row8_col0,#T_a2a7a_row9_col0,#T_a2a7a_row10_col0,#T_a2a7a_row11_col0{\n",
       "            background-color:  #3b4cc0;\n",
       "            color:  #f1f1f1;\n",
       "        }#T_a2a7a_row12_col0,#T_a2a7a_row13_col0,#T_a2a7a_row14_col0,#T_a2a7a_row15_col0,#T_a2a7a_row16_col0,#T_a2a7a_row17_col0,#T_a2a7a_row18_col0{\n",
       "            background-color:  #b40426;\n",
       "            color:  #f1f1f1;\n",
       "        }#T_a2a7a_row19_col0{\n",
       "            background-color:  #d1dae9;\n",
       "            color:  #000000;\n",
       "        }</style><table id=\"T_a2a7a_\" ><thead>    <tr>        <th class=\"blank level0\" ></th>        <th class=\"col_heading level0 col0\" >0</th>    </tr></thead><tbody>\n",
       "                <tr>\n",
       "                        <th id=\"T_a2a7a_level0_row0\" class=\"row_heading level0 row0\" >customerID</th>\n",
       "                        <td id=\"T_a2a7a_row0_col0\" class=\"data row0 col0\" >0.000000</td>\n",
       "            </tr>\n",
       "            <tr>\n",
       "                        <th id=\"T_a2a7a_level0_row1\" class=\"row_heading level0 row1\" >BeginDate</th>\n",
       "                        <td id=\"T_a2a7a_row1_col0\" class=\"data row1 col0\" >0.000000</td>\n",
       "            </tr>\n",
       "            <tr>\n",
       "                        <th id=\"T_a2a7a_level0_row2\" class=\"row_heading level0 row2\" >EndDate</th>\n",
       "                        <td id=\"T_a2a7a_row2_col0\" class=\"data row2 col0\" >0.000000</td>\n",
       "            </tr>\n",
       "            <tr>\n",
       "                        <th id=\"T_a2a7a_level0_row3\" class=\"row_heading level0 row3\" >Type</th>\n",
       "                        <td id=\"T_a2a7a_row3_col0\" class=\"data row3 col0\" >0.000000</td>\n",
       "            </tr>\n",
       "            <tr>\n",
       "                        <th id=\"T_a2a7a_level0_row4\" class=\"row_heading level0 row4\" >PaperlessBilling</th>\n",
       "                        <td id=\"T_a2a7a_row4_col0\" class=\"data row4 col0\" >0.000000</td>\n",
       "            </tr>\n",
       "            <tr>\n",
       "                        <th id=\"T_a2a7a_level0_row5\" class=\"row_heading level0 row5\" >PaymentMethod</th>\n",
       "                        <td id=\"T_a2a7a_row5_col0\" class=\"data row5 col0\" >0.000000</td>\n",
       "            </tr>\n",
       "            <tr>\n",
       "                        <th id=\"T_a2a7a_level0_row6\" class=\"row_heading level0 row6\" >MonthlyCharges</th>\n",
       "                        <td id=\"T_a2a7a_row6_col0\" class=\"data row6 col0\" >0.000000</td>\n",
       "            </tr>\n",
       "            <tr>\n",
       "                        <th id=\"T_a2a7a_level0_row7\" class=\"row_heading level0 row7\" >TotalCharges</th>\n",
       "                        <td id=\"T_a2a7a_row7_col0\" class=\"data row7 col0\" >0.000000</td>\n",
       "            </tr>\n",
       "            <tr>\n",
       "                        <th id=\"T_a2a7a_level0_row8\" class=\"row_heading level0 row8\" >gender</th>\n",
       "                        <td id=\"T_a2a7a_row8_col0\" class=\"data row8 col0\" >0.000000</td>\n",
       "            </tr>\n",
       "            <tr>\n",
       "                        <th id=\"T_a2a7a_level0_row9\" class=\"row_heading level0 row9\" >SeniorCitizen</th>\n",
       "                        <td id=\"T_a2a7a_row9_col0\" class=\"data row9 col0\" >0.000000</td>\n",
       "            </tr>\n",
       "            <tr>\n",
       "                        <th id=\"T_a2a7a_level0_row10\" class=\"row_heading level0 row10\" >Partner</th>\n",
       "                        <td id=\"T_a2a7a_row10_col0\" class=\"data row10 col0\" >0.000000</td>\n",
       "            </tr>\n",
       "            <tr>\n",
       "                        <th id=\"T_a2a7a_level0_row11\" class=\"row_heading level0 row11\" >Dependents</th>\n",
       "                        <td id=\"T_a2a7a_row11_col0\" class=\"data row11 col0\" >0.000000</td>\n",
       "            </tr>\n",
       "            <tr>\n",
       "                        <th id=\"T_a2a7a_level0_row12\" class=\"row_heading level0 row12\" >InternetService</th>\n",
       "                        <td id=\"T_a2a7a_row12_col0\" class=\"data row12 col0\" >22.000000</td>\n",
       "            </tr>\n",
       "            <tr>\n",
       "                        <th id=\"T_a2a7a_level0_row13\" class=\"row_heading level0 row13\" >OnlineSecurity</th>\n",
       "                        <td id=\"T_a2a7a_row13_col0\" class=\"data row13 col0\" >22.000000</td>\n",
       "            </tr>\n",
       "            <tr>\n",
       "                        <th id=\"T_a2a7a_level0_row14\" class=\"row_heading level0 row14\" >OnlineBackup</th>\n",
       "                        <td id=\"T_a2a7a_row14_col0\" class=\"data row14 col0\" >22.000000</td>\n",
       "            </tr>\n",
       "            <tr>\n",
       "                        <th id=\"T_a2a7a_level0_row15\" class=\"row_heading level0 row15\" >DeviceProtection</th>\n",
       "                        <td id=\"T_a2a7a_row15_col0\" class=\"data row15 col0\" >22.000000</td>\n",
       "            </tr>\n",
       "            <tr>\n",
       "                        <th id=\"T_a2a7a_level0_row16\" class=\"row_heading level0 row16\" >TechSupport</th>\n",
       "                        <td id=\"T_a2a7a_row16_col0\" class=\"data row16 col0\" >22.000000</td>\n",
       "            </tr>\n",
       "            <tr>\n",
       "                        <th id=\"T_a2a7a_level0_row17\" class=\"row_heading level0 row17\" >StreamingTV</th>\n",
       "                        <td id=\"T_a2a7a_row17_col0\" class=\"data row17 col0\" >22.000000</td>\n",
       "            </tr>\n",
       "            <tr>\n",
       "                        <th id=\"T_a2a7a_level0_row18\" class=\"row_heading level0 row18\" >StreamingMovies</th>\n",
       "                        <td id=\"T_a2a7a_row18_col0\" class=\"data row18 col0\" >22.000000</td>\n",
       "            </tr>\n",
       "            <tr>\n",
       "                        <th id=\"T_a2a7a_level0_row19\" class=\"row_heading level0 row19\" >MultipleLines</th>\n",
       "                        <td id=\"T_a2a7a_row19_col0\" class=\"data row19 col0\" >10.000000</td>\n",
       "            </tr>\n",
       "    </tbody></table>"
      ],
      "text/plain": [
       "<pandas.io.formats.style.Styler at 0x7f50640f0190>"
      ]
     },
     "execution_count": 22,
     "metadata": {},
     "output_type": "execute_result"
    }
   ],
   "source": [
    "pd.DataFrame(round(data.isna().mean()*100)).style.background_gradient('coolwarm')"
   ]
  },
  {
   "cell_type": "markdown",
   "id": "09874443-6d73-4994-8846-2e52ddef5a2a",
   "metadata": {},
   "source": [
    "Выявлены пропуски в 8 столбцах: \n",
    "* InternetService\t22% пропуска от всего датафрейма \n",
    "* OnlineSecurity\t22%\n",
    "* OnlineBackup\t22%\n",
    "* DeviceProtection\t22%\n",
    "* TechSupport\t22%\n",
    "* StreamingTV\t22%\n",
    "* StreamingMovies\t22%\n",
    "* MultipleLines 10%"
   ]
  },
  {
   "cell_type": "markdown",
   "id": "84904768-99d3-40d2-8c5e-a4df1b04a8c2",
   "metadata": {},
   "source": [
    "Проверим датафрейфм на дубликаты"
   ]
  },
  {
   "cell_type": "code",
   "execution_count": 23,
   "id": "256210a2-2ec2-48f2-b87f-694841dde8a4",
   "metadata": {},
   "outputs": [
    {
     "data": {
      "text/plain": [
       "0"
      ]
     },
     "execution_count": 23,
     "metadata": {},
     "output_type": "execute_result"
    }
   ],
   "source": [
    "data.duplicated().sum()"
   ]
  },
  {
   "cell_type": "markdown",
   "id": "0366f98e-7866-4ce7-ab65-9ee9892787e5",
   "metadata": {},
   "source": [
    "Дубликатов в датафрейме не выявлено "
   ]
  },
  {
   "cell_type": "markdown",
   "id": "4dc81cc6-9953-42bd-9988-8e0a6773e9ea",
   "metadata": {},
   "source": [
    "Изучим уникальные значения в нашем датафрейме"
   ]
  },
  {
   "cell_type": "code",
   "execution_count": 24,
   "id": "063a65d3-97a3-4626-a949-0dcce0df518f",
   "metadata": {},
   "outputs": [
    {
     "data": {
      "text/html": [
       "<div>\n",
       "<style scoped>\n",
       "    .dataframe tbody tr th:only-of-type {\n",
       "        vertical-align: middle;\n",
       "    }\n",
       "\n",
       "    .dataframe tbody tr th {\n",
       "        vertical-align: top;\n",
       "    }\n",
       "\n",
       "    .dataframe thead th {\n",
       "        text-align: right;\n",
       "    }\n",
       "</style>\n",
       "<table border=\"1\" class=\"dataframe\">\n",
       "  <thead>\n",
       "    <tr style=\"text-align: right;\">\n",
       "      <th></th>\n",
       "      <th>0</th>\n",
       "    </tr>\n",
       "  </thead>\n",
       "  <tbody>\n",
       "    <tr>\n",
       "      <th>0</th>\n",
       "      <td>2020-01-01</td>\n",
       "    </tr>\n",
       "    <tr>\n",
       "      <th>1</th>\n",
       "      <td>No</td>\n",
       "    </tr>\n",
       "    <tr>\n",
       "      <th>2</th>\n",
       "      <td>Month-to-month</td>\n",
       "    </tr>\n",
       "    <tr>\n",
       "      <th>3</th>\n",
       "      <td>Yes</td>\n",
       "    </tr>\n",
       "    <tr>\n",
       "      <th>4</th>\n",
       "      <td>Electronic check</td>\n",
       "    </tr>\n",
       "    <tr>\n",
       "      <th>...</th>\n",
       "      <td>...</td>\n",
       "    </tr>\n",
       "    <tr>\n",
       "      <th>8331</th>\n",
       "      <td>2035.2</td>\n",
       "    </tr>\n",
       "    <tr>\n",
       "      <th>8332</th>\n",
       "      <td>7430.4</td>\n",
       "    </tr>\n",
       "    <tr>\n",
       "      <th>8333</th>\n",
       "      <td>325.6</td>\n",
       "    </tr>\n",
       "    <tr>\n",
       "      <th>8334</th>\n",
       "      <td>520.8</td>\n",
       "    </tr>\n",
       "    <tr>\n",
       "      <th>8335</th>\n",
       "      <td>7251.82</td>\n",
       "    </tr>\n",
       "  </tbody>\n",
       "</table>\n",
       "<p>8336 rows × 1 columns</p>\n",
       "</div>"
      ],
      "text/plain": [
       "                     0\n",
       "0           2020-01-01\n",
       "1                   No\n",
       "2       Month-to-month\n",
       "3                  Yes\n",
       "4     Electronic check\n",
       "...                ...\n",
       "8331            2035.2\n",
       "8332            7430.4\n",
       "8333             325.6\n",
       "8334             520.8\n",
       "8335           7251.82\n",
       "\n",
       "[8336 rows x 1 columns]"
      ]
     },
     "execution_count": 24,
     "metadata": {},
     "output_type": "execute_result"
    }
   ],
   "source": [
    "uniques = pd.unique(data[['BeginDate','EndDate','Type','PaperlessBilling','PaymentMethod','MonthlyCharges','TotalCharges','gender','SeniorCitizen','Partner','Dependents',\n",
    "                'InternetService','OnlineSecurity','OnlineBackup','DeviceProtection','TechSupport','StreamingTV','StreamingMovies','MultipleLines']].values.ravel())\n",
    "\n",
    "pd.DataFrame(uniques)"
   ]
  },
  {
   "cell_type": "markdown",
   "id": "fa5ab23a-8a5b-4bdd-9152-b90543b17848",
   "metadata": {},
   "source": [
    "Всего  в датафреме 8 336 уникальных значений"
   ]
  },
  {
   "cell_type": "markdown",
   "id": "644b0cb9-2a69-49ba-b508-8594898e6183",
   "metadata": {},
   "source": [
    "Заменим пропуски во всех столбцах на значение \"No\", так как данные пропуски могли возникнуть из-за того, что клиенты данные услуги себе не подключали"
   ]
  },
  {
   "cell_type": "code",
   "execution_count": 25,
   "id": "52cb21bc-15f1-4903-a408-4a38103ae0c0",
   "metadata": {},
   "outputs": [
    {
     "data": {
      "text/html": [
       "<style  type=\"text/css\" >\n",
       "#T_0ad3f_row0_col0,#T_0ad3f_row1_col0,#T_0ad3f_row2_col0,#T_0ad3f_row3_col0,#T_0ad3f_row4_col0,#T_0ad3f_row5_col0,#T_0ad3f_row6_col0,#T_0ad3f_row7_col0,#T_0ad3f_row8_col0,#T_0ad3f_row9_col0,#T_0ad3f_row10_col0,#T_0ad3f_row11_col0,#T_0ad3f_row12_col0,#T_0ad3f_row13_col0,#T_0ad3f_row14_col0,#T_0ad3f_row15_col0,#T_0ad3f_row16_col0,#T_0ad3f_row17_col0,#T_0ad3f_row18_col0,#T_0ad3f_row19_col0{\n",
       "            background-color:  #3b4cc0;\n",
       "            color:  #f1f1f1;\n",
       "        }</style><table id=\"T_0ad3f_\" ><thead>    <tr>        <th class=\"blank level0\" ></th>        <th class=\"col_heading level0 col0\" >0</th>    </tr></thead><tbody>\n",
       "                <tr>\n",
       "                        <th id=\"T_0ad3f_level0_row0\" class=\"row_heading level0 row0\" >customerID</th>\n",
       "                        <td id=\"T_0ad3f_row0_col0\" class=\"data row0 col0\" >0.000000</td>\n",
       "            </tr>\n",
       "            <tr>\n",
       "                        <th id=\"T_0ad3f_level0_row1\" class=\"row_heading level0 row1\" >BeginDate</th>\n",
       "                        <td id=\"T_0ad3f_row1_col0\" class=\"data row1 col0\" >0.000000</td>\n",
       "            </tr>\n",
       "            <tr>\n",
       "                        <th id=\"T_0ad3f_level0_row2\" class=\"row_heading level0 row2\" >EndDate</th>\n",
       "                        <td id=\"T_0ad3f_row2_col0\" class=\"data row2 col0\" >0.000000</td>\n",
       "            </tr>\n",
       "            <tr>\n",
       "                        <th id=\"T_0ad3f_level0_row3\" class=\"row_heading level0 row3\" >Type</th>\n",
       "                        <td id=\"T_0ad3f_row3_col0\" class=\"data row3 col0\" >0.000000</td>\n",
       "            </tr>\n",
       "            <tr>\n",
       "                        <th id=\"T_0ad3f_level0_row4\" class=\"row_heading level0 row4\" >PaperlessBilling</th>\n",
       "                        <td id=\"T_0ad3f_row4_col0\" class=\"data row4 col0\" >0.000000</td>\n",
       "            </tr>\n",
       "            <tr>\n",
       "                        <th id=\"T_0ad3f_level0_row5\" class=\"row_heading level0 row5\" >PaymentMethod</th>\n",
       "                        <td id=\"T_0ad3f_row5_col0\" class=\"data row5 col0\" >0.000000</td>\n",
       "            </tr>\n",
       "            <tr>\n",
       "                        <th id=\"T_0ad3f_level0_row6\" class=\"row_heading level0 row6\" >MonthlyCharges</th>\n",
       "                        <td id=\"T_0ad3f_row6_col0\" class=\"data row6 col0\" >0.000000</td>\n",
       "            </tr>\n",
       "            <tr>\n",
       "                        <th id=\"T_0ad3f_level0_row7\" class=\"row_heading level0 row7\" >TotalCharges</th>\n",
       "                        <td id=\"T_0ad3f_row7_col0\" class=\"data row7 col0\" >0.000000</td>\n",
       "            </tr>\n",
       "            <tr>\n",
       "                        <th id=\"T_0ad3f_level0_row8\" class=\"row_heading level0 row8\" >gender</th>\n",
       "                        <td id=\"T_0ad3f_row8_col0\" class=\"data row8 col0\" >0.000000</td>\n",
       "            </tr>\n",
       "            <tr>\n",
       "                        <th id=\"T_0ad3f_level0_row9\" class=\"row_heading level0 row9\" >SeniorCitizen</th>\n",
       "                        <td id=\"T_0ad3f_row9_col0\" class=\"data row9 col0\" >0.000000</td>\n",
       "            </tr>\n",
       "            <tr>\n",
       "                        <th id=\"T_0ad3f_level0_row10\" class=\"row_heading level0 row10\" >Partner</th>\n",
       "                        <td id=\"T_0ad3f_row10_col0\" class=\"data row10 col0\" >0.000000</td>\n",
       "            </tr>\n",
       "            <tr>\n",
       "                        <th id=\"T_0ad3f_level0_row11\" class=\"row_heading level0 row11\" >Dependents</th>\n",
       "                        <td id=\"T_0ad3f_row11_col0\" class=\"data row11 col0\" >0.000000</td>\n",
       "            </tr>\n",
       "            <tr>\n",
       "                        <th id=\"T_0ad3f_level0_row12\" class=\"row_heading level0 row12\" >InternetService</th>\n",
       "                        <td id=\"T_0ad3f_row12_col0\" class=\"data row12 col0\" >0.000000</td>\n",
       "            </tr>\n",
       "            <tr>\n",
       "                        <th id=\"T_0ad3f_level0_row13\" class=\"row_heading level0 row13\" >OnlineSecurity</th>\n",
       "                        <td id=\"T_0ad3f_row13_col0\" class=\"data row13 col0\" >0.000000</td>\n",
       "            </tr>\n",
       "            <tr>\n",
       "                        <th id=\"T_0ad3f_level0_row14\" class=\"row_heading level0 row14\" >OnlineBackup</th>\n",
       "                        <td id=\"T_0ad3f_row14_col0\" class=\"data row14 col0\" >0.000000</td>\n",
       "            </tr>\n",
       "            <tr>\n",
       "                        <th id=\"T_0ad3f_level0_row15\" class=\"row_heading level0 row15\" >DeviceProtection</th>\n",
       "                        <td id=\"T_0ad3f_row15_col0\" class=\"data row15 col0\" >0.000000</td>\n",
       "            </tr>\n",
       "            <tr>\n",
       "                        <th id=\"T_0ad3f_level0_row16\" class=\"row_heading level0 row16\" >TechSupport</th>\n",
       "                        <td id=\"T_0ad3f_row16_col0\" class=\"data row16 col0\" >0.000000</td>\n",
       "            </tr>\n",
       "            <tr>\n",
       "                        <th id=\"T_0ad3f_level0_row17\" class=\"row_heading level0 row17\" >StreamingTV</th>\n",
       "                        <td id=\"T_0ad3f_row17_col0\" class=\"data row17 col0\" >0.000000</td>\n",
       "            </tr>\n",
       "            <tr>\n",
       "                        <th id=\"T_0ad3f_level0_row18\" class=\"row_heading level0 row18\" >StreamingMovies</th>\n",
       "                        <td id=\"T_0ad3f_row18_col0\" class=\"data row18 col0\" >0.000000</td>\n",
       "            </tr>\n",
       "            <tr>\n",
       "                        <th id=\"T_0ad3f_level0_row19\" class=\"row_heading level0 row19\" >MultipleLines</th>\n",
       "                        <td id=\"T_0ad3f_row19_col0\" class=\"data row19 col0\" >0.000000</td>\n",
       "            </tr>\n",
       "    </tbody></table>"
      ],
      "text/plain": [
       "<pandas.io.formats.style.Styler at 0x7f4fe1111880>"
      ]
     },
     "execution_count": 25,
     "metadata": {},
     "output_type": "execute_result"
    }
   ],
   "source": [
    "data = data.fillna('No')\n",
    "pd.DataFrame(round(data.isna().mean()*100)).style.background_gradient('coolwarm')"
   ]
  },
  {
   "cell_type": "markdown",
   "id": "bc59ea95-d9a7-4438-a021-6c3ce098a476",
   "metadata": {},
   "source": [
    "Мы избавились от пропусков"
   ]
  },
  {
   "cell_type": "markdown",
   "id": "0cba76ef-a42b-4c39-840f-caebe7f88caa",
   "metadata": {},
   "source": [
    "На основе EndDate генерируем целевую переменную"
   ]
  },
  {
   "cell_type": "code",
   "execution_count": 26,
   "id": "35b17292-9f8a-4335-bf00-8087d8a64b26",
   "metadata": {},
   "outputs": [],
   "source": [
    "def f(row):\n",
    "    if row['EndDate'] == 'No':\n",
    "        val = 0\n",
    "    else:\n",
    "        val = 1\n",
    "    return val    \n",
    "\n",
    "data['Target'] = data.apply(f, axis=1)"
   ]
  },
  {
   "cell_type": "code",
   "execution_count": 27,
   "id": "7a51bd07-dfe6-453d-8278-a8c5250241a5",
   "metadata": {},
   "outputs": [
    {
     "data": {
      "text/html": [
       "<div>\n",
       "<style scoped>\n",
       "    .dataframe tbody tr th:only-of-type {\n",
       "        vertical-align: middle;\n",
       "    }\n",
       "\n",
       "    .dataframe tbody tr th {\n",
       "        vertical-align: top;\n",
       "    }\n",
       "\n",
       "    .dataframe thead th {\n",
       "        text-align: right;\n",
       "    }\n",
       "</style>\n",
       "<table border=\"1\" class=\"dataframe\">\n",
       "  <thead>\n",
       "    <tr style=\"text-align: right;\">\n",
       "      <th></th>\n",
       "      <th>customerID</th>\n",
       "      <th>BeginDate</th>\n",
       "      <th>EndDate</th>\n",
       "      <th>Type</th>\n",
       "      <th>PaperlessBilling</th>\n",
       "      <th>PaymentMethod</th>\n",
       "      <th>MonthlyCharges</th>\n",
       "      <th>TotalCharges</th>\n",
       "      <th>gender</th>\n",
       "      <th>SeniorCitizen</th>\n",
       "      <th>...</th>\n",
       "      <th>Dependents</th>\n",
       "      <th>InternetService</th>\n",
       "      <th>OnlineSecurity</th>\n",
       "      <th>OnlineBackup</th>\n",
       "      <th>DeviceProtection</th>\n",
       "      <th>TechSupport</th>\n",
       "      <th>StreamingTV</th>\n",
       "      <th>StreamingMovies</th>\n",
       "      <th>MultipleLines</th>\n",
       "      <th>Target</th>\n",
       "    </tr>\n",
       "  </thead>\n",
       "  <tbody>\n",
       "    <tr>\n",
       "      <th>0</th>\n",
       "      <td>7590-VHVEG</td>\n",
       "      <td>2020-01-01</td>\n",
       "      <td>No</td>\n",
       "      <td>Month-to-month</td>\n",
       "      <td>Yes</td>\n",
       "      <td>Electronic check</td>\n",
       "      <td>29.85</td>\n",
       "      <td>31.04</td>\n",
       "      <td>Female</td>\n",
       "      <td>0</td>\n",
       "      <td>...</td>\n",
       "      <td>No</td>\n",
       "      <td>DSL</td>\n",
       "      <td>No</td>\n",
       "      <td>Yes</td>\n",
       "      <td>No</td>\n",
       "      <td>No</td>\n",
       "      <td>No</td>\n",
       "      <td>No</td>\n",
       "      <td>No</td>\n",
       "      <td>0</td>\n",
       "    </tr>\n",
       "    <tr>\n",
       "      <th>1</th>\n",
       "      <td>5575-GNVDE</td>\n",
       "      <td>2017-04-01</td>\n",
       "      <td>No</td>\n",
       "      <td>One year</td>\n",
       "      <td>No</td>\n",
       "      <td>Mailed check</td>\n",
       "      <td>56.95</td>\n",
       "      <td>2071.84</td>\n",
       "      <td>Male</td>\n",
       "      <td>0</td>\n",
       "      <td>...</td>\n",
       "      <td>No</td>\n",
       "      <td>DSL</td>\n",
       "      <td>Yes</td>\n",
       "      <td>No</td>\n",
       "      <td>Yes</td>\n",
       "      <td>No</td>\n",
       "      <td>No</td>\n",
       "      <td>No</td>\n",
       "      <td>No</td>\n",
       "      <td>0</td>\n",
       "    </tr>\n",
       "    <tr>\n",
       "      <th>2</th>\n",
       "      <td>3668-QPYBK</td>\n",
       "      <td>2019-10-01</td>\n",
       "      <td>No</td>\n",
       "      <td>Month-to-month</td>\n",
       "      <td>Yes</td>\n",
       "      <td>Mailed check</td>\n",
       "      <td>53.85</td>\n",
       "      <td>226.17</td>\n",
       "      <td>Male</td>\n",
       "      <td>0</td>\n",
       "      <td>...</td>\n",
       "      <td>No</td>\n",
       "      <td>DSL</td>\n",
       "      <td>Yes</td>\n",
       "      <td>Yes</td>\n",
       "      <td>No</td>\n",
       "      <td>No</td>\n",
       "      <td>No</td>\n",
       "      <td>No</td>\n",
       "      <td>No</td>\n",
       "      <td>0</td>\n",
       "    </tr>\n",
       "    <tr>\n",
       "      <th>3</th>\n",
       "      <td>7795-CFOCW</td>\n",
       "      <td>2016-05-01</td>\n",
       "      <td>No</td>\n",
       "      <td>One year</td>\n",
       "      <td>No</td>\n",
       "      <td>Bank transfer (automatic)</td>\n",
       "      <td>42.30</td>\n",
       "      <td>1960.6</td>\n",
       "      <td>Male</td>\n",
       "      <td>0</td>\n",
       "      <td>...</td>\n",
       "      <td>No</td>\n",
       "      <td>DSL</td>\n",
       "      <td>Yes</td>\n",
       "      <td>No</td>\n",
       "      <td>Yes</td>\n",
       "      <td>Yes</td>\n",
       "      <td>No</td>\n",
       "      <td>No</td>\n",
       "      <td>No</td>\n",
       "      <td>0</td>\n",
       "    </tr>\n",
       "    <tr>\n",
       "      <th>4</th>\n",
       "      <td>9237-HQITU</td>\n",
       "      <td>2019-09-01</td>\n",
       "      <td>No</td>\n",
       "      <td>Month-to-month</td>\n",
       "      <td>Yes</td>\n",
       "      <td>Electronic check</td>\n",
       "      <td>70.70</td>\n",
       "      <td>353.5</td>\n",
       "      <td>Female</td>\n",
       "      <td>0</td>\n",
       "      <td>...</td>\n",
       "      <td>No</td>\n",
       "      <td>Fiber optic</td>\n",
       "      <td>No</td>\n",
       "      <td>No</td>\n",
       "      <td>No</td>\n",
       "      <td>No</td>\n",
       "      <td>No</td>\n",
       "      <td>No</td>\n",
       "      <td>No</td>\n",
       "      <td>0</td>\n",
       "    </tr>\n",
       "    <tr>\n",
       "      <th>5</th>\n",
       "      <td>9305-CDSKC</td>\n",
       "      <td>2019-03-01</td>\n",
       "      <td>No</td>\n",
       "      <td>Month-to-month</td>\n",
       "      <td>Yes</td>\n",
       "      <td>Electronic check</td>\n",
       "      <td>99.65</td>\n",
       "      <td>1150.96</td>\n",
       "      <td>Female</td>\n",
       "      <td>0</td>\n",
       "      <td>...</td>\n",
       "      <td>No</td>\n",
       "      <td>Fiber optic</td>\n",
       "      <td>No</td>\n",
       "      <td>No</td>\n",
       "      <td>Yes</td>\n",
       "      <td>No</td>\n",
       "      <td>Yes</td>\n",
       "      <td>Yes</td>\n",
       "      <td>Yes</td>\n",
       "      <td>0</td>\n",
       "    </tr>\n",
       "    <tr>\n",
       "      <th>6</th>\n",
       "      <td>1452-KIOVK</td>\n",
       "      <td>2018-04-01</td>\n",
       "      <td>No</td>\n",
       "      <td>Month-to-month</td>\n",
       "      <td>Yes</td>\n",
       "      <td>Credit card (automatic)</td>\n",
       "      <td>89.10</td>\n",
       "      <td>2058.21</td>\n",
       "      <td>Male</td>\n",
       "      <td>0</td>\n",
       "      <td>...</td>\n",
       "      <td>Yes</td>\n",
       "      <td>Fiber optic</td>\n",
       "      <td>No</td>\n",
       "      <td>Yes</td>\n",
       "      <td>No</td>\n",
       "      <td>No</td>\n",
       "      <td>Yes</td>\n",
       "      <td>No</td>\n",
       "      <td>Yes</td>\n",
       "      <td>0</td>\n",
       "    </tr>\n",
       "    <tr>\n",
       "      <th>7</th>\n",
       "      <td>6713-OKOMC</td>\n",
       "      <td>2019-04-01</td>\n",
       "      <td>No</td>\n",
       "      <td>Month-to-month</td>\n",
       "      <td>No</td>\n",
       "      <td>Mailed check</td>\n",
       "      <td>29.75</td>\n",
       "      <td>300.48</td>\n",
       "      <td>Female</td>\n",
       "      <td>0</td>\n",
       "      <td>...</td>\n",
       "      <td>No</td>\n",
       "      <td>DSL</td>\n",
       "      <td>Yes</td>\n",
       "      <td>No</td>\n",
       "      <td>No</td>\n",
       "      <td>No</td>\n",
       "      <td>No</td>\n",
       "      <td>No</td>\n",
       "      <td>No</td>\n",
       "      <td>0</td>\n",
       "    </tr>\n",
       "    <tr>\n",
       "      <th>8</th>\n",
       "      <td>7892-POOKP</td>\n",
       "      <td>2017-07-01</td>\n",
       "      <td>No</td>\n",
       "      <td>Month-to-month</td>\n",
       "      <td>Yes</td>\n",
       "      <td>Electronic check</td>\n",
       "      <td>104.80</td>\n",
       "      <td>3573.68</td>\n",
       "      <td>Female</td>\n",
       "      <td>0</td>\n",
       "      <td>...</td>\n",
       "      <td>No</td>\n",
       "      <td>Fiber optic</td>\n",
       "      <td>No</td>\n",
       "      <td>No</td>\n",
       "      <td>Yes</td>\n",
       "      <td>Yes</td>\n",
       "      <td>Yes</td>\n",
       "      <td>Yes</td>\n",
       "      <td>Yes</td>\n",
       "      <td>0</td>\n",
       "    </tr>\n",
       "    <tr>\n",
       "      <th>9</th>\n",
       "      <td>6388-TABGU</td>\n",
       "      <td>2014-12-01</td>\n",
       "      <td>2017-05-01</td>\n",
       "      <td>One year</td>\n",
       "      <td>No</td>\n",
       "      <td>Bank transfer (automatic)</td>\n",
       "      <td>56.15</td>\n",
       "      <td>1628.35</td>\n",
       "      <td>Male</td>\n",
       "      <td>0</td>\n",
       "      <td>...</td>\n",
       "      <td>Yes</td>\n",
       "      <td>DSL</td>\n",
       "      <td>Yes</td>\n",
       "      <td>Yes</td>\n",
       "      <td>No</td>\n",
       "      <td>No</td>\n",
       "      <td>No</td>\n",
       "      <td>No</td>\n",
       "      <td>No</td>\n",
       "      <td>1</td>\n",
       "    </tr>\n",
       "  </tbody>\n",
       "</table>\n",
       "<p>10 rows × 21 columns</p>\n",
       "</div>"
      ],
      "text/plain": [
       "   customerID   BeginDate     EndDate            Type PaperlessBilling  \\\n",
       "0  7590-VHVEG  2020-01-01          No  Month-to-month              Yes   \n",
       "1  5575-GNVDE  2017-04-01          No        One year               No   \n",
       "2  3668-QPYBK  2019-10-01          No  Month-to-month              Yes   \n",
       "3  7795-CFOCW  2016-05-01          No        One year               No   \n",
       "4  9237-HQITU  2019-09-01          No  Month-to-month              Yes   \n",
       "5  9305-CDSKC  2019-03-01          No  Month-to-month              Yes   \n",
       "6  1452-KIOVK  2018-04-01          No  Month-to-month              Yes   \n",
       "7  6713-OKOMC  2019-04-01          No  Month-to-month               No   \n",
       "8  7892-POOKP  2017-07-01          No  Month-to-month              Yes   \n",
       "9  6388-TABGU  2014-12-01  2017-05-01        One year               No   \n",
       "\n",
       "               PaymentMethod  MonthlyCharges TotalCharges  gender  \\\n",
       "0           Electronic check           29.85        31.04  Female   \n",
       "1               Mailed check           56.95      2071.84    Male   \n",
       "2               Mailed check           53.85       226.17    Male   \n",
       "3  Bank transfer (automatic)           42.30       1960.6    Male   \n",
       "4           Electronic check           70.70        353.5  Female   \n",
       "5           Electronic check           99.65      1150.96  Female   \n",
       "6    Credit card (automatic)           89.10      2058.21    Male   \n",
       "7               Mailed check           29.75       300.48  Female   \n",
       "8           Electronic check          104.80      3573.68  Female   \n",
       "9  Bank transfer (automatic)           56.15      1628.35    Male   \n",
       "\n",
       "   SeniorCitizen  ... Dependents InternetService OnlineSecurity OnlineBackup  \\\n",
       "0              0  ...         No             DSL             No          Yes   \n",
       "1              0  ...         No             DSL            Yes           No   \n",
       "2              0  ...         No             DSL            Yes          Yes   \n",
       "3              0  ...         No             DSL            Yes           No   \n",
       "4              0  ...         No     Fiber optic             No           No   \n",
       "5              0  ...         No     Fiber optic             No           No   \n",
       "6              0  ...        Yes     Fiber optic             No          Yes   \n",
       "7              0  ...         No             DSL            Yes           No   \n",
       "8              0  ...         No     Fiber optic             No           No   \n",
       "9              0  ...        Yes             DSL            Yes          Yes   \n",
       "\n",
       "  DeviceProtection TechSupport StreamingTV StreamingMovies MultipleLines  \\\n",
       "0               No          No          No              No            No   \n",
       "1              Yes          No          No              No            No   \n",
       "2               No          No          No              No            No   \n",
       "3              Yes         Yes          No              No            No   \n",
       "4               No          No          No              No            No   \n",
       "5              Yes          No         Yes             Yes           Yes   \n",
       "6               No          No         Yes              No           Yes   \n",
       "7               No          No          No              No            No   \n",
       "8              Yes         Yes         Yes             Yes           Yes   \n",
       "9               No          No          No              No            No   \n",
       "\n",
       "  Target  \n",
       "0      0  \n",
       "1      0  \n",
       "2      0  \n",
       "3      0  \n",
       "4      0  \n",
       "5      0  \n",
       "6      0  \n",
       "7      0  \n",
       "8      0  \n",
       "9      1  \n",
       "\n",
       "[10 rows x 21 columns]"
      ]
     },
     "execution_count": 27,
     "metadata": {},
     "output_type": "execute_result"
    }
   ],
   "source": [
    "data.head(10)"
   ]
  },
  {
   "cell_type": "markdown",
   "id": "d133b12d-ba72-4fbc-83a7-1a426fae02f1",
   "metadata": {},
   "source": [
    "Заполним в признаке EndDate значение \"No\" крайней датой актуальности датасета - 1 февраля 2020"
   ]
  },
  {
   "cell_type": "code",
   "execution_count": 28,
   "id": "9fa9555c-fec2-4d4d-9863-d44fb11ef974",
   "metadata": {},
   "outputs": [],
   "source": [
    "data['EndDate'] = data['EndDate'].replace('No', '2020-02-01')"
   ]
  },
  {
   "cell_type": "code",
   "execution_count": 29,
   "id": "6484f92a-e878-4ab4-b625-b4a26b26bb10",
   "metadata": {},
   "outputs": [
    {
     "data": {
      "text/html": [
       "<div>\n",
       "<style scoped>\n",
       "    .dataframe tbody tr th:only-of-type {\n",
       "        vertical-align: middle;\n",
       "    }\n",
       "\n",
       "    .dataframe tbody tr th {\n",
       "        vertical-align: top;\n",
       "    }\n",
       "\n",
       "    .dataframe thead th {\n",
       "        text-align: right;\n",
       "    }\n",
       "</style>\n",
       "<table border=\"1\" class=\"dataframe\">\n",
       "  <thead>\n",
       "    <tr style=\"text-align: right;\">\n",
       "      <th></th>\n",
       "      <th>customerID</th>\n",
       "      <th>BeginDate</th>\n",
       "      <th>EndDate</th>\n",
       "      <th>Type</th>\n",
       "      <th>PaperlessBilling</th>\n",
       "      <th>PaymentMethod</th>\n",
       "      <th>MonthlyCharges</th>\n",
       "      <th>TotalCharges</th>\n",
       "      <th>gender</th>\n",
       "      <th>SeniorCitizen</th>\n",
       "      <th>...</th>\n",
       "      <th>Dependents</th>\n",
       "      <th>InternetService</th>\n",
       "      <th>OnlineSecurity</th>\n",
       "      <th>OnlineBackup</th>\n",
       "      <th>DeviceProtection</th>\n",
       "      <th>TechSupport</th>\n",
       "      <th>StreamingTV</th>\n",
       "      <th>StreamingMovies</th>\n",
       "      <th>MultipleLines</th>\n",
       "      <th>Target</th>\n",
       "    </tr>\n",
       "  </thead>\n",
       "  <tbody>\n",
       "    <tr>\n",
       "      <th>0</th>\n",
       "      <td>7590-VHVEG</td>\n",
       "      <td>2020-01-01</td>\n",
       "      <td>2020-02-01</td>\n",
       "      <td>Month-to-month</td>\n",
       "      <td>Yes</td>\n",
       "      <td>Electronic check</td>\n",
       "      <td>29.85</td>\n",
       "      <td>31.04</td>\n",
       "      <td>Female</td>\n",
       "      <td>0</td>\n",
       "      <td>...</td>\n",
       "      <td>No</td>\n",
       "      <td>DSL</td>\n",
       "      <td>No</td>\n",
       "      <td>Yes</td>\n",
       "      <td>No</td>\n",
       "      <td>No</td>\n",
       "      <td>No</td>\n",
       "      <td>No</td>\n",
       "      <td>No</td>\n",
       "      <td>0</td>\n",
       "    </tr>\n",
       "    <tr>\n",
       "      <th>1</th>\n",
       "      <td>5575-GNVDE</td>\n",
       "      <td>2017-04-01</td>\n",
       "      <td>2020-02-01</td>\n",
       "      <td>One year</td>\n",
       "      <td>No</td>\n",
       "      <td>Mailed check</td>\n",
       "      <td>56.95</td>\n",
       "      <td>2071.84</td>\n",
       "      <td>Male</td>\n",
       "      <td>0</td>\n",
       "      <td>...</td>\n",
       "      <td>No</td>\n",
       "      <td>DSL</td>\n",
       "      <td>Yes</td>\n",
       "      <td>No</td>\n",
       "      <td>Yes</td>\n",
       "      <td>No</td>\n",
       "      <td>No</td>\n",
       "      <td>No</td>\n",
       "      <td>No</td>\n",
       "      <td>0</td>\n",
       "    </tr>\n",
       "    <tr>\n",
       "      <th>2</th>\n",
       "      <td>3668-QPYBK</td>\n",
       "      <td>2019-10-01</td>\n",
       "      <td>2020-02-01</td>\n",
       "      <td>Month-to-month</td>\n",
       "      <td>Yes</td>\n",
       "      <td>Mailed check</td>\n",
       "      <td>53.85</td>\n",
       "      <td>226.17</td>\n",
       "      <td>Male</td>\n",
       "      <td>0</td>\n",
       "      <td>...</td>\n",
       "      <td>No</td>\n",
       "      <td>DSL</td>\n",
       "      <td>Yes</td>\n",
       "      <td>Yes</td>\n",
       "      <td>No</td>\n",
       "      <td>No</td>\n",
       "      <td>No</td>\n",
       "      <td>No</td>\n",
       "      <td>No</td>\n",
       "      <td>0</td>\n",
       "    </tr>\n",
       "    <tr>\n",
       "      <th>3</th>\n",
       "      <td>7795-CFOCW</td>\n",
       "      <td>2016-05-01</td>\n",
       "      <td>2020-02-01</td>\n",
       "      <td>One year</td>\n",
       "      <td>No</td>\n",
       "      <td>Bank transfer (automatic)</td>\n",
       "      <td>42.30</td>\n",
       "      <td>1960.6</td>\n",
       "      <td>Male</td>\n",
       "      <td>0</td>\n",
       "      <td>...</td>\n",
       "      <td>No</td>\n",
       "      <td>DSL</td>\n",
       "      <td>Yes</td>\n",
       "      <td>No</td>\n",
       "      <td>Yes</td>\n",
       "      <td>Yes</td>\n",
       "      <td>No</td>\n",
       "      <td>No</td>\n",
       "      <td>No</td>\n",
       "      <td>0</td>\n",
       "    </tr>\n",
       "    <tr>\n",
       "      <th>4</th>\n",
       "      <td>9237-HQITU</td>\n",
       "      <td>2019-09-01</td>\n",
       "      <td>2020-02-01</td>\n",
       "      <td>Month-to-month</td>\n",
       "      <td>Yes</td>\n",
       "      <td>Electronic check</td>\n",
       "      <td>70.70</td>\n",
       "      <td>353.5</td>\n",
       "      <td>Female</td>\n",
       "      <td>0</td>\n",
       "      <td>...</td>\n",
       "      <td>No</td>\n",
       "      <td>Fiber optic</td>\n",
       "      <td>No</td>\n",
       "      <td>No</td>\n",
       "      <td>No</td>\n",
       "      <td>No</td>\n",
       "      <td>No</td>\n",
       "      <td>No</td>\n",
       "      <td>No</td>\n",
       "      <td>0</td>\n",
       "    </tr>\n",
       "    <tr>\n",
       "      <th>5</th>\n",
       "      <td>9305-CDSKC</td>\n",
       "      <td>2019-03-01</td>\n",
       "      <td>2020-02-01</td>\n",
       "      <td>Month-to-month</td>\n",
       "      <td>Yes</td>\n",
       "      <td>Electronic check</td>\n",
       "      <td>99.65</td>\n",
       "      <td>1150.96</td>\n",
       "      <td>Female</td>\n",
       "      <td>0</td>\n",
       "      <td>...</td>\n",
       "      <td>No</td>\n",
       "      <td>Fiber optic</td>\n",
       "      <td>No</td>\n",
       "      <td>No</td>\n",
       "      <td>Yes</td>\n",
       "      <td>No</td>\n",
       "      <td>Yes</td>\n",
       "      <td>Yes</td>\n",
       "      <td>Yes</td>\n",
       "      <td>0</td>\n",
       "    </tr>\n",
       "    <tr>\n",
       "      <th>6</th>\n",
       "      <td>1452-KIOVK</td>\n",
       "      <td>2018-04-01</td>\n",
       "      <td>2020-02-01</td>\n",
       "      <td>Month-to-month</td>\n",
       "      <td>Yes</td>\n",
       "      <td>Credit card (automatic)</td>\n",
       "      <td>89.10</td>\n",
       "      <td>2058.21</td>\n",
       "      <td>Male</td>\n",
       "      <td>0</td>\n",
       "      <td>...</td>\n",
       "      <td>Yes</td>\n",
       "      <td>Fiber optic</td>\n",
       "      <td>No</td>\n",
       "      <td>Yes</td>\n",
       "      <td>No</td>\n",
       "      <td>No</td>\n",
       "      <td>Yes</td>\n",
       "      <td>No</td>\n",
       "      <td>Yes</td>\n",
       "      <td>0</td>\n",
       "    </tr>\n",
       "    <tr>\n",
       "      <th>7</th>\n",
       "      <td>6713-OKOMC</td>\n",
       "      <td>2019-04-01</td>\n",
       "      <td>2020-02-01</td>\n",
       "      <td>Month-to-month</td>\n",
       "      <td>No</td>\n",
       "      <td>Mailed check</td>\n",
       "      <td>29.75</td>\n",
       "      <td>300.48</td>\n",
       "      <td>Female</td>\n",
       "      <td>0</td>\n",
       "      <td>...</td>\n",
       "      <td>No</td>\n",
       "      <td>DSL</td>\n",
       "      <td>Yes</td>\n",
       "      <td>No</td>\n",
       "      <td>No</td>\n",
       "      <td>No</td>\n",
       "      <td>No</td>\n",
       "      <td>No</td>\n",
       "      <td>No</td>\n",
       "      <td>0</td>\n",
       "    </tr>\n",
       "    <tr>\n",
       "      <th>8</th>\n",
       "      <td>7892-POOKP</td>\n",
       "      <td>2017-07-01</td>\n",
       "      <td>2020-02-01</td>\n",
       "      <td>Month-to-month</td>\n",
       "      <td>Yes</td>\n",
       "      <td>Electronic check</td>\n",
       "      <td>104.80</td>\n",
       "      <td>3573.68</td>\n",
       "      <td>Female</td>\n",
       "      <td>0</td>\n",
       "      <td>...</td>\n",
       "      <td>No</td>\n",
       "      <td>Fiber optic</td>\n",
       "      <td>No</td>\n",
       "      <td>No</td>\n",
       "      <td>Yes</td>\n",
       "      <td>Yes</td>\n",
       "      <td>Yes</td>\n",
       "      <td>Yes</td>\n",
       "      <td>Yes</td>\n",
       "      <td>0</td>\n",
       "    </tr>\n",
       "    <tr>\n",
       "      <th>9</th>\n",
       "      <td>6388-TABGU</td>\n",
       "      <td>2014-12-01</td>\n",
       "      <td>2017-05-01</td>\n",
       "      <td>One year</td>\n",
       "      <td>No</td>\n",
       "      <td>Bank transfer (automatic)</td>\n",
       "      <td>56.15</td>\n",
       "      <td>1628.35</td>\n",
       "      <td>Male</td>\n",
       "      <td>0</td>\n",
       "      <td>...</td>\n",
       "      <td>Yes</td>\n",
       "      <td>DSL</td>\n",
       "      <td>Yes</td>\n",
       "      <td>Yes</td>\n",
       "      <td>No</td>\n",
       "      <td>No</td>\n",
       "      <td>No</td>\n",
       "      <td>No</td>\n",
       "      <td>No</td>\n",
       "      <td>1</td>\n",
       "    </tr>\n",
       "  </tbody>\n",
       "</table>\n",
       "<p>10 rows × 21 columns</p>\n",
       "</div>"
      ],
      "text/plain": [
       "   customerID   BeginDate     EndDate            Type PaperlessBilling  \\\n",
       "0  7590-VHVEG  2020-01-01  2020-02-01  Month-to-month              Yes   \n",
       "1  5575-GNVDE  2017-04-01  2020-02-01        One year               No   \n",
       "2  3668-QPYBK  2019-10-01  2020-02-01  Month-to-month              Yes   \n",
       "3  7795-CFOCW  2016-05-01  2020-02-01        One year               No   \n",
       "4  9237-HQITU  2019-09-01  2020-02-01  Month-to-month              Yes   \n",
       "5  9305-CDSKC  2019-03-01  2020-02-01  Month-to-month              Yes   \n",
       "6  1452-KIOVK  2018-04-01  2020-02-01  Month-to-month              Yes   \n",
       "7  6713-OKOMC  2019-04-01  2020-02-01  Month-to-month               No   \n",
       "8  7892-POOKP  2017-07-01  2020-02-01  Month-to-month              Yes   \n",
       "9  6388-TABGU  2014-12-01  2017-05-01        One year               No   \n",
       "\n",
       "               PaymentMethod  MonthlyCharges TotalCharges  gender  \\\n",
       "0           Electronic check           29.85        31.04  Female   \n",
       "1               Mailed check           56.95      2071.84    Male   \n",
       "2               Mailed check           53.85       226.17    Male   \n",
       "3  Bank transfer (automatic)           42.30       1960.6    Male   \n",
       "4           Electronic check           70.70        353.5  Female   \n",
       "5           Electronic check           99.65      1150.96  Female   \n",
       "6    Credit card (automatic)           89.10      2058.21    Male   \n",
       "7               Mailed check           29.75       300.48  Female   \n",
       "8           Electronic check          104.80      3573.68  Female   \n",
       "9  Bank transfer (automatic)           56.15      1628.35    Male   \n",
       "\n",
       "   SeniorCitizen  ... Dependents InternetService OnlineSecurity OnlineBackup  \\\n",
       "0              0  ...         No             DSL             No          Yes   \n",
       "1              0  ...         No             DSL            Yes           No   \n",
       "2              0  ...         No             DSL            Yes          Yes   \n",
       "3              0  ...         No             DSL            Yes           No   \n",
       "4              0  ...         No     Fiber optic             No           No   \n",
       "5              0  ...         No     Fiber optic             No           No   \n",
       "6              0  ...        Yes     Fiber optic             No          Yes   \n",
       "7              0  ...         No             DSL            Yes           No   \n",
       "8              0  ...         No     Fiber optic             No           No   \n",
       "9              0  ...        Yes             DSL            Yes          Yes   \n",
       "\n",
       "  DeviceProtection TechSupport StreamingTV StreamingMovies MultipleLines  \\\n",
       "0               No          No          No              No            No   \n",
       "1              Yes          No          No              No            No   \n",
       "2               No          No          No              No            No   \n",
       "3              Yes         Yes          No              No            No   \n",
       "4               No          No          No              No            No   \n",
       "5              Yes          No         Yes             Yes           Yes   \n",
       "6               No          No         Yes              No           Yes   \n",
       "7               No          No          No              No            No   \n",
       "8              Yes         Yes         Yes             Yes           Yes   \n",
       "9               No          No          No              No            No   \n",
       "\n",
       "  Target  \n",
       "0      0  \n",
       "1      0  \n",
       "2      0  \n",
       "3      0  \n",
       "4      0  \n",
       "5      0  \n",
       "6      0  \n",
       "7      0  \n",
       "8      0  \n",
       "9      1  \n",
       "\n",
       "[10 rows x 21 columns]"
      ]
     },
     "execution_count": 29,
     "metadata": {},
     "output_type": "execute_result"
    }
   ],
   "source": [
    "data.head(10)"
   ]
  },
  {
   "cell_type": "markdown",
   "id": "8dc5eeae-9666-4624-b8e7-5950684a0649",
   "metadata": {},
   "source": [
    "Переведем столбцы BeginDate и EndDate в корректный тип данных"
   ]
  },
  {
   "cell_type": "code",
   "execution_count": 30,
   "id": "449db7f1-c85d-4baf-ac9b-4caf1c80ae97",
   "metadata": {},
   "outputs": [],
   "source": [
    "data[['BeginDate', 'EndDate']] = data[['BeginDate', 'EndDate']].apply(pd.to_datetime )       "
   ]
  },
  {
   "cell_type": "code",
   "execution_count": 31,
   "id": "942cb003-e7e7-4118-b3d8-43d49f8f19ce",
   "metadata": {},
   "outputs": [
    {
     "name": "stdout",
     "output_type": "stream",
     "text": [
      "<class 'pandas.core.frame.DataFrame'>\n",
      "Int64Index: 7043 entries, 0 to 7042\n",
      "Data columns (total 21 columns):\n",
      " #   Column            Non-Null Count  Dtype         \n",
      "---  ------            --------------  -----         \n",
      " 0   customerID        7043 non-null   object        \n",
      " 1   BeginDate         7043 non-null   datetime64[ns]\n",
      " 2   EndDate           7043 non-null   datetime64[ns]\n",
      " 3   Type              7043 non-null   object        \n",
      " 4   PaperlessBilling  7043 non-null   object        \n",
      " 5   PaymentMethod     7043 non-null   object        \n",
      " 6   MonthlyCharges    7043 non-null   float64       \n",
      " 7   TotalCharges      7043 non-null   object        \n",
      " 8   gender            7043 non-null   object        \n",
      " 9   SeniorCitizen     7043 non-null   int64         \n",
      " 10  Partner           7043 non-null   object        \n",
      " 11  Dependents        7043 non-null   object        \n",
      " 12  InternetService   7043 non-null   object        \n",
      " 13  OnlineSecurity    7043 non-null   object        \n",
      " 14  OnlineBackup      7043 non-null   object        \n",
      " 15  DeviceProtection  7043 non-null   object        \n",
      " 16  TechSupport       7043 non-null   object        \n",
      " 17  StreamingTV       7043 non-null   object        \n",
      " 18  StreamingMovies   7043 non-null   object        \n",
      " 19  MultipleLines     7043 non-null   object        \n",
      " 20  Target            7043 non-null   int64         \n",
      "dtypes: datetime64[ns](2), float64(1), int64(2), object(16)\n",
      "memory usage: 1.2+ MB\n"
     ]
    }
   ],
   "source": [
    "data.info()"
   ]
  },
  {
   "cell_type": "code",
   "execution_count": 32,
   "id": "1f3ccbaa-25e4-4ee6-9e59-ac3023594ae0",
   "metadata": {},
   "outputs": [
    {
     "data": {
      "text/plain": [
       "           11\n",
       "20.45       6\n",
       "101.0       5\n",
       "21.53       4\n",
       "732.6       4\n",
       "           ..\n",
       "176.85      1\n",
       "3456.1      1\n",
       "5080.05     1\n",
       "952.09      1\n",
       "7839.5      1\n",
       "Name: TotalCharges, Length: 6658, dtype: int64"
      ]
     },
     "execution_count": 32,
     "metadata": {},
     "output_type": "execute_result"
    }
   ],
   "source": [
    "data['TotalCharges'].value_counts()"
   ]
  },
  {
   "cell_type": "markdown",
   "id": "b2503177-d000-47ae-bc50-7f7497f32dc5",
   "metadata": {},
   "source": [
    "Заполним пропуски и переведем столбец TotalCharges в корректный тип данных"
   ]
  },
  {
   "cell_type": "code",
   "execution_count": 33,
   "id": "a7302c2a-7398-4393-9a2e-d183af749d16",
   "metadata": {},
   "outputs": [
    {
     "name": "stdout",
     "output_type": "stream",
     "text": [
      "<class 'pandas.core.frame.DataFrame'>\n",
      "Int64Index: 7043 entries, 0 to 7042\n",
      "Data columns (total 21 columns):\n",
      " #   Column            Non-Null Count  Dtype         \n",
      "---  ------            --------------  -----         \n",
      " 0   customerID        7043 non-null   object        \n",
      " 1   BeginDate         7043 non-null   datetime64[ns]\n",
      " 2   EndDate           7043 non-null   datetime64[ns]\n",
      " 3   Type              7043 non-null   object        \n",
      " 4   PaperlessBilling  7043 non-null   object        \n",
      " 5   PaymentMethod     7043 non-null   object        \n",
      " 6   MonthlyCharges    7043 non-null   float64       \n",
      " 7   TotalCharges      7043 non-null   float64       \n",
      " 8   gender            7043 non-null   object        \n",
      " 9   SeniorCitizen     7043 non-null   int64         \n",
      " 10  Partner           7043 non-null   object        \n",
      " 11  Dependents        7043 non-null   object        \n",
      " 12  InternetService   7043 non-null   object        \n",
      " 13  OnlineSecurity    7043 non-null   object        \n",
      " 14  OnlineBackup      7043 non-null   object        \n",
      " 15  DeviceProtection  7043 non-null   object        \n",
      " 16  TechSupport       7043 non-null   object        \n",
      " 17  StreamingTV       7043 non-null   object        \n",
      " 18  StreamingMovies   7043 non-null   object        \n",
      " 19  MultipleLines     7043 non-null   object        \n",
      " 20  Target            7043 non-null   int64         \n",
      "dtypes: datetime64[ns](2), float64(2), int64(2), object(15)\n",
      "memory usage: 1.2+ MB\n"
     ]
    }
   ],
   "source": [
    "data['TotalCharges'] = data['TotalCharges'].replace([' '], 0)\n",
    "data['TotalCharges'] = data['TotalCharges'].astype('float')\n",
    "data.info()"
   ]
  },
  {
   "cell_type": "markdown",
   "id": "59478192-784e-47a2-a388-82399b4d79b6",
   "metadata": {},
   "source": [
    "Столбцы BeginDate, EndDate мы исправили на тип данных дата и время, а столбец TotalCharges исправили на вещественный тип данных."
   ]
  },
  {
   "cell_type": "markdown",
   "id": "9aac1c7e-05fd-4eb1-9369-22767c29f70d",
   "metadata": {},
   "source": [
    "Добавим новый столбец - какое количество времени клиенты пользовались услугами "
   ]
  },
  {
   "cell_type": "code",
   "execution_count": 34,
   "id": "90f32cc9-1c61-4006-8a9d-7bad603d92f7",
   "metadata": {},
   "outputs": [],
   "source": [
    "data['TotalDate'] = (data['EndDate'] - data['BeginDate']).dt.days"
   ]
  },
  {
   "cell_type": "markdown",
   "id": "d7474cba-4184-4580-a551-9f91193bbe1e",
   "metadata": {},
   "source": [
    "Проверим столбцы MonthlyCharges и TotalCharges на аномалии"
   ]
  },
  {
   "cell_type": "code",
   "execution_count": 35,
   "id": "413572fb-0304-4b78-b4f7-e11d91f67bbb",
   "metadata": {},
   "outputs": [
    {
     "data": {
      "image/png": "[encoded data removed]",
      "text/plain": [
       "<Figure size 432x288 with 1 Axes>"
      ]
     },
     "metadata": {
      "needs_background": "light"
     },
     "output_type": "display_data"
    }
   ],
   "source": [
    "data.boxplot('MonthlyCharges').set_title('Диаграмма размаха для выявления аномалий в ежемесячных тратах на услуги');"
   ]
  },
  {
   "cell_type": "code",
   "execution_count": 36,
   "id": "878a88d3-2bad-456d-a6c9-33866d41b736",
   "metadata": {},
   "outputs": [
    {
     "data": {
      "text/plain": [
       "count    7043.000000\n",
       "mean       64.761692\n",
       "std        30.090047\n",
       "min        18.250000\n",
       "25%        35.500000\n",
       "50%        70.350000\n",
       "75%        89.850000\n",
       "max       118.750000\n",
       "Name: MonthlyCharges, dtype: float64"
      ]
     },
     "execution_count": 36,
     "metadata": {},
     "output_type": "execute_result"
    }
   ],
   "source": [
    "data['MonthlyCharges'].describe()"
   ]
  },
  {
   "cell_type": "markdown",
   "id": "259dfe89-eb30-4cd0-9c0e-473fd6af2616",
   "metadata": {},
   "source": [
    "Аномалий в ежемесячных тратах на услуги не выявлено. В среднем клиенты в месяц платят по 70 долларов. Минимальный платеж клиентов в месяц составляет 18 долларов, а максимально 118.7 долларов. "
   ]
  },
  {
   "cell_type": "code",
   "execution_count": 37,
   "id": "00b937c3-42fe-4346-b3ce-f285aadc5a22",
   "metadata": {},
   "outputs": [
    {
     "data": {
      "image/png": "[encoded data removed]",
      "text/plain": [
       "<Figure size 432x288 with 1 Axes>"
      ]
     },
     "metadata": {
      "needs_background": "light"
     },
     "output_type": "display_data"
    }
   ],
   "source": [
    "data.boxplot('TotalCharges').set_title('Диаграмма размаха для выявления аномалий в количестве всех потраченных денег на услуги');"
   ]
  },
  {
   "cell_type": "code",
   "execution_count": 38,
   "id": "d12aa828-c21e-478f-8372-f615aca2a1fe",
   "metadata": {},
   "outputs": [
    {
     "data": {
      "text/plain": [
       "count    7043.000000\n",
       "mean     2115.312885\n",
       "std      2112.742814\n",
       "min         0.000000\n",
       "25%       436.750000\n",
       "50%      1343.350000\n",
       "75%      3236.690000\n",
       "max      9221.380000\n",
       "Name: TotalCharges, dtype: float64"
      ]
     },
     "execution_count": 38,
     "metadata": {},
     "output_type": "execute_result"
    }
   ],
   "source": [
    "data['TotalCharges'].describe()"
   ]
  },
  {
   "cell_type": "markdown",
   "id": "56c178e0-b10e-4dce-a132-ea07525b3296",
   "metadata": {},
   "source": [
    "Выявлены аномалии в количестве всех потраченных денег на услуги - выбросы в данных присутсвуют после значения в 7 700 долларов. Однако убирать эти данные не будем, так как это может быть категория клиентоы, которая на протяжении долгого времени обслуживалась в компании или же брала дорогие платные услуги. Более того, значения, которые отсёк верхний «ус», - редкие. Видно, насколько медиана не стремится к длинному хвосту высоких значений. \n",
    "В среднем, общее количество потраченных денег на услуги составляет 1 345 долларов, минимальное количество составляет 19 долларов, максимальное - 9 221."
   ]
  },
  {
   "cell_type": "markdown",
   "id": "5ffcd09e-a967-41fa-a4e0-1fd20f7ed33c",
   "metadata": {},
   "source": [
    "### Вывод:\n",
    "Мы провели полноценную предобработку данных:\n",
    "* Объединили данные в единый датафрейм\n",
    "* Проверили датафрейм на пропуски и обработали их\n",
    "* Привели столбцы к корректному типу данных\n",
    "* Выделили целевую переменную - столбец Target\n",
    "* Сгенерировали допольнитейльный признак - столбец TotalDate\n",
    "* Проверили датасет на аномалии и дублкаты"
   ]
  },
  {
   "cell_type": "markdown",
   "id": "a1a5ebc6-276f-4596-9087-292c862a13f1",
   "metadata": {},
   "source": [
    "## 3. Исследовательский анализ данных"
   ]
  },
  {
   "cell_type": "markdown",
   "id": "7c44bead-971a-43dd-aadb-01b643312cf4",
   "metadata": {},
   "source": [
    "Исследуем на графике количество времени использования услуг клиентами"
   ]
  },
  {
   "cell_type": "code",
   "execution_count": 39,
   "id": "1aad8933-775d-4ebf-81c9-73e698372e90",
   "metadata": {},
   "outputs": [
    {
     "data": {
      "image/png": "[encoded data removed]",
      "text/plain": [
       "<Figure size 1080x360 with 1 Axes>"
      ]
     },
     "metadata": {
      "needs_background": "light"
     },
     "output_type": "display_data"
    }
   ],
   "source": [
    "data['TotalDate'].hist(bins=50, figsize=(15,5)).set_title('Количество дней использования услуг')\n",
    "plt.xlabel('Количество дней')\n",
    "plt.ylabel('Количество клиентов');"
   ]
  },
  {
   "cell_type": "markdown",
   "id": "725be491-a20f-4be9-8502-f7f587a4f7da",
   "metadata": {},
   "source": [
    "Как мы можем наблбдать на графике, большое количество клиентов пользовались услугами компании менее 200 дней. Примерно одинаковое количество клиентов используют услуги от 250 до 2500 дней. Однако можно заметить, что подавляющее большинство клиентов пользуются услугами более 250 дней. Компании необходимо предлагать выгодные условия новым клиентам, чтобы завоевать доверие и оставить шанс получить потенциальных клиентов, а так же предлагат выгодные условия клиентам, которые пользуются услугами более полугода, чтобы иметь возможность завоевать доверие и удержать клиентов."
   ]
  },
  {
   "cell_type": "markdown",
   "id": "8753e4b6-a97c-4755-a751-0a6f31eff362",
   "metadata": {},
   "source": [
    "Посмотрим на графике дату начала пользования услугами клиентами"
   ]
  },
  {
   "cell_type": "code",
   "execution_count": 40,
   "id": "54b9d45a-6e69-403d-a7cf-90c9c0ee0b12",
   "metadata": {},
   "outputs": [
    {
     "data": {
      "image/png": "[encoded data removed]",
      "text/plain": [
       "<Figure size 1080x360 with 1 Axes>"
      ]
     },
     "metadata": {
      "needs_background": "light"
     },
     "output_type": "display_data"
    }
   ],
   "source": [
    "data['BeginDate'].hist(bins=30, figsize=(15,5)).set_title('Дата начала пользования услугами')\n",
    "plt.xlabel('Года')\n",
    "plt.ylabel('Количество');"
   ]
  },
  {
   "cell_type": "markdown",
   "id": "1ef621c9-56ad-4b21-acbe-20a29755e342",
   "metadata": {},
   "source": [
    "Самый ранний год начала пользования услугами клиентами - 2014, с этого года компания начала существовать и мы можем заметить большой прирост клиентов, который возможно связан с тем, что когда компания выходила на рынок, то предлагала выгодные предложения для клиентов, чтобы заинтересовать их. Прирост клиентов с даты начала существования компания составил около 550 клиентов. После второй половины 2014 года наблюдается спад по количеству заключенных контрактов клиентами, однако вплоть до 2019 года показатели находятся на одном уровне - количество клиентов со второй половины 2014 года по 2019 год составляет от 120 до 300 клиентов. После второй половины 2019 года наблюдаеся резкий скачок клиентов, данный показатель больше показателя 2014 года, количество новых клиентов составило примерно 710 человек."
   ]
  },
  {
   "cell_type": "markdown",
   "id": "32fc1686-053e-4d8f-9254-d1a673cab35a",
   "metadata": {},
   "source": [
    "Изучим на графике, какой был отток клиентов по времени наблюдений"
   ]
  },
  {
   "cell_type": "code",
   "execution_count": 41,
   "id": "7098425c-61d6-4a79-92b3-baecac300f48",
   "metadata": {},
   "outputs": [
    {
     "data": {
      "image/png": "[encoded data removed]",
      "text/plain": [
       "<Figure size 1080x360 with 1 Axes>"
      ]
     },
     "metadata": {
      "needs_background": "light"
     },
     "output_type": "display_data"
    }
   ],
   "source": [
    "data.query('EndDate != \"2020-02-01\"')['EndDate'].hist(bins=30, figsize=(15,5)).set_title('Отток клиентов по времени')\n",
    "plt.xlabel('Года')\n",
    "plt.ylabel('Количество');"
   ]
  },
  {
   "cell_type": "markdown",
   "id": "f7efeba8-2452-499b-b0c3-6c7a298875b2",
   "metadata": {},
   "source": [
    "Как мы можем наблюдать, с начала существования компании и до 2015 года ушло менее 10 клиентов, однако после 2015 года отток клиентов начал возрастать. В периоды с 2017 года по вторую половину 2019 года количество ушедших клиентов варьировалось примерно от 40 до 80 человек. Наибольший отток клиентов пришелся на конец 2019 года - начало 2020, количество ушедших клиентов составило более 100 человек."
   ]
  },
  {
   "cell_type": "markdown",
   "id": "8a660acd-ea39-473f-bcd0-3996026e531b",
   "metadata": {},
   "source": [
    "Изучим какой тип оплаты: ежемесячный, годовой или по два года выбирают большинство клиентов"
   ]
  },
  {
   "cell_type": "code",
   "execution_count": 42,
   "id": "252769b2-c5f9-4372-a883-2759e2ede4d4",
   "metadata": {},
   "outputs": [
    {
     "data": {
      "image/png": "[encoded data removed]",
      "text/plain": [
       "<Figure size 1080x360 with 1 Axes>"
      ]
     },
     "metadata": {
      "needs_background": "light"
     },
     "output_type": "display_data"
    }
   ],
   "source": [
    "data['Type'].hist(bins=30, figsize=(15,5)).set_title('Тип оплаты связи клиентами')\n",
    "plt.xlabel('Тип оплаты')\n",
    "plt.ylabel('Количество');"
   ]
  },
  {
   "cell_type": "markdown",
   "id": "9a0832e5-5ea9-4097-ba77-f2567e1b2481",
   "metadata": {
    "tags": []
   },
   "source": [
    "Как мы можем наблюдать, большинство клиентов выбирают ежемесячный тип оплаты."
   ]
  },
  {
   "cell_type": "markdown",
   "id": "d892e21c-6d7d-4e68-849d-6539de63abc9",
   "metadata": {},
   "source": [
    "Изучим, какой тип оплаты выбирают большинство клиентов"
   ]
  },
  {
   "cell_type": "code",
   "execution_count": 43,
   "id": "6d046b54-2674-4ff3-a005-facbe4f8fe03",
   "metadata": {},
   "outputs": [
    {
     "data": {
      "image/png": "[encoded data removed]",
      "text/plain": [
       "<Figure size 360x360 with 1 Axes>"
      ]
     },
     "metadata": {},
     "output_type": "display_data"
    }
   ],
   "source": [
    "data['PaperlessBilling'].value_counts().plot.pie(figsize=(5, 5), autopct='%1.0f%%').set_title('Наличный или безналичный расчет');"
   ]
  },
  {
   "cell_type": "markdown",
   "id": "cbe92216-d8f9-4f87-b086-20fa68ce4620",
   "metadata": {},
   "source": [
    "Большинство клиентов (59%) используют безналичный расчет "
   ]
  },
  {
   "cell_type": "markdown",
   "id": "30d7e74f-ff3d-432e-ba3d-6f98707f010d",
   "metadata": {},
   "source": [
    "Изучим наличие супруга(и) у клиентов"
   ]
  },
  {
   "cell_type": "code",
   "execution_count": 44,
   "id": "eea017d2-d92e-457f-9b44-5b5c95928dcc",
   "metadata": {},
   "outputs": [
    {
     "data": {
      "image/png": "[encoded data removed]",
      "text/plain": [
       "<Figure size 360x360 with 1 Axes>"
      ]
     },
     "metadata": {},
     "output_type": "display_data"
    }
   ],
   "source": [
    "data['Partner'].value_counts().plot.pie(figsize=(5, 5), autopct='%1.0f%%').set_title('Наличие супруга(и)');"
   ]
  },
  {
   "cell_type": "markdown",
   "id": "8e6e3aa6-d5ed-489f-8ef4-2f9ec649238a",
   "metadata": {},
   "source": [
    "Как мы можем наблюдать, у чуть больше половины (52%) клиентов нет супруга(и)"
   ]
  },
  {
   "cell_type": "markdown",
   "id": "dfc2de22-67d5-4ed0-b049-32998119f085",
   "metadata": {},
   "source": [
    "Изучим наличие пенсионного статуса по возрасту у клиентов"
   ]
  },
  {
   "cell_type": "code",
   "execution_count": 45,
   "id": "d3b90b01-345e-4eca-8e28-5cbabe93a296",
   "metadata": {},
   "outputs": [
    {
     "data": {
      "image/png": "[encoded data removed]",
      "text/plain": [
       "<Figure size 360x360 with 1 Axes>"
      ]
     },
     "metadata": {},
     "output_type": "display_data"
    }
   ],
   "source": [
    "data['SeniorCitizen'].value_counts().plot.pie(figsize=(5, 5), autopct='%1.0f%%').set_title('Наличие пенсионного статуса по возрасту');"
   ]
  },
  {
   "cell_type": "markdown",
   "id": "1a1aa7b0-cdff-4e20-8d3f-6a74da1a289a",
   "metadata": {},
   "source": [
    "У 16% всех клиентов имеется пенсионный статус по возрасту"
   ]
  },
  {
   "cell_type": "markdown",
   "id": "ca94a04a-1751-4c95-8f28-9535ac0eede1",
   "metadata": {},
   "source": [
    "Изучим наличие иждивенцев у клиентов"
   ]
  },
  {
   "cell_type": "code",
   "execution_count": 46,
   "id": "b85bc76d-3d8d-43ac-9124-731941d097d4",
   "metadata": {},
   "outputs": [
    {
     "data": {
      "image/png": "[encoded data removed]",
      "text/plain": [
       "<Figure size 360x360 with 1 Axes>"
      ]
     },
     "metadata": {},
     "output_type": "display_data"
    }
   ],
   "source": [
    "data['Dependents'].value_counts().plot.pie(figsize=(5, 5), autopct='%1.0f%%').set_title('Наличие иждивенцев');"
   ]
  },
  {
   "cell_type": "markdown",
   "id": "e3abbe3a-d113-4bc2-8619-dd79921c9841",
   "metadata": {},
   "source": [
    "Наличие иждевенцев выявлено у 30% клиентов"
   ]
  },
  {
   "cell_type": "markdown",
   "id": "ff87d549-72e7-45c2-b856-cc33dc7e935d",
   "metadata": {},
   "source": [
    "Проанализируем длительность пользования услугами дейсвующих и ушедших клиентов"
   ]
  },
  {
   "cell_type": "code",
   "execution_count": 47,
   "id": "be1f4ab0-d44e-41fa-886c-b59a9ad1f664",
   "metadata": {},
   "outputs": [
    {
     "data": {
      "image/png": "[encoded data removed]",
      "text/plain": [
       "<Figure size 432x288 with 1 Axes>"
      ]
     },
     "metadata": {
      "needs_background": "light"
     },
     "output_type": "display_data"
    }
   ],
   "source": [
    "ax = sns.histplot(data.query('Target == 0')['TotalDate'],\n",
    "                  color='g',\n",
    "                  label='Действующие клиенты')\n",
    "sns.histplot(data.query('Target == 1')['TotalDate'],\n",
    "             ax=ax, \n",
    "             alpha=1,\n",
    "             label='Ушедшие клиенты')\n",
    "ax.legend()\n",
    "plt.title('Длительность пользования услуг дейсвующих и ушедших клиентов')\n",
    "plt.xlabel('Количество дней')\n",
    "plt.ylabel('Количество клиентов');"
   ]
  },
  {
   "cell_type": "markdown",
   "id": "e022d6ea-eae5-4c59-9e34-dd216a41cf6a",
   "metadata": {},
   "source": [
    "Как мы можем наблюдать, спустя полтора года пользования услугами связи, количество действующих клиентов начинает сокращаться. Пик ухода наблюдается, когда количество дней достигает 900 (два с половиной года), после преодоления этой отметки, количество уходов начинает сокращаться и стримится к минимуму, а действующие клиенты заметно увеличиваются."
   ]
  },
  {
   "cell_type": "markdown",
   "id": "95155cb7-978c-447b-9b32-8b98c5394222",
   "metadata": {},
   "source": [
    "Проанализируем ежемесячные траты на услуги дейсвующих и ушедших клиентов"
   ]
  },
  {
   "cell_type": "code",
   "execution_count": 48,
   "id": "8f109bce-b1c6-4b9c-bc77-5a4ef0b34ba4",
   "metadata": {},
   "outputs": [
    {
     "data": {
      "image/png": "[encoded data removed]",
      "text/plain": [
       "<Figure size 432x288 with 1 Axes>"
      ]
     },
     "metadata": {
      "needs_background": "light"
     },
     "output_type": "display_data"
    }
   ],
   "source": [
    "ax = sns.histplot(data.query('Target == 0')['MonthlyCharges'],\n",
    "                  color='g',\n",
    "                  label='Действующие клиенты')\n",
    "sns.histplot(data.query('Target == 1')['MonthlyCharges'],\n",
    "             ax=ax, \n",
    "             alpha=1,\n",
    "             label='Ушедшие клиенты')\n",
    "ax.legend()\n",
    "plt.title('Ежемесячные траты на услуги дейсвующих и ушедших клиентов')\n",
    "plt.xlabel('Ежемесячные траты на услуги')\n",
    "plt.ylabel('Количество клиентов');"
   ]
  },
  {
   "cell_type": "markdown",
   "id": "9fbf03ba-4d6e-465c-98bd-9b426da05dcb",
   "metadata": {},
   "source": [
    "Как мы можем заметить, большинство ушедших клиентов пользовались дорогими тарифами. Большинство действующих клиентов, наоборот, пользуются самым дешевым тарифом. Можно предположить, что ушедших клиентов не устраивало соотношение цена-качества, в последствии чего они были вынуждены уйти."
   ]
  },
  {
   "cell_type": "markdown",
   "id": "43c88fca-9549-41da-a858-afa94b4d2c15",
   "metadata": {},
   "source": [
    "Проанализируем наличие пенсионного статуса по возрасту дейсвующих и ушедших клиентов"
   ]
  },
  {
   "cell_type": "code",
   "execution_count": 49,
   "id": "9b7d27c3-684a-4e0b-994f-041c8dc61cfb",
   "metadata": {},
   "outputs": [
    {
     "data": {
      "image/png": "[encoded data removed]",
      "text/plain": [
       "<Figure size 432x288 with 1 Axes>"
      ]
     },
     "metadata": {
      "needs_background": "light"
     },
     "output_type": "display_data"
    }
   ],
   "source": [
    "ax = sns.histplot(data.query('Target == 0')['SeniorCitizen'],\n",
    "                  color='r',\n",
    "                  label='Действующие клиенты')\n",
    "sns.histplot(data.query('Target == 1')['SeniorCitizen'],\n",
    "             ax=ax, \n",
    "             alpha=1,\n",
    "             label='Ушедшие клиенты')\n",
    "ax.legend()\n",
    "plt.title('Наличие пенсионного статуса по возрасту дейсвующих и ушедших клиентов')\n",
    "plt.xlabel('Наличие пенсионного статуса по возрасту')\n",
    "plt.ylabel('Количество клиентов');"
   ]
  },
  {
   "cell_type": "markdown",
   "id": "88abc404-924f-4069-b988-87f494022bec",
   "metadata": {},
   "source": [
    "Клиенты, которые ушли и имеют пенсионный статус - составляют меньше половины ушедших. Так же можно заметить, что большинство действующих клиентов - не имеют пенсионный статус."
   ]
  },
  {
   "cell_type": "markdown",
   "id": "61630eeb-6e4d-407a-a6bc-a343a8350306",
   "metadata": {},
   "source": [
    "Проанализируем наличие супруга(и) у дейсвующих и ушедших клиентов"
   ]
  },
  {
   "cell_type": "code",
   "execution_count": 50,
   "id": "20c5c815-619f-417f-8187-47bec328b33f",
   "metadata": {},
   "outputs": [
    {
     "data": {
      "image/png": "[encoded data removed]",
      "text/plain": [
       "<Figure size 432x288 with 1 Axes>"
      ]
     },
     "metadata": {
      "needs_background": "light"
     },
     "output_type": "display_data"
    }
   ],
   "source": [
    "ax = sns.histplot(data.query('Target == 0')['Partner'],\n",
    "                  color='r',\n",
    "                  label='Действующие клиенты')\n",
    "sns.histplot(data.query('Target == 1')['Partner'],\n",
    "             ax=ax, \n",
    "             alpha=1,\n",
    "             label='Ушедшие клиенты')\n",
    "ax.legend()\n",
    "plt.title('Наличие супруга(и) у дейсвующих и ушедших клиентов')\n",
    "plt.xlabel('Наличие супруга(и)')\n",
    "plt.ylabel('Количество клиентов');"
   ]
  },
  {
   "cell_type": "markdown",
   "id": "42c7ee5a-e16d-4b5e-9d0a-0f81ad939962",
   "metadata": {},
   "source": [
    "Как можно заметить, у большинства ушедших клиентов имеется супруг(а), однако у большинства действующих клиентов нет супруга(и),"
   ]
  },
  {
   "cell_type": "markdown",
   "id": "c0f21319-b915-4256-8028-904510d759ab",
   "metadata": {},
   "source": [
    "Проанализируем наличие иждивенцев у дейсвующих и ушедших клиентов"
   ]
  },
  {
   "cell_type": "code",
   "execution_count": 51,
   "id": "cca7e4d0-db3b-48ec-8c16-74c7dee57c19",
   "metadata": {},
   "outputs": [
    {
     "data": {
      "image/png": "[encoded data removed]",
      "text/plain": [
       "<Figure size 432x288 with 1 Axes>"
      ]
     },
     "metadata": {
      "needs_background": "light"
     },
     "output_type": "display_data"
    }
   ],
   "source": [
    "ax = sns.histplot(data.query('Target == 0')['Dependents'],\n",
    "                  color='r',\n",
    "                  label='Действующие клиенты')\n",
    "sns.histplot(data.query('Target == 1')['Dependents'],\n",
    "             ax=ax, \n",
    "             alpha=1,\n",
    "             label='Ушедшие клиенты')\n",
    "ax.legend()\n",
    "plt.title('Наличие иждивенцев у дейсвующих и ушедших клиентов')\n",
    "plt.xlabel('Наличие иждивенцев')\n",
    "plt.ylabel('Количество клиентов');"
   ]
  },
  {
   "cell_type": "markdown",
   "id": "3bf48702-bdc9-44db-9f38-732eb306ab92",
   "metadata": {},
   "source": [
    "У большинства ушедших и действующих клиентов нет иждивенцев."
   ]
  },
  {
   "cell_type": "markdown",
   "id": "4b0027ef-97e2-4cbf-bd86-4ca7ac7f7896",
   "metadata": {},
   "source": [
    "Проведем анализ на корреляцию числовых признаков"
   ]
  },
  {
   "cell_type": "code",
   "execution_count": 52,
   "id": "185df76b-8cde-4144-a7f6-3de70cab9aec",
   "metadata": {},
   "outputs": [
    {
     "data": {
      "image/png": "[encoded data removed]",
      "text/plain": [
       "<Figure size 432x288 with 2 Axes>"
      ]
     },
     "metadata": {
      "needs_background": "light"
     },
     "output_type": "display_data"
    }
   ],
   "source": [
    "data_corr = data[['MonthlyCharges', 'TotalCharges', 'TotalDate']]\n",
    "\n",
    "sns.heatmap(data_corr.corr(), vmin = -1, vmax = +1, annot = True, cmap = 'coolwarm');"
   ]
  },
  {
   "cell_type": "markdown",
   "id": "6c38cb60-84c5-4b22-b02a-b37ba9bd622d",
   "metadata": {},
   "source": [
    "Можем заметить тесную связь между двумя признаками: TotalCharges – всего потрачено денег на услуги и TotalDate – количество дней использования услуг - корреляция равняется 0.82, что вполне логично, так как количество потраченных денег на услуги напрямую зависит от количества дней пользованиями услугами. Так же прослеживается умеренная связь между признаком TotalCharges – всего потрачено денег на услуги и признаком MonthlyCharges – ежемесячные траты на услуги. Практически никакой связи нет уу признака MonthlyCharges – ежемесячные траты на услуги и признака TotalDate – количество дней использования услуг."
   ]
  },
  {
   "cell_type": "markdown",
   "id": "d59f4013-06cf-4bf5-9c32-c7cf70cb7403",
   "metadata": {},
   "source": [
    "### Вывод:\n",
    "Мы провели исследовательский анализ данных:\n",
    "* Рассмотрели и проанализировали признаки:\n",
    "    * Большое количество клиентов пользовались услугами компании менее 200 дней. Примерно одинаковое количество клиентов используют услуги от 250 до 2500 дней. Подавляющее большинство клиентов пользуются услугами более 250 дней. \n",
    "    * Прирост клиентов с даты начала существования компания составил около 550 клиентов. После второй половины 2014 года наблюдается спад по количеству заключенных контрактов клиентами, однако вплоть до 2019 года показатели находятся на одном уровне - количество клиентов со второй половины 2014 года по 2019 год составляет от 120 до 300 клиентов. После второй половины 2019 года наблюдаеся резкий скачок клиентов, данный показатель больше показателя 2014 года, количество новых клиентов составило примерно 710 человек.\n",
    "    * С начала существования компании и до 2015 года ушло менее 10 клиентов, однако после 2015 года отток клиентов начал возрастать. В периоды с 2017 года по вторую половину 2019 года количество ушедших клиентов варьировалось примерно от 40 до 80 человек. Наибольший отток клиентов пришелся на конец 2019 года - начало 2020, количество ушедших клиентов составило более 100 человек.\n",
    "    * Большинство клиентов выбирают ежемесячный тип оплаты.\n",
    "    * Большинство клиентов (59%) используют безналичный расчет \n",
    "    * Как мы можем наблюдать, у чуть больше половины (52%) клиентов нет супруга(и)\n",
    "    * У 16% всех клиентов имеется пенсионный статус по возрасту\n",
    "    * Наличие иждевенцев выявлено у 30% клиентов\n",
    "* Проанализировали ушедщих и действующих клиентов:       \n",
    "    * Спустя полтора года пользования услугами связи, количество действующих клиентов начинает сокращаться. Пик ухода наблюдается, когда количество дней достигает 900 (два с половиной года), после преодоления этой отметки, количество уходов начинает сокращаться и стримится к минимуму, а действующие клиенты заметно увеличиваются\n",
    "    * Большинство ушедших клиентов пользовались дорогими тарифами. Большинство действующих клиентов, наоборот, пользуются самым дешевым тарифом\n",
    "    * Клиенты, которые ушли и имеют пенсионный статус - составляют меньше половины ушедших. Большинство действующих клиентов - не имеют пенсионный статус\n",
    "    * У большинства ушедших клиентов имеется супруг(а), однако у большинства действующих клиентов нет супруга(и)\n",
    "    * У большинства ушедших и действующих клиентов нет иждивенцев\n",
    "    \n",
    "* Провели анализ на корреляцию числовых признаков: \n",
    "    * Тесную связь между двумя признаками: TotalCharges – всего потрачено денег на услуги и TotalDate – количество дней использования услуг - корреляция равняется 0.82, что вполне логично, так как количество потраченных денег на услуги напрямую зависит от количества дней пользованиями услугами. Так же прослеживается умеренная связь между признаком TotalCharges – всего потрачено денег на услуги и признаком MonthlyCharges – ежемесячные траты на услуги. Практически никакой связи нет уу признака MonthlyCharges – ежемесячные траты на услуги и признака TotalDate – количество дней использования услуг."
   ]
  },
  {
   "cell_type": "markdown",
   "id": "16137f92-9bab-400d-a23c-a30e80a29148",
   "metadata": {},
   "source": [
    "## 4. Подготовка данных"
   ]
  },
  {
   "cell_type": "markdown",
   "id": "991bb5ee-ee6d-4af8-9c57-8c6ddb538b89",
   "metadata": {},
   "source": [
    "Удалим неинформативные признаки"
   ]
  },
  {
   "cell_type": "code",
   "execution_count": 53,
   "id": "384afb42-4834-4f1c-8792-de7d8481da45",
   "metadata": {},
   "outputs": [],
   "source": [
    "data = data.drop(['BeginDate', 'EndDate', 'customerID'], axis=1)"
   ]
  },
  {
   "cell_type": "code",
   "execution_count": 54,
   "id": "b52f7812-f8dc-482a-b32b-d481d0208098",
   "metadata": {
    "tags": []
   },
   "outputs": [
    {
     "data": {
      "text/html": [
       "<div>\n",
       "<style scoped>\n",
       "    .dataframe tbody tr th:only-of-type {\n",
       "        vertical-align: middle;\n",
       "    }\n",
       "\n",
       "    .dataframe tbody tr th {\n",
       "        vertical-align: top;\n",
       "    }\n",
       "\n",
       "    .dataframe thead th {\n",
       "        text-align: right;\n",
       "    }\n",
       "</style>\n",
       "<table border=\"1\" class=\"dataframe\">\n",
       "  <thead>\n",
       "    <tr style=\"text-align: right;\">\n",
       "      <th></th>\n",
       "      <th>Type</th>\n",
       "      <th>PaperlessBilling</th>\n",
       "      <th>PaymentMethod</th>\n",
       "      <th>MonthlyCharges</th>\n",
       "      <th>TotalCharges</th>\n",
       "      <th>gender</th>\n",
       "      <th>SeniorCitizen</th>\n",
       "      <th>Partner</th>\n",
       "      <th>Dependents</th>\n",
       "      <th>InternetService</th>\n",
       "      <th>OnlineSecurity</th>\n",
       "      <th>OnlineBackup</th>\n",
       "      <th>DeviceProtection</th>\n",
       "      <th>TechSupport</th>\n",
       "      <th>StreamingTV</th>\n",
       "      <th>StreamingMovies</th>\n",
       "      <th>MultipleLines</th>\n",
       "      <th>Target</th>\n",
       "      <th>TotalDate</th>\n",
       "    </tr>\n",
       "  </thead>\n",
       "  <tbody>\n",
       "    <tr>\n",
       "      <th>0</th>\n",
       "      <td>Month-to-month</td>\n",
       "      <td>Yes</td>\n",
       "      <td>Electronic check</td>\n",
       "      <td>29.85</td>\n",
       "      <td>31.04</td>\n",
       "      <td>Female</td>\n",
       "      <td>0</td>\n",
       "      <td>Yes</td>\n",
       "      <td>No</td>\n",
       "      <td>DSL</td>\n",
       "      <td>No</td>\n",
       "      <td>Yes</td>\n",
       "      <td>No</td>\n",
       "      <td>No</td>\n",
       "      <td>No</td>\n",
       "      <td>No</td>\n",
       "      <td>No</td>\n",
       "      <td>0</td>\n",
       "      <td>31</td>\n",
       "    </tr>\n",
       "    <tr>\n",
       "      <th>1</th>\n",
       "      <td>One year</td>\n",
       "      <td>No</td>\n",
       "      <td>Mailed check</td>\n",
       "      <td>56.95</td>\n",
       "      <td>2071.84</td>\n",
       "      <td>Male</td>\n",
       "      <td>0</td>\n",
       "      <td>No</td>\n",
       "      <td>No</td>\n",
       "      <td>DSL</td>\n",
       "      <td>Yes</td>\n",
       "      <td>No</td>\n",
       "      <td>Yes</td>\n",
       "      <td>No</td>\n",
       "      <td>No</td>\n",
       "      <td>No</td>\n",
       "      <td>No</td>\n",
       "      <td>0</td>\n",
       "      <td>1036</td>\n",
       "    </tr>\n",
       "    <tr>\n",
       "      <th>2</th>\n",
       "      <td>Month-to-month</td>\n",
       "      <td>Yes</td>\n",
       "      <td>Mailed check</td>\n",
       "      <td>53.85</td>\n",
       "      <td>226.17</td>\n",
       "      <td>Male</td>\n",
       "      <td>0</td>\n",
       "      <td>No</td>\n",
       "      <td>No</td>\n",
       "      <td>DSL</td>\n",
       "      <td>Yes</td>\n",
       "      <td>Yes</td>\n",
       "      <td>No</td>\n",
       "      <td>No</td>\n",
       "      <td>No</td>\n",
       "      <td>No</td>\n",
       "      <td>No</td>\n",
       "      <td>0</td>\n",
       "      <td>123</td>\n",
       "    </tr>\n",
       "    <tr>\n",
       "      <th>3</th>\n",
       "      <td>One year</td>\n",
       "      <td>No</td>\n",
       "      <td>Bank transfer (automatic)</td>\n",
       "      <td>42.30</td>\n",
       "      <td>1960.60</td>\n",
       "      <td>Male</td>\n",
       "      <td>0</td>\n",
       "      <td>No</td>\n",
       "      <td>No</td>\n",
       "      <td>DSL</td>\n",
       "      <td>Yes</td>\n",
       "      <td>No</td>\n",
       "      <td>Yes</td>\n",
       "      <td>Yes</td>\n",
       "      <td>No</td>\n",
       "      <td>No</td>\n",
       "      <td>No</td>\n",
       "      <td>0</td>\n",
       "      <td>1371</td>\n",
       "    </tr>\n",
       "    <tr>\n",
       "      <th>4</th>\n",
       "      <td>Month-to-month</td>\n",
       "      <td>Yes</td>\n",
       "      <td>Electronic check</td>\n",
       "      <td>70.70</td>\n",
       "      <td>353.50</td>\n",
       "      <td>Female</td>\n",
       "      <td>0</td>\n",
       "      <td>No</td>\n",
       "      <td>No</td>\n",
       "      <td>Fiber optic</td>\n",
       "      <td>No</td>\n",
       "      <td>No</td>\n",
       "      <td>No</td>\n",
       "      <td>No</td>\n",
       "      <td>No</td>\n",
       "      <td>No</td>\n",
       "      <td>No</td>\n",
       "      <td>0</td>\n",
       "      <td>153</td>\n",
       "    </tr>\n",
       "  </tbody>\n",
       "</table>\n",
       "</div>"
      ],
      "text/plain": [
       "             Type PaperlessBilling              PaymentMethod  MonthlyCharges  \\\n",
       "0  Month-to-month              Yes           Electronic check           29.85   \n",
       "1        One year               No               Mailed check           56.95   \n",
       "2  Month-to-month              Yes               Mailed check           53.85   \n",
       "3        One year               No  Bank transfer (automatic)           42.30   \n",
       "4  Month-to-month              Yes           Electronic check           70.70   \n",
       "\n",
       "   TotalCharges  gender  SeniorCitizen Partner Dependents InternetService  \\\n",
       "0         31.04  Female              0     Yes         No             DSL   \n",
       "1       2071.84    Male              0      No         No             DSL   \n",
       "2        226.17    Male              0      No         No             DSL   \n",
       "3       1960.60    Male              0      No         No             DSL   \n",
       "4        353.50  Female              0      No         No     Fiber optic   \n",
       "\n",
       "  OnlineSecurity OnlineBackup DeviceProtection TechSupport StreamingTV  \\\n",
       "0             No          Yes               No          No          No   \n",
       "1            Yes           No              Yes          No          No   \n",
       "2            Yes          Yes               No          No          No   \n",
       "3            Yes           No              Yes         Yes          No   \n",
       "4             No           No               No          No          No   \n",
       "\n",
       "  StreamingMovies MultipleLines  Target  TotalDate  \n",
       "0              No            No       0         31  \n",
       "1              No            No       0       1036  \n",
       "2              No            No       0        123  \n",
       "3              No            No       0       1371  \n",
       "4              No            No       0        153  "
      ]
     },
     "execution_count": 54,
     "metadata": {},
     "output_type": "execute_result"
    }
   ],
   "source": [
    "data.head()"
   ]
  },
  {
   "cell_type": "markdown",
   "id": "0eb8d8ab-246a-470d-bb56-730947c4793a",
   "metadata": {},
   "source": [
    "Зафиксируем параметр RANDOM_STATE = 250923"
   ]
  },
  {
   "cell_type": "code",
   "execution_count": 55,
   "id": "3ed6e6fd-94f8-47b6-8c0c-cda0b45d05f0",
   "metadata": {},
   "outputs": [],
   "source": [
    "SEED = 250923"
   ]
  },
  {
   "cell_type": "markdown",
   "id": "e4f0f517-ea7c-45a0-bedd-34ab62b5ff49",
   "metadata": {},
   "source": [
    "Объявим две переменные"
   ]
  },
  {
   "cell_type": "code",
   "execution_count": 56,
   "id": "5a01d22f-cdc0-43ae-b18d-b3bc75981e6e",
   "metadata": {},
   "outputs": [],
   "source": [
    "features = data.drop(['Target'], axis=1)\n",
    "target = data['Target']"
   ]
  },
  {
   "cell_type": "markdown",
   "id": "e88a2781-17ba-4a0e-8010-a8b957013cdd",
   "metadata": {},
   "source": [
    "Разобъем на выборки для моделей бустинга"
   ]
  },
  {
   "cell_type": "code",
   "execution_count": 57,
   "id": "e72763b6-2b7d-4fef-8014-5f30a849c9fb",
   "metadata": {},
   "outputs": [],
   "source": [
    "features_train, features_test, target_train, target_test = train_test_split(features, target,\n",
    "                                                                           test_size=0.25, random_state=SEED, stratify=target)"
   ]
  },
  {
   "cell_type": "markdown",
   "id": "89b8d74c-2755-43c8-8142-a587b8fd7faa",
   "metadata": {},
   "source": [
    "Разобъем на выборки для модели случайного леса"
   ]
  },
  {
   "cell_type": "code",
   "execution_count": 58,
   "id": "9feed79a-0313-4b36-a26d-d1b2d2398504",
   "metadata": {},
   "outputs": [],
   "source": [
    "x_train_ohe, x_test_ohe, y_train_ohe, y_test_ohe = train_test_split(features, target, \n",
    "                                                                    test_size=0.25, random_state=SEED, stratify=target)"
   ]
  },
  {
   "cell_type": "markdown",
   "id": "bebda717-2629-4d3c-b867-69c6c09efd9f",
   "metadata": {},
   "source": [
    "Проверяем размер выборок"
   ]
  },
  {
   "cell_type": "code",
   "execution_count": 59,
   "id": "40567e9b-3ddf-4d34-9481-7db6880dd556",
   "metadata": {},
   "outputs": [
    {
     "name": "stdout",
     "output_type": "stream",
     "text": [
      "Размер обучающей выборки:\n",
      "(5282, 18)\n",
      "(5282,)\n",
      "Размер тестовой выборки:\n",
      "(1761, 18)\n",
      "(1761,)\n"
     ]
    }
   ],
   "source": [
    "print('Размер обучающей выборки:')\n",
    "print(features_train.shape)\n",
    "print(target_train.shape)\n",
    "\n",
    "print('Размер тестовой выборки:')\n",
    "print(features_test.shape)\n",
    "print(target_test.shape)"
   ]
  },
  {
   "cell_type": "code",
   "execution_count": 60,
   "id": "d1db5d79-ad0e-4a40-9d4b-f3b78b60d336",
   "metadata": {},
   "outputs": [
    {
     "name": "stdout",
     "output_type": "stream",
     "text": [
      "Размер обучающей выборки:\n",
      "(5282, 18)\n",
      "(5282,)\n",
      "Размер тестовой выборки:\n",
      "(1761, 18)\n",
      "(1761,)\n"
     ]
    }
   ],
   "source": [
    "print('Размер обучающей выборки:')\n",
    "print(x_train_ohe.shape)\n",
    "print(y_train_ohe.shape)\n",
    "\n",
    "print('Размер тестовой выборки:')\n",
    "print(x_test_ohe.shape)\n",
    "print(y_test_ohe.shape)"
   ]
  },
  {
   "cell_type": "code",
   "execution_count": 61,
   "id": "ca677442-899f-4765-bcaf-224d62c83d72",
   "metadata": {},
   "outputs": [
    {
     "data": {
      "text/html": [
       "<div>\n",
       "<style scoped>\n",
       "    .dataframe tbody tr th:only-of-type {\n",
       "        vertical-align: middle;\n",
       "    }\n",
       "\n",
       "    .dataframe tbody tr th {\n",
       "        vertical-align: top;\n",
       "    }\n",
       "\n",
       "    .dataframe thead th {\n",
       "        text-align: right;\n",
       "    }\n",
       "</style>\n",
       "<table border=\"1\" class=\"dataframe\">\n",
       "  <thead>\n",
       "    <tr style=\"text-align: right;\">\n",
       "      <th></th>\n",
       "      <th>Type</th>\n",
       "      <th>PaperlessBilling</th>\n",
       "      <th>PaymentMethod</th>\n",
       "      <th>MonthlyCharges</th>\n",
       "      <th>TotalCharges</th>\n",
       "      <th>gender</th>\n",
       "      <th>SeniorCitizen</th>\n",
       "      <th>Partner</th>\n",
       "      <th>Dependents</th>\n",
       "      <th>InternetService</th>\n",
       "      <th>OnlineSecurity</th>\n",
       "      <th>OnlineBackup</th>\n",
       "      <th>DeviceProtection</th>\n",
       "      <th>TechSupport</th>\n",
       "      <th>StreamingTV</th>\n",
       "      <th>StreamingMovies</th>\n",
       "      <th>MultipleLines</th>\n",
       "      <th>Target</th>\n",
       "      <th>TotalDate</th>\n",
       "    </tr>\n",
       "  </thead>\n",
       "  <tbody>\n",
       "    <tr>\n",
       "      <th>0</th>\n",
       "      <td>Month-to-month</td>\n",
       "      <td>Yes</td>\n",
       "      <td>Electronic check</td>\n",
       "      <td>29.85</td>\n",
       "      <td>31.04</td>\n",
       "      <td>Female</td>\n",
       "      <td>0</td>\n",
       "      <td>Yes</td>\n",
       "      <td>No</td>\n",
       "      <td>DSL</td>\n",
       "      <td>No</td>\n",
       "      <td>Yes</td>\n",
       "      <td>No</td>\n",
       "      <td>No</td>\n",
       "      <td>No</td>\n",
       "      <td>No</td>\n",
       "      <td>No</td>\n",
       "      <td>0</td>\n",
       "      <td>31</td>\n",
       "    </tr>\n",
       "    <tr>\n",
       "      <th>1</th>\n",
       "      <td>One year</td>\n",
       "      <td>No</td>\n",
       "      <td>Mailed check</td>\n",
       "      <td>56.95</td>\n",
       "      <td>2071.84</td>\n",
       "      <td>Male</td>\n",
       "      <td>0</td>\n",
       "      <td>No</td>\n",
       "      <td>No</td>\n",
       "      <td>DSL</td>\n",
       "      <td>Yes</td>\n",
       "      <td>No</td>\n",
       "      <td>Yes</td>\n",
       "      <td>No</td>\n",
       "      <td>No</td>\n",
       "      <td>No</td>\n",
       "      <td>No</td>\n",
       "      <td>0</td>\n",
       "      <td>1036</td>\n",
       "    </tr>\n",
       "    <tr>\n",
       "      <th>2</th>\n",
       "      <td>Month-to-month</td>\n",
       "      <td>Yes</td>\n",
       "      <td>Mailed check</td>\n",
       "      <td>53.85</td>\n",
       "      <td>226.17</td>\n",
       "      <td>Male</td>\n",
       "      <td>0</td>\n",
       "      <td>No</td>\n",
       "      <td>No</td>\n",
       "      <td>DSL</td>\n",
       "      <td>Yes</td>\n",
       "      <td>Yes</td>\n",
       "      <td>No</td>\n",
       "      <td>No</td>\n",
       "      <td>No</td>\n",
       "      <td>No</td>\n",
       "      <td>No</td>\n",
       "      <td>0</td>\n",
       "      <td>123</td>\n",
       "    </tr>\n",
       "    <tr>\n",
       "      <th>3</th>\n",
       "      <td>One year</td>\n",
       "      <td>No</td>\n",
       "      <td>Bank transfer (automatic)</td>\n",
       "      <td>42.30</td>\n",
       "      <td>1960.60</td>\n",
       "      <td>Male</td>\n",
       "      <td>0</td>\n",
       "      <td>No</td>\n",
       "      <td>No</td>\n",
       "      <td>DSL</td>\n",
       "      <td>Yes</td>\n",
       "      <td>No</td>\n",
       "      <td>Yes</td>\n",
       "      <td>Yes</td>\n",
       "      <td>No</td>\n",
       "      <td>No</td>\n",
       "      <td>No</td>\n",
       "      <td>0</td>\n",
       "      <td>1371</td>\n",
       "    </tr>\n",
       "    <tr>\n",
       "      <th>4</th>\n",
       "      <td>Month-to-month</td>\n",
       "      <td>Yes</td>\n",
       "      <td>Electronic check</td>\n",
       "      <td>70.70</td>\n",
       "      <td>353.50</td>\n",
       "      <td>Female</td>\n",
       "      <td>0</td>\n",
       "      <td>No</td>\n",
       "      <td>No</td>\n",
       "      <td>Fiber optic</td>\n",
       "      <td>No</td>\n",
       "      <td>No</td>\n",
       "      <td>No</td>\n",
       "      <td>No</td>\n",
       "      <td>No</td>\n",
       "      <td>No</td>\n",
       "      <td>No</td>\n",
       "      <td>0</td>\n",
       "      <td>153</td>\n",
       "    </tr>\n",
       "  </tbody>\n",
       "</table>\n",
       "</div>"
      ],
      "text/plain": [
       "             Type PaperlessBilling              PaymentMethod  MonthlyCharges  \\\n",
       "0  Month-to-month              Yes           Electronic check           29.85   \n",
       "1        One year               No               Mailed check           56.95   \n",
       "2  Month-to-month              Yes               Mailed check           53.85   \n",
       "3        One year               No  Bank transfer (automatic)           42.30   \n",
       "4  Month-to-month              Yes           Electronic check           70.70   \n",
       "\n",
       "   TotalCharges  gender  SeniorCitizen Partner Dependents InternetService  \\\n",
       "0         31.04  Female              0     Yes         No             DSL   \n",
       "1       2071.84    Male              0      No         No             DSL   \n",
       "2        226.17    Male              0      No         No             DSL   \n",
       "3       1960.60    Male              0      No         No             DSL   \n",
       "4        353.50  Female              0      No         No     Fiber optic   \n",
       "\n",
       "  OnlineSecurity OnlineBackup DeviceProtection TechSupport StreamingTV  \\\n",
       "0             No          Yes               No          No          No   \n",
       "1            Yes           No              Yes          No          No   \n",
       "2            Yes          Yes               No          No          No   \n",
       "3            Yes           No              Yes         Yes          No   \n",
       "4             No           No               No          No          No   \n",
       "\n",
       "  StreamingMovies MultipleLines  Target  TotalDate  \n",
       "0              No            No       0         31  \n",
       "1              No            No       0       1036  \n",
       "2              No            No       0        123  \n",
       "3              No            No       0       1371  \n",
       "4              No            No       0        153  "
      ]
     },
     "execution_count": 61,
     "metadata": {},
     "output_type": "execute_result"
    }
   ],
   "source": [
    "data.head()"
   ]
  },
  {
   "cell_type": "code",
   "execution_count": 62,
   "id": "f1ac9c59-ebb9-4c97-b72b-67cf44d9ad6f",
   "metadata": {},
   "outputs": [
    {
     "name": "stdout",
     "output_type": "stream",
     "text": [
      "<class 'pandas.core.frame.DataFrame'>\n",
      "Int64Index: 7043 entries, 0 to 7042\n",
      "Data columns (total 19 columns):\n",
      " #   Column            Non-Null Count  Dtype  \n",
      "---  ------            --------------  -----  \n",
      " 0   Type              7043 non-null   object \n",
      " 1   PaperlessBilling  7043 non-null   object \n",
      " 2   PaymentMethod     7043 non-null   object \n",
      " 3   MonthlyCharges    7043 non-null   float64\n",
      " 4   TotalCharges      7043 non-null   float64\n",
      " 5   gender            7043 non-null   object \n",
      " 6   SeniorCitizen     7043 non-null   int64  \n",
      " 7   Partner           7043 non-null   object \n",
      " 8   Dependents        7043 non-null   object \n",
      " 9   InternetService   7043 non-null   object \n",
      " 10  OnlineSecurity    7043 non-null   object \n",
      " 11  OnlineBackup      7043 non-null   object \n",
      " 12  DeviceProtection  7043 non-null   object \n",
      " 13  TechSupport       7043 non-null   object \n",
      " 14  StreamingTV       7043 non-null   object \n",
      " 15  StreamingMovies   7043 non-null   object \n",
      " 16  MultipleLines     7043 non-null   object \n",
      " 17  Target            7043 non-null   int64  \n",
      " 18  TotalDate         7043 non-null   int64  \n",
      "dtypes: float64(2), int64(3), object(14)\n",
      "memory usage: 1.1+ MB\n"
     ]
    }
   ],
   "source": [
    "data.info()"
   ]
  },
  {
   "cell_type": "code",
   "execution_count": 63,
   "id": "55da6b70-2c29-4060-8ca1-197e9cde8539",
   "metadata": {},
   "outputs": [],
   "source": [
    "numeric = ['MonthlyCharges', 'TotalCharges', 'TotalDate', 'SeniorCitizen', 'Target']"
   ]
  },
  {
   "cell_type": "code",
   "execution_count": 91,
   "id": "eba2c2d2",
   "metadata": {},
   "outputs": [],
   "source": [
    "numeric = ['MonthlyCharges', 'TotalCharges', 'TotalDate']\n",
    "cat_columns = data.drop(['MonthlyCharges', 'TotalCharges', 'TotalDate', 'Target'], axis = 1).columns\n",
    "\n",
    "ohe = OneHotEncoder(drop='first')\n",
    "ohe.fit(x_train_ohe[cat_columns])\n",
    "\n",
    "new_columns = ohe.get_feature_names(cat_columns)\n",
    "\n",
    "features_train_ohe = pd.DataFrame(\n",
    "    ohe.transform(x_train_ohe[cat_columns]).toarray(), columns = new_columns, index = x_train_ohe.index\n",
    ")\n",
    "\n",
    "features_train_ohe = features_train_ohe.join(x_train_ohe[numeric])"
   ]
  },
  {
   "cell_type": "code",
   "execution_count": 77,
   "id": "b6ed91ed-54e3-46ca-9431-b07f7a3e0946",
   "metadata": {},
   "outputs": [
    {
     "data": {
      "text/plain": [
       "Month-to-month    3875\n",
       "Two year          1695\n",
       "One year          1473\n",
       "Name: Type, dtype: int64"
      ]
     },
     "execution_count": 77,
     "metadata": {},
     "output_type": "execute_result"
    }
   ],
   "source": [
    "data['Type'].value_counts()"
   ]
  },
  {
   "cell_type": "code",
   "execution_count": 78,
   "id": "a376d909-c489-4df4-a388-719d5920b6cc",
   "metadata": {},
   "outputs": [
    {
     "data": {
      "text/plain": [
       "Electronic check             2365\n",
       "Mailed check                 1612\n",
       "Bank transfer (automatic)    1544\n",
       "Credit card (automatic)      1522\n",
       "Name: PaymentMethod, dtype: int64"
      ]
     },
     "execution_count": 78,
     "metadata": {},
     "output_type": "execute_result"
    }
   ],
   "source": [
    "data['PaymentMethod'].value_counts()"
   ]
  },
  {
   "cell_type": "code",
   "execution_count": 79,
   "id": "0d1698c2-e631-43b8-bd35-f6ee930a6129",
   "metadata": {},
   "outputs": [
    {
     "data": {
      "text/plain": [
       "Fiber optic    3096\n",
       "DSL            2421\n",
       "No             1526\n",
       "Name: InternetService, dtype: int64"
      ]
     },
     "execution_count": 79,
     "metadata": {},
     "output_type": "execute_result"
    }
   ],
   "source": [
    "data['InternetService'].value_counts()"
   ]
  },
  {
   "cell_type": "markdown",
   "id": "38003395-aa9f-4295-aac5-cb45ab90dc95",
   "metadata": {},
   "source": [
    "Используем OneHotEncoder для кодирования категориальных признаков"
   ]
  },
  {
   "cell_type": "code",
   "execution_count": 80,
   "id": "7696ac68-3214-4f0c-8cd9-17b077ed0e76",
   "metadata": {},
   "outputs": [
    {
     "name": "stdout",
     "output_type": "stream",
     "text": [
      "<class 'pandas.core.frame.DataFrame'>\n",
      "Int64Index: 7043 entries, 0 to 7042\n",
      "Data columns (total 19 columns):\n",
      " #   Column            Non-Null Count  Dtype  \n",
      "---  ------            --------------  -----  \n",
      " 0   Type              7043 non-null   object \n",
      " 1   PaperlessBilling  7043 non-null   object \n",
      " 2   PaymentMethod     7043 non-null   object \n",
      " 3   MonthlyCharges    7043 non-null   float64\n",
      " 4   TotalCharges      7043 non-null   float64\n",
      " 5   gender            7043 non-null   object \n",
      " 6   SeniorCitizen     7043 non-null   int64  \n",
      " 7   Partner           7043 non-null   object \n",
      " 8   Dependents        7043 non-null   object \n",
      " 9   InternetService   7043 non-null   object \n",
      " 10  OnlineSecurity    7043 non-null   object \n",
      " 11  OnlineBackup      7043 non-null   object \n",
      " 12  DeviceProtection  7043 non-null   object \n",
      " 13  TechSupport       7043 non-null   object \n",
      " 14  StreamingTV       7043 non-null   object \n",
      " 15  StreamingMovies   7043 non-null   object \n",
      " 16  MultipleLines     7043 non-null   object \n",
      " 17  Target            7043 non-null   int64  \n",
      " 18  TotalDate         7043 non-null   int64  \n",
      "dtypes: float64(2), int64(3), object(14)\n",
      "memory usage: 1.3+ MB\n"
     ]
    }
   ],
   "source": [
    "data.info()"
   ]
  },
  {
   "cell_type": "markdown",
   "id": "b9b14a85-1b86-408c-8143-21a460542f30",
   "metadata": {},
   "source": [
    "Убираем \"проклятье размерности\""
   ]
  },
  {
   "cell_type": "code",
   "execution_count": 81,
   "id": "23c44a95-9e8a-4199-934e-03afa259740d",
   "metadata": {},
   "outputs": [
    {
     "name": "stdout",
     "output_type": "stream",
     "text": [
      "Collecting category_encoders\n",
      "  Downloading category_encoders-2.6.2-py2.py3-none-any.whl (81 kB)\n",
      "\u001b[K     |████████████████████████████████| 81 kB 791 kB/s eta 0:00:011\n",
      "\u001b[?25hRequirement already satisfied: scikit-learn>=0.20.0 in /opt/conda/lib/python3.9/site-packages (from category_encoders) (1.3.1)\n",
      "Requirement already satisfied: statsmodels>=0.9.0 in /opt/conda/lib/python3.9/site-packages (from category_encoders) (0.13.2)\n",
      "Requirement already satisfied: pandas>=1.0.5 in /opt/conda/lib/python3.9/site-packages (from category_encoders) (1.2.4)\n",
      "Requirement already satisfied: numpy>=1.14.0 in /opt/conda/lib/python3.9/site-packages (from category_encoders) (1.21.1)\n",
      "Requirement already satisfied: patsy>=0.5.1 in /opt/conda/lib/python3.9/site-packages (from category_encoders) (0.5.2)\n",
      "Requirement already satisfied: scipy>=1.0.0 in /opt/conda/lib/python3.9/site-packages (from category_encoders) (1.9.1)\n",
      "Requirement already satisfied: python-dateutil>=2.7.3 in /opt/conda/lib/python3.9/site-packages (from pandas>=1.0.5->category_encoders) (2.8.1)\n",
      "Requirement already satisfied: pytz>=2017.3 in /opt/conda/lib/python3.9/site-packages (from pandas>=1.0.5->category_encoders) (2021.1)\n",
      "Requirement already satisfied: six in /opt/conda/lib/python3.9/site-packages (from patsy>=0.5.1->category_encoders) (1.16.0)\n",
      "Requirement already satisfied: joblib>=1.1.1 in /opt/conda/lib/python3.9/site-packages (from scikit-learn>=0.20.0->category_encoders) (1.3.2)\n",
      "Requirement already satisfied: threadpoolctl>=2.0.0 in /opt/conda/lib/python3.9/site-packages (from scikit-learn>=0.20.0->category_encoders) (3.1.0)\n",
      "Requirement already satisfied: packaging>=21.3 in /opt/conda/lib/python3.9/site-packages (from statsmodels>=0.9.0->category_encoders) (21.3)\n",
      "Requirement already satisfied: pyparsing!=3.0.5,>=2.0.2 in /opt/conda/lib/python3.9/site-packages (from packaging>=21.3->statsmodels>=0.9.0->category_encoders) (2.4.7)\n",
      "Installing collected packages: category-encoders\n",
      "Successfully installed category-encoders-2.6.2\n"
     ]
    }
   ],
   "source": [
    "!pip install category_encoders\n",
    "from category_encoders.m_estimate import MEstimateEncoder\n",
    "\n",
    "mee_encoder = MEstimateEncoder(cols=['Type'], \n",
    "                               handle_unknown='value', \n",
    "                               handle_missing = 'value').fit(x_train_ohe, y_train_ohe) \n",
    "\n",
    "mee_enc_ohe_x_train = mee_encoder.transform(x_train_ohe)\n",
    "mee_enc_ohe_x_test = mee_encoder.transform(x_test_ohe)\n",
    "\n",
    "ohe = OneHotEncoder(drop='first', sparse=False)    \n",
    "\n",
    "X_train_encoded_ohe = ohe.fit_transform(mee_enc_ohe_x_train.select_dtypes(include='object'))\n",
    "X_test_encoded_ohe = ohe.transform(mee_enc_ohe_x_test.select_dtypes(include='object'))\n",
    "\n",
    "#Для каждой из выборок объединяем закодированные данные\n",
    "x_train_final_ohe = np.concatenate([X_train_encoded_ohe, \n",
    "                                    x_train_ohe.select_dtypes(include='int64')], axis=1)\n",
    "\n",
    "x_test_final_ohe = np.concatenate([X_test_encoded_ohe, \n",
    "                                    x_test_ohe.select_dtypes(include='int64')], axis=1)"
   ]
  },
  {
   "cell_type": "code",
   "execution_count": 82,
   "id": "563ae82e-0690-43ce-b8de-9aad10842ee5",
   "metadata": {},
   "outputs": [
    {
     "name": "stdout",
     "output_type": "stream",
     "text": [
      "Размер обучающей выборки:\n",
      "(5282, 18)\n",
      "(5282,)\n",
      "Размер тестовой выборки:\n",
      "(1761, 18)\n",
      "(1761,)\n"
     ]
    }
   ],
   "source": [
    "print('Размер обучающей выборки:')\n",
    "print(x_train_final_ohe.shape)\n",
    "print(y_train_ohe.shape)\n",
    "\n",
    "print('Размер тестовой выборки:')\n",
    "print(x_test_final_ohe.shape)\n",
    "print(y_test_ohe.shape)"
   ]
  },
  {
   "cell_type": "markdown",
   "id": "2e1ec54d-4d30-4a78-a562-aae6898426bf",
   "metadata": {},
   "source": [
    "### Вывод:\n",
    "Мы произвели подготовку данных:\n",
    "* Выполнили деление данных на выборки\n",
    "* Выполнили кодировку данных, где это необходимо"
   ]
  },
  {
   "cell_type": "markdown",
   "id": "f184f6c8-9323-4432-8649-e119665f7b99",
   "metadata": {},
   "source": [
    "## 5. Обучение моделей   "
   ]
  },
  {
   "cell_type": "markdown",
   "id": "05fdb8a4-7840-4afa-9e60-bec748bfb49d",
   "metadata": {},
   "source": [
    "Проверяем датасет на сбалансированность классов"
   ]
  },
  {
   "cell_type": "code",
   "execution_count": 62,
   "id": "d8524dde-c464-4000-9a78-441f36380c5b",
   "metadata": {},
   "outputs": [
    {
     "name": "stdout",
     "output_type": "stream",
     "text": [
      "0    0.843675\n",
      "1    0.156325\n",
      "Name: Target, dtype: float64\n"
     ]
    },
    {
     "data": {
      "image/png": "[encoded data removed]",
      "text/plain": [
       "<Figure size 432x288 with 1 Axes>"
      ]
     },
     "metadata": {
      "needs_background": "light"
     },
     "output_type": "display_data"
    }
   ],
   "source": [
    "class_frequency = data['Target'].value_counts(normalize=True)\n",
    "print(class_frequency)\n",
    "class_frequency.plot(kind='bar').set_title('Сбалансированность классов');"
   ]
  },
  {
   "cell_type": "markdown",
   "id": "b1db9513-9020-4dbc-b7ed-fd4535184e13",
   "metadata": {},
   "source": [
    "Модель случайного леса"
   ]
  },
  {
   "cell_type": "code",
   "execution_count": 88,
   "id": "f95be023-786f-4fab-88a4-30ad1ffcceb9",
   "metadata": {},
   "outputs": [
    {
     "name": "stdout",
     "output_type": "stream",
     "text": [
      "Лучшие параметры: {'max_depth': 11, 'min_samples_leaf': 20, 'min_samples_split': 2, 'n_estimators': 30}\n",
      "Лучшее значение AUC-ROC на тренировочной выборке: 0.8\n",
      "CPU times: user 9.21 s, sys: 47.2 ms, total: 9.26 s\n",
      "Wall time: 9.27 s\n"
     ]
    }
   ],
   "source": [
    "%%time\n",
    "model_rfc = RandomForestClassifier(random_state=SEED, class_weight='balanced')\n",
    "parametrs_1 = {\n",
    "    'n_estimators': [1, 30, 5],\n",
    "    'max_depth': [1, 11],\n",
    "    'min_samples_split': [2, 20, 2],\n",
    "    'min_samples_leaf': [1, 20, 2]\n",
    "}\n",
    "scores_rfc = GridSearchCV(model_rfc,\n",
    "                          parametrs_1,\n",
    "                          scoring='roc_auc',\n",
    "                          cv=5)\n",
    "\n",
    "scores_rfc.fit(x_train_final_ohe, y_train_ohe)\n",
    "best_score_rfc = round(scores_rfc.best_score_, 2)\n",
    "\n",
    "print('Лучшие параметры:', scores_rfc.best_params_)\n",
    "print('Лучшее значение AUC-ROC на тренировочной выборке:', best_score_rfc)"
   ]
  },
  {
   "cell_type": "markdown",
   "id": "4cf69f5d-74a7-4bf8-8d05-66f55bad0081",
   "metadata": {},
   "source": [
    "Лучшее значение AUC-ROC на тренировочной выборке модели случайного леса составляет 0.80 при гиперпараметрах max_depth: 11, min_samples_leaf: 20, min_samples_split: 2, n_estimators: 30"
   ]
  },
  {
   "cell_type": "markdown",
   "id": "8af5d05a-7bbe-4657-891b-9ff7d8926692",
   "metadata": {},
   "source": [
    "Модель градиентного бустинга: CatBoost"
   ]
  },
  {
   "cell_type": "code",
   "execution_count": 89,
   "id": "f7952dcd-d429-4d39-8988-2ec246e9f037",
   "metadata": {},
   "outputs": [
    {
     "name": "stdout",
     "output_type": "stream",
     "text": [
      "Лучшие параметры: {'iterations': 200, 'learning_rate': 0.3}\n",
      "Лучшее значение AUC-ROC на тренировочной выборке: 0.9\n",
      "CPU times: user 17.4 s, sys: 644 ms, total: 18.1 s\n",
      "Wall time: 55.8 s\n"
     ]
    }
   ],
   "source": [
    "%%time\n",
    "cat_features = ['Type', 'PaperlessBilling', 'PaymentMethod', 'gender', 'Partner', 'Dependents', 'InternetService', 'OnlineSecurity', \n",
    "                'OnlineBackup', 'DeviceProtection', 'TechSupport', 'StreamingTV', 'StreamingMovies', 'MultipleLines']\n",
    "\n",
    "model_cat = CatBoostClassifier(random_state=SEED, verbose=0, auto_class_weights='Balanced')\n",
    "\n",
    "parametrs_2 = {\n",
    "    'learning_rate': [0.1, 0.3],\n",
    "    'iterations': [50, 200, 10]\n",
    "}\n",
    "\n",
    "scores_cat = GridSearchCV(model_cat,\n",
    "                          parametrs_2,\n",
    "                          scoring='roc_auc',\n",
    "                          cv=5)\n",
    "\n",
    "scores_cat.fit(features_train, target_train, cat_features=cat_features)\n",
    "best_score_cat= round(scores_cat.best_score_, 2)\n",
    "\n",
    "print('Лучшие параметры:', scores_cat.best_params_)\n",
    "print('Лучшее значение AUC-ROC на тренировочной выборке:', best_score_cat)"
   ]
  },
  {
   "cell_type": "markdown",
   "id": "3db6aa2c-877f-457a-a59f-1058e4372594",
   "metadata": {},
   "source": [
    "Лучшее значение AUC-ROC на тренировочной выборке модели градиентного бустинга CatBoost составляет 0.90 при гиперпараметрах iterations: 200, learning_rate: 0.3"
   ]
  },
  {
   "cell_type": "markdown",
   "id": "890035ec-a01d-4385-96ff-a5e5812a8aed",
   "metadata": {},
   "source": [
    "Модель градиентного бустинга: LightGBM"
   ]
  },
  {
   "cell_type": "code",
   "execution_count": null,
   "id": "d2959694",
   "metadata": {},
   "outputs": [],
   "source": [
    "%%time\n",
    "model_lgbmr = LGBMClassifier(class_weight='balanced') \n",
    "parametrs_3 = {'num_leaves':[25, 50, 5], \n",
    "              'max_depth':[1, 10, 2], \n",
    "              'random_state':[250923]\n",
    "             }\n",
    "\n",
    "scores_lgbmr = GridSearchCV(model_lgbmr,\n",
    "                          parametrs_3,\n",
    "                          scoring='roc_auc',\n",
    "                          cv=5)\n",
    "\n",
    "scores_lgbmr.fit(x_train_final_ohe, y_train_ohe)\n",
    "best_score_lgbmr = round(scores_lgbmr.best_score_, 2)\n",
    "\n",
    "print('Лучшие параметры:', scores_lgbmr.best_params_)\n",
    "print('Лучшее значение AUC-ROC на тренировочной выборке:', best_score_lgbmr)"
   ]
  },
  {
   "cell_type": "markdown",
   "id": "99787bd0-bb5b-44e9-ab65-dfd86b8a9117",
   "metadata": {},
   "source": [
    "Лучшее значение AUC-ROC на тренировочной выборке модели градиентного бустинга LightGBM составляет 0.88 при гиперпараметрах max_depth: 10, num_leaves: 25"
   ]
  },
  {
   "cell_type": "markdown",
   "id": "388f14b4-9eb5-4518-a531-77bb4b68698a",
   "metadata": {},
   "source": [
    "Наилучшей моделью оказалась модель градиентного бустинга: CatBoost с показателем 0.91 метрики AUC-ROC."
   ]
  },
  {
   "cell_type": "markdown",
   "id": "993f76ff-99b9-454e-8f5c-642bae267cbc",
   "metadata": {},
   "source": [
    "### Вывод:\n",
    "Мы обучили различные модели машинного обучения:\n",
    "* Провели настройки моделей, учитывая дисбаланс классов:\n",
    "    * Лучшее значение AUC-ROC на тренировочной выборке модели случайного леса составляет 0.80 \n",
    "    * Значение AUC-ROC на тренировочной выборке модели градиентного бустинга CatBoost составляет 0.90 \n",
    "    * Значение AUC-ROC на тренировочной выборке модели градиентного бустинга LightGBM составляет 0.88\n",
    "* Выбрали наилучшую модель:\n",
    "    * Наилучшей моделью оказалась модель градиентного бустинга: CatBoost с показателем 0.90 метрики AUC-ROC"
   ]
  },
  {
   "cell_type": "markdown",
   "id": "1de917ec-84bd-45da-9b50-383c76e7c156",
   "metadata": {},
   "source": [
    "## 6. Тестирование наилучшей модели"
   ]
  },
  {
   "cell_type": "markdown",
   "id": "4793cbad-7ff2-4a01-912a-40b922636fa5",
   "metadata": {},
   "source": [
    "Проверяем наилучшую модель градиентного бустинга CatBoost на тестовой выборке"
   ]
  },
  {
   "cell_type": "code",
   "execution_count": 90,
   "id": "9f0f4490-59b6-40c5-9794-593871c60420",
   "metadata": {},
   "outputs": [
    {
     "name": "stdout",
     "output_type": "stream",
     "text": [
      "0:\tlearn: 0.6084010\ttotal: 8.38ms\tremaining: 1.67s\n",
      "10:\tlearn: 0.4780297\ttotal: 73.4ms\tremaining: 1.26s\n",
      "20:\tlearn: 0.4485263\ttotal: 136ms\tremaining: 1.16s\n",
      "30:\tlearn: 0.4250957\ttotal: 201ms\tremaining: 1.09s\n",
      "40:\tlearn: 0.3863257\ttotal: 274ms\tremaining: 1.06s\n",
      "50:\tlearn: 0.3426813\ttotal: 353ms\tremaining: 1.03s\n",
      "60:\tlearn: 0.3175300\ttotal: 425ms\tremaining: 969ms\n",
      "70:\tlearn: 0.2796565\ttotal: 504ms\tremaining: 916ms\n",
      "80:\tlearn: 0.2511768\ttotal: 598ms\tremaining: 879ms\n",
      "90:\tlearn: 0.2349261\ttotal: 679ms\tremaining: 813ms\n",
      "100:\tlearn: 0.2158388\ttotal: 757ms\tremaining: 742ms\n",
      "110:\tlearn: 0.1999100\ttotal: 839ms\tremaining: 673ms\n",
      "120:\tlearn: 0.1842725\ttotal: 916ms\tremaining: 598ms\n",
      "130:\tlearn: 0.1706230\ttotal: 994ms\tremaining: 523ms\n",
      "140:\tlearn: 0.1604167\ttotal: 1.07s\tremaining: 448ms\n",
      "150:\tlearn: 0.1482040\ttotal: 1.16s\tremaining: 376ms\n",
      "160:\tlearn: 0.1394579\ttotal: 1.24s\tremaining: 301ms\n",
      "170:\tlearn: 0.1294656\ttotal: 1.33s\tremaining: 225ms\n",
      "180:\tlearn: 0.1225503\ttotal: 1.4s\tremaining: 147ms\n",
      "190:\tlearn: 0.1152036\ttotal: 1.48s\tremaining: 69.7ms\n",
      "199:\tlearn: 0.1097440\ttotal: 1.55s\tremaining: 0us\n",
      "Лучшее значение AUC-ROC на тестовой выборке: 0.8919270769607243\n",
      "CPU times: user 1.59 s, sys: 44.4 ms, total: 1.64 s\n",
      "Wall time: 2.31 s\n"
     ]
    }
   ],
   "source": [
    "%%time\n",
    "cat_features = ['Type', 'PaperlessBilling', 'PaymentMethod', 'gender', 'Partner', 'Dependents', 'InternetService', 'OnlineSecurity', \n",
    "                'OnlineBackup', 'DeviceProtection', 'TechSupport', 'StreamingTV', 'StreamingMovies', 'MultipleLines']\n",
    "\n",
    "model = CatBoostClassifier(random_state=SEED, verbose=0, learning_rate=0.3, iterations=200, auto_class_weights='Balanced')\n",
    "\n",
    "model.fit(features_train, target_train, cat_features=cat_features, verbose=10)\n",
    "\n",
    "probabilities_test = model.predict_proba(features_test)\n",
    "probabilities_one_test = probabilities_test[:, 1]\n",
    "print('Лучшее значение AUC-ROC на тестовой выборке:', roc_auc_score(target_test, probabilities_one_test))"
   ]
  },
  {
   "cell_type": "markdown",
   "id": "3a22f7c6-1ecf-4958-8d3a-32fd33c27c48",
   "metadata": {},
   "source": [
    "Построим график ROC-кривой на тестовой выборке"
   ]
  },
  {
   "cell_type": "code",
   "execution_count": 91,
   "id": "b3293fd7-700d-4f17-bab0-a348996a0e8b",
   "metadata": {},
   "outputs": [
    {
     "data": {
      "image/png": "[encoded data removed]",
      "text/plain": [
       "<Figure size 432x288 with 1 Axes>"
      ]
     },
     "metadata": {
      "needs_background": "light"
     },
     "output_type": "display_data"
    }
   ],
   "source": [
    "fpr, tpr, thresholds = roc_curve(target_test, probabilities_one_test)\n",
    "\n",
    "plt.figure()\n",
    "\n",
    "plt.plot(fpr, tpr, linestyle='--')\n",
    "plt.xlim([0.0, 1.0])\n",
    "plt.ylim([0.0, 1.0])\n",
    "\n",
    "plt.xlabel(\"False Positive Rate\") \n",
    "plt.ylabel(\"True Positive Rate\")\n",
    "\n",
    "plt.title(\"ROC-кривая\")\n",
    "plt.show()"
   ]
  },
  {
   "cell_type": "markdown",
   "id": "eca96e44-e983-4cd2-8f13-2cd5c297de55",
   "metadata": {},
   "source": [
    "Наилучшая модель градиентного бустинга CatBoost показала значение метрики AUC-ROC на тестовой выборке 0.89"
   ]
  },
  {
   "cell_type": "markdown",
   "id": "000d3f04-6b3a-4eb5-b356-919ccf54f5a4",
   "metadata": {},
   "source": [
    "### Вывод:\n",
    "* Мы провели тестирование наилучшей моедли - модели градиентного бустинга CatBoost:\n",
    "     * Наилучшая модель градиентного бустинга CatBoost показала значение метрики AUC-ROC на тестовой выборке 0.89\n",
    "     * Мы добились, чтобы качество финальной модели превышало значение основной метрики: AUC-ROC >= 0.85"
   ]
  },
  {
   "cell_type": "markdown",
   "id": "0fceac7f-eb9c-4d5e-bc9c-a09a323b414e",
   "metadata": {},
   "source": [
    "## 7. Общий вывод"
   ]
  },
  {
   "cell_type": "markdown",
   "id": "59fbf795-8993-4c7d-bf61-089f816f36f3",
   "metadata": {},
   "source": [
    "1. Мы познакомились с первоначальными данными\n",
    "2. Данные разделены на четыре датасета:\n",
    "    * Информация о договоре - 7043 записи и 8 столбцов, ежемесячные траты на услуги в среднем составляют 70.3 \n",
    "    * Персональные данные клиента - 7043 записи и 5 столбцов\n",
    "    * Информация об интернет-услугах - 5517 записи и 8 столбцов\n",
    "    * Информация об услугах телефонии - 6361 записи и 2 столбца\n",
    "3. Целевым признаком является:\n",
    "    * EndDate — дата окончания пользования услугами   \n",
    "4. Мы провели полноценную предобработку данных:\n",
    "    * Объединили данные в единый датафрейм\n",
    "    * Проверили датафрейм на пропуски и обработали их\n",
    "    * Привели столбцы к корректному типу данных\n",
    "    * Выделили целевую переменную - столбец Target\n",
    "    * Сгенерировали допольнитейльный признак - столбец TotalDate\n",
    "    * Проверили датасет на аномалии и дублкаты  \n",
    "5. Мы провели исследовательский анализ данных\n",
    "6. Рассмотрели и проанализировали признаки:\n",
    "    * Большое количество клиентов пользовались услугами компании менее 200 дней. Примерно одинаковое количество клиентов используют услуги от 250 до 2500 дней. Подавляющее большинство клиентов пользуются услугами более 250 дней. \n",
    "    * Прирост клиентов с даты начала существования компания составил около 550 клиентов. После второй половины 2014 года наблюдается спад по количеству заключенных контрактов клиентами, однако вплоть до 2019 года показатели находятся на одном уровне - количество клиентов со второй половины 2014 года по 2019 год составляет от 120 до 300 клиентов. После второй половины 2019 года наблюдаеся резкий скачок клиентов, данный показатель больше показателя 2014 года, количество новых клиентов составило примерно 710 человек.\n",
    "    * С начала существования компании и до 2015 года ушло менее 10 клиентов, однако после 2015 года отток клиентов начал возрастать. В периоды с 2017 года по вторую половину 2019 года количество ушедших клиентов варьировалось примерно от 40 до 80 человек. Наибольший отток клиентов пришелся на конец 2019 года - начало 2020, количество ушедших клиентов составило более 100 человек.\n",
    "    * Большинство клиентов выбирают ежемесячный тип оплаты.\n",
    "    * Большинство клиентов (59%) используют безналичный расчет \n",
    "    * Как мы можем наблюдать, у чуть больше половины (52%) клиентов нет супруга(и)\n",
    "    * У 16% всех клиентов имеется пенсионный статус по возрасту\n",
    "    * Наличие иждевенцев выявлено у 30% клиентов\n",
    "7. Проанализировали ушедщих и действующих клиентов:       \n",
    "    * Спустя полтора года пользования услугами связи, количество действующих клиентов начинает сокращаться. Пик ухода наблюдается, когда количество дней достигает 900 (два с половиной года), после преодоления этой отметки, количество уходов начинает сокращаться и стримится к минимуму, а действующие клиенты заметно увеличиваются\n",
    "    * Большинство ушедших клиентов пользовались дорогими тарифами. Большинство действующих клиентов, наоборот, пользуются самым дешевым тарифом\n",
    "    * Клиенты, которые ушли и имеют пенсионный статус - составляют меньше половины ушедших. Большинство действующих клиентов - не имеют пенсионный статус\n",
    "    * У большинства ушедших клиентов имеется супруг(а), однако у большинства действующих клиентов нет супруга(и)\n",
    "    * У большинства ушедших и действующих клиентов нет иждивенцев    \n",
    "    \n",
    "8. Провели анализ на корреляцию числовых признаков: \n",
    "    * Тесную связь между двумя признаками: TotalCharges – всего потрачено денег на услуги и TotalDate – количество дней использования услуг - корреляция равняется 0.82, что вполне логично, так как количество потраченных денег на услуги напрямую зависит от количества дней пользованиями услугами. Так же прослеживается умеренная связь между признаком TotalCharges – всего потрачено денег на услуги и признаком MonthlyCharges – ежемесячные траты на услуги. Практически никакой связи нет уу признака MonthlyCharges – ежемесячные траты на услуги и признака TotalDate – количество дней использования услуг.\n",
    "    \n",
    "9. Мы произвели подготовку данных:\n",
    "    * Выполнили деление данных на выборки\n",
    "    * Выполнили кодировку данных, где это необходимо  \n",
    "10. Мы обучили различные модели машинного обучения:\\\n",
    "11. Провели настройки моделей, учитывая дисбаланс классов:\n",
    "    * Лучшее значение AUC-ROC на тренировочной выборке модели случайного леса составляет 0.80 \n",
    "    * Значение AUC-ROC на тренировочной выборке модели градиентного бустинга CatBoost составляет 0.90 \n",
    "    * Значение AUC-ROC на тренировочной выборке модели градиентного бустинга LightGBM составляет 0.88\n",
    "12. Выбрали наилучшую модель:\n",
    "    * Наилучшей моделью оказалась модель градиентного бустинга: CatBoost с показателем 0.90 метрики AUC-ROC     \n",
    "13. Мы провели тестирование наилучшей моедли - модели градиентного бустинга CatBoost:\n",
    "     * Наилучшая модель градиентного бустинга CatBoost показала значение метрики AUC-ROC на тестовой выборке 0.89\n",
    "     * Мы добились, чтобы качество финальной модели превышало значение основной метрики: AUC-ROC >= 0.85\n",
    "     \n",
    "     \n",
    "Рекомендации:  \n",
    "Мы построили отличную модель для прогнозирования оттока клиентов. С нашей моделью оператор связи «Ниединогоразрыва.ком» не только будет предсказывать, но и предотвращать уход клиента. Теперь компания может своевременно предлагать таким клиентам специальные предложения и условия, тем самым сохраняя клиентсткую базу и приобретая больше лояльных клиентов. С таким внимательным подходом к клиентам, компания расширит клиентскую базу и приумножит свои доходы."
   ]
  },
  {
   "cell_type": "markdown",
   "id": "3adc0637-cc1b-4684-add9-f4ead98a60cf",
   "metadata": {},
   "source": [
    "## 8. Отчет о проделанной работе"
   ]
  },
  {
   "cell_type": "markdown",
   "id": "759a36d2-c6b7-40bf-99e9-224ef712edc7",
   "metadata": {},
   "source": [
    "- В данном проекте мы придерживались основного плана, однако в исследовательском анализе данных не было выполнено выдвижение гипотез, а в разделе \"подготовка данных\" не были масштабированны данные, так как это нам не потребовалось, все остальные шаги плана были выполнены. \n",
    "- Трудности в работе не возникли. Под ключевыми этапами можно выделить все этапы в проекте, так как все этапы важны, начиная от плана работы и заканчивая ее отчетом.\n",
    "- Предобработка данных происходила в несколько этапов: \n",
    "    * Объединение данных  в одну таблицу\n",
    "    * Выявление пропусков в стобцах InternetServiceб, OnlineSecurity, OnlineBackup, DeviceProtection, TechSupport, StreamingTV, StreamingMovies, MultipleLines и их устранение\n",
    "    * Проверка данных на дубликаты\n",
    "    * Привели столбцы BeginDate, EndDate и TotalCharges к корректному типу данных\n",
    "    * Выделение целевой переменной - столбец Target\n",
    "    * Генерация нового признака: какое количество времени клиенты пользовались услугами - столбец TotalDate\n",
    "    * Проверка столбцов MonthlyCharges и TotalCharges на аномалии\n",
    "- a) Признаки, которые использовались при обучении модели: \n",
    "    * Type - тип оплаты: ежемесячный, годовой и тд\n",
    "    * PaperlessBilling - безналичный расчет\t\n",
    "    * PaymentMethod - способ оплаты\t\n",
    "    * MonthlyCharges - ежемесячные траты на услуги\n",
    "    * TotalCharges - всего потрачено денег на услуги\t\n",
    "    * gender - пол клиента\n",
    "    * SeniorCitizen - наличие пенсионного статуса по возрасту\n",
    "    * Partner - наличие супруга(и)\t\n",
    "    * Dependents - наличие иждивенцев\t\n",
    "    * InternetService\t- Интернет. Подключение может быть двух типов: через телефонную линию (DSL) или оптоволоконный кабель (Fiber optic)\n",
    "    * OnlineSecurity - интернет-безопасность: блокировка небезопасных сайтов \n",
    "    * OnlineBackup - облачное хранилище файлов для резервного копирования данных\t\n",
    "    * DeviceProtection - интернет-безопасность: антивирус \t\n",
    "    * TechSupport - выделенная линия технической поддержки \t\n",
    "    * StreamingTV - стриминговое телевидение\t\n",
    "    * StreamingMovies\t- каталог фильмов\n",
    "    * MultipleLines - наличие возможности ведения параллельных линий во время звонка\n",
    "- b) Признаки, которые были сгенерированы и были использованы при обучении:\n",
    "    * Target - целевая переменная (ушел/не ушел клиент)\n",
    "    * TotalDate - какое количество времени клиенты пользовались услугами\n",
    "- c) Неинформативные признаки, которые были удалены до обучения модели:\n",
    "    * BeginDate - дата начала пользования услугами\n",
    "    * EndDate - дата окончания пользования услугами\n",
    "    * customerID - уникальный ID клиента\n",
    "\n",
    "- Размер тестовой выборки у нас составил: test_size = 0.25, параметр RANDOM_STATE = 250923.\n",
    "\n",
    "- Наилучшей моделью оказалась модель градиентного спуска, разработка Яндекса -  **CatBoost** при параметрах:\n",
    "    * **random_state(генератор псевдослучайных чисел)=250923**, \n",
    "    * **verbose(подробный вывод)=0**, \n",
    "    * **learning_rate(скорость обучения)=0.3**, \n",
    "    * **iterations(количесиво итераций)=200**, \n",
    "    * **auto_class_weights(балансировка классов внутри модели)='Balanced'**\n",
    "    * **Значение метрики AUC-ROC на тестовой выборке составило  0.89**\n",
    "\n",
    "- Я уверена, что высокое значение метрики ROC-AUC помогли достичь несколько аспектов:\n",
    "    * Правильная и хорошая предобработка данных\n",
    "    * Пыявление нужных признаков и устранение неинформативных признаков для обучения модели\n",
    "    * Так же, что в самой модели CatBoost производилась кодировка данных\n",
    "    * Кроме того, на отличный результат модели повлияли подобранные гиперпараметры\n"
   ]
  }
 ],
 "metadata": {
  "ExecuteTimeLog": [
   {
    "duration": 5256,
    "start_time": "2023-10-02T14:36:18.206Z"
   },
   {
    "duration": 3,
    "start_time": "2023-10-02T14:36:23.464Z"
   },
   {
    "duration": 18724,
    "start_time": "2023-10-02T14:36:23.469Z"
   },
   {
    "duration": 167,
    "start_time": "2023-10-02T14:38:37.674Z"
   },
   {
    "duration": 275,
    "start_time": "2023-10-02T14:38:38.812Z"
   },
   {
    "duration": 108,
    "start_time": "2023-10-02T14:38:39.139Z"
   },
   {
    "duration": 106,
    "start_time": "2023-10-02T14:38:39.466Z"
   },
   {
    "duration": 17,
    "start_time": "2023-10-02T14:38:39.781Z"
   },
   {
    "duration": 19,
    "start_time": "2023-10-02T14:38:40.394Z"
   },
   {
    "duration": 14,
    "start_time": "2023-10-02T14:38:40.539Z"
   },
   {
    "duration": 9,
    "start_time": "2023-10-02T14:38:40.850Z"
   },
   {
    "duration": 12,
    "start_time": "2023-10-02T14:38:41.010Z"
   },
   {
    "duration": 11,
    "start_time": "2023-10-02T14:38:41.172Z"
   },
   {
    "duration": 11,
    "start_time": "2023-10-02T14:38:41.498Z"
   },
   {
    "duration": 14,
    "start_time": "2023-10-02T14:38:41.666Z"
   },
   {
    "duration": 30,
    "start_time": "2023-10-02T14:38:41.821Z"
   },
   {
    "duration": 7,
    "start_time": "2023-10-02T14:38:42.138Z"
   },
   {
    "duration": 11,
    "start_time": "2023-10-02T14:38:42.282Z"
   },
   {
    "duration": 17,
    "start_time": "2023-10-02T14:38:42.444Z"
   },
   {
    "duration": 37,
    "start_time": "2023-10-02T14:38:44.091Z"
   },
   {
    "duration": 16,
    "start_time": "2023-10-02T14:38:44.411Z"
   },
   {
    "duration": 61,
    "start_time": "2023-10-02T14:38:44.906Z"
   },
   {
    "duration": 16,
    "start_time": "2023-10-02T14:38:45.410Z"
   },
   {
    "duration": 29,
    "start_time": "2023-10-02T14:38:45.914Z"
   },
   {
    "duration": 27,
    "start_time": "2023-10-02T14:38:46.579Z"
   },
   {
    "duration": 48,
    "start_time": "2023-10-02T14:38:47.298Z"
   },
   {
    "duration": 24,
    "start_time": "2023-10-02T14:38:47.452Z"
   },
   {
    "duration": 5,
    "start_time": "2023-10-02T14:38:47.794Z"
   },
   {
    "duration": 23,
    "start_time": "2023-10-02T14:38:47.972Z"
   },
   {
    "duration": 19,
    "start_time": "2023-10-02T14:38:48.338Z"
   },
   {
    "duration": 17,
    "start_time": "2023-10-02T14:38:48.514Z"
   },
   {
    "duration": 5,
    "start_time": "2023-10-02T14:38:49.410Z"
   },
   {
    "duration": 129,
    "start_time": "2023-10-02T14:38:49.771Z"
   },
   {
    "duration": 9,
    "start_time": "2023-10-02T14:38:49.969Z"
   },
   {
    "duration": 132,
    "start_time": "2023-10-02T14:38:50.307Z"
   },
   {
    "duration": 10,
    "start_time": "2023-10-02T14:38:50.689Z"
   },
   {
    "duration": 188,
    "start_time": "2023-10-02T14:38:51.771Z"
   },
   {
    "duration": 346,
    "start_time": "2023-10-02T14:38:52.322Z"
   },
   {
    "duration": 197,
    "start_time": "2023-10-02T14:38:52.843Z"
   },
   {
    "duration": 171,
    "start_time": "2023-10-02T14:38:53.346Z"
   },
   {
    "duration": 89,
    "start_time": "2023-10-02T14:38:53.866Z"
   },
   {
    "duration": 77,
    "start_time": "2023-10-02T14:38:54.371Z"
   },
   {
    "duration": 83,
    "start_time": "2023-10-02T14:38:54.899Z"
   },
   {
    "duration": 82,
    "start_time": "2023-10-02T14:38:55.427Z"
   },
   {
    "duration": 356,
    "start_time": "2023-10-02T14:38:56.507Z"
   },
   {
    "duration": 5,
    "start_time": "2023-10-02T14:38:57.771Z"
   },
   {
    "duration": 17,
    "start_time": "2023-10-02T14:38:58.205Z"
   },
   {
    "duration": 3,
    "start_time": "2023-10-02T14:38:58.875Z"
   },
   {
    "duration": 4,
    "start_time": "2023-10-02T14:38:59.227Z"
   },
   {
    "duration": 9,
    "start_time": "2023-10-02T14:39:00.000Z"
   },
   {
    "duration": 12,
    "start_time": "2023-10-02T14:39:00.358Z"
   },
   {
    "duration": 6,
    "start_time": "2023-10-02T14:39:00.914Z"
   },
   {
    "duration": 5,
    "start_time": "2023-10-02T14:39:01.395Z"
   },
   {
    "duration": 16,
    "start_time": "2023-10-02T14:39:01.724Z"
   },
   {
    "duration": 3,
    "start_time": "2023-10-02T14:39:02.546Z"
   },
   {
    "duration": 6,
    "start_time": "2023-10-02T14:39:02.699Z"
   },
   {
    "duration": 6,
    "start_time": "2023-10-02T14:39:02.899Z"
   },
   {
    "duration": 6,
    "start_time": "2023-10-02T14:39:03.236Z"
   },
   {
    "duration": 16,
    "start_time": "2023-10-02T14:39:03.764Z"
   },
   {
    "duration": 4124,
    "start_time": "2023-10-02T14:39:04.664Z"
   },
   {
    "duration": 4,
    "start_time": "2023-10-02T14:39:08.790Z"
   },
   {
    "duration": 264,
    "start_time": "2023-10-02T15:00:02.082Z"
   },
   {
    "duration": 6,
    "start_time": "2023-10-02T15:00:11.251Z"
   },
   {
    "duration": 5,
    "start_time": "2023-10-02T15:00:40.812Z"
   },
   {
    "duration": 22,
    "start_time": "2023-10-02T15:00:49.548Z"
   },
   {
    "duration": 2784,
    "start_time": "2023-10-04T14:45:43.825Z"
   },
   {
    "duration": 3,
    "start_time": "2023-10-04T14:45:46.611Z"
   },
   {
    "duration": 22486,
    "start_time": "2023-10-04T14:45:46.616Z"
   },
   {
    "duration": 226,
    "start_time": "2023-10-04T14:47:31.791Z"
   },
   {
    "duration": 161,
    "start_time": "2023-10-04T14:47:33.000Z"
   },
   {
    "duration": 135,
    "start_time": "2023-10-04T14:47:33.329Z"
   },
   {
    "duration": 113,
    "start_time": "2023-10-04T14:47:33.975Z"
   },
   {
    "duration": 18,
    "start_time": "2023-10-04T14:47:34.261Z"
   },
   {
    "duration": 14,
    "start_time": "2023-10-04T14:47:35.336Z"
   },
   {
    "duration": 32,
    "start_time": "2023-10-04T14:47:35.488Z"
   },
   {
    "duration": 11,
    "start_time": "2023-10-04T14:47:35.855Z"
   },
   {
    "duration": 13,
    "start_time": "2023-10-04T14:47:36.000Z"
   },
   {
    "duration": 12,
    "start_time": "2023-10-04T14:47:36.169Z"
   },
   {
    "duration": 11,
    "start_time": "2023-10-04T14:47:36.523Z"
   },
   {
    "duration": 14,
    "start_time": "2023-10-04T14:47:36.696Z"
   },
   {
    "duration": 33,
    "start_time": "2023-10-04T14:47:37.424Z"
   },
   {
    "duration": 8,
    "start_time": "2023-10-04T14:47:37.458Z"
   },
   {
    "duration": 80,
    "start_time": "2023-10-04T14:47:37.468Z"
   },
   {
    "duration": 15,
    "start_time": "2023-10-04T14:47:38.250Z"
   },
   {
    "duration": 46,
    "start_time": "2023-10-04T14:47:40.312Z"
   },
   {
    "duration": 28,
    "start_time": "2023-10-04T14:47:40.671Z"
   },
   {
    "duration": 59,
    "start_time": "2023-10-04T14:47:41.160Z"
   },
   {
    "duration": 15,
    "start_time": "2023-10-04T14:47:41.744Z"
   },
   {
    "duration": 23,
    "start_time": "2023-10-04T14:47:42.241Z"
   },
   {
    "duration": 31,
    "start_time": "2023-10-04T14:47:43.031Z"
   },
   {
    "duration": 51,
    "start_time": "2023-10-04T14:47:43.735Z"
   },
   {
    "duration": 23,
    "start_time": "2023-10-04T14:47:43.898Z"
   },
   {
    "duration": 5,
    "start_time": "2023-10-04T14:47:44.270Z"
   },
   {
    "duration": 23,
    "start_time": "2023-10-04T14:47:44.400Z"
   },
   {
    "duration": 12,
    "start_time": "2023-10-04T14:47:44.775Z"
   },
   {
    "duration": 17,
    "start_time": "2023-10-04T14:47:44.968Z"
   },
   {
    "duration": 10,
    "start_time": "2023-10-04T14:47:45.097Z"
   },
   {
    "duration": 20,
    "start_time": "2023-10-04T14:47:45.481Z"
   },
   {
    "duration": 6,
    "start_time": "2023-10-04T14:47:46.888Z"
   },
   {
    "duration": 126,
    "start_time": "2023-10-04T14:47:47.248Z"
   },
   {
    "duration": 9,
    "start_time": "2023-10-04T14:47:47.487Z"
   },
   {
    "duration": 111,
    "start_time": "2023-10-04T14:47:47.895Z"
   },
   {
    "duration": 8,
    "start_time": "2023-10-04T14:47:48.097Z"
   },
   {
    "duration": 199,
    "start_time": "2023-10-04T14:47:49.983Z"
   },
   {
    "duration": 375,
    "start_time": "2023-10-04T14:47:50.536Z"
   },
   {
    "duration": 189,
    "start_time": "2023-10-04T14:47:51.072Z"
   },
   {
    "duration": 167,
    "start_time": "2023-10-04T14:47:51.802Z"
   },
   {
    "duration": 86,
    "start_time": "2023-10-04T14:47:52.272Z"
   },
   {
    "duration": 74,
    "start_time": "2023-10-04T14:47:53.047Z"
   },
   {
    "duration": 82,
    "start_time": "2023-10-04T14:47:53.607Z"
   },
   {
    "duration": 77,
    "start_time": "2023-10-04T14:47:54.144Z"
   },
   {
    "duration": 211,
    "start_time": "2023-10-04T14:47:54.927Z"
   },
   {
    "duration": 232,
    "start_time": "2023-10-04T14:47:55.519Z"
   },
   {
    "duration": 226,
    "start_time": "2023-10-04T14:47:56.264Z"
   },
   {
    "duration": 268,
    "start_time": "2023-10-04T14:47:56.968Z"
   },
   {
    "duration": 173,
    "start_time": "2023-10-04T14:47:57.943Z"
   },
   {
    "duration": 360,
    "start_time": "2023-10-04T14:48:00.799Z"
   },
   {
    "duration": 4,
    "start_time": "2023-10-04T14:48:04.839Z"
   },
   {
    "duration": 17,
    "start_time": "2023-10-04T14:48:05.183Z"
   },
   {
    "duration": 2,
    "start_time": "2023-10-04T14:48:07.079Z"
   },
   {
    "duration": 5,
    "start_time": "2023-10-04T14:48:07.894Z"
   },
   {
    "duration": 9,
    "start_time": "2023-10-04T14:48:08.430Z"
   },
   {
    "duration": 9,
    "start_time": "2023-10-04T14:48:09.150Z"
   },
   {
    "duration": 5,
    "start_time": "2023-10-04T14:48:10.384Z"
   },
   {
    "duration": 5,
    "start_time": "2023-10-04T14:48:10.928Z"
   },
   {
    "duration": 17,
    "start_time": "2023-10-04T14:48:11.559Z"
   },
   {
    "duration": 24,
    "start_time": "2023-10-04T14:48:12.136Z"
   },
   {
    "duration": 3,
    "start_time": "2023-10-04T14:48:12.631Z"
   },
   {
    "duration": 3,
    "start_time": "2023-10-04T14:48:22.784Z"
   },
   {
    "duration": 3,
    "start_time": "2023-10-04T14:48:23.319Z"
   },
   {
    "duration": 111,
    "start_time": "2023-10-04T14:48:30.983Z"
   },
   {
    "duration": 29,
    "start_time": "2023-10-04T14:49:17.720Z"
   },
   {
    "duration": 25,
    "start_time": "2023-10-04T14:49:33.560Z"
   },
   {
    "duration": 24,
    "start_time": "2023-10-04T14:49:40.703Z"
   },
   {
    "duration": 18,
    "start_time": "2023-10-04T14:49:48.192Z"
   },
   {
    "duration": 17,
    "start_time": "2023-10-04T14:52:33.320Z"
   },
   {
    "duration": 14,
    "start_time": "2023-10-04T14:52:40.409Z"
   },
   {
    "duration": 9,
    "start_time": "2023-10-04T14:52:46.080Z"
   },
   {
    "duration": 47,
    "start_time": "2023-10-04T14:53:16.181Z"
   },
   {
    "duration": 31,
    "start_time": "2023-10-04T14:54:09.712Z"
   },
   {
    "duration": 3,
    "start_time": "2023-10-04T14:54:25.200Z"
   },
   {
    "duration": 7,
    "start_time": "2023-10-04T14:54:25.591Z"
   },
   {
    "duration": 9,
    "start_time": "2023-10-04T14:54:25.999Z"
   },
   {
    "duration": 7,
    "start_time": "2023-10-04T14:54:26.311Z"
   },
   {
    "duration": 16,
    "start_time": "2023-10-04T14:54:27.120Z"
   },
   {
    "duration": 3943,
    "start_time": "2023-10-04T14:54:27.975Z"
   },
   {
    "duration": 6,
    "start_time": "2023-10-04T14:54:31.921Z"
   },
   {
    "duration": 7,
    "start_time": "2023-10-04T14:54:36.495Z"
   },
   {
    "duration": 25,
    "start_time": "2023-10-04T14:57:29.112Z"
   },
   {
    "duration": 26,
    "start_time": "2023-10-04T14:57:35.542Z"
   },
   {
    "duration": 25,
    "start_time": "2023-10-04T14:57:54.040Z"
   },
   {
    "duration": 5,
    "start_time": "2023-10-04T14:58:10.750Z"
   },
   {
    "duration": 9273,
    "start_time": "2023-10-04T14:59:47.254Z"
   },
   {
    "duration": 55780,
    "start_time": "2023-10-04T15:00:12.317Z"
   },
   {
    "duration": 2312,
    "start_time": "2023-10-04T15:01:49.365Z"
   },
   {
    "duration": 121,
    "start_time": "2023-10-04T15:01:54.180Z"
   },
   {
    "duration": 4093,
    "start_time": "2023-10-06T02:08:40.724Z"
   },
   {
    "duration": 11,
    "start_time": "2023-10-06T02:08:44.826Z"
   },
   {
    "duration": 30270,
    "start_time": "2023-10-06T02:08:44.851Z"
   },
   {
    "duration": 260,
    "start_time": "2023-10-06T02:09:15.133Z"
   },
   {
    "duration": 185,
    "start_time": "2023-10-06T02:09:15.395Z"
   },
   {
    "duration": 201,
    "start_time": "2023-10-06T02:09:15.582Z"
   },
   {
    "duration": 183,
    "start_time": "2023-10-06T02:09:15.785Z"
   },
   {
    "duration": 18,
    "start_time": "2023-10-06T02:09:15.970Z"
   },
   {
    "duration": 43,
    "start_time": "2023-10-06T02:09:44.515Z"
   },
   {
    "duration": 19,
    "start_time": "2023-10-06T02:09:45.471Z"
   },
   {
    "duration": 17,
    "start_time": "2023-10-06T02:09:45.824Z"
   },
   {
    "duration": 13,
    "start_time": "2023-10-06T02:09:45.951Z"
   },
   {
    "duration": 11,
    "start_time": "2023-10-06T02:09:46.085Z"
   },
   {
    "duration": 10,
    "start_time": "2023-10-06T02:09:46.362Z"
   },
   {
    "duration": 42,
    "start_time": "2023-10-06T02:09:46.521Z"
   },
   {
    "duration": 35,
    "start_time": "2023-10-06T02:09:46.653Z"
   },
   {
    "duration": 21,
    "start_time": "2023-10-06T02:09:46.945Z"
   },
   {
    "duration": 11,
    "start_time": "2023-10-06T02:09:47.083Z"
   },
   {
    "duration": 26,
    "start_time": "2023-10-06T02:09:47.241Z"
   },
   {
    "duration": 69,
    "start_time": "2023-10-06T02:09:49.098Z"
   },
   {
    "duration": 43,
    "start_time": "2023-10-06T02:09:49.422Z"
   },
   {
    "duration": 95,
    "start_time": "2023-10-06T02:09:49.897Z"
   },
   {
    "duration": 47,
    "start_time": "2023-10-06T02:09:50.393Z"
   },
   {
    "duration": 24,
    "start_time": "2023-10-06T02:09:50.868Z"
   },
   {
    "duration": 55,
    "start_time": "2023-10-06T02:09:51.531Z"
   },
   {
    "duration": 73,
    "start_time": "2023-10-06T02:09:52.170Z"
   },
   {
    "duration": 33,
    "start_time": "2023-10-06T02:09:52.352Z"
   },
   {
    "duration": 6,
    "start_time": "2023-10-06T02:09:52.658Z"
   },
   {
    "duration": 34,
    "start_time": "2023-10-06T02:09:52.840Z"
   },
   {
    "duration": 22,
    "start_time": "2023-10-06T02:09:53.133Z"
   },
   {
    "duration": 17,
    "start_time": "2023-10-06T02:09:53.282Z"
   },
   {
    "duration": 11,
    "start_time": "2023-10-06T02:09:53.455Z"
   },
   {
    "duration": 21,
    "start_time": "2023-10-06T02:09:53.777Z"
   },
   {
    "duration": 15,
    "start_time": "2023-10-06T02:09:54.922Z"
   },
   {
    "duration": 177,
    "start_time": "2023-10-06T02:09:55.250Z"
   },
   {
    "duration": 15,
    "start_time": "2023-10-06T02:09:55.429Z"
   },
   {
    "duration": 157,
    "start_time": "2023-10-06T02:09:55.733Z"
   },
   {
    "duration": 37,
    "start_time": "2023-10-06T02:09:55.897Z"
   },
   {
    "duration": 286,
    "start_time": "2023-10-06T02:09:57.251Z"
   },
   {
    "duration": 474,
    "start_time": "2023-10-06T02:09:57.771Z"
   },
   {
    "duration": 310,
    "start_time": "2023-10-06T02:09:58.530Z"
   },
   {
    "duration": 253,
    "start_time": "2023-10-06T02:09:59.029Z"
   },
   {
    "duration": 114,
    "start_time": "2023-10-06T02:09:59.555Z"
   },
   {
    "duration": 114,
    "start_time": "2023-10-06T02:10:00.059Z"
   },
   {
    "duration": 123,
    "start_time": "2023-10-06T02:10:00.563Z"
   },
   {
    "duration": 130,
    "start_time": "2023-10-06T02:10:01.082Z"
   },
   {
    "duration": 313,
    "start_time": "2023-10-06T02:10:01.602Z"
   },
   {
    "duration": 1724,
    "start_time": "2023-10-06T02:10:02.152Z"
   },
   {
    "duration": 718,
    "start_time": "2023-10-06T02:10:03.878Z"
   },
   {
    "duration": 434,
    "start_time": "2023-10-06T02:10:04.598Z"
   },
   {
    "duration": 278,
    "start_time": "2023-10-06T02:10:05.039Z"
   },
   {
    "duration": 454,
    "start_time": "2023-10-06T02:10:05.979Z"
   },
   {
    "duration": 13,
    "start_time": "2023-10-06T02:10:07.622Z"
   },
   {
    "duration": 22,
    "start_time": "2023-10-06T02:10:07.779Z"
   },
   {
    "duration": 5,
    "start_time": "2023-10-06T02:10:08.151Z"
   },
   {
    "duration": 13,
    "start_time": "2023-10-06T02:10:08.498Z"
   },
   {
    "duration": 8,
    "start_time": "2023-10-06T02:10:08.869Z"
   },
   {
    "duration": 8,
    "start_time": "2023-10-06T02:10:09.257Z"
   },
   {
    "duration": 10,
    "start_time": "2023-10-06T02:10:09.642Z"
   },
   {
    "duration": 12,
    "start_time": "2023-10-06T02:10:09.826Z"
   },
   {
    "duration": 36,
    "start_time": "2023-10-06T02:10:10.024Z"
   },
   {
    "duration": 16,
    "start_time": "2023-10-06T02:10:11.083Z"
   },
   {
    "duration": 13,
    "start_time": "2023-10-06T02:10:11.530Z"
   },
   {
    "duration": 3,
    "start_time": "2023-10-06T02:10:12.283Z"
   },
   {
    "duration": 3,
    "start_time": "2023-10-06T02:10:14.482Z"
   },
   {
    "duration": 5,
    "start_time": "2023-10-06T02:10:50.447Z"
   },
   {
    "duration": 36,
    "start_time": "2023-10-06T02:10:52.215Z"
   },
   {
    "duration": 28,
    "start_time": "2023-10-06T02:10:55.335Z"
   },
   {
    "duration": 210,
    "start_time": "2023-10-06T02:11:49.146Z"
   },
   {
    "duration": 1274,
    "start_time": "2023-10-06T02:11:53.488Z"
   },
   {
    "duration": 26,
    "start_time": "2023-10-06T02:12:05.742Z"
   },
   {
    "duration": 7,
    "start_time": "2023-10-06T02:12:45.174Z"
   },
   {
    "duration": 76,
    "start_time": "2023-10-06T02:17:29.262Z"
   },
   {
    "duration": 364,
    "start_time": "2023-10-06T02:17:45.268Z"
   },
   {
    "duration": 32,
    "start_time": "2023-10-06T02:18:02.249Z"
   },
   {
    "duration": 24,
    "start_time": "2023-10-06T02:19:13.141Z"
   },
   {
    "duration": 3,
    "start_time": "2023-10-06T02:19:18.164Z"
   },
   {
    "duration": 11,
    "start_time": "2023-10-06T02:19:21.699Z"
   },
   {
    "duration": 47,
    "start_time": "2023-10-06T02:19:32.933Z"
   },
   {
    "duration": 53,
    "start_time": "2023-10-06T02:19:41.819Z"
   },
   {
    "duration": 36,
    "start_time": "2023-10-06T02:19:46.857Z"
   },
   {
    "duration": 40,
    "start_time": "2023-10-06T02:19:50.477Z"
   },
   {
    "duration": 69,
    "start_time": "2023-10-06T02:19:59.789Z"
   },
   {
    "duration": 341,
    "start_time": "2023-10-06T02:20:20.478Z"
   },
   {
    "duration": 368,
    "start_time": "2023-10-06T02:20:28.368Z"
   },
   {
    "duration": 190,
    "start_time": "2023-10-06T02:21:44.353Z"
   },
   {
    "duration": 31,
    "start_time": "2023-10-06T02:21:49.368Z"
   },
   {
    "duration": 44,
    "start_time": "2023-10-06T02:21:56.829Z"
   },
   {
    "duration": 32,
    "start_time": "2023-10-06T02:22:07.948Z"
   },
   {
    "duration": 67,
    "start_time": "2023-10-06T02:22:10.689Z"
   },
   {
    "duration": 50,
    "start_time": "2023-10-06T02:22:35.153Z"
   }
  ],
  "kernelspec": {
   "display_name": "Python 3 (ipykernel)",
   "language": "python",
   "name": "python3"
  },
  "language_info": {
   "codemirror_mode": {
    "name": "ipython",
    "version": 3
   },
   "file_extension": ".py",
   "mimetype": "text/x-python",
   "name": "python",
   "nbconvert_exporter": "python",
   "pygments_lexer": "ipython3",
   "version": "3.9.5"
  },
  "toc": {
   "base_numbering": 1,
   "nav_menu": {},
   "number_sections": true,
   "sideBar": true,
   "skip_h1_title": true,
   "title_cell": "Table of Contents",
   "title_sidebar": "Contents",
   "toc_cell": false,
   "toc_position": {},
   "toc_section_display": true,
   "toc_window_display": false
  },
  "toc-autonumbering": false
 },
 "nbformat": 4,
 "nbformat_minor": 5
}
